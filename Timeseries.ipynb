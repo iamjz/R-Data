{
 "cells": [
  {
   "cell_type": "markdown",
   "metadata": {},
   "source": [
    "# Time Series"
   ]
  },
  {
   "cell_type": "code",
   "execution_count": 61,
   "metadata": {
    "collapsed": true
   },
   "outputs": [],
   "source": [
    "kings <- scan(\"http://robjhyndman.com/tsdldata/misc/kings.dat\",skip=3)"
   ]
  },
  {
   "cell_type": "code",
   "execution_count": 62,
   "metadata": {},
   "outputs": [
    {
     "data": {
      "text/html": [
       "<ol class=list-inline>\n",
       "\t<li>60</li>\n",
       "\t<li>43</li>\n",
       "\t<li>67</li>\n",
       "\t<li>50</li>\n",
       "\t<li>56</li>\n",
       "\t<li>42</li>\n",
       "\t<li>50</li>\n",
       "\t<li>65</li>\n",
       "\t<li>68</li>\n",
       "\t<li>43</li>\n",
       "\t<li>65</li>\n",
       "\t<li>34</li>\n",
       "\t<li>47</li>\n",
       "\t<li>34</li>\n",
       "\t<li>49</li>\n",
       "\t<li>41</li>\n",
       "\t<li>13</li>\n",
       "\t<li>35</li>\n",
       "\t<li>53</li>\n",
       "\t<li>56</li>\n",
       "\t<li>16</li>\n",
       "\t<li>43</li>\n",
       "\t<li>69</li>\n",
       "\t<li>59</li>\n",
       "\t<li>48</li>\n",
       "\t<li>59</li>\n",
       "\t<li>86</li>\n",
       "\t<li>55</li>\n",
       "\t<li>68</li>\n",
       "\t<li>51</li>\n",
       "\t<li>33</li>\n",
       "\t<li>49</li>\n",
       "\t<li>67</li>\n",
       "\t<li>77</li>\n",
       "\t<li>81</li>\n",
       "\t<li>67</li>\n",
       "\t<li>71</li>\n",
       "\t<li>81</li>\n",
       "\t<li>68</li>\n",
       "\t<li>70</li>\n",
       "\t<li>77</li>\n",
       "\t<li>56</li>\n",
       "</ol>\n"
      ],
      "text/latex": [
       "\\begin{enumerate*}\n",
       "\\item 60\n",
       "\\item 43\n",
       "\\item 67\n",
       "\\item 50\n",
       "\\item 56\n",
       "\\item 42\n",
       "\\item 50\n",
       "\\item 65\n",
       "\\item 68\n",
       "\\item 43\n",
       "\\item 65\n",
       "\\item 34\n",
       "\\item 47\n",
       "\\item 34\n",
       "\\item 49\n",
       "\\item 41\n",
       "\\item 13\n",
       "\\item 35\n",
       "\\item 53\n",
       "\\item 56\n",
       "\\item 16\n",
       "\\item 43\n",
       "\\item 69\n",
       "\\item 59\n",
       "\\item 48\n",
       "\\item 59\n",
       "\\item 86\n",
       "\\item 55\n",
       "\\item 68\n",
       "\\item 51\n",
       "\\item 33\n",
       "\\item 49\n",
       "\\item 67\n",
       "\\item 77\n",
       "\\item 81\n",
       "\\item 67\n",
       "\\item 71\n",
       "\\item 81\n",
       "\\item 68\n",
       "\\item 70\n",
       "\\item 77\n",
       "\\item 56\n",
       "\\end{enumerate*}\n"
      ],
      "text/markdown": [
       "1. 60\n",
       "2. 43\n",
       "3. 67\n",
       "4. 50\n",
       "5. 56\n",
       "6. 42\n",
       "7. 50\n",
       "8. 65\n",
       "9. 68\n",
       "10. 43\n",
       "11. 65\n",
       "12. 34\n",
       "13. 47\n",
       "14. 34\n",
       "15. 49\n",
       "16. 41\n",
       "17. 13\n",
       "18. 35\n",
       "19. 53\n",
       "20. 56\n",
       "21. 16\n",
       "22. 43\n",
       "23. 69\n",
       "24. 59\n",
       "25. 48\n",
       "26. 59\n",
       "27. 86\n",
       "28. 55\n",
       "29. 68\n",
       "30. 51\n",
       "31. 33\n",
       "32. 49\n",
       "33. 67\n",
       "34. 77\n",
       "35. 81\n",
       "36. 67\n",
       "37. 71\n",
       "38. 81\n",
       "39. 68\n",
       "40. 70\n",
       "41. 77\n",
       "42. 56\n",
       "\n",
       "\n"
      ],
      "text/plain": [
       " [1] 60 43 67 50 56 42 50 65 68 43 65 34 47 34 49 41 13 35 53 56 16 43 69 59 48\n",
       "[26] 59 86 55 68 51 33 49 67 77 81 67 71 81 68 70 77 56"
      ]
     },
     "metadata": {},
     "output_type": "display_data"
    }
   ],
   "source": [
    "kings"
   ]
  },
  {
   "cell_type": "code",
   "execution_count": 63,
   "metadata": {},
   "outputs": [
    {
     "data": {
      "text/plain": [
       "Time Series:\n",
       "Start = 1 \n",
       "End = 42 \n",
       "Frequency = 1 \n",
       " [1] 60 43 67 50 56 42 50 65 68 43 65 34 47 34 49 41 13 35 53 56 16 43 69 59 48\n",
       "[26] 59 86 55 68 51 33 49 67 77 81 67 71 81 68 70 77 56"
      ]
     },
     "metadata": {},
     "output_type": "display_data"
    }
   ],
   "source": [
    "kingstimeseries <- ts(kings)\n",
    "\n",
    "kingstimeseries"
   ]
  },
  {
   "cell_type": "code",
   "execution_count": 64,
   "metadata": {
    "collapsed": true
   },
   "outputs": [],
   "source": [
    "births <- scan(\"http://robjhyndman.com/tsdldata/data/nybirths.dat\")"
   ]
  },
  {
   "cell_type": "code",
   "execution_count": 65,
   "metadata": {},
   "outputs": [
    {
     "data": {
      "text/html": [
       "<ol class=list-inline>\n",
       "\t<li>26.663</li>\n",
       "\t<li>23.598</li>\n",
       "\t<li>26.931</li>\n",
       "\t<li>24.74</li>\n",
       "\t<li>25.806</li>\n",
       "\t<li>24.364</li>\n",
       "\t<li>24.477</li>\n",
       "\t<li>23.901</li>\n",
       "\t<li>23.175</li>\n",
       "\t<li>23.227</li>\n",
       "\t<li>21.672</li>\n",
       "\t<li>21.87</li>\n",
       "\t<li>21.439</li>\n",
       "\t<li>21.089</li>\n",
       "\t<li>23.709</li>\n",
       "\t<li>21.669</li>\n",
       "\t<li>21.752</li>\n",
       "\t<li>20.761</li>\n",
       "\t<li>23.479</li>\n",
       "\t<li>23.824</li>\n",
       "\t<li>23.105</li>\n",
       "\t<li>23.11</li>\n",
       "\t<li>21.759</li>\n",
       "\t<li>22.073</li>\n",
       "\t<li>21.937</li>\n",
       "\t<li>20.035</li>\n",
       "\t<li>23.59</li>\n",
       "\t<li>21.672</li>\n",
       "\t<li>22.222</li>\n",
       "\t<li>22.123</li>\n",
       "\t<li>23.95</li>\n",
       "\t<li>23.504</li>\n",
       "\t<li>22.238</li>\n",
       "\t<li>23.142</li>\n",
       "\t<li>21.059</li>\n",
       "\t<li>21.573</li>\n",
       "\t<li>21.548</li>\n",
       "\t<li>20</li>\n",
       "\t<li>22.424</li>\n",
       "\t<li>20.615</li>\n",
       "\t<li>21.761</li>\n",
       "\t<li>22.874</li>\n",
       "\t<li>24.104</li>\n",
       "\t<li>23.748</li>\n",
       "\t<li>23.262</li>\n",
       "\t<li>22.907</li>\n",
       "\t<li>21.519</li>\n",
       "\t<li>22.025</li>\n",
       "\t<li>22.604</li>\n",
       "\t<li>20.894</li>\n",
       "\t<li>24.677</li>\n",
       "\t<li>23.673</li>\n",
       "\t<li>25.32</li>\n",
       "\t<li>23.583</li>\n",
       "\t<li>24.671</li>\n",
       "\t<li>24.454</li>\n",
       "\t<li>24.122</li>\n",
       "\t<li>24.252</li>\n",
       "\t<li>22.084</li>\n",
       "\t<li>22.991</li>\n",
       "\t<li>23.287</li>\n",
       "\t<li>23.049</li>\n",
       "\t<li>25.076</li>\n",
       "\t<li>24.037</li>\n",
       "\t<li>24.43</li>\n",
       "\t<li>24.667</li>\n",
       "\t<li>26.451</li>\n",
       "\t<li>25.618</li>\n",
       "\t<li>25.014</li>\n",
       "\t<li>25.11</li>\n",
       "\t<li>22.964</li>\n",
       "\t<li>23.981</li>\n",
       "\t<li>23.798</li>\n",
       "\t<li>22.27</li>\n",
       "\t<li>24.775</li>\n",
       "\t<li>22.646</li>\n",
       "\t<li>23.988</li>\n",
       "\t<li>24.737</li>\n",
       "\t<li>26.276</li>\n",
       "\t<li>25.816</li>\n",
       "\t<li>25.21</li>\n",
       "\t<li>25.199</li>\n",
       "\t<li>23.162</li>\n",
       "\t<li>24.707</li>\n",
       "\t<li>24.364</li>\n",
       "\t<li>22.644</li>\n",
       "\t<li>25.565</li>\n",
       "\t<li>24.062</li>\n",
       "\t<li>25.431</li>\n",
       "\t<li>24.635</li>\n",
       "\t<li>27.009</li>\n",
       "\t<li>26.606</li>\n",
       "\t<li>26.268</li>\n",
       "\t<li>26.462</li>\n",
       "\t<li>25.246</li>\n",
       "\t<li>25.18</li>\n",
       "\t<li>24.657</li>\n",
       "\t<li>23.304</li>\n",
       "\t<li>26.982</li>\n",
       "\t<li>26.199</li>\n",
       "\t<li>27.21</li>\n",
       "\t<li>26.122</li>\n",
       "\t<li>26.706</li>\n",
       "\t<li>26.878</li>\n",
       "\t<li>26.152</li>\n",
       "\t<li>26.379</li>\n",
       "\t<li>24.712</li>\n",
       "\t<li>25.688</li>\n",
       "\t<li>24.99</li>\n",
       "\t<li>24.239</li>\n",
       "\t<li>26.721</li>\n",
       "\t<li>23.475</li>\n",
       "\t<li>24.767</li>\n",
       "\t<li>26.219</li>\n",
       "\t<li>28.361</li>\n",
       "\t<li>28.599</li>\n",
       "\t<li>27.914</li>\n",
       "\t<li>27.784</li>\n",
       "\t<li>25.693</li>\n",
       "\t<li>26.881</li>\n",
       "\t<li>26.217</li>\n",
       "\t<li>24.218</li>\n",
       "\t<li>27.914</li>\n",
       "\t<li>26.975</li>\n",
       "\t<li>28.527</li>\n",
       "\t<li>27.139</li>\n",
       "\t<li>28.982</li>\n",
       "\t<li>28.169</li>\n",
       "\t<li>28.056</li>\n",
       "\t<li>29.136</li>\n",
       "\t<li>26.291</li>\n",
       "\t<li>26.987</li>\n",
       "\t<li>26.589</li>\n",
       "\t<li>24.848</li>\n",
       "\t<li>27.543</li>\n",
       "\t<li>26.896</li>\n",
       "\t<li>28.878</li>\n",
       "\t<li>27.39</li>\n",
       "\t<li>28.065</li>\n",
       "\t<li>28.141</li>\n",
       "\t<li>29.048</li>\n",
       "\t<li>28.484</li>\n",
       "\t<li>26.634</li>\n",
       "\t<li>27.735</li>\n",
       "\t<li>27.132</li>\n",
       "\t<li>24.924</li>\n",
       "\t<li>28.963</li>\n",
       "\t<li>26.589</li>\n",
       "\t<li>27.931</li>\n",
       "\t<li>28.009</li>\n",
       "\t<li>29.229</li>\n",
       "\t<li>28.759</li>\n",
       "\t<li>28.405</li>\n",
       "\t<li>27.945</li>\n",
       "\t<li>25.912</li>\n",
       "\t<li>26.619</li>\n",
       "\t<li>26.076</li>\n",
       "\t<li>25.286</li>\n",
       "\t<li>27.66</li>\n",
       "\t<li>25.951</li>\n",
       "\t<li>26.398</li>\n",
       "\t<li>25.565</li>\n",
       "\t<li>28.865</li>\n",
       "\t<li>30</li>\n",
       "\t<li>29.261</li>\n",
       "\t<li>29.012</li>\n",
       "\t<li>26.992</li>\n",
       "\t<li>27.897</li>\n",
       "</ol>\n"
      ],
      "text/latex": [
       "\\begin{enumerate*}\n",
       "\\item 26.663\n",
       "\\item 23.598\n",
       "\\item 26.931\n",
       "\\item 24.74\n",
       "\\item 25.806\n",
       "\\item 24.364\n",
       "\\item 24.477\n",
       "\\item 23.901\n",
       "\\item 23.175\n",
       "\\item 23.227\n",
       "\\item 21.672\n",
       "\\item 21.87\n",
       "\\item 21.439\n",
       "\\item 21.089\n",
       "\\item 23.709\n",
       "\\item 21.669\n",
       "\\item 21.752\n",
       "\\item 20.761\n",
       "\\item 23.479\n",
       "\\item 23.824\n",
       "\\item 23.105\n",
       "\\item 23.11\n",
       "\\item 21.759\n",
       "\\item 22.073\n",
       "\\item 21.937\n",
       "\\item 20.035\n",
       "\\item 23.59\n",
       "\\item 21.672\n",
       "\\item 22.222\n",
       "\\item 22.123\n",
       "\\item 23.95\n",
       "\\item 23.504\n",
       "\\item 22.238\n",
       "\\item 23.142\n",
       "\\item 21.059\n",
       "\\item 21.573\n",
       "\\item 21.548\n",
       "\\item 20\n",
       "\\item 22.424\n",
       "\\item 20.615\n",
       "\\item 21.761\n",
       "\\item 22.874\n",
       "\\item 24.104\n",
       "\\item 23.748\n",
       "\\item 23.262\n",
       "\\item 22.907\n",
       "\\item 21.519\n",
       "\\item 22.025\n",
       "\\item 22.604\n",
       "\\item 20.894\n",
       "\\item 24.677\n",
       "\\item 23.673\n",
       "\\item 25.32\n",
       "\\item 23.583\n",
       "\\item 24.671\n",
       "\\item 24.454\n",
       "\\item 24.122\n",
       "\\item 24.252\n",
       "\\item 22.084\n",
       "\\item 22.991\n",
       "\\item 23.287\n",
       "\\item 23.049\n",
       "\\item 25.076\n",
       "\\item 24.037\n",
       "\\item 24.43\n",
       "\\item 24.667\n",
       "\\item 26.451\n",
       "\\item 25.618\n",
       "\\item 25.014\n",
       "\\item 25.11\n",
       "\\item 22.964\n",
       "\\item 23.981\n",
       "\\item 23.798\n",
       "\\item 22.27\n",
       "\\item 24.775\n",
       "\\item 22.646\n",
       "\\item 23.988\n",
       "\\item 24.737\n",
       "\\item 26.276\n",
       "\\item 25.816\n",
       "\\item 25.21\n",
       "\\item 25.199\n",
       "\\item 23.162\n",
       "\\item 24.707\n",
       "\\item 24.364\n",
       "\\item 22.644\n",
       "\\item 25.565\n",
       "\\item 24.062\n",
       "\\item 25.431\n",
       "\\item 24.635\n",
       "\\item 27.009\n",
       "\\item 26.606\n",
       "\\item 26.268\n",
       "\\item 26.462\n",
       "\\item 25.246\n",
       "\\item 25.18\n",
       "\\item 24.657\n",
       "\\item 23.304\n",
       "\\item 26.982\n",
       "\\item 26.199\n",
       "\\item 27.21\n",
       "\\item 26.122\n",
       "\\item 26.706\n",
       "\\item 26.878\n",
       "\\item 26.152\n",
       "\\item 26.379\n",
       "\\item 24.712\n",
       "\\item 25.688\n",
       "\\item 24.99\n",
       "\\item 24.239\n",
       "\\item 26.721\n",
       "\\item 23.475\n",
       "\\item 24.767\n",
       "\\item 26.219\n",
       "\\item 28.361\n",
       "\\item 28.599\n",
       "\\item 27.914\n",
       "\\item 27.784\n",
       "\\item 25.693\n",
       "\\item 26.881\n",
       "\\item 26.217\n",
       "\\item 24.218\n",
       "\\item 27.914\n",
       "\\item 26.975\n",
       "\\item 28.527\n",
       "\\item 27.139\n",
       "\\item 28.982\n",
       "\\item 28.169\n",
       "\\item 28.056\n",
       "\\item 29.136\n",
       "\\item 26.291\n",
       "\\item 26.987\n",
       "\\item 26.589\n",
       "\\item 24.848\n",
       "\\item 27.543\n",
       "\\item 26.896\n",
       "\\item 28.878\n",
       "\\item 27.39\n",
       "\\item 28.065\n",
       "\\item 28.141\n",
       "\\item 29.048\n",
       "\\item 28.484\n",
       "\\item 26.634\n",
       "\\item 27.735\n",
       "\\item 27.132\n",
       "\\item 24.924\n",
       "\\item 28.963\n",
       "\\item 26.589\n",
       "\\item 27.931\n",
       "\\item 28.009\n",
       "\\item 29.229\n",
       "\\item 28.759\n",
       "\\item 28.405\n",
       "\\item 27.945\n",
       "\\item 25.912\n",
       "\\item 26.619\n",
       "\\item 26.076\n",
       "\\item 25.286\n",
       "\\item 27.66\n",
       "\\item 25.951\n",
       "\\item 26.398\n",
       "\\item 25.565\n",
       "\\item 28.865\n",
       "\\item 30\n",
       "\\item 29.261\n",
       "\\item 29.012\n",
       "\\item 26.992\n",
       "\\item 27.897\n",
       "\\end{enumerate*}\n"
      ],
      "text/markdown": [
       "1. 26.663\n",
       "2. 23.598\n",
       "3. 26.931\n",
       "4. 24.74\n",
       "5. 25.806\n",
       "6. 24.364\n",
       "7. 24.477\n",
       "8. 23.901\n",
       "9. 23.175\n",
       "10. 23.227\n",
       "11. 21.672\n",
       "12. 21.87\n",
       "13. 21.439\n",
       "14. 21.089\n",
       "15. 23.709\n",
       "16. 21.669\n",
       "17. 21.752\n",
       "18. 20.761\n",
       "19. 23.479\n",
       "20. 23.824\n",
       "21. 23.105\n",
       "22. 23.11\n",
       "23. 21.759\n",
       "24. 22.073\n",
       "25. 21.937\n",
       "26. 20.035\n",
       "27. 23.59\n",
       "28. 21.672\n",
       "29. 22.222\n",
       "30. 22.123\n",
       "31. 23.95\n",
       "32. 23.504\n",
       "33. 22.238\n",
       "34. 23.142\n",
       "35. 21.059\n",
       "36. 21.573\n",
       "37. 21.548\n",
       "38. 20\n",
       "39. 22.424\n",
       "40. 20.615\n",
       "41. 21.761\n",
       "42. 22.874\n",
       "43. 24.104\n",
       "44. 23.748\n",
       "45. 23.262\n",
       "46. 22.907\n",
       "47. 21.519\n",
       "48. 22.025\n",
       "49. 22.604\n",
       "50. 20.894\n",
       "51. 24.677\n",
       "52. 23.673\n",
       "53. 25.32\n",
       "54. 23.583\n",
       "55. 24.671\n",
       "56. 24.454\n",
       "57. 24.122\n",
       "58. 24.252\n",
       "59. 22.084\n",
       "60. 22.991\n",
       "61. 23.287\n",
       "62. 23.049\n",
       "63. 25.076\n",
       "64. 24.037\n",
       "65. 24.43\n",
       "66. 24.667\n",
       "67. 26.451\n",
       "68. 25.618\n",
       "69. 25.014\n",
       "70. 25.11\n",
       "71. 22.964\n",
       "72. 23.981\n",
       "73. 23.798\n",
       "74. 22.27\n",
       "75. 24.775\n",
       "76. 22.646\n",
       "77. 23.988\n",
       "78. 24.737\n",
       "79. 26.276\n",
       "80. 25.816\n",
       "81. 25.21\n",
       "82. 25.199\n",
       "83. 23.162\n",
       "84. 24.707\n",
       "85. 24.364\n",
       "86. 22.644\n",
       "87. 25.565\n",
       "88. 24.062\n",
       "89. 25.431\n",
       "90. 24.635\n",
       "91. 27.009\n",
       "92. 26.606\n",
       "93. 26.268\n",
       "94. 26.462\n",
       "95. 25.246\n",
       "96. 25.18\n",
       "97. 24.657\n",
       "98. 23.304\n",
       "99. 26.982\n",
       "100. 26.199\n",
       "101. 27.21\n",
       "102. 26.122\n",
       "103. 26.706\n",
       "104. 26.878\n",
       "105. 26.152\n",
       "106. 26.379\n",
       "107. 24.712\n",
       "108. 25.688\n",
       "109. 24.99\n",
       "110. 24.239\n",
       "111. 26.721\n",
       "112. 23.475\n",
       "113. 24.767\n",
       "114. 26.219\n",
       "115. 28.361\n",
       "116. 28.599\n",
       "117. 27.914\n",
       "118. 27.784\n",
       "119. 25.693\n",
       "120. 26.881\n",
       "121. 26.217\n",
       "122. 24.218\n",
       "123. 27.914\n",
       "124. 26.975\n",
       "125. 28.527\n",
       "126. 27.139\n",
       "127. 28.982\n",
       "128. 28.169\n",
       "129. 28.056\n",
       "130. 29.136\n",
       "131. 26.291\n",
       "132. 26.987\n",
       "133. 26.589\n",
       "134. 24.848\n",
       "135. 27.543\n",
       "136. 26.896\n",
       "137. 28.878\n",
       "138. 27.39\n",
       "139. 28.065\n",
       "140. 28.141\n",
       "141. 29.048\n",
       "142. 28.484\n",
       "143. 26.634\n",
       "144. 27.735\n",
       "145. 27.132\n",
       "146. 24.924\n",
       "147. 28.963\n",
       "148. 26.589\n",
       "149. 27.931\n",
       "150. 28.009\n",
       "151. 29.229\n",
       "152. 28.759\n",
       "153. 28.405\n",
       "154. 27.945\n",
       "155. 25.912\n",
       "156. 26.619\n",
       "157. 26.076\n",
       "158. 25.286\n",
       "159. 27.66\n",
       "160. 25.951\n",
       "161. 26.398\n",
       "162. 25.565\n",
       "163. 28.865\n",
       "164. 30\n",
       "165. 29.261\n",
       "166. 29.012\n",
       "167. 26.992\n",
       "168. 27.897\n",
       "\n",
       "\n"
      ],
      "text/plain": [
       "  [1] 26.663 23.598 26.931 24.740 25.806 24.364 24.477 23.901 23.175 23.227\n",
       " [11] 21.672 21.870 21.439 21.089 23.709 21.669 21.752 20.761 23.479 23.824\n",
       " [21] 23.105 23.110 21.759 22.073 21.937 20.035 23.590 21.672 22.222 22.123\n",
       " [31] 23.950 23.504 22.238 23.142 21.059 21.573 21.548 20.000 22.424 20.615\n",
       " [41] 21.761 22.874 24.104 23.748 23.262 22.907 21.519 22.025 22.604 20.894\n",
       " [51] 24.677 23.673 25.320 23.583 24.671 24.454 24.122 24.252 22.084 22.991\n",
       " [61] 23.287 23.049 25.076 24.037 24.430 24.667 26.451 25.618 25.014 25.110\n",
       " [71] 22.964 23.981 23.798 22.270 24.775 22.646 23.988 24.737 26.276 25.816\n",
       " [81] 25.210 25.199 23.162 24.707 24.364 22.644 25.565 24.062 25.431 24.635\n",
       " [91] 27.009 26.606 26.268 26.462 25.246 25.180 24.657 23.304 26.982 26.199\n",
       "[101] 27.210 26.122 26.706 26.878 26.152 26.379 24.712 25.688 24.990 24.239\n",
       "[111] 26.721 23.475 24.767 26.219 28.361 28.599 27.914 27.784 25.693 26.881\n",
       "[121] 26.217 24.218 27.914 26.975 28.527 27.139 28.982 28.169 28.056 29.136\n",
       "[131] 26.291 26.987 26.589 24.848 27.543 26.896 28.878 27.390 28.065 28.141\n",
       "[141] 29.048 28.484 26.634 27.735 27.132 24.924 28.963 26.589 27.931 28.009\n",
       "[151] 29.229 28.759 28.405 27.945 25.912 26.619 26.076 25.286 27.660 25.951\n",
       "[161] 26.398 25.565 28.865 30.000 29.261 29.012 26.992 27.897"
      ]
     },
     "metadata": {},
     "output_type": "display_data"
    }
   ],
   "source": [
    "births"
   ]
  },
  {
   "cell_type": "code",
   "execution_count": 66,
   "metadata": {},
   "outputs": [
    {
     "data": {
      "text/html": [
       "168"
      ],
      "text/latex": [
       "168"
      ],
      "text/markdown": [
       "168"
      ],
      "text/plain": [
       "[1] 168"
      ]
     },
     "metadata": {},
     "output_type": "display_data"
    }
   ],
   "source": [
    "length(births)"
   ]
  },
  {
   "cell_type": "code",
   "execution_count": 67,
   "metadata": {},
   "outputs": [
    {
     "data": {
      "text/plain": [
       "        Jan    Feb    Mar    Apr    May    Jun    Jul    Aug    Sep    Oct\n",
       "1946 26.663 23.598 26.931 24.740 25.806 24.364 24.477 23.901 23.175 23.227\n",
       "1947 21.439 21.089 23.709 21.669 21.752 20.761 23.479 23.824 23.105 23.110\n",
       "1948 21.937 20.035 23.590 21.672 22.222 22.123 23.950 23.504 22.238 23.142\n",
       "1949 21.548 20.000 22.424 20.615 21.761 22.874 24.104 23.748 23.262 22.907\n",
       "1950 22.604 20.894 24.677 23.673 25.320 23.583 24.671 24.454 24.122 24.252\n",
       "1951 23.287 23.049 25.076 24.037 24.430 24.667 26.451 25.618 25.014 25.110\n",
       "1952 23.798 22.270 24.775 22.646 23.988 24.737 26.276 25.816 25.210 25.199\n",
       "1953 24.364 22.644 25.565 24.062 25.431 24.635 27.009 26.606 26.268 26.462\n",
       "1954 24.657 23.304 26.982 26.199 27.210 26.122 26.706 26.878 26.152 26.379\n",
       "1955 24.990 24.239 26.721 23.475 24.767 26.219 28.361 28.599 27.914 27.784\n",
       "1956 26.217 24.218 27.914 26.975 28.527 27.139 28.982 28.169 28.056 29.136\n",
       "1957 26.589 24.848 27.543 26.896 28.878 27.390 28.065 28.141 29.048 28.484\n",
       "1958 27.132 24.924 28.963 26.589 27.931 28.009 29.229 28.759 28.405 27.945\n",
       "1959 26.076 25.286 27.660 25.951 26.398 25.565 28.865 30.000 29.261 29.012\n",
       "        Nov    Dec\n",
       "1946 21.672 21.870\n",
       "1947 21.759 22.073\n",
       "1948 21.059 21.573\n",
       "1949 21.519 22.025\n",
       "1950 22.084 22.991\n",
       "1951 22.964 23.981\n",
       "1952 23.162 24.707\n",
       "1953 25.246 25.180\n",
       "1954 24.712 25.688\n",
       "1955 25.693 26.881\n",
       "1956 26.291 26.987\n",
       "1957 26.634 27.735\n",
       "1958 25.912 26.619\n",
       "1959 26.992 27.897"
      ]
     },
     "metadata": {},
     "output_type": "display_data"
    }
   ],
   "source": [
    "birthtimeseries <- ts(births, frequency=12, start=c(1946, 1))\n",
    "\n",
    "birthtimeseries"
   ]
  },
  {
   "cell_type": "code",
   "execution_count": 68,
   "metadata": {
    "collapsed": true
   },
   "outputs": [],
   "source": [
    "souvenir <- scan(\"http://robjhyndman.com/tsdldata/data/fancy.dat\")"
   ]
  },
  {
   "cell_type": "code",
   "execution_count": 69,
   "metadata": {},
   "outputs": [
    {
     "data": {
      "text/html": [
       "<ol class=list-inline>\n",
       "\t<li>1664.81</li>\n",
       "\t<li>2397.53</li>\n",
       "\t<li>2840.71</li>\n",
       "\t<li>3547.29</li>\n",
       "\t<li>3752.96</li>\n",
       "\t<li>3714.74</li>\n",
       "\t<li>4349.61</li>\n",
       "\t<li>3566.34</li>\n",
       "\t<li>5021.82</li>\n",
       "\t<li>6423.48</li>\n",
       "\t<li>7600.6</li>\n",
       "\t<li>19756.21</li>\n",
       "\t<li>2499.81</li>\n",
       "\t<li>5198.24</li>\n",
       "\t<li>7225.14</li>\n",
       "\t<li>4806.03</li>\n",
       "\t<li>5900.88</li>\n",
       "\t<li>4951.34</li>\n",
       "\t<li>6179.12</li>\n",
       "\t<li>4752.15</li>\n",
       "\t<li>5496.43</li>\n",
       "\t<li>5835.1</li>\n",
       "\t<li>12600.08</li>\n",
       "\t<li>28541.72</li>\n",
       "\t<li>4717.02</li>\n",
       "\t<li>5702.63</li>\n",
       "\t<li>9957.58</li>\n",
       "\t<li>5304.78</li>\n",
       "\t<li>6492.43</li>\n",
       "\t<li>6630.8</li>\n",
       "\t<li>7349.62</li>\n",
       "\t<li>8176.62</li>\n",
       "\t<li>8573.17</li>\n",
       "\t<li>9690.5</li>\n",
       "\t<li>15151.84</li>\n",
       "\t<li>34061.01</li>\n",
       "\t<li>5921.1</li>\n",
       "\t<li>5814.58</li>\n",
       "\t<li>12421.25</li>\n",
       "\t<li>6369.77</li>\n",
       "\t<li>7609.12</li>\n",
       "\t<li>7224.75</li>\n",
       "\t<li>8121.22</li>\n",
       "\t<li>7979.25</li>\n",
       "\t<li>8093.06</li>\n",
       "\t<li>8476.7</li>\n",
       "\t<li>17914.66</li>\n",
       "\t<li>30114.41</li>\n",
       "\t<li>4826.64</li>\n",
       "\t<li>6470.23</li>\n",
       "\t<li>9638.77</li>\n",
       "\t<li>8821.17</li>\n",
       "\t<li>8722.37</li>\n",
       "\t<li>10209.48</li>\n",
       "\t<li>11276.55</li>\n",
       "\t<li>12552.22</li>\n",
       "\t<li>11637.39</li>\n",
       "\t<li>13606.89</li>\n",
       "\t<li>21822.11</li>\n",
       "\t<li>45060.69</li>\n",
       "\t<li>7615.03</li>\n",
       "\t<li>9849.69</li>\n",
       "\t<li>14558.4</li>\n",
       "\t<li>11587.33</li>\n",
       "\t<li>9332.56</li>\n",
       "\t<li>13082.09</li>\n",
       "\t<li>16732.78</li>\n",
       "\t<li>19888.61</li>\n",
       "\t<li>23933.38</li>\n",
       "\t<li>25391.35</li>\n",
       "\t<li>36024.8</li>\n",
       "\t<li>80721.71</li>\n",
       "\t<li>10243.24</li>\n",
       "\t<li>11266.88</li>\n",
       "\t<li>21826.84</li>\n",
       "\t<li>17357.33</li>\n",
       "\t<li>15997.79</li>\n",
       "\t<li>18601.53</li>\n",
       "\t<li>26155.15</li>\n",
       "\t<li>28586.52</li>\n",
       "\t<li>30505.41</li>\n",
       "\t<li>30821.33</li>\n",
       "\t<li>46634.38</li>\n",
       "\t<li>104660.67</li>\n",
       "</ol>\n"
      ],
      "text/latex": [
       "\\begin{enumerate*}\n",
       "\\item 1664.81\n",
       "\\item 2397.53\n",
       "\\item 2840.71\n",
       "\\item 3547.29\n",
       "\\item 3752.96\n",
       "\\item 3714.74\n",
       "\\item 4349.61\n",
       "\\item 3566.34\n",
       "\\item 5021.82\n",
       "\\item 6423.48\n",
       "\\item 7600.6\n",
       "\\item 19756.21\n",
       "\\item 2499.81\n",
       "\\item 5198.24\n",
       "\\item 7225.14\n",
       "\\item 4806.03\n",
       "\\item 5900.88\n",
       "\\item 4951.34\n",
       "\\item 6179.12\n",
       "\\item 4752.15\n",
       "\\item 5496.43\n",
       "\\item 5835.1\n",
       "\\item 12600.08\n",
       "\\item 28541.72\n",
       "\\item 4717.02\n",
       "\\item 5702.63\n",
       "\\item 9957.58\n",
       "\\item 5304.78\n",
       "\\item 6492.43\n",
       "\\item 6630.8\n",
       "\\item 7349.62\n",
       "\\item 8176.62\n",
       "\\item 8573.17\n",
       "\\item 9690.5\n",
       "\\item 15151.84\n",
       "\\item 34061.01\n",
       "\\item 5921.1\n",
       "\\item 5814.58\n",
       "\\item 12421.25\n",
       "\\item 6369.77\n",
       "\\item 7609.12\n",
       "\\item 7224.75\n",
       "\\item 8121.22\n",
       "\\item 7979.25\n",
       "\\item 8093.06\n",
       "\\item 8476.7\n",
       "\\item 17914.66\n",
       "\\item 30114.41\n",
       "\\item 4826.64\n",
       "\\item 6470.23\n",
       "\\item 9638.77\n",
       "\\item 8821.17\n",
       "\\item 8722.37\n",
       "\\item 10209.48\n",
       "\\item 11276.55\n",
       "\\item 12552.22\n",
       "\\item 11637.39\n",
       "\\item 13606.89\n",
       "\\item 21822.11\n",
       "\\item 45060.69\n",
       "\\item 7615.03\n",
       "\\item 9849.69\n",
       "\\item 14558.4\n",
       "\\item 11587.33\n",
       "\\item 9332.56\n",
       "\\item 13082.09\n",
       "\\item 16732.78\n",
       "\\item 19888.61\n",
       "\\item 23933.38\n",
       "\\item 25391.35\n",
       "\\item 36024.8\n",
       "\\item 80721.71\n",
       "\\item 10243.24\n",
       "\\item 11266.88\n",
       "\\item 21826.84\n",
       "\\item 17357.33\n",
       "\\item 15997.79\n",
       "\\item 18601.53\n",
       "\\item 26155.15\n",
       "\\item 28586.52\n",
       "\\item 30505.41\n",
       "\\item 30821.33\n",
       "\\item 46634.38\n",
       "\\item 104660.67\n",
       "\\end{enumerate*}\n"
      ],
      "text/markdown": [
       "1. 1664.81\n",
       "2. 2397.53\n",
       "3. 2840.71\n",
       "4. 3547.29\n",
       "5. 3752.96\n",
       "6. 3714.74\n",
       "7. 4349.61\n",
       "8. 3566.34\n",
       "9. 5021.82\n",
       "10. 6423.48\n",
       "11. 7600.6\n",
       "12. 19756.21\n",
       "13. 2499.81\n",
       "14. 5198.24\n",
       "15. 7225.14\n",
       "16. 4806.03\n",
       "17. 5900.88\n",
       "18. 4951.34\n",
       "19. 6179.12\n",
       "20. 4752.15\n",
       "21. 5496.43\n",
       "22. 5835.1\n",
       "23. 12600.08\n",
       "24. 28541.72\n",
       "25. 4717.02\n",
       "26. 5702.63\n",
       "27. 9957.58\n",
       "28. 5304.78\n",
       "29. 6492.43\n",
       "30. 6630.8\n",
       "31. 7349.62\n",
       "32. 8176.62\n",
       "33. 8573.17\n",
       "34. 9690.5\n",
       "35. 15151.84\n",
       "36. 34061.01\n",
       "37. 5921.1\n",
       "38. 5814.58\n",
       "39. 12421.25\n",
       "40. 6369.77\n",
       "41. 7609.12\n",
       "42. 7224.75\n",
       "43. 8121.22\n",
       "44. 7979.25\n",
       "45. 8093.06\n",
       "46. 8476.7\n",
       "47. 17914.66\n",
       "48. 30114.41\n",
       "49. 4826.64\n",
       "50. 6470.23\n",
       "51. 9638.77\n",
       "52. 8821.17\n",
       "53. 8722.37\n",
       "54. 10209.48\n",
       "55. 11276.55\n",
       "56. 12552.22\n",
       "57. 11637.39\n",
       "58. 13606.89\n",
       "59. 21822.11\n",
       "60. 45060.69\n",
       "61. 7615.03\n",
       "62. 9849.69\n",
       "63. 14558.4\n",
       "64. 11587.33\n",
       "65. 9332.56\n",
       "66. 13082.09\n",
       "67. 16732.78\n",
       "68. 19888.61\n",
       "69. 23933.38\n",
       "70. 25391.35\n",
       "71. 36024.8\n",
       "72. 80721.71\n",
       "73. 10243.24\n",
       "74. 11266.88\n",
       "75. 21826.84\n",
       "76. 17357.33\n",
       "77. 15997.79\n",
       "78. 18601.53\n",
       "79. 26155.15\n",
       "80. 28586.52\n",
       "81. 30505.41\n",
       "82. 30821.33\n",
       "83. 46634.38\n",
       "84. 104660.67\n",
       "\n",
       "\n"
      ],
      "text/plain": [
       " [1]   1664.81   2397.53   2840.71   3547.29   3752.96   3714.74   4349.61\n",
       " [8]   3566.34   5021.82   6423.48   7600.60  19756.21   2499.81   5198.24\n",
       "[15]   7225.14   4806.03   5900.88   4951.34   6179.12   4752.15   5496.43\n",
       "[22]   5835.10  12600.08  28541.72   4717.02   5702.63   9957.58   5304.78\n",
       "[29]   6492.43   6630.80   7349.62   8176.62   8573.17   9690.50  15151.84\n",
       "[36]  34061.01   5921.10   5814.58  12421.25   6369.77   7609.12   7224.75\n",
       "[43]   8121.22   7979.25   8093.06   8476.70  17914.66  30114.41   4826.64\n",
       "[50]   6470.23   9638.77   8821.17   8722.37  10209.48  11276.55  12552.22\n",
       "[57]  11637.39  13606.89  21822.11  45060.69   7615.03   9849.69  14558.40\n",
       "[64]  11587.33   9332.56  13082.09  16732.78  19888.61  23933.38  25391.35\n",
       "[71]  36024.80  80721.71  10243.24  11266.88  21826.84  17357.33  15997.79\n",
       "[78]  18601.53  26155.15  28586.52  30505.41  30821.33  46634.38 104660.67"
      ]
     },
     "metadata": {},
     "output_type": "display_data"
    }
   ],
   "source": [
    "souvenir"
   ]
  },
  {
   "cell_type": "code",
   "execution_count": 70,
   "metadata": {},
   "outputs": [
    {
     "data": {
      "text/plain": [
       "           Jan       Feb       Mar       Apr       May       Jun       Jul\n",
       "1978   1664.81   2397.53   2840.71   3547.29   3752.96   3714.74   4349.61\n",
       "1979   2499.81   5198.24   7225.14   4806.03   5900.88   4951.34   6179.12\n",
       "1980   4717.02   5702.63   9957.58   5304.78   6492.43   6630.80   7349.62\n",
       "1981   5921.10   5814.58  12421.25   6369.77   7609.12   7224.75   8121.22\n",
       "1982   4826.64   6470.23   9638.77   8821.17   8722.37  10209.48  11276.55\n",
       "1983   7615.03   9849.69  14558.40  11587.33   9332.56  13082.09  16732.78\n",
       "1984  10243.24  11266.88  21826.84  17357.33  15997.79  18601.53  26155.15\n",
       "           Aug       Sep       Oct       Nov       Dec\n",
       "1978   3566.34   5021.82   6423.48   7600.60  19756.21\n",
       "1979   4752.15   5496.43   5835.10  12600.08  28541.72\n",
       "1980   8176.62   8573.17   9690.50  15151.84  34061.01\n",
       "1981   7979.25   8093.06   8476.70  17914.66  30114.41\n",
       "1982  12552.22  11637.39  13606.89  21822.11  45060.69\n",
       "1983  19888.61  23933.38  25391.35  36024.80  80721.71\n",
       "1984  28586.52  30505.41  30821.33  46634.38 104660.67"
      ]
     },
     "metadata": {},
     "output_type": "display_data"
    }
   ],
   "source": [
    "souvenirtimeseries <- ts(souvenir, frequency=12, start=c(1978,1))\n",
    "souvenirtimeseries"
   ]
  },
  {
   "cell_type": "code",
   "execution_count": 71,
   "metadata": {},
   "outputs": [
    {
     "data": {
      "image/png": "[encoded data removed]",
      "text/plain": [
       "plot without title"
      ]
     },
     "metadata": {},
     "output_type": "display_data"
    }
   ],
   "source": [
    "plot.ts(kingstimeseries)"
   ]
  },
  {
   "cell_type": "code",
   "execution_count": 72,
   "metadata": {},
   "outputs": [
    {
     "data": {
      "image/png": "[encoded data removed]",
      "text/plain": [
       "plot without title"
      ]
     },
     "metadata": {},
     "output_type": "display_data"
    }
   ],
   "source": [
    "plot.ts(birthtimeseries)"
   ]
  },
  {
   "cell_type": "code",
   "execution_count": 73,
   "metadata": {},
   "outputs": [
    {
     "data": {
      "image/png": "[encoded data removed]",
      "text/plain": [
       "plot without title"
      ]
     },
     "metadata": {},
     "output_type": "display_data"
    }
   ],
   "source": [
    "plot.ts(souvenirtimeseries)"
   ]
  },
  {
   "cell_type": "markdown",
   "metadata": {},
   "source": [
    "Not an additive time series. Let's transform it in order to get a transformed time series that can be described using an additive model."
   ]
  },
  {
   "cell_type": "code",
   "execution_count": 74,
   "metadata": {},
   "outputs": [
    {
     "data": {
      "text/plain": [
       "           Jan       Feb       Mar       Apr       May       Jun       Jul\n",
       "1978  7.417466  7.782194  7.951809  8.173939  8.230300  8.220064  8.377841\n",
       "1979  7.823970  8.556075  8.885322  8.477627  8.682857  8.507414  8.728931\n",
       "1980  8.458933  8.648683  9.206089  8.576364  8.778392  8.799481  8.902404\n",
       "1981  8.686278  8.668124  9.427164  8.759319  8.937103  8.885268  9.002236\n",
       "1982  8.481906  8.774967  9.173549  9.084910  9.073646  9.231072  9.330481\n",
       "1983  8.937879  9.195195  9.585923  9.357668  9.141265  9.478999  9.725125\n",
       "1984  9.234373  9.329623  9.990896  9.761770  9.680206  9.830999 10.171801\n",
       "           Aug       Sep       Oct       Nov       Dec\n",
       "1978  8.179295  8.521548  8.767715  8.935982  9.891223\n",
       "1979  8.466352  8.611854  8.671647  9.441458 10.259122\n",
       "1980  9.009034  9.056393  9.178901  9.625877 10.435909\n",
       "1981  8.984600  8.998762  9.045077  9.793375 10.312759\n",
       "1982  9.437653  9.361978  9.518332  9.990679 10.715766\n",
       "1983  9.897902 10.083029 10.142164 10.491963 11.298763\n",
       "1984 10.260691 10.325659 10.335962 10.750093 11.558479"
      ]
     },
     "metadata": {},
     "output_type": "display_data"
    }
   ],
   "source": [
    "souvenirtimeseries_logged <- log(souvenirtimeseries)\n",
    "souvenirtimeseries_logged"
   ]
  },
  {
   "cell_type": "code",
   "execution_count": 75,
   "metadata": {},
   "outputs": [
    {
     "data": {
      "image/png": "[encoded data removed]",
      "text/plain": [
       "plot without title"
      ]
     },
     "metadata": {},
     "output_type": "display_data"
    }
   ],
   "source": [
    "plot.ts(souvenirtimeseries_logged)"
   ]
  },
  {
   "cell_type": "markdown",
   "metadata": {},
   "source": [
    "Here we can see that the size of the seasonal fluctuations and random fluctuations in the log-transformed time series seem to be roughly constant over time and do not depend on the level of the time series. Thus, the log-transformed time series can probably be described using an additive model"
   ]
  },
  {
   "cell_type": "markdown",
   "metadata": {},
   "source": [
    "# Decomposing Non-Seasonal Data"
   ]
  },
  {
   "cell_type": "code",
   "execution_count": 76,
   "metadata": {
    "collapsed": true
   },
   "outputs": [],
   "source": [
    "library(\"TTR\")"
   ]
  },
  {
   "cell_type": "code",
   "execution_count": 77,
   "metadata": {},
   "outputs": [
    {
     "data": {
      "image/png": "[encoded data removed]",
      "text/plain": [
       "plot without title"
      ]
     },
     "metadata": {},
     "output_type": "display_data"
    }
   ],
   "source": [
    "plot.ts(kingstimeseries)"
   ]
  },
  {
   "cell_type": "markdown",
   "metadata": {},
   "source": [
    "We can try to estimate the trend component of this time series by smoothing using a simple moving average. To smooth the time series using a SMA order of 3..."
   ]
  },
  {
   "cell_type": "code",
   "execution_count": 78,
   "metadata": {},
   "outputs": [
    {
     "data": {
      "image/png": "[encoded data removed]",
      "text/plain": [
       "plot without title"
      ]
     },
     "metadata": {},
     "output_type": "display_data"
    }
   ],
   "source": [
    "kingstimeseriesSMA3 <- SMA(kingstimeseries, n = 3)\n",
    "plot.ts(kingstimeseriesSMA3)"
   ]
  },
  {
   "cell_type": "markdown",
   "metadata": {},
   "source": [
    "There's still quite a bit of random fluctuations in the ts that's smoothed using a simple moving average of order 3. To estimate the trend component more accurately, we might want to try smoothing the data with a simple moving average of a higher order. "
   ]
  },
  {
   "cell_type": "code",
   "execution_count": 79,
   "metadata": {},
   "outputs": [
    {
     "data": {
      "image/png": "[encoded data removed]",
      "text/plain": [
       "plot without title"
      ]
     },
     "metadata": {},
     "output_type": "display_data"
    }
   ],
   "source": [
    "kingstimeseriesSMA8 <- SMA(kingstimeseries,n=8)\n",
    "plot.ts(kingstimeseriesSMA8)"
   ]
  },
  {
   "cell_type": "markdown",
   "metadata": {},
   "source": [
    "An order of 8 gives a clearer picture of the trend component and we can see that the age of death of the English kings seems to have decreased from about 55 years old to about 38 years old during the reign of the first 20 kings then icnreased to about 73 years old by the end of the 40th king era. "
   ]
  },
  {
   "cell_type": "markdown",
   "metadata": {},
   "source": [
    "# Decomposing Seasonal Data"
   ]
  },
  {
   "cell_type": "code",
   "execution_count": 80,
   "metadata": {},
   "outputs": [
    {
     "data": {
      "image/png": "[encoded data removed]",
      "text/plain": [
       "plot without title"
      ]
     },
     "metadata": {},
     "output_type": "display_data"
    }
   ],
   "source": [
    "plot.ts(birthtimeseries)"
   ]
  },
  {
   "cell_type": "code",
   "execution_count": 81,
   "metadata": {
    "scrolled": false
   },
   "outputs": [],
   "source": [
    "birthstimeseriescomponents <- decompose(birthtimeseries)"
   ]
  },
  {
   "cell_type": "markdown",
   "metadata": {},
   "source": [
    "The estimated values of the seasonal, trend and irregular components are now stored in variables birthstimeseriescomponents$seasonal, birthstimeseriescomponents$trend and birthstimeseriescomponents$random."
   ]
  },
  {
   "cell_type": "code",
   "execution_count": 82,
   "metadata": {},
   "outputs": [
    {
     "data": {
      "text/html": [
       "<ol class=list-inline>\n",
       "\t<li>'x'</li>\n",
       "\t<li>'seasonal'</li>\n",
       "\t<li>'trend'</li>\n",
       "\t<li>'random'</li>\n",
       "\t<li>'figure'</li>\n",
       "\t<li>'type'</li>\n",
       "</ol>\n"
      ],
      "text/latex": [
       "\\begin{enumerate*}\n",
       "\\item 'x'\n",
       "\\item 'seasonal'\n",
       "\\item 'trend'\n",
       "\\item 'random'\n",
       "\\item 'figure'\n",
       "\\item 'type'\n",
       "\\end{enumerate*}\n"
      ],
      "text/markdown": [
       "1. 'x'\n",
       "2. 'seasonal'\n",
       "3. 'trend'\n",
       "4. 'random'\n",
       "5. 'figure'\n",
       "6. 'type'\n",
       "\n",
       "\n"
      ],
      "text/plain": [
       "[1] \"x\"        \"seasonal\" \"trend\"    \"random\"   \"figure\"   \"type\"    "
      ]
     },
     "metadata": {},
     "output_type": "display_data"
    }
   ],
   "source": [
    "names(birthstimeseriescomponents)"
   ]
  },
  {
   "cell_type": "code",
   "execution_count": 85,
   "metadata": {},
   "outputs": [
    {
     "data": {
      "text/plain": [
       "            Jan        Feb        Mar        Apr        May        Jun\n",
       "1946 -0.6771947 -2.0829607  0.8625232 -0.8016787  0.2516514 -0.1532556\n",
       "1947 -0.6771947 -2.0829607  0.8625232 -0.8016787  0.2516514 -0.1532556\n",
       "1948 -0.6771947 -2.0829607  0.8625232 -0.8016787  0.2516514 -0.1532556\n",
       "1949 -0.6771947 -2.0829607  0.8625232 -0.8016787  0.2516514 -0.1532556\n",
       "1950 -0.6771947 -2.0829607  0.8625232 -0.8016787  0.2516514 -0.1532556\n",
       "1951 -0.6771947 -2.0829607  0.8625232 -0.8016787  0.2516514 -0.1532556\n",
       "1952 -0.6771947 -2.0829607  0.8625232 -0.8016787  0.2516514 -0.1532556\n",
       "1953 -0.6771947 -2.0829607  0.8625232 -0.8016787  0.2516514 -0.1532556\n",
       "1954 -0.6771947 -2.0829607  0.8625232 -0.8016787  0.2516514 -0.1532556\n",
       "1955 -0.6771947 -2.0829607  0.8625232 -0.8016787  0.2516514 -0.1532556\n",
       "1956 -0.6771947 -2.0829607  0.8625232 -0.8016787  0.2516514 -0.1532556\n",
       "1957 -0.6771947 -2.0829607  0.8625232 -0.8016787  0.2516514 -0.1532556\n",
       "1958 -0.6771947 -2.0829607  0.8625232 -0.8016787  0.2516514 -0.1532556\n",
       "1959 -0.6771947 -2.0829607  0.8625232 -0.8016787  0.2516514 -0.1532556\n",
       "            Jul        Aug        Sep        Oct        Nov        Dec\n",
       "1946  1.4560457  1.1645938  0.6916162  0.7752444 -1.1097652 -0.3768197\n",
       "1947  1.4560457  1.1645938  0.6916162  0.7752444 -1.1097652 -0.3768197\n",
       "1948  1.4560457  1.1645938  0.6916162  0.7752444 -1.1097652 -0.3768197\n",
       "1949  1.4560457  1.1645938  0.6916162  0.7752444 -1.1097652 -0.3768197\n",
       "1950  1.4560457  1.1645938  0.6916162  0.7752444 -1.1097652 -0.3768197\n",
       "1951  1.4560457  1.1645938  0.6916162  0.7752444 -1.1097652 -0.3768197\n",
       "1952  1.4560457  1.1645938  0.6916162  0.7752444 -1.1097652 -0.3768197\n",
       "1953  1.4560457  1.1645938  0.6916162  0.7752444 -1.1097652 -0.3768197\n",
       "1954  1.4560457  1.1645938  0.6916162  0.7752444 -1.1097652 -0.3768197\n",
       "1955  1.4560457  1.1645938  0.6916162  0.7752444 -1.1097652 -0.3768197\n",
       "1956  1.4560457  1.1645938  0.6916162  0.7752444 -1.1097652 -0.3768197\n",
       "1957  1.4560457  1.1645938  0.6916162  0.7752444 -1.1097652 -0.3768197\n",
       "1958  1.4560457  1.1645938  0.6916162  0.7752444 -1.1097652 -0.3768197\n",
       "1959  1.4560457  1.1645938  0.6916162  0.7752444 -1.1097652 -0.3768197"
      ]
     },
     "metadata": {},
     "output_type": "display_data"
    }
   ],
   "source": [
    "# get the estimated values of the seasonal component\n",
    "birthstimeseriescomponents$seasonal"
   ]
  },
  {
   "cell_type": "markdown",
   "metadata": {},
   "source": [
    "The estimated seasonal factors are given for the months January-December, and are the same for each year. The largest seasonal factor is for July (about 1.46), and the lowest is for February (about -2.08), indicating that there seems to be a peak in births in July and a trough in births in February each year."
   ]
  },
  {
   "cell_type": "code",
   "execution_count": 84,
   "metadata": {},
   "outputs": [
    {
     "data": {
      "image/png": "[encoded data removed]",
      "text/plain": [
       "plot without title"
      ]
     },
     "metadata": {},
     "output_type": "display_data"
    }
   ],
   "source": [
    "plot(birthstimeseriescomponents)"
   ]
  },
  {
   "cell_type": "markdown",
   "metadata": {},
   "source": [
    "The plot above shows the original time series (top), the estimated trend component (second from top), the estimated seasonal component (third from top), and the estimated irregular component (bottom). We see that the estimated trend component shows a small decrease from about 24 in 1947 to about 22 in 1948, followed by a steady increase from then on to about 27 in 1959."
   ]
  },
  {
   "cell_type": "markdown",
   "metadata": {},
   "source": [
    "## Seasonally Adjusting\n",
    "If you have a seasonal time series that can be described using an additive model, you can seasonally adjust the time series by estimating the seasonal component, and subtracting the estimated seasonal component from the original time series. We can do this using the estimate of the seasonal component calculated by the “decompose()” function.\n",
    "\n",
    "For example, to seasonally adjust the time series of the number of births per month in New York city, we can estimate the seasonal component using “decompose()”, and then subtract the seasonal component from the original time series:"
   ]
  },
  {
   "cell_type": "code",
   "execution_count": 88,
   "metadata": {
    "collapsed": true
   },
   "outputs": [],
   "source": [
    "birthstimeseriescomponents <- decompose(birthtimeseries)\n",
    "birthstimeseriesseasonallyadjusted <- birthtimeseries - birthstimeseriescomponents$seasonal"
   ]
  },
  {
   "cell_type": "code",
   "execution_count": 89,
   "metadata": {},
   "outputs": [
    {
     "data": {
      "image/png": "[encoded data removed]",
      "text/plain": [
       "plot without title"
      ]
     },
     "metadata": {},
     "output_type": "display_data"
    }
   ],
   "source": [
    "plot(birthstimeseriesseasonallyadjusted)"
   ]
  },
  {
   "cell_type": "code",
   "execution_count": 92,
   "metadata": {},
   "outputs": [
    {
     "data": {
      "image/png": "[encoded data removed]",
      "text/plain": [
       "plot without title"
      ]
     },
     "metadata": {},
     "output_type": "display_data"
    }
   ],
   "source": [
    "plot(birthtimeseries)"
   ]
  },
  {
   "cell_type": "markdown",
   "metadata": {},
   "source": [
    "###  Forecasts using Exponential Smoothing\n",
    "Exponential smoothing can be used to make short-term forecasts for time series data."
   ]
  },
  {
   "cell_type": "markdown",
   "metadata": {},
   "source": [
    "#### Simple Exponential Smoothing\n",
    "\n",
    "If you have a time series that can be described using an additive model with constant level and no seasonality, you can use simple exponential smoothing to make short-term forecasts.\n",
    "\n",
    "The simple exponential smoothing method provides a way of estimating the level at the current time point. Smoothing is controlled by the parameter alpha; for the estimate of the level at the current time point. The value of alpha; lies between 0 and 1. Values of alpha that are close to 0 mean that little weight is placed on the most recent observations when making forecasts of future values."
   ]
  },
  {
   "cell_type": "code",
   "execution_count": 93,
   "metadata": {
    "collapsed": true
   },
   "outputs": [],
   "source": [
    "rain <- scan(\"http://robjhyndman.com/tsdldata/hurst/precip1.dat\",skip=1)"
   ]
  },
  {
   "cell_type": "code",
   "execution_count": 98,
   "metadata": {},
   "outputs": [],
   "source": [
    "rainseries <- ts(rain, start=c(1813))"
   ]
  },
  {
   "cell_type": "code",
   "execution_count": 95,
   "metadata": {},
   "outputs": [
    {
     "data": {
      "text/plain": [
       "Time Series:\n",
       "Start = 1813 \n",
       "End = 1912 \n",
       "Frequency = 1 \n",
       "  [1] 23.56 26.07 21.86 31.24 23.65 23.88 26.41 22.67 31.69 23.86 24.11 32.43\n",
       " [13] 23.26 22.57 23.00 27.88 25.32 25.08 27.76 19.82 24.78 20.12 24.34 27.42\n",
       " [25] 19.44 21.63 27.49 19.43 31.13 23.09 25.85 22.65 22.75 26.36 17.70 29.81\n",
       " [37] 22.93 19.22 20.63 35.34 25.89 18.65 23.06 22.21 22.18 18.77 28.21 32.24\n",
       " [49] 22.27 27.57 21.59 16.93 29.48 31.60 26.25 23.40 25.42 21.32 25.02 33.86\n",
       " [61] 22.67 18.82 28.44 26.16 28.17 34.08 33.82 30.28 27.92 27.14 24.40 20.35\n",
       " [73] 26.64 27.01 19.21 27.74 23.85 21.23 28.15 22.61 19.80 27.94 21.47 23.52\n",
       " [85] 22.86 17.69 22.54 23.28 22.17 20.84 38.10 20.65 22.97 24.26 23.01 23.67\n",
       " [97] 26.75 25.36 24.79 27.88"
      ]
     },
     "metadata": {},
     "output_type": "display_data"
    }
   ],
   "source": [
    "rainseries"
   ]
  },
  {
   "cell_type": "code",
   "execution_count": 99,
   "metadata": {},
   "outputs": [
    {
     "data": {
      "text/html": [
       "100"
      ],
      "text/latex": [
       "100"
      ],
      "text/markdown": [
       "100"
      ],
      "text/plain": [
       "[1] 100"
      ]
     },
     "metadata": {},
     "output_type": "display_data"
    }
   ],
   "source": [
    "length(rain)"
   ]
  },
  {
   "cell_type": "code",
   "execution_count": 100,
   "metadata": {},
   "outputs": [
    {
     "data": {
      "image/png": "[encoded data removed]",
      "text/plain": [
       "plot without title"
      ]
     },
     "metadata": {},
     "output_type": "display_data"
    }
   ],
   "source": [
    "plot.ts(rainseries)"
   ]
  },
  {
   "cell_type": "markdown",
   "metadata": {},
   "source": [
    "You can see from the plot that there is roughly constant level (the mean stays constant at about 25 inches). The random fluctuations in the time series seem to be roughly constant in size over time, so it is probably appropriate to describe the data using an additive model. Thus, we can make forecasts using simple exponential smoothing."
   ]
  },
  {
   "cell_type": "markdown",
   "metadata": {},
   "source": [
    "To make forecasts using simple exponential smoothing in R, we can fit a simple exponential smoothing predictive model using the “HoltWinters()” function in R. To use HoltWinters() for simple exponential smoothing, we need to set the parameters beta=FALSE and gamma=FALSE in the HoltWinters() function (the beta and gamma parameters are used for Holt’s exponential smoothing, or Holt-Winters exponential smoothing, as described below)."
   ]
  },
  {
   "cell_type": "code",
   "execution_count": 102,
   "metadata": {},
   "outputs": [
    {
     "data": {
      "text/plain": [
       "Holt-Winters exponential smoothing without trend and without seasonal component.\n",
       "\n",
       "Call:\n",
       "HoltWinters(x = rainseries, beta = FALSE, gamma = FALSE)\n",
       "\n",
       "Smoothing parameters:\n",
       " alpha: 0.02412151\n",
       " beta : FALSE\n",
       " gamma: FALSE\n",
       "\n",
       "Coefficients:\n",
       "      [,1]\n",
       "a 24.67819"
      ]
     },
     "metadata": {},
     "output_type": "display_data"
    }
   ],
   "source": [
    "rainseriesforecasts <- HoltWinters(rainseries, beta=FALSE, gamma=FALSE)\n",
    "\n",
    "rainseriesforecasts"
   ]
  },
  {
   "cell_type": "markdown",
   "metadata": {},
   "source": [
    "The output of HoltWinters() tells us that the estimated value of the alpha parameter is about 0.024. This is very close to zero, telling us that the forecasts are based on both recent and less recent observations (although somewhat more weight is placed on recent observations).\n",
    "\n",
    "By default, HoltWinters() just makes forecasts for the same time period covered by our original time series. In this case, our original time series included rainfall for London from 1813-1912, so the forecasts are also for 1813-1912."
   ]
  },
  {
   "cell_type": "markdown",
   "metadata": {},
   "source": [
    "In the example above, we have stored the output of the HoltWinters() function in the list variable “rainseriesforecasts”. The forecasts made by HoltWinters() are stored in a named element of this list variable called “fitted”, so we can get their values by typing:"
   ]
  },
  {
   "cell_type": "code",
   "execution_count": 103,
   "metadata": {},
   "outputs": [
    {
     "data": {
      "text/html": [
       "<ol class=list-inline>\n",
       "\t<li>'fitted'</li>\n",
       "\t<li>'x'</li>\n",
       "\t<li>'alpha'</li>\n",
       "\t<li>'beta'</li>\n",
       "\t<li>'gamma'</li>\n",
       "\t<li>'coefficients'</li>\n",
       "\t<li>'seasonal'</li>\n",
       "\t<li>'SSE'</li>\n",
       "\t<li>'call'</li>\n",
       "</ol>\n"
      ],
      "text/latex": [
       "\\begin{enumerate*}\n",
       "\\item 'fitted'\n",
       "\\item 'x'\n",
       "\\item 'alpha'\n",
       "\\item 'beta'\n",
       "\\item 'gamma'\n",
       "\\item 'coefficients'\n",
       "\\item 'seasonal'\n",
       "\\item 'SSE'\n",
       "\\item 'call'\n",
       "\\end{enumerate*}\n"
      ],
      "text/markdown": [
       "1. 'fitted'\n",
       "2. 'x'\n",
       "3. 'alpha'\n",
       "4. 'beta'\n",
       "5. 'gamma'\n",
       "6. 'coefficients'\n",
       "7. 'seasonal'\n",
       "8. 'SSE'\n",
       "9. 'call'\n",
       "\n",
       "\n"
      ],
      "text/plain": [
       "[1] \"fitted\"       \"x\"            \"alpha\"        \"beta\"         \"gamma\"       \n",
       "[6] \"coefficients\" \"seasonal\"     \"SSE\"          \"call\"        "
      ]
     },
     "metadata": {},
     "output_type": "display_data"
    }
   ],
   "source": [
    "names(rainseriesforecasts)"
   ]
  },
  {
   "cell_type": "code",
   "execution_count": 107,
   "metadata": {},
   "outputs": [
    {
     "data": {
      "text/html": [
       "<table>\n",
       "<thead><tr><th scope=col>xhat</th><th scope=col>level</th></tr></thead>\n",
       "<tbody>\n",
       "\t<tr><td>23.56000</td><td>23.56000</td></tr>\n",
       "\t<tr><td>23.62054</td><td>23.62054</td></tr>\n",
       "\t<tr><td>23.57808</td><td>23.57808</td></tr>\n",
       "\t<tr><td>23.76290</td><td>23.76290</td></tr>\n",
       "\t<tr><td>23.76017</td><td>23.76017</td></tr>\n",
       "\t<tr><td>23.76306</td><td>23.76306</td></tr>\n",
       "\t<tr><td>23.82691</td><td>23.82691</td></tr>\n",
       "\t<tr><td>23.79900</td><td>23.79900</td></tr>\n",
       "\t<tr><td>23.98935</td><td>23.98935</td></tr>\n",
       "\t<tr><td>23.98623</td><td>23.98623</td></tr>\n",
       "\t<tr><td>23.98921</td><td>23.98921</td></tr>\n",
       "\t<tr><td>24.19282</td><td>24.19282</td></tr>\n",
       "\t<tr><td>24.17032</td><td>24.17032</td></tr>\n",
       "\t<tr><td>24.13171</td><td>24.13171</td></tr>\n",
       "\t<tr><td>24.10442</td><td>24.10442</td></tr>\n",
       "\t<tr><td>24.19549</td><td>24.19549</td></tr>\n",
       "\t<tr><td>24.22261</td><td>24.22261</td></tr>\n",
       "\t<tr><td>24.24329</td><td>24.24329</td></tr>\n",
       "\t<tr><td>24.32812</td><td>24.32812</td></tr>\n",
       "\t<tr><td>24.21938</td><td>24.21938</td></tr>\n",
       "\t<tr><td>24.23290</td><td>24.23290</td></tr>\n",
       "\t<tr><td>24.13369</td><td>24.13369</td></tr>\n",
       "\t<tr><td>24.13867</td><td>24.13867</td></tr>\n",
       "\t<tr><td>24.21782</td><td>24.21782</td></tr>\n",
       "\t<tr><td>24.10257</td><td>24.10257</td></tr>\n",
       "\t<tr><td>24.04293</td><td>24.04293</td></tr>\n",
       "\t<tr><td>24.12608</td><td>24.12608</td></tr>\n",
       "\t<tr><td>24.01280</td><td>24.01280</td></tr>\n",
       "\t<tr><td>24.18448</td><td>24.18448</td></tr>\n",
       "\t<tr><td>24.15808</td><td>24.15808</td></tr>\n",
       "\t<tr><td>...</td><td>...</td></tr>\n",
       "\t<tr><td>25.25411</td><td>25.25411</td></tr>\n",
       "\t<tr><td>25.23351</td><td>25.23351</td></tr>\n",
       "\t<tr><td>25.11571</td><td>25.11571</td></tr>\n",
       "\t<tr><td>25.15248</td><td>25.15248</td></tr>\n",
       "\t<tr><td>25.19729</td><td>25.19729</td></tr>\n",
       "\t<tr><td>25.05286</td><td>25.05286</td></tr>\n",
       "\t<tr><td>25.11768</td><td>25.11768</td></tr>\n",
       "\t<tr><td>25.08710</td><td>25.08710</td></tr>\n",
       "\t<tr><td>24.99407</td><td>24.99407</td></tr>\n",
       "\t<tr><td>25.07019</td><td>25.07019</td></tr>\n",
       "\t<tr><td>25.01085</td><td>25.01085</td></tr>\n",
       "\t<tr><td>24.88515</td><td>24.88515</td></tr>\n",
       "\t<tr><td>24.95884</td><td>24.95884</td></tr>\n",
       "\t<tr><td>24.87469</td><td>24.87469</td></tr>\n",
       "\t<tr><td>24.84201</td><td>24.84201</td></tr>\n",
       "\t<tr><td>24.79420</td><td>24.79420</td></tr>\n",
       "\t<tr><td>24.62284</td><td>24.62284</td></tr>\n",
       "\t<tr><td>24.57259</td><td>24.57259</td></tr>\n",
       "\t<tr><td>24.54141</td><td>24.54141</td></tr>\n",
       "\t<tr><td>24.48421</td><td>24.48421</td></tr>\n",
       "\t<tr><td>24.39631</td><td>24.39631</td></tr>\n",
       "\t<tr><td>24.72686</td><td>24.72686</td></tr>\n",
       "\t<tr><td>24.62852</td><td>24.62852</td></tr>\n",
       "\t<tr><td>24.58852</td><td>24.58852</td></tr>\n",
       "\t<tr><td>24.58059</td><td>24.58059</td></tr>\n",
       "\t<tr><td>24.54271</td><td>24.54271</td></tr>\n",
       "\t<tr><td>24.52166</td><td>24.52166</td></tr>\n",
       "\t<tr><td>24.57541</td><td>24.57541</td></tr>\n",
       "\t<tr><td>24.59433</td><td>24.59433</td></tr>\n",
       "\t<tr><td>24.59905</td><td>24.59905</td></tr>\n",
       "</tbody>\n",
       "</table>\n"
      ],
      "text/latex": [
       "\\begin{tabular}{ll}\n",
       " xhat & level\\\\\n",
       "\\hline\n",
       "\t 23.56000 & 23.56000\\\\\n",
       "\t 23.62054 & 23.62054\\\\\n",
       "\t 23.57808 & 23.57808\\\\\n",
       "\t 23.76290 & 23.76290\\\\\n",
       "\t 23.76017 & 23.76017\\\\\n",
       "\t 23.76306 & 23.76306\\\\\n",
       "\t 23.82691 & 23.82691\\\\\n",
       "\t 23.79900 & 23.79900\\\\\n",
       "\t 23.98935 & 23.98935\\\\\n",
       "\t 23.98623 & 23.98623\\\\\n",
       "\t 23.98921 & 23.98921\\\\\n",
       "\t 24.19282 & 24.19282\\\\\n",
       "\t 24.17032 & 24.17032\\\\\n",
       "\t 24.13171 & 24.13171\\\\\n",
       "\t 24.10442 & 24.10442\\\\\n",
       "\t 24.19549 & 24.19549\\\\\n",
       "\t 24.22261 & 24.22261\\\\\n",
       "\t 24.24329 & 24.24329\\\\\n",
       "\t 24.32812 & 24.32812\\\\\n",
       "\t 24.21938 & 24.21938\\\\\n",
       "\t 24.23290 & 24.23290\\\\\n",
       "\t 24.13369 & 24.13369\\\\\n",
       "\t 24.13867 & 24.13867\\\\\n",
       "\t 24.21782 & 24.21782\\\\\n",
       "\t 24.10257 & 24.10257\\\\\n",
       "\t 24.04293 & 24.04293\\\\\n",
       "\t 24.12608 & 24.12608\\\\\n",
       "\t 24.01280 & 24.01280\\\\\n",
       "\t 24.18448 & 24.18448\\\\\n",
       "\t 24.15808 & 24.15808\\\\\n",
       "\t ... & ...\\\\\n",
       "\t 25.25411 & 25.25411\\\\\n",
       "\t 25.23351 & 25.23351\\\\\n",
       "\t 25.11571 & 25.11571\\\\\n",
       "\t 25.15248 & 25.15248\\\\\n",
       "\t 25.19729 & 25.19729\\\\\n",
       "\t 25.05286 & 25.05286\\\\\n",
       "\t 25.11768 & 25.11768\\\\\n",
       "\t 25.08710 & 25.08710\\\\\n",
       "\t 24.99407 & 24.99407\\\\\n",
       "\t 25.07019 & 25.07019\\\\\n",
       "\t 25.01085 & 25.01085\\\\\n",
       "\t 24.88515 & 24.88515\\\\\n",
       "\t 24.95884 & 24.95884\\\\\n",
       "\t 24.87469 & 24.87469\\\\\n",
       "\t 24.84201 & 24.84201\\\\\n",
       "\t 24.79420 & 24.79420\\\\\n",
       "\t 24.62284 & 24.62284\\\\\n",
       "\t 24.57259 & 24.57259\\\\\n",
       "\t 24.54141 & 24.54141\\\\\n",
       "\t 24.48421 & 24.48421\\\\\n",
       "\t 24.39631 & 24.39631\\\\\n",
       "\t 24.72686 & 24.72686\\\\\n",
       "\t 24.62852 & 24.62852\\\\\n",
       "\t 24.58852 & 24.58852\\\\\n",
       "\t 24.58059 & 24.58059\\\\\n",
       "\t 24.54271 & 24.54271\\\\\n",
       "\t 24.52166 & 24.52166\\\\\n",
       "\t 24.57541 & 24.57541\\\\\n",
       "\t 24.59433 & 24.59433\\\\\n",
       "\t 24.59905 & 24.59905\\\\\n",
       "\\end{tabular}\n"
      ],
      "text/markdown": [
       "\n",
       "xhat | level | \n",
       "|---|---|---|---|---|---|---|---|---|---|---|---|---|---|---|---|---|---|---|---|---|---|---|---|---|---|---|---|---|---|---|---|---|---|---|---|---|---|---|---|---|---|---|---|---|---|---|---|---|---|---|---|---|---|---|---|---|---|---|---|---|\n",
       "| 23.56000 | 23.56000 | \n",
       "| 23.62054 | 23.62054 | \n",
       "| 23.57808 | 23.57808 | \n",
       "| 23.76290 | 23.76290 | \n",
       "| 23.76017 | 23.76017 | \n",
       "| 23.76306 | 23.76306 | \n",
       "| 23.82691 | 23.82691 | \n",
       "| 23.79900 | 23.79900 | \n",
       "| 23.98935 | 23.98935 | \n",
       "| 23.98623 | 23.98623 | \n",
       "| 23.98921 | 23.98921 | \n",
       "| 24.19282 | 24.19282 | \n",
       "| 24.17032 | 24.17032 | \n",
       "| 24.13171 | 24.13171 | \n",
       "| 24.10442 | 24.10442 | \n",
       "| 24.19549 | 24.19549 | \n",
       "| 24.22261 | 24.22261 | \n",
       "| 24.24329 | 24.24329 | \n",
       "| 24.32812 | 24.32812 | \n",
       "| 24.21938 | 24.21938 | \n",
       "| 24.23290 | 24.23290 | \n",
       "| 24.13369 | 24.13369 | \n",
       "| 24.13867 | 24.13867 | \n",
       "| 24.21782 | 24.21782 | \n",
       "| 24.10257 | 24.10257 | \n",
       "| 24.04293 | 24.04293 | \n",
       "| 24.12608 | 24.12608 | \n",
       "| 24.01280 | 24.01280 | \n",
       "| 24.18448 | 24.18448 | \n",
       "| 24.15808 | 24.15808 | \n",
       "| ... | ... | \n",
       "| 25.25411 | 25.25411 | \n",
       "| 25.23351 | 25.23351 | \n",
       "| 25.11571 | 25.11571 | \n",
       "| 25.15248 | 25.15248 | \n",
       "| 25.19729 | 25.19729 | \n",
       "| 25.05286 | 25.05286 | \n",
       "| 25.11768 | 25.11768 | \n",
       "| 25.08710 | 25.08710 | \n",
       "| 24.99407 | 24.99407 | \n",
       "| 25.07019 | 25.07019 | \n",
       "| 25.01085 | 25.01085 | \n",
       "| 24.88515 | 24.88515 | \n",
       "| 24.95884 | 24.95884 | \n",
       "| 24.87469 | 24.87469 | \n",
       "| 24.84201 | 24.84201 | \n",
       "| 24.79420 | 24.79420 | \n",
       "| 24.62284 | 24.62284 | \n",
       "| 24.57259 | 24.57259 | \n",
       "| 24.54141 | 24.54141 | \n",
       "| 24.48421 | 24.48421 | \n",
       "| 24.39631 | 24.39631 | \n",
       "| 24.72686 | 24.72686 | \n",
       "| 24.62852 | 24.62852 | \n",
       "| 24.58852 | 24.58852 | \n",
       "| 24.58059 | 24.58059 | \n",
       "| 24.54271 | 24.54271 | \n",
       "| 24.52166 | 24.52166 | \n",
       "| 24.57541 | 24.57541 | \n",
       "| 24.59433 | 24.59433 | \n",
       "| 24.59905 | 24.59905 | \n",
       "\n",
       "\n"
      ],
      "text/plain": [
       "      xhat     level   \n",
       " [1,] 23.56000 23.56000\n",
       " [2,] 23.62054 23.62054\n",
       " [3,] 23.57808 23.57808\n",
       " [4,] 23.76290 23.76290\n",
       " [5,] 23.76017 23.76017\n",
       " [6,] 23.76306 23.76306\n",
       " [7,] 23.82691 23.82691\n",
       " [8,] 23.79900 23.79900\n",
       " [9,] 23.98935 23.98935\n",
       "[10,] 23.98623 23.98623\n",
       "[11,] 23.98921 23.98921\n",
       "[12,] 24.19282 24.19282\n",
       "[13,] 24.17032 24.17032\n",
       "[14,] 24.13171 24.13171\n",
       "[15,] 24.10442 24.10442\n",
       "[16,] 24.19549 24.19549\n",
       "[17,] 24.22261 24.22261\n",
       "[18,] 24.24329 24.24329\n",
       "[19,] 24.32812 24.32812\n",
       "[20,] 24.21938 24.21938\n",
       "[21,] 24.23290 24.23290\n",
       "[22,] 24.13369 24.13369\n",
       "[23,] 24.13867 24.13867\n",
       "[24,] 24.21782 24.21782\n",
       "[25,] 24.10257 24.10257\n",
       "[26,] 24.04293 24.04293\n",
       "[27,] 24.12608 24.12608\n",
       "[28,] 24.01280 24.01280\n",
       "[29,] 24.18448 24.18448\n",
       "[30,] 24.15808 24.15808\n",
       "[31,] ...      ...     \n",
       "[32,] 25.25411 25.25411\n",
       "[33,] 25.23351 25.23351\n",
       "[34,] 25.11571 25.11571\n",
       "[35,] 25.15248 25.15248\n",
       "[36,] 25.19729 25.19729\n",
       "[37,] 25.05286 25.05286\n",
       "[38,] 25.11768 25.11768\n",
       "[39,] 25.08710 25.08710\n",
       "[40,] 24.99407 24.99407\n",
       "[41,] 25.07019 25.07019\n",
       "[42,] 25.01085 25.01085\n",
       "[43,] 24.88515 24.88515\n",
       "[44,] 24.95884 24.95884\n",
       "[45,] 24.87469 24.87469\n",
       "[46,] 24.84201 24.84201\n",
       "[47,] 24.79420 24.79420\n",
       "[48,] 24.62284 24.62284\n",
       "[49,] 24.57259 24.57259\n",
       "[50,] 24.54141 24.54141\n",
       "[51,] 24.48421 24.48421\n",
       "[52,] 24.39631 24.39631\n",
       "[53,] 24.72686 24.72686\n",
       "[54,] 24.62852 24.62852\n",
       "[55,] 24.58852 24.58852\n",
       "[56,] 24.58059 24.58059\n",
       "[57,] 24.54271 24.54271\n",
       "[58,] 24.52166 24.52166\n",
       "[59,] 24.57541 24.57541\n",
       "[60,] 24.59433 24.59433\n",
       "[61,] 24.59905 24.59905"
      ]
     },
     "metadata": {},
     "output_type": "display_data"
    }
   ],
   "source": [
    "rainseriesforecasts$fitted"
   ]
  },
  {
   "cell_type": "markdown",
   "metadata": {},
   "source": [
    "We can plot the original time series against the forecasts by typing:"
   ]
  },
  {
   "cell_type": "code",
   "execution_count": 106,
   "metadata": {},
   "outputs": [
    {
     "data": {
      "image/png": "[encoded data removed]",
      "text/plain": [
       "Plot with title \"Holt-Winters filtering\""
      ]
     },
     "metadata": {},
     "output_type": "display_data"
    }
   ],
   "source": [
    "plot(rainseriesforecasts)"
   ]
  },
  {
   "cell_type": "markdown",
   "metadata": {},
   "source": [
    "The plot shows the original time series in black, and the forecasts as a red line. The time series of forecasts is much smoother than the time series of the original data here.\n",
    "\n",
    "As a measure of the accuracy of the forecasts, we can calculate the sum of squared errors for the in-sample forecast errors, that is, the forecast errors for the time period covered by our original time series. The sum-of-squared-errors is stored in a named element of the list variable “rainseriesforecasts” called “SSE”, so we can get its value by typing:"
   ]
  },
  {
   "cell_type": "code",
   "execution_count": 108,
   "metadata": {},
   "outputs": [
    {
     "data": {
      "text/html": [
       "1828.8548918638"
      ],
      "text/latex": [
       "1828.8548918638"
      ],
      "text/markdown": [
       "1828.8548918638"
      ],
      "text/plain": [
       "[1] 1828.855"
      ]
     },
     "metadata": {},
     "output_type": "display_data"
    }
   ],
   "source": [
    "rainseriesforecasts$SSE"
   ]
  },
  {
   "cell_type": "markdown",
   "metadata": {},
   "source": [
    "That is, here the sum-of-squared-errors is 1828.855.\n",
    "\n",
    "It is common in simple exponential smoothing to use the first value in the time series as the initial value for the level. For example, in the time series for rainfall in London, the first value is 23.56 (inches) for rainfall in 1813. You can specify the initial value for the level in the HoltWinters() function by using the “l.start” parameter. For example, to make forecasts with the initial value of the level set to 23.56, we type:"
   ]
  },
  {
   "cell_type": "code",
   "execution_count": 110,
   "metadata": {},
   "outputs": [
    {
     "data": {
      "text/html": [
       "<ol class=list-inline>\n",
       "\t<li>23.56</li>\n",
       "\t<li>26.07</li>\n",
       "\t<li>21.86</li>\n",
       "\t<li>31.24</li>\n",
       "\t<li>23.65</li>\n",
       "\t<li>23.88</li>\n",
       "\t<li>26.41</li>\n",
       "\t<li>22.67</li>\n",
       "\t<li>31.69</li>\n",
       "\t<li>23.86</li>\n",
       "\t<li>24.11</li>\n",
       "\t<li>32.43</li>\n",
       "\t<li>23.26</li>\n",
       "\t<li>22.57</li>\n",
       "\t<li>23</li>\n",
       "\t<li>27.88</li>\n",
       "\t<li>25.32</li>\n",
       "\t<li>25.08</li>\n",
       "\t<li>27.76</li>\n",
       "\t<li>19.82</li>\n",
       "\t<li>24.78</li>\n",
       "\t<li>20.12</li>\n",
       "\t<li>24.34</li>\n",
       "\t<li>27.42</li>\n",
       "\t<li>19.44</li>\n",
       "\t<li>21.63</li>\n",
       "\t<li>27.49</li>\n",
       "\t<li>19.43</li>\n",
       "\t<li>31.13</li>\n",
       "\t<li>23.09</li>\n",
       "\t<li>25.85</li>\n",
       "\t<li>22.65</li>\n",
       "\t<li>22.75</li>\n",
       "\t<li>26.36</li>\n",
       "\t<li>17.7</li>\n",
       "\t<li>29.81</li>\n",
       "\t<li>22.93</li>\n",
       "\t<li>19.22</li>\n",
       "\t<li>20.63</li>\n",
       "\t<li>35.34</li>\n",
       "\t<li>25.89</li>\n",
       "\t<li>18.65</li>\n",
       "\t<li>23.06</li>\n",
       "\t<li>22.21</li>\n",
       "\t<li>22.18</li>\n",
       "\t<li>18.77</li>\n",
       "\t<li>28.21</li>\n",
       "\t<li>32.24</li>\n",
       "\t<li>22.27</li>\n",
       "\t<li>27.57</li>\n",
       "\t<li>21.59</li>\n",
       "\t<li>16.93</li>\n",
       "\t<li>29.48</li>\n",
       "\t<li>31.6</li>\n",
       "\t<li>26.25</li>\n",
       "\t<li>23.4</li>\n",
       "\t<li>25.42</li>\n",
       "\t<li>21.32</li>\n",
       "\t<li>25.02</li>\n",
       "\t<li>33.86</li>\n",
       "\t<li>22.67</li>\n",
       "\t<li>18.82</li>\n",
       "\t<li>28.44</li>\n",
       "\t<li>26.16</li>\n",
       "\t<li>28.17</li>\n",
       "\t<li>34.08</li>\n",
       "\t<li>33.82</li>\n",
       "\t<li>30.28</li>\n",
       "\t<li>27.92</li>\n",
       "\t<li>27.14</li>\n",
       "\t<li>24.4</li>\n",
       "\t<li>20.35</li>\n",
       "\t<li>26.64</li>\n",
       "\t<li>27.01</li>\n",
       "\t<li>19.21</li>\n",
       "\t<li>27.74</li>\n",
       "\t<li>23.85</li>\n",
       "\t<li>21.23</li>\n",
       "\t<li>28.15</li>\n",
       "\t<li>22.61</li>\n",
       "\t<li>19.8</li>\n",
       "\t<li>27.94</li>\n",
       "\t<li>21.47</li>\n",
       "\t<li>23.52</li>\n",
       "\t<li>22.86</li>\n",
       "\t<li>17.69</li>\n",
       "\t<li>22.54</li>\n",
       "\t<li>23.28</li>\n",
       "\t<li>22.17</li>\n",
       "\t<li>20.84</li>\n",
       "\t<li>38.1</li>\n",
       "\t<li>20.65</li>\n",
       "\t<li>22.97</li>\n",
       "\t<li>24.26</li>\n",
       "\t<li>23.01</li>\n",
       "\t<li>23.67</li>\n",
       "\t<li>26.75</li>\n",
       "\t<li>25.36</li>\n",
       "\t<li>24.79</li>\n",
       "\t<li>27.88</li>\n",
       "</ol>\n"
      ],
      "text/latex": [
       "\\begin{enumerate*}\n",
       "\\item 23.56\n",
       "\\item 26.07\n",
       "\\item 21.86\n",
       "\\item 31.24\n",
       "\\item 23.65\n",
       "\\item 23.88\n",
       "\\item 26.41\n",
       "\\item 22.67\n",
       "\\item 31.69\n",
       "\\item 23.86\n",
       "\\item 24.11\n",
       "\\item 32.43\n",
       "\\item 23.26\n",
       "\\item 22.57\n",
       "\\item 23\n",
       "\\item 27.88\n",
       "\\item 25.32\n",
       "\\item 25.08\n",
       "\\item 27.76\n",
       "\\item 19.82\n",
       "\\item 24.78\n",
       "\\item 20.12\n",
       "\\item 24.34\n",
       "\\item 27.42\n",
       "\\item 19.44\n",
       "\\item 21.63\n",
       "\\item 27.49\n",
       "\\item 19.43\n",
       "\\item 31.13\n",
       "\\item 23.09\n",
       "\\item 25.85\n",
       "\\item 22.65\n",
       "\\item 22.75\n",
       "\\item 26.36\n",
       "\\item 17.7\n",
       "\\item 29.81\n",
       "\\item 22.93\n",
       "\\item 19.22\n",
       "\\item 20.63\n",
       "\\item 35.34\n",
       "\\item 25.89\n",
       "\\item 18.65\n",
       "\\item 23.06\n",
       "\\item 22.21\n",
       "\\item 22.18\n",
       "\\item 18.77\n",
       "\\item 28.21\n",
       "\\item 32.24\n",
       "\\item 22.27\n",
       "\\item 27.57\n",
       "\\item 21.59\n",
       "\\item 16.93\n",
       "\\item 29.48\n",
       "\\item 31.6\n",
       "\\item 26.25\n",
       "\\item 23.4\n",
       "\\item 25.42\n",
       "\\item 21.32\n",
       "\\item 25.02\n",
       "\\item 33.86\n",
       "\\item 22.67\n",
       "\\item 18.82\n",
       "\\item 28.44\n",
       "\\item 26.16\n",
       "\\item 28.17\n",
       "\\item 34.08\n",
       "\\item 33.82\n",
       "\\item 30.28\n",
       "\\item 27.92\n",
       "\\item 27.14\n",
       "\\item 24.4\n",
       "\\item 20.35\n",
       "\\item 26.64\n",
       "\\item 27.01\n",
       "\\item 19.21\n",
       "\\item 27.74\n",
       "\\item 23.85\n",
       "\\item 21.23\n",
       "\\item 28.15\n",
       "\\item 22.61\n",
       "\\item 19.8\n",
       "\\item 27.94\n",
       "\\item 21.47\n",
       "\\item 23.52\n",
       "\\item 22.86\n",
       "\\item 17.69\n",
       "\\item 22.54\n",
       "\\item 23.28\n",
       "\\item 22.17\n",
       "\\item 20.84\n",
       "\\item 38.1\n",
       "\\item 20.65\n",
       "\\item 22.97\n",
       "\\item 24.26\n",
       "\\item 23.01\n",
       "\\item 23.67\n",
       "\\item 26.75\n",
       "\\item 25.36\n",
       "\\item 24.79\n",
       "\\item 27.88\n",
       "\\end{enumerate*}\n"
      ],
      "text/markdown": [
       "1. 23.56\n",
       "2. 26.07\n",
       "3. 21.86\n",
       "4. 31.24\n",
       "5. 23.65\n",
       "6. 23.88\n",
       "7. 26.41\n",
       "8. 22.67\n",
       "9. 31.69\n",
       "10. 23.86\n",
       "11. 24.11\n",
       "12. 32.43\n",
       "13. 23.26\n",
       "14. 22.57\n",
       "15. 23\n",
       "16. 27.88\n",
       "17. 25.32\n",
       "18. 25.08\n",
       "19. 27.76\n",
       "20. 19.82\n",
       "21. 24.78\n",
       "22. 20.12\n",
       "23. 24.34\n",
       "24. 27.42\n",
       "25. 19.44\n",
       "26. 21.63\n",
       "27. 27.49\n",
       "28. 19.43\n",
       "29. 31.13\n",
       "30. 23.09\n",
       "31. 25.85\n",
       "32. 22.65\n",
       "33. 22.75\n",
       "34. 26.36\n",
       "35. 17.7\n",
       "36. 29.81\n",
       "37. 22.93\n",
       "38. 19.22\n",
       "39. 20.63\n",
       "40. 35.34\n",
       "41. 25.89\n",
       "42. 18.65\n",
       "43. 23.06\n",
       "44. 22.21\n",
       "45. 22.18\n",
       "46. 18.77\n",
       "47. 28.21\n",
       "48. 32.24\n",
       "49. 22.27\n",
       "50. 27.57\n",
       "51. 21.59\n",
       "52. 16.93\n",
       "53. 29.48\n",
       "54. 31.6\n",
       "55. 26.25\n",
       "56. 23.4\n",
       "57. 25.42\n",
       "58. 21.32\n",
       "59. 25.02\n",
       "60. 33.86\n",
       "61. 22.67\n",
       "62. 18.82\n",
       "63. 28.44\n",
       "64. 26.16\n",
       "65. 28.17\n",
       "66. 34.08\n",
       "67. 33.82\n",
       "68. 30.28\n",
       "69. 27.92\n",
       "70. 27.14\n",
       "71. 24.4\n",
       "72. 20.35\n",
       "73. 26.64\n",
       "74. 27.01\n",
       "75. 19.21\n",
       "76. 27.74\n",
       "77. 23.85\n",
       "78. 21.23\n",
       "79. 28.15\n",
       "80. 22.61\n",
       "81. 19.8\n",
       "82. 27.94\n",
       "83. 21.47\n",
       "84. 23.52\n",
       "85. 22.86\n",
       "86. 17.69\n",
       "87. 22.54\n",
       "88. 23.28\n",
       "89. 22.17\n",
       "90. 20.84\n",
       "91. 38.1\n",
       "92. 20.65\n",
       "93. 22.97\n",
       "94. 24.26\n",
       "95. 23.01\n",
       "96. 23.67\n",
       "97. 26.75\n",
       "98. 25.36\n",
       "99. 24.79\n",
       "100. 27.88\n",
       "\n",
       "\n"
      ],
      "text/plain": [
       "  [1] 23.56 26.07 21.86 31.24 23.65 23.88 26.41 22.67 31.69 23.86 24.11 32.43\n",
       " [13] 23.26 22.57 23.00 27.88 25.32 25.08 27.76 19.82 24.78 20.12 24.34 27.42\n",
       " [25] 19.44 21.63 27.49 19.43 31.13 23.09 25.85 22.65 22.75 26.36 17.70 29.81\n",
       " [37] 22.93 19.22 20.63 35.34 25.89 18.65 23.06 22.21 22.18 18.77 28.21 32.24\n",
       " [49] 22.27 27.57 21.59 16.93 29.48 31.60 26.25 23.40 25.42 21.32 25.02 33.86\n",
       " [61] 22.67 18.82 28.44 26.16 28.17 34.08 33.82 30.28 27.92 27.14 24.40 20.35\n",
       " [73] 26.64 27.01 19.21 27.74 23.85 21.23 28.15 22.61 19.80 27.94 21.47 23.52\n",
       " [85] 22.86 17.69 22.54 23.28 22.17 20.84 38.10 20.65 22.97 24.26 23.01 23.67\n",
       " [97] 26.75 25.36 24.79 27.88"
      ]
     },
     "metadata": {},
     "output_type": "display_data"
    }
   ],
   "source": [
    "rain"
   ]
  },
  {
   "cell_type": "code",
   "execution_count": 109,
   "metadata": {},
   "outputs": [
    {
     "data": {
      "text/plain": [
       "Holt-Winters exponential smoothing without trend and without seasonal component.\n",
       "\n",
       "Call:\n",
       "HoltWinters(x = rainseries, beta = FALSE, gamma = FALSE, l.start = 23.56)\n",
       "\n",
       "Smoothing parameters:\n",
       " alpha: 0.02412151\n",
       " beta : FALSE\n",
       " gamma: FALSE\n",
       "\n",
       "Coefficients:\n",
       "      [,1]\n",
       "a 24.67819"
      ]
     },
     "metadata": {},
     "output_type": "display_data"
    }
   ],
   "source": [
    "HoltWinters(rainseries, beta=FALSE, gamma=FALSE, l.start=23.56)"
   ]
  },
  {
   "cell_type": "markdown",
   "metadata": {},
   "source": [
    "As explained above, by default HoltWinters() just makes forecasts for the time period covered by the original data, which is 1813-1912 for the rainfall time series. We can make forecasts for further time points by using the “forecast.HoltWinters()” function in the R “forecast” package. "
   ]
  },
  {
   "cell_type": "code",
   "execution_count": 116,
   "metadata": {},
   "outputs": [],
   "source": [
    "library(\"forecast\")"
   ]
  },
  {
   "cell_type": "markdown",
   "metadata": {},
   "source": [
    "When using the forecast.HoltWinters() function, as its first argument (input), you pass it the predictive model that you have already fitted using the HoltWinters() function. For example, in the case of the rainfall time series, we stored the predictive model made using HoltWinters() in the variable “rainseriesforecasts”. You specify how many further time points you want to make forecasts for by using the “h” parameter in forecast.HoltWinters(). For example, to make a forecast of rainfall for the years 1814-1820 (8 more years) using forecast.HoltWinters(), we type:"
   ]
  },
  {
   "cell_type": "code",
   "execution_count": 121,
   "metadata": {},
   "outputs": [
    {
     "data": {
      "text/plain": [
       "     Point Forecast    Lo 80    Hi 80    Lo 95    Hi 95\n",
       "1913       24.67819 19.17493 30.18145 16.26169 33.09470\n",
       "1914       24.67819 19.17333 30.18305 16.25924 33.09715\n",
       "1915       24.67819 19.17173 30.18465 16.25679 33.09960\n",
       "1916       24.67819 19.17013 30.18625 16.25434 33.10204\n",
       "1917       24.67819 19.16853 30.18785 16.25190 33.10449\n",
       "1918       24.67819 19.16694 30.18945 16.24945 33.10694\n",
       "1919       24.67819 19.16534 30.19105 16.24701 33.10938\n",
       "1920       24.67819 19.16374 30.19265 16.24456 33.11182"
      ]
     },
     "metadata": {},
     "output_type": "display_data"
    }
   ],
   "source": [
    "rainseriesforecasts2 <- forecast:::forecast.HoltWinters(rainseriesforecasts, h=8)\n",
    "rainseriesforecasts2"
   ]
  },
  {
   "cell_type": "markdown",
   "metadata": {},
   "source": [
    "The forecast.HoltWinters() function gives you the forecast for a year, a 80% prediction interval for the forecast, and a 95% prediction interval for the forecast. For example, the forecasted rainfall for 1920 is about 24.68 inches, with a 95% prediction interval of (16.24, 33.11)."
   ]
  },
  {
   "cell_type": "code",
   "execution_count": 124,
   "metadata": {},
   "outputs": [
    {
     "data": {
      "image/png": "[encoded data removed]",
      "text/plain": [
       "Plot with title \"Forecasts from HoltWinters\""
      ]
     },
     "metadata": {},
     "output_type": "display_data"
    }
   ],
   "source": [
    "forecast:::plot.forecast(rainseriesforecasts2)"
   ]
  },
  {
   "cell_type": "markdown",
   "metadata": {},
   "source": [
    "Here the forecasts for 1913-1920 are plotted as a blue line, the 80% prediction interval as an purple shaded area, and the 95% prediction interval as a gray shaded area."
   ]
  },
  {
   "cell_type": "code",
   "execution_count": null,
   "metadata": {
    "collapsed": true
   },
   "outputs": [],
   "source": []
  }
 ],
 "metadata": {
  "kernelspec": {
   "display_name": "R",
   "language": "R",
   "name": "ir"
  },
  "language_info": {
   "codemirror_mode": "r",
   "file_extension": ".r",
   "mimetype": "text/x-r-source",
   "name": "R",
   "pygments_lexer": "r",
   "version": "3.4.3"
  }
 },
 "nbformat": 4,
 "nbformat_minor": 2
}
