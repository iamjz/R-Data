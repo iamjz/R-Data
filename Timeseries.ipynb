{
 "cells": [
  {
   "cell_type": "markdown",
   "metadata": {},
   "source": [
    "# Time Series"
   ]
  },
  {
   "cell_type": "code",
   "execution_count": 540,
   "metadata": {},
   "outputs": [],
   "source": [
    "kings <- scan(\"http://robjhyndman.com/tsdldata/misc/kings.dat\",skip=3)"
   ]
  },
  {
   "cell_type": "code",
   "execution_count": 541,
   "metadata": {},
   "outputs": [
    {
     "data": {
      "text/html": [
       "<ol class=list-inline>\n",
       "\t<li>60</li>\n",
       "\t<li>43</li>\n",
       "\t<li>67</li>\n",
       "\t<li>50</li>\n",
       "\t<li>56</li>\n",
       "\t<li>42</li>\n",
       "\t<li>50</li>\n",
       "\t<li>65</li>\n",
       "\t<li>68</li>\n",
       "\t<li>43</li>\n",
       "</ol>\n"
      ],
      "text/latex": [
       "\\begin{enumerate*}\n",
       "\\item 60\n",
       "\\item 43\n",
       "\\item 67\n",
       "\\item 50\n",
       "\\item 56\n",
       "\\item 42\n",
       "\\item 50\n",
       "\\item 65\n",
       "\\item 68\n",
       "\\item 43\n",
       "\\end{enumerate*}\n"
      ],
      "text/markdown": [
       "1. 60\n",
       "2. 43\n",
       "3. 67\n",
       "4. 50\n",
       "5. 56\n",
       "6. 42\n",
       "7. 50\n",
       "8. 65\n",
       "9. 68\n",
       "10. 43\n",
       "\n",
       "\n"
      ],
      "text/plain": [
       " [1] 60 43 67 50 56 42 50 65 68 43"
      ]
     },
     "metadata": {},
     "output_type": "display_data"
    }
   ],
   "source": [
    "kings[1:10]"
   ]
  },
  {
   "cell_type": "code",
   "execution_count": 542,
   "metadata": {},
   "outputs": [
    {
     "data": {
      "text/html": [
       "<ol class=list-inline>\n",
       "\t<li>60</li>\n",
       "\t<li>43</li>\n",
       "\t<li>67</li>\n",
       "\t<li>50</li>\n",
       "\t<li>56</li>\n",
       "\t<li>42</li>\n",
       "\t<li>50</li>\n",
       "\t<li>65</li>\n",
       "\t<li>68</li>\n",
       "\t<li>43</li>\n",
       "</ol>\n"
      ],
      "text/latex": [
       "\\begin{enumerate*}\n",
       "\\item 60\n",
       "\\item 43\n",
       "\\item 67\n",
       "\\item 50\n",
       "\\item 56\n",
       "\\item 42\n",
       "\\item 50\n",
       "\\item 65\n",
       "\\item 68\n",
       "\\item 43\n",
       "\\end{enumerate*}\n"
      ],
      "text/markdown": [
       "1. 60\n",
       "2. 43\n",
       "3. 67\n",
       "4. 50\n",
       "5. 56\n",
       "6. 42\n",
       "7. 50\n",
       "8. 65\n",
       "9. 68\n",
       "10. 43\n",
       "\n",
       "\n"
      ],
      "text/plain": [
       " [1] 60 43 67 50 56 42 50 65 68 43"
      ]
     },
     "metadata": {},
     "output_type": "display_data"
    }
   ],
   "source": [
    "kingstimeseries <- ts(kings)\n",
    "\n",
    "kingstimeseries[1:10]"
   ]
  },
  {
   "cell_type": "code",
   "execution_count": 543,
   "metadata": {},
   "outputs": [],
   "source": [
    "births <- scan(\"http://robjhyndman.com/tsdldata/data/nybirths.dat\")"
   ]
  },
  {
   "cell_type": "code",
   "execution_count": 544,
   "metadata": {},
   "outputs": [
    {
     "data": {
      "text/html": [
       "<ol class=list-inline>\n",
       "\t<li>26.663</li>\n",
       "\t<li>23.598</li>\n",
       "\t<li>26.931</li>\n",
       "\t<li>24.74</li>\n",
       "\t<li>25.806</li>\n",
       "\t<li>24.364</li>\n",
       "\t<li>24.477</li>\n",
       "\t<li>23.901</li>\n",
       "\t<li>23.175</li>\n",
       "\t<li>23.227</li>\n",
       "</ol>\n"
      ],
      "text/latex": [
       "\\begin{enumerate*}\n",
       "\\item 26.663\n",
       "\\item 23.598\n",
       "\\item 26.931\n",
       "\\item 24.74\n",
       "\\item 25.806\n",
       "\\item 24.364\n",
       "\\item 24.477\n",
       "\\item 23.901\n",
       "\\item 23.175\n",
       "\\item 23.227\n",
       "\\end{enumerate*}\n"
      ],
      "text/markdown": [
       "1. 26.663\n",
       "2. 23.598\n",
       "3. 26.931\n",
       "4. 24.74\n",
       "5. 25.806\n",
       "6. 24.364\n",
       "7. 24.477\n",
       "8. 23.901\n",
       "9. 23.175\n",
       "10. 23.227\n",
       "\n",
       "\n"
      ],
      "text/plain": [
       " [1] 26.663 23.598 26.931 24.740 25.806 24.364 24.477 23.901 23.175 23.227"
      ]
     },
     "metadata": {},
     "output_type": "display_data"
    }
   ],
   "source": [
    "births[1:10]"
   ]
  },
  {
   "cell_type": "code",
   "execution_count": 545,
   "metadata": {},
   "outputs": [
    {
     "data": {
      "text/html": [
       "168"
      ],
      "text/latex": [
       "168"
      ],
      "text/markdown": [
       "168"
      ],
      "text/plain": [
       "[1] 168"
      ]
     },
     "metadata": {},
     "output_type": "display_data"
    }
   ],
   "source": [
    "length(births)"
   ]
  },
  {
   "cell_type": "code",
   "execution_count": 546,
   "metadata": {},
   "outputs": [
    {
     "data": {
      "text/html": [
       "<ol class=list-inline>\n",
       "\t<li>26.663</li>\n",
       "\t<li>23.598</li>\n",
       "\t<li>26.931</li>\n",
       "\t<li>24.74</li>\n",
       "\t<li>25.806</li>\n",
       "\t<li>24.364</li>\n",
       "\t<li>24.477</li>\n",
       "\t<li>23.901</li>\n",
       "\t<li>23.175</li>\n",
       "\t<li>23.227</li>\n",
       "</ol>\n"
      ],
      "text/latex": [
       "\\begin{enumerate*}\n",
       "\\item 26.663\n",
       "\\item 23.598\n",
       "\\item 26.931\n",
       "\\item 24.74\n",
       "\\item 25.806\n",
       "\\item 24.364\n",
       "\\item 24.477\n",
       "\\item 23.901\n",
       "\\item 23.175\n",
       "\\item 23.227\n",
       "\\end{enumerate*}\n"
      ],
      "text/markdown": [
       "1. 26.663\n",
       "2. 23.598\n",
       "3. 26.931\n",
       "4. 24.74\n",
       "5. 25.806\n",
       "6. 24.364\n",
       "7. 24.477\n",
       "8. 23.901\n",
       "9. 23.175\n",
       "10. 23.227\n",
       "\n",
       "\n"
      ],
      "text/plain": [
       " [1] 26.663 23.598 26.931 24.740 25.806 24.364 24.477 23.901 23.175 23.227"
      ]
     },
     "metadata": {},
     "output_type": "display_data"
    }
   ],
   "source": [
    "birthtimeseries <- ts(births, frequency=12, start=c(1946, 1))\n",
    "\n",
    "birthtimeseries[1:10]"
   ]
  },
  {
   "cell_type": "code",
   "execution_count": 547,
   "metadata": {},
   "outputs": [],
   "source": [
    "souvenir <- scan(\"http://robjhyndman.com/tsdldata/data/fancy.dat\")"
   ]
  },
  {
   "cell_type": "code",
   "execution_count": 548,
   "metadata": {},
   "outputs": [
    {
     "data": {
      "text/html": [
       "<ol class=list-inline>\n",
       "\t<li>1664.81</li>\n",
       "\t<li>2397.53</li>\n",
       "\t<li>2840.71</li>\n",
       "\t<li>3547.29</li>\n",
       "\t<li>3752.96</li>\n",
       "\t<li>3714.74</li>\n",
       "\t<li>4349.61</li>\n",
       "\t<li>3566.34</li>\n",
       "\t<li>5021.82</li>\n",
       "\t<li>6423.48</li>\n",
       "</ol>\n"
      ],
      "text/latex": [
       "\\begin{enumerate*}\n",
       "\\item 1664.81\n",
       "\\item 2397.53\n",
       "\\item 2840.71\n",
       "\\item 3547.29\n",
       "\\item 3752.96\n",
       "\\item 3714.74\n",
       "\\item 4349.61\n",
       "\\item 3566.34\n",
       "\\item 5021.82\n",
       "\\item 6423.48\n",
       "\\end{enumerate*}\n"
      ],
      "text/markdown": [
       "1. 1664.81\n",
       "2. 2397.53\n",
       "3. 2840.71\n",
       "4. 3547.29\n",
       "5. 3752.96\n",
       "6. 3714.74\n",
       "7. 4349.61\n",
       "8. 3566.34\n",
       "9. 5021.82\n",
       "10. 6423.48\n",
       "\n",
       "\n"
      ],
      "text/plain": [
       " [1] 1664.81 2397.53 2840.71 3547.29 3752.96 3714.74 4349.61 3566.34 5021.82\n",
       "[10] 6423.48"
      ]
     },
     "metadata": {},
     "output_type": "display_data"
    }
   ],
   "source": [
    "souvenir[1:10]"
   ]
  },
  {
   "cell_type": "code",
   "execution_count": 549,
   "metadata": {},
   "outputs": [
    {
     "data": {
      "text/html": [
       "<ol class=list-inline>\n",
       "\t<li>1664.81</li>\n",
       "\t<li>2397.53</li>\n",
       "\t<li>2840.71</li>\n",
       "\t<li>3547.29</li>\n",
       "\t<li>3752.96</li>\n",
       "</ol>\n"
      ],
      "text/latex": [
       "\\begin{enumerate*}\n",
       "\\item 1664.81\n",
       "\\item 2397.53\n",
       "\\item 2840.71\n",
       "\\item 3547.29\n",
       "\\item 3752.96\n",
       "\\end{enumerate*}\n"
      ],
      "text/markdown": [
       "1. 1664.81\n",
       "2. 2397.53\n",
       "3. 2840.71\n",
       "4. 3547.29\n",
       "5. 3752.96\n",
       "\n",
       "\n"
      ],
      "text/plain": [
       "[1] 1664.81 2397.53 2840.71 3547.29 3752.96"
      ]
     },
     "metadata": {},
     "output_type": "display_data"
    }
   ],
   "source": [
    "souvenirtimeseries <- ts(souvenir, frequency=12, start=c(1978,1))\n",
    "souvenirtimeseries[1:5]"
   ]
  },
  {
   "cell_type": "code",
   "execution_count": 550,
   "metadata": {},
   "outputs": [
    {
     "data": {
      "image/png": "[encoded data removed]",
      "text/plain": [
       "plot without title"
      ]
     },
     "metadata": {},
     "output_type": "display_data"
    }
   ],
   "source": [
    "plot.ts(kingstimeseries)"
   ]
  },
  {
   "cell_type": "code",
   "execution_count": 551,
   "metadata": {},
   "outputs": [
    {
     "data": {
      "image/png": "[encoded data removed]",
      "text/plain": [
       "plot without title"
      ]
     },
     "metadata": {},
     "output_type": "display_data"
    }
   ],
   "source": [
    "plot.ts(birthtimeseries)"
   ]
  },
  {
   "cell_type": "code",
   "execution_count": 552,
   "metadata": {},
   "outputs": [
    {
     "data": {
      "image/png": "[encoded data removed]",
      "text/plain": [
       "plot without title"
      ]
     },
     "metadata": {},
     "output_type": "display_data"
    }
   ],
   "source": [
    "plot.ts(souvenirtimeseries)"
   ]
  },
  {
   "cell_type": "markdown",
   "metadata": {},
   "source": [
    "Not an additive time series. Let's transform it in order to get a transformed time series that can be described using an additive model."
   ]
  },
  {
   "cell_type": "code",
   "execution_count": 553,
   "metadata": {},
   "outputs": [
    {
     "data": {
      "text/html": [
       "<ol class=list-inline>\n",
       "\t<li>7.41746628178892</li>\n",
       "\t<li>7.78219431971372</li>\n",
       "\t<li>7.95180929991046</li>\n",
       "\t<li>8.17393921066467</li>\n",
       "\t<li>8.23030014093807</li>\n",
       "\t<li>8.22006396816164</li>\n",
       "\t<li>8.37784146489105</li>\n",
       "\t<li>8.17929513880233</li>\n",
       "\t<li>8.52154769678127</li>\n",
       "\t<li>8.76771530589945</li>\n",
       "</ol>\n"
      ],
      "text/latex": [
       "\\begin{enumerate*}\n",
       "\\item 7.41746628178892\n",
       "\\item 7.78219431971372\n",
       "\\item 7.95180929991046\n",
       "\\item 8.17393921066467\n",
       "\\item 8.23030014093807\n",
       "\\item 8.22006396816164\n",
       "\\item 8.37784146489105\n",
       "\\item 8.17929513880233\n",
       "\\item 8.52154769678127\n",
       "\\item 8.76771530589945\n",
       "\\end{enumerate*}\n"
      ],
      "text/markdown": [
       "1. 7.41746628178892\n",
       "2. 7.78219431971372\n",
       "3. 7.95180929991046\n",
       "4. 8.17393921066467\n",
       "5. 8.23030014093807\n",
       "6. 8.22006396816164\n",
       "7. 8.37784146489105\n",
       "8. 8.17929513880233\n",
       "9. 8.52154769678127\n",
       "10. 8.76771530589945\n",
       "\n",
       "\n"
      ],
      "text/plain": [
       " [1] 7.417466 7.782194 7.951809 8.173939 8.230300 8.220064 8.377841 8.179295\n",
       " [9] 8.521548 8.767715"
      ]
     },
     "metadata": {},
     "output_type": "display_data"
    }
   ],
   "source": [
    "souvenirtimeseries_logged <- log(souvenirtimeseries)\n",
    "souvenirtimeseries_logged[1:10]"
   ]
  },
  {
   "cell_type": "code",
   "execution_count": 554,
   "metadata": {},
   "outputs": [
    {
     "data": {
      "image/png": "[encoded data removed]",
      "text/plain": [
       "plot without title"
      ]
     },
     "metadata": {},
     "output_type": "display_data"
    }
   ],
   "source": [
    "plot.ts(souvenirtimeseries_logged)"
   ]
  },
  {
   "cell_type": "markdown",
   "metadata": {},
   "source": [
    "Here we can see that the size of the seasonal fluctuations and random fluctuations in the log-transformed time series seem to be roughly constant over time and do not depend on the level of the time series. Thus, the log-transformed time series can probably be described using an additive model"
   ]
  },
  {
   "cell_type": "markdown",
   "metadata": {},
   "source": [
    "# Decomposing Non-Seasonal Data"
   ]
  },
  {
   "cell_type": "code",
   "execution_count": 555,
   "metadata": {},
   "outputs": [],
   "source": [
    "library(\"TTR\")"
   ]
  },
  {
   "cell_type": "code",
   "execution_count": 556,
   "metadata": {},
   "outputs": [
    {
     "data": {
      "image/png": "[encoded data removed]",
      "text/plain": [
       "plot without title"
      ]
     },
     "metadata": {},
     "output_type": "display_data"
    }
   ],
   "source": [
    "plot.ts(kingstimeseries)"
   ]
  },
  {
   "cell_type": "markdown",
   "metadata": {},
   "source": [
    "We can try to estimate the trend component of this time series by smoothing using a simple moving average. To smooth the time series using a SMA order of 3..."
   ]
  },
  {
   "cell_type": "code",
   "execution_count": 557,
   "metadata": {},
   "outputs": [
    {
     "data": {
      "image/png": "[encoded data removed]",
      "text/plain": [
       "plot without title"
      ]
     },
     "metadata": {},
     "output_type": "display_data"
    }
   ],
   "source": [
    "kingstimeseriesSMA3 <- SMA(kingstimeseries, n = 3)\n",
    "plot.ts(kingstimeseriesSMA3)"
   ]
  },
  {
   "cell_type": "markdown",
   "metadata": {},
   "source": [
    "There's still quite a bit of random fluctuations in the ts that's smoothed using a simple moving average of order 3. To estimate the trend component more accurately, we might want to try smoothing the data with a simple moving average of a higher order. "
   ]
  },
  {
   "cell_type": "code",
   "execution_count": 558,
   "metadata": {},
   "outputs": [
    {
     "data": {
      "image/png": "[encoded data removed]",
      "text/plain": [
       "plot without title"
      ]
     },
     "metadata": {},
     "output_type": "display_data"
    }
   ],
   "source": [
    "kingstimeseriesSMA8 <- SMA(kingstimeseries,n=8)\n",
    "plot.ts(kingstimeseriesSMA8)"
   ]
  },
  {
   "cell_type": "markdown",
   "metadata": {},
   "source": [
    "An order of 8 gives a clearer picture of the trend component and we can see that the age of death of the English kings seems to have decreased from about 55 years old to about 38 years old during the reign of the first 20 kings then icnreased to about 73 years old by the end of the 40th king era. "
   ]
  },
  {
   "cell_type": "markdown",
   "metadata": {},
   "source": [
    "# Decomposing Seasonal Data"
   ]
  },
  {
   "cell_type": "code",
   "execution_count": 559,
   "metadata": {},
   "outputs": [
    {
     "data": {
      "image/png": "[encoded data removed]",
      "text/plain": [
       "plot without title"
      ]
     },
     "metadata": {},
     "output_type": "display_data"
    }
   ],
   "source": [
    "plot.ts(birthtimeseries)"
   ]
  },
  {
   "cell_type": "code",
   "execution_count": 560,
   "metadata": {
    "scrolled": false
   },
   "outputs": [],
   "source": [
    "birthstimeseriescomponents <- decompose(birthtimeseries)"
   ]
  },
  {
   "cell_type": "markdown",
   "metadata": {},
   "source": [
    "The estimated values of the seasonal, trend and irregular components are now stored in variables birthstimeseriescomponents$seasonal, birthstimeseriescomponents$trend and birthstimeseriescomponents$random."
   ]
  },
  {
   "cell_type": "code",
   "execution_count": 561,
   "metadata": {},
   "outputs": [
    {
     "data": {
      "text/html": [
       "<ol class=list-inline>\n",
       "\t<li>'x'</li>\n",
       "\t<li>'seasonal'</li>\n",
       "\t<li>'trend'</li>\n",
       "\t<li>'random'</li>\n",
       "\t<li>'figure'</li>\n",
       "\t<li>'type'</li>\n",
       "</ol>\n"
      ],
      "text/latex": [
       "\\begin{enumerate*}\n",
       "\\item 'x'\n",
       "\\item 'seasonal'\n",
       "\\item 'trend'\n",
       "\\item 'random'\n",
       "\\item 'figure'\n",
       "\\item 'type'\n",
       "\\end{enumerate*}\n"
      ],
      "text/markdown": [
       "1. 'x'\n",
       "2. 'seasonal'\n",
       "3. 'trend'\n",
       "4. 'random'\n",
       "5. 'figure'\n",
       "6. 'type'\n",
       "\n",
       "\n"
      ],
      "text/plain": [
       "[1] \"x\"        \"seasonal\" \"trend\"    \"random\"   \"figure\"   \"type\"    "
      ]
     },
     "metadata": {},
     "output_type": "display_data"
    }
   ],
   "source": [
    "names(birthstimeseriescomponents)"
   ]
  },
  {
   "cell_type": "code",
   "execution_count": 562,
   "metadata": {},
   "outputs": [
    {
     "data": {
      "text/html": [
       "<ol class=list-inline>\n",
       "\t<li>-0.67719471153846</li>\n",
       "\t<li>-2.08296073717949</li>\n",
       "\t<li>0.862523237179487</li>\n",
       "\t<li>-0.801678685897437</li>\n",
       "\t<li>0.251651442307693</li>\n",
       "\t<li>-0.153255608974358</li>\n",
       "\t<li>1.45604567307692</li>\n",
       "\t<li>1.16459375</li>\n",
       "\t<li>0.691616185897435</li>\n",
       "\t<li>0.77524439102564</li>\n",
       "</ol>\n"
      ],
      "text/latex": [
       "\\begin{enumerate*}\n",
       "\\item -0.67719471153846\n",
       "\\item -2.08296073717949\n",
       "\\item 0.862523237179487\n",
       "\\item -0.801678685897437\n",
       "\\item 0.251651442307693\n",
       "\\item -0.153255608974358\n",
       "\\item 1.45604567307692\n",
       "\\item 1.16459375\n",
       "\\item 0.691616185897435\n",
       "\\item 0.77524439102564\n",
       "\\end{enumerate*}\n"
      ],
      "text/markdown": [
       "1. -0.67719471153846\n",
       "2. -2.08296073717949\n",
       "3. 0.862523237179487\n",
       "4. -0.801678685897437\n",
       "5. 0.251651442307693\n",
       "6. -0.153255608974358\n",
       "7. 1.45604567307692\n",
       "8. 1.16459375\n",
       "9. 0.691616185897435\n",
       "10. 0.77524439102564\n",
       "\n",
       "\n"
      ],
      "text/plain": [
       " [1] -0.6771947 -2.0829607  0.8625232 -0.8016787  0.2516514 -0.1532556\n",
       " [7]  1.4560457  1.1645938  0.6916162  0.7752444"
      ]
     },
     "metadata": {},
     "output_type": "display_data"
    }
   ],
   "source": [
    "# get the estimated values of the seasonal component\n",
    "birthstimeseriescomponents$seasonal[1:10]"
   ]
  },
  {
   "cell_type": "markdown",
   "metadata": {},
   "source": [
    "The estimated seasonal factors are given for the months January-December, and are the same for each year. The largest seasonal factor is for July (about 1.46), and the lowest is for February (about -2.08), indicating that there seems to be a peak in births in July and a trough in births in February each year."
   ]
  },
  {
   "cell_type": "code",
   "execution_count": 563,
   "metadata": {},
   "outputs": [
    {
     "data": {
      "image/png": "[encoded data removed]",
      "text/plain": [
       "plot without title"
      ]
     },
     "metadata": {},
     "output_type": "display_data"
    }
   ],
   "source": [
    "plot(birthstimeseriescomponents)"
   ]
  },
  {
   "cell_type": "markdown",
   "metadata": {},
   "source": [
    "The plot above shows the original time series (top), the estimated trend component (second from top), the estimated seasonal component (third from top), and the estimated irregular component (bottom). We see that the estimated trend component shows a small decrease from about 24 in 1947 to about 22 in 1948, followed by a steady increase from then on to about 27 in 1959."
   ]
  },
  {
   "cell_type": "markdown",
   "metadata": {},
   "source": [
    "## Seasonally Adjusting\n",
    "If you have a seasonal time series that can be described using an additive model, you can seasonally adjust the time series by estimating the seasonal component, and subtracting the estimated seasonal component from the original time series. We can do this using the estimate of the seasonal component calculated by the “decompose()” function.\n",
    "\n",
    "For example, to seasonally adjust the time series of the number of births per month in New York city, we can estimate the seasonal component using “decompose()”, and then subtract the seasonal component from the original time series:"
   ]
  },
  {
   "cell_type": "code",
   "execution_count": 564,
   "metadata": {},
   "outputs": [],
   "source": [
    "birthstimeseriescomponents <- decompose(birthtimeseries)\n",
    "birthstimeseriesseasonallyadjusted <- birthtimeseries - birthstimeseriescomponents$seasonal"
   ]
  },
  {
   "cell_type": "code",
   "execution_count": 565,
   "metadata": {},
   "outputs": [
    {
     "data": {
      "image/png": "[encoded data removed]",
      "text/plain": [
       "plot without title"
      ]
     },
     "metadata": {},
     "output_type": "display_data"
    }
   ],
   "source": [
    "plot(birthstimeseriesseasonallyadjusted)"
   ]
  },
  {
   "cell_type": "code",
   "execution_count": 566,
   "metadata": {},
   "outputs": [
    {
     "data": {
      "image/png": "[encoded data removed]",
      "text/plain": [
       "plot without title"
      ]
     },
     "metadata": {},
     "output_type": "display_data"
    }
   ],
   "source": [
    "plot(birthtimeseries)"
   ]
  },
  {
   "cell_type": "markdown",
   "metadata": {},
   "source": [
    "###  Forecasts using Exponential Smoothing\n",
    "Exponential smoothing can be used to make short-term forecasts for time series data."
   ]
  },
  {
   "cell_type": "markdown",
   "metadata": {},
   "source": [
    "#### Simple Exponential Smoothing\n",
    "\n",
    "If you have a time series that can be described using an additive model with constant level and no seasonality, you can use simple exponential smoothing to make short-term forecasts.\n",
    "\n",
    "The simple exponential smoothing method provides a way of estimating the level at the current time point. Smoothing is controlled by the parameter alpha; for the estimate of the level at the current time point. The value of alpha; lies between 0 and 1. Values of alpha that are close to 0 mean that little weight is placed on the most recent observations when making forecasts of future values."
   ]
  },
  {
   "cell_type": "code",
   "execution_count": 567,
   "metadata": {},
   "outputs": [],
   "source": [
    "rain <- scan(\"http://robjhyndman.com/tsdldata/hurst/precip1.dat\",skip=1)"
   ]
  },
  {
   "cell_type": "code",
   "execution_count": 568,
   "metadata": {},
   "outputs": [],
   "source": [
    "rainseries <- ts(rain, start=c(1813))"
   ]
  },
  {
   "cell_type": "code",
   "execution_count": 569,
   "metadata": {},
   "outputs": [
    {
     "data": {
      "text/html": [
       "<ol class=list-inline>\n",
       "\t<li>23.56</li>\n",
       "\t<li>26.07</li>\n",
       "\t<li>21.86</li>\n",
       "\t<li>31.24</li>\n",
       "\t<li>23.65</li>\n",
       "\t<li>23.88</li>\n",
       "\t<li>26.41</li>\n",
       "\t<li>22.67</li>\n",
       "\t<li>31.69</li>\n",
       "\t<li>23.86</li>\n",
       "</ol>\n"
      ],
      "text/latex": [
       "\\begin{enumerate*}\n",
       "\\item 23.56\n",
       "\\item 26.07\n",
       "\\item 21.86\n",
       "\\item 31.24\n",
       "\\item 23.65\n",
       "\\item 23.88\n",
       "\\item 26.41\n",
       "\\item 22.67\n",
       "\\item 31.69\n",
       "\\item 23.86\n",
       "\\end{enumerate*}\n"
      ],
      "text/markdown": [
       "1. 23.56\n",
       "2. 26.07\n",
       "3. 21.86\n",
       "4. 31.24\n",
       "5. 23.65\n",
       "6. 23.88\n",
       "7. 26.41\n",
       "8. 22.67\n",
       "9. 31.69\n",
       "10. 23.86\n",
       "\n",
       "\n"
      ],
      "text/plain": [
       " [1] 23.56 26.07 21.86 31.24 23.65 23.88 26.41 22.67 31.69 23.86"
      ]
     },
     "metadata": {},
     "output_type": "display_data"
    }
   ],
   "source": [
    "rainseries[1:10]"
   ]
  },
  {
   "cell_type": "code",
   "execution_count": 570,
   "metadata": {},
   "outputs": [
    {
     "data": {
      "text/html": [
       "100"
      ],
      "text/latex": [
       "100"
      ],
      "text/markdown": [
       "100"
      ],
      "text/plain": [
       "[1] 100"
      ]
     },
     "metadata": {},
     "output_type": "display_data"
    }
   ],
   "source": [
    "length(rain)"
   ]
  },
  {
   "cell_type": "code",
   "execution_count": 571,
   "metadata": {},
   "outputs": [
    {
     "data": {
      "text/html": [
       "24.8239"
      ],
      "text/latex": [
       "24.8239"
      ],
      "text/markdown": [
       "24.8239"
      ],
      "text/plain": [
       "[1] 24.8239"
      ]
     },
     "metadata": {},
     "output_type": "display_data"
    }
   ],
   "source": [
    "mean(rain)"
   ]
  },
  {
   "cell_type": "code",
   "execution_count": 572,
   "metadata": {},
   "outputs": [
    {
     "data": {
      "image/png": "[encoded data removed]",
      "text/plain": [
       "plot without title"
      ]
     },
     "metadata": {},
     "output_type": "display_data"
    }
   ],
   "source": [
    "plot.ts(rainseries)"
   ]
  },
  {
   "cell_type": "markdown",
   "metadata": {},
   "source": [
    "You can see from the plot that there is roughly constant level (the mean stays constant at about 25 inches). The random fluctuations in the time series seem to be roughly constant in size over time, so it is probably appropriate to describe the data using an additive model. Thus, we can make forecasts using simple exponential smoothing."
   ]
  },
  {
   "cell_type": "markdown",
   "metadata": {},
   "source": [
    "To make forecasts using simple exponential smoothing in R, we can fit a simple exponential smoothing predictive model using the “HoltWinters()” function in R. To use HoltWinters() for simple exponential smoothing, we need to set the parameters beta=FALSE and gamma=FALSE in the HoltWinters() function (the beta and gamma parameters are used for Holt’s exponential smoothing, or Holt-Winters exponential smoothing, as described below)."
   ]
  },
  {
   "cell_type": "code",
   "execution_count": 573,
   "metadata": {},
   "outputs": [
    {
     "data": {
      "text/plain": [
       "Holt-Winters exponential smoothing without trend and without seasonal component.\n",
       "\n",
       "Call:\n",
       "HoltWinters(x = rainseries, beta = FALSE, gamma = FALSE)\n",
       "\n",
       "Smoothing parameters:\n",
       " alpha: 0.02412151\n",
       " beta : FALSE\n",
       " gamma: FALSE\n",
       "\n",
       "Coefficients:\n",
       "      [,1]\n",
       "a 24.67819"
      ]
     },
     "metadata": {},
     "output_type": "display_data"
    }
   ],
   "source": [
    "rainseriesforecasts <- HoltWinters(rainseries, beta=FALSE, gamma=FALSE)\n",
    "\n",
    "rainseriesforecasts"
   ]
  },
  {
   "cell_type": "markdown",
   "metadata": {},
   "source": [
    "The output of HoltWinters() tells us that the estimated value of the alpha parameter is about 0.024. This is very close to zero, telling us that the forecasts are based on both recent and less recent observations (although somewhat more weight is placed on recent observations).\n",
    "\n",
    "By default, HoltWinters() just makes forecasts for the same time period covered by our original time series. In this case, our original time series included rainfall for London from 1813-1912, so the forecasts are also for 1813-1912."
   ]
  },
  {
   "cell_type": "markdown",
   "metadata": {},
   "source": [
    "In the example above, we have stored the output of the HoltWinters() function in the list variable “rainseriesforecasts”. The forecasts made by HoltWinters() are stored in a named element of this list variable called “fitted”, so we can get their values by typing:"
   ]
  },
  {
   "cell_type": "code",
   "execution_count": 574,
   "metadata": {},
   "outputs": [
    {
     "data": {
      "text/html": [
       "<ol class=list-inline>\n",
       "\t<li>'fitted'</li>\n",
       "\t<li>'x'</li>\n",
       "\t<li>'alpha'</li>\n",
       "\t<li>'beta'</li>\n",
       "\t<li>'gamma'</li>\n",
       "\t<li>'coefficients'</li>\n",
       "\t<li>'seasonal'</li>\n",
       "\t<li>'SSE'</li>\n",
       "\t<li>'call'</li>\n",
       "</ol>\n"
      ],
      "text/latex": [
       "\\begin{enumerate*}\n",
       "\\item 'fitted'\n",
       "\\item 'x'\n",
       "\\item 'alpha'\n",
       "\\item 'beta'\n",
       "\\item 'gamma'\n",
       "\\item 'coefficients'\n",
       "\\item 'seasonal'\n",
       "\\item 'SSE'\n",
       "\\item 'call'\n",
       "\\end{enumerate*}\n"
      ],
      "text/markdown": [
       "1. 'fitted'\n",
       "2. 'x'\n",
       "3. 'alpha'\n",
       "4. 'beta'\n",
       "5. 'gamma'\n",
       "6. 'coefficients'\n",
       "7. 'seasonal'\n",
       "8. 'SSE'\n",
       "9. 'call'\n",
       "\n",
       "\n"
      ],
      "text/plain": [
       "[1] \"fitted\"       \"x\"            \"alpha\"        \"beta\"         \"gamma\"       \n",
       "[6] \"coefficients\" \"seasonal\"     \"SSE\"          \"call\"        "
      ]
     },
     "metadata": {},
     "output_type": "display_data"
    }
   ],
   "source": [
    "names(rainseriesforecasts)"
   ]
  },
  {
   "cell_type": "code",
   "execution_count": 575,
   "metadata": {},
   "outputs": [
    {
     "data": {
      "text/html": [
       "<ol class=list-inline>\n",
       "\t<li>23.56</li>\n",
       "\t<li>23.6205449874054</li>\n",
       "\t<li>23.5780779857763</li>\n",
       "\t<li>23.7628951060361</li>\n",
       "\t<li>23.7601719057281</li>\n",
       "\t<li>23.7630623401737</li>\n",
       "\t<li>23.826910470563</li>\n",
       "\t<li>23.7990040443202</li>\n",
       "\t<li>23.9893467737037</li>\n",
       "\t<li>23.9862267343472</li>\n",
       "</ol>\n"
      ],
      "text/latex": [
       "\\begin{enumerate*}\n",
       "\\item 23.56\n",
       "\\item 23.6205449874054\n",
       "\\item 23.5780779857763\n",
       "\\item 23.7628951060361\n",
       "\\item 23.7601719057281\n",
       "\\item 23.7630623401737\n",
       "\\item 23.826910470563\n",
       "\\item 23.7990040443202\n",
       "\\item 23.9893467737037\n",
       "\\item 23.9862267343472\n",
       "\\end{enumerate*}\n"
      ],
      "text/markdown": [
       "1. 23.56\n",
       "2. 23.6205449874054\n",
       "3. 23.5780779857763\n",
       "4. 23.7628951060361\n",
       "5. 23.7601719057281\n",
       "6. 23.7630623401737\n",
       "7. 23.826910470563\n",
       "8. 23.7990040443202\n",
       "9. 23.9893467737037\n",
       "10. 23.9862267343472\n",
       "\n",
       "\n"
      ],
      "text/plain": [
       " [1] 23.56000 23.62054 23.57808 23.76290 23.76017 23.76306 23.82691 23.79900\n",
       " [9] 23.98935 23.98623"
      ]
     },
     "metadata": {},
     "output_type": "display_data"
    }
   ],
   "source": [
    "rainseriesforecasts$fitted[1:10]"
   ]
  },
  {
   "cell_type": "markdown",
   "metadata": {},
   "source": [
    "We can plot the original time series against the forecasts by typing:"
   ]
  },
  {
   "cell_type": "code",
   "execution_count": 576,
   "metadata": {},
   "outputs": [
    {
     "data": {
      "image/png": "[encoded data removed]",
      "text/plain": [
       "Plot with title \"Holt-Winters filtering\""
      ]
     },
     "metadata": {},
     "output_type": "display_data"
    }
   ],
   "source": [
    "plot(rainseriesforecasts)"
   ]
  },
  {
   "cell_type": "markdown",
   "metadata": {},
   "source": [
    "The plot shows the original time series in black, and the forecasts as a red line. The time series of forecasts is much smoother than the time series of the original data here.\n",
    "\n",
    "As a measure of the accuracy of the forecasts, we can calculate the sum of squared errors for the in-sample forecast errors, that is, the forecast errors for the time period covered by our original time series. The sum-of-squared-errors is stored in a named element of the list variable “rainseriesforecasts” called “SSE”, so we can get its value by typing:"
   ]
  },
  {
   "cell_type": "code",
   "execution_count": 577,
   "metadata": {},
   "outputs": [
    {
     "data": {
      "text/html": [
       "1828.8548918638"
      ],
      "text/latex": [
       "1828.8548918638"
      ],
      "text/markdown": [
       "1828.8548918638"
      ],
      "text/plain": [
       "[1] 1828.855"
      ]
     },
     "metadata": {},
     "output_type": "display_data"
    }
   ],
   "source": [
    "rainseriesforecasts$SSE"
   ]
  },
  {
   "cell_type": "markdown",
   "metadata": {},
   "source": [
    "That is, here the sum-of-squared-errors is 1828.855.\n",
    "\n",
    "It is common in simple exponential smoothing to use the first value in the time series as the initial value for the level. For example, in the time series for rainfall in London, the first value is 23.56 (inches) for rainfall in 1813. You can specify the initial value for the level in the HoltWinters() function by using the “l.start” parameter. For example, to make forecasts with the initial value of the level set to 23.56, we type:"
   ]
  },
  {
   "cell_type": "code",
   "execution_count": 578,
   "metadata": {},
   "outputs": [
    {
     "data": {
      "text/html": [
       "<ol class=list-inline>\n",
       "\t<li>23.56</li>\n",
       "\t<li>26.07</li>\n",
       "\t<li>21.86</li>\n",
       "\t<li>31.24</li>\n",
       "\t<li>23.65</li>\n",
       "\t<li>23.88</li>\n",
       "\t<li>26.41</li>\n",
       "\t<li>22.67</li>\n",
       "\t<li>31.69</li>\n",
       "\t<li>23.86</li>\n",
       "</ol>\n"
      ],
      "text/latex": [
       "\\begin{enumerate*}\n",
       "\\item 23.56\n",
       "\\item 26.07\n",
       "\\item 21.86\n",
       "\\item 31.24\n",
       "\\item 23.65\n",
       "\\item 23.88\n",
       "\\item 26.41\n",
       "\\item 22.67\n",
       "\\item 31.69\n",
       "\\item 23.86\n",
       "\\end{enumerate*}\n"
      ],
      "text/markdown": [
       "1. 23.56\n",
       "2. 26.07\n",
       "3. 21.86\n",
       "4. 31.24\n",
       "5. 23.65\n",
       "6. 23.88\n",
       "7. 26.41\n",
       "8. 22.67\n",
       "9. 31.69\n",
       "10. 23.86\n",
       "\n",
       "\n"
      ],
      "text/plain": [
       " [1] 23.56 26.07 21.86 31.24 23.65 23.88 26.41 22.67 31.69 23.86"
      ]
     },
     "metadata": {},
     "output_type": "display_data"
    }
   ],
   "source": [
    "rain[1:10]"
   ]
  },
  {
   "cell_type": "code",
   "execution_count": 579,
   "metadata": {},
   "outputs": [
    {
     "data": {
      "text/plain": [
       "Holt-Winters exponential smoothing without trend and without seasonal component.\n",
       "\n",
       "Call:\n",
       "HoltWinters(x = rainseries, beta = FALSE, gamma = FALSE, l.start = 23.56)\n",
       "\n",
       "Smoothing parameters:\n",
       " alpha: 0.02412151\n",
       " beta : FALSE\n",
       " gamma: FALSE\n",
       "\n",
       "Coefficients:\n",
       "      [,1]\n",
       "a 24.67819"
      ]
     },
     "metadata": {},
     "output_type": "display_data"
    }
   ],
   "source": [
    "HoltWinters(rainseries, beta=FALSE, gamma=FALSE, l.start=23.56)"
   ]
  },
  {
   "cell_type": "markdown",
   "metadata": {},
   "source": [
    "As explained above, by default HoltWinters() just makes forecasts for the time period covered by the original data, which is 1813-1912 for the rainfall time series. We can make forecasts for further time points by using the “forecast.HoltWinters()” function in the R “forecast” package. "
   ]
  },
  {
   "cell_type": "code",
   "execution_count": 580,
   "metadata": {},
   "outputs": [],
   "source": [
    "library(\"forecast\")"
   ]
  },
  {
   "cell_type": "markdown",
   "metadata": {},
   "source": [
    "When using the forecast.HoltWinters() function, as its first argument (input), you pass it the predictive model that you have already fitted using the HoltWinters() function. For example, in the case of the rainfall time series, we stored the predictive model made using HoltWinters() in the variable “rainseriesforecasts”. You specify how many further time points you want to make forecasts for by using the “h” parameter in forecast.HoltWinters(). For example, to make a forecast of rainfall for the years 1814-1820 (8 more years) using forecast.HoltWinters(), we type:"
   ]
  },
  {
   "cell_type": "code",
   "execution_count": 581,
   "metadata": {},
   "outputs": [
    {
     "data": {
      "text/plain": [
       "     Point Forecast    Lo 80    Hi 80    Lo 95    Hi 95\n",
       "1913       24.67819 19.17493 30.18145 16.26169 33.09470\n",
       "1914       24.67819 19.17333 30.18305 16.25924 33.09715\n",
       "1915       24.67819 19.17173 30.18465 16.25679 33.09960\n",
       "1916       24.67819 19.17013 30.18625 16.25434 33.10204\n",
       "1917       24.67819 19.16853 30.18785 16.25190 33.10449\n",
       "1918       24.67819 19.16694 30.18945 16.24945 33.10694\n",
       "1919       24.67819 19.16534 30.19105 16.24701 33.10938\n",
       "1920       24.67819 19.16374 30.19265 16.24456 33.11182"
      ]
     },
     "metadata": {},
     "output_type": "display_data"
    }
   ],
   "source": [
    "rainseriesforecasts2 <- forecast:::forecast.HoltWinters(rainseriesforecasts, h=8)\n",
    "rainseriesforecasts2"
   ]
  },
  {
   "cell_type": "markdown",
   "metadata": {},
   "source": [
    "The forecast.HoltWinters() function gives you the forecast for a year, a 80% prediction interval for the forecast, and a 95% prediction interval for the forecast. For example, the forecasted rainfall for 1920 is about 24.68 inches, with a 95% prediction interval of (16.24, 33.11)."
   ]
  },
  {
   "cell_type": "code",
   "execution_count": 582,
   "metadata": {},
   "outputs": [
    {
     "data": {
      "image/png": "[encoded data removed]",
      "text/plain": [
       "Plot with title \"Forecasts from HoltWinters\""
      ]
     },
     "metadata": {},
     "output_type": "display_data"
    }
   ],
   "source": [
    "forecast:::plot.forecast(rainseriesforecasts2)"
   ]
  },
  {
   "cell_type": "markdown",
   "metadata": {},
   "source": [
    "Here the forecasts for 1913-1920 are plotted as a blue line, the 80% prediction interval as an purple shaded area, and the 95% prediction interval as a gray shaded area."
   ]
  },
  {
   "cell_type": "markdown",
   "metadata": {
    "collapsed": true
   },
   "source": [
    "The ‘forecast errors’ are calculated as the observed values minus predicted values, for each time point. We can only calculate the forecast errors for the time period covered by our original time series, which is 1813-1912 for the rainfall data. As mentioned above, one measure of the accuracy of the predictive model is the sum-of-squared-errors (SSE) for the in-sample forecast errors.\n",
    "\n",
    "The in-sample forecast errors are stored in the named element “residuals” of the list variable returned by forecast.HoltWinters(). If the predictive model cannot be improved upon, there should be no correlations between forecast errors for successive predictions. In other words, if there are correlations between forecast errors for successive predictions, it is likely that the simple exponential smoothing forecasts could be improved upon by another forecasting technique.\n",
    "\n",
    "To figure out whether this is the case, we can obtain a correlogram of the in-sample forecast errors for lags 1-20. We can calculate a correlogram of the forecast errors using the “acf()” function in R. To specify the maximum lag that we want to look at, we use the “lag.max” parameter in acf().\n",
    "\n",
    "For example, to calculate a correlogram of the in-sample forecast errors for the London rainfall data for lags 1-20, we type:"
   ]
  },
  {
   "cell_type": "code",
   "execution_count": 583,
   "metadata": {},
   "outputs": [
    {
     "data": {
      "text/plain": [
       "Time Series:\n",
       "Start = 1813 \n",
       "End = 1818 \n",
       "Frequency = 1 \n",
       "[1]         NA  2.5100000 -1.7605450  7.6619220 -0.1128951  0.1198281"
      ]
     },
     "metadata": {},
     "output_type": "display_data"
    }
   ],
   "source": [
    "head(rainseriesforecasts2$residuals)"
   ]
  },
  {
   "cell_type": "code",
   "execution_count": 584,
   "metadata": {},
   "outputs": [
    {
     "data": {
      "image/png": "[encoded data removed]",
      "text/plain": [
       "Plot with title \"Series  rainseriesforecasts2$residuals\""
      ]
     },
     "metadata": {},
     "output_type": "display_data"
    }
   ],
   "source": [
    "acf(rainseriesforecasts2$residuals, lag.max=20, na.action = na.pass)"
   ]
  },
  {
   "cell_type": "markdown",
   "metadata": {},
   "source": [
    "You can see from the sample correlogram that the autocorrelation at lag 3 is just touching the significance bounds. To test whether there is significant evidence for non-zero correlations at lags 1-20, we can carry out a Ljung-Box test. This can be done in R using the “Box.test()”, function. The maximum lag that we want to look at is specified using the “lag” parameter in the Box.test() function. For example, to test whether there are non-zero autocorrelations at lags 1-20, for the in-sample forecast errors for London rainfall data, we type:"
   ]
  },
  {
   "cell_type": "code",
   "execution_count": 585,
   "metadata": {},
   "outputs": [
    {
     "data": {
      "text/plain": [
       "\n",
       "\tBox-Ljung test\n",
       "\n",
       "data:  rainseriesforecasts2$residuals\n",
       "X-squared = 17.401, df = 20, p-value = 0.6268\n"
      ]
     },
     "metadata": {},
     "output_type": "display_data"
    }
   ],
   "source": [
    "Box.test(rainseriesforecasts2$residuals, lag=20, type=\"Ljung-Box\")"
   ]
  },
  {
   "cell_type": "markdown",
   "metadata": {},
   "source": [
    "P-value is higher than 0.05 so we fail to reject the null hypothesis that there is no non-zero autocorrelation. In other words, there is little evidence of non-zero autocorrelations in the sample forecast errors at lags 1 to 20 "
   ]
  },
  {
   "cell_type": "markdown",
   "metadata": {},
   "source": [
    "To be sure that the predictive model cannot be improved upon, it is also a good idea to check whether the forecast errors are normally distributed with mean zero and constant variance. To check whether the forecast errors have constant variance, we can make a time plot of the in-sample forecast errors:"
   ]
  },
  {
   "cell_type": "code",
   "execution_count": 586,
   "metadata": {},
   "outputs": [
    {
     "data": {
      "image/png": "[encoded data removed]",
      "text/plain": [
       "plot without title"
      ]
     },
     "metadata": {},
     "output_type": "display_data"
    }
   ],
   "source": [
    "plot.ts(rainseriesforecasts2$residuals)"
   ]
  },
  {
   "cell_type": "markdown",
   "metadata": {},
   "source": [
    "The plot shows that the in-sample forecast errors seem to have roughly constant variance over time, although the size of the fluctuations in the start of the time series (1820-1830) may be slightly less than that at later dates (eg. 1840-1850).\n",
    "\n",
    "To check whether the forecast errors are normally distributed with mean zero, we can plot a histogram of the forecast errors, with an overlaid normal curve that has mean zero and the same standard deviation as the distribution of forecast errors. To do this, we can define an R function “plotForecastErrors()”, below:"
   ]
  },
  {
   "cell_type": "code",
   "execution_count": 587,
   "metadata": {},
   "outputs": [
    {
     "data": {
      "text/html": [
       "<ol class=list-inline>\n",
       "\t<li>&lt;NA&gt;</li>\n",
       "\t<li>2.51</li>\n",
       "\t<li>-1.76054498740538</li>\n",
       "\t<li>7.66192201422373</li>\n",
       "\t<li>-0.11289510603612</li>\n",
       "\t<li>0.119828094271885</li>\n",
       "\t<li>2.64693765982627</li>\n",
       "\t<li>-1.15691047056298</li>\n",
       "\t<li>7.8909959556798</li>\n",
       "\t<li>-0.129346773703698</li>\n",
       "</ol>\n"
      ],
      "text/latex": [
       "\\begin{enumerate*}\n",
       "\\item <NA>\n",
       "\\item 2.51\n",
       "\\item -1.76054498740538\n",
       "\\item 7.66192201422373\n",
       "\\item -0.11289510603612\n",
       "\\item 0.119828094271885\n",
       "\\item 2.64693765982627\n",
       "\\item -1.15691047056298\n",
       "\\item 7.8909959556798\n",
       "\\item -0.129346773703698\n",
       "\\end{enumerate*}\n"
      ],
      "text/markdown": [
       "1. &lt;NA&gt;\n",
       "2. 2.51\n",
       "3. -1.76054498740538\n",
       "4. 7.66192201422373\n",
       "5. -0.11289510603612\n",
       "6. 0.119828094271885\n",
       "7. 2.64693765982627\n",
       "8. -1.15691047056298\n",
       "9. 7.8909959556798\n",
       "10. -0.129346773703698\n",
       "\n",
       "\n"
      ],
      "text/plain": [
       " [1]         NA  2.5100000 -1.7605450  7.6619220 -0.1128951  0.1198281\n",
       " [7]  2.6469377 -1.1569105  7.8909960 -0.1293468"
      ]
     },
     "metadata": {},
     "output_type": "display_data"
    }
   ],
   "source": [
    "rainseriesforecasts2$residuals[1:10]"
   ]
  },
  {
   "cell_type": "code",
   "execution_count": 588,
   "metadata": {},
   "outputs": [
    {
     "data": {
      "text/html": [
       "<ol class=list-inline>\n",
       "\t<li>2.51</li>\n",
       "\t<li>-1.76054498740538</li>\n",
       "\t<li>7.66192201422373</li>\n",
       "\t<li>-0.11289510603612</li>\n",
       "\t<li>0.119828094271885</li>\n",
       "\t<li>2.64693765982627</li>\n",
       "\t<li>-1.15691047056298</li>\n",
       "\t<li>7.8909959556798</li>\n",
       "\t<li>-0.129346773703698</li>\n",
       "\t<li>0.123773265652805</li>\n",
       "</ol>\n"
      ],
      "text/latex": [
       "\\begin{enumerate*}\n",
       "\\item 2.51\n",
       "\\item -1.76054498740538\n",
       "\\item 7.66192201422373\n",
       "\\item -0.11289510603612\n",
       "\\item 0.119828094271885\n",
       "\\item 2.64693765982627\n",
       "\\item -1.15691047056298\n",
       "\\item 7.8909959556798\n",
       "\\item -0.129346773703698\n",
       "\\item 0.123773265652805\n",
       "\\end{enumerate*}\n"
      ],
      "text/markdown": [
       "1. 2.51\n",
       "2. -1.76054498740538\n",
       "3. 7.66192201422373\n",
       "4. -0.11289510603612\n",
       "5. 0.119828094271885\n",
       "6. 2.64693765982627\n",
       "7. -1.15691047056298\n",
       "8. 7.8909959556798\n",
       "9. -0.129346773703698\n",
       "10. 0.123773265652805\n",
       "\n",
       "\n"
      ],
      "text/plain": [
       " [1]  2.5100000 -1.7605450  7.6619220 -0.1128951  0.1198281  2.6469377\n",
       " [7] -1.1569105  7.8909960 -0.1293468  0.1237733"
      ]
     },
     "metadata": {},
     "output_type": "display_data"
    }
   ],
   "source": [
    "residuals <-  as.factor(rainseriesforecasts2$residuals)\n",
    "residuals <- as.numeric(as.character(residuals[!is.na(residuals)]))\n",
    "residuals[1:10]"
   ]
  },
  {
   "cell_type": "code",
   "execution_count": 589,
   "metadata": {},
   "outputs": [
    {
     "data": {
      "image/png": "[encoded data removed]",
      "text/plain": [
       "Plot with title \"Histogram of residuals\""
      ]
     },
     "metadata": {},
     "output_type": "display_data"
    }
   ],
   "source": [
    "hist(residuals)"
   ]
  },
  {
   "cell_type": "code",
   "execution_count": 590,
   "metadata": {},
   "outputs": [
    {
     "data": {
      "text/plain": [
       "\n",
       "\tShapiro-Wilk normality test\n",
       "\n",
       "data:  residuals\n",
       "W = 0.96468, p-value = 0.009271\n"
      ]
     },
     "metadata": {},
     "output_type": "display_data"
    }
   ],
   "source": [
    "shapiro.test(residuals)"
   ]
  },
  {
   "cell_type": "code",
   "execution_count": 591,
   "metadata": {},
   "outputs": [
    {
     "data": {
      "text/html": [
       "0.468249588541575"
      ],
      "text/latex": [
       "0.468249588541575"
      ],
      "text/markdown": [
       "0.468249588541575"
      ],
      "text/plain": [
       "[1] 0.4682496"
      ]
     },
     "metadata": {},
     "output_type": "display_data"
    }
   ],
   "source": [
    "mean(residuals)"
   ]
  },
  {
   "cell_type": "code",
   "execution_count": 592,
   "metadata": {},
   "outputs": [
    {
     "data": {
      "image/png": "[encoded data removed]",
      "text/plain": [
       "Plot with title \"Normal Q-Q Plot\""
      ]
     },
     "metadata": {},
     "output_type": "display_data"
    }
   ],
   "source": [
    "qqnorm(residuals); qqline(residuals)"
   ]
  },
  {
   "cell_type": "markdown",
   "metadata": {},
   "source": [
    "The plot shows that the distribution of forecast errors is roughly centred on zero, and is more or less normally distributed, although it seems to be slightly skewed to the right compared to a normal curve. However, the right skew is relatively small, and so it is plausible that the forecast errors are normally distributed with mean zero."
   ]
  },
  {
   "cell_type": "markdown",
   "metadata": {},
   "source": [
    "The Ljung-Box test showed that there is little evidence of non-zero autocorrelations in the in-sample forecast errors, and the distribution of forecast errors seems to be normally distributed with mean zero. This suggests that the simple exponential smoothing method provides an adequate predictive model for London rainfall, which probably cannot be improved upon. Furthermore, the assumptions that the 80% and 95% predictions intervals were based upon (that there are no autocorrelations in the forecast errors, and the forecast errors are normally distributed with mean zero and constant variance) are probably valid."
   ]
  },
  {
   "cell_type": "markdown",
   "metadata": {},
   "source": [
    "## Holt’s Exponential Smoothing\n",
    "If you have a time series that can be described using an additive model with increasing or decreasing trend and no seasonality, you can use Holt’s exponential smoothing to make short-term forecasts.\n",
    "\n",
    "Holt’s exponential smoothing estimates the level and slope at the current time point. Smoothing is controlled by two parameters, alpha, for the estimate of the level at the current time point, and beta for the estimate of the slope b of the trend component at the current time point. As with simple exponential smoothing, the paramters alpha and beta have values between 0 and 1, and values that are close to 0 mean that little weight is placed on the most recent observations when making forecasts of future values.\n",
    "\n",
    "An example of a time series that can probably be described using an additive model with a trend and no seasonality is the time series of the annual diameter of women’s skirts at the hem, from 1866 to 1911. The data is available in the file http://robjhyndman.com/tsdldata/roberts/skirts.dat (original data from Hipel and McLeod, 1994)."
   ]
  },
  {
   "cell_type": "code",
   "execution_count": 593,
   "metadata": {},
   "outputs": [],
   "source": [
    "skirts <- scan(\"http://robjhyndman.com/tsdldata/roberts/skirts.dat\",skip=5)"
   ]
  },
  {
   "cell_type": "code",
   "execution_count": 594,
   "metadata": {},
   "outputs": [
    {
     "data": {
      "text/html": [
       "<ol class=list-inline>\n",
       "\t<li>608</li>\n",
       "\t<li>617</li>\n",
       "\t<li>625</li>\n",
       "\t<li>636</li>\n",
       "\t<li>657</li>\n",
       "\t<li>691</li>\n",
       "\t<li>728</li>\n",
       "\t<li>784</li>\n",
       "\t<li>816</li>\n",
       "\t<li>876</li>\n",
       "</ol>\n"
      ],
      "text/latex": [
       "\\begin{enumerate*}\n",
       "\\item 608\n",
       "\\item 617\n",
       "\\item 625\n",
       "\\item 636\n",
       "\\item 657\n",
       "\\item 691\n",
       "\\item 728\n",
       "\\item 784\n",
       "\\item 816\n",
       "\\item 876\n",
       "\\end{enumerate*}\n"
      ],
      "text/markdown": [
       "1. 608\n",
       "2. 617\n",
       "3. 625\n",
       "4. 636\n",
       "5. 657\n",
       "6. 691\n",
       "7. 728\n",
       "8. 784\n",
       "9. 816\n",
       "10. 876\n",
       "\n",
       "\n"
      ],
      "text/plain": [
       " [1] 608 617 625 636 657 691 728 784 816 876"
      ]
     },
     "metadata": {},
     "output_type": "display_data"
    }
   ],
   "source": [
    "skirts[1:10]"
   ]
  },
  {
   "cell_type": "code",
   "execution_count": null,
   "metadata": {},
   "outputs": [
    {
     "data": {
      "text/html": [
       "46"
      ],
      "text/latex": [
       "46"
      ],
      "text/markdown": [
       "46"
      ],
      "text/plain": [
       "[1] 46"
      ]
     },
     "metadata": {},
     "output_type": "display_data"
    }
   ],
   "source": [
    "length(skirts)"
   ]
  },
  {
   "cell_type": "code",
   "execution_count": null,
   "metadata": {},
   "outputs": [],
   "source": [
    "skirtsseries <- ts(skirts,start=c(1866))"
   ]
  },
  {
   "cell_type": "code",
   "execution_count": null,
   "metadata": {},
   "outputs": [],
   "source": [
    "plot.ts(skirtsseries)"
   ]
  },
  {
   "cell_type": "markdown",
   "metadata": {},
   "source": [
    "We can see from the plot that there was an increase in hem diameter from about 600 in 1866 to about 1050 in 1880, and that afterwards the hem diameter decreased to about 520 in 1911.\n",
    "\n",
    "To make forecasts, we can fit a predictive model using the HoltWinters() function in R. To use HoltWinters() for Holt’s exponential smoothing, we need to set the parameter gamma=FALSE (the gamma parameter is used for Holt-Winters exponential smoothing, as described below).\n",
    "\n",
    "For example, to use Holt’s exponential smoothing to fit a predictive model for skirt hem diameter, we type:"
   ]
  },
  {
   "cell_type": "code",
   "execution_count": null,
   "metadata": {},
   "outputs": [],
   "source": [
    "skirtsseriesforecasts <- HoltWinters(skirtsseries, gamma=FALSE)\n",
    "\n",
    "skirtsseriesforecasts"
   ]
  },
  {
   "cell_type": "code",
   "execution_count": null,
   "metadata": {},
   "outputs": [],
   "source": [
    "skirtsseriesforecasts$SSE"
   ]
  },
  {
   "cell_type": "markdown",
   "metadata": {},
   "source": [
    "The estimated value of alpha is 0.84, and of beta is 1.00. These are both high, telling us that both the estimate of the current value of the level, and of the slope b of the trend component, are based mostly upon very recent observations in the time series. This makes good intuitive sense, since the level and the slope of the time series both change quite a lot over time. The value of the sum-of-squared-errors for the in-sample forecast errors is 16954.\n",
    "\n",
    "We can plot the original time series as a black line, with the forecasted values as a red line on top of that, by typing:"
   ]
  },
  {
   "cell_type": "code",
   "execution_count": null,
   "metadata": {},
   "outputs": [],
   "source": [
    "plot(skirtsseriesforecasts)"
   ]
  },
  {
   "cell_type": "markdown",
   "metadata": {},
   "source": [
    "We can see from the picture that the in-sample forecasts agree pretty well with the observed values, although they tend to lag behind the observed values a little bit.\n",
    "\n",
    "If you wish, you can specify the initial values of the level and the slope b of the trend component by using the “l.start” and “b.start” arguments for the HoltWinters() function. It is common to set the initial value of the level to the first value in the time series (608 for the skirts data), and the initial value of the slope to the second value minus the first value (9 for the skirts data). For example, to fit a predictive model to the skirt hem data using Holt’s exponential smoothing, with initial values of 608 for the level and 9 for the slope b of the trend component, we type:"
   ]
  },
  {
   "cell_type": "code",
   "execution_count": null,
   "metadata": {},
   "outputs": [],
   "source": [
    "HoltWinters(skirtsseries, gamma=FALSE, l.start=608, b.start=9)"
   ]
  },
  {
   "cell_type": "markdown",
   "metadata": {},
   "source": [
    "As for simple exponential smoothing, we can make forecasts for future times not covered by the original time series by using the forecast.HoltWinters() function in the “forecast” package. For example, our time series data for skirt hems was for 1866 to 1911, so we can make predictions for 1912 to 1930 (19 more data points), and plot them, by typing:"
   ]
  },
  {
   "cell_type": "code",
   "execution_count": null,
   "metadata": {},
   "outputs": [],
   "source": [
    "skirtsseriesforecasts2 <- forecast:::forecast.HoltWinters(skirtsseriesforecasts, h=19)\n",
    "\n",
    "forecast:::plot.forecast(skirtsseriesforecasts2)"
   ]
  },
  {
   "cell_type": "markdown",
   "metadata": {},
   "source": [
    "The forecasts are shown as a blue line, with the 80% prediction intervals as an purple shaded area, and the 95% prediction intervals as a gray shaded area.\n",
    "\n",
    "As for simple exponential smoothing, we can check whether the predictive model could be improved upon by checking whether the in-sample forecast errors show non-zero autocorrelations at lags 1-20. For example, for the skirt hem data, we can make a correlogram, and carry out the Ljung-Box test, by typing:"
   ]
  },
  {
   "cell_type": "code",
   "execution_count": null,
   "metadata": {},
   "outputs": [],
   "source": [
    "acf(skirtsseriesforecasts2$residuals, lag.max=20, na.action = na.pass)"
   ]
  },
  {
   "cell_type": "code",
   "execution_count": null,
   "metadata": {},
   "outputs": [],
   "source": [
    "Box.test(skirtsseriesforecasts2$residuals, lag=20, type=\"Ljung-Box\")"
   ]
  },
  {
   "cell_type": "markdown",
   "metadata": {},
   "source": [
    "Here the correlogram shows that the sample autocorrelation for the in-sample forecast errors at lag 5 exceeds the significance bounds. However, we would expect one in 20 of the autocorrelations for the first twenty lags to exceed the 95% significance bounds by chance alone. Indeed, when we carry out the Ljung-Box test, the p-value is 0.47, indicating that there is little evidence of non-zero autocorrelations in the in-sample forecast errors at lags 1-20.\n",
    "\n",
    "As for simple exponential smoothing, we should also check that the forecast errors have constant variance over time, and are normally distributed with mean zero. We can do this by making a time plot of forecast errors, and a histogram of the distribution of forecast errors with an overlaid normal curve:"
   ]
  },
  {
   "cell_type": "code",
   "execution_count": null,
   "metadata": {},
   "outputs": [],
   "source": [
    "plot.ts(skirtsseriesforecasts2$residuals)  "
   ]
  },
  {
   "cell_type": "code",
   "execution_count": null,
   "metadata": {},
   "outputs": [],
   "source": [
    "residuals <- as.factor(skirtsseriesforecasts2$residuals)\n",
    "residuals <- as.numeric(as.character(residuals[!is.na(residuals)]))"
   ]
  },
  {
   "cell_type": "code",
   "execution_count": null,
   "metadata": {},
   "outputs": [],
   "source": [
    "hist(residuals)"
   ]
  },
  {
   "cell_type": "code",
   "execution_count": null,
   "metadata": {},
   "outputs": [],
   "source": [
    "qqnorm(residuals); qqline(residuals)"
   ]
  },
  {
   "cell_type": "code",
   "execution_count": null,
   "metadata": {},
   "outputs": [],
   "source": [
    "mean(residuals)"
   ]
  },
  {
   "cell_type": "markdown",
   "metadata": {},
   "source": [
    "The time plot of forecast errors shows that the forecast errors have roughly constant variance over time. The histogram of forecast errors show that it is plausible that the forecast errors are normally distributed with mean zero and constant variance."
   ]
  },
  {
   "cell_type": "markdown",
   "metadata": {},
   "source": [
    "Thus, the Ljung-Box test shows that there is little evidence of autocorrelations in the forecast errors, while the time plot and histogram of forecast errors show that it is plausible that the forecast errors are normally distributed with mean zero and constant variance. Therefore, we can conclude that Holt’s exponential smoothing provides an adequate predictive model for skirt hem diameters, which probably cannot be improved upon. In addition, it means that the assumptions that the 80% and 95% predictions intervals were based upon are probably valid."
   ]
  },
  {
   "cell_type": "markdown",
   "metadata": {},
   "source": [
    "## Holt-Winters Exponential Smoothing\n",
    "If you have a time series that can be described using an additive model with increasing or decreasing trend and seasonality, you can use Holt-Winters exponential smoothing to make short-term forecasts.\n",
    "\n",
    "Holt-Winters exponential smoothing estimates the level, slope and seasonal component at the current time point. Smoothing is controlled by three parameters: alpha, beta, and gamma, for the estimates of the level, slope b of the trend component, and the seasonal component, respectively, at the current time point. The parameters alpha, beta and gamma all have values between 0 and 1, and values that are close to 0 mean that relatively little weight is placed on the most recent observations when making forecasts of future values.\n",
    "\n",
    "An example of a time series that can probably be described using an additive model with a trend and seasonality is the time series of the log of monthly sales for the souvenir shop at a beach resort town in Queensland, Australia (discussed above):\n",
    "\n"
   ]
  },
  {
   "cell_type": "code",
   "execution_count": null,
   "metadata": {},
   "outputs": [],
   "source": [
    "plot.ts(souvenirtimeseries)"
   ]
  },
  {
   "cell_type": "code",
   "execution_count": null,
   "metadata": {},
   "outputs": [],
   "source": [
    "logsouvenirtimeseries <- log(souvenirtimeseries)\n",
    "\n",
    "plot.ts(logsouvenirtimeseries)"
   ]
  },
  {
   "cell_type": "markdown",
   "metadata": {},
   "source": [
    "To make forecasts, we can fit a predictive model using the HoltWinters() function. For example, to fit a predictive model for the log of the monthly sales in the souvenir shop, we type:"
   ]
  },
  {
   "cell_type": "code",
   "execution_count": null,
   "metadata": {},
   "outputs": [],
   "source": [
    "souvenirtimeseriesforecasts <- HoltWinters(logsouvenirtimeseries)\n",
    "\n",
    "souvenirtimeseriesforecasts"
   ]
  },
  {
   "cell_type": "code",
   "execution_count": null,
   "metadata": {},
   "outputs": [],
   "source": [
    "souvenirtimeseriesforecasts$SSE"
   ]
  },
  {
   "cell_type": "markdown",
   "metadata": {},
   "source": [
    "The estimated values of alpha, beta and gamma are 0.41, 0.00, and 0.96, respectively. The value of alpha (0.41) is relatively low, indicating that the estimate of the level at the current time point is based upon both recent observations and some observations in the more distant past. The value of beta is 0.00, indicating that the estimate of the slope b of the trend component is not updated over the time series, and instead is set equal to its initial value. This makes good intuitive sense, as the level changes quite a bit over the time series, but the slope b of the trend component remains roughly the same. In contrast, the value of gamma (0.96) is high, indicating that the estimate of the seasonal component at the current time point is just based upon very recent observations.\n",
    "\n",
    "As for simple exponential smoothing and Holt’s exponential smoothing, we can plot the original time series as a black line, with the forecasted values as a red line on top of that:"
   ]
  },
  {
   "cell_type": "code",
   "execution_count": null,
   "metadata": {},
   "outputs": [],
   "source": [
    "plot(souvenirtimeseriesforecasts)"
   ]
  },
  {
   "cell_type": "markdown",
   "metadata": {},
   "source": [
    "We see from the plot that the Holt-Winters exponential method is very successful in predicting the seasonal peaks, which occur roughly in November every year.\n",
    "\n",
    "To make forecasts for future times not included in the original time series, we use the “forecast.HoltWinters()” function in the “forecast” package. For example, the original data for the souvenir sales is from January 1987 to December 1993. If we wanted to make forecasts for January 1994 to December 1998 (48 more months), and plot the forecasts, we would type:"
   ]
  },
  {
   "cell_type": "code",
   "execution_count": null,
   "metadata": {},
   "outputs": [],
   "source": [
    "souvenirtimeseriesforecasts2 <- forecast:::forecast.HoltWinters(souvenirtimeseriesforecasts, h=48)\n",
    "\n",
    "forecast:::plot.forecast(souvenirtimeseriesforecasts2)"
   ]
  },
  {
   "cell_type": "markdown",
   "metadata": {},
   "source": [
    "The forecasts are shown as a blue line, and the purple and gray shaded areas show 80% and 95% prediction intervals, respectively.\n",
    "\n",
    "We can investigate whether the predictive model can be improved upon by checking whether the in-sample forecast errors show non-zero autocorrelations at lags 1-20, by making a correlogram and carrying out the Ljung-Box test:"
   ]
  },
  {
   "cell_type": "code",
   "execution_count": null,
   "metadata": {},
   "outputs": [],
   "source": [
    "acf(souvenirtimeseriesforecasts2$residuals, lag.max=20, na.action = na.pass)"
   ]
  },
  {
   "cell_type": "code",
   "execution_count": null,
   "metadata": {},
   "outputs": [],
   "source": [
    " Box.test(souvenirtimeseriesforecasts2$residuals, lag=20, type=\"Ljung-Box\")"
   ]
  },
  {
   "cell_type": "markdown",
   "metadata": {},
   "source": [
    "The correlogram shows that the autocorrelations for the in-sample forecast errors do not exceed the significance bounds for lags 1-20. Furthermore, the p-value for Ljung-Box test is 0.6, indicating that there is little evidence of non-zero autocorrelations at lags 1-20.\n",
    "\n",
    "We can check whether the forecast errors have constant variance over time, and are normally distributed with mean zero, by making a time plot of the forecast errors and a histogram (with overlaid normal curve):"
   ]
  },
  {
   "cell_type": "code",
   "execution_count": null,
   "metadata": {},
   "outputs": [],
   "source": [
    "plot.ts(souvenirtimeseriesforecasts2$residuals)    "
   ]
  },
  {
   "cell_type": "code",
   "execution_count": null,
   "metadata": {},
   "outputs": [],
   "source": [
    "residuals <-  as.factor(souvenirtimeseriesforecasts2$residuals)\n",
    "residuals <- as.numeric(as.character(residuals[!is.na(residuals)]))\n",
    "residuals[1:10]"
   ]
  },
  {
   "cell_type": "code",
   "execution_count": null,
   "metadata": {},
   "outputs": [],
   "source": [
    "hist(residuals)"
   ]
  },
  {
   "cell_type": "code",
   "execution_count": null,
   "metadata": {},
   "outputs": [],
   "source": [
    "shapiro.test(residuals)"
   ]
  },
  {
   "cell_type": "code",
   "execution_count": null,
   "metadata": {},
   "outputs": [],
   "source": [
    "mean(residuals)"
   ]
  },
  {
   "cell_type": "code",
   "execution_count": null,
   "metadata": {},
   "outputs": [],
   "source": [
    "qqnorm(residuals); qqline(residuals)"
   ]
  },
  {
   "cell_type": "markdown",
   "metadata": {},
   "source": [
    "From the time plot, it appears plausible that the forecast errors have constant variance over time. From the histogram of forecast errors, it seems plausible that the forecast errors are normally distributed with mean zero.\n",
    "\n",
    "Thus,there is little evidence of autocorrelation at lags 1-20 for the forecast errors, and the forecast errors appear to be normally distributed with mean zero and constant variance over time. This suggests that Holt-Winters exponential smoothing provides an adequate predictive model of the log of sales at the souvenir shop, which probably cannot be improved upon. Furthermore, the assumptions upon which the prediction intervals were based are probably valid."
   ]
  },
  {
   "cell_type": "markdown",
   "metadata": {},
   "source": [
    "## ARIMA Models\n",
    "Exponential smoothing methods are useful for making forecasts, and make no assumptions about the correlations between successive values of the time series. However, if you want to make prediction intervals for forecasts made using exponential smoothing methods, the prediction intervals require that the forecast errors are uncorrelated and are normally distributed with mean zero and constant variance.\n",
    "\n",
    "While exponential smoothing methods do not make any assumptions about correlations between successive values of the time series, in some cases you can make a better predictive model by taking correlations in the data into account. Autoregressive Integrated Moving Average (ARIMA) models include an explicit statistical model for the irregular component of a time series, that allows for non-zero autocorrelations in the irregular component."
   ]
  },
  {
   "cell_type": "markdown",
   "metadata": {},
   "source": [
    "### Differencing a Time Series\n",
    "ARIMA models are defined for stationary time series. Therefore, if you start off with a non-stationary time series, you will first need to ‘difference’ the time series until you obtain a stationary time series. If you have to difference the time series d times to obtain a stationary series, then you have an ARIMA(p,d,q) model, where d is the order of differencing used.\n",
    "\n",
    "You can difference a time series using the “diff()” function in R. For example, the time series of the annual diameter of women’s skirts at the hem, from 1866 to 1911 is not stationary in mean, as the level changes a lot over time:"
   ]
  },
  {
   "cell_type": "code",
   "execution_count": null,
   "metadata": {},
   "outputs": [],
   "source": [
    "plot.ts(skirtsseries)"
   ]
  },
  {
   "cell_type": "markdown",
   "metadata": {},
   "source": [
    "We can difference the time series (which we stored in “skirtsseries”, see above) once, and plot the differenced series, by typing:"
   ]
  },
  {
   "cell_type": "code",
   "execution_count": null,
   "metadata": {},
   "outputs": [],
   "source": [
    "skirtsseriesdiff1 <- diff(skirtsseries, differences=1)\n",
    "plot.ts(skirtsseriesdiff1)"
   ]
  },
  {
   "cell_type": "code",
   "execution_count": null,
   "metadata": {},
   "outputs": [],
   "source": [
    "skirts[1:10]"
   ]
  },
  {
   "cell_type": "code",
   "execution_count": null,
   "metadata": {},
   "outputs": [],
   "source": [
    "skirtsseriesdiff1"
   ]
  },
  {
   "cell_type": "markdown",
   "metadata": {},
   "source": [
    "The resulting time series of first differences (above) does not appear to be stationary in mean. Therefore, we can difference the time series twice, to see if that gives us a stationary time series:"
   ]
  },
  {
   "cell_type": "code",
   "execution_count": null,
   "metadata": {},
   "outputs": [],
   "source": [
    "skirtsseriesdiff2 <- diff(skirtsseries, differences=2)"
   ]
  },
  {
   "cell_type": "code",
   "execution_count": null,
   "metadata": {},
   "outputs": [],
   "source": [
    "skirtsseriesdiff1"
   ]
  },
  {
   "cell_type": "code",
   "execution_count": null,
   "metadata": {},
   "outputs": [],
   "source": [
    "skirtsseriesdiff2"
   ]
  },
  {
   "cell_type": "code",
   "execution_count": null,
   "metadata": {},
   "outputs": [],
   "source": [
    "plot.ts(skirtsseriesdiff2)"
   ]
  },
  {
   "cell_type": "markdown",
   "metadata": {},
   "source": [
    "The time series of second differences (above) does appear to be stationary in mean and variance, as the level of the series stays roughly constant over time, and the variance of the series appears roughly constant over time. Thus, it appears that we need to difference the time series of the diameter of skirts twice in order to achieve a stationary series."
   ]
  },
  {
   "cell_type": "markdown",
   "metadata": {},
   "source": [
    "#### Formal tests for stationarity\n",
    "- Formal tests for stationarity called “unit root tests” are available in the fUnitRoots package, available on CRAN, but will not be discussed here."
   ]
  },
  {
   "cell_type": "markdown",
   "metadata": {},
   "source": [
    "If you need to difference your original time series data d times in order to obtain a stationary time series, this means that you can use an ARIMA(p,d,q) model for your time series, where d is the order of differencing used. For example, for the time series of the diameter of women’s skirts, we had to difference the time series twice, and so the order of differencing (d) is 2. This means that you can use an ARIMA(p,2,q) model for your time series. The next step is to figure out the values of p and q for the ARIMA model.\n",
    "\n",
    "Another example is the time series of the age of death of the successive kings of England (see above):"
   ]
  },
  {
   "cell_type": "code",
   "execution_count": null,
   "metadata": {},
   "outputs": [],
   "source": [
    "plot.ts(kingstimeseries)"
   ]
  },
  {
   "cell_type": "markdown",
   "metadata": {},
   "source": [
    "From the time plot (above), we can see that the time series is not stationary in mean. To calculate the time series of first differences, and plot it, we type:"
   ]
  },
  {
   "cell_type": "code",
   "execution_count": null,
   "metadata": {},
   "outputs": [],
   "source": [
    "kingtimeseriesdiff1 <- diff(kingstimeseries, differences=1)"
   ]
  },
  {
   "cell_type": "code",
   "execution_count": null,
   "metadata": {},
   "outputs": [],
   "source": [
    "plot.ts(kingtimeseriesdiff1)"
   ]
  },
  {
   "cell_type": "markdown",
   "metadata": {},
   "source": [
    "The time series of first differences appears to be stationary in mean and variance, and so an ARIMA(p,1,q) model is probably appropriate for the time series of the age of death of the kings of England. By taking the time series of first differences, we have removed the trend component of the time series of the ages at death of the kings, and are left with an irregular component. We can now examine whether there are correlations between successive terms of this irregular component; if so, this could help us to make a predictive model for the ages at death of the kings."
   ]
  },
  {
   "cell_type": "markdown",
   "metadata": {},
   "source": [
    "### Selecting a Candidate ARIMA Model\n",
    "If your time series is stationary, or if you have transformed it to a stationary time series by differencing d times, the next step is to select the appropriate ARIMA model, which means finding the values of most appropriate values of p and q for an ARIMA(p,d,q) model. To do this, you usually need to examine the correlogram and partial correlogram of the stationary time series.\n",
    "\n",
    "To plot a correlogram and partial correlogram, we can use the “acf()” and “pacf()” functions in R, respectively. To get the actual values of the autocorrelations and partial autocorrelations, we set “plot=FALSE” in the “acf()” and “pacf()” functions."
   ]
  },
  {
   "cell_type": "markdown",
   "metadata": {},
   "source": [
    " #### Example of the Ages at Death of the Kings of England\n",
    "For example, to plot the correlogram for lags 1-20 of the once differenced time series of the ages at death of the kings of England, and to get the values of the autocorrelations, we type:"
   ]
  },
  {
   "cell_type": "code",
   "execution_count": null,
   "metadata": {},
   "outputs": [],
   "source": [
    "acf(kingtimeseriesdiff1, lag.max=20)             # plot a correlogram"
   ]
  },
  {
   "cell_type": "code",
   "execution_count": null,
   "metadata": {},
   "outputs": [],
   "source": [
    "acf(kingtimeseriesdiff1, lag.max=20, plot=FALSE) # get the autocorrelation values"
   ]
  },
  {
   "cell_type": "markdown",
   "metadata": {},
   "source": [
    "We see from the correlogram that the autocorrelation at lag 1 (-0.360) exceeds the significance bounds, but all other autocorrelations between lags 1-20 do not exceed the significance bounds.\n",
    "\n",
    "To plot the partial correlogram for lags 1-20 for the once differenced time series of the ages at death of the English kings, and get the values of the partial autocorrelations, we use the “pacf()” function, by typing:"
   ]
  },
  {
   "cell_type": "code",
   "execution_count": null,
   "metadata": {},
   "outputs": [],
   "source": [
    "pacf(kingtimeseriesdiff1, lag.max=20)             # plot a partial correlogram"
   ]
  },
  {
   "cell_type": "code",
   "execution_count": null,
   "metadata": {},
   "outputs": [],
   "source": [
    "pacf(kingtimeseriesdiff1, lag.max=20, plot=FALSE) # get the partial autocorrelation values"
   ]
  },
  {
   "cell_type": "markdown",
   "metadata": {},
   "source": [
    "The partial correlogram shows that the partial autocorrelations at lags 1, 2 and 3 exceed the significance bounds, are negative, and are slowly decreasing in magnitude with increasing lag (lag 1: -0.360, lag 2: -0.335, lag 3:-0.321). The partial autocorrelations tail off to zero after lag 3.\n",
    "\n",
    "Since the correlogram is zero after lag 1, and the partial correlogram tails off to zero after lag 3, this means that the following ARMA (autoregressive moving average) models are possible for the time series of first differences:\n",
    "\n",
    "* An ARMA(3,0) model, that is, an autoregressive model of order p=3, since the partial autocorrelogram is zero after lag 3, and the autocorrelogram tails off to zero (although perhaps too abruptly for this model to be appropriate)\n",
    "* An ARMA(0,1) model, that is, a moving average model of order q=1, since the autocorrelogram is zero after lag 1 and the partial autocorrelogram tails off to zero\n",
    "* An ARMA(p,q) model, that is, a mixed model with p and q greater than 0, since the autocorrelogram and partial correlogram tail off to zero (although the correlogram probably tails off to zero too abruptly for this model to be appropriate)\n",
    "\n",
    "We use the principle of parsimony to decide which model is best: that is, we assume that the model with the fewest parameters is best. The ARMA(3,0) model has 3 parameters, the ARMA(0,1) model has 1 parameter, and the ARMA(p,q) model has at least 2 parameters. Therefore, the ARMA(0,1) model is taken as the best model.\n",
    "\n",
    "An ARMA(0,1) model is a moving average model of order 1, or MA(1) model. This model can be written as: X_t - mu = Z_t - (theta * Z_t-1), where X_t is the stationary time series we are studying (the first differenced series of ages at death of English kings), mu is the mean of time series X_t, Z_t is white noise with mean zero and constant variance, and theta is a parameter that can be estimated.\n",
    "\n",
    "A MA (moving average) model is usually used to model a time series that shows short-term dependencies between successive observations. Intuitively, it makes good sense that a MA model can be used to describe the irregular component in the time series of ages at death of English kings, as we might expect the age at death of a particular English king to have some effect on the ages at death of the next king or two, but not much effect on the ages at death of kings that reign much longer after that.\n",
    "\n",
    "Shortcut: the auto.arima() function\n",
    "\n",
    "The auto.arima() function can be used to find the appropriate ARIMA model, eg., type “library(forecast)”, then “auto.arima(kings)”. The output says an appropriate model is ARIMA(0,1,1).\n",
    "\n",
    "Since an ARMA(0,1) model (with p=0, q=1) is taken to be the best candidate model for the time series of first differences of the ages at death of English kings, then the original time series of the ages of death can be modelled using an ARIMA(0,1,1) model (with p=0, d=1, q=1, where d is the order of differencing required)."
   ]
  },
  {
   "cell_type": "markdown",
   "metadata": {},
   "source": [
    "#### Shortcut: the auto.arima() function\n",
    "\n",
    "* The auto.arima() function can be used to find the appropriate ARIMA model, eg., type “library(forecast)”, then “auto.arima(kings)”. The output says an appropriate model is ARIMA(0,1,1)."
   ]
  },
  {
   "cell_type": "code",
   "execution_count": null,
   "metadata": {},
   "outputs": [],
   "source": [
    "forecast:::auto.arima(kingstimeseries)"
   ]
  },
  {
   "cell_type": "markdown",
   "metadata": {},
   "source": [
    "### Example of the Volcanic Dust Veil in the Northern Hemisphere\n",
    "Let’s take another example of selecting an appropriate ARIMA model. The file file http://robjhyndman.com/tsdldata/annual/dvi.dat contains data on the volcanic dust veil index in the northern hemisphere, from 1500-1969 (original data from Hipel and Mcleod, 1994). This is a measure of the impact of volcanic eruptions’ release of dust and aerosols into the environment. We can read it into R and make a time plot by typing:"
   ]
  },
  {
   "cell_type": "code",
   "execution_count": null,
   "metadata": {},
   "outputs": [],
   "source": [
    "volcanodust <- scan(\"http://robjhyndman.com/tsdldata/annual/dvi.dat\", skip=1)"
   ]
  },
  {
   "cell_type": "code",
   "execution_count": null,
   "metadata": {},
   "outputs": [],
   "source": [
    "volcanodustseries <- ts(volcanodust,start=c(1500))"
   ]
  },
  {
   "cell_type": "code",
   "execution_count": null,
   "metadata": {},
   "outputs": [],
   "source": [
    "plot.ts(volcanodustseries)"
   ]
  },
  {
   "cell_type": "markdown",
   "metadata": {},
   "source": [
    "From the time plot, it appears that the random fluctuations in the time series are roughly constant in size over time, so an additive model is probably appropriate for describing this time series.\n",
    "\n",
    "Furthermore, the time series appears to be stationary in mean and variance, as its level and variance appear to be roughly constant over time. Therefore, we do not need to difference this series in order to fit an ARIMA model, but can fit an ARIMA model to the original series (the order of differencing required, d, is zero here).\n",
    "\n",
    "We can now plot a correlogram and partial correlogram for lags 1-20 to investigate what ARIMA model to use:"
   ]
  },
  {
   "cell_type": "code",
   "execution_count": null,
   "metadata": {},
   "outputs": [],
   "source": [
    "acf(volcanodustseries, lag.max=20)             # plot a correlogram"
   ]
  },
  {
   "cell_type": "code",
   "execution_count": null,
   "metadata": {},
   "outputs": [],
   "source": [
    "acf(volcanodustseries, lag.max=20, plot=FALSE) # get the values of the autocorrelations"
   ]
  },
  {
   "cell_type": "markdown",
   "metadata": {},
   "source": [
    "We see from the correlogram that the autocorrelations for lags 1, 2 and 3 exceed the significance bounds, and that the autocorrelations tail off to zero after lag 3. The autocorrelations for lags 1, 2, 3 are positive, and decrease in magnitude with increasing lag (lag 1: 0.666, lag 2: 0.374, lag 3: 0.162).\n",
    "\n",
    "The autocorrelation for lags 19 and 20 exceed the significance bounds too, but it is likely that this is due to chance, since they just exceed the significance bounds (especially for lag 19), the autocorrelations for lags 4-18 do not exceed the signifiance bounds, and we would expect 1 in 20 lags to exceed the 95% significance bounds by chance alone."
   ]
  },
  {
   "cell_type": "code",
   "execution_count": null,
   "metadata": {},
   "outputs": [],
   "source": [
    "pacf(volcanodustseries, lag.max=20)"
   ]
  },
  {
   "cell_type": "code",
   "execution_count": null,
   "metadata": {},
   "outputs": [],
   "source": [
    "pacf(volcanodustseries, lag.max=20, plot=FALSE)"
   ]
  },
  {
   "cell_type": "markdown",
   "metadata": {},
   "source": [
    "From the partial autocorrelogram, we see that the partial autocorrelation at lag 1 is positive and exceeds the significance bounds (0.666), while the partial autocorrelation at lag 2 is negative and also exceeds the significance bounds (-0.126). The partial autocorrelations tail off to zero after lag 2.\n",
    "\n",
    "Since the correlogram tails off to zero after lag 3, and the partial correlogram is zero after lag 2, the following ARMA models are possible for the time series:\n",
    "\n",
    "* an ARMA(2,0) model, since the partial autocorrelogram is zero after lag 2, and the correlogram tails off to zero after lag 3, and the partial correlogram is zero after lag 2\n",
    "* an ARMA(0,3) model, since the autocorrelogram is zero after lag 3, and the partial correlogram tails off to zero (although perhaps too abruptly for this model to be appropriate)\n",
    "* an ARMA(p,q) mixed model, since the correlogram and partial correlogram tail off to zero (although the partial correlogram perhaps tails off too abruptly for this model to be appropriate)"
   ]
  },
  {
   "cell_type": "markdown",
   "metadata": {},
   "source": [
    "The ARMA(2,0) model has 2 parameters, the ARMA(0,3) model has 3 parameters, and the ARMA(p,q) model has at least 2 parameters. Therefore, using the principle of parsimony, the ARMA(2,0) model and ARMA(p,q) model are equally good candidate models.\n",
    "\n",
    "An ARMA(2,0) model is an autoregressive model of order 2, or AR(2) model. This model can be written as: X_t - mu = (Beta1 * (X_t-1 - mu)) + (Beta2 * (Xt-2 - mu)) + Z_t, where X_t is the stationary time series we are studying (the time series of volcanic dust veil index), mu is the mean of time series X_t, Beta1 and Beta2 are parameters to be estimated, and Z_t is white noise with mean zero and constant variance.\n",
    "\n",
    "An AR (autoregressive) model is usually used to model a time series which shows longer term dependencies between successive observations. Intuitively, it makes sense that an AR model could be used to describe the time series of volcanic dust veil index, as we would expect volcanic dust and aerosol levels in one year to affect those in much later years, since the dust and aerosols are unlikely to disappear quickly.\n",
    "\n",
    "If an ARMA(2,0) model (with p=2, q=0) is used to model the time series of volcanic dust veil index, it would mean that an ARIMA(2,0,0) model can be used (with p=2, d=0, q=0, where d is the order of differencing required). Similarly, if an ARMA(p,q) mixed model is used, where p and q are both greater than zero, than an ARIMA(p,0,q) model can be used."
   ]
  },
  {
   "cell_type": "markdown",
   "metadata": {},
   "source": [
    "#### Shortcut: the auto.arima() function\n",
    "\n",
    "Again, we can use auto.arima() to find an appropriate model, by typing “auto.arima(volcanodust)”, which gives us ARIMA(1,0,2), which has 3 parameters. However, different criteria can be used to select a model (see auto.arima() help page). If we use the “bic” criterion, which penalises the number of parameters, we get ARIMA(2,0,0), which is ARMA(2,0): “auto.arima(volcanodust,ic=”bic”)”."
   ]
  },
  {
   "cell_type": "code",
   "execution_count": null,
   "metadata": {},
   "outputs": [],
   "source": [
    "forecast:::auto.arima(volcanodustseries, ic='bic')"
   ]
  },
  {
   "cell_type": "code",
   "execution_count": null,
   "metadata": {},
   "outputs": [],
   "source": [
    "forecast:::auto.arima(volcanodustseries)"
   ]
  },
  {
   "cell_type": "markdown",
   "metadata": {},
   "source": [
    "### Forecasting Using an ARIMA Model\n",
    "Once you have selected the best candidate ARIMA(p,d,q) model for your time series data, you can estimate the parameters of that ARIMA model, and use that as a predictive model for making forecasts for future values of your time series.\n",
    "\n",
    "You can estimate the parameters of an ARIMA(p,d,q) model using the “arima()” function in R."
   ]
  },
  {
   "cell_type": "markdown",
   "metadata": {},
   "source": [
    "##### Example of the Ages at Death of the Kings of England\n",
    "For example, we discussed above that an ARIMA(0,1,1) model seems a plausible model for the ages at deaths of the kings of England. You can specify the values of p, d and q in the ARIMA model by using the “order” argument of the “arima()” function in R. To fit an ARIMA(p,d,q) model to this time series (which we stored in the variable “kingstimeseries”, see above), we type:"
   ]
  },
  {
   "cell_type": "code",
   "execution_count": null,
   "metadata": {},
   "outputs": [],
   "source": [
    "kingstimeseriesarima <- arima(kingstimeseries, order=c(0,1,1)) # fit an ARIMA(0,1,1) model\n",
    "\n",
    "kingstimeseriesarima"
   ]
  },
  {
   "cell_type": "markdown",
   "metadata": {},
   "source": [
    "As mentioned above, if we are fitting an ARIMA(0,1,1) model to our time series, it means we are fitting an an ARMA(0,1) model to the time series of first differences. An ARMA(0,1) model can be written X_t - mu = Z_t - (theta * Z_t-1), where theta is a parameter to be estimated. From the output of the “arima()” R function (above), the estimated value of theta (given as ‘ma1’ in the R output) is -0.7218 in the case of the ARIMA(0,1,1) model fitted to the time series of ages at death of kings.\n",
    "\n",
    "We can then use the ARIMA model to make forecasts for future values of the time series, using the “forecast.Arima()” function in the “forecast” R package. For example, to forecast the ages at death of the next five English kings, we type:"
   ]
  },
  {
   "cell_type": "code",
   "execution_count": null,
   "metadata": {},
   "outputs": [],
   "source": [
    "kingstimeseriesforecasts <- forecast:::forecast.Arima(kingstimeseriesarima, h=5)\n",
    "\n",
    "kingstimeseriesforecasts"
   ]
  },
  {
   "cell_type": "markdown",
   "metadata": {},
   "source": [
    "##### Specifying the confidence level for prediction intervals\n",
    "\n",
    "* You can specify the confidence level for prediction intervals in forecast.Arima() by using the “level” argument. For example, to get a 99.5% prediction interval, we would type “forecast.Arima(kingstimeseriesarima, h=5, level=c(99.5))”."
   ]
  },
  {
   "cell_type": "code",
   "execution_count": null,
   "metadata": {},
   "outputs": [],
   "source": [
    "forecast:::forecast.Arima(kingstimeseriesarima, h=5, level=c(99.5))"
   ]
  },
  {
   "cell_type": "markdown",
   "metadata": {},
   "source": [
    "The original time series for the English kings includes the ages at death of 42 English kings. The forecast.Arima() function gives us a forecast of the age of death of the next five English kings (kings 43-47), as well as 80% and 95% prediction intervals for those predictions. The age of death of the 42nd English king was 56 years (the last observed value in our time series), and the ARIMA model gives the forecasted age at death of the next five kings as 67.8 years.\n",
    "\n",
    "We can plot the observed ages of death for the first 42 kings, as well as the ages that would be predicted for these 42 kings and for the next 5 kings using our ARIMA(0,1,1) model, by typing:"
   ]
  },
  {
   "cell_type": "code",
   "execution_count": null,
   "metadata": {},
   "outputs": [],
   "source": [
    "forecast:::plot.forecast(kingstimeseriesforecasts)"
   ]
  },
  {
   "cell_type": "markdown",
   "metadata": {},
   "source": [
    "As in the case of exponential smoothing models, it is a good idea to investigate whether the forecast errors of an ARIMA model are normally distributed with mean zero and constant variance, and whether the are correlations between successive forecast errors.\n",
    "\n",
    "For example, we can make a correlogram of the forecast errors for our ARIMA(0,1,1) model for the ages at death of kings, and perform the Ljung-Box test for lags 1-20, by typing:"
   ]
  },
  {
   "cell_type": "code",
   "execution_count": null,
   "metadata": {},
   "outputs": [],
   "source": [
    "acf(kingstimeseriesforecasts$residuals, lag.max=20)"
   ]
  },
  {
   "cell_type": "code",
   "execution_count": null,
   "metadata": {},
   "outputs": [],
   "source": [
    "Box.test(kingstimeseriesforecasts$residuals, lag=20, type=\"Ljung-Box\")"
   ]
  },
  {
   "cell_type": "markdown",
   "metadata": {},
   "source": [
    "Since the correlogram shows that none of the sample autocorrelations for lags 1-20 exceed the significance bounds, and the p-value for the Ljung-Box test is 0.9, we can conclude that there is very little evidence for non-zero autocorrelations in the forecast errors at lags 1-20.\n",
    "\n",
    "To investigate whether the forecast errors are normally distributed with mean zero and constant variance, we can make a time plot and histogram (with overlaid normal curve) of the forecast errors:"
   ]
  },
  {
   "cell_type": "code",
   "execution_count": null,
   "metadata": {},
   "outputs": [],
   "source": [
    "plot.ts(kingstimeseriesforecasts$residuals)            # make time plot of forecast errors"
   ]
  },
  {
   "cell_type": "code",
   "execution_count": null,
   "metadata": {},
   "outputs": [],
   "source": [
    "residuals <-  as.factor(kingstimeseriesforecasts$residuals)\n",
    "residuals <- as.numeric(as.character(residuals[!is.na(residuals)]))\n",
    "residuals[1:10]"
   ]
  },
  {
   "cell_type": "code",
   "execution_count": null,
   "metadata": {},
   "outputs": [],
   "source": [
    "hist(residuals)"
   ]
  },
  {
   "cell_type": "code",
   "execution_count": null,
   "metadata": {},
   "outputs": [],
   "source": [
    "shapiro.test(residuals)"
   ]
  },
  {
   "cell_type": "code",
   "execution_count": null,
   "metadata": {},
   "outputs": [],
   "source": [
    "mean(residuals)"
   ]
  },
  {
   "cell_type": "code",
   "execution_count": null,
   "metadata": {},
   "outputs": [],
   "source": [
    "qqnorm(residuals); qqline(residuals)"
   ]
  },
  {
   "cell_type": "markdown",
   "metadata": {},
   "source": [
    "The time plot of the in-sample forecast errors shows that the variance of the forecast errors seems to be roughly constant over time (though perhaps there is slightly higher variance for the second half of the time series). The histogram of the time series shows that the forecast errors are roughly normally distributed and the mean seems to be close to zero. Therefore, it is plausible that the forecast errors are normally distributed with mean zero and constant variance.\n",
    "\n",
    "Since successive forecast errors do not seem to be correlated, and the forecast errors seem to be normally distributed with mean zero and constant variance, the ARIMA(0,1,1) does seem to provide an adequate predictive model for the ages at death of English kings."
   ]
  },
  {
   "cell_type": "markdown",
   "metadata": {},
   "source": [
    "#### Example of the Volcanic Dust Veil in the Northern Hemisphere\n",
    "We discussed above that an appropriate ARIMA model for the time series of volcanic dust veil index may be an ARIMA(2,0,0) model. To fit an ARIMA(2,0,0) model to this time series, we can type:"
   ]
  },
  {
   "cell_type": "code",
   "execution_count": null,
   "metadata": {},
   "outputs": [],
   "source": [
    "volcanodustseriesarima <- arima(volcanodustseries, order=c(2,0,0))\n",
    "\n",
    "volcanodustseriesarima"
   ]
  },
  {
   "cell_type": "markdown",
   "metadata": {},
   "source": [
    "As mentioned above, an ARIMA(2,0,0) model can be written as: written as: X_t - mu = (Beta1 * (X_t-1 - mu)) + (Beta2 * (Xt-2 - mu)) + Z_t, where Beta1 and Beta2 are parameters to be estimated. The output of the arima() function tells us that Beta1 and Beta2 are estimated as 0.7533 and -0.1268 here (given as ar1 and ar2 in the output of arima()).\n",
    "\n",
    "Now we have fitted the ARIMA(2,0,0) model, we can use the “forecast.ARIMA()” model to predict future values of the volcanic dust veil index. The original data includes the years 1500-1969. To make predictions for the years 1970-2000 (31 more years), we type:"
   ]
  },
  {
   "cell_type": "code",
   "execution_count": null,
   "metadata": {},
   "outputs": [],
   "source": [
    "volcanodustseriesforecasts <- forecast:::forecast.Arima(volcanodustseriesarima, h=31)\n",
    "\n",
    "forecast:::plot.forecast(volcanodustseriesforecasts)"
   ]
  },
  {
   "cell_type": "markdown",
   "metadata": {},
   "source": [
    "One worrying thing is that the model has predicted negative values for the volcanic dust veil index, but this variable can only have positive values! The reason is that the arima() and forecast.Arima() functions don’t know that the variable can only take positive values. Clearly, this is not a very desirable feature of our current predictive model.\n",
    "\n",
    "Again, we should investigate whether the forecast errors seem to be correlated, and whether they are normally distributed with mean zero and constant variance. To check for correlations between successive forecast errors, we can make a correlogram and use the Ljung-Box test:"
   ]
  },
  {
   "cell_type": "code",
   "execution_count": null,
   "metadata": {},
   "outputs": [],
   "source": [
    "acf(volcanodustseriesforecasts$residuals, lag.max=20)"
   ]
  },
  {
   "cell_type": "code",
   "execution_count": null,
   "metadata": {},
   "outputs": [],
   "source": [
    "Box.test(volcanodustseriesforecasts$residuals, lag=20, type=\"Ljung-Box\")"
   ]
  },
  {
   "cell_type": "markdown",
   "metadata": {},
   "source": [
    "The correlogram shows that the sample autocorrelation at lag 20 exceeds the significance bounds. However, this is probably due to chance, since we would expect one out of 20 sample autocorrelations to exceed the 95% significance bounds. Furthermore, the p-value for the Ljung-Box test is 0.2, indicating that there is little evidence for non-zero autocorrelations in the forecast errors for lags 1-20.\n",
    "\n",
    "To check whether the forecast errors are normally distributed with mean zero and constant variance, we make a time plot of the forecast errors, and a histogram:"
   ]
  },
  {
   "cell_type": "code",
   "execution_count": null,
   "metadata": {},
   "outputs": [],
   "source": [
    "plot.ts(volcanodustseriesforecasts$residuals)            # make time plot of forecast errors"
   ]
  },
  {
   "cell_type": "code",
   "execution_count": null,
   "metadata": {},
   "outputs": [],
   "source": [
    "residuals <-  as.factor(volcanodustseriesforecasts$residuals)\n",
    "residuals <- as.numeric(as.character(residuals[!is.na(residuals)]))\n",
    "\n",
    "hist(residuals)"
   ]
  },
  {
   "cell_type": "code",
   "execution_count": null,
   "metadata": {},
   "outputs": [],
   "source": [
    "shapiro.test(residuals)"
   ]
  },
  {
   "cell_type": "code",
   "execution_count": null,
   "metadata": {},
   "outputs": [],
   "source": [
    "qqnorm(residuals); qqline(residuals)"
   ]
  },
  {
   "cell_type": "markdown",
   "metadata": {},
   "source": [
    "The time plot of forecast errors shows that the forecast errors seem to have roughly constant variance over time. However, the time series of forecast errors seems to have a negative mean, rather than a zero mean. We can confirm this by calculating the mean forecast error, which turns out to be about -0.22:"
   ]
  },
  {
   "cell_type": "code",
   "execution_count": null,
   "metadata": {},
   "outputs": [],
   "source": [
    "mean(volcanodustseriesforecasts$residuals)"
   ]
  },
  {
   "cell_type": "markdown",
   "metadata": {},
   "source": [
    "The histogram of forecast errors (above) shows that although the mean value of the forecast errors is negative, the distribution of forecast errors is skewed to the right compared to a normal curve. Therefore, it seems that we cannot comfortably conclude that the forecast errors are normally distributed with mean zero and constant variance! Thus, it is likely that our ARIMA(2,0,0) model for the time series of volcanic dust veil index is not the best model that we could make, and could almost definitely be improved upon!"
   ]
  },
  {
   "cell_type": "code",
   "execution_count": null,
   "metadata": {},
   "outputs": [],
   "source": []
  }
 ],
 "metadata": {
  "kernelspec": {
   "display_name": "R",
   "language": "R",
   "name": "ir"
  },
  "language_info": {
   "codemirror_mode": "r",
   "file_extension": ".r",
   "mimetype": "text/x-r-source",
   "name": "R",
   "pygments_lexer": "r",
   "version": "3.4.3"
  }
 },
 "nbformat": 4,
 "nbformat_minor": 2
}
