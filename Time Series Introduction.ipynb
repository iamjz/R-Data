{
 "cells": [
  {
   "cell_type": "markdown",
   "metadata": {},
   "source": [
    "# Exploratory time series data analysis\n",
    "\n",
    "Many phenomena in our day-to-day lives, such as the movement of stock prices, are measured in intervals over a period of time. Time series analysis methods are extremely useful for analyzing these special data types."
   ]
  },
  {
   "cell_type": "markdown",
   "metadata": {},
   "source": [
    "## Exploring raw time series\n",
    "The most common first step when conducting time series analysis is to display your time series dataset in a visually intuitive format."
   ]
  },
  {
   "cell_type": "code",
   "execution_count": 1,
   "metadata": {
    "collapsed": true
   },
   "outputs": [],
   "source": [
    "options(warn = -1)\n",
    "\n",
    "library(tidytext)\n"
   ]
  },
  {
   "cell_type": "code",
   "execution_count": 2,
   "metadata": {
    "collapsed": true
   },
   "outputs": [],
   "source": [
    "df <- read.csv(\"datasets/timeseries/Nile.csv\")"
   ]
  },
  {
   "cell_type": "code",
   "execution_count": 3,
   "metadata": {},
   "outputs": [
    {
     "data": {
      "text/html": [
       "<table>\n",
       "<thead><tr><th scope=col>streamflow</th></tr></thead>\n",
       "<tbody>\n",
       "\t<tr><td>1120</td></tr>\n",
       "\t<tr><td>1160</td></tr>\n",
       "\t<tr><td> 963</td></tr>\n",
       "\t<tr><td>1210</td></tr>\n",
       "\t<tr><td>1160</td></tr>\n",
       "\t<tr><td>1160</td></tr>\n",
       "</tbody>\n",
       "</table>\n"
      ],
      "text/latex": [
       "\\begin{tabular}{r|l}\n",
       " streamflow\\\\\n",
       "\\hline\n",
       "\t 1120\\\\\n",
       "\t 1160\\\\\n",
       "\t  963\\\\\n",
       "\t 1210\\\\\n",
       "\t 1160\\\\\n",
       "\t 1160\\\\\n",
       "\\end{tabular}\n"
      ],
      "text/markdown": [
       "\n",
       "streamflow | \n",
       "|---|---|---|---|---|---|\n",
       "| 1120 | \n",
       "| 1160 | \n",
       "|  963 | \n",
       "| 1210 | \n",
       "| 1160 | \n",
       "| 1160 | \n",
       "\n",
       "\n"
      ],
      "text/plain": [
       "  streamflow\n",
       "1 1120      \n",
       "2 1160      \n",
       "3  963      \n",
       "4 1210      \n",
       "5 1160      \n",
       "6 1160      "
      ]
     },
     "metadata": {},
     "output_type": "display_data"
    }
   ],
   "source": [
    "head(df)"
   ]
  },
  {
   "cell_type": "code",
   "execution_count": 4,
   "metadata": {
    "collapsed": true
   },
   "outputs": [],
   "source": [
    "Nile <- ts(df[\"streamflow\"], start = 1871, end = 1970, frequency = 1)"
   ]
  },
  {
   "cell_type": "code",
   "execution_count": 5,
   "metadata": {},
   "outputs": [
    {
     "name": "stdout",
     "output_type": "stream",
     "text": [
      "Time Series:\n",
      "Start = 1871 \n",
      "End = 1970 \n",
      "Frequency = 1 \n",
      "       streamflow\n",
      "  [1,]       1120\n",
      "  [2,]       1160\n",
      "  [3,]        963\n",
      "  [4,]       1210\n",
      "  [5,]       1160\n",
      "  [6,]       1160\n",
      "  [7,]        813\n",
      "  [8,]       1230\n",
      "  [9,]       1370\n",
      " [10,]       1140\n",
      " [11,]        995\n",
      " [12,]        935\n",
      " [13,]       1110\n",
      " [14,]        994\n",
      " [15,]       1020\n",
      " [16,]        960\n",
      " [17,]       1180\n",
      " [18,]        799\n",
      " [19,]        958\n",
      " [20,]       1140\n",
      " [21,]       1100\n",
      " [22,]       1210\n",
      " [23,]       1150\n",
      " [24,]       1250\n",
      " [25,]       1260\n",
      " [26,]       1220\n",
      " [27,]       1030\n",
      " [28,]       1100\n",
      " [29,]        774\n",
      " [30,]        840\n",
      " [31,]        874\n",
      " [32,]        694\n",
      " [33,]        940\n",
      " [34,]        833\n",
      " [35,]        701\n",
      " [36,]        916\n",
      " [37,]        692\n",
      " [38,]       1020\n",
      " [39,]       1050\n",
      " [40,]        969\n",
      " [41,]        831\n",
      " [42,]        726\n",
      " [43,]        456\n",
      " [44,]        824\n",
      " [45,]        702\n",
      " [46,]       1120\n",
      " [47,]       1100\n",
      " [48,]        832\n",
      " [49,]        764\n",
      " [50,]        821\n",
      " [51,]        768\n",
      " [52,]        845\n",
      " [53,]        864\n",
      " [54,]        862\n",
      " [55,]        698\n",
      " [56,]        845\n",
      " [57,]        744\n",
      " [58,]        796\n",
      " [59,]       1040\n",
      " [60,]        759\n",
      " [61,]        781\n",
      " [62,]        865\n",
      " [63,]        845\n",
      " [64,]        944\n",
      " [65,]        984\n",
      " [66,]        897\n",
      " [67,]        822\n",
      " [68,]       1010\n",
      " [69,]        771\n",
      " [70,]        676\n",
      " [71,]        649\n",
      " [72,]        846\n",
      " [73,]        812\n",
      " [74,]        742\n",
      " [75,]        801\n",
      " [76,]       1040\n",
      " [77,]        860\n",
      " [78,]        874\n",
      " [79,]        848\n",
      " [80,]        890\n",
      " [81,]        744\n",
      " [82,]        749\n",
      " [83,]        838\n",
      " [84,]       1050\n",
      " [85,]        918\n",
      " [86,]        986\n",
      " [87,]        797\n",
      " [88,]        923\n",
      " [89,]        975\n",
      " [90,]        815\n",
      " [91,]       1020\n",
      " [92,]        906\n",
      " [93,]        901\n",
      " [94,]       1170\n",
      " [95,]        912\n",
      " [96,]        746\n",
      " [97,]        919\n",
      " [98,]        718\n",
      " [99,]        714\n",
      "[100,]        740\n"
     ]
    }
   ],
   "source": [
    "print(Nile)"
   ]
  },
  {
   "cell_type": "code",
   "execution_count": 6,
   "metadata": {},
   "outputs": [
    {
     "data": {
      "text/html": [
       "100"
      ],
      "text/latex": [
       "100"
      ],
      "text/markdown": [
       "100"
      ],
      "text/plain": [
       "[1] 100"
      ]
     },
     "metadata": {},
     "output_type": "display_data"
    }
   ],
   "source": [
    "length(Nile)"
   ]
  },
  {
   "cell_type": "code",
   "execution_count": 7,
   "metadata": {},
   "outputs": [
    {
     "data": {
      "image/png": "[encoded data removed]",
      "text/plain": [
       "plot without title"
      ]
     },
     "metadata": {},
     "output_type": "display_data"
    }
   ],
   "source": [
    "plot(Nile)"
   ]
  },
  {
   "cell_type": "code",
   "execution_count": 8,
   "metadata": {},
   "outputs": [
    {
     "data": {
      "image/png": "[encoded data removed]",
      "text/plain": [
       "Plot with title \"Annual River Nile Volume at Aswan, 1871-1970\""
      ]
     },
     "metadata": {},
     "output_type": "display_data"
    }
   ],
   "source": [
    "# renaming the X and Y axis\n",
    "plot(Nile, xlab = \"Year\", ylab = \"River Volume (1e9 m^{3})\", \n",
    "         main = \"Annual River Nile Volume at Aswan, 1871-1970\", type = \"b\")"
   ]
  },
  {
   "cell_type": "markdown",
   "metadata": {},
   "source": [
    "## What does the time index tell us?\n",
    "Some data are naturally evenly spaced by time. The time series discrete_data shown has 20 observations, with one observation appearing at each of the discrete time indices 1 through 20. Discrete time indexing is appropriate for discrete_data."
   ]
  },
  {
   "cell_type": "code",
   "execution_count": 9,
   "metadata": {},
   "outputs": [
    {
     "name": "stdout",
     "output_type": "stream",
     "text": [
      "Time Series:\n",
      "Start = 1 \n",
      "End = 20 \n",
      "Frequency = 1 \n",
      " [1]  0.47942554  0.84147098  0.99749499  0.90929743  0.59847214  0.14112001\n",
      " [7] -0.35078323 -0.75680250 -0.97753012 -0.95892427 -0.70554033 -0.27941550\n",
      "[13]  0.21511999  0.65698660  0.93799998  0.98935825  0.79848711  0.41211849\n",
      "[19] -0.07515112 -0.54402111\n"
     ]
    }
   ],
   "source": [
    "data <- c(0.47942554,0.84147098,0.99749499,0.90929743,0.59847214,0.14112001,-0.35078323,-0.75680250,-0.97753012,-0.95892427,-0.70554033,-0.27941550\n",
    ",0.21511999,0.65698660,0.93799998,0.98935825,0.79848711,0.41211849,-0.07515112,-0.54402111)\n",
    "\n",
    "discrete_data <- ts(data, start = 1, end = 20, frequency = 1)\n",
    "print(discrete_data)"
   ]
  },
  {
   "cell_type": "code",
   "execution_count": 10,
   "metadata": {},
   "outputs": [
    {
     "data": {
      "image/png": "[encoded data removed]",
      "text/plain": [
       "Plot with title \"discrete_data\""
      ]
     },
     "metadata": {},
     "output_type": "display_data"
    }
   ],
   "source": [
    "plot(discrete_data, type = \"b\", main = \"discrete_data\")"
   ]
  },
  {
   "cell_type": "markdown",
   "metadata": {},
   "source": [
    "The time series continuous_series shown also has 20 observations, it is following the same periodic pattern as discrete_data, but its observations are not evenly spaced. Its first, second, and last observations were observed at times 1.210322, 1.746137, and 20.180524, respectively. Continuous time indexing is natural for continuous_series, however, the observations are approximately evenly spaced, with about 1 observation observed per time unit. Let's investigate using a discrete time indexing for continuous_series."
   ]
  },
  {
   "cell_type": "code",
   "execution_count": 11,
   "metadata": {},
   "outputs": [
    {
     "name": "stdout",
     "output_type": "stream",
     "text": [
      " [1]  0.56889468  0.76630408  0.99207512  0.97481741  0.39912320  0.37660246\n",
      " [7] -0.38532033 -0.83635852 -0.99966983 -0.99831019 -0.64622280 -0.09386151\n",
      "[13]  0.40052909  0.68160578  0.95318159  0.99693803  0.83934194  0.37003754\n",
      "[19] -0.25509676 -0.61743983\n"
     ]
    }
   ],
   "source": [
    "data2 <- c(0.56889468,0.76630408,0.99207512,0.97481741,0.39912320,0.37660246\n",
    ",-0.38532033,-0.83635852,-0.99966983,-0.99831019,-0.64622280,-0.09386151\n",
    ",0.40052909,0.68160578,0.95318159,0.99693803,0.83934194,0.37003754\n",
    ",-0.25509676,-0.61743983)\n",
    "\n",
    "continuous_series <- data2\n",
    "print(continuous_series)"
   ]
  },
  {
   "cell_type": "code",
   "execution_count": 12,
   "metadata": {},
   "outputs": [
    {
     "data": {
      "image/png": "[encoded data removed]",
      "text/plain": [
       "Plot with title \"continuous_series\""
      ]
     },
     "metadata": {},
     "output_type": "display_data"
    }
   ],
   "source": [
    "plot(continuous_series, type = \"b\", main = \"continuous_series\")"
   ]
  },
  {
   "cell_type": "code",
   "execution_count": 13,
   "metadata": {
    "collapsed": true
   },
   "outputs": [],
   "source": [
    "continuous_time_index <- c(1.210322,1.746137,2.889634,3.591384,5.462065,5.510933,7.074295,8.264398,9.373382,9.541063,11.161122,12.378371,13.390559,14.066280,15.093547,15.864515,16.857413,18.091457,19.365451,20.180524)"
   ]
  },
  {
   "cell_type": "code",
   "execution_count": 14,
   "metadata": {},
   "outputs": [
    {
     "data": {
      "image/png": "[encoded data removed]",
      "text/plain": [
       "plot without title"
      ]
     },
     "metadata": {},
     "output_type": "display_data"
    }
   ],
   "source": [
    "# Plot the continuous_series using continuous time indexing\n",
    "par(mfrow=c(2,1))\n",
    "plot(continuous_time_index,continuous_series, type = \"b\")\n",
    "\n",
    "# Make a discrete time index using 1:20 \n",
    "discrete_time_index <- c(1:20)\n",
    "\n",
    "# Now plot the continuous_series using discrete time indexing\n",
    "plot(discrete_time_index,continuous_series, type = \"b\")\n"
   ]
  },
  {
   "cell_type": "markdown",
   "metadata": {},
   "source": [
    "Note the various differences between the resulting figures, but the approximation appears reasonable because the overall trend remained preserved"
   ]
  },
  {
   "cell_type": "markdown",
   "metadata": {},
   "source": [
    "* Sampling Frequency (Exact): Some time series data is EXACTLY evenly spaced. example: hourly temperature measurements\n",
    "* Sampling Frequency (Approximate): Some time series data is APPROXIMATELY evenly spaced. example: temperature measurements everytime you check your email.\n",
    "* Sampling Frequency (Missing Values): Some time series data is evenly spaced but with missing values. example: hourly temperature measurements but only during the times you're awake.\n",
    "\n",
    "#### Basic assumptions\n",
    "Simplifying assumptions for time series:\n",
    "* Consecutive observations are equally spaced.\n",
    "* Apply a discrete-time observation index.\n",
    "* In practice, this may only hold approximately. \n",
    "\n",
    "Example: Daily log returns on stock may only be available for weekdays.\n"
   ]
  },
  {
   "cell_type": "markdown",
   "metadata": {},
   "source": [
    "## Identifying the sampling frequency\n",
    "In addition to viewing your data and plotting over time, there are several additional operations that can be performed on time series datasets.\n",
    "\n",
    "The start() and end() functions return the time index of the first and last observations, respectively. The time() function calculates a vector of time indices, with one element for each time index on which the series was observed.\n",
    "\n",
    "The deltat() function returns the fixed time interval between observations and the frequency() function returns the number of observations per unit time. Finally, the cycle() function returns the position in the cycle of each observation.\n",
    "\n",
    "These commands provide considerable descriptive information about the structures and patterns in your time series data"
   ]
  },
  {
   "cell_type": "markdown",
   "metadata": {},
   "source": [
    "## When is the sampling frequency exact?\n",
    "The sampling frequency is often only approximate and the interval between observations is not quite a fixed unit. For example, there are usually 365 days in a year based on the Gregorian calendar. However, (almost) every four years there are 366 days (leap years). This compensates for the fact that the Earth completes a rotation around Sol, the sun, in approximately 365.2422 days, on average.\n",
    "\n",
    "As a simplifying assumption, we often ignore these small discrepancies and proceed as though the sampling frequency and observation intervals are fixed constants. Typically, our results will not be sensitive to approximation when the underlying process is not changing too quickly."
   ]
  },
  {
   "cell_type": "markdown",
   "metadata": {},
   "source": [
    "## Missing values\n",
    "Sometimes there are missing values in time series data, denoted NA in R, and it is useful to know their locations. It is also important to know how missing values are handled by various R functions. Sometimes we may want to ignore any missingness, but other times we may wish to impute or estimate the missing values.\n",
    "\n",
    "Let's again consider the monthly AirPassengers dataset, but now the data for the year 1956 are missing. \n",
    "\n",
    "The mean() function calculates the sample mean, but it fails in the presence of any NA values. Use mean(___, na.rm = TRUE) to calculate the mean with all missing values removed. It is common to replace missing values with the mean of the observed values. Does this simple data imputation scheme appear adequate when applied the the AirPassengers dataset?"
   ]
  },
  {
   "cell_type": "markdown",
   "metadata": {},
   "source": [
    "## Creating a time series object with ts()\n",
    "The function ts() can be applied to create time series objects. A time series object is a vector (univariate) or matrix (multivariate) with additional attributes, including time indices for each observation, the sampling frequency and time increment between observations, and the cycle length for periodic data. Such objects are of the ts class, and represent data that has been observed at (approximately) equally spaced time points. Now you will create time series objects yourself.\n",
    "\n",
    "The advantage of creating and working with time series objects of the ts class is that many methods are available for utilizing time series attributes, such as time index information. For example, as you've seen in earlier exercises, calling plot() on a ts object will automatically generate a plot over time."
   ]
  },
  {
   "cell_type": "code",
   "execution_count": 15,
   "metadata": {},
   "outputs": [
    {
     "data": {
      "text/html": [
       "<ol class=list-inline>\n",
       "\t<li>2.0521941073</li>\n",
       "\t<li>4.2928852797</li>\n",
       "\t<li>3.3294132944</li>\n",
       "\t<li>3.508595067</li>\n",
       "\t<li>0.0009576938</li>\n",
       "\t<li>1.9217186345</li>\n",
       "\t<li>0.7978134128</li>\n",
       "\t<li>0.2999543435</li>\n",
       "\t<li>0.9435687536</li>\n",
       "\t<li>0.5748283388</li>\n",
       "\t<li>-0.0034005903</li>\n",
       "\t<li>0.3448649176</li>\n",
       "\t<li>2.2229761136</li>\n",
       "\t<li>0.1763144576</li>\n",
       "\t<li>2.709762277</li>\n",
       "\t<li>1.2501948965</li>\n",
       "\t<li>-0.4007164754</li>\n",
       "\t<li>0.8852732121</li>\n",
       "\t<li>-1.5852420266</li>\n",
       "\t<li>-2.2829278891</li>\n",
       "\t<li>-2.560953129</li>\n",
       "\t<li>-3.1259963754</li>\n",
       "\t<li>-2.8660295895</li>\n",
       "\t<li>-1.7847009207</li>\n",
       "\t<li>-1.8894912908</li>\n",
       "\t<li>-2.7255351194</li>\n",
       "\t<li>-2.10331418</li>\n",
       "\t<li>-0.0174256893</li>\n",
       "\t<li>-0.3613204151</li>\n",
       "\t<li>-2.9008403327</li>\n",
       "\t<li>-3.2847440927</li>\n",
       "\t<li>-2.8684594718</li>\n",
       "\t<li>-1.9505074437</li>\n",
       "\t<li>-4.8801892525</li>\n",
       "\t<li>-3.2634605353</li>\n",
       "\t<li>-1.6396062522</li>\n",
       "\t<li>-3.301257584</li>\n",
       "\t<li>-2.6331245433</li>\n",
       "\t<li>-1.7058354022</li>\n",
       "\t<li>-2.2119825061</li>\n",
       "\t<li>-0.5170595186</li>\n",
       "\t<li>0.0752508095</li>\n",
       "\t<li>-0.8406994716</li>\n",
       "\t<li>-1.4022683487</li>\n",
       "\t<li>-0.138211423</li>\n",
       "\t<li>-1.4065954703</li>\n",
       "\t<li>-2.3046941055</li>\n",
       "\t<li>1.5073891432</li>\n",
       "\t<li>0.7118679477</li>\n",
       "\t<li>-1.1300519022</li>\n",
       "</ol>\n"
      ],
      "text/latex": [
       "\\begin{enumerate*}\n",
       "\\item 2.0521941073\n",
       "\\item 4.2928852797\n",
       "\\item 3.3294132944\n",
       "\\item 3.508595067\n",
       "\\item 0.0009576938\n",
       "\\item 1.9217186345\n",
       "\\item 0.7978134128\n",
       "\\item 0.2999543435\n",
       "\\item 0.9435687536\n",
       "\\item 0.5748283388\n",
       "\\item -0.0034005903\n",
       "\\item 0.3448649176\n",
       "\\item 2.2229761136\n",
       "\\item 0.1763144576\n",
       "\\item 2.709762277\n",
       "\\item 1.2501948965\n",
       "\\item -0.4007164754\n",
       "\\item 0.8852732121\n",
       "\\item -1.5852420266\n",
       "\\item -2.2829278891\n",
       "\\item -2.560953129\n",
       "\\item -3.1259963754\n",
       "\\item -2.8660295895\n",
       "\\item -1.7847009207\n",
       "\\item -1.8894912908\n",
       "\\item -2.7255351194\n",
       "\\item -2.10331418\n",
       "\\item -0.0174256893\n",
       "\\item -0.3613204151\n",
       "\\item -2.9008403327\n",
       "\\item -3.2847440927\n",
       "\\item -2.8684594718\n",
       "\\item -1.9505074437\n",
       "\\item -4.8801892525\n",
       "\\item -3.2634605353\n",
       "\\item -1.6396062522\n",
       "\\item -3.301257584\n",
       "\\item -2.6331245433\n",
       "\\item -1.7058354022\n",
       "\\item -2.2119825061\n",
       "\\item -0.5170595186\n",
       "\\item 0.0752508095\n",
       "\\item -0.8406994716\n",
       "\\item -1.4022683487\n",
       "\\item -0.138211423\n",
       "\\item -1.4065954703\n",
       "\\item -2.3046941055\n",
       "\\item 1.5073891432\n",
       "\\item 0.7118679477\n",
       "\\item -1.1300519022\n",
       "\\end{enumerate*}\n"
      ],
      "text/markdown": [
       "1. 2.0521941073\n",
       "2. 4.2928852797\n",
       "3. 3.3294132944\n",
       "4. 3.508595067\n",
       "5. 0.0009576938\n",
       "6. 1.9217186345\n",
       "7. 0.7978134128\n",
       "8. 0.2999543435\n",
       "9. 0.9435687536\n",
       "10. 0.5748283388\n",
       "11. -0.0034005903\n",
       "12. 0.3448649176\n",
       "13. 2.2229761136\n",
       "14. 0.1763144576\n",
       "15. 2.709762277\n",
       "16. 1.2501948965\n",
       "17. -0.4007164754\n",
       "18. 0.8852732121\n",
       "19. -1.5852420266\n",
       "20. -2.2829278891\n",
       "21. -2.560953129\n",
       "22. -3.1259963754\n",
       "23. -2.8660295895\n",
       "24. -1.7847009207\n",
       "25. -1.8894912908\n",
       "26. -2.7255351194\n",
       "27. -2.10331418\n",
       "28. -0.0174256893\n",
       "29. -0.3613204151\n",
       "30. -2.9008403327\n",
       "31. -3.2847440927\n",
       "32. -2.8684594718\n",
       "33. -1.9505074437\n",
       "34. -4.8801892525\n",
       "35. -3.2634605353\n",
       "36. -1.6396062522\n",
       "37. -3.301257584\n",
       "38. -2.6331245433\n",
       "39. -1.7058354022\n",
       "40. -2.2119825061\n",
       "41. -0.5170595186\n",
       "42. 0.0752508095\n",
       "43. -0.8406994716\n",
       "44. -1.4022683487\n",
       "45. -0.138211423\n",
       "46. -1.4065954703\n",
       "47. -2.3046941055\n",
       "48. 1.5073891432\n",
       "49. 0.7118679477\n",
       "50. -1.1300519022\n",
       "\n",
       "\n"
      ],
      "text/plain": [
       " [1]  2.0521941073  4.2928852797  3.3294132944  3.5085950670  0.0009576938\n",
       " [6]  1.9217186345  0.7978134128  0.2999543435  0.9435687536  0.5748283388\n",
       "[11] -0.0034005903  0.3448649176  2.2229761136  0.1763144576  2.7097622770\n",
       "[16]  1.2501948965 -0.4007164754  0.8852732121 -1.5852420266 -2.2829278891\n",
       "[21] -2.5609531290 -3.1259963754 -2.8660295895 -1.7847009207 -1.8894912908\n",
       "[26] -2.7255351194 -2.1033141800 -0.0174256893 -0.3613204151 -2.9008403327\n",
       "[31] -3.2847440927 -2.8684594718 -1.9505074437 -4.8801892525 -3.2634605353\n",
       "[36] -1.6396062522 -3.3012575840 -2.6331245433 -1.7058354022 -2.2119825061\n",
       "[41] -0.5170595186  0.0752508095 -0.8406994716 -1.4022683487 -0.1382114230\n",
       "[46] -1.4065954703 -2.3046941055  1.5073891432  0.7118679477 -1.1300519022"
      ]
     },
     "metadata": {},
     "output_type": "display_data"
    }
   ],
   "source": [
    "data_vector <- c(2.0521941073,4.2928852797,3.3294132944,3.5085950670,0.0009576938,\n",
    "1.9217186345,0.7978134128,0.2999543435,0.9435687536,0.5748283388\n",
    ",-0.0034005903,0.3448649176,2.2229761136,0.1763144576,2.7097622770, 1.2501948965,-0.4007164754,0.8852732121,-1.5852420266,-2.2829278891,-2.5609531290,-3.1259963754,-2.8660295895,-1.7847009207,-1.8894912908\n",
    ",-2.7255351194,-2.1033141800,-0.0174256893,-0.3613204151,-2.9008403327\n",
    ",-3.2847440927,-2.8684594718,-1.9505074437,-4.8801892525,-3.2634605353,-1.6396062522,-3.3012575840,-2.6331245433,-1.7058354022,-2.2119825061\n",
    ",-0.5170595186,0.0752508095,-0.8406994716,-1.4022683487,-0.1382114230\n",
    ",-1.4065954703,-2.3046941055,1.5073891432,0.7118679477,-1.1300519022)\n",
    "\n",
    "data_vector"
   ]
  },
  {
   "cell_type": "code",
   "execution_count": 16,
   "metadata": {},
   "outputs": [
    {
     "data": {
      "image/png": "[encoded data removed]",
      "text/plain": [
       "plot without title"
      ]
     },
     "metadata": {},
     "output_type": "display_data"
    }
   ],
   "source": [
    "plot(data_vector)"
   ]
  },
  {
   "cell_type": "code",
   "execution_count": 17,
   "metadata": {},
   "outputs": [
    {
     "name": "stdout",
     "output_type": "stream",
     "text": [
      "              Qtr1          Qtr2          Qtr3          Qtr4\n",
      "2004  2.0521941073  4.2928852797  3.3294132944  3.5085950670\n",
      "2005  0.0009576938  1.9217186345  0.7978134128  0.2999543435\n",
      "2006  0.9435687536  0.5748283388 -0.0034005903  0.3448649176\n",
      "2007  2.2229761136  0.1763144576  2.7097622770  1.2501948965\n",
      "2008 -0.4007164754  0.8852732121 -1.5852420266 -2.2829278891\n",
      "2009 -2.5609531290 -3.1259963754 -2.8660295895 -1.7847009207\n",
      "2010 -1.8894912908 -2.7255351194 -2.1033141800 -0.0174256893\n",
      "2011 -0.3613204151 -2.9008403327 -3.2847440927 -2.8684594718\n",
      "2012 -1.9505074437 -4.8801892525 -3.2634605353 -1.6396062522\n",
      "2013 -3.3012575840 -2.6331245433 -1.7058354022 -2.2119825061\n",
      "2014 -0.5170595186  0.0752508095 -0.8406994716 -1.4022683487\n",
      "2015 -0.1382114230 -1.4065954703 -2.3046941055  1.5073891432\n",
      "2016  0.7118679477 -1.1300519022                            \n"
     ]
    }
   ],
   "source": [
    "# Convert data_vector to a ts object with start = 2004 and frequency = 4\n",
    "time_series <- ts(data_vector, start = 2004, frequency = 4)\n",
    "\n",
    "print(time_series)"
   ]
  },
  {
   "cell_type": "code",
   "execution_count": 18,
   "metadata": {},
   "outputs": [
    {
     "data": {
      "image/png": "[encoded data removed]",
      "text/plain": [
       "plot without title"
      ]
     },
     "metadata": {},
     "output_type": "display_data"
    }
   ],
   "source": [
    "plot(time_series)"
   ]
  },
  {
   "cell_type": "markdown",
   "metadata": {},
   "source": [
    "As you can see, ts objects are treated differently by commands such as print() and plot(). For example, automatic use of the time-index in your calls to plot() requires a ts object."
   ]
  },
  {
   "cell_type": "markdown",
   "metadata": {},
   "source": [
    "## Testing whether an object is a time series\n",
    "When you work to create your own datasets, you can build them as ts objects. Recall the dataset data_vector from the previous exercise, which was just a vector of numbers, and time_series, the ts object you created from data_vector using the ts() function and information regarding the start time and the observation frequency.\n",
    "\n",
    "When you use datasets from others, such as those included in an R package, you can check whether they are ts objects using the is.ts() command. The result of the test is either TRUE when the data is of the ts class, or FALSE if it is not."
   ]
  },
  {
   "cell_type": "code",
   "execution_count": 19,
   "metadata": {},
   "outputs": [
    {
     "data": {
      "text/html": [
       "FALSE"
      ],
      "text/latex": [
       "FALSE"
      ],
      "text/markdown": [
       "FALSE"
      ],
      "text/plain": [
       "[1] FALSE"
      ]
     },
     "metadata": {},
     "output_type": "display_data"
    }
   ],
   "source": [
    "is.ts(data_vector)"
   ]
  },
  {
   "cell_type": "code",
   "execution_count": 20,
   "metadata": {},
   "outputs": [
    {
     "data": {
      "text/html": [
       "TRUE"
      ],
      "text/latex": [
       "TRUE"
      ],
      "text/markdown": [
       "TRUE"
      ],
      "text/plain": [
       "[1] TRUE"
      ]
     },
     "metadata": {},
     "output_type": "display_data"
    }
   ],
   "source": [
    "is.ts(time_series)"
   ]
  },
  {
   "cell_type": "code",
   "execution_count": 21,
   "metadata": {},
   "outputs": [
    {
     "data": {
      "text/html": [
       "TRUE"
      ],
      "text/latex": [
       "TRUE"
      ],
      "text/markdown": [
       "TRUE"
      ],
      "text/plain": [
       "[1] TRUE"
      ]
     },
     "metadata": {},
     "output_type": "display_data"
    }
   ],
   "source": [
    "is.ts(Nile)"
   ]
  },
  {
   "cell_type": "markdown",
   "metadata": {},
   "source": [
    "## Plotting a time series object\n",
    "It is often very useful to plot data we are analyzing, as is the case when conducting time series analysis. If the dataset under study is of the ts class, then the plot() function has methods that automatically incorporate time index information into a figure.\n",
    "\n",
    "Let's consider the eu_stocks dataset (available in R by default as EuStockMarkets). This dataset contains daily closing prices of major European stock indices from 1991-1998, specifically, from Germany (DAX), Switzerland (SMI), France (CAC), and the UK (FTSE). The data were observed when the markets were open, so there are no observations on weekends and holidays. We will proceed with the approximation that this dataset has evenly spaced observations and is a four dimensional time series."
   ]
  },
  {
   "cell_type": "code",
   "execution_count": 22,
   "metadata": {},
   "outputs": [
    {
     "data": {
      "text/html": [
       "7440"
      ],
      "text/latex": [
       "7440"
      ],
      "text/markdown": [
       "7440"
      ],
      "text/plain": [
       "[1] 7440"
      ]
     },
     "metadata": {},
     "output_type": "display_data"
    }
   ],
   "source": [
    "eu_stocks_data <- c(628.75,1613.63,1606.51,1621.04,1618.16,1610.61,1630.75,1640.17,1635.47,\n",
    "1645.89,1647.84,1638.35,1629.93,1621.49,1624.74,1627.63,1631.99,1621.18,\n",
    "1613.42,1604.95,1605.75,1616.67,1619.29,1620.49,1619.67,1623.07,1613.98,\n",
    "1631.87,1630.37,1633.47,1626.55,1650.43,1650.06,1654.11,1653.60,1501.82,\n",
    "1524.28,1603.65,1622.49,1636.68,1652.10,1645.81,1650.36,1651.55,1649.88,\n",
    "1653.52,1657.51,1649.55,1649.09,1646.41,1638.65,1625.80,1628.64,1632.22,\n",
    "1633.65,1631.17,1635.80,1621.27,1624.70,1616.13,1618.12,1627.80,1625.79,\n",
    "1614.80,1612.80,1605.47,1609.32,1607.48,1607.48,1604.89,1589.12,1582.27,\n",
    "1567.99,1568.16,1569.71,1571.74,1585.41,1570.01,1561.89,1565.18,1570.34,\n",
    "1577.00,1590.29,1572.72,1572.07,1579.19,1588.73,1586.01,1579.77,1572.58,\n",
    "1568.09,1578.21,1573.94,1582.06,1610.18,1605.16,1623.84,1615.26,1627.08,\n",
    "1626.97,1605.70,1589.70,1589.70,1603.26,1599.75,1590.86,1603.50,1589.86,\n",
    "1587.92,1571.06,1549.81,1549.36,1554.65,1557.52,1555.31,1559.76,1548.44,\n",
    "1543.99,1550.21,1557.03,1551.78,1562.89,1570.28,1559.26,1545.87,1542.77,\n",
    "1542.77,1542.77,1542.77,1564.27,1577.26,1577.26,1577.26,1598.19,1604.05,\n",
    "1604.69,1593.65,1581.68,1599.14,1613.82,1620.45,1629.51,1663.70,1664.09,\n",
    "1669.29,1685.14,1687.07,1680.13,1671.84,1669.52,1686.71,1685.51,1671.01,\n",
    "1683.06,1685.70,1685.66,1678.77,1685.85,1683.71,1686.59,1683.73,1679.14,\n",
    "1685.03,1680.81,1676.17,1688.46,1696.55,1690.24,1711.35,1711.29,1729.86,\n",
    "1716.63,1743.36,1745.17,1746.76,1749.29,1763.86,1762.27,1762.29,1746.77,\n",
    "1753.50,1753.21,1739.88,1723.92,1734.42,1723.13,1732.92,1729.89,1725.74,\n",
    "1730.90,1714.17,1716.20,1719.06,1718.21,1698.84,1714.76,1718.35,1706.69,\n",
    "1723.37,1716.18,1738.78,1737.41,1714.77,1724.24,1733.77,1729.96,1734.46,\n",
    "1744.35,1746.88,1746.88,1746.88,1747.47,1753.10,1745.17,1745.72,1742.92,\n",
    "1731.68,1731.18,1728.09,1728.09,1731.29,1733.82,1745.78,1752.57,1748.13,\n",
    "1750.70,1747.91,1745.79,1735.34,1719.92,1763.59,1766.76,1785.40,1783.56,\n",
    "1804.42,1812.33,1799.51,1792.80,1792.80,1806.36,1798.23,1800.62,1786.19,\n",
    "1791.35,1789.05,1789.05,1784.71,1789.45,1779.74,1786.97,1773.25,1781.62,\n",
    "1773.75,1773.75,1776.34,1770.72,1772.39,1762.55,1764.35,1752.83,1755.98,\n",
    "1754.95,1759.90,1759.84,1776.50,1769.98,1766.98,1752.29,1760.17,1750.32,\n",
    "1731.44,1735.51,1733.84,1730.78,1699.46,1652.71,1654.09,1636.81,1622.81,\n",
    "1613.36,1617.78,1617.18,1637.62,1622.20,1608.49,1605.11,1609.61,1624.94,\n",
    "1618.07,1611.96,1578.95,1561.39,1547.87,1548.63,1560.16,1554.76,1531.87,\n",
    "1526.14,1509.03,1530.03,1484.97,1464.03,1475.11,1516.12,1519.69,1529.97,\n",
    "1516.44,1515.53,1543.89,1534.72,1538.66,1536.71,1523.83,1527.10,1530.20,\n",
    "1601.50,1580.29,1595.09,1579.47,1600.59,1566.00,1557.01,1542.74,1536.30,\n",
    "1510.66,1481.03,1483.83,1470.09,1484.78,1475.41,1402.34,1421.49,1434.61,\n",
    "1446.32,1437.65,1441.57,1471.64,1453.95,1453.79,1458.02,1479.59,1504.89,\n",
    "1496.54,1511.00,1528.86,1534.02,1536.60,1508.19,1493.54,1489.68,1482.44,\n",
    "1483.34,1470.57,1484.84,1487.71,1508.63,1515.27,1509.84,1542.28,1541.79,\n",
    "1542.48,1550.27,1550.27,1543.37,1547.84,1523.62,1526.68,1513.42,1523.02,\n",
    "1529.69,1545.12,1546.82,1528.12,1530.65,1526.25,1519.48,1506.65,1504.30,\n",
    "1480.65,1476.70,1478.07,1479.62,1477.55,1472.59,1495.60,1517.45,1520.93,\n",
    "1527.06,1527.06,1527.06,1547.51,1545.82,1538.43,1538.43,1538.43,1538.04,\n",
    "1554.03,1551.17,1538.37,1529.10,1522.26,1533.79,1510.18,1526.91,1555.52,\n",
    "1581.49,1572.61,1572.69,1580.64,1593.35,1571.28,1575.59,1561.78,1572.68,\n",
    "1574.04,1590.33,1584.14,1605.91,1615.98,1643.83,1646.85,1639.12,1642.80,\n",
    "1659.07,1649.64,1674.93,1651.60,1656.35,1670.90,1683.30,1679.41,1658.09,\n",
    "1652.92,1661.96,1680.02,1691.37,1701.46,1690.48,1685.46,1686.15,1702.27,\n",
    "1711.91,1714.48,1708.65,1688.74,1705.05,1700.28,1689.71,1696.38,1686.57,\n",
    "1656.59,1653.20,1666.72,1663.27,1667.26,1675.18,1686.64,1676.84,1670.04,\n",
    "1657.06,1658.36,1667.64,1654.60,1658.13,1658.13,1658.13,1671.54,1674.95,\n",
    "1674.67,1678.65,1687.14,1680.06,1666.49,1680.01,1656.03,1643.53,1636.59,\n",
    "1630.88,1618.60,1626.83,1632.00,1619.92,1628.88,1617.74,1607.70,1616.45,\n",
    "1613.46,1632.99,1636.02,1632.35,1630.37,1619.26,1606.64,1606.64,1613.98,\n",
    "1608.58,1623.05,1617.18,1633.18,1627.21,1627.21,1625.59,1628.53,1630.56,\n",
    "1638.47,1660.88,1662.28,1679.69,1679.69,1685.85,1686.44,1684.57,1689.93,\n",
    "1681.47,1687.14,1697.26,1698.33,1690.96,1692.16,1699.52,1712.33,1703.05,\n",
    "1700.93,1698.36,1697.39,1694.83,1705.66,1739.48,1798.63,1798.36,1808.74,\n",
    "1806.52,1815.63,1807.12,1829.36,1835.09,1826.45,1821.28,1828.53,1830.61,\n",
    "1859.49,1846.02,1832.20,1823.40,1823.07,1818.10,1857.36,1861.22,1870.80,\n",
    "1878.94,1870.24,1864.51,1894.56,1908.69,1917.69,1903.44,1918.75,1930.29,\n",
    "1937.77,1909.53,1893.48,1907.65,1915.59,1890.58,1909.54,1929.56,1931.88,\n",
    "1923.67,1928.63,1920.43,1911.15,1878.77,1870.32,1870.46,1868.28,1874.38,\n",
    "1869.25,1852.81,1862.62,1884.67,1922.69,1922.05,1899.54,1902.14,1890.18,\n",
    "1914.40,1915.61,1908.97,1910.23,1920.46,1934.99,1973.45,1994.09,1991.95,\n",
    "2015.71,2009.28,2004.11,1999.60,1995.35,2023.26,2032.25,2036.93,2029.87,\n",
    "2048.05,2083.62,2061.18,2048.75,2040.97,2053.66,2064.98,2068.51,2086.40,\n",
    "2086.22,2057.10,2013.65,2007.50,2040.74,2020.11,2021.81,2023.06,2047.20,\n",
    "2070.17,2070.17,2075.99,2072.13,2020.36,2027.99,2036.45,2057.80,2045.25,\n",
    "2052.09,2052.92,2089.77,2099.76,2128.30,2118.01,2127.39,2165.95,2166.58,\n",
    "2165.50,2163.83,2128.07,2129.52,2144.03,2154.76,2188.18,2183.78,2209.17,\n",
    "2227.63,2227.63,2266.70,2236.91,2229.62,2255.29,2255.29,2274.62,2249.85,\n",
    "2233.61,2220.63,2224.95,2225.00,2228.10,2182.06,2142.37,2151.05,2115.56,\n",
    "2130.35,2132.52,2098.36,2073.94,2107.29,2090.78,2128.66,2123.31,2156.61,\n",
    "2192.60,2181.88,2184.05,2137.08,2143.90,2095.11,2099.57,2116.43,2119.69,\n",
    "2108.77,2101.93,2130.71,2135.25,2162.29,2133.85,2108.06,2113.64,2140.25,\n",
    "2082.90,2075.33,2103.24,2057.20,2018.69,2044.45,2076.76,2132.12,2125.47,\n",
    "2118.01,2124.51,2101.89,2169.40,2178.91,2168.11,2160.45,2140.39,2130.55,\n",
    "2141.70,2162.96,2144.36,2144.00,2167.72,2162.82,2151.84,2142.88,2142.88,\n",
    "2142.88,2177.09,2184.89,2202.57,2203.18,2224.85,2211.19,2215.19,2198.24,\n",
    "2211.92,2218.37,2193.89,2194.09,2194.41,2218.13,2208.68,2241.36,2256.98,\n",
    "2237.82,2252.51,2266.72,2261.71,2241.85,2249.78,2233.55,2218.77,2241.34,\n",
    "2248.02,2248.02,2257.33,2272.96,2268.11,2254.21,2245.79,2238.97,2238.97,\n",
    "2188.01,2137.56,2146.00,2112.80,2129.76,2137.34,2113.62,2120.23,2158.88,\n",
    "2163.59,2131.80,2143.93,2131.14,2143.58,2084.42,2088.44,2073.21,2047.29,\n",
    "2031.80,1986.42,1957.08,2004.93,2032.52,2005.07,2000.48,2022.25,2042.45,\n",
    "2020.85,2040.69,2061.70,2034.64,2031.33,2049.10,2047.83,2069.46,2048.57,\n",
    "2051.25,2070.71,2103.54,2116.96,2129.86,2120.97,2126.75,2148.23,2144.21,\n",
    "2163.32,2135.93,2134.12,2152.19,2161.50,2193.63,2190.83,2176.66,2188.81,\n",
    "2182.32,2160.56,2166.51,2156.31,2133.74,2134.34,2152.65,2166.56,2151.44,\n",
    "2143.84,2113.37,2121.25,2132.98,2153.48,2190.58,2215.72,2205.82,2207.09,\n",
    "2185.78,2197.38,2173.60,2158.07,2167.68,2178.10,2155.58,2155.81,2157.15,\n",
    "2118.17,2129.36,2097.45,2100.55,2059.15,2067.17,2072.81,2097.33,2057.83,\n",
    "2056.89,2070.36,2016.08,2002.30,2002.30,1988.67,1946.49,1965.41,1977.67,\n",
    "2048.56,2087.71,2072.68,2108.08,2118.52,2095.58,2069.58,2055.94,2048.15,\n",
    "2016.60,2022.64,1995.85,2009.45,2026.37,2064.86,2061.58,2066.18,2039.91,\n",
    "2061.37,2069.39,2043.30,2056.36,2090.78,2098.04,2073.67,2091.04,2112.21,\n",
    "2112.21,2091.94,2089.48,2097.20,2073.29,2040.05,2058.79,2056.27,2050.82,\n",
    "2036.24,2057.08,2045.54,2042.38,2067.26,2046.99,2044.04,2041.85,2024.19,\n",
    "2003.64,2019.13,2040.94,2054.23,2069.90,2066.59,2080.16,2095.50,2102.25,\n",
    "2100.98,2100.98,2110.77,2097.34,2074.68,2097.51,2079.19,2068.92,2072.90,\n",
    "2051.46,2058.20,2053.41,2062.08,2061.76,2059.68,2064.14,2088.25,2081.39,\n",
    "2085.62,2079.60,2050.86,2013.03,2027.67,2026.97,2040.79,2030.56,2026.68,\n",
    "2024.82,2047.44,2038.46,2077.94,2085.08,2093.01,2087.78,2117.80,2127.56,\n",
    "2118.96,2128.33,2135.49,2112.06,2119.29,2101.98,2101.82,2096.26,2126.44,\n",
    "2117.59,2106.05,2097.85,2127.21,2116.64,2094.16,2069.95,2041.26,2029.38,\n",
    "1989.20,2008.85,1974.14,2022.50,1995.22,2016.15,1979.52,1984.99,1984.15,\n",
    "1978.07,1935.08,1935.87,1928.82,1911.70,1918.85,1949.76,1914.69,1934.96,\n",
    "1965.68,1972.59,1976.52,1978.71,1980.81,1979.26,1991.08,1982.99,1982.99,\n",
    "1982.99,1954.62,1943.88,1955.33,1987.70,1978.97,2007.57,2028.52,2024.25,\n",
    "2017.95,2017.95,2036.47,2037.99,2034.15,2021.22,2030.65,2050.66,2064.41,\n",
    "2086.41,2102.40,2092.00,2109.36,2088.99,2083.80,2064.42,2096.87,2083.55,\n",
    "2105.88,2105.88,2065.71,2069.26,2081.46,2099.95,2119.24,2132.72,2132.72,\n",
    "2154.17,2136.72,2137.21,2107.16,2127.79,2124.25,2124.84,2130.78,2125.06,\n",
    "2154.13,2140.36,2144.88,2144.88,2144.88,2137.36,2128.99,2091.30,2094.68,\n",
    "2089.04,2099.68,2110.13,2117.63,2111.35,2163.37,2184.39,2194.15,2200.32,\n",
    "2193.72,2191.25,2201.36,2183.71,2195.31,2183.52,2196.54,2232.02,2232.23,\n",
    "2237.73,2239.36,2217.91,2222.51,2211.26,2249.60,2234.86,2236.68,2244.56,\n",
    "2236.89,2222.28,2236.72,2228.44,2208.41,2236.73,2251.64,2253.93,2265.86,\n",
    "2269.60,2258.97,2262.66,2253.91,2257.34,2240.31,2230.27,2251.30,2234.23,\n",
    "2242.76,2263.08,2266.57,2266.37,2263.27,2266.77,2268.26,2266.07,2300.72,\n",
    "2300.29,2305.58,2289.49,2306.66,2294.15,2275.72,2204.44,2212.97,2232.02,\n",
    "2190.90,2184.24,2201.27,2197.01,2197.01,2211.60,2191.54,2176.35,2157.41,\n",
    "2137.01,2153.56,2159.73,2206.11,2193.85,2185.52,2197.57,2176.09,2148.12,\n",
    "2116.86,2114.88,2140.74,2142.74,2112.01,2149.71,2165.76,2182.11,2180.49,\n",
    "2169.69,2168.57,2174.27,2184.05,2182.47,2174.78,2195.15,2197.34,2196.64,\n",
    "2199.29,2196.59,2204.01,2201.90,2194.53,2197.26,2210.92,2247.97,2242.91,\n",
    "2249.75,2254.95,2266.56,2261.08,2269.34,2274.94,2260.62,2277.70,2277.70,\n",
    "2278.64,2283.26,2286.21,2283.84,2240.24,2241.43,2268.07,2268.35,2280.81,\n",
    "2280.81,2280.81,2280.44,2273.90,2260.69,2260.69,2307.70,2326.18,2332.81,\n",
    "2315.66,2336.76,2351.47,2340.31,2330.98,2353.89,2361.38,2379.43,2375.63,\n",
    "2389.62,2400.58,2391.74,2393.12,2436.68,2437.02,2449.71,2437.70,2456.09,\n",
    "2463.00,2472.53,2459.81,2416.84,2437.98,2442.43,2411.49,2435.07,2428.59,\n",
    "2436.09,2427.77,2426.51,2423.60,2387.60,2373.01,2401.59,2421.93,2449.52,\n",
    "2438.73,2449.09,2486.95,2485.18,2488.85,2486.83,2472.52,2471.38,2479.38,\n",
    "2448.80,2419.72,2415.29,2417.00,2432.46,2458.00,2472.55,2484.74,2491.73,\n",
    "2505.32,2479.84,2514.80,2505.78,2523.81,2502.94,2489.35,2500.75,2508.11,\n",
    "2489.52,2498.75,2498.75,2498.75,2510.81,2525.59,2508.12,2526.74,2540.79,\n",
    "2547.32,2519.82,2524.18,2535.86,2549.27,2549.12,2524.84,2538.68,2539.88,\n",
    "2505.97,2492.63,2492.63,2465.49,2472.43,2473.52,2476.79,2466.21,2470.57,\n",
    "2499.02,2496.33,2528.20,2534.40,2534.40,2552.29,2541.98,2564.12,2548.79,\n",
    "2546.55,2549.53,2549.53,2559.15,2548.53,2535.78,2523.81,2543.99,2550.42,\n",
    "2551.03,2559.02,2536.03,2552.96,2571.10,2569.90,2566.13,2544.90,2549.71,\n",
    "2554.12,2546.04,2532.22,2547.78,2562.19,2578.36,2572.06,2551.80,2570.44,\n",
    "2573.44,2565.32,2566.32,2578.74,2568.79,2561.51,2562.24,2573.00,2561.95,\n",
    "2548.97,2529.50,2475.98,2497.69,2505.56,2498.35,2468.32,2488.82,2459.13,\n",
    "2464.51,2469.51,2472.25,2466.84,2491.50,2504.16,2520.26,2520.52,2527.73,\n",
    "2541.41,2534.63,2532.96,2529.14,2545.65,2544.61,2542.75,2567.96,2556.25,\n",
    "2562.12,2534.44,2559.42,2562.12,2554.42,2563.59,2556.64,2548.84,2534.49,\n",
    "2538.34,2528.73,2526.18,2532.55,2542.74,2549.71,2568.77,2568.70,2588.04,\n",
    "2614.50,2630.24,2626.43,2621.20,2625.46,2641.50,2624.18,2643.42,2663.10,\n",
    "2664.96,2659.86,2655.49,2654.34,2685.29,2685.29,2704.25,2705.21,2702.60,\n",
    "2685.23,2683.52,2692.69,2700.83,2718.73,2705.06,2717.50,2727.56,2733.67,\n",
    "2721.74,2678.89,2681.94,2690.79,2703.33,2675.50,2664.72,2671.40,2670.19,\n",
    "2678.73,2716.16,2735.28,2724.25,2732.29,2730.44,2764.00,2770.61,2784.39,\n",
    "2800.60,2768.68,2781.54,2766.08,2765.29,2769.47,2800.52,2808.62,2793.86,\n",
    "2829.68,2848.84,2853.46,2900.76,2880.89,2894.43,2832.53,2870.30,2890.95,\n",
    "2836.36,2846.94,2815.77,2841.16,2808.50,2814.23,2824.83,2835.54,2844.09,\n",
    "2844.09,2844.09,2844.09,2859.22,2880.07,2880.07,2880.07,2820.81,2863.26,\n",
    "2890.20,2876.34,2904.08,2936.69,2915.81,2956.78,2978.84,2976.56,2996.12,\n",
    "3006.87,2999.19,3000.66,3026.63,3037.28,2982.63,2992.55,3028.27,2997.95,\n",
    "3018.58,3037.70,3064.70,3067.48,3114.73,3124.78,3161.36,3185.72,3191.45,\n",
    "3211.01,3256.86,3249.17,3260.30,3230.83,3209.04,3197.09,3203.79,3180.63,\n",
    "3233.34,3245.02,3272.58,3261.04,3258.74,3345.09,3375.45,3396.55,3419.51,\n",
    "3426.77,3430.95,3382.40,3367.82,3404.29,3337.11,3289.59,3305.72,3247.03,\n",
    "3288.52,3302.57,3374.93,3439.22,3407.83,3407.83,3407.83,3281.46,3210.94,\n",
    "3212.82,3235.35,3342.77,3328.13,3364.76,3352.58,3319.24,3297.52,3369.26,\n",
    "3347.54,3361.80,3361.20,3328.41,3348.90,3366.87,3396.49,3357.57,3372.96,\n",
    "3425.86,3438.09,3438.09,3491.08,3565.69,3548.52,3537.45,3537.45,3533.21,\n",
    "3593.14,3559.29,3588.57,3564.85,3569.26,3569.26,3516.20,3600.40,3575.44,\n",
    "3621.72,3669.31,3665.43,3626.60,3635.38,3562.73,3596.40,3655.59,3651.59,\n",
    "3684.60,3700.53,3668.61,3671.16,3671.87,3737.16,3752.37,3750.02,3721.18,\n",
    "3730.56,3777.56,3788.54,3748.79,3761.07,3819.52,3820.16,3809.92,3766.89,\n",
    "3834.84,3867.53,3939.73,3946.73,4003.35,4030.10,4026.97,4000.65,4074.30,\n",
    "4142.19,4139.68,4223.69,4203.91,4131.94,4139.96,4297.64,4384.82,4320.52,\n",
    "4368.54,4400.30,4377.70,4458.66,4405.52,4336.98,4302.50,4325.86,4364.25,\n",
    "4428.08,4342.31,4333.15,4377.51,4237.06,4195.53,4077.59,4080.55,4190.45,\n",
    "4251.93,4204.81,4090.14,4076.75,3993.70,3992.03,3897.43,3919.79,4001.81,\n",
    "4127.28,4062.13,4093.43,4073.71,4131.26,4104.57,4028.00,3890.24,3796.61,\n",
    "3869.53,3995.69,3970.44,4004.04,3983.06,4096.85,4091.77,4150.95,4104.93,\n",
    "4135.09,4116.52,4154.89,4262.98,4266.17,4266.17,4326.35,4311.13,4267.40,\n",
    "4179.92,4164.62,4225.27,4215.23,4168.62,4149.92,4049.16,4069.25,4172.47,\n",
    "4124.86,3976.38,3981.44,3871.39,3645.69,3806.66,3748.88,3753.66,3847.73,\n",
    "3784.80,3841.39,3813.88,3715.38,3728.37,3734.79,3697.48,3701.94,3676.65,\n",
    "3816.71,3844.14,3876.90,3931.81,3941.91,3832.10,3850.14,3926.93,3961.97,\n",
    "3972.08,4125.92,4096.40,4074.55,4159.72,4191.81,4208.14,4187.13,4116.70,\n",
    "4016.70,4061.91,4029.08,4150.31,4154.57,4162.92,4055.35,4125.54,4132.79,\n",
    "4132.79,4132.79,4132.79,4266.02,4224.30,4224.30,4224.30,4364.32,4416.95,\n",
    "4360.05,4339.98,4293.64,4237.75,4134.64,4150.01,4145.41,4140.22,4216.24,\n",
    "4290.05,4310.83,4250.47,4238.77,4222.16,4266.34,4316.05,4385.29,4444.53,\n",
    "4442.53,4529.88,4529.18,4509.25,4494.72,4536.91,4519.56,4558.62,4552.46,\n",
    "4509.37,4522.42,4535.56,4627.42,4611.66,4581.08,4583.03,4610.66,4604.55,\n",
    "4704.58,4695.78,4693.86,4781.62,4759.62,4690.52,4676.42,4762.71,4828.89,\n",
    "4852.22,4862.41,4838.67,4872.24,4905.59,4945.91,4908.55,4949.91,5045.16,\n",
    "5014.13,5064.35,5114.13,5029.00,5066.90,5069.89,5097.25,5135.35,5179.04,\n",
    "5254.32,5345.89,5309.67,5267.35,5312.25,5312.25,5312.25,5367.98,5359.24,\n",
    "5292.97,5326.63,5407.93,5373.80,5312.28,5262.57,5144.42,5002.71,5110.88,\n",
    "5083.80,5241.23,5241.23,5337.75,5226.20,5264.62,5164.89,5270.61,5348.75,\n",
    "5307.82,5371.99,5374.11,5414.31,5343.66,5441.00,5514.51,5514.51,5530.19,\n",
    "5592.46,5639.89,5466.88,5507.36,5556.99,5556.99,5583.83,5640.42,5605.38,\n",
    "5724.75,5787.05,5773.77,5799.22,5799.22,5631.34,5581.24,5621.71,5742.83,\n",
    "5689.89,5644.22,5648.11,5748.34,5784.40,5886.72,5870.49,5933.73,5841.83,\n",
    "5910.51,5905.15,5961.45,5942.06,5975.88,6018.89,6000.84,6001.24,6023.31,\n",
    "6101.90,6106.10,6108.00,6162.86,6186.09,6184.10,6081.11,6043.82,6040.58,\n",
    "5854.35,5867.52,5828.74,5906.33,5861.19,5774.38,5718.70,5614.77,5528.12,\n",
    "5598.32,5460.43,5285.78,5386.94,5355.03,5473.72,1678.10,1688.50,1678.60,\n",
    "1684.10,1686.60,1671.60,1682.90,1703.60,1697.50,1716.30,1723.80,1730.50,\n",
    "1727.40,1733.30,1734.00,1728.30,1737.10,1723.10,1723.60,1719.00,1721.20,\n",
    "1725.30,1727.20,1727.20,1731.60,1724.10,1716.90,1723.40,1723.00,1728.40,\n",
    "1722.10,1724.50,1733.60,1739.00,1726.20,1587.40,1630.60,1685.50,1701.30,\n",
    "1718.00,1726.20,1716.60,1725.80,1737.40,1736.60,1732.40,1731.20,1726.90,\n",
    "1727.80,1720.20,1715.40,1708.70,1713.00,1713.50,1718.00,1701.70,1701.70,\n",
    "1684.90,1687.20,1690.60,1684.30,1679.90,1672.90,1663.10,1669.30,1664.70,\n",
    "1672.30,1687.70,1686.80,1686.60,1675.80,1677.40,1673.20,1665.00,1671.30,\n",
    "1672.40,1676.20,1692.60,1696.50,1716.10,1713.30,1705.10,1711.30,1709.80,\n",
    "1688.60,1698.90,1700.00,1693.00,1683.90,1679.20,1673.90,1683.90,1688.40,\n",
    "1693.90,1720.90,1717.90,1733.60,1729.70,1735.60,1734.10,1699.30,1678.60,\n",
    "1675.50,1670.10,1652.20,1635.00,1654.90,1642.00,1638.70,1622.60,1596.10,\n",
    "1612.40,1625.00,1610.50,1606.60,1610.70,1603.10,1591.50,1605.20,1621.40,\n",
    "1622.50,1626.60,1627.40,1614.90,1602.30,1598.30,1627.00,1627.00,1627.00,\n",
    "1655.70,1670.10,1670.10,1670.10,1670.10,1704.00,1711.80,1700.50,1690.30,\n",
    "1715.40,1723.50,1719.40,1734.40,1772.80,1760.30,1747.20,1750.20,1755.30,\n",
    "1754.60,1751.20,1752.50,1769.40,1767.60,1750.00,1747.10,1753.50,1752.80,\n",
    "1752.90,1764.70,1776.80,1779.30,1785.10,1798.20,1794.10,1795.20,1780.40,\n",
    "1789.50,1794.20,1784.40,1800.10,1804.00,1816.20,1810.50,1821.90,1828.20,\n",
    "1840.60,1841.10,1846.30,1850.00,1839.00,1820.20,1815.20,1820.60,1807.10,\n",
    "1791.40,1806.20,1798.70,1818.20,1820.50,1833.30,1837.10,1818.20,1824.10,\n",
    "1830.10,1835.60,1828.70,1839.20,1837.20,1826.70,1838.00,1829.10,1843.10,\n",
    "1850.50,1827.10,1829.10,1848.00,1840.50,1853.80,1874.10,1871.30,1871.30,\n",
    "1871.30,1860.50,1874.70,1880.10,1874.70,1875.60,1859.50,1874.20,1880.10,\n",
    "1880.10,1907.70,1920.50,1937.30,1936.80,1949.10,1963.70,1950.80,1953.50,\n",
    "1945.00,1921.10,1939.10,1928.00,1933.40,1925.70,1931.70,1928.70,1924.50,\n",
    "1914.20,1914.20,1920.60,1923.30,1930.40,1915.20,1916.90,1913.80,1913.80,\n",
    "1899.70,1888.00,1868.80,1879.90,1865.70,1881.30,1873.10,1862.50,1869.30,\n",
    "1846.90,1847.10,1838.30,1845.80,1835.50,1846.60,1854.80,1845.30,1854.50,\n",
    "1870.50,1862.60,1856.60,1837.60,1846.70,1856.50,1841.80,1835.00,1844.40,\n",
    "1838.90,1805.60,1756.60,1786.10,1757.10,1762.80,1756.80,1761.90,1778.50,\n",
    "1812.70,1806.10,1798.10,1794.90,1805.40,1820.30,1819.60,1809.60,1799.90,\n",
    "1800.30,1793.30,1784.80,1791.70,1800.20,1788.60,1775.70,1753.50,1768.20,\n",
    "1727.90,1709.60,1704.60,1740.60,1745.70,1751.70,1747.30,1757.80,1774.20,\n",
    "1774.40,1788.30,1788.00,1779.10,1792.80,1812.00,1872.10,1851.40,1873.40,\n",
    "1889.60,1897.50,1888.80,1900.40,1913.40,1909.90,1910.80,1879.20,1880.20,\n",
    "1878.30,1885.20,1867.60,1788.00,1820.50,1858.20,1870.30,1878.40,1881.50,\n",
    "1893.20,1889.30,1877.30,1884.00,1904.70,1922.70,1908.50,1911.40,1921.10,\n",
    "1930.80,1927.80,1908.30,1905.90,1911.10,1921.60,1933.60,1942.00,1951.50,\n",
    "1955.70,1957.40,1962.30,1946.10,1950.20,1929.70,1913.40,1889.50,1882.80,\n",
    "1895.40,1897.90,1891.50,1880.10,1887.00,1891.40,1914.60,1931.20,1929.20,\n",
    "1924.30,1927.00,1935.00,1955.40,1962.20,1980.70,1987.70,1993.70,2015.70,\n",
    "2005.00,2023.90,2028.50,2044.90,2045.80,2057.30,2061.70,2061.70,2061.70,\n",
    "2092.30,2090.10,2105.40,2105.40,2105.40,2117.70,2128.20,2124.70,2079.90,\n",
    "2074.90,2046.40,2079.80,2076.70,2104.50,2101.30,2084.00,2063.90,2062.70,\n",
    "2089.90,2102.90,2086.00,2085.90,2064.10,2072.70,2091.00,2120.20,2120.40,\n",
    "2117.60,2123.70,2132.20,2137.00,2134.80,2121.40,2127.50,2135.50,2144.80,\n",
    "2131.00,2112.90,2131.30,2117.80,2096.10,2051.50,2065.70,2061.00,2100.60,\n",
    "2120.50,2130.90,2142.40,2139.50,2134.60,2132.20,2150.10,2157.00,2165.00,\n",
    "2127.20,2157.20,2150.80,2139.10,2154.70,2182.40,2161.30,2166.30,2146.80,\n",
    "2135.70,2160.90,2175.70,2188.90,2190.30,2188.40,2190.30,2184.00,2196.00,\n",
    "2184.90,2188.30,2188.30,2188.30,2181.70,2165.70,2160.50,2162.90,2166.30,\n",
    "2170.80,2178.10,2177.30,2162.30,2140.40,2124.70,2138.20,2123.20,2129.70,\n",
    "2152.80,2160.00,2165.80,2165.40,2162.60,2179.10,2191.10,2191.50,2183.30,\n",
    "2186.30,2205.20,2227.20,2227.00,2227.00,2232.90,2237.40,2243.50,2247.50,\n",
    "2267.10,2271.60,2271.60,2253.80,2259.80,2269.00,2284.20,2309.70,2294.50,\n",
    "2312.50,2309.20,2308.60,2293.80,2274.00,2294.60,2323.40,2318.00,2329.50,\n",
    "2335.00,2323.90,2335.80,2347.30,2369.80,2371.90,2376.20,2375.50,2368.80,\n",
    "2364.40,2390.90,2372.00,2397.10,2403.00,2408.70,2418.10,2410.50,2399.90,\n",
    "2396.40,2381.80,2324.50,2313.70,2340.20,2350.50,2388.70,2398.00,2408.70,\n",
    "2401.50,2400.90,2400.70,2429.80,2431.50,2424.90,2423.30,2420.50,2384.50,\n",
    "2411.10,2449.50,2461.00,2478.70,2464.90,2488.00,2480.60,2474.50,2467.30,\n",
    "2472.40,2499.70,2475.20,2478.60,2481.00,2488.50,2470.40,2463.80,2438.80,\n",
    "2392.50,2403.40,2397.90,2382.10,2363.60,2365.60,2388.30,2361.80,2374.40,\n",
    "2385.20,2418.40,2431.80,2414.60,2425.80,2445.90,2482.40,2478.30,2485.40,\n",
    "2473.10,2481.60,2490.30,2521.30,2534.80,2528.00,2533.60,2548.50,2552.50,\n",
    "2571.00,2586.40,2612.60,2663.60,2660.70,2668.40,2690.10,2701.40,2685.00,\n",
    "2700.20,2715.90,2720.90,2723.20,2727.10,2742.90,2749.90,2706.60,2654.20,\n",
    "2675.30,2727.10,2742.10,2720.10,2721.10,2717.40,2712.30,2711.10,2727.10,\n",
    "2733.90,2696.50,2702.10,2717.80,2726.80,2741.90,2738.20,2738.50,2774.30,\n",
    "2787.20,2819.00,2836.40,2834.80,2843.80,2858.40,2861.20,2876.90,2867.80,\n",
    "2850.60,2867.70,2889.50,2909.00,2918.00,2942.40,2967.40,2967.40,2972.60,\n",
    "2930.90,2934.20,2957.60,2957.60,2996.20,2999.20,3009.40,3021.90,3042.90,\n",
    "3015.90,3026.60,2999.00,2949.90,2990.60,3011.10,3037.50,3049.40,3045.90,\n",
    "3039.30,3041.30,3066.50,3091.30,3095.20,3140.70,3178.40,3148.70,3169.10,\n",
    "3151.90,3166.60,3089.80,3097.20,3054.20,3012.20,3012.20,2947.10,2947.10,\n",
    "2947.10,3033.40,3025.90,2997.60,2982.80,3027.50,2958.40,2929.30,2888.20,\n",
    "2847.40,2768.50,2803.40,2865.20,2918.70,2902.40,2858.50,2861.20,2831.60,\n",
    "2870.50,2906.90,2887.10,2887.70,2843.50,2804.30,2824.70,2857.00,2850.80,\n",
    "2831.80,2862.40,2827.40,2814.50,2794.80,2794.80,2794.80,2807.30,2830.20,\n",
    "2860.90,2873.40,2884.00,2887.80,2877.70,2843.70,2872.90,2869.10,2837.10,\n",
    "2818.70,2781.60,2787.90,2763.50,2776.20,2791.30,2768.90,2736.30,2765.20,\n",
    "2755.90,2705.60,2682.20,2641.40,2569.50,2629.00,2633.00,2633.00,2678.70,\n",
    "2709.00,2727.10,2740.60,2725.80,2732.70,2732.70,2692.00,2673.10,2689.20,\n",
    "2711.90,2742.90,2722.90,2731.50,2725.90,2728.40,2781.40,2778.10,2801.10,\n",
    "2777.20,2763.80,2744.20,2740.00,2701.80,2666.60,2627.60,2545.00,2544.20,\n",
    "2595.70,2626.70,2577.20,2561.40,2604.40,2631.20,2608.80,2588.90,2636.40,\n",
    "2609.70,2598.90,2590.50,2560.30,2562.50,2508.00,2474.50,2528.30,2514.90,\n",
    "2494.70,2521.60,2562.30,2579.40,2599.20,2601.20,2604.40,2544.90,2559.30,\n",
    "2579.50,2579.50,2629.70,2620.70,2615.30,2600.80,2617.50,2585.50,2591.40,\n",
    "2588.80,2580.50,2570.60,2588.70,2599.30,2582.70,2557.00,2532.40,2530.90,\n",
    "2541.10,2551.10,2581.30,2635.20,2635.70,2645.60,2628.40,2672.00,2674.50,\n",
    "2652.40,2662.50,2664.10,2642.10,2643.00,2658.80,2637.70,2628.60,2603.30,\n",
    "2614.70,2593.00,2594.00,2602.90,2609.10,2586.10,2581.00,2590.00,2558.00,\n",
    "2534.40,2499.50,2522.50,2480.40,2484.80,2496.90,2553.40,2570.20,2562.70,\n",
    "2593.30,2585.30,2575.60,2542.50,2529.80,2530.90,2508.60,2525.20,2494.70,\n",
    "2477.20,2458.60,2490.50,2506.50,2503.90,2500.00,2534.80,2541.00,2557.90,\n",
    "2543.90,2590.40,2602.70,2597.80,2590.90,2591.90,2609.40,2600.90,2606.50,\n",
    "2607.00,2571.80,2546.10,2568.60,2572.50,2579.40,2584.70,2594.90,2576.00,\n",
    "2577.50,2611.00,2589.10,2584.30,2589.30,2576.00,2562.80,2566.00,2581.40,\n",
    "2598.00,2604.70,2600.70,2614.70,2636.10,2649.80,2651.00,2651.00,2673.50,\n",
    "2656.20,2628.80,2628.80,2628.80,2612.30,2632.40,2613.10,2622.30,2617.30,\n",
    "2600.40,2597.00,2600.50,2600.20,2591.60,2582.80,2593.60,2595.50,2574.60,\n",
    "2525.30,2534.80,2525.50,2554.70,2552.40,2540.20,2536.90,2560.80,2563.70,\n",
    "2589.40,2621.40,2628.00,2617.40,2636.90,2635.40,2636.00,2642.40,2636.00,\n",
    "2621.00,2601.00,2597.20,2609.60,2610.00,2632.10,2623.30,2607.50,2600.40,\n",
    "2619.20,2617.20,2586.50,2553.20,2543.10,2515.80,2461.50,2467.70,2450.30,\n",
    "2463.30,2475.00,2491.70,2497.50,2516.00,2505.50,2501.90,2480.70,2526.60,\n",
    "2518.10,2495.60,2495.00,2533.10,2508.90,2511.10,2536.20,2536.30,2556.10,\n",
    "2559.30,2561.20,2563.10,2562.40,2560.30,2560.30,2560.30,2547.10,2516.80,\n",
    "2544.20,2560.80,2554.80,2561.10,2574.40,2567.00,2597.20,2597.20,2621.40,\n",
    "2618.60,2641.70,2650.50,2658.80,2655.60,2661.40,2701.00,2728.20,2739.00,\n",
    "2746.60,2739.80,2727.70,2701.00,2751.20,2750.40,2778.50,2778.50,2751.70,\n",
    "2762.50,2779.40,2786.40,2807.80,2805.30,2805.30,2809.70,2819.60,2806.80,\n",
    "2795.30,2802.30,2800.90,2798.10,2800.20,2775.40,2803.00,2805.60,2816.80,\n",
    "2843.30,2837.70,2830.30,2845.10,2836.80,2845.60,2825.30,2827.50,2847.50,\n",
    "2843.70,2833.70,2848.40,2842.90,2847.30,2867.90,2869.70,2863.40,2892.30,\n",
    "2875.10,2856.20,2822.20,2830.20,2836.60,2833.20,2827.10,2824.70,2833.10,\n",
    "2826.80,2826.80,2852.30,2814.30,2807.10,2800.60,2797.40,2781.30,2802.60,\n",
    "2820.10,2807.20,2838.40,2880.60,2880.00,2889.50,2886.70,2900.80,2896.80,\n",
    "2887.10,2893.80,2883.30,2887.30,2915.70,2908.80,2918.30,2952.70,2971.10,\n",
    "2999.60,2989.10,2989.20,2986.30,2990.50,3016.80,3011.60,3025.40,3008.10,\n",
    "3033.50,3029.00,3039.10,2994.70,3015.30,3045.50,3009.80,3000.60,3014.80,\n",
    "3039.00,3049.00,3036.50,3036.60,3054.00,3064.00,3050.00,3073.00,3083.70,\n",
    "3109.20,3116.30,3112.30,3135.40,3124.50,3120.40,3041.70,3062.30,3078.90,\n",
    "3080.00,3026.60,3057.90,3108.20,3128.50,3123.40,3137.60,3123.20,3133.80,\n",
    "3132.60,3150.10,3130.40,3121.40,3133.00,3124.80,3148.40,3152.50,3182.20,\n",
    "3183.90,3201.00,3209.20,3220.10,3251.00,3229.50,3245.90,3251.60,3261.20,\n",
    "3278.40,3278.50,3281.50,3245.70,3246.60,3261.60,3280.90,3273.40,3272.20,\n",
    "3289.80,3251.60,3217.70,3254.30,3255.00,3277.90,3277.90,3277.90,3317.10,\n",
    "3297.70,3297.70,3297.70,3297.70,3384.50,3395.80,3376.10,3368.10,3361.50,\n",
    "3314.80,3284.10,3292.90,3233.90,3254.80,3219.30,3257.80,3253.10,3249.90,\n",
    "3219.00,3221.30,3211.20,3191.40,3198.20,3236.80,3248.70,3279.90,3270.00,\n",
    "3221.70,3253.80,3262.70,3245.60,3242.70,3253.10,3260.10,3266.10,3272.20,\n",
    "3280.30,3270.60,3243.50,3253.00,3264.40,3296.20,3298.60,3309.90,3360.50,\n",
    "3354.80,3385.50,3400.60,3383.40,3408.30,3581.90,3549.70,3506.20,3540.50,\n",
    "3558.30,3578.40,3561.10,3583.60,3605.10,3611.10,3629.30,3647.70,3677.00,\n",
    "3658.10,3671.00,3640.30,3646.50,3654.30,3648.30,3606.70,3611.10,3611.10,\n",
    "3611.10,3594.40,3601.50,3566.90,3575.50,3589.60,3607.50,3603.90,3601.20,\n",
    "3628.10,3673.20,3647.30,3668.40,3668.10,3696.00,3658.20,3651.00,3651.00,\n",
    "3635.80,3611.20,3591.60,3583.60,3534.10,3521.60,3556.90,3557.80,3582.40,\n",
    "3572.50,3572.50,3593.00,3584.00,3587.30,3550.00,3547.40,3572.20,3572.20,\n",
    "3583.80,3558.20,3537.70,3556.10,3544.60,3568.10,3572.00,3585.50,3547.90,\n",
    "3575.80,3575.60,3600.90,3607.40,3593.90,3600.10,3628.30,3643.60,3655.40,\n",
    "3687.30,3701.50,3699.60,3723.50,3703.00,3732.90,3728.20,3750.80,3757.00,\n",
    "3771.30,3731.20,3732.80,3773.40,3788.00,3810.00,3785.80,3755.40,3678.10,\n",
    "3656.20,3649.20,3661.50,3566.10,3585.20,3482.60,3537.40,3537.80,3549.50,\n",
    "3518.20,3494.40,3494.40,3604.60,3623.30,3629.00,3662.60,3653.40,3643.20,\n",
    "3623.10,3630.20,3650.70,3646.30,3670.50,3664.40,3698.20,3683.80,3713.00,\n",
    "3725.40,3714.60,3722.40,3692.60,3682.60,3646.30,3654.70,3623.90,3634.20,\n",
    "3627.10,3637.80,3684.40,3694.20,3678.90,3687.20,3716.80,3722.70,3690.00,\n",
    "3690.10,3694.90,3694.90,3635.50,3661.20,3697.70,3699.50,3696.60,3736.40,\n",
    "3737.50,3760.20,3771.60,3771.60,3813.70,3818.10,3807.90,3797.30,3805.20,\n",
    "3813.70,3822.20,3790.20,3793.20,3803.30,3788.20,3775.30,3742.90,3753.60,\n",
    "3758.70,3763.50,3732.00,3723.10,3725.30,3736.10,3749.20,3784.80,3815.40,\n",
    "3811.50,3812.00,3827.60,3829.80,3825.70,3856.40,3897.90,3888.30,3892.60,\n",
    "3883.30,3861.50,3882.80,3891.70,3878.20,3845.30,3884.10,3902.50,3874.00,\n",
    "3924.50,3910.60,3913.80,3835.50,3874.00,3885.40,3857.60,3860.00,3839.30,\n",
    "3869.20,3850.40,3874.00,3880.80,3890.10,3875.50,3869.80,3869.80,3869.80,\n",
    "3922.20,3948.30,3942.20,3942.20,3942.20,3940.10,3923.80,3922.90,3944.90,\n",
    "3966.20,3947.40,3975.50,3983.60,3979.60,4007.10,4019.90,4009.50,4023.10,\n",
    "4115.40,4161.00,4125.50,4127.30,4182.30,4169.70,4209.10,4272.20,4282.80,\n",
    "4296.50,4305.50,4309.80,4357.90,4384.30,4408.40,4444.10,4436.30,4464.20,\n",
    "4514.60,4490.70,4525.50,4530.80,4522.50,4463.20,4503.90,4539.00,4519.70,\n",
    "4487.60,4460.10,4513.70,4547.10,4605.20,4638.90,4684.40,4677.10,4676.20,\n",
    "4609.90,4636.20,4556.50,4519.90,4535.10,4442.90,4491.30,4497.30,4558.60,\n",
    "4620.50,4659.20,4659.20,4659.20,4501.70,4488.70,4463.90,4471.50,4588.00,\n",
    "4582.60,4634.90,4626.60,4604.20,4586.30,4643.40,4625.60,4665.70,4699.10,\n",
    "4740.10,4752.30,4781.10,4836.10,4772.30,4793.30,4855.10,4897.60,4897.60,\n",
    "4953.50,5029.60,4988.40,5016.00,5016.00,5004.70,5042.50,5084.20,5134.30,\n",
    "5141.70,5157.50,5157.50,5081.00,5178.60,5176.40,5181.00,5196.70,5190.00,\n",
    "5133.10,5132.10,5041.60,5150.00,5207.20,5238.50,5251.20,5320.00,5368.80,\n",
    "5361.90,5308.60,5364.20,5384.60,5362.00,5345.90,5405.00,5510.30,5561.80,\n",
    "5587.80,5576.10,5662.40,5669.90,5700.30,5620.60,5654.80,5674.30,5804.90,\n",
    "5846.50,5947.00,6012.60,5977.10,5885.40,5801.50,5845.80,5844.70,5927.50,\n",
    "5868.30,5737.10,5620.50,5677.10,5869.90,5849.20,5847.00,5888.00,5842.10,\n",
    "5929.50,5898.20,5898.20,5771.00,5765.20,5812.10,5922.10,5864.80,5825.60,\n",
    "5808.40,5682.10,5579.50,5498.50,5405.60,5580.10,5690.10,5668.80,5475.80,\n",
    "5473.90,5363.30,5409.60,5217.30,5216.70,5271.50,5447.50,5478.60,5478.10,\n",
    "5532.90,5505.30,5445.10,5356.70,5280.80,5281.90,5321.70,5417.80,5550.40,\n",
    "5629.00,5611.00,5705.10,5730.40,5732.50,5667.10,5716.60,5691.80,5673.60,\n",
    "5754.70,5825.00,5929.00,5897.40,5846.90,5822.30,5732.20,5699.50,5792.80,\n",
    "5836.30,5815.90,5806.80,5751.60,5777.20,5862.90,5803.20,5651.80,5689.50,\n",
    "5533.50,5279.70,5479.00,5370.90,5467.20,5581.60,5538.20,5601.60,5557.40,\n",
    "5438.60,5459.70,5483.90,5434.00,5418.20,5437.00,5565.00,5574.20,5571.70,\n",
    "5650.40,5725.50,5645.70,5666.30,5738.30,5772.40,5775.90,5875.10,5919.90,\n",
    "5922.70,5969.50,6009.00,6095.30,6103.20,6056.60,6021.80,6018.70,5986.60,\n",
    "6092.70,6122.10,6115.10,5989.90,6049.30,6044.70,6046.70,6046.70,6046.70,\n",
    "6190.40,6267.60,6265.50,6265.50,6265.50,6397.00,6375.70,6390.00,6330.20,\n",
    "6251.80,6062.10,6169.30,6149.80,6148.50,6274.00,6340.40,6397.50,6391.40,\n",
    "6356.10,6391.00,6411.00,6424.00,6508.70,6530.40,6582.60,6688.00,6720.70,\n",
    "6708.90,6772.00,6857.10,6828.40,6860.80,6931.60,6856.00,6898.90,6905.30,\n",
    "6990.50,6966.20,6953.20,6986.70,6986.10,6945.00,7065.40,7118.60,7153.10,\n",
    "7273.00,7259.50,7130.50,7077.30,7197.20,7187.50,7246.50,7276.70,7267.90,\n",
    "7328.00,7261.20,7236.50,7132.40,7143.80,7300.50,7341.00,7407.40,7472.10,\n",
    "7415.90,7530.30,7536.30,7585.50,7615.50,7638.80,7725.90,7827.70,7744.30,\n",
    "7588.10,7624.10,7624.10,7624.10,7662.90,7616.30,7500.10,7453.70,7500.10,\n",
    "7369.10,7308.90,7265.50,7232.30,7053.50,7180.10,7241.80,7401.40,7401.40,\n",
    "7640.80,7596.20,7610.80,7536.00,7587.10,7677.50,7627.30,7582.80,7550.60,\n",
    "7519.40,7371.40,7483.20,7495.80,7495.80,7542.70,7657.10,7731.90,7633.50,\n",
    "7605.00,7656.10,7656.10,7657.50,7676.30,7592.90,7699.50,7743.40,7716.80,\n",
    "7652.60,7498.40,7417.40,7342.70,7388.70,7562.70,7488.00,7518.60,7511.80,\n",
    "7624.80,7667.90,7794.70,7816.90,7881.90,7882.00,8038.20,8047.30,8099.00,\n",
    "8166.00,8160.00,8227.20,8205.00,8192.40,8141.90,8180.50,8158.10,8126.50,\n",
    "8288.20,8400.80,8412.00,8340.70,8229.20,8205.70,7998.70,8093.00,8102.70,\n",
    "8205.50,8239.50,8139.20,8170.20,7943.20,7846.20,7952.90,7721.30,7447.90,\n",
    "7607.50,7552.60,7676.30,1772.80,1750.50,1718.00,1708.10,1723.10,1714.30,\n",
    "1734.50,1757.40,1754.00,1754.30,1759.80,1755.50,1758.10,1757.50,1763.50,\n",
    "1762.80,1768.90,1778.10,1780.10,1767.70,1757.90,1756.60,1754.70,1766.80,\n",
    "1766.50,1762.20,1759.50,1782.40,1789.50,1783.50,1780.40,1808.80,1820.30,\n",
    "1820.30,1820.30,1687.50,1725.60,1792.90,1819.10,1833.50,1853.40,1849.70,\n",
    "1851.80,1857.70,1864.30,1863.50,1873.20,1860.80,1868.70,1860.40,1855.90,\n",
    "1840.50,1842.60,1861.20,1876.20,1878.30,1878.40,1869.40,1880.40,1885.50,\n",
    "1888.40,1885.20,1877.90,1876.50,1883.80,1880.60,1887.40,1878.30,1867.10,\n",
    "1851.90,1843.60,1848.10,1843.40,1843.60,1833.80,1833.40,1856.90,1863.40,\n",
    "1855.50,1864.20,1846.00,1836.80,1830.40,1831.60,1834.80,1852.10,1849.80,\n",
    "1861.80,1856.70,1856.70,1841.50,1846.90,1836.10,1838.60,1857.60,1857.60,\n",
    "1858.40,1846.80,1868.50,1863.20,1808.30,1765.10,1763.50,1766.00,1741.30,\n",
    "1743.30,1769.00,1757.90,1754.90,1739.70,1708.80,1722.20,1713.90,1703.20,\n",
    "1685.70,1663.40,1636.90,1645.60,1671.60,1688.30,1696.80,1711.70,1706.20,\n",
    "1684.20,1648.50,1633.60,1699.10,1699.10,1722.50,1720.70,1741.90,1765.70,\n",
    "1765.70,1749.90,1770.30,1787.60,1778.70,1785.60,1833.90,1837.40,1824.30,\n",
    "1843.80,1873.60,1860.20,1860.20,1865.90,1867.90,1841.30,1838.70,1849.90,\n",
    "1869.30,1890.60,1879.60,1873.90,1875.30,1857.00,1856.50,1865.80,1860.60,\n",
    "1861.60,1865.60,1864.10,1861.60,1876.50,1865.10,1882.10,1912.20,1915.40,\n",
    "1951.20,1962.40,1976.50,1953.50,1981.30,1985.10,1983.40,1979.70,1983.80,\n",
    "1988.10,1973.00,1966.90,1976.30,1993.90,1968.00,1941.80,1947.10,1929.20,\n",
    "1943.60,1928.20,1922.00,1919.10,1884.60,1896.30,1928.30,1934.80,1923.50,\n",
    "1943.80,1942.40,1928.10,1942.00,1942.70,1974.80,1975.40,1907.50,1943.60,\n",
    "1974.10,1963.30,1972.30,1990.70,1978.20,1978.20,1978.20,1980.40,1983.70,\n",
    "1978.10,1984.90,1995.70,2006.60,2036.70,2031.10,2031.10,2041.60,2046.90,\n",
    "2047.20,2063.40,2063.40,2077.50,2063.60,2053.20,2017.00,2024.00,2051.60,\n",
    "2023.10,2030.80,2016.80,2045.10,2046.30,2029.60,2014.10,2014.10,2033.30,\n",
    "2017.40,2024.90,1992.60,1994.90,1981.60,1981.60,1962.20,1953.70,1928.80,\n",
    "1928.30,1918.10,1931.40,1908.80,1891.80,1913.90,1885.80,1895.80,1899.60,\n",
    "1920.30,1915.30,1907.30,1900.60,1880.90,1873.50,1883.60,1868.50,1879.10,\n",
    "1847.80,1861.80,1859.40,1859.40,1859.40,1853.30,1851.20,1801.80,1767.90,\n",
    "1762.70,1727.50,1734.60,1734.60,1755.40,1769.00,1801.60,1782.60,1754.70,\n",
    "1784.40,1787.60,1798.00,1793.80,1777.30,1755.20,1737.80,1730.10,1722.40,\n",
    "1753.50,1757.30,1736.70,1734.20,1724.20,1744.20,1689.70,1667.70,1667.80,\n",
    "1687.60,1687.50,1684.90,1674.20,1711.40,1780.50,1779.00,1779.30,1763.70,\n",
    "1756.80,1774.20,1802.00,1873.60,1836.20,1859.80,1852.70,1882.90,1826.10,\n",
    "1832.80,1828.90,1829.50,1843.50,1770.30,1731.90,1736.70,1724.00,1683.30,\n",
    "1611.00,1612.50,1654.20,1673.90,1657.30,1655.10,1685.10,1667.90,1650.00,\n",
    "1664.20,1679.10,1731.30,1722.20,1730.70,1766.40,1770.70,1774.50,1749.90,\n",
    "1730.90,1742.40,1742.40,1786.90,1804.10,1804.70,1793.60,1786.70,1798.50,\n",
    "1798.50,1821.50,1796.80,1772.70,1764.40,1759.20,1722.30,1724.20,1674.80,\n",
    "1720.60,1721.00,1739.70,1749.70,1771.40,1792.30,1783.30,1799.40,1781.70,\n",
    "1788.60,1765.90,1791.20,1769.50,1758.70,1738.30,1744.80,1736.70,1735.20,\n",
    "1760.10,1786.30,1824.40,1821.10,1854.60,1854.60,1857.50,1870.30,1858.80,\n",
    "1857.80,1857.80,1843.10,1850.80,1859.60,1844.50,1852.60,1814.60,1796.80,\n",
    "1782.50,1803.50,1827.10,1837.50,1837.70,1818.80,1812.20,1820.40,1779.90,\n",
    "1792.60,1777.40,1780.60,1772.20,1785.90,1787.30,1824.10,1854.40,1908.20,\n",
    "1904.70,1894.10,1893.30,1905.60,1912.00,1899.50,1878.20,1905.00,1926.50,\n",
    "1937.20,1959.20,1944.10,1953.40,1944.60,1983.70,1998.80,2001.50,1995.20,\n",
    "1986.80,1995.10,2004.30,2009.70,1992.40,1988.90,1965.20,1986.00,1975.30,\n",
    "1967.30,1963.50,1962.70,1939.30,1952.20,1954.60,2001.40,2025.80,2033.90,\n",
    "2035.90,2031.40,2005.90,1990.80,1974.70,1995.30,1984.00,1986.90,1986.90,\n",
    "1986.90,2018.10,2015.40,1988.60,1986.70,1968.90,1949.30,1931.90,1944.50,\n",
    "1916.60,1911.60,1927.40,1942.50,1920.60,1939.00,1937.00,1923.60,1926.30,\n",
    "1920.50,1878.60,1877.20,1854.50,1872.70,1879.90,1851.70,1835.70,1846.40,\n",
    "1836.80,1836.80,1836.80,1861.40,1891.10,1890.40,1904.60,1888.70,1888.70,\n",
    "1872.80,1875.80,1867.90,1859.70,1887.90,1893.70,1915.20,1911.20,1920.40,\n",
    "1916.80,1897.90,1918.80,1900.30,1910.30,1929.20,1935.30,1942.40,1963.30,\n",
    "1960.80,1991.00,1977.50,1971.90,1960.20,1941.20,1925.40,1935.10,1943.70,\n",
    "1980.40,1985.70,1992.20,1991.20,1991.20,1963.10,1974.90,1981.70,1968.40,\n",
    "1947.50,1965.70,1995.00,2006.20,1998.10,1989.50,2036.00,2085.90,2129.00,\n",
    "2110.60,2101.40,2115.30,2149.80,2138.50,2139.80,2167.40,2161.90,2148.00,\n",
    "2148.00,2136.30,2160.80,2139.20,2128.20,2111.40,2123.40,2159.30,2173.60,\n",
    "2183.90,2205.70,2216.50,2191.90,2185.10,2156.10,2158.00,2137.30,2129.40,\n",
    "2108.80,2108.40,2119.10,2134.10,2078.50,2075.60,2099.50,2107.40,2094.40,\n",
    "2080.00,2057.50,2092.60,2108.60,2120.00,2126.80,2114.60,2116.70,2128.70,\n",
    "2158.80,2164.50,2147.40,2156.40,2138.70,2126.90,2127.30,2113.90,2139.30,\n",
    "2145.00,2147.30,2149.70,2199.70,2231.90,2227.70,2210.40,2192.00,2196.00,\n",
    "2182.00,2182.00,2169.70,2171.20,2136.00,2081.00,2084.80,2112.90,2087.30,\n",
    "2087.30,2096.90,2117.90,2115.90,2148.00,2149.70,2145.20,2082.60,2071.50,\n",
    "2070.60,2118.40,2120.60,2119.30,2110.10,2154.00,2160.50,2188.40,2186.70,\n",
    "2176.10,2205.30,2211.40,2198.10,2196.30,2156.50,2162.60,2160.30,2196.40,\n",
    "2223.50,2215.90,2225.80,2243.00,2251.50,2276.60,2264.60,2281.90,2281.20,\n",
    "2268.20,2290.60,2274.30,2249.60,2275.10,2307.60,2317.30,2331.30,2281.90,\n",
    "2252.20,2262.30,2234.80,2247.40,2274.70,2257.80,2244.00,2274.50,2278.30,\n",
    "2282.40,2281.00,2313.20,2334.40,2331.30,2355.90,2322.00,2329.20,2287.10,\n",
    "2299.90,2302.10,2296.80,2275.10,2281.60,2258.00,2258.00,2281.20,2251.80,\n",
    "2215.20,2226.70,2252.00,2208.30,2199.00,2238.10,2183.10,2144.70,2144.70,\n",
    "2178.70,2219.90,2216.40,2199.70,2184.60,2175.00,2215.00,2258.50,2242.70,\n",
    "2247.80,2221.30,2202.70,2200.70,2200.20,2152.60,2136.60,2144.50,2123.40,\n",
    "2083.90,2081.90,2081.90,2081.90,2100.30,2128.20,2119.60,2114.80,2145.30,\n",
    "2148.60,2152.40,2139.10,2159.60,2160.10,2136.00,2102.70,2092.00,2135.20,\n",
    "2116.30,2130.90,2147.30,2150.30,2166.00,2186.20,2179.00,2141.60,2162.60,\n",
    "2158.20,2139.40,2165.00,2176.70,2176.70,2187.00,2187.80,2195.20,2184.00,\n",
    "2165.40,2155.40,2155.40,2133.30,2084.40,2091.90,2050.70,2052.50,2029.90,\n",
    "1979.70,2007.40,2041.70,2037.20,2023.70,2046.80,2028.40,2020.70,1977.70,\n",
    "1992.00,1966.40,1942.80,1936.00,1903.00,1890.80,1917.00,1939.00,1907.00,\n",
    "1911.60,1925.80,1936.30,1892.00,1872.90,1866.20,1878.70,1889.00,1920.80,\n",
    "1920.80,1949.80,1942.10,1974.60,1974.60,1974.60,2025.10,2052.30,2043.70,\n",
    "2053.80,2041.40,2059.80,2076.80,2055.70,2053.40,2075.00,2069.60,2117.20,\n",
    "2115.00,2096.50,2107.10,2106.30,2074.50,2064.20,2038.90,2007.00,2007.00,\n",
    "2012.40,2035.00,2010.50,2001.30,1972.60,2000.60,2006.30,2026.50,2062.70,\n",
    "2075.30,2060.40,2069.10,2034.90,2020.40,1998.20,1961.50,1964.20,1983.40,\n",
    "1948.80,1966.80,1969.40,1952.90,1977.30,1924.60,1922.90,1919.30,1897.20,\n",
    "1899.40,1927.40,1902.70,1901.30,1905.00,1876.20,1879.30,1852.80,1876.10,\n",
    "1833.70,1843.40,1856.40,1898.30,1919.00,1918.10,1955.60,1933.00,1906.40,\n",
    "1898.60,1876.30,1867.40,1842.10,1841.60,1824.40,1831.50,1858.10,1905.70,\n",
    "1905.70,1905.70,1873.60,1911.10,1931.70,1906.10,1921.50,1943.90,1948.40,\n",
    "1948.40,1941.10,1954.50,1950.20,1927.50,1926.50,1927.80,1911.40,1893.10,\n",
    "1934.70,1945.90,1952.40,1940.00,1975.90,1964.00,1982.70,1973.70,1969.00,\n",
    "1969.80,1954.10,1937.00,1919.30,1917.10,1930.20,1931.10,1924.20,1928.10,\n",
    "1924.70,1940.90,1952.10,1949.90,1966.60,1956.00,1927.80,1894.20,1881.20,\n",
    "1881.20,1885.90,1901.80,1871.50,1886.40,1864.20,1859.20,1849.10,1844.10,\n",
    "1854.00,1872.80,1856.90,1860.30,1837.10,1813.30,1772.80,1780.20,1802.50,\n",
    "1826.30,1814.10,1813.40,1797.90,1827.80,1816.10,1842.40,1872.10,1870.40,\n",
    "1850.90,1874.40,1869.40,1850.10,1856.10,1861.90,1835.00,1822.50,1802.20,\n",
    "1805.60,1804.40,1827.00,1805.70,1802.20,1776.90,1808.40,1807.40,1795.20,\n",
    "1773.30,1748.60,1756.80,1727.10,1743.10,1721.80,1769.00,1738.60,1785.80,\n",
    "1788.80,1811.60,1813.80,1818.00,1795.70,1817.30,1836.10,1837.20,1852.40,\n",
    "1893.00,1859.50,1864.00,1882.80,1872.90,1890.20,1900.40,1880.90,1869.30,\n",
    "1871.90,1881.10,1881.10,1881.10,1855.70,1874.90,1882.00,1928.40,1918.50,\n",
    "1945.90,1942.30,1931.00,1918.50,1918.50,1936.90,1971.10,1946.20,1927.40,\n",
    "1927.40,1988.70,1996.70,2003.60,2017.30,1991.50,2001.30,2004.70,1989.80,\n",
    "1965.50,1979.50,1965.30,1960.70,1960.70,1919.10,1927.80,1927.30,1948.00,\n",
    "1960.80,1971.30,1971.30,1965.90,1974.70,1951.20,1897.00,1907.80,1922.80,\n",
    "1893.70,1920.70,1905.00,1918.40,1896.10,1902.80,1925.20,1895.10,1902.40,\n",
    "1877.70,1865.50,1861.90,1858.80,1879.70,1889.40,1907.80,1889.50,1950.80,\n",
    "1949.40,1961.30,1961.70,1948.30,1948.30,1951.50,1929.00,1931.20,1905.90,\n",
    "1908.90,1926.60,1941.30,1942.50,1947.90,1932.80,1920.00,1917.80,1960.00,\n",
    "1950.80,1957.10,1950.40,1954.70,1943.70,1949.20,1946.20,1946.20,1946.20,\n",
    "1970.40,1967.30,1971.60,1984.40,1963.30,1957.40,1939.20,1937.80,1890.10,\n",
    "1899.50,1921.40,1883.40,1881.70,1900.50,1902.50,1884.80,1861.70,1854.90,\n",
    "1869.70,1873.60,1898.20,1892.40,1880.00,1871.70,1882.50,1863.80,1853.90,\n",
    "1790.70,1800.60,1816.30,1791.80,1767.60,1788.40,1780.70,1800.70,1803.90,\n",
    "1800.30,1809.60,1785.70,1778.00,1794.40,1803.80,1817.00,1790.50,1779.70,\n",
    "1770.70,1757.30,1740.70,1721.10,1724.20,1764.10,1754.10,1742.40,1795.30,\n",
    "1814.00,1814.00,1828.70,1832.10,1822.60,1857.40,1866.30,1852.60,1839.80,\n",
    "1838.20,1838.20,1875.20,1905.10,1890.50,1881.40,1872.90,1875.50,1867.10,\n",
    "1891.00,1889.80,1870.30,1857.30,1828.30,1820.90,1774.90,1814.90,1834.80,\n",
    "1846.80,1856.30,1849.60,1848.90,1833.80,1875.00,1859.30,1820.50,1810.20,\n",
    "1831.20,1834.40,1873.40,1873.40,1866.70,1877.00,1879.10,1872.00,1872.00,\n",
    "1908.40,1943.00,1931.20,1917.70,1916.60,1916.30,1910.10,1897.90,1907.60,\n",
    "1924.40,1952.10,1966.00,1960.10,1964.30,1954.40,1934.10,1946.00,1950.20,\n",
    "1966.70,1980.70,2003.10,2021.00,2024.10,2022.20,1985.60,1988.50,1983.30,\n",
    "1956.20,1960.70,1967.70,1983.30,1956.40,1964.20,1952.50,1939.70,1932.40,\n",
    "1936.90,1953.30,1976.90,1960.90,1974.50,1996.90,1990.80,2017.20,2015.30,\n",
    "2001.90,2005.90,2008.00,1975.50,1948.90,1932.10,1944.30,1962.40,1950.10,\n",
    "1965.00,1967.20,1969.80,1976.90,1974.40,2003.80,2008.00,2030.50,2020.00,\n",
    "2044.80,2055.60,2070.40,2064.00,2075.00,2075.00,2075.00,2081.70,2093.90,\n",
    "2072.50,2074.70,2080.60,2097.30,2075.10,2086.00,2092.50,2116.50,2112.00,\n",
    "2122.10,2116.40,2138.40,2130.80,2146.80,2146.80,2136.80,2115.40,2090.40,\n",
    "2083.70,2083.70,2085.40,2114.80,2100.90,2122.10,2124.60,2124.60,2136.90,\n",
    "2120.60,2129.70,2103.50,2114.50,2117.70,2117.70,2132.90,2117.10,2108.40,\n",
    "2110.10,2121.10,2111.00,2115.40,2133.20,2102.00,2120.80,2137.50,2137.30,\n",
    "2126.20,2111.80,2113.00,2107.90,2100.70,2077.10,2084.20,2097.60,2118.40,\n",
    "2113.30,2112.90,2123.70,2118.80,2111.80,2114.00,2126.80,2098.80,2079.10,\n",
    "2076.60,2081.90,2073.40,2050.60,2029.50,1989.50,1995.10,2007.30,1992.80,\n",
    "1960.30,1982.20,1954.10,1974.70,1962.90,1961.10,1968.50,1995.90,2009.90,\n",
    "2023.40,2013.20,1999.30,1996.70,1997.40,1985.40,1978.20,1980.60,1979.50,\n",
    "1979.50,1979.50,1986.20,2019.30,2000.60,2017.80,2020.80,2020.40,2018.00,\n",
    "2002.90,1977.60,1970.60,1977.00,1971.40,1984.80,1996.20,2004.80,2020.30,\n",
    "2042.10,2038.10,2065.40,2080.40,2086.20,2080.90,2072.70,2082.30,2079.50,\n",
    "2067.10,2081.50,2103.40,2104.10,2107.10,2132.80,2123.20,2141.80,2136.10,\n",
    "2152.70,2151.60,2161.50,2146.70,2135.60,2147.10,2143.60,2168.30,2158.50,\n",
    "2165.30,2185.20,2180.20,2175.60,2148.90,2151.60,2162.40,2150.40,2125.70,\n",
    "2124.80,2140.50,2140.50,2142.20,2187.30,2213.40,2211.80,2205.20,2205.20,\n",
    "2229.10,2217.20,2218.20,2240.30,2228.80,2240.10,2233.40,2233.60,2255.50,\n",
    "2277.10,2275.10,2270.80,2290.30,2315.70,2318.60,2349.10,2308.70,2292.50,\n",
    "2240.70,2255.80,2251.40,2213.30,2212.10,2203.40,2222.60,2193.70,2218.90,\n",
    "2248.70,2278.50,2287.40,2289.60,2289.60,2303.80,2307.00,2318.60,2315.70,\n",
    "2315.70,2257.00,2282.80,2306.70,2301.70,2331.60,2349.10,2327.50,2361.30,\n",
    "2402.10,2388.00,2407.80,2425.10,2406.10,2409.90,2442.50,2461.30,2430.30,\n",
    "2435.20,2482.80,2465.00,2503.10,2516.60,2508.60,2503.10,2541.30,2558.40,\n",
    "2597.50,2595.40,2582.10,2599.30,2628.40,2627.40,2634.50,2617.50,2594.80,\n",
    "2575.20,2562.80,2567.90,2607.70,2602.20,2629.40,2607.80,2600.30,2651.70,\n",
    "2666.20,2698.90,2708.30,2709.20,2686.20,2641.70,2632.10,2645.60,2588.40,\n",
    "2574.00,2596.80,2553.70,2587.10,2579.30,2624.30,2648.70,2656.70,2656.70,\n",
    "2656.70,2581.80,2530.30,2514.50,2518.00,2572.30,2579.00,2617.60,2608.00,\n",
    "2574.60,2566.10,2620.60,2621.00,2615.20,2547.60,2522.70,2514.70,2533.60,\n",
    "2539.80,2536.30,2550.30,2602.90,2639.50,2639.50,2655.30,2672.80,2651.90,\n",
    "2643.30,2643.30,2633.90,2693.10,2719.60,2774.60,2776.00,2784.30,2784.30,\n",
    "2751.10,2786.40,2741.70,2762.90,2654.70,2680.30,2583.20,2579.20,2583.90,\n",
    "2601.50,2624.50,2635.40,2690.90,2719.30,2686.20,2664.20,2696.20,2760.30,\n",
    "2808.50,2795.90,2762.60,2751.70,2739.70,2757.10,2762.20,2784.80,2867.40,\n",
    "2893.60,2891.00,2858.30,2944.00,2909.50,2937.00,2934.50,2947.70,2929.80,\n",
    "2950.60,2929.10,2941.60,2941.60,2950.70,2988.00,2958.60,2876.70,2874.10,\n",
    "2921.10,3003.50,2973.50,3025.90,3022.20,3023.60,3069.30,3075.70,3049.50,\n",
    "2992.40,2984.10,3037.10,3056.30,2996.30,2983.40,2998.60,2924.00,2921.80,\n",
    "2921.80,2870.10,2936.20,2979.30,2957.20,2904.20,2898.60,2869.30,2871.70,\n",
    "2828.40,2770.50,2805.80,2921.20,2918.00,2927.00,2924.50,2940.90,2919.70,\n",
    "2874.60,2843.60,2834.10,2898.60,2940.60,2944.00,2978.40,2977.20,3017.50,\n",
    "2997.20,3023.70,3005.40,2985.60,2989.00,3008.30,3054.90,3052.10,3094.00,\n",
    "3078.00,3064.40,3024.10,2960.70,2955.10,3002.90,3002.50,2992.20,2992.90,\n",
    "2958.00,2946.70,2989.90,2958.10,2856.90,2849.00,2769.60,2651.30,2818.00,\n",
    "2739.50,2739.30,2788.00,2774.90,2822.40,2781.80,2707.10,2707.10,2707.10,\n",
    "2694.50,2700.70,2698.90,2773.00,2782.60,2790.60,2821.20,2861.70,2802.50,\n",
    "2786.30,2811.70,2829.00,2854.40,2918.50,2913.10,2902.40,2914.50,2910.10,\n",
    "2932.50,2959.40,2932.20,2828.50,2830.30,2838.30,2912.20,2893.30,2894.50,\n",
    "2822.90,2869.70,2858.10,2874.10,2874.10,2875.10,2939.50,2975.50,2998.90,\n",
    "2998.90,3038.70,3072.80,3037.70,3006.70,2954.90,2919.80,2862.50,2902.90,\n",
    "2919.80,2932.80,2976.10,2987.00,3008.30,2998.10,2988.60,2966.20,3000.50,\n",
    "3052.00,3088.30,3133.80,3172.10,3187.50,3188.40,3166.30,3189.60,3216.70,\n",
    "3220.90,3235.80,3240.00,3178.70,3187.70,3225.10,3280.50,3281.70,3250.60,\n",
    "3262.50,3273.50,3262.30,3348.20,3397.00,3421.90,3446.70,3414.90,3381.30,\n",
    "3395.80,3483.20,3525.90,3521.50,3539.40,3526.60,3540.20,3598.30,3661.30,\n",
    "3652.50,3688.70,3688.90,3680.10,3738.50,3818.70,3783.80,3810.20,3800.20,\n",
    "3875.30,3883.30,3935.90,3932.00,3986.80,3903.30,3873.90,3894.50,3894.50,\n",
    "3894.50,3867.70,3884.60,3845.90,3861.60,3885.70,3860.40,3835.10,3822.10,\n",
    "3788.70,3689.40,3777.20,3726.20,3867.90,3867.90,3979.30,3945.50,3947.50,\n",
    "3912.80,3912.80,4007.30,3986.10,4018.50,4012.00,3990.20,3945.30,3980.80,\n",
    "4047.90,4047.90,4049.80,4108.70,4115.90,4017.40,4014.90,4041.20,4041.20,\n",
    "4087.00,4149.40,4119.00,4185.10,4204.60,4201.90,4208.60,4141.60,4050.80,\n",
    "4005.30,4013.30,4092.90,4052.30,4027.30,4018.60,4065.00,4126.30,4203.80,\n",
    "4215.70,4248.20,4203.50,4260.70,4252.10,4304.40,4311.10,4333.10,4339.90,\n",
    "4319.20,4256.40,4256.40,4256.40,4344.30,4358.10,4388.50,4368.90,4322.10,\n",
    "4220.10,4235.90,4205.40,4139.50,4122.40,4139.20,4197.60,4177.30,4095.00,\n",
    "4047.90,3976.40,3968.60,4041.90,3939.50,3846.00,3945.70,3951.70,3995.00,\n",
    "2443.60,2460.20,2448.20,2470.40,2484.70,2466.80,2487.90,2508.40,2510.50,\n",
    "2497.40,2532.50,2556.80,2561.00,2547.30,2541.50,2558.50,2587.90,2580.50,\n",
    "2579.60,2589.30,2595.00,2595.60,2588.80,2591.70,2601.70,2585.40,2573.30,\n",
    "2597.40,2600.60,2570.60,2569.40,2584.90,2608.80,2617.20,2621.00,2540.50,\n",
    "2554.50,2601.90,2623.00,2640.70,2640.70,2619.80,2624.20,2638.20,2645.70,\n",
    "2679.60,2669.00,2664.60,2663.30,2667.40,2653.20,2630.80,2626.60,2641.90,\n",
    "2625.80,2606.00,2594.40,2583.60,2588.70,2600.30,2579.50,2576.60,2597.80,\n",
    "2595.60,2599.00,2621.70,2645.60,2644.20,2625.60,2624.60,2596.20,2599.50,\n",
    "2584.10,2570.80,2555.00,2574.50,2576.70,2579.00,2588.70,2601.10,2575.70,\n",
    "2559.50,2561.10,2528.30,2514.70,2558.50,2553.30,2577.10,2566.00,2549.50,\n",
    "2527.80,2540.90,2534.20,2538.00,2559.00,2554.90,2575.50,2546.50,2561.60,\n",
    "2546.60,2502.90,2463.10,2472.60,2463.50,2446.30,2456.20,2471.50,2447.50,\n",
    "2428.60,2420.20,2414.90,2420.20,2423.80,2407.00,2388.70,2409.60,2392.00,\n",
    "2380.20,2423.30,2451.60,2440.80,2432.90,2413.60,2391.60,2358.10,2345.40,\n",
    "2384.40,2384.40,2384.40,2418.70,2420.00,2493.10,2493.10,2492.80,2504.10,\n",
    "2493.20,2482.90,2467.10,2497.90,2477.90,2490.10,2516.30,2537.10,2541.60,\n",
    "2536.70,2544.90,2543.40,2522.00,2525.30,2510.40,2539.90,2552.00,2546.50,\n",
    "2550.80,2571.20,2560.20,2556.80,2547.10,2534.30,2517.20,2538.40,2537.10,\n",
    "2523.70,2522.60,2513.90,2541.00,2555.90,2536.70,2543.40,2542.30,2559.70,\n",
    "2546.80,2565.00,2562.00,2562.10,2554.30,2565.40,2558.40,2538.30,2533.10,\n",
    "2550.70,2574.80,2522.40,2493.30,2476.00,2470.70,2491.20,2464.70,2467.60,\n",
    "2456.60,2441.00,2458.70,2464.90,2472.20,2447.90,2452.90,2440.10,2408.60,\n",
    "2405.40,2382.70,2400.90,2404.20,2393.20,2436.40,2572.60,2591.00,2600.50,\n",
    "2640.20,2638.60,2638.60,2638.60,2625.80,2607.80,2609.80,2643.00,2658.20,\n",
    "2651.00,2664.90,2654.10,2659.80,2659.80,2662.20,2698.70,2701.90,2725.70,\n",
    "2737.80,2722.40,2720.50,2694.70,2682.60,2703.60,2700.60,2711.90,2702.00,\n",
    "2715.00,2715.00,2704.60,2698.60,2694.20,2707.60,2697.60,2705.90,2680.90,\n",
    "2681.90,2668.50,2645.80,2635.40,2636.10,2614.10,2603.70,2593.60,2616.30,\n",
    "2598.40,2562.70,2584.80,2550.30,2560.60,2532.60,2557.30,2534.10,2515.80,\n",
    "2521.20,2493.90,2476.10,2497.10,2469.00,2493.70,2472.60,2497.90,2490.80,\n",
    "2478.30,2484.00,2486.40,2483.40,2431.90,2403.70,2415.60,2387.90,2399.50,\n",
    "2377.20,2348.00,2373.40,2423.20,2411.60,2399.60,2420.20,2407.50,2392.80,\n",
    "2377.60,2350.10,2325.70,2309.60,2303.10,2318.00,2356.80,2376.10,2354.70,\n",
    "2363.50,2359.40,2365.70,2311.10,2281.00,2285.00,2311.60,2312.60,2312.60,\n",
    "2298.40,2313.00,2381.90,2362.20,2372.20,2337.70,2327.50,2340.60,2370.90,\n",
    "2422.10,2370.00,2378.30,2483.90,2567.00,2560.10,2586.00,2580.50,2621.20,\n",
    "2601.00,2560.00,2565.50,2553.00,2572.30,2549.70,2446.30,2488.40,2517.10,\n",
    "2538.80,2541.20,2557.20,2584.70,2574.70,2546.60,2563.90,2562.20,2617.00,\n",
    "2645.70,2658.10,2669.70,2661.60,2669.80,2650.40,2642.30,2658.30,2687.80,\n",
    "2705.60,2691.70,2711.10,2702.70,2695.40,2714.60,2696.80,2726.40,2697.50,\n",
    "2679.60,2679.20,2704.00,2706.20,2732.40,2722.90,2727.10,2709.60,2741.80,\n",
    "2760.10,2778.80,2792.00,2764.10,2771.00,2759.40,2754.50,2769.80,2750.70,\n",
    "2726.50,2716.20,2721.80,2717.90,2732.80,2740.30,2789.70,2807.70,2842.00,\n",
    "2827.40,2827.50,2827.50,2827.50,2847.80,2832.50,2846.50,2846.50,2861.50,\n",
    "2833.60,2826.00,2816.50,2799.20,2773.40,2757.90,2745.30,2759.20,2765.10,\n",
    "2763.10,2737.60,2748.70,2773.30,2781.20,2771.90,2835.70,2832.50,2816.90,\n",
    "2807.20,2851.60,2834.40,2873.80,2865.90,2862.90,2870.00,2831.30,2816.40,\n",
    "2834.30,2843.00,2845.90,2812.20,2814.00,2837.70,2840.00,2838.30,2818.00,\n",
    "2817.00,2828.70,2868.00,2882.60,2882.30,2918.60,2904.80,2916.60,2957.30,\n",
    "2949.90,2956.70,2953.40,2915.90,2922.40,2919.30,2889.90,2883.30,2900.10,\n",
    "2863.90,2861.10,2860.60,2852.80,2852.90,2846.50,2861.00,2878.70,2878.40,\n",
    "2869.90,2838.80,2832.20,2822.10,2821.80,2821.80,2821.80,2846.80,2842.10,\n",
    "2839.70,2824.40,2830.00,2856.10,2869.60,2881.10,2843.80,2822.30,2832.70,\n",
    "2797.30,2786.80,2813.10,2813.10,2812.60,2796.50,2786.30,2793.70,2829.70,\n",
    "2836.10,2860.80,2849.30,2847.00,2858.10,2847.30,2819.70,2816.80,2812.20,\n",
    "2825.60,2837.70,2846.90,2855.30,2840.70,2840.70,2849.20,2863.00,2852.80,\n",
    "2829.90,2844.80,2844.40,2866.90,2860.00,2861.80,2885.50,2870.00,2883.00,\n",
    "2875.70,2879.40,2903.40,2907.60,2900.70,2894.70,2887.50,2897.00,2886.00,\n",
    "2900.00,2888.80,2857.70,2838.50,2848.10,2848.30,2845.90,2843.20,2830.90,\n",
    "2837.10,2832.30,2831.70,2833.00,2842.90,2823.90,2814.10,2820.10,2827.70,\n",
    "2844.20,2879.40,2884.20,2917.60,2926.50,2941.70,2945.00,2941.30,2943.40,\n",
    "2969.80,2986.40,2971.60,3006.10,3009.10,3010.10,3008.30,3025.00,3073.60,\n",
    "3065.50,3057.60,3042.00,3049.30,3079.20,3079.20,3100.60,3100.60,3100.00,\n",
    "3085.10,3072.60,3057.30,3055.40,3038.60,3035.40,3031.20,3037.00,3024.80,\n",
    "3028.00,2989.40,3003.90,3005.50,3004.50,3001.60,3007.50,3001.30,3005.20,\n",
    "3026.30,3036.90,3030.10,3037.50,3039.30,3067.70,3085.20,3100.80,3092.40,\n",
    "3108.60,3102.20,3094.70,3080.90,3086.30,3120.80,3137.60,3129.60,3156.30,\n",
    "3188.30,3199.00,3184.80,3165.30,3154.30,3163.00,3171.00,3164.40,3164.10,\n",
    "3162.30,3149.00,3085.60,3077.60,3096.00,3098.50,3099.70,3099.10,3093.30,\n",
    "3097.50,3120.00,3125.50,3108.00,3070.60,3069.30,3067.20,3093.10,3111.40,\n",
    "3135.80,3166.90,3233.20,3223.90,3234.20,3237.30,3237.30,3277.40,3271.60,\n",
    "3261.30,3254.60,3248.40,3278.80,3311.20,3337.10,3364.90,3342.40,3355.70,\n",
    "3396.50,3412.30,3412.30,3412.30,3462.00,3428.80,3418.40,3418.40,3408.50,\n",
    "3379.20,3403.00,3446.00,3440.60,3413.80,3372.00,3360.00,3400.60,3407.80,\n",
    "3437.00,3475.10,3470.00,3484.20,3481.40,3444.00,3436.10,3427.30,3447.40,\n",
    "3491.80,3481.50,3520.30,3491.50,3475.40,3419.10,3440.20,3429.10,3407.00,\n",
    "3378.90,3363.50,3393.20,3417.70,3425.30,3382.60,3350.30,3333.70,3341.90,\n",
    "3267.50,3281.20,3328.10,3270.60,3248.10,3246.50,3278.00,3305.90,3264.40,\n",
    "3246.70,3233.90,3191.90,3233.40,3267.40,3242.90,3255.70,3218.10,3198.00,\n",
    "3201.50,3155.30,3121.70,3129.00,3129.50,3123.40,3092.40,3086.40,3086.40,\n",
    "3086.40,3116.20,3131.50,3129.00,3120.80,3149.40,3159.10,3145.80,3131.70,\n",
    "3168.30,3138.20,3128.00,3098.30,3101.20,3133.70,3106.10,3125.30,3150.00,\n",
    "3129.90,3125.30,3125.30,3100.00,3070.50,3106.00,3106.00,3097.80,3136.30,\n",
    "3130.50,3137.80,3119.20,3115.60,3123.50,3116.50,3122.80,3127.30,3108.40,\n",
    "3089.10,3020.70,3019.70,2966.40,2966.40,2970.50,2931.90,2980.80,2997.80,\n",
    "3009.40,3004.80,3038.20,3028.90,3055.90,3016.30,3039.60,3045.80,3030.10,\n",
    "3022.90,2971.10,2940.20,2960.40,2942.40,2876.60,2899.90,2909.00,2946.30,\n",
    "2919.20,2936.40,2970.40,2965.00,2946.70,2964.40,2962.40,2983.80,2963.90,\n",
    "3005.30,3050.40,3074.80,3082.00,3091.30,3077.20,3095.10,3114.70,3106.10,\n",
    "3117.20,3082.30,3095.90,3082.60,3097.40,3157.50,3160.40,3150.50,3167.50,\n",
    "3171.90,3168.60,3167.00,3138.20,3142.30,3142.20,3147.30,3190.30,3182.60,\n",
    "3191.40,3171.30,3175.10,3205.20,3234.20,3265.10,3265.10,3249.60,3251.30,\n",
    "3216.50,3222.70,3241.50,3205.40,3203.90,3180.00,3139.30,3128.80,3121.40,\n",
    "3079.80,3112.70,3065.10,3079.10,3037.30,3014.80,3021.20,3028.20,2999.80,\n",
    "3008.50,3038.70,2992.50,3026.30,2983.50,3001.80,2956.30,2984.40,2998.70,\n",
    "3032.30,3073.00,3100.50,3141.90,3106.70,3120.20,3085.30,3060.80,3063.20,\n",
    "3032.80,3029.10,3000.90,2999.90,3029.60,3083.80,3097.40,3096.30,3081.30,\n",
    "3104.40,3097.60,3065.80,3063.80,3099.60,3103.50,3075.90,3095.30,3135.40,\n",
    "3146.50,3127.50,3131.00,3121.00,3078.70,3027.50,3036.60,3033.50,3047.10,\n",
    "3061.10,3081.40,3039.60,3017.30,3033.50,3016.10,3012.50,3013.80,2977.30,\n",
    "2943.40,2946.40,2980.60,2973.40,3013.60,3034.40,3058.10,3070.40,3091.70,\n",
    "3083.40,3083.40,3083.40,3095.80,3065.60,3065.50,3065.50,3065.70,3051.60,\n",
    "3032.30,3065.00,3055.80,3060.40,3049.40,3033.20,3048.30,3076.70,3054.00,\n",
    "3054.90,3028.60,2995.90,2954.20,2969.00,2982.20,3007.30,3022.20,2995.90,\n",
    "2991.60,3017.30,3034.70,3059.70,3062.00,3072.70,3072.50,3099.00,3109.90,\n",
    "3081.10,3071.30,3074.90,3051.10,3044.20,3018.60,3023.40,3019.50,3049.30,\n",
    "3037.70,3025.30,3009.30,3041.20,3038.20,3025.10,3001.90,2977.00,2992.10,\n",
    "2986.90,3021.10,3011.80,3050.60,3047.00,3094.10,3089.30,3124.20,3135.00,\n",
    "3139.70,3136.40,3153.40,3149.80,3128.30,3142.30,3176.20,3137.90,3143.10,\n",
    "3188.10,3190.20,3200.90,3210.90,3204.20,3190.90,3209.80,3208.80,3208.80,\n",
    "3208.80,3194.50,3170.10,3174.70,3199.90,3209.30,3214.90,3226.20,3217.60,\n",
    "3216.70,3220.40,3248.20,3262.60,3264.30,3251.70,3251.70,3261.20,3290.10,\n",
    "3317.90,3310.30,3310.70,3300.80,3297.40,3285.80,3261.00,3284.50,3291.80,\n",
    "3327.30,3328.20,3311.10,3311.10,3309.90,3319.40,3340.60,3345.00,3376.60,\n",
    "3380.00,3370.80,3380.80,3337.70,3344.60,3348.00,3339.80,3370.40,3366.10,\n",
    "3381.30,3377.20,3378.30,3403.80,3379.40,3309.20,3313.20,3282.70,3294.00,\n",
    "3314.60,3323.70,3349.20,3394.90,3388.30,3462.90,3455.00,3464.00,3450.60,\n",
    "3447.20,3429.20,3442.60,3420.70,3405.30,3400.40,3413.10,3431.60,3432.90,\n",
    "3454.30,3458.30,3468.90,3463.30,3449.90,3499.90,3475.60,3482.40,3483.50,\n",
    "3468.80,3468.30,3474.70,3467.50,3441.40,3444.40,3465.10,3470.60,3509.80,\n",
    "3535.70,3530.20,3515.90,3520.00,3524.90,3524.90,3502.60,3504.00,3477.80,\n",
    "3509.40,3522.70,3532.40,3557.70,3545.60,3554.50,3549.30,3535.90,3570.80,\n",
    "3565.40,3564.60,3533.30,3541.40,3561.50,3557.90,3514.80,3507.00,3523.30,\n",
    "3485.00,3479.00,3508.20,3520.20,3524.20,3544.10,3544.40,3526.50,3510.30,\n",
    "3460.10,3474.30,3523.80,3568.00,3557.30,3562.20,3593.00,3578.60,3551.40,\n",
    "3531.50,3535.30,3537.80,3519.60,3497.90,3510.00,3529.10,3518.70,3523.00,\n",
    "3500.40,3514.80,3522.40,3537.10,3541.60,3523.40,3536.80,3547.90,3571.40,\n",
    "3610.80,3609.20,3628.80,3604.10,3632.40,3602.50,3624.00,3649.00,3648.80,\n",
    "3655.50,3664.30,3664.30,3669.70,3664.20,3662.80,3639.50,3630.00,3652.10,\n",
    "3654.90,3662.40,3671.60,3642.60,3596.10,3576.90,3613.70,3633.30,3658.30,\n",
    "3658.30,3658.30,3676.40,3676.70,3689.30,3689.30,3687.90,3715.60,3714.10,\n",
    "3704.50,3720.60,3720.60,3671.50,3654.90,3657.30,3662.70,3710.60,3704.20,\n",
    "3748.70,3748.40,3754.20,3735.00,3758.20,3734.20,3734.70,3734.60,3735.30,\n",
    "3759.30,3752.80,3781.30,3746.60,3747.50,3726.10,3708.40,3716.30,3726.60,\n",
    "3747.60,3745.00,3779.80,3770.90,3744.30,3714.60,3725.60,3740.00,3740.30,\n",
    "3704.20,3715.90,3738.20,3727.60,3752.70,3768.60,3777.10,3758.90,3758.20,\n",
    "3710.30,3674.50,3639.50,3640.30,3681.80,3644.80,3669.60,3693.00,3685.40,\n",
    "3698.30,3707.00,3681.90,3660.90,3672.40,3672.60,3699.70,3718.40,3728.50,\n",
    "3725.10,3755.60,3755.60,3755.60,3758.60,3767.40,3744.20,3766.80,3790.50,\n",
    "3825.30,3805.60,3820.70,3857.10,3852.70,3833.00,3817.60,3819.30,3832.80,\n",
    "3809.20,3817.90,3806.00,3776.40,3751.60,3751.60,3723.00,3707.30,3728.30,\n",
    "3754.40,3739.20,3759.70,3776.20,3753.60,3789.60,3778.20,3789.40,3764.20,\n",
    "3747.00,3752.10,3752.10,3760.20,3775.70,3746.70,3747.80,3739.20,3755.20,\n",
    "3753.40,3760.30,3706.80,3728.80,3755.70,3769.20,3761.70,3753.60,3761.50,\n",
    "3756.40,3753.20,3727.50,3722.30,3710.80,3679.50,3695.50,3678.80,3711.00,\n",
    "3725.60,3725.70,3714.10,3760.60,3743.20,3741.50,3752.30,3765.80,3749.00,\n",
    "3728.30,3698.30,3632.30,3658.20,3693.40,3710.50,3681.30,3708.40,3668.80,\n",
    "3684.70,3673.30,3678.80,3668.50,3703.20,3734.40,3770.60,3788.30,3788.40,\n",
    "3811.10,3811.40,3810.70,3803.30,3823.40,3830.30,3837.40,3872.90,3863.70,\n",
    "3883.20,3872.10,3891.10,3907.50,3907.50,3905.70,3918.70,3885.00,3867.60,\n",
    "3884.40,3855.90,3872.70,3887.20,3893.00,3910.80,3916.10,3905.60,3932.60,\n",
    "3967.90,3977.20,3972.30,3955.70,3974.30,3964.10,3919.70,3910.50,3935.70,\n",
    "3933.20,3946.40,3953.70,3992.20,4015.10,4000.00,4024.80,4031.50,4035.60,\n",
    "4009.30,3994.70,4028.10,4038.70,4050.80,4024.40,4042.10,4053.10,4073.10,\n",
    "4057.20,4028.40,3999.40,4022.40,4025.30,3993.50,3963.90,3979.10,3948.50,\n",
    "3928.10,3921.10,3935.70,3900.40,3910.80,3914.40,3934.30,3926.90,3926.10,\n",
    "3958.20,3962.10,3978.10,3962.80,3953.80,4018.70,4054.60,4068.40,4049.20,\n",
    "4050.20,4058.00,4038.50,4061.50,4045.20,4051.20,3963.00,4011.60,4035.70,\n",
    "3982.50,3990.70,3972.40,3993.80,3979.60,4018.20,4051.30,4077.60,4087.20,\n",
    "4092.50,4092.50,4092.50,4091.00,4115.70,4118.50,4118.50,4057.40,4089.50,\n",
    "4106.50,4078.80,4087.50,4087.00,4056.60,4107.30,4168.20,4158.90,4197.50,\n",
    "4207.70,4194.00,4195.50,4219.10,4219.10,4218.80,4212.00,4237.40,4207.50,\n",
    "4228.40,4275.80,4257.80,4260.90,4281.50,4265.90,4307.80,4307.70,4304.30,\n",
    "4304.30,4327.10,4341.00,4337.80,4332.30,4357.40,4356.10,4336.80,4331.10,\n",
    "4344.70,4329.30,4339.20,4308.30,4307.10,4357.70,4360.10,4399.30,4420.30,\n",
    "4437.40,4444.30,4422.50,4397.70,4424.30,4373.30,4356.80,4332.20,4258.10,\n",
    "4254.80,4214.80,4270.70,4301.50,4312.90,4312.90,4312.90,4248.10,4236.60,\n",
    "4214.60,4236.60,4271.70,4269.30,4292.30,4313.20,4270.70,4251.70,4286.80,\n",
    "4294.60,4298.90,4310.50,4328.70,4346.10,4387.70,4388.50,4369.70,4389.70,\n",
    "4433.20,4436.00,4445.00,4455.60,4455.60,4519.30,4537.50,4580.40,4630.90,\n",
    "4669.60,4691.00,4686.90,4681.20,4693.90,4645.20,4607.50,4642.00,4651.80,\n",
    "4661.80,4661.80,4681.60,4677.50,4672.30,4621.30,4562.80,4557.80,4557.10,\n",
    "4576.20,4645.00,4686.70,4739.60,4724.80,4757.40,4783.10,4745.10,4682.20,\n",
    "4657.00,4653.70,4593.90,4575.80,4596.30,4640.00,4657.90,4640.30,4604.60,\n",
    "4728.30,4751.40,4831.70,4812.80,4810.70,4758.50,4762.40,4767.80,4799.50,\n",
    "4857.40,4899.30,4964.20,4949.00,4877.20,4805.70,4846.70,4874.50,4862.90,\n",
    "4851.50,4862.60,4876.60,4927.30,4907.50,4899.30,4895.70,4960.60,5026.20,\n",
    "5086.80,5031.30,5031.90,5075.80,5003.60,4991.30,4865.80,4835.00,4914.20,\n",
    "4958.40,4978.00,4901.10,4901.10,4886.30,4906.90,4845.40,4817.50,4870.20,\n",
    "4952.20,4976.90,4991.30,4994.20,4985.20,4950.50,4905.20,4854.80,4848.20,\n",
    "4902.90,4976.40,5013.10,5046.20,5023.80,5075.70,5027.50,5077.20,5065.50,\n",
    "5226.30,5220.30,5244.20,5317.10,5296.10,5330.80,5300.00,5305.60,5262.10,\n",
    "5217.80,5227.30,5300.10,5298.90,5263.70,5287.90,5271.10,5211.00,5225.90,\n",
    "5148.80,4991.50,4970.20,4840.70,4755.40,4871.80,4801.90,4842.30,4906.40,\n",
    "4897.40,4908.30,4863.80,4764.30,4806.80,4793.70,4720.40,4711.00,4741.80,\n",
    "4867.00,4845.40,4830.10,4908.40,4985.80,4898.60,4863.50,4891.20,4889.00,\n",
    "4831.80,4921.80,4977.60,4970.70,5082.30,5142.90,5187.40,5177.10,5130.70,\n",
    "5035.90,5045.20,5121.80,5203.40,5190.80,5168.30,5020.20,5018.20,5049.80,\n",
    "5013.90,5013.90,5013.90,5112.40,5132.30,5135.50,5135.50,5193.50,5262.50,\n",
    "5264.40,5224.10,5237.10,5138.30,5068.80,5083.90,5106.90,5165.80,5263.10,\n",
    "5273.60,5278.20,5272.30,5253.10,5181.40,5237.20,5326.30,5372.60,5422.40,\n",
    "5458.50,5599.00,5612.80,5595.80,5606.40,5629.70,5600.90,5613.30,5607.90,\n",
    "5552.50,5582.30,5619.90,5709.50,5723.40,5718.50,5718.50,5702.80,5651.00,\n",
    "5745.10,5764.80,5767.30,5820.60,5807.70,5733.10,5695.60,5782.90,5818.90,\n",
    "5828.50,5829.80,5794.80,5782.30,5785.10,5834.90,5903.60,5997.90,5956.30,\n",
    "5947.00,5983.70,5967.80,5905.60,5939.30,5911.90,5932.20,6017.60,6052.80,\n",
    "6064.20,6105.80,6094.00,6055.20,6105.50,6105.50,6105.50,6104.10,6074.10,\n",
    "6002.00,5922.20,5954.10,5955.00,5931.10,5898.10,5863.90,5722.40,5806.60,\n",
    "5833.10,5928.30,6011.30,6011.30,5986.50,5992.40,5938.00,5969.80,6028.30,\n",
    "5956.70,5972.90,5948.50,5917.80,5826.20,5877.80,5907.40,5935.60,5955.60,\n",
    "5955.60,5970.70,5870.20,5862.30,5870.70,5837.90,5842.30,5898.40,5860.80,\n",
    "5947.30,6037.80,6019.80,5987.40,5852.50,5769.80,5715.70,5729.70,5832.70,\n",
    "5812.10,5748.10,5712.40,5772.00,5804.90,5858.90,5877.40,5884.50,5832.50,\n",
    "5919.90,5960.20,5988.40,5990.30,6003.40,6009.60,5969.70,5927.90,5958.20,\n",
    "6100.20,6151.50,6116.80,6174.00,6179.00,6132.70,5989.60,5976.20,5892.30,\n",
    "5836.10,5835.80,5844.10,5910.70,5837.00,5809.70,5736.10,5632.50,5594.10,\n",
    "5680.40,5587.60,5432.80,5462.20,5399.50,5455.00)\n",
    "\n",
    "length(eu_stocks_data)"
   ]
  },
  {
   "cell_type": "code",
   "execution_count": 23,
   "metadata": {},
   "outputs": [
    {
     "data": {
      "text/html": [
       "FALSE"
      ],
      "text/latex": [
       "FALSE"
      ],
      "text/markdown": [
       "FALSE"
      ],
      "text/plain": [
       "[1] FALSE"
      ]
     },
     "metadata": {},
     "output_type": "display_data"
    }
   ],
   "source": [
    "is.ts(eu_stocks_data)"
   ]
  },
  {
   "cell_type": "code",
   "execution_count": 24,
   "metadata": {
    "collapsed": true
   },
   "outputs": [],
   "source": [
    "eu_stocks <- ts(eu_stocks_data, start = c(1991, 130), end = c(1998, 169), frequency = 260)"
   ]
  },
  {
   "cell_type": "code",
   "execution_count": 25,
   "metadata": {},
   "outputs": [
    {
     "data": {
      "text/html": [
       "TRUE"
      ],
      "text/latex": [
       "TRUE"
      ],
      "text/markdown": [
       "TRUE"
      ],
      "text/plain": [
       "[1] TRUE"
      ]
     },
     "metadata": {},
     "output_type": "display_data"
    }
   ],
   "source": [
    "is.ts(eu_stocks)"
   ]
  },
  {
   "cell_type": "code",
   "execution_count": 26,
   "metadata": {},
   "outputs": [
    {
     "data": {
      "text/html": [
       "<ol class=list-inline>\n",
       "\t<li>1991</li>\n",
       "\t<li>130</li>\n",
       "</ol>\n"
      ],
      "text/latex": [
       "\\begin{enumerate*}\n",
       "\\item 1991\n",
       "\\item 130\n",
       "\\end{enumerate*}\n"
      ],
      "text/markdown": [
       "1. 1991\n",
       "2. 130\n",
       "\n",
       "\n"
      ],
      "text/plain": [
       "[1] 1991  130"
      ]
     },
     "metadata": {},
     "output_type": "display_data"
    }
   ],
   "source": [
    "start(eu_stocks)"
   ]
  },
  {
   "cell_type": "code",
   "execution_count": 27,
   "metadata": {},
   "outputs": [
    {
     "data": {
      "text/html": [
       "<ol class=list-inline>\n",
       "\t<li>1998</li>\n",
       "\t<li>169</li>\n",
       "</ol>\n"
      ],
      "text/latex": [
       "\\begin{enumerate*}\n",
       "\\item 1998\n",
       "\\item 169\n",
       "\\end{enumerate*}\n"
      ],
      "text/markdown": [
       "1. 1998\n",
       "2. 169\n",
       "\n",
       "\n"
      ],
      "text/plain": [
       "[1] 1998  169"
      ]
     },
     "metadata": {},
     "output_type": "display_data"
    }
   ],
   "source": [
    "end(eu_stocks)"
   ]
  },
  {
   "cell_type": "code",
   "execution_count": 28,
   "metadata": {},
   "outputs": [
    {
     "data": {
      "text/html": [
       "260"
      ],
      "text/latex": [
       "260"
      ],
      "text/markdown": [
       "260"
      ],
      "text/plain": [
       "[1] 260"
      ]
     },
     "metadata": {},
     "output_type": "display_data"
    }
   ],
   "source": [
    "frequency(eu_stocks)"
   ]
  },
  {
   "cell_type": "code",
   "execution_count": 29,
   "metadata": {},
   "outputs": [
    {
     "data": {
      "image/png": "[encoded data removed]",
      "text/plain": [
       "plot without title"
      ]
     },
     "metadata": {},
     "output_type": "display_data"
    }
   ],
   "source": [
    "plot(eu_stocks)"
   ]
  },
  {
   "cell_type": "code",
   "execution_count": 30,
   "metadata": {},
   "outputs": [
    {
     "data": {
      "image/png": "[encoded data removed]",
      "text/plain": [
       "Plot with title \"Major European Stock Indices, 1991-1998\""
      ]
     },
     "metadata": {},
     "output_type": "display_data"
    }
   ],
   "source": [
    "# Use ts.plot with eu_stocks\n",
    "ts.plot(eu_stocks, col = 1:4, xlab = \"Year\", ylab = \"Index Value\", main = \"Major European Stock Indices, 1991-1998\")\n",
    "\n",
    "# Add a legend to your ts.plot\n",
    "legend(\"topleft\", legend = c(\"DAX\"), lty = 1, col = 1:4, bty = \"n\")"
   ]
  },
  {
   "cell_type": "markdown",
   "metadata": {},
   "source": [
    "# Predicting the future\n",
    "We'll conduct some trend spotting, and learn the white noise (WN) model, the random walk (RW) model, and the definition of stationary processes."
   ]
  },
  {
   "cell_type": "markdown",
   "metadata": {
    "collapsed": true
   },
   "source": [
    "## Removing/filtering common trends in a time-series\n",
    "\n",
    "- log() can linearize a rapid growth trend. It can also stablize a time series with increasing variance. The downside to log transformations is that it is only applicable for positive values. \n",
    "- diff () can remove a linear trend. The diff() method can include a seasional difference transformation. It can remove periodic trends. \n",
    "\n",
    "Common types of trends in time series data include persistent growth or decay over time, increasing variability over time, and periodic or seasonal patterns, that is regularly spaced peaks and troughs appearing throughout the data."
   ]
  },
  {
   "cell_type": "markdown",
   "metadata": {},
   "source": [
    "## Removing trends in variability via the logarithmic transformation\n",
    "The logarithmic function log() is a data transformation that can be applied to positively valued time series data. It slightly shrinks observations that are greater than one towards zero, while greatly shrinking very large observations. This property can stabilize variability when a series exhibits increasing variability over time. It may also be used to linearize a rapid growth pattern over time."
   ]
  },
  {
   "cell_type": "code",
   "execution_count": 35,
   "metadata": {},
   "outputs": [],
   "source": [
    "rapid_growth <- c(505.9547,447.3556,542.5831,516.0634,506.9599,535.0162,496.9291,\n",
    "497.5626,577.2483,536.8560,541.2459,473.4978,550.9890,569.4106,\n",
    "522.9152,487.2002,594.6108,591.1740,615.9868,621.3175,607.1250,\n",
    "587.0367,554.1554,644.1172,509.7000,607.0943,603.5512,613.6216,\n",
    "544.9143,670.8118,687.1316,615.5817,711.1873,694.2979,681.9293,\n",
    "659.1403,642.7021,601.5301,666.7623,650.9657,606.0913,696.6788,\n",
    "641.6025,855.7719,667.3291,573.4914,791.7333,751.5914,610.7948,\n",
    "624.6503,833.2990,639.8867,736.8283,772.2923,686.8865,667.7631,\n",
    "712.9415,918.1838,656.1089,700.4972,683.4933,781.7380,715.6843,\n",
    "808.2875,820.7795,656.8856,733.3400,773.5387,641.2027,932.2119,\n",
    "680.6766,988.2828,664.8986,813.5283,883.4088,924.2749,969.4321,\n",
    "777.3293,880.9984,971.3583,902.9584,1020.7457,1075.1483,886.1707,\n",
    "889.6322,950.3908,878.0395,1043.7676,901.1090,1079.6584,933.9054,\n",
    "921.9433,870.8071,811.1398,1004.2677,1008.1758,1189.4893,751.9706,\n",
    "947.4753,886.5153,1074.8943,1101.1307,1130.1855,975.8495,948.1610,\n",
    "1177.8227,1227.1271,976.9957,836.7089,1323.6047,852.3532,1200.8262,\n",
    "1274.4788,1349.2614,1102.6334,1324.8566,1268.7187,1058.2289,1204.0872,\n",
    "1084.6503,1284.4305,1195.2843,1058.4262,1188.0577,1166.5934,1064.6946,\n",
    "1429.0685,1070.8528,1539.3305,1467.1571,1127.7058,1296.0717,1555.2741,\n",
    "1332.9037,1315.4236,1189.2462,1482.4339,1240.9287,1237.7720,1468.6083,\n",
    "1328.5457,1589.5078,1373.1630,1503.5563,1659.9376,1704.6137,1550.4638,\n",
    "1625.8026,1873.8582,1370.6209,1439.7114,1447.4369,1579.9158,1681.2571,\n",
    "1661.6059,1311.8468,1326.0308,1323.0995,1550.4863,1606.2042,1768.5401,\n",
    "1509.8368,1592.1086,1627.6188,1544.6329,1439.5234,1682.3518,1850.7097,\n",
    "1673.3801,1832.4272,1672.2672,1781.5768,1659.2899,1970.0389,2044.7124,\n",
    "1929.0902,1891.7042,1487.1577,2013.8722,1796.7886,1977.0183,1516.9552,\n",
    "1650.6039,1523.2834,1696.6181,1627.2609,1787.2968,1567.2874,1881.9963,\n",
    "2318.9833,1941.9879,1820.2797,2154.8123,2261.5471,2052.2214,2079.1710,\n",
    "2010.0609,2145.2606,1775.3008,2013.4070)"
   ]
  },
  {
   "cell_type": "code",
   "execution_count": 36,
   "metadata": {},
   "outputs": [
    {
     "data": {
      "image/png": "[encoded data removed]",
      "text/plain": [
       "plot without title"
      ]
     },
     "metadata": {},
     "output_type": "display_data"
    }
   ],
   "source": [
    "ts.plot(rapid_growth)"
   ]
  },
  {
   "cell_type": "code",
   "execution_count": 37,
   "metadata": {},
   "outputs": [
    {
     "data": {
      "image/png": "[encoded data removed]",
      "text/plain": [
       "plot without title"
      ]
     },
     "metadata": {},
     "output_type": "display_data"
    }
   ],
   "source": [
    "linear_growth <- log(rapid_growth)\n",
    "ts.plot(linear_growth)"
   ]
  },
  {
   "cell_type": "markdown",
   "metadata": {},
   "source": [
    "The logarithmic transformation helps stabilize your data by inducing linear growth over time. Remember to adjust your interpetation of the data accordingly."
   ]
  },
  {
   "cell_type": "code",
   "execution_count": null,
   "metadata": {
    "collapsed": true
   },
   "outputs": [],
   "source": []
  }
 ],
 "metadata": {
  "kernelspec": {
   "display_name": "R",
   "language": "R",
   "name": "ir"
  },
  "language_info": {
   "codemirror_mode": "r",
   "file_extension": ".r",
   "mimetype": "text/x-r-source",
   "name": "R",
   "pygments_lexer": "r",
   "version": "3.4.1"
  }
 },
 "nbformat": 4,
 "nbformat_minor": 2
}
