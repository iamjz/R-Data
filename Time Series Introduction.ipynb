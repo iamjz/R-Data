{
 "cells": [
  {
   "cell_type": "markdown",
   "metadata": {},
   "source": [
    "## Exploring raw time series\n",
    "The most common first step when conducting time series analysis is to display your time series dataset in a visually intuitive format."
   ]
  },
  {
   "cell_type": "code",
   "execution_count": 1,
   "metadata": {},
   "outputs": [],
   "source": [
    "options(warn = -1)\n",
    "\n",
    "library(tidytext)\n"
   ]
  },
  {
   "cell_type": "code",
   "execution_count": 2,
   "metadata": {},
   "outputs": [],
   "source": [
    "df <- read.csv(\"datasets/timeseries/Nile.csv\")"
   ]
  },
  {
   "cell_type": "code",
   "execution_count": 3,
   "metadata": {},
   "outputs": [
    {
     "data": {
      "text/html": [
       "<table>\n",
       "<thead><tr><th scope=col>streamflow</th></tr></thead>\n",
       "<tbody>\n",
       "\t<tr><td>1120</td></tr>\n",
       "\t<tr><td>1160</td></tr>\n",
       "\t<tr><td> 963</td></tr>\n",
       "\t<tr><td>1210</td></tr>\n",
       "\t<tr><td>1160</td></tr>\n",
       "\t<tr><td>1160</td></tr>\n",
       "</tbody>\n",
       "</table>\n"
      ],
      "text/latex": [
       "\\begin{tabular}{r|l}\n",
       " streamflow\\\\\n",
       "\\hline\n",
       "\t 1120\\\\\n",
       "\t 1160\\\\\n",
       "\t  963\\\\\n",
       "\t 1210\\\\\n",
       "\t 1160\\\\\n",
       "\t 1160\\\\\n",
       "\\end{tabular}\n"
      ],
      "text/markdown": [
       "\n",
       "streamflow | \n",
       "|---|---|---|---|---|---|\n",
       "| 1120 | \n",
       "| 1160 | \n",
       "|  963 | \n",
       "| 1210 | \n",
       "| 1160 | \n",
       "| 1160 | \n",
       "\n",
       "\n"
      ],
      "text/plain": [
       "  streamflow\n",
       "1 1120      \n",
       "2 1160      \n",
       "3  963      \n",
       "4 1210      \n",
       "5 1160      \n",
       "6 1160      "
      ]
     },
     "metadata": {},
     "output_type": "display_data"
    }
   ],
   "source": [
    "head(df)"
   ]
  },
  {
   "cell_type": "code",
   "execution_count": 8,
   "metadata": {},
   "outputs": [],
   "source": [
    "Nile <- ts(df[\"streamflow\"], start = 1871, end = 1970, frequency = 1)"
   ]
  },
  {
   "cell_type": "code",
   "execution_count": 9,
   "metadata": {},
   "outputs": [
    {
     "name": "stdout",
     "output_type": "stream",
     "text": [
      "Time Series:\n",
      "Start = 1871 \n",
      "End = 1970 \n",
      "Frequency = 1 \n",
      "       streamflow\n",
      "  [1,]       1120\n",
      "  [2,]       1160\n",
      "  [3,]        963\n",
      "  [4,]       1210\n",
      "  [5,]       1160\n",
      "  [6,]       1160\n",
      "  [7,]        813\n",
      "  [8,]       1230\n",
      "  [9,]       1370\n",
      " [10,]       1140\n",
      " [11,]        995\n",
      " [12,]        935\n",
      " [13,]       1110\n",
      " [14,]        994\n",
      " [15,]       1020\n",
      " [16,]        960\n",
      " [17,]       1180\n",
      " [18,]        799\n",
      " [19,]        958\n",
      " [20,]       1140\n",
      " [21,]       1100\n",
      " [22,]       1210\n",
      " [23,]       1150\n",
      " [24,]       1250\n",
      " [25,]       1260\n",
      " [26,]       1220\n",
      " [27,]       1030\n",
      " [28,]       1100\n",
      " [29,]        774\n",
      " [30,]        840\n",
      " [31,]        874\n",
      " [32,]        694\n",
      " [33,]        940\n",
      " [34,]        833\n",
      " [35,]        701\n",
      " [36,]        916\n",
      " [37,]        692\n",
      " [38,]       1020\n",
      " [39,]       1050\n",
      " [40,]        969\n",
      " [41,]        831\n",
      " [42,]        726\n",
      " [43,]        456\n",
      " [44,]        824\n",
      " [45,]        702\n",
      " [46,]       1120\n",
      " [47,]       1100\n",
      " [48,]        832\n",
      " [49,]        764\n",
      " [50,]        821\n",
      " [51,]        768\n",
      " [52,]        845\n",
      " [53,]        864\n",
      " [54,]        862\n",
      " [55,]        698\n",
      " [56,]        845\n",
      " [57,]        744\n",
      " [58,]        796\n",
      " [59,]       1040\n",
      " [60,]        759\n",
      " [61,]        781\n",
      " [62,]        865\n",
      " [63,]        845\n",
      " [64,]        944\n",
      " [65,]        984\n",
      " [66,]        897\n",
      " [67,]        822\n",
      " [68,]       1010\n",
      " [69,]        771\n",
      " [70,]        676\n",
      " [71,]        649\n",
      " [72,]        846\n",
      " [73,]        812\n",
      " [74,]        742\n",
      " [75,]        801\n",
      " [76,]       1040\n",
      " [77,]        860\n",
      " [78,]        874\n",
      " [79,]        848\n",
      " [80,]        890\n",
      " [81,]        744\n",
      " [82,]        749\n",
      " [83,]        838\n",
      " [84,]       1050\n",
      " [85,]        918\n",
      " [86,]        986\n",
      " [87,]        797\n",
      " [88,]        923\n",
      " [89,]        975\n",
      " [90,]        815\n",
      " [91,]       1020\n",
      " [92,]        906\n",
      " [93,]        901\n",
      " [94,]       1170\n",
      " [95,]        912\n",
      " [96,]        746\n",
      " [97,]        919\n",
      " [98,]        718\n",
      " [99,]        714\n",
      "[100,]        740\n"
     ]
    }
   ],
   "source": [
    "print(Nile)"
   ]
  },
  {
   "cell_type": "code",
   "execution_count": 10,
   "metadata": {},
   "outputs": [
    {
     "data": {
      "text/html": [
       "100"
      ],
      "text/latex": [
       "100"
      ],
      "text/markdown": [
       "100"
      ],
      "text/plain": [
       "[1] 100"
      ]
     },
     "metadata": {},
     "output_type": "display_data"
    }
   ],
   "source": [
    "length(Nile)"
   ]
  },
  {
   "cell_type": "code",
   "execution_count": 12,
   "metadata": {},
   "outputs": [
    {
     "data": {
      "image/png": "[encoded data removed]",
      "text/plain": [
       "plot without title"
      ]
     },
     "metadata": {},
     "output_type": "display_data"
    }
   ],
   "source": [
    "plot(Nile)"
   ]
  },
  {
   "cell_type": "code",
   "execution_count": 16,
   "metadata": {},
   "outputs": [
    {
     "data": {
      "image/png": "[encoded data removed]",
      "text/plain": [
       "Plot with title \"Annual River Nile Volume at Aswan, 1871-1970\""
      ]
     },
     "metadata": {},
     "output_type": "display_data"
    }
   ],
   "source": [
    "# renaming the X and Y axis\n",
    "plot(Nile, xlab = \"Year\", ylab = \"River Volume (1e9 m^{3})\", \n",
    "         main = \"Annual River Nile Volume at Aswan, 1871-1970\", type = \"b\")"
   ]
  },
  {
   "cell_type": "markdown",
   "metadata": {},
   "source": [
    "## What does the time index tell us?\n",
    "Some data are naturally evenly spaced by time. The time series discrete_data shown has 20 observations, with one observation appearing at each of the discrete time indices 1 through 20. Discrete time indexing is appropriate for discrete_data."
   ]
  },
  {
   "cell_type": "code",
   "execution_count": 24,
   "metadata": {},
   "outputs": [
    {
     "name": "stdout",
     "output_type": "stream",
     "text": [
      "Time Series:\n",
      "Start = 1 \n",
      "End = 20 \n",
      "Frequency = 1 \n",
      " [1]  0.47942554  0.84147098  0.99749499  0.90929743  0.59847214  0.14112001\n",
      " [7] -0.35078323 -0.75680250 -0.97753012 -0.95892427 -0.70554033 -0.27941550\n",
      "[13]  0.21511999  0.65698660  0.93799998  0.98935825  0.79848711  0.41211849\n",
      "[19] -0.07515112 -0.54402111\n"
     ]
    }
   ],
   "source": [
    "data <- c(0.47942554,0.84147098,0.99749499,0.90929743,0.59847214,0.14112001,-0.35078323,-0.75680250,-0.97753012,-0.95892427,-0.70554033,-0.27941550\n",
    ",0.21511999,0.65698660,0.93799998,0.98935825,0.79848711,0.41211849,-0.07515112,-0.54402111)\n",
    "\n",
    "discrete_data <- ts(data, start = 1, end = 20, frequency = 1)\n",
    "print(discrete_data)"
   ]
  },
  {
   "cell_type": "code",
   "execution_count": 30,
   "metadata": {},
   "outputs": [
    {
     "data": {
      "image/png": "[encoded data removed]",
      "text/plain": [
       "Plot with title \"discrete_data\""
      ]
     },
     "metadata": {},
     "output_type": "display_data"
    }
   ],
   "source": [
    "plot(discrete_data, type = \"b\", main = \"discrete_data\")"
   ]
  },
  {
   "cell_type": "markdown",
   "metadata": {},
   "source": [
    "The time series continuous_series shown also has 20 observations, it is following the same periodic pattern as discrete_data, but its observations are not evenly spaced. Its first, second, and last observations were observed at times 1.210322, 1.746137, and 20.180524, respectively. Continuous time indexing is natural for continuous_series, however, the observations are approximately evenly spaced, with about 1 observation observed per time unit. Let's investigate using a discrete time indexing for continuous_series."
   ]
  },
  {
   "cell_type": "code",
   "execution_count": 22,
   "metadata": {},
   "outputs": [
    {
     "name": "stdout",
     "output_type": "stream",
     "text": [
      " [1]  0.56889468  0.76630408  0.99207512  0.97481741  0.39912320  0.37660246\n",
      " [7] -0.38532033 -0.83635852 -0.99966983 -0.99831019 -0.64622280 -0.09386151\n",
      "[13]  0.40052909  0.68160578  0.95318159  0.99693803  0.83934194  0.37003754\n",
      "[19] -0.25509676 -0.61743983\n"
     ]
    }
   ],
   "source": [
    "data2 <- c(0.56889468,0.76630408,0.99207512,0.97481741,0.39912320,0.37660246\n",
    ",-0.38532033,-0.83635852,-0.99966983,-0.99831019,-0.64622280,-0.09386151\n",
    ",0.40052909,0.68160578,0.95318159,0.99693803,0.83934194,0.37003754\n",
    ",-0.25509676,-0.61743983)\n",
    "\n",
    "continuous_series <- data2\n",
    "print(continuous_series)"
   ]
  },
  {
   "cell_type": "code",
   "execution_count": 31,
   "metadata": {},
   "outputs": [
    {
     "data": {
      "image/png": "[encoded data removed]",
      "text/plain": [
       "Plot with title \"continuous_series\""
      ]
     },
     "metadata": {},
     "output_type": "display_data"
    }
   ],
   "source": [
    "plot(continuous_series, type = \"b\", main = \"continuous_series\")"
   ]
  },
  {
   "cell_type": "code",
   "execution_count": null,
   "metadata": {
    "collapsed": true
   },
   "outputs": [],
   "source": []
  }
 ],
 "metadata": {
  "kernelspec": {
   "display_name": "R",
   "language": "R",
   "name": "ir"
  },
  "language_info": {
   "codemirror_mode": "r",
   "file_extension": ".r",
   "mimetype": "text/x-r-source",
   "name": "R",
   "pygments_lexer": "r",
   "version": "3.4.1"
  }
 },
 "nbformat": 4,
 "nbformat_minor": 2
}
