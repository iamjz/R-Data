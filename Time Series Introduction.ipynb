{
 "cells": [
  {
   "cell_type": "markdown",
   "metadata": {},
   "source": [
    "# Time Series Introduction\n",
    "\n",
    "Many phenomena in our day-to-day lives, such as the movement of stock prices, are measured in intervals over a period of time. Time series analysis methods are extremely useful for analyzing these special data types."
   ]
  },
  {
   "cell_type": "markdown",
   "metadata": {},
   "source": [
    "## Exploring raw time series\n",
    "The most common first step when conducting time series analysis is to display your time series dataset in a visually intuitive format."
   ]
  },
  {
   "cell_type": "code",
   "execution_count": 1,
   "metadata": {},
   "outputs": [],
   "source": [
    "options(warn = -1)\n",
    "\n",
    "library(tidytext)\n"
   ]
  },
  {
   "cell_type": "code",
   "execution_count": 2,
   "metadata": {},
   "outputs": [],
   "source": [
    "df <- read.csv(\"datasets/timeseries/Nile.csv\")"
   ]
  },
  {
   "cell_type": "code",
   "execution_count": 3,
   "metadata": {},
   "outputs": [
    {
     "data": {
      "text/html": [
       "<table>\n",
       "<thead><tr><th scope=col>streamflow</th></tr></thead>\n",
       "<tbody>\n",
       "\t<tr><td>1120</td></tr>\n",
       "\t<tr><td>1160</td></tr>\n",
       "\t<tr><td> 963</td></tr>\n",
       "\t<tr><td>1210</td></tr>\n",
       "\t<tr><td>1160</td></tr>\n",
       "\t<tr><td>1160</td></tr>\n",
       "</tbody>\n",
       "</table>\n"
      ],
      "text/latex": [
       "\\begin{tabular}{r|l}\n",
       " streamflow\\\\\n",
       "\\hline\n",
       "\t 1120\\\\\n",
       "\t 1160\\\\\n",
       "\t  963\\\\\n",
       "\t 1210\\\\\n",
       "\t 1160\\\\\n",
       "\t 1160\\\\\n",
       "\\end{tabular}\n"
      ],
      "text/markdown": [
       "\n",
       "streamflow | \n",
       "|---|---|---|---|---|---|\n",
       "| 1120 | \n",
       "| 1160 | \n",
       "|  963 | \n",
       "| 1210 | \n",
       "| 1160 | \n",
       "| 1160 | \n",
       "\n",
       "\n"
      ],
      "text/plain": [
       "  streamflow\n",
       "1 1120      \n",
       "2 1160      \n",
       "3  963      \n",
       "4 1210      \n",
       "5 1160      \n",
       "6 1160      "
      ]
     },
     "metadata": {},
     "output_type": "display_data"
    }
   ],
   "source": [
    "head(df)"
   ]
  },
  {
   "cell_type": "code",
   "execution_count": 8,
   "metadata": {},
   "outputs": [],
   "source": [
    "Nile <- ts(df[\"streamflow\"], start = 1871, end = 1970, frequency = 1)"
   ]
  },
  {
   "cell_type": "code",
   "execution_count": 9,
   "metadata": {},
   "outputs": [
    {
     "name": "stdout",
     "output_type": "stream",
     "text": [
      "Time Series:\n",
      "Start = 1871 \n",
      "End = 1970 \n",
      "Frequency = 1 \n",
      "       streamflow\n",
      "  [1,]       1120\n",
      "  [2,]       1160\n",
      "  [3,]        963\n",
      "  [4,]       1210\n",
      "  [5,]       1160\n",
      "  [6,]       1160\n",
      "  [7,]        813\n",
      "  [8,]       1230\n",
      "  [9,]       1370\n",
      " [10,]       1140\n",
      " [11,]        995\n",
      " [12,]        935\n",
      " [13,]       1110\n",
      " [14,]        994\n",
      " [15,]       1020\n",
      " [16,]        960\n",
      " [17,]       1180\n",
      " [18,]        799\n",
      " [19,]        958\n",
      " [20,]       1140\n",
      " [21,]       1100\n",
      " [22,]       1210\n",
      " [23,]       1150\n",
      " [24,]       1250\n",
      " [25,]       1260\n",
      " [26,]       1220\n",
      " [27,]       1030\n",
      " [28,]       1100\n",
      " [29,]        774\n",
      " [30,]        840\n",
      " [31,]        874\n",
      " [32,]        694\n",
      " [33,]        940\n",
      " [34,]        833\n",
      " [35,]        701\n",
      " [36,]        916\n",
      " [37,]        692\n",
      " [38,]       1020\n",
      " [39,]       1050\n",
      " [40,]        969\n",
      " [41,]        831\n",
      " [42,]        726\n",
      " [43,]        456\n",
      " [44,]        824\n",
      " [45,]        702\n",
      " [46,]       1120\n",
      " [47,]       1100\n",
      " [48,]        832\n",
      " [49,]        764\n",
      " [50,]        821\n",
      " [51,]        768\n",
      " [52,]        845\n",
      " [53,]        864\n",
      " [54,]        862\n",
      " [55,]        698\n",
      " [56,]        845\n",
      " [57,]        744\n",
      " [58,]        796\n",
      " [59,]       1040\n",
      " [60,]        759\n",
      " [61,]        781\n",
      " [62,]        865\n",
      " [63,]        845\n",
      " [64,]        944\n",
      " [65,]        984\n",
      " [66,]        897\n",
      " [67,]        822\n",
      " [68,]       1010\n",
      " [69,]        771\n",
      " [70,]        676\n",
      " [71,]        649\n",
      " [72,]        846\n",
      " [73,]        812\n",
      " [74,]        742\n",
      " [75,]        801\n",
      " [76,]       1040\n",
      " [77,]        860\n",
      " [78,]        874\n",
      " [79,]        848\n",
      " [80,]        890\n",
      " [81,]        744\n",
      " [82,]        749\n",
      " [83,]        838\n",
      " [84,]       1050\n",
      " [85,]        918\n",
      " [86,]        986\n",
      " [87,]        797\n",
      " [88,]        923\n",
      " [89,]        975\n",
      " [90,]        815\n",
      " [91,]       1020\n",
      " [92,]        906\n",
      " [93,]        901\n",
      " [94,]       1170\n",
      " [95,]        912\n",
      " [96,]        746\n",
      " [97,]        919\n",
      " [98,]        718\n",
      " [99,]        714\n",
      "[100,]        740\n"
     ]
    }
   ],
   "source": [
    "print(Nile)"
   ]
  },
  {
   "cell_type": "code",
   "execution_count": 10,
   "metadata": {},
   "outputs": [
    {
     "data": {
      "text/html": [
       "100"
      ],
      "text/latex": [
       "100"
      ],
      "text/markdown": [
       "100"
      ],
      "text/plain": [
       "[1] 100"
      ]
     },
     "metadata": {},
     "output_type": "display_data"
    }
   ],
   "source": [
    "length(Nile)"
   ]
  },
  {
   "cell_type": "code",
   "execution_count": 12,
   "metadata": {},
   "outputs": [
    {
     "data": {
      "image/png": "[encoded data removed]",
      "text/plain": [
       "plot without title"
      ]
     },
     "metadata": {},
     "output_type": "display_data"
    }
   ],
   "source": [
    "plot(Nile)"
   ]
  },
  {
   "cell_type": "code",
   "execution_count": 16,
   "metadata": {},
   "outputs": [
    {
     "data": {
      "image/png": "[encoded data removed]",
      "text/plain": [
       "Plot with title \"Annual River Nile Volume at Aswan, 1871-1970\""
      ]
     },
     "metadata": {},
     "output_type": "display_data"
    }
   ],
   "source": [
    "# renaming the X and Y axis\n",
    "plot(Nile, xlab = \"Year\", ylab = \"River Volume (1e9 m^{3})\", \n",
    "         main = \"Annual River Nile Volume at Aswan, 1871-1970\", type = \"b\")"
   ]
  },
  {
   "cell_type": "markdown",
   "metadata": {},
   "source": [
    "## What does the time index tell us?\n",
    "Some data are naturally evenly spaced by time. The time series discrete_data shown has 20 observations, with one observation appearing at each of the discrete time indices 1 through 20. Discrete time indexing is appropriate for discrete_data."
   ]
  },
  {
   "cell_type": "code",
   "execution_count": 24,
   "metadata": {},
   "outputs": [
    {
     "name": "stdout",
     "output_type": "stream",
     "text": [
      "Time Series:\n",
      "Start = 1 \n",
      "End = 20 \n",
      "Frequency = 1 \n",
      " [1]  0.47942554  0.84147098  0.99749499  0.90929743  0.59847214  0.14112001\n",
      " [7] -0.35078323 -0.75680250 -0.97753012 -0.95892427 -0.70554033 -0.27941550\n",
      "[13]  0.21511999  0.65698660  0.93799998  0.98935825  0.79848711  0.41211849\n",
      "[19] -0.07515112 -0.54402111\n"
     ]
    }
   ],
   "source": [
    "data <- c(0.47942554,0.84147098,0.99749499,0.90929743,0.59847214,0.14112001,-0.35078323,-0.75680250,-0.97753012,-0.95892427,-0.70554033,-0.27941550\n",
    ",0.21511999,0.65698660,0.93799998,0.98935825,0.79848711,0.41211849,-0.07515112,-0.54402111)\n",
    "\n",
    "discrete_data <- ts(data, start = 1, end = 20, frequency = 1)\n",
    "print(discrete_data)"
   ]
  },
  {
   "cell_type": "code",
   "execution_count": 30,
   "metadata": {},
   "outputs": [
    {
     "data": {
      "image/png": "[encoded data removed]",
      "text/plain": [
       "Plot with title \"discrete_data\""
      ]
     },
     "metadata": {},
     "output_type": "display_data"
    }
   ],
   "source": [
    "plot(discrete_data, type = \"b\", main = \"discrete_data\")"
   ]
  },
  {
   "cell_type": "markdown",
   "metadata": {},
   "source": [
    "The time series continuous_series shown also has 20 observations, it is following the same periodic pattern as discrete_data, but its observations are not evenly spaced. Its first, second, and last observations were observed at times 1.210322, 1.746137, and 20.180524, respectively. Continuous time indexing is natural for continuous_series, however, the observations are approximately evenly spaced, with about 1 observation observed per time unit. Let's investigate using a discrete time indexing for continuous_series."
   ]
  },
  {
   "cell_type": "code",
   "execution_count": 22,
   "metadata": {},
   "outputs": [
    {
     "name": "stdout",
     "output_type": "stream",
     "text": [
      " [1]  0.56889468  0.76630408  0.99207512  0.97481741  0.39912320  0.37660246\n",
      " [7] -0.38532033 -0.83635852 -0.99966983 -0.99831019 -0.64622280 -0.09386151\n",
      "[13]  0.40052909  0.68160578  0.95318159  0.99693803  0.83934194  0.37003754\n",
      "[19] -0.25509676 -0.61743983\n"
     ]
    }
   ],
   "source": [
    "data2 <- c(0.56889468,0.76630408,0.99207512,0.97481741,0.39912320,0.37660246\n",
    ",-0.38532033,-0.83635852,-0.99966983,-0.99831019,-0.64622280,-0.09386151\n",
    ",0.40052909,0.68160578,0.95318159,0.99693803,0.83934194,0.37003754\n",
    ",-0.25509676,-0.61743983)\n",
    "\n",
    "continuous_series <- data2\n",
    "print(continuous_series)"
   ]
  },
  {
   "cell_type": "code",
   "execution_count": 31,
   "metadata": {},
   "outputs": [
    {
     "data": {
      "image/png": "[encoded data removed]",
      "text/plain": [
       "Plot with title \"continuous_series\""
      ]
     },
     "metadata": {},
     "output_type": "display_data"
    }
   ],
   "source": [
    "plot(continuous_series, type = \"b\", main = \"continuous_series\")"
   ]
  },
  {
   "cell_type": "code",
   "execution_count": 32,
   "metadata": {
    "collapsed": true
   },
   "outputs": [],
   "source": [
    "continuous_time_index <- c(1.210322,1.746137,2.889634,3.591384,5.462065,5.510933,7.074295,8.264398,9.373382,9.541063,11.161122,12.378371,13.390559,14.066280,15.093547,15.864515,16.857413,18.091457,19.365451,20.180524)"
   ]
  },
  {
   "cell_type": "code",
   "execution_count": 35,
   "metadata": {},
   "outputs": [
    {
     "data": {
      "image/png": "[encoded data removed]",
      "text/plain": [
       "plot without title"
      ]
     },
     "metadata": {},
     "output_type": "display_data"
    }
   ],
   "source": [
    "# Plot the continuous_series using continuous time indexing\n",
    "par(mfrow=c(2,1))\n",
    "plot(continuous_time_index,continuous_series, type = \"b\")\n",
    "\n",
    "# Make a discrete time index using 1:20 \n",
    "discrete_time_index <- c(1:20)\n",
    "\n",
    "# Now plot the continuous_series using discrete time indexing\n",
    "plot(discrete_time_index,continuous_series, type = \"b\")\n"
   ]
  },
  {
   "cell_type": "markdown",
   "metadata": {},
   "source": [
    "Note the various differences between the resulting figures, but the approximation appears reasonable because the overall trend remained preserved"
   ]
  },
  {
   "cell_type": "markdown",
   "metadata": {},
   "source": [
    "* Sampling Frequency (Exact): Some time series data is EXACTLY evenly spaced. example: hourly temperature measurements\n",
    "* Sampling Frequency (Approximate): Some time series data is APPROXIMATELY evenly spaced. example: temperature measurements everytime you check your email.\n",
    "* Sampling Frequency (Missing Values): Some time series data is evenly spaced but with missing values. example: hourly temperature measurements but only during the times you're awake.\n",
    "\n",
    "#### Basic assumptions\n",
    "Simplifying assumptions for time series:\n",
    "* Consecutive observations are equally spaced.\n",
    "* Apply a discrete-time observation index.\n",
    "* In practice, this may only hold approximately. \n",
    "\n",
    "Example: Daily log returns on stock may only be available for weekdays.\n"
   ]
  },
  {
   "cell_type": "markdown",
   "metadata": {},
   "source": [
    "## Identifying the sampling frequency\n",
    "In addition to viewing your data and plotting over time, there are several additional operations that can be performed on time series datasets.\n",
    "\n",
    "The start() and end() functions return the time index of the first and last observations, respectively. The time() function calculates a vector of time indices, with one element for each time index on which the series was observed.\n",
    "\n",
    "The deltat() function returns the fixed time interval between observations and the frequency() function returns the number of observations per unit time. Finally, the cycle() function returns the position in the cycle of each observation.\n",
    "\n",
    "These commands provide considerable descriptive information about the structures and patterns in your time series data"
   ]
  },
  {
   "cell_type": "markdown",
   "metadata": {},
   "source": [
    "## When is the sampling frequency exact?\n",
    "The sampling frequency is often only approximate and the interval between observations is not quite a fixed unit. For example, there are usually 365 days in a year based on the Gregorian calendar. However, (almost) every four years there are 366 days (leap years). This compensates for the fact that the Earth completes a rotation around Sol, the sun, in approximately 365.2422 days, on average.\n",
    "\n",
    "As a simplifying assumption, we often ignore these small discrepancies and proceed as though the sampling frequency and observation intervals are fixed constants. Typically, our results will not be sensitive to approximation when the underlying process is not changing too quickly."
   ]
  },
  {
   "cell_type": "markdown",
   "metadata": {},
   "source": [
    "## Missing values\n",
    "Sometimes there are missing values in time series data, denoted NA in R, and it is useful to know their locations. It is also important to know how missing values are handled by various R functions. Sometimes we may want to ignore any missingness, but other times we may wish to impute or estimate the missing values.\n",
    "\n",
    "Let's again consider the monthly AirPassengers dataset, but now the data for the year 1956 are missing. \n",
    "\n",
    "The mean() function calculates the sample mean, but it fails in the presence of any NA values. Use mean(___, na.rm = TRUE) to calculate the mean with all missing values removed. It is common to replace missing values with the mean of the observed values. Does this simple data imputation scheme appear adequate when applied the the AirPassengers dataset?"
   ]
  },
  {
   "cell_type": "markdown",
   "metadata": {},
   "source": [
    "## Creating a time series object with ts()\n",
    "The function ts() can be applied to create time series objects. A time series object is a vector (univariate) or matrix (multivariate) with additional attributes, including time indices for each observation, the sampling frequency and time increment between observations, and the cycle length for periodic data. Such objects are of the ts class, and represent data that has been observed at (approximately) equally spaced time points. Now you will create time series objects yourself.\n",
    "\n",
    "The advantage of creating and working with time series objects of the ts class is that many methods are available for utilizing time series attributes, such as time index information. For example, as you've seen in earlier exercises, calling plot() on a ts object will automatically generate a plot over time."
   ]
  },
  {
   "cell_type": "code",
   "execution_count": 40,
   "metadata": {},
   "outputs": [
    {
     "data": {
      "text/html": [
       "<ol class=list-inline>\n",
       "\t<li>2.0521941073</li>\n",
       "\t<li>4.2928852797</li>\n",
       "\t<li>3.3294132944</li>\n",
       "\t<li>3.508595067</li>\n",
       "\t<li>0.0009576938</li>\n",
       "\t<li>1.9217186345</li>\n",
       "\t<li>0.7978134128</li>\n",
       "\t<li>0.2999543435</li>\n",
       "\t<li>0.9435687536</li>\n",
       "\t<li>0.5748283388</li>\n",
       "\t<li>-0.0034005903</li>\n",
       "\t<li>0.3448649176</li>\n",
       "\t<li>2.2229761136</li>\n",
       "\t<li>0.1763144576</li>\n",
       "\t<li>2.709762277</li>\n",
       "\t<li>1.2501948965</li>\n",
       "\t<li>-0.4007164754</li>\n",
       "\t<li>0.8852732121</li>\n",
       "\t<li>-1.5852420266</li>\n",
       "\t<li>-2.2829278891</li>\n",
       "\t<li>-2.560953129</li>\n",
       "\t<li>-3.1259963754</li>\n",
       "\t<li>-2.8660295895</li>\n",
       "\t<li>-1.7847009207</li>\n",
       "\t<li>-1.8894912908</li>\n",
       "\t<li>-2.7255351194</li>\n",
       "\t<li>-2.10331418</li>\n",
       "\t<li>-0.0174256893</li>\n",
       "\t<li>-0.3613204151</li>\n",
       "\t<li>-2.9008403327</li>\n",
       "\t<li>-3.2847440927</li>\n",
       "\t<li>-2.8684594718</li>\n",
       "\t<li>-1.9505074437</li>\n",
       "\t<li>-4.8801892525</li>\n",
       "\t<li>-3.2634605353</li>\n",
       "\t<li>-1.6396062522</li>\n",
       "\t<li>-3.301257584</li>\n",
       "\t<li>-2.6331245433</li>\n",
       "\t<li>-1.7058354022</li>\n",
       "\t<li>-2.2119825061</li>\n",
       "\t<li>-0.5170595186</li>\n",
       "\t<li>0.0752508095</li>\n",
       "\t<li>-0.8406994716</li>\n",
       "\t<li>-1.4022683487</li>\n",
       "\t<li>-0.138211423</li>\n",
       "\t<li>-1.4065954703</li>\n",
       "\t<li>-2.3046941055</li>\n",
       "\t<li>1.5073891432</li>\n",
       "\t<li>0.7118679477</li>\n",
       "\t<li>-1.1300519022</li>\n",
       "</ol>\n"
      ],
      "text/latex": [
       "\\begin{enumerate*}\n",
       "\\item 2.0521941073\n",
       "\\item 4.2928852797\n",
       "\\item 3.3294132944\n",
       "\\item 3.508595067\n",
       "\\item 0.0009576938\n",
       "\\item 1.9217186345\n",
       "\\item 0.7978134128\n",
       "\\item 0.2999543435\n",
       "\\item 0.9435687536\n",
       "\\item 0.5748283388\n",
       "\\item -0.0034005903\n",
       "\\item 0.3448649176\n",
       "\\item 2.2229761136\n",
       "\\item 0.1763144576\n",
       "\\item 2.709762277\n",
       "\\item 1.2501948965\n",
       "\\item -0.4007164754\n",
       "\\item 0.8852732121\n",
       "\\item -1.5852420266\n",
       "\\item -2.2829278891\n",
       "\\item -2.560953129\n",
       "\\item -3.1259963754\n",
       "\\item -2.8660295895\n",
       "\\item -1.7847009207\n",
       "\\item -1.8894912908\n",
       "\\item -2.7255351194\n",
       "\\item -2.10331418\n",
       "\\item -0.0174256893\n",
       "\\item -0.3613204151\n",
       "\\item -2.9008403327\n",
       "\\item -3.2847440927\n",
       "\\item -2.8684594718\n",
       "\\item -1.9505074437\n",
       "\\item -4.8801892525\n",
       "\\item -3.2634605353\n",
       "\\item -1.6396062522\n",
       "\\item -3.301257584\n",
       "\\item -2.6331245433\n",
       "\\item -1.7058354022\n",
       "\\item -2.2119825061\n",
       "\\item -0.5170595186\n",
       "\\item 0.0752508095\n",
       "\\item -0.8406994716\n",
       "\\item -1.4022683487\n",
       "\\item -0.138211423\n",
       "\\item -1.4065954703\n",
       "\\item -2.3046941055\n",
       "\\item 1.5073891432\n",
       "\\item 0.7118679477\n",
       "\\item -1.1300519022\n",
       "\\end{enumerate*}\n"
      ],
      "text/markdown": [
       "1. 2.0521941073\n",
       "2. 4.2928852797\n",
       "3. 3.3294132944\n",
       "4. 3.508595067\n",
       "5. 0.0009576938\n",
       "6. 1.9217186345\n",
       "7. 0.7978134128\n",
       "8. 0.2999543435\n",
       "9. 0.9435687536\n",
       "10. 0.5748283388\n",
       "11. -0.0034005903\n",
       "12. 0.3448649176\n",
       "13. 2.2229761136\n",
       "14. 0.1763144576\n",
       "15. 2.709762277\n",
       "16. 1.2501948965\n",
       "17. -0.4007164754\n",
       "18. 0.8852732121\n",
       "19. -1.5852420266\n",
       "20. -2.2829278891\n",
       "21. -2.560953129\n",
       "22. -3.1259963754\n",
       "23. -2.8660295895\n",
       "24. -1.7847009207\n",
       "25. -1.8894912908\n",
       "26. -2.7255351194\n",
       "27. -2.10331418\n",
       "28. -0.0174256893\n",
       "29. -0.3613204151\n",
       "30. -2.9008403327\n",
       "31. -3.2847440927\n",
       "32. -2.8684594718\n",
       "33. -1.9505074437\n",
       "34. -4.8801892525\n",
       "35. -3.2634605353\n",
       "36. -1.6396062522\n",
       "37. -3.301257584\n",
       "38. -2.6331245433\n",
       "39. -1.7058354022\n",
       "40. -2.2119825061\n",
       "41. -0.5170595186\n",
       "42. 0.0752508095\n",
       "43. -0.8406994716\n",
       "44. -1.4022683487\n",
       "45. -0.138211423\n",
       "46. -1.4065954703\n",
       "47. -2.3046941055\n",
       "48. 1.5073891432\n",
       "49. 0.7118679477\n",
       "50. -1.1300519022\n",
       "\n",
       "\n"
      ],
      "text/plain": [
       " [1]  2.0521941073  4.2928852797  3.3294132944  3.5085950670  0.0009576938\n",
       " [6]  1.9217186345  0.7978134128  0.2999543435  0.9435687536  0.5748283388\n",
       "[11] -0.0034005903  0.3448649176  2.2229761136  0.1763144576  2.7097622770\n",
       "[16]  1.2501948965 -0.4007164754  0.8852732121 -1.5852420266 -2.2829278891\n",
       "[21] -2.5609531290 -3.1259963754 -2.8660295895 -1.7847009207 -1.8894912908\n",
       "[26] -2.7255351194 -2.1033141800 -0.0174256893 -0.3613204151 -2.9008403327\n",
       "[31] -3.2847440927 -2.8684594718 -1.9505074437 -4.8801892525 -3.2634605353\n",
       "[36] -1.6396062522 -3.3012575840 -2.6331245433 -1.7058354022 -2.2119825061\n",
       "[41] -0.5170595186  0.0752508095 -0.8406994716 -1.4022683487 -0.1382114230\n",
       "[46] -1.4065954703 -2.3046941055  1.5073891432  0.7118679477 -1.1300519022"
      ]
     },
     "metadata": {},
     "output_type": "display_data"
    }
   ],
   "source": [
    "data_vector <- c(2.0521941073,4.2928852797,3.3294132944,3.5085950670,0.0009576938,\n",
    "1.9217186345,0.7978134128,0.2999543435,0.9435687536,0.5748283388\n",
    ",-0.0034005903,0.3448649176,2.2229761136,0.1763144576,2.7097622770, 1.2501948965,-0.4007164754,0.8852732121,-1.5852420266,-2.2829278891,-2.5609531290,-3.1259963754,-2.8660295895,-1.7847009207,-1.8894912908\n",
    ",-2.7255351194,-2.1033141800,-0.0174256893,-0.3613204151,-2.9008403327\n",
    ",-3.2847440927,-2.8684594718,-1.9505074437,-4.8801892525,-3.2634605353,-1.6396062522,-3.3012575840,-2.6331245433,-1.7058354022,-2.2119825061\n",
    ",-0.5170595186,0.0752508095,-0.8406994716,-1.4022683487,-0.1382114230\n",
    ",-1.4065954703,-2.3046941055,1.5073891432,0.7118679477,-1.1300519022)\n",
    "\n",
    "data_vector"
   ]
  },
  {
   "cell_type": "code",
   "execution_count": 41,
   "metadata": {},
   "outputs": [
    {
     "data": {
      "image/png": "[encoded data removed]",
      "text/plain": [
       "plot without title"
      ]
     },
     "metadata": {},
     "output_type": "display_data"
    }
   ],
   "source": [
    "plot(data_vector)"
   ]
  },
  {
   "cell_type": "code",
   "execution_count": 43,
   "metadata": {},
   "outputs": [
    {
     "name": "stdout",
     "output_type": "stream",
     "text": [
      "              Qtr1          Qtr2          Qtr3          Qtr4\n",
      "2004  2.0521941073  4.2928852797  3.3294132944  3.5085950670\n",
      "2005  0.0009576938  1.9217186345  0.7978134128  0.2999543435\n",
      "2006  0.9435687536  0.5748283388 -0.0034005903  0.3448649176\n",
      "2007  2.2229761136  0.1763144576  2.7097622770  1.2501948965\n",
      "2008 -0.4007164754  0.8852732121 -1.5852420266 -2.2829278891\n",
      "2009 -2.5609531290 -3.1259963754 -2.8660295895 -1.7847009207\n",
      "2010 -1.8894912908 -2.7255351194 -2.1033141800 -0.0174256893\n",
      "2011 -0.3613204151 -2.9008403327 -3.2847440927 -2.8684594718\n",
      "2012 -1.9505074437 -4.8801892525 -3.2634605353 -1.6396062522\n",
      "2013 -3.3012575840 -2.6331245433 -1.7058354022 -2.2119825061\n",
      "2014 -0.5170595186  0.0752508095 -0.8406994716 -1.4022683487\n",
      "2015 -0.1382114230 -1.4065954703 -2.3046941055  1.5073891432\n",
      "2016  0.7118679477 -1.1300519022                            \n"
     ]
    }
   ],
   "source": [
    "# Convert data_vector to a ts object with start = 2004 and frequency = 4\n",
    "time_series <- ts(data_vector, start = 2004, frequency = 4)\n",
    "\n",
    "print(time_series)"
   ]
  },
  {
   "cell_type": "code",
   "execution_count": 44,
   "metadata": {},
   "outputs": [
    {
     "data": {
      "image/png": "[encoded data removed]",
      "text/plain": [
       "plot without title"
      ]
     },
     "metadata": {},
     "output_type": "display_data"
    }
   ],
   "source": [
    "plot(time_series)"
   ]
  },
  {
   "cell_type": "markdown",
   "metadata": {},
   "source": [
    "As you can see, ts objects are treated differently by commands such as print() and plot(). For example, automatic use of the time-index in your calls to plot() requires a ts object."
   ]
  },
  {
   "cell_type": "markdown",
   "metadata": {},
   "source": [
    "## Testing whether an object is a time series\n",
    "When you work to create your own datasets, you can build them as ts objects. Recall the dataset data_vector from the previous exercise, which was just a vector of numbers, and time_series, the ts object you created from data_vector using the ts() function and information regarding the start time and the observation frequency. As a reminder, data_vector and time_series are shown in the plot on the right.\n",
    "\n",
    "When you use datasets from others, such as those included in an R package, you can check whether they are ts objects using the is.ts() command. The result of the test is either TRUE when the data is of the ts class, or FALSE if it is not.\n",
    "\n",
    "In this exercise, you'll explore the class of the datasets you've been using throughout this chapter."
   ]
  },
  {
   "cell_type": "code",
   "execution_count": null,
   "metadata": {
    "collapsed": true
   },
   "outputs": [],
   "source": []
  }
 ],
 "metadata": {
  "kernelspec": {
   "display_name": "R",
   "language": "R",
   "name": "ir"
  },
  "language_info": {
   "codemirror_mode": "r",
   "file_extension": ".r",
   "mimetype": "text/x-r-source",
   "name": "R",
   "pygments_lexer": "r",
   "version": "3.4.1"
  }
 },
 "nbformat": 4,
 "nbformat_minor": 2
}
