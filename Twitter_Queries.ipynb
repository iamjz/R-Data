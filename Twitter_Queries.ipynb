{
 "cells": [
  {
   "cell_type": "code",
   "execution_count": 1,
   "metadata": {},
   "outputs": [
    {
     "name": "stderr",
     "output_type": "stream",
     "text": [
      "Warning message:\n",
      "\"package 'rtweet' was built under R version 3.4.3\"Warning message:\n",
      "\"package 'tidyverse' was built under R version 3.4.3\"Warning message:\n",
      "\"package 'tibble' was built under R version 3.4.3\"Warning message:\n",
      "\"package 'tidyr' was built under R version 3.4.3\"Warning message:\n",
      "\"package 'purrr' was built under R version 3.4.3\"Warning message:\n",
      "\"package 'dplyr' was built under R version 3.4.2\""
     ]
    }
   ],
   "source": [
    "## load rtweet and tidyverse\n",
    "library(rtweet)\n",
    "suppressPackageStartupMessages(library(tidyverse))"
   ]
  },
  {
   "cell_type": "code",
   "execution_count": 2,
   "metadata": {
    "collapsed": true
   },
   "outputs": [],
   "source": [
    "## search for users using provided queries\n",
    "\n",
    "breitbart <- search_users(\"breitbart\", n = 1, verbose = FALSE)\n",
    "thinkprogress <- search_users(\"thinkprogress\", n = 1, verbose = FALSE)\n",
    "reuters  <- search_users(\"reuterspolitics\", n = 1, verbose = FALSE)"
   ]
  },
  {
   "cell_type": "code",
   "execution_count": 3,
   "metadata": {},
   "outputs": [
    {
     "data": {
      "text/html": [
       "<ol>\n",
       "\t<li><strong>$errors</strong> = <table>\n",
       "<thead><tr><th scope=col>code</th><th scope=col>message</th></tr></thead>\n",
       "<tbody>\n",
       "\t<tr><td>32                         </td><td>Could not authenticate you.</td></tr>\n",
       "</tbody>\n",
       "</table>\n",
       "</li>\n",
       "</ol>\n"
      ],
      "text/latex": [
       "\\begin{enumerate}\n",
       "\\item \\textbf{\\$errors} = \\begin{tabular}{r|ll}\n",
       " code & message\\\\\n",
       "\\hline\n",
       "\t 32                          & Could not authenticate you.\\\\\n",
       "\\end{tabular}\n",
       "\n",
       "\\end{enumerate}\n"
      ],
      "text/markdown": [
       "1. **$errors** = \n",
       "code | message | \n",
       "|---|\n",
       "| 32                          | Could not authenticate you. | \n",
       "\n",
       "\n",
       "\n",
       "\n",
       "\n"
      ],
      "text/plain": [
       "[[1]]\n",
       "[[1]]$errors\n",
       "  code                     message\n",
       "1   32 Could not authenticate you.\n",
       "\n"
      ]
     },
     "metadata": {},
     "output_type": "display_data"
    }
   ],
   "source": [
    "head(breitbart)"
   ]
  },
  {
   "cell_type": "code",
   "execution_count": 4,
   "metadata": {},
   "outputs": [
    {
     "data": {
      "text/html": [
       "<ol>\n",
       "\t<li><strong>$errors</strong> = <table>\n",
       "<thead><tr><th scope=col>code</th><th scope=col>message</th></tr></thead>\n",
       "<tbody>\n",
       "\t<tr><td>32                         </td><td>Could not authenticate you.</td></tr>\n",
       "</tbody>\n",
       "</table>\n",
       "</li>\n",
       "</ol>\n"
      ],
      "text/latex": [
       "\\begin{enumerate}\n",
       "\\item \\textbf{\\$errors} = \\begin{tabular}{r|ll}\n",
       " code & message\\\\\n",
       "\\hline\n",
       "\t 32                          & Could not authenticate you.\\\\\n",
       "\\end{tabular}\n",
       "\n",
       "\\end{enumerate}\n"
      ],
      "text/markdown": [
       "1. **$errors** = \n",
       "code | message | \n",
       "|---|\n",
       "| 32                          | Could not authenticate you. | \n",
       "\n",
       "\n",
       "\n",
       "\n",
       "\n"
      ],
      "text/plain": [
       "[[1]]\n",
       "[[1]]$errors\n",
       "  code                     message\n",
       "1   32 Could not authenticate you.\n",
       "\n"
      ]
     },
     "metadata": {},
     "output_type": "display_data"
    }
   ],
   "source": [
    "head(thinkprogress)"
   ]
  },
  {
   "cell_type": "code",
   "execution_count": 5,
   "metadata": {},
   "outputs": [
    {
     "data": {
      "text/html": [
       "<ol>\n",
       "\t<li><strong>$errors</strong> = <table>\n",
       "<thead><tr><th scope=col>code</th><th scope=col>message</th></tr></thead>\n",
       "<tbody>\n",
       "\t<tr><td>32                         </td><td>Could not authenticate you.</td></tr>\n",
       "</tbody>\n",
       "</table>\n",
       "</li>\n",
       "</ol>\n"
      ],
      "text/latex": [
       "\\begin{enumerate}\n",
       "\\item \\textbf{\\$errors} = \\begin{tabular}{r|ll}\n",
       " code & message\\\\\n",
       "\\hline\n",
       "\t 32                          & Could not authenticate you.\\\\\n",
       "\\end{tabular}\n",
       "\n",
       "\\end{enumerate}\n"
      ],
      "text/markdown": [
       "1. **$errors** = \n",
       "code | message | \n",
       "|---|\n",
       "| 32                          | Could not authenticate you. | \n",
       "\n",
       "\n",
       "\n",
       "\n",
       "\n"
      ],
      "text/plain": [
       "[[1]]\n",
       "[[1]]$errors\n",
       "  code                     message\n",
       "1   32 Could not authenticate you.\n",
       "\n"
      ]
     },
     "metadata": {},
     "output_type": "display_data"
    }
   ],
   "source": [
    "head(reuters)"
   ]
  },
  {
   "cell_type": "code",
   "execution_count": 6,
   "metadata": {},
   "outputs": [
    {
     "name": "stderr",
     "output_type": "stream",
     "text": [
      "Warning message:\n",
      "\"32 - Could not authenticate you.\""
     ]
    },
    {
     "ename": "ERROR",
     "evalue": "Error in `$<-.data.frame`(`*tmp*`, app, value = \"rtweet_rstats\"): replacement has 1 row, data has 0\n",
     "output_type": "error",
     "traceback": [
      "Error in `$<-.data.frame`(`*tmp*`, app, value = \"rtweet_rstats\"): replacement has 1 row, data has 0\nTraceback:\n",
      "1. get_followers(\"BreitbartNews\", n = 5000)",
      "2. do.call(\"get_followers_\", args)",
      "3. get_followers_(user = \"BreitbartNews\", n = 5000, page = \"-1\", \n .     retryonratelimit = FALSE, parse = TRUE, verbose = TRUE, token = NULL)",
      "4. rate_limit(token, query)",
      "5. rate_limit.default(token, query)",
      "6. rate_limit_(token, query, parse)",
      "7. `$<-`(`*tmp*`, app, value = \"rtweet_rstats\")",
      "8. `$<-.data.frame`(`*tmp*`, app, value = \"rtweet_rstats\")",
      "9. stop(sprintf(ngettext(N, \"replacement has %d row, data has %d\", \n .     \"replacement has %d rows, data has %d\"), N, nrows), domain = NA)"
     ]
    }
   ],
   "source": [
    "## complete the code below\n",
    "gop <- get_followers(\"BreitbartNews\", n = 5000)\n",
    "head(gop, 2)"
   ]
  },
  {
   "cell_type": "code",
   "execution_count": 7,
   "metadata": {},
   "outputs": [
    {
     "name": "stderr",
     "output_type": "stream",
     "text": [
      "Warning message:\n",
      "\"32 - Could not authenticate you.\""
     ]
    },
    {
     "ename": "ERROR",
     "evalue": "Error in `$<-.data.frame`(`*tmp*`, \"app\", value = \"rtweet_rstats\"): replacement has 1 row, data has 0\n",
     "output_type": "error",
     "traceback": [
      "Error in `$<-.data.frame`(`*tmp*`, \"app\", value = \"rtweet_rstats\"): replacement has 1 row, data has 0\nTraceback:\n",
      "1. get_followers(\"thinkprogress\", n = 5000)",
      "2. do.call(\"get_followers_\", args)",
      "3. get_followers_(user = \"thinkprogress\", n = 5000, page = \"-1\", \n .     retryonratelimit = FALSE, parse = TRUE, verbose = TRUE, token = NULL)",
      "4. rate_limit(token, query)",
      "5. rate_limit.default(token, query)",
      "6. rate_limit_(token, query, parse)",
      "7. `$<-`(`*tmp*`, \"app\", value = \"rtweet_rstats\")",
      "8. `$<-.data.frame`(`*tmp*`, \"app\", value = \"rtweet_rstats\")",
      "9. stop(sprintf(ngettext(N, \"replacement has %d row, data has %d\", \n .     \"replacement has %d rows, data has %d\"), N, nrows), domain = NA)"
     ]
    }
   ],
   "source": [
    "## complete the code below\n",
    "dem <- get_followers(\"thinkprogress\", n = 5000)\n",
    "head(dem, 2)"
   ]
  },
  {
   "cell_type": "code",
   "execution_count": 8,
   "metadata": {},
   "outputs": [
    {
     "name": "stderr",
     "output_type": "stream",
     "text": [
      "Warning message:\n",
      "\"32 - Could not authenticate you.\""
     ]
    },
    {
     "ename": "ERROR",
     "evalue": "Error in `$<-.data.frame`(`*tmp*`, \"app\", value = \"rtweet_rstats\"): replacement has 1 row, data has 0\n",
     "output_type": "error",
     "traceback": [
      "Error in `$<-.data.frame`(`*tmp*`, \"app\", value = \"rtweet_rstats\"): replacement has 1 row, data has 0\nTraceback:\n",
      "1. get_followers(\"ReutersPolitics\", n = 5000)",
      "2. do.call(\"get_followers_\", args)",
      "3. get_followers_(user = \"ReutersPolitics\", n = 5000, page = \"-1\", \n .     retryonratelimit = FALSE, parse = TRUE, verbose = TRUE, token = NULL)",
      "4. rate_limit(token, query)",
      "5. rate_limit.default(token, query)",
      "6. rate_limit_(token, query, parse)",
      "7. `$<-`(`*tmp*`, \"app\", value = \"rtweet_rstats\")",
      "8. `$<-.data.frame`(`*tmp*`, \"app\", value = \"rtweet_rstats\")",
      "9. stop(sprintf(ngettext(N, \"replacement has %d row, data has %d\", \n .     \"replacement has %d rows, data has %d\"), N, nrows), domain = NA)"
     ]
    }
   ],
   "source": [
    "## complete the code below\n",
    "mod <- get_followers(\"ReutersPolitics\", n = 5000)\n",
    "head(mod, 2)"
   ]
  },
  {
   "cell_type": "code",
   "execution_count": 9,
   "metadata": {},
   "outputs": [
    {
     "ename": "ERROR",
     "evalue": "Error in lookup_users(gop$user_id): object 'gop' not found\n",
     "output_type": "error",
     "traceback": [
      "Error in lookup_users(gop$user_id): object 'gop' not found\nTraceback:\n",
      "1. lookup_users(gop$user_id)"
     ]
    }
   ],
   "source": [
    "## complete the code below\n",
    "\n",
    "## get gop users data\n",
    "gop_data <- lookup_users(gop$user_id)"
   ]
  },
  {
   "cell_type": "code",
   "execution_count": 10,
   "metadata": {},
   "outputs": [
    {
     "ename": "ERROR",
     "evalue": "Error in lookup_users(dem$user_id): object 'dem' not found\n",
     "output_type": "error",
     "traceback": [
      "Error in lookup_users(dem$user_id): object 'dem' not found\nTraceback:\n",
      "1. lookup_users(dem$user_id)"
     ]
    }
   ],
   "source": [
    "## complete the code below\n",
    "\n",
    "## get dem users data\n",
    "dem_data <- lookup_users(dem$user_id)"
   ]
  },
  {
   "cell_type": "code",
   "execution_count": 11,
   "metadata": {},
   "outputs": [
    {
     "ename": "ERROR",
     "evalue": "Error in lookup_users(mod$user_id): object 'mod' not found\n",
     "output_type": "error",
     "traceback": [
      "Error in lookup_users(mod$user_id): object 'mod' not found\nTraceback:\n",
      "1. lookup_users(mod$user_id)"
     ]
    }
   ],
   "source": [
    "## complete the code below\n",
    "\n",
    "## get mod users data\n",
    "mod_data <- lookup_users(mod$user_id)"
   ]
  },
  {
   "cell_type": "code",
   "execution_count": 12,
   "metadata": {},
   "outputs": [
    {
     "ename": "ERROR",
     "evalue": "Error in gop_data$partisan <- \"gop\": object 'gop_data' not found\n",
     "output_type": "error",
     "traceback": [
      "Error in gop_data$partisan <- \"gop\": object 'gop_data' not found\nTraceback:\n"
     ]
    }
   ],
   "source": [
    "## complete the code below\n",
    "\n",
    "## create \"partisan\" grouping variable\n",
    "gop_data$partisan <- \"gop\"\n",
    "dem_data$partisan <- \"dem\"\n",
    "mod_data$partisan <- \"mod\"\n",
    "\n",
    "## merge into single data frame\n",
    "data <- bind_rows(gop_data, dem_data, mod_data)"
   ]
  },
  {
   "cell_type": "code",
   "execution_count": 13,
   "metadata": {},
   "outputs": [
    {
     "ename": "ERROR",
     "evalue": "Error in UseMethod(\"group_by_\"): no applicable method for 'group_by_' applied to an object of class \"function\"\n",
     "output_type": "error",
     "traceback": [
      "Error in UseMethod(\"group_by_\"): no applicable method for 'group_by_' applied to an object of class \"function\"\nTraceback:\n",
      "1. data %>% group_by(partisan) %>% summarize(friends = mean(friends_count, \n .     na.rm = TRUE), followers = mean(followers_count, na.rm = TRUE))",
      "2. withVisible(eval(quote(`_fseq`(`_lhs`)), env, env))",
      "3. eval(quote(`_fseq`(`_lhs`)), env, env)",
      "4. eval(quote(`_fseq`(`_lhs`)), env, env)",
      "5. `_fseq`(`_lhs`)",
      "6. freduce(value, `_function_list`)",
      "7. function_list[[i]](value)",
      "8. group_by(., partisan)",
      "9. group_by.default(., partisan)",
      "10. group_by_(.data, .dots = compat_as_lazy_dots(...), add = add)"
     ]
    }
   ],
   "source": [
    "## complete the code below\n",
    "\n",
    "## PRINT: group by partisan and summarise integer vars\n",
    "data %>%\n",
    "    group_by(partisan) %>%\n",
    "    summarize(friends = mean(friends_count, na.rm = TRUE),\n",
    "               followers = mean(followers_count, na.rm = TRUE))"
   ]
  },
  {
   "cell_type": "code",
   "execution_count": 14,
   "metadata": {},
   "outputs": [
    {
     "ename": "ERROR",
     "evalue": "Error in UseMethod(\"mutate_\"): no applicable method for 'mutate_' applied to an object of class \"function\"\n",
     "output_type": "error",
     "traceback": [
      "Error in UseMethod(\"mutate_\"): no applicable method for 'mutate_' applied to an object of class \"function\"\nTraceback:\n",
      "1. data %>% mutate(Following = factor(partisan, labels = c(\"thinkprogress\", \n .     \"BreitbartNews\", \"ReutersPolitics\"))) %>% group_by(Following) %>% \n .     summarize(friends = mean(friends_count, na.rm = TRUE), followers = mean(followers_count, \n .         na.rm = TRUE)) %>% gather(var, count, -Following) %>% \n .     ggplot(aes(x = Following, y = count, fill = Following))",
      "2. withVisible(eval(quote(`_fseq`(`_lhs`)), env, env))",
      "3. eval(quote(`_fseq`(`_lhs`)), env, env)",
      "4. eval(quote(`_fseq`(`_lhs`)), env, env)",
      "5. `_fseq`(`_lhs`)",
      "6. freduce(value, `_function_list`)",
      "7. function_list[[i]](value)",
      "8. mutate(., Following = factor(partisan, labels = c(\"thinkprogress\", \n .     \"BreitbartNews\", \"ReutersPolitics\")))",
      "9. mutate.default(., Following = factor(partisan, labels = c(\"thinkprogress\", \n .     \"BreitbartNews\", \"ReutersPolitics\")))",
      "10. mutate_(.data, .dots = compat_as_lazy_dots(...))"
     ]
    }
   ],
   "source": [
    "## complete the code below\n",
    "\n",
    "## PLOT: group by partisan and summarise integer vars\n",
    "\n",
    "data %>%\n",
    "    mutate(Following = factor(partisan, labels = c(\"thinkprogress\", \"BreitbartNews\", \"ReutersPolitics\"))) %>%\n",
    "    group_by(Following) %>%\n",
    "    summarize(\n",
    "        friends = mean(friends_count, na.rm = TRUE),\n",
    "        followers = mean(followers_count, na.rm = TRUE)) %>%\n",
    "    gather(var, count, -Following) %>%\n",
    "    ggplot(aes(x = Following, y = count, fill = Following)) + \n",
    "    geom_col() + \n",
    "    facet_wrap(~ var, ncol = 2, scales = \"free_y\") +\n",
    "    theme_bw(base_size = 10) + \n",
    "    theme(plot.title = element_text(face = \"bold\")) + \n",
    "    scale_fill_manual(values = c(BreitbartNews = \"red2\", thinkprogress = \"blue\", ReutersPolitics = \"purple\")) + \n",
    "    labs(\n",
    "            title = \"User stats for followers of thinkprogress, ReutersPolitics, and BreitbartNews\",\n",
    "            subtitle = \"Mean number of friends and followers by group (n = 1000)\",\n",
    "            x = NULL, y = \"Count\"\n",
    "    )"
   ]
  },
  {
   "cell_type": "code",
   "execution_count": 15,
   "metadata": {},
   "outputs": [
    {
     "ename": "ERROR",
     "evalue": "Error in rsamp_uq(gop = gop_data, dem = dem_data, mod = mod_data, n = 5): object 'gop_data' not found\n",
     "output_type": "error",
     "traceback": [
      "Error in rsamp_uq(gop = gop_data, dem = dem_data, mod = mod_data, n = 5): object 'gop_data' not found\nTraceback:\n",
      "1. rsamp_uq(gop = gop_data, dem = dem_data, mod = mod_data, n = 5)"
     ]
    }
   ],
   "source": [
    "## complete the code below\n",
    "\n",
    "\n",
    "rsamp_uq <- function(..., n) {\n",
    "    \n",
    "    dots <- list(...)\n",
    "    \n",
    "    groups <- names(dots)\n",
    "    \n",
    "    user_ids <- lapply(dots, \"[[\", \"user_id\")\n",
    "    \n",
    "    \n",
    "    for (i in seq_along(dots)) {\n",
    "        \n",
    "        ## filter out users found in other groups and protected users\n",
    "        dots[[i]] <- filter(\n",
    "            dots[[i]], \n",
    "            !user_id %in% unlist(user_ids[-i]) & !protected &verified\n",
    "        )\n",
    "        \n",
    "        dots[[i]]$group <- groups[i]\n",
    "    }\n",
    "    \n",
    "    sample_users <- function(x, n) x[x$user_id %in% sample(x$user_id, n), ]\n",
    "        \n",
    "    out <- lapply(dots, sample_users, n)\n",
    "        \n",
    "    bind_rows(out)\n",
    "}\n",
    "    \n",
    "    \n",
    "    \n",
    "smps <- rsamp_uq(gop = gop_data, dem = dem_data, mod = mod_data, n = 5)"
   ]
  },
  {
   "cell_type": "code",
   "execution_count": 16,
   "metadata": {},
   "outputs": [
    {
     "ename": "ERROR",
     "evalue": "Error in head(smps, 15): object 'smps' not found\n",
     "output_type": "error",
     "traceback": [
      "Error in head(smps, 15): object 'smps' not found\nTraceback:\n",
      "1. head(smps, 15)"
     ]
    }
   ],
   "source": [
    "head(smps, 15)"
   ]
  },
  {
   "cell_type": "code",
   "execution_count": 17,
   "metadata": {},
   "outputs": [
    {
     "ename": "ERROR",
     "evalue": "Error in nrow(smps): object 'smps' not found\n",
     "output_type": "error",
     "traceback": [
      "Error in nrow(smps): object 'smps' not found\nTraceback:\n",
      "1. nrow(smps)"
     ]
    }
   ],
   "source": [
    "nrow(smps)"
   ]
  },
  {
   "cell_type": "code",
   "execution_count": 18,
   "metadata": {},
   "outputs": [
    {
     "ename": "ERROR",
     "evalue": "Error in lapply(smps$user_id, get_followers, verbose = FALSE): object 'smps' not found\n",
     "output_type": "error",
     "traceback": [
      "Error in lapply(smps$user_id, get_followers, verbose = FALSE): object 'smps' not found\nTraceback:\n",
      "1. lapply(smps$user_id, get_followers, verbose = FALSE)"
     ]
    }
   ],
   "source": [
    "followers <- lapply(smps$user_id, get_followers, verbose = FALSE)"
   ]
  },
  {
   "cell_type": "code",
   "execution_count": 19,
   "metadata": {},
   "outputs": [
    {
     "ename": "ERROR",
     "evalue": "Error in structure(x, class = unique(c(\"AsIs\", oldClass(x)))): object 'followers' not found\n",
     "output_type": "error",
     "traceback": [
      "Error in structure(x, class = unique(c(\"AsIs\", oldClass(x)))): object 'followers' not found\nTraceback:\n",
      "1. I(followers)",
      "2. structure(x, class = unique(c(\"AsIs\", oldClass(x))))"
     ]
    }
   ],
   "source": [
    "smps$followers <- I(followers)\n",
    "head(smps, 3)"
   ]
  },
  {
   "cell_type": "code",
   "execution_count": 20,
   "metadata": {
    "collapsed": true
   },
   "outputs": [],
   "source": [
    "get_top_3 <- function (x, n = 3){\n",
    "    tbl <- sort(table(unlist(x)), decreasing = TRUE)\n",
    "    \n",
    "    if (length(tbl) > n) {\n",
    "        tbl <- tbl[seq_len(n)]\n",
    "    }    \n",
    "        \n",
    "    sns <- lookup_users(names(tbl))\n",
    "    sns$screen_name\n",
    "}"
   ]
  },
  {
   "cell_type": "code",
   "execution_count": 21,
   "metadata": {},
   "outputs": [
    {
     "ename": "ERROR",
     "evalue": "Error in eval(lhs, parent, parent): object 'smps' not found\n",
     "output_type": "error",
     "traceback": [
      "Error in eval(lhs, parent, parent): object 'smps' not found\nTraceback:\n",
      "1. smps %>% filter(length(smps$followers) >= 3) %>% group_by(group) %>% \n .     summarise(freq = list(get_top_3(screen_name)))",
      "2. eval(lhs, parent, parent)",
      "3. eval(lhs, parent, parent)"
     ]
    }
   ],
   "source": [
    "smps %>% \n",
    "    filter(length(smps$followers) >= 3) %>% \n",
    "    group_by(group) %>%\n",
    "    summarise(\n",
    "        freq = list(get_top_3(screen_name))\n",
    "    )"
   ]
  },
  {
   "cell_type": "code",
   "execution_count": null,
   "metadata": {
    "collapsed": true
   },
   "outputs": [],
   "source": []
  }
 ],
 "metadata": {
  "kernelspec": {
   "display_name": "R",
   "language": "R",
   "name": "ir"
  },
  "language_info": {
   "codemirror_mode": "r",
   "file_extension": ".r",
   "mimetype": "text/x-r-source",
   "name": "R",
   "pygments_lexer": "r",
   "version": "3.4.1"
  }
 },
 "nbformat": 4,
 "nbformat_minor": 2
}
