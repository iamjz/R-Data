{
 "cells": [
  {
   "cell_type": "code",
   "execution_count": 5,
   "metadata": {},
   "outputs": [],
   "source": [
    "library(httr)"
   ]
  },
  {
   "cell_type": "code",
   "execution_count": 6,
   "metadata": {},
   "outputs": [
    {
     "data": {
      "text/plain": [
       "Response [http://httpbin.org/get]\n",
       "  Date: 2018-01-28 20:57\n",
       "  Status: 200\n",
       "  Content-Type: application/json\n",
       "  Size: 326 B\n",
       "{\n",
       "  \"args\": {}, \n",
       "  \"headers\": {\n",
       "    \"Accept\": \"application/json, text/xml, application/xml, */*\", \n",
       "    \"Accept-Encoding\": \"gzip, deflate\", \n",
       "    \"Connection\": \"close\", \n",
       "    \"Host\": \"httpbin.org\", \n",
       "    \"User-Agent\": \"libcurl/7.53.1 r-curl/2.6 httr/1.3.1\"\n",
       "  }, \n",
       "  \"origin\": \"216.80.121.118\", \n",
       "..."
      ]
     },
     "metadata": {},
     "output_type": "display_data"
    }
   ],
   "source": [
    "## GET request\n",
    "r <- httr::GET(\"http://httpbin.org/get\")\n",
    "r"
   ]
  },
  {
   "cell_type": "code",
   "execution_count": 7,
   "metadata": {},
   "outputs": [
    {
     "data": {
      "text/plain": [
       "Response [http://httpbin.org/get?key1=value1&key2=value2]\n",
       "  Date: 2018-01-28 20:57\n",
       "  Status: 200\n",
       "  Content-Type: application/json\n",
       "  Size: 397 B\n",
       "{\n",
       "  \"args\": {\n",
       "    \"key1\": \"value1\", \n",
       "    \"key2\": \"value2\"\n",
       "  }, \n",
       "  \"headers\": {\n",
       "    \"Accept\": \"application/json, text/xml, application/xml, */*\", \n",
       "    \"Accept-Encoding\": \"gzip, deflate\", \n",
       "    \"Connection\": \"close\", \n",
       "    \"Host\": \"httpbin.org\", \n",
       "..."
      ]
     },
     "metadata": {},
     "output_type": "display_data"
    }
   ],
   "source": [
    "## send a GET request with parameters in body\n",
    "r <- httr::GET(\n",
    "    \"http://httpbin.org/get\", \n",
    "    query = list(key1 = \"value1\", key2 = \"value2\")\n",
    ")\n",
    "\n",
    "r"
   ]
  },
  {
   "cell_type": "code",
   "execution_count": 8,
   "metadata": {},
   "outputs": [
    {
     "data": {
      "text/plain": [
       "Response [http://httpbin.org/post]\n",
       "  Date: 2018-01-28 20:57\n",
       "  Status: 200\n",
       "  Content-Type: application/json\n",
       "  Size: 592 B\n",
       "{\n",
       "  \"args\": {}, \n",
       "  \"data\": \"\", \n",
       "  \"files\": {}, \n",
       "  \"form\": {\n",
       "    \"a\": \"1\", \n",
       "    \"b\": \"2\", \n",
       "    \"c\": \"3\"\n",
       "  }, \n",
       "  \"headers\": {\n",
       "..."
      ]
     },
     "metadata": {},
     "output_type": "display_data"
    }
   ],
   "source": [
    "r <- httr::POST(\"http://httpbin.org/post\", body = list(a = 1, b = 2, c = 3))\n",
    "r"
   ]
  },
  {
   "cell_type": "code",
   "execution_count": 9,
   "metadata": {},
   "outputs": [
    {
     "data": {
      "text/plain": [
       "Response [http://httpbin.org/post]\n",
       "  Date: 2018-01-28 20:58\n",
       "  Status: 200\n",
       "  Content-Type: application/json\n",
       "  Size: 523 B\n",
       "{\n",
       "  \"args\": {}, \n",
       "  \"data\": \"\", \n",
       "  \"files\": {}, \n",
       "  \"form\": {\n",
       "    \"a\": \"1\", \n",
       "    \"b\": \"2\", \n",
       "    \"c\": \"3\"\n",
       "  }, \n",
       "  \"headers\": {\n",
       "..."
      ]
     },
     "metadata": {},
     "output_type": "display_data"
    }
   ],
   "source": [
    "url <- \"http://httpbin.org/post\"\n",
    "body <- list(a = 1, b = 2, c = 3)\n",
    "\n",
    "# Form encoded\n",
    "r <- httr::POST(url, body = body, encode = \"form\")\n",
    "r"
   ]
  },
  {
   "cell_type": "code",
   "execution_count": 10,
   "metadata": {},
   "outputs": [
    {
     "data": {
      "text/plain": [
       "Response [http://httpbin.org/post]\n",
       "  Date: 2018-01-28 20:58\n",
       "  Status: 200\n",
       "  Content-Type: application/json\n",
       "  Size: 592 B\n",
       "{\n",
       "  \"args\": {}, \n",
       "  \"data\": \"\", \n",
       "  \"files\": {}, \n",
       "  \"form\": {\n",
       "    \"a\": \"1\", \n",
       "    \"b\": \"2\", \n",
       "    \"c\": \"3\"\n",
       "  }, \n",
       "  \"headers\": {\n",
       "..."
      ]
     },
     "metadata": {},
     "output_type": "display_data"
    }
   ],
   "source": [
    "# Multipart encoded\n",
    "r <- httr::POST(url, body = body, encode = \"multipart\")\n",
    "r"
   ]
  },
  {
   "cell_type": "code",
   "execution_count": 11,
   "metadata": {},
   "outputs": [
    {
     "data": {
      "text/plain": [
       "Response [http://httpbin.org/post]\n",
       "  Date: 2018-01-28 20:58\n",
       "  Status: 200\n",
       "  Content-Type: application/json\n",
       "  Size: 523 B\n",
       "{\n",
       "  \"args\": {}, \n",
       "  \"data\": \"{\\\"a\\\":1,\\\"b\\\":2,\\\"c\\\":3}\", \n",
       "  \"files\": {}, \n",
       "  \"form\": {}, \n",
       "  \"headers\": {\n",
       "    \"Accept\": \"application/json, text/xml, application/xml, */*\", \n",
       "    \"Accept-Encoding\": \"gzip, deflate\", \n",
       "    \"Connection\": \"close\", \n",
       "    \"Content-Length\": \"19\", \n",
       "..."
      ]
     },
     "metadata": {},
     "output_type": "display_data"
    }
   ],
   "source": [
    "# JSON encoded\n",
    "r <- httr::POST(url, body = body, encode = \"json\")\n",
    "r"
   ]
  },
  {
   "cell_type": "code",
   "execution_count": 12,
   "metadata": {
    "collapsed": true
   },
   "outputs": [],
   "source": [
    "## perform simple GET and POST request \n",
    "gr <- httr::GET(\"http://httpbin.org/get\")\n",
    "pr <- httr::GET(\"http://httpbin.org/post\", body = list(a = 1, b = 2, c = 3))"
   ]
  },
  {
   "cell_type": "code",
   "execution_count": 13,
   "metadata": {},
   "outputs": [
    {
     "data": {
      "text/html": [
       "<dl>\n",
       "\t<dt>$category</dt>\n",
       "\t\t<dd>'Success'</dd>\n",
       "\t<dt>$reason</dt>\n",
       "\t\t<dd>'OK'</dd>\n",
       "\t<dt>$message</dt>\n",
       "\t\t<dd>'Success: (200) OK'</dd>\n",
       "</dl>\n"
      ],
      "text/latex": [
       "\\begin{description}\n",
       "\\item[\\$category] 'Success'\n",
       "\\item[\\$reason] 'OK'\n",
       "\\item[\\$message] 'Success: (200) OK'\n",
       "\\end{description}\n"
      ],
      "text/markdown": [
       "$category\n",
       ":   'Success'\n",
       "$reason\n",
       ":   'OK'\n",
       "$message\n",
       ":   'Success: (200) OK'\n",
       "\n",
       "\n"
      ],
      "text/plain": [
       "$category\n",
       "[1] \"Success\"\n",
       "\n",
       "$reason\n",
       "[1] \"OK\"\n",
       "\n",
       "$message\n",
       "[1] \"Success: (200) OK\"\n"
      ]
     },
     "metadata": {},
     "output_type": "display_data"
    }
   ],
   "source": [
    "## GET status\n",
    "httr::http_status(gr)"
   ]
  },
  {
   "cell_type": "code",
   "execution_count": 14,
   "metadata": {},
   "outputs": [
    {
     "data": {
      "text/html": [
       "200"
      ],
      "text/latex": [
       "200"
      ],
      "text/markdown": [
       "200"
      ],
      "text/plain": [
       "[1] 200"
      ]
     },
     "metadata": {},
     "output_type": "display_data"
    }
   ],
   "source": [
    "gr$status_code"
   ]
  },
  {
   "cell_type": "code",
   "execution_count": 15,
   "metadata": {},
   "outputs": [
    {
     "data": {
      "text/html": [
       "<dl>\n",
       "\t<dt>$category</dt>\n",
       "\t\t<dd>'Client error'</dd>\n",
       "\t<dt>$reason</dt>\n",
       "\t\t<dd>'Method Not Allowed'</dd>\n",
       "\t<dt>$message</dt>\n",
       "\t\t<dd>'Client error: (405) Method Not Allowed'</dd>\n",
       "</dl>\n"
      ],
      "text/latex": [
       "\\begin{description}\n",
       "\\item[\\$category] 'Client error'\n",
       "\\item[\\$reason] 'Method Not Allowed'\n",
       "\\item[\\$message] 'Client error: (405) Method Not Allowed'\n",
       "\\end{description}\n"
      ],
      "text/markdown": [
       "$category\n",
       ":   'Client error'\n",
       "$reason\n",
       ":   'Method Not Allowed'\n",
       "$message\n",
       ":   'Client error: (405) Method Not Allowed'\n",
       "\n",
       "\n"
      ],
      "text/plain": [
       "$category\n",
       "[1] \"Client error\"\n",
       "\n",
       "$reason\n",
       "[1] \"Method Not Allowed\"\n",
       "\n",
       "$message\n",
       "[1] \"Client error: (405) Method Not Allowed\"\n"
      ]
     },
     "metadata": {},
     "output_type": "display_data"
    }
   ],
   "source": [
    "## POST status\n",
    "httr::http_status(pr)"
   ]
  },
  {
   "cell_type": "code",
   "execution_count": 16,
   "metadata": {},
   "outputs": [
    {
     "data": {
      "text/html": [
       "405"
      ],
      "text/latex": [
       "405"
      ],
      "text/markdown": [
       "405"
      ],
      "text/plain": [
       "[1] 405"
      ]
     },
     "metadata": {},
     "output_type": "display_data"
    }
   ],
   "source": [
    "pr$status_code"
   ]
  },
  {
   "cell_type": "code",
   "execution_count": 17,
   "metadata": {
    "collapsed": true
   },
   "outputs": [],
   "source": [
    "## Get an informative description:\n",
    "r <- httr::GET(\"http://httpbin.org/get\")\n",
    "httr::warn_for_status(r)\n",
    "httr::stop_for_status(r)"
   ]
  },
  {
   "cell_type": "code",
   "execution_count": 18,
   "metadata": {},
   "outputs": [
    {
     "data": {
      "text/html": [
       "'application/json'"
      ],
      "text/latex": [
       "'application/json'"
      ],
      "text/markdown": [
       "'application/json'"
      ],
      "text/plain": [
       "[1] \"application/json\""
      ]
     },
     "metadata": {},
     "output_type": "display_data"
    }
   ],
   "source": [
    "## check content type\n",
    "r$headers$`content-type`"
   ]
  },
  {
   "cell_type": "code",
   "execution_count": 19,
   "metadata": {},
   "outputs": [
    {
     "data": {
      "text/html": [
       "<dl>\n",
       "\t<dt>$args</dt>\n",
       "\t\t<dd><dl>\n",
       "</dl>\n",
       "</dd>\n",
       "\t<dt>$headers</dt>\n",
       "\t\t<dd><dl>\n",
       "\t<dt>$Accept</dt>\n",
       "\t\t<dd>'application/json, text/xml, application/xml, */*'</dd>\n",
       "\t<dt>$`Accept-Encoding`</dt>\n",
       "\t\t<dd>'gzip, deflate'</dd>\n",
       "\t<dt>$Connection</dt>\n",
       "\t\t<dd>'close'</dd>\n",
       "\t<dt>$Host</dt>\n",
       "\t\t<dd>'httpbin.org'</dd>\n",
       "\t<dt>$`User-Agent`</dt>\n",
       "\t\t<dd>'libcurl/7.53.1 r-curl/2.6 httr/1.3.1'</dd>\n",
       "</dl>\n",
       "</dd>\n",
       "\t<dt>$origin</dt>\n",
       "\t\t<dd>'216.80.121.118'</dd>\n",
       "\t<dt>$url</dt>\n",
       "\t\t<dd>'http://httpbin.org/get'</dd>\n",
       "</dl>\n"
      ],
      "text/latex": [
       "\\begin{description}\n",
       "\\item[\\$args] \\begin{description}\n",
       "\\end{description}\n",
       "\n",
       "\\item[\\$headers] \\begin{description}\n",
       "\\item[\\$Accept] 'application/json, text/xml, application/xml, */*'\n",
       "\\item[\\$`Accept-Encoding`] 'gzip, deflate'\n",
       "\\item[\\$Connection] 'close'\n",
       "\\item[\\$Host] 'httpbin.org'\n",
       "\\item[\\$`User-Agent`] 'libcurl/7.53.1 r-curl/2.6 httr/1.3.1'\n",
       "\\end{description}\n",
       "\n",
       "\\item[\\$origin] '216.80.121.118'\n",
       "\\item[\\$url] 'http://httpbin.org/get'\n",
       "\\end{description}\n"
      ],
      "text/markdown": [
       "$args\n",
       ":   \n",
       "\n",
       "\n",
       "$headers\n",
       ":   $Accept\n",
       ":   'application/json, text/xml, application/xml, */*'\n",
       "$`Accept-Encoding`\n",
       ":   'gzip, deflate'\n",
       "$Connection\n",
       ":   'close'\n",
       "$Host\n",
       ":   'httpbin.org'\n",
       "$`User-Agent`\n",
       ":   'libcurl/7.53.1 r-curl/2.6 httr/1.3.1'\n",
       "\n",
       "\n",
       "\n",
       "$origin\n",
       ":   '216.80.121.118'\n",
       "$url\n",
       ":   'http://httpbin.org/get'\n",
       "\n",
       "\n"
      ],
      "text/plain": [
       "$args\n",
       "named list()\n",
       "\n",
       "$headers\n",
       "$headers$Accept\n",
       "[1] \"application/json, text/xml, application/xml, */*\"\n",
       "\n",
       "$headers$`Accept-Encoding`\n",
       "[1] \"gzip, deflate\"\n",
       "\n",
       "$headers$Connection\n",
       "[1] \"close\"\n",
       "\n",
       "$headers$Host\n",
       "[1] \"httpbin.org\"\n",
       "\n",
       "$headers$`User-Agent`\n",
       "[1] \"libcurl/7.53.1 r-curl/2.6 httr/1.3.1\"\n",
       "\n",
       "\n",
       "$origin\n",
       "[1] \"216.80.121.118\"\n",
       "\n",
       "$url\n",
       "[1] \"http://httpbin.org/get\"\n"
      ]
     },
     "metadata": {},
     "output_type": "display_data"
    }
   ],
   "source": [
    "httr::content(r)"
   ]
  },
  {
   "cell_type": "code",
   "execution_count": 20,
   "metadata": {},
   "outputs": [
    {
     "data": {
      "text/html": [
       "<dl>\n",
       "\t<dt>$args</dt>\n",
       "\t\t<dd><dl>\n",
       "</dl>\n",
       "</dd>\n",
       "\t<dt>$headers</dt>\n",
       "\t\t<dd><dl>\n",
       "\t<dt>$Accept</dt>\n",
       "\t\t<dd>'application/json, text/xml, application/xml, */*'</dd>\n",
       "\t<dt>$`Accept-Encoding`</dt>\n",
       "\t\t<dd>'gzip, deflate'</dd>\n",
       "\t<dt>$Connection</dt>\n",
       "\t\t<dd>'close'</dd>\n",
       "\t<dt>$Host</dt>\n",
       "\t\t<dd>'httpbin.org'</dd>\n",
       "\t<dt>$`User-Agent`</dt>\n",
       "\t\t<dd>'libcurl/7.53.1 r-curl/2.6 httr/1.3.1'</dd>\n",
       "</dl>\n",
       "</dd>\n",
       "\t<dt>$origin</dt>\n",
       "\t\t<dd>'216.80.121.118'</dd>\n",
       "\t<dt>$url</dt>\n",
       "\t\t<dd>'http://httpbin.org/get'</dd>\n",
       "</dl>\n"
      ],
      "text/latex": [
       "\\begin{description}\n",
       "\\item[\\$args] \\begin{description}\n",
       "\\end{description}\n",
       "\n",
       "\\item[\\$headers] \\begin{description}\n",
       "\\item[\\$Accept] 'application/json, text/xml, application/xml, */*'\n",
       "\\item[\\$`Accept-Encoding`] 'gzip, deflate'\n",
       "\\item[\\$Connection] 'close'\n",
       "\\item[\\$Host] 'httpbin.org'\n",
       "\\item[\\$`User-Agent`] 'libcurl/7.53.1 r-curl/2.6 httr/1.3.1'\n",
       "\\end{description}\n",
       "\n",
       "\\item[\\$origin] '216.80.121.118'\n",
       "\\item[\\$url] 'http://httpbin.org/get'\n",
       "\\end{description}\n"
      ],
      "text/markdown": [
       "$args\n",
       ":   \n",
       "\n",
       "\n",
       "$headers\n",
       ":   $Accept\n",
       ":   'application/json, text/xml, application/xml, */*'\n",
       "$`Accept-Encoding`\n",
       ":   'gzip, deflate'\n",
       "$Connection\n",
       ":   'close'\n",
       "$Host\n",
       ":   'httpbin.org'\n",
       "$`User-Agent`\n",
       ":   'libcurl/7.53.1 r-curl/2.6 httr/1.3.1'\n",
       "\n",
       "\n",
       "\n",
       "$origin\n",
       ":   '216.80.121.118'\n",
       "$url\n",
       ":   'http://httpbin.org/get'\n",
       "\n",
       "\n"
      ],
      "text/plain": [
       "$args\n",
       "named list()\n",
       "\n",
       "$headers\n",
       "$headers$Accept\n",
       "[1] \"application/json, text/xml, application/xml, */*\"\n",
       "\n",
       "$headers$`Accept-Encoding`\n",
       "[1] \"gzip, deflate\"\n",
       "\n",
       "$headers$Connection\n",
       "[1] \"close\"\n",
       "\n",
       "$headers$Host\n",
       "[1] \"httpbin.org\"\n",
       "\n",
       "$headers$`User-Agent`\n",
       "[1] \"libcurl/7.53.1 r-curl/2.6 httr/1.3.1\"\n",
       "\n",
       "\n",
       "$origin\n",
       "[1] \"216.80.121.118\"\n",
       "\n",
       "$url\n",
       "[1] \"http://httpbin.org/get\"\n"
      ]
     },
     "metadata": {},
     "output_type": "display_data"
    }
   ],
   "source": [
    "## specify encoding optional (defaults to UTF-8)\n",
    "txt <- httr::content(r, as = \"text\", encoding = \"UTF-8\")\n",
    "\n",
    "## convert json text to R list object\n",
    "jsonlite::fromJSON(txt)"
   ]
  },
  {
   "cell_type": "code",
   "execution_count": 21,
   "metadata": {},
   "outputs": [
    {
     "data": {
      "text/plain": [
       "{xml_document}\n",
       "<html>\n",
       "[1] <body><slideshow title=\"Sample Slide Show\" date=\"Date of publication\" aut ..."
      ]
     },
     "metadata": {},
     "output_type": "display_data"
    }
   ],
   "source": [
    "## GET xml content\n",
    "r <- httr::GET(\"http://httpbin.org/xml\")\n",
    "\n",
    "## convert to xml_document\n",
    "xml2::read_html(r)"
   ]
  }
 ],
 "metadata": {
  "kernelspec": {
   "display_name": "R",
   "language": "R",
   "name": "ir"
  },
  "language_info": {
   "codemirror_mode": "r",
   "file_extension": ".r",
   "mimetype": "text/x-r-source",
   "name": "R",
   "pygments_lexer": "r",
   "version": "3.4.1"
  }
 },
 "nbformat": 4,
 "nbformat_minor": 2
}
