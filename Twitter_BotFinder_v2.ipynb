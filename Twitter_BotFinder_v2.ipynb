{
 "cells": [
  {
   "cell_type": "code",
   "execution_count": 1,
   "metadata": {},
   "outputs": [
    {
     "name": "stderr",
     "output_type": "stream",
     "text": [
      "Warning message:\n",
      "\"package 'tidyverse' was built under R version 3.4.3\"-- Attaching packages --------------------------------------- tidyverse 1.2.1 --\n",
      "v ggplot2 2.2.1     v purrr   0.2.4\n",
      "v tibble  1.4.1     v dplyr   0.7.4\n",
      "v tidyr   0.7.2     v stringr 1.2.0\n",
      "v readr   1.1.1     v forcats 0.2.0\n",
      "Warning message:\n",
      "\"package 'tibble' was built under R version 3.4.3\"Warning message:\n",
      "\"package 'tidyr' was built under R version 3.4.3\"Warning message:\n",
      "\"package 'purrr' was built under R version 3.4.3\"Warning message:\n",
      "\"package 'dplyr' was built under R version 3.4.2\"-- Conflicts ------------------------------------------ tidyverse_conflicts() --\n",
      "x dplyr::filter() masks stats::filter()\n",
      "x dplyr::lag()    masks stats::lag()\n",
      "Warning message:\n",
      "\"package 'gbm' was built under R version 3.4.3\"Loading required package: survival\n",
      "Loading required package: lattice\n",
      "Loading required package: splines\n",
      "Loading required package: parallel\n",
      "Loaded gbm 2.1.3\n"
     ]
    }
   ],
   "source": [
    "library(tidyverse)\n",
    "library(gbm) # Generalized Boosted Regression Models"
   ]
  },
  {
   "cell_type": "markdown",
   "metadata": {},
   "source": [
    "## Data\n",
    "\n",
    "For the data, I collected data on about 6,697 Twitter accounts. I believe 4,243 of those accounts are genuine (non-automated) accounts and 2,454 are bots. I then randomly split the data set into a **training** set and a **test** set. In the training data, I made sure there were equal numbers of bots versus non-bots. Since we are not using the test data to build our actual model, it is not important to have equal group sizes in the test data set."
   ]
  },
  {
   "cell_type": "code",
   "execution_count": 2,
   "metadata": {
    "collapsed": true
   },
   "outputs": [],
   "source": [
    "## read in the data (train and test)\n",
    "train <- readRDS(\"datasets/twitter/bot/train.rds\")\n",
    "test <- readRDS(\"datasets/twitter/bot/test.rds\")"
   ]
  },
  {
   "cell_type": "code",
   "execution_count": 3,
   "metadata": {},
   "outputs": [
    {
     "data": {
      "text/html": [
       "<table>\n",
       "<tbody>\n",
       "\t<tr><th scope=row>user_id</th><td>251344965                                                                                                                                              </td><td>17621767                                                                                                                                               </td></tr>\n",
       "\t<tr><th scope=row>name</th><td><span style=white-space:pre-wrap>Videodisc &lt;U+25B3&gt;                                                                                                                                  </span></td><td><span style=white-space:pre-wrap>Policy Innovations                                                                                                                                     </span>   </td></tr>\n",
       "\t<tr><th scope=row>screen_name</th><td>RolexSound                                                                                                                                             </td><td>carnegiePI                                                                                                                                             </td></tr>\n",
       "\t<tr><th scope=row>location</th><td>Barcelona                                                                                                                                              </td><td>New York, NY                                                                                                                                           </td></tr>\n",
       "\t<tr><th scope=row>description</th><td>I'm not a bot . Music . Drawing . Videogames . Sweet Gig.holo.gram booking dani@divined.com https://t.co/jlLMxj37uD &lt;U+30DA&gt;&lt;U+30AC&gt;&lt;U+30B5&gt;&lt;U+30B9&gt;</td><td>Policy Innovations is the @carnegiecouncil magazine for #socialinnovation and global ethics. We talk about doers not bystanders. Follow us on Facebook!                     </td></tr>\n",
       "\t<tr><th scope=row>url</th><td>https://t.co/QnrvTrhJqP                                                                                                                                </td><td>http://t.co/k2DZ1mSSgt                                                                                                                                 </td></tr>\n",
       "\t<tr><th scope=row>protected</th><td>FALSE                                                                                                                                                  </td><td>FALSE                                                                                                                                                  </td></tr>\n",
       "\t<tr><th scope=row>followers_count</th><td> 656                                                                                                                                                   </td><td>7351                                                                                                                                                   </td></tr>\n",
       "\t<tr><th scope=row>friends_count</th><td>2154                                                                                                                                                   </td><td>2177                                                                                                                                                   </td></tr>\n",
       "\t<tr><th scope=row>listed_count</th><td> 17                                                                                                                                                    </td><td>520                                                                                                                                                    </td></tr>\n",
       "\t<tr><th scope=row>statuses_count</th><td> 2058                                                                                                                                                  </td><td>12428                                                                                                                                                  </td></tr>\n",
       "\t<tr><th scope=row>favourites_count</th><td>2832                                                                                                                                                   </td><td> 610                                                                                                                                                   </td></tr>\n",
       "\t<tr><th scope=row>account_created_at</th><td>2011-02-12 23:27:11                                                                                                                                    </td><td>2008-11-25 15:34:39                                                                                                                                    </td></tr>\n",
       "\t<tr><th scope=row>verified</th><td>FALSE                                                                                                                                                  </td><td>FALSE                                                                                                                                                  </td></tr>\n",
       "\t<tr><th scope=row>profile_url</th><td>https://t.co/QnrvTrhJqP                                                                                                                                </td><td>http://t.co/k2DZ1mSSgt                                                                                                                                 </td></tr>\n",
       "\t<tr><th scope=row>profile_expanded_url</th><td>http://soundcloud.com/dani-2-1                                                                                                                         </td><td>http://www.policyinnovations.org/                                                                                                                      </td></tr>\n",
       "\t<tr><th scope=row>account_lang</th><td>es                                                                                                                                                     </td><td>en                                                                                                                                                     </td></tr>\n",
       "\t<tr><th scope=row>profile_banner_url</th><td>https://pbs.twimg.com/profile_banners/251344965/1348617963                                                                                             </td><td>https://pbs.twimg.com/profile_banners/17621767/1401994458                                                                                              </td></tr>\n",
       "\t<tr><th scope=row>profile_background_url</th><td>http://pbs.twimg.com/profile_background_images/368592356/n706264595_302460_3073.jpg                                                                    </td><td>http://pbs.twimg.com/profile_background_images/3789941/twitter_bg.jpg                                                                                  </td></tr>\n",
       "\t<tr><th scope=row>profile_image_url</th><td>http://pbs.twimg.com/profile_images/378800000549950978/e3f968184de02ab072d0dedce7407fd5_normal.jpeg                                                    </td><td>http://pbs.twimg.com/profile_images/71115716/bulb_medium_normal.jpg                                                                                    </td></tr>\n",
       "\t<tr><th scope=row>bot</th><td>1                                                                                                                                                      </td><td>1                                                                                                                                                      </td></tr>\n",
       "</tbody>\n",
       "</table>\n"
      ],
      "text/latex": [
       "\\begin{tabular}{r|ll}\n",
       "\tuser\\_id & 251344965                                                                                                                                               & 17621767                                                                                                                                               \\\\\n",
       "\tname & Videodisc <U+25B3>                                                                                                                                      & Policy Innovations                                                                                                                                     \\\\\n",
       "\tscreen\\_name & RolexSound                                                                                                                                              & carnegiePI                                                                                                                                             \\\\\n",
       "\tlocation & Barcelona                                                                                                                                               & New York, NY                                                                                                                                           \\\\\n",
       "\tdescription & I'm not a bot . Music . Drawing . Videogames . Sweet Gig.holo.gram booking dani@divined.com https://t.co/jlLMxj37uD <U+30DA><U+30AC><U+30B5><U+30B9>      & Policy Innovations is the @carnegiecouncil magazine for \\#socialinnovation and global ethics. We talk about doers not bystanders. Follow us on Facebook!\\\\\n",
       "\turl & https://t.co/QnrvTrhJqP                                                                                                                                 & http://t.co/k2DZ1mSSgt                                                                                                                                 \\\\\n",
       "\tprotected & FALSE                                                                                                                                                   & FALSE                                                                                                                                                  \\\\\n",
       "\tfollowers\\_count &  656                                                                                                                                                    & 7351                                                                                                                                                   \\\\\n",
       "\tfriends\\_count & 2154                                                                                                                                                    & 2177                                                                                                                                                   \\\\\n",
       "\tlisted\\_count &  17                                                                                                                                                     & 520                                                                                                                                                    \\\\\n",
       "\tstatuses\\_count &  2058                                                                                                                                                   & 12428                                                                                                                                                  \\\\\n",
       "\tfavourites\\_count & 2832                                                                                                                                                    &  610                                                                                                                                                   \\\\\n",
       "\taccount\\_created\\_at & 2011-02-12 23:27:11                                                                                                                                     & 2008-11-25 15:34:39                                                                                                                                    \\\\\n",
       "\tverified & FALSE                                                                                                                                                   & FALSE                                                                                                                                                  \\\\\n",
       "\tprofile\\_url & https://t.co/QnrvTrhJqP                                                                                                                                 & http://t.co/k2DZ1mSSgt                                                                                                                                 \\\\\n",
       "\tprofile\\_expanded\\_url & http://soundcloud.com/dani-2-1                                                                                                                          & http://www.policyinnovations.org/                                                                                                                      \\\\\n",
       "\taccount\\_lang & es                                                                                                                                                      & en                                                                                                                                                     \\\\\n",
       "\tprofile\\_banner\\_url & https://pbs.twimg.com/profile\\_banners/251344965/1348617963                                                                                              & https://pbs.twimg.com/profile\\_banners/17621767/1401994458                                                                                              \\\\\n",
       "\tprofile\\_background\\_url & http://pbs.twimg.com/profile\\_background\\_images/368592356/n706264595\\_302460\\_3073.jpg                                                                   & http://pbs.twimg.com/profile\\_background\\_images/3789941/twitter\\_bg.jpg                                                                                  \\\\\n",
       "\tprofile\\_image\\_url & http://pbs.twimg.com/profile\\_images/378800000549950978/e3f968184de02ab072d0dedce7407fd5\\_normal.jpeg                                                       & http://pbs.twimg.com/profile\\_images/71115716/bulb\\_medium\\_normal.jpg                                                                                    \\\\\n",
       "\tbot & 1                                                                                                                                                       & 1                                                                                                                                                      \\\\\n",
       "\\end{tabular}\n"
      ],
      "text/markdown": [
       "\n",
       "| user_id | 251344965                                                                                                                                               | 17621767                                                                                                                                                | \n",
       "| name | Videodisc <U+25B3>                                                                                                                                      | Policy Innovations                                                                                                                                      | \n",
       "| screen_name | RolexSound                                                                                                                                              | carnegiePI                                                                                                                                              | \n",
       "| location | Barcelona                                                                                                                                               | New York, NY                                                                                                                                            | \n",
       "| description | I'm not a bot . Music . Drawing . Videogames . Sweet Gig.holo.gram booking dani@divined.com https://t.co/jlLMxj37uD <U+30DA><U+30AC><U+30B5><U+30B9>    | Policy Innovations is the @carnegiecouncil magazine for #socialinnovation and global ethics. We talk about doers not bystanders. Follow us on Facebook! | \n",
       "| url | https://t.co/QnrvTrhJqP                                                                                                                                 | http://t.co/k2DZ1mSSgt                                                                                                                                  | \n",
       "| protected | FALSE                                                                                                                                                   | FALSE                                                                                                                                                   | \n",
       "| followers_count |  656                                                                                                                                                    | 7351                                                                                                                                                    | \n",
       "| friends_count | 2154                                                                                                                                                    | 2177                                                                                                                                                    | \n",
       "| listed_count |  17                                                                                                                                                     | 520                                                                                                                                                     | \n",
       "| statuses_count |  2058                                                                                                                                                   | 12428                                                                                                                                                   | \n",
       "| favourites_count | 2832                                                                                                                                                    |  610                                                                                                                                                    | \n",
       "| account_created_at | 2011-02-12 23:27:11                                                                                                                                     | 2008-11-25 15:34:39                                                                                                                                     | \n",
       "| verified | FALSE                                                                                                                                                   | FALSE                                                                                                                                                   | \n",
       "| profile_url | https://t.co/QnrvTrhJqP                                                                                                                                 | http://t.co/k2DZ1mSSgt                                                                                                                                  | \n",
       "| profile_expanded_url | http://soundcloud.com/dani-2-1                                                                                                                          | http://www.policyinnovations.org/                                                                                                                       | \n",
       "| account_lang | es                                                                                                                                                      | en                                                                                                                                                      | \n",
       "| profile_banner_url | https://pbs.twimg.com/profile_banners/251344965/1348617963                                                                                              | https://pbs.twimg.com/profile_banners/17621767/1401994458                                                                                               | \n",
       "| profile_background_url | http://pbs.twimg.com/profile_background_images/368592356/n706264595_302460_3073.jpg                                                                     | http://pbs.twimg.com/profile_background_images/3789941/twitter_bg.jpg                                                                                   | \n",
       "| profile_image_url | http://pbs.twimg.com/profile_images/378800000549950978/e3f968184de02ab072d0dedce7407fd5_normal.jpeg                                                     | http://pbs.twimg.com/profile_images/71115716/bulb_medium_normal.jpg                                                                                     | \n",
       "| bot | 1                                                                                                                                                       | 1                                                                                                                                                       | \n",
       "\n",
       "\n"
      ],
      "text/plain": [
       "                       [,1]                                                                                                                                                \n",
       "user_id                251344965                                                                                                                                           \n",
       "name                   Videodisc <U+25B3>                                                                                                                                  \n",
       "screen_name            RolexSound                                                                                                                                          \n",
       "location               Barcelona                                                                                                                                           \n",
       "description            I'm not a bot . Music . Drawing . Videogames . Sweet Gig.holo.gram booking dani@divined.com https://t.co/jlLMxj37uD <U+30DA><U+30AC><U+30B5><U+30B9>\n",
       "url                    https://t.co/QnrvTrhJqP                                                                                                                             \n",
       "protected              FALSE                                                                                                                                               \n",
       "followers_count         656                                                                                                                                                \n",
       "friends_count          2154                                                                                                                                                \n",
       "listed_count            17                                                                                                                                                 \n",
       "statuses_count          2058                                                                                                                                               \n",
       "favourites_count       2832                                                                                                                                                \n",
       "account_created_at     2011-02-12 23:27:11                                                                                                                                 \n",
       "verified               FALSE                                                                                                                                               \n",
       "profile_url            https://t.co/QnrvTrhJqP                                                                                                                             \n",
       "profile_expanded_url   http://soundcloud.com/dani-2-1                                                                                                                      \n",
       "account_lang           es                                                                                                                                                  \n",
       "profile_banner_url     https://pbs.twimg.com/profile_banners/251344965/1348617963                                                                                          \n",
       "profile_background_url http://pbs.twimg.com/profile_background_images/368592356/n706264595_302460_3073.jpg                                                                 \n",
       "profile_image_url      http://pbs.twimg.com/profile_images/378800000549950978/e3f968184de02ab072d0dedce7407fd5_normal.jpeg                                                 \n",
       "bot                    1                                                                                                                                                   \n",
       "                       [,2]                                                                                                                                                   \n",
       "user_id                17621767                                                                                                                                               \n",
       "name                   Policy Innovations                                                                                                                                     \n",
       "screen_name            carnegiePI                                                                                                                                             \n",
       "location               New York, NY                                                                                                                                           \n",
       "description            Policy Innovations is the @carnegiecouncil magazine for #socialinnovation and global ethics. We talk about doers not bystanders. Follow us on Facebook!\n",
       "url                    http://t.co/k2DZ1mSSgt                                                                                                                                 \n",
       "protected              FALSE                                                                                                                                                  \n",
       "followers_count        7351                                                                                                                                                   \n",
       "friends_count          2177                                                                                                                                                   \n",
       "listed_count           520                                                                                                                                                    \n",
       "statuses_count         12428                                                                                                                                                  \n",
       "favourites_count        610                                                                                                                                                   \n",
       "account_created_at     2008-11-25 15:34:39                                                                                                                                    \n",
       "verified               FALSE                                                                                                                                                  \n",
       "profile_url            http://t.co/k2DZ1mSSgt                                                                                                                                 \n",
       "profile_expanded_url   http://www.policyinnovations.org/                                                                                                                      \n",
       "account_lang           en                                                                                                                                                     \n",
       "profile_banner_url     https://pbs.twimg.com/profile_banners/17621767/1401994458                                                                                              \n",
       "profile_background_url http://pbs.twimg.com/profile_background_images/3789941/twitter_bg.jpg                                                                                  \n",
       "profile_image_url      http://pbs.twimg.com/profile_images/71115716/bulb_medium_normal.jpg                                                                                    \n",
       "bot                    1                                                                                                                                                      "
      ]
     },
     "metadata": {},
     "output_type": "display_data"
    }
   ],
   "source": [
    "t(head(train, 2))"
   ]
  },
  {
   "cell_type": "code",
   "execution_count": 4,
   "metadata": {},
   "outputs": [
    {
     "data": {
      "text/html": [
       "<table>\n",
       "<tbody>\n",
       "\t<tr><th scope=row>user_id</th><td>2311776002                                                                                                </td><td>472393931                                                                                                 </td></tr>\n",
       "\t<tr><th scope=row>name</th><td>Threat Intelligence                                                                                       </td><td>Lucy Bailey                                                                                               </td></tr>\n",
       "\t<tr><th scope=row>screen_name</th><td>threatintelbot                                                                                            </td><td>LucyBailey_1989                                                                                           </td></tr>\n",
       "\t<tr><th scope=row>location</th><td>Nepal                                                                                                     </td><td>                                                                                                          </td></tr>\n",
       "\t<tr><th scope=row>description</th><td>All About malware                                                                                         </td><td>Proud team member of @TiddlyLink\n",
       "...If I spent any more time on Twitter they'd probably charge me rent :)</td></tr>\n",
       "\t<tr><th scope=row>url</th><td>NA                                                                                                        </td><td>https://t.co/2tXLGqIukE                                                                                   </td></tr>\n",
       "\t<tr><th scope=row>protected</th><td>FALSE                                                                                                     </td><td>FALSE                                                                                                     </td></tr>\n",
       "\t<tr><th scope=row>followers_count</th><td> 1009                                                                                                     </td><td>29554                                                                                                     </td></tr>\n",
       "\t<tr><th scope=row>friends_count</th><td>   28                                                                                                     </td><td>23252                                                                                                     </td></tr>\n",
       "\t<tr><th scope=row>listed_count</th><td>393                                                                                                       </td><td>137                                                                                                       </td></tr>\n",
       "\t<tr><th scope=row>statuses_count</th><td>33590                                                                                                     </td><td> 3535                                                                                                     </td></tr>\n",
       "\t<tr><th scope=row>favourites_count</th><td>    0                                                                                                     </td><td>32789                                                                                                     </td></tr>\n",
       "\t<tr><th scope=row>account_created_at</th><td>2014-01-26 12:27:51                                                                                       </td><td>2012-01-23 22:16:47                                                                                       </td></tr>\n",
       "\t<tr><th scope=row>verified</th><td>FALSE                                                                                                     </td><td>FALSE                                                                                                     </td></tr>\n",
       "\t<tr><th scope=row>profile_url</th><td>NA                                                                                                        </td><td>https://t.co/2tXLGqIukE                                                                                   </td></tr>\n",
       "\t<tr><th scope=row>profile_expanded_url</th><td>NA                                                                                                        </td><td>http://tiddly.link/                                                                                       </td></tr>\n",
       "\t<tr><th scope=row>account_lang</th><td>en                                                                                                        </td><td>en                                                                                                        </td></tr>\n",
       "\t<tr><th scope=row>profile_banner_url</th><td>https://pbs.twimg.com/profile_banners/2311776002/1455414801                                               </td><td>https://pbs.twimg.com/profile_banners/472393931/1476094558                                                </td></tr>\n",
       "\t<tr><th scope=row>profile_background_url</th><td>http://abs.twimg.com/images/themes/theme1/bg.png                                                          </td><td>http://abs.twimg.com/images/themes/theme1/bg.png                                                          </td></tr>\n",
       "\t<tr><th scope=row>profile_image_url</th><td>http://pbs.twimg.com/profile_images/698686225226424321/PAk38nPv_normal.jpg                                </td><td>http://pbs.twimg.com/profile_images/785434282202374146/88pRNNYM_normal.jpg                                </td></tr>\n",
       "\t<tr><th scope=row>bot</th><td>1                                                                                                         </td><td>1                                                                                                         </td></tr>\n",
       "</tbody>\n",
       "</table>\n"
      ],
      "text/latex": [
       "\\begin{tabular}{r|ll}\n",
       "\tuser\\_id & 2311776002                                                                                                 & 472393931                                                                                                 \\\\\n",
       "\tname & Threat Intelligence                                                                                        & Lucy Bailey                                                                                               \\\\\n",
       "\tscreen\\_name & threatintelbot                                                                                               & LucyBailey\\_1989                                                                                           \\\\\n",
       "\tlocation & Nepal                                                                                                      &                                                                                                           \\\\\n",
       "\tdescription & All About malware                                                                                          & Proud team member of @TiddlyLink\n",
       "...If I spent any more time on Twitter they'd probably charge me rent :)\\\\\n",
       "\turl & NA                                                                                                         & https://t.co/2tXLGqIukE                                                                                   \\\\\n",
       "\tprotected & FALSE                                                                                                      & FALSE                                                                                                     \\\\\n",
       "\tfollowers\\_count &  1009                                                                                                      & 29554                                                                                                     \\\\\n",
       "\tfriends\\_count &    28                                                                                                      & 23252                                                                                                     \\\\\n",
       "\tlisted\\_count & 393                                                                                                        & 137                                                                                                       \\\\\n",
       "\tstatuses\\_count & 33590                                                                                                      &  3535                                                                                                     \\\\\n",
       "\tfavourites\\_count &     0                                                                                                      & 32789                                                                                                     \\\\\n",
       "\taccount\\_created\\_at & 2014-01-26 12:27:51                                                                                        & 2012-01-23 22:16:47                                                                                       \\\\\n",
       "\tverified & FALSE                                                                                                      & FALSE                                                                                                     \\\\\n",
       "\tprofile\\_url & NA                                                                                                         & https://t.co/2tXLGqIukE                                                                                   \\\\\n",
       "\tprofile\\_expanded\\_url & NA                                                                                                         & http://tiddly.link/                                                                                       \\\\\n",
       "\taccount\\_lang & en                                                                                                         & en                                                                                                        \\\\\n",
       "\tprofile\\_banner\\_url & https://pbs.twimg.com/profile\\_banners/2311776002/1455414801                                                & https://pbs.twimg.com/profile\\_banners/472393931/1476094558                                                \\\\\n",
       "\tprofile\\_background\\_url & http://abs.twimg.com/images/themes/theme1/bg.png                                                           & http://abs.twimg.com/images/themes/theme1/bg.png                                                          \\\\\n",
       "\tprofile\\_image\\_url & http://pbs.twimg.com/profile\\_images/698686225226424321/PAk38nPv\\_normal.jpg                                 & http://pbs.twimg.com/profile\\_images/785434282202374146/88pRNNYM\\_normal.jpg                                \\\\\n",
       "\tbot & 1                                                                                                          & 1                                                                                                         \\\\\n",
       "\\end{tabular}\n"
      ],
      "text/markdown": [
       "\n",
       "| user_id | 2311776002                                                                                                 | 472393931                                                                                                  | \n",
       "| name | Threat Intelligence                                                                                        | Lucy Bailey                                                                                                | \n",
       "| screen_name | threatintelbot                                                                                             | LucyBailey_1989                                                                                            | \n",
       "| location | Nepal                                                                                                      |                                                                                                            | \n",
       "| description | All About malware                                                                                          | Proud team member of @TiddlyLink\n",
       "...If I spent any more time on Twitter they'd probably charge me rent :) | \n",
       "| url | NA                                                                                                         | https://t.co/2tXLGqIukE                                                                                    | \n",
       "| protected | FALSE                                                                                                      | FALSE                                                                                                      | \n",
       "| followers_count |  1009                                                                                                      | 29554                                                                                                      | \n",
       "| friends_count |    28                                                                                                      | 23252                                                                                                      | \n",
       "| listed_count | 393                                                                                                        | 137                                                                                                        | \n",
       "| statuses_count | 33590                                                                                                      |  3535                                                                                                      | \n",
       "| favourites_count |     0                                                                                                      | 32789                                                                                                      | \n",
       "| account_created_at | 2014-01-26 12:27:51                                                                                        | 2012-01-23 22:16:47                                                                                        | \n",
       "| verified | FALSE                                                                                                      | FALSE                                                                                                      | \n",
       "| profile_url | NA                                                                                                         | https://t.co/2tXLGqIukE                                                                                    | \n",
       "| profile_expanded_url | NA                                                                                                         | http://tiddly.link/                                                                                        | \n",
       "| account_lang | en                                                                                                         | en                                                                                                         | \n",
       "| profile_banner_url | https://pbs.twimg.com/profile_banners/2311776002/1455414801                                                | https://pbs.twimg.com/profile_banners/472393931/1476094558                                                 | \n",
       "| profile_background_url | http://abs.twimg.com/images/themes/theme1/bg.png                                                           | http://abs.twimg.com/images/themes/theme1/bg.png                                                           | \n",
       "| profile_image_url | http://pbs.twimg.com/profile_images/698686225226424321/PAk38nPv_normal.jpg                                 | http://pbs.twimg.com/profile_images/785434282202374146/88pRNNYM_normal.jpg                                 | \n",
       "| bot | 1                                                                                                          | 1                                                                                                          | \n",
       "\n",
       "\n"
      ],
      "text/plain": [
       "                       [,1]                                                                      \n",
       "user_id                2311776002                                                                \n",
       "name                   Threat Intelligence                                                       \n",
       "screen_name            threatintelbot                                                            \n",
       "location               Nepal                                                                     \n",
       "description            All About malware                                                         \n",
       "url                    NA                                                                        \n",
       "protected              FALSE                                                                     \n",
       "followers_count         1009                                                                     \n",
       "friends_count             28                                                                     \n",
       "listed_count           393                                                                       \n",
       "statuses_count         33590                                                                     \n",
       "favourites_count           0                                                                     \n",
       "account_created_at     2014-01-26 12:27:51                                                       \n",
       "verified               FALSE                                                                     \n",
       "profile_url            NA                                                                        \n",
       "profile_expanded_url   NA                                                                        \n",
       "account_lang           en                                                                        \n",
       "profile_banner_url     https://pbs.twimg.com/profile_banners/2311776002/1455414801               \n",
       "profile_background_url http://abs.twimg.com/images/themes/theme1/bg.png                          \n",
       "profile_image_url      http://pbs.twimg.com/profile_images/698686225226424321/PAk38nPv_normal.jpg\n",
       "bot                    1                                                                         \n",
       "                       [,2]                                                                                                      \n",
       "user_id                472393931                                                                                                 \n",
       "name                   Lucy Bailey                                                                                               \n",
       "screen_name            LucyBailey_1989                                                                                           \n",
       "location                                                                                                                         \n",
       "description            Proud team member of @TiddlyLink\\n...If I spent any more time on Twitter they'd probably charge me rent :)\n",
       "url                    https://t.co/2tXLGqIukE                                                                                   \n",
       "protected              FALSE                                                                                                     \n",
       "followers_count        29554                                                                                                     \n",
       "friends_count          23252                                                                                                     \n",
       "listed_count           137                                                                                                       \n",
       "statuses_count          3535                                                                                                     \n",
       "favourites_count       32789                                                                                                     \n",
       "account_created_at     2012-01-23 22:16:47                                                                                       \n",
       "verified               FALSE                                                                                                     \n",
       "profile_url            https://t.co/2tXLGqIukE                                                                                   \n",
       "profile_expanded_url   http://tiddly.link/                                                                                       \n",
       "account_lang           en                                                                                                        \n",
       "profile_banner_url     https://pbs.twimg.com/profile_banners/472393931/1476094558                                                \n",
       "profile_background_url http://abs.twimg.com/images/themes/theme1/bg.png                                                          \n",
       "profile_image_url      http://pbs.twimg.com/profile_images/785434282202374146/88pRNNYM_normal.jpg                                \n",
       "bot                    1                                                                                                         "
      ]
     },
     "metadata": {},
     "output_type": "display_data"
    }
   ],
   "source": [
    "t(head(test, 2))"
   ]
  },
  {
   "cell_type": "markdown",
   "metadata": {},
   "source": [
    "## How many bots and humans are in each dataset?"
   ]
  },
  {
   "cell_type": "code",
   "execution_count": 5,
   "metadata": {},
   "outputs": [
    {
     "data": {
      "text/plain": [
       "train_bot\n",
       "   0    1 \n",
       "1604 1604 "
      ]
     },
     "metadata": {},
     "output_type": "display_data"
    }
   ],
   "source": [
    "## bot == 1, not-bot == 0\n",
    "table(train_bot = train$bot)"
   ]
  },
  {
   "cell_type": "code",
   "execution_count": 6,
   "metadata": {},
   "outputs": [
    {
     "data": {
      "text/plain": [
       "test_bot\n",
       "   0    1 \n",
       "2437  799 "
      ]
     },
     "metadata": {},
     "output_type": "display_data"
    }
   ],
   "source": [
    "## bot == 1, not-bot == 0\n",
    "table(test_bot = test$bot)"
   ]
  },
  {
   "cell_type": "markdown",
   "metadata": {},
   "source": [
    "## Define my helper functions"
   ]
  },
  {
   "cell_type": "code",
   "execution_count": 7,
   "metadata": {
    "collapsed": true
   },
   "outputs": [],
   "source": [
    "# is this a number?\n",
    "is_num <- function(x) { \n",
    "    return(is.numeric(x) | is.integer(x)) \n",
    "}"
   ]
  },
  {
   "cell_type": "code",
   "execution_count": 8,
   "metadata": {},
   "outputs": [
    {
     "name": "stdout",
     "output_type": "stream",
     "text": [
      "[1] TRUE\n",
      "[1] FALSE\n"
     ]
    }
   ],
   "source": [
    "# example output\n",
    "print(is_num(100))\n",
    "print(is_num(\"hello\"))"
   ]
  },
  {
   "cell_type": "code",
   "execution_count": 9,
   "metadata": {
    "collapsed": true
   },
   "outputs": [],
   "source": [
    "# extract features for training\n",
    "\n",
    "extract_features <- function(data) {\n",
    "    \n",
    "    # mutate 6 new features\n",
    "    \n",
    "    data %>%\n",
    "        mutate(\n",
    "            \"bio_chars\" = nchar(description),\n",
    "            \"verified\" = as.integer(verified),\n",
    "            \"years\" = as.integer(difftime(Sys.time(), account_created_at, \"days\")) / 365,\n",
    "            \"tweets_to_followers\" = (statuses_count + 1) / (followers_count + 1),\n",
    "            \"statuses_rate\" = statuses_count / years,\n",
    "            \"ff_ratio\" = (followers_count + 1) / (friends_count + followers_count + 1),\n",
    "            'fav_rate' = favourites_count / years,\n",
    "            'protected' = as.integer(protected),\n",
    "            'list_rate' = listed_count / years\n",
    "        ) %>%\n",
    "        select_if(is_num)\n",
    "}"
   ]
  },
  {
   "cell_type": "code",
   "execution_count": 10,
   "metadata": {},
   "outputs": [
    {
     "data": {
      "text/html": [
       "<table>\n",
       "<thead><tr><th scope=col>protected</th><th scope=col>followers_count</th><th scope=col>friends_count</th><th scope=col>listed_count</th><th scope=col>statuses_count</th><th scope=col>favourites_count</th><th scope=col>verified</th><th scope=col>bot</th><th scope=col>bio_chars</th><th scope=col>years</th><th scope=col>tweets_to_followers</th><th scope=col>statuses_rate</th><th scope=col>ff_ratio</th><th scope=col>fav_rate</th><th scope=col>list_rate</th></tr></thead>\n",
       "<tbody>\n",
       "\t<tr><td>0           </td><td> 656        </td><td>2154        </td><td> 17         </td><td> 2058       </td><td> 2832       </td><td>0           </td><td>1           </td><td>120         </td><td> 7.027397   </td><td>  3.133942  </td><td>  292.8538  </td><td>0.2337247   </td><td>  402.994152</td><td> 2.4191033  </td></tr>\n",
       "\t<tr><td>0           </td><td>7351        </td><td>2177        </td><td>520         </td><td>12428       </td><td>  610       </td><td>0           </td><td>1           </td><td>151         </td><td> 9.243836   </td><td>  1.690560  </td><td> 1344.4635  </td><td>0.7715395   </td><td>   65.989923</td><td>56.2537048  </td></tr>\n",
       "\t<tr><td>0           </td><td> 260        </td><td> 462        </td><td> 11         </td><td> 1449       </td><td>  420       </td><td>0           </td><td>1           </td><td>137         </td><td>10.756164   </td><td>  5.555556  </td><td>  134.7134  </td><td>0.3609959   </td><td>   39.047376</td><td> 1.0226694  </td></tr>\n",
       "\t<tr><td>0           </td><td> 329        </td><td> 548        </td><td>  1         </td><td>50098       </td><td>46056       </td><td>0           </td><td>1           </td><td>  0         </td><td> 1.287671   </td><td>151.815152  </td><td>38905.8936  </td><td>0.3758542   </td><td>35766.893617</td><td> 0.7765957  </td></tr>\n",
       "\t<tr><td>0           </td><td> 617        </td><td>   5        </td><td> 31         </td><td> 5491       </td><td>   30       </td><td>0           </td><td>1           </td><td>160         </td><td> 3.852055   </td><td>  8.886731  </td><td> 1425.4730  </td><td>0.9919743   </td><td>    7.788051</td><td> 8.0476529  </td></tr>\n",
       "\t<tr><td>0           </td><td> 236        </td><td> 217        </td><td> 47         </td><td>25066       </td><td>    0       </td><td>0           </td><td>1           </td><td> 88         </td><td> 8.350685   </td><td>105.767932  </td><td> 3001.6699  </td><td>0.5220264   </td><td>    0.000000</td><td> 5.6282808  </td></tr>\n",
       "</tbody>\n",
       "</table>\n"
      ],
      "text/latex": [
       "\\begin{tabular}{r|lllllllllllllll}\n",
       " protected & followers\\_count & friends\\_count & listed\\_count & statuses\\_count & favourites\\_count & verified & bot & bio\\_chars & years & tweets\\_to\\_followers & statuses\\_rate & ff\\_ratio & fav\\_rate & list\\_rate\\\\\n",
       "\\hline\n",
       "\t 0            &  656         & 2154         &  17          &  2058        &  2832        & 0            & 1            & 120          &  7.027397    &   3.133942   &   292.8538   & 0.2337247    &   402.994152 &  2.4191033  \\\\\n",
       "\t 0            & 7351         & 2177         & 520          & 12428        &   610        & 0            & 1            & 151          &  9.243836    &   1.690560   &  1344.4635   & 0.7715395    &    65.989923 & 56.2537048  \\\\\n",
       "\t 0            &  260         &  462         &  11          &  1449        &   420        & 0            & 1            & 137          & 10.756164    &   5.555556   &   134.7134   & 0.3609959    &    39.047376 &  1.0226694  \\\\\n",
       "\t 0            &  329         &  548         &   1          & 50098        & 46056        & 0            & 1            &   0          &  1.287671    & 151.815152   & 38905.8936   & 0.3758542    & 35766.893617 &  0.7765957  \\\\\n",
       "\t 0            &  617         &    5         &  31          &  5491        &    30        & 0            & 1            & 160          &  3.852055    &   8.886731   &  1425.4730   & 0.9919743    &     7.788051 &  8.0476529  \\\\\n",
       "\t 0            &  236         &  217         &  47          & 25066        &     0        & 0            & 1            &  88          &  8.350685    & 105.767932   &  3001.6699   & 0.5220264    &     0.000000 &  5.6282808  \\\\\n",
       "\\end{tabular}\n"
      ],
      "text/markdown": [
       "\n",
       "protected | followers_count | friends_count | listed_count | statuses_count | favourites_count | verified | bot | bio_chars | years | tweets_to_followers | statuses_rate | ff_ratio | fav_rate | list_rate | \n",
       "|---|---|---|---|---|---|\n",
       "| 0            |  656         | 2154         |  17          |  2058        |  2832        | 0            | 1            | 120          |  7.027397    |   3.133942   |   292.8538   | 0.2337247    |   402.994152 |  2.4191033   | \n",
       "| 0            | 7351         | 2177         | 520          | 12428        |   610        | 0            | 1            | 151          |  9.243836    |   1.690560   |  1344.4635   | 0.7715395    |    65.989923 | 56.2537048   | \n",
       "| 0            |  260         |  462         |  11          |  1449        |   420        | 0            | 1            | 137          | 10.756164    |   5.555556   |   134.7134   | 0.3609959    |    39.047376 |  1.0226694   | \n",
       "| 0            |  329         |  548         |   1          | 50098        | 46056        | 0            | 1            |   0          |  1.287671    | 151.815152   | 38905.8936   | 0.3758542    | 35766.893617 |  0.7765957   | \n",
       "| 0            |  617         |    5         |  31          |  5491        |    30        | 0            | 1            | 160          |  3.852055    |   8.886731   |  1425.4730   | 0.9919743    |     7.788051 |  8.0476529   | \n",
       "| 0            |  236         |  217         |  47          | 25066        |     0        | 0            | 1            |  88          |  8.350685    | 105.767932   |  3001.6699   | 0.5220264    |     0.000000 |  5.6282808   | \n",
       "\n",
       "\n"
      ],
      "text/plain": [
       "  protected followers_count friends_count listed_count statuses_count\n",
       "1 0          656            2154           17           2058         \n",
       "2 0         7351            2177          520          12428         \n",
       "3 0          260             462           11           1449         \n",
       "4 0          329             548            1          50098         \n",
       "5 0          617               5           31           5491         \n",
       "6 0          236             217           47          25066         \n",
       "  favourites_count verified bot bio_chars years     tweets_to_followers\n",
       "1  2832            0        1   120        7.027397   3.133942         \n",
       "2   610            0        1   151        9.243836   1.690560         \n",
       "3   420            0        1   137       10.756164   5.555556         \n",
       "4 46056            0        1     0        1.287671 151.815152         \n",
       "5    30            0        1   160        3.852055   8.886731         \n",
       "6     0            0        1    88        8.350685 105.767932         \n",
       "  statuses_rate ff_ratio  fav_rate     list_rate \n",
       "1   292.8538    0.2337247   402.994152  2.4191033\n",
       "2  1344.4635    0.7715395    65.989923 56.2537048\n",
       "3   134.7134    0.3609959    39.047376  1.0226694\n",
       "4 38905.8936    0.3758542 35766.893617  0.7765957\n",
       "5  1425.4730    0.9919743     7.788051  8.0476529\n",
       "6  3001.6699    0.5220264     0.000000  5.6282808"
      ]
     },
     "metadata": {},
     "output_type": "display_data"
    }
   ],
   "source": [
    "# example output\n",
    "extract_features(head(train))"
   ]
  },
  {
   "cell_type": "code",
   "execution_count": 11,
   "metadata": {
    "collapsed": true
   },
   "outputs": [],
   "source": [
    "ftrain <- extract_features(train)\n",
    "ftest <- extract_features(test)"
   ]
  },
  {
   "cell_type": "markdown",
   "metadata": {},
   "source": [
    "## Merge datasets"
   ]
  },
  {
   "cell_type": "code",
   "execution_count": 12,
   "metadata": {},
   "outputs": [
    {
     "data": {
      "text/html": [
       "<table>\n",
       "<thead><tr><th scope=col>bot</th><th scope=col>protected</th><th scope=col>followers_count</th><th scope=col>friends_count</th><th scope=col>listed_count</th><th scope=col>statuses_count</th><th scope=col>favourites_count</th><th scope=col>verified</th><th scope=col>bio_chars</th><th scope=col>years</th><th scope=col>tweets_to_followers</th><th scope=col>statuses_rate</th><th scope=col>ff_ratio</th><th scope=col>fav_rate</th><th scope=col>list_rate</th></tr></thead>\n",
       "<tbody>\n",
       "\t<tr><td>0         </td><td>0         </td><td>1497      </td><td>338       </td><td>24        </td><td>21596     </td><td>6406      </td><td>0         </td><td>67        </td><td>5.605479  </td><td>11.811940 </td><td>4906.197  </td><td>0.7878366 </td><td>1359.83906</td><td>5.560392  </td></tr>\n",
       "\t<tr><td>1         </td><td>0         </td><td> 857      </td><td>249       </td><td>21        </td><td> 5491     </td><td>  94      </td><td>0         </td><td>97        </td><td>3.994521  </td><td> 8.531579 </td><td>1499.801  </td><td>0.6463078 </td><td>  28.57651</td><td>5.983607  </td></tr>\n",
       "</tbody>\n",
       "</table>\n"
      ],
      "text/latex": [
       "\\begin{tabular}{r|lllllllllllllll}\n",
       " bot & protected & followers\\_count & friends\\_count & listed\\_count & statuses\\_count & favourites\\_count & verified & bio\\_chars & years & tweets\\_to\\_followers & statuses\\_rate & ff\\_ratio & fav\\_rate & list\\_rate\\\\\n",
       "\\hline\n",
       "\t 0          & 0          & 1497       & 338        & 24         & 21596      & 6406       & 0          & 67         & 5.605479   & 11.811940  & 4906.197   & 0.7878366  & 1359.83906 & 5.560392  \\\\\n",
       "\t 1          & 0          &  857       & 249        & 21         &  5491      &   94       & 0          & 97         & 3.994521   &  8.531579  & 1499.801   & 0.6463078  &   28.57651 & 5.983607  \\\\\n",
       "\\end{tabular}\n"
      ],
      "text/markdown": [
       "\n",
       "bot | protected | followers_count | friends_count | listed_count | statuses_count | favourites_count | verified | bio_chars | years | tweets_to_followers | statuses_rate | ff_ratio | fav_rate | list_rate | \n",
       "|---|---|\n",
       "| 0          | 0          | 1497       | 338        | 24         | 21596      | 6406       | 0          | 67         | 5.605479   | 11.811940  | 4906.197   | 0.7878366  | 1359.83906 | 5.560392   | \n",
       "| 1          | 0          |  857       | 249        | 21         |  5491      |   94       | 0          | 97         | 3.994521   |  8.531579  | 1499.801   | 0.6463078  |   28.57651 | 5.983607   | \n",
       "\n",
       "\n"
      ],
      "text/plain": [
       "  bot protected followers_count friends_count listed_count statuses_count\n",
       "1 0   0         1497            338           24           21596         \n",
       "2 1   0          857            249           21            5491         \n",
       "  favourites_count verified bio_chars years    tweets_to_followers\n",
       "1 6406             0        67        5.605479 11.811940          \n",
       "2   94             0        97        3.994521  8.531579          \n",
       "  statuses_rate ff_ratio  fav_rate   list_rate\n",
       "1 4906.197      0.7878366 1359.83906 5.560392 \n",
       "2 1499.801      0.6463078   28.57651 5.983607 "
      ]
     },
     "metadata": {},
     "output_type": "display_data"
    }
   ],
   "source": [
    "bind_rows(ftrain, ftest) %>%\n",
    "    group_by(bot) %>%\n",
    "    summarize_if(is_num, median, na.rm = TRUE)\n",
    "\n",
    "# combine the dataset then find the median of all numeric columns grouped by bot or not."
   ]
  },
  {
   "cell_type": "markdown",
   "metadata": {},
   "source": [
    "## Train the model"
   ]
  },
  {
   "cell_type": "code",
   "execution_count": 13,
   "metadata": {},
   "outputs": [
    {
     "name": "stderr",
     "output_type": "stream",
     "text": [
      "Warning message in gbm.fit(x, y, offset = offset, distribution = distribution, w = w, :\n",
      "\"variable 1: protected has no variation.\""
     ]
    }
   ],
   "source": [
    "# Generalized Boosted Regression Models\n",
    "\n",
    "n_trees <- 500\n",
    "\n",
    "m1 <- gbm(bot ~ ., \n",
    "             data = ftrain,\n",
    "             n.trees = n_trees,\n",
    "             interaction.depth = 4, \n",
    "             cv.folds = 2,\n",
    "             verbose = FALSE,\n",
    "             distribution = \"bernoulli\",\n",
    "             n.minobsinnode = 10,\n",
    "             shrinkage = 0.025)"
   ]
  },
  {
   "cell_type": "code",
   "execution_count": 14,
   "metadata": {},
   "outputs": [
    {
     "data": {
      "text/html": [
       "<table>\n",
       "<thead><tr><th></th><th scope=col>var</th><th scope=col>rel.inf</th></tr></thead>\n",
       "<tbody>\n",
       "\t<tr><th scope=row>ff_ratio</th><td>ff_ratio           </td><td>32.799557          </td></tr>\n",
       "\t<tr><th scope=row>friends_count</th><td>friends_count      </td><td>23.784207          </td></tr>\n",
       "\t<tr><th scope=row>favourites_count</th><td>favourites_count   </td><td>19.717815          </td></tr>\n",
       "\t<tr><th scope=row>statuses_rate</th><td>statuses_rate      </td><td> 4.961784          </td></tr>\n",
       "\t<tr><th scope=row>list_rate</th><td>list_rate          </td><td> 2.934025          </td></tr>\n",
       "\t<tr><th scope=row>followers_count</th><td>followers_count    </td><td> 2.666080          </td></tr>\n",
       "\t<tr><th scope=row>listed_count</th><td>listed_count       </td><td> 2.442595          </td></tr>\n",
       "\t<tr><th scope=row>tweets_to_followers</th><td>tweets_to_followers</td><td> 2.330693          </td></tr>\n",
       "\t<tr><th scope=row>bio_chars</th><td>bio_chars          </td><td> 1.913782          </td></tr>\n",
       "\t<tr><th scope=row>statuses_count</th><td>statuses_count     </td><td> 1.860418          </td></tr>\n",
       "\t<tr><th scope=row>years</th><td>years              </td><td> 1.716418          </td></tr>\n",
       "\t<tr><th scope=row>fav_rate</th><td>fav_rate           </td><td> 1.526428          </td></tr>\n",
       "\t<tr><th scope=row>verified</th><td>verified           </td><td> 1.346198          </td></tr>\n",
       "\t<tr><th scope=row>protected</th><td>protected          </td><td> 0.000000          </td></tr>\n",
       "</tbody>\n",
       "</table>\n"
      ],
      "text/latex": [
       "\\begin{tabular}{r|ll}\n",
       "  & var & rel.inf\\\\\n",
       "\\hline\n",
       "\tff\\_ratio & ff\\_ratio            & 32.799557            \\\\\n",
       "\tfriends\\_count & friends\\_count       & 23.784207            \\\\\n",
       "\tfavourites\\_count & favourites\\_count    & 19.717815            \\\\\n",
       "\tstatuses\\_rate & statuses\\_rate       &  4.961784            \\\\\n",
       "\tlist\\_rate & list\\_rate           &  2.934025            \\\\\n",
       "\tfollowers\\_count & followers\\_count     &  2.666080            \\\\\n",
       "\tlisted\\_count & listed\\_count        &  2.442595            \\\\\n",
       "\ttweets\\_to\\_followers & tweets\\_to\\_followers &  2.330693              \\\\\n",
       "\tbio\\_chars & bio\\_chars           &  1.913782            \\\\\n",
       "\tstatuses\\_count & statuses\\_count      &  1.860418            \\\\\n",
       "\tyears & years               &  1.716418          \\\\\n",
       "\tfav\\_rate & fav\\_rate            &  1.526428            \\\\\n",
       "\tverified & verified            &  1.346198          \\\\\n",
       "\tprotected & protected           &  0.000000          \\\\\n",
       "\\end{tabular}\n"
      ],
      "text/markdown": [
       "\n",
       "| <!--/--> | var | rel.inf | \n",
       "|---|---|---|---|---|---|---|---|---|---|---|---|---|---|\n",
       "| ff_ratio | ff_ratio            | 32.799557           | \n",
       "| friends_count | friends_count       | 23.784207           | \n",
       "| favourites_count | favourites_count    | 19.717815           | \n",
       "| statuses_rate | statuses_rate       |  4.961784           | \n",
       "| list_rate | list_rate           |  2.934025           | \n",
       "| followers_count | followers_count     |  2.666080           | \n",
       "| listed_count | listed_count        |  2.442595           | \n",
       "| tweets_to_followers | tweets_to_followers |  2.330693           | \n",
       "| bio_chars | bio_chars           |  1.913782           | \n",
       "| statuses_count | statuses_count      |  1.860418           | \n",
       "| years | years               |  1.716418           | \n",
       "| fav_rate | fav_rate            |  1.526428           | \n",
       "| verified | verified            |  1.346198           | \n",
       "| protected | protected           |  0.000000           | \n",
       "\n",
       "\n"
      ],
      "text/plain": [
       "                    var                 rel.inf  \n",
       "ff_ratio            ff_ratio            32.799557\n",
       "friends_count       friends_count       23.784207\n",
       "favourites_count    favourites_count    19.717815\n",
       "statuses_rate       statuses_rate        4.961784\n",
       "list_rate           list_rate            2.934025\n",
       "followers_count     followers_count      2.666080\n",
       "listed_count        listed_count         2.442595\n",
       "tweets_to_followers tweets_to_followers  2.330693\n",
       "bio_chars           bio_chars            1.913782\n",
       "statuses_count      statuses_count       1.860418\n",
       "years               years                1.716418\n",
       "fav_rate            fav_rate             1.526428\n",
       "verified            verified             1.346198\n",
       "protected           protected            0.000000"
      ]
     },
     "metadata": {},
     "output_type": "display_data"
    },
    {
     "data": {
      "image/png": "[encoded data removed]",
      "text/plain": [
       "plot without title"
      ]
     },
     "metadata": {},
     "output_type": "display_data"
    }
   ],
   "source": [
    "summary(m1, plotit = TRUE)"
   ]
  },
  {
   "cell_type": "markdown",
   "metadata": {},
   "source": [
    "## Test the model against the training data"
   ]
  },
  {
   "cell_type": "code",
   "execution_count": 15,
   "metadata": {},
   "outputs": [
    {
     "data": {
      "text/html": [
       "<ol class=list-inline>\n",
       "\t<li>0.919440500654253</li>\n",
       "\t<li>0.645031846427916</li>\n",
       "\t<li>0.832927851925889</li>\n",
       "\t<li>0.858050583131713</li>\n",
       "\t<li>0.97754998201461</li>\n",
       "\t<li>0.935538387828166</li>\n",
       "\t<li>0.977753698931115</li>\n",
       "\t<li>0.756823902601356</li>\n",
       "\t<li>0.121706926942918</li>\n",
       "\t<li>0.992077667272937</li>\n",
       "</ol>\n"
      ],
      "text/latex": [
       "\\begin{enumerate*}\n",
       "\\item 0.919440500654253\n",
       "\\item 0.645031846427916\n",
       "\\item 0.832927851925889\n",
       "\\item 0.858050583131713\n",
       "\\item 0.97754998201461\n",
       "\\item 0.935538387828166\n",
       "\\item 0.977753698931115\n",
       "\\item 0.756823902601356\n",
       "\\item 0.121706926942918\n",
       "\\item 0.992077667272937\n",
       "\\end{enumerate*}\n"
      ],
      "text/markdown": [
       "1. 0.919440500654253\n",
       "2. 0.645031846427916\n",
       "3. 0.832927851925889\n",
       "4. 0.858050583131713\n",
       "5. 0.97754998201461\n",
       "6. 0.935538387828166\n",
       "7. 0.977753698931115\n",
       "8. 0.756823902601356\n",
       "9. 0.121706926942918\n",
       "10. 0.992077667272937\n",
       "\n",
       "\n"
      ],
      "text/plain": [
       " [1] 0.9194405 0.6450318 0.8329279 0.8580506 0.9775500 0.9355384 0.9777537\n",
       " [8] 0.7568239 0.1217069 0.9920777"
      ]
     },
     "metadata": {},
     "output_type": "display_data"
    }
   ],
   "source": [
    "ftrain$pred <- predict(m1, n.trees = n_trees, type = \"response\")\n",
    "\n",
    "ftrain$pred[0:10]"
   ]
  },
  {
   "cell_type": "code",
   "execution_count": 16,
   "metadata": {
    "collapsed": true
   },
   "outputs": [],
   "source": [
    "percent_correct <- function(x) {\n",
    "    \n",
    "    # create a 2x2 table of PredictBot and BOT. \n",
    "    # CORRECT is defined as pred > 0.5\n",
    "    x <- table(PredictBot = x$pred > 0.5, bot = x$bot)\n",
    "    print(x)\n",
    "    \n",
    "    print(\"------------------------\")\n",
    "    \n",
    "    pc <- round((x[2, 2]) / sum(x[, 2]), 3)\n",
    "    print(paste(\"PREDICT BOT & BOT: \", x[2, 2]))\n",
    "    print(paste(\"Sum of BOTS: \", sum(x[, 2])))\n",
    "    print(paste(\"Percent Correct:\", pc * 100))\n",
    "    pc <- as.character(pc * 100)\n",
    "    print(paste(\"The model was\", pc, \"% accurate when classifying twitter bots.\"))\n",
    "    \n",
    "    print(\"------------------------\")\n",
    "    \n",
    "    pc <- round((x[1, 1]) / sum(x[, 1]), 3)\n",
    "    print(paste(\"PREDICT NON-BOT & NON-BOT:\", x[1, 1]))\n",
    "    print(paste(\"Sum of NON-BOTS:\", sum(x[, 1])))\n",
    "    print(paste(\"Percent Correct:\", pc * 100))    \n",
    "    pc <- as.character(pc * 100)\n",
    "    print(paste(\"The model was\", pc, \"% accurate when clasifying non-bots.\"))\n",
    "    \n",
    "    print(\"------------------------\")\n",
    "    \n",
    "    pc <- round((x[1, 1] + x[2, 2]) / sum(c(x[, 1], x[, 2])), 3)\n",
    "    print(paste(\"Accurate Predictions:\", (x[1, 1] + x[2, 2])))\n",
    "    print(paste(\"All Accounts:\", sum(c(x[, 1], x[, 2]))))\n",
    "    pc <- as.character(pc * 100)\n",
    "    print(paste(\"Overall, the model was correct\", pc, \"% of the time.\"))\n",
    "}"
   ]
  },
  {
   "cell_type": "code",
   "execution_count": 17,
   "metadata": {},
   "outputs": [
    {
     "name": "stdout",
     "output_type": "stream",
     "text": [
      "          bot\n",
      "PredictBot    0    1\n",
      "     FALSE 1490  169\n",
      "     TRUE   114 1435\n",
      "[1] \"------------------------\"\n",
      "[1] \"PREDICT BOT & BOT:  1435\"\n",
      "[1] \"Sum of BOTS:  1604\"\n",
      "[1] \"Percent Correct: 89.5\"\n",
      "[1] \"The model was 89.5 % accurate when classifying twitter bots.\"\n",
      "[1] \"------------------------\"\n",
      "[1] \"PREDICT NON-BOT & NON-BOT: 1490\"\n",
      "[1] \"Sum of NON-BOTS: 1604\"\n",
      "[1] \"Percent Correct: 92.9\"\n",
      "[1] \"The model was 92.9 % accurate when clasifying non-bots.\"\n",
      "[1] \"------------------------\"\n",
      "[1] \"Accurate Predictions: 2925\"\n",
      "[1] \"All Accounts: 3208\"\n",
      "[1] \"Overall, the model was correct 91.2 % of the time.\"\n"
     ]
    }
   ],
   "source": [
    "percent_correct(ftrain)"
   ]
  },
  {
   "cell_type": "markdown",
   "metadata": {},
   "source": [
    "## Test against our testing dataset"
   ]
  },
  {
   "cell_type": "code",
   "execution_count": 18,
   "metadata": {
    "collapsed": true
   },
   "outputs": [],
   "source": [
    "ftest$pred <- predict(m1, newdata = ftest, n.trees = n_trees, type = \"response\")"
   ]
  },
  {
   "cell_type": "code",
   "execution_count": 19,
   "metadata": {},
   "outputs": [
    {
     "name": "stdout",
     "output_type": "stream",
     "text": [
      "          bot\n",
      "PredictBot    0    1\n",
      "     FALSE 2168  101\n",
      "     TRUE   269  698\n",
      "[1] \"------------------------\"\n",
      "[1] \"PREDICT BOT & BOT:  698\"\n",
      "[1] \"Sum of BOTS:  799\"\n",
      "[1] \"Percent Correct: 87.4\"\n",
      "[1] \"The model was 87.4 % accurate when classifying twitter bots.\"\n",
      "[1] \"------------------------\"\n",
      "[1] \"PREDICT NON-BOT & NON-BOT: 2168\"\n",
      "[1] \"Sum of NON-BOTS: 2437\"\n",
      "[1] \"Percent Correct: 89\"\n",
      "[1] \"The model was 89 % accurate when clasifying non-bots.\"\n",
      "[1] \"------------------------\"\n",
      "[1] \"Accurate Predictions: 2866\"\n",
      "[1] \"All Accounts: 3236\"\n",
      "[1] \"Overall, the model was correct 88.6 % of the time.\"\n"
     ]
    }
   ],
   "source": [
    "percent_correct(ftest)"
   ]
  },
  {
   "cell_type": "markdown",
   "metadata": {},
   "source": [
    "# Not too shabby"
   ]
  }
 ],
 "metadata": {
  "kernelspec": {
   "display_name": "R",
   "language": "R",
   "name": "ir"
  },
  "language_info": {
   "codemirror_mode": "r",
   "file_extension": ".r",
   "mimetype": "text/x-r-source",
   "name": "R",
   "pygments_lexer": "r",
   "version": "3.4.1"
  }
 },
 "nbformat": 4,
 "nbformat_minor": 2
}
