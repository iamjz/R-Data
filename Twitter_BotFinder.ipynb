{
 "cells": [
  {
   "cell_type": "code",
   "execution_count": 57,
   "metadata": {},
   "outputs": [],
   "source": [
    "library(tidyverse)\n",
    "library(gbm) # Generalized Boosted Regression Models"
   ]
  },
  {
   "cell_type": "markdown",
   "metadata": {},
   "source": [
    "## Data\n",
    "\n",
    "For the data, I collected data on about 6,697 Twitter accounts. I believe 4,243 of those accounts are genuine (non-automated) accounts and 2,454 are bots. I then randomly split the data set into a **training** set and a **test** set. In the training data, I made sure there were equal numbers of bots versus non-bots. Since we are not using the test data to build our actual model, it is not important to have equal group sizes in the test data set."
   ]
  },
  {
   "cell_type": "code",
   "execution_count": 6,
   "metadata": {},
   "outputs": [],
   "source": [
    "## read in the data (train and test)\n",
    "train <- readRDS(\"datasets/twitter/bot/train.rds\")\n",
    "test <- readRDS(\"datasets/twitter/bot/test.rds\")"
   ]
  },
  {
   "cell_type": "code",
   "execution_count": 11,
   "metadata": {},
   "outputs": [
    {
     "data": {
      "text/html": [
       "<table>\n",
       "<tbody>\n",
       "\t<tr><th scope=row>user_id</th><td>251344965                                                                                                                                              </td><td>17621767                                                                                                                                               </td></tr>\n",
       "\t<tr><th scope=row>name</th><td><span style=white-space:pre-wrap>Videodisc &lt;U+25B3&gt;                                                                                                                                  </span></td><td><span style=white-space:pre-wrap>Policy Innovations                                                                                                                                     </span>   </td></tr>\n",
       "\t<tr><th scope=row>screen_name</th><td>RolexSound                                                                                                                                             </td><td>carnegiePI                                                                                                                                             </td></tr>\n",
       "\t<tr><th scope=row>location</th><td>Barcelona                                                                                                                                              </td><td>New York, NY                                                                                                                                           </td></tr>\n",
       "\t<tr><th scope=row>description</th><td>I'm not a bot . Music . Drawing . Videogames . Sweet Gig.holo.gram booking dani@divined.com https://t.co/jlLMxj37uD &lt;U+30DA&gt;&lt;U+30AC&gt;&lt;U+30B5&gt;&lt;U+30B9&gt;</td><td>Policy Innovations is the @carnegiecouncil magazine for #socialinnovation and global ethics. We talk about doers not bystanders. Follow us on Facebook!                     </td></tr>\n",
       "\t<tr><th scope=row>url</th><td>https://t.co/QnrvTrhJqP                                                                                                                                </td><td>http://t.co/k2DZ1mSSgt                                                                                                                                 </td></tr>\n",
       "\t<tr><th scope=row>protected</th><td>FALSE                                                                                                                                                  </td><td>FALSE                                                                                                                                                  </td></tr>\n",
       "\t<tr><th scope=row>followers_count</th><td> 656                                                                                                                                                   </td><td>7351                                                                                                                                                   </td></tr>\n",
       "\t<tr><th scope=row>friends_count</th><td>2154                                                                                                                                                   </td><td>2177                                                                                                                                                   </td></tr>\n",
       "\t<tr><th scope=row>listed_count</th><td> 17                                                                                                                                                    </td><td>520                                                                                                                                                    </td></tr>\n",
       "\t<tr><th scope=row>statuses_count</th><td> 2058                                                                                                                                                  </td><td>12428                                                                                                                                                  </td></tr>\n",
       "\t<tr><th scope=row>favourites_count</th><td>2832                                                                                                                                                   </td><td> 610                                                                                                                                                   </td></tr>\n",
       "\t<tr><th scope=row>account_created_at</th><td>2011-02-12 23:27:11                                                                                                                                    </td><td>2008-11-25 15:34:39                                                                                                                                    </td></tr>\n",
       "\t<tr><th scope=row>verified</th><td>FALSE                                                                                                                                                  </td><td>FALSE                                                                                                                                                  </td></tr>\n",
       "\t<tr><th scope=row>profile_url</th><td>https://t.co/QnrvTrhJqP                                                                                                                                </td><td>http://t.co/k2DZ1mSSgt                                                                                                                                 </td></tr>\n",
       "\t<tr><th scope=row>profile_expanded_url</th><td>http://soundcloud.com/dani-2-1                                                                                                                         </td><td>http://www.policyinnovations.org/                                                                                                                      </td></tr>\n",
       "\t<tr><th scope=row>account_lang</th><td>es                                                                                                                                                     </td><td>en                                                                                                                                                     </td></tr>\n",
       "\t<tr><th scope=row>profile_banner_url</th><td>https://pbs.twimg.com/profile_banners/251344965/1348617963                                                                                             </td><td>https://pbs.twimg.com/profile_banners/17621767/1401994458                                                                                              </td></tr>\n",
       "\t<tr><th scope=row>profile_background_url</th><td>http://pbs.twimg.com/profile_background_images/368592356/n706264595_302460_3073.jpg                                                                    </td><td>http://pbs.twimg.com/profile_background_images/3789941/twitter_bg.jpg                                                                                  </td></tr>\n",
       "\t<tr><th scope=row>profile_image_url</th><td>http://pbs.twimg.com/profile_images/378800000549950978/e3f968184de02ab072d0dedce7407fd5_normal.jpeg                                                    </td><td>http://pbs.twimg.com/profile_images/71115716/bulb_medium_normal.jpg                                                                                    </td></tr>\n",
       "\t<tr><th scope=row>bot</th><td>1                                                                                                                                                      </td><td>1                                                                                                                                                      </td></tr>\n",
       "</tbody>\n",
       "</table>\n"
      ],
      "text/latex": [
       "\\begin{tabular}{r|ll}\n",
       "\tuser\\_id & 251344965                                                                                                                                               & 17621767                                                                                                                                               \\\\\n",
       "\tname & Videodisc <U+25B3>                                                                                                                                      & Policy Innovations                                                                                                                                     \\\\\n",
       "\tscreen\\_name & RolexSound                                                                                                                                              & carnegiePI                                                                                                                                             \\\\\n",
       "\tlocation & Barcelona                                                                                                                                               & New York, NY                                                                                                                                           \\\\\n",
       "\tdescription & I'm not a bot . Music . Drawing . Videogames . Sweet Gig.holo.gram booking dani@divined.com https://t.co/jlLMxj37uD <U+30DA><U+30AC><U+30B5><U+30B9>      & Policy Innovations is the @carnegiecouncil magazine for \\#socialinnovation and global ethics. We talk about doers not bystanders. Follow us on Facebook!\\\\\n",
       "\turl & https://t.co/QnrvTrhJqP                                                                                                                                 & http://t.co/k2DZ1mSSgt                                                                                                                                 \\\\\n",
       "\tprotected & FALSE                                                                                                                                                   & FALSE                                                                                                                                                  \\\\\n",
       "\tfollowers\\_count &  656                                                                                                                                                    & 7351                                                                                                                                                   \\\\\n",
       "\tfriends\\_count & 2154                                                                                                                                                    & 2177                                                                                                                                                   \\\\\n",
       "\tlisted\\_count &  17                                                                                                                                                     & 520                                                                                                                                                    \\\\\n",
       "\tstatuses\\_count &  2058                                                                                                                                                   & 12428                                                                                                                                                  \\\\\n",
       "\tfavourites\\_count & 2832                                                                                                                                                    &  610                                                                                                                                                   \\\\\n",
       "\taccount\\_created\\_at & 2011-02-12 23:27:11                                                                                                                                     & 2008-11-25 15:34:39                                                                                                                                    \\\\\n",
       "\tverified & FALSE                                                                                                                                                   & FALSE                                                                                                                                                  \\\\\n",
       "\tprofile\\_url & https://t.co/QnrvTrhJqP                                                                                                                                 & http://t.co/k2DZ1mSSgt                                                                                                                                 \\\\\n",
       "\tprofile\\_expanded\\_url & http://soundcloud.com/dani-2-1                                                                                                                          & http://www.policyinnovations.org/                                                                                                                      \\\\\n",
       "\taccount\\_lang & es                                                                                                                                                      & en                                                                                                                                                     \\\\\n",
       "\tprofile\\_banner\\_url & https://pbs.twimg.com/profile\\_banners/251344965/1348617963                                                                                              & https://pbs.twimg.com/profile\\_banners/17621767/1401994458                                                                                              \\\\\n",
       "\tprofile\\_background\\_url & http://pbs.twimg.com/profile\\_background\\_images/368592356/n706264595\\_302460\\_3073.jpg                                                                   & http://pbs.twimg.com/profile\\_background\\_images/3789941/twitter\\_bg.jpg                                                                                  \\\\\n",
       "\tprofile\\_image\\_url & http://pbs.twimg.com/profile\\_images/378800000549950978/e3f968184de02ab072d0dedce7407fd5\\_normal.jpeg                                                       & http://pbs.twimg.com/profile\\_images/71115716/bulb\\_medium\\_normal.jpg                                                                                    \\\\\n",
       "\tbot & 1                                                                                                                                                       & 1                                                                                                                                                      \\\\\n",
       "\\end{tabular}\n"
      ],
      "text/markdown": [
       "\n",
       "| user_id | 251344965                                                                                                                                               | 17621767                                                                                                                                                | \n",
       "| name | Videodisc <U+25B3>                                                                                                                                      | Policy Innovations                                                                                                                                      | \n",
       "| screen_name | RolexSound                                                                                                                                              | carnegiePI                                                                                                                                              | \n",
       "| location | Barcelona                                                                                                                                               | New York, NY                                                                                                                                            | \n",
       "| description | I'm not a bot . Music . Drawing . Videogames . Sweet Gig.holo.gram booking dani@divined.com https://t.co/jlLMxj37uD <U+30DA><U+30AC><U+30B5><U+30B9>    | Policy Innovations is the @carnegiecouncil magazine for #socialinnovation and global ethics. We talk about doers not bystanders. Follow us on Facebook! | \n",
       "| url | https://t.co/QnrvTrhJqP                                                                                                                                 | http://t.co/k2DZ1mSSgt                                                                                                                                  | \n",
       "| protected | FALSE                                                                                                                                                   | FALSE                                                                                                                                                   | \n",
       "| followers_count |  656                                                                                                                                                    | 7351                                                                                                                                                    | \n",
       "| friends_count | 2154                                                                                                                                                    | 2177                                                                                                                                                    | \n",
       "| listed_count |  17                                                                                                                                                     | 520                                                                                                                                                     | \n",
       "| statuses_count |  2058                                                                                                                                                   | 12428                                                                                                                                                   | \n",
       "| favourites_count | 2832                                                                                                                                                    |  610                                                                                                                                                    | \n",
       "| account_created_at | 2011-02-12 23:27:11                                                                                                                                     | 2008-11-25 15:34:39                                                                                                                                     | \n",
       "| verified | FALSE                                                                                                                                                   | FALSE                                                                                                                                                   | \n",
       "| profile_url | https://t.co/QnrvTrhJqP                                                                                                                                 | http://t.co/k2DZ1mSSgt                                                                                                                                  | \n",
       "| profile_expanded_url | http://soundcloud.com/dani-2-1                                                                                                                          | http://www.policyinnovations.org/                                                                                                                       | \n",
       "| account_lang | es                                                                                                                                                      | en                                                                                                                                                      | \n",
       "| profile_banner_url | https://pbs.twimg.com/profile_banners/251344965/1348617963                                                                                              | https://pbs.twimg.com/profile_banners/17621767/1401994458                                                                                               | \n",
       "| profile_background_url | http://pbs.twimg.com/profile_background_images/368592356/n706264595_302460_3073.jpg                                                                     | http://pbs.twimg.com/profile_background_images/3789941/twitter_bg.jpg                                                                                   | \n",
       "| profile_image_url | http://pbs.twimg.com/profile_images/378800000549950978/e3f968184de02ab072d0dedce7407fd5_normal.jpeg                                                     | http://pbs.twimg.com/profile_images/71115716/bulb_medium_normal.jpg                                                                                     | \n",
       "| bot | 1                                                                                                                                                       | 1                                                                                                                                                       | \n",
       "\n",
       "\n"
      ],
      "text/plain": [
       "                       [,1]                                                                                                                                                \n",
       "user_id                251344965                                                                                                                                           \n",
       "name                   Videodisc <U+25B3>                                                                                                                                  \n",
       "screen_name            RolexSound                                                                                                                                          \n",
       "location               Barcelona                                                                                                                                           \n",
       "description            I'm not a bot . Music . Drawing . Videogames . Sweet Gig.holo.gram booking dani@divined.com https://t.co/jlLMxj37uD <U+30DA><U+30AC><U+30B5><U+30B9>\n",
       "url                    https://t.co/QnrvTrhJqP                                                                                                                             \n",
       "protected              FALSE                                                                                                                                               \n",
       "followers_count         656                                                                                                                                                \n",
       "friends_count          2154                                                                                                                                                \n",
       "listed_count            17                                                                                                                                                 \n",
       "statuses_count          2058                                                                                                                                               \n",
       "favourites_count       2832                                                                                                                                                \n",
       "account_created_at     2011-02-12 23:27:11                                                                                                                                 \n",
       "verified               FALSE                                                                                                                                               \n",
       "profile_url            https://t.co/QnrvTrhJqP                                                                                                                             \n",
       "profile_expanded_url   http://soundcloud.com/dani-2-1                                                                                                                      \n",
       "account_lang           es                                                                                                                                                  \n",
       "profile_banner_url     https://pbs.twimg.com/profile_banners/251344965/1348617963                                                                                          \n",
       "profile_background_url http://pbs.twimg.com/profile_background_images/368592356/n706264595_302460_3073.jpg                                                                 \n",
       "profile_image_url      http://pbs.twimg.com/profile_images/378800000549950978/e3f968184de02ab072d0dedce7407fd5_normal.jpeg                                                 \n",
       "bot                    1                                                                                                                                                   \n",
       "                       [,2]                                                                                                                                                   \n",
       "user_id                17621767                                                                                                                                               \n",
       "name                   Policy Innovations                                                                                                                                     \n",
       "screen_name            carnegiePI                                                                                                                                             \n",
       "location               New York, NY                                                                                                                                           \n",
       "description            Policy Innovations is the @carnegiecouncil magazine for #socialinnovation and global ethics. We talk about doers not bystanders. Follow us on Facebook!\n",
       "url                    http://t.co/k2DZ1mSSgt                                                                                                                                 \n",
       "protected              FALSE                                                                                                                                                  \n",
       "followers_count        7351                                                                                                                                                   \n",
       "friends_count          2177                                                                                                                                                   \n",
       "listed_count           520                                                                                                                                                    \n",
       "statuses_count         12428                                                                                                                                                  \n",
       "favourites_count        610                                                                                                                                                   \n",
       "account_created_at     2008-11-25 15:34:39                                                                                                                                    \n",
       "verified               FALSE                                                                                                                                                  \n",
       "profile_url            http://t.co/k2DZ1mSSgt                                                                                                                                 \n",
       "profile_expanded_url   http://www.policyinnovations.org/                                                                                                                      \n",
       "account_lang           en                                                                                                                                                     \n",
       "profile_banner_url     https://pbs.twimg.com/profile_banners/17621767/1401994458                                                                                              \n",
       "profile_background_url http://pbs.twimg.com/profile_background_images/3789941/twitter_bg.jpg                                                                                  \n",
       "profile_image_url      http://pbs.twimg.com/profile_images/71115716/bulb_medium_normal.jpg                                                                                    \n",
       "bot                    1                                                                                                                                                      "
      ]
     },
     "metadata": {},
     "output_type": "display_data"
    }
   ],
   "source": [
    "t(head(train, 2))"
   ]
  },
  {
   "cell_type": "code",
   "execution_count": 16,
   "metadata": {},
   "outputs": [
    {
     "data": {
      "text/html": [
       "<table>\n",
       "<tbody>\n",
       "\t<tr><th scope=row>user_id</th><td>2311776002                                                                                                </td><td>472393931                                                                                                 </td></tr>\n",
       "\t<tr><th scope=row>name</th><td>Threat Intelligence                                                                                       </td><td>Lucy Bailey                                                                                               </td></tr>\n",
       "\t<tr><th scope=row>screen_name</th><td>threatintelbot                                                                                            </td><td>LucyBailey_1989                                                                                           </td></tr>\n",
       "\t<tr><th scope=row>location</th><td>Nepal                                                                                                     </td><td>                                                                                                          </td></tr>\n",
       "\t<tr><th scope=row>description</th><td>All About malware                                                                                         </td><td>Proud team member of @TiddlyLink\n",
       "...If I spent any more time on Twitter they'd probably charge me rent :)</td></tr>\n",
       "\t<tr><th scope=row>url</th><td>NA                                                                                                        </td><td>https://t.co/2tXLGqIukE                                                                                   </td></tr>\n",
       "\t<tr><th scope=row>protected</th><td>FALSE                                                                                                     </td><td>FALSE                                                                                                     </td></tr>\n",
       "\t<tr><th scope=row>followers_count</th><td> 1009                                                                                                     </td><td>29554                                                                                                     </td></tr>\n",
       "\t<tr><th scope=row>friends_count</th><td>   28                                                                                                     </td><td>23252                                                                                                     </td></tr>\n",
       "\t<tr><th scope=row>listed_count</th><td>393                                                                                                       </td><td>137                                                                                                       </td></tr>\n",
       "\t<tr><th scope=row>statuses_count</th><td>33590                                                                                                     </td><td> 3535                                                                                                     </td></tr>\n",
       "\t<tr><th scope=row>favourites_count</th><td>    0                                                                                                     </td><td>32789                                                                                                     </td></tr>\n",
       "\t<tr><th scope=row>account_created_at</th><td>2014-01-26 12:27:51                                                                                       </td><td>2012-01-23 22:16:47                                                                                       </td></tr>\n",
       "\t<tr><th scope=row>verified</th><td>FALSE                                                                                                     </td><td>FALSE                                                                                                     </td></tr>\n",
       "\t<tr><th scope=row>profile_url</th><td>NA                                                                                                        </td><td>https://t.co/2tXLGqIukE                                                                                   </td></tr>\n",
       "\t<tr><th scope=row>profile_expanded_url</th><td>NA                                                                                                        </td><td>http://tiddly.link/                                                                                       </td></tr>\n",
       "\t<tr><th scope=row>account_lang</th><td>en                                                                                                        </td><td>en                                                                                                        </td></tr>\n",
       "\t<tr><th scope=row>profile_banner_url</th><td>https://pbs.twimg.com/profile_banners/2311776002/1455414801                                               </td><td>https://pbs.twimg.com/profile_banners/472393931/1476094558                                                </td></tr>\n",
       "\t<tr><th scope=row>profile_background_url</th><td>http://abs.twimg.com/images/themes/theme1/bg.png                                                          </td><td>http://abs.twimg.com/images/themes/theme1/bg.png                                                          </td></tr>\n",
       "\t<tr><th scope=row>profile_image_url</th><td>http://pbs.twimg.com/profile_images/698686225226424321/PAk38nPv_normal.jpg                                </td><td>http://pbs.twimg.com/profile_images/785434282202374146/88pRNNYM_normal.jpg                                </td></tr>\n",
       "\t<tr><th scope=row>bot</th><td>1                                                                                                         </td><td>1                                                                                                         </td></tr>\n",
       "</tbody>\n",
       "</table>\n"
      ],
      "text/latex": [
       "\\begin{tabular}{r|ll}\n",
       "\tuser\\_id & 2311776002                                                                                                 & 472393931                                                                                                 \\\\\n",
       "\tname & Threat Intelligence                                                                                        & Lucy Bailey                                                                                               \\\\\n",
       "\tscreen\\_name & threatintelbot                                                                                               & LucyBailey\\_1989                                                                                           \\\\\n",
       "\tlocation & Nepal                                                                                                      &                                                                                                           \\\\\n",
       "\tdescription & All About malware                                                                                          & Proud team member of @TiddlyLink\n",
       "...If I spent any more time on Twitter they'd probably charge me rent :)\\\\\n",
       "\turl & NA                                                                                                         & https://t.co/2tXLGqIukE                                                                                   \\\\\n",
       "\tprotected & FALSE                                                                                                      & FALSE                                                                                                     \\\\\n",
       "\tfollowers\\_count &  1009                                                                                                      & 29554                                                                                                     \\\\\n",
       "\tfriends\\_count &    28                                                                                                      & 23252                                                                                                     \\\\\n",
       "\tlisted\\_count & 393                                                                                                        & 137                                                                                                       \\\\\n",
       "\tstatuses\\_count & 33590                                                                                                      &  3535                                                                                                     \\\\\n",
       "\tfavourites\\_count &     0                                                                                                      & 32789                                                                                                     \\\\\n",
       "\taccount\\_created\\_at & 2014-01-26 12:27:51                                                                                        & 2012-01-23 22:16:47                                                                                       \\\\\n",
       "\tverified & FALSE                                                                                                      & FALSE                                                                                                     \\\\\n",
       "\tprofile\\_url & NA                                                                                                         & https://t.co/2tXLGqIukE                                                                                   \\\\\n",
       "\tprofile\\_expanded\\_url & NA                                                                                                         & http://tiddly.link/                                                                                       \\\\\n",
       "\taccount\\_lang & en                                                                                                         & en                                                                                                        \\\\\n",
       "\tprofile\\_banner\\_url & https://pbs.twimg.com/profile\\_banners/2311776002/1455414801                                                & https://pbs.twimg.com/profile\\_banners/472393931/1476094558                                                \\\\\n",
       "\tprofile\\_background\\_url & http://abs.twimg.com/images/themes/theme1/bg.png                                                           & http://abs.twimg.com/images/themes/theme1/bg.png                                                          \\\\\n",
       "\tprofile\\_image\\_url & http://pbs.twimg.com/profile\\_images/698686225226424321/PAk38nPv\\_normal.jpg                                 & http://pbs.twimg.com/profile\\_images/785434282202374146/88pRNNYM\\_normal.jpg                                \\\\\n",
       "\tbot & 1                                                                                                          & 1                                                                                                         \\\\\n",
       "\\end{tabular}\n"
      ],
      "text/markdown": [
       "\n",
       "| user_id | 2311776002                                                                                                 | 472393931                                                                                                  | \n",
       "| name | Threat Intelligence                                                                                        | Lucy Bailey                                                                                                | \n",
       "| screen_name | threatintelbot                                                                                             | LucyBailey_1989                                                                                            | \n",
       "| location | Nepal                                                                                                      |                                                                                                            | \n",
       "| description | All About malware                                                                                          | Proud team member of @TiddlyLink\n",
       "...If I spent any more time on Twitter they'd probably charge me rent :) | \n",
       "| url | NA                                                                                                         | https://t.co/2tXLGqIukE                                                                                    | \n",
       "| protected | FALSE                                                                                                      | FALSE                                                                                                      | \n",
       "| followers_count |  1009                                                                                                      | 29554                                                                                                      | \n",
       "| friends_count |    28                                                                                                      | 23252                                                                                                      | \n",
       "| listed_count | 393                                                                                                        | 137                                                                                                        | \n",
       "| statuses_count | 33590                                                                                                      |  3535                                                                                                      | \n",
       "| favourites_count |     0                                                                                                      | 32789                                                                                                      | \n",
       "| account_created_at | 2014-01-26 12:27:51                                                                                        | 2012-01-23 22:16:47                                                                                        | \n",
       "| verified | FALSE                                                                                                      | FALSE                                                                                                      | \n",
       "| profile_url | NA                                                                                                         | https://t.co/2tXLGqIukE                                                                                    | \n",
       "| profile_expanded_url | NA                                                                                                         | http://tiddly.link/                                                                                        | \n",
       "| account_lang | en                                                                                                         | en                                                                                                         | \n",
       "| profile_banner_url | https://pbs.twimg.com/profile_banners/2311776002/1455414801                                                | https://pbs.twimg.com/profile_banners/472393931/1476094558                                                 | \n",
       "| profile_background_url | http://abs.twimg.com/images/themes/theme1/bg.png                                                           | http://abs.twimg.com/images/themes/theme1/bg.png                                                           | \n",
       "| profile_image_url | http://pbs.twimg.com/profile_images/698686225226424321/PAk38nPv_normal.jpg                                 | http://pbs.twimg.com/profile_images/785434282202374146/88pRNNYM_normal.jpg                                 | \n",
       "| bot | 1                                                                                                          | 1                                                                                                          | \n",
       "\n",
       "\n"
      ],
      "text/plain": [
       "                       [,1]                                                                      \n",
       "user_id                2311776002                                                                \n",
       "name                   Threat Intelligence                                                       \n",
       "screen_name            threatintelbot                                                            \n",
       "location               Nepal                                                                     \n",
       "description            All About malware                                                         \n",
       "url                    NA                                                                        \n",
       "protected              FALSE                                                                     \n",
       "followers_count         1009                                                                     \n",
       "friends_count             28                                                                     \n",
       "listed_count           393                                                                       \n",
       "statuses_count         33590                                                                     \n",
       "favourites_count           0                                                                     \n",
       "account_created_at     2014-01-26 12:27:51                                                       \n",
       "verified               FALSE                                                                     \n",
       "profile_url            NA                                                                        \n",
       "profile_expanded_url   NA                                                                        \n",
       "account_lang           en                                                                        \n",
       "profile_banner_url     https://pbs.twimg.com/profile_banners/2311776002/1455414801               \n",
       "profile_background_url http://abs.twimg.com/images/themes/theme1/bg.png                          \n",
       "profile_image_url      http://pbs.twimg.com/profile_images/698686225226424321/PAk38nPv_normal.jpg\n",
       "bot                    1                                                                         \n",
       "                       [,2]                                                                                                      \n",
       "user_id                472393931                                                                                                 \n",
       "name                   Lucy Bailey                                                                                               \n",
       "screen_name            LucyBailey_1989                                                                                           \n",
       "location                                                                                                                         \n",
       "description            Proud team member of @TiddlyLink\\n...If I spent any more time on Twitter they'd probably charge me rent :)\n",
       "url                    https://t.co/2tXLGqIukE                                                                                   \n",
       "protected              FALSE                                                                                                     \n",
       "followers_count        29554                                                                                                     \n",
       "friends_count          23252                                                                                                     \n",
       "listed_count           137                                                                                                       \n",
       "statuses_count          3535                                                                                                     \n",
       "favourites_count       32789                                                                                                     \n",
       "account_created_at     2012-01-23 22:16:47                                                                                       \n",
       "verified               FALSE                                                                                                     \n",
       "profile_url            https://t.co/2tXLGqIukE                                                                                   \n",
       "profile_expanded_url   http://tiddly.link/                                                                                       \n",
       "account_lang           en                                                                                                        \n",
       "profile_banner_url     https://pbs.twimg.com/profile_banners/472393931/1476094558                                                \n",
       "profile_background_url http://abs.twimg.com/images/themes/theme1/bg.png                                                          \n",
       "profile_image_url      http://pbs.twimg.com/profile_images/785434282202374146/88pRNNYM_normal.jpg                                \n",
       "bot                    1                                                                                                         "
      ]
     },
     "metadata": {},
     "output_type": "display_data"
    }
   ],
   "source": [
    "t(head(test, 2))"
   ]
  },
  {
   "cell_type": "markdown",
   "metadata": {},
   "source": [
    "## How many bots and humans are in each dataset?"
   ]
  },
  {
   "cell_type": "code",
   "execution_count": 14,
   "metadata": {},
   "outputs": [
    {
     "data": {
      "text/plain": [
       "train_bot\n",
       "   0    1 \n",
       "1604 1604 "
      ]
     },
     "metadata": {},
     "output_type": "display_data"
    }
   ],
   "source": [
    "## bot == 1, not-bot == 0\n",
    "table(train_bot = train$bot)"
   ]
  },
  {
   "cell_type": "code",
   "execution_count": 22,
   "metadata": {},
   "outputs": [
    {
     "data": {
      "text/plain": [
       "test_bot\n",
       "   0    1 \n",
       "2437  799 "
      ]
     },
     "metadata": {},
     "output_type": "display_data"
    }
   ],
   "source": [
    "## bot == 1, not-bot == 0\n",
    "table(test_bot = test$bot)"
   ]
  },
  {
   "cell_type": "markdown",
   "metadata": {},
   "source": [
    "## Define my helper functions"
   ]
  },
  {
   "cell_type": "code",
   "execution_count": 37,
   "metadata": {
    "collapsed": true
   },
   "outputs": [],
   "source": [
    "# is this a number?\n",
    "is_num <- function(x) { \n",
    "    return(is.numeric(x) | is.integer(x)) \n",
    "}"
   ]
  },
  {
   "cell_type": "code",
   "execution_count": 38,
   "metadata": {},
   "outputs": [
    {
     "name": "stdout",
     "output_type": "stream",
     "text": [
      "[1] TRUE\n",
      "[1] FALSE\n"
     ]
    }
   ],
   "source": [
    "# example output\n",
    "print(is_num(100))\n",
    "print(is_num(\"hello\"))"
   ]
  },
  {
   "cell_type": "code",
   "execution_count": 39,
   "metadata": {
    "collapsed": true
   },
   "outputs": [],
   "source": [
    "# extract features for training\n",
    "\n",
    "extract_features <- function(data) {\n",
    "    \n",
    "    # mutate 6 new features\n",
    "    \n",
    "    data %>%\n",
    "        mutate(\n",
    "            \"bio_chars\" = nchar(description),\n",
    "            \"verified\" = as.integer(verified),\n",
    "            \"years\" = as.integer(difftime(Sys.time(), account_created_at, \"days\")) / 365,\n",
    "            \"tweets_to_followers\" = (statuses_count + 1) / (followers_count + 1),\n",
    "            \"statuses_rate\" = statuses_count / years,\n",
    "            \"ff_ratio\" = (followers_count + 1) / (friends_count + followers_count + 1)\n",
    "        ) %>%\n",
    "        select_if(is_num)\n",
    "}"
   ]
  },
  {
   "cell_type": "code",
   "execution_count": 40,
   "metadata": {},
   "outputs": [
    {
     "data": {
      "text/html": [
       "<table>\n",
       "<thead><tr><th scope=col>followers_count</th><th scope=col>friends_count</th><th scope=col>listed_count</th><th scope=col>statuses_count</th><th scope=col>favourites_count</th><th scope=col>verified</th><th scope=col>bot</th><th scope=col>bio_chars</th><th scope=col>years</th><th scope=col>tweets_to_followers</th><th scope=col>statuses_rate</th><th scope=col>ff_ratio</th></tr></thead>\n",
       "<tbody>\n",
       "\t<tr><td> 656      </td><td>2154      </td><td> 17       </td><td> 2058     </td><td> 2832     </td><td>0         </td><td>1         </td><td>120       </td><td> 7.027397 </td><td>  3.133942</td><td>  292.8538</td><td>0.2337247 </td></tr>\n",
       "\t<tr><td>7351      </td><td>2177      </td><td>520       </td><td>12428     </td><td>  610     </td><td>0         </td><td>1         </td><td>151       </td><td> 9.243836 </td><td>  1.690560</td><td> 1344.4635</td><td>0.7715395 </td></tr>\n",
       "\t<tr><td> 260      </td><td> 462      </td><td> 11       </td><td> 1449     </td><td>  420     </td><td>0         </td><td>1         </td><td>137       </td><td>10.756164 </td><td>  5.555556</td><td>  134.7134</td><td>0.3609959 </td></tr>\n",
       "\t<tr><td> 329      </td><td> 548      </td><td>  1       </td><td>50098     </td><td>46056     </td><td>0         </td><td>1         </td><td>  0       </td><td> 1.287671 </td><td>151.815152</td><td>38905.8936</td><td>0.3758542 </td></tr>\n",
       "\t<tr><td> 617      </td><td>   5      </td><td> 31       </td><td> 5491     </td><td>   30     </td><td>0         </td><td>1         </td><td>160       </td><td> 3.852055 </td><td>  8.886731</td><td> 1425.4730</td><td>0.9919743 </td></tr>\n",
       "\t<tr><td> 236      </td><td> 217      </td><td> 47       </td><td>25066     </td><td>    0     </td><td>0         </td><td>1         </td><td> 88       </td><td> 8.350685 </td><td>105.767932</td><td> 3001.6699</td><td>0.5220264 </td></tr>\n",
       "</tbody>\n",
       "</table>\n"
      ],
      "text/latex": [
       "\\begin{tabular}{r|llllllllllll}\n",
       " followers\\_count & friends\\_count & listed\\_count & statuses\\_count & favourites\\_count & verified & bot & bio\\_chars & years & tweets\\_to\\_followers & statuses\\_rate & ff\\_ratio\\\\\n",
       "\\hline\n",
       "\t  656       & 2154       &  17        &  2058      &  2832      & 0          & 1          & 120        &  7.027397  &   3.133942 &   292.8538 & 0.2337247 \\\\\n",
       "\t 7351       & 2177       & 520        & 12428      &   610      & 0          & 1          & 151        &  9.243836  &   1.690560 &  1344.4635 & 0.7715395 \\\\\n",
       "\t  260       &  462       &  11        &  1449      &   420      & 0          & 1          & 137        & 10.756164  &   5.555556 &   134.7134 & 0.3609959 \\\\\n",
       "\t  329       &  548       &   1        & 50098      & 46056      & 0          & 1          &   0        &  1.287671  & 151.815152 & 38905.8936 & 0.3758542 \\\\\n",
       "\t  617       &    5       &  31        &  5491      &    30      & 0          & 1          & 160        &  3.852055  &   8.886731 &  1425.4730 & 0.9919743 \\\\\n",
       "\t  236       &  217       &  47        & 25066      &     0      & 0          & 1          &  88        &  8.350685  & 105.767932 &  3001.6699 & 0.5220264 \\\\\n",
       "\\end{tabular}\n"
      ],
      "text/markdown": [
       "\n",
       "followers_count | friends_count | listed_count | statuses_count | favourites_count | verified | bot | bio_chars | years | tweets_to_followers | statuses_rate | ff_ratio | \n",
       "|---|---|---|---|---|---|\n",
       "|  656       | 2154       |  17        |  2058      |  2832      | 0          | 1          | 120        |  7.027397  |   3.133942 |   292.8538 | 0.2337247  | \n",
       "| 7351       | 2177       | 520        | 12428      |   610      | 0          | 1          | 151        |  9.243836  |   1.690560 |  1344.4635 | 0.7715395  | \n",
       "|  260       |  462       |  11        |  1449      |   420      | 0          | 1          | 137        | 10.756164  |   5.555556 |   134.7134 | 0.3609959  | \n",
       "|  329       |  548       |   1        | 50098      | 46056      | 0          | 1          |   0        |  1.287671  | 151.815152 | 38905.8936 | 0.3758542  | \n",
       "|  617       |    5       |  31        |  5491      |    30      | 0          | 1          | 160        |  3.852055  |   8.886731 |  1425.4730 | 0.9919743  | \n",
       "|  236       |  217       |  47        | 25066      |     0      | 0          | 1          |  88        |  8.350685  | 105.767932 |  3001.6699 | 0.5220264  | \n",
       "\n",
       "\n"
      ],
      "text/plain": [
       "  followers_count friends_count listed_count statuses_count favourites_count\n",
       "1  656            2154           17           2058           2832           \n",
       "2 7351            2177          520          12428            610           \n",
       "3  260             462           11           1449            420           \n",
       "4  329             548            1          50098          46056           \n",
       "5  617               5           31           5491             30           \n",
       "6  236             217           47          25066              0           \n",
       "  verified bot bio_chars years     tweets_to_followers statuses_rate ff_ratio \n",
       "1 0        1   120        7.027397   3.133942            292.8538    0.2337247\n",
       "2 0        1   151        9.243836   1.690560           1344.4635    0.7715395\n",
       "3 0        1   137       10.756164   5.555556            134.7134    0.3609959\n",
       "4 0        1     0        1.287671 151.815152          38905.8936    0.3758542\n",
       "5 0        1   160        3.852055   8.886731           1425.4730    0.9919743\n",
       "6 0        1    88        8.350685 105.767932           3001.6699    0.5220264"
      ]
     },
     "metadata": {},
     "output_type": "display_data"
    }
   ],
   "source": [
    "# example output\n",
    "extract_features(head(train))"
   ]
  },
  {
   "cell_type": "code",
   "execution_count": 41,
   "metadata": {
    "collapsed": true
   },
   "outputs": [],
   "source": [
    "ftrain <- extract_features(train)\n",
    "ftest <- extract_features(test)"
   ]
  },
  {
   "cell_type": "markdown",
   "metadata": {},
   "source": [
    "## Merge datasets"
   ]
  },
  {
   "cell_type": "code",
   "execution_count": 50,
   "metadata": {},
   "outputs": [
    {
     "data": {
      "text/html": [
       "<table>\n",
       "<thead><tr><th scope=col>bot</th><th scope=col>followers_count</th><th scope=col>friends_count</th><th scope=col>listed_count</th><th scope=col>statuses_count</th><th scope=col>favourites_count</th><th scope=col>verified</th><th scope=col>bio_chars</th><th scope=col>years</th><th scope=col>tweets_to_followers</th><th scope=col>statuses_rate</th><th scope=col>ff_ratio</th></tr></thead>\n",
       "<tbody>\n",
       "\t<tr><td>0        </td><td>1497     </td><td>338      </td><td>24       </td><td>21596    </td><td>6406     </td><td>0        </td><td>67       </td><td>5.605479 </td><td>11.811940</td><td>4906.197 </td><td>0.7878366</td></tr>\n",
       "\t<tr><td>1        </td><td> 857     </td><td>249      </td><td>21       </td><td> 5491    </td><td>  94     </td><td>0        </td><td>97       </td><td>3.994521 </td><td> 8.531579</td><td>1499.801 </td><td>0.6463078</td></tr>\n",
       "</tbody>\n",
       "</table>\n"
      ],
      "text/latex": [
       "\\begin{tabular}{r|llllllllllll}\n",
       " bot & followers\\_count & friends\\_count & listed\\_count & statuses\\_count & favourites\\_count & verified & bio\\_chars & years & tweets\\_to\\_followers & statuses\\_rate & ff\\_ratio\\\\\n",
       "\\hline\n",
       "\t 0         & 1497      & 338       & 24        & 21596     & 6406      & 0         & 67        & 5.605479  & 11.811940 & 4906.197  & 0.7878366\\\\\n",
       "\t 1         &  857      & 249       & 21        &  5491     &   94      & 0         & 97        & 3.994521  &  8.531579 & 1499.801  & 0.6463078\\\\\n",
       "\\end{tabular}\n"
      ],
      "text/markdown": [
       "\n",
       "bot | followers_count | friends_count | listed_count | statuses_count | favourites_count | verified | bio_chars | years | tweets_to_followers | statuses_rate | ff_ratio | \n",
       "|---|---|\n",
       "| 0         | 1497      | 338       | 24        | 21596     | 6406      | 0         | 67        | 5.605479  | 11.811940 | 4906.197  | 0.7878366 | \n",
       "| 1         |  857      | 249       | 21        |  5491     |   94      | 0         | 97        | 3.994521  |  8.531579 | 1499.801  | 0.6463078 | \n",
       "\n",
       "\n"
      ],
      "text/plain": [
       "  bot followers_count friends_count listed_count statuses_count\n",
       "1 0   1497            338           24           21596         \n",
       "2 1    857            249           21            5491         \n",
       "  favourites_count verified bio_chars years    tweets_to_followers\n",
       "1 6406             0        67        5.605479 11.811940          \n",
       "2   94             0        97        3.994521  8.531579          \n",
       "  statuses_rate ff_ratio \n",
       "1 4906.197      0.7878366\n",
       "2 1499.801      0.6463078"
      ]
     },
     "metadata": {},
     "output_type": "display_data"
    }
   ],
   "source": [
    "bind_rows(ftrain, ftest) %>%\n",
    "    group_by(bot) %>%\n",
    "    summarize_if(is_num, median, na.rm = TRUE)\n",
    "\n",
    "# combine the dataset then find the median of all numeric columns grouped by bot or not."
   ]
  },
  {
   "cell_type": "markdown",
   "metadata": {},
   "source": [
    "## Train the model"
   ]
  },
  {
   "cell_type": "code",
   "execution_count": 59,
   "metadata": {},
   "outputs": [],
   "source": [
    "# Generalized Boosted Regression Models\n",
    "\n",
    "n_trees <- 500\n",
    "\n",
    "m1 <- gbm(bot ~ ., \n",
    "             data = ftrain,\n",
    "             n.trees = n_trees,\n",
    "             interaction.depth = 4, \n",
    "             cv.folds = 2,\n",
    "             verbose = FALSE,\n",
    "             distribution = \"bernoulli\",\n",
    "             n.minobsinnode = 10,\n",
    "             shrinkage = 0.025)"
   ]
  },
  {
   "cell_type": "code",
   "execution_count": 62,
   "metadata": {},
   "outputs": [
    {
     "data": {
      "text/html": [
       "<table>\n",
       "<thead><tr><th></th><th scope=col>var</th><th scope=col>rel.inf</th></tr></thead>\n",
       "<tbody>\n",
       "\t<tr><th scope=row>ff_ratio</th><td>ff_ratio           </td><td>32.431327          </td></tr>\n",
       "\t<tr><th scope=row>friends_count</th><td>friends_count      </td><td>25.357232          </td></tr>\n",
       "\t<tr><th scope=row>favourites_count</th><td>favourites_count   </td><td>19.995883          </td></tr>\n",
       "\t<tr><th scope=row>statuses_rate</th><td>statuses_rate      </td><td> 4.885199          </td></tr>\n",
       "\t<tr><th scope=row>listed_count</th><td>listed_count       </td><td> 4.441326          </td></tr>\n",
       "\t<tr><th scope=row>tweets_to_followers</th><td>tweets_to_followers</td><td> 2.651250          </td></tr>\n",
       "\t<tr><th scope=row>followers_count</th><td>followers_count    </td><td> 2.511952          </td></tr>\n",
       "\t<tr><th scope=row>statuses_count</th><td>statuses_count     </td><td> 2.390470          </td></tr>\n",
       "\t<tr><th scope=row>bio_chars</th><td>bio_chars          </td><td> 2.132458          </td></tr>\n",
       "\t<tr><th scope=row>years</th><td>years              </td><td> 1.899008          </td></tr>\n",
       "\t<tr><th scope=row>verified</th><td>verified           </td><td> 1.303893          </td></tr>\n",
       "</tbody>\n",
       "</table>\n"
      ],
      "text/latex": [
       "\\begin{tabular}{r|ll}\n",
       "  & var & rel.inf\\\\\n",
       "\\hline\n",
       "\tff\\_ratio & ff\\_ratio            & 32.431327            \\\\\n",
       "\tfriends\\_count & friends\\_count       & 25.357232            \\\\\n",
       "\tfavourites\\_count & favourites\\_count    & 19.995883            \\\\\n",
       "\tstatuses\\_rate & statuses\\_rate       &  4.885199            \\\\\n",
       "\tlisted\\_count & listed\\_count        &  4.441326            \\\\\n",
       "\ttweets\\_to\\_followers & tweets\\_to\\_followers &  2.651250              \\\\\n",
       "\tfollowers\\_count & followers\\_count     &  2.511952            \\\\\n",
       "\tstatuses\\_count & statuses\\_count      &  2.390470            \\\\\n",
       "\tbio\\_chars & bio\\_chars           &  2.132458            \\\\\n",
       "\tyears & years               &  1.899008          \\\\\n",
       "\tverified & verified            &  1.303893          \\\\\n",
       "\\end{tabular}\n"
      ],
      "text/markdown": [
       "\n",
       "| <!--/--> | var | rel.inf | \n",
       "|---|---|---|---|---|---|---|---|---|---|---|\n",
       "| ff_ratio | ff_ratio            | 32.431327           | \n",
       "| friends_count | friends_count       | 25.357232           | \n",
       "| favourites_count | favourites_count    | 19.995883           | \n",
       "| statuses_rate | statuses_rate       |  4.885199           | \n",
       "| listed_count | listed_count        |  4.441326           | \n",
       "| tweets_to_followers | tweets_to_followers |  2.651250           | \n",
       "| followers_count | followers_count     |  2.511952           | \n",
       "| statuses_count | statuses_count      |  2.390470           | \n",
       "| bio_chars | bio_chars           |  2.132458           | \n",
       "| years | years               |  1.899008           | \n",
       "| verified | verified            |  1.303893           | \n",
       "\n",
       "\n"
      ],
      "text/plain": [
       "                    var                 rel.inf  \n",
       "ff_ratio            ff_ratio            32.431327\n",
       "friends_count       friends_count       25.357232\n",
       "favourites_count    favourites_count    19.995883\n",
       "statuses_rate       statuses_rate        4.885199\n",
       "listed_count        listed_count         4.441326\n",
       "tweets_to_followers tweets_to_followers  2.651250\n",
       "followers_count     followers_count      2.511952\n",
       "statuses_count      statuses_count       2.390470\n",
       "bio_chars           bio_chars            2.132458\n",
       "years               years                1.899008\n",
       "verified            verified             1.303893"
      ]
     },
     "metadata": {},
     "output_type": "display_data"
    },
    {
     "data": {
      "image/png": "[encoded data removed]",
      "text/plain": [
       "plot without title"
      ]
     },
     "metadata": {},
     "output_type": "display_data"
    }
   ],
   "source": [
    "summary(m1, plotit = TRUE)"
   ]
  },
  {
   "cell_type": "markdown",
   "metadata": {},
   "source": [
    "## Test the model against the training data"
   ]
  },
  {
   "cell_type": "code",
   "execution_count": 66,
   "metadata": {},
   "outputs": [
    {
     "data": {
      "text/html": [
       "<ol class=list-inline>\n",
       "\t<li>0.931424115363133</li>\n",
       "\t<li>0.592476096384862</li>\n",
       "\t<li>0.867183178566363</li>\n",
       "\t<li>0.883722100806472</li>\n",
       "\t<li>0.982916274283393</li>\n",
       "\t<li>0.956277721047682</li>\n",
       "\t<li>0.979556216572078</li>\n",
       "\t<li>0.781524333368465</li>\n",
       "\t<li>0.108509453309067</li>\n",
       "\t<li>0.989458252025533</li>\n",
       "</ol>\n"
      ],
      "text/latex": [
       "\\begin{enumerate*}\n",
       "\\item 0.931424115363133\n",
       "\\item 0.592476096384862\n",
       "\\item 0.867183178566363\n",
       "\\item 0.883722100806472\n",
       "\\item 0.982916274283393\n",
       "\\item 0.956277721047682\n",
       "\\item 0.979556216572078\n",
       "\\item 0.781524333368465\n",
       "\\item 0.108509453309067\n",
       "\\item 0.989458252025533\n",
       "\\end{enumerate*}\n"
      ],
      "text/markdown": [
       "1. 0.931424115363133\n",
       "2. 0.592476096384862\n",
       "3. 0.867183178566363\n",
       "4. 0.883722100806472\n",
       "5. 0.982916274283393\n",
       "6. 0.956277721047682\n",
       "7. 0.979556216572078\n",
       "8. 0.781524333368465\n",
       "9. 0.108509453309067\n",
       "10. 0.989458252025533\n",
       "\n",
       "\n"
      ],
      "text/plain": [
       " [1] 0.9314241 0.5924761 0.8671832 0.8837221 0.9829163 0.9562777 0.9795562\n",
       " [8] 0.7815243 0.1085095 0.9894583"
      ]
     },
     "metadata": {},
     "output_type": "display_data"
    }
   ],
   "source": [
    "ftrain$pred <- predict(m1, n.trees = n_trees, type = \"response\")\n",
    "\n",
    "ftrain$pred[0:10]"
   ]
  },
  {
   "cell_type": "code",
   "execution_count": 138,
   "metadata": {},
   "outputs": [],
   "source": [
    "percent_correct <- function(x) {\n",
    "    \n",
    "    # create a 2x2 table of PredictBot and BOT. \n",
    "    # CORRECT is defined as pred > 0.5\n",
    "    x <- table(PredictBot = x$pred > 0.5, bot = x$bot)\n",
    "    print(x)\n",
    "    \n",
    "    print(\"------------------------\")\n",
    "    \n",
    "    pc <- round((x[2, 2]) / sum(x[, 2]), 3)\n",
    "    print(paste(\"PREDICT BOT & BOT: \", x[2, 2]))\n",
    "    print(paste(\"Sum of BOTS: \", sum(x[, 2])))\n",
    "    print(paste(\"Percent Correct:\", pc * 100))\n",
    "    pc <- as.character(pc * 100)\n",
    "    print(paste(\"The model was\", pc, \"% accurate when classifying twitter bots.\"))\n",
    "    \n",
    "    print(\"------------------------\")\n",
    "    \n",
    "    pc <- round((x[1, 1]) / sum(x[, 1]), 3)\n",
    "    print(paste(\"PREDICT NON-BOT & NON-BOT:\", x[1, 1]))\n",
    "    print(paste(\"Sum of NON-BOTS:\", sum(x[, 1])))\n",
    "    print(paste(\"Percent Correct:\", pc * 100))    \n",
    "    pc <- as.character(pc * 100)\n",
    "    print(paste(\"The model was\", pc, \"% accurate when clasifying non-bots.\"))\n",
    "    \n",
    "    print(\"------------------------\")\n",
    "    \n",
    "    pc <- round((x[1, 1] + x[2, 2]) / sum(c(x[, 1], x[, 2])), 3)\n",
    "    print(paste(\"Accurate Predictions:\", (x[1, 1] + x[2, 2])))\n",
    "    print(paste(\"All Accounts:\", sum(c(x[, 1], x[, 2]))))\n",
    "    pc <- as.character(pc * 100)\n",
    "    print(paste(\"Overall, the model was correct\", pc, \"% of the time.\"))\n",
    "}"
   ]
  },
  {
   "cell_type": "code",
   "execution_count": 139,
   "metadata": {},
   "outputs": [
    {
     "name": "stdout",
     "output_type": "stream",
     "text": [
      "          bot\n",
      "PredictBot    0    1\n",
      "     FALSE 1488  168\n",
      "     TRUE   116 1436\n",
      "[1] \"------------------------\"\n",
      "[1] \"PREDICT BOT & BOT:  1436\"\n",
      "[1] \"Sum of BOTS:  1604\"\n",
      "[1] \"Percent Correct: 89.5\"\n",
      "[1] \"The model was 89.5 % accurate when classifying twitter bots.\"\n",
      "[1] \"------------------------\"\n",
      "[1] \"PREDICT NON-BOT & NON-BOT: 1488\"\n",
      "[1] \"Sum of NON-BOTS: 1604\"\n",
      "[1] \"Percent Correct: 92.8\"\n",
      "[1] \"The model was 92.8 % accurate when clasifying non-bots.\"\n",
      "[1] \"------------------------\"\n",
      "[1] \"Accurate Predictions: 2924\"\n",
      "[1] \"All Accounts: 3208\"\n",
      "[1] \"Overall, the model was correct 91.1 % of the time.\"\n"
     ]
    }
   ],
   "source": [
    "percent_correct(ftrain)"
   ]
  },
  {
   "cell_type": "markdown",
   "metadata": {},
   "source": [
    "## Test against our testing dataset"
   ]
  },
  {
   "cell_type": "code",
   "execution_count": 140,
   "metadata": {
    "collapsed": true
   },
   "outputs": [],
   "source": [
    "ftest$pred <- predict(m1, newdata = ftest, n.trees = n_trees, type = \"response\")"
   ]
  },
  {
   "cell_type": "code",
   "execution_count": 142,
   "metadata": {},
   "outputs": [
    {
     "name": "stdout",
     "output_type": "stream",
     "text": [
      "          bot\n",
      "PredictBot    0    1\n",
      "     FALSE 2169  102\n",
      "     TRUE   268  697\n",
      "[1] \"------------------------\"\n",
      "[1] \"PREDICT BOT & BOT:  697\"\n",
      "[1] \"Sum of BOTS:  799\"\n",
      "[1] \"Percent Correct: 87.2\"\n",
      "[1] \"The model was 87.2 % accurate when classifying twitter bots.\"\n",
      "[1] \"------------------------\"\n",
      "[1] \"PREDICT NON-BOT & NON-BOT: 2169\"\n",
      "[1] \"Sum of NON-BOTS: 2437\"\n",
      "[1] \"Percent Correct: 89\"\n",
      "[1] \"The model was 89 % accurate when clasifying non-bots.\"\n",
      "[1] \"------------------------\"\n",
      "[1] \"Accurate Predictions: 2866\"\n",
      "[1] \"All Accounts: 3236\"\n",
      "[1] \"Overall, the model was correct 88.6 % of the time.\"\n"
     ]
    }
   ],
   "source": [
    "percent_correct(ftest)"
   ]
  },
  {
   "cell_type": "markdown",
   "metadata": {},
   "source": [
    "# Not too shabby"
   ]
  }
 ],
 "metadata": {
  "kernelspec": {
   "display_name": "R",
   "language": "R",
   "name": "ir"
  },
  "language_info": {
   "codemirror_mode": "r",
   "file_extension": ".r",
   "mimetype": "text/x-r-source",
   "name": "R",
   "pygments_lexer": "r",
   "version": "3.4.1"
  }
 },
 "nbformat": 4,
 "nbformat_minor": 2
}
