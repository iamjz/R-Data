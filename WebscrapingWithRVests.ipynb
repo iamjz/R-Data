{
 "cells": [
  {
   "cell_type": "markdown",
   "metadata": {},
   "source": [
    "# Webscraping"
   ]
  },
  {
   "cell_type": "code",
   "execution_count": 2,
   "metadata": {},
   "outputs": [
    {
     "name": "stderr",
     "output_type": "stream",
     "text": [
      "Warning message:\n",
      "\"package 'tidyverse' was built under R version 3.4.3\"Warning message:\n",
      "\"package 'tibble' was built under R version 3.4.3\"Warning message:\n",
      "\"package 'tidyr' was built under R version 3.4.3\"Warning message:\n",
      "\"package 'purrr' was built under R version 3.4.3\"Warning message:\n",
      "\"package 'dplyr' was built under R version 3.4.2\""
     ]
    }
   ],
   "source": [
    "## quietly load rvest and tidyverse\n",
    "suppressPackageStartupMessages(library(rvest))\n",
    "suppressPackageStartupMessages(library(tidyverse))\n",
    "\n",
    "## read in wikipedia page.\n",
    "pop <- read_html(\"https://en.wikipedia.org/wiki/List_of_countries_by_population_(United_Nations)\")"
   ]
  },
  {
   "cell_type": "code",
   "execution_count": 3,
   "metadata": {},
   "outputs": [
    {
     "data": {
      "text/html": [
       "<ol class=list-inline>\n",
       "\t<li>'node'</li>\n",
       "\t<li>'doc'</li>\n",
       "</ol>\n"
      ],
      "text/latex": [
       "\\begin{enumerate*}\n",
       "\\item 'node'\n",
       "\\item 'doc'\n",
       "\\end{enumerate*}\n"
      ],
      "text/markdown": [
       "1. 'node'\n",
       "2. 'doc'\n",
       "\n",
       "\n"
      ],
      "text/plain": [
       "[1] \"node\" \"doc\" "
      ]
     },
     "metadata": {},
     "output_type": "display_data"
    }
   ],
   "source": [
    "names(pop)"
   ]
  },
  {
   "cell_type": "code",
   "execution_count": 4,
   "metadata": {},
   "outputs": [
    {
     "data": {
      "text/html": [
       "<ol class=list-inline>\n",
       "\t<li>'Contents'</li>\n",
       "\t<li>'List[edit]'</li>\n",
       "\t<li>'See also[edit]'</li>\n",
       "\t<li>'Notes[edit]'</li>\n",
       "\t<li>'References[edit]'</li>\n",
       "\t<li>'External links[edit]'</li>\n",
       "\t<li>'Navigation menu'</li>\n",
       "</ol>\n"
      ],
      "text/latex": [
       "\\begin{enumerate*}\n",
       "\\item 'Contents'\n",
       "\\item 'List{[}edit{]}'\n",
       "\\item 'See also{[}edit{]}'\n",
       "\\item 'Notes{[}edit{]}'\n",
       "\\item 'References{[}edit{]}'\n",
       "\\item 'External links{[}edit{]}'\n",
       "\\item 'Navigation menu'\n",
       "\\end{enumerate*}\n"
      ],
      "text/markdown": [
       "1. 'Contents'\n",
       "2. 'List[edit]'\n",
       "3. 'See also[edit]'\n",
       "4. 'Notes[edit]'\n",
       "5. 'References[edit]'\n",
       "6. 'External links[edit]'\n",
       "7. 'Navigation menu'\n",
       "\n",
       "\n"
      ],
      "text/plain": [
       "[1] \"Contents\"             \"List[edit]\"           \"See also[edit]\"      \n",
       "[4] \"Notes[edit]\"          \"References[edit]\"     \"External links[edit]\"\n",
       "[7] \"Navigation menu\"     "
      ]
     },
     "metadata": {},
     "output_type": "display_data"
    }
   ],
   "source": [
    "## extract heading 2 text\n",
    "pop %>% \n",
    "  html_nodes(\"h2\") %>% \n",
    "  html_text(trim = TRUE)"
   ]
  },
  {
   "cell_type": "code",
   "execution_count": 5,
   "metadata": {
    "collapsed": true
   },
   "outputs": [],
   "source": [
    "## table\n",
    "poptabs <- html_table(pop)"
   ]
  },
  {
   "cell_type": "code",
   "execution_count": 9,
   "metadata": {},
   "outputs": [
    {
     "data": {
      "text/html": [
       "<ol>\n",
       "\t<li><table>\n",
       "<thead><tr><th scope=col>X1</th><th scope=col>X2</th></tr></thead>\n",
       "<tbody>\n",
       "\t<tr><td>NA                                                                                                                                             </td><td>It has been suggested that this article be merged into List of countries and dependencies by population. (Discuss) Proposed since January 2018.</td></tr>\n",
       "</tbody>\n",
       "</table>\n",
       "</li>\n",
       "\t<li><table>\n",
       "<thead><tr><th scope=col>X1</th></tr></thead>\n",
       "<tbody>\n",
       "\t<tr><td>Statistical regions as defined by the United Nations Statistics Division.[1]Antarctica is omitted.</td></tr>\n",
       "</tbody>\n",
       "</table>\n",
       "</li>\n",
       "</ol>\n"
      ],
      "text/latex": [
       "\\begin{enumerate}\n",
       "\\item \\begin{tabular}{r|ll}\n",
       " X1 & X2\\\\\n",
       "\\hline\n",
       "\t NA                                                                                                                                              & It has been suggested that this article be merged into List of countries and dependencies by population. (Discuss) Proposed since January 2018.\\\\\n",
       "\\end{tabular}\n",
       "\n",
       "\\item \\begin{tabular}{r|l}\n",
       " X1\\\\\n",
       "\\hline\n",
       "\t Statistical regions as defined by the United Nations Statistics Division.{[}1{]}Antarctica is omitted.\\\\\n",
       "\\end{tabular}\n",
       "\n",
       "\\end{enumerate}\n"
      ],
      "text/markdown": [
       "1. \n",
       "X1 | X2 | \n",
       "|---|\n",
       "| NA                                                                                                                                              | It has been suggested that this article be merged into List of countries and dependencies by population. (Discuss) Proposed since January 2018. | \n",
       "\n",
       "\n",
       "\n",
       "2. \n",
       "X1 | \n",
       "|---|\n",
       "| Statistical regions as defined by the United Nations Statistics Division.[1]Antarctica is omitted. | \n",
       "\n",
       "\n",
       "\n",
       "\n",
       "\n"
      ],
      "text/plain": [
       "[[1]]\n",
       "  X1\n",
       "1 NA\n",
       "                                                                                                                                               X2\n",
       "1 It has been suggested that this article be merged into List of countries and dependencies by population. (Discuss) Proposed since January 2018.\n",
       "\n",
       "[[2]]\n",
       "                                                                                                  X1\n",
       "1 Statistical regions as defined by the United Nations Statistics Division.[1]Antarctica is omitted.\n"
      ]
     },
     "metadata": {},
     "output_type": "display_data"
    }
   ],
   "source": [
    "poptabs[1:2]"
   ]
  },
  {
   "cell_type": "code",
   "execution_count": 10,
   "metadata": {},
   "outputs": [
    {
     "data": {
      "text/html": [
       "<ol>\n",
       "\t<li><table>\n",
       "<thead><tr><th scope=col>X1</th><th scope=col>X2</th></tr></thead>\n",
       "<tbody>\n",
       "\t<tr><td>NA                                                                                                                                             </td><td>It has been suggested that this article be merged into List of countries and dependencies by population. (Discuss) Proposed since January 2018.</td></tr>\n",
       "</tbody>\n",
       "</table>\n",
       "</li>\n",
       "\t<li><table>\n",
       "<thead><tr><th scope=col>X1</th></tr></thead>\n",
       "<tbody>\n",
       "\t<tr><td>Statistical regions as defined by the United Nations Statistics Division.[1]Antarctica is omitted.</td></tr>\n",
       "</tbody>\n",
       "</table>\n",
       "</li>\n",
       "\t<li><table>\n",
       "<thead><tr><th scope=col>Rank</th><th scope=col>Country or area</th><th scope=col>UN continental\n",
       "region[1]</th><th scope=col>UN statistical\n",
       "region[1]</th><th scope=col>Population\n",
       "(1 July 2016)[2]</th><th scope=col>Population\n",
       "(1 July 2017)[2]</th><th scope=col>Change</th></tr></thead>\n",
       "<tbody>\n",
       "\t<tr><td>—                                                         </td><td><span style=white-space:pre-wrap>World        </span>     </td><td><span style=white-space:pre-wrap>—       </span>          </td><td><span style=white-space:pre-wrap>—                 </span></td><td>7,466,964,280                                             </td><td>7,550,262,101                                             </td><td>7000111555135228260&lt;U+2660&gt;+1.1%                    </td></tr>\n",
       "\t<tr><td>1                                                         </td><td><span style=white-space:pre-wrap>China[a]     </span>     </td><td><span style=white-space:pre-wrap>Asia    </span>          </td><td><span style=white-space:pre-wrap>Eastern Asia      </span></td><td>1,403,500,365                                             </td><td>1,409,517,397                                             </td><td>6999428716097982630&lt;U+2660&gt;+0.4%                    </td></tr>\n",
       "\t<tr><td>2                                                         </td><td><span style=white-space:pre-wrap>India        </span>     </td><td><span style=white-space:pre-wrap>Asia    </span>          </td><td><span style=white-space:pre-wrap>Southern Asia     </span></td><td>1,324,171,354                                             </td><td>1,339,180,127                                             </td><td>7000113344643460699&lt;U+2660&gt;+1.1%                    </td></tr>\n",
       "\t<tr><td>3                                                         </td><td>United States                                             </td><td>Americas                                                  </td><td><span style=white-space:pre-wrap>Northern America  </span></td><td><span style=white-space:pre-wrap>322,179,605  </span>     </td><td><span style=white-space:pre-wrap>324,459,463  </span>     </td><td>6999707635730076710&lt;U+2660&gt;+0.7%                    </td></tr>\n",
       "\t<tr><td>4                                                    </td><td><span style=white-space:pre-wrap>Indonesia    </span></td><td><span style=white-space:pre-wrap>Asia    </span>     </td><td>South-Eastern Asia                                   </td><td><span style=white-space:pre-wrap>261,115,456  </span></td><td><span style=white-space:pre-wrap>263,991,379  </span></td><td>7000110139899186970&lt;U+2660&gt;+1.1%               </td></tr>\n",
       "\t<tr><td>5                                                         </td><td><span style=white-space:pre-wrap>Brazil       </span>     </td><td>Americas                                                  </td><td><span style=white-space:pre-wrap>South America     </span></td><td><span style=white-space:pre-wrap>207,652,865  </span>     </td><td><span style=white-space:pre-wrap>209,288,278  </span>     </td><td>6999787570641031120&lt;U+2660&gt;+0.8%                    </td></tr>\n",
       "</tbody>\n",
       "</table>\n",
       "</li>\n",
       "\t<li><table>\n",
       "<thead><tr><th scope=col>v\n",
       "t\n",
       "e\n",
       "\n",
       "Lists of countries by population statistics</th><th scope=col>v\n",
       "t\n",
       "e\n",
       "\n",
       "Lists of countries by population statistics</th></tr></thead>\n",
       "<tbody>\n",
       "\t<tr><td>World population                                                                                                                                          </td><td>Current population\n",
       "Current population (United Nations)                                                                                                   </td></tr>\n",
       "\t<tr><td>Continental                                                                                                                                               </td><td>Africa\n",
       "Americas\n",
       "Asia\n",
       "Europe\n",
       "Oceania                                                                                                                   </td></tr>\n",
       "\t<tr><td>Regional                                                                                                                                                  </td><td>Arab world\n",
       "Caribbean\n",
       "Commonwealth of Nations\n",
       "Eurasia\n",
       "European Union\n",
       "Islands\n",
       "Latin America\n",
       "North America\n",
       "Middle East\n",
       "South America                </td></tr>\n",
       "\t<tr><td>Cities                                                                                                                                                    </td><td>National capitals\n",
       "Cities proper\n",
       "Metropolitan areas\n",
       "Urban areas\n",
       "Megacities\n",
       "Megalopolises                                                              </td></tr>\n",
       "\t<tr><td>Past and future\n",
       "population                                                                                                                               </td><td>Past population (United Nations)\n",
       "Past and future population\n",
       "1\n",
       "1000\n",
       "1500\n",
       "1600\n",
       "1700\n",
       "1800\n",
       "1900\n",
       "1907\n",
       "1939\n",
       "1989\n",
       "2000\n",
       "2005\n",
       "2010\n",
       "Future population</td></tr>\n",
       "\t<tr><td>Population density                                                                                                                                        </td><td>Current density\n",
       "Current real density based on food growing capacity                                                                                      </td></tr>\n",
       "</tbody>\n",
       "</table>\n",
       "</li>\n",
       "</ol>\n"
      ],
      "text/latex": [
       "\\begin{enumerate}\n",
       "\\item \\begin{tabular}{r|ll}\n",
       " X1 & X2\\\\\n",
       "\\hline\n",
       "\t NA                                                                                                                                              & It has been suggested that this article be merged into List of countries and dependencies by population. (Discuss) Proposed since January 2018.\\\\\n",
       "\\end{tabular}\n",
       "\n",
       "\\item \\begin{tabular}{r|l}\n",
       " X1\\\\\n",
       "\\hline\n",
       "\t Statistical regions as defined by the United Nations Statistics Division.{[}1{]}Antarctica is omitted.\\\\\n",
       "\\end{tabular}\n",
       "\n",
       "\\item \\begin{tabular}{r|lllllll}\n",
       " Rank & Country or area & UN continental\n",
       "region{[}1{]} & UN statistical\n",
       "region{[}1{]} & Population\n",
       "(1 July 2016){[}2{]} & Population\n",
       "(1 July 2017){[}2{]} & Change\\\\\n",
       "\\hline\n",
       "\t —                                  & World                              & —                                  & —                                  & 7,466,964,280                      & 7,550,262,101                      & 7000111555135228260<U+2660>+1.1\\%\\\\\n",
       "\t 1                                  & China{[}a{]}                       & Asia                               & Eastern Asia                       & 1,403,500,365                      & 1,409,517,397                      & 6999428716097982630<U+2660>+0.4\\%\\\\\n",
       "\t 2                                  & India                              & Asia                               & Southern Asia                      & 1,324,171,354                      & 1,339,180,127                      & 7000113344643460699<U+2660>+1.1\\%\\\\\n",
       "\t 3                                  & United States                      & Americas                           & Northern America                   & 322,179,605                        & 324,459,463                        & 6999707635730076710<U+2660>+0.7\\%\\\\\n",
       "\t 4                                  & Indonesia                          & Asia                               & South-Eastern Asia                 & 261,115,456                        & 263,991,379                        & 7000110139899186970<U+2660>+1.1\\%\\\\\n",
       "\t 5                                  & Brazil                             & Americas                           & South America                      & 207,652,865                        & 209,288,278                        & 6999787570641031120<U+2660>+0.8\\%\\\\\n",
       "\\end{tabular}\n",
       "\n",
       "\\item \\begin{tabular}{r|ll}\n",
       " v\n",
       "t\n",
       "e\n",
       "\n",
       "Lists of countries by population statistics & v\n",
       "t\n",
       "e\n",
       "\n",
       "Lists of countries by population statistics\\\\\n",
       "\\hline\n",
       "\t World population                                                                                                                                           & Current population\n",
       "Current population (United Nations)                                                                                                   \\\\\n",
       "\t Continental                                                                                                                                                & Africa\n",
       "Americas\n",
       "Asia\n",
       "Europe\n",
       "Oceania                                                                                                                   \\\\\n",
       "\t Regional                                                                                                                                                   & Arab world\n",
       "Caribbean\n",
       "Commonwealth of Nations\n",
       "Eurasia\n",
       "European Union\n",
       "Islands\n",
       "Latin America\n",
       "North America\n",
       "Middle East\n",
       "South America                \\\\\n",
       "\t Cities                                                                                                                                                     & National capitals\n",
       "Cities proper\n",
       "Metropolitan areas\n",
       "Urban areas\n",
       "Megacities\n",
       "Megalopolises                                                              \\\\\n",
       "\t Past and future\n",
       "population                                                                                                                                & Past population (United Nations)\n",
       "Past and future population\n",
       "1\n",
       "1000\n",
       "1500\n",
       "1600\n",
       "1700\n",
       "1800\n",
       "1900\n",
       "1907\n",
       "1939\n",
       "1989\n",
       "2000\n",
       "2005\n",
       "2010\n",
       "Future population\\\\\n",
       "\t Population density                                                                                                                                         & Current density\n",
       "Current real density based on food growing capacity                                                                                      \\\\\n",
       "\\end{tabular}\n",
       "\n",
       "\\end{enumerate}\n"
      ],
      "text/markdown": [
       "1. \n",
       "X1 | X2 | \n",
       "|---|\n",
       "| NA                                                                                                                                              | It has been suggested that this article be merged into List of countries and dependencies by population. (Discuss) Proposed since January 2018. | \n",
       "\n",
       "\n",
       "\n",
       "2. \n",
       "X1 | \n",
       "|---|\n",
       "| Statistical regions as defined by the United Nations Statistics Division.[1]Antarctica is omitted. | \n",
       "\n",
       "\n",
       "\n",
       "3. \n",
       "Rank | Country or area | UN continental\n",
       "region[1] | UN statistical\n",
       "region[1] | Population\n",
       "(1 July 2016)[2] | Population\n",
       "(1 July 2017)[2] | Change | \n",
       "|---|---|---|---|---|---|\n",
       "| —                                | World                            | —                                | —                                | 7,466,964,280                    | 7,550,262,101                    | 7000111555135228260<U+2660>+1.1% | \n",
       "| 1                                | China[a]                         | Asia                             | Eastern Asia                     | 1,403,500,365                    | 1,409,517,397                    | 6999428716097982630<U+2660>+0.4% | \n",
       "| 2                                | India                            | Asia                             | Southern Asia                    | 1,324,171,354                    | 1,339,180,127                    | 7000113344643460699<U+2660>+1.1% | \n",
       "| 3                                | United States                    | Americas                         | Northern America                 | 322,179,605                      | 324,459,463                      | 6999707635730076710<U+2660>+0.7% | \n",
       "| 4                                | Indonesia                        | Asia                             | South-Eastern Asia               | 261,115,456                      | 263,991,379                      | 7000110139899186970<U+2660>+1.1% | \n",
       "| 5                                | Brazil                           | Americas                         | South America                    | 207,652,865                      | 209,288,278                      | 6999787570641031120<U+2660>+0.8% | \n",
       "\n",
       "\n",
       "\n",
       "4. \n",
       "v\n",
       "t\n",
       "e\n",
       "\n",
       "Lists of countries by population statistics | v\n",
       "t\n",
       "e\n",
       "\n",
       "Lists of countries by population statistics | \n",
       "|---|---|---|---|---|---|\n",
       "| World population                                                                                                                                           | Current population\n",
       "Current population (United Nations)                                                                                                    | \n",
       "| Continental                                                                                                                                                | Africa\n",
       "Americas\n",
       "Asia\n",
       "Europe\n",
       "Oceania                                                                                                                    | \n",
       "| Regional                                                                                                                                                   | Arab world\n",
       "Caribbean\n",
       "Commonwealth of Nations\n",
       "Eurasia\n",
       "European Union\n",
       "Islands\n",
       "Latin America\n",
       "North America\n",
       "Middle East\n",
       "South America                 | \n",
       "| Cities                                                                                                                                                     | National capitals\n",
       "Cities proper\n",
       "Metropolitan areas\n",
       "Urban areas\n",
       "Megacities\n",
       "Megalopolises                                                               | \n",
       "| Past and future\n",
       "population                                                                                                                                | Past population (United Nations)\n",
       "Past and future population\n",
       "1\n",
       "1000\n",
       "1500\n",
       "1600\n",
       "1700\n",
       "1800\n",
       "1900\n",
       "1907\n",
       "1939\n",
       "1989\n",
       "2000\n",
       "2005\n",
       "2010\n",
       "Future population | \n",
       "| Population density                                                                                                                                         | Current density\n",
       "Current real density based on food growing capacity                                                                                       | \n",
       "\n",
       "\n",
       "\n",
       "\n",
       "\n"
      ],
      "text/plain": [
       "[[1]]\n",
       "  X1\n",
       "1 NA\n",
       "                                                                                                                                               X2\n",
       "1 It has been suggested that this article be merged into List of countries and dependencies by population. (Discuss) Proposed since January 2018.\n",
       "\n",
       "[[2]]\n",
       "                                                                                                  X1\n",
       "1 Statistical regions as defined by the United Nations Statistics Division.[1]Antarctica is omitted.\n",
       "\n",
       "[[3]]\n",
       "  Rank Country or area UN continental\\nregion[1] UN statistical\\nregion[1]\n",
       "1               World                                                  \n",
       "2    1        China[a]                      Asia              Eastern Asia\n",
       "3    2           India                      Asia             Southern Asia\n",
       "4    3   United States                  Americas          Northern America\n",
       "5    4       Indonesia                      Asia        South-Eastern Asia\n",
       "6    5          Brazil                  Americas             South America\n",
       "  Population\\n(1 July 2016)[2] Population\\n(1 July 2017)[2]\n",
       "1                7,466,964,280                7,550,262,101\n",
       "2                1,403,500,365                1,409,517,397\n",
       "3                1,324,171,354                1,339,180,127\n",
       "4                  322,179,605                  324,459,463\n",
       "5                  261,115,456                  263,991,379\n",
       "6                  207,652,865                  209,288,278\n",
       "                            Change\n",
       "1 7000111555135228260<U+2660>+1.1%\n",
       "2 6999428716097982630<U+2660>+0.4%\n",
       "3 7000113344643460699<U+2660>+1.1%\n",
       "4 6999707635730076710<U+2660>+0.7%\n",
       "5 7000110139899186970<U+2660>+1.1%\n",
       "6 6999787570641031120<U+2660>+0.8%\n",
       "\n",
       "[[4]]\n",
       "  v\\nt\\ne\\n\\nLists of countries by population statistics\n",
       "1                                       World population\n",
       "2                                            Continental\n",
       "3                                               Regional\n",
       "4                                                 Cities\n",
       "5                            Past and future\\npopulation\n",
       "6                                     Population density\n",
       "                                                                                                      v\\nt\\ne\\n\\nLists of countries by population statistics\n",
       "1                                                                                                    Current population\\nCurrent population (United Nations)\n",
       "2                                                                                                                    Africa\\nAmericas\\nAsia\\nEurope\\nOceania\n",
       "3                 Arab world\\nCaribbean\\nCommonwealth of Nations\\nEurasia\\nEuropean Union\\nIslands\\nLatin America\\nNorth America\\nMiddle East\\nSouth America\n",
       "4                                                               National capitals\\nCities proper\\nMetropolitan areas\\nUrban areas\\nMegacities\\nMegalopolises\n",
       "5 Past population (United Nations)\\nPast and future population\\n1\\n1000\\n1500\\n1600\\n1700\\n1800\\n1900\\n1907\\n1939\\n1989\\n2000\\n2005\\n2010\\nFuture population\n",
       "6                                                                                       Current density\\nCurrent real density based on food growing capacity\n"
      ]
     },
     "metadata": {},
     "output_type": "display_data"
    }
   ],
   "source": [
    "## preview poptabs tables\n",
    "lapply(poptabs, head)"
   ]
  },
  {
   "cell_type": "code",
   "execution_count": 11,
   "metadata": {
    "collapsed": true
   },
   "outputs": [],
   "source": [
    "## select countries/populations\n",
    "poptab <- poptabs[[3]]"
   ]
  },
  {
   "cell_type": "code",
   "execution_count": 12,
   "metadata": {},
   "outputs": [
    {
     "data": {
      "text/html": [
       "<table>\n",
       "<thead><tr><th scope=col>Rank</th><th scope=col>Country or area</th><th scope=col>UN continental\n",
       "region[1]</th><th scope=col>UN statistical\n",
       "region[1]</th><th scope=col>Population\n",
       "(1 July 2016)[2]</th><th scope=col>Population\n",
       "(1 July 2017)[2]</th><th scope=col>Change</th></tr></thead>\n",
       "<tbody>\n",
       "\t<tr><td>—                                                         </td><td><span style=white-space:pre-wrap>World        </span>     </td><td><span style=white-space:pre-wrap>—       </span>          </td><td><span style=white-space:pre-wrap>—                 </span></td><td>7,466,964,280                                             </td><td>7,550,262,101                                             </td><td>7000111555135228260&lt;U+2660&gt;+1.1%                    </td></tr>\n",
       "\t<tr><td>1                                                         </td><td><span style=white-space:pre-wrap>China[a]     </span>     </td><td><span style=white-space:pre-wrap>Asia    </span>          </td><td><span style=white-space:pre-wrap>Eastern Asia      </span></td><td>1,403,500,365                                             </td><td>1,409,517,397                                             </td><td>6999428716097982630&lt;U+2660&gt;+0.4%                    </td></tr>\n",
       "\t<tr><td>2                                                         </td><td><span style=white-space:pre-wrap>India        </span>     </td><td><span style=white-space:pre-wrap>Asia    </span>          </td><td><span style=white-space:pre-wrap>Southern Asia     </span></td><td>1,324,171,354                                             </td><td>1,339,180,127                                             </td><td>7000113344643460699&lt;U+2660&gt;+1.1%                    </td></tr>\n",
       "\t<tr><td>3                                                         </td><td>United States                                             </td><td>Americas                                                  </td><td><span style=white-space:pre-wrap>Northern America  </span></td><td><span style=white-space:pre-wrap>322,179,605  </span>     </td><td><span style=white-space:pre-wrap>324,459,463  </span>     </td><td>6999707635730076710&lt;U+2660&gt;+0.7%                    </td></tr>\n",
       "\t<tr><td>4                                                    </td><td><span style=white-space:pre-wrap>Indonesia    </span></td><td><span style=white-space:pre-wrap>Asia    </span>     </td><td>South-Eastern Asia                                   </td><td><span style=white-space:pre-wrap>261,115,456  </span></td><td><span style=white-space:pre-wrap>263,991,379  </span></td><td>7000110139899186970&lt;U+2660&gt;+1.1%               </td></tr>\n",
       "\t<tr><td>5                                                         </td><td><span style=white-space:pre-wrap>Brazil       </span>     </td><td>Americas                                                  </td><td><span style=white-space:pre-wrap>South America     </span></td><td><span style=white-space:pre-wrap>207,652,865  </span>     </td><td><span style=white-space:pre-wrap>209,288,278  </span>     </td><td>6999787570641031120&lt;U+2660&gt;+0.8%                    </td></tr>\n",
       "</tbody>\n",
       "</table>\n"
      ],
      "text/latex": [
       "\\begin{tabular}{r|lllllll}\n",
       " Rank & Country or area & UN continental\n",
       "region{[}1{]} & UN statistical\n",
       "region{[}1{]} & Population\n",
       "(1 July 2016){[}2{]} & Population\n",
       "(1 July 2017){[}2{]} & Change\\\\\n",
       "\\hline\n",
       "\t —                                  & World                              & —                                  & —                                  & 7,466,964,280                      & 7,550,262,101                      & 7000111555135228260<U+2660>+1.1\\%\\\\\n",
       "\t 1                                  & China{[}a{]}                       & Asia                               & Eastern Asia                       & 1,403,500,365                      & 1,409,517,397                      & 6999428716097982630<U+2660>+0.4\\%\\\\\n",
       "\t 2                                  & India                              & Asia                               & Southern Asia                      & 1,324,171,354                      & 1,339,180,127                      & 7000113344643460699<U+2660>+1.1\\%\\\\\n",
       "\t 3                                  & United States                      & Americas                           & Northern America                   & 322,179,605                        & 324,459,463                        & 6999707635730076710<U+2660>+0.7\\%\\\\\n",
       "\t 4                                  & Indonesia                          & Asia                               & South-Eastern Asia                 & 261,115,456                        & 263,991,379                        & 7000110139899186970<U+2660>+1.1\\%\\\\\n",
       "\t 5                                  & Brazil                             & Americas                           & South America                      & 207,652,865                        & 209,288,278                        & 6999787570641031120<U+2660>+0.8\\%\\\\\n",
       "\\end{tabular}\n"
      ],
      "text/markdown": [
       "\n",
       "Rank | Country or area | UN continental\n",
       "region[1] | UN statistical\n",
       "region[1] | Population\n",
       "(1 July 2016)[2] | Population\n",
       "(1 July 2017)[2] | Change | \n",
       "|---|---|---|---|---|---|\n",
       "| —                                | World                            | —                                | —                                | 7,466,964,280                    | 7,550,262,101                    | 7000111555135228260<U+2660>+1.1% | \n",
       "| 1                                | China[a]                         | Asia                             | Eastern Asia                     | 1,403,500,365                    | 1,409,517,397                    | 6999428716097982630<U+2660>+0.4% | \n",
       "| 2                                | India                            | Asia                             | Southern Asia                    | 1,324,171,354                    | 1,339,180,127                    | 7000113344643460699<U+2660>+1.1% | \n",
       "| 3                                | United States                    | Americas                         | Northern America                 | 322,179,605                      | 324,459,463                      | 6999707635730076710<U+2660>+0.7% | \n",
       "| 4                                | Indonesia                        | Asia                             | South-Eastern Asia               | 261,115,456                      | 263,991,379                      | 7000110139899186970<U+2660>+1.1% | \n",
       "| 5                                | Brazil                           | Americas                         | South America                    | 207,652,865                      | 209,288,278                      | 6999787570641031120<U+2660>+0.8% | \n",
       "\n",
       "\n"
      ],
      "text/plain": [
       "  Rank Country or area UN continental\\nregion[1] UN statistical\\nregion[1]\n",
       "1     World                                                            \n",
       "2 1    China[a]        Asia                      Eastern Asia             \n",
       "3 2    India           Asia                      Southern Asia            \n",
       "4 3    United States   Americas                  Northern America         \n",
       "5 4    Indonesia       Asia                      South-Eastern Asia       \n",
       "6 5    Brazil          Americas                  South America            \n",
       "  Population\\n(1 July 2016)[2] Population\\n(1 July 2017)[2]\n",
       "1 7,466,964,280                7,550,262,101               \n",
       "2 1,403,500,365                1,409,517,397               \n",
       "3 1,324,171,354                1,339,180,127               \n",
       "4 322,179,605                  324,459,463                 \n",
       "5 261,115,456                  263,991,379                 \n",
       "6 207,652,865                  209,288,278                 \n",
       "  Change                          \n",
       "1 7000111555135228260<U+2660>+1.1%\n",
       "2 6999428716097982630<U+2660>+0.4%\n",
       "3 7000113344643460699<U+2660>+1.1%\n",
       "4 6999707635730076710<U+2660>+0.7%\n",
       "5 7000110139899186970<U+2660>+1.1%\n",
       "6 6999787570641031120<U+2660>+0.8%"
      ]
     },
     "metadata": {},
     "output_type": "display_data"
    }
   ],
   "source": [
    "head(poptab)"
   ]
  },
  {
   "cell_type": "code",
   "execution_count": 13,
   "metadata": {
    "collapsed": true
   },
   "outputs": [],
   "source": [
    "names(poptab) <- c(\n",
    "    \"rank\", \"country\", \"continental_region\", \"statistical_region\", \"population_2016\",\n",
    "    \"population_2017\", \"change\"\n",
    ")"
   ]
  },
  {
   "cell_type": "code",
   "execution_count": 14,
   "metadata": {
    "collapsed": true
   },
   "outputs": [],
   "source": [
    "## replace dashes\n",
    "poptab[, 1:ncol(poptab)] <- lapply(poptab, stringr::str_replace_all, \"−|\\u2212\", \"-\")"
   ]
  },
  {
   "cell_type": "code",
   "execution_count": 15,
   "metadata": {},
   "outputs": [
    {
     "data": {
      "text/html": [
       "<table>\n",
       "<thead><tr><th scope=col>rank</th><th scope=col>country</th><th scope=col>continental_region</th><th scope=col>statistical_region</th><th scope=col>population_2016</th><th scope=col>population_2017</th><th scope=col>change</th></tr></thead>\n",
       "<tbody>\n",
       "\t<tr><td>—                                                         </td><td><span style=white-space:pre-wrap>World        </span>     </td><td><span style=white-space:pre-wrap>—       </span>          </td><td><span style=white-space:pre-wrap>—                 </span></td><td>7,466,964,280                                             </td><td>7,550,262,101                                             </td><td>7000111555135228260&lt;U+2660&gt;+1.1%                    </td></tr>\n",
       "\t<tr><td>1                                                         </td><td><span style=white-space:pre-wrap>China[a]     </span>     </td><td><span style=white-space:pre-wrap>Asia    </span>          </td><td><span style=white-space:pre-wrap>Eastern Asia      </span></td><td>1,403,500,365                                             </td><td>1,409,517,397                                             </td><td>6999428716097982630&lt;U+2660&gt;+0.4%                    </td></tr>\n",
       "\t<tr><td>2                                                         </td><td><span style=white-space:pre-wrap>India        </span>     </td><td><span style=white-space:pre-wrap>Asia    </span>          </td><td><span style=white-space:pre-wrap>Southern Asia     </span></td><td>1,324,171,354                                             </td><td>1,339,180,127                                             </td><td>7000113344643460699&lt;U+2660&gt;+1.1%                    </td></tr>\n",
       "\t<tr><td>3                                                         </td><td>United States                                             </td><td>Americas                                                  </td><td><span style=white-space:pre-wrap>Northern America  </span></td><td><span style=white-space:pre-wrap>322,179,605  </span>     </td><td><span style=white-space:pre-wrap>324,459,463  </span>     </td><td>6999707635730076710&lt;U+2660&gt;+0.7%                    </td></tr>\n",
       "\t<tr><td>4                                                    </td><td><span style=white-space:pre-wrap>Indonesia    </span></td><td><span style=white-space:pre-wrap>Asia    </span>     </td><td>South-Eastern Asia                                   </td><td><span style=white-space:pre-wrap>261,115,456  </span></td><td><span style=white-space:pre-wrap>263,991,379  </span></td><td>7000110139899186970&lt;U+2660&gt;+1.1%               </td></tr>\n",
       "\t<tr><td>5                                                         </td><td><span style=white-space:pre-wrap>Brazil       </span>     </td><td>Americas                                                  </td><td><span style=white-space:pre-wrap>South America     </span></td><td><span style=white-space:pre-wrap>207,652,865  </span>     </td><td><span style=white-space:pre-wrap>209,288,278  </span>     </td><td>6999787570641031120&lt;U+2660&gt;+0.8%                    </td></tr>\n",
       "</tbody>\n",
       "</table>\n"
      ],
      "text/latex": [
       "\\begin{tabular}{r|lllllll}\n",
       " rank & country & continental\\_region & statistical\\_region & population\\_2016 & population\\_2017 & change\\\\\n",
       "\\hline\n",
       "\t —                                  & World                              & —                                  & —                                  & 7,466,964,280                      & 7,550,262,101                      & 7000111555135228260<U+2660>+1.1\\%\\\\\n",
       "\t 1                                  & China{[}a{]}                       & Asia                               & Eastern Asia                       & 1,403,500,365                      & 1,409,517,397                      & 6999428716097982630<U+2660>+0.4\\%\\\\\n",
       "\t 2                                  & India                              & Asia                               & Southern Asia                      & 1,324,171,354                      & 1,339,180,127                      & 7000113344643460699<U+2660>+1.1\\%\\\\\n",
       "\t 3                                  & United States                      & Americas                           & Northern America                   & 322,179,605                        & 324,459,463                        & 6999707635730076710<U+2660>+0.7\\%\\\\\n",
       "\t 4                                  & Indonesia                          & Asia                               & South-Eastern Asia                 & 261,115,456                        & 263,991,379                        & 7000110139899186970<U+2660>+1.1\\%\\\\\n",
       "\t 5                                  & Brazil                             & Americas                           & South America                      & 207,652,865                        & 209,288,278                        & 6999787570641031120<U+2660>+0.8\\%\\\\\n",
       "\\end{tabular}\n"
      ],
      "text/markdown": [
       "\n",
       "rank | country | continental_region | statistical_region | population_2016 | population_2017 | change | \n",
       "|---|---|---|---|---|---|\n",
       "| —                                | World                            | —                                | —                                | 7,466,964,280                    | 7,550,262,101                    | 7000111555135228260<U+2660>+1.1% | \n",
       "| 1                                | China[a]                         | Asia                             | Eastern Asia                     | 1,403,500,365                    | 1,409,517,397                    | 6999428716097982630<U+2660>+0.4% | \n",
       "| 2                                | India                            | Asia                             | Southern Asia                    | 1,324,171,354                    | 1,339,180,127                    | 7000113344643460699<U+2660>+1.1% | \n",
       "| 3                                | United States                    | Americas                         | Northern America                 | 322,179,605                      | 324,459,463                      | 6999707635730076710<U+2660>+0.7% | \n",
       "| 4                                | Indonesia                        | Asia                             | South-Eastern Asia               | 261,115,456                      | 263,991,379                      | 7000110139899186970<U+2660>+1.1% | \n",
       "| 5                                | Brazil                           | Americas                         | South America                    | 207,652,865                      | 209,288,278                      | 6999787570641031120<U+2660>+0.8% | \n",
       "\n",
       "\n"
      ],
      "text/plain": [
       "  rank country       continental_region statistical_region population_2016\n",
       "1     World                                             7,466,964,280  \n",
       "2 1    China[a]      Asia               Eastern Asia       1,403,500,365  \n",
       "3 2    India         Asia               Southern Asia      1,324,171,354  \n",
       "4 3    United States Americas           Northern America   322,179,605    \n",
       "5 4    Indonesia     Asia               South-Eastern Asia 261,115,456    \n",
       "6 5    Brazil        Americas           South America      207,652,865    \n",
       "  population_2017 change                          \n",
       "1 7,550,262,101   7000111555135228260<U+2660>+1.1%\n",
       "2 1,409,517,397   6999428716097982630<U+2660>+0.4%\n",
       "3 1,339,180,127   7000113344643460699<U+2660>+1.1%\n",
       "4 324,459,463     6999707635730076710<U+2660>+0.7%\n",
       "5 263,991,379     7000110139899186970<U+2660>+1.1%\n",
       "6 209,288,278     6999787570641031120<U+2660>+0.8%"
      ]
     },
     "metadata": {},
     "output_type": "display_data"
    }
   ],
   "source": [
    "head(poptab)"
   ]
  },
  {
   "cell_type": "code",
   "execution_count": 16,
   "metadata": {},
   "outputs": [
    {
     "data": {
      "text/html": [
       "<ol class=list-inline>\n",
       "\t<li>'+1.1'</li>\n",
       "\t<li>'+0.4'</li>\n",
       "\t<li>'+1.1'</li>\n",
       "\t<li>'+0.7'</li>\n",
       "\t<li>'+1.1'</li>\n",
       "\t<li>'+0.8'</li>\n",
       "</ol>\n"
      ],
      "text/latex": [
       "\\begin{enumerate*}\n",
       "\\item '+1.1'\n",
       "\\item '+0.4'\n",
       "\\item '+1.1'\n",
       "\\item '+0.7'\n",
       "\\item '+1.1'\n",
       "\\item '+0.8'\n",
       "\\end{enumerate*}\n"
      ],
      "text/markdown": [
       "1. '+1.1'\n",
       "2. '+0.4'\n",
       "3. '+1.1'\n",
       "4. '+0.7'\n",
       "5. '+1.1'\n",
       "6. '+0.8'\n",
       "\n",
       "\n"
      ],
      "text/plain": [
       "[1] \"+1.1\" \"+0.4\" \"+1.1\" \"+0.7\" \"+1.1\" \"+0.8\""
      ]
     },
     "metadata": {},
     "output_type": "display_data"
    }
   ],
   "source": [
    "## extract the percentage value in change\n",
    "poptab$change_pct <- stringr::str_extract(poptab$change, \"(?<=\\\\D).*(?=%)\")\n",
    "head(poptab$change_pct)"
   ]
  },
  {
   "cell_type": "code",
   "execution_count": 17,
   "metadata": {},
   "outputs": [
    {
     "data": {
      "text/html": [
       "<ol class=list-inline>\n",
       "\t<li>'7000111555135228260'</li>\n",
       "\t<li>'6999428716097982630'</li>\n",
       "\t<li>'7000113344643460699'</li>\n",
       "\t<li>'6999707635730076710'</li>\n",
       "\t<li>'7000110139899186970'</li>\n",
       "\t<li>'6999787570641031120'</li>\n",
       "</ol>\n"
      ],
      "text/latex": [
       "\\begin{enumerate*}\n",
       "\\item '7000111555135228260'\n",
       "\\item '6999428716097982630'\n",
       "\\item '7000113344643460699'\n",
       "\\item '6999707635730076710'\n",
       "\\item '7000110139899186970'\n",
       "\\item '6999787570641031120'\n",
       "\\end{enumerate*}\n"
      ],
      "text/markdown": [
       "1. '7000111555135228260'\n",
       "2. '6999428716097982630'\n",
       "3. '7000113344643460699'\n",
       "4. '6999707635730076710'\n",
       "5. '7000110139899186970'\n",
       "6. '6999787570641031120'\n",
       "\n",
       "\n"
      ],
      "text/plain": [
       "[1] \"7000111555135228260\" \"6999428716097982630\" \"7000113344643460699\"\n",
       "[4] \"6999707635730076710\" \"7000110139899186970\" \"6999787570641031120\""
      ]
     },
     "metadata": {},
     "output_type": "display_data"
    }
   ],
   "source": [
    "## extract the total change number\n",
    "poptab$change <- stringr::str_extract(poptab$change, \"\\\\-?\\\\d+\")\n",
    "head(poptab$change)"
   ]
  },
  {
   "cell_type": "code",
   "execution_count": 18,
   "metadata": {
    "collapsed": true
   },
   "outputs": [],
   "source": [
    "## identify the column(s) that should probably be considered integer or numeric\n",
    "nums <- c(\"rank\", \"population_2016\", \"population_2017\", \"change\", \"change_pct\")"
   ]
  },
  {
   "cell_type": "code",
   "execution_count": 19,
   "metadata": {
    "collapsed": true
   },
   "outputs": [],
   "source": [
    "## remove everything that's not a number, minus sign, or decimal and convert to numeric\n",
    "poptab[nums] <- lapply(poptab[nums], function(x)\n",
    "  as.numeric(stringr::str_replace_all(x, \"[^[:digit:]\\\\-\\\\.]\", \"\")))"
   ]
  },
  {
   "cell_type": "code",
   "execution_count": 20,
   "metadata": {},
   "outputs": [
    {
     "data": {
      "text/html": [
       "<table>\n",
       "<thead><tr><th scope=col>rank</th><th scope=col>country</th><th scope=col>continental_region</th><th scope=col>statistical_region</th><th scope=col>population_2016</th><th scope=col>population_2017</th><th scope=col>change</th><th scope=col>change_pct</th></tr></thead>\n",
       "<tbody>\n",
       "\t<tr><td>NA                </td><td>World             </td><td>—                 </td><td>—                 </td><td>7466964280        </td><td>7550262101        </td><td>7.000112e+18      </td><td>1.1               </td></tr>\n",
       "\t<tr><td> 1                </td><td>China[a]          </td><td>Asia              </td><td>Eastern Asia      </td><td>1403500365        </td><td>1409517397        </td><td>6.999429e+18      </td><td>0.4               </td></tr>\n",
       "\t<tr><td> 2                </td><td>India             </td><td>Asia              </td><td>Southern Asia     </td><td>1324171354        </td><td>1339180127        </td><td>7.000113e+18      </td><td>1.1               </td></tr>\n",
       "\t<tr><td> 3                </td><td>United States     </td><td>Americas          </td><td>Northern America  </td><td> 322179605        </td><td> 324459463        </td><td>6.999708e+18      </td><td>0.7               </td></tr>\n",
       "\t<tr><td> 4                </td><td>Indonesia         </td><td>Asia              </td><td>South-Eastern Asia</td><td> 261115456        </td><td> 263991379        </td><td>7.000110e+18      </td><td>1.1               </td></tr>\n",
       "\t<tr><td> 5                </td><td>Brazil            </td><td>Americas          </td><td>South America     </td><td> 207652865        </td><td> 209288278        </td><td>6.999788e+18      </td><td>0.8               </td></tr>\n",
       "</tbody>\n",
       "</table>\n"
      ],
      "text/latex": [
       "\\begin{tabular}{r|llllllll}\n",
       " rank & country & continental\\_region & statistical\\_region & population\\_2016 & population\\_2017 & change & change\\_pct\\\\\n",
       "\\hline\n",
       "\t NA                 & World              & —                  & —                  & 7466964280         & 7550262101         & 7.000112e+18       & 1.1               \\\\\n",
       "\t  1                 & China{[}a{]}       & Asia               & Eastern Asia       & 1403500365         & 1409517397         & 6.999429e+18       & 0.4               \\\\\n",
       "\t  2                 & India              & Asia               & Southern Asia      & 1324171354         & 1339180127         & 7.000113e+18       & 1.1               \\\\\n",
       "\t  3                 & United States      & Americas           & Northern America   &  322179605         &  324459463         & 6.999708e+18       & 0.7               \\\\\n",
       "\t  4                 & Indonesia          & Asia               & South-Eastern Asia &  261115456         &  263991379         & 7.000110e+18       & 1.1               \\\\\n",
       "\t  5                 & Brazil             & Americas           & South America      &  207652865         &  209288278         & 6.999788e+18       & 0.8               \\\\\n",
       "\\end{tabular}\n"
      ],
      "text/markdown": [
       "\n",
       "rank | country | continental_region | statistical_region | population_2016 | population_2017 | change | change_pct | \n",
       "|---|---|---|---|---|---|\n",
       "| NA                 | World              | —                  | —                  | 7466964280         | 7550262101         | 7.000112e+18       | 1.1                | \n",
       "|  1                 | China[a]           | Asia               | Eastern Asia       | 1403500365         | 1409517397         | 6.999429e+18       | 0.4                | \n",
       "|  2                 | India              | Asia               | Southern Asia      | 1324171354         | 1339180127         | 7.000113e+18       | 1.1                | \n",
       "|  3                 | United States      | Americas           | Northern America   |  322179605         |  324459463         | 6.999708e+18       | 0.7                | \n",
       "|  4                 | Indonesia          | Asia               | South-Eastern Asia |  261115456         |  263991379         | 7.000110e+18       | 1.1                | \n",
       "|  5                 | Brazil             | Americas           | South America      |  207652865         |  209288278         | 6.999788e+18       | 0.8                | \n",
       "\n",
       "\n"
      ],
      "text/plain": [
       "  rank country       continental_region statistical_region population_2016\n",
       "1 NA   World                                             7466964280     \n",
       "2  1   China[a]      Asia               Eastern Asia       1403500365     \n",
       "3  2   India         Asia               Southern Asia      1324171354     \n",
       "4  3   United States Americas           Northern America    322179605     \n",
       "5  4   Indonesia     Asia               South-Eastern Asia  261115456     \n",
       "6  5   Brazil        Americas           South America       207652865     \n",
       "  population_2017 change       change_pct\n",
       "1 7550262101      7.000112e+18 1.1       \n",
       "2 1409517397      6.999429e+18 0.4       \n",
       "3 1339180127      7.000113e+18 1.1       \n",
       "4  324459463      6.999708e+18 0.7       \n",
       "5  263991379      7.000110e+18 1.1       \n",
       "6  209288278      6.999788e+18 0.8       "
      ]
     },
     "metadata": {},
     "output_type": "display_data"
    }
   ],
   "source": [
    "head(poptab)"
   ]
  },
  {
   "cell_type": "code",
   "execution_count": 21,
   "metadata": {},
   "outputs": [
    {
     "data": {
      "text/html": [
       "<table>\n",
       "<thead><tr><th scope=col>rank</th><th scope=col>country</th><th scope=col>continental_region</th><th scope=col>statistical_region</th><th scope=col>population_2016</th><th scope=col>population_2017</th><th scope=col>change</th><th scope=col>change_pct</th></tr></thead>\n",
       "<tbody>\n",
       "\t<tr><td>NA                </td><td>World             </td><td>—                 </td><td>—                 </td><td>7466964280        </td><td>7550262101        </td><td>7.000112e+18      </td><td>1.1               </td></tr>\n",
       "\t<tr><td> 1                </td><td>China[a]          </td><td>Asia              </td><td>Eastern Asia      </td><td>1403500365        </td><td>1409517397        </td><td>6.999429e+18      </td><td>0.4               </td></tr>\n",
       "\t<tr><td> 2                </td><td>India             </td><td>Asia              </td><td>Southern Asia     </td><td>1324171354        </td><td>1339180127        </td><td>7.000113e+18      </td><td>1.1               </td></tr>\n",
       "\t<tr><td> 3                </td><td>United States     </td><td>Americas          </td><td>Northern America  </td><td> 322179605        </td><td> 324459463        </td><td>6.999708e+18      </td><td>0.7               </td></tr>\n",
       "\t<tr><td> 4                </td><td>Indonesia         </td><td>Asia              </td><td>South-Eastern Asia</td><td> 261115456        </td><td> 263991379        </td><td>7.000110e+18      </td><td>1.1               </td></tr>\n",
       "\t<tr><td> 5                </td><td>Brazil            </td><td>Americas          </td><td>South America     </td><td> 207652865        </td><td> 209288278        </td><td>6.999788e+18      </td><td>0.8               </td></tr>\n",
       "\t<tr><td> 6                </td><td>Pakistan          </td><td>Asia              </td><td>Southern Asia     </td><td> 193203476        </td><td> 197015955        </td><td>7.000197e+18      </td><td>2.0               </td></tr>\n",
       "\t<tr><td> 7                </td><td>Nigeria           </td><td>Africa            </td><td>Western Africa    </td><td> 185989640        </td><td> 190886311        </td><td>7.000263e+18      </td><td>2.6               </td></tr>\n",
       "\t<tr><td> 8                </td><td>Bangladesh        </td><td>Asia              </td><td>Southern Asia     </td><td> 162951560        </td><td> 164669751        </td><td>7.000105e+18      </td><td>1.1               </td></tr>\n",
       "\t<tr><td> 9                </td><td>Russia            </td><td>Europe            </td><td>Eastern Europe    </td><td> 143964513        </td><td> 143989754        </td><td>5.000000e+18      </td><td>0.0               </td></tr>\n",
       "</tbody>\n",
       "</table>\n"
      ],
      "text/latex": [
       "\\begin{tabular}{r|llllllll}\n",
       " rank & country & continental\\_region & statistical\\_region & population\\_2016 & population\\_2017 & change & change\\_pct\\\\\n",
       "\\hline\n",
       "\t NA                 & World              & —                  & —                  & 7466964280         & 7550262101         & 7.000112e+18       & 1.1               \\\\\n",
       "\t  1                 & China{[}a{]}       & Asia               & Eastern Asia       & 1403500365         & 1409517397         & 6.999429e+18       & 0.4               \\\\\n",
       "\t  2                 & India              & Asia               & Southern Asia      & 1324171354         & 1339180127         & 7.000113e+18       & 1.1               \\\\\n",
       "\t  3                 & United States      & Americas           & Northern America   &  322179605         &  324459463         & 6.999708e+18       & 0.7               \\\\\n",
       "\t  4                 & Indonesia          & Asia               & South-Eastern Asia &  261115456         &  263991379         & 7.000110e+18       & 1.1               \\\\\n",
       "\t  5                 & Brazil             & Americas           & South America      &  207652865         &  209288278         & 6.999788e+18       & 0.8               \\\\\n",
       "\t  6                 & Pakistan           & Asia               & Southern Asia      &  193203476         &  197015955         & 7.000197e+18       & 2.0               \\\\\n",
       "\t  7                 & Nigeria            & Africa             & Western Africa     &  185989640         &  190886311         & 7.000263e+18       & 2.6               \\\\\n",
       "\t  8                 & Bangladesh         & Asia               & Southern Asia      &  162951560         &  164669751         & 7.000105e+18       & 1.1               \\\\\n",
       "\t  9                 & Russia             & Europe             & Eastern Europe     &  143964513         &  143989754         & 5.000000e+18       & 0.0               \\\\\n",
       "\\end{tabular}\n"
      ],
      "text/markdown": [
       "\n",
       "rank | country | continental_region | statistical_region | population_2016 | population_2017 | change | change_pct | \n",
       "|---|---|---|---|---|---|---|---|---|---|\n",
       "| NA                 | World              | —                  | —                  | 7466964280         | 7550262101         | 7.000112e+18       | 1.1                | \n",
       "|  1                 | China[a]           | Asia               | Eastern Asia       | 1403500365         | 1409517397         | 6.999429e+18       | 0.4                | \n",
       "|  2                 | India              | Asia               | Southern Asia      | 1324171354         | 1339180127         | 7.000113e+18       | 1.1                | \n",
       "|  3                 | United States      | Americas           | Northern America   |  322179605         |  324459463         | 6.999708e+18       | 0.7                | \n",
       "|  4                 | Indonesia          | Asia               | South-Eastern Asia |  261115456         |  263991379         | 7.000110e+18       | 1.1                | \n",
       "|  5                 | Brazil             | Americas           | South America      |  207652865         |  209288278         | 6.999788e+18       | 0.8                | \n",
       "|  6                 | Pakistan           | Asia               | Southern Asia      |  193203476         |  197015955         | 7.000197e+18       | 2.0                | \n",
       "|  7                 | Nigeria            | Africa             | Western Africa     |  185989640         |  190886311         | 7.000263e+18       | 2.6                | \n",
       "|  8                 | Bangladesh         | Asia               | Southern Asia      |  162951560         |  164669751         | 7.000105e+18       | 1.1                | \n",
       "|  9                 | Russia             | Europe             | Eastern Europe     |  143964513         |  143989754         | 5.000000e+18       | 0.0                | \n",
       "\n",
       "\n"
      ],
      "text/plain": [
       "   rank country       continental_region statistical_region population_2016\n",
       "1  NA   World                                             7466964280     \n",
       "2   1   China[a]      Asia               Eastern Asia       1403500365     \n",
       "3   2   India         Asia               Southern Asia      1324171354     \n",
       "4   3   United States Americas           Northern America    322179605     \n",
       "5   4   Indonesia     Asia               South-Eastern Asia  261115456     \n",
       "6   5   Brazil        Americas           South America       207652865     \n",
       "7   6   Pakistan      Asia               Southern Asia       193203476     \n",
       "8   7   Nigeria       Africa             Western Africa      185989640     \n",
       "9   8   Bangladesh    Asia               Southern Asia       162951560     \n",
       "10  9   Russia        Europe             Eastern Europe      143964513     \n",
       "   population_2017 change       change_pct\n",
       "1  7550262101      7.000112e+18 1.1       \n",
       "2  1409517397      6.999429e+18 0.4       \n",
       "3  1339180127      7.000113e+18 1.1       \n",
       "4   324459463      6.999708e+18 0.7       \n",
       "5   263991379      7.000110e+18 1.1       \n",
       "6   209288278      6.999788e+18 0.8       \n",
       "7   197015955      7.000197e+18 2.0       \n",
       "8   190886311      7.000263e+18 2.6       \n",
       "9   164669751      7.000105e+18 1.1       \n",
       "10  143989754      5.000000e+18 0.0       "
      ]
     },
     "metadata": {},
     "output_type": "display_data"
    }
   ],
   "source": [
    "## set rank var as integer\n",
    "poptab$rank <- as.integer(poptab$rank)\n",
    "\n",
    "## preview data\n",
    "head(poptab, 10)"
   ]
  },
  {
   "cell_type": "code",
   "execution_count": 22,
   "metadata": {},
   "outputs": [
    {
     "data": {
      "text/html": [
       "<table>\n",
       "<thead><tr><th scope=col>rank</th><th scope=col>country</th><th scope=col>continental_region</th><th scope=col>statistical_region</th><th scope=col>population_2016</th><th scope=col>population_2017</th><th scope=col>change</th><th scope=col>change_pct</th></tr></thead>\n",
       "<tbody>\n",
       "\t<tr><td>127              </td><td>Oman             </td><td>Asia             </td><td>Western Asia     </td><td> 4424762         </td><td> 4636262         </td><td>7.000478e+18     </td><td>4.8              </td></tr>\n",
       "\t<tr><td>152              </td><td>Bahrain          </td><td>Asia             </td><td>Western Asia     </td><td> 1425171         </td><td> 1492584         </td><td>7.000473e+18     </td><td>4.7              </td></tr>\n",
       "\t<tr><td> 57              </td><td>Niger            </td><td>Africa           </td><td>Western Africa   </td><td>20672987         </td><td>21477348         </td><td>7.000389e+18     </td><td>3.9              </td></tr>\n",
       "\t<tr><td>157              </td><td>Equatorial Guinea</td><td>Africa           </td><td>Middle Africa    </td><td> 1221490         </td><td> 1267689         </td><td>7.000378e+18     </td><td>3.8              </td></tr>\n",
       "\t<tr><td> 46              </td><td>Angola           </td><td>Africa           </td><td>Middle Africa    </td><td>28813463         </td><td>29784193         </td><td>7.000337e+18     </td><td>3.4              </td></tr>\n",
       "</tbody>\n",
       "</table>\n"
      ],
      "text/latex": [
       "\\begin{tabular}{r|llllllll}\n",
       " rank & country & continental\\_region & statistical\\_region & population\\_2016 & population\\_2017 & change & change\\_pct\\\\\n",
       "\\hline\n",
       "\t 127               & Oman              & Asia              & Western Asia      &  4424762          &  4636262          & 7.000478e+18      & 4.8              \\\\\n",
       "\t 152               & Bahrain           & Asia              & Western Asia      &  1425171          &  1492584          & 7.000473e+18      & 4.7              \\\\\n",
       "\t  57               & Niger             & Africa            & Western Africa    & 20672987          & 21477348          & 7.000389e+18      & 3.9              \\\\\n",
       "\t 157               & Equatorial Guinea & Africa            & Middle Africa     &  1221490          &  1267689          & 7.000378e+18      & 3.8              \\\\\n",
       "\t  46               & Angola            & Africa            & Middle Africa     & 28813463          & 29784193          & 7.000337e+18      & 3.4              \\\\\n",
       "\\end{tabular}\n"
      ],
      "text/markdown": [
       "\n",
       "rank | country | continental_region | statistical_region | population_2016 | population_2017 | change | change_pct | \n",
       "|---|---|---|---|---|\n",
       "| 127               | Oman              | Asia              | Western Asia      |  4424762          |  4636262          | 7.000478e+18      | 4.8               | \n",
       "| 152               | Bahrain           | Asia              | Western Asia      |  1425171          |  1492584          | 7.000473e+18      | 4.7               | \n",
       "|  57               | Niger             | Africa            | Western Africa    | 20672987          | 21477348          | 7.000389e+18      | 3.9               | \n",
       "| 157               | Equatorial Guinea | Africa            | Middle Africa     |  1221490          |  1267689          | 7.000378e+18      | 3.8               | \n",
       "|  46               | Angola            | Africa            | Middle Africa     | 28813463          | 29784193          | 7.000337e+18      | 3.4               | \n",
       "\n",
       "\n"
      ],
      "text/plain": [
       "  rank country           continental_region statistical_region population_2016\n",
       "1 127  Oman              Asia               Western Asia        4424762       \n",
       "2 152  Bahrain           Asia               Western Asia        1425171       \n",
       "3  57  Niger             Africa             Western Africa     20672987       \n",
       "4 157  Equatorial Guinea Africa             Middle Africa       1221490       \n",
       "5  46  Angola            Africa             Middle Africa      28813463       \n",
       "  population_2017 change       change_pct\n",
       "1  4636262        7.000478e+18 4.8       \n",
       "2  1492584        7.000473e+18 4.7       \n",
       "3 21477348        7.000389e+18 3.9       \n",
       "4  1267689        7.000378e+18 3.8       \n",
       "5 29784193        7.000337e+18 3.4       "
      ]
     },
     "metadata": {},
     "output_type": "display_data"
    }
   ],
   "source": [
    "head(arrange(poptab, -change_pct), 5)"
   ]
  },
  {
   "cell_type": "code",
   "execution_count": 23,
   "metadata": {},
   "outputs": [
    {
     "data": {
      "text/html": [
       "<table>\n",
       "<thead><tr><th scope=col>statistical_region</th><th scope=col>change_pct</th></tr></thead>\n",
       "<tbody>\n",
       "\t<tr><td>Middle Africa            </td><td> 2.7444444               </td></tr>\n",
       "\t<tr><td>Western Africa           </td><td> 2.5000000               </td></tr>\n",
       "\t<tr><td>Eastern Africa           </td><td> 2.3600000               </td></tr>\n",
       "\t<tr><td>Western Asia             </td><td> 1.9411765               </td></tr>\n",
       "\t<tr><td>Northern Africa          </td><td> 1.7714286               </td></tr>\n",
       "\t<tr><td>Melanesia                </td><td> 1.6800000               </td></tr>\n",
       "\t<tr><td>Southern Africa          </td><td> 1.6800000               </td></tr>\n",
       "\t<tr><td>Central Asia             </td><td> 1.6000000               </td></tr>\n",
       "\t<tr><td>Central America          </td><td> 1.4125000               </td></tr>\n",
       "\t<tr><td>Southern Asia            </td><td> 1.3888889               </td></tr>\n",
       "\t<tr><td>South-Eastern Asia       </td><td> 1.2909091               </td></tr>\n",
       "\t<tr><td>Australia and New Zealand</td><td> 1.1500000               </td></tr>\n",
       "\t<tr><td>—                        </td><td> 1.1000000               </td></tr>\n",
       "\t<tr><td>South America            </td><td> 1.0428571               </td></tr>\n",
       "\t<tr><td>Europe                   </td><td> 0.8000000               </td></tr>\n",
       "\t<tr><td>Caribbean                </td><td> 0.6923077               </td></tr>\n",
       "\t<tr><td>Eastern Asia             </td><td> 0.6875000               </td></tr>\n",
       "\t<tr><td>Micronesia               </td><td> 0.6714286               </td></tr>\n",
       "\t<tr><td>Western Europe           </td><td> 0.5777778               </td></tr>\n",
       "\t<tr><td>Polynesia                </td><td> 0.3777778               </td></tr>\n",
       "\t<tr><td>Northern Europe          </td><td> 0.3384615               </td></tr>\n",
       "\t<tr><td>Northern America         </td><td> 0.2800000               </td></tr>\n",
       "\t<tr><td>Eastern Europe           </td><td>-0.2200000               </td></tr>\n",
       "\t<tr><td>Southern Europe          </td><td>-0.1000000               </td></tr>\n",
       "</tbody>\n",
       "</table>\n"
      ],
      "text/latex": [
       "\\begin{tabular}{r|ll}\n",
       " statistical\\_region & change\\_pct\\\\\n",
       "\\hline\n",
       "\t Middle Africa             &  2.7444444               \\\\\n",
       "\t Western Africa            &  2.5000000               \\\\\n",
       "\t Eastern Africa            &  2.3600000               \\\\\n",
       "\t Western Asia              &  1.9411765               \\\\\n",
       "\t Northern Africa           &  1.7714286               \\\\\n",
       "\t Melanesia                 &  1.6800000               \\\\\n",
       "\t Southern Africa           &  1.6800000               \\\\\n",
       "\t Central Asia              &  1.6000000               \\\\\n",
       "\t Central America           &  1.4125000               \\\\\n",
       "\t Southern Asia             &  1.3888889               \\\\\n",
       "\t South-Eastern Asia        &  1.2909091               \\\\\n",
       "\t Australia and New Zealand &  1.1500000               \\\\\n",
       "\t —                         &  1.1000000               \\\\\n",
       "\t South America             &  1.0428571               \\\\\n",
       "\t Europe                    &  0.8000000               \\\\\n",
       "\t Caribbean                 &  0.6923077               \\\\\n",
       "\t Eastern Asia              &  0.6875000               \\\\\n",
       "\t Micronesia                &  0.6714286               \\\\\n",
       "\t Western Europe            &  0.5777778               \\\\\n",
       "\t Polynesia                 &  0.3777778               \\\\\n",
       "\t Northern Europe           &  0.3384615               \\\\\n",
       "\t Northern America          &  0.2800000               \\\\\n",
       "\t Eastern Europe            & -0.2200000               \\\\\n",
       "\t Southern Europe           & -0.1000000               \\\\\n",
       "\\end{tabular}\n"
      ],
      "text/markdown": [
       "\n",
       "statistical_region | change_pct | \n",
       "|---|---|---|---|---|---|---|---|---|---|---|---|---|---|---|---|---|---|---|---|---|---|---|---|\n",
       "| Middle Africa             |  2.7444444                | \n",
       "| Western Africa            |  2.5000000                | \n",
       "| Eastern Africa            |  2.3600000                | \n",
       "| Western Asia              |  1.9411765                | \n",
       "| Northern Africa           |  1.7714286                | \n",
       "| Melanesia                 |  1.6800000                | \n",
       "| Southern Africa           |  1.6800000                | \n",
       "| Central Asia              |  1.6000000                | \n",
       "| Central America           |  1.4125000                | \n",
       "| Southern Asia             |  1.3888889                | \n",
       "| South-Eastern Asia        |  1.2909091                | \n",
       "| Australia and New Zealand |  1.1500000                | \n",
       "| —                         |  1.1000000                | \n",
       "| South America             |  1.0428571                | \n",
       "| Europe                    |  0.8000000                | \n",
       "| Caribbean                 |  0.6923077                | \n",
       "| Eastern Asia              |  0.6875000                | \n",
       "| Micronesia                |  0.6714286                | \n",
       "| Western Europe            |  0.5777778                | \n",
       "| Polynesia                 |  0.3777778                | \n",
       "| Northern Europe           |  0.3384615                | \n",
       "| Northern America          |  0.2800000                | \n",
       "| Eastern Europe            | -0.2200000                | \n",
       "| Southern Europe           | -0.1000000                | \n",
       "\n",
       "\n"
      ],
      "text/plain": [
       "   statistical_region        change_pct\n",
       "1  Middle Africa              2.7444444\n",
       "2  Western Africa             2.5000000\n",
       "3  Eastern Africa             2.3600000\n",
       "4  Western Asia               1.9411765\n",
       "5  Northern Africa            1.7714286\n",
       "6  Melanesia                  1.6800000\n",
       "7  Southern Africa            1.6800000\n",
       "8  Central Asia               1.6000000\n",
       "9  Central America            1.4125000\n",
       "10 Southern Asia              1.3888889\n",
       "11 South-Eastern Asia         1.2909091\n",
       "12 Australia and New Zealand  1.1500000\n",
       "13                           1.1000000\n",
       "14 South America              1.0428571\n",
       "15 Europe                     0.8000000\n",
       "16 Caribbean                  0.6923077\n",
       "17 Eastern Asia               0.6875000\n",
       "18 Micronesia                 0.6714286\n",
       "19 Western Europe             0.5777778\n",
       "20 Polynesia                  0.3777778\n",
       "21 Northern Europe            0.3384615\n",
       "22 Northern America           0.2800000\n",
       "23 Eastern Europe            -0.2200000\n",
       "24 Southern Europe           -0.1000000"
      ]
     },
     "metadata": {},
     "output_type": "display_data"
    }
   ],
   "source": [
    "poptab %>%\n",
    "    group_by(statistical_region) %>%\n",
    "    summarise(change_pct = mean(change_pct, na.rm = TRUE)) %>%\n",
    "    arrange(-abs(change_pct))"
   ]
  },
  {
   "cell_type": "code",
   "execution_count": 24,
   "metadata": {},
   "outputs": [
    {
     "name": "stdout",
     "output_type": "stream",
     "text": [
      "List of 2\n",
      " $ Phantom:List of 2\n",
      "  ..- attr(*, \"class\")= chr [1:2] \"xml_document\" \"xml_node\"\n",
      " $ Clones :List of 2\n",
      "  ..- attr(*, \"class\")= chr [1:2] \"xml_document\" \"xml_node\"\n"
     ]
    }
   ],
   "source": [
    "## list of starwars movies URLs\n",
    "star_wars <- list(\n",
    "  Phantom = \"http://www.imdb.com/title/tt0120915\",\n",
    "  Clones = \"http://www.imdb.com/title/tt0121765\",\n",
    "  Sith = \"http://www.imdb.com/title/tt0121766\",\n",
    "  RogueOne = \"http://www.imdb.com/title/tt3748528\",  \n",
    "  NewHope = \"http://www.imdb.com/title/tt0076759\",\n",
    "  Empire = \"http://www.imdb.com/title/tt0080684\",\n",
    "  ReturnJedi = \"http://www.imdb.com/title/tt0086190\",\n",
    "  Awakens = \"http://www.imdb.com/title/tt2488496\",\n",
    "  LastJedi = \"http://www.imdb.com/title/tt2527336\"\n",
    ")\n",
    "\n",
    "## read pages as xml data\n",
    "h <- lapply(star_wars, xml2::read_html)\n",
    "\n",
    "## view structure of h elements\n",
    "str(h[1:2], 1)"
   ]
  },
  {
   "cell_type": "code",
   "execution_count": 25,
   "metadata": {},
   "outputs": [
    {
     "data": {
      "text/html": [
       "<ol class=list-inline>\n",
       "\t<li>'Phantom'</li>\n",
       "\t<li>'Clones'</li>\n",
       "\t<li>'Sith'</li>\n",
       "\t<li>'RogueOne'</li>\n",
       "\t<li>'NewHope'</li>\n",
       "\t<li>'Empire'</li>\n",
       "\t<li>'ReturnJedi'</li>\n",
       "\t<li>'Awakens'</li>\n",
       "\t<li>'LastJedi'</li>\n",
       "</ol>\n"
      ],
      "text/latex": [
       "\\begin{enumerate*}\n",
       "\\item 'Phantom'\n",
       "\\item 'Clones'\n",
       "\\item 'Sith'\n",
       "\\item 'RogueOne'\n",
       "\\item 'NewHope'\n",
       "\\item 'Empire'\n",
       "\\item 'ReturnJedi'\n",
       "\\item 'Awakens'\n",
       "\\item 'LastJedi'\n",
       "\\end{enumerate*}\n"
      ],
      "text/markdown": [
       "1. 'Phantom'\n",
       "2. 'Clones'\n",
       "3. 'Sith'\n",
       "4. 'RogueOne'\n",
       "5. 'NewHope'\n",
       "6. 'Empire'\n",
       "7. 'ReturnJedi'\n",
       "8. 'Awakens'\n",
       "9. 'LastJedi'\n",
       "\n",
       "\n"
      ],
      "text/plain": [
       "[1] \"Phantom\"    \"Clones\"     \"Sith\"       \"RogueOne\"   \"NewHope\"   \n",
       "[6] \"Empire\"     \"ReturnJedi\" \"Awakens\"    \"LastJedi\"  "
      ]
     },
     "metadata": {},
     "output_type": "display_data"
    }
   ],
   "source": [
    "names(h)"
   ]
  },
  {
   "cell_type": "code",
   "execution_count": 26,
   "metadata": {},
   "outputs": [
    {
     "data": {
      "text/plain": [
       "{xml_document}\n",
       "<html xmlns:og=\"http://ogp.me/ns#\" xmlns:fb=\"http://www.facebook.com/2008/fbml\">\n",
       "[1] <head>\\n<meta http-equiv=\"Content-Type\" content=\"text/html; charset=UTF-8 ...\n",
       "[2] <body id=\"styleguide-v2\" class=\"fixed\">\\n<script>\\n    if (typeof uet ==  ..."
      ]
     },
     "metadata": {},
     "output_type": "display_data"
    }
   ],
   "source": [
    "h[\"Clones\"][[1]]"
   ]
  },
  {
   "cell_type": "code",
   "execution_count": 27,
   "metadata": {
    "collapsed": true
   },
   "outputs": [],
   "source": [
    "## function to parse imdb rating\n",
    "imdb_rating <- function(x) {\n",
    "  x %>% \n",
    "    html_nodes(\"strong span\") %>%\n",
    "    html_text(trim = TRUE) %>%\n",
    "    as.numeric()\n",
    "}"
   ]
  },
  {
   "cell_type": "code",
   "execution_count": 28,
   "metadata": {},
   "outputs": [
    {
     "data": {
      "text/html": [
       "<dl class=dl-horizontal>\n",
       "\t<dt>Phantom</dt>\n",
       "\t\t<dd>6.5</dd>\n",
       "\t<dt>Clones</dt>\n",
       "\t\t<dd>6.6</dd>\n",
       "\t<dt>Sith</dt>\n",
       "\t\t<dd>7.6</dd>\n",
       "\t<dt>RogueOne</dt>\n",
       "\t\t<dd>7.8</dd>\n",
       "\t<dt>NewHope</dt>\n",
       "\t\t<dd>8.7</dd>\n",
       "\t<dt>Empire</dt>\n",
       "\t\t<dd>8.8</dd>\n",
       "</dl>\n"
      ],
      "text/latex": [
       "\\begin{description*}\n",
       "\\item[Phantom] 6.5\n",
       "\\item[Clones] 6.6\n",
       "\\item[Sith] 7.6\n",
       "\\item[RogueOne] 7.8\n",
       "\\item[NewHope] 8.7\n",
       "\\item[Empire] 8.8\n",
       "\\end{description*}\n"
      ],
      "text/markdown": [
       "Phantom\n",
       ":   6.5Clones\n",
       ":   6.6Sith\n",
       ":   7.6RogueOne\n",
       ":   7.8NewHope\n",
       ":   8.7Empire\n",
       ":   8.8\n",
       "\n"
      ],
      "text/plain": [
       " Phantom   Clones     Sith RogueOne  NewHope   Empire \n",
       "     6.5      6.6      7.6      7.8      8.7      8.8 "
      ]
     },
     "metadata": {},
     "output_type": "display_data"
    }
   ],
   "source": [
    "##\n",
    "## get imdb ratings for each\n",
    "ratings <- sapply(h, imdb_rating)\n",
    "\n",
    "head(ratings)"
   ]
  },
  {
   "cell_type": "code",
   "execution_count": 29,
   "metadata": {},
   "outputs": [
    {
     "data": {
      "text/html": [
       "<table>\n",
       "<thead><tr><th scope=col>film</th><th scope=col>rating</th></tr></thead>\n",
       "<tbody>\n",
       "\t<tr><td>Phantom   </td><td>6.5       </td></tr>\n",
       "\t<tr><td>Clones    </td><td>6.6       </td></tr>\n",
       "\t<tr><td>Sith      </td><td>7.6       </td></tr>\n",
       "\t<tr><td>RogueOne  </td><td>7.8       </td></tr>\n",
       "\t<tr><td>NewHope   </td><td>8.7       </td></tr>\n",
       "\t<tr><td>Empire    </td><td>8.8       </td></tr>\n",
       "\t<tr><td>ReturnJedi</td><td>8.4       </td></tr>\n",
       "\t<tr><td>Awakens   </td><td>8.0       </td></tr>\n",
       "\t<tr><td>LastJedi  </td><td>7.5       </td></tr>\n",
       "</tbody>\n",
       "</table>\n"
      ],
      "text/latex": [
       "\\begin{tabular}{r|ll}\n",
       " film & rating\\\\\n",
       "\\hline\n",
       "\t Phantom    & 6.5       \\\\\n",
       "\t Clones     & 6.6       \\\\\n",
       "\t Sith       & 7.6       \\\\\n",
       "\t RogueOne   & 7.8       \\\\\n",
       "\t NewHope    & 8.7       \\\\\n",
       "\t Empire     & 8.8       \\\\\n",
       "\t ReturnJedi & 8.4       \\\\\n",
       "\t Awakens    & 8.0       \\\\\n",
       "\t LastJedi   & 7.5       \\\\\n",
       "\\end{tabular}\n"
      ],
      "text/markdown": [
       "\n",
       "film | rating | \n",
       "|---|---|---|---|---|---|---|---|---|\n",
       "| Phantom    | 6.5        | \n",
       "| Clones     | 6.6        | \n",
       "| Sith       | 7.6        | \n",
       "| RogueOne   | 7.8        | \n",
       "| NewHope    | 8.7        | \n",
       "| Empire     | 8.8        | \n",
       "| ReturnJedi | 8.4        | \n",
       "| Awakens    | 8.0        | \n",
       "| LastJedi   | 7.5        | \n",
       "\n",
       "\n"
      ],
      "text/plain": [
       "  film       rating\n",
       "1 Phantom    6.5   \n",
       "2 Clones     6.6   \n",
       "3 Sith       7.6   \n",
       "4 RogueOne   7.8   \n",
       "5 NewHope    8.7   \n",
       "6 Empire     8.8   \n",
       "7 ReturnJedi 8.4   \n",
       "8 Awakens    8.0   \n",
       "9 LastJedi   7.5   "
      ]
     },
     "metadata": {},
     "output_type": "display_data"
    }
   ],
   "source": [
    "## create data frame\n",
    "df <- data.frame(\n",
    "  film = names(star_wars),\n",
    "  rating = ratings,\n",
    "  stringsAsFactors = FALSE,\n",
    "  row.names = NULL\n",
    ")\n",
    "\n",
    "## preview data\n",
    "df"
   ]
  },
  {
   "cell_type": "code",
   "execution_count": 30,
   "metadata": {},
   "outputs": [
    {
     "name": "stderr",
     "output_type": "stream",
     "text": [
      "Warning message in grid.Call(C_textBounds, as.graphicsAnnot(x$label), x$x, x$y, :\n",
      "\"font family not found in Windows font database\"Warning message in grid.Call(C_textBounds, as.graphicsAnnot(x$label), x$x, x$y, :\n",
      "\"font family not found in Windows font database\"Warning message in grid.Call(C_textBounds, as.graphicsAnnot(x$label), x$x, x$y, :\n",
      "\"font family not found in Windows font database\"Warning message in grid.Call(C_textBounds, as.graphicsAnnot(x$label), x$x, x$y, :\n",
      "\"font family not found in Windows font database\"Warning message in grid.Call(C_textBounds, as.graphicsAnnot(x$label), x$x, x$y, :\n",
      "\"font family not found in Windows font database\"Warning message in grid.Call(C_textBounds, as.graphicsAnnot(x$label), x$x, x$y, :\n",
      "\"font family not found in Windows font database\"Warning message in grid.Call(C_textBounds, as.graphicsAnnot(x$label), x$x, x$y, :\n",
      "\"font family not found in Windows font database\"Warning message in grid.Call(C_textBounds, as.graphicsAnnot(x$label), x$x, x$y, :\n",
      "\"font family not found in Windows font database\"Warning message in grid.Call(C_textBounds, as.graphicsAnnot(x$label), x$x, x$y, :\n",
      "\"font family not found in Windows font database\"Warning message in grid.Call(C_textBounds, as.graphicsAnnot(x$label), x$x, x$y, :\n",
      "\"font family not found in Windows font database\"Warning message in grid.Call(C_textBounds, as.graphicsAnnot(x$label), x$x, x$y, :\n",
      "\"font family not found in Windows font database\"Warning message in grid.Call(C_textBounds, as.graphicsAnnot(x$label), x$x, x$y, :\n",
      "\"font family not found in Windows font database\"Warning message in grid.Call(C_textBounds, as.graphicsAnnot(x$label), x$x, x$y, :\n",
      "\"font family not found in Windows font database\"Warning message in grid.Call(C_textBounds, as.graphicsAnnot(x$label), x$x, x$y, :\n",
      "\"font family not found in Windows font database\""
     ]
    },
    {
     "data": {},
     "metadata": {},
     "output_type": "display_data"
    },
    {
     "data": {
      "image/png": "[encoded data removed]",
      "text/plain": [
       "plot without title"
      ]
     },
     "metadata": {},
     "output_type": "display_data"
    }
   ],
   "source": [
    "## plot\n",
    "df %>%\n",
    "  arrange(rating) %>%\n",
    "  mutate(film = factor(film, levels = unique(film))) %>%\n",
    "  ggplot(aes(x = film, y = rating)) +\n",
    "  geom_col(fill = \"#0066aa\", width = .15) +\n",
    "  geom_point(colour = \"#0066aa\", \n",
    "             fill = \"greenyellow\", shape = 21, size = 6) + \n",
    "  theme_minimal(base_family = \"Helvetica Neue\", base_size = 12) +\n",
    "  theme(\n",
    "    legend.position = \"bottom\",\n",
    "    plot.caption = element_text(\n",
    "        hjust = 1.0, colour = \"gray50\", size = rel(.6)),\n",
    "    axis.text = element_text(colour = \"black\", size = rel(.7)),\n",
    "    axis.title = element_text(hjust = 1.0, size = rel(.9)),\n",
    "    legend.text = element_text(size = rel(.8)),\n",
    "    plot.title = element_text(face = \"bold\")) + \n",
    "  labs(\n",
    "    y = \"Rating\", x = NULL, \n",
    "    title = \"IMDB ratings for all nine Star Wars movies\",\n",
    "    subtitle = \"Average IMDB movie rating (0-10 scale)\",\n",
    "    caption = \"\\nSource: Data scraped from imbd.com using rvest pkg\") + \n",
    "  coord_flip()"
   ]
  }
 ],
 "metadata": {
  "kernelspec": {
   "display_name": "R",
   "language": "R",
   "name": "ir"
  },
  "language_info": {
   "codemirror_mode": "r",
   "file_extension": ".r",
   "mimetype": "text/x-r-source",
   "name": "R",
   "pygments_lexer": "r",
   "version": "3.4.1"
  }
 },
 "nbformat": 4,
 "nbformat_minor": 2
}
