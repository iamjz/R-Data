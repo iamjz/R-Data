{
 "cells": [
  {
   "cell_type": "code",
   "execution_count": 1,
   "metadata": {},
   "outputs": [
    {
     "name": "stderr",
     "output_type": "stream",
     "text": [
      "Warning message:\n",
      "\"package 'rtweet' was built under R version 3.4.3\""
     ]
    }
   ],
   "source": [
    "library(\"rtweet\")"
   ]
  },
  {
   "cell_type": "code",
   "execution_count": 2,
   "metadata": {},
   "outputs": [
    {
     "name": "stderr",
     "output_type": "stream",
     "text": [
      "Waiting for authentication in browser...\n",
      "Press Esc/Ctrl + C to abort\n",
      "Please point your browser to the following url: \n",
      "https://api.twitter.com/oauth/authenticate?oauth_token=ZesvJAAAAAAA4N_sAAABYYbFwts&permission=read\n",
      "Authentication complete.\n"
     ]
    }
   ],
   "source": [
    "app_name <- \"data-science-databear\"\n",
    "\n",
    "key <- \"KEY\"\n",
    "\n",
    "secret <- \"SECRET\"\n",
    "\n",
    "app <- httr::oauth_app(app_name, key, secret)\n",
    "\n",
    "token <- httr::oauth1.0_token(httr::oauth_endpoints(\"twitter\"), app, cache = FALSE)\n",
    "\n",
    "saveRDS(token, \"C:/Users/Jacky Zhao/token.rds\")"
   ]
  },
  {
   "cell_type": "code",
   "execution_count": 15,
   "metadata": {},
   "outputs": [],
   "source": [
    "## read and print token\n",
    "token <- readRDS(\"C:/Users/Jacky Zhao/Desktop/token.rds\")"
   ]
  },
  {
   "cell_type": "code",
   "execution_count": 16,
   "metadata": {},
   "outputs": [
    {
     "data": {
      "text/html": [
       "'C:\\Users\\Jacky Zhao\\token.rds'"
      ],
      "text/latex": [
       "'C:\\textbackslash{}Users\\textbackslash{}Jacky Zhao\\textbackslash{}token.rds'"
      ],
      "text/markdown": [
       "'C:\\Users\\Jacky Zhao\\token.rds'"
      ],
      "text/plain": [
       "[1] \"C:\\\\Users\\\\Jacky Zhao\\\\token.rds\""
      ]
     },
     "metadata": {},
     "output_type": "display_data"
    }
   ],
   "source": [
    "## expand full path to token\n",
    "path_to_token <- normalizePath(\"C://Users//Jacky Zhao//token.rds\")\n",
    "path_to_token"
   ]
  },
  {
   "cell_type": "code",
   "execution_count": 17,
   "metadata": {},
   "outputs": [
    {
     "data": {
      "text/html": [
       "'TWITTER_PAT=C:\\Users\\Jacky Zhao\\token.rds'"
      ],
      "text/latex": [
       "'TWITTER\\_PAT=C:\\textbackslash{}Users\\textbackslash{}Jacky Zhao\\textbackslash{}token.rds'"
      ],
      "text/markdown": [
       "'TWITTER_PAT=C:\\Users\\Jacky Zhao\\token.rds'"
      ],
      "text/plain": [
       "[1] \"TWITTER_PAT=C:\\\\Users\\\\Jacky Zhao\\\\token.rds\""
      ]
     },
     "metadata": {},
     "output_type": "display_data"
    }
   ],
   "source": [
    "## create env variable TWITTER_PAT (with path to saved token)\n",
    "envvar <- paste0(\"TWITTER_PAT=\", path_to_token)\n",
    "envvar"
   ]
  },
  {
   "cell_type": "code",
   "execution_count": 18,
   "metadata": {
    "collapsed": true
   },
   "outputs": [],
   "source": [
    "## save as .Renviron file (or append if the file already exists)\n",
    "cat(envvar, file = \"~/.Renviron\", fill = TRUE, append = TRUE)"
   ]
  },
  {
   "cell_type": "code",
   "execution_count": 19,
   "metadata": {},
   "outputs": [
    {
     "data": {
      "text/html": [
       "TRUE"
      ],
      "text/latex": [
       "TRUE"
      ],
      "text/markdown": [
       "TRUE"
      ],
      "text/plain": [
       "[1] TRUE"
      ]
     },
     "metadata": {},
     "output_type": "display_data"
    }
   ],
   "source": [
    "## refresh .Renviron variables\n",
    "(readRenviron(\"~/.Renviron\"))"
   ]
  },
  {
   "cell_type": "code",
   "execution_count": 20,
   "metadata": {
    "collapsed": true
   },
   "outputs": [],
   "source": [
    "set_renv_token <- function(path_to_token, override = FALSE) {\n",
    "    ## check path\n",
    "    stopifnot(\n",
    "        is.character(path_to_token),\n",
    "        file.exists(path_to_token)\n",
    "    )\n",
    "    ## expand to full path\n",
    "    path_to_token <- normalizePath(path_to_token)\n",
    "\n",
    "    ## store path to .Renviron\n",
    "    renv <- normalizePath(\"~/.Renviron\")\n",
    "    \n",
    "    ## if override = false and there's already a TWITTER_PAT, stop\n",
    "    ## else override and there's already a TWITTER_PAT, then drop TWITTER_PAT and\n",
    "    ## save new .Renviron\n",
    "    if (!override && !identical(Sys.getenv(\"TWITTER_PAT\"), \"\")) {\n",
    "        stop(\"There's already a TWITTER_PAT. Use `override = TRUE` to replace.\",\n",
    "            call. = FALSE)\n",
    "    } else if (!identical(Sys.getenv(\"TWITTER_PAT\"), \"\") && \n",
    "               file.exists(renv)) {\n",
    "        con <- file(renv)\n",
    "        x <- readLines(con, warn = FALSE)\n",
    "        close(con)\n",
    "        x <- grep(\"^TWITTER_PAT\", x, invert = TRUE, value = TRUE)\n",
    "        writeLines(x, renv)\n",
    "    }\n",
    "    \n",
    "    ## create env variable TWITTER_PAT (with path to saved token)\n",
    "    envvar <- paste0(\"TWITTER_PAT=\", path_to_token)\n",
    "    \n",
    "    ## save as .Renviron file (or append if the file already exists)\n",
    "    cat(envvar, file = renv, fill = TRUE, append = TRUE)\n",
    "}"
   ]
  },
  {
   "cell_type": "code",
   "execution_count": 21,
   "metadata": {},
   "outputs": [],
   "source": [
    "set_renv_token(\"C://Users//Jacky Zhao//Desktop//token.rds\", TRUE)"
   ]
  },
  {
   "cell_type": "code",
   "execution_count": 22,
   "metadata": {},
   "outputs": [
    {
     "data": {
      "text/html": [
       "'C:UsersJacky Zhaotoken.rds'"
      ],
      "text/latex": [
       "'C:UsersJacky Zhaotoken.rds'"
      ],
      "text/markdown": [
       "'C:UsersJacky Zhaotoken.rds'"
      ],
      "text/plain": [
       "[1] \"C:UsersJacky Zhaotoken.rds\""
      ]
     },
     "metadata": {},
     "output_type": "display_data"
    }
   ],
   "source": [
    "Sys.getenv(\"TWITTER_PAT\")"
   ]
  },
  {
   "cell_type": "code",
   "execution_count": 23,
   "metadata": {},
   "outputs": [
    {
     "data": {
      "text/html": [
       "<table>\n",
       "<thead><tr><th scope=col>user_id</th><th scope=col>name</th><th scope=col>screen_name</th><th scope=col>location</th><th scope=col>description</th><th scope=col>url</th><th scope=col>protected</th><th scope=col>followers_count</th><th scope=col>friends_count</th><th scope=col>listed_count</th><th scope=col>statuses_count</th><th scope=col>favourites_count</th><th scope=col>account_created_at</th><th scope=col>verified</th><th scope=col>profile_url</th><th scope=col>profile_expanded_url</th><th scope=col>account_lang</th><th scope=col>profile_banner_url</th><th scope=col>profile_background_url</th><th scope=col>profile_image_url</th></tr></thead>\n",
       "<tbody>\n",
       "\t<tr><td>2836421                                                                                                                                     </td><td>MSNBC                                                                                                                                       </td><td>MSNBC                                                                                                                                       </td><td>                                                                                                                                            </td><td>The place for in-depth analysis, political commentary and informed perspectives. Questions? Tweet to @Farrashley. Find us on Snapchat: msnbc</td><td>https://t.co/5TAF6ijWwt                                                                                                                     </td><td>FALSE                                                                                                                                       </td><td>2003755                                                                                                                                     </td><td>561                                                                                                                                         </td><td>20505                                                                                                                                       </td><td>126512                                                                                                                                      </td><td>635                                                                                                                                         </td><td>2007-03-29 13:15:41                                                                                                                         </td><td>TRUE                                                                                                                                        </td><td>https://t.co/5TAF6ijWwt                                                                                                                     </td><td>http://msnbc.com                                                                                                                            </td><td>en                                                                                                                                          </td><td>https://pbs.twimg.com/profile_banners/2836421/1498784746                                                                                    </td><td>http://pbs.twimg.com/profile_background_images/644272209536552961/OQBR8Ra8.jpg                                                              </td><td>http://pbs.twimg.com/profile_images/814858612640202754/KCQAV5nf_normal.jpg                                                                  </td></tr>\n",
       "</tbody>\n",
       "</table>\n"
      ],
      "text/latex": [
       "\\begin{tabular}{r|llllllllllllllllllll}\n",
       " user\\_id & name & screen\\_name & location & description & url & protected & followers\\_count & friends\\_count & listed\\_count & statuses\\_count & favourites\\_count & account\\_created\\_at & verified & profile\\_url & profile\\_expanded\\_url & account\\_lang & profile\\_banner\\_url & profile\\_background\\_url & profile\\_image\\_url\\\\\n",
       "\\hline\n",
       "\t 2836421                                                                                                                                      & MSNBC                                                                                                                                        & MSNBC                                                                                                                                        &                                                                                                                                              & The place for in-depth analysis, political commentary and informed perspectives. Questions? Tweet to @Farrashley. Find us on Snapchat: msnbc & https://t.co/5TAF6ijWwt                                                                                                                      & FALSE                                                                                                                                        & 2003755                                                                                                                                      & 561                                                                                                                                          & 20505                                                                                                                                        & 126512                                                                                                                                       & 635                                                                                                                                          & 2007-03-29 13:15:41                                                                                                                          & TRUE                                                                                                                                         & https://t.co/5TAF6ijWwt                                                                                                                      & http://msnbc.com                                                                                                                             & en                                                                                                                                           & https://pbs.twimg.com/profile\\_banners/2836421/1498784746                                                                                   & http://pbs.twimg.com/profile\\_background\\_images/644272209536552961/OQBR8Ra8.jpg                                                           & http://pbs.twimg.com/profile\\_images/814858612640202754/KCQAV5nf\\_normal.jpg                                                              \\\\\n",
       "\\end{tabular}\n"
      ],
      "text/markdown": [
       "\n",
       "user_id | name | screen_name | location | description | url | protected | followers_count | friends_count | listed_count | statuses_count | favourites_count | account_created_at | verified | profile_url | profile_expanded_url | account_lang | profile_banner_url | profile_background_url | profile_image_url | \n",
       "|---|\n",
       "| 2836421                                                                                                                                      | MSNBC                                                                                                                                        | MSNBC                                                                                                                                        |                                                                                                                                              | The place for in-depth analysis, political commentary and informed perspectives. Questions? Tweet to @Farrashley. Find us on Snapchat: msnbc | https://t.co/5TAF6ijWwt                                                                                                                      | FALSE                                                                                                                                        | 2003755                                                                                                                                      | 561                                                                                                                                          | 20505                                                                                                                                        | 126512                                                                                                                                       | 635                                                                                                                                          | 2007-03-29 13:15:41                                                                                                                          | TRUE                                                                                                                                         | https://t.co/5TAF6ijWwt                                                                                                                      | http://msnbc.com                                                                                                                             | en                                                                                                                                           | https://pbs.twimg.com/profile_banners/2836421/1498784746                                                                                     | http://pbs.twimg.com/profile_background_images/644272209536552961/OQBR8Ra8.jpg                                                               | http://pbs.twimg.com/profile_images/814858612640202754/KCQAV5nf_normal.jpg                                                                   | \n",
       "\n",
       "\n"
      ],
      "text/plain": [
       "  user_id name  screen_name location\n",
       "1 2836421 MSNBC MSNBC               \n",
       "  description                                                                                                                                 \n",
       "1 The place for in-depth analysis, political commentary and informed perspectives. Questions? Tweet to @Farrashley. Find us on Snapchat: msnbc\n",
       "  url                     protected followers_count friends_count listed_count\n",
       "1 https://t.co/5TAF6ijWwt FALSE     2003755         561           20505       \n",
       "  statuses_count favourites_count account_created_at  verified\n",
       "1 126512         635              2007-03-29 13:15:41 TRUE    \n",
       "  profile_url             profile_expanded_url account_lang\n",
       "1 https://t.co/5TAF6ijWwt http://msnbc.com     en          \n",
       "  profile_banner_url                                      \n",
       "1 https://pbs.twimg.com/profile_banners/2836421/1498784746\n",
       "  profile_background_url                                                        \n",
       "1 http://pbs.twimg.com/profile_background_images/644272209536552961/OQBR8Ra8.jpg\n",
       "  profile_image_url                                                         \n",
       "1 http://pbs.twimg.com/profile_images/814858612640202754/KCQAV5nf_normal.jpg"
      ]
     },
     "metadata": {},
     "output_type": "display_data"
    }
   ],
   "source": [
    "msnbc <- search_users(\"msnbc\", n = 1, verbose = FALSE)\n",
    "head(msnbc)"
   ]
  }
 ],
 "metadata": {
  "kernelspec": {
   "display_name": "R",
   "language": "R",
   "name": "ir"
  },
  "language_info": {
   "codemirror_mode": "r",
   "file_extension": ".r",
   "mimetype": "text/x-r-source",
   "name": "R",
   "pygments_lexer": "r",
   "version": "3.4.1"
  }
 },
 "nbformat": 4,
 "nbformat_minor": 2
}
