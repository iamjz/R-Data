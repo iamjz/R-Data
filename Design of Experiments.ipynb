{
 "cells": [
  {
   "cell_type": "markdown",
   "metadata": {},
   "source": [
    "# Design of Experiments"
   ]
  },
  {
   "cell_type": "markdown",
   "metadata": {
    "collapsed": true
   },
   "source": [
    "###  Observation studies and Experiments"
   ]
  },
  {
   "cell_type": "markdown",
   "metadata": {},
   "source": [
    "####  Observational study:\n",
    "- Collect data in a way that does not directly interfere with how the data arise. \n",
    "- Only correlation can be inferred.\n",
    "\n",
    "#### Experiment:\n",
    "- Randomly assign subjects to various treatments\n",
    "- Causation can be inferred"
   ]
  },
  {
   "cell_type": "markdown",
   "metadata": {},
   "source": [
    "Relationships between using screens (mobile, tablet, laptop, etc) at bedtime and attention span.\n",
    "\n",
    "- **Observational Study:** We sample 2 types of people from the population. Those who choose to use screens at bedtime and those who don't. Then we find the average attention span for the 2 groups of people and compare. Based on the observational study, even if we find a difference between the average attention span of these groups of people, we can't attribute this difference solely to using screens because there may be other variables that we didn't control for this study that could've contributed to the observed difference. For example, people who use screens at night might also be using screens for longer period during the day and their attention span might be affected by the daytime usage as well. \n",
    "\n",
    "- **Experiment:** We sample a group of people from the population and then we randomly assign these people into 2 groups: those who are asked to use screens at bedtime and those asked not to use them. The difference is that the decision to use or not use screens at bedtime is NOT left to the subject. Rather, it is imposed by the researcher. At the end, we compare the attention spans of the 2 groups. Such variables that might contribute to the outcome, called confounding variables, are most likely represented equally in the 2 groups due to random assignment. Therefore, if we find the difference between the 2 averages, we can indeed make a causal statement attributing this difference to bedtime screen usage. \n",
    "\n",
    "\n",
    "<img src=\"images/DOE_Study.JPG\">"
   ]
  },
  {
   "cell_type": "markdown",
   "metadata": {},
   "source": [
    "### Random sampling and random assignment\n",
    "\n",
    "**Random sampling:** Occurs when the subjects are being selected for a study. If the subjects are selected randomly from the population, then the resulting sample is likely representative of the population and therefore the study's results can be generalizable to that population. \n",
    "\n",
    "** Random assignment:** Only occurs in experimental settings where subjects are being assigned to various treatments. Random assignments allow for causal conclusions. "
   ]
  },
  {
   "cell_type": "markdown",
   "metadata": {},
   "source": [
    "- **Random assignment + random sampling:** Causal and generalizable to the whole population. This is the ideal experiment but such studies are difficult to carry out, especially if the experimental units are humans, since it may be difficult to randomly sample people from the population and then impose treatments on them. \n",
    "\n",
    "- **Random assignment + no random sampling:** Causal but not generalizable. Experiments that rely on volunteers employ random assignment but not random sampling. These studies can be used to make causal conclusions but the conclusions but the conclusions can only be applied to the sample and the results cannot be generalized to the population. \n",
    "\n",
    "- **No random assignment + random sampling:** Not Causal but generalizable. A study that uses no random assignment but does use random sampling is your typical observational study. Results can only be used to make association statements but they can be generalized to the whole population.   \n",
    "\n",
    "- **No random assignment + No random sampling:** Neither Causal nor generalizable. These studies can only be used to make non-causal association statements. This is NOT an ideal study. "
   ]
  },
  {
   "cell_type": "markdown",
   "metadata": {
    "collapsed": true
   },
   "source": [
    "### Random sampling or random assignment:\n",
    "\n",
    "One of the early studies linking smoking and lung cancer compared patients who are already hospitalized with lung cancer to similar patients without lung cancer (hospitalized for other reasons), and recorded whether each patient smoked. Then, proportions of smokers for patients with and without lung cancer were compared. \n",
    "\n",
    "**QUESTION:** Does this study employ random sampling and/or random assignment?\n",
    "\n",
    "**ANSWER:** Neither random sampling nor random assignment. Random assignment is not employed because the conditions are not imposed on the patients by the people conducting the study. Random sampling is not employed because the study records the patients who are already hospitalized, so it wouldn't be appropriate to apply the findings back to the population as a whole. \n"
   ]
  },
  {
   "cell_type": "markdown",
   "metadata": {},
   "source": [
    "### Identify the scope of inference of study\n",
    "\n",
    "Volunteers were recruited to participate in a study where they were asked to type 40 bits of trivia - for example, \"an ostrich's eye is bigger than its brain\" - into a computer. A randomly selected half of these subjects were told the information would be saved in the computer. The other half were told the items they typed would be erased. \n",
    "\n",
    "Then, the subjects were asked to remember these bits of trivia, and the number of bits of trivia each subject could correctly recall were recorded. It was found that the subjects were significantly more likely to remember information if they thought they would not be able to find it later. \n",
    "\n",
    "The results of the study **cannot** be generalized to all people and a causal link between believing information is stored and memory **can** be inferred based on these results. \n",
    "\n",
    "There is no random sampling since the subjects of the study were volunteers, so the results cannot be generalized to all people. However, due to random assignment, we are able to infer a causal link between the belief information is stored and the ability to recall that same information. "
   ]
  },
  {
   "cell_type": "markdown",
   "metadata": {},
   "source": [
    "### Simpson's Paradox\n",
    "\n",
    "Often, when one mentions \"a relationship between variables\", we think of a relationship between just 2 variables (Explanatory variable X and Response variable Y). However, truly understanding the relationship between 2 variables might require considering other potentially related variables as well.  If we don't we might find ourselves in a Simpson's Paradox. \n",
    "\n",
    "Labelling variables as explanatory and response does not guarantee the relationship between the two is actually causal, even if there is an association identified. We use these labels only to keep track of which variable we suspect affects the other. \n",
    "\n",
    "We could study the relationship between 3 explanatory variables and a single response variable. This is often a more realistic scenario since most real world relationships are multivariable. \n",
    "\n",
    "For example, if we're interested in the relationship between calories consumed daily and heart health, we would probably also want to consider information on variables like age and fitness level of the person as well. **Not considering an important variable when studying a relationship can result in what we call a Simpson's Paradox, which illustrate the effect the ommission of an explanatory variable can on the measure of association between another explanatory variable and the response variable. **. \n",
    "\n",
    "In other words, the inclusion of a 3rd variable in the analysis can change the apparent relationship between the other 2 variables. \n"
   ]
  },
  {
   "cell_type": "code",
   "execution_count": 47,
   "metadata": {
    "collapsed": true
   },
   "outputs": [],
   "source": [
    "library(dplyr)"
   ]
  },
  {
   "cell_type": "code",
   "execution_count": 48,
   "metadata": {},
   "outputs": [
    {
     "data": {
      "text/html": [
       "<table>\n",
       "<thead><tr><th scope=col>Admit</th><th scope=col>Gender</th><th scope=col>Dept</th></tr></thead>\n",
       "<tbody>\n",
       "\t<tr><td>Admitted</td><td>Male    </td><td>A       </td></tr>\n",
       "\t<tr><td>Admitted</td><td>Male    </td><td>A       </td></tr>\n",
       "\t<tr><td>Admitted</td><td>Male    </td><td>A       </td></tr>\n",
       "\t<tr><td>Admitted</td><td>Male    </td><td>A       </td></tr>\n",
       "\t<tr><td>Admitted</td><td>Male    </td><td>A       </td></tr>\n",
       "\t<tr><td>Admitted</td><td>Male    </td><td>A       </td></tr>\n",
       "</tbody>\n",
       "</table>\n"
      ],
      "text/latex": [
       "\\begin{tabular}{r|lll}\n",
       " Admit & Gender & Dept\\\\\n",
       "\\hline\n",
       "\t Admitted & Male     & A       \\\\\n",
       "\t Admitted & Male     & A       \\\\\n",
       "\t Admitted & Male     & A       \\\\\n",
       "\t Admitted & Male     & A       \\\\\n",
       "\t Admitted & Male     & A       \\\\\n",
       "\t Admitted & Male     & A       \\\\\n",
       "\\end{tabular}\n"
      ],
      "text/markdown": [
       "\n",
       "Admit | Gender | Dept | \n",
       "|---|---|---|---|---|---|\n",
       "| Admitted | Male     | A        | \n",
       "| Admitted | Male     | A        | \n",
       "| Admitted | Male     | A        | \n",
       "| Admitted | Male     | A        | \n",
       "| Admitted | Male     | A        | \n",
       "| Admitted | Male     | A        | \n",
       "\n",
       "\n"
      ],
      "text/plain": [
       "  Admit    Gender Dept\n",
       "1 Admitted Male   A   \n",
       "2 Admitted Male   A   \n",
       "3 Admitted Male   A   \n",
       "4 Admitted Male   A   \n",
       "5 Admitted Male   A   \n",
       "6 Admitted Male   A   "
      ]
     },
     "metadata": {},
     "output_type": "display_data"
    }
   ],
   "source": [
    "ucb_admit <- read.csv('datasets/UCB_ADMIT.csv')\n",
    "cols <- c(\"Admit\", \"Gender\", \"Dept\")\n",
    "colnames(ucb_admit) <- cols\n",
    "head(ucb_admit)"
   ]
  },
  {
   "cell_type": "code",
   "execution_count": 49,
   "metadata": {},
   "outputs": [
    {
     "name": "stdout",
     "output_type": "stream",
     "text": [
      "Observations: 4,526\n",
      "Variables: 3\n",
      "$ Admit  <fct> Admitted, Admitted, Admitted, Admitted, Admitted, Admitted, ...\n",
      "$ Gender <fct> Male, Male, Male, Male, Male, Male, Male, Male, Male, Male, ...\n",
      "$ Dept   <fct> A, A, A, A, A, A, A, A, A, A, A, A, A, A, A, A, A, A, A, A, ...\n"
     ]
    }
   ],
   "source": [
    "glimpse(ucb_admit)"
   ]
  },
  {
   "cell_type": "markdown",
   "metadata": {},
   "source": [
    "### Number of males and females admitted"
   ]
  },
  {
   "cell_type": "code",
   "execution_count": 50,
   "metadata": {},
   "outputs": [
    {
     "data": {
      "text/html": [
       "<table>\n",
       "<thead><tr><th scope=col>Gender</th><th scope=col>Admit</th><th scope=col>n</th></tr></thead>\n",
       "<tbody>\n",
       "\t<tr><td>Female  </td><td>Admitted</td><td> 557    </td></tr>\n",
       "\t<tr><td>Female  </td><td>Rejected</td><td>1278    </td></tr>\n",
       "\t<tr><td>Male    </td><td>Admitted</td><td>1198    </td></tr>\n",
       "\t<tr><td>Male    </td><td>Rejected</td><td>1493    </td></tr>\n",
       "</tbody>\n",
       "</table>\n"
      ],
      "text/latex": [
       "\\begin{tabular}{r|lll}\n",
       " Gender & Admit & n\\\\\n",
       "\\hline\n",
       "\t Female   & Admitted &  557    \\\\\n",
       "\t Female   & Rejected & 1278    \\\\\n",
       "\t Male     & Admitted & 1198    \\\\\n",
       "\t Male     & Rejected & 1493    \\\\\n",
       "\\end{tabular}\n"
      ],
      "text/markdown": [
       "\n",
       "Gender | Admit | n | \n",
       "|---|---|---|---|\n",
       "| Female   | Admitted |  557     | \n",
       "| Female   | Rejected | 1278     | \n",
       "| Male     | Admitted | 1198     | \n",
       "| Male     | Rejected | 1493     | \n",
       "\n",
       "\n"
      ],
      "text/plain": [
       "  Gender Admit    n   \n",
       "1 Female Admitted  557\n",
       "2 Female Rejected 1278\n",
       "3 Male   Admitted 1198\n",
       "4 Male   Rejected 1493"
      ]
     },
     "metadata": {},
     "output_type": "display_data"
    }
   ],
   "source": [
    "ucb_admission_counts <- count(ucb_admit, Gender, Admit)\n",
    "ucb_admission_counts"
   ]
  },
  {
   "cell_type": "markdown",
   "metadata": {},
   "source": [
    "### Proportion of males admitted overall\n",
    "\n",
    "Next we'll calculate the percentage of males and percentage of females admitted, by creating a new variable, called prop (short for proportion) based off of the counts calculated in the previous exercise and using the mutate() from the dplyr package.\n",
    "\n",
    "Proportions for each row of the data frame we created in the previous exercise can be calculated as n / sum(n). Note that since the data are grouped by gender, sum(n) will be calculated for males and females separately."
   ]
  },
  {
   "cell_type": "code",
   "execution_count": 51,
   "metadata": {},
   "outputs": [
    {
     "data": {
      "text/html": [
       "<table>\n",
       "<thead><tr><th scope=col>Gender</th><th scope=col>Admit</th><th scope=col>n</th><th scope=col>prop</th></tr></thead>\n",
       "<tbody>\n",
       "\t<tr><td>Female   </td><td>Admitted </td><td> 557     </td><td>0.3035422</td></tr>\n",
       "\t<tr><td>Male     </td><td>Admitted </td><td>1198     </td><td>0.4451877</td></tr>\n",
       "</tbody>\n",
       "</table>\n"
      ],
      "text/latex": [
       "\\begin{tabular}{r|llll}\n",
       " Gender & Admit & n & prop\\\\\n",
       "\\hline\n",
       "\t Female    & Admitted  &  557      & 0.3035422\\\\\n",
       "\t Male      & Admitted  & 1198      & 0.4451877\\\\\n",
       "\\end{tabular}\n"
      ],
      "text/markdown": [
       "\n",
       "Gender | Admit | n | prop | \n",
       "|---|---|\n",
       "| Female    | Admitted  |  557      | 0.3035422 | \n",
       "| Male      | Admitted  | 1198      | 0.4451877 | \n",
       "\n",
       "\n"
      ],
      "text/plain": [
       "  Gender Admit    n    prop     \n",
       "1 Female Admitted  557 0.3035422\n",
       "2 Male   Admitted 1198 0.4451877"
      ]
     },
     "metadata": {},
     "output_type": "display_data"
    }
   ],
   "source": [
    "ucb_admission_counts %>%\n",
    "    group_by(Gender) %>%\n",
    "    mutate(prop = n / sum(n)) %>%\n",
    "    filter(Admit == \"Admitted\")"
   ]
  },
  {
   "cell_type": "markdown",
   "metadata": {},
   "source": [
    "It looks like 44% of males were admitted versus only 30% of females. BUT there's more to this story. "
   ]
  },
  {
   "cell_type": "markdown",
   "metadata": {},
   "source": [
    "### Proportion of males admitted for each department\n",
    "\n",
    "Finally we'll make a table similar to the one we constructed earlier, except we'll first group the data by department. The goal is to compare the proportions of male admitted students across departments.\n",
    "\n",
    "Proportions for each row of the data frame we create can be calculated as n / sum(n). Note that since the data are grouped by department and gender, sum(n) will be calculated for males and females separately for each department."
   ]
  },
  {
   "cell_type": "code",
   "execution_count": 52,
   "metadata": {},
   "outputs": [
    {
     "data": {
      "text/html": [
       "<table>\n",
       "<thead><tr><th scope=col>Dept</th><th scope=col>Gender</th><th scope=col>Admit</th><th scope=col>n</th></tr></thead>\n",
       "<tbody>\n",
       "\t<tr><td>A       </td><td>Female  </td><td>Admitted</td><td> 89     </td></tr>\n",
       "\t<tr><td>A       </td><td>Female  </td><td>Rejected</td><td> 19     </td></tr>\n",
       "\t<tr><td>A       </td><td>Male    </td><td>Admitted</td><td>512     </td></tr>\n",
       "\t<tr><td>A       </td><td>Male    </td><td>Rejected</td><td>313     </td></tr>\n",
       "\t<tr><td>B       </td><td>Female  </td><td>Admitted</td><td> 17     </td></tr>\n",
       "\t<tr><td>B       </td><td>Female  </td><td>Rejected</td><td>  8     </td></tr>\n",
       "\t<tr><td>B       </td><td>Male    </td><td>Admitted</td><td>353     </td></tr>\n",
       "\t<tr><td>B       </td><td>Male    </td><td>Rejected</td><td>207     </td></tr>\n",
       "\t<tr><td>C       </td><td>Female  </td><td>Admitted</td><td>202     </td></tr>\n",
       "\t<tr><td>C       </td><td>Female  </td><td>Rejected</td><td>391     </td></tr>\n",
       "\t<tr><td>C       </td><td>Male    </td><td>Admitted</td><td>120     </td></tr>\n",
       "\t<tr><td>C       </td><td>Male    </td><td>Rejected</td><td>205     </td></tr>\n",
       "\t<tr><td>D       </td><td>Female  </td><td>Admitted</td><td>131     </td></tr>\n",
       "\t<tr><td>D       </td><td>Female  </td><td>Rejected</td><td>244     </td></tr>\n",
       "\t<tr><td>D       </td><td>Male    </td><td>Admitted</td><td>138     </td></tr>\n",
       "\t<tr><td>D       </td><td>Male    </td><td>Rejected</td><td>279     </td></tr>\n",
       "\t<tr><td>E       </td><td>Female  </td><td>Admitted</td><td> 94     </td></tr>\n",
       "\t<tr><td>E       </td><td>Female  </td><td>Rejected</td><td>299     </td></tr>\n",
       "\t<tr><td>E       </td><td>Male    </td><td>Admitted</td><td> 53     </td></tr>\n",
       "\t<tr><td>E       </td><td>Male    </td><td>Rejected</td><td>138     </td></tr>\n",
       "\t<tr><td>F       </td><td>Female  </td><td>Admitted</td><td> 24     </td></tr>\n",
       "\t<tr><td>F       </td><td>Female  </td><td>Rejected</td><td>317     </td></tr>\n",
       "\t<tr><td>F       </td><td>Male    </td><td>Admitted</td><td> 22     </td></tr>\n",
       "\t<tr><td>F       </td><td>Male    </td><td>Rejected</td><td>351     </td></tr>\n",
       "</tbody>\n",
       "</table>\n"
      ],
      "text/latex": [
       "\\begin{tabular}{r|llll}\n",
       " Dept & Gender & Admit & n\\\\\n",
       "\\hline\n",
       "\t A        & Female   & Admitted &  89     \\\\\n",
       "\t A        & Female   & Rejected &  19     \\\\\n",
       "\t A        & Male     & Admitted & 512     \\\\\n",
       "\t A        & Male     & Rejected & 313     \\\\\n",
       "\t B        & Female   & Admitted &  17     \\\\\n",
       "\t B        & Female   & Rejected &   8     \\\\\n",
       "\t B        & Male     & Admitted & 353     \\\\\n",
       "\t B        & Male     & Rejected & 207     \\\\\n",
       "\t C        & Female   & Admitted & 202     \\\\\n",
       "\t C        & Female   & Rejected & 391     \\\\\n",
       "\t C        & Male     & Admitted & 120     \\\\\n",
       "\t C        & Male     & Rejected & 205     \\\\\n",
       "\t D        & Female   & Admitted & 131     \\\\\n",
       "\t D        & Female   & Rejected & 244     \\\\\n",
       "\t D        & Male     & Admitted & 138     \\\\\n",
       "\t D        & Male     & Rejected & 279     \\\\\n",
       "\t E        & Female   & Admitted &  94     \\\\\n",
       "\t E        & Female   & Rejected & 299     \\\\\n",
       "\t E        & Male     & Admitted &  53     \\\\\n",
       "\t E        & Male     & Rejected & 138     \\\\\n",
       "\t F        & Female   & Admitted &  24     \\\\\n",
       "\t F        & Female   & Rejected & 317     \\\\\n",
       "\t F        & Male     & Admitted &  22     \\\\\n",
       "\t F        & Male     & Rejected & 351     \\\\\n",
       "\\end{tabular}\n"
      ],
      "text/markdown": [
       "\n",
       "Dept | Gender | Admit | n | \n",
       "|---|---|---|---|---|---|---|---|---|---|---|---|---|---|---|---|---|---|---|---|---|---|---|---|\n",
       "| A        | Female   | Admitted |  89      | \n",
       "| A        | Female   | Rejected |  19      | \n",
       "| A        | Male     | Admitted | 512      | \n",
       "| A        | Male     | Rejected | 313      | \n",
       "| B        | Female   | Admitted |  17      | \n",
       "| B        | Female   | Rejected |   8      | \n",
       "| B        | Male     | Admitted | 353      | \n",
       "| B        | Male     | Rejected | 207      | \n",
       "| C        | Female   | Admitted | 202      | \n",
       "| C        | Female   | Rejected | 391      | \n",
       "| C        | Male     | Admitted | 120      | \n",
       "| C        | Male     | Rejected | 205      | \n",
       "| D        | Female   | Admitted | 131      | \n",
       "| D        | Female   | Rejected | 244      | \n",
       "| D        | Male     | Admitted | 138      | \n",
       "| D        | Male     | Rejected | 279      | \n",
       "| E        | Female   | Admitted |  94      | \n",
       "| E        | Female   | Rejected | 299      | \n",
       "| E        | Male     | Admitted |  53      | \n",
       "| E        | Male     | Rejected | 138      | \n",
       "| F        | Female   | Admitted |  24      | \n",
       "| F        | Female   | Rejected | 317      | \n",
       "| F        | Male     | Admitted |  22      | \n",
       "| F        | Male     | Rejected | 351      | \n",
       "\n",
       "\n"
      ],
      "text/plain": [
       "   Dept Gender Admit    n  \n",
       "1  A    Female Admitted  89\n",
       "2  A    Female Rejected  19\n",
       "3  A    Male   Admitted 512\n",
       "4  A    Male   Rejected 313\n",
       "5  B    Female Admitted  17\n",
       "6  B    Female Rejected   8\n",
       "7  B    Male   Admitted 353\n",
       "8  B    Male   Rejected 207\n",
       "9  C    Female Admitted 202\n",
       "10 C    Female Rejected 391\n",
       "11 C    Male   Admitted 120\n",
       "12 C    Male   Rejected 205\n",
       "13 D    Female Admitted 131\n",
       "14 D    Female Rejected 244\n",
       "15 D    Male   Admitted 138\n",
       "16 D    Male   Rejected 279\n",
       "17 E    Female Admitted  94\n",
       "18 E    Female Rejected 299\n",
       "19 E    Male   Admitted  53\n",
       "20 E    Male   Rejected 138\n",
       "21 F    Female Admitted  24\n",
       "22 F    Female Rejected 317\n",
       "23 F    Male   Admitted  22\n",
       "24 F    Male   Rejected 351"
      ]
     },
     "metadata": {},
     "output_type": "display_data"
    }
   ],
   "source": [
    "ucb_admission_counts <- ucb_admit %>%\n",
    "    group_by(Dept, Gender, Admit) %>%\n",
    "    count()\n",
    "\n",
    "ucb_admission_counts"
   ]
  },
  {
   "cell_type": "code",
   "execution_count": 53,
   "metadata": {},
   "outputs": [
    {
     "data": {
      "text/html": [
       "<table>\n",
       "<thead><tr><th scope=col>Dept</th><th scope=col>Gender</th><th scope=col>Admit</th><th scope=col>n</th><th scope=col>prop</th></tr></thead>\n",
       "<tbody>\n",
       "\t<tr><td>A         </td><td>Female    </td><td>Admitted  </td><td> 89       </td><td>0.82407407</td></tr>\n",
       "\t<tr><td>A         </td><td>Female    </td><td>Rejected  </td><td> 19       </td><td>0.17592593</td></tr>\n",
       "\t<tr><td>A         </td><td>Male      </td><td>Admitted  </td><td>512       </td><td>0.62060606</td></tr>\n",
       "\t<tr><td>A         </td><td>Male      </td><td>Rejected  </td><td>313       </td><td>0.37939394</td></tr>\n",
       "\t<tr><td>B         </td><td>Female    </td><td>Admitted  </td><td> 17       </td><td>0.68000000</td></tr>\n",
       "\t<tr><td>B         </td><td>Female    </td><td>Rejected  </td><td>  8       </td><td>0.32000000</td></tr>\n",
       "\t<tr><td>B         </td><td>Male      </td><td>Admitted  </td><td>353       </td><td>0.63035714</td></tr>\n",
       "\t<tr><td>B         </td><td>Male      </td><td>Rejected  </td><td>207       </td><td>0.36964286</td></tr>\n",
       "\t<tr><td>C         </td><td>Female    </td><td>Admitted  </td><td>202       </td><td>0.34064081</td></tr>\n",
       "\t<tr><td>C         </td><td>Female    </td><td>Rejected  </td><td>391       </td><td>0.65935919</td></tr>\n",
       "\t<tr><td>C         </td><td>Male      </td><td>Admitted  </td><td>120       </td><td>0.36923077</td></tr>\n",
       "\t<tr><td>C         </td><td>Male      </td><td>Rejected  </td><td>205       </td><td>0.63076923</td></tr>\n",
       "\t<tr><td>D         </td><td>Female    </td><td>Admitted  </td><td>131       </td><td>0.34933333</td></tr>\n",
       "\t<tr><td>D         </td><td>Female    </td><td>Rejected  </td><td>244       </td><td>0.65066667</td></tr>\n",
       "\t<tr><td>D         </td><td>Male      </td><td>Admitted  </td><td>138       </td><td>0.33093525</td></tr>\n",
       "\t<tr><td>D         </td><td>Male      </td><td>Rejected  </td><td>279       </td><td>0.66906475</td></tr>\n",
       "\t<tr><td>E         </td><td>Female    </td><td>Admitted  </td><td> 94       </td><td>0.23918575</td></tr>\n",
       "\t<tr><td>E         </td><td>Female    </td><td>Rejected  </td><td>299       </td><td>0.76081425</td></tr>\n",
       "\t<tr><td>E         </td><td>Male      </td><td>Admitted  </td><td> 53       </td><td>0.27748691</td></tr>\n",
       "\t<tr><td>E         </td><td>Male      </td><td>Rejected  </td><td>138       </td><td>0.72251309</td></tr>\n",
       "\t<tr><td>F         </td><td>Female    </td><td>Admitted  </td><td> 24       </td><td>0.07038123</td></tr>\n",
       "\t<tr><td>F         </td><td>Female    </td><td>Rejected  </td><td>317       </td><td>0.92961877</td></tr>\n",
       "\t<tr><td>F         </td><td>Male      </td><td>Admitted  </td><td> 22       </td><td>0.05898123</td></tr>\n",
       "\t<tr><td>F         </td><td>Male      </td><td>Rejected  </td><td>351       </td><td>0.94101877</td></tr>\n",
       "</tbody>\n",
       "</table>\n"
      ],
      "text/latex": [
       "\\begin{tabular}{r|lllll}\n",
       " Dept & Gender & Admit & n & prop\\\\\n",
       "\\hline\n",
       "\t A          & Female     & Admitted   &  89        & 0.82407407\\\\\n",
       "\t A          & Female     & Rejected   &  19        & 0.17592593\\\\\n",
       "\t A          & Male       & Admitted   & 512        & 0.62060606\\\\\n",
       "\t A          & Male       & Rejected   & 313        & 0.37939394\\\\\n",
       "\t B          & Female     & Admitted   &  17        & 0.68000000\\\\\n",
       "\t B          & Female     & Rejected   &   8        & 0.32000000\\\\\n",
       "\t B          & Male       & Admitted   & 353        & 0.63035714\\\\\n",
       "\t B          & Male       & Rejected   & 207        & 0.36964286\\\\\n",
       "\t C          & Female     & Admitted   & 202        & 0.34064081\\\\\n",
       "\t C          & Female     & Rejected   & 391        & 0.65935919\\\\\n",
       "\t C          & Male       & Admitted   & 120        & 0.36923077\\\\\n",
       "\t C          & Male       & Rejected   & 205        & 0.63076923\\\\\n",
       "\t D          & Female     & Admitted   & 131        & 0.34933333\\\\\n",
       "\t D          & Female     & Rejected   & 244        & 0.65066667\\\\\n",
       "\t D          & Male       & Admitted   & 138        & 0.33093525\\\\\n",
       "\t D          & Male       & Rejected   & 279        & 0.66906475\\\\\n",
       "\t E          & Female     & Admitted   &  94        & 0.23918575\\\\\n",
       "\t E          & Female     & Rejected   & 299        & 0.76081425\\\\\n",
       "\t E          & Male       & Admitted   &  53        & 0.27748691\\\\\n",
       "\t E          & Male       & Rejected   & 138        & 0.72251309\\\\\n",
       "\t F          & Female     & Admitted   &  24        & 0.07038123\\\\\n",
       "\t F          & Female     & Rejected   & 317        & 0.92961877\\\\\n",
       "\t F          & Male       & Admitted   &  22        & 0.05898123\\\\\n",
       "\t F          & Male       & Rejected   & 351        & 0.94101877\\\\\n",
       "\\end{tabular}\n"
      ],
      "text/markdown": [
       "\n",
       "Dept | Gender | Admit | n | prop | \n",
       "|---|---|---|---|---|---|---|---|---|---|---|---|---|---|---|---|---|---|---|---|---|---|---|---|\n",
       "| A          | Female     | Admitted   |  89        | 0.82407407 | \n",
       "| A          | Female     | Rejected   |  19        | 0.17592593 | \n",
       "| A          | Male       | Admitted   | 512        | 0.62060606 | \n",
       "| A          | Male       | Rejected   | 313        | 0.37939394 | \n",
       "| B          | Female     | Admitted   |  17        | 0.68000000 | \n",
       "| B          | Female     | Rejected   |   8        | 0.32000000 | \n",
       "| B          | Male       | Admitted   | 353        | 0.63035714 | \n",
       "| B          | Male       | Rejected   | 207        | 0.36964286 | \n",
       "| C          | Female     | Admitted   | 202        | 0.34064081 | \n",
       "| C          | Female     | Rejected   | 391        | 0.65935919 | \n",
       "| C          | Male       | Admitted   | 120        | 0.36923077 | \n",
       "| C          | Male       | Rejected   | 205        | 0.63076923 | \n",
       "| D          | Female     | Admitted   | 131        | 0.34933333 | \n",
       "| D          | Female     | Rejected   | 244        | 0.65066667 | \n",
       "| D          | Male       | Admitted   | 138        | 0.33093525 | \n",
       "| D          | Male       | Rejected   | 279        | 0.66906475 | \n",
       "| E          | Female     | Admitted   |  94        | 0.23918575 | \n",
       "| E          | Female     | Rejected   | 299        | 0.76081425 | \n",
       "| E          | Male       | Admitted   |  53        | 0.27748691 | \n",
       "| E          | Male       | Rejected   | 138        | 0.72251309 | \n",
       "| F          | Female     | Admitted   |  24        | 0.07038123 | \n",
       "| F          | Female     | Rejected   | 317        | 0.92961877 | \n",
       "| F          | Male       | Admitted   |  22        | 0.05898123 | \n",
       "| F          | Male       | Rejected   | 351        | 0.94101877 | \n",
       "\n",
       "\n"
      ],
      "text/plain": [
       "   Dept Gender Admit    n   prop      \n",
       "1  A    Female Admitted  89 0.82407407\n",
       "2  A    Female Rejected  19 0.17592593\n",
       "3  A    Male   Admitted 512 0.62060606\n",
       "4  A    Male   Rejected 313 0.37939394\n",
       "5  B    Female Admitted  17 0.68000000\n",
       "6  B    Female Rejected   8 0.32000000\n",
       "7  B    Male   Admitted 353 0.63035714\n",
       "8  B    Male   Rejected 207 0.36964286\n",
       "9  C    Female Admitted 202 0.34064081\n",
       "10 C    Female Rejected 391 0.65935919\n",
       "11 C    Male   Admitted 120 0.36923077\n",
       "12 C    Male   Rejected 205 0.63076923\n",
       "13 D    Female Admitted 131 0.34933333\n",
       "14 D    Female Rejected 244 0.65066667\n",
       "15 D    Male   Admitted 138 0.33093525\n",
       "16 D    Male   Rejected 279 0.66906475\n",
       "17 E    Female Admitted  94 0.23918575\n",
       "18 E    Female Rejected 299 0.76081425\n",
       "19 E    Male   Admitted  53 0.27748691\n",
       "20 E    Male   Rejected 138 0.72251309\n",
       "21 F    Female Admitted  24 0.07038123\n",
       "22 F    Female Rejected 317 0.92961877\n",
       "23 F    Male   Admitted  22 0.05898123\n",
       "24 F    Male   Rejected 351 0.94101877"
      ]
     },
     "metadata": {},
     "output_type": "display_data"
    }
   ],
   "source": [
    "ucb_admission_counts  %>%\n",
    "  group_by(Dept, Gender) %>%\n",
    "  mutate(prop = n/sum(n))"
   ]
  },
  {
   "cell_type": "markdown",
   "metadata": {},
   "source": [
    "### Gapminder dataset"
   ]
  },
  {
   "cell_type": "code",
   "execution_count": 54,
   "metadata": {},
   "outputs": [],
   "source": [
    "library(gapminder)"
   ]
  },
  {
   "cell_type": "code",
   "execution_count": 55,
   "metadata": {},
   "outputs": [
    {
     "data": {
      "text/html": [
       "<table>\n",
       "<thead><tr><th scope=col>country</th><th scope=col>continent</th><th scope=col>year</th><th scope=col>lifeExp</th><th scope=col>pop</th><th scope=col>gdpPercap</th></tr></thead>\n",
       "<tbody>\n",
       "\t<tr><td>Afghanistan</td><td>Asia       </td><td>1952       </td><td>28.801     </td><td> 8425333   </td><td>779.4453   </td></tr>\n",
       "\t<tr><td>Afghanistan</td><td>Asia       </td><td>1957       </td><td>30.332     </td><td> 9240934   </td><td>820.8530   </td></tr>\n",
       "\t<tr><td>Afghanistan</td><td>Asia       </td><td>1962       </td><td>31.997     </td><td>10267083   </td><td>853.1007   </td></tr>\n",
       "\t<tr><td>Afghanistan</td><td>Asia       </td><td>1967       </td><td>34.020     </td><td>11537966   </td><td>836.1971   </td></tr>\n",
       "\t<tr><td>Afghanistan</td><td>Asia       </td><td>1972       </td><td>36.088     </td><td>13079460   </td><td>739.9811   </td></tr>\n",
       "\t<tr><td>Afghanistan</td><td>Asia       </td><td>1977       </td><td>38.438     </td><td>14880372   </td><td>786.1134   </td></tr>\n",
       "</tbody>\n",
       "</table>\n"
      ],
      "text/latex": [
       "\\begin{tabular}{r|llllll}\n",
       " country & continent & year & lifeExp & pop & gdpPercap\\\\\n",
       "\\hline\n",
       "\t Afghanistan & Asia        & 1952        & 28.801      &  8425333    & 779.4453   \\\\\n",
       "\t Afghanistan & Asia        & 1957        & 30.332      &  9240934    & 820.8530   \\\\\n",
       "\t Afghanistan & Asia        & 1962        & 31.997      & 10267083    & 853.1007   \\\\\n",
       "\t Afghanistan & Asia        & 1967        & 34.020      & 11537966    & 836.1971   \\\\\n",
       "\t Afghanistan & Asia        & 1972        & 36.088      & 13079460    & 739.9811   \\\\\n",
       "\t Afghanistan & Asia        & 1977        & 38.438      & 14880372    & 786.1134   \\\\\n",
       "\\end{tabular}\n"
      ],
      "text/markdown": [
       "\n",
       "country | continent | year | lifeExp | pop | gdpPercap | \n",
       "|---|---|---|---|---|---|\n",
       "| Afghanistan | Asia        | 1952        | 28.801      |  8425333    | 779.4453    | \n",
       "| Afghanistan | Asia        | 1957        | 30.332      |  9240934    | 820.8530    | \n",
       "| Afghanistan | Asia        | 1962        | 31.997      | 10267083    | 853.1007    | \n",
       "| Afghanistan | Asia        | 1967        | 34.020      | 11537966    | 836.1971    | \n",
       "| Afghanistan | Asia        | 1972        | 36.088      | 13079460    | 739.9811    | \n",
       "| Afghanistan | Asia        | 1977        | 38.438      | 14880372    | 786.1134    | \n",
       "\n",
       "\n"
      ],
      "text/plain": [
       "  country     continent year lifeExp pop      gdpPercap\n",
       "1 Afghanistan Asia      1952 28.801   8425333 779.4453 \n",
       "2 Afghanistan Asia      1957 30.332   9240934 820.8530 \n",
       "3 Afghanistan Asia      1962 31.997  10267083 853.1007 \n",
       "4 Afghanistan Asia      1967 34.020  11537966 836.1971 \n",
       "5 Afghanistan Asia      1972 36.088  13079460 739.9811 \n",
       "6 Afghanistan Asia      1977 38.438  14880372 786.1134 "
      ]
     },
     "metadata": {},
     "output_type": "display_data"
    }
   ],
   "source": [
    "head(gapminder)"
   ]
  },
  {
   "cell_type": "code",
   "execution_count": 56,
   "metadata": {},
   "outputs": [
    {
     "name": "stdout",
     "output_type": "stream",
     "text": [
      "Observations: 1,704\n",
      "Variables: 6\n",
      "$ country   <fct> Afghanistan, Afghanistan, Afghanistan, Afghanistan, Afgha...\n",
      "$ continent <fct> Asia, Asia, Asia, Asia, Asia, Asia, Asia, Asia, Asia, Asi...\n",
      "$ year      <int> 1952, 1957, 1962, 1967, 1972, 1977, 1982, 1987, 1992, 199...\n",
      "$ lifeExp   <dbl> 28.801, 30.332, 31.997, 34.020, 36.088, 38.438, 39.854, 4...\n",
      "$ pop       <int> 8425333, 9240934, 10267083, 11537966, 13079460, 14880372,...\n",
      "$ gdpPercap <dbl> 779.4453, 820.8530, 853.1007, 836.1971, 739.9811, 786.113...\n"
     ]
    }
   ],
   "source": [
    "glimpse(gapminder)"
   ]
  },
  {
   "cell_type": "markdown",
   "metadata": {},
   "source": [
    "### Sampling strategies\n"
   ]
  },
  {
   "cell_type": "markdown",
   "metadata": {},
   "source": [
    "Why do we sample in the first place? Why not try to collect data from the entire population of interest? You could try to take a census but it isn't easy. First, taking a census requires a lot more resources than collecting data from a sample of the population. Second, certain individuals in your population might be hard to locate or collect data from. If these individuals that are missed in the census are different from those in the rest of the population, the census data will be biased. \n",
    "\n",
    "For example, in the US census, illegal immigrants are often not recorded properly since they tend to be reluctant to fill out census forms with the concern that this information could be shared with immigrantion. However, these individuals might have characteristics different from the rest of the population and hence, not getting information from them might result in unreliable data from geographical regions with high concentrations of illegal immigrants. Lastly, populations are constantly changing. Even if you do have the required resources and manage to collect data from everyone in the population, your population will be different tomorrow and so the hard work required to collect such data may not pay off.\n",
    "\n",
    "### Sample is natural\n",
    "\n",
    "If you think about it, sampling is actually quite natural. Think about something you are cooking. We taste or in other words examine a small part of what we're cooking to get an idea about the dish as a whole. Afterall, we would never eat a whole pot of soup just to check its taste. When you taste a spoonful of soup and decide the spoonful you tasted isn't salty enough, what you're doing is simply explanatory analysis for the sample at hand. If you then generalize and conclude that your entire soup needs salt, that's making an inference. For your inference to be valid, the spoonful you tasted (your sample), needs to be representative of the entire pot (your population). If your spoonful comes only from the surface and the salt is collected at the bottom, what you tasted is probably not going to be representative of the whole pot. On the other hand, if you first stir the soup thoroughly before you taste, your spoonful will more likely be representative of the whole pot. \n",
    "\n",
    "Sampling data is a bit different than sampling soup though. Let's introduce a few commonly used sampling methods: \n",
    "\n",
    "* Simple random sampling\n",
    "* Stratified sampling\n",
    "* Cluster sampling\n",
    "* Multistage sampling"
   ]
  },
  {
   "cell_type": "markdown",
   "metadata": {},
   "source": [
    "### Simple random sampling\n",
    "We randomly select cases from the population, such that each case is equally likely to be selected. This is similar to randomly drawing names from a hat. \n",
    "\n",
    "### Stratified sampling\n",
    "We first divide the population into homogeneous groups called strata and then we randomly sample from within each stratum. For example, if we wanted to make sure that people from low, medium, and high socioeconomic status are equally represented in a study, we would first divide our population into 3 groups as such and then sample from within each group. \n",
    "\n",
    "### Cluster sampling\n",
    "In cluster sampling, we divide the population into clusters, randomly sample a few clusters, and then sample all observations within these clusters. The clusters, unlike strata in stratified sampling, are heterogeneous within themselves and each cluster is similar to the others, such that we can get away with sampling from just a few of the clusters. \n",
    "\n",
    "### Multistage sampling\n",
    "Multistage sampling adds another steps to cluster sampling. Just like in cluster sampling, we divide the population into clusters, randomly sample a few clusters, and then we randomly sample observations from within those clusters. \n",
    "\n",
    "...\n",
    "\n",
    "Cluster and multistage sampling are often used from economical reasons. One might divide a city into geographic regions that are on average similar to each other and then sample randomly from a few randomly picked regions in order to avoid travelling to all regions. "
   ]
  },
  {
   "cell_type": "markdown",
   "metadata": {},
   "source": [
    "### Examples\n",
    "\n",
    "### Sampling strategies, determine which...\n",
    "\n",
    "A consulting company is planning a pilot study on marketing in Boston. They identify the zip codes that make up the greater Boston area, then sample 50 randomly selected addresses from each zip code and mail a coupon to these addresses. They then track whether the coupon was used in the following month.\n",
    "\n",
    "What sampling strategy has this company used?\n",
    "\n",
    "**Stratified sampling**\n",
    "\n",
    "### Sampling strategies, choose worst...\n",
    "\n",
    "A school district has requested a survey be conducted on the socioeconomic status of their students. Their budget only allows them to conduct the survey in some of the schools, hence they need to first sample a few schools.\n",
    "\n",
    "Students living in this district generally attend a school in their neighborhood. The district is broken into many distinct and unique neighborhoods, some including large single-family homes and others with only low-income housing.\n",
    "\n",
    "Which approach would likely be the least effective for selecting the schools where the survey will be conducted?\n",
    "\n",
    "** Cluster sampling, where each cluster is a neighborhood. This sampling strategy would be a bad idea because each neighborhood has a unique socioeconomic status. A good study would collect information about every neighborhood **"
   ]
  },
  {
   "cell_type": "markdown",
   "metadata": {
    "collapsed": true
   },
   "source": [
    "### Sampling in R"
   ]
  },
  {
   "cell_type": "code",
   "execution_count": 57,
   "metadata": {},
   "outputs": [],
   "source": [
    "library(openintro)\n",
    "library(dplyr)"
   ]
  },
  {
   "cell_type": "code",
   "execution_count": 58,
   "metadata": {
    "collapsed": true
   },
   "outputs": [],
   "source": [
    "# load county data\n",
    "data(county)"
   ]
  },
  {
   "cell_type": "code",
   "execution_count": 59,
   "metadata": {},
   "outputs": [
    {
     "data": {
      "text/html": [
       "<table>\n",
       "<thead><tr><th scope=col>name</th><th scope=col>state</th><th scope=col>pop2000</th><th scope=col>pop2010</th><th scope=col>fed_spend</th><th scope=col>poverty</th><th scope=col>homeownership</th><th scope=col>multiunit</th><th scope=col>income</th><th scope=col>med_income</th></tr></thead>\n",
       "<tbody>\n",
       "\t<tr><td>Autauga County</td><td>Alabama       </td><td> 43671        </td><td> 54571        </td><td>6.068095      </td><td>10.6          </td><td>77.5          </td><td> 7.2          </td><td>24568         </td><td>53255         </td></tr>\n",
       "\t<tr><td>Baldwin County</td><td>Alabama       </td><td>140415        </td><td>182265        </td><td>6.139862      </td><td>12.2          </td><td>76.7          </td><td>22.6          </td><td>26469         </td><td>50147         </td></tr>\n",
       "\t<tr><td>Barbour County</td><td>Alabama       </td><td> 29038        </td><td> 27457        </td><td>8.752158      </td><td>25.0          </td><td>68.0          </td><td>11.1          </td><td>15875         </td><td>33219         </td></tr>\n",
       "\t<tr><td>Bibb County   </td><td>Alabama       </td><td> 20826        </td><td> 22915        </td><td>7.122016      </td><td>12.6          </td><td>82.9          </td><td> 6.6          </td><td>19918         </td><td>41770         </td></tr>\n",
       "\t<tr><td>Blount County </td><td>Alabama       </td><td> 51024        </td><td> 57322        </td><td>5.130910      </td><td>13.4          </td><td>82.0          </td><td> 3.7          </td><td>21070         </td><td>45549         </td></tr>\n",
       "\t<tr><td>Bullock County</td><td>Alabama       </td><td> 11714        </td><td> 10914        </td><td>9.973062      </td><td>25.3          </td><td>76.9          </td><td> 9.9          </td><td>20289         </td><td>31602         </td></tr>\n",
       "</tbody>\n",
       "</table>\n"
      ],
      "text/latex": [
       "\\begin{tabular}{r|llllllllll}\n",
       " name & state & pop2000 & pop2010 & fed\\_spend & poverty & homeownership & multiunit & income & med\\_income\\\\\n",
       "\\hline\n",
       "\t Autauga County & Alabama        &  43671         &  54571         & 6.068095       & 10.6           & 77.5           &  7.2           & 24568          & 53255         \\\\\n",
       "\t Baldwin County & Alabama        & 140415         & 182265         & 6.139862       & 12.2           & 76.7           & 22.6           & 26469          & 50147         \\\\\n",
       "\t Barbour County & Alabama        &  29038         &  27457         & 8.752158       & 25.0           & 68.0           & 11.1           & 15875          & 33219         \\\\\n",
       "\t Bibb County    & Alabama        &  20826         &  22915         & 7.122016       & 12.6           & 82.9           &  6.6           & 19918          & 41770         \\\\\n",
       "\t Blount County  & Alabama        &  51024         &  57322         & 5.130910       & 13.4           & 82.0           &  3.7           & 21070          & 45549         \\\\\n",
       "\t Bullock County & Alabama        &  11714         &  10914         & 9.973062       & 25.3           & 76.9           &  9.9           & 20289          & 31602         \\\\\n",
       "\\end{tabular}\n"
      ],
      "text/markdown": [
       "\n",
       "name | state | pop2000 | pop2010 | fed_spend | poverty | homeownership | multiunit | income | med_income | \n",
       "|---|---|---|---|---|---|\n",
       "| Autauga County | Alabama        |  43671         |  54571         | 6.068095       | 10.6           | 77.5           |  7.2           | 24568          | 53255          | \n",
       "| Baldwin County | Alabama        | 140415         | 182265         | 6.139862       | 12.2           | 76.7           | 22.6           | 26469          | 50147          | \n",
       "| Barbour County | Alabama        |  29038         |  27457         | 8.752158       | 25.0           | 68.0           | 11.1           | 15875          | 33219          | \n",
       "| Bibb County    | Alabama        |  20826         |  22915         | 7.122016       | 12.6           | 82.9           |  6.6           | 19918          | 41770          | \n",
       "| Blount County  | Alabama        |  51024         |  57322         | 5.130910       | 13.4           | 82.0           |  3.7           | 21070          | 45549          | \n",
       "| Bullock County | Alabama        |  11714         |  10914         | 9.973062       | 25.3           | 76.9           |  9.9           | 20289          | 31602          | \n",
       "\n",
       "\n"
      ],
      "text/plain": [
       "  name           state   pop2000 pop2010 fed_spend poverty homeownership\n",
       "1 Autauga County Alabama  43671   54571  6.068095  10.6    77.5         \n",
       "2 Baldwin County Alabama 140415  182265  6.139862  12.2    76.7         \n",
       "3 Barbour County Alabama  29038   27457  8.752158  25.0    68.0         \n",
       "4 Bibb County    Alabama  20826   22915  7.122016  12.6    82.9         \n",
       "5 Blount County  Alabama  51024   57322  5.130910  13.4    82.0         \n",
       "6 Bullock County Alabama  11714   10914  9.973062  25.3    76.9         \n",
       "  multiunit income med_income\n",
       "1  7.2      24568  53255     \n",
       "2 22.6      26469  50147     \n",
       "3 11.1      15875  33219     \n",
       "4  6.6      19918  41770     \n",
       "5  3.7      21070  45549     \n",
       "6  9.9      20289  31602     "
      ]
     },
     "metadata": {},
     "output_type": "display_data"
    }
   ],
   "source": [
    "head(county)"
   ]
  },
  {
   "cell_type": "code",
   "execution_count": 60,
   "metadata": {},
   "outputs": [
    {
     "data": {
      "text/plain": [
       "                name           state         pop2000           pop2010       \n",
       " Washington County:  30   Texas   : 254   Min.   :     67   Min.   :     82  \n",
       " Jefferson County :  25   Georgia : 159   1st Qu.:  11210   1st Qu.:  11104  \n",
       " Franklin County  :  24   Virginia: 134   Median :  24608   Median :  25857  \n",
       " Jackson County   :  23   Kentucky: 120   Mean   :  89623   Mean   :  98233  \n",
       " Lincoln County   :  23   Missouri: 115   3rd Qu.:  61766   3rd Qu.:  66699  \n",
       " Madison County   :  19   Kansas  : 105   Max.   :9519338   Max.   :9818605  \n",
       " (Other)          :2999   (Other) :2256   NA's   :3                          \n",
       "   fed_spend          poverty     homeownership     multiunit    \n",
       " Min.   :  0.000   Min.   : 0.0   Min.   : 0.00   Min.   : 0.00  \n",
       " 1st Qu.:  6.964   1st Qu.:11.0   1st Qu.:69.50   1st Qu.: 6.10  \n",
       " Median :  8.669   Median :14.7   Median :74.60   Median : 9.70  \n",
       " Mean   :  9.991   Mean   :15.5   Mean   :73.26   Mean   :12.33  \n",
       " 3rd Qu.: 10.857   3rd Qu.:19.0   3rd Qu.:78.40   3rd Qu.:15.90  \n",
       " Max.   :204.616   Max.   :53.5   Max.   :91.30   Max.   :98.50  \n",
       " NA's   :4                                                       \n",
       "     income        med_income    \n",
       " Min.   : 7772   Min.   : 19351  \n",
       " 1st Qu.:19030   1st Qu.: 36952  \n",
       " Median :21773   Median : 42445  \n",
       " Mean   :22505   Mean   : 44270  \n",
       " 3rd Qu.:24814   3rd Qu.: 49142  \n",
       " Max.   :64381   Max.   :115574  \n",
       "                                 "
      ]
     },
     "metadata": {},
     "output_type": "display_data"
    }
   ],
   "source": [
    "summary(county)"
   ]
  },
  {
   "cell_type": "code",
   "execution_count": 61,
   "metadata": {},
   "outputs": [
    {
     "name": "stdout",
     "output_type": "stream",
     "text": [
      "Observations: 3,143\n",
      "Variables: 10\n",
      "$ name          <fct> Autauga County, Baldwin County, Barbour County, Bibb ...\n",
      "$ state         <fct> Alabama, Alabama, Alabama, Alabama, Alabama, Alabama,...\n",
      "$ pop2000       <dbl> 43671, 140415, 29038, 20826, 51024, 11714, 21399, 112...\n",
      "$ pop2010       <dbl> 54571, 182265, 27457, 22915, 57322, 10914, 20947, 118...\n",
      "$ fed_spend     <dbl> 6.068095, 6.139862, 8.752158, 7.122016, 5.130910, 9.9...\n",
      "$ poverty       <dbl> 10.6, 12.2, 25.0, 12.6, 13.4, 25.3, 25.0, 19.5, 20.3,...\n",
      "$ homeownership <dbl> 77.5, 76.7, 68.0, 82.9, 82.0, 76.9, 69.0, 70.7, 71.4,...\n",
      "$ multiunit     <dbl> 7.2, 22.6, 11.1, 6.6, 3.7, 9.9, 13.7, 14.3, 8.7, 4.3,...\n",
      "$ income        <dbl> 24568, 26469, 15875, 19918, 21070, 20289, 16916, 2057...\n",
      "$ med_income    <dbl> 53255, 50147, 33219, 41770, 45549, 31602, 30659, 3840...\n"
     ]
    }
   ],
   "source": [
    "glimpse(county)"
   ]
  },
  {
   "cell_type": "code",
   "execution_count": 62,
   "metadata": {},
   "outputs": [
    {
     "data": {
      "text/html": [
       "<table>\n",
       "<thead><tr><th scope=col>name</th><th scope=col>state</th><th scope=col>pop2000</th><th scope=col>pop2010</th><th scope=col>fed_spend</th><th scope=col>poverty</th><th scope=col>homeownership</th><th scope=col>multiunit</th><th scope=col>income</th><th scope=col>med_income</th></tr></thead>\n",
       "<tbody>\n",
       "\t<tr><td>Autauga County</td><td>Alabama       </td><td> 43671        </td><td> 54571        </td><td>6.068095      </td><td>10.6          </td><td>77.5          </td><td> 7.2          </td><td>24568         </td><td>53255         </td></tr>\n",
       "\t<tr><td>Baldwin County</td><td>Alabama       </td><td>140415        </td><td>182265        </td><td>6.139862      </td><td>12.2          </td><td>76.7          </td><td>22.6          </td><td>26469         </td><td>50147         </td></tr>\n",
       "\t<tr><td>Barbour County</td><td>Alabama       </td><td> 29038        </td><td> 27457        </td><td>8.752158      </td><td>25.0          </td><td>68.0          </td><td>11.1          </td><td>15875         </td><td>33219         </td></tr>\n",
       "\t<tr><td>Bibb County   </td><td>Alabama       </td><td> 20826        </td><td> 22915        </td><td>7.122016      </td><td>12.6          </td><td>82.9          </td><td> 6.6          </td><td>19918         </td><td>41770         </td></tr>\n",
       "\t<tr><td>Blount County </td><td>Alabama       </td><td> 51024        </td><td> 57322        </td><td>5.130910      </td><td>13.4          </td><td>82.0          </td><td> 3.7          </td><td>21070         </td><td>45549         </td></tr>\n",
       "\t<tr><td>Bullock County</td><td>Alabama       </td><td> 11714        </td><td> 10914        </td><td>9.973062      </td><td>25.3          </td><td>76.9          </td><td> 9.9          </td><td>20289         </td><td>31602         </td></tr>\n",
       "</tbody>\n",
       "</table>\n"
      ],
      "text/latex": [
       "\\begin{tabular}{r|llllllllll}\n",
       " name & state & pop2000 & pop2010 & fed\\_spend & poverty & homeownership & multiunit & income & med\\_income\\\\\n",
       "\\hline\n",
       "\t Autauga County & Alabama        &  43671         &  54571         & 6.068095       & 10.6           & 77.5           &  7.2           & 24568          & 53255         \\\\\n",
       "\t Baldwin County & Alabama        & 140415         & 182265         & 6.139862       & 12.2           & 76.7           & 22.6           & 26469          & 50147         \\\\\n",
       "\t Barbour County & Alabama        &  29038         &  27457         & 8.752158       & 25.0           & 68.0           & 11.1           & 15875          & 33219         \\\\\n",
       "\t Bibb County    & Alabama        &  20826         &  22915         & 7.122016       & 12.6           & 82.9           &  6.6           & 19918          & 41770         \\\\\n",
       "\t Blount County  & Alabama        &  51024         &  57322         & 5.130910       & 13.4           & 82.0           &  3.7           & 21070          & 45549         \\\\\n",
       "\t Bullock County & Alabama        &  11714         &  10914         & 9.973062       & 25.3           & 76.9           &  9.9           & 20289          & 31602         \\\\\n",
       "\\end{tabular}\n"
      ],
      "text/markdown": [
       "\n",
       "name | state | pop2000 | pop2010 | fed_spend | poverty | homeownership | multiunit | income | med_income | \n",
       "|---|---|---|---|---|---|\n",
       "| Autauga County | Alabama        |  43671         |  54571         | 6.068095       | 10.6           | 77.5           |  7.2           | 24568          | 53255          | \n",
       "| Baldwin County | Alabama        | 140415         | 182265         | 6.139862       | 12.2           | 76.7           | 22.6           | 26469          | 50147          | \n",
       "| Barbour County | Alabama        |  29038         |  27457         | 8.752158       | 25.0           | 68.0           | 11.1           | 15875          | 33219          | \n",
       "| Bibb County    | Alabama        |  20826         |  22915         | 7.122016       | 12.6           | 82.9           |  6.6           | 19918          | 41770          | \n",
       "| Blount County  | Alabama        |  51024         |  57322         | 5.130910       | 13.4           | 82.0           |  3.7           | 21070          | 45549          | \n",
       "| Bullock County | Alabama        |  11714         |  10914         | 9.973062       | 25.3           | 76.9           |  9.9           | 20289          | 31602          | \n",
       "\n",
       "\n"
      ],
      "text/plain": [
       "  name           state   pop2000 pop2010 fed_spend poverty homeownership\n",
       "1 Autauga County Alabama  43671   54571  6.068095  10.6    77.5         \n",
       "2 Baldwin County Alabama 140415  182265  6.139862  12.2    76.7         \n",
       "3 Barbour County Alabama  29038   27457  8.752158  25.0    68.0         \n",
       "4 Bibb County    Alabama  20826   22915  7.122016  12.6    82.9         \n",
       "5 Blount County  Alabama  51024   57322  5.130910  13.4    82.0         \n",
       "6 Bullock County Alabama  11714   10914  9.973062  25.3    76.9         \n",
       "  multiunit income med_income\n",
       "1  7.2      24568  53255     \n",
       "2 22.6      26469  50147     \n",
       "3 11.1      15875  33219     \n",
       "4  6.6      19918  41770     \n",
       "5  3.7      21070  45549     \n",
       "6  9.9      20289  31602     "
      ]
     },
     "metadata": {},
     "output_type": "display_data"
    }
   ],
   "source": [
    "# since DC is not a state by definition, we're going to remove it\n",
    "\n",
    "county_noDC <- county %>%\n",
    "    filter(state != \"District of Columbia\") %>%\n",
    "    droplevels()\n",
    "\n",
    "# we'll drop levels for good measure\n",
    "# dso the District of Columbia is removed completely\n",
    "# from our dataframe. \n",
    "\n",
    "head(county_noDC)"
   ]
  },
  {
   "cell_type": "markdown",
   "metadata": {},
   "source": [
    "Suppose our limited resources require that we collect data from only 150 of the over 3000 counties in the United States. One option is to take a simple random sample."
   ]
  },
  {
   "cell_type": "code",
   "execution_count": 63,
   "metadata": {},
   "outputs": [
    {
     "name": "stdout",
     "output_type": "stream",
     "text": [
      "Observations: 150\n",
      "Variables: 10\n",
      "$ name          <fct> Salt Lake County, Mc Kean County, Rice County, Randol...\n",
      "$ state         <fct> Utah, Pennsylvania, Kansas, Illinois, Tennessee, Geor...\n",
      "$ pop2000       <dbl> 898387, 45936, 10761, 33893, 6786, 96065, 15822, 1748...\n",
      "$ pop2010       <dbl> 1029655, 43450, 10083, 33476, 6819, 94565, 14159, 185...\n",
      "$ fed_spend     <dbl> 8.261465, 9.350104, 8.305068, 7.006482, 13.879894, 11...\n",
      "$ poverty       <dbl> 10.3, 13.9, 13.7, 10.4, 30.3, 28.9, 11.8, 15.8, 12.3,...\n",
      "$ homeownership <dbl> 68.5, 74.4, 75.5, 78.7, 71.5, 48.5, 80.6, 76.2, 76.9,...\n",
      "$ multiunit     <dbl> 27.1, 10.9, 6.0, 9.7, 7.4, 31.5, 6.6, 2.9, 7.9, 20.3,...\n",
      "$ income        <dbl> 25041, 21022, 19316, 19950, 13717, 19210, 23125, 2120...\n",
      "$ med_income    <dbl> 58004, 40097, 43164, 45020, 23125, 32435, 41026, 4542...\n"
     ]
    }
   ],
   "source": [
    "# simple random sample of 150 counties\n",
    "\n",
    "county_srs <- county_noDC %>%\n",
    "    sample_n(size = 150)\n",
    "\n",
    "glimpse(county_srs)"
   ]
  },
  {
   "cell_type": "markdown",
   "metadata": {},
   "source": [
    "However, if we wanted to obtain equal number of counties from each state that is 3 counties per state, a simple random sample won't ensure that. We can confirm this by counting the number of counties per state..."
   ]
  },
  {
   "cell_type": "code",
   "execution_count": 64,
   "metadata": {},
   "outputs": [
    {
     "data": {
      "text/html": [
       "<table>\n",
       "<thead><tr><th scope=col>state</th><th scope=col>n</th></tr></thead>\n",
       "<tbody>\n",
       "\t<tr><td>Alabama       </td><td> 4            </td></tr>\n",
       "\t<tr><td>Alaska        </td><td> 1            </td></tr>\n",
       "\t<tr><td>Arizona       </td><td> 3            </td></tr>\n",
       "\t<tr><td>Arkansas      </td><td> 3            </td></tr>\n",
       "\t<tr><td>California    </td><td> 1            </td></tr>\n",
       "\t<tr><td>Colorado      </td><td> 2            </td></tr>\n",
       "\t<tr><td>Florida       </td><td> 2            </td></tr>\n",
       "\t<tr><td>Georgia       </td><td> 6            </td></tr>\n",
       "\t<tr><td>Idaho         </td><td> 1            </td></tr>\n",
       "\t<tr><td>Illinois      </td><td> 4            </td></tr>\n",
       "\t<tr><td>Indiana       </td><td> 3            </td></tr>\n",
       "\t<tr><td>Iowa          </td><td> 2            </td></tr>\n",
       "\t<tr><td>Kansas        </td><td> 5            </td></tr>\n",
       "\t<tr><td>Kentucky      </td><td> 9            </td></tr>\n",
       "\t<tr><td>Louisiana     </td><td> 3            </td></tr>\n",
       "\t<tr><td>Maine         </td><td> 1            </td></tr>\n",
       "\t<tr><td>Massachusetts </td><td> 2            </td></tr>\n",
       "\t<tr><td>Michigan      </td><td> 4            </td></tr>\n",
       "\t<tr><td>Minnesota     </td><td> 6            </td></tr>\n",
       "\t<tr><td>Mississippi   </td><td> 6            </td></tr>\n",
       "\t<tr><td>Missouri      </td><td> 2            </td></tr>\n",
       "\t<tr><td>Montana       </td><td> 3            </td></tr>\n",
       "\t<tr><td>Nebraska      </td><td> 4            </td></tr>\n",
       "\t<tr><td>Nevada        </td><td> 1            </td></tr>\n",
       "\t<tr><td>New Hampshire </td><td> 1            </td></tr>\n",
       "\t<tr><td>New Mexico    </td><td> 1            </td></tr>\n",
       "\t<tr><td>New York      </td><td> 6            </td></tr>\n",
       "\t<tr><td>North Carolina</td><td> 5            </td></tr>\n",
       "\t<tr><td>North Dakota  </td><td> 2            </td></tr>\n",
       "\t<tr><td>Ohio          </td><td> 2            </td></tr>\n",
       "\t<tr><td>Oklahoma      </td><td> 3            </td></tr>\n",
       "\t<tr><td>Pennsylvania  </td><td> 4            </td></tr>\n",
       "\t<tr><td>South Carolina</td><td> 3            </td></tr>\n",
       "\t<tr><td>South Dakota  </td><td> 3            </td></tr>\n",
       "\t<tr><td>Tennessee     </td><td> 6            </td></tr>\n",
       "\t<tr><td>Texas         </td><td>11            </td></tr>\n",
       "\t<tr><td>Utah          </td><td> 5            </td></tr>\n",
       "\t<tr><td>Vermont       </td><td> 1            </td></tr>\n",
       "\t<tr><td>Virginia      </td><td> 7            </td></tr>\n",
       "\t<tr><td>Washington    </td><td> 1            </td></tr>\n",
       "\t<tr><td>West Virginia </td><td> 4            </td></tr>\n",
       "\t<tr><td>Wisconsin     </td><td> 4            </td></tr>\n",
       "\t<tr><td>Wyoming       </td><td> 3            </td></tr>\n",
       "</tbody>\n",
       "</table>\n"
      ],
      "text/latex": [
       "\\begin{tabular}{r|ll}\n",
       " state & n\\\\\n",
       "\\hline\n",
       "\t Alabama        &  4            \\\\\n",
       "\t Alaska         &  1            \\\\\n",
       "\t Arizona        &  3            \\\\\n",
       "\t Arkansas       &  3            \\\\\n",
       "\t California     &  1            \\\\\n",
       "\t Colorado       &  2            \\\\\n",
       "\t Florida        &  2            \\\\\n",
       "\t Georgia        &  6            \\\\\n",
       "\t Idaho          &  1            \\\\\n",
       "\t Illinois       &  4            \\\\\n",
       "\t Indiana        &  3            \\\\\n",
       "\t Iowa           &  2            \\\\\n",
       "\t Kansas         &  5            \\\\\n",
       "\t Kentucky       &  9            \\\\\n",
       "\t Louisiana      &  3            \\\\\n",
       "\t Maine          &  1            \\\\\n",
       "\t Massachusetts  &  2            \\\\\n",
       "\t Michigan       &  4            \\\\\n",
       "\t Minnesota      &  6            \\\\\n",
       "\t Mississippi    &  6            \\\\\n",
       "\t Missouri       &  2            \\\\\n",
       "\t Montana        &  3            \\\\\n",
       "\t Nebraska       &  4            \\\\\n",
       "\t Nevada         &  1            \\\\\n",
       "\t New Hampshire  &  1            \\\\\n",
       "\t New Mexico     &  1            \\\\\n",
       "\t New York       &  6            \\\\\n",
       "\t North Carolina &  5            \\\\\n",
       "\t North Dakota   &  2            \\\\\n",
       "\t Ohio           &  2            \\\\\n",
       "\t Oklahoma       &  3            \\\\\n",
       "\t Pennsylvania   &  4            \\\\\n",
       "\t South Carolina &  3            \\\\\n",
       "\t South Dakota   &  3            \\\\\n",
       "\t Tennessee      &  6            \\\\\n",
       "\t Texas          & 11            \\\\\n",
       "\t Utah           &  5            \\\\\n",
       "\t Vermont        &  1            \\\\\n",
       "\t Virginia       &  7            \\\\\n",
       "\t Washington     &  1            \\\\\n",
       "\t West Virginia  &  4            \\\\\n",
       "\t Wisconsin      &  4            \\\\\n",
       "\t Wyoming        &  3            \\\\\n",
       "\\end{tabular}\n"
      ],
      "text/markdown": [
       "\n",
       "state | n | \n",
       "|---|---|---|---|---|---|---|---|---|---|---|---|---|---|---|---|---|---|---|---|---|---|---|---|---|---|---|---|---|---|---|---|---|---|---|---|---|---|---|---|---|---|---|\n",
       "| Alabama        |  4             | \n",
       "| Alaska         |  1             | \n",
       "| Arizona        |  3             | \n",
       "| Arkansas       |  3             | \n",
       "| California     |  1             | \n",
       "| Colorado       |  2             | \n",
       "| Florida        |  2             | \n",
       "| Georgia        |  6             | \n",
       "| Idaho          |  1             | \n",
       "| Illinois       |  4             | \n",
       "| Indiana        |  3             | \n",
       "| Iowa           |  2             | \n",
       "| Kansas         |  5             | \n",
       "| Kentucky       |  9             | \n",
       "| Louisiana      |  3             | \n",
       "| Maine          |  1             | \n",
       "| Massachusetts  |  2             | \n",
       "| Michigan       |  4             | \n",
       "| Minnesota      |  6             | \n",
       "| Mississippi    |  6             | \n",
       "| Missouri       |  2             | \n",
       "| Montana        |  3             | \n",
       "| Nebraska       |  4             | \n",
       "| Nevada         |  1             | \n",
       "| New Hampshire  |  1             | \n",
       "| New Mexico     |  1             | \n",
       "| New York       |  6             | \n",
       "| North Carolina |  5             | \n",
       "| North Dakota   |  2             | \n",
       "| Ohio           |  2             | \n",
       "| Oklahoma       |  3             | \n",
       "| Pennsylvania   |  4             | \n",
       "| South Carolina |  3             | \n",
       "| South Dakota   |  3             | \n",
       "| Tennessee      |  6             | \n",
       "| Texas          | 11             | \n",
       "| Utah           |  5             | \n",
       "| Vermont        |  1             | \n",
       "| Virginia       |  7             | \n",
       "| Washington     |  1             | \n",
       "| West Virginia  |  4             | \n",
       "| Wisconsin      |  4             | \n",
       "| Wyoming        |  3             | \n",
       "\n",
       "\n"
      ],
      "text/plain": [
       "   state          n \n",
       "1  Alabama         4\n",
       "2  Alaska          1\n",
       "3  Arizona         3\n",
       "4  Arkansas        3\n",
       "5  California      1\n",
       "6  Colorado        2\n",
       "7  Florida         2\n",
       "8  Georgia         6\n",
       "9  Idaho           1\n",
       "10 Illinois        4\n",
       "11 Indiana         3\n",
       "12 Iowa            2\n",
       "13 Kansas          5\n",
       "14 Kentucky        9\n",
       "15 Louisiana       3\n",
       "16 Maine           1\n",
       "17 Massachusetts   2\n",
       "18 Michigan        4\n",
       "19 Minnesota       6\n",
       "20 Mississippi     6\n",
       "21 Missouri        2\n",
       "22 Montana         3\n",
       "23 Nebraska        4\n",
       "24 Nevada          1\n",
       "25 New Hampshire   1\n",
       "26 New Mexico      1\n",
       "27 New York        6\n",
       "28 North Carolina  5\n",
       "29 North Dakota    2\n",
       "30 Ohio            2\n",
       "31 Oklahoma        3\n",
       "32 Pennsylvania    4\n",
       "33 South Carolina  3\n",
       "34 South Dakota    3\n",
       "35 Tennessee       6\n",
       "36 Texas          11\n",
       "37 Utah            5\n",
       "38 Vermont         1\n",
       "39 Virginia        7\n",
       "40 Washington      1\n",
       "41 West Virginia   4\n",
       "42 Wisconsin       4\n",
       "43 Wyoming         3"
      ]
     },
     "metadata": {},
     "output_type": "display_data"
    }
   ],
   "source": [
    "county_srs %>% \n",
    "    group_by(state) %>%\n",
    "    count()"
   ]
  },
  {
   "cell_type": "markdown",
   "metadata": {},
   "source": [
    "If we instead want to sample 3 counties per state to make up our sample of 150 counties, we should use stratified sampling."
   ]
  },
  {
   "cell_type": "code",
   "execution_count": 65,
   "metadata": {},
   "outputs": [
    {
     "name": "stdout",
     "output_type": "stream",
     "text": [
      "Observations: 150\n",
      "Variables: 10\n",
      "$ name          <fct> Marengo County, Dale County, Perry County, Prince of ...\n",
      "$ state         <fct> Alabama, Alabama, Alabama, Alaska, Alaska, Alaska, Ar...\n",
      "$ pop2000       <dbl> 22539, 49129, 11861, 6146, 7028, 2392, 69423, 97470, ...\n",
      "$ pop2010       <dbl> 21027, 50251, 10591, 5559, 7459, 2508, 71518, 107449,...\n",
      "$ fed_spend     <dbl> 10.101346, 25.774791, 12.354735, 10.248966, 14.112616...\n",
      "$ poverty       <dbl> 22.7, 14.8, 28.8, 14.0, 31.4, 7.2, 34.4, 24.4, 15.7, ...\n",
      "$ homeownership <dbl> 73.5, 61.2, 67.8, 69.0, 64.8, 74.5, 76.3, 72.5, 69.0,...\n",
      "$ multiunit     <dbl> 8.3, 13.2, 11.4, 9.7, 4.1, 13.2, 5.2, 7.0, 12.2, 16.7...\n",
      "$ income        <dbl> 18323, 21722, 13433, 24193, 11269, 27979, 12294, 1674...\n",
      "$ med_income    <dbl> 32940, 43353, 25950, 45728, 37955, 47981, 30184, 3977...\n"
     ]
    }
   ],
   "source": [
    "# stratified sample of 150 counties\n",
    "# each state is a stratum\n",
    "\n",
    "county_str <- county_noDC %>%\n",
    "    group_by(state) %>%\n",
    "    sample_n(size = 3)\n",
    "\n",
    "glimpse(county_str)"
   ]
  },
  {
   "cell_type": "code",
   "execution_count": 66,
   "metadata": {},
   "outputs": [
    {
     "data": {
      "text/html": [
       "<table>\n",
       "<thead><tr><th scope=col>state</th><th scope=col>n</th></tr></thead>\n",
       "<tbody>\n",
       "\t<tr><td>Alabama       </td><td>3             </td></tr>\n",
       "\t<tr><td>Alaska        </td><td>3             </td></tr>\n",
       "\t<tr><td>Arizona       </td><td>3             </td></tr>\n",
       "\t<tr><td>Arkansas      </td><td>3             </td></tr>\n",
       "\t<tr><td>California    </td><td>3             </td></tr>\n",
       "\t<tr><td>Colorado      </td><td>3             </td></tr>\n",
       "\t<tr><td>Connecticut   </td><td>3             </td></tr>\n",
       "\t<tr><td>Delaware      </td><td>3             </td></tr>\n",
       "\t<tr><td>Florida       </td><td>3             </td></tr>\n",
       "\t<tr><td>Georgia       </td><td>3             </td></tr>\n",
       "\t<tr><td>Hawaii        </td><td>3             </td></tr>\n",
       "\t<tr><td>Idaho         </td><td>3             </td></tr>\n",
       "\t<tr><td>Illinois      </td><td>3             </td></tr>\n",
       "\t<tr><td>Indiana       </td><td>3             </td></tr>\n",
       "\t<tr><td>Iowa          </td><td>3             </td></tr>\n",
       "\t<tr><td>Kansas        </td><td>3             </td></tr>\n",
       "\t<tr><td>Kentucky      </td><td>3             </td></tr>\n",
       "\t<tr><td>Louisiana     </td><td>3             </td></tr>\n",
       "\t<tr><td>Maine         </td><td>3             </td></tr>\n",
       "\t<tr><td>Maryland      </td><td>3             </td></tr>\n",
       "\t<tr><td>Massachusetts </td><td>3             </td></tr>\n",
       "\t<tr><td>Michigan      </td><td>3             </td></tr>\n",
       "\t<tr><td>Minnesota     </td><td>3             </td></tr>\n",
       "\t<tr><td>Mississippi   </td><td>3             </td></tr>\n",
       "\t<tr><td>Missouri      </td><td>3             </td></tr>\n",
       "\t<tr><td>Montana       </td><td>3             </td></tr>\n",
       "\t<tr><td>Nebraska      </td><td>3             </td></tr>\n",
       "\t<tr><td>Nevada        </td><td>3             </td></tr>\n",
       "\t<tr><td>New Hampshire </td><td>3             </td></tr>\n",
       "\t<tr><td>New Jersey    </td><td>3             </td></tr>\n",
       "\t<tr><td>New Mexico    </td><td>3             </td></tr>\n",
       "\t<tr><td>New York      </td><td>3             </td></tr>\n",
       "\t<tr><td>North Carolina</td><td>3             </td></tr>\n",
       "\t<tr><td>North Dakota  </td><td>3             </td></tr>\n",
       "\t<tr><td>Ohio          </td><td>3             </td></tr>\n",
       "\t<tr><td>Oklahoma      </td><td>3             </td></tr>\n",
       "\t<tr><td>Oregon        </td><td>3             </td></tr>\n",
       "\t<tr><td>Pennsylvania  </td><td>3             </td></tr>\n",
       "\t<tr><td>Rhode Island  </td><td>3             </td></tr>\n",
       "\t<tr><td>South Carolina</td><td>3             </td></tr>\n",
       "\t<tr><td>South Dakota  </td><td>3             </td></tr>\n",
       "\t<tr><td>Tennessee     </td><td>3             </td></tr>\n",
       "\t<tr><td>Texas         </td><td>3             </td></tr>\n",
       "\t<tr><td>Utah          </td><td>3             </td></tr>\n",
       "\t<tr><td>Vermont       </td><td>3             </td></tr>\n",
       "\t<tr><td>Virginia      </td><td>3             </td></tr>\n",
       "\t<tr><td>Washington    </td><td>3             </td></tr>\n",
       "\t<tr><td>West Virginia </td><td>3             </td></tr>\n",
       "\t<tr><td>Wisconsin     </td><td>3             </td></tr>\n",
       "\t<tr><td>Wyoming       </td><td>3             </td></tr>\n",
       "</tbody>\n",
       "</table>\n"
      ],
      "text/latex": [
       "\\begin{tabular}{r|ll}\n",
       " state & n\\\\\n",
       "\\hline\n",
       "\t Alabama        & 3             \\\\\n",
       "\t Alaska         & 3             \\\\\n",
       "\t Arizona        & 3             \\\\\n",
       "\t Arkansas       & 3             \\\\\n",
       "\t California     & 3             \\\\\n",
       "\t Colorado       & 3             \\\\\n",
       "\t Connecticut    & 3             \\\\\n",
       "\t Delaware       & 3             \\\\\n",
       "\t Florida        & 3             \\\\\n",
       "\t Georgia        & 3             \\\\\n",
       "\t Hawaii         & 3             \\\\\n",
       "\t Idaho          & 3             \\\\\n",
       "\t Illinois       & 3             \\\\\n",
       "\t Indiana        & 3             \\\\\n",
       "\t Iowa           & 3             \\\\\n",
       "\t Kansas         & 3             \\\\\n",
       "\t Kentucky       & 3             \\\\\n",
       "\t Louisiana      & 3             \\\\\n",
       "\t Maine          & 3             \\\\\n",
       "\t Maryland       & 3             \\\\\n",
       "\t Massachusetts  & 3             \\\\\n",
       "\t Michigan       & 3             \\\\\n",
       "\t Minnesota      & 3             \\\\\n",
       "\t Mississippi    & 3             \\\\\n",
       "\t Missouri       & 3             \\\\\n",
       "\t Montana        & 3             \\\\\n",
       "\t Nebraska       & 3             \\\\\n",
       "\t Nevada         & 3             \\\\\n",
       "\t New Hampshire  & 3             \\\\\n",
       "\t New Jersey     & 3             \\\\\n",
       "\t New Mexico     & 3             \\\\\n",
       "\t New York       & 3             \\\\\n",
       "\t North Carolina & 3             \\\\\n",
       "\t North Dakota   & 3             \\\\\n",
       "\t Ohio           & 3             \\\\\n",
       "\t Oklahoma       & 3             \\\\\n",
       "\t Oregon         & 3             \\\\\n",
       "\t Pennsylvania   & 3             \\\\\n",
       "\t Rhode Island   & 3             \\\\\n",
       "\t South Carolina & 3             \\\\\n",
       "\t South Dakota   & 3             \\\\\n",
       "\t Tennessee      & 3             \\\\\n",
       "\t Texas          & 3             \\\\\n",
       "\t Utah           & 3             \\\\\n",
       "\t Vermont        & 3             \\\\\n",
       "\t Virginia       & 3             \\\\\n",
       "\t Washington     & 3             \\\\\n",
       "\t West Virginia  & 3             \\\\\n",
       "\t Wisconsin      & 3             \\\\\n",
       "\t Wyoming        & 3             \\\\\n",
       "\\end{tabular}\n"
      ],
      "text/markdown": [
       "\n",
       "state | n | \n",
       "|---|---|---|---|---|---|---|---|---|---|---|---|---|---|---|---|---|---|---|---|---|---|---|---|---|---|---|---|---|---|---|---|---|---|---|---|---|---|---|---|---|---|---|---|---|---|---|---|---|---|\n",
       "| Alabama        | 3              | \n",
       "| Alaska         | 3              | \n",
       "| Arizona        | 3              | \n",
       "| Arkansas       | 3              | \n",
       "| California     | 3              | \n",
       "| Colorado       | 3              | \n",
       "| Connecticut    | 3              | \n",
       "| Delaware       | 3              | \n",
       "| Florida        | 3              | \n",
       "| Georgia        | 3              | \n",
       "| Hawaii         | 3              | \n",
       "| Idaho          | 3              | \n",
       "| Illinois       | 3              | \n",
       "| Indiana        | 3              | \n",
       "| Iowa           | 3              | \n",
       "| Kansas         | 3              | \n",
       "| Kentucky       | 3              | \n",
       "| Louisiana      | 3              | \n",
       "| Maine          | 3              | \n",
       "| Maryland       | 3              | \n",
       "| Massachusetts  | 3              | \n",
       "| Michigan       | 3              | \n",
       "| Minnesota      | 3              | \n",
       "| Mississippi    | 3              | \n",
       "| Missouri       | 3              | \n",
       "| Montana        | 3              | \n",
       "| Nebraska       | 3              | \n",
       "| Nevada         | 3              | \n",
       "| New Hampshire  | 3              | \n",
       "| New Jersey     | 3              | \n",
       "| New Mexico     | 3              | \n",
       "| New York       | 3              | \n",
       "| North Carolina | 3              | \n",
       "| North Dakota   | 3              | \n",
       "| Ohio           | 3              | \n",
       "| Oklahoma       | 3              | \n",
       "| Oregon         | 3              | \n",
       "| Pennsylvania   | 3              | \n",
       "| Rhode Island   | 3              | \n",
       "| South Carolina | 3              | \n",
       "| South Dakota   | 3              | \n",
       "| Tennessee      | 3              | \n",
       "| Texas          | 3              | \n",
       "| Utah           | 3              | \n",
       "| Vermont        | 3              | \n",
       "| Virginia       | 3              | \n",
       "| Washington     | 3              | \n",
       "| West Virginia  | 3              | \n",
       "| Wisconsin      | 3              | \n",
       "| Wyoming        | 3              | \n",
       "\n",
       "\n"
      ],
      "text/plain": [
       "   state          n\n",
       "1  Alabama        3\n",
       "2  Alaska         3\n",
       "3  Arizona        3\n",
       "4  Arkansas       3\n",
       "5  California     3\n",
       "6  Colorado       3\n",
       "7  Connecticut    3\n",
       "8  Delaware       3\n",
       "9  Florida        3\n",
       "10 Georgia        3\n",
       "11 Hawaii         3\n",
       "12 Idaho          3\n",
       "13 Illinois       3\n",
       "14 Indiana        3\n",
       "15 Iowa           3\n",
       "16 Kansas         3\n",
       "17 Kentucky       3\n",
       "18 Louisiana      3\n",
       "19 Maine          3\n",
       "20 Maryland       3\n",
       "21 Massachusetts  3\n",
       "22 Michigan       3\n",
       "23 Minnesota      3\n",
       "24 Mississippi    3\n",
       "25 Missouri       3\n",
       "26 Montana        3\n",
       "27 Nebraska       3\n",
       "28 Nevada         3\n",
       "29 New Hampshire  3\n",
       "30 New Jersey     3\n",
       "31 New Mexico     3\n",
       "32 New York       3\n",
       "33 North Carolina 3\n",
       "34 North Dakota   3\n",
       "35 Ohio           3\n",
       "36 Oklahoma       3\n",
       "37 Oregon         3\n",
       "38 Pennsylvania   3\n",
       "39 Rhode Island   3\n",
       "40 South Carolina 3\n",
       "41 South Dakota   3\n",
       "42 Tennessee      3\n",
       "43 Texas          3\n",
       "44 Utah           3\n",
       "45 Vermont        3\n",
       "46 Virginia       3\n",
       "47 Washington     3\n",
       "48 West Virginia  3\n",
       "49 Wisconsin      3\n",
       "50 Wyoming        3"
      ]
     },
     "metadata": {},
     "output_type": "display_data"
    }
   ],
   "source": [
    "county_str %>% \n",
    "    group_by(state) %>%\n",
    "    count()"
   ]
  },
  {
   "cell_type": "markdown",
   "metadata": {},
   "source": [
    "Simple random sampling would result in diferent amounts of data being sampled from each state. Stratified sampling ensured an equal number of states from each region. "
   ]
  },
  {
   "cell_type": "markdown",
   "metadata": {},
   "source": [
    "### Principles of experimental design\n",
    "\n",
    "* Control: To control means to compare the treatment of interest to a control group. \n",
    "\n",
    "* Randomize: To randomize means to randomly assingly subjects to treatments. \n",
    "\n",
    "* Replicate: To replicate means to collect a sufficiently large sample within a study or to replicate the entire study. \n",
    "\n",
    "* Block: The goal of blocking is to account for potential effect of known or suspected confounding variables. We do this by first grouping subjects into blocks based on these variables and then randomizing them within each block to treatment groups. \n",
    "\n",
    "\n",
    "...\n",
    "\n",
    "Let's discuss block a bit more\n",
    "\n",
    "### Design a study (with blocking)\n",
    "\n",
    "We would like to design an experiment to investigate whether students learn the R language in a traditional lecture based course or using an interactive online learning platform. \n",
    "\n",
    "Two courses that teach the exact same material are designed and the only difference between these courses is the method of delivery: traditional lecture or interactive online. \n",
    "\n",
    "We sample a group of students for our study that we will randomly assign to these 2 courses. But before we do so, we need to consider any potential confounding variables. It is suspected that previous programming experience might have an effect on how students learn in these two settings and we know that some of the students in our study have previous programming experience and some don't. Therefore, we decide to block for having previous programming experience. \n",
    "\n",
    "To do so, we divide our sample into two: those with programming experience and those without. Then we randomly assign individuals from each block into the 2 courses, ensuring that those with and without programming experience are equally represented in the 2 treatment groups. In this experiment, the explanatory variable is the course type lecture vs interactive online and the variable that we're blocking for is the previous programming experience. \n",
    "\n",
    "This way, if we find a difference in mastery of the R language between students in the 2 groups, we will be able to attribute it to the course-type and can be assured that the difference isn't due to previous programming experience since both those with and without such experience were equally represented in the 2 treatment groups. \n",
    "\n",
    "<img src=\"images/DOE_Blocking.JPG\">"
   ]
  },
  {
   "cell_type": "markdown",
   "metadata": {},
   "source": [
    "### Identifying components of a study\n",
    "\n",
    "A researcher designs a study to test the effect of light and noise levels on exam performance of students. The researcher also believes that light and noise levels might have different effects on males and females, so she wants to make sure both genders are represented equally under different conditions.\n",
    "\n",
    "**Answer:** There are 2 explanatory variables (light and noise), 1 blocking variable (gender), and 1 repsonse varaible (exam performance). "
   ]
  },
  {
   "cell_type": "markdown",
   "metadata": {},
   "source": [
    "### Experimental design terminology\n",
    "\n",
    "**Explanatory variables** are conditions you can impose on the experimental units, while **blocking variables** are characteristics that the experimental units come with that you would like to control for."
   ]
  },
  {
   "cell_type": "markdown",
   "metadata": {},
   "source": [
    "### Connect blocking and stratifying\n",
    "\n",
    "In random sampling, we use stratifying to control for a variable. In random assignment, we use blocking to achieve the same goal."
   ]
  },
  {
   "cell_type": "markdown",
   "metadata": {},
   "source": [
    "# Case study: Beauty in the classroom\n",
    "\n",
    "Many college courses conclude by giving students the opportunity to annoymously evalaute both the course and the instructor. However, the use of these student evaluations as an indicator of course quality and teaching effectiveness is often criticized because the measures may reflect the influence of non-teaching related characteristics, such as the physical appearance of the instructor.\n",
    "\n",
    "The data that we will be working with, which includes information on course evaluations as well as students' scoring of professors' physical attractiveness, was collected as part of a study conducted at the University of Texas - Austin. Let's analyze these data with the eventual goal of investigating whether instructors who are viewed to be better looking receive higher instructional ratings. "
   ]
  },
  {
   "cell_type": "code",
   "execution_count": 67,
   "metadata": {},
   "outputs": [],
   "source": [
    "load('datasets/evals.RData')"
   ]
  },
  {
   "cell_type": "code",
   "execution_count": 68,
   "metadata": {},
   "outputs": [
    {
     "data": {
      "text/html": [
       "<table>\n",
       "<thead><tr><th scope=col>score</th><th scope=col>rank</th><th scope=col>ethnicity</th><th scope=col>gender</th><th scope=col>language</th><th scope=col>age</th><th scope=col>cls_perc_eval</th><th scope=col>cls_did_eval</th><th scope=col>cls_students</th><th scope=col>cls_level</th><th scope=col>...</th><th scope=col>cls_credits</th><th scope=col>bty_f1lower</th><th scope=col>bty_f1upper</th><th scope=col>bty_f2upper</th><th scope=col>bty_m1lower</th><th scope=col>bty_m1upper</th><th scope=col>bty_m2upper</th><th scope=col>bty_avg</th><th scope=col>pic_outfit</th><th scope=col>pic_color</th></tr></thead>\n",
       "<tbody>\n",
       "\t<tr><td>4.7         </td><td>tenure track</td><td>minority    </td><td>female      </td><td>english     </td><td>36          </td><td>55.81395    </td><td>24          </td><td> 43         </td><td>upper       </td><td>...         </td><td>multi credit</td><td>5           </td><td>7           </td><td>6           </td><td>2           </td><td>4           </td><td>6           </td><td>5           </td><td>not formal  </td><td>color       </td></tr>\n",
       "\t<tr><td>4.1         </td><td>tenure track</td><td>minority    </td><td>female      </td><td>english     </td><td>36          </td><td>68.80000    </td><td>86          </td><td>125         </td><td>upper       </td><td>...         </td><td>multi credit</td><td>5           </td><td>7           </td><td>6           </td><td>2           </td><td>4           </td><td>6           </td><td>5           </td><td>not formal  </td><td>color       </td></tr>\n",
       "\t<tr><td>3.9         </td><td>tenure track</td><td>minority    </td><td>female      </td><td>english     </td><td>36          </td><td>60.80000    </td><td>76          </td><td>125         </td><td>upper       </td><td>...         </td><td>multi credit</td><td>5           </td><td>7           </td><td>6           </td><td>2           </td><td>4           </td><td>6           </td><td>5           </td><td>not formal  </td><td>color       </td></tr>\n",
       "\t<tr><td>4.8         </td><td>tenure track</td><td>minority    </td><td>female      </td><td>english     </td><td>36          </td><td>62.60163    </td><td>77          </td><td>123         </td><td>upper       </td><td>...         </td><td>multi credit</td><td>5           </td><td>7           </td><td>6           </td><td>2           </td><td>4           </td><td>6           </td><td>5           </td><td>not formal  </td><td>color       </td></tr>\n",
       "\t<tr><td>4.6         </td><td>tenured     </td><td>not minority</td><td>male        </td><td>english     </td><td>59          </td><td>85.00000    </td><td>17          </td><td> 20         </td><td>upper       </td><td>...         </td><td>multi credit</td><td>4           </td><td>4           </td><td>2           </td><td>2           </td><td>3           </td><td>3           </td><td>3           </td><td>not formal  </td><td>color       </td></tr>\n",
       "\t<tr><td>4.3         </td><td>tenured     </td><td>not minority</td><td>male        </td><td>english     </td><td>59          </td><td>87.50000    </td><td>35          </td><td> 40         </td><td>upper       </td><td>...         </td><td>multi credit</td><td>4           </td><td>4           </td><td>2           </td><td>2           </td><td>3           </td><td>3           </td><td>3           </td><td>not formal  </td><td>color       </td></tr>\n",
       "</tbody>\n",
       "</table>\n"
      ],
      "text/latex": [
       "\\begin{tabular}{r|lllllllllllllllllllll}\n",
       " score & rank & ethnicity & gender & language & age & cls\\_perc\\_eval & cls\\_did\\_eval & cls\\_students & cls\\_level & ... & cls\\_credits & bty\\_f1lower & bty\\_f1upper & bty\\_f2upper & bty\\_m1lower & bty\\_m1upper & bty\\_m2upper & bty\\_avg & pic\\_outfit & pic\\_color\\\\\n",
       "\\hline\n",
       "\t 4.7          & tenure track & minority     & female       & english      & 36           & 55.81395     & 24           &  43          & upper        & ...          & multi credit & 5            & 7            & 6            & 2            & 4            & 6            & 5            & not formal   & color       \\\\\n",
       "\t 4.1          & tenure track & minority     & female       & english      & 36           & 68.80000     & 86           & 125          & upper        & ...          & multi credit & 5            & 7            & 6            & 2            & 4            & 6            & 5            & not formal   & color       \\\\\n",
       "\t 3.9          & tenure track & minority     & female       & english      & 36           & 60.80000     & 76           & 125          & upper        & ...          & multi credit & 5            & 7            & 6            & 2            & 4            & 6            & 5            & not formal   & color       \\\\\n",
       "\t 4.8          & tenure track & minority     & female       & english      & 36           & 62.60163     & 77           & 123          & upper        & ...          & multi credit & 5            & 7            & 6            & 2            & 4            & 6            & 5            & not formal   & color       \\\\\n",
       "\t 4.6          & tenured      & not minority & male         & english      & 59           & 85.00000     & 17           &  20          & upper        & ...          & multi credit & 4            & 4            & 2            & 2            & 3            & 3            & 3            & not formal   & color       \\\\\n",
       "\t 4.3          & tenured      & not minority & male         & english      & 59           & 87.50000     & 35           &  40          & upper        & ...          & multi credit & 4            & 4            & 2            & 2            & 3            & 3            & 3            & not formal   & color       \\\\\n",
       "\\end{tabular}\n"
      ],
      "text/markdown": [
       "\n",
       "score | rank | ethnicity | gender | language | age | cls_perc_eval | cls_did_eval | cls_students | cls_level | ... | cls_credits | bty_f1lower | bty_f1upper | bty_f2upper | bty_m1lower | bty_m1upper | bty_m2upper | bty_avg | pic_outfit | pic_color | \n",
       "|---|---|---|---|---|---|\n",
       "| 4.7          | tenure track | minority     | female       | english      | 36           | 55.81395     | 24           |  43          | upper        | ...          | multi credit | 5            | 7            | 6            | 2            | 4            | 6            | 5            | not formal   | color        | \n",
       "| 4.1          | tenure track | minority     | female       | english      | 36           | 68.80000     | 86           | 125          | upper        | ...          | multi credit | 5            | 7            | 6            | 2            | 4            | 6            | 5            | not formal   | color        | \n",
       "| 3.9          | tenure track | minority     | female       | english      | 36           | 60.80000     | 76           | 125          | upper        | ...          | multi credit | 5            | 7            | 6            | 2            | 4            | 6            | 5            | not formal   | color        | \n",
       "| 4.8          | tenure track | minority     | female       | english      | 36           | 62.60163     | 77           | 123          | upper        | ...          | multi credit | 5            | 7            | 6            | 2            | 4            | 6            | 5            | not formal   | color        | \n",
       "| 4.6          | tenured      | not minority | male         | english      | 59           | 85.00000     | 17           |  20          | upper        | ...          | multi credit | 4            | 4            | 2            | 2            | 3            | 3            | 3            | not formal   | color        | \n",
       "| 4.3          | tenured      | not minority | male         | english      | 59           | 87.50000     | 35           |  40          | upper        | ...          | multi credit | 4            | 4            | 2            | 2            | 3            | 3            | 3            | not formal   | color        | \n",
       "\n",
       "\n"
      ],
      "text/plain": [
       "  score rank         ethnicity    gender language age cls_perc_eval\n",
       "1 4.7   tenure track minority     female english  36  55.81395     \n",
       "2 4.1   tenure track minority     female english  36  68.80000     \n",
       "3 3.9   tenure track minority     female english  36  60.80000     \n",
       "4 4.8   tenure track minority     female english  36  62.60163     \n",
       "5 4.6   tenured      not minority male   english  59  85.00000     \n",
       "6 4.3   tenured      not minority male   english  59  87.50000     \n",
       "  cls_did_eval cls_students cls_level ... cls_credits  bty_f1lower bty_f1upper\n",
       "1 24            43          upper     ... multi credit 5           7          \n",
       "2 86           125          upper     ... multi credit 5           7          \n",
       "3 76           125          upper     ... multi credit 5           7          \n",
       "4 77           123          upper     ... multi credit 5           7          \n",
       "5 17            20          upper     ... multi credit 4           4          \n",
       "6 35            40          upper     ... multi credit 4           4          \n",
       "  bty_f2upper bty_m1lower bty_m1upper bty_m2upper bty_avg pic_outfit pic_color\n",
       "1 6           2           4           6           5       not formal color    \n",
       "2 6           2           4           6           5       not formal color    \n",
       "3 6           2           4           6           5       not formal color    \n",
       "4 6           2           4           6           5       not formal color    \n",
       "5 2           2           3           3           3       not formal color    \n",
       "6 2           2           3           3           3       not formal color    "
      ]
     },
     "metadata": {},
     "output_type": "display_data"
    }
   ],
   "source": [
    "head(evals)"
   ]
  },
  {
   "cell_type": "code",
   "execution_count": 69,
   "metadata": {},
   "outputs": [
    {
     "data": {
      "text/plain": [
       "     score                 rank            ethnicity      gender   \n",
       " Min.   :2.300   teaching    :102   minority    : 64   female:195  \n",
       " 1st Qu.:3.800   tenure track:108   not minority:399   male  :268  \n",
       " Median :4.300   tenured     :253                                  \n",
       " Mean   :4.175                                                     \n",
       " 3rd Qu.:4.600                                                     \n",
       " Max.   :5.000                                                     \n",
       "        language        age        cls_perc_eval     cls_did_eval   \n",
       " english    :435   Min.   :29.00   Min.   : 10.42   Min.   :  5.00  \n",
       " non-english: 28   1st Qu.:42.00   1st Qu.: 62.70   1st Qu.: 15.00  \n",
       "                   Median :48.00   Median : 76.92   Median : 23.00  \n",
       "                   Mean   :48.37   Mean   : 74.43   Mean   : 36.62  \n",
       "                   3rd Qu.:57.00   3rd Qu.: 87.25   3rd Qu.: 40.00  \n",
       "                   Max.   :73.00   Max.   :100.00   Max.   :380.00  \n",
       "  cls_students    cls_level      cls_profs         cls_credits   bty_f1lower   \n",
       " Min.   :  8.00   lower:157   multiple:306   multi credit:436   Min.   :1.000  \n",
       " 1st Qu.: 19.00   upper:306   single  :157   one credit  : 27   1st Qu.:2.000  \n",
       " Median : 29.00                                                 Median :4.000  \n",
       " Mean   : 55.18                                                 Mean   :3.963  \n",
       " 3rd Qu.: 60.00                                                 3rd Qu.:5.000  \n",
       " Max.   :581.00                                                 Max.   :8.000  \n",
       "  bty_f1upper     bty_f2upper      bty_m1lower     bty_m1upper   \n",
       " Min.   :1.000   Min.   : 1.000   Min.   :1.000   Min.   :1.000  \n",
       " 1st Qu.:4.000   1st Qu.: 4.000   1st Qu.:2.000   1st Qu.:3.000  \n",
       " Median :5.000   Median : 5.000   Median :3.000   Median :4.000  \n",
       " Mean   :5.019   Mean   : 5.214   Mean   :3.413   Mean   :4.147  \n",
       " 3rd Qu.:7.000   3rd Qu.: 6.000   3rd Qu.:5.000   3rd Qu.:5.000  \n",
       " Max.   :9.000   Max.   :10.000   Max.   :7.000   Max.   :9.000  \n",
       "  bty_m2upper       bty_avg           pic_outfit        pic_color  \n",
       " Min.   :1.000   Min.   :1.667   formal    : 77   black&white: 78  \n",
       " 1st Qu.:4.000   1st Qu.:3.167   not formal:386   color      :385  \n",
       " Median :5.000   Median :4.333                                     \n",
       " Mean   :4.752   Mean   :4.418                                     \n",
       " 3rd Qu.:6.000   3rd Qu.:5.500                                     \n",
       " Max.   :9.000   Max.   :8.167                                     "
      ]
     },
     "metadata": {},
     "output_type": "display_data"
    }
   ],
   "source": [
    "summary(evals)"
   ]
  },
  {
   "cell_type": "code",
   "execution_count": 70,
   "metadata": {},
   "outputs": [
    {
     "name": "stdout",
     "output_type": "stream",
     "text": [
      "Observations: 463\n",
      "Variables: 21\n",
      "$ score         <dbl> 4.7, 4.1, 3.9, 4.8, 4.6, 4.3, 2.8, 4.1, 3.4, 4.5, 3.8...\n",
      "$ rank          <fct> tenure track, tenure track, tenure track, tenure trac...\n",
      "$ ethnicity     <fct> minority, minority, minority, minority, not minority,...\n",
      "$ gender        <fct> female, female, female, female, male, male, male, mal...\n",
      "$ language      <fct> english, english, english, english, english, english,...\n",
      "$ age           <int> 36, 36, 36, 36, 59, 59, 59, 51, 51, 40, 40, 40, 40, 4...\n",
      "$ cls_perc_eval <dbl> 55.81395, 68.80000, 60.80000, 62.60163, 85.00000, 87....\n",
      "$ cls_did_eval  <int> 24, 86, 76, 77, 17, 35, 39, 55, 111, 40, 24, 24, 17, ...\n",
      "$ cls_students  <int> 43, 125, 125, 123, 20, 40, 44, 55, 195, 46, 27, 25, 2...\n",
      "$ cls_level     <fct> upper, upper, upper, upper, upper, upper, upper, uppe...\n",
      "$ cls_profs     <fct> single, single, single, single, multiple, multiple, m...\n",
      "$ cls_credits   <fct> multi credit, multi credit, multi credit, multi credi...\n",
      "$ bty_f1lower   <int> 5, 5, 5, 5, 4, 4, 4, 5, 5, 2, 2, 2, 2, 2, 2, 2, 2, 7,...\n",
      "$ bty_f1upper   <int> 7, 7, 7, 7, 4, 4, 4, 2, 2, 5, 5, 5, 5, 5, 5, 5, 5, 9,...\n",
      "$ bty_f2upper   <int> 6, 6, 6, 6, 2, 2, 2, 5, 5, 4, 4, 4, 4, 4, 4, 4, 4, 9,...\n",
      "$ bty_m1lower   <int> 2, 2, 2, 2, 2, 2, 2, 2, 2, 3, 3, 3, 3, 3, 3, 3, 3, 7,...\n",
      "$ bty_m1upper   <int> 4, 4, 4, 4, 3, 3, 3, 3, 3, 3, 3, 3, 3, 3, 3, 3, 3, 6,...\n",
      "$ bty_m2upper   <int> 6, 6, 6, 6, 3, 3, 3, 3, 3, 2, 2, 2, 2, 2, 2, 2, 2, 6,...\n",
      "$ bty_avg       <dbl> 5.000, 5.000, 5.000, 5.000, 3.000, 3.000, 3.000, 3.33...\n",
      "$ pic_outfit    <fct> not formal, not formal, not formal, not formal, not f...\n",
      "$ pic_color     <fct> color, color, color, color, color, color, color, colo...\n"
     ]
    }
   ],
   "source": [
    "glimpse(evals)"
   ]
  },
  {
   "cell_type": "markdown",
   "metadata": {},
   "source": [
    "#### This is an observational study"
   ]
  },
  {
   "cell_type": "markdown",
   "metadata": {},
   "source": [
    "### Sampling / experimental attributes\n",
    "\n",
    "The data from this study were gathered by randomly sampling classes."
   ]
  },
  {
   "cell_type": "markdown",
   "metadata": {},
   "source": [
    "### Variables in the data\n",
    "\n",
    "* score: The average evaluation score of the professor for a given course. Scores range between 1 and 5 and 5 being an excellent evaluation. \n",
    "\n",
    "* rank: We are also given whether the professor is a teaching faculty, tenure track faculty, or tenured faculty.\n",
    "\n",
    "* minority: Whether they are from a minority group or not\n",
    "\n",
    "* gender: Whether they are male or female\n",
    "\n",
    "* language: Whether the language of instruction at the university where they received their education was English or not. \n",
    "\n",
    "* Age: The age of the professor\n",
    "\n",
    "We also have attribute about the classes themselves. \n",
    "\n",
    "* cls_perc_eval: Percent of students who completed the evaluations\n",
    "* cls_did_eval: Number of students who completed the evals\n",
    "* cls_students: Total number of students in the class\n",
    "* cls_level: Level of the course\n",
    "* cls_profs: Whether a single professor or multiple professors taught it\n",
    "* cls_credits: Whether the course was a single credit or multi-credit course.\n",
    "\n",
    "The attractiveness score of the professors in the sample were determined by six students who provided photos of the professors to rate. These students were comprised of 1 female who is lower level, that is first year or sophomore (indicated with f1lower), 2 female students who are upper level (indicated with f1upper and f2upper), one male student who is lower lowerl (m1lower) and 2 male students who are upper level (m1upper and m2upper). 1 indicates a low attractiveness score and a 10 indicates a high attractiveness score. \n",
    "\n",
    "* bty_avg: Average attractiveness score\n",
    "* pic_outfit: Whether the professor was wearing a formal outfit in the photo\n",
    "* pic_color: Whether the picture was black/white or in color. "
   ]
  },
  {
   "cell_type": "markdown",
   "metadata": {},
   "source": [
    "### Identify variable types\n",
    "\n",
    "It's always useful to start your exploration of a dataset by identifying variable types. The results from this exercise will help you design appropriate visualizations and calculate useful summary statistics later in your analysis."
   ]
  },
  {
   "cell_type": "code",
   "execution_count": 71,
   "metadata": {},
   "outputs": [
    {
     "name": "stdout",
     "output_type": "stream",
     "text": [
      "Observations: 463\n",
      "Variables: 21\n",
      "$ score         <dbl> 4.7, 4.1, 3.9, 4.8, 4.6, 4.3, 2.8, 4.1, 3.4, 4.5, 3.8...\n",
      "$ rank          <fct> tenure track, tenure track, tenure track, tenure trac...\n",
      "$ ethnicity     <fct> minority, minority, minority, minority, not minority,...\n",
      "$ gender        <fct> female, female, female, female, male, male, male, mal...\n",
      "$ language      <fct> english, english, english, english, english, english,...\n",
      "$ age           <int> 36, 36, 36, 36, 59, 59, 59, 51, 51, 40, 40, 40, 40, 4...\n",
      "$ cls_perc_eval <dbl> 55.81395, 68.80000, 60.80000, 62.60163, 85.00000, 87....\n",
      "$ cls_did_eval  <int> 24, 86, 76, 77, 17, 35, 39, 55, 111, 40, 24, 24, 17, ...\n",
      "$ cls_students  <int> 43, 125, 125, 123, 20, 40, 44, 55, 195, 46, 27, 25, 2...\n",
      "$ cls_level     <fct> upper, upper, upper, upper, upper, upper, upper, uppe...\n",
      "$ cls_profs     <fct> single, single, single, single, multiple, multiple, m...\n",
      "$ cls_credits   <fct> multi credit, multi credit, multi credit, multi credi...\n",
      "$ bty_f1lower   <int> 5, 5, 5, 5, 4, 4, 4, 5, 5, 2, 2, 2, 2, 2, 2, 2, 2, 7,...\n",
      "$ bty_f1upper   <int> 7, 7, 7, 7, 4, 4, 4, 2, 2, 5, 5, 5, 5, 5, 5, 5, 5, 9,...\n",
      "$ bty_f2upper   <int> 6, 6, 6, 6, 2, 2, 2, 5, 5, 4, 4, 4, 4, 4, 4, 4, 4, 9,...\n",
      "$ bty_m1lower   <int> 2, 2, 2, 2, 2, 2, 2, 2, 2, 3, 3, 3, 3, 3, 3, 3, 3, 7,...\n",
      "$ bty_m1upper   <int> 4, 4, 4, 4, 3, 3, 3, 3, 3, 3, 3, 3, 3, 3, 3, 3, 3, 6,...\n",
      "$ bty_m2upper   <int> 6, 6, 6, 6, 3, 3, 3, 3, 3, 2, 2, 2, 2, 2, 2, 2, 2, 6,...\n",
      "$ bty_avg       <dbl> 5.000, 5.000, 5.000, 5.000, 3.000, 3.000, 3.000, 3.33...\n",
      "$ pic_outfit    <fct> not formal, not formal, not formal, not formal, not f...\n",
      "$ pic_color     <fct> color, color, color, color, color, color, color, colo...\n"
     ]
    }
   ],
   "source": [
    "glimpse(evals)"
   ]
  },
  {
   "cell_type": "markdown",
   "metadata": {},
   "source": [
    "**Categorical variables:** \"rank\", \"ethnicity\", \"gender\", \"language\",           \"cls_level\", \"cls_profs\", \"cls_credits\", \"pic_outfit\", \"pic_color\""
   ]
  },
  {
   "cell_type": "markdown",
   "metadata": {},
   "source": [
    "### Recode a variable\n",
    "The cls_students variable in evals tells you the number of students in the class. Suppose instead of the exact number of students, you're interested in whether the class is\n",
    "\n",
    "* \"small\" (18 students or fewer),\n",
    "* \"midsize\" (19 - 59 students), or\n",
    "* \"large\" (60 students or more).\n",
    "\n",
    "Recode the cls_students variable into a new variable, cls_type, using case_when(). This new variable should have three levels as described above. Save the resulting data frame (with the new variable) as evals."
   ]
  },
  {
   "cell_type": "code",
   "execution_count": 75,
   "metadata": {
    "collapsed": true
   },
   "outputs": [],
   "source": [
    "# Recode cls_students as cls_type\n",
    "evals <- evals %>%\n",
    "  mutate(cls_type = case_when(\n",
    "    cls_students <= 18 ~ \"small\",\n",
    "    cls_students >= 19 & cls_students <= 59  ~ \"midsize\",\n",
    "    cls_students >= 60 ~ \"large\"\n",
    "    )\n",
    "  )"
   ]
  },
  {
   "cell_type": "code",
   "execution_count": 76,
   "metadata": {},
   "outputs": [
    {
     "name": "stdout",
     "output_type": "stream",
     "text": [
      "Observations: 463\n",
      "Variables: 22\n",
      "$ score         <dbl> 4.7, 4.1, 3.9, 4.8, 4.6, 4.3, 2.8, 4.1, 3.4, 4.5, 3.8...\n",
      "$ rank          <fct> tenure track, tenure track, tenure track, tenure trac...\n",
      "$ ethnicity     <fct> minority, minority, minority, minority, not minority,...\n",
      "$ gender        <fct> female, female, female, female, male, male, male, mal...\n",
      "$ language      <fct> english, english, english, english, english, english,...\n",
      "$ age           <int> 36, 36, 36, 36, 59, 59, 59, 51, 51, 40, 40, 40, 40, 4...\n",
      "$ cls_perc_eval <dbl> 55.81395, 68.80000, 60.80000, 62.60163, 85.00000, 87....\n",
      "$ cls_did_eval  <int> 24, 86, 76, 77, 17, 35, 39, 55, 111, 40, 24, 24, 17, ...\n",
      "$ cls_students  <int> 43, 125, 125, 123, 20, 40, 44, 55, 195, 46, 27, 25, 2...\n",
      "$ cls_level     <fct> upper, upper, upper, upper, upper, upper, upper, uppe...\n",
      "$ cls_profs     <fct> single, single, single, single, multiple, multiple, m...\n",
      "$ cls_credits   <fct> multi credit, multi credit, multi credit, multi credi...\n",
      "$ bty_f1lower   <int> 5, 5, 5, 5, 4, 4, 4, 5, 5, 2, 2, 2, 2, 2, 2, 2, 2, 7,...\n",
      "$ bty_f1upper   <int> 7, 7, 7, 7, 4, 4, 4, 2, 2, 5, 5, 5, 5, 5, 5, 5, 5, 9,...\n",
      "$ bty_f2upper   <int> 6, 6, 6, 6, 2, 2, 2, 5, 5, 4, 4, 4, 4, 4, 4, 4, 4, 9,...\n",
      "$ bty_m1lower   <int> 2, 2, 2, 2, 2, 2, 2, 2, 2, 3, 3, 3, 3, 3, 3, 3, 3, 7,...\n",
      "$ bty_m1upper   <int> 4, 4, 4, 4, 3, 3, 3, 3, 3, 3, 3, 3, 3, 3, 3, 3, 3, 6,...\n",
      "$ bty_m2upper   <int> 6, 6, 6, 6, 3, 3, 3, 3, 3, 2, 2, 2, 2, 2, 2, 2, 2, 6,...\n",
      "$ bty_avg       <dbl> 5.000, 5.000, 5.000, 5.000, 3.000, 3.000, 3.000, 3.33...\n",
      "$ pic_outfit    <fct> not formal, not formal, not formal, not formal, not f...\n",
      "$ pic_color     <fct> color, color, color, color, color, color, color, colo...\n",
      "$ cls_type      <chr> \"midsize\", \"large\", \"large\", \"large\", \"midsize\", \"mid...\n"
     ]
    }
   ],
   "source": [
    "glimpse(evals)"
   ]
  },
  {
   "cell_type": "code",
   "execution_count": 77,
   "metadata": {},
   "outputs": [
    {
     "data": {
      "text/html": [
       "<table>\n",
       "<thead><tr><th scope=col>score</th><th scope=col>rank</th><th scope=col>ethnicity</th><th scope=col>gender</th><th scope=col>language</th><th scope=col>age</th><th scope=col>cls_perc_eval</th><th scope=col>cls_did_eval</th><th scope=col>cls_students</th><th scope=col>cls_level</th><th scope=col>...</th><th scope=col>bty_f1lower</th><th scope=col>bty_f1upper</th><th scope=col>bty_f2upper</th><th scope=col>bty_m1lower</th><th scope=col>bty_m1upper</th><th scope=col>bty_m2upper</th><th scope=col>bty_avg</th><th scope=col>pic_outfit</th><th scope=col>pic_color</th><th scope=col>cls_type</th></tr></thead>\n",
       "<tbody>\n",
       "\t<tr><td>4.7         </td><td>tenure track</td><td>minority    </td><td>female      </td><td>english     </td><td>36          </td><td>55.81395    </td><td>24          </td><td> 43         </td><td>upper       </td><td>...         </td><td>5           </td><td>7           </td><td>6           </td><td>2           </td><td>4           </td><td>6           </td><td>5           </td><td>not formal  </td><td>color       </td><td>midsize     </td></tr>\n",
       "\t<tr><td>4.1         </td><td>tenure track</td><td>minority    </td><td>female      </td><td>english     </td><td>36          </td><td>68.80000    </td><td>86          </td><td>125         </td><td>upper       </td><td>...         </td><td>5           </td><td>7           </td><td>6           </td><td>2           </td><td>4           </td><td>6           </td><td>5           </td><td>not formal  </td><td>color       </td><td>large       </td></tr>\n",
       "\t<tr><td>3.9         </td><td>tenure track</td><td>minority    </td><td>female      </td><td>english     </td><td>36          </td><td>60.80000    </td><td>76          </td><td>125         </td><td>upper       </td><td>...         </td><td>5           </td><td>7           </td><td>6           </td><td>2           </td><td>4           </td><td>6           </td><td>5           </td><td>not formal  </td><td>color       </td><td>large       </td></tr>\n",
       "\t<tr><td>4.8         </td><td>tenure track</td><td>minority    </td><td>female      </td><td>english     </td><td>36          </td><td>62.60163    </td><td>77          </td><td>123         </td><td>upper       </td><td>...         </td><td>5           </td><td>7           </td><td>6           </td><td>2           </td><td>4           </td><td>6           </td><td>5           </td><td>not formal  </td><td>color       </td><td>large       </td></tr>\n",
       "\t<tr><td>4.6         </td><td>tenured     </td><td>not minority</td><td>male        </td><td>english     </td><td>59          </td><td>85.00000    </td><td>17          </td><td> 20         </td><td>upper       </td><td>...         </td><td>4           </td><td>4           </td><td>2           </td><td>2           </td><td>3           </td><td>3           </td><td>3           </td><td>not formal  </td><td>color       </td><td>midsize     </td></tr>\n",
       "\t<tr><td>4.3         </td><td>tenured     </td><td>not minority</td><td>male        </td><td>english     </td><td>59          </td><td>87.50000    </td><td>35          </td><td> 40         </td><td>upper       </td><td>...         </td><td>4           </td><td>4           </td><td>2           </td><td>2           </td><td>3           </td><td>3           </td><td>3           </td><td>not formal  </td><td>color       </td><td>midsize     </td></tr>\n",
       "</tbody>\n",
       "</table>\n"
      ],
      "text/latex": [
       "\\begin{tabular}{r|llllllllllllllllllllll}\n",
       " score & rank & ethnicity & gender & language & age & cls\\_perc\\_eval & cls\\_did\\_eval & cls\\_students & cls\\_level & ... & bty\\_f1lower & bty\\_f1upper & bty\\_f2upper & bty\\_m1lower & bty\\_m1upper & bty\\_m2upper & bty\\_avg & pic\\_outfit & pic\\_color & cls\\_type\\\\\n",
       "\\hline\n",
       "\t 4.7          & tenure track & minority     & female       & english      & 36           & 55.81395     & 24           &  43          & upper        & ...          & 5            & 7            & 6            & 2            & 4            & 6            & 5            & not formal   & color        & midsize     \\\\\n",
       "\t 4.1          & tenure track & minority     & female       & english      & 36           & 68.80000     & 86           & 125          & upper        & ...          & 5            & 7            & 6            & 2            & 4            & 6            & 5            & not formal   & color        & large       \\\\\n",
       "\t 3.9          & tenure track & minority     & female       & english      & 36           & 60.80000     & 76           & 125          & upper        & ...          & 5            & 7            & 6            & 2            & 4            & 6            & 5            & not formal   & color        & large       \\\\\n",
       "\t 4.8          & tenure track & minority     & female       & english      & 36           & 62.60163     & 77           & 123          & upper        & ...          & 5            & 7            & 6            & 2            & 4            & 6            & 5            & not formal   & color        & large       \\\\\n",
       "\t 4.6          & tenured      & not minority & male         & english      & 59           & 85.00000     & 17           &  20          & upper        & ...          & 4            & 4            & 2            & 2            & 3            & 3            & 3            & not formal   & color        & midsize     \\\\\n",
       "\t 4.3          & tenured      & not minority & male         & english      & 59           & 87.50000     & 35           &  40          & upper        & ...          & 4            & 4            & 2            & 2            & 3            & 3            & 3            & not formal   & color        & midsize     \\\\\n",
       "\\end{tabular}\n"
      ],
      "text/markdown": [
       "\n",
       "score | rank | ethnicity | gender | language | age | cls_perc_eval | cls_did_eval | cls_students | cls_level | ... | bty_f1lower | bty_f1upper | bty_f2upper | bty_m1lower | bty_m1upper | bty_m2upper | bty_avg | pic_outfit | pic_color | cls_type | \n",
       "|---|---|---|---|---|---|\n",
       "| 4.7          | tenure track | minority     | female       | english      | 36           | 55.81395     | 24           |  43          | upper        | ...          | 5            | 7            | 6            | 2            | 4            | 6            | 5            | not formal   | color        | midsize      | \n",
       "| 4.1          | tenure track | minority     | female       | english      | 36           | 68.80000     | 86           | 125          | upper        | ...          | 5            | 7            | 6            | 2            | 4            | 6            | 5            | not formal   | color        | large        | \n",
       "| 3.9          | tenure track | minority     | female       | english      | 36           | 60.80000     | 76           | 125          | upper        | ...          | 5            | 7            | 6            | 2            | 4            | 6            | 5            | not formal   | color        | large        | \n",
       "| 4.8          | tenure track | minority     | female       | english      | 36           | 62.60163     | 77           | 123          | upper        | ...          | 5            | 7            | 6            | 2            | 4            | 6            | 5            | not formal   | color        | large        | \n",
       "| 4.6          | tenured      | not minority | male         | english      | 59           | 85.00000     | 17           |  20          | upper        | ...          | 4            | 4            | 2            | 2            | 3            | 3            | 3            | not formal   | color        | midsize      | \n",
       "| 4.3          | tenured      | not minority | male         | english      | 59           | 87.50000     | 35           |  40          | upper        | ...          | 4            | 4            | 2            | 2            | 3            | 3            | 3            | not formal   | color        | midsize      | \n",
       "\n",
       "\n"
      ],
      "text/plain": [
       "  score rank         ethnicity    gender language age cls_perc_eval\n",
       "1 4.7   tenure track minority     female english  36  55.81395     \n",
       "2 4.1   tenure track minority     female english  36  68.80000     \n",
       "3 3.9   tenure track minority     female english  36  60.80000     \n",
       "4 4.8   tenure track minority     female english  36  62.60163     \n",
       "5 4.6   tenured      not minority male   english  59  85.00000     \n",
       "6 4.3   tenured      not minority male   english  59  87.50000     \n",
       "  cls_did_eval cls_students cls_level ... bty_f1lower bty_f1upper bty_f2upper\n",
       "1 24            43          upper     ... 5           7           6          \n",
       "2 86           125          upper     ... 5           7           6          \n",
       "3 76           125          upper     ... 5           7           6          \n",
       "4 77           123          upper     ... 5           7           6          \n",
       "5 17            20          upper     ... 4           4           2          \n",
       "6 35            40          upper     ... 4           4           2          \n",
       "  bty_m1lower bty_m1upper bty_m2upper bty_avg pic_outfit pic_color cls_type\n",
       "1 2           4           6           5       not formal color     midsize \n",
       "2 2           4           6           5       not formal color     large   \n",
       "3 2           4           6           5       not formal color     large   \n",
       "4 2           4           6           5       not formal color     large   \n",
       "5 2           3           3           3       not formal color     midsize \n",
       "6 2           3           3           3       not formal color     midsize "
      ]
     },
     "metadata": {},
     "output_type": "display_data"
    }
   ],
   "source": [
    "head(evals)"
   ]
  },
  {
   "cell_type": "markdown",
   "metadata": {},
   "source": [
    "### Create a scatterplot\n",
    "The bty_avg variable shows the average beauty rating of the professor by the six students who were asked to rate the attractiveness of these faculty. The score variable shows the average professor evaluation score, with 1 being very unsatisfactory and 5 being excellent."
   ]
  },
  {
   "cell_type": "code",
   "execution_count": 80,
   "metadata": {},
   "outputs": [],
   "source": [
    "library(ggplot2)"
   ]
  },
  {
   "cell_type": "code",
   "execution_count": 83,
   "metadata": {},
   "outputs": [
    {
     "data": {},
     "metadata": {},
     "output_type": "display_data"
    },
    {
     "data": {
      "image/png": "[encoded data removed]",
      "text/plain": [
       "plot without title"
      ]
     },
     "metadata": {},
     "output_type": "display_data"
    }
   ],
   "source": [
    "ggplot(evals, aes(x = bty_avg, y = score)) + geom_point()"
   ]
  },
  {
   "cell_type": "markdown",
   "metadata": {},
   "source": [
    "### Create a scatterplot, with an added layer\n",
    "Suppose you are interested in evaluating how the relationship between a professor's attractiveness and their evaluation score varies across different class types (small, midsize, and large)."
   ]
  },
  {
   "cell_type": "code",
   "execution_count": 86,
   "metadata": {},
   "outputs": [
    {
     "data": {},
     "metadata": {},
     "output_type": "display_data"
    },
    {
     "data": {
      "image/png": "[encoded data removed]",
      "text/plain": [
       "plot without title"
      ]
     },
     "metadata": {},
     "output_type": "display_data"
    }
   ],
   "source": [
    "ggplot(evals, aes(x = bty_avg, y = score, color = cls_type)) +\n",
    "    geom_point()"
   ]
  },
  {
   "cell_type": "code",
   "execution_count": null,
   "metadata": {
    "collapsed": true
   },
   "outputs": [],
   "source": []
  }
 ],
 "metadata": {
  "kernelspec": {
   "display_name": "R",
   "language": "R",
   "name": "ir"
  },
  "language_info": {
   "codemirror_mode": "r",
   "file_extension": ".r",
   "mimetype": "text/x-r-source",
   "name": "R",
   "pygments_lexer": "r",
   "version": "3.4.1"
  }
 },
 "nbformat": 4,
 "nbformat_minor": 2
}
