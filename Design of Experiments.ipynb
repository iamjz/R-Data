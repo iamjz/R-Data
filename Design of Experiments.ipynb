{
 "cells": [
  {
   "cell_type": "markdown",
   "metadata": {},
   "source": [
    "# Design of Experiements"
   ]
  },
  {
   "cell_type": "markdown",
   "metadata": {
    "collapsed": true
   },
   "source": [
    "###  Observation studies and Experiments"
   ]
  },
  {
   "cell_type": "markdown",
   "metadata": {},
   "source": [
    "####  Obversational study:\n",
    "- Collect data in a way that does not directly interfere with how the data arise. \n",
    "- Only correlation can be inferred.\n",
    "\n",
    "#### Experiment:\n",
    "- Randomly assign subjects to various treatments\n",
    "- Causation can be inferred"
   ]
  },
  {
   "cell_type": "markdown",
   "metadata": {},
   "source": [
    "Relationships between using screens (mobile, tablet, laptop, etc) at bedtime and attention span.\n",
    "\n",
    "- **Observational Study:** We sample 2 types of people from the population. Those who choose to use screens at bedtime and those who don't. Then we find the average attention span for the 2 groups of people and compare. Based on the observational study, even if we find a difference between the average attention span of these groups of people, we can't attribute this difference solely to using screens because there may be other variables that we didn't control for this study that could've contributed to the observed difference. For example, people who use screens at night might also be using screens for longer period during the day and their attention span might be affected by the daytime usage as well. \n",
    "\n",
    "- **Experiment:** We sample a group of people from the population and then we randomly assign these people into 2 groups: those who are asked to use screens at bedtime and those asked not to use them. The difference is that the decision to use or not use screens at bedtime is NOT left to the subject. Rather, it is imposed by the researcher. At the end, we compare the attention spans of the 2 groups. Such variables that might contribute to the outcome, called confounding variables, are most likely represented equally in the 2 groups due to random assignment. Therefore, if we find the difference between the 2 averages, we can indeed make a causal statement attributing this difference to bedtime screen usage. "
   ]
  },
  {
   "cell_type": "markdown",
   "metadata": {},
   "source": [
    "### Random sampling and random assignment\n",
    "\n",
    "**Random sampling:** Occurs when the subjects are being selected for a study. If the subjects are selected randomly from the population, then the resulting sample is likely representative of the population and therefore the study's results can be generalizable to that population. \n",
    "\n",
    "** Random assignment:** Only occurs in experimental settings where subjects are being assigned to various treatments. Random assignments allow for causal conclusions. "
   ]
  },
  {
   "cell_type": "markdown",
   "metadata": {},
   "source": [
    "- **Random assignment + random sampling:** Causal and generalizable to the whole population. This is the ideal experiment but such studies are difficult to carry out, especially if the experimental units are humans, since it may be difficult to randomly sample people from the population and then impose treatments on them. \n",
    "\n",
    "- **Random assignment + no random sampling:** Causal but not generalizable. Experiments that rely on volunteers employ random assignment but not random sampling. These studies can be used to make causal conclusions but the conclusions but the conclusions can only be applied to the sample and the results cannot be generalized to the population. \n",
    "\n",
    "- **No random assignment + random sampling:** Not Causal but generalizable. A study that uses no random assignment but does use random sampling is your typical observational study. Results can only be used to make association statements but they can be generalized to the whole population.   \n",
    "\n",
    "- **No random assignment + No random sampling:** Neither Causal nor generalizable. These studies can only be used to make non-causal association statements. This is NOT an ideal study. "
   ]
  },
  {
   "cell_type": "markdown",
   "metadata": {
    "collapsed": true
   },
   "source": [
    "### Random sampling or random assignment:\n",
    "\n",
    "One of the early studies linking smoking and lung cancer compared patients who are already hospitalized with lung cancer to similar patients without lung cancer (hospitalized for other reasons), and recorded whether each patient smoked. Then, proportions of smokers for patients with and without lung cancer were compared. \n",
    "\n",
    "**QUESTION:** Does this study employ random sampling and/or random assignment?\n",
    "\n",
    "**ANSWER:** Neither random sampling nor random assignment. Random assignment is not employed because the conditions are not imposed on the patients by the people conducting the study. Random sampling is not employed because the study records the patients who are already hospitalized, so it wouldn't be appropriate to apply the findings back to the population as a whole. \n"
   ]
  },
  {
   "cell_type": "markdown",
   "metadata": {},
   "source": [
    "### Identify the scope of inference of study\n",
    "\n",
    "Volunteers were recruited to participate in a study where they were asked to type 40 bits of trivia - for example, \"an ostrich's eye is bigger than its brain\" - into a computer. A randomly selected half of these subjects were told the information would be saved in the computer. The other half were told the items they typed would be erased. \n",
    "\n",
    "Then, the subjects were asked to remember these bits of trivia, and the number of bits of trivia each subject could correctly recall were recorded. It was found that the subjects were significantly more likely to remember information if they thought they would not be able to find it later. \n",
    "\n",
    "The results of the study **cannot** be generalized to all people and a causal link between believing information is stored and memory **can** be inferred based on these results. \n",
    "\n",
    "There is no random sampling since the subjects of the study were volunteers, so the results cannot be generalized to all people. However, due to random assignment, we are able to infer a causal link between the belief information is stored and the ability to recall that same information. "
   ]
  },
  {
   "cell_type": "markdown",
   "metadata": {},
   "source": [
    "### Simpson's Paradox\n",
    "\n",
    "Often, when one mentions \"a relationship between variables\", we think of a relationship between just 2 variables (Explanatory variable X and Response variable Y). However, truly understanding the relationship between 2 variables might require considering other potentially related variables as well.  If we don't we might find ourselves in a Simpson's Paradox. \n",
    "\n",
    "Labelling variables as explanatory and response does not guarantee the relationship between the two is actually causal, even if there is an association identified. We use these labels only to keep track of which variable we suspect affects the other. \n",
    "\n",
    "We could study the relationship between 3 explanatory variables and a single response variable. This is often a more realistic scenario since most real world relationships are multivariable. \n",
    "\n",
    "For example, if we're interested in the relationship between calories consumed daily and heart health, we would probably also want to consider information on variables like age and fitness level of the person as well. **Not considering an important variable when studying a relationship can result in what we call a Simpson's Paradox, which illustrate the effect the ommission of an explanatory variable can on the measure of association between another explanatory variable and the response variable. **. \n",
    "\n",
    "In other words, the inclusion of a 3rd variable in the analysis can change the apparent relationship between the other 2 variables. \n"
   ]
  },
  {
   "cell_type": "code",
   "execution_count": 44,
   "metadata": {},
   "outputs": [],
   "source": [
    "library(dplyr)"
   ]
  },
  {
   "cell_type": "code",
   "execution_count": 45,
   "metadata": {},
   "outputs": [
    {
     "data": {
      "text/html": [
       "<table>\n",
       "<thead><tr><th scope=col>Admit</th><th scope=col>Gender</th><th scope=col>Dept</th></tr></thead>\n",
       "<tbody>\n",
       "\t<tr><td>Admitted</td><td>Male    </td><td>A       </td></tr>\n",
       "\t<tr><td>Admitted</td><td>Male    </td><td>A       </td></tr>\n",
       "\t<tr><td>Admitted</td><td>Male    </td><td>A       </td></tr>\n",
       "\t<tr><td>Admitted</td><td>Male    </td><td>A       </td></tr>\n",
       "\t<tr><td>Admitted</td><td>Male    </td><td>A       </td></tr>\n",
       "\t<tr><td>Admitted</td><td>Male    </td><td>A       </td></tr>\n",
       "</tbody>\n",
       "</table>\n"
      ],
      "text/latex": [
       "\\begin{tabular}{r|lll}\n",
       " Admit & Gender & Dept\\\\\n",
       "\\hline\n",
       "\t Admitted & Male     & A       \\\\\n",
       "\t Admitted & Male     & A       \\\\\n",
       "\t Admitted & Male     & A       \\\\\n",
       "\t Admitted & Male     & A       \\\\\n",
       "\t Admitted & Male     & A       \\\\\n",
       "\t Admitted & Male     & A       \\\\\n",
       "\\end{tabular}\n"
      ],
      "text/markdown": [
       "\n",
       "Admit | Gender | Dept | \n",
       "|---|---|---|---|---|---|\n",
       "| Admitted | Male     | A        | \n",
       "| Admitted | Male     | A        | \n",
       "| Admitted | Male     | A        | \n",
       "| Admitted | Male     | A        | \n",
       "| Admitted | Male     | A        | \n",
       "| Admitted | Male     | A        | \n",
       "\n",
       "\n"
      ],
      "text/plain": [
       "  Admit    Gender Dept\n",
       "1 Admitted Male   A   \n",
       "2 Admitted Male   A   \n",
       "3 Admitted Male   A   \n",
       "4 Admitted Male   A   \n",
       "5 Admitted Male   A   \n",
       "6 Admitted Male   A   "
      ]
     },
     "metadata": {},
     "output_type": "display_data"
    }
   ],
   "source": [
    "ucb_admit <- read.csv('datasets/UCB_ADMIT.csv')\n",
    "cols <- c(\"Admit\", \"Gender\", \"Dept\")\n",
    "colnames(ucb_admit) <- cols\n",
    "head(ucb_admit)"
   ]
  },
  {
   "cell_type": "code",
   "execution_count": 46,
   "metadata": {},
   "outputs": [
    {
     "name": "stdout",
     "output_type": "stream",
     "text": [
      "Observations: 4,526\n",
      "Variables: 3\n",
      "$ Admit  <fct> Admitted, Admitted, Admitted, Admitted, Admitted, Admitted, ...\n",
      "$ Gender <fct> Male, Male, Male, Male, Male, Male, Male, Male, Male, Male, ...\n",
      "$ Dept   <fct> A, A, A, A, A, A, A, A, A, A, A, A, A, A, A, A, A, A, A, A, ...\n"
     ]
    }
   ],
   "source": [
    "glimpse(ucb_admit)"
   ]
  },
  {
   "cell_type": "markdown",
   "metadata": {},
   "source": [
    "### Number of males and females admitted"
   ]
  },
  {
   "cell_type": "code",
   "execution_count": 47,
   "metadata": {},
   "outputs": [
    {
     "data": {
      "text/html": [
       "<table>\n",
       "<thead><tr><th scope=col>Gender</th><th scope=col>Admit</th><th scope=col>n</th></tr></thead>\n",
       "<tbody>\n",
       "\t<tr><td>Female  </td><td>Admitted</td><td> 557    </td></tr>\n",
       "\t<tr><td>Female  </td><td>Rejected</td><td>1278    </td></tr>\n",
       "\t<tr><td>Male    </td><td>Admitted</td><td>1198    </td></tr>\n",
       "\t<tr><td>Male    </td><td>Rejected</td><td>1493    </td></tr>\n",
       "</tbody>\n",
       "</table>\n"
      ],
      "text/latex": [
       "\\begin{tabular}{r|lll}\n",
       " Gender & Admit & n\\\\\n",
       "\\hline\n",
       "\t Female   & Admitted &  557    \\\\\n",
       "\t Female   & Rejected & 1278    \\\\\n",
       "\t Male     & Admitted & 1198    \\\\\n",
       "\t Male     & Rejected & 1493    \\\\\n",
       "\\end{tabular}\n"
      ],
      "text/markdown": [
       "\n",
       "Gender | Admit | n | \n",
       "|---|---|---|---|\n",
       "| Female   | Admitted |  557     | \n",
       "| Female   | Rejected | 1278     | \n",
       "| Male     | Admitted | 1198     | \n",
       "| Male     | Rejected | 1493     | \n",
       "\n",
       "\n"
      ],
      "text/plain": [
       "  Gender Admit    n   \n",
       "1 Female Admitted  557\n",
       "2 Female Rejected 1278\n",
       "3 Male   Admitted 1198\n",
       "4 Male   Rejected 1493"
      ]
     },
     "metadata": {},
     "output_type": "display_data"
    }
   ],
   "source": [
    "ucb_admission_counts <- count(ucb_admit, Gender, Admit)\n",
    "ucb_admission_counts"
   ]
  },
  {
   "cell_type": "markdown",
   "metadata": {},
   "source": [
    "### Proportion of males admitted overall\n",
    "\n",
    "Next we'll calculate the percentage of males and percentage of females admitted, by creating a new variable, called prop (short for proportion) based off of the counts calculated in the previous exercise and using the mutate() from the dplyr package.\n",
    "\n",
    "Proportions for each row of the data frame we created in the previous exercise can be calculated as n / sum(n). Note that since the data are grouped by gender, sum(n) will be calculated for males and females separately."
   ]
  },
  {
   "cell_type": "code",
   "execution_count": 48,
   "metadata": {},
   "outputs": [
    {
     "data": {
      "text/html": [
       "<table>\n",
       "<thead><tr><th scope=col>Gender</th><th scope=col>Admit</th><th scope=col>n</th><th scope=col>prop</th></tr></thead>\n",
       "<tbody>\n",
       "\t<tr><td>Female   </td><td>Admitted </td><td> 557     </td><td>0.3035422</td></tr>\n",
       "\t<tr><td>Male     </td><td>Admitted </td><td>1198     </td><td>0.4451877</td></tr>\n",
       "</tbody>\n",
       "</table>\n"
      ],
      "text/latex": [
       "\\begin{tabular}{r|llll}\n",
       " Gender & Admit & n & prop\\\\\n",
       "\\hline\n",
       "\t Female    & Admitted  &  557      & 0.3035422\\\\\n",
       "\t Male      & Admitted  & 1198      & 0.4451877\\\\\n",
       "\\end{tabular}\n"
      ],
      "text/markdown": [
       "\n",
       "Gender | Admit | n | prop | \n",
       "|---|---|\n",
       "| Female    | Admitted  |  557      | 0.3035422 | \n",
       "| Male      | Admitted  | 1198      | 0.4451877 | \n",
       "\n",
       "\n"
      ],
      "text/plain": [
       "  Gender Admit    n    prop     \n",
       "1 Female Admitted  557 0.3035422\n",
       "2 Male   Admitted 1198 0.4451877"
      ]
     },
     "metadata": {},
     "output_type": "display_data"
    }
   ],
   "source": [
    "ucb_admission_counts %>%\n",
    "    group_by(Gender) %>%\n",
    "    mutate(prop = n / sum(n)) %>%\n",
    "    filter(Admit == \"Admitted\")"
   ]
  },
  {
   "cell_type": "markdown",
   "metadata": {},
   "source": [
    "It looks like 44% of males were admitted versus only 30% of females. BUT there's more to this story. "
   ]
  },
  {
   "cell_type": "markdown",
   "metadata": {},
   "source": [
    "### Proportion of males admitted for each department\n",
    "\n",
    "Finally we'll make a table similar to the one we constructed earlier, except we'll first group the data by department. The goal is to compare the proportions of male admitted students across departments.\n",
    "\n",
    "Proportions for each row of the data frame we create can be calculated as n / sum(n). Note that since the data are grouped by department and gender, sum(n) will be calculated for males and females separately for each department."
   ]
  },
  {
   "cell_type": "code",
   "execution_count": 49,
   "metadata": {},
   "outputs": [
    {
     "data": {
      "text/html": [
       "<table>\n",
       "<thead><tr><th scope=col>Dept</th><th scope=col>Gender</th><th scope=col>Admit</th><th scope=col>n</th></tr></thead>\n",
       "<tbody>\n",
       "\t<tr><td>A       </td><td>Female  </td><td>Admitted</td><td> 89     </td></tr>\n",
       "\t<tr><td>A       </td><td>Female  </td><td>Rejected</td><td> 19     </td></tr>\n",
       "\t<tr><td>A       </td><td>Male    </td><td>Admitted</td><td>512     </td></tr>\n",
       "\t<tr><td>A       </td><td>Male    </td><td>Rejected</td><td>313     </td></tr>\n",
       "\t<tr><td>B       </td><td>Female  </td><td>Admitted</td><td> 17     </td></tr>\n",
       "\t<tr><td>B       </td><td>Female  </td><td>Rejected</td><td>  8     </td></tr>\n",
       "\t<tr><td>B       </td><td>Male    </td><td>Admitted</td><td>353     </td></tr>\n",
       "\t<tr><td>B       </td><td>Male    </td><td>Rejected</td><td>207     </td></tr>\n",
       "\t<tr><td>C       </td><td>Female  </td><td>Admitted</td><td>202     </td></tr>\n",
       "\t<tr><td>C       </td><td>Female  </td><td>Rejected</td><td>391     </td></tr>\n",
       "\t<tr><td>C       </td><td>Male    </td><td>Admitted</td><td>120     </td></tr>\n",
       "\t<tr><td>C       </td><td>Male    </td><td>Rejected</td><td>205     </td></tr>\n",
       "\t<tr><td>D       </td><td>Female  </td><td>Admitted</td><td>131     </td></tr>\n",
       "\t<tr><td>D       </td><td>Female  </td><td>Rejected</td><td>244     </td></tr>\n",
       "\t<tr><td>D       </td><td>Male    </td><td>Admitted</td><td>138     </td></tr>\n",
       "\t<tr><td>D       </td><td>Male    </td><td>Rejected</td><td>279     </td></tr>\n",
       "\t<tr><td>E       </td><td>Female  </td><td>Admitted</td><td> 94     </td></tr>\n",
       "\t<tr><td>E       </td><td>Female  </td><td>Rejected</td><td>299     </td></tr>\n",
       "\t<tr><td>E       </td><td>Male    </td><td>Admitted</td><td> 53     </td></tr>\n",
       "\t<tr><td>E       </td><td>Male    </td><td>Rejected</td><td>138     </td></tr>\n",
       "\t<tr><td>F       </td><td>Female  </td><td>Admitted</td><td> 24     </td></tr>\n",
       "\t<tr><td>F       </td><td>Female  </td><td>Rejected</td><td>317     </td></tr>\n",
       "\t<tr><td>F       </td><td>Male    </td><td>Admitted</td><td> 22     </td></tr>\n",
       "\t<tr><td>F       </td><td>Male    </td><td>Rejected</td><td>351     </td></tr>\n",
       "</tbody>\n",
       "</table>\n"
      ],
      "text/latex": [
       "\\begin{tabular}{r|llll}\n",
       " Dept & Gender & Admit & n\\\\\n",
       "\\hline\n",
       "\t A        & Female   & Admitted &  89     \\\\\n",
       "\t A        & Female   & Rejected &  19     \\\\\n",
       "\t A        & Male     & Admitted & 512     \\\\\n",
       "\t A        & Male     & Rejected & 313     \\\\\n",
       "\t B        & Female   & Admitted &  17     \\\\\n",
       "\t B        & Female   & Rejected &   8     \\\\\n",
       "\t B        & Male     & Admitted & 353     \\\\\n",
       "\t B        & Male     & Rejected & 207     \\\\\n",
       "\t C        & Female   & Admitted & 202     \\\\\n",
       "\t C        & Female   & Rejected & 391     \\\\\n",
       "\t C        & Male     & Admitted & 120     \\\\\n",
       "\t C        & Male     & Rejected & 205     \\\\\n",
       "\t D        & Female   & Admitted & 131     \\\\\n",
       "\t D        & Female   & Rejected & 244     \\\\\n",
       "\t D        & Male     & Admitted & 138     \\\\\n",
       "\t D        & Male     & Rejected & 279     \\\\\n",
       "\t E        & Female   & Admitted &  94     \\\\\n",
       "\t E        & Female   & Rejected & 299     \\\\\n",
       "\t E        & Male     & Admitted &  53     \\\\\n",
       "\t E        & Male     & Rejected & 138     \\\\\n",
       "\t F        & Female   & Admitted &  24     \\\\\n",
       "\t F        & Female   & Rejected & 317     \\\\\n",
       "\t F        & Male     & Admitted &  22     \\\\\n",
       "\t F        & Male     & Rejected & 351     \\\\\n",
       "\\end{tabular}\n"
      ],
      "text/markdown": [
       "\n",
       "Dept | Gender | Admit | n | \n",
       "|---|---|---|---|---|---|---|---|---|---|---|---|---|---|---|---|---|---|---|---|---|---|---|---|\n",
       "| A        | Female   | Admitted |  89      | \n",
       "| A        | Female   | Rejected |  19      | \n",
       "| A        | Male     | Admitted | 512      | \n",
       "| A        | Male     | Rejected | 313      | \n",
       "| B        | Female   | Admitted |  17      | \n",
       "| B        | Female   | Rejected |   8      | \n",
       "| B        | Male     | Admitted | 353      | \n",
       "| B        | Male     | Rejected | 207      | \n",
       "| C        | Female   | Admitted | 202      | \n",
       "| C        | Female   | Rejected | 391      | \n",
       "| C        | Male     | Admitted | 120      | \n",
       "| C        | Male     | Rejected | 205      | \n",
       "| D        | Female   | Admitted | 131      | \n",
       "| D        | Female   | Rejected | 244      | \n",
       "| D        | Male     | Admitted | 138      | \n",
       "| D        | Male     | Rejected | 279      | \n",
       "| E        | Female   | Admitted |  94      | \n",
       "| E        | Female   | Rejected | 299      | \n",
       "| E        | Male     | Admitted |  53      | \n",
       "| E        | Male     | Rejected | 138      | \n",
       "| F        | Female   | Admitted |  24      | \n",
       "| F        | Female   | Rejected | 317      | \n",
       "| F        | Male     | Admitted |  22      | \n",
       "| F        | Male     | Rejected | 351      | \n",
       "\n",
       "\n"
      ],
      "text/plain": [
       "   Dept Gender Admit    n  \n",
       "1  A    Female Admitted  89\n",
       "2  A    Female Rejected  19\n",
       "3  A    Male   Admitted 512\n",
       "4  A    Male   Rejected 313\n",
       "5  B    Female Admitted  17\n",
       "6  B    Female Rejected   8\n",
       "7  B    Male   Admitted 353\n",
       "8  B    Male   Rejected 207\n",
       "9  C    Female Admitted 202\n",
       "10 C    Female Rejected 391\n",
       "11 C    Male   Admitted 120\n",
       "12 C    Male   Rejected 205\n",
       "13 D    Female Admitted 131\n",
       "14 D    Female Rejected 244\n",
       "15 D    Male   Admitted 138\n",
       "16 D    Male   Rejected 279\n",
       "17 E    Female Admitted  94\n",
       "18 E    Female Rejected 299\n",
       "19 E    Male   Admitted  53\n",
       "20 E    Male   Rejected 138\n",
       "21 F    Female Admitted  24\n",
       "22 F    Female Rejected 317\n",
       "23 F    Male   Admitted  22\n",
       "24 F    Male   Rejected 351"
      ]
     },
     "metadata": {},
     "output_type": "display_data"
    }
   ],
   "source": [
    "ucb_admission_counts <- ucb_admit %>%\n",
    "    group_by(Dept, Gender, Admit) %>%\n",
    "    count()\n",
    "\n",
    "ucb_admission_counts"
   ]
  },
  {
   "cell_type": "code",
   "execution_count": 50,
   "metadata": {},
   "outputs": [
    {
     "data": {
      "text/html": [
       "<table>\n",
       "<thead><tr><th scope=col>Dept</th><th scope=col>Gender</th><th scope=col>Admit</th><th scope=col>n</th><th scope=col>prop</th></tr></thead>\n",
       "<tbody>\n",
       "\t<tr><td>A         </td><td>Female    </td><td>Admitted  </td><td> 89       </td><td>0.82407407</td></tr>\n",
       "\t<tr><td>A         </td><td>Female    </td><td>Rejected  </td><td> 19       </td><td>0.17592593</td></tr>\n",
       "\t<tr><td>A         </td><td>Male      </td><td>Admitted  </td><td>512       </td><td>0.62060606</td></tr>\n",
       "\t<tr><td>A         </td><td>Male      </td><td>Rejected  </td><td>313       </td><td>0.37939394</td></tr>\n",
       "\t<tr><td>B         </td><td>Female    </td><td>Admitted  </td><td> 17       </td><td>0.68000000</td></tr>\n",
       "\t<tr><td>B         </td><td>Female    </td><td>Rejected  </td><td>  8       </td><td>0.32000000</td></tr>\n",
       "\t<tr><td>B         </td><td>Male      </td><td>Admitted  </td><td>353       </td><td>0.63035714</td></tr>\n",
       "\t<tr><td>B         </td><td>Male      </td><td>Rejected  </td><td>207       </td><td>0.36964286</td></tr>\n",
       "\t<tr><td>C         </td><td>Female    </td><td>Admitted  </td><td>202       </td><td>0.34064081</td></tr>\n",
       "\t<tr><td>C         </td><td>Female    </td><td>Rejected  </td><td>391       </td><td>0.65935919</td></tr>\n",
       "\t<tr><td>C         </td><td>Male      </td><td>Admitted  </td><td>120       </td><td>0.36923077</td></tr>\n",
       "\t<tr><td>C         </td><td>Male      </td><td>Rejected  </td><td>205       </td><td>0.63076923</td></tr>\n",
       "\t<tr><td>D         </td><td>Female    </td><td>Admitted  </td><td>131       </td><td>0.34933333</td></tr>\n",
       "\t<tr><td>D         </td><td>Female    </td><td>Rejected  </td><td>244       </td><td>0.65066667</td></tr>\n",
       "\t<tr><td>D         </td><td>Male      </td><td>Admitted  </td><td>138       </td><td>0.33093525</td></tr>\n",
       "\t<tr><td>D         </td><td>Male      </td><td>Rejected  </td><td>279       </td><td>0.66906475</td></tr>\n",
       "\t<tr><td>E         </td><td>Female    </td><td>Admitted  </td><td> 94       </td><td>0.23918575</td></tr>\n",
       "\t<tr><td>E         </td><td>Female    </td><td>Rejected  </td><td>299       </td><td>0.76081425</td></tr>\n",
       "\t<tr><td>E         </td><td>Male      </td><td>Admitted  </td><td> 53       </td><td>0.27748691</td></tr>\n",
       "\t<tr><td>E         </td><td>Male      </td><td>Rejected  </td><td>138       </td><td>0.72251309</td></tr>\n",
       "\t<tr><td>F         </td><td>Female    </td><td>Admitted  </td><td> 24       </td><td>0.07038123</td></tr>\n",
       "\t<tr><td>F         </td><td>Female    </td><td>Rejected  </td><td>317       </td><td>0.92961877</td></tr>\n",
       "\t<tr><td>F         </td><td>Male      </td><td>Admitted  </td><td> 22       </td><td>0.05898123</td></tr>\n",
       "\t<tr><td>F         </td><td>Male      </td><td>Rejected  </td><td>351       </td><td>0.94101877</td></tr>\n",
       "</tbody>\n",
       "</table>\n"
      ],
      "text/latex": [
       "\\begin{tabular}{r|lllll}\n",
       " Dept & Gender & Admit & n & prop\\\\\n",
       "\\hline\n",
       "\t A          & Female     & Admitted   &  89        & 0.82407407\\\\\n",
       "\t A          & Female     & Rejected   &  19        & 0.17592593\\\\\n",
       "\t A          & Male       & Admitted   & 512        & 0.62060606\\\\\n",
       "\t A          & Male       & Rejected   & 313        & 0.37939394\\\\\n",
       "\t B          & Female     & Admitted   &  17        & 0.68000000\\\\\n",
       "\t B          & Female     & Rejected   &   8        & 0.32000000\\\\\n",
       "\t B          & Male       & Admitted   & 353        & 0.63035714\\\\\n",
       "\t B          & Male       & Rejected   & 207        & 0.36964286\\\\\n",
       "\t C          & Female     & Admitted   & 202        & 0.34064081\\\\\n",
       "\t C          & Female     & Rejected   & 391        & 0.65935919\\\\\n",
       "\t C          & Male       & Admitted   & 120        & 0.36923077\\\\\n",
       "\t C          & Male       & Rejected   & 205        & 0.63076923\\\\\n",
       "\t D          & Female     & Admitted   & 131        & 0.34933333\\\\\n",
       "\t D          & Female     & Rejected   & 244        & 0.65066667\\\\\n",
       "\t D          & Male       & Admitted   & 138        & 0.33093525\\\\\n",
       "\t D          & Male       & Rejected   & 279        & 0.66906475\\\\\n",
       "\t E          & Female     & Admitted   &  94        & 0.23918575\\\\\n",
       "\t E          & Female     & Rejected   & 299        & 0.76081425\\\\\n",
       "\t E          & Male       & Admitted   &  53        & 0.27748691\\\\\n",
       "\t E          & Male       & Rejected   & 138        & 0.72251309\\\\\n",
       "\t F          & Female     & Admitted   &  24        & 0.07038123\\\\\n",
       "\t F          & Female     & Rejected   & 317        & 0.92961877\\\\\n",
       "\t F          & Male       & Admitted   &  22        & 0.05898123\\\\\n",
       "\t F          & Male       & Rejected   & 351        & 0.94101877\\\\\n",
       "\\end{tabular}\n"
      ],
      "text/markdown": [
       "\n",
       "Dept | Gender | Admit | n | prop | \n",
       "|---|---|---|---|---|---|---|---|---|---|---|---|---|---|---|---|---|---|---|---|---|---|---|---|\n",
       "| A          | Female     | Admitted   |  89        | 0.82407407 | \n",
       "| A          | Female     | Rejected   |  19        | 0.17592593 | \n",
       "| A          | Male       | Admitted   | 512        | 0.62060606 | \n",
       "| A          | Male       | Rejected   | 313        | 0.37939394 | \n",
       "| B          | Female     | Admitted   |  17        | 0.68000000 | \n",
       "| B          | Female     | Rejected   |   8        | 0.32000000 | \n",
       "| B          | Male       | Admitted   | 353        | 0.63035714 | \n",
       "| B          | Male       | Rejected   | 207        | 0.36964286 | \n",
       "| C          | Female     | Admitted   | 202        | 0.34064081 | \n",
       "| C          | Female     | Rejected   | 391        | 0.65935919 | \n",
       "| C          | Male       | Admitted   | 120        | 0.36923077 | \n",
       "| C          | Male       | Rejected   | 205        | 0.63076923 | \n",
       "| D          | Female     | Admitted   | 131        | 0.34933333 | \n",
       "| D          | Female     | Rejected   | 244        | 0.65066667 | \n",
       "| D          | Male       | Admitted   | 138        | 0.33093525 | \n",
       "| D          | Male       | Rejected   | 279        | 0.66906475 | \n",
       "| E          | Female     | Admitted   |  94        | 0.23918575 | \n",
       "| E          | Female     | Rejected   | 299        | 0.76081425 | \n",
       "| E          | Male       | Admitted   |  53        | 0.27748691 | \n",
       "| E          | Male       | Rejected   | 138        | 0.72251309 | \n",
       "| F          | Female     | Admitted   |  24        | 0.07038123 | \n",
       "| F          | Female     | Rejected   | 317        | 0.92961877 | \n",
       "| F          | Male       | Admitted   |  22        | 0.05898123 | \n",
       "| F          | Male       | Rejected   | 351        | 0.94101877 | \n",
       "\n",
       "\n"
      ],
      "text/plain": [
       "   Dept Gender Admit    n   prop      \n",
       "1  A    Female Admitted  89 0.82407407\n",
       "2  A    Female Rejected  19 0.17592593\n",
       "3  A    Male   Admitted 512 0.62060606\n",
       "4  A    Male   Rejected 313 0.37939394\n",
       "5  B    Female Admitted  17 0.68000000\n",
       "6  B    Female Rejected   8 0.32000000\n",
       "7  B    Male   Admitted 353 0.63035714\n",
       "8  B    Male   Rejected 207 0.36964286\n",
       "9  C    Female Admitted 202 0.34064081\n",
       "10 C    Female Rejected 391 0.65935919\n",
       "11 C    Male   Admitted 120 0.36923077\n",
       "12 C    Male   Rejected 205 0.63076923\n",
       "13 D    Female Admitted 131 0.34933333\n",
       "14 D    Female Rejected 244 0.65066667\n",
       "15 D    Male   Admitted 138 0.33093525\n",
       "16 D    Male   Rejected 279 0.66906475\n",
       "17 E    Female Admitted  94 0.23918575\n",
       "18 E    Female Rejected 299 0.76081425\n",
       "19 E    Male   Admitted  53 0.27748691\n",
       "20 E    Male   Rejected 138 0.72251309\n",
       "21 F    Female Admitted  24 0.07038123\n",
       "22 F    Female Rejected 317 0.92961877\n",
       "23 F    Male   Admitted  22 0.05898123\n",
       "24 F    Male   Rejected 351 0.94101877"
      ]
     },
     "metadata": {},
     "output_type": "display_data"
    }
   ],
   "source": [
    "ucb_admission_counts  %>%\n",
    "  group_by(Dept, Gender) %>%\n",
    "  mutate(prop = n/sum(n))"
   ]
  },
  {
   "cell_type": "markdown",
   "metadata": {},
   "source": [
    "### Gapminder dataset"
   ]
  },
  {
   "cell_type": "code",
   "execution_count": 51,
   "metadata": {},
   "outputs": [],
   "source": [
    "library(gapminder)"
   ]
  },
  {
   "cell_type": "code",
   "execution_count": 52,
   "metadata": {},
   "outputs": [
    {
     "data": {
      "text/html": [
       "<table>\n",
       "<thead><tr><th scope=col>country</th><th scope=col>continent</th><th scope=col>year</th><th scope=col>lifeExp</th><th scope=col>pop</th><th scope=col>gdpPercap</th></tr></thead>\n",
       "<tbody>\n",
       "\t<tr><td>Afghanistan</td><td>Asia       </td><td>1952       </td><td>28.801     </td><td> 8425333   </td><td>779.4453   </td></tr>\n",
       "\t<tr><td>Afghanistan</td><td>Asia       </td><td>1957       </td><td>30.332     </td><td> 9240934   </td><td>820.8530   </td></tr>\n",
       "\t<tr><td>Afghanistan</td><td>Asia       </td><td>1962       </td><td>31.997     </td><td>10267083   </td><td>853.1007   </td></tr>\n",
       "\t<tr><td>Afghanistan</td><td>Asia       </td><td>1967       </td><td>34.020     </td><td>11537966   </td><td>836.1971   </td></tr>\n",
       "\t<tr><td>Afghanistan</td><td>Asia       </td><td>1972       </td><td>36.088     </td><td>13079460   </td><td>739.9811   </td></tr>\n",
       "\t<tr><td>Afghanistan</td><td>Asia       </td><td>1977       </td><td>38.438     </td><td>14880372   </td><td>786.1134   </td></tr>\n",
       "</tbody>\n",
       "</table>\n"
      ],
      "text/latex": [
       "\\begin{tabular}{r|llllll}\n",
       " country & continent & year & lifeExp & pop & gdpPercap\\\\\n",
       "\\hline\n",
       "\t Afghanistan & Asia        & 1952        & 28.801      &  8425333    & 779.4453   \\\\\n",
       "\t Afghanistan & Asia        & 1957        & 30.332      &  9240934    & 820.8530   \\\\\n",
       "\t Afghanistan & Asia        & 1962        & 31.997      & 10267083    & 853.1007   \\\\\n",
       "\t Afghanistan & Asia        & 1967        & 34.020      & 11537966    & 836.1971   \\\\\n",
       "\t Afghanistan & Asia        & 1972        & 36.088      & 13079460    & 739.9811   \\\\\n",
       "\t Afghanistan & Asia        & 1977        & 38.438      & 14880372    & 786.1134   \\\\\n",
       "\\end{tabular}\n"
      ],
      "text/markdown": [
       "\n",
       "country | continent | year | lifeExp | pop | gdpPercap | \n",
       "|---|---|---|---|---|---|\n",
       "| Afghanistan | Asia        | 1952        | 28.801      |  8425333    | 779.4453    | \n",
       "| Afghanistan | Asia        | 1957        | 30.332      |  9240934    | 820.8530    | \n",
       "| Afghanistan | Asia        | 1962        | 31.997      | 10267083    | 853.1007    | \n",
       "| Afghanistan | Asia        | 1967        | 34.020      | 11537966    | 836.1971    | \n",
       "| Afghanistan | Asia        | 1972        | 36.088      | 13079460    | 739.9811    | \n",
       "| Afghanistan | Asia        | 1977        | 38.438      | 14880372    | 786.1134    | \n",
       "\n",
       "\n"
      ],
      "text/plain": [
       "  country     continent year lifeExp pop      gdpPercap\n",
       "1 Afghanistan Asia      1952 28.801   8425333 779.4453 \n",
       "2 Afghanistan Asia      1957 30.332   9240934 820.8530 \n",
       "3 Afghanistan Asia      1962 31.997  10267083 853.1007 \n",
       "4 Afghanistan Asia      1967 34.020  11537966 836.1971 \n",
       "5 Afghanistan Asia      1972 36.088  13079460 739.9811 \n",
       "6 Afghanistan Asia      1977 38.438  14880372 786.1134 "
      ]
     },
     "metadata": {},
     "output_type": "display_data"
    }
   ],
   "source": [
    "head(gapminder)"
   ]
  },
  {
   "cell_type": "code",
   "execution_count": 53,
   "metadata": {},
   "outputs": [
    {
     "name": "stdout",
     "output_type": "stream",
     "text": [
      "Observations: 1,704\n",
      "Variables: 6\n",
      "$ country   <fct> Afghanistan, Afghanistan, Afghanistan, Afghanistan, Afgha...\n",
      "$ continent <fct> Asia, Asia, Asia, Asia, Asia, Asia, Asia, Asia, Asia, Asi...\n",
      "$ year      <int> 1952, 1957, 1962, 1967, 1972, 1977, 1982, 1987, 1992, 199...\n",
      "$ lifeExp   <dbl> 28.801, 30.332, 31.997, 34.020, 36.088, 38.438, 39.854, 4...\n",
      "$ pop       <int> 8425333, 9240934, 10267083, 11537966, 13079460, 14880372,...\n",
      "$ gdpPercap <dbl> 779.4453, 820.8530, 853.1007, 836.1971, 739.9811, 786.113...\n"
     ]
    }
   ],
   "source": [
    "glimpse(gapminder)"
   ]
  },
  {
   "cell_type": "markdown",
   "metadata": {},
   "source": [
    "### Sampling strategies\n"
   ]
  },
  {
   "cell_type": "markdown",
   "metadata": {},
   "source": [
    "Why do we sample in the first place? Why not try to collect data from the entire population of interest? You could try to take a census but it isn't easy. First, taking a census requires a lot more resources than collecting data from a sample of the population. Second, certain individuals in your population might be hard to locate or collect data from. If these individuals that are missed in the census are different from those in the rest of the population, the census data will be biased. \n",
    "\n",
    "For example, in the US census, illegal immigrants are often not recorded properly since they tend to be reluctant to fill out census forms with the concern that this information could be shared with immigrantion. However, these individuals might have characteristics different from the rest of the population and hence, not getting information from them might result in unreliable data from geographical regions with high concentrations of illegal immigrants. Lastly, populations are constantly changing. Even if you do have the required resources and manage to collect data from everyone in the population, your population will be different tomorrow and so the hard work required to collect such data may not pay off.\n",
    "\n",
    "### Sample is natural\n",
    "\n",
    "If you think about it, sampling is actually quite natural. Think about something you are cooking. We taste or in other words examine a small part of what we're cooking to get an idea about the dish as a whole. Afterall, we would never eat a whole pot of soup just to check its taste. When you taste a spoonful of soup and decide the spoonful you tasted isn't salty enough, what you're doing is simply explanatory analysis for the sample at hand. If you then generalize and conclude that your entire soup needs salt, that's making an inference. For your inference to be valid, the spoonful you tasted (your sample), needs to be representative of the entire pot (your population). If your spoonful comes only from the surface and the salt is collected at the bottom, what you tasted is probably not going to be representative of the whole pot. On the other hand, if you first stir the soup thoroughly before you taste, your spoonful will more likely be representative of the whole pot. \n",
    "\n",
    "Sampling data is a bit different than sampling soup though. Let's introduce a few commonly used sampling methods: \n",
    "\n",
    "* Simple random sampling\n",
    "* Stratified sampling\n",
    "* Cluster sampling\n",
    "* Multistage sampling"
   ]
  },
  {
   "cell_type": "markdown",
   "metadata": {},
   "source": [
    "### Simple random sampling\n",
    "We randomly select cases from the population, such that each case is equally likely to be selected. This is similar to randomly drawing names from a hat. \n",
    "\n",
    "### Stratified sampling\n",
    "We first divide the population into homogeneous groups called strata and then we randomly sample from within each stratum. For example, if we wanted to make sure that people from low, medium, and high socioeconomic status are equally represented in a study, we would first divide our population into 3 groups as such and then sample from within each group. \n",
    "\n",
    "### Cluster sampling\n",
    "In cluster sampling, we divide the population into clusters, randomly sample a few clusters, and then sample all observations within these clusters. The clusters, unlike strata in stratified sampling, are heterogeneous within themselves and each cluster is similar to the others, such that we can get away with sampling from just a few of the clusters. \n",
    "\n",
    "### Multistage sampling\n",
    "Multistage sampling adds another steps to cluster sampling. Just like in cluster sampling, we divide the population into clusters, randomly sample a few clusters, and then we randomly sample observations from within those clusters. \n",
    "\n",
    "...\n",
    "\n",
    "Cluster and multistage sampling are often used from economical reasons. One might divide a city into geographic regions that are on average similar to each other and then sample randomly from a few randomly picked regions in order to avoid travelling to all regions. "
   ]
  },
  {
   "cell_type": "markdown",
   "metadata": {},
   "source": [
    "### Examples\n",
    "\n",
    "### Sampling strategies, determine which...\n",
    "\n",
    "A consulting company is planning a pilot study on marketing in Boston. They identify the zip codes that make up the greater Boston area, then sample 50 randomly selected addresses from each zip code and mail a coupon to these addresses. They then track whether the coupon was used in the following month.\n",
    "\n",
    "What sampling strategy has this company used?\n",
    "\n",
    "**Stratified sampling**\n",
    "\n",
    "### Sampling strategies, choose worst...\n",
    "\n",
    "A school district has requested a survey be conducted on the socioeconomic status of their students. Their budget only allows them to conduct the survey in some of the schools, hence they need to first sample a few schools.\n",
    "\n",
    "Students living in this district generally attend a school in their neighborhood. The district is broken into many distinct and unique neighborhoods, some including large single-family homes and others with only low-income housing.\n",
    "\n",
    "Which approach would likely be the least effective for selecting the schools where the survey will be conducted?\n",
    "\n",
    "** Cluster sampling, where each cluster is a neighborhood. This sampling strategy would be a bad idea because each neighborhood has a unique socioeconomic status. A good study would collect information about every neighborhood **"
   ]
  },
  {
   "cell_type": "code",
   "execution_count": null,
   "metadata": {
    "collapsed": true
   },
   "outputs": [],
   "source": []
  }
 ],
 "metadata": {
  "kernelspec": {
   "display_name": "R",
   "language": "R",
   "name": "ir"
  },
  "language_info": {
   "codemirror_mode": "r",
   "file_extension": ".r",
   "mimetype": "text/x-r-source",
   "name": "R",
   "pygments_lexer": "r",
   "version": "3.4.1"
  }
 },
 "nbformat": 4,
 "nbformat_minor": 2
}
