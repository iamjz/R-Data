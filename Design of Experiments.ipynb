{
 "cells": [
  {
   "cell_type": "markdown",
   "metadata": {},
   "source": [
    "# Design of Experiments"
   ]
  },
  {
   "cell_type": "markdown",
   "metadata": {
    "collapsed": true
   },
   "source": [
    "###  Observation studies and Experiments "
   ]
  },
  {
   "cell_type": "markdown",
   "metadata": {},
   "source": [
    "####  Observational study:\n",
    "- Collect data in a way that does not directly interfere with how the data arise. \n",
    "- Only correlation can be inferred.\n",
    "\n",
    "#### Experiment:\n",
    "- Randomly assign subjects to various treatments\n",
    "- Causation can be inferred"
   ]
  },
  {
   "cell_type": "markdown",
   "metadata": {},
   "source": [
    "Relationships between using screens (mobile, tablet, laptop, etc) at bedtime and attention span.\n",
    "\n",
    "- **Observational Study:** We sample 2 types of people from the population. Those who choose to use screens at bedtime and those who don't. Then we find the average attention span for the 2 groups of people and compare. Based on the observational study, even if we find a difference between the average attention span of these groups of people, we can't attribute this difference solely to using screens because there may be other variables that we didn't control for this study that could've contributed to the observed difference. For example, people who use screens at night might also be using screens for longer period during the day and their attention span might be affected by the daytime usage as well. \n",
    "\n",
    "- **Experiment:** We sample a group of people from the population and then we randomly assign these people into 2 groups: those who are asked to use screens at bedtime and those asked not to use them. The difference is that the decision to use or not use screens at bedtime is NOT left to the subject. Rather, it is imposed by the researcher. At the end, we compare the attention spans of the 2 groups. Such variables that might contribute to the outcome, called confounding variables, are most likely represented equally in the 2 groups due to random assignment. Therefore, if we find the difference between the 2 averages, we can indeed make a causal statement attributing this difference to bedtime screen usage. \n",
    "\n",
    "\n",
    "<img src=\"images/DOE_Study.JPG\">"
   ]
  },
  {
   "cell_type": "markdown",
   "metadata": {},
   "source": [
    "### Random sampling and random assignment\n",
    "\n",
    "**Random sampling:** Occurs when the subjects are being selected for a study. If the subjects are selected randomly from the population, then the resulting sample is likely representative of the population and therefore the study's results can be generalizable to that population. \n",
    "\n",
    "** Random assignment:** Only occurs in experimental settings where subjects are being assigned to various treatments. Random assignments allow for causal conclusions. "
   ]
  },
  {
   "cell_type": "markdown",
   "metadata": {},
   "source": [
    "- **Random assignment + random sampling:** Causal and generalizable to the whole population. This is the ideal experiment but such studies are difficult to carry out, especially if the experimental units are humans, since it may be difficult to randomly sample people from the population and then impose treatments on them. \n",
    "\n",
    "- **Random assignment + no random sampling:** Causal but not generalizable. Experiments that rely on volunteers employ random assignment but not random sampling. These studies can be used to make causal conclusions but the conclusions but the conclusions can only be applied to the sample and the results cannot be generalized to the population. \n",
    "\n",
    "- **No random assignment + random sampling:** Not Causal but generalizable. A study that uses no random assignment but does use random sampling is your typical observational study. Results can only be used to make association statements but they can be generalized to the whole population.   \n",
    "\n",
    "- **No random assignment + No random sampling:** Neither Causal nor generalizable. These studies can only be used to make non-causal association statements. This is NOT an ideal study. "
   ]
  },
  {
   "cell_type": "markdown",
   "metadata": {
    "collapsed": true
   },
   "source": [
    "### Random sampling or random assignment:\n",
    "\n",
    "One of the early studies linking smoking and lung cancer compared patients who are already hospitalized with lung cancer to similar patients without lung cancer (hospitalized for other reasons), and recorded whether each patient smoked. Then, proportions of smokers for patients with and without lung cancer were compared. \n",
    "\n",
    "**QUESTION:** Does this study employ random sampling and/or random assignment?\n",
    "\n",
    "**ANSWER:** Neither random sampling nor random assignment. Random assignment is not employed because the conditions are not imposed on the patients by the people conducting the study. Random sampling is not employed because the study records the patients who are already hospitalized, so it wouldn't be appropriate to apply the findings back to the population as a whole. \n"
   ]
  },
  {
   "cell_type": "markdown",
   "metadata": {},
   "source": [
    "### Identify the scope of inference of study\n",
    "\n",
    "Volunteers were recruited to participate in a study where they were asked to type 40 bits of trivia - for example, \"an ostrich's eye is bigger than its brain\" - into a computer. A randomly selected half of these subjects were told the information would be saved in the computer. The other half were told the items they typed would be erased. \n",
    "\n",
    "Then, the subjects were asked to remember these bits of trivia, and the number of bits of trivia each subject could correctly recall were recorded. It was found that the subjects were significantly more likely to remember information if they thought they would not be able to find it later. \n",
    "\n",
    "The results of the study **cannot** be generalized to all people and a causal link between believing information is stored and memory **can** be inferred based on these results. \n",
    "\n",
    "There is no random sampling since the subjects of the study were volunteers, so the results cannot be generalized to all people. However, due to random assignment, we are able to infer a causal link between the belief information is stored and the ability to recall that same information. "
   ]
  },
  {
   "cell_type": "markdown",
   "metadata": {},
   "source": [
    "### Simpson's Paradox\n",
    "\n",
    "Often, when one mentions \"a relationship between variables\", we think of a relationship between just 2 variables (Explanatory variable X and Response variable Y). However, truly understanding the relationship between 2 variables might require considering other potentially related variables as well.  If we don't we might find ourselves in a Simpson's Paradox. \n",
    "\n",
    "Labelling variables as explanatory and response does not guarantee the relationship between the two is actually causal, even if there is an association identified. We use these labels only to keep track of which variable we suspect affects the other. \n",
    "\n",
    "We could study the relationship between 3 explanatory variables and a single response variable. This is often a more realistic scenario since most real world relationships are multivariable. \n",
    "\n",
    "For example, if we're interested in the relationship between calories consumed daily and heart health, we would probably also want to consider information on variables like age and fitness level of the person as well. **Not considering an important variable when studying a relationship can result in what we call a Simpson's Paradox, which illustrate the effect the ommission of an explanatory variable can on the measure of association between another explanatory variable and the response variable. **. \n",
    "\n",
    "In other words, the inclusion of a 3rd variable in the analysis can change the apparent relationship between the other 2 variables. \n"
   ]
  },
  {
   "cell_type": "code",
   "execution_count": 1,
   "metadata": {},
   "outputs": [
    {
     "name": "stderr",
     "output_type": "stream",
     "text": [
      "Warning message:\n",
      "\"package 'dplyr' was built under R version 3.4.2\"\n",
      "Attaching package: 'dplyr'\n",
      "\n",
      "The following objects are masked from 'package:stats':\n",
      "\n",
      "    filter, lag\n",
      "\n",
      "The following objects are masked from 'package:base':\n",
      "\n",
      "    intersect, setdiff, setequal, union\n",
      "\n"
     ]
    }
   ],
   "source": [
    "library(dplyr)"
   ]
  },
  {
   "cell_type": "code",
   "execution_count": 2,
   "metadata": {},
   "outputs": [
    {
     "data": {
      "text/html": [
       "<table>\n",
       "<thead><tr><th scope=col>Admit</th><th scope=col>Gender</th><th scope=col>Dept</th></tr></thead>\n",
       "<tbody>\n",
       "\t<tr><td>Admitted</td><td>Male    </td><td>A       </td></tr>\n",
       "\t<tr><td>Admitted</td><td>Male    </td><td>A       </td></tr>\n",
       "\t<tr><td>Admitted</td><td>Male    </td><td>A       </td></tr>\n",
       "\t<tr><td>Admitted</td><td>Male    </td><td>A       </td></tr>\n",
       "\t<tr><td>Admitted</td><td>Male    </td><td>A       </td></tr>\n",
       "\t<tr><td>Admitted</td><td>Male    </td><td>A       </td></tr>\n",
       "</tbody>\n",
       "</table>\n"
      ],
      "text/latex": [
       "\\begin{tabular}{r|lll}\n",
       " Admit & Gender & Dept\\\\\n",
       "\\hline\n",
       "\t Admitted & Male     & A       \\\\\n",
       "\t Admitted & Male     & A       \\\\\n",
       "\t Admitted & Male     & A       \\\\\n",
       "\t Admitted & Male     & A       \\\\\n",
       "\t Admitted & Male     & A       \\\\\n",
       "\t Admitted & Male     & A       \\\\\n",
       "\\end{tabular}\n"
      ],
      "text/markdown": [
       "\n",
       "Admit | Gender | Dept | \n",
       "|---|---|---|---|---|---|\n",
       "| Admitted | Male     | A        | \n",
       "| Admitted | Male     | A        | \n",
       "| Admitted | Male     | A        | \n",
       "| Admitted | Male     | A        | \n",
       "| Admitted | Male     | A        | \n",
       "| Admitted | Male     | A        | \n",
       "\n",
       "\n"
      ],
      "text/plain": [
       "  Admit    Gender Dept\n",
       "1 Admitted Male   A   \n",
       "2 Admitted Male   A   \n",
       "3 Admitted Male   A   \n",
       "4 Admitted Male   A   \n",
       "5 Admitted Male   A   \n",
       "6 Admitted Male   A   "
      ]
     },
     "metadata": {},
     "output_type": "display_data"
    }
   ],
   "source": [
    "ucb_admit <- read.csv('datasets/UCB_ADMIT.csv')\n",
    "cols <- c(\"Admit\", \"Gender\", \"Dept\")\n",
    "colnames(ucb_admit) <- cols\n",
    "head(ucb_admit)"
   ]
  },
  {
   "cell_type": "code",
   "execution_count": 3,
   "metadata": {},
   "outputs": [
    {
     "name": "stdout",
     "output_type": "stream",
     "text": [
      "Observations: 4,526\n",
      "Variables: 3\n",
      "$ Admit  <fct> Admitted, Admitted, Admitted, Admitted, Admitted, Admitted, ...\n",
      "$ Gender <fct> Male, Male, Male, Male, Male, Male, Male, Male, Male, Male, ...\n",
      "$ Dept   <fct> A, A, A, A, A, A, A, A, A, A, A, A, A, A, A, A, A, A, A, A, ...\n"
     ]
    }
   ],
   "source": [
    "glimpse(ucb_admit)"
   ]
  },
  {
   "cell_type": "markdown",
   "metadata": {},
   "source": [
    "### Number of males and females admitted"
   ]
  },
  {
   "cell_type": "code",
   "execution_count": 4,
   "metadata": {},
   "outputs": [
    {
     "data": {
      "text/html": [
       "<table>\n",
       "<thead><tr><th scope=col>Gender</th><th scope=col>Admit</th><th scope=col>n</th></tr></thead>\n",
       "<tbody>\n",
       "\t<tr><td>Female  </td><td>Admitted</td><td> 557    </td></tr>\n",
       "\t<tr><td>Female  </td><td>Rejected</td><td>1278    </td></tr>\n",
       "\t<tr><td>Male    </td><td>Admitted</td><td>1198    </td></tr>\n",
       "\t<tr><td>Male    </td><td>Rejected</td><td>1493    </td></tr>\n",
       "</tbody>\n",
       "</table>\n"
      ],
      "text/latex": [
       "\\begin{tabular}{r|lll}\n",
       " Gender & Admit & n\\\\\n",
       "\\hline\n",
       "\t Female   & Admitted &  557    \\\\\n",
       "\t Female   & Rejected & 1278    \\\\\n",
       "\t Male     & Admitted & 1198    \\\\\n",
       "\t Male     & Rejected & 1493    \\\\\n",
       "\\end{tabular}\n"
      ],
      "text/markdown": [
       "\n",
       "Gender | Admit | n | \n",
       "|---|---|---|---|\n",
       "| Female   | Admitted |  557     | \n",
       "| Female   | Rejected | 1278     | \n",
       "| Male     | Admitted | 1198     | \n",
       "| Male     | Rejected | 1493     | \n",
       "\n",
       "\n"
      ],
      "text/plain": [
       "  Gender Admit    n   \n",
       "1 Female Admitted  557\n",
       "2 Female Rejected 1278\n",
       "3 Male   Admitted 1198\n",
       "4 Male   Rejected 1493"
      ]
     },
     "metadata": {},
     "output_type": "display_data"
    }
   ],
   "source": [
    "ucb_admission_counts <- count(ucb_admit, Gender, Admit)\n",
    "ucb_admission_counts"
   ]
  },
  {
   "cell_type": "markdown",
   "metadata": {},
   "source": [
    "### Proportion of males admitted overall\n",
    "\n",
    "Next we'll calculate the percentage of males and percentage of females admitted, by creating a new variable, called prop (short for proportion) based off of the counts calculated in the previous exercise and using the mutate() from the dplyr package.\n",
    "\n",
    "Proportions for each row of the data frame we created in the previous exercise can be calculated as n / sum(n). Note that since the data are grouped by gender, sum(n) will be calculated for males and females separately."
   ]
  },
  {
   "cell_type": "code",
   "execution_count": 5,
   "metadata": {},
   "outputs": [
    {
     "data": {
      "text/html": [
       "<table>\n",
       "<thead><tr><th scope=col>Gender</th><th scope=col>Admit</th><th scope=col>n</th><th scope=col>prop</th></tr></thead>\n",
       "<tbody>\n",
       "\t<tr><td>Female   </td><td>Admitted </td><td> 557     </td><td>0.3035422</td></tr>\n",
       "\t<tr><td>Male     </td><td>Admitted </td><td>1198     </td><td>0.4451877</td></tr>\n",
       "</tbody>\n",
       "</table>\n"
      ],
      "text/latex": [
       "\\begin{tabular}{r|llll}\n",
       " Gender & Admit & n & prop\\\\\n",
       "\\hline\n",
       "\t Female    & Admitted  &  557      & 0.3035422\\\\\n",
       "\t Male      & Admitted  & 1198      & 0.4451877\\\\\n",
       "\\end{tabular}\n"
      ],
      "text/markdown": [
       "\n",
       "Gender | Admit | n | prop | \n",
       "|---|---|\n",
       "| Female    | Admitted  |  557      | 0.3035422 | \n",
       "| Male      | Admitted  | 1198      | 0.4451877 | \n",
       "\n",
       "\n"
      ],
      "text/plain": [
       "  Gender Admit    n    prop     \n",
       "1 Female Admitted  557 0.3035422\n",
       "2 Male   Admitted 1198 0.4451877"
      ]
     },
     "metadata": {},
     "output_type": "display_data"
    }
   ],
   "source": [
    "ucb_admission_counts %>%\n",
    "    group_by(Gender) %>%\n",
    "    mutate(prop = n / sum(n)) %>%\n",
    "    filter(Admit == \"Admitted\")"
   ]
  },
  {
   "cell_type": "markdown",
   "metadata": {},
   "source": [
    "It looks like 44% of males were admitted versus only 30% of females. BUT there's more to this story. "
   ]
  },
  {
   "cell_type": "markdown",
   "metadata": {},
   "source": [
    "### Proportion of males admitted for each department\n",
    "\n",
    "Finally we'll make a table similar to the one we constructed earlier, except we'll first group the data by department. The goal is to compare the proportions of male admitted students across departments.\n",
    "\n",
    "Proportions for each row of the data frame we create can be calculated as n / sum(n). Note that since the data are grouped by department and gender, sum(n) will be calculated for males and females separately for each department."
   ]
  },
  {
   "cell_type": "code",
   "execution_count": 6,
   "metadata": {},
   "outputs": [
    {
     "data": {
      "text/html": [
       "<table>\n",
       "<thead><tr><th scope=col>Dept</th><th scope=col>Gender</th><th scope=col>Admit</th><th scope=col>n</th></tr></thead>\n",
       "<tbody>\n",
       "\t<tr><td>A       </td><td>Female  </td><td>Admitted</td><td> 89     </td></tr>\n",
       "\t<tr><td>A       </td><td>Female  </td><td>Rejected</td><td> 19     </td></tr>\n",
       "\t<tr><td>A       </td><td>Male    </td><td>Admitted</td><td>512     </td></tr>\n",
       "\t<tr><td>A       </td><td>Male    </td><td>Rejected</td><td>313     </td></tr>\n",
       "\t<tr><td>B       </td><td>Female  </td><td>Admitted</td><td> 17     </td></tr>\n",
       "\t<tr><td>B       </td><td>Female  </td><td>Rejected</td><td>  8     </td></tr>\n",
       "\t<tr><td>B       </td><td>Male    </td><td>Admitted</td><td>353     </td></tr>\n",
       "\t<tr><td>B       </td><td>Male    </td><td>Rejected</td><td>207     </td></tr>\n",
       "\t<tr><td>C       </td><td>Female  </td><td>Admitted</td><td>202     </td></tr>\n",
       "\t<tr><td>C       </td><td>Female  </td><td>Rejected</td><td>391     </td></tr>\n",
       "\t<tr><td>C       </td><td>Male    </td><td>Admitted</td><td>120     </td></tr>\n",
       "\t<tr><td>C       </td><td>Male    </td><td>Rejected</td><td>205     </td></tr>\n",
       "\t<tr><td>D       </td><td>Female  </td><td>Admitted</td><td>131     </td></tr>\n",
       "\t<tr><td>D       </td><td>Female  </td><td>Rejected</td><td>244     </td></tr>\n",
       "\t<tr><td>D       </td><td>Male    </td><td>Admitted</td><td>138     </td></tr>\n",
       "\t<tr><td>D       </td><td>Male    </td><td>Rejected</td><td>279     </td></tr>\n",
       "\t<tr><td>E       </td><td>Female  </td><td>Admitted</td><td> 94     </td></tr>\n",
       "\t<tr><td>E       </td><td>Female  </td><td>Rejected</td><td>299     </td></tr>\n",
       "\t<tr><td>E       </td><td>Male    </td><td>Admitted</td><td> 53     </td></tr>\n",
       "\t<tr><td>E       </td><td>Male    </td><td>Rejected</td><td>138     </td></tr>\n",
       "\t<tr><td>F       </td><td>Female  </td><td>Admitted</td><td> 24     </td></tr>\n",
       "\t<tr><td>F       </td><td>Female  </td><td>Rejected</td><td>317     </td></tr>\n",
       "\t<tr><td>F       </td><td>Male    </td><td>Admitted</td><td> 22     </td></tr>\n",
       "\t<tr><td>F       </td><td>Male    </td><td>Rejected</td><td>351     </td></tr>\n",
       "</tbody>\n",
       "</table>\n"
      ],
      "text/latex": [
       "\\begin{tabular}{r|llll}\n",
       " Dept & Gender & Admit & n\\\\\n",
       "\\hline\n",
       "\t A        & Female   & Admitted &  89     \\\\\n",
       "\t A        & Female   & Rejected &  19     \\\\\n",
       "\t A        & Male     & Admitted & 512     \\\\\n",
       "\t A        & Male     & Rejected & 313     \\\\\n",
       "\t B        & Female   & Admitted &  17     \\\\\n",
       "\t B        & Female   & Rejected &   8     \\\\\n",
       "\t B        & Male     & Admitted & 353     \\\\\n",
       "\t B        & Male     & Rejected & 207     \\\\\n",
       "\t C        & Female   & Admitted & 202     \\\\\n",
       "\t C        & Female   & Rejected & 391     \\\\\n",
       "\t C        & Male     & Admitted & 120     \\\\\n",
       "\t C        & Male     & Rejected & 205     \\\\\n",
       "\t D        & Female   & Admitted & 131     \\\\\n",
       "\t D        & Female   & Rejected & 244     \\\\\n",
       "\t D        & Male     & Admitted & 138     \\\\\n",
       "\t D        & Male     & Rejected & 279     \\\\\n",
       "\t E        & Female   & Admitted &  94     \\\\\n",
       "\t E        & Female   & Rejected & 299     \\\\\n",
       "\t E        & Male     & Admitted &  53     \\\\\n",
       "\t E        & Male     & Rejected & 138     \\\\\n",
       "\t F        & Female   & Admitted &  24     \\\\\n",
       "\t F        & Female   & Rejected & 317     \\\\\n",
       "\t F        & Male     & Admitted &  22     \\\\\n",
       "\t F        & Male     & Rejected & 351     \\\\\n",
       "\\end{tabular}\n"
      ],
      "text/markdown": [
       "\n",
       "Dept | Gender | Admit | n | \n",
       "|---|---|---|---|---|---|---|---|---|---|---|---|---|---|---|---|---|---|---|---|---|---|---|---|\n",
       "| A        | Female   | Admitted |  89      | \n",
       "| A        | Female   | Rejected |  19      | \n",
       "| A        | Male     | Admitted | 512      | \n",
       "| A        | Male     | Rejected | 313      | \n",
       "| B        | Female   | Admitted |  17      | \n",
       "| B        | Female   | Rejected |   8      | \n",
       "| B        | Male     | Admitted | 353      | \n",
       "| B        | Male     | Rejected | 207      | \n",
       "| C        | Female   | Admitted | 202      | \n",
       "| C        | Female   | Rejected | 391      | \n",
       "| C        | Male     | Admitted | 120      | \n",
       "| C        | Male     | Rejected | 205      | \n",
       "| D        | Female   | Admitted | 131      | \n",
       "| D        | Female   | Rejected | 244      | \n",
       "| D        | Male     | Admitted | 138      | \n",
       "| D        | Male     | Rejected | 279      | \n",
       "| E        | Female   | Admitted |  94      | \n",
       "| E        | Female   | Rejected | 299      | \n",
       "| E        | Male     | Admitted |  53      | \n",
       "| E        | Male     | Rejected | 138      | \n",
       "| F        | Female   | Admitted |  24      | \n",
       "| F        | Female   | Rejected | 317      | \n",
       "| F        | Male     | Admitted |  22      | \n",
       "| F        | Male     | Rejected | 351      | \n",
       "\n",
       "\n"
      ],
      "text/plain": [
       "   Dept Gender Admit    n  \n",
       "1  A    Female Admitted  89\n",
       "2  A    Female Rejected  19\n",
       "3  A    Male   Admitted 512\n",
       "4  A    Male   Rejected 313\n",
       "5  B    Female Admitted  17\n",
       "6  B    Female Rejected   8\n",
       "7  B    Male   Admitted 353\n",
       "8  B    Male   Rejected 207\n",
       "9  C    Female Admitted 202\n",
       "10 C    Female Rejected 391\n",
       "11 C    Male   Admitted 120\n",
       "12 C    Male   Rejected 205\n",
       "13 D    Female Admitted 131\n",
       "14 D    Female Rejected 244\n",
       "15 D    Male   Admitted 138\n",
       "16 D    Male   Rejected 279\n",
       "17 E    Female Admitted  94\n",
       "18 E    Female Rejected 299\n",
       "19 E    Male   Admitted  53\n",
       "20 E    Male   Rejected 138\n",
       "21 F    Female Admitted  24\n",
       "22 F    Female Rejected 317\n",
       "23 F    Male   Admitted  22\n",
       "24 F    Male   Rejected 351"
      ]
     },
     "metadata": {},
     "output_type": "display_data"
    }
   ],
   "source": [
    "ucb_admission_counts <- ucb_admit %>%\n",
    "    group_by(Dept, Gender, Admit) %>%\n",
    "    count()\n",
    "\n",
    "ucb_admission_counts"
   ]
  },
  {
   "cell_type": "code",
   "execution_count": 7,
   "metadata": {},
   "outputs": [
    {
     "data": {
      "text/html": [
       "<table>\n",
       "<thead><tr><th scope=col>Dept</th><th scope=col>Gender</th><th scope=col>Admit</th><th scope=col>n</th><th scope=col>prop</th></tr></thead>\n",
       "<tbody>\n",
       "\t<tr><td>A         </td><td>Female    </td><td>Admitted  </td><td> 89       </td><td>0.82407407</td></tr>\n",
       "\t<tr><td>A         </td><td>Female    </td><td>Rejected  </td><td> 19       </td><td>0.17592593</td></tr>\n",
       "\t<tr><td>A         </td><td>Male      </td><td>Admitted  </td><td>512       </td><td>0.62060606</td></tr>\n",
       "\t<tr><td>A         </td><td>Male      </td><td>Rejected  </td><td>313       </td><td>0.37939394</td></tr>\n",
       "\t<tr><td>B         </td><td>Female    </td><td>Admitted  </td><td> 17       </td><td>0.68000000</td></tr>\n",
       "\t<tr><td>B         </td><td>Female    </td><td>Rejected  </td><td>  8       </td><td>0.32000000</td></tr>\n",
       "\t<tr><td>B         </td><td>Male      </td><td>Admitted  </td><td>353       </td><td>0.63035714</td></tr>\n",
       "\t<tr><td>B         </td><td>Male      </td><td>Rejected  </td><td>207       </td><td>0.36964286</td></tr>\n",
       "\t<tr><td>C         </td><td>Female    </td><td>Admitted  </td><td>202       </td><td>0.34064081</td></tr>\n",
       "\t<tr><td>C         </td><td>Female    </td><td>Rejected  </td><td>391       </td><td>0.65935919</td></tr>\n",
       "\t<tr><td>C         </td><td>Male      </td><td>Admitted  </td><td>120       </td><td>0.36923077</td></tr>\n",
       "\t<tr><td>C         </td><td>Male      </td><td>Rejected  </td><td>205       </td><td>0.63076923</td></tr>\n",
       "\t<tr><td>D         </td><td>Female    </td><td>Admitted  </td><td>131       </td><td>0.34933333</td></tr>\n",
       "\t<tr><td>D         </td><td>Female    </td><td>Rejected  </td><td>244       </td><td>0.65066667</td></tr>\n",
       "\t<tr><td>D         </td><td>Male      </td><td>Admitted  </td><td>138       </td><td>0.33093525</td></tr>\n",
       "\t<tr><td>D         </td><td>Male      </td><td>Rejected  </td><td>279       </td><td>0.66906475</td></tr>\n",
       "\t<tr><td>E         </td><td>Female    </td><td>Admitted  </td><td> 94       </td><td>0.23918575</td></tr>\n",
       "\t<tr><td>E         </td><td>Female    </td><td>Rejected  </td><td>299       </td><td>0.76081425</td></tr>\n",
       "\t<tr><td>E         </td><td>Male      </td><td>Admitted  </td><td> 53       </td><td>0.27748691</td></tr>\n",
       "\t<tr><td>E         </td><td>Male      </td><td>Rejected  </td><td>138       </td><td>0.72251309</td></tr>\n",
       "\t<tr><td>F         </td><td>Female    </td><td>Admitted  </td><td> 24       </td><td>0.07038123</td></tr>\n",
       "\t<tr><td>F         </td><td>Female    </td><td>Rejected  </td><td>317       </td><td>0.92961877</td></tr>\n",
       "\t<tr><td>F         </td><td>Male      </td><td>Admitted  </td><td> 22       </td><td>0.05898123</td></tr>\n",
       "\t<tr><td>F         </td><td>Male      </td><td>Rejected  </td><td>351       </td><td>0.94101877</td></tr>\n",
       "</tbody>\n",
       "</table>\n"
      ],
      "text/latex": [
       "\\begin{tabular}{r|lllll}\n",
       " Dept & Gender & Admit & n & prop\\\\\n",
       "\\hline\n",
       "\t A          & Female     & Admitted   &  89        & 0.82407407\\\\\n",
       "\t A          & Female     & Rejected   &  19        & 0.17592593\\\\\n",
       "\t A          & Male       & Admitted   & 512        & 0.62060606\\\\\n",
       "\t A          & Male       & Rejected   & 313        & 0.37939394\\\\\n",
       "\t B          & Female     & Admitted   &  17        & 0.68000000\\\\\n",
       "\t B          & Female     & Rejected   &   8        & 0.32000000\\\\\n",
       "\t B          & Male       & Admitted   & 353        & 0.63035714\\\\\n",
       "\t B          & Male       & Rejected   & 207        & 0.36964286\\\\\n",
       "\t C          & Female     & Admitted   & 202        & 0.34064081\\\\\n",
       "\t C          & Female     & Rejected   & 391        & 0.65935919\\\\\n",
       "\t C          & Male       & Admitted   & 120        & 0.36923077\\\\\n",
       "\t C          & Male       & Rejected   & 205        & 0.63076923\\\\\n",
       "\t D          & Female     & Admitted   & 131        & 0.34933333\\\\\n",
       "\t D          & Female     & Rejected   & 244        & 0.65066667\\\\\n",
       "\t D          & Male       & Admitted   & 138        & 0.33093525\\\\\n",
       "\t D          & Male       & Rejected   & 279        & 0.66906475\\\\\n",
       "\t E          & Female     & Admitted   &  94        & 0.23918575\\\\\n",
       "\t E          & Female     & Rejected   & 299        & 0.76081425\\\\\n",
       "\t E          & Male       & Admitted   &  53        & 0.27748691\\\\\n",
       "\t E          & Male       & Rejected   & 138        & 0.72251309\\\\\n",
       "\t F          & Female     & Admitted   &  24        & 0.07038123\\\\\n",
       "\t F          & Female     & Rejected   & 317        & 0.92961877\\\\\n",
       "\t F          & Male       & Admitted   &  22        & 0.05898123\\\\\n",
       "\t F          & Male       & Rejected   & 351        & 0.94101877\\\\\n",
       "\\end{tabular}\n"
      ],
      "text/markdown": [
       "\n",
       "Dept | Gender | Admit | n | prop | \n",
       "|---|---|---|---|---|---|---|---|---|---|---|---|---|---|---|---|---|---|---|---|---|---|---|---|\n",
       "| A          | Female     | Admitted   |  89        | 0.82407407 | \n",
       "| A          | Female     | Rejected   |  19        | 0.17592593 | \n",
       "| A          | Male       | Admitted   | 512        | 0.62060606 | \n",
       "| A          | Male       | Rejected   | 313        | 0.37939394 | \n",
       "| B          | Female     | Admitted   |  17        | 0.68000000 | \n",
       "| B          | Female     | Rejected   |   8        | 0.32000000 | \n",
       "| B          | Male       | Admitted   | 353        | 0.63035714 | \n",
       "| B          | Male       | Rejected   | 207        | 0.36964286 | \n",
       "| C          | Female     | Admitted   | 202        | 0.34064081 | \n",
       "| C          | Female     | Rejected   | 391        | 0.65935919 | \n",
       "| C          | Male       | Admitted   | 120        | 0.36923077 | \n",
       "| C          | Male       | Rejected   | 205        | 0.63076923 | \n",
       "| D          | Female     | Admitted   | 131        | 0.34933333 | \n",
       "| D          | Female     | Rejected   | 244        | 0.65066667 | \n",
       "| D          | Male       | Admitted   | 138        | 0.33093525 | \n",
       "| D          | Male       | Rejected   | 279        | 0.66906475 | \n",
       "| E          | Female     | Admitted   |  94        | 0.23918575 | \n",
       "| E          | Female     | Rejected   | 299        | 0.76081425 | \n",
       "| E          | Male       | Admitted   |  53        | 0.27748691 | \n",
       "| E          | Male       | Rejected   | 138        | 0.72251309 | \n",
       "| F          | Female     | Admitted   |  24        | 0.07038123 | \n",
       "| F          | Female     | Rejected   | 317        | 0.92961877 | \n",
       "| F          | Male       | Admitted   |  22        | 0.05898123 | \n",
       "| F          | Male       | Rejected   | 351        | 0.94101877 | \n",
       "\n",
       "\n"
      ],
      "text/plain": [
       "   Dept Gender Admit    n   prop      \n",
       "1  A    Female Admitted  89 0.82407407\n",
       "2  A    Female Rejected  19 0.17592593\n",
       "3  A    Male   Admitted 512 0.62060606\n",
       "4  A    Male   Rejected 313 0.37939394\n",
       "5  B    Female Admitted  17 0.68000000\n",
       "6  B    Female Rejected   8 0.32000000\n",
       "7  B    Male   Admitted 353 0.63035714\n",
       "8  B    Male   Rejected 207 0.36964286\n",
       "9  C    Female Admitted 202 0.34064081\n",
       "10 C    Female Rejected 391 0.65935919\n",
       "11 C    Male   Admitted 120 0.36923077\n",
       "12 C    Male   Rejected 205 0.63076923\n",
       "13 D    Female Admitted 131 0.34933333\n",
       "14 D    Female Rejected 244 0.65066667\n",
       "15 D    Male   Admitted 138 0.33093525\n",
       "16 D    Male   Rejected 279 0.66906475\n",
       "17 E    Female Admitted  94 0.23918575\n",
       "18 E    Female Rejected 299 0.76081425\n",
       "19 E    Male   Admitted  53 0.27748691\n",
       "20 E    Male   Rejected 138 0.72251309\n",
       "21 F    Female Admitted  24 0.07038123\n",
       "22 F    Female Rejected 317 0.92961877\n",
       "23 F    Male   Admitted  22 0.05898123\n",
       "24 F    Male   Rejected 351 0.94101877"
      ]
     },
     "metadata": {},
     "output_type": "display_data"
    }
   ],
   "source": [
    "ucb_admission_counts  %>%\n",
    "  group_by(Dept, Gender) %>%\n",
    "  mutate(prop = n/sum(n))"
   ]
  },
  {
   "cell_type": "markdown",
   "metadata": {},
   "source": [
    "### Gapminder dataset"
   ]
  },
  {
   "cell_type": "code",
   "execution_count": 8,
   "metadata": {},
   "outputs": [
    {
     "name": "stderr",
     "output_type": "stream",
     "text": [
      "Warning message:\n",
      "\"package 'gapminder' was built under R version 3.4.4\""
     ]
    }
   ],
   "source": [
    "library(gapminder)"
   ]
  },
  {
   "cell_type": "code",
   "execution_count": 9,
   "metadata": {},
   "outputs": [
    {
     "data": {
      "text/html": [
       "<table>\n",
       "<thead><tr><th scope=col>country</th><th scope=col>continent</th><th scope=col>year</th><th scope=col>lifeExp</th><th scope=col>pop</th><th scope=col>gdpPercap</th></tr></thead>\n",
       "<tbody>\n",
       "\t<tr><td>Afghanistan</td><td>Asia       </td><td>1952       </td><td>28.801     </td><td> 8425333   </td><td>779.4453   </td></tr>\n",
       "\t<tr><td>Afghanistan</td><td>Asia       </td><td>1957       </td><td>30.332     </td><td> 9240934   </td><td>820.8530   </td></tr>\n",
       "\t<tr><td>Afghanistan</td><td>Asia       </td><td>1962       </td><td>31.997     </td><td>10267083   </td><td>853.1007   </td></tr>\n",
       "\t<tr><td>Afghanistan</td><td>Asia       </td><td>1967       </td><td>34.020     </td><td>11537966   </td><td>836.1971   </td></tr>\n",
       "\t<tr><td>Afghanistan</td><td>Asia       </td><td>1972       </td><td>36.088     </td><td>13079460   </td><td>739.9811   </td></tr>\n",
       "\t<tr><td>Afghanistan</td><td>Asia       </td><td>1977       </td><td>38.438     </td><td>14880372   </td><td>786.1134   </td></tr>\n",
       "</tbody>\n",
       "</table>\n"
      ],
      "text/latex": [
       "\\begin{tabular}{r|llllll}\n",
       " country & continent & year & lifeExp & pop & gdpPercap\\\\\n",
       "\\hline\n",
       "\t Afghanistan & Asia        & 1952        & 28.801      &  8425333    & 779.4453   \\\\\n",
       "\t Afghanistan & Asia        & 1957        & 30.332      &  9240934    & 820.8530   \\\\\n",
       "\t Afghanistan & Asia        & 1962        & 31.997      & 10267083    & 853.1007   \\\\\n",
       "\t Afghanistan & Asia        & 1967        & 34.020      & 11537966    & 836.1971   \\\\\n",
       "\t Afghanistan & Asia        & 1972        & 36.088      & 13079460    & 739.9811   \\\\\n",
       "\t Afghanistan & Asia        & 1977        & 38.438      & 14880372    & 786.1134   \\\\\n",
       "\\end{tabular}\n"
      ],
      "text/markdown": [
       "\n",
       "country | continent | year | lifeExp | pop | gdpPercap | \n",
       "|---|---|---|---|---|---|\n",
       "| Afghanistan | Asia        | 1952        | 28.801      |  8425333    | 779.4453    | \n",
       "| Afghanistan | Asia        | 1957        | 30.332      |  9240934    | 820.8530    | \n",
       "| Afghanistan | Asia        | 1962        | 31.997      | 10267083    | 853.1007    | \n",
       "| Afghanistan | Asia        | 1967        | 34.020      | 11537966    | 836.1971    | \n",
       "| Afghanistan | Asia        | 1972        | 36.088      | 13079460    | 739.9811    | \n",
       "| Afghanistan | Asia        | 1977        | 38.438      | 14880372    | 786.1134    | \n",
       "\n",
       "\n"
      ],
      "text/plain": [
       "  country     continent year lifeExp pop      gdpPercap\n",
       "1 Afghanistan Asia      1952 28.801   8425333 779.4453 \n",
       "2 Afghanistan Asia      1957 30.332   9240934 820.8530 \n",
       "3 Afghanistan Asia      1962 31.997  10267083 853.1007 \n",
       "4 Afghanistan Asia      1967 34.020  11537966 836.1971 \n",
       "5 Afghanistan Asia      1972 36.088  13079460 739.9811 \n",
       "6 Afghanistan Asia      1977 38.438  14880372 786.1134 "
      ]
     },
     "metadata": {},
     "output_type": "display_data"
    }
   ],
   "source": [
    "head(gapminder)"
   ]
  },
  {
   "cell_type": "code",
   "execution_count": 10,
   "metadata": {},
   "outputs": [
    {
     "name": "stdout",
     "output_type": "stream",
     "text": [
      "Observations: 1,704\n",
      "Variables: 6\n",
      "$ country   <fct> Afghanistan, Afghanistan, Afghanistan, Afghanistan, Afgha...\n",
      "$ continent <fct> Asia, Asia, Asia, Asia, Asia, Asia, Asia, Asia, Asia, Asi...\n",
      "$ year      <int> 1952, 1957, 1962, 1967, 1972, 1977, 1982, 1987, 1992, 199...\n",
      "$ lifeExp   <dbl> 28.801, 30.332, 31.997, 34.020, 36.088, 38.438, 39.854, 4...\n",
      "$ pop       <int> 8425333, 9240934, 10267083, 11537966, 13079460, 14880372,...\n",
      "$ gdpPercap <dbl> 779.4453, 820.8530, 853.1007, 836.1971, 739.9811, 786.113...\n"
     ]
    }
   ],
   "source": [
    "glimpse(gapminder)"
   ]
  },
  {
   "cell_type": "markdown",
   "metadata": {},
   "source": [
    "### Sampling strategies\n"
   ]
  },
  {
   "cell_type": "markdown",
   "metadata": {},
   "source": [
    "Why do we sample in the first place? Why not try to collect data from the entire population of interest? You could try to take a census but it isn't easy. First, taking a census requires a lot more resources than collecting data from a sample of the population. Second, certain individuals in your population might be hard to locate or collect data from. If these individuals that are missed in the census are different from those in the rest of the population, the census data will be biased. \n",
    "\n",
    "For example, in the US census, illegal immigrants are often not recorded properly since they tend to be reluctant to fill out census forms with the concern that this information could be shared with immigrantion. However, these individuals might have characteristics different from the rest of the population and hence, not getting information from them might result in unreliable data from geographical regions with high concentrations of illegal immigrants. Lastly, populations are constantly changing. Even if you do have the required resources and manage to collect data from everyone in the population, your population will be different tomorrow and so the hard work required to collect such data may not pay off.\n",
    "\n",
    "### Sample is natural\n",
    "\n",
    "If you think about it, sampling is actually quite natural. Think about something you are cooking. We taste or in other words examine a small part of what we're cooking to get an idea about the dish as a whole. Afterall, we would never eat a whole pot of soup just to check its taste. When you taste a spoonful of soup and decide the spoonful you tasted isn't salty enough, what you're doing is simply explanatory analysis for the sample at hand. If you then generalize and conclude that your entire soup needs salt, that's making an inference. For your inference to be valid, the spoonful you tasted (your sample), needs to be representative of the entire pot (your population). If your spoonful comes only from the surface and the salt is collected at the bottom, what you tasted is probably not going to be representative of the whole pot. On the other hand, if you first stir the soup thoroughly before you taste, your spoonful will more likely be representative of the whole pot. \n",
    "\n",
    "Sampling data is a bit different than sampling soup though. Let's introduce a few commonly used sampling methods: \n",
    "\n",
    "* Simple random sampling\n",
    "* Stratified sampling\n",
    "* Cluster sampling\n",
    "* Multistage sampling"
   ]
  },
  {
   "cell_type": "markdown",
   "metadata": {},
   "source": [
    "### Simple random sampling\n",
    "We randomly select cases from the population, such that each case is equally likely to be selected. This is similar to randomly drawing names from a hat. \n",
    "\n",
    "### Stratified sampling\n",
    "We first divide the population into homogeneous groups called strata and then we randomly sample from within each stratum. For example, if we wanted to make sure that people from low, medium, and high socioeconomic status are equally represented in a study, we would first divide our population into 3 groups as such and then sample from within each group. \n",
    "\n",
    "### Cluster sampling\n",
    "In cluster sampling, we divide the population into clusters, randomly sample a few clusters, and then sample all observations within these clusters. The clusters, unlike strata in stratified sampling, are heterogeneous within themselves and each cluster is similar to the others, such that we can get away with sampling from just a few of the clusters. \n",
    "\n",
    "### Multistage sampling\n",
    "Multistage sampling adds another steps to cluster sampling. Just like in cluster sampling, we divide the population into clusters, randomly sample a few clusters, and then we randomly sample observations from within those clusters. \n",
    "\n",
    "...\n",
    "\n",
    "Cluster and multistage sampling are often used from economical reasons. One might divide a city into geographic regions that are on average similar to each other and then sample randomly from a few randomly picked regions in order to avoid travelling to all regions. "
   ]
  },
  {
   "cell_type": "markdown",
   "metadata": {},
   "source": [
    "### Examples\n",
    "\n",
    "### Sampling strategies, determine which...\n",
    "\n",
    "A consulting company is planning a pilot study on marketing in Boston. They identify the zip codes that make up the greater Boston area, then sample 50 randomly selected addresses from each zip code and mail a coupon to these addresses. They then track whether the coupon was used in the following month.\n",
    "\n",
    "What sampling strategy has this company used?\n",
    "\n",
    "**Stratified sampling**\n",
    "\n",
    "### Sampling strategies, choose worst...\n",
    "\n",
    "A school district has requested a survey be conducted on the socioeconomic status of their students. Their budget only allows them to conduct the survey in some of the schools, hence they need to first sample a few schools.\n",
    "\n",
    "Students living in this district generally attend a school in their neighborhood. The district is broken into many distinct and unique neighborhoods, some including large single-family homes and others with only low-income housing.\n",
    "\n",
    "Which approach would likely be the least effective for selecting the schools where the survey will be conducted?\n",
    "\n",
    "** Cluster sampling, where each cluster is a neighborhood. This sampling strategy would be a bad idea because each neighborhood has a unique socioeconomic status. A good study would collect information about every neighborhood **"
   ]
  },
  {
   "cell_type": "markdown",
   "metadata": {
    "collapsed": true
   },
   "source": [
    "### Sampling in R"
   ]
  },
  {
   "cell_type": "code",
   "execution_count": 11,
   "metadata": {},
   "outputs": [
    {
     "name": "stderr",
     "output_type": "stream",
     "text": [
      "Please visit openintro.org for free statistics materials\n",
      "\n",
      "Attaching package: 'openintro'\n",
      "\n",
      "The following objects are masked from 'package:datasets':\n",
      "\n",
      "    cars, trees\n",
      "\n"
     ]
    }
   ],
   "source": [
    "library(openintro)\n",
    "library(dplyr)"
   ]
  },
  {
   "cell_type": "code",
   "execution_count": 12,
   "metadata": {
    "collapsed": true
   },
   "outputs": [],
   "source": [
    "# load county data\n",
    "data(county)"
   ]
  },
  {
   "cell_type": "code",
   "execution_count": 13,
   "metadata": {},
   "outputs": [
    {
     "data": {
      "text/html": [
       "<table>\n",
       "<thead><tr><th scope=col>name</th><th scope=col>state</th><th scope=col>pop2000</th><th scope=col>pop2010</th><th scope=col>fed_spend</th><th scope=col>poverty</th><th scope=col>homeownership</th><th scope=col>multiunit</th><th scope=col>income</th><th scope=col>med_income</th></tr></thead>\n",
       "<tbody>\n",
       "\t<tr><td>Autauga County</td><td>Alabama       </td><td> 43671        </td><td> 54571        </td><td>6.068095      </td><td>10.6          </td><td>77.5          </td><td> 7.2          </td><td>24568         </td><td>53255         </td></tr>\n",
       "\t<tr><td>Baldwin County</td><td>Alabama       </td><td>140415        </td><td>182265        </td><td>6.139862      </td><td>12.2          </td><td>76.7          </td><td>22.6          </td><td>26469         </td><td>50147         </td></tr>\n",
       "\t<tr><td>Barbour County</td><td>Alabama       </td><td> 29038        </td><td> 27457        </td><td>8.752158      </td><td>25.0          </td><td>68.0          </td><td>11.1          </td><td>15875         </td><td>33219         </td></tr>\n",
       "\t<tr><td>Bibb County   </td><td>Alabama       </td><td> 20826        </td><td> 22915        </td><td>7.122016      </td><td>12.6          </td><td>82.9          </td><td> 6.6          </td><td>19918         </td><td>41770         </td></tr>\n",
       "\t<tr><td>Blount County </td><td>Alabama       </td><td> 51024        </td><td> 57322        </td><td>5.130910      </td><td>13.4          </td><td>82.0          </td><td> 3.7          </td><td>21070         </td><td>45549         </td></tr>\n",
       "\t<tr><td>Bullock County</td><td>Alabama       </td><td> 11714        </td><td> 10914        </td><td>9.973062      </td><td>25.3          </td><td>76.9          </td><td> 9.9          </td><td>20289         </td><td>31602         </td></tr>\n",
       "</tbody>\n",
       "</table>\n"
      ],
      "text/latex": [
       "\\begin{tabular}{r|llllllllll}\n",
       " name & state & pop2000 & pop2010 & fed\\_spend & poverty & homeownership & multiunit & income & med\\_income\\\\\n",
       "\\hline\n",
       "\t Autauga County & Alabama        &  43671         &  54571         & 6.068095       & 10.6           & 77.5           &  7.2           & 24568          & 53255         \\\\\n",
       "\t Baldwin County & Alabama        & 140415         & 182265         & 6.139862       & 12.2           & 76.7           & 22.6           & 26469          & 50147         \\\\\n",
       "\t Barbour County & Alabama        &  29038         &  27457         & 8.752158       & 25.0           & 68.0           & 11.1           & 15875          & 33219         \\\\\n",
       "\t Bibb County    & Alabama        &  20826         &  22915         & 7.122016       & 12.6           & 82.9           &  6.6           & 19918          & 41770         \\\\\n",
       "\t Blount County  & Alabama        &  51024         &  57322         & 5.130910       & 13.4           & 82.0           &  3.7           & 21070          & 45549         \\\\\n",
       "\t Bullock County & Alabama        &  11714         &  10914         & 9.973062       & 25.3           & 76.9           &  9.9           & 20289          & 31602         \\\\\n",
       "\\end{tabular}\n"
      ],
      "text/markdown": [
       "\n",
       "name | state | pop2000 | pop2010 | fed_spend | poverty | homeownership | multiunit | income | med_income | \n",
       "|---|---|---|---|---|---|\n",
       "| Autauga County | Alabama        |  43671         |  54571         | 6.068095       | 10.6           | 77.5           |  7.2           | 24568          | 53255          | \n",
       "| Baldwin County | Alabama        | 140415         | 182265         | 6.139862       | 12.2           | 76.7           | 22.6           | 26469          | 50147          | \n",
       "| Barbour County | Alabama        |  29038         |  27457         | 8.752158       | 25.0           | 68.0           | 11.1           | 15875          | 33219          | \n",
       "| Bibb County    | Alabama        |  20826         |  22915         | 7.122016       | 12.6           | 82.9           |  6.6           | 19918          | 41770          | \n",
       "| Blount County  | Alabama        |  51024         |  57322         | 5.130910       | 13.4           | 82.0           |  3.7           | 21070          | 45549          | \n",
       "| Bullock County | Alabama        |  11714         |  10914         | 9.973062       | 25.3           | 76.9           |  9.9           | 20289          | 31602          | \n",
       "\n",
       "\n"
      ],
      "text/plain": [
       "  name           state   pop2000 pop2010 fed_spend poverty homeownership\n",
       "1 Autauga County Alabama  43671   54571  6.068095  10.6    77.5         \n",
       "2 Baldwin County Alabama 140415  182265  6.139862  12.2    76.7         \n",
       "3 Barbour County Alabama  29038   27457  8.752158  25.0    68.0         \n",
       "4 Bibb County    Alabama  20826   22915  7.122016  12.6    82.9         \n",
       "5 Blount County  Alabama  51024   57322  5.130910  13.4    82.0         \n",
       "6 Bullock County Alabama  11714   10914  9.973062  25.3    76.9         \n",
       "  multiunit income med_income\n",
       "1  7.2      24568  53255     \n",
       "2 22.6      26469  50147     \n",
       "3 11.1      15875  33219     \n",
       "4  6.6      19918  41770     \n",
       "5  3.7      21070  45549     \n",
       "6  9.9      20289  31602     "
      ]
     },
     "metadata": {},
     "output_type": "display_data"
    }
   ],
   "source": [
    "head(county)"
   ]
  },
  {
   "cell_type": "code",
   "execution_count": 14,
   "metadata": {},
   "outputs": [
    {
     "data": {
      "text/plain": [
       "                name           state         pop2000           pop2010       \n",
       " Washington County:  30   Texas   : 254   Min.   :     67   Min.   :     82  \n",
       " Jefferson County :  25   Georgia : 159   1st Qu.:  11210   1st Qu.:  11104  \n",
       " Franklin County  :  24   Virginia: 134   Median :  24608   Median :  25857  \n",
       " Jackson County   :  23   Kentucky: 120   Mean   :  89623   Mean   :  98233  \n",
       " Lincoln County   :  23   Missouri: 115   3rd Qu.:  61766   3rd Qu.:  66699  \n",
       " Madison County   :  19   Kansas  : 105   Max.   :9519338   Max.   :9818605  \n",
       " (Other)          :2999   (Other) :2256   NA's   :3                          \n",
       "   fed_spend          poverty     homeownership     multiunit    \n",
       " Min.   :  0.000   Min.   : 0.0   Min.   : 0.00   Min.   : 0.00  \n",
       " 1st Qu.:  6.964   1st Qu.:11.0   1st Qu.:69.50   1st Qu.: 6.10  \n",
       " Median :  8.669   Median :14.7   Median :74.60   Median : 9.70  \n",
       " Mean   :  9.991   Mean   :15.5   Mean   :73.26   Mean   :12.33  \n",
       " 3rd Qu.: 10.857   3rd Qu.:19.0   3rd Qu.:78.40   3rd Qu.:15.90  \n",
       " Max.   :204.616   Max.   :53.5   Max.   :91.30   Max.   :98.50  \n",
       " NA's   :4                                                       \n",
       "     income        med_income    \n",
       " Min.   : 7772   Min.   : 19351  \n",
       " 1st Qu.:19030   1st Qu.: 36952  \n",
       " Median :21773   Median : 42445  \n",
       " Mean   :22505   Mean   : 44270  \n",
       " 3rd Qu.:24814   3rd Qu.: 49142  \n",
       " Max.   :64381   Max.   :115574  \n",
       "                                 "
      ]
     },
     "metadata": {},
     "output_type": "display_data"
    }
   ],
   "source": [
    "summary(county)"
   ]
  },
  {
   "cell_type": "code",
   "execution_count": 15,
   "metadata": {},
   "outputs": [
    {
     "name": "stdout",
     "output_type": "stream",
     "text": [
      "Observations: 3,143\n",
      "Variables: 10\n",
      "$ name          <fct> Autauga County, Baldwin County, Barbour County, Bibb ...\n",
      "$ state         <fct> Alabama, Alabama, Alabama, Alabama, Alabama, Alabama,...\n",
      "$ pop2000       <dbl> 43671, 140415, 29038, 20826, 51024, 11714, 21399, 112...\n",
      "$ pop2010       <dbl> 54571, 182265, 27457, 22915, 57322, 10914, 20947, 118...\n",
      "$ fed_spend     <dbl> 6.068095, 6.139862, 8.752158, 7.122016, 5.130910, 9.9...\n",
      "$ poverty       <dbl> 10.6, 12.2, 25.0, 12.6, 13.4, 25.3, 25.0, 19.5, 20.3,...\n",
      "$ homeownership <dbl> 77.5, 76.7, 68.0, 82.9, 82.0, 76.9, 69.0, 70.7, 71.4,...\n",
      "$ multiunit     <dbl> 7.2, 22.6, 11.1, 6.6, 3.7, 9.9, 13.7, 14.3, 8.7, 4.3,...\n",
      "$ income        <dbl> 24568, 26469, 15875, 19918, 21070, 20289, 16916, 2057...\n",
      "$ med_income    <dbl> 53255, 50147, 33219, 41770, 45549, 31602, 30659, 3840...\n"
     ]
    }
   ],
   "source": [
    "glimpse(county)"
   ]
  },
  {
   "cell_type": "code",
   "execution_count": 16,
   "metadata": {},
   "outputs": [
    {
     "data": {
      "text/html": [
       "<table>\n",
       "<thead><tr><th scope=col>name</th><th scope=col>state</th><th scope=col>pop2000</th><th scope=col>pop2010</th><th scope=col>fed_spend</th><th scope=col>poverty</th><th scope=col>homeownership</th><th scope=col>multiunit</th><th scope=col>income</th><th scope=col>med_income</th></tr></thead>\n",
       "<tbody>\n",
       "\t<tr><td>Autauga County</td><td>Alabama       </td><td> 43671        </td><td> 54571        </td><td>6.068095      </td><td>10.6          </td><td>77.5          </td><td> 7.2          </td><td>24568         </td><td>53255         </td></tr>\n",
       "\t<tr><td>Baldwin County</td><td>Alabama       </td><td>140415        </td><td>182265        </td><td>6.139862      </td><td>12.2          </td><td>76.7          </td><td>22.6          </td><td>26469         </td><td>50147         </td></tr>\n",
       "\t<tr><td>Barbour County</td><td>Alabama       </td><td> 29038        </td><td> 27457        </td><td>8.752158      </td><td>25.0          </td><td>68.0          </td><td>11.1          </td><td>15875         </td><td>33219         </td></tr>\n",
       "\t<tr><td>Bibb County   </td><td>Alabama       </td><td> 20826        </td><td> 22915        </td><td>7.122016      </td><td>12.6          </td><td>82.9          </td><td> 6.6          </td><td>19918         </td><td>41770         </td></tr>\n",
       "\t<tr><td>Blount County </td><td>Alabama       </td><td> 51024        </td><td> 57322        </td><td>5.130910      </td><td>13.4          </td><td>82.0          </td><td> 3.7          </td><td>21070         </td><td>45549         </td></tr>\n",
       "\t<tr><td>Bullock County</td><td>Alabama       </td><td> 11714        </td><td> 10914        </td><td>9.973062      </td><td>25.3          </td><td>76.9          </td><td> 9.9          </td><td>20289         </td><td>31602         </td></tr>\n",
       "</tbody>\n",
       "</table>\n"
      ],
      "text/latex": [
       "\\begin{tabular}{r|llllllllll}\n",
       " name & state & pop2000 & pop2010 & fed\\_spend & poverty & homeownership & multiunit & income & med\\_income\\\\\n",
       "\\hline\n",
       "\t Autauga County & Alabama        &  43671         &  54571         & 6.068095       & 10.6           & 77.5           &  7.2           & 24568          & 53255         \\\\\n",
       "\t Baldwin County & Alabama        & 140415         & 182265         & 6.139862       & 12.2           & 76.7           & 22.6           & 26469          & 50147         \\\\\n",
       "\t Barbour County & Alabama        &  29038         &  27457         & 8.752158       & 25.0           & 68.0           & 11.1           & 15875          & 33219         \\\\\n",
       "\t Bibb County    & Alabama        &  20826         &  22915         & 7.122016       & 12.6           & 82.9           &  6.6           & 19918          & 41770         \\\\\n",
       "\t Blount County  & Alabama        &  51024         &  57322         & 5.130910       & 13.4           & 82.0           &  3.7           & 21070          & 45549         \\\\\n",
       "\t Bullock County & Alabama        &  11714         &  10914         & 9.973062       & 25.3           & 76.9           &  9.9           & 20289          & 31602         \\\\\n",
       "\\end{tabular}\n"
      ],
      "text/markdown": [
       "\n",
       "name | state | pop2000 | pop2010 | fed_spend | poverty | homeownership | multiunit | income | med_income | \n",
       "|---|---|---|---|---|---|\n",
       "| Autauga County | Alabama        |  43671         |  54571         | 6.068095       | 10.6           | 77.5           |  7.2           | 24568          | 53255          | \n",
       "| Baldwin County | Alabama        | 140415         | 182265         | 6.139862       | 12.2           | 76.7           | 22.6           | 26469          | 50147          | \n",
       "| Barbour County | Alabama        |  29038         |  27457         | 8.752158       | 25.0           | 68.0           | 11.1           | 15875          | 33219          | \n",
       "| Bibb County    | Alabama        |  20826         |  22915         | 7.122016       | 12.6           | 82.9           |  6.6           | 19918          | 41770          | \n",
       "| Blount County  | Alabama        |  51024         |  57322         | 5.130910       | 13.4           | 82.0           |  3.7           | 21070          | 45549          | \n",
       "| Bullock County | Alabama        |  11714         |  10914         | 9.973062       | 25.3           | 76.9           |  9.9           | 20289          | 31602          | \n",
       "\n",
       "\n"
      ],
      "text/plain": [
       "  name           state   pop2000 pop2010 fed_spend poverty homeownership\n",
       "1 Autauga County Alabama  43671   54571  6.068095  10.6    77.5         \n",
       "2 Baldwin County Alabama 140415  182265  6.139862  12.2    76.7         \n",
       "3 Barbour County Alabama  29038   27457  8.752158  25.0    68.0         \n",
       "4 Bibb County    Alabama  20826   22915  7.122016  12.6    82.9         \n",
       "5 Blount County  Alabama  51024   57322  5.130910  13.4    82.0         \n",
       "6 Bullock County Alabama  11714   10914  9.973062  25.3    76.9         \n",
       "  multiunit income med_income\n",
       "1  7.2      24568  53255     \n",
       "2 22.6      26469  50147     \n",
       "3 11.1      15875  33219     \n",
       "4  6.6      19918  41770     \n",
       "5  3.7      21070  45549     \n",
       "6  9.9      20289  31602     "
      ]
     },
     "metadata": {},
     "output_type": "display_data"
    }
   ],
   "source": [
    "# since DC is not a state by definition, we're going to remove it\n",
    "\n",
    "county_noDC <- county %>%\n",
    "    filter(state != \"District of Columbia\") %>%\n",
    "    droplevels()\n",
    "\n",
    "# we'll drop levels for good measure\n",
    "# dso the District of Columbia is removed completely\n",
    "# from our dataframe. \n",
    "\n",
    "head(county_noDC)"
   ]
  },
  {
   "cell_type": "markdown",
   "metadata": {},
   "source": [
    "Suppose our limited resources require that we collect data from only 150 of the over 3000 counties in the United States. One option is to take a simple random sample."
   ]
  },
  {
   "cell_type": "code",
   "execution_count": 17,
   "metadata": {},
   "outputs": [
    {
     "name": "stdout",
     "output_type": "stream",
     "text": [
      "Observations: 150\n",
      "Variables: 10\n",
      "$ name          <fct> Steele County, Transylvania County, Stark County, Eur...\n",
      "$ state         <fct> Minnesota, North Carolina, Illinois, Nevada, Tennesse...\n",
      "$ pop2000       <dbl> 33680, 29334, 6332, 1651, 130449, 2077, 3344, 11814, ...\n",
      "$ pop2010       <dbl> 36576, 33090, 5994, 1987, 160645, 1717, 3476, 12191, ...\n",
      "$ fed_spend     <dbl> 5.592930, 7.959021, 9.563564, 4.122798, 5.941542, 12....\n",
      "$ poverty       <dbl> 7.5, 14.0, 11.2, 16.2, 10.1, 34.4, 46.0, 24.6, 13.9, ...\n",
      "$ homeownership <dbl> 78.9, 76.6, 81.7, 73.1, 74.7, 71.0, 79.4, 71.5, 73.4,...\n",
      "$ multiunit     <dbl> 15.4, 5.7, 9.3, 6.7, 15.1, 4.7, 4.9, 6.1, 4.8, 4.3, 1...\n",
      "$ income        <dbl> 25062, 23939, 25311, 30306, 26014, 13955, 11485, 1504...\n",
      "$ med_income    <dbl> 55321, 39408, 49195, 61400, 54916, 22188, 22647, 3328...\n"
     ]
    }
   ],
   "source": [
    "# simple random sample of 150 counties\n",
    "\n",
    "county_srs <- county_noDC %>%\n",
    "    sample_n(size = 150)\n",
    "\n",
    "glimpse(county_srs)"
   ]
  },
  {
   "cell_type": "markdown",
   "metadata": {},
   "source": [
    "However, if we wanted to obtain equal number of counties from each state that is 3 counties per state, a simple random sample won't ensure that. We can confirm this by counting the number of counties per state..."
   ]
  },
  {
   "cell_type": "code",
   "execution_count": 18,
   "metadata": {},
   "outputs": [
    {
     "data": {
      "text/html": [
       "<table>\n",
       "<thead><tr><th scope=col>state</th><th scope=col>n</th></tr></thead>\n",
       "<tbody>\n",
       "\t<tr><td>Alabama   </td><td>1         </td></tr>\n",
       "\t<tr><td>Arkansas  </td><td>2         </td></tr>\n",
       "\t<tr><td>California</td><td>4         </td></tr>\n",
       "\t<tr><td>Colorado  </td><td>1         </td></tr>\n",
       "\t<tr><td>Delaware  </td><td>1         </td></tr>\n",
       "\t<tr><td>Florida   </td><td>3         </td></tr>\n",
       "</tbody>\n",
       "</table>\n"
      ],
      "text/latex": [
       "\\begin{tabular}{r|ll}\n",
       " state & n\\\\\n",
       "\\hline\n",
       "\t Alabama    & 1         \\\\\n",
       "\t Arkansas   & 2         \\\\\n",
       "\t California & 4         \\\\\n",
       "\t Colorado   & 1         \\\\\n",
       "\t Delaware   & 1         \\\\\n",
       "\t Florida    & 3         \\\\\n",
       "\\end{tabular}\n"
      ],
      "text/markdown": [
       "\n",
       "state | n | \n",
       "|---|---|---|---|---|---|\n",
       "| Alabama    | 1          | \n",
       "| Arkansas   | 2          | \n",
       "| California | 4          | \n",
       "| Colorado   | 1          | \n",
       "| Delaware   | 1          | \n",
       "| Florida    | 3          | \n",
       "\n",
       "\n"
      ],
      "text/plain": [
       "  state      n\n",
       "1 Alabama    1\n",
       "2 Arkansas   2\n",
       "3 California 4\n",
       "4 Colorado   1\n",
       "5 Delaware   1\n",
       "6 Florida    3"
      ]
     },
     "metadata": {},
     "output_type": "display_data"
    }
   ],
   "source": [
    "county_srs %>% \n",
    "    group_by(state) %>%\n",
    "    count() %>%\n",
    "    head()"
   ]
  },
  {
   "cell_type": "markdown",
   "metadata": {},
   "source": [
    "If we instead want to sample 3 counties per state to make up our sample of 150 counties, we should use stratified sampling."
   ]
  },
  {
   "cell_type": "code",
   "execution_count": 19,
   "metadata": {},
   "outputs": [
    {
     "name": "stdout",
     "output_type": "stream",
     "text": [
      "Observations: 150\n",
      "Variables: 10\n",
      "$ name          <fct> Madison County, Clay County, Tallapoosa County, Yakut...\n",
      "$ state         <fct> Alabama, Alabama, Alabama, Alaska, Alaska, Alaska, Ar...\n",
      "$ pop2000       <dbl> 276700, 14254, 41475, 808, 82840, 6174, 155032, 17972...\n",
      "$ pop2010       <dbl> 334811, 13932, 41616, 662, 97581, 7029, 200186, 37577...\n",
      "$ fed_spend     <dbl> 29.802518, 8.982702, 8.643575, 15.096677, 16.850360, ...\n",
      "$ poverty       <dbl> 12.0, 18.8, 17.5, 4.3, 7.6, 10.0, 16.1, 13.5, 20.3, 9...\n",
      "$ homeownership <dbl> 70.4, 72.8, 73.3, 61.1, 59.8, 65.2, 71.5, 77.7, 75.4,...\n",
      "$ multiunit     <dbl> 21.4, 11.2, 8.9, 12.4, 26.2, 17.3, 9.8, 6.3, 3.6, 7.8...\n",
      "$ income        <dbl> 29918, 18332, 22542, 28576, 30395, 27657, 21523, 2171...\n",
      "$ med_income    <dbl> 55851, 35595, 36904, 65750, 66598, 59596, 39785, 5131...\n"
     ]
    }
   ],
   "source": [
    "# stratified sample of 150 counties\n",
    "# each state is a stratum\n",
    "\n",
    "county_str <- county_noDC %>%\n",
    "    group_by(state) %>%\n",
    "    sample_n(size = 3)\n",
    "\n",
    "glimpse(county_str)"
   ]
  },
  {
   "cell_type": "code",
   "execution_count": 20,
   "metadata": {},
   "outputs": [
    {
     "data": {
      "text/html": [
       "<table>\n",
       "<thead><tr><th scope=col>state</th><th scope=col>n</th></tr></thead>\n",
       "<tbody>\n",
       "\t<tr><td>Alabama   </td><td>3         </td></tr>\n",
       "\t<tr><td>Alaska    </td><td>3         </td></tr>\n",
       "\t<tr><td>Arizona   </td><td>3         </td></tr>\n",
       "\t<tr><td>Arkansas  </td><td>3         </td></tr>\n",
       "\t<tr><td>California</td><td>3         </td></tr>\n",
       "\t<tr><td>Colorado  </td><td>3         </td></tr>\n",
       "</tbody>\n",
       "</table>\n"
      ],
      "text/latex": [
       "\\begin{tabular}{r|ll}\n",
       " state & n\\\\\n",
       "\\hline\n",
       "\t Alabama    & 3         \\\\\n",
       "\t Alaska     & 3         \\\\\n",
       "\t Arizona    & 3         \\\\\n",
       "\t Arkansas   & 3         \\\\\n",
       "\t California & 3         \\\\\n",
       "\t Colorado   & 3         \\\\\n",
       "\\end{tabular}\n"
      ],
      "text/markdown": [
       "\n",
       "state | n | \n",
       "|---|---|---|---|---|---|\n",
       "| Alabama    | 3          | \n",
       "| Alaska     | 3          | \n",
       "| Arizona    | 3          | \n",
       "| Arkansas   | 3          | \n",
       "| California | 3          | \n",
       "| Colorado   | 3          | \n",
       "\n",
       "\n"
      ],
      "text/plain": [
       "  state      n\n",
       "1 Alabama    3\n",
       "2 Alaska     3\n",
       "3 Arizona    3\n",
       "4 Arkansas   3\n",
       "5 California 3\n",
       "6 Colorado   3"
      ]
     },
     "metadata": {},
     "output_type": "display_data"
    }
   ],
   "source": [
    "county_str %>% \n",
    "    group_by(state) %>%\n",
    "    count() %>%\n",
    "    head()"
   ]
  },
  {
   "cell_type": "markdown",
   "metadata": {},
   "source": [
    "Simple random sampling would result in diferent amounts of data being sampled from each state. Stratified sampling ensured an equal number of states from each region. "
   ]
  },
  {
   "cell_type": "markdown",
   "metadata": {},
   "source": [
    "### Principles of experimental design\n",
    "\n",
    "* Control: To control means to compare the treatment of interest to a control group. \n",
    "\n",
    "* Randomize: To randomize means to randomly assingly subjects to treatments. \n",
    "\n",
    "* Replicate: To replicate means to collect a sufficiently large sample within a study or to replicate the entire study. \n",
    "\n",
    "* Block: The goal of blocking is to account for potential effect of known or suspected confounding variables. We do this by first grouping subjects into blocks based on these variables and then randomizing them within each block to treatment groups. \n",
    "\n",
    "\n",
    "...\n",
    "\n",
    "Let's discuss block a bit more\n",
    "\n",
    "### Design a study (with blocking)\n",
    "\n",
    "We would like to design an experiment to investigate whether students learn the R language in a traditional lecture based course or using an interactive online learning platform. \n",
    "\n",
    "Two courses that teach the exact same material are designed and the only difference between these courses is the method of delivery: traditional lecture or interactive online. \n",
    "\n",
    "We sample a group of students for our study that we will randomly assign to these 2 courses. But before we do so, we need to consider any potential confounding variables. It is suspected that previous programming experience might have an effect on how students learn in these two settings and we know that some of the students in our study have previous programming experience and some don't. Therefore, we decide to block for having previous programming experience. \n",
    "\n",
    "To do so, we divide our sample into two: those with programming experience and those without. Then we randomly assign individuals from each block into the 2 courses, ensuring that those with and without programming experience are equally represented in the 2 treatment groups. In this experiment, the explanatory variable is the course type lecture vs interactive online and the variable that we're blocking for is the previous programming experience. \n",
    "\n",
    "This way, if we find a difference in mastery of the R language between students in the 2 groups, we will be able to attribute it to the course-type and can be assured that the difference isn't due to previous programming experience since both those with and without such experience were equally represented in the 2 treatment groups. \n",
    "\n",
    "<img src=\"images/DOE_Blocking.JPG\">"
   ]
  },
  {
   "cell_type": "markdown",
   "metadata": {},
   "source": [
    "### Identifying components of a study\n",
    "\n",
    "A researcher designs a study to test the effect of light and noise levels on exam performance of students. The researcher also believes that light and noise levels might have different effects on males and females, so she wants to make sure both genders are represented equally under different conditions.\n",
    "\n",
    "**Answer:** There are 2 explanatory variables (light and noise), 1 blocking variable (gender), and 1 repsonse varaible (exam performance). "
   ]
  },
  {
   "cell_type": "markdown",
   "metadata": {},
   "source": [
    "### Experimental design terminology\n",
    "\n",
    "**Explanatory variables** are conditions you can impose on the experimental units, while **blocking variables** are characteristics that the experimental units come with that you would like to control for."
   ]
  },
  {
   "cell_type": "markdown",
   "metadata": {},
   "source": [
    "### Connect blocking and stratifying\n",
    "\n",
    "In random sampling, we use stratifying to control for a variable. In random assignment, we use blocking to achieve the same goal."
   ]
  },
  {
   "cell_type": "markdown",
   "metadata": {},
   "source": [
    "# Case study: Beauty in the classroom\n",
    "\n",
    "Many college courses conclude by giving students the opportunity to annoymously evalaute both the course and the instructor. However, the use of these student evaluations as an indicator of course quality and teaching effectiveness is often criticized because the measures may reflect the influence of non-teaching related characteristics, such as the physical appearance of the instructor.\n",
    "\n",
    "The data that we will be working with, which includes information on course evaluations as well as students' scoring of professors' physical attractiveness, was collected as part of a study conducted at the University of Texas - Austin. Let's analyze these data with the eventual goal of investigating whether instructors who are viewed to be better looking receive higher instructional ratings. "
   ]
  },
  {
   "cell_type": "code",
   "execution_count": 21,
   "metadata": {
    "collapsed": true
   },
   "outputs": [],
   "source": [
    "load('datasets/evals.RData')"
   ]
  },
  {
   "cell_type": "code",
   "execution_count": 22,
   "metadata": {},
   "outputs": [
    {
     "data": {
      "text/html": [
       "<table>\n",
       "<thead><tr><th scope=col>score</th><th scope=col>rank</th><th scope=col>ethnicity</th><th scope=col>gender</th><th scope=col>language</th><th scope=col>age</th><th scope=col>cls_perc_eval</th><th scope=col>cls_did_eval</th><th scope=col>cls_students</th><th scope=col>cls_level</th><th scope=col>...</th><th scope=col>cls_credits</th><th scope=col>bty_f1lower</th><th scope=col>bty_f1upper</th><th scope=col>bty_f2upper</th><th scope=col>bty_m1lower</th><th scope=col>bty_m1upper</th><th scope=col>bty_m2upper</th><th scope=col>bty_avg</th><th scope=col>pic_outfit</th><th scope=col>pic_color</th></tr></thead>\n",
       "<tbody>\n",
       "\t<tr><td>4.7         </td><td>tenure track</td><td>minority    </td><td>female      </td><td>english     </td><td>36          </td><td>55.81395    </td><td>24          </td><td> 43         </td><td>upper       </td><td>...         </td><td>multi credit</td><td>5           </td><td>7           </td><td>6           </td><td>2           </td><td>4           </td><td>6           </td><td>5           </td><td>not formal  </td><td>color       </td></tr>\n",
       "\t<tr><td>4.1         </td><td>tenure track</td><td>minority    </td><td>female      </td><td>english     </td><td>36          </td><td>68.80000    </td><td>86          </td><td>125         </td><td>upper       </td><td>...         </td><td>multi credit</td><td>5           </td><td>7           </td><td>6           </td><td>2           </td><td>4           </td><td>6           </td><td>5           </td><td>not formal  </td><td>color       </td></tr>\n",
       "\t<tr><td>3.9         </td><td>tenure track</td><td>minority    </td><td>female      </td><td>english     </td><td>36          </td><td>60.80000    </td><td>76          </td><td>125         </td><td>upper       </td><td>...         </td><td>multi credit</td><td>5           </td><td>7           </td><td>6           </td><td>2           </td><td>4           </td><td>6           </td><td>5           </td><td>not formal  </td><td>color       </td></tr>\n",
       "\t<tr><td>4.8         </td><td>tenure track</td><td>minority    </td><td>female      </td><td>english     </td><td>36          </td><td>62.60163    </td><td>77          </td><td>123         </td><td>upper       </td><td>...         </td><td>multi credit</td><td>5           </td><td>7           </td><td>6           </td><td>2           </td><td>4           </td><td>6           </td><td>5           </td><td>not formal  </td><td>color       </td></tr>\n",
       "\t<tr><td>4.6         </td><td>tenured     </td><td>not minority</td><td>male        </td><td>english     </td><td>59          </td><td>85.00000    </td><td>17          </td><td> 20         </td><td>upper       </td><td>...         </td><td>multi credit</td><td>4           </td><td>4           </td><td>2           </td><td>2           </td><td>3           </td><td>3           </td><td>3           </td><td>not formal  </td><td>color       </td></tr>\n",
       "\t<tr><td>4.3         </td><td>tenured     </td><td>not minority</td><td>male        </td><td>english     </td><td>59          </td><td>87.50000    </td><td>35          </td><td> 40         </td><td>upper       </td><td>...         </td><td>multi credit</td><td>4           </td><td>4           </td><td>2           </td><td>2           </td><td>3           </td><td>3           </td><td>3           </td><td>not formal  </td><td>color       </td></tr>\n",
       "</tbody>\n",
       "</table>\n"
      ],
      "text/latex": [
       "\\begin{tabular}{r|lllllllllllllllllllll}\n",
       " score & rank & ethnicity & gender & language & age & cls\\_perc\\_eval & cls\\_did\\_eval & cls\\_students & cls\\_level & ... & cls\\_credits & bty\\_f1lower & bty\\_f1upper & bty\\_f2upper & bty\\_m1lower & bty\\_m1upper & bty\\_m2upper & bty\\_avg & pic\\_outfit & pic\\_color\\\\\n",
       "\\hline\n",
       "\t 4.7          & tenure track & minority     & female       & english      & 36           & 55.81395     & 24           &  43          & upper        & ...          & multi credit & 5            & 7            & 6            & 2            & 4            & 6            & 5            & not formal   & color       \\\\\n",
       "\t 4.1          & tenure track & minority     & female       & english      & 36           & 68.80000     & 86           & 125          & upper        & ...          & multi credit & 5            & 7            & 6            & 2            & 4            & 6            & 5            & not formal   & color       \\\\\n",
       "\t 3.9          & tenure track & minority     & female       & english      & 36           & 60.80000     & 76           & 125          & upper        & ...          & multi credit & 5            & 7            & 6            & 2            & 4            & 6            & 5            & not formal   & color       \\\\\n",
       "\t 4.8          & tenure track & minority     & female       & english      & 36           & 62.60163     & 77           & 123          & upper        & ...          & multi credit & 5            & 7            & 6            & 2            & 4            & 6            & 5            & not formal   & color       \\\\\n",
       "\t 4.6          & tenured      & not minority & male         & english      & 59           & 85.00000     & 17           &  20          & upper        & ...          & multi credit & 4            & 4            & 2            & 2            & 3            & 3            & 3            & not formal   & color       \\\\\n",
       "\t 4.3          & tenured      & not minority & male         & english      & 59           & 87.50000     & 35           &  40          & upper        & ...          & multi credit & 4            & 4            & 2            & 2            & 3            & 3            & 3            & not formal   & color       \\\\\n",
       "\\end{tabular}\n"
      ],
      "text/markdown": [
       "\n",
       "score | rank | ethnicity | gender | language | age | cls_perc_eval | cls_did_eval | cls_students | cls_level | ... | cls_credits | bty_f1lower | bty_f1upper | bty_f2upper | bty_m1lower | bty_m1upper | bty_m2upper | bty_avg | pic_outfit | pic_color | \n",
       "|---|---|---|---|---|---|\n",
       "| 4.7          | tenure track | minority     | female       | english      | 36           | 55.81395     | 24           |  43          | upper        | ...          | multi credit | 5            | 7            | 6            | 2            | 4            | 6            | 5            | not formal   | color        | \n",
       "| 4.1          | tenure track | minority     | female       | english      | 36           | 68.80000     | 86           | 125          | upper        | ...          | multi credit | 5            | 7            | 6            | 2            | 4            | 6            | 5            | not formal   | color        | \n",
       "| 3.9          | tenure track | minority     | female       | english      | 36           | 60.80000     | 76           | 125          | upper        | ...          | multi credit | 5            | 7            | 6            | 2            | 4            | 6            | 5            | not formal   | color        | \n",
       "| 4.8          | tenure track | minority     | female       | english      | 36           | 62.60163     | 77           | 123          | upper        | ...          | multi credit | 5            | 7            | 6            | 2            | 4            | 6            | 5            | not formal   | color        | \n",
       "| 4.6          | tenured      | not minority | male         | english      | 59           | 85.00000     | 17           |  20          | upper        | ...          | multi credit | 4            | 4            | 2            | 2            | 3            | 3            | 3            | not formal   | color        | \n",
       "| 4.3          | tenured      | not minority | male         | english      | 59           | 87.50000     | 35           |  40          | upper        | ...          | multi credit | 4            | 4            | 2            | 2            | 3            | 3            | 3            | not formal   | color        | \n",
       "\n",
       "\n"
      ],
      "text/plain": [
       "  score rank         ethnicity    gender language age cls_perc_eval\n",
       "1 4.7   tenure track minority     female english  36  55.81395     \n",
       "2 4.1   tenure track minority     female english  36  68.80000     \n",
       "3 3.9   tenure track minority     female english  36  60.80000     \n",
       "4 4.8   tenure track minority     female english  36  62.60163     \n",
       "5 4.6   tenured      not minority male   english  59  85.00000     \n",
       "6 4.3   tenured      not minority male   english  59  87.50000     \n",
       "  cls_did_eval cls_students cls_level ... cls_credits  bty_f1lower bty_f1upper\n",
       "1 24            43          upper     ... multi credit 5           7          \n",
       "2 86           125          upper     ... multi credit 5           7          \n",
       "3 76           125          upper     ... multi credit 5           7          \n",
       "4 77           123          upper     ... multi credit 5           7          \n",
       "5 17            20          upper     ... multi credit 4           4          \n",
       "6 35            40          upper     ... multi credit 4           4          \n",
       "  bty_f2upper bty_m1lower bty_m1upper bty_m2upper bty_avg pic_outfit pic_color\n",
       "1 6           2           4           6           5       not formal color    \n",
       "2 6           2           4           6           5       not formal color    \n",
       "3 6           2           4           6           5       not formal color    \n",
       "4 6           2           4           6           5       not formal color    \n",
       "5 2           2           3           3           3       not formal color    \n",
       "6 2           2           3           3           3       not formal color    "
      ]
     },
     "metadata": {},
     "output_type": "display_data"
    }
   ],
   "source": [
    "head(evals)"
   ]
  },
  {
   "cell_type": "code",
   "execution_count": 23,
   "metadata": {},
   "outputs": [
    {
     "data": {
      "text/plain": [
       "     score                 rank            ethnicity      gender   \n",
       " Min.   :2.300   teaching    :102   minority    : 64   female:195  \n",
       " 1st Qu.:3.800   tenure track:108   not minority:399   male  :268  \n",
       " Median :4.300   tenured     :253                                  \n",
       " Mean   :4.175                                                     \n",
       " 3rd Qu.:4.600                                                     \n",
       " Max.   :5.000                                                     \n",
       "        language        age        cls_perc_eval     cls_did_eval   \n",
       " english    :435   Min.   :29.00   Min.   : 10.42   Min.   :  5.00  \n",
       " non-english: 28   1st Qu.:42.00   1st Qu.: 62.70   1st Qu.: 15.00  \n",
       "                   Median :48.00   Median : 76.92   Median : 23.00  \n",
       "                   Mean   :48.37   Mean   : 74.43   Mean   : 36.62  \n",
       "                   3rd Qu.:57.00   3rd Qu.: 87.25   3rd Qu.: 40.00  \n",
       "                   Max.   :73.00   Max.   :100.00   Max.   :380.00  \n",
       "  cls_students    cls_level      cls_profs         cls_credits   bty_f1lower   \n",
       " Min.   :  8.00   lower:157   multiple:306   multi credit:436   Min.   :1.000  \n",
       " 1st Qu.: 19.00   upper:306   single  :157   one credit  : 27   1st Qu.:2.000  \n",
       " Median : 29.00                                                 Median :4.000  \n",
       " Mean   : 55.18                                                 Mean   :3.963  \n",
       " 3rd Qu.: 60.00                                                 3rd Qu.:5.000  \n",
       " Max.   :581.00                                                 Max.   :8.000  \n",
       "  bty_f1upper     bty_f2upper      bty_m1lower     bty_m1upper   \n",
       " Min.   :1.000   Min.   : 1.000   Min.   :1.000   Min.   :1.000  \n",
       " 1st Qu.:4.000   1st Qu.: 4.000   1st Qu.:2.000   1st Qu.:3.000  \n",
       " Median :5.000   Median : 5.000   Median :3.000   Median :4.000  \n",
       " Mean   :5.019   Mean   : 5.214   Mean   :3.413   Mean   :4.147  \n",
       " 3rd Qu.:7.000   3rd Qu.: 6.000   3rd Qu.:5.000   3rd Qu.:5.000  \n",
       " Max.   :9.000   Max.   :10.000   Max.   :7.000   Max.   :9.000  \n",
       "  bty_m2upper       bty_avg           pic_outfit        pic_color  \n",
       " Min.   :1.000   Min.   :1.667   formal    : 77   black&white: 78  \n",
       " 1st Qu.:4.000   1st Qu.:3.167   not formal:386   color      :385  \n",
       " Median :5.000   Median :4.333                                     \n",
       " Mean   :4.752   Mean   :4.418                                     \n",
       " 3rd Qu.:6.000   3rd Qu.:5.500                                     \n",
       " Max.   :9.000   Max.   :8.167                                     "
      ]
     },
     "metadata": {},
     "output_type": "display_data"
    }
   ],
   "source": [
    "summary(evals)"
   ]
  },
  {
   "cell_type": "code",
   "execution_count": 24,
   "metadata": {},
   "outputs": [
    {
     "name": "stdout",
     "output_type": "stream",
     "text": [
      "Observations: 463\n",
      "Variables: 21\n",
      "$ score         <dbl> 4.7, 4.1, 3.9, 4.8, 4.6, 4.3, 2.8, 4.1, 3.4, 4.5, 3.8...\n",
      "$ rank          <fct> tenure track, tenure track, tenure track, tenure trac...\n",
      "$ ethnicity     <fct> minority, minority, minority, minority, not minority,...\n",
      "$ gender        <fct> female, female, female, female, male, male, male, mal...\n",
      "$ language      <fct> english, english, english, english, english, english,...\n",
      "$ age           <int> 36, 36, 36, 36, 59, 59, 59, 51, 51, 40, 40, 40, 40, 4...\n",
      "$ cls_perc_eval <dbl> 55.81395, 68.80000, 60.80000, 62.60163, 85.00000, 87....\n",
      "$ cls_did_eval  <int> 24, 86, 76, 77, 17, 35, 39, 55, 111, 40, 24, 24, 17, ...\n",
      "$ cls_students  <int> 43, 125, 125, 123, 20, 40, 44, 55, 195, 46, 27, 25, 2...\n",
      "$ cls_level     <fct> upper, upper, upper, upper, upper, upper, upper, uppe...\n",
      "$ cls_profs     <fct> single, single, single, single, multiple, multiple, m...\n",
      "$ cls_credits   <fct> multi credit, multi credit, multi credit, multi credi...\n",
      "$ bty_f1lower   <int> 5, 5, 5, 5, 4, 4, 4, 5, 5, 2, 2, 2, 2, 2, 2, 2, 2, 7,...\n",
      "$ bty_f1upper   <int> 7, 7, 7, 7, 4, 4, 4, 2, 2, 5, 5, 5, 5, 5, 5, 5, 5, 9,...\n",
      "$ bty_f2upper   <int> 6, 6, 6, 6, 2, 2, 2, 5, 5, 4, 4, 4, 4, 4, 4, 4, 4, 9,...\n",
      "$ bty_m1lower   <int> 2, 2, 2, 2, 2, 2, 2, 2, 2, 3, 3, 3, 3, 3, 3, 3, 3, 7,...\n",
      "$ bty_m1upper   <int> 4, 4, 4, 4, 3, 3, 3, 3, 3, 3, 3, 3, 3, 3, 3, 3, 3, 6,...\n",
      "$ bty_m2upper   <int> 6, 6, 6, 6, 3, 3, 3, 3, 3, 2, 2, 2, 2, 2, 2, 2, 2, 6,...\n",
      "$ bty_avg       <dbl> 5.000, 5.000, 5.000, 5.000, 3.000, 3.000, 3.000, 3.33...\n",
      "$ pic_outfit    <fct> not formal, not formal, not formal, not formal, not f...\n",
      "$ pic_color     <fct> color, color, color, color, color, color, color, colo...\n"
     ]
    }
   ],
   "source": [
    "glimpse(evals)"
   ]
  },
  {
   "cell_type": "markdown",
   "metadata": {},
   "source": [
    "#### This is an observational study"
   ]
  },
  {
   "cell_type": "markdown",
   "metadata": {},
   "source": [
    "### Sampling / experimental attributes\n",
    "\n",
    "The data from this study were gathered by randomly sampling classes."
   ]
  },
  {
   "cell_type": "markdown",
   "metadata": {},
   "source": [
    "### Variables in the data\n",
    "\n",
    "* score: The average evaluation score of the professor for a given course. Scores range between 1 and 5 and 5 being an excellent evaluation. \n",
    "\n",
    "* rank: We are also given whether the professor is a teaching faculty, tenure track faculty, or tenured faculty.\n",
    "\n",
    "* minority: Whether they are from a minority group or not\n",
    "\n",
    "* gender: Whether they are male or female\n",
    "\n",
    "* language: Whether the language of instruction at the university where they received their education was English or not. \n",
    "\n",
    "* Age: The age of the professor\n",
    "\n",
    "We also have attribute about the classes themselves. \n",
    "\n",
    "* cls_perc_eval: Percent of students who completed the evaluations\n",
    "* cls_did_eval: Number of students who completed the evals\n",
    "* cls_students: Total number of students in the class\n",
    "* cls_level: Level of the course\n",
    "* cls_profs: Whether a single professor or multiple professors taught it\n",
    "* cls_credits: Whether the course was a single credit or multi-credit course.\n",
    "\n",
    "The attractiveness score of the professors in the sample were determined by six students who provided photos of the professors to rate. These students were comprised of 1 female who is lower level, that is first year or sophomore (indicated with f1lower), 2 female students who are upper level (indicated with f1upper and f2upper), one male student who is lower lowerl (m1lower) and 2 male students who are upper level (m1upper and m2upper). 1 indicates a low attractiveness score and a 10 indicates a high attractiveness score. \n",
    "\n",
    "* bty_avg: Average attractiveness score\n",
    "* pic_outfit: Whether the professor was wearing a formal outfit in the photo\n",
    "* pic_color: Whether the picture was black/white or in color. "
   ]
  },
  {
   "cell_type": "markdown",
   "metadata": {},
   "source": [
    "### Identify variable types\n",
    "\n",
    "It's always useful to start your exploration of a dataset by identifying variable types. The results from this exercise will help you design appropriate visualizations and calculate useful summary statistics later in your analysis."
   ]
  },
  {
   "cell_type": "code",
   "execution_count": 25,
   "metadata": {},
   "outputs": [
    {
     "name": "stdout",
     "output_type": "stream",
     "text": [
      "Observations: 463\n",
      "Variables: 21\n",
      "$ score         <dbl> 4.7, 4.1, 3.9, 4.8, 4.6, 4.3, 2.8, 4.1, 3.4, 4.5, 3.8...\n",
      "$ rank          <fct> tenure track, tenure track, tenure track, tenure trac...\n",
      "$ ethnicity     <fct> minority, minority, minority, minority, not minority,...\n",
      "$ gender        <fct> female, female, female, female, male, male, male, mal...\n",
      "$ language      <fct> english, english, english, english, english, english,...\n",
      "$ age           <int> 36, 36, 36, 36, 59, 59, 59, 51, 51, 40, 40, 40, 40, 4...\n",
      "$ cls_perc_eval <dbl> 55.81395, 68.80000, 60.80000, 62.60163, 85.00000, 87....\n",
      "$ cls_did_eval  <int> 24, 86, 76, 77, 17, 35, 39, 55, 111, 40, 24, 24, 17, ...\n",
      "$ cls_students  <int> 43, 125, 125, 123, 20, 40, 44, 55, 195, 46, 27, 25, 2...\n",
      "$ cls_level     <fct> upper, upper, upper, upper, upper, upper, upper, uppe...\n",
      "$ cls_profs     <fct> single, single, single, single, multiple, multiple, m...\n",
      "$ cls_credits   <fct> multi credit, multi credit, multi credit, multi credi...\n",
      "$ bty_f1lower   <int> 5, 5, 5, 5, 4, 4, 4, 5, 5, 2, 2, 2, 2, 2, 2, 2, 2, 7,...\n",
      "$ bty_f1upper   <int> 7, 7, 7, 7, 4, 4, 4, 2, 2, 5, 5, 5, 5, 5, 5, 5, 5, 9,...\n",
      "$ bty_f2upper   <int> 6, 6, 6, 6, 2, 2, 2, 5, 5, 4, 4, 4, 4, 4, 4, 4, 4, 9,...\n",
      "$ bty_m1lower   <int> 2, 2, 2, 2, 2, 2, 2, 2, 2, 3, 3, 3, 3, 3, 3, 3, 3, 7,...\n",
      "$ bty_m1upper   <int> 4, 4, 4, 4, 3, 3, 3, 3, 3, 3, 3, 3, 3, 3, 3, 3, 3, 6,...\n",
      "$ bty_m2upper   <int> 6, 6, 6, 6, 3, 3, 3, 3, 3, 2, 2, 2, 2, 2, 2, 2, 2, 6,...\n",
      "$ bty_avg       <dbl> 5.000, 5.000, 5.000, 5.000, 3.000, 3.000, 3.000, 3.33...\n",
      "$ pic_outfit    <fct> not formal, not formal, not formal, not formal, not f...\n",
      "$ pic_color     <fct> color, color, color, color, color, color, color, colo...\n"
     ]
    }
   ],
   "source": [
    "glimpse(evals)"
   ]
  },
  {
   "cell_type": "markdown",
   "metadata": {},
   "source": [
    "**Categorical variables:** \"rank\", \"ethnicity\", \"gender\", \"language\",           \"cls_level\", \"cls_profs\", \"cls_credits\", \"pic_outfit\", \"pic_color\""
   ]
  },
  {
   "cell_type": "markdown",
   "metadata": {},
   "source": [
    "### Recode a variable\n",
    "The cls_students variable in evals tells you the number of students in the class. Suppose instead of the exact number of students, you're interested in whether the class is\n",
    "\n",
    "* \"small\" (18 students or fewer),\n",
    "* \"midsize\" (19 - 59 students), or\n",
    "* \"large\" (60 students or more).\n",
    "\n",
    "Recode the cls_students variable into a new variable, cls_type, using case_when(). This new variable should have three levels as described above. Save the resulting data frame (with the new variable) as evals."
   ]
  },
  {
   "cell_type": "code",
   "execution_count": 26,
   "metadata": {
    "collapsed": true
   },
   "outputs": [],
   "source": [
    "# Recode cls_students as cls_type\n",
    "evals <- evals %>%\n",
    "  mutate(cls_type = case_when(\n",
    "    cls_students <= 18 ~ \"small\",\n",
    "    cls_students >= 19 & cls_students <= 59  ~ \"midsize\",\n",
    "    cls_students >= 60 ~ \"large\"\n",
    "    )\n",
    "  )"
   ]
  },
  {
   "cell_type": "code",
   "execution_count": 27,
   "metadata": {},
   "outputs": [
    {
     "name": "stdout",
     "output_type": "stream",
     "text": [
      "Observations: 463\n",
      "Variables: 22\n",
      "$ score         <dbl> 4.7, 4.1, 3.9, 4.8, 4.6, 4.3, 2.8, 4.1, 3.4, 4.5, 3.8...\n",
      "$ rank          <fct> tenure track, tenure track, tenure track, tenure trac...\n",
      "$ ethnicity     <fct> minority, minority, minority, minority, not minority,...\n",
      "$ gender        <fct> female, female, female, female, male, male, male, mal...\n",
      "$ language      <fct> english, english, english, english, english, english,...\n",
      "$ age           <int> 36, 36, 36, 36, 59, 59, 59, 51, 51, 40, 40, 40, 40, 4...\n",
      "$ cls_perc_eval <dbl> 55.81395, 68.80000, 60.80000, 62.60163, 85.00000, 87....\n",
      "$ cls_did_eval  <int> 24, 86, 76, 77, 17, 35, 39, 55, 111, 40, 24, 24, 17, ...\n",
      "$ cls_students  <int> 43, 125, 125, 123, 20, 40, 44, 55, 195, 46, 27, 25, 2...\n",
      "$ cls_level     <fct> upper, upper, upper, upper, upper, upper, upper, uppe...\n",
      "$ cls_profs     <fct> single, single, single, single, multiple, multiple, m...\n",
      "$ cls_credits   <fct> multi credit, multi credit, multi credit, multi credi...\n",
      "$ bty_f1lower   <int> 5, 5, 5, 5, 4, 4, 4, 5, 5, 2, 2, 2, 2, 2, 2, 2, 2, 7,...\n",
      "$ bty_f1upper   <int> 7, 7, 7, 7, 4, 4, 4, 2, 2, 5, 5, 5, 5, 5, 5, 5, 5, 9,...\n",
      "$ bty_f2upper   <int> 6, 6, 6, 6, 2, 2, 2, 5, 5, 4, 4, 4, 4, 4, 4, 4, 4, 9,...\n",
      "$ bty_m1lower   <int> 2, 2, 2, 2, 2, 2, 2, 2, 2, 3, 3, 3, 3, 3, 3, 3, 3, 7,...\n",
      "$ bty_m1upper   <int> 4, 4, 4, 4, 3, 3, 3, 3, 3, 3, 3, 3, 3, 3, 3, 3, 3, 6,...\n",
      "$ bty_m2upper   <int> 6, 6, 6, 6, 3, 3, 3, 3, 3, 2, 2, 2, 2, 2, 2, 2, 2, 6,...\n",
      "$ bty_avg       <dbl> 5.000, 5.000, 5.000, 5.000, 3.000, 3.000, 3.000, 3.33...\n",
      "$ pic_outfit    <fct> not formal, not formal, not formal, not formal, not f...\n",
      "$ pic_color     <fct> color, color, color, color, color, color, color, colo...\n",
      "$ cls_type      <chr> \"midsize\", \"large\", \"large\", \"large\", \"midsize\", \"mid...\n"
     ]
    }
   ],
   "source": [
    "glimpse(evals)"
   ]
  },
  {
   "cell_type": "code",
   "execution_count": 28,
   "metadata": {},
   "outputs": [
    {
     "data": {
      "text/html": [
       "<table>\n",
       "<thead><tr><th scope=col>score</th><th scope=col>rank</th><th scope=col>ethnicity</th><th scope=col>gender</th><th scope=col>language</th><th scope=col>age</th><th scope=col>cls_perc_eval</th><th scope=col>cls_did_eval</th><th scope=col>cls_students</th><th scope=col>cls_level</th><th scope=col>...</th><th scope=col>bty_f1lower</th><th scope=col>bty_f1upper</th><th scope=col>bty_f2upper</th><th scope=col>bty_m1lower</th><th scope=col>bty_m1upper</th><th scope=col>bty_m2upper</th><th scope=col>bty_avg</th><th scope=col>pic_outfit</th><th scope=col>pic_color</th><th scope=col>cls_type</th></tr></thead>\n",
       "<tbody>\n",
       "\t<tr><td>4.7         </td><td>tenure track</td><td>minority    </td><td>female      </td><td>english     </td><td>36          </td><td>55.81395    </td><td>24          </td><td> 43         </td><td>upper       </td><td>...         </td><td>5           </td><td>7           </td><td>6           </td><td>2           </td><td>4           </td><td>6           </td><td>5           </td><td>not formal  </td><td>color       </td><td>midsize     </td></tr>\n",
       "\t<tr><td>4.1         </td><td>tenure track</td><td>minority    </td><td>female      </td><td>english     </td><td>36          </td><td>68.80000    </td><td>86          </td><td>125         </td><td>upper       </td><td>...         </td><td>5           </td><td>7           </td><td>6           </td><td>2           </td><td>4           </td><td>6           </td><td>5           </td><td>not formal  </td><td>color       </td><td>large       </td></tr>\n",
       "\t<tr><td>3.9         </td><td>tenure track</td><td>minority    </td><td>female      </td><td>english     </td><td>36          </td><td>60.80000    </td><td>76          </td><td>125         </td><td>upper       </td><td>...         </td><td>5           </td><td>7           </td><td>6           </td><td>2           </td><td>4           </td><td>6           </td><td>5           </td><td>not formal  </td><td>color       </td><td>large       </td></tr>\n",
       "\t<tr><td>4.8         </td><td>tenure track</td><td>minority    </td><td>female      </td><td>english     </td><td>36          </td><td>62.60163    </td><td>77          </td><td>123         </td><td>upper       </td><td>...         </td><td>5           </td><td>7           </td><td>6           </td><td>2           </td><td>4           </td><td>6           </td><td>5           </td><td>not formal  </td><td>color       </td><td>large       </td></tr>\n",
       "\t<tr><td>4.6         </td><td>tenured     </td><td>not minority</td><td>male        </td><td>english     </td><td>59          </td><td>85.00000    </td><td>17          </td><td> 20         </td><td>upper       </td><td>...         </td><td>4           </td><td>4           </td><td>2           </td><td>2           </td><td>3           </td><td>3           </td><td>3           </td><td>not formal  </td><td>color       </td><td>midsize     </td></tr>\n",
       "\t<tr><td>4.3         </td><td>tenured     </td><td>not minority</td><td>male        </td><td>english     </td><td>59          </td><td>87.50000    </td><td>35          </td><td> 40         </td><td>upper       </td><td>...         </td><td>4           </td><td>4           </td><td>2           </td><td>2           </td><td>3           </td><td>3           </td><td>3           </td><td>not formal  </td><td>color       </td><td>midsize     </td></tr>\n",
       "</tbody>\n",
       "</table>\n"
      ],
      "text/latex": [
       "\\begin{tabular}{r|llllllllllllllllllllll}\n",
       " score & rank & ethnicity & gender & language & age & cls\\_perc\\_eval & cls\\_did\\_eval & cls\\_students & cls\\_level & ... & bty\\_f1lower & bty\\_f1upper & bty\\_f2upper & bty\\_m1lower & bty\\_m1upper & bty\\_m2upper & bty\\_avg & pic\\_outfit & pic\\_color & cls\\_type\\\\\n",
       "\\hline\n",
       "\t 4.7          & tenure track & minority     & female       & english      & 36           & 55.81395     & 24           &  43          & upper        & ...          & 5            & 7            & 6            & 2            & 4            & 6            & 5            & not formal   & color        & midsize     \\\\\n",
       "\t 4.1          & tenure track & minority     & female       & english      & 36           & 68.80000     & 86           & 125          & upper        & ...          & 5            & 7            & 6            & 2            & 4            & 6            & 5            & not formal   & color        & large       \\\\\n",
       "\t 3.9          & tenure track & minority     & female       & english      & 36           & 60.80000     & 76           & 125          & upper        & ...          & 5            & 7            & 6            & 2            & 4            & 6            & 5            & not formal   & color        & large       \\\\\n",
       "\t 4.8          & tenure track & minority     & female       & english      & 36           & 62.60163     & 77           & 123          & upper        & ...          & 5            & 7            & 6            & 2            & 4            & 6            & 5            & not formal   & color        & large       \\\\\n",
       "\t 4.6          & tenured      & not minority & male         & english      & 59           & 85.00000     & 17           &  20          & upper        & ...          & 4            & 4            & 2            & 2            & 3            & 3            & 3            & not formal   & color        & midsize     \\\\\n",
       "\t 4.3          & tenured      & not minority & male         & english      & 59           & 87.50000     & 35           &  40          & upper        & ...          & 4            & 4            & 2            & 2            & 3            & 3            & 3            & not formal   & color        & midsize     \\\\\n",
       "\\end{tabular}\n"
      ],
      "text/markdown": [
       "\n",
       "score | rank | ethnicity | gender | language | age | cls_perc_eval | cls_did_eval | cls_students | cls_level | ... | bty_f1lower | bty_f1upper | bty_f2upper | bty_m1lower | bty_m1upper | bty_m2upper | bty_avg | pic_outfit | pic_color | cls_type | \n",
       "|---|---|---|---|---|---|\n",
       "| 4.7          | tenure track | minority     | female       | english      | 36           | 55.81395     | 24           |  43          | upper        | ...          | 5            | 7            | 6            | 2            | 4            | 6            | 5            | not formal   | color        | midsize      | \n",
       "| 4.1          | tenure track | minority     | female       | english      | 36           | 68.80000     | 86           | 125          | upper        | ...          | 5            | 7            | 6            | 2            | 4            | 6            | 5            | not formal   | color        | large        | \n",
       "| 3.9          | tenure track | minority     | female       | english      | 36           | 60.80000     | 76           | 125          | upper        | ...          | 5            | 7            | 6            | 2            | 4            | 6            | 5            | not formal   | color        | large        | \n",
       "| 4.8          | tenure track | minority     | female       | english      | 36           | 62.60163     | 77           | 123          | upper        | ...          | 5            | 7            | 6            | 2            | 4            | 6            | 5            | not formal   | color        | large        | \n",
       "| 4.6          | tenured      | not minority | male         | english      | 59           | 85.00000     | 17           |  20          | upper        | ...          | 4            | 4            | 2            | 2            | 3            | 3            | 3            | not formal   | color        | midsize      | \n",
       "| 4.3          | tenured      | not minority | male         | english      | 59           | 87.50000     | 35           |  40          | upper        | ...          | 4            | 4            | 2            | 2            | 3            | 3            | 3            | not formal   | color        | midsize      | \n",
       "\n",
       "\n"
      ],
      "text/plain": [
       "  score rank         ethnicity    gender language age cls_perc_eval\n",
       "1 4.7   tenure track minority     female english  36  55.81395     \n",
       "2 4.1   tenure track minority     female english  36  68.80000     \n",
       "3 3.9   tenure track minority     female english  36  60.80000     \n",
       "4 4.8   tenure track minority     female english  36  62.60163     \n",
       "5 4.6   tenured      not minority male   english  59  85.00000     \n",
       "6 4.3   tenured      not minority male   english  59  87.50000     \n",
       "  cls_did_eval cls_students cls_level ... bty_f1lower bty_f1upper bty_f2upper\n",
       "1 24            43          upper     ... 5           7           6          \n",
       "2 86           125          upper     ... 5           7           6          \n",
       "3 76           125          upper     ... 5           7           6          \n",
       "4 77           123          upper     ... 5           7           6          \n",
       "5 17            20          upper     ... 4           4           2          \n",
       "6 35            40          upper     ... 4           4           2          \n",
       "  bty_m1lower bty_m1upper bty_m2upper bty_avg pic_outfit pic_color cls_type\n",
       "1 2           4           6           5       not formal color     midsize \n",
       "2 2           4           6           5       not formal color     large   \n",
       "3 2           4           6           5       not formal color     large   \n",
       "4 2           4           6           5       not formal color     large   \n",
       "5 2           3           3           3       not formal color     midsize \n",
       "6 2           3           3           3       not formal color     midsize "
      ]
     },
     "metadata": {},
     "output_type": "display_data"
    }
   ],
   "source": [
    "head(evals)"
   ]
  },
  {
   "cell_type": "markdown",
   "metadata": {},
   "source": [
    "### Create a scatterplot\n",
    "The bty_avg variable shows the average beauty rating of the professor by the six students who were asked to rate the attractiveness of these faculty. The score variable shows the average professor evaluation score, with 1 being very unsatisfactory and 5 being excellent."
   ]
  },
  {
   "cell_type": "code",
   "execution_count": 29,
   "metadata": {},
   "outputs": [
    {
     "name": "stderr",
     "output_type": "stream",
     "text": [
      "\n",
      "Attaching package: 'ggplot2'\n",
      "\n",
      "The following object is masked from 'package:openintro':\n",
      "\n",
      "    diamonds\n",
      "\n"
     ]
    }
   ],
   "source": [
    "library(ggplot2)"
   ]
  },
  {
   "cell_type": "code",
   "execution_count": 30,
   "metadata": {},
   "outputs": [
    {
     "data": {},
     "metadata": {},
     "output_type": "display_data"
    },
    {
     "data": {
      "image/png": "[encoded data removed]",
      "text/plain": [
       "plot without title"
      ]
     },
     "metadata": {},
     "output_type": "display_data"
    }
   ],
   "source": [
    "ggplot(evals, aes(x = bty_avg, y = score)) + geom_point()"
   ]
  },
  {
   "cell_type": "markdown",
   "metadata": {},
   "source": [
    "### Create a scatterplot, with an added layer\n",
    "Suppose you are interested in evaluating how the relationship between a professor's attractiveness and their evaluation score varies across different class types (small, midsize, and large)."
   ]
  },
  {
   "cell_type": "code",
   "execution_count": 31,
   "metadata": {},
   "outputs": [
    {
     "data": {},
     "metadata": {},
     "output_type": "display_data"
    },
    {
     "data": {
      "image/png": "[encoded data removed]",
      "text/plain": [
       "plot without title"
      ]
     },
     "metadata": {},
     "output_type": "display_data"
    }
   ],
   "source": [
    "ggplot(evals, aes(x = bty_avg, y = score, color = cls_type)) +\n",
    "    geom_point()"
   ]
  },
  {
   "cell_type": "markdown",
   "metadata": {
    "collapsed": true
   },
   "source": [
    "# Experimental Design Basics"
   ]
  },
  {
   "cell_type": "markdown",
   "metadata": {
    "collapsed": true
   },
   "source": [
    "An experiemnt starts with a question. The experiment involves collecting data with the question in mind and will include analyzing the data to seek an answer. \n",
    "\n",
    "The 3 level steps of an experiment are:\n",
    "\n",
    "**1) Planning:** You start with your hypothesis - your question or even a series of series. What are you hoping to answer? What is the populatino of interest? What will your dependent variable be, the outcome, which hopefully can be measured to answer the question? What are your independent or explanatory variables - the variables you think may explain the dependent variable? \n",
    "\n",
    "**2) Design:** Design questions may naturally follow planning questions. Choosing a design might entail knowing you want to study different variables and the possible interaction effects of those variables, so you choose a factorial design. Then, if you dependent variable will be a yes/no answer, you know you're going to be dealing with some kind of logistic regression when you get to analysis. \n",
    "\n",
    "**3) Analysis**"
   ]
  },
  {
   "cell_type": "markdown",
   "metadata": {},
   "source": [
    "### Three key components of an experiment\n",
    "\n",
    "- Randomization\n",
    "- Replication\n",
    "- Blocking\n",
    "\n",
    "All of these are done to access the variability across the study population. This means we're looking to explain the variation in an outcome by the different explanatory variables. In order to keep bias low, we need to randomize, create a replicable experiment, and sometimes block. \n",
    "\n",
    "Say we want to test who can score the most free throws in 5 minutes. We select as one group the HS basketball team and for the other, an english class. This is an incredibly biased experiment right out the gate. Any conclusions we draw will be based on our poor selection of groups and lack of randomization. \n",
    "\n"
   ]
  },
  {
   "cell_type": "markdown",
   "metadata": {},
   "source": [
    "### Randomization\n",
    "\n",
    "Randomization is a key tenet of any experiment. Evenly distributes any variability in outcome due to outside factors across treatment groups. One example of randomization is double-blind medical trials, where neither the patient nor the researcher knows if the patient is recieving the treatment or not. The patient is randomized by a 3rd party into one of the two groups. "
   ]
  },
  {
   "cell_type": "markdown",
   "metadata": {},
   "source": [
    "### Replication\n",
    "\n",
    "Replication is the idea that we need to repeat our experiment in order to assess what variability looks like. We certainly can't analyze data if we test a drug's efficacy on only one patient. Maybe it worked for them but how do we know if it will also work for other people? How can we properly generalize those results (we cant!). Our experiment must be designed to be easily replicable to get a wide range of outcomes. "
   ]
  },
  {
   "cell_type": "markdown",
   "metadata": {},
   "source": [
    "### Blocking\n",
    "\n",
    "Block is a technique to help control variability by making treatment groups more alike. Inside of groups, differences will be minimal. A classic example is to test the effects of a drug on male and female patients, blocking by sex, to account for treatment variability, in this case, known differences in the drug reactions of amle and female bodies. "
   ]
  },
  {
   "cell_type": "code",
   "execution_count": 32,
   "metadata": {
    "collapsed": true
   },
   "outputs": [],
   "source": [
    "data(ToothGrowth)"
   ]
  },
  {
   "cell_type": "code",
   "execution_count": 33,
   "metadata": {},
   "outputs": [
    {
     "data": {
      "text/html": [
       "<table>\n",
       "<thead><tr><th scope=col>len</th><th scope=col>supp</th><th scope=col>dose</th></tr></thead>\n",
       "<tbody>\n",
       "\t<tr><td> 4.2</td><td>VC  </td><td>0.5 </td></tr>\n",
       "\t<tr><td>11.5</td><td>VC  </td><td>0.5 </td></tr>\n",
       "\t<tr><td> 7.3</td><td>VC  </td><td>0.5 </td></tr>\n",
       "\t<tr><td> 5.8</td><td>VC  </td><td>0.5 </td></tr>\n",
       "\t<tr><td> 6.4</td><td>VC  </td><td>0.5 </td></tr>\n",
       "\t<tr><td>10.0</td><td>VC  </td><td>0.5 </td></tr>\n",
       "</tbody>\n",
       "</table>\n"
      ],
      "text/latex": [
       "\\begin{tabular}{r|lll}\n",
       " len & supp & dose\\\\\n",
       "\\hline\n",
       "\t  4.2 & VC   & 0.5 \\\\\n",
       "\t 11.5 & VC   & 0.5 \\\\\n",
       "\t  7.3 & VC   & 0.5 \\\\\n",
       "\t  5.8 & VC   & 0.5 \\\\\n",
       "\t  6.4 & VC   & 0.5 \\\\\n",
       "\t 10.0 & VC   & 0.5 \\\\\n",
       "\\end{tabular}\n"
      ],
      "text/markdown": [
       "\n",
       "len | supp | dose | \n",
       "|---|---|---|---|---|---|\n",
       "|  4.2 | VC   | 0.5  | \n",
       "| 11.5 | VC   | 0.5  | \n",
       "|  7.3 | VC   | 0.5  | \n",
       "|  5.8 | VC   | 0.5  | \n",
       "|  6.4 | VC   | 0.5  | \n",
       "| 10.0 | VC   | 0.5  | \n",
       "\n",
       "\n"
      ],
      "text/plain": [
       "  len  supp dose\n",
       "1  4.2 VC   0.5 \n",
       "2 11.5 VC   0.5 \n",
       "3  7.3 VC   0.5 \n",
       "4  5.8 VC   0.5 \n",
       "5  6.4 VC   0.5 \n",
       "6 10.0 VC   0.5 "
      ]
     },
     "metadata": {},
     "output_type": "display_data"
    }
   ],
   "source": [
    "head(ToothGrowth)"
   ]
  },
  {
   "cell_type": "code",
   "execution_count": 34,
   "metadata": {},
   "outputs": [
    {
     "data": {
      "text/html": [
       "18.8133333333333"
      ],
      "text/latex": [
       "18.8133333333333"
      ],
      "text/markdown": [
       "18.8133333333333"
      ],
      "text/plain": [
       "[1] 18.81333"
      ]
     },
     "metadata": {},
     "output_type": "display_data"
    },
    {
     "data": {
      "text/html": [
       "19.25"
      ],
      "text/latex": [
       "19.25"
      ],
      "text/markdown": [
       "19.25"
      ],
      "text/plain": [
       "[1] 19.25"
      ]
     },
     "metadata": {},
     "output_type": "display_data"
    }
   ],
   "source": [
    "mean(ToothGrowth$len)\n",
    "median(ToothGrowth$len)"
   ]
  },
  {
   "cell_type": "markdown",
   "metadata": {},
   "source": [
    "Use t.test() to test if the len variable is not equal to 18 micrometers."
   ]
  },
  {
   "cell_type": "code",
   "execution_count": 35,
   "metadata": {},
   "outputs": [
    {
     "data": {
      "text/plain": [
       "\n",
       "\tOne Sample t-test\n",
       "\n",
       "data:  ToothGrowth$len\n",
       "t = 0.82361, df = 59, p-value = 0.4135\n",
       "alternative hypothesis: true mean is not equal to 18\n",
       "95 percent confidence interval:\n",
       " 16.83731 20.78936\n",
       "sample estimates:\n",
       "mean of x \n",
       " 18.81333 \n"
      ]
     },
     "metadata": {},
     "output_type": "display_data"
    }
   ],
   "source": [
    "# Perform a two-sided t-test\n",
    "t.test(x = ToothGrowth$len, \n",
    "       alternative = \"two.sided\", \n",
    "       mu = 18)"
   ]
  },
  {
   "cell_type": "markdown",
   "metadata": {},
   "source": [
    "It appears given the high p-value that we can conclude that we fail to reject the null hypothesis that the mean of len is not equal to 18, meaning we have evidence to believe it is around 18 micrometers."
   ]
  },
  {
   "cell_type": "markdown",
   "metadata": {},
   "source": [
    "### Randomization\n",
    "\n",
    "Recall that randomization of subjects in an experiment helps spread any natural variability between subjects evenly across groups.\n",
    "\n",
    "n the experiment that yielded the ToothGrowth dataset, guinea pigs were randomized to receive Vitamin C either through orange juice or ascorbic acid, indicated in the dataset by the supp variable. It's natural to wonder if there is a difference in tooth length by supplement type - a question that a t-test can also answer!"
   ]
  },
  {
   "cell_type": "markdown",
   "metadata": {},
   "source": [
    "**Syntax: **\n",
    "t.test(outcome ~ explanatory_variable, data = dataset)"
   ]
  },
  {
   "cell_type": "markdown",
   "metadata": {},
   "source": [
    "Conduct the proper test to determine if there is a difference in tooth length based on supplement type"
   ]
  },
  {
   "cell_type": "code",
   "execution_count": 36,
   "metadata": {},
   "outputs": [
    {
     "data": {
      "text/html": [
       "<table>\n",
       "<thead><tr><th scope=col>len</th><th scope=col>supp</th><th scope=col>dose</th></tr></thead>\n",
       "<tbody>\n",
       "\t<tr><td> 4.2</td><td>VC  </td><td>0.5 </td></tr>\n",
       "\t<tr><td>11.5</td><td>VC  </td><td>0.5 </td></tr>\n",
       "\t<tr><td> 7.3</td><td>VC  </td><td>0.5 </td></tr>\n",
       "\t<tr><td> 5.8</td><td>VC  </td><td>0.5 </td></tr>\n",
       "\t<tr><td> 6.4</td><td>VC  </td><td>0.5 </td></tr>\n",
       "\t<tr><td>10.0</td><td>VC  </td><td>0.5 </td></tr>\n",
       "</tbody>\n",
       "</table>\n"
      ],
      "text/latex": [
       "\\begin{tabular}{r|lll}\n",
       " len & supp & dose\\\\\n",
       "\\hline\n",
       "\t  4.2 & VC   & 0.5 \\\\\n",
       "\t 11.5 & VC   & 0.5 \\\\\n",
       "\t  7.3 & VC   & 0.5 \\\\\n",
       "\t  5.8 & VC   & 0.5 \\\\\n",
       "\t  6.4 & VC   & 0.5 \\\\\n",
       "\t 10.0 & VC   & 0.5 \\\\\n",
       "\\end{tabular}\n"
      ],
      "text/markdown": [
       "\n",
       "len | supp | dose | \n",
       "|---|---|---|---|---|---|\n",
       "|  4.2 | VC   | 0.5  | \n",
       "| 11.5 | VC   | 0.5  | \n",
       "|  7.3 | VC   | 0.5  | \n",
       "|  5.8 | VC   | 0.5  | \n",
       "|  6.4 | VC   | 0.5  | \n",
       "| 10.0 | VC   | 0.5  | \n",
       "\n",
       "\n"
      ],
      "text/plain": [
       "  len  supp dose\n",
       "1  4.2 VC   0.5 \n",
       "2 11.5 VC   0.5 \n",
       "3  7.3 VC   0.5 \n",
       "4  5.8 VC   0.5 \n",
       "5  6.4 VC   0.5 \n",
       "6 10.0 VC   0.5 "
      ]
     },
     "metadata": {},
     "output_type": "display_data"
    }
   ],
   "source": [
    "head(ToothGrowth)"
   ]
  },
  {
   "cell_type": "code",
   "execution_count": 37,
   "metadata": {
    "collapsed": true
   },
   "outputs": [],
   "source": [
    "library(\"broom\")"
   ]
  },
  {
   "cell_type": "code",
   "execution_count": 38,
   "metadata": {},
   "outputs": [
    {
     "data": {
      "text/plain": [
       "\n",
       "\tWelch Two Sample t-test\n",
       "\n",
       "data:  len by supp\n",
       "t = 1.9153, df = 55.309, p-value = 0.06063\n",
       "alternative hypothesis: true difference in means is not equal to 0\n",
       "95 percent confidence interval:\n",
       " -0.1710156  7.5710156\n",
       "sample estimates:\n",
       "mean in group OJ mean in group VC \n",
       "        20.66333         16.96333 \n"
      ]
     },
     "metadata": {},
     "output_type": "display_data"
    }
   ],
   "source": [
    "# Perform a t-test\n",
    "# h0 = no difference (difference is 0)\n",
    "# h1 = there is a difference\n",
    "\n",
    "(ToothGrowth_ttest <- t.test(len ~ supp, data = ToothGrowth))"
   ]
  },
  {
   "cell_type": "code",
   "execution_count": 39,
   "metadata": {},
   "outputs": [
    {
     "data": {
      "text/html": [
       "<table>\n",
       "<thead><tr><th scope=col>estimate</th><th scope=col>estimate1</th><th scope=col>estimate2</th><th scope=col>statistic</th><th scope=col>p.value</th><th scope=col>parameter</th><th scope=col>conf.low</th><th scope=col>conf.high</th><th scope=col>method</th><th scope=col>alternative</th></tr></thead>\n",
       "<tbody>\n",
       "\t<tr><td>3.7                    </td><td>20.66333               </td><td>16.96333               </td><td>1.915268               </td><td>0.06063451             </td><td>55.30943               </td><td>-0.1710156             </td><td>7.571016               </td><td>Welch Two Sample t-test</td><td>two.sided              </td></tr>\n",
       "</tbody>\n",
       "</table>\n"
      ],
      "text/latex": [
       "\\begin{tabular}{r|llllllllll}\n",
       " estimate & estimate1 & estimate2 & statistic & p.value & parameter & conf.low & conf.high & method & alternative\\\\\n",
       "\\hline\n",
       "\t 3.7                     & 20.66333                & 16.96333                & 1.915268                & 0.06063451              & 55.30943                & -0.1710156              & 7.571016                & Welch Two Sample t-test & two.sided              \\\\\n",
       "\\end{tabular}\n"
      ],
      "text/markdown": [
       "\n",
       "estimate | estimate1 | estimate2 | statistic | p.value | parameter | conf.low | conf.high | method | alternative | \n",
       "|---|\n",
       "| 3.7                     | 20.66333                | 16.96333                | 1.915268                | 0.06063451              | 55.30943                | -0.1710156              | 7.571016                | Welch Two Sample t-test | two.sided               | \n",
       "\n",
       "\n"
      ],
      "text/plain": [
       "  estimate estimate1 estimate2 statistic p.value    parameter conf.low  \n",
       "1 3.7      20.66333  16.96333  1.915268  0.06063451 55.30943  -0.1710156\n",
       "  conf.high method                  alternative\n",
       "1 7.571016  Welch Two Sample t-test two.sided  "
      ]
     },
     "metadata": {},
     "output_type": "display_data"
    }
   ],
   "source": [
    "# Tidy the t-test model object\n",
    "tidy(ToothGrowth_ttest)"
   ]
  },
  {
   "cell_type": "markdown",
   "metadata": {},
   "source": [
    "It seems as though there is a difference in length between supplement types."
   ]
  },
  {
   "cell_type": "markdown",
   "metadata": {},
   "source": [
    "### Replication\n",
    "Recall that replication means you need to repeat an experiment with an adequate number of subjects (sample size), usually to achieve an acceptable statistical power."
   ]
  },
  {
   "cell_type": "code",
   "execution_count": 40,
   "metadata": {},
   "outputs": [
    {
     "data": {
      "text/html": [
       "<table>\n",
       "<thead><tr><th scope=col>supp</th><th scope=col>dose</th><th scope=col>n</th></tr></thead>\n",
       "<tbody>\n",
       "\t<tr><td>OJ </td><td>0.5</td><td>10 </td></tr>\n",
       "\t<tr><td>OJ </td><td>1.0</td><td>10 </td></tr>\n",
       "\t<tr><td>OJ </td><td>2.0</td><td>10 </td></tr>\n",
       "\t<tr><td>VC </td><td>0.5</td><td>10 </td></tr>\n",
       "\t<tr><td>VC </td><td>1.0</td><td>10 </td></tr>\n",
       "\t<tr><td>VC </td><td>2.0</td><td>10 </td></tr>\n",
       "</tbody>\n",
       "</table>\n"
      ],
      "text/latex": [
       "\\begin{tabular}{r|lll}\n",
       " supp & dose & n\\\\\n",
       "\\hline\n",
       "\t OJ  & 0.5 & 10 \\\\\n",
       "\t OJ  & 1.0 & 10 \\\\\n",
       "\t OJ  & 2.0 & 10 \\\\\n",
       "\t VC  & 0.5 & 10 \\\\\n",
       "\t VC  & 1.0 & 10 \\\\\n",
       "\t VC  & 2.0 & 10 \\\\\n",
       "\\end{tabular}\n"
      ],
      "text/markdown": [
       "\n",
       "supp | dose | n | \n",
       "|---|---|---|---|---|---|\n",
       "| OJ  | 0.5 | 10  | \n",
       "| OJ  | 1.0 | 10  | \n",
       "| OJ  | 2.0 | 10  | \n",
       "| VC  | 0.5 | 10  | \n",
       "| VC  | 1.0 | 10  | \n",
       "| VC  | 2.0 | 10  | \n",
       "\n",
       "\n"
      ],
      "text/plain": [
       "  supp dose n \n",
       "1 OJ   0.5  10\n",
       "2 OJ   1.0  10\n",
       "3 OJ   2.0  10\n",
       "4 VC   0.5  10\n",
       "5 VC   1.0  10\n",
       "6 VC   2.0  10"
      ]
     },
     "metadata": {},
     "output_type": "display_data"
    }
   ],
   "source": [
    "# Group by supp, dose, then examine \n",
    "# how many observations in ToothGrowth \n",
    "# there are by those groups\n",
    "\n",
    "ToothGrowth %>% \n",
    "    group_by(supp, dose) %>% \n",
    "    summarise(n=n())"
   ]
  },
  {
   "cell_type": "markdown",
   "metadata": {},
   "source": [
    "The researchers seem to have tested each combination of supp and dose on 10 subjects each, which is low, but adequate for our experiments."
   ]
  },
  {
   "cell_type": "markdown",
   "metadata": {},
   "source": [
    "### Blocking\n",
    "Though this is not true, suppose the supplement type is is actually a nuisance factor we'd like to control for by blocking, and we're actually interested in the effect of the dose of Vitamin C on guinea pig tooth growth.\n",
    "\n",
    "We'll use the aov() function to examine this effect. aov() creates a linear regression model by calling lm() and examining results with anova() all in one function call. To use aov(), we'll still need functional notation, as with the randomization exercise, but this time the formula should be **len ~ dose + supp** to indicate we've blocked by supplement type."
   ]
  },
  {
   "cell_type": "code",
   "execution_count": 41,
   "metadata": {
    "collapsed": true
   },
   "outputs": [],
   "source": [
    "ToothGrowth$dose <- as.factor(ToothGrowth$dose)"
   ]
  },
  {
   "cell_type": "markdown",
   "metadata": {},
   "source": [
    "Make a boxplot to examine if the tooth length is different by dose. dose has been converted to a factor variable for you."
   ]
  },
  {
   "cell_type": "code",
   "execution_count": 42,
   "metadata": {},
   "outputs": [
    {
     "data": {},
     "metadata": {},
     "output_type": "display_data"
    },
    {
     "data": {
      "image/png": "[encoded data removed]",
      "text/plain": [
       "plot without title"
      ]
     },
     "metadata": {},
     "output_type": "display_data"
    }
   ],
   "source": [
    "# Create a boxplot with geom_boxplot()\n",
    "ggplot(ToothGrowth, aes(x = dose, y = len)) + \n",
    "    geom_boxplot()"
   ]
  },
  {
   "cell_type": "markdown",
   "metadata": {},
   "source": [
    "Use aov() to detect the effect of dose and supp on len"
   ]
  },
  {
   "cell_type": "code",
   "execution_count": 43,
   "metadata": {},
   "outputs": [
    {
     "data": {
      "text/plain": [
       "Call:\n",
       "   aov(formula = len ~ dose + supp, data = ToothGrowth)\n",
       "\n",
       "Terms:\n",
       "                    dose     supp Residuals\n",
       "Sum of Squares  2426.434  205.350   820.425\n",
       "Deg. of Freedom        2        1        56\n",
       "\n",
       "Residual standard error: 3.82759\n",
       "Estimated effects may be unbalanced"
      ]
     },
     "metadata": {},
     "output_type": "display_data"
    }
   ],
   "source": [
    "# Create the ToothGrowth_aov model object\n",
    "(ToothGrowth_aov <- aov(len ~ dose + supp, \n",
    "                            data = ToothGrowth))"
   ]
  },
  {
   "cell_type": "code",
   "execution_count": 44,
   "metadata": {},
   "outputs": [
    {
     "data": {
      "text/plain": [
       "            Df Sum Sq Mean Sq F value   Pr(>F)    \n",
       "dose         2 2426.4  1213.2   82.81  < 2e-16 ***\n",
       "supp         1  205.4   205.4   14.02 0.000429 ***\n",
       "Residuals   56  820.4    14.7                     \n",
       "---\n",
       "Signif. codes:  0 '***' 0.001 '**' 0.01 '*' 0.05 '.' 0.1 ' ' 1"
      ]
     },
     "metadata": {},
     "output_type": "display_data"
    }
   ],
   "source": [
    "# Examine the model object with summary()\n",
    "summary(ToothGrowth_aov)"
   ]
  },
  {
   "cell_type": "code",
   "execution_count": 45,
   "metadata": {},
   "outputs": [
    {
     "data": {
      "text/html": [
       "<table>\n",
       "<thead><tr><th scope=col>term</th><th scope=col>df</th><th scope=col>sumsq</th><th scope=col>meansq</th><th scope=col>statistic</th><th scope=col>p.value</th></tr></thead>\n",
       "<tbody>\n",
       "\t<tr><td>dose        </td><td> 2          </td><td>2426.434    </td><td>1213.21717  </td><td>82.81093    </td><td>1.871163e-17</td></tr>\n",
       "\t<tr><td>supp        </td><td> 1          </td><td> 205.350    </td><td> 205.35000  </td><td>14.01664    </td><td>4.292793e-04</td></tr>\n",
       "\t<tr><td>Residuals   </td><td>56          </td><td> 820.425    </td><td>  14.65045  </td><td>      NA    </td><td>          NA</td></tr>\n",
       "</tbody>\n",
       "</table>\n"
      ],
      "text/latex": [
       "\\begin{tabular}{r|llllll}\n",
       " term & df & sumsq & meansq & statistic & p.value\\\\\n",
       "\\hline\n",
       "\t dose         &  2           & 2426.434     & 1213.21717   & 82.81093     & 1.871163e-17\\\\\n",
       "\t supp         &  1           &  205.350     &  205.35000   & 14.01664     & 4.292793e-04\\\\\n",
       "\t Residuals    & 56           &  820.425     &   14.65045   &       NA     &           NA\\\\\n",
       "\\end{tabular}\n"
      ],
      "text/markdown": [
       "\n",
       "term | df | sumsq | meansq | statistic | p.value | \n",
       "|---|---|---|\n",
       "| dose         |  2           | 2426.434     | 1213.21717   | 82.81093     | 1.871163e-17 | \n",
       "| supp         |  1           |  205.350     |  205.35000   | 14.01664     | 4.292793e-04 | \n",
       "| Residuals    | 56           |  820.425     |   14.65045   |       NA     |           NA | \n",
       "\n",
       "\n"
      ],
      "text/plain": [
       "  term      df sumsq    meansq     statistic p.value     \n",
       "1 dose       2 2426.434 1213.21717 82.81093  1.871163e-17\n",
       "2 supp       1  205.350  205.35000 14.01664  4.292793e-04\n",
       "3 Residuals 56  820.425   14.65045       NA            NA"
      ]
     },
     "metadata": {},
     "output_type": "display_data"
    }
   ],
   "source": [
    "tidy(ToothGrowth_aov)"
   ]
  },
  {
   "cell_type": "markdown",
   "metadata": {},
   "source": [
    "That's our first Randomized Complete Block Design (RCBD) experiment!"
   ]
  },
  {
   "cell_type": "markdown",
   "metadata": {},
   "source": [
    "## Hypothesis Testing"
   ]
  },
  {
   "cell_type": "markdown",
   "metadata": {
    "collapsed": true
   },
   "source": [
    "A very important concept in experimental design is the formation and testing of a hypothesis or your central research question. For the tooth growth dataset that we worked on previously - the hypothesis concerned the effect of different doses and administration methods of Vitamin C on the length of tooth growth in the guinea pig. \n",
    "\n",
    "There are really 2 hypotheses that are grouped together - the null and the alternative hypothesis. \n",
    "\n",
    "**Null Hypothesis: **\n",
    "- There is no change\n",
    "- No difference between groups\n",
    "- The mean, median, or observation = a number\n",
    "\n",
    "For example, in the tooth growth experiment, the null hypothesis is: \"There is no effect of Vitamin C dosage or administration type on guinea pig tooth growth\". \n",
    "\n",
    "There's some nuance involved in the alternative hypothesis and its construction will help lead you to the correct test. \n",
    "\n",
    "**Alternative Hypothesis: **\n",
    "- There is a chance\n",
    "- Difference between groups\n",
    "- Mean, median, or observation is >, <, or != to a number\n",
    "\n",
    "If you're testing if the mean is only less than or greater than a value, it's a one-sided test. If you're testing that it's not equal to some number, that's a two-sided test. The one/two sided rule applies both to if you're testing one or two groups' means. Recall when we conducted a two-sided test to determine if the mean length of tooth growth was not equal to 18. The p-value was 0.4135, so at the 0.05 significance level, we fail to reject the null hypothesis. We have no strong evidence to suggest the mean is not equal to 18. \n",
    "\n",
    "Directly related to hypothesis testing is the idea of power. Power is the probability that the test correctly rejects the null hypothesis when the alternative hypothesis is true. One golden rule in statistics is to aim to have 80% power in your experiments, which you'll need an adequate sample size to achieve. \n",
    "\n",
    "Effect size, in the context of power analysis, is a standardized measure of the difference you're trying to detect - calculated as the difference between group means divided by the pooled standard deviation of the data. It's easier to detect a larger difference in means than a smaller one. \n",
    "\n",
    "Sample size is important in experiments. In general, as sample size increases, power increases. You've collected more information so you're more capable of examining your hypothesis. \n",
    "\n",
    "You need 2 of these 3 pieces to calculate the other: if you have a given power and effect size, you can generally calculate sample size. "
   ]
  },
  {
   "cell_type": "code",
   "execution_count": 46,
   "metadata": {},
   "outputs": [
    {
     "name": "stderr",
     "output_type": "stream",
     "text": [
      "Warning message:\n",
      "\"package 'pwr' was built under R version 3.4.4\""
     ]
    }
   ],
   "source": [
    "library(pwr)"
   ]
  },
  {
   "cell_type": "code",
   "execution_count": 47,
   "metadata": {},
   "outputs": [
    {
     "data": {
      "text/plain": [
       "\n",
       "     Balanced one-way analysis of variance power calculation \n",
       "\n",
       "              k = 3\n",
       "              n = 20\n",
       "              f = 0.2\n",
       "      sig.level = 0.05\n",
       "          power = 0.2521043\n",
       "\n",
       "NOTE: n is number in each group\n"
      ]
     },
     "metadata": {},
     "output_type": "display_data"
    }
   ],
   "source": [
    "pwr.anova.test(k=3, # k = the number of groups in the comparison\n",
    "                  n=20, # n = the number of observations per group\n",
    "                  f=0.2, # f = effect size\n",
    "                  sig.level=0.05, # significance level\n",
    "                  power=NULL) # one of the params must be NULL so it can calculate the missing param. "
   ]
  },
  {
   "cell_type": "markdown",
   "metadata": {},
   "source": [
    "A power of 0.25 is not great - we probably can't detect that small of an effect size with so few people in each group. "
   ]
  },
  {
   "cell_type": "markdown",
   "metadata": {},
   "source": [
    "### One sided vs. Two sided tests\n",
    "\n",
    "We tested to see if the mean of the guinea pigs' teeth in ToothGrowth was not equal to 18 micrometers. That was an example of a two sided test: it looked to see if the mean of len is some other number on either side of 18.\n",
    "\n",
    "We can also conduct a one sided test, explicitly checking to see if the mean is less than or greater than 18. Whether to use a one or two sided test usually follows from your research question. Want to know if an intervention causes longer tooth growth? One sided, greater than. Want to know if a drug causes the test group to lose more weight? One sided, less than. Simply want to know if there's a difference in test scores between two groups of students? Two sided test."
   ]
  },
  {
   "cell_type": "code",
   "execution_count": 48,
   "metadata": {},
   "outputs": [
    {
     "data": {
      "text/html": [
       "18.8133333333333"
      ],
      "text/latex": [
       "18.8133333333333"
      ],
      "text/markdown": [
       "18.8133333333333"
      ],
      "text/plain": [
       "[1] 18.81333"
      ]
     },
     "metadata": {},
     "output_type": "display_data"
    }
   ],
   "source": [
    "mean(ToothGrowth$len)"
   ]
  },
  {
   "cell_type": "code",
   "execution_count": 49,
   "metadata": {},
   "outputs": [
    {
     "data": {
      "text/plain": [
       "\n",
       "\tOne Sample t-test\n",
       "\n",
       "data:  ToothGrowth$len\n",
       "t = 0.82361, df = 59, p-value = 0.7933\n",
       "alternative hypothesis: true mean is less than 18\n",
       "95 percent confidence interval:\n",
       "     -Inf 20.46358\n",
       "sample estimates:\n",
       "mean of x \n",
       " 18.81333 \n"
      ]
     },
     "metadata": {},
     "output_type": "display_data"
    }
   ],
   "source": [
    "# Test to see if the mean of the length variable of ToothGrowth is less than 18.\n",
    "\n",
    "# H0 = mean is greater than or equal to 18\n",
    "# H1= mean is less than 18\n",
    "\n",
    "t.test(x = ToothGrowth$len,\n",
    "       alternative = \"less\",\n",
    "       mu = 18)"
   ]
  },
  {
   "cell_type": "code",
   "execution_count": 50,
   "metadata": {},
   "outputs": [
    {
     "data": {
      "text/plain": [
       "\n",
       "\tOne Sample t-test\n",
       "\n",
       "data:  ToothGrowth$len\n",
       "t = 0.82361, df = 59, p-value = 0.2067\n",
       "alternative hypothesis: true mean is greater than 18\n",
       "95 percent confidence interval:\n",
       " 17.16309      Inf\n",
       "sample estimates:\n",
       "mean of x \n",
       " 18.81333 \n"
      ]
     },
     "metadata": {},
     "output_type": "display_data"
    }
   ],
   "source": [
    "# Test to see if the mean of the length variable of ToothGrowth is greater than 18\n",
    "\n",
    "# H0 = mean is less than or equal to 18\n",
    "# H1= mean is greater than 18\n",
    "\n",
    "t.test(x = ToothGrowth$len,\n",
    "       alternative = \"greater\",\n",
    "       mu = 18)"
   ]
  },
  {
   "cell_type": "markdown",
   "metadata": {},
   "source": [
    " It turns out the mean of len is actually very close to 18, so neither of these tests tells us much about the mean of tooth length."
   ]
  },
  {
   "cell_type": "code",
   "execution_count": 51,
   "metadata": {},
   "outputs": [
    {
     "data": {
      "text/plain": [
       "\n",
       "\tOne Sample t-test\n",
       "\n",
       "data:  ToothGrowth$len\n",
       "t = 0.82361, df = 59, p-value = 0.4135\n",
       "alternative hypothesis: true mean is not equal to 18\n",
       "95 percent confidence interval:\n",
       " 16.83731 20.78936\n",
       "sample estimates:\n",
       "mean of x \n",
       " 18.81333 \n"
      ]
     },
     "metadata": {},
     "output_type": "display_data"
    }
   ],
   "source": [
    "# H0 = mean is equal to 18\n",
    "# H1= mean is not equal to 18\n",
    "\n",
    "t.test(x = ToothGrowth$len,\n",
    "       alternative = \"two.sided\",\n",
    "       mu = 18)"
   ]
  },
  {
   "cell_type": "markdown",
   "metadata": {},
   "source": [
    "### Power & Sample Size Calculations\n",
    "\n",
    "One key part of designing an experiment is knowing the required sample size you'll need to be able to test your hypothesis. The pwr package provides a handy function, pwr.t.test(), which will calculate that for you, however you do need to know your desired significance level (often 0.05), if the test is one or two sided, if the data is from one sample, two samples, or paired, the effect size, and the power. Some of this information will be given to you or can be reasoned from the design.\n",
    "\n",
    "A power or sample size calculation is usually different each time you conduct one, and the details of the calculation strongly depend on what kind of experiment you're designing and what your end goals are."
   ]
  },
  {
   "cell_type": "code",
   "execution_count": 52,
   "metadata": {},
   "outputs": [
    {
     "data": {
      "text/plain": [
       "\n",
       "     Two-sample t test power calculation \n",
       "\n",
       "              n = 100\n",
       "              d = 0.35\n",
       "      sig.level = 0.1\n",
       "          power = 0.7943532\n",
       "    alternative = two.sided\n",
       "\n",
       "NOTE: n is number in *each* group\n"
      ]
     },
     "metadata": {},
     "output_type": "display_data"
    }
   ],
   "source": [
    "# Calculate power using an effect size of 0.35, a sample size of 100 in each group, and a significance level of 0.10.\n",
    "\n",
    "pwr.t.test(n = 100, \n",
    "           d = 0.35,\n",
    "           sig.level = 0.10,\n",
    "           type = \"two.sample\", \n",
    "           alternative = \"two.sided\",\n",
    "           power = NULL)"
   ]
  },
  {
   "cell_type": "code",
   "execution_count": 53,
   "metadata": {},
   "outputs": [
    {
     "data": {
      "text/plain": [
       "\n",
       "     One-sample t test power calculation \n",
       "\n",
       "              n = 100.2877\n",
       "              d = 0.25\n",
       "      sig.level = 0.05\n",
       "          power = 0.8\n",
       "    alternative = greater\n"
      ]
     },
     "metadata": {},
     "output_type": "display_data"
    }
   ],
   "source": [
    "# Calculate the sample size needed with an effect size of 0.25, a significance level of 0.05, and a power of 0.8.\n",
    "\n",
    "pwr.t.test(n = NULL, \n",
    "           d = 0.25, \n",
    "           sig.level = 0.05, \n",
    "           type = \"one.sample\", alternative = \"greater\", \n",
    "           power = 0.80)"
   ]
  },
  {
   "cell_type": "markdown",
   "metadata": {},
   "source": [
    "The pwr package includes functions for calculating power and sample size for a variety of different tests, including ANOVA and linear models."
   ]
  },
  {
   "cell_type": "markdown",
   "metadata": {
    "collapsed": true
   },
   "source": [
    "# Basic experiments"
   ]
  },
  {
   "cell_type": "markdown",
   "metadata": {},
   "source": [
    "Let's explore 3 key concepts for experimental design\n",
    "\n",
    "- ANOVA Test for 3+ groups\n",
    "- Single and multiple factor experiments\n",
    "- Importance of completely randomized design\n",
    "\n",
    "So far, we've done some basic comparative experiments where we examine the difference in mean between 2 groups or 2 time periods of the same group using a T-Test. What do we do if we have more than 2 groups to compare? The answer is an ANOVA Test, which stands for Analysis of Variance. It allows us to compare the means of 3 or more groups. But there is a bit of a catch. We'll only know if one of the means is different from the others but not which means specifically. The test is still informative and can be implemented in R in a few different ways. \n",
    "\n",
    "In the first, you build a model object with the lm() or glm() functions and then call ANOVA on that model object. The second implementation, the aov() function, calls lm() internally and both builds the model object for you and conducts the anova test. \n",
    "\n",
    "A single factor experiment is like the model example from before - an experiment with one possible explanatory variable. \n",
    "\n",
    "In this example, model 1 is a linear regression model with some outcome variable (Y) and an explanatory variable (x) - a single factor. Ideally, a single factor experiement also has a completely randomized design which means there's some structure in your experiement. If applicacable, subjects are randomly assign to the treatment or control group. A classic textbook example of a single factor completely randomized design is testing cotton fabric strength. You can test the tensile strength of different cotton fabric in a random order and all that differs is the percent cotton in the fabric. \n",
    "\n",
    "A mutliple factor experiement expands on the single factor experiments and includes multiple explanatory factor variables that may be influencing the outcome variable. This might be an experiment that takes into account not just how much vitamin C a guinea pig was given but also the delivery method - a callback to our toothgrowth example. \n",
    "\n",
    "We'll be working with the Lending Club data. The outcome that we'll be most interested in is the amount funded. We'll test different explanatory variables that may influence the amount."
   ]
  },
  {
   "cell_type": "code",
   "execution_count": 54,
   "metadata": {
    "collapsed": true
   },
   "outputs": [],
   "source": [
    "library(\"dplyr\")\n",
    "library(\"ggplot2\")\n",
    "library(\"broom\")"
   ]
  },
  {
   "cell_type": "code",
   "execution_count": 55,
   "metadata": {
    "collapsed": true
   },
   "outputs": [],
   "source": [
    "lendingclub <- read.csv(\"datasets/lendclub.csv\")"
   ]
  },
  {
   "cell_type": "code",
   "execution_count": 56,
   "metadata": {},
   "outputs": [
    {
     "data": {
      "text/html": [
       "<table>\n",
       "<thead><tr><th scope=col>member_id</th><th scope=col>loan_amnt</th><th scope=col>funded_amnt</th><th scope=col>term</th><th scope=col>int_rate</th><th scope=col>emp_length</th><th scope=col>home_ownership</th><th scope=col>annual_inc</th><th scope=col>verification_status</th><th scope=col>loan_status</th><th scope=col>purpose</th><th scope=col>grade</th></tr></thead>\n",
       "<tbody>\n",
       "\t<tr><td>55096114          </td><td>11000             </td><td>11000             </td><td>36 months         </td><td>12.69             </td><td>10+ years         </td><td>RENT              </td><td>51000             </td><td>Not Verified      </td><td>Current           </td><td>debt_consolidation</td><td>C                 </td></tr>\n",
       "\t<tr><td> 1555332          </td><td>10000             </td><td>10000             </td><td>36 months         </td><td> 6.62             </td><td>10+ years         </td><td>MORTGAGE          </td><td>40000             </td><td>Verified          </td><td>Fully Paid        </td><td>debt_consolidation</td><td>A                 </td></tr>\n",
       "\t<tr><td> 1009151          </td><td>13000             </td><td>13000             </td><td>60 months         </td><td>10.99             </td><td>3 years           </td><td>MORTGAGE          </td><td>78204             </td><td>Not Verified      </td><td>Fully Paid        </td><td>home_improvement  </td><td>B                 </td></tr>\n",
       "\t<tr><td>69524202          </td><td> 5000             </td><td> 5000             </td><td>36 months         </td><td>12.05             </td><td>10+ years         </td><td>MORTGAGE          </td><td>51000             </td><td>Not Verified      </td><td>Current           </td><td>home_improvement  </td><td>C                 </td></tr>\n",
       "\t<tr><td>72128084          </td><td>18000             </td><td>18000             </td><td>36 months         </td><td> 5.32             </td><td>10+ years         </td><td>MORTGAGE          </td><td>96000             </td><td>Not Verified      </td><td>Current           </td><td>credit_card       </td><td>A                 </td></tr>\n",
       "\t<tr><td>53906707          </td><td>14000             </td><td>14000             </td><td>60 months         </td><td>16.99             </td><td>3 years           </td><td>MORTGAGE          </td><td>47000             </td><td>Not Verified      </td><td>Current           </td><td>home_improvement  </td><td>D                 </td></tr>\n",
       "</tbody>\n",
       "</table>\n"
      ],
      "text/latex": [
       "\\begin{tabular}{r|llllllllllll}\n",
       " member\\_id & loan\\_amnt & funded\\_amnt & term & int\\_rate & emp\\_length & home\\_ownership & annual\\_inc & verification\\_status & loan\\_status & purpose & grade\\\\\n",
       "\\hline\n",
       "\t 55096114             & 11000                & 11000                & 36 months            & 12.69                & 10+ years            & RENT                 & 51000                & Not Verified         & Current              & debt\\_consolidation & C                   \\\\\n",
       "\t  1555332             & 10000                & 10000                & 36 months            &  6.62                & 10+ years            & MORTGAGE             & 40000                & Verified             & Fully Paid           & debt\\_consolidation & A                   \\\\\n",
       "\t  1009151             & 13000                & 13000                & 60 months            & 10.99                & 3 years              & MORTGAGE             & 78204                & Not Verified         & Fully Paid           & home\\_improvement   & B                   \\\\\n",
       "\t 69524202             &  5000                &  5000                & 36 months            & 12.05                & 10+ years            & MORTGAGE             & 51000                & Not Verified         & Current              & home\\_improvement   & C                   \\\\\n",
       "\t 72128084             & 18000                & 18000                & 36 months            &  5.32                & 10+ years            & MORTGAGE             & 96000                & Not Verified         & Current              & credit\\_card        & A                   \\\\\n",
       "\t 53906707             & 14000                & 14000                & 60 months            & 16.99                & 3 years              & MORTGAGE             & 47000                & Not Verified         & Current              & home\\_improvement   & D                   \\\\\n",
       "\\end{tabular}\n"
      ],
      "text/markdown": [
       "\n",
       "member_id | loan_amnt | funded_amnt | term | int_rate | emp_length | home_ownership | annual_inc | verification_status | loan_status | purpose | grade | \n",
       "|---|---|---|---|---|---|\n",
       "| 55096114           | 11000              | 11000              | 36 months          | 12.69              | 10+ years          | RENT               | 51000              | Not Verified       | Current            | debt_consolidation | C                  | \n",
       "|  1555332           | 10000              | 10000              | 36 months          |  6.62              | 10+ years          | MORTGAGE           | 40000              | Verified           | Fully Paid         | debt_consolidation | A                  | \n",
       "|  1009151           | 13000              | 13000              | 60 months          | 10.99              | 3 years            | MORTGAGE           | 78204              | Not Verified       | Fully Paid         | home_improvement   | B                  | \n",
       "| 69524202           |  5000              |  5000              | 36 months          | 12.05              | 10+ years          | MORTGAGE           | 51000              | Not Verified       | Current            | home_improvement   | C                  | \n",
       "| 72128084           | 18000              | 18000              | 36 months          |  5.32              | 10+ years          | MORTGAGE           | 96000              | Not Verified       | Current            | credit_card        | A                  | \n",
       "| 53906707           | 14000              | 14000              | 60 months          | 16.99              | 3 years            | MORTGAGE           | 47000              | Not Verified       | Current            | home_improvement   | D                  | \n",
       "\n",
       "\n"
      ],
      "text/plain": [
       "  member_id loan_amnt funded_amnt term      int_rate emp_length home_ownership\n",
       "1 55096114  11000     11000       36 months 12.69    10+ years  RENT          \n",
       "2  1555332  10000     10000       36 months  6.62    10+ years  MORTGAGE      \n",
       "3  1009151  13000     13000       60 months 10.99    3 years    MORTGAGE      \n",
       "4 69524202   5000      5000       36 months 12.05    10+ years  MORTGAGE      \n",
       "5 72128084  18000     18000       36 months  5.32    10+ years  MORTGAGE      \n",
       "6 53906707  14000     14000       60 months 16.99    3 years    MORTGAGE      \n",
       "  annual_inc verification_status loan_status purpose            grade\n",
       "1 51000      Not Verified        Current     debt_consolidation C    \n",
       "2 40000      Verified            Fully Paid  debt_consolidation A    \n",
       "3 78204      Not Verified        Fully Paid  home_improvement   B    \n",
       "4 51000      Not Verified        Current     home_improvement   C    \n",
       "5 96000      Not Verified        Current     credit_card        A    \n",
       "6 47000      Not Verified        Current     home_improvement   D    "
      ]
     },
     "metadata": {},
     "output_type": "display_data"
    }
   ],
   "source": [
    "head(lendingclub)"
   ]
  },
  {
   "cell_type": "code",
   "execution_count": 57,
   "metadata": {},
   "outputs": [
    {
     "name": "stdout",
     "output_type": "stream",
     "text": [
      "Observations: 1,500\n",
      "Variables: 12\n",
      "$ member_id           <int> 55096114, 1555332, 1009151, 69524202, 72128084,...\n",
      "$ loan_amnt           <int> 11000, 10000, 13000, 5000, 18000, 14000, 8000, ...\n",
      "$ funded_amnt         <int> 11000, 10000, 13000, 5000, 18000, 14000, 8000, ...\n",
      "$ term                <fct> 36 months, 36 months, 60 months, 36 months, 36 ...\n",
      "$ int_rate            <dbl> 12.69, 6.62, 10.99, 12.05, 5.32, 16.99, 13.11, ...\n",
      "$ emp_length          <fct> 10+ years, 10+ years, 3 years, 10+ years, 10+ y...\n",
      "$ home_ownership      <fct> RENT, MORTGAGE, MORTGAGE, MORTGAGE, MORTGAGE, M...\n",
      "$ annual_inc          <dbl> 51000, 40000, 78204, 51000, 96000, 47000, 40000...\n",
      "$ verification_status <fct> Not Verified, Verified, Not Verified, Not Verif...\n",
      "$ loan_status         <fct> Current, Fully Paid, Fully Paid, Current, Curre...\n",
      "$ purpose             <fct> debt_consolidation, debt_consolidation, home_im...\n",
      "$ grade               <fct> C, A, B, C, A, D, C, A, D, B, C, B, E, C, A, C,...\n"
     ]
    }
   ],
   "source": [
    "glimpse(lendingclub)"
   ]
  },
  {
   "cell_type": "code",
   "execution_count": 58,
   "metadata": {},
   "outputs": [
    {
     "data": {
      "text/html": [
       "<table>\n",
       "<thead><tr><th scope=col>median(loan_amnt)</th><th scope=col>mean(int_rate)</th><th scope=col>mean(annual_inc)</th></tr></thead>\n",
       "<tbody>\n",
       "\t<tr><td>13000   </td><td>13.31472</td><td>75736.03</td></tr>\n",
       "</tbody>\n",
       "</table>\n"
      ],
      "text/latex": [
       "\\begin{tabular}{r|lll}\n",
       " median(loan\\_amnt) & mean(int\\_rate) & mean(annual\\_inc)\\\\\n",
       "\\hline\n",
       "\t 13000    & 13.31472 & 75736.03\\\\\n",
       "\\end{tabular}\n"
      ],
      "text/markdown": [
       "\n",
       "median(loan_amnt) | mean(int_rate) | mean(annual_inc) | \n",
       "|---|\n",
       "| 13000    | 13.31472 | 75736.03 | \n",
       "\n",
       "\n"
      ],
      "text/plain": [
       "  median(loan_amnt) mean(int_rate) mean(annual_inc)\n",
       "1 13000             13.31472       75736.03        "
      ]
     },
     "metadata": {},
     "output_type": "display_data"
    }
   ],
   "source": [
    "# Find median loan_amnt, mean int_rate, and mean annual_inc with summarise()\n",
    "lendingclub %>% \n",
    "    summarise(median(loan_amnt), mean(int_rate), mean(annual_inc))"
   ]
  },
  {
   "cell_type": "code",
   "execution_count": 59,
   "metadata": {},
   "outputs": [
    {
     "data": {},
     "metadata": {},
     "output_type": "display_data"
    },
    {
     "data": {
      "image/png": "[encoded data removed]",
      "text/plain": [
       "plot without title"
      ]
     },
     "metadata": {},
     "output_type": "display_data"
    }
   ],
   "source": [
    "ggplot(data=lendingclub, aes(x = purpose)) + geom_bar() + \n",
    "    theme(axis.text.x=element_text(angle=90, hjust=1, vjust=1))"
   ]
  },
  {
   "cell_type": "code",
   "execution_count": 60,
   "metadata": {
    "collapsed": true
   },
   "outputs": [],
   "source": [
    "# Use recode() to create the new purpose_recode variable\n",
    "lendingclub$purpose_recode <- lendingclub$purpose %>% recode( \n",
    "        \"credit_card\" = \"debt_related\", \"debt_consolidation\" = \"debt_related\", \"medical\" = \"debt_related\",\n",
    "         \"car\" = \"big_purchase\", \"major_purchase\" = \"big_purchase\", \"vacation\" = \"big_purchase\",\n",
    "         \"moving\" = \"life_change\", \"small_business\" = \"life_change\", \"wedding\" = \"life_change\",\n",
    "         \"house\" = \"home_related\", \"home_improvement\" = \"home_related\")"
   ]
  },
  {
   "cell_type": "code",
   "execution_count": 61,
   "metadata": {},
   "outputs": [
    {
     "data": {
      "text/html": [
       "<ol class=list-inline>\n",
       "\t<li>debt_consolidation</li>\n",
       "\t<li>debt_consolidation</li>\n",
       "\t<li>home_improvement</li>\n",
       "\t<li>home_improvement</li>\n",
       "\t<li>credit_card</li>\n",
       "\t<li>home_improvement</li>\n",
       "</ol>\n"
      ],
      "text/latex": [
       "\\begin{enumerate*}\n",
       "\\item debt\\_consolidation\n",
       "\\item debt\\_consolidation\n",
       "\\item home\\_improvement\n",
       "\\item home\\_improvement\n",
       "\\item credit\\_card\n",
       "\\item home\\_improvement\n",
       "\\end{enumerate*}\n"
      ],
      "text/markdown": [
       "1. debt_consolidation\n",
       "2. debt_consolidation\n",
       "3. home_improvement\n",
       "4. home_improvement\n",
       "5. credit_card\n",
       "6. home_improvement\n",
       "\n",
       "\n"
      ],
      "text/plain": [
       "[1] debt_consolidation debt_consolidation home_improvement   home_improvement  \n",
       "[5] credit_card        home_improvement  \n",
       "13 Levels: car credit_card debt_consolidation home_improvement ... wedding"
      ]
     },
     "metadata": {},
     "output_type": "display_data"
    }
   ],
   "source": [
    "head(lendingclub$purpose)"
   ]
  },
  {
   "cell_type": "code",
   "execution_count": 62,
   "metadata": {},
   "outputs": [
    {
     "data": {
      "text/html": [
       "<ol class=list-inline>\n",
       "\t<li>debt_related</li>\n",
       "\t<li>debt_related</li>\n",
       "\t<li>home_related</li>\n",
       "\t<li>home_related</li>\n",
       "\t<li>debt_related</li>\n",
       "\t<li>home_related</li>\n",
       "</ol>\n"
      ],
      "text/latex": [
       "\\begin{enumerate*}\n",
       "\\item debt\\_related\n",
       "\\item debt\\_related\n",
       "\\item home\\_related\n",
       "\\item home\\_related\n",
       "\\item debt\\_related\n",
       "\\item home\\_related\n",
       "\\end{enumerate*}\n"
      ],
      "text/markdown": [
       "1. debt_related\n",
       "2. debt_related\n",
       "3. home_related\n",
       "4. home_related\n",
       "5. debt_related\n",
       "6. home_related\n",
       "\n",
       "\n"
      ],
      "text/plain": [
       "[1] debt_related debt_related home_related home_related debt_related\n",
       "[6] home_related\n",
       "6 Levels: big_purchase debt_related home_related life_change ... renewable_energy"
      ]
     },
     "metadata": {},
     "output_type": "display_data"
    }
   ],
   "source": [
    "head(lendingclub$purpose_recode)"
   ]
  },
  {
   "cell_type": "markdown",
   "metadata": {},
   "source": [
    "### How does loan purpose affect amount funded?\n",
    "We pared the purpose variable down to a more reasonable 5 categories and called it purpose_recode. As a data analyst or data scientist at Lending Club, we might want to design an experiment where we examine how the loan purpose influences the amount funded (the money actually issued to the applicant.)\n",
    "\n",
    "Remember that for an ANOVA test, the null hypothesis will be that all of the mean funded amounts are equal across the levels of purpose_recode. The alternative hypothesis is that at least one level of purpose_recode has a different mean. We will not be sure which, however, without some post hoc analysis."
   ]
  },
  {
   "cell_type": "markdown",
   "metadata": {},
   "source": [
    "* H0 = All the mean funded amounts are equal across the levels of purpose_recode. \n",
    "* H1 = At least one level of purpose_recode has a different mean. "
   ]
  },
  {
   "cell_type": "code",
   "execution_count": 63,
   "metadata": {
    "collapsed": true
   },
   "outputs": [],
   "source": [
    "# Build a linear regression model, stored as purpose_recode_model\n",
    "purpose_recode_model <- lm(funded_amnt ~ purpose_recode, data = lendingclub)"
   ]
  },
  {
   "cell_type": "code",
   "execution_count": 64,
   "metadata": {},
   "outputs": [
    {
     "data": {
      "text/plain": [
       "\n",
       "Call:\n",
       "lm(formula = funded_amnt ~ purpose_recode, data = lendingclub)\n",
       "\n",
       "Residuals:\n",
       "   Min     1Q Median     3Q    Max \n",
       "-14472  -6251  -1322   4678  25761 \n",
       "\n",
       "Coefficients:\n",
       "                               Estimate Std. Error t value Pr(>|t|)    \n",
       "(Intercept)                      9888.1     1248.9   7.917 4.69e-15 ***\n",
       "purpose_recodedebt_related       5433.5     1270.5   4.277 2.02e-05 ***\n",
       "purpose_recodehome_related       4845.0     1501.0   3.228  0.00127 ** \n",
       "purpose_recodelife_change        4095.3     2197.2   1.864  0.06254 .  \n",
       "purpose_recodeother              -649.3     1598.3  -0.406  0.68461    \n",
       "purpose_recoderenewable_energy  -1796.4     4943.3  -0.363  0.71636    \n",
       "---\n",
       "Signif. codes:  0 '***' 0.001 '**' 0.01 '*' 0.05 '.' 0.1 ' ' 1\n",
       "\n",
       "Residual standard error: 8284 on 1494 degrees of freedom\n",
       "Multiple R-squared:  0.03473,\tAdjusted R-squared:  0.0315 \n",
       "F-statistic: 10.75 on 5 and 1494 DF,  p-value: 3.598e-10\n"
      ]
     },
     "metadata": {},
     "output_type": "display_data"
    }
   ],
   "source": [
    "# Look at results of purpose_recode_model\n",
    "summary(purpose_recode_model)"
   ]
  },
  {
   "cell_type": "code",
   "execution_count": 65,
   "metadata": {
    "collapsed": true
   },
   "outputs": [],
   "source": [
    "# Get anova results and save as purpose_recode_anova\n",
    "purpose_recode_anova <- anova(purpose_recode_model)"
   ]
  },
  {
   "cell_type": "code",
   "execution_count": 66,
   "metadata": {},
   "outputs": [
    {
     "data": {
      "text/plain": [
       "       Df             Sum Sq             Mean Sq             F value     \n",
       " Min.   :   5.0   Min.   :3.689e+09   Min.   : 68629950   Min.   :10.75  \n",
       " 1st Qu.: 377.2   1st Qu.:2.840e+10   1st Qu.:235911630   1st Qu.:10.75  \n",
       " Median : 749.5   Median :5.311e+10   Median :403193309   Median :10.75  \n",
       " Mean   : 749.5   Mean   :5.311e+10   Mean   :403193309   Mean   :10.75  \n",
       " 3rd Qu.:1121.8   3rd Qu.:7.782e+10   3rd Qu.:570474988   3rd Qu.:10.75  \n",
       " Max.   :1494.0   Max.   :1.025e+11   Max.   :737756668   Max.   :10.75  \n",
       "                                                          NA's   :1      \n",
       "     Pr(>F) \n",
       " Min.   :0  \n",
       " 1st Qu.:0  \n",
       " Median :0  \n",
       " Mean   :0  \n",
       " 3rd Qu.:0  \n",
       " Max.   :0  \n",
       " NA's   :1  "
      ]
     },
     "metadata": {},
     "output_type": "display_data"
    }
   ],
   "source": [
    "# Look at the class of purpose_recode_anova\n",
    "summary(purpose_recode_anova)"
   ]
  },
  {
   "cell_type": "code",
   "execution_count": 67,
   "metadata": {},
   "outputs": [
    {
     "data": {
      "text/html": [
       "<table>\n",
       "<thead><tr><th></th><th scope=col>Df</th><th scope=col>Sum Sq</th><th scope=col>Mean Sq</th><th scope=col>F value</th><th scope=col>Pr(&gt;F)</th></tr></thead>\n",
       "<tbody>\n",
       "\t<tr><th scope=row>purpose_recode</th><td>   5        </td><td>  3688783338</td><td>737756668   </td><td>10.74978    </td><td>3.597784e-10</td></tr>\n",
       "\t<tr><th scope=row>Residuals</th><td>1494        </td><td>102533145566</td><td> 68629950   </td><td>      NA    </td><td>          NA</td></tr>\n",
       "</tbody>\n",
       "</table>\n"
      ],
      "text/latex": [
       "\\begin{tabular}{r|lllll}\n",
       "  & Df & Sum Sq & Mean Sq & F value & Pr(>F)\\\\\n",
       "\\hline\n",
       "\tpurpose\\_recode &    5         &   3688783338 & 737756668    & 10.74978     & 3.597784e-10\\\\\n",
       "\tResiduals & 1494         & 102533145566 &  68629950    &       NA     &           NA\\\\\n",
       "\\end{tabular}\n"
      ],
      "text/markdown": [
       "\n",
       "| <!--/--> | Df | Sum Sq | Mean Sq | F value | Pr(>F) | \n",
       "|---|---|\n",
       "| purpose_recode |    5         |   3688783338 | 737756668    | 10.74978     | 3.597784e-10 | \n",
       "| Residuals | 1494         | 102533145566 |  68629950    |       NA     |           NA | \n",
       "\n",
       "\n"
      ],
      "text/plain": [
       "               Df   Sum Sq       Mean Sq   F value  Pr(>F)      \n",
       "purpose_recode    5   3688783338 737756668 10.74978 3.597784e-10\n",
       "Residuals      1494 102533145566  68629950       NA           NA"
      ]
     },
     "metadata": {},
     "output_type": "display_data"
    }
   ],
   "source": [
    "purpose_recode_anova"
   ]
  },
  {
   "cell_type": "markdown",
   "metadata": {},
   "source": [
    "The ANOVA results are saved as a data frame, not a model object, which is nice in case you need to access results later. Loans aren't issued in a vacuum, however, and it's likely that more than just purpose influences the amount funded."
   ]
  },
  {
   "cell_type": "markdown",
   "metadata": {},
   "source": [
    "### Which loan purpose mean is different?\n",
    "Before we examine other factors besides purpose_recode that might influence the amount of loan funded, let's examine which means of purpose_recode are different.\n",
    "\n",
    "The result of the ANOVA was statistically significant with a very low p-value. This means we can reject the null hypothesis and accept the alternative hypothesis that at least one mean was different. But which one?\n",
    "\n",
    "There are post hoc tests we can do to determine just that. Specifically, we should use Tukey's HSD (which stands for Honest Significant Difference...statistics is fun!) test with an object created with aov() (remember that this is the other function that conducts an ANOVA test, but also builds the linear model for you.)"
   ]
  },
  {
   "cell_type": "code",
   "execution_count": 68,
   "metadata": {
    "collapsed": true
   },
   "outputs": [],
   "source": [
    "# Use aov() to build purpose_recode_aov\n",
    "purpose_recode_aov <- aov(funded_amnt ~ purpose_recode, data = lendingclub)"
   ]
  },
  {
   "cell_type": "code",
   "execution_count": 69,
   "metadata": {},
   "outputs": [
    {
     "data": {
      "text/plain": [
       "                 Df    Sum Sq   Mean Sq F value  Pr(>F)    \n",
       "purpose_recode    5 3.689e+09 737756668   10.75 3.6e-10 ***\n",
       "Residuals      1494 1.025e+11  68629950                    \n",
       "---\n",
       "Signif. codes:  0 '***' 0.001 '**' 0.01 '*' 0.05 '.' 0.1 ' ' 1"
      ]
     },
     "metadata": {},
     "output_type": "display_data"
    }
   ],
   "source": [
    "summary(purpose_recode_aov)"
   ]
  },
  {
   "cell_type": "code",
   "execution_count": 70,
   "metadata": {
    "collapsed": true
   },
   "outputs": [],
   "source": [
    "# Conduct Tukey's HSD test to create tukey_output\n",
    "tukey_output <- TukeyHSD(purpose_recode_aov, conf.level = 0.95)"
   ]
  },
  {
   "cell_type": "code",
   "execution_count": 71,
   "metadata": {},
   "outputs": [
    {
     "data": {
      "text/html": [
       "<table>\n",
       "<thead><tr><th scope=col>term</th><th scope=col>comparison</th><th scope=col>estimate</th><th scope=col>conf.low</th><th scope=col>conf.high</th><th scope=col>adj.p.value</th></tr></thead>\n",
       "<tbody>\n",
       "\t<tr><td>purpose_recode               </td><td>debt_related-big_purchase    </td><td> 5433.5497                   </td><td>  1808.4015                  </td><td> 9058.698                    </td><td>2.905254e-04                 </td></tr>\n",
       "\t<tr><td>purpose_recode               </td><td>home_related-big_purchase    </td><td> 4845.0126                   </td><td>   562.0345                  </td><td> 9127.991                    </td><td>1.606975e-02                 </td></tr>\n",
       "\t<tr><td>purpose_recode               </td><td>life_change-big_purchase     </td><td> 4095.2652                   </td><td> -2174.3728                  </td><td>10364.903                    </td><td>4.250779e-01                 </td></tr>\n",
       "\t<tr><td>purpose_recode               </td><td>other-big_purchase           </td><td> -649.3001                   </td><td> -5209.7754                  </td><td> 3911.175                    </td><td>9.985823e-01                 </td></tr>\n",
       "\t<tr><td>purpose_recode               </td><td>renewable_energy-big_purchase</td><td>-1796.4015                   </td><td>-15901.7471                  </td><td>12308.944                    </td><td>9.991732e-01                 </td></tr>\n",
       "\t<tr><td>purpose_recode               </td><td>home_related-debt_related    </td><td> -588.5371                   </td><td> -3055.5905                  </td><td> 1878.516                    </td><td>9.840871e-01                 </td></tr>\n",
       "\t<tr><td>purpose_recode               </td><td>life_change-debt_related     </td><td>-1338.2845                   </td><td> -6539.3240                  </td><td> 3862.755                    </td><td>9.776960e-01                 </td></tr>\n",
       "\t<tr><td>purpose_recode               </td><td>other-debt_related           </td><td>-6082.8498                   </td><td> -9005.2437                  </td><td>-3160.456                    </td><td>5.321224e-08                 </td></tr>\n",
       "\t<tr><td>purpose_recode               </td><td>renewable_energy-debt_related</td><td>-7229.9512                   </td><td>-20893.8901                  </td><td> 6433.988                    </td><td>6.580011e-01                 </td></tr>\n",
       "\t<tr><td>purpose_recode               </td><td>life_change-home_related     </td><td> -749.7475                   </td><td> -6428.9211                  </td><td> 4929.426                    </td><td>9.990158e-01                 </td></tr>\n",
       "\t<tr><td>purpose_recode               </td><td>other-home_related           </td><td>-5494.3127                   </td><td> -9201.4124                  </td><td>-1787.213                    </td><td>3.576380e-04                 </td></tr>\n",
       "\t<tr><td>purpose_recode               </td><td>renewable_energy-home_related</td><td>-6641.4141                   </td><td>-20494.4076                  </td><td> 7211.579                    </td><td>7.462798e-01                 </td></tr>\n",
       "\t<tr><td>purpose_recode               </td><td>other-life_change            </td><td>-4744.5652                   </td><td>-10635.8339                  </td><td> 1146.703                    </td><td>1.953886e-01                 </td></tr>\n",
       "\t<tr><td>purpose_recode               </td><td>renewable_energy-life_change </td><td>-5891.6667                   </td><td>-20481.7279                  </td><td> 8698.395                    </td><td>8.592034e-01                 </td></tr>\n",
       "\t<tr><td>purpose_recode               </td><td>renewable_energy-other       </td><td>-1147.1014                   </td><td>-15088.3877                  </td><td>12794.185                    </td><td>9.999029e-01                 </td></tr>\n",
       "</tbody>\n",
       "</table>\n"
      ],
      "text/latex": [
       "\\begin{tabular}{r|llllll}\n",
       " term & comparison & estimate & conf.low & conf.high & adj.p.value\\\\\n",
       "\\hline\n",
       "\t purpose\\_recode                  & debt\\_related-big\\_purchase     &  5433.5497                        &   1808.4015                       &  9058.698                         & 2.905254e-04                     \\\\\n",
       "\t purpose\\_recode                  & home\\_related-big\\_purchase     &  4845.0126                        &    562.0345                       &  9127.991                         & 1.606975e-02                     \\\\\n",
       "\t purpose\\_recode                  & life\\_change-big\\_purchase      &  4095.2652                        &  -2174.3728                       & 10364.903                         & 4.250779e-01                     \\\\\n",
       "\t purpose\\_recode                & other-big\\_purchase            &  -649.3001                      &  -5209.7754                     &  3911.175                       & 9.985823e-01                   \\\\\n",
       "\t purpose\\_recode                  & renewable\\_energy-big\\_purchase & -1796.4015                        & -15901.7471                       & 12308.944                         & 9.991732e-01                     \\\\\n",
       "\t purpose\\_recode                  & home\\_related-debt\\_related     &  -588.5371                        &  -3055.5905                       &  1878.516                         & 9.840871e-01                     \\\\\n",
       "\t purpose\\_recode                  & life\\_change-debt\\_related      & -1338.2845                        &  -6539.3240                       &  3862.755                         & 9.776960e-01                     \\\\\n",
       "\t purpose\\_recode                & other-debt\\_related            & -6082.8498                      &  -9005.2437                     & -3160.456                       & 5.321224e-08                   \\\\\n",
       "\t purpose\\_recode                  & renewable\\_energy-debt\\_related & -7229.9512                        & -20893.8901                       &  6433.988                         & 6.580011e-01                     \\\\\n",
       "\t purpose\\_recode                  & life\\_change-home\\_related      &  -749.7475                        &  -6428.9211                       &  4929.426                         & 9.990158e-01                     \\\\\n",
       "\t purpose\\_recode                & other-home\\_related            & -5494.3127                      &  -9201.4124                     & -1787.213                       & 3.576380e-04                   \\\\\n",
       "\t purpose\\_recode                  & renewable\\_energy-home\\_related & -6641.4141                        & -20494.4076                       &  7211.579                         & 7.462798e-01                     \\\\\n",
       "\t purpose\\_recode                & other-life\\_change             & -4744.5652                      & -10635.8339                     &  1146.703                       & 1.953886e-01                   \\\\\n",
       "\t purpose\\_recode                  & renewable\\_energy-life\\_change  & -5891.6667                        & -20481.7279                       &  8698.395                         & 8.592034e-01                     \\\\\n",
       "\t purpose\\_recode                & renewable\\_energy-other        & -1147.1014                      & -15088.3877                     & 12794.185                       & 9.999029e-01                   \\\\\n",
       "\\end{tabular}\n"
      ],
      "text/markdown": [
       "\n",
       "term | comparison | estimate | conf.low | conf.high | adj.p.value | \n",
       "|---|---|---|---|---|---|---|---|---|---|---|---|---|---|---|\n",
       "| purpose_recode                | debt_related-big_purchase     |  5433.5497                    |   1808.4015                   |  9058.698                     | 2.905254e-04                  | \n",
       "| purpose_recode                | home_related-big_purchase     |  4845.0126                    |    562.0345                   |  9127.991                     | 1.606975e-02                  | \n",
       "| purpose_recode                | life_change-big_purchase      |  4095.2652                    |  -2174.3728                   | 10364.903                     | 4.250779e-01                  | \n",
       "| purpose_recode                | other-big_purchase            |  -649.3001                    |  -5209.7754                   |  3911.175                     | 9.985823e-01                  | \n",
       "| purpose_recode                | renewable_energy-big_purchase | -1796.4015                    | -15901.7471                   | 12308.944                     | 9.991732e-01                  | \n",
       "| purpose_recode                | home_related-debt_related     |  -588.5371                    |  -3055.5905                   |  1878.516                     | 9.840871e-01                  | \n",
       "| purpose_recode                | life_change-debt_related      | -1338.2845                    |  -6539.3240                   |  3862.755                     | 9.776960e-01                  | \n",
       "| purpose_recode                | other-debt_related            | -6082.8498                    |  -9005.2437                   | -3160.456                     | 5.321224e-08                  | \n",
       "| purpose_recode                | renewable_energy-debt_related | -7229.9512                    | -20893.8901                   |  6433.988                     | 6.580011e-01                  | \n",
       "| purpose_recode                | life_change-home_related      |  -749.7475                    |  -6428.9211                   |  4929.426                     | 9.990158e-01                  | \n",
       "| purpose_recode                | other-home_related            | -5494.3127                    |  -9201.4124                   | -1787.213                     | 3.576380e-04                  | \n",
       "| purpose_recode                | renewable_energy-home_related | -6641.4141                    | -20494.4076                   |  7211.579                     | 7.462798e-01                  | \n",
       "| purpose_recode                | other-life_change             | -4744.5652                    | -10635.8339                   |  1146.703                     | 1.953886e-01                  | \n",
       "| purpose_recode                | renewable_energy-life_change  | -5891.6667                    | -20481.7279                   |  8698.395                     | 8.592034e-01                  | \n",
       "| purpose_recode                | renewable_energy-other        | -1147.1014                    | -15088.3877                   | 12794.185                     | 9.999029e-01                  | \n",
       "\n",
       "\n"
      ],
      "text/plain": [
       "   term           comparison                    estimate   conf.low   \n",
       "1  purpose_recode debt_related-big_purchase      5433.5497   1808.4015\n",
       "2  purpose_recode home_related-big_purchase      4845.0126    562.0345\n",
       "3  purpose_recode life_change-big_purchase       4095.2652  -2174.3728\n",
       "4  purpose_recode other-big_purchase             -649.3001  -5209.7754\n",
       "5  purpose_recode renewable_energy-big_purchase -1796.4015 -15901.7471\n",
       "6  purpose_recode home_related-debt_related      -588.5371  -3055.5905\n",
       "7  purpose_recode life_change-debt_related      -1338.2845  -6539.3240\n",
       "8  purpose_recode other-debt_related            -6082.8498  -9005.2437\n",
       "9  purpose_recode renewable_energy-debt_related -7229.9512 -20893.8901\n",
       "10 purpose_recode life_change-home_related       -749.7475  -6428.9211\n",
       "11 purpose_recode other-home_related            -5494.3127  -9201.4124\n",
       "12 purpose_recode renewable_energy-home_related -6641.4141 -20494.4076\n",
       "13 purpose_recode other-life_change             -4744.5652 -10635.8339\n",
       "14 purpose_recode renewable_energy-life_change  -5891.6667 -20481.7279\n",
       "15 purpose_recode renewable_energy-other        -1147.1014 -15088.3877\n",
       "   conf.high adj.p.value \n",
       "1   9058.698 2.905254e-04\n",
       "2   9127.991 1.606975e-02\n",
       "3  10364.903 4.250779e-01\n",
       "4   3911.175 9.985823e-01\n",
       "5  12308.944 9.991732e-01\n",
       "6   1878.516 9.840871e-01\n",
       "7   3862.755 9.776960e-01\n",
       "8  -3160.456 5.321224e-08\n",
       "9   6433.988 6.580011e-01\n",
       "10  4929.426 9.990158e-01\n",
       "11 -1787.213 3.576380e-04\n",
       "12  7211.579 7.462798e-01\n",
       "13  1146.703 1.953886e-01\n",
       "14  8698.395 8.592034e-01\n",
       "15 12794.185 9.999029e-01"
      ]
     },
     "metadata": {},
     "output_type": "display_data"
    }
   ],
   "source": [
    "# Tidy tukey_output to make sense of the results\n",
    "tidy(tukey_output)"
   ]
  },
  {
   "cell_type": "markdown",
   "metadata": {},
   "source": [
    "The output gives the difference in means, confidence levels and the adjusted p-values for all possible pairs. The confidence levels and low p-values show significant between-group difference. The results can also be plotted."
   ]
  },
  {
   "cell_type": "code",
   "execution_count": 72,
   "metadata": {},
   "outputs": [
    {
     "data": {
      "image/png": "[encoded data removed]",
      "text/plain": [
       "Plot with title \"95% family-wise confidence level\n",
       "\""
      ]
     },
     "metadata": {},
     "output_type": "display_data"
    }
   ],
   "source": [
    "plot(tukey_output)"
   ]
  },
  {
   "cell_type": "markdown",
   "metadata": {},
   "source": [
    "Now, let's look to see what other factors may be influencing the funded loan amount."
   ]
  },
  {
   "cell_type": "markdown",
   "metadata": {},
   "source": [
    "### Multiple Factor Experiments\n",
    "We tested whether purpose of a loan affects loan amount funded and found that it does. However, we also know that it's unlikely that loans are funded based only on their intended purpose. It's more likely that the company is looking at a holistic picture of an applicant before they decide to issue a loan.\n",
    "\n",
    "We can examine more than one explanatory factor in a multiple factor experiment. Like our experiments on ToothGrowth, an experimenter can try and control two (or more!) different factors and see how they affect the outcome. We're using open data, so we can't quite control the factors here (they're submitted as someone fills out their loan application), but let's look at how a few other factors affect loan amount funded."
   ]
  },
  {
   "cell_type": "code",
   "execution_count": 73,
   "metadata": {
    "collapsed": true
   },
   "outputs": [],
   "source": [
    "# Use aov() to build purpose_emp_aov\n",
    "purpose_emp_aov <- aov(funded_amnt ~ purpose_recode + emp_length, data = lendingclub)"
   ]
  },
  {
   "cell_type": "code",
   "execution_count": 74,
   "metadata": {},
   "outputs": [
    {
     "data": {
      "text/plain": [
       "                 Df    Sum Sq   Mean Sq F value   Pr(>F)    \n",
       "purpose_recode    5 3.689e+09 737756668  10.888 2.63e-10 ***\n",
       "emp_length       11 2.044e+09 185843019   2.743  0.00161 ** \n",
       "Residuals      1483 1.005e+11  67760534                     \n",
       "---\n",
       "Signif. codes:  0 '***' 0.001 '**' 0.01 '*' 0.05 '.' 0.1 ' ' 1"
      ]
     },
     "metadata": {},
     "output_type": "display_data"
    }
   ],
   "source": [
    "# Call summary() to see the p-values\n",
    "summary(purpose_emp_aov)"
   ]
  },
  {
   "cell_type": "markdown",
   "metadata": {},
   "source": [
    "You could also perform Tukey's HSD test on this aov."
   ]
  },
  {
   "cell_type": "code",
   "execution_count": 75,
   "metadata": {},
   "outputs": [
    {
     "data": {
      "text/html": [
       "<table>\n",
       "<thead><tr><th scope=col>term</th><th scope=col>comparison</th><th scope=col>estimate</th><th scope=col>conf.low</th><th scope=col>conf.high</th><th scope=col>adj.p.value</th></tr></thead>\n",
       "<tbody>\n",
       "\t<tr><td>purpose_recode               </td><td>debt_related-big_purchase    </td><td> 5433.5497                   </td><td>  1831.4019                  </td><td> 9035.697                    </td><td>0.0002577867                 </td></tr>\n",
       "\t<tr><td>purpose_recode               </td><td>home_related-big_purchase    </td><td> 4845.0126                   </td><td>   589.2087                  </td><td> 9100.817                    </td><td>0.0150249873                 </td></tr>\n",
       "\t<tr><td>purpose_recode               </td><td>life_change-big_purchase     </td><td> 4095.2652                   </td><td> -2134.5939                  </td><td>10325.124                    </td><td>0.4175787052                 </td></tr>\n",
       "\t<tr><td>purpose_recode               </td><td>other-big_purchase           </td><td> -649.3001                   </td><td> -5180.8406                  </td><td> 3882.240                    </td><td>0.9985381187                 </td></tr>\n",
       "\t<tr><td>purpose_recode               </td><td>renewable_energy-big_purchase</td><td>-1796.4015                   </td><td>-15812.2532                  </td><td>12219.450                    </td><td>0.9991472224                 </td></tr>\n",
       "\t<tr><td>purpose_recode               </td><td>home_related-debt_related    </td><td> -588.5371                   </td><td> -3039.9379                  </td><td> 1862.864                    </td><td>0.9836241017                 </td></tr>\n",
       "</tbody>\n",
       "</table>\n"
      ],
      "text/latex": [
       "\\begin{tabular}{r|llllll}\n",
       " term & comparison & estimate & conf.low & conf.high & adj.p.value\\\\\n",
       "\\hline\n",
       "\t purpose\\_recode                  & debt\\_related-big\\_purchase     &  5433.5497                        &   1831.4019                       &  9035.697                         & 0.0002577867                     \\\\\n",
       "\t purpose\\_recode                  & home\\_related-big\\_purchase     &  4845.0126                        &    589.2087                       &  9100.817                         & 0.0150249873                     \\\\\n",
       "\t purpose\\_recode                  & life\\_change-big\\_purchase      &  4095.2652                        &  -2134.5939                       & 10325.124                         & 0.4175787052                     \\\\\n",
       "\t purpose\\_recode                & other-big\\_purchase            &  -649.3001                      &  -5180.8406                     &  3882.240                       & 0.9985381187                   \\\\\n",
       "\t purpose\\_recode                  & renewable\\_energy-big\\_purchase & -1796.4015                        & -15812.2532                       & 12219.450                         & 0.9991472224                     \\\\\n",
       "\t purpose\\_recode                  & home\\_related-debt\\_related     &  -588.5371                        &  -3039.9379                       &  1862.864                         & 0.9836241017                     \\\\\n",
       "\\end{tabular}\n"
      ],
      "text/markdown": [
       "\n",
       "term | comparison | estimate | conf.low | conf.high | adj.p.value | \n",
       "|---|---|---|---|---|---|\n",
       "| purpose_recode                | debt_related-big_purchase     |  5433.5497                    |   1831.4019                   |  9035.697                     | 0.0002577867                  | \n",
       "| purpose_recode                | home_related-big_purchase     |  4845.0126                    |    589.2087                   |  9100.817                     | 0.0150249873                  | \n",
       "| purpose_recode                | life_change-big_purchase      |  4095.2652                    |  -2134.5939                   | 10325.124                     | 0.4175787052                  | \n",
       "| purpose_recode                | other-big_purchase            |  -649.3001                    |  -5180.8406                   |  3882.240                     | 0.9985381187                  | \n",
       "| purpose_recode                | renewable_energy-big_purchase | -1796.4015                    | -15812.2532                   | 12219.450                     | 0.9991472224                  | \n",
       "| purpose_recode                | home_related-debt_related     |  -588.5371                    |  -3039.9379                   |  1862.864                     | 0.9836241017                  | \n",
       "\n",
       "\n"
      ],
      "text/plain": [
       "  term           comparison                    estimate   conf.low    conf.high\n",
       "1 purpose_recode debt_related-big_purchase      5433.5497   1831.4019  9035.697\n",
       "2 purpose_recode home_related-big_purchase      4845.0126    589.2087  9100.817\n",
       "3 purpose_recode life_change-big_purchase       4095.2652  -2134.5939 10325.124\n",
       "4 purpose_recode other-big_purchase             -649.3001  -5180.8406  3882.240\n",
       "5 purpose_recode renewable_energy-big_purchase -1796.4015 -15812.2532 12219.450\n",
       "6 purpose_recode home_related-debt_related      -588.5371  -3039.9379  1862.864\n",
       "  adj.p.value \n",
       "1 0.0002577867\n",
       "2 0.0150249873\n",
       "3 0.4175787052\n",
       "4 0.9985381187\n",
       "5 0.9991472224\n",
       "6 0.9836241017"
      ]
     },
     "metadata": {},
     "output_type": "display_data"
    }
   ],
   "source": [
    "head(tidy(TukeyHSD(purpose_emp_aov, conf.level = 0.95)))"
   ]
  },
  {
   "cell_type": "markdown",
   "metadata": {
    "collapsed": true
   },
   "source": [
    "## Model validation\n",
    "\n",
    "Previously, we built a few linear models with lm() and aov() functions plus an anova table with the anova() function. We also did some premodelling EDA but we skipped something pretty crucial. \n",
    "\n",
    "Before modelling, you should do some EDA of your data. Let's say lending club asked you to examine the funded amount amount of the loan based on the verification status. Verification Status is a variable that indicates if the applicants' reported income was verified by Lending Club, another source, or not verified. We looked at the mean and variance in the last lesson. We didn't group by the purpose variable because it hadn't been recoded yet. "
   ]
  },
  {
   "cell_type": "code",
   "execution_count": 76,
   "metadata": {},
   "outputs": [
    {
     "data": {
      "text/html": [
       "<table>\n",
       "<thead><tr><th scope=col>median(loan_amnt)</th><th scope=col>mean(int_rate)</th><th scope=col>mean(annual_inc)</th></tr></thead>\n",
       "<tbody>\n",
       "\t<tr><td>13000   </td><td>13.31472</td><td>75736.03</td></tr>\n",
       "</tbody>\n",
       "</table>\n"
      ],
      "text/latex": [
       "\\begin{tabular}{r|lll}\n",
       " median(loan\\_amnt) & mean(int\\_rate) & mean(annual\\_inc)\\\\\n",
       "\\hline\n",
       "\t 13000    & 13.31472 & 75736.03\\\\\n",
       "\\end{tabular}\n"
      ],
      "text/markdown": [
       "\n",
       "median(loan_amnt) | mean(int_rate) | mean(annual_inc) | \n",
       "|---|\n",
       "| 13000    | 13.31472 | 75736.03 | \n",
       "\n",
       "\n"
      ],
      "text/plain": [
       "  median(loan_amnt) mean(int_rate) mean(annual_inc)\n",
       "1 13000             13.31472       75736.03        "
      ]
     },
     "metadata": {},
     "output_type": "display_data"
    }
   ],
   "source": [
    "lendingclub %>% \n",
    "    summarise(median(loan_amnt), \n",
    "                mean(int_rate), \n",
    "                 mean(annual_inc))"
   ]
  },
  {
   "cell_type": "code",
   "execution_count": 77,
   "metadata": {},
   "outputs": [
    {
     "data": {
      "text/html": [
       "<table>\n",
       "<thead><tr><th scope=col>verification_status</th><th scope=col>mean(funded_amnt)</th><th scope=col>var(funded_amnt)</th></tr></thead>\n",
       "<tbody>\n",
       "\t<tr><td>Not Verified   </td><td>11018.39       </td><td>33994991       </td></tr>\n",
       "\t<tr><td>Source Verified</td><td>15154.88       </td><td>70477801       </td></tr>\n",
       "\t<tr><td>Verified       </td><td>17561.88       </td><td>82211449       </td></tr>\n",
       "</tbody>\n",
       "</table>\n"
      ],
      "text/latex": [
       "\\begin{tabular}{r|lll}\n",
       " verification\\_status & mean(funded\\_amnt) & var(funded\\_amnt)\\\\\n",
       "\\hline\n",
       "\t Not Verified    & 11018.39        & 33994991       \\\\\n",
       "\t Source Verified & 15154.88        & 70477801       \\\\\n",
       "\t Verified        & 17561.88        & 82211449       \\\\\n",
       "\\end{tabular}\n"
      ],
      "text/markdown": [
       "\n",
       "verification_status | mean(funded_amnt) | var(funded_amnt) | \n",
       "|---|---|---|\n",
       "| Not Verified    | 11018.39        | 33994991        | \n",
       "| Source Verified | 15154.88        | 70477801        | \n",
       "| Verified        | 17561.88        | 82211449        | \n",
       "\n",
       "\n"
      ],
      "text/plain": [
       "  verification_status mean(funded_amnt) var(funded_amnt)\n",
       "1 Not Verified        11018.39          33994991        \n",
       "2 Source Verified     15154.88          70477801        \n",
       "3 Verified            17561.88          82211449        "
      ]
     },
     "metadata": {},
     "output_type": "display_data"
    }
   ],
   "source": [
    "lendingclub %>%\n",
    "    group_by(verification_status) %>%\n",
    "    summarise(mean(funded_amnt), \n",
    "                 var(funded_amnt))"
   ]
  },
  {
   "cell_type": "markdown",
   "metadata": {},
   "source": [
    "The above code gives us the median and variance of funded amount. There's more though!\n",
    "\n",
    "While a boxplot is the kind of graph that non data scientists don't always respond to, the biggest misconception is that people think the median is the mean. It's often nice to build one for yourself to see the interquartile range of the variable. \n",
    "\n"
   ]
  },
  {
   "cell_type": "code",
   "execution_count": 78,
   "metadata": {},
   "outputs": [
    {
     "data": {},
     "metadata": {},
     "output_type": "display_data"
    },
    {
     "data": {
      "image/png": "[encoded data removed]",
      "text/plain": [
       "plot without title"
      ]
     },
     "metadata": {},
     "output_type": "display_data"
    }
   ],
   "source": [
    "ggplot(data = lendingclub, aes(x = verification_status, y = funded_amnt)) + \n",
    "    geom_boxplot()"
   ]
  },
  {
   "cell_type": "markdown",
   "metadata": {},
   "source": [
    "The boxplot here shows no obvious outliers, though there are a few extreme observations on the \"not verified\" category. \"Sourced Verified\" and \"Verified\" has very similar distributions. This is very good and you can continue modelling. \n",
    "\n",
    "Let's skip ahead and say that you built the ANOVA model for funded amount by verification status and found that the mean funded amount for different verficiation statuses are significantly different. Furthermore, you did Tukey's HSD test and found that only \"Verified\" compared to \"Source Verified\" is not significantly different from one another. \n",
    "\n",
    "Now what? \n",
    "\n",
    "Now comes post-modelling model validation. This can include looking at different plots, such as a residual or residual versus fitted values plot or a qqplot, testing ANOVA assumptions such as the homogeneity, or the sameness of variances, or even trying non-parametric alternative to ANOVA, such as a the Kruskal-Wallis test. \n",
    "\n",
    "<img src=\"images/post-modelling-validation.JPG\">\n",
    "\n",
    "Non-parametric just means that the test does not assume that the data came from a particular statistical distribution, the way that ANOVA tests assume data is normally distributed. The residuals vs fitted plot will show if the model is a good fit (if there is a similar scatter pattern for each level of the group variable). If we saw a different pattern for each level, we could begin to think that there's heteroscedasticity in the residuals, and that the model may not be a great fit. \n",
    "\n",
    "The normal QQ plot should, ideally, show the points scattered around the regression line. One assumption of ANOVA and linear models is that the residuals are normally distributed. If that proves not to be true, your model might not be a good fit, and you may need to try adding explanatory variables or try different modelling techniques. \n",
    "\n",
    "The other 2 graphs are less commonly discussed, but also have intepretations relevant to your model. A good fit would show in your Scale-Location plot as the residuals increasing with the fitted values (we see that here). The Residuals vs Leverage plot shows which levels are best fitted to the model (here, the smaller levels seem to better fit). "
   ]
  },
  {
   "cell_type": "markdown",
   "metadata": {},
   "source": [
    "### Pre-modeling EDA\n",
    "Let's do some EDA with our experiment in mind. Lending Club has now asked you, their data scientist, to examine what effect their LC-assigned loan grade variable has on the int_rate. They're interested to see if the grade they assign the applicant during the process of applying for the loan affects the interest rate ultimately assigned to the applicant for the repayment process."
   ]
  },
  {
   "cell_type": "code",
   "execution_count": 79,
   "metadata": {},
   "outputs": [
    {
     "data": {
      "text/html": [
       "<table>\n",
       "<thead><tr><th scope=col>member_id</th><th scope=col>loan_amnt</th><th scope=col>funded_amnt</th><th scope=col>term</th><th scope=col>int_rate</th><th scope=col>emp_length</th><th scope=col>home_ownership</th><th scope=col>annual_inc</th><th scope=col>verification_status</th><th scope=col>loan_status</th><th scope=col>purpose</th><th scope=col>grade</th><th scope=col>purpose_recode</th></tr></thead>\n",
       "<tbody>\n",
       "\t<tr><td>55096114          </td><td>11000             </td><td>11000             </td><td>36 months         </td><td>12.69             </td><td>10+ years         </td><td>RENT              </td><td>51000             </td><td>Not Verified      </td><td>Current           </td><td>debt_consolidation</td><td>C                 </td><td>debt_related      </td></tr>\n",
       "\t<tr><td> 1555332          </td><td>10000             </td><td>10000             </td><td>36 months         </td><td> 6.62             </td><td>10+ years         </td><td>MORTGAGE          </td><td>40000             </td><td>Verified          </td><td>Fully Paid        </td><td>debt_consolidation</td><td>A                 </td><td>debt_related      </td></tr>\n",
       "\t<tr><td> 1009151          </td><td>13000             </td><td>13000             </td><td>60 months         </td><td>10.99             </td><td>3 years           </td><td>MORTGAGE          </td><td>78204             </td><td>Not Verified      </td><td>Fully Paid        </td><td>home_improvement  </td><td>B                 </td><td>home_related      </td></tr>\n",
       "</tbody>\n",
       "</table>\n"
      ],
      "text/latex": [
       "\\begin{tabular}{r|lllllllllllll}\n",
       " member\\_id & loan\\_amnt & funded\\_amnt & term & int\\_rate & emp\\_length & home\\_ownership & annual\\_inc & verification\\_status & loan\\_status & purpose & grade & purpose\\_recode\\\\\n",
       "\\hline\n",
       "\t 55096114             & 11000                & 11000                & 36 months            & 12.69                & 10+ years            & RENT                 & 51000                & Not Verified         & Current              & debt\\_consolidation & C                    & debt\\_related      \\\\\n",
       "\t  1555332             & 10000                & 10000                & 36 months            &  6.62                & 10+ years            & MORTGAGE             & 40000                & Verified             & Fully Paid           & debt\\_consolidation & A                    & debt\\_related      \\\\\n",
       "\t  1009151             & 13000                & 13000                & 60 months            & 10.99                & 3 years              & MORTGAGE             & 78204                & Not Verified         & Fully Paid           & home\\_improvement   & B                    & home\\_related      \\\\\n",
       "\\end{tabular}\n"
      ],
      "text/markdown": [
       "\n",
       "member_id | loan_amnt | funded_amnt | term | int_rate | emp_length | home_ownership | annual_inc | verification_status | loan_status | purpose | grade | purpose_recode | \n",
       "|---|---|---|\n",
       "| 55096114           | 11000              | 11000              | 36 months          | 12.69              | 10+ years          | RENT               | 51000              | Not Verified       | Current            | debt_consolidation | C                  | debt_related       | \n",
       "|  1555332           | 10000              | 10000              | 36 months          |  6.62              | 10+ years          | MORTGAGE           | 40000              | Verified           | Fully Paid         | debt_consolidation | A                  | debt_related       | \n",
       "|  1009151           | 13000              | 13000              | 60 months          | 10.99              | 3 years            | MORTGAGE           | 78204              | Not Verified       | Fully Paid         | home_improvement   | B                  | home_related       | \n",
       "\n",
       "\n"
      ],
      "text/plain": [
       "  member_id loan_amnt funded_amnt term      int_rate emp_length home_ownership\n",
       "1 55096114  11000     11000       36 months 12.69    10+ years  RENT          \n",
       "2  1555332  10000     10000       36 months  6.62    10+ years  MORTGAGE      \n",
       "3  1009151  13000     13000       60 months 10.99    3 years    MORTGAGE      \n",
       "  annual_inc verification_status loan_status purpose            grade\n",
       "1 51000      Not Verified        Current     debt_consolidation C    \n",
       "2 40000      Verified            Fully Paid  debt_consolidation A    \n",
       "3 78204      Not Verified        Fully Paid  home_improvement   B    \n",
       "  purpose_recode\n",
       "1 debt_related  \n",
       "2 debt_related  \n",
       "3 home_related  "
      ]
     },
     "metadata": {},
     "output_type": "display_data"
    }
   ],
   "source": [
    "head(lendingclub, 3)"
   ]
  },
  {
   "cell_type": "code",
   "execution_count": 80,
   "metadata": {},
   "outputs": [
    {
     "data": {
      "text/plain": [
       "   Min. 1st Qu.  Median    Mean 3rd Qu.    Max. \n",
       "   5.32    9.99   12.99   13.31   16.29   26.77 "
      ]
     },
     "metadata": {},
     "output_type": "display_data"
    }
   ],
   "source": [
    "summary(lendingclub$int_rate)"
   ]
  },
  {
   "cell_type": "code",
   "execution_count": 81,
   "metadata": {},
   "outputs": [
    {
     "data": {
      "text/html": [
       "<table>\n",
       "<thead><tr><th scope=col>grade</th><th scope=col>mean</th><th scope=col>var</th><th scope=col>median</th></tr></thead>\n",
       "<tbody>\n",
       "\t<tr><td>A        </td><td> 7.270866</td><td>0.9610641</td><td> 7.26    </td></tr>\n",
       "\t<tr><td>B        </td><td>10.915411</td><td>2.0810249</td><td>10.99    </td></tr>\n",
       "\t<tr><td>C        </td><td>13.978147</td><td>1.4243271</td><td>13.98    </td></tr>\n",
       "\t<tr><td>D        </td><td>17.373852</td><td>1.6193662</td><td>17.56    </td></tr>\n",
       "\t<tr><td>E        </td><td>20.092764</td><td>2.7079054</td><td>19.99    </td></tr>\n",
       "\t<tr><td>F        </td><td>23.586750</td><td>2.8664738</td><td>23.50    </td></tr>\n",
       "\t<tr><td>G        </td><td>26.120000</td><td>0.1983667</td><td>25.89    </td></tr>\n",
       "</tbody>\n",
       "</table>\n"
      ],
      "text/latex": [
       "\\begin{tabular}{r|llll}\n",
       " grade & mean & var & median\\\\\n",
       "\\hline\n",
       "\t A         &  7.270866 & 0.9610641 &  7.26    \\\\\n",
       "\t B         & 10.915411 & 2.0810249 & 10.99    \\\\\n",
       "\t C         & 13.978147 & 1.4243271 & 13.98    \\\\\n",
       "\t D         & 17.373852 & 1.6193662 & 17.56    \\\\\n",
       "\t E         & 20.092764 & 2.7079054 & 19.99    \\\\\n",
       "\t F         & 23.586750 & 2.8664738 & 23.50    \\\\\n",
       "\t G         & 26.120000 & 0.1983667 & 25.89    \\\\\n",
       "\\end{tabular}\n"
      ],
      "text/markdown": [
       "\n",
       "grade | mean | var | median | \n",
       "|---|---|---|---|---|---|---|\n",
       "| A         |  7.270866 | 0.9610641 |  7.26     | \n",
       "| B         | 10.915411 | 2.0810249 | 10.99     | \n",
       "| C         | 13.978147 | 1.4243271 | 13.98     | \n",
       "| D         | 17.373852 | 1.6193662 | 17.56     | \n",
       "| E         | 20.092764 | 2.7079054 | 19.99     | \n",
       "| F         | 23.586750 | 2.8664738 | 23.50     | \n",
       "| G         | 26.120000 | 0.1983667 | 25.89     | \n",
       "\n",
       "\n"
      ],
      "text/plain": [
       "  grade mean      var       median\n",
       "1 A      7.270866 0.9610641  7.26 \n",
       "2 B     10.915411 2.0810249 10.99 \n",
       "3 C     13.978147 1.4243271 13.98 \n",
       "4 D     17.373852 1.6193662 17.56 \n",
       "5 E     20.092764 2.7079054 19.99 \n",
       "6 F     23.586750 2.8664738 23.50 \n",
       "7 G     26.120000 0.1983667 25.89 "
      ]
     },
     "metadata": {},
     "output_type": "display_data"
    }
   ],
   "source": [
    "# Examine int_rate by grade\n",
    "lendingclub %>% \n",
    "    group_by(grade) %>% \n",
    "    summarise(mean = mean(int_rate), \n",
    "                  var = var(int_rate), \n",
    "                  median = median(int_rate))"
   ]
  },
  {
   "cell_type": "code",
   "execution_count": 82,
   "metadata": {},
   "outputs": [
    {
     "data": {},
     "metadata": {},
     "output_type": "display_data"
    },
    {
     "data": {
      "image/png": "[encoded data removed]",
      "text/plain": [
       "plot without title"
      ]
     },
     "metadata": {},
     "output_type": "display_data"
    }
   ],
   "source": [
    "# Make a boxplot of int_rate by grade\n",
    "ggplot(data = lendingclub, aes(x = grade, y = int_rate)) + geom_boxplot()"
   ]
  },
  {
   "cell_type": "code",
   "execution_count": 83,
   "metadata": {},
   "outputs": [
    {
     "data": {
      "text/plain": [
       "              Df Sum Sq Mean Sq F value Pr(>F)    \n",
       "grade          6  27013    4502    2637 <2e-16 ***\n",
       "Residuals   1493   2549       2                   \n",
       "---\n",
       "Signif. codes:  0 '***' 0.001 '**' 0.01 '*' 0.05 '.' 0.1 ' ' 1"
      ]
     },
     "metadata": {},
     "output_type": "display_data"
    }
   ],
   "source": [
    "# Use aov() to create grade_aov plus call summary() to print results\n",
    "grade_aov <- aov(int_rate ~ grade, data = lendingclub)\n",
    "\n",
    "summary(grade_aov)"
   ]
  },
  {
   "cell_type": "markdown",
   "metadata": {},
   "source": [
    "You can see from the numeric summary and the boxplot that grade seems to heavily influence interest rate, thus the linear model results indicating that int_rate is significantly different by grade are unsurprising."
   ]
  },
  {
   "cell_type": "markdown",
   "metadata": {},
   "source": [
    "### Post-modeling validation plots + variance\n",
    "In the last exercise we found that int_rate does differ by grade. Now we should validate this model, which for linear regression means examining the Residuals vs. Fitted and Normal Q-Q plots.\n",
    "\n",
    "If you call plot() on a model object in R, it will automatically plot both of those plots plus two more. You'll interpret these plots to evaluate model fit. We discussed how to do this in the video.\n",
    "\n",
    "Another assumption of ANOVA and linear modeling is homogeneity of variance. Homogeneity means \"same\", and here that would mean that the variance of int_rate is the same for each level of grade. We can test for homogeneity of variances using bartlett.test(), which takes a formula and a dataset as inputs."
   ]
  },
  {
   "cell_type": "code",
   "execution_count": 84,
   "metadata": {},
   "outputs": [
    {
     "data": {
      "image/png": "[encoded data removed]",
      "text/plain": [
       "Plot with title \"\""
      ]
     },
     "metadata": {},
     "output_type": "display_data"
    }
   ],
   "source": [
    "# For a 2x2 grid of plots:\n",
    "par(mfrow=c(2, 2))\n",
    "\n",
    "# Plot grade_aov\n",
    "plot(grade_aov)"
   ]
  },
  {
   "cell_type": "markdown",
   "metadata": {},
   "source": [
    "The residuals on this model are okay, though the residuals on G have a much smaller range than any other level of grade. The Q-Q plot, however, shows that the residuals are fairly normal."
   ]
  },
  {
   "cell_type": "code",
   "execution_count": 85,
   "metadata": {},
   "outputs": [
    {
     "data": {
      "text/plain": [
       "\n",
       "\tBartlett test of homogeneity of variances\n",
       "\n",
       "data:  int_rate by grade\n",
       "Bartlett's K-squared = 78.549, df = 6, p-value = 7.121e-15\n"
      ]
     },
     "metadata": {},
     "output_type": "display_data"
    }
   ],
   "source": [
    "# Bartlett's test for homogeneity of variance\n",
    "\n",
    "# H0 = Variance is the same for all treatment groups\n",
    "\n",
    "bartlett.test(int_rate ~ grade, data = lendingclub)"
   ]
  },
  {
   "cell_type": "markdown",
   "metadata": {},
   "source": [
    "### Kruskal-Wallis rank sum test\n",
    "One non-parametric alternative to ANOVA is the Kruskal-Wallis rank sum test. For those with some statistics knowledge, it is an extension of the Mann-Whitney U test for when there are more than two groups, such as with our grade variable. Don't worry too much about the math behind the test, but know that the null hypothesis for this test, in our case, would be that all of the int_rates have the same ranking, by grade.\n",
    "\n",
    "The Kruskal-Wallis rank sum test can be conducted using the kruskal.test() function, available in base R. Luckily for you, the use of this function is very similar to using lm() or aov(): you input a formula and a dataset, and a result is returned. We'll utilize it here in the spirit of model validation."
   ]
  },
  {
   "cell_type": "code",
   "execution_count": 86,
   "metadata": {},
   "outputs": [
    {
     "data": {
      "text/plain": [
       "\n",
       "\tKruskal-Wallis rank sum test\n",
       "\n",
       "data:  int_rate by grade\n",
       "Kruskal-Wallis chi-squared = 1365.5, df = 6, p-value < 2.2e-16\n"
      ]
     },
     "metadata": {},
     "output_type": "display_data"
    }
   ],
   "source": [
    "# Conduct the Kruskal-Wallis rank sum test\n",
    "kruskal.test(int_rate ~ grade, data = lendingclub)"
   ]
  },
  {
   "cell_type": "markdown",
   "metadata": {},
   "source": [
    "Results of this test seem to indicate that what we can be confident in our result, which we found across this experiment, that int_rate varies by grade."
   ]
  },
  {
   "cell_type": "markdown",
   "metadata": {},
   "source": [
    "## A/B Testing\n",
    "\n",
    "A/B tests are an incredibly common type of experiment that a data scientist or data analyst might design. A/B tests are often discussed in a marketing context and are very common in marketing related companies, although they're definitely used in other industries as well. One common example of their use is to test customer engagement with different features of a company's website. \n",
    "\n",
    "A/B test is a type of controlled experiment with only 2 variants of something: \n",
    "- 1 word different in a marketing email\n",
    "- Red \"buy\" button on a website vs blue button\n",
    "- How many consumers click through to create an account based on 2 different website headers?\n",
    "\n",
    "One important concept that we'll come back to here is power and sample size calculations, as they're pretty crucial in AB testing. Usually, you'll be calculating sample size, given some power and significance level. Then you let your AB test run until you get the sample size you need. You also need to decide an effect size, just as before. You may have guessed by now that an AB test is simply an application of your basic experimental design knowledge, though they can and do get complicated. \n",
    "\n",
    "An AB test changes one thing and one thing only and measures the difference in outcome between these 2 alternatives. In this section, we'll design and conduct an AB test with the lending club data we've been using. Say Lending Club was interested to see how the color of the website header affected the loan amount, which is how much an application asks to borrow. \n",
    "\n",
    "<img src=\"images/AB.JPG\">\n",
    "\n",
    "They have a general hypothesis that softer, gentler colors may influence applicants to ask for a lower amount of money, perhaps a more reasonable amount that they can more feasibly pay back. They already use a light blue website header but they've decided to test a second softer, gentler color on the website. Applicants designated Group A were funneled to an application with the light blue existing header while applicants designated Group B were funneled to an application with a new mint green header. We'll examine the amount of money the applicant asked for when applying for the loan based on which colored header they were shown - not a traditional AB test, which often focuses on a metric such as click-through rate, which in this case would be the number of people who applied. "
   ]
  },
  {
   "cell_type": "markdown",
   "metadata": {},
   "source": [
    "### Which post-A/B test test?\n",
    "We'll be testing the mean loan_amnt, which is the requested monetary amount the applicants ask for, based on which color header they saw on the Lending Club website. Which statistical test should we use after we've collected enough data?"
   ]
  },
  {
   "cell_type": "markdown",
   "metadata": {},
   "source": [
    "#### We'll be looking at the mean difference in amount of loan the applicants asked for, so a t-test is the ticket!"
   ]
  },
  {
   "cell_type": "markdown",
   "metadata": {},
   "source": [
    "### Sample size for A/B test\n",
    "We know now that we need to analyze our A/B test results with a t-test after we've collected data. We have two pretty important questions we need to answer before we do any of that: what's the effect size and what's the sample size required for this test?\n",
    "\n",
    "In this case, effect size was given to us. Lending Club is looking to detect the small effect size of 0.2. We'll bring back the pwr package and calculate sample size using an appropriate function to find out how many we'll need to recruit into each group, A and B."
   ]
  },
  {
   "cell_type": "code",
   "execution_count": 87,
   "metadata": {},
   "outputs": [
    {
     "data": {
      "text/plain": [
       "\n",
       "     Two-sample t test power calculation \n",
       "\n",
       "              n = 393.4057\n",
       "              d = 0.2\n",
       "      sig.level = 0.05\n",
       "          power = 0.8\n",
       "    alternative = two.sided\n",
       "\n",
       "NOTE: n is number in *each* group\n"
      ]
     },
     "metadata": {},
     "output_type": "display_data"
    }
   ],
   "source": [
    "# Use the function from pwr to find the sample size\n",
    "\n",
    "pwr.t.test(n = NULL, \n",
    "    d = 0.2, \n",
    "    sig.level = 0.05, \n",
    "    power = 0.8)"
   ]
  },
  {
   "cell_type": "markdown",
   "metadata": {},
   "source": [
    "You can see we only need about 400 people per group to reach our desired power in this A/B test."
   ]
  },
  {
   "cell_type": "markdown",
   "metadata": {},
   "source": [
    "### Basic A/B test\n",
    "Now that we know the sample size required we can analyze our A/B test. Remember that when applicants were using the Lending Club website, they were randomly assigned to two groups, A or B, where A was shown a mint green website header and B was shown a light blue website header. Lending Club was interested to see if website header color choice influenced loan_amnt, the amount an applicant asked to borrow.\n",
    "\n",
    "A new dataset, lendingclub_ab is available in your workspace. The A/B test was run until there was 500 in each group because of a love of round numbers in the Lending Club staff. Each applicant has been labeled as group A or B. Conduct the proper test to see if the mean of loan_amnt is different between the two groups."
   ]
  },
  {
   "cell_type": "code",
   "execution_count": 88,
   "metadata": {},
   "outputs": [
    {
     "data": {
      "text/html": [
       "<table>\n",
       "<thead><tr><th scope=col>id</th><th scope=col>Group</th><th scope=col>grade</th><th scope=col>verification_status</th><th scope=col>loan_amnt</th></tr></thead>\n",
       "<tbody>\n",
       "\t<tr><td>1                  </td><td>     A             </td><td>    B              </td><td>           Verified</td><td> 8000              </td></tr>\n",
       "\t<tr><td>2                  </td><td>     A             </td><td>    B              </td><td>       Not Verified</td><td> 1200              </td></tr>\n",
       "\t<tr><td>3                  </td><td>     A             </td><td>    C              </td><td>       Not Verified</td><td>15000              </td></tr>\n",
       "\t<tr><td>4                  </td><td>     A             </td><td>    B              </td><td>           Verified</td><td> 9000              </td></tr>\n",
       "\t<tr><td>5                  </td><td>     A             </td><td>    B              </td><td>    Source Verified</td><td>16000              </td></tr>\n",
       "\t<tr><td>6                  </td><td>     A             </td><td>    C              </td><td>    Source Verified</td><td>15600              </td></tr>\n",
       "</tbody>\n",
       "</table>\n"
      ],
      "text/latex": [
       "\\begin{tabular}{r|lllll}\n",
       " id & Group & grade & verification\\_status & loan\\_amnt\\\\\n",
       "\\hline\n",
       "\t 1                   &      A              &     B               &            Verified &  8000              \\\\\n",
       "\t 2                   &      A              &     B               &        Not Verified &  1200              \\\\\n",
       "\t 3                   &      A              &     C               &        Not Verified & 15000              \\\\\n",
       "\t 4                   &      A              &     B               &            Verified &  9000              \\\\\n",
       "\t 5                   &      A              &     B               &     Source Verified & 16000              \\\\\n",
       "\t 6                   &      A              &     C               &     Source Verified & 15600              \\\\\n",
       "\\end{tabular}\n"
      ],
      "text/markdown": [
       "\n",
       "id | Group | grade | verification_status | loan_amnt | \n",
       "|---|---|---|---|---|---|\n",
       "| 1                   |      A              |     B               |            Verified |  8000               | \n",
       "| 2                   |      A              |     B               |        Not Verified |  1200               | \n",
       "| 3                   |      A              |     C               |        Not Verified | 15000               | \n",
       "| 4                   |      A              |     B               |            Verified |  9000               | \n",
       "| 5                   |      A              |     B               |     Source Verified | 16000               | \n",
       "| 6                   |      A              |     C               |     Source Verified | 15600               | \n",
       "\n",
       "\n"
      ],
      "text/plain": [
       "  id Group   grade  verification_status loan_amnt\n",
       "1 1       A      B             Verified  8000    \n",
       "2 2       A      B         Not Verified  1200    \n",
       "3 3       A      C         Not Verified 15000    \n",
       "4 4       A      B             Verified  9000    \n",
       "5 5       A      B      Source Verified 16000    \n",
       "6 6       A      C      Source Verified 15600    "
      ]
     },
     "metadata": {},
     "output_type": "display_data"
    }
   ],
   "source": [
    "lendingclub_ab <- read.csv(\"datasets/lendingclub_ab.csv\", sep=\";\")\n",
    "\n",
    "head(lendingclub_ab)"
   ]
  },
  {
   "cell_type": "code",
   "execution_count": 89,
   "metadata": {},
   "outputs": [
    {
     "data": {},
     "metadata": {},
     "output_type": "display_data"
    },
    {
     "data": {
      "image/png": "[encoded data removed]",
      "text/plain": [
       "plot without title"
      ]
     },
     "metadata": {},
     "output_type": "display_data"
    }
   ],
   "source": [
    "ggplot(lendingclub_ab, aes(x=Group, y=loan_amnt)) + geom_boxplot()"
   ]
  },
  {
   "cell_type": "code",
   "execution_count": 90,
   "metadata": {},
   "outputs": [
    {
     "data": {
      "text/plain": [
       "\n",
       "\tWelch Two Sample t-test\n",
       "\n",
       "data:  loan_amnt by Group\n",
       "t = -0.58112, df = 997.06, p-value = 0.5613\n",
       "alternative hypothesis: true difference in means is not equal to 0\n",
       "95 percent confidence interval:\n",
       " -1377.1748   747.8748\n",
       "sample estimates:\n",
       "mean in group      A  mean in group      B  \n",
       "             14723.15              15037.80 \n"
      ]
     },
     "metadata": {},
     "output_type": "display_data"
    }
   ],
   "source": [
    "# Conduct a two-sided t-test\n",
    "t.test(loan_amnt ~ Group, data = lendingclub_ab)"
   ]
  },
  {
   "cell_type": "markdown",
   "metadata": {},
   "source": [
    "You can see that there is no compelling evidence to support a difference between groups' means of loan amount, a result which you would use to help make data-driven decisions at Lending Club."
   ]
  },
  {
   "cell_type": "markdown",
   "metadata": {},
   "source": [
    "### A/B tests vs. multivariable experiments\n",
    "The point of an A/B test is that only one thing is changed and the effect of that change is measured. We saw this with our examples in the video and exercises. A multivariate experiment is, instead, like the guinea pig ToothGrowth experiment, where a few things are changed (and is similar to a multiple factor experiment, which we covered earlier in this chapter.)\n",
    "\n",
    "A Lending Club multivariate test can combine all of the explanatory variables we've looked at in this chapter. Let's examine how Group, grade, and verification_status affect loan_amnt in the lendingclub_ab dataset."
   ]
  },
  {
   "cell_type": "code",
   "execution_count": 91,
   "metadata": {},
   "outputs": [
    {
     "data": {
      "text/html": [
       "<table>\n",
       "<thead><tr><th scope=col>term</th><th scope=col>estimate</th><th scope=col>std.error</th><th scope=col>statistic</th><th scope=col>p.value</th></tr></thead>\n",
       "<tbody>\n",
       "\t<tr><td>(Intercept)                           </td><td>17143.6708                            </td><td> 814.7742                             </td><td>21.0410082                            </td><td>1.574042e-81                          </td></tr>\n",
       "\t<tr><td>Group     B                           </td><td>  205.1170                            </td><td> 515.3487                             </td><td> 0.3980159                            </td><td>6.907043e-01                          </td></tr>\n",
       "\t<tr><td>grade    B                            </td><td> -974.5360                            </td><td> 816.9386                             </td><td>-1.1929122                            </td><td>2.331896e-01                          </td></tr>\n",
       "\t<tr><td>grade    C                            </td><td> -631.1408                            </td><td> 806.3614                             </td><td>-0.7827021                            </td><td>4.339892e-01                          </td></tr>\n",
       "\t<tr><td>grade    D                            </td><td>  718.4487                            </td><td> 917.4471                             </td><td> 0.7830955                            </td><td>4.337583e-01                          </td></tr>\n",
       "\t<tr><td>grade    E                            </td><td> 1477.4374                            </td><td>1207.9560                             </td><td> 1.2230887                            </td><td>2.215872e-01                          </td></tr>\n",
       "\t<tr><td>grade    F                            </td><td> 5452.8884                            </td><td>1942.2217                             </td><td> 2.8075519                            </td><td>5.090026e-03                          </td></tr>\n",
       "\t<tr><td>grade    G                            </td><td> 3489.7914                            </td><td>3396.3554                             </td><td> 1.0275107                            </td><td>3.044310e-01                          </td></tr>\n",
       "\t<tr><td>verification_status       Not Verified</td><td>-5899.5089                            </td><td> 667.5782                             </td><td>-8.8371807                            </td><td>4.405521e-18                          </td></tr>\n",
       "\t<tr><td>verification_status    Source Verified</td><td>-1371.2411                            </td><td> 614.5653                             </td><td>-2.2312374                            </td><td>2.588868e-02                          </td></tr>\n",
       "</tbody>\n",
       "</table>\n"
      ],
      "text/latex": [
       "\\begin{tabular}{r|lllll}\n",
       " term & estimate & std.error & statistic & p.value\\\\\n",
       "\\hline\n",
       "\t (Intercept)                            & 17143.6708                             &  814.7742                              & 21.0410082                             & 1.574042e-81                          \\\\\n",
       "\t Group     B                            &   205.1170                             &  515.3487                              &  0.3980159                             & 6.907043e-01                          \\\\\n",
       "\t grade    B                             &  -974.5360                             &  816.9386                              & -1.1929122                             & 2.331896e-01                          \\\\\n",
       "\t grade    C                             &  -631.1408                             &  806.3614                              & -0.7827021                             & 4.339892e-01                          \\\\\n",
       "\t grade    D                             &   718.4487                             &  917.4471                              &  0.7830955                             & 4.337583e-01                          \\\\\n",
       "\t grade    E                             &  1477.4374                             & 1207.9560                              &  1.2230887                             & 2.215872e-01                          \\\\\n",
       "\t grade    F                             &  5452.8884                             & 1942.2217                              &  2.8075519                             & 5.090026e-03                          \\\\\n",
       "\t grade    G                             &  3489.7914                             & 3396.3554                              &  1.0275107                             & 3.044310e-01                          \\\\\n",
       "\t verification\\_status       Not Verified & -5899.5089                               &  667.5782                                & -8.8371807                               & 4.405521e-18                            \\\\\n",
       "\t verification\\_status    Source Verified & -1371.2411                               &  614.5653                                & -2.2312374                               & 2.588868e-02                            \\\\\n",
       "\\end{tabular}\n"
      ],
      "text/markdown": [
       "\n",
       "term | estimate | std.error | statistic | p.value | \n",
       "|---|---|---|---|---|---|---|---|---|---|\n",
       "| (Intercept)                            | 17143.6708                             |  814.7742                              | 21.0410082                             | 1.574042e-81                           | \n",
       "| Group     B                            |   205.1170                             |  515.3487                              |  0.3980159                             | 6.907043e-01                           | \n",
       "| grade    B                             |  -974.5360                             |  816.9386                              | -1.1929122                             | 2.331896e-01                           | \n",
       "| grade    C                             |  -631.1408                             |  806.3614                              | -0.7827021                             | 4.339892e-01                           | \n",
       "| grade    D                             |   718.4487                             |  917.4471                              |  0.7830955                             | 4.337583e-01                           | \n",
       "| grade    E                             |  1477.4374                             | 1207.9560                              |  1.2230887                             | 2.215872e-01                           | \n",
       "| grade    F                             |  5452.8884                             | 1942.2217                              |  2.8075519                             | 5.090026e-03                           | \n",
       "| grade    G                             |  3489.7914                             | 3396.3554                              |  1.0275107                             | 3.044310e-01                           | \n",
       "| verification_status       Not Verified | -5899.5089                             |  667.5782                              | -8.8371807                             | 4.405521e-18                           | \n",
       "| verification_status    Source Verified | -1371.2411                             |  614.5653                              | -2.2312374                             | 2.588868e-02                           | \n",
       "\n",
       "\n"
      ],
      "text/plain": [
       "   term                                   estimate   std.error statistic \n",
       "1  (Intercept)                            17143.6708  814.7742 21.0410082\n",
       "2  Group     B                              205.1170  515.3487  0.3980159\n",
       "3  grade    B                              -974.5360  816.9386 -1.1929122\n",
       "4  grade    C                              -631.1408  806.3614 -0.7827021\n",
       "5  grade    D                               718.4487  917.4471  0.7830955\n",
       "6  grade    E                              1477.4374 1207.9560  1.2230887\n",
       "7  grade    F                              5452.8884 1942.2217  2.8075519\n",
       "8  grade    G                              3489.7914 3396.3554  1.0275107\n",
       "9  verification_status       Not Verified -5899.5089  667.5782 -8.8371807\n",
       "10 verification_status    Source Verified -1371.2411  614.5653 -2.2312374\n",
       "   p.value     \n",
       "1  1.574042e-81\n",
       "2  6.907043e-01\n",
       "3  2.331896e-01\n",
       "4  4.339892e-01\n",
       "5  4.337583e-01\n",
       "6  2.215872e-01\n",
       "7  5.090026e-03\n",
       "8  3.044310e-01\n",
       "9  4.405521e-18\n",
       "10 2.588868e-02"
      ]
     },
     "metadata": {},
     "output_type": "display_data"
    }
   ],
   "source": [
    "# Build lendingclub_multi\n",
    "lendingclub_multi <-lm(loan_amnt ~ Group + grade + verification_status, data = lendingclub_ab)\n",
    "\n",
    "# Examine lendingclub_multi results\n",
    "tidy(lendingclub_multi)"
   ]
  },
  {
   "cell_type": "markdown",
   "metadata": {},
   "source": [
    "From the results, verification status seems to be the only thing in this model that has a significant effect on loan amount. Let's move on and conduct more multivariable experiments like this."
   ]
  },
  {
   "cell_type": "markdown",
   "metadata": {},
   "source": [
    "## Intro to sampling"
   ]
  },
  {
   "cell_type": "markdown",
   "metadata": {
    "collapsed": true
   },
   "source": [
    "NHANES dataset = National Health and Nutrition Examination Survey. The participants in NHANES aren't chosen randomly. They're sampled according to a scheme designed to represent the US population. People older than 60, African Americans, and Hispanic individuals are oversampled in the collection. White people made up 60% of the US population at the last census and if they did not oversample these other groups, we wouldn't end up with enough African American and Hispanic individuals to produce reliable statistics on their health. \n"
   ]
  },
  {
   "cell_type": "markdown",
   "metadata": {},
   "source": [
    "We'll discuss probability sampling methods, those where some degree of probability is used to select the sampled units. Non-probability sampling includes things like voluntary responses and convenience sampling, where subjects convenient to the researcher are chosen. \n",
    "\n",
    "There are 5 basic types of sampling. "
   ]
  },
  {
   "cell_type": "markdown",
   "metadata": {},
   "source": [
    "**Simple Random Sampling (SRS)**: It's the most straightforward. Every unit in a population has an equal probability of being sampled. \n",
    "\n",
    "sample()"
   ]
  },
  {
   "cell_type": "markdown",
   "metadata": {},
   "source": [
    "**Stratified Sampling**: Involves splitting your population by some strata variable, such as race, gender, or type, and taking a simple random sample inside each stratified group. \n",
    "\n",
    "dataset %>%\n",
    "    group_by(strata_variable) %>%\n",
    "        sample_n()"
   ]
  },
  {
   "cell_type": "markdown",
   "metadata": {},
   "source": [
    "**Cluster Sampling**: This is where you divide the population into groups called clusters, perhaps every high school in a state. Randomly select some number of those clusters, and sample everyone inside the selected clusters. \n",
    "\n",
    "cluster(dataset, cluster_var_name, number_to_select, method = \"option\")"
   ]
  },
  {
   "cell_type": "markdown",
   "metadata": {},
   "source": [
    "**Systematic Sampling**: Involves choosing a sample in a systematic way, such as every 5th or 10th or 12th unit of the population. \n",
    "\n",
    "**Multi-stage Sampling**: Simply combines one or more of the aforementioned approaches in a logical way."
   ]
  },
  {
   "cell_type": "code",
   "execution_count": 92,
   "metadata": {
    "collapsed": true
   },
   "outputs": [],
   "source": [
    "nhanes_demo <- read.csv(\"datasets/nhanes_demo.csv\")\n",
    "nhanes_medical <- read.csv(\"datasets/nhanes_medicalconditions.csv\")\n",
    "nhanes_bodymeasures <- read.csv(\"datasets/nhanes_bodymeasures.csv\")\n",
    "nhanes_combined <- read.csv(\"datasets/nhanes_final.csv\")"
   ]
  },
  {
   "cell_type": "markdown",
   "metadata": {},
   "source": [
    "Now that we have the NHANES data assembled, let's get to work on EDA & cleaning."
   ]
  },
  {
   "cell_type": "markdown",
   "metadata": {},
   "source": [
    "### NHANES EDA\n",
    "Let's examine our newly constructed dataset with a mind toward EDA. As in the last chapter, it's a good idea to look at both numerical summary measures and visualizations. These help with understanding data and are a good way to find data cleaning steps you may have missed. \n",
    "\n",
    "Say we have access to NHANES patients and want to conduct a study on the effect of being told by a physician to reduce calories/fat in the diet on weight. This is our treatment; we're pretending that instead of this being a question asked of the patient, we randomly had physicians counsel some patients on their nutrition. However, we suspect that there may be a difference in weight based on gender of the patient - a blocking factor!"
   ]
  },
  {
   "cell_type": "code",
   "execution_count": 93,
   "metadata": {},
   "outputs": [
    {
     "data": {
      "text/html": [
       "<table>\n",
       "<thead><tr><th scope=col>mcq365d</th><th scope=col>mean</th></tr></thead>\n",
       "<tbody>\n",
       "\t<tr><td> 1      </td><td>90.65094</td></tr>\n",
       "\t<tr><td> 2      </td><td>76.49907</td></tr>\n",
       "\t<tr><td> 9      </td><td>90.78333</td></tr>\n",
       "\t<tr><td>NA      </td><td>33.54431</td></tr>\n",
       "</tbody>\n",
       "</table>\n"
      ],
      "text/latex": [
       "\\begin{tabular}{r|ll}\n",
       " mcq365d & mean\\\\\n",
       "\\hline\n",
       "\t  1       & 90.65094\\\\\n",
       "\t  2       & 76.49907\\\\\n",
       "\t  9       & 90.78333\\\\\n",
       "\t NA       & 33.54431\\\\\n",
       "\\end{tabular}\n"
      ],
      "text/markdown": [
       "\n",
       "mcq365d | mean | \n",
       "|---|---|---|---|\n",
       "|  1       | 90.65094 | \n",
       "|  2       | 76.49907 | \n",
       "|  9       | 90.78333 | \n",
       "| NA       | 33.54431 | \n",
       "\n",
       "\n"
      ],
      "text/plain": [
       "  mcq365d mean    \n",
       "1  1      90.65094\n",
       "2  2      76.49907\n",
       "3  9      90.78333\n",
       "4 NA      33.54431"
      ]
     },
     "metadata": {},
     "output_type": "display_data"
    }
   ],
   "source": [
    "# weight (bmxwt) \n",
    "# Doctor told you to reduce fat/calories (mcq365d)\n",
    "\n",
    "nhanes_combined %>% \n",
    "    group_by(mcq365d) %>% \n",
    "    summarise(mean = mean(bmxwt, na.rm = TRUE))"
   ]
  },
  {
   "cell_type": "code",
   "execution_count": 94,
   "metadata": {},
   "outputs": [
    {
     "name": "stderr",
     "output_type": "stream",
     "text": [
      "Warning message:\n",
      "\"Removed 70 rows containing non-finite values (stat_boxplot).\""
     ]
    },
    {
     "data": {},
     "metadata": {},
     "output_type": "display_data"
    },
    {
     "data": {
      "image/png": "[encoded data removed]",
      "text/plain": [
       "plot without title"
      ]
     },
     "metadata": {},
     "output_type": "display_data"
    }
   ],
   "source": [
    "# age (ridageyr)\n",
    "\n",
    "nhanes_combined %>% filter(ridageyr > 16) %>% \n",
    "  ggplot(aes(as.factor(mcq365d), bmxwt)) +\n",
    "  geom_boxplot()"
   ]
  },
  {
   "cell_type": "markdown",
   "metadata": {},
   "source": [
    "Now that we have an idea of some of the problems with the data (children weren't given the treatment plus some weights are missing, thus the warning that the boxplot throws) let's do some data cleaning."
   ]
  },
  {
   "cell_type": "markdown",
   "metadata": {},
   "source": [
    "### NHANES Data Cleaning\n",
    "We discovered during data cleaning that no one under the age of 16 was given the treatment (recall that we're pretending the variable about being asked if a doctor has ever advised them to reduce fat or calories in their diet is purposeful nutrition counseling.) Let's eliminate patients < 16 from the dataset.\n",
    "\n",
    "You also may have noticed that the default settings in ggplot2 delete any observations with a missing dependent variable, in this case, body weight. One option for dealing with the missing weights, imputation, can be implemented using the simputation package. We'll use impute_median(), which takes a dataset and the variable to impute as arguments. If a formula is input, for example length ~ type, it will impute the median value for length by type."
   ]
  },
  {
   "cell_type": "code",
   "execution_count": 95,
   "metadata": {
    "collapsed": true
   },
   "outputs": [],
   "source": [
    "# Filter out anyone less than 16\n",
    "nhanes_filter <- nhanes_combined %>% \n",
    "    filter(ridageyr > 16)"
   ]
  },
  {
   "cell_type": "code",
   "execution_count": 96,
   "metadata": {},
   "outputs": [
    {
     "name": "stderr",
     "output_type": "stream",
     "text": [
      "Warning message:\n",
      "\"package 'simputation' was built under R version 3.4.4\""
     ]
    }
   ],
   "source": [
    "library(\"simputation\")\n",
    "\n",
    "nhanes_final <- impute_median(nhanes_filter, bmxwt ~ riagendr)"
   ]
  },
  {
   "cell_type": "code",
   "execution_count": 97,
   "metadata": {},
   "outputs": [
    {
     "data": {
      "text/plain": [
       "\n",
       "   1    2 \n",
       "1802 4085 "
      ]
     },
     "metadata": {},
     "output_type": "display_data"
    }
   ],
   "source": [
    "# Recode mcq365d with ifelse() & examine with table()\n",
    "\n",
    "nhanes_final$mcq365d <- ifelse(nhanes_final$mcq365d == 9, 2, nhanes_final$mcq365d)\n",
    "\n",
    "table(nhanes_final$mcq365d)"
   ]
  },
  {
   "cell_type": "markdown",
   "metadata": {},
   "source": [
    "Now that we have the dataset cleaned, we're ready to learn about RCBDs so we can analyze our experiment."
   ]
  },
  {
   "cell_type": "markdown",
   "metadata": {},
   "source": [
    "### Resampling NHANES data\n",
    "The NHANES data is collected on sampled units (people) specifically selected to represent the U.S. population. Let's briefly disregard that and resample the data. We can conduct a simple random sample using sample(). An example would be: data <- data[sample(nrow(data), N), ], where N is an integer number of how many rows to sample from data.\n",
    "\n",
    "Stratified sampling can be done with dplyr's group_by() and sample_n(). sample_n() takes as input a dataset and an integer of number of rows to sample.\n",
    "\n",
    "The sampling package's cluster() creates cluster samples. It takes in a dataset name, the variable in the set to be used as the cluster variable, passed as a vector with the name as a string, e.g. c(\"variable\"), a number of clusters to select, and a method."
   ]
  },
  {
   "cell_type": "code",
   "execution_count": 98,
   "metadata": {},
   "outputs": [
    {
     "data": {
      "text/html": [
       "2500"
      ],
      "text/latex": [
       "2500"
      ],
      "text/markdown": [
       "2500"
      ],
      "text/plain": [
       "[1] 2500"
      ]
     },
     "metadata": {},
     "output_type": "display_data"
    }
   ],
   "source": [
    "# Use sample() to create nhanes_srs\n",
    "\n",
    "nhanes_srs <- nhanes_final[sample(nrow(nhanes_final), 2500), ]\n",
    "\n",
    "nrow(nhanes_srs)"
   ]
  },
  {
   "cell_type": "code",
   "execution_count": 99,
   "metadata": {},
   "outputs": [
    {
     "data": {
      "text/plain": [
       "\n",
       "   1    2 \n",
       "2000 2000 "
      ]
     },
     "metadata": {},
     "output_type": "display_data"
    }
   ],
   "source": [
    "# Create nhanes_stratified with group_by() and sample_n()\n",
    "nhanes_stratified <- nhanes_final %>%\n",
    "  group_by(riagendr) %>%\n",
    "    sample_n(2000)\n",
    "    \n",
    "table(nhanes_stratified$riagendr)"
   ]
  },
  {
   "cell_type": "code",
   "execution_count": 100,
   "metadata": {},
   "outputs": [
    {
     "name": "stderr",
     "output_type": "stream",
     "text": [
      "Warning message:\n",
      "\"package 'sampling' was built under R version 3.4.4\""
     ]
    },
    {
     "data": {
      "text/plain": [
       "\n",
       "  1   3   8  12  15  77 \n",
       "135 349 470 190 939 119 "
      ]
     },
     "metadata": {},
     "output_type": "display_data"
    }
   ],
   "source": [
    "library(\"sampling\")\n",
    "\n",
    "# household income (indhhin2)\n",
    "\n",
    "nhanes_cluster <- cluster(nhanes_final, c(\"indhhin2\"), 6, method = \"srswor\")\n",
    "\n",
    "table(nhanes_cluster$indhhin2)"
   ]
  },
  {
   "cell_type": "markdown",
   "metadata": {},
   "source": [
    "## Randomized complete block designs (RCBD)\n",
    "\n",
    "Previously, we conducted completely randomized experiments. One extension of that type of experiment is the RCBD. \n",
    "\n",
    "- **Randomized:** The treatment is assigned randomly inside each block\n",
    "- **Complete:** Each treatment is used the same number of times in every block\n",
    "- **Block:** Experimental groups are blocked to be similar (eg. by sex)\n",
    "- **Design:** This is your experiment!\n",
    "\n",
    "We utilize blocking in our experiments when we have a \"nuisance\" factor, something that may affect the outcome of the experiment, but isn't actually of interest to study in the experiment. Blocking allows for the experimental groups to be more similar. We expect groups like those divided by metal hardness, type of crop, or gender, to have minimal differences inside the group, while across the different groups, we expect there to be much larger differences. \n",
    "\n",
    "Sometimes, the blocking factor can be thought of not as a nuisance factor, but as something you can control for as an experimenter. There's a saying in experimental design - \"Block what you can, randomize what you can't\". Essentially, you create blocks with your nuisance variable or variable you can control, and then run your completely randomized experiment inside each block for your desired number of repetitions. \n",
    "\n",
    "In most texts or Experimental Design course, the RCBD is demonstrated with an agricultural example. \n",
    "\n",
    "<img src=\"images/RCBD_Workflow.JPG\">\n",
    "\n",
    "Say for instance, you're testing a new fertilizer on your fields. Your outcome will be plant growth. One factor that isn't of terrible interest in this experiment is the type of crop. So you block the fields: one block is corn and one soybean. Then, inside of each block, you conduct a randomized control trial, allocating the fields randomly to either receive the new fertilizer or to use the standard method of growing the crop. Then, you measure the outcome at the specified time points and compare between the groups. Voila - an RCBD!\n",
    "\n",
    "While we're on the topic of agriculture, let's talk about the agricolae R package. This package enables you to \"draw\" some of the different experimental designs possible, including an RCBD. "
   ]
  },
  {
   "cell_type": "code",
   "execution_count": 101,
   "metadata": {},
   "outputs": [
    {
     "name": "stderr",
     "output_type": "stream",
     "text": [
      "Warning message:\n",
      "\"package 'agricolae' was built under R version 3.4.4\""
     ]
    }
   ],
   "source": [
    "library(\"agricolae\")"
   ]
  },
  {
   "cell_type": "code",
   "execution_count": 102,
   "metadata": {},
   "outputs": [
    {
     "data": {
      "text/html": [
       "<ol class=list-inline>\n",
       "\t<li>'a'</li>\n",
       "\t<li>'b'</li>\n",
       "\t<li>'c'</li>\n",
       "\t<li>'d'</li>\n",
       "</ol>\n"
      ],
      "text/latex": [
       "\\begin{enumerate*}\n",
       "\\item 'a'\n",
       "\\item 'b'\n",
       "\\item 'c'\n",
       "\\item 'd'\n",
       "\\end{enumerate*}\n"
      ],
      "text/markdown": [
       "1. 'a'\n",
       "2. 'b'\n",
       "3. 'c'\n",
       "4. 'd'\n",
       "\n",
       "\n"
      ],
      "text/plain": [
       "[1] \"a\" \"b\" \"c\" \"d\""
      ]
     },
     "metadata": {},
     "output_type": "display_data"
    }
   ],
   "source": [
    "# treatment\n",
    "trt <- letters[1:4]\n",
    "\n",
    "trt "
   ]
  },
  {
   "cell_type": "code",
   "execution_count": 103,
   "metadata": {
    "collapsed": true
   },
   "outputs": [],
   "source": [
    "rep <- 4"
   ]
  },
  {
   "cell_type": "code",
   "execution_count": 104,
   "metadata": {
    "collapsed": true
   },
   "outputs": [],
   "source": [
    "design.rcbd <- design.rcbd(trt, # treatment\n",
    "                              r = rep, # repetition\n",
    "                              seed = 42,# random generator seed\n",
    "                              serie = 0 # how the number blocks are tagged in larger experiments\n",
    "                          )"
   ]
  },
  {
   "cell_type": "code",
   "execution_count": 105,
   "metadata": {},
   "outputs": [
    {
     "data": {
      "text/html": [
       "<table>\n",
       "<tbody>\n",
       "\t<tr><td>d</td><td>c</td><td>a</td><td>b</td></tr>\n",
       "\t<tr><td>b</td><td>a</td><td>d</td><td>c</td></tr>\n",
       "\t<tr><td>d</td><td>a</td><td>b</td><td>c</td></tr>\n",
       "\t<tr><td>a</td><td>b</td><td>d</td><td>c</td></tr>\n",
       "</tbody>\n",
       "</table>\n"
      ],
      "text/latex": [
       "\\begin{tabular}{llll}\n",
       "\t d & c & a & b\\\\\n",
       "\t b & a & d & c\\\\\n",
       "\t d & a & b & c\\\\\n",
       "\t a & b & d & c\\\\\n",
       "\\end{tabular}\n"
      ],
      "text/markdown": [
       "\n",
       "| d | c | a | b | \n",
       "| b | a | d | c | \n",
       "| d | a | b | c | \n",
       "| a | b | d | c | \n",
       "\n",
       "\n"
      ],
      "text/plain": [
       "     [,1] [,2] [,3] [,4]\n",
       "[1,] d    c    a    b   \n",
       "[2,] b    a    d    c   \n",
       "[3,] d    a    b    c   \n",
       "[4,] a    b    d    c   "
      ]
     },
     "metadata": {},
     "output_type": "display_data"
    }
   ],
   "source": [
    "# examine the sketch object \n",
    "# we can see how our 4 repetition with our 4 treatments can be randomly repeated in each run. \n",
    "\n",
    "design.rcbd$sketch"
   ]
  },
  {
   "cell_type": "markdown",
   "metadata": {},
   "source": [
    "### Which is NOT a good blocking factor?\n",
    "The purpose of blocking an experiment is to make the experimental groups more like one another. Groups are blocked by a variable that is known to introduce variability that will affect the outcome of the experiment, but is not of interest to study in the experiment itself.\n",
    "\n",
    "A rule of thumb in experimental design is often \"block what you can, randomize what you cannot\", which means you should aim to block the effects you can control for (e.g. sex) randomize on those you cannot (e.g. smoking status). Variability inside a block is expected to be fairly small, but variability between blocks will be larger.\n",
    "\n",
    "Which of the following would NOT make a good blocking factor for an experiment?\n",
    "\n",
    "**When testing the effect of a drug on blood pressure, current pregnancy is used as a blocking factor.**\n",
    "\n",
    "Current pregnancy is not really something the experimenter can control, and they're also not likely to have enough subjects pregnant to justify blocking by that factor (unless they sampled for pregnant individuals in the first place!)"
   ]
  },
  {
   "cell_type": "markdown",
   "metadata": {},
   "source": [
    "### Drawing RCBDs with Agricolae\n",
    "The agricolae package is very helpful when you want to \"draw\" out the design of an experiment for yourself using R. It can draw many designs, including (of course!) a randomized complete block design.\n",
    "\n",
    "For the trt object (as well as any time you need sequential letters!), you can use a special built-in object in R to assist you. LETTERS (for capital A-Z) and letters (for lowercase a-z) are very useful, and the letters themselves can be accessed by their indexes (A/a = 1, B/b = 2, etc.)\n",
    "\n",
    "Let's draw a RCBD design with 5 treatments and 4 repetitions."
   ]
  },
  {
   "cell_type": "code",
   "execution_count": 106,
   "metadata": {},
   "outputs": [
    {
     "name": "stdout",
     "output_type": "stream",
     "text": [
      " [1] \"design.ab\"      \"design.alpha\"   \"design.bib\"     \"design.crd\"    \n",
      " [5] \"design.cyclic\"  \"design.dau\"     \"design.graeco\"  \"design.lattice\"\n",
      " [9] \"design.lsd\"     \"design.rcbd\"    \"design.split\"   \"design.strip\"  \n",
      "[13] \"design.youden\" \n"
     ]
    }
   ],
   "source": [
    "# Create designs using apropos(), then print to see possible designs\n",
    "designs <- ls(\"package:agricolae\", pattern = \"design\")\n",
    "print(designs)"
   ]
  },
  {
   "cell_type": "code",
   "execution_count": 107,
   "metadata": {},
   "outputs": [
    {
     "name": "stdout",
     "output_type": "stream",
     "text": [
      "List of 3\n",
      " $ parameters:List of 7\n",
      "  ..$ design: chr \"rcbd\"\n",
      "  ..$ trt   : chr [1:4] \"a\" \"b\" \"c\" \"d\"\n",
      "  ..$ r     : num 4\n",
      "  ..$ serie : num 0\n",
      "  ..$ seed  : num 42\n",
      "  ..$ kinds : chr \"Super-Duper\"\n",
      "  ..$       : logi TRUE\n",
      " $ sketch    : chr [1:4, 1:4] \"d\" \"b\" \"d\" \"a\" ...\n",
      " $ book      :'data.frame':\t16 obs. of  3 variables:\n",
      "  ..$ plots: num [1:16] 11 12 13 14 21 22 23 24 31 32 ...\n",
      "  ..$ block: Factor w/ 4 levels \"1\",\"2\",\"3\",\"4\": 1 1 1 1 2 2 2 2 3 3 ...\n",
      "  ..$ trt  : Factor w/ 4 levels \"a\",\"b\",\"c\",\"d\": 4 3 1 2 2 1 4 3 4 1 ...\n"
     ]
    }
   ],
   "source": [
    "# Use str() to view design.rcbd's criteria\n",
    "str(design.rcbd)"
   ]
  },
  {
   "cell_type": "code",
   "execution_count": 129,
   "metadata": {},
   "outputs": [],
   "source": [
    "# Build trt and rep\n",
    "\n",
    "trt <- LETTERS[1:5]\n",
    "trt2 <- LETTERS[1:6]"
   ]
  },
  {
   "cell_type": "code",
   "execution_count": 130,
   "metadata": {},
   "outputs": [
    {
     "data": {
      "text/html": [
       "4"
      ],
      "text/latex": [
       "4"
      ],
      "text/markdown": [
       "4"
      ],
      "text/plain": [
       "[1] 4"
      ]
     },
     "metadata": {},
     "output_type": "display_data"
    }
   ],
   "source": [
    "rep <- 4\n",
    "rep"
   ]
  },
  {
   "cell_type": "code",
   "execution_count": 134,
   "metadata": {},
   "outputs": [
    {
     "data": {
      "text/html": [
       "<table>\n",
       "<tbody>\n",
       "\t<tr><td>D</td><td>E</td><td>A</td><td>C</td><td>B</td></tr>\n",
       "\t<tr><td>B</td><td>C</td><td>A</td><td>E</td><td>D</td></tr>\n",
       "\t<tr><td>C</td><td>D</td><td>A</td><td>E</td><td>B</td></tr>\n",
       "\t<tr><td>A</td><td>C</td><td>B</td><td>D</td><td>E</td></tr>\n",
       "</tbody>\n",
       "</table>\n"
      ],
      "text/latex": [
       "\\begin{tabular}{lllll}\n",
       "\t D & E & A & C & B\\\\\n",
       "\t B & C & A & E & D\\\\\n",
       "\t C & D & A & E & B\\\\\n",
       "\t A & C & B & D & E\\\\\n",
       "\\end{tabular}\n"
      ],
      "text/markdown": [
       "\n",
       "| D | E | A | C | B | \n",
       "| B | C | A | E | D | \n",
       "| C | D | A | E | B | \n",
       "| A | C | B | D | E | \n",
       "\n",
       "\n"
      ],
      "text/plain": [
       "     [,1] [,2] [,3] [,4] [,5]\n",
       "[1,] D    E    A    C    B   \n",
       "[2,] B    C    A    E    D   \n",
       "[3,] C    D    A    E    B   \n",
       "[4,] A    C    B    D    E   "
      ]
     },
     "metadata": {},
     "output_type": "display_data"
    }
   ],
   "source": [
    "# Use trt and rep to build my_design_rcbd and view the sketch part of the object\n",
    "my_design_rcbd <- design.rcbd(trt, r=4, seed = 42, serie=0)\n",
    "my_design_rcbd$sketch"
   ]
  },
  {
   "cell_type": "code",
   "execution_count": 136,
   "metadata": {},
   "outputs": [
    {
     "data": {
      "text/html": [
       "<table>\n",
       "<tbody>\n",
       "\t<tr><td>E</td><td>F</td><td>B</td><td>D</td><td>A</td><td>C</td></tr>\n",
       "\t<tr><td>D</td><td>B</td><td>F</td><td>A</td><td>E</td><td>C</td></tr>\n",
       "\t<tr><td>A</td><td>C</td><td>B</td><td>F</td><td>D</td><td>E</td></tr>\n",
       "\t<tr><td>D</td><td>A</td><td>C</td><td>B</td><td>F</td><td>E</td></tr>\n",
       "</tbody>\n",
       "</table>\n"
      ],
      "text/latex": [
       "\\begin{tabular}{llllll}\n",
       "\t E & F & B & D & A & C\\\\\n",
       "\t D & B & F & A & E & C\\\\\n",
       "\t A & C & B & F & D & E\\\\\n",
       "\t D & A & C & B & F & E\\\\\n",
       "\\end{tabular}\n"
      ],
      "text/markdown": [
       "\n",
       "| E | F | B | D | A | C | \n",
       "| D | B | F | A | E | C | \n",
       "| A | C | B | F | D | E | \n",
       "| D | A | C | B | F | E | \n",
       "\n",
       "\n"
      ],
      "text/plain": [
       "     [,1] [,2] [,3] [,4] [,5] [,6]\n",
       "[1,] E    F    B    D    A    C   \n",
       "[2,] D    B    F    A    E    C   \n",
       "[3,] A    C    B    F    D    E   \n",
       "[4,] D    A    C    B    F    E   "
      ]
     },
     "metadata": {},
     "output_type": "display_data"
    }
   ],
   "source": [
    "my_design_rcbd <- design.rcbd(trt2, r=4, seed = 42, serie=0)\n",
    "my_design_rcbd$sketch"
   ]
  },
  {
   "cell_type": "code",
   "execution_count": 137,
   "metadata": {},
   "outputs": [
    {
     "data": {
      "text/html": [
       "<table>\n",
       "<tbody>\n",
       "\t<tr><td>D</td><td>E</td><td>A</td><td>C</td><td>B</td></tr>\n",
       "\t<tr><td>B</td><td>C</td><td>A</td><td>E</td><td>D</td></tr>\n",
       "\t<tr><td>C</td><td>D</td><td>A</td><td>E</td><td>B</td></tr>\n",
       "\t<tr><td>A</td><td>C</td><td>B</td><td>D</td><td>E</td></tr>\n",
       "\t<tr><td>D</td><td>C</td><td>E</td><td>A</td><td>B</td></tr>\n",
       "</tbody>\n",
       "</table>\n"
      ],
      "text/latex": [
       "\\begin{tabular}{lllll}\n",
       "\t D & E & A & C & B\\\\\n",
       "\t B & C & A & E & D\\\\\n",
       "\t C & D & A & E & B\\\\\n",
       "\t A & C & B & D & E\\\\\n",
       "\t D & C & E & A & B\\\\\n",
       "\\end{tabular}\n"
      ],
      "text/markdown": [
       "\n",
       "| D | E | A | C | B | \n",
       "| B | C | A | E | D | \n",
       "| C | D | A | E | B | \n",
       "| A | C | B | D | E | \n",
       "| D | C | E | A | B | \n",
       "\n",
       "\n"
      ],
      "text/plain": [
       "     [,1] [,2] [,3] [,4] [,5]\n",
       "[1,] D    E    A    C    B   \n",
       "[2,] B    C    A    E    D   \n",
       "[3,] C    D    A    E    B   \n",
       "[4,] A    C    B    D    E   \n",
       "[5,] D    C    E    A    B   "
      ]
     },
     "metadata": {},
     "output_type": "display_data"
    }
   ],
   "source": [
    "my_design_rcbd <- design.rcbd(trt, r=5, seed = 42, serie=0)\n",
    "my_design_rcbd$sketch"
   ]
  },
  {
   "cell_type": "code",
   "execution_count": 138,
   "metadata": {},
   "outputs": [
    {
     "data": {
      "text/html": [
       "<table>\n",
       "<tbody>\n",
       "\t<tr><td>E</td><td>F</td><td>B</td><td>D</td><td>A</td><td>C</td></tr>\n",
       "\t<tr><td>D</td><td>B</td><td>F</td><td>A</td><td>E</td><td>C</td></tr>\n",
       "\t<tr><td>A</td><td>C</td><td>B</td><td>F</td><td>D</td><td>E</td></tr>\n",
       "\t<tr><td>D</td><td>A</td><td>C</td><td>B</td><td>F</td><td>E</td></tr>\n",
       "\t<tr><td>D</td><td>B</td><td>A</td><td>F</td><td>C</td><td>E</td></tr>\n",
       "</tbody>\n",
       "</table>\n"
      ],
      "text/latex": [
       "\\begin{tabular}{llllll}\n",
       "\t E & F & B & D & A & C\\\\\n",
       "\t D & B & F & A & E & C\\\\\n",
       "\t A & C & B & F & D & E\\\\\n",
       "\t D & A & C & B & F & E\\\\\n",
       "\t D & B & A & F & C & E\\\\\n",
       "\\end{tabular}\n"
      ],
      "text/markdown": [
       "\n",
       "| E | F | B | D | A | C | \n",
       "| D | B | F | A | E | C | \n",
       "| A | C | B | F | D | E | \n",
       "| D | A | C | B | F | E | \n",
       "| D | B | A | F | C | E | \n",
       "\n",
       "\n"
      ],
      "text/plain": [
       "     [,1] [,2] [,3] [,4] [,5] [,6]\n",
       "[1,] E    F    B    D    A    C   \n",
       "[2,] D    B    F    A    E    C   \n",
       "[3,] A    C    B    F    D    E   \n",
       "[4,] D    A    C    B    F    E   \n",
       "[5,] D    B    A    F    C    E   "
      ]
     },
     "metadata": {},
     "output_type": "display_data"
    }
   ],
   "source": [
    "my_design_rcbd <- design.rcbd(trt2, r=5, seed = 42, serie=0)\n",
    "my_design_rcbd$sketch"
   ]
  },
  {
   "cell_type": "code",
   "execution_count": 139,
   "metadata": {},
   "outputs": [
    {
     "data": {
      "text/html": [
       "<table>\n",
       "<tbody>\n",
       "\t<tr><td>D</td><td>E</td><td>A</td><td>C</td><td>B</td></tr>\n",
       "\t<tr><td>B</td><td>C</td><td>A</td><td>E</td><td>D</td></tr>\n",
       "\t<tr><td>C</td><td>D</td><td>A</td><td>E</td><td>B</td></tr>\n",
       "\t<tr><td>A</td><td>C</td><td>B</td><td>D</td><td>E</td></tr>\n",
       "\t<tr><td>D</td><td>C</td><td>E</td><td>A</td><td>B</td></tr>\n",
       "\t<tr><td>B</td><td>A</td><td>D</td><td>C</td><td>E</td></tr>\n",
       "</tbody>\n",
       "</table>\n"
      ],
      "text/latex": [
       "\\begin{tabular}{lllll}\n",
       "\t D & E & A & C & B\\\\\n",
       "\t B & C & A & E & D\\\\\n",
       "\t C & D & A & E & B\\\\\n",
       "\t A & C & B & D & E\\\\\n",
       "\t D & C & E & A & B\\\\\n",
       "\t B & A & D & C & E\\\\\n",
       "\\end{tabular}\n"
      ],
      "text/markdown": [
       "\n",
       "| D | E | A | C | B | \n",
       "| B | C | A | E | D | \n",
       "| C | D | A | E | B | \n",
       "| A | C | B | D | E | \n",
       "| D | C | E | A | B | \n",
       "| B | A | D | C | E | \n",
       "\n",
       "\n"
      ],
      "text/plain": [
       "     [,1] [,2] [,3] [,4] [,5]\n",
       "[1,] D    E    A    C    B   \n",
       "[2,] B    C    A    E    D   \n",
       "[3,] C    D    A    E    B   \n",
       "[4,] A    C    B    D    E   \n",
       "[5,] D    C    E    A    B   \n",
       "[6,] B    A    D    C    E   "
      ]
     },
     "metadata": {},
     "output_type": "display_data"
    }
   ],
   "source": [
    "my_design_rcbd <- design.rcbd(trt, r=6, seed = 42, serie=0)\n",
    "my_design_rcbd$sketch"
   ]
  },
  {
   "cell_type": "code",
   "execution_count": 140,
   "metadata": {},
   "outputs": [
    {
     "data": {
      "text/html": [
       "<table>\n",
       "<tbody>\n",
       "\t<tr><td>E</td><td>F</td><td>B</td><td>D</td><td>A</td><td>C</td></tr>\n",
       "\t<tr><td>D</td><td>B</td><td>F</td><td>A</td><td>E</td><td>C</td></tr>\n",
       "\t<tr><td>A</td><td>C</td><td>B</td><td>F</td><td>D</td><td>E</td></tr>\n",
       "\t<tr><td>D</td><td>A</td><td>C</td><td>B</td><td>F</td><td>E</td></tr>\n",
       "\t<tr><td>D</td><td>B</td><td>A</td><td>F</td><td>C</td><td>E</td></tr>\n",
       "\t<tr><td>D</td><td>A</td><td>C</td><td>B</td><td>F</td><td>E</td></tr>\n",
       "</tbody>\n",
       "</table>\n"
      ],
      "text/latex": [
       "\\begin{tabular}{llllll}\n",
       "\t E & F & B & D & A & C\\\\\n",
       "\t D & B & F & A & E & C\\\\\n",
       "\t A & C & B & F & D & E\\\\\n",
       "\t D & A & C & B & F & E\\\\\n",
       "\t D & B & A & F & C & E\\\\\n",
       "\t D & A & C & B & F & E\\\\\n",
       "\\end{tabular}\n"
      ],
      "text/markdown": [
       "\n",
       "| E | F | B | D | A | C | \n",
       "| D | B | F | A | E | C | \n",
       "| A | C | B | F | D | E | \n",
       "| D | A | C | B | F | E | \n",
       "| D | B | A | F | C | E | \n",
       "| D | A | C | B | F | E | \n",
       "\n",
       "\n"
      ],
      "text/plain": [
       "     [,1] [,2] [,3] [,4] [,5] [,6]\n",
       "[1,] E    F    B    D    A    C   \n",
       "[2,] D    B    F    A    E    C   \n",
       "[3,] A    C    B    F    D    E   \n",
       "[4,] D    A    C    B    F    E   \n",
       "[5,] D    B    A    F    C    E   \n",
       "[6,] D    A    C    B    F    E   "
      ]
     },
     "metadata": {},
     "output_type": "display_data"
    }
   ],
   "source": [
    "my_design_rcbd <- design.rcbd(trt2, r=6, seed = 42, serie=0)\n",
    "my_design_rcbd$sketch"
   ]
  },
  {
   "cell_type": "markdown",
   "metadata": {},
   "source": [
    "### NHANES RCBD\n",
    "Recall that our blocked experiment involved a treatment wherein the doctor asks the patient to reduce their fat or calories in their diet, and we're testing the effect this has on weight (bmxwt). We plan to block by gender, which in the NHANES dataset is stored in riagendr.\n",
    "\n",
    "To block an experiment, use a formula along the lines of outcome ~ treatment + blocking_factor in the appropriate modeling function."
   ]
  },
  {
   "cell_type": "code",
   "execution_count": 111,
   "metadata": {
    "collapsed": true
   },
   "outputs": [],
   "source": [
    "# Make nhanes_final$riagendr a factor variable\n",
    "nhanes_final$riagendr <- as.factor(nhanes_final$riagendr)"
   ]
  },
  {
   "cell_type": "code",
   "execution_count": 112,
   "metadata": {},
   "outputs": [
    {
     "data": {
      "text/plain": [
       "              Df  Sum Sq Mean Sq F value Pr(>F)    \n",
       "mcq365d        1  228651  228651   568.8 <2e-16 ***\n",
       "riagendr       1  159706  159706   397.3 <2e-16 ***\n",
       "Residuals   5884 2365187     402                   \n",
       "---\n",
       "Signif. codes:  0 '***' 0.001 '**' 0.01 '*' 0.05 '.' 0.1 ' ' 1"
      ]
     },
     "metadata": {},
     "output_type": "display_data"
    }
   ],
   "source": [
    "# Use aov() to create nhanes_rcbd\n",
    "\n",
    "# bmxwt = weight = outcome\n",
    "# mcq365d = Doctor told you to reduce fat/calories = treatment\n",
    "# riagendr = gender = blocking factor\n",
    "\n",
    "nhanes_rcbd <- aov(bmxwt ~ mcq365d + riagendr, data = nhanes_final)\n",
    "\n",
    "# Check the results of nhanes_rcbd with summary()\n",
    "summary(nhanes_rcbd)"
   ]
  },
  {
   "cell_type": "code",
   "execution_count": 113,
   "metadata": {},
   "outputs": [
    {
     "data": {
      "text/html": [
       "<table>\n",
       "<thead><tr><th scope=col>mcq365d</th><th scope=col>riagendr</th><th scope=col>mean_wt</th></tr></thead>\n",
       "<tbody>\n",
       "\t<tr><td>1       </td><td>1       </td><td>95.07812</td></tr>\n",
       "\t<tr><td>1       </td><td>2       </td><td>86.67372</td></tr>\n",
       "\t<tr><td>2       </td><td>1       </td><td>82.62991</td></tr>\n",
       "\t<tr><td>2       </td><td>2       </td><td>71.31000</td></tr>\n",
       "</tbody>\n",
       "</table>\n"
      ],
      "text/latex": [
       "\\begin{tabular}{r|lll}\n",
       " mcq365d & riagendr & mean\\_wt\\\\\n",
       "\\hline\n",
       "\t 1        & 1        & 95.07812\\\\\n",
       "\t 1        & 2        & 86.67372\\\\\n",
       "\t 2        & 1        & 82.62991\\\\\n",
       "\t 2        & 2        & 71.31000\\\\\n",
       "\\end{tabular}\n"
      ],
      "text/markdown": [
       "\n",
       "mcq365d | riagendr | mean_wt | \n",
       "|---|---|---|---|\n",
       "| 1        | 1        | 95.07812 | \n",
       "| 1        | 2        | 86.67372 | \n",
       "| 2        | 1        | 82.62991 | \n",
       "| 2        | 2        | 71.31000 | \n",
       "\n",
       "\n"
      ],
      "text/plain": [
       "  mcq365d riagendr mean_wt \n",
       "1 1       1        95.07812\n",
       "2 1       2        86.67372\n",
       "3 2       1        82.62991\n",
       "4 2       2        71.31000"
      ]
     },
     "metadata": {},
     "output_type": "display_data"
    }
   ],
   "source": [
    "# Print the difference in weights by mcq365d and riagendr\n",
    "nhanes_final %>% \n",
    "    group_by(mcq365d, riagendr) %>% \n",
    "    summarise(mean_wt = mean(bmxwt))"
   ]
  },
  {
   "cell_type": "markdown",
   "metadata": {},
   "source": [
    "It's pretty clear that there truly is a mean difference in weight by gender. Now that we have the RCBD down, let's tackle Balanced Incomplete Block Designs (BIBD)."
   ]
  },
  {
   "cell_type": "markdown",
   "metadata": {},
   "source": [
    "### RCBD Model Validation\n",
    "It's a good idea to validate the results. We'll examine the Residuals vs. Fitted and Normal Q-Q plots, though now we'll only see a Constant Leverage plot in place of the other two. A good model has a Q-Q plot showing an approximately normal distribution and no clear patterns across blocks or treatments in the others.\n",
    "\n",
    "We can also look at Interaction plots. We hope to see parallel lines, no matter which of the block or the treatment is on the x-axis. If they are, they satisfy a key assumption of the RCBD model called Additivity."
   ]
  },
  {
   "cell_type": "code",
   "execution_count": 114,
   "metadata": {},
   "outputs": [
    {
     "data": {
      "image/png": "[encoded data removed]",
      "text/plain": [
       "Plot with title \"\""
      ]
     },
     "metadata": {},
     "output_type": "display_data"
    }
   ],
   "source": [
    "# For a 2x2 grid of plots:\n",
    "par(mfrow=c(2, 2))\n",
    "\n",
    "# Plot nhanes_rcbd\n",
    "plot(nhanes_rcbd)"
   ]
  },
  {
   "cell_type": "code",
   "execution_count": 115,
   "metadata": {},
   "outputs": [
    {
     "data": {
      "image/png": "[encoded data removed]",
      "text/plain": [
       "plot without title"
      ]
     },
     "metadata": {},
     "output_type": "display_data"
    }
   ],
   "source": [
    "#  view the interaction plot between the treatment and gender and observe if the lines are parallel.\n",
    "with(nhanes_final, interaction.plot(mcq365d, riagendr, bmxwt))"
   ]
  },
  {
   "cell_type": "code",
   "execution_count": 116,
   "metadata": {},
   "outputs": [
    {
     "data": {
      "image/png": "[encoded data removed]",
      "text/plain": [
       "plot without title"
      ]
     },
     "metadata": {},
     "output_type": "display_data"
    }
   ],
   "source": [
    "# view the interaction plot between gender and \n",
    "# the treatment and observe if the lines are parallel.\n",
    "\n",
    "with(nhanes_final, interaction.plot(riagendr, mcq365d, bmxwt))"
   ]
  },
  {
   "cell_type": "markdown",
   "metadata": {},
   "source": [
    "The plots show that this model is pretty good, and the interaction plots seem to agree."
   ]
  },
  {
   "cell_type": "markdown",
   "metadata": {},
   "source": [
    "## Balanced Incomplete Block Designs (BIBD)\n"
   ]
  },
  {
   "cell_type": "markdown",
   "metadata": {
    "collapsed": true
   },
   "source": [
    "We covered randomized complete block designs, which was a completely randomized experiment executed inside each block in order to control for a \"nuisance\" factor that you're not interested in studying. \n",
    "\n",
    "But what about when you can't fit each treatment in a block? That's an incomplete block design. Sometimes it will not be feasible, advisable, or even necessary to test every treatment in each block. In that case, you can possibly build a Balanced Incomplete Block Design (BIBD)\n",
    "\n",
    "* **Balanced:** Each pair of treatments occur together in a block an equal number of times\n",
    "\n",
    "* **Incomplete:** Not every treatment will appear in every block\n",
    "\n",
    "* **Block:** Experimental groups are blocked to be similar (eg. by sex)\n",
    "\n",
    "* **Design:** This is your experiment!"
   ]
  },
  {
   "attachments": {},
   "cell_type": "markdown",
   "metadata": {},
   "source": [
    "Incomplete block designs do exist and lack the \"balance\" in each pair of treatments occuring an equal number of times across the eperiment. (Not covered here but it is possible!)\n",
    "\n",
    "A BIBD (Balanced Incomplete Block Design) isn't always possible, however. You could wing it and plug numbers in and out of the design_bib() function in agricolae. \n",
    "\n",
    "### Is there a BIBD?\n",
    "\n",
    "- t = # of treatments\n",
    "- k = # of treatments per block (# of factor levels of our blocking variable)\n",
    "- r = the desired # of replications of our experiment\n",
    "\n",
    "To find out if BIBD is even possible, you can calculate lambda using this formula:\n",
    "\n",
    "<img src=\"images/BIBD_Possible.JPG\">\n",
    "\n",
    "Replications times the number of Block Factors minus one, divided by the number of Treatments minus one. \n",
    "\n",
    "If lambda is a whole number, there is BIBD possible. And if not, there simply isn't one for the given t, k, and r. \n",
    "\n",
    "Say we only have the money for 2 treatments per block (k) out of 4 total treatments (t). That is, 4 blocks and 2 full replications of the experiment. Even though this may look fully balanced, when you calculate lambda, you quickly see that it equals 2/3 and not a whole number. \n",
    "\n",
    "<img src=\"images/BIBD_Possible_1.JPG\">\n",
    "\n",
    "A BIBD isn't possible here; you would need to add more replications of the experiment or a larger block size. In the image version, we can check to see if each pair of treatment occurs in a balanced way. \n",
    "\n",
    "<img src=\"images/BIBD_Invalid.JPG\">\n",
    "\n",
    "Right away, we can see that AB occurs only once in the first column. The pair AC never occurs in a block. Either one of these methods will tell you this is not a valid BIBD, although calculating the lambda is certainly quicker. \n",
    "\n",
    "In the case of a second example, where there are 4 treatments (t) and you intend to do 3 treatments per block (k), with 3 full replications (r), we get a lambda of 2. This BIBD is a go! YAY!\n",
    "\n",
    "<img src=\"images/BIBD_Possible_2.JPG\">\n",
    "\n",
    "Again, we can look at the image to verify that each pair of treatments occurs together twice across the entire experiment. \n",
    "\n",
    "<img src=\"images/BIBD_Valid.JPG\">\n",
    "\n",
    "Let's find the number of occurrences of AB, for example. Columns are our blocking factor,so we're checking for pairs column-wise. We see AB in the 1st and 2nd columns only. AC occurs in the 2nd and 3rd columns only. If we continued, this would hold true for all pairs of treatments in this study. "
   ]
  },
  {
   "cell_type": "code",
   "execution_count": null,
   "metadata": {
    "collapsed": true
   },
   "outputs": [],
   "source": []
  }
 ],
 "metadata": {
  "kernelspec": {
   "display_name": "R",
   "language": "R",
   "name": "ir"
  },
  "language_info": {
   "codemirror_mode": "r",
   "file_extension": ".r",
   "mimetype": "text/x-r-source",
   "name": "R",
   "pygments_lexer": "r",
   "version": "3.4.1"
  }
 },
 "nbformat": 4,
 "nbformat_minor": 2
}
