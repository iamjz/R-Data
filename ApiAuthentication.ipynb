{
 "cells": [
  {
   "cell_type": "markdown",
   "metadata": {},
   "source": [
    "## OAuth\n",
    "\n",
    "OAuth authentication is the process in which users authorize access to an application without sharing their credentials. Instead of a user's credentials, OAuth uses tokens. There are two types of tokens. **Request tokens** are used by an app to request access from users.  Once authorized, the request token is exchanged for an access token, which is the second type of token. **Access tokens*** are used by an app to act on behalf of users.\n",
    "\n",
    "The OAuth authentication process is done in three steps:\n",
    "1. The app obtains an unauthorized request token.\n",
    "2. The user authorizes the request token.\n",
    "3. The app exchanges the request token for an access token."
   ]
  },
  {
   "cell_type": "markdown",
   "metadata": {},
   "source": [
    "## Glossary\n",
    "\n",
    "*All terms and definitions listed below were taken from [OAuth Core Workgroup, 2007](https://oauth.net/core/1.0/).*\n",
    "\n",
    "**Service Provider**:\n",
    "- A web application that allows access via OAuth. \n",
    "\n",
    "**User**:\n",
    "- An individual who has an account with the Service Provider. \n",
    "\n",
    "**Consumer**:\n",
    "- A website or application that uses OAuth to access the Service Provider on behalf of the User. \n",
    "\n",
    "**Protected Resource(s)**:\n",
    "- Data controlled by the Service Provider, which the Consumer can access through authentication. \n",
    "\n",
    "**Consumer Developer**:\n",
    "- An individual or organization that implements a Consumer. \n",
    "\n",
    "**Consumer Key**:\n",
    "- A value used by the Consumer to identify itself to the Service Provider. \n",
    "\n",
    "**Consumer Secret**:\n",
    "- A secret used by the Consumer to establish ownership of the Consumer Key. \n",
    "\n",
    "**Request Token**:\n",
    "- A value used by the Consumer to obtain authorization from the User, and exchanged for an Access Token. \n",
    "\n",
    "**Access Token**:\n",
    "- A value used by the Consumer to gain access to the Protected Resources on behalf of the User, instead of using the User’s Service Provider credentials. \n",
    "\n",
    "**Token Secret**:\n",
    "- A secret used by the Consumer to establish ownership of a given Token. \n",
    "\n",
    "**OAuth Protocol Parameters**:\n",
    "- Parameters with names beginning with oauth_. "
   ]
  }
 ],
 "metadata": {
  "kernelspec": {
   "display_name": "R",
   "language": "R",
   "name": "ir"
  },
  "language_info": {
   "codemirror_mode": "r",
   "file_extension": ".r",
   "mimetype": "text/x-r-source",
   "name": "R",
   "pygments_lexer": "r",
   "version": "3.4.1"
  }
 },
 "nbformat": 4,
 "nbformat_minor": 2
}
