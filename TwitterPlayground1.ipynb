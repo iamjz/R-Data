{
 "cells": [
  {
   "cell_type": "code",
   "execution_count": 11,
   "metadata": {},
   "outputs": [],
   "source": [
    "library(httr)"
   ]
  },
  {
   "cell_type": "code",
   "execution_count": 13,
   "metadata": {},
   "outputs": [
    {
     "data": {
      "text/plain": [
       "<Token>\n",
       "<oauth_endpoint>\n",
       " request:   https://api.twitter.com/oauth/request_token\n",
       " authorize: https://api.twitter.com/oauth/authenticate\n",
       " access:    https://api.twitter.com/oauth/access_token\n",
       "<oauth_app> data_sci_8001\n",
       "  key:    nImVTaVIeo6tYlKnwYgxPRquQ\n",
       "  secret: <hidden>\n",
       "<credentials> oauth_token, oauth_token_secret, user_id, screen_name, x_auth_expires\n",
       "---"
      ]
     },
     "metadata": {},
     "output_type": "display_data"
    }
   ],
   "source": [
    "(token <- readRDS(\"token.rds\"))"
   ]
  },
  {
   "cell_type": "code",
   "execution_count": 15,
   "metadata": {},
   "outputs": [
    {
     "data": {
      "text/html": [
       "'C:\\Users\\Jacky Zhao\\Desktop\\repos\\R-Data\\token.rds'"
      ],
      "text/latex": [
       "'C:\\textbackslash{}Users\\textbackslash{}Jacky Zhao\\textbackslash{}Desktop\\textbackslash{}repos\\textbackslash{}R-Data\\textbackslash{}token.rds'"
      ],
      "text/markdown": [
       "'C:\\Users\\Jacky Zhao\\Desktop\\repos\\R-Data\\token.rds'"
      ],
      "text/plain": [
       "[1] \"C:\\\\Users\\\\Jacky Zhao\\\\Desktop\\\\repos\\\\R-Data\\\\token.rds\""
      ]
     },
     "metadata": {},
     "output_type": "display_data"
    }
   ],
   "source": [
    "path_to_token <- normalizePath(\"token.rds\")\n",
    "\n",
    "path_to_token"
   ]
  },
  {
   "cell_type": "code",
   "execution_count": 17,
   "metadata": {},
   "outputs": [
    {
     "data": {
      "text/html": [
       "'TWITTER_PAT=C:\\Users\\Jacky Zhao\\Desktop\\repos\\R-Data\\token.rds'"
      ],
      "text/latex": [
       "'TWITTER\\_PAT=C:\\textbackslash{}Users\\textbackslash{}Jacky Zhao\\textbackslash{}Desktop\\textbackslash{}repos\\textbackslash{}R-Data\\textbackslash{}token.rds'"
      ],
      "text/markdown": [
       "'TWITTER_PAT=C:\\Users\\Jacky Zhao\\Desktop\\repos\\R-Data\\token.rds'"
      ],
      "text/plain": [
       "[1] \"TWITTER_PAT=C:\\\\Users\\\\Jacky Zhao\\\\Desktop\\\\repos\\\\R-Data\\\\token.rds\""
      ]
     },
     "metadata": {},
     "output_type": "display_data"
    }
   ],
   "source": [
    "envvar <- paste0(\"TWITTER_PAT=\", path_to_token)\n",
    "\n",
    "envvar"
   ]
  },
  {
   "cell_type": "code",
   "execution_count": 19,
   "metadata": {
    "collapsed": true
   },
   "outputs": [],
   "source": [
    "cat(envvar, file = \"~/.Renviron\", fill = TRUE, append = TRUE)"
   ]
  },
  {
   "cell_type": "code",
   "execution_count": 21,
   "metadata": {},
   "outputs": [
    {
     "data": {
      "text/html": [
       "TRUE"
      ],
      "text/latex": [
       "TRUE"
      ],
      "text/markdown": [
       "TRUE"
      ],
      "text/plain": [
       "[1] TRUE"
      ]
     },
     "metadata": {},
     "output_type": "display_data"
    }
   ],
   "source": [
    "(readRenviron(\"~/.Renviron\"))"
   ]
  },
  {
   "cell_type": "code",
   "execution_count": 23,
   "metadata": {},
   "outputs": [
    {
     "data": {
      "text/plain": [
       "<Token>\n",
       "<oauth_endpoint>\n",
       " request:   https://api.twitter.com/oauth/request_token\n",
       " authorize: https://api.twitter.com/oauth/authenticate\n",
       " access:    https://api.twitter.com/oauth/access_token\n",
       "<oauth_app> data_sci_8001\n",
       "  key:    nImVTaVIeo6tYlKnwYgxPRquQ\n",
       "  secret: <hidden>\n",
       "<credentials> oauth_token, oauth_token_secret, user_id, screen_name, x_auth_expires\n",
       "---"
      ]
     },
     "metadata": {},
     "output_type": "display_data"
    }
   ],
   "source": [
    "## load token function\n",
    "load_twitter_token <- function() {\n",
    "    ## your function code goes here\n",
    "    return(readRDS(path_to_token))\n",
    "    \n",
    "}\n",
    "\n",
    "## load token\n",
    "token <- load_twitter_token()\n",
    "\n",
    "## print token\n",
    "token"
   ]
  },
  {
   "cell_type": "code",
   "execution_count": 24,
   "metadata": {
    "collapsed": true
   },
   "outputs": [],
   "source": [
    "## write function to query users/search API\n",
    "search_tweeps <- function(q, page = NULL,\n",
    "                           count = 100, \n",
    "                           include_entities = TRUE) {\n",
    "    ## URL scheme and hostname\n",
    "    base_url <- \"https://api.twitter.com\"\n",
    "    ## include the API version number as part of the path\n",
    "    path <- \"1.1/users/search.json\"\n",
    "    ## continue function code here\n",
    "    \n",
    "    params <- list(\n",
    "        q = q,\n",
    "        page = page,\n",
    "        count = count,\n",
    "        include_entities = include_entities\n",
    "    )\n",
    "    \n",
    "    response <- httr::GET(base_url, path = path, query = params, \n",
    "                httr::config(token = load_twitter_token()))  \n",
    "    \n",
    "    \n",
    "    print(paste(\"Response Code: \", response$status_code))\n",
    "    \n",
    "    return(response)\n",
    "    \n",
    "}"
   ]
  },
  {
   "cell_type": "code",
   "execution_count": 25,
   "metadata": {},
   "outputs": [
    {
     "name": "stdout",
     "output_type": "stream",
     "text": [
      "[1] \"Response Code:  200\"\n"
     ]
    }
   ],
   "source": [
    "## test function\n",
    "usr <- search_tweeps(\"rstats\")"
   ]
  },
  {
   "cell_type": "code",
   "execution_count": 26,
   "metadata": {},
   "outputs": [
    {
     "data": {
      "text/plain": [
       "Response [https://api.twitter.com/1.1/users/search.json?q=rstats&count=100&include_entities=TRUE]\n",
       "  Date: 2018-01-29 00:21\n",
       "  Status: 200\n",
       "  Content-Type: application/json;charset=utf-8\n",
       "  Size: 63 kB\n"
      ]
     },
     "metadata": {},
     "output_type": "display_data"
    },
    {
     "name": "stdout",
     "output_type": "stream",
     "text": [
      "[1] \"Response Code:  200\"\n"
     ]
    }
   ],
   "source": [
    "## show (print) that usr's status code == 200\n",
    "usr\n",
    "\n",
    "print(paste(\"Response Code: \", usr$status_code))"
   ]
  },
  {
   "cell_type": "code",
   "execution_count": 27,
   "metadata": {
    "collapsed": true
   },
   "outputs": [],
   "source": [
    "\n",
    "response2list <- function(x) {\n",
    "    ## your function code goes in here\n",
    "    responseContent <-  httr::content(x, as = \"text\", encoding = \"UTF-8\")\n",
    "    responseJson <- jsonlite::fromJSON(responseContent)\n",
    "    return(responseJson)    \n",
    "}"
   ]
  },
  {
   "cell_type": "code",
   "execution_count": 28,
   "metadata": {
    "collapsed": true
   },
   "outputs": [],
   "source": [
    "usr <- response2list(usr)"
   ]
  },
  {
   "cell_type": "code",
   "execution_count": 29,
   "metadata": {
    "scrolled": true
   },
   "outputs": [
    {
     "name": "stdout",
     "output_type": "stream",
     "text": [
      "'data.frame':\t20 obs. of  43 variables:\n",
      " $ id                                : num  1.09e+07 2.97e+09 2.54e+08 4.41e+09 3.42e+08 ...\n",
      " $ id_str                            : chr  \"10915042\" \"2973406683\" \"253791979\" \"4406202856\" ...\n",
      " $ name                              : chr  \"Sharon Machlis\" \"Mike Kearney<f0><U+009F><U+0093><U+008A>\" \"Dean Attali\" \"Joyce Robbins\" ...\n",
      " $ screen_name                       : chr  \"sharon000\" \"kearneymw\" \"daattali\" \"jtrnyc\" ...\n",
      " $ location                          : chr  \"\" \"Columbia, MO\" \"Toronto\" \"New York, NY\" ...\n",
      " $ description                       : chr  \"Director, editorial data & analytics, IDG. A bit #rstats obsessed.\" \"Assistant Professor at @mujschool and MU Informatics Institute. Interested in new media, partisanship, data jou\"| __truncated__ \"Founder & Lead R-Shiny Consultant @ AttaliTech Ltd.\\n\\n#rstats blogger, tool builder, extreme traveller. MSc in\"| __truncated__ \"Data visualization and stories, Lecturer, Dept of Statistics, Columbia U #rstats\" ...\n",
      " $ url                               : chr  \"https://t.co/TTtBZRGP8q\" \"https://t.co/wBaqsHTMcW\" \"https://t.co/thlIsXJa95\" \"https://t.co/SqsH63OVW9\" ...\n",
      " $ entities                          :'data.frame':\t20 obs. of  2 variables:\n",
      "  ..$ url        :'data.frame':\t20 obs. of  1 variable:\n",
      "  ..$ description:'data.frame':\t20 obs. of  1 variable:\n",
      " $ protected                         : logi  FALSE FALSE FALSE FALSE FALSE FALSE ...\n",
      " $ followers_count                   : int  5407 3256 2786 452 16802 49164 9270 19966 11726 15182 ...\n",
      " $ friends_count                     : int  728 859 52 260 507 11 399 2927 448 543 ...\n",
      " $ listed_count                      : int  550 92 121 31 724 1380 615 1197 434 566 ...\n",
      " $ created_at                        : chr  \"Thu Dec 06 20:46:28 +0000 2007\" \"Sun Jan 11 17:54:09 +0000 2015\" \"Thu Feb 17 23:58:19 +0000 2011\" \"Mon Dec 07 15:33:00 +0000 2015\" ...\n",
      " $ favourites_count                  : int  3571 10441 1461 3033 906 3 11186 60602 20631 21026 ...\n",
      " $ utc_offset                        : int  -18000 -21600 -18000 -28800 -28800 -28800 -18000 -18000 -25200 -28800 ...\n",
      " $ time_zone                         : chr  \"Eastern Time (US & Canada)\" \"Central Time (US & Canada)\" \"Eastern Time (US & Canada)\" \"Pacific Time (US & Canada)\" ...\n",
      " $ geo_enabled                       : logi  FALSE FALSE TRUE FALSE TRUE FALSE ...\n",
      " $ verified                          : logi  FALSE FALSE FALSE FALSE TRUE FALSE ...\n",
      " $ statuses_count                    : int  10429 3176 2337 800 3931 1822 71556 23840 16619 9827 ...\n",
      " $ lang                              : chr  \"en\" \"en\" \"en\" \"en\" ...\n",
      " $ status                            :'data.frame':\t20 obs. of  27 variables:\n",
      "  ..$ created_at               : chr  \"Sun Jan 28 16:06:50 +0000 2018\" \"Sun Jan 28 17:48:49 +0000 2018\" \"Sun Jan 28 18:24:47 +0000 2018\" \"Sun Jan 28 17:08:33 +0000 2018\" ...\n",
      "  ..$ id                       : num  9.58e+17 9.58e+17 9.58e+17 9.58e+17 9.57e+17 ...\n",
      "  ..$ id_str                   : chr  \"957646157391519744\" \"957671820328620033\" \"957680871372349440\" \"957661688588898304\" ...\n",
      "  ..$ text                     : chr  \"@hspter @dataandme So true. Probably my most popular R article for Computerworld is the Beginner's Guide.  It s\"| __truncated__ \"@robinson_es I can't explain how excited I am to see this make the slides!!! https://t.co/Xrs9hzQ6Uj\" \"@yoniceedee hahaha you don't need to understand any spoken language to laugh at that\" \"@dt_gasman @katiejolly6 There have been some funny tweets about ppl finding answers on Stack Overflow... that t\"| __truncated__ ...\n",
      "  ..$ truncated                : logi  TRUE FALSE FALSE FALSE TRUE FALSE ...\n",
      "  ..$ entities                 :'data.frame':\t20 obs. of  5 variables:\n",
      "  ..$ source                   : chr  \"<a href=\\\"http://twitter.com/download/android\\\" rel=\\\"nofollow\\\">Twitter for Android</a>\" \"<a href=\\\"http://twitter.com\\\" rel=\\\"nofollow\\\">Twitter Web Client</a>\" \"<a href=\\\"http://twitter.com\\\" rel=\\\"nofollow\\\">Twitter Web Client</a>\" \"<a href=\\\"http://twitter.com/download/iphone\\\" rel=\\\"nofollow\\\">Twitter for iPhone</a>\" ...\n",
      "  ..$ in_reply_to_status_id    : num  9.57e+17 9.58e+17 9.58e+17 9.58e+17 NA ...\n",
      "  ..$ in_reply_to_status_id_str: chr  \"957306935103148033\" \"957671308980097025\" \"957678504342097920\" \"957659357277315073\" ...\n",
      "  ..$ in_reply_to_user_id      : num  2.42e+07 5.98e+08 2.22e+09 2.77e+09 NA ...\n",
      "  ..$ in_reply_to_user_id_str  : chr  \"24228154\" \"597868047\" \"2219758122\" \"2771735326\" ...\n",
      "  ..$ in_reply_to_screen_name  : chr  \"hspter\" \"robinson_es\" \"yoniceedee\" \"dt_gasman\" ...\n",
      "  ..$ geo                      : logi  NA NA NA NA NA NA ...\n",
      "  ..$ coordinates              : logi  NA NA NA NA NA NA ...\n",
      "  ..$ place                    :'data.frame':\t20 obs. of  10 variables:\n",
      "  ..$ contributors             : logi  NA NA NA NA NA NA ...\n",
      "  ..$ is_quote_status          : logi  FALSE FALSE FALSE FALSE FALSE FALSE ...\n",
      "  ..$ retweet_count            : int  0 0 0 0 10 15 1 0 109 0 ...\n",
      "  ..$ favorite_count           : int  4 4 0 1 14 19 5 0 0 4 ...\n",
      "  ..$ favorited                : logi  FALSE FALSE FALSE FALSE FALSE FALSE ...\n",
      "  ..$ retweeted                : logi  FALSE FALSE FALSE FALSE FALSE FALSE ...\n",
      "  ..$ lang                     : chr  \"en\" \"en\" \"en\" \"en\" ...\n",
      "  ..$ extended_entities        :'data.frame':\t20 obs. of  1 variable:\n",
      "  ..$ possibly_sensitive       : logi  NA FALSE NA NA FALSE FALSE ...\n",
      "  ..$ retweeted_status         :'data.frame':\t20 obs. of  25 variables:\n",
      "  ..$ quoted_status_id         : num  NA NA NA NA NA NA NA NA NA NA ...\n",
      "  ..$ quoted_status_id_str     : chr  NA NA NA NA ...\n",
      " $ contributors_enabled              : logi  FALSE FALSE FALSE FALSE FALSE FALSE ...\n",
      " $ is_translator                     : logi  FALSE FALSE FALSE FALSE FALSE FALSE ...\n",
      " $ is_translation_enabled            : logi  FALSE FALSE FALSE FALSE FALSE FALSE ...\n",
      " $ profile_background_color          : chr  \"9AE4E8\" \"FFFFFF\" \"C0DEED\" \"C0DEED\" ...\n",
      " $ profile_background_image_url      : chr  \"http://pbs.twimg.com/profile_background_images/3936757/P_Boston-at-Night_199.jpg\" \"http://pbs.twimg.com/profile_background_images/555396380810694656/AzcNcSuW.jpeg\" \"http://abs.twimg.com/images/themes/theme1/bg.png\" \"http://abs.twimg.com/images/themes/theme1/bg.png\" ...\n",
      " $ profile_background_image_url_https: chr  \"https://pbs.twimg.com/profile_background_images/3936757/P_Boston-at-Night_199.jpg\" \"https://pbs.twimg.com/profile_background_images/555396380810694656/AzcNcSuW.jpeg\" \"https://abs.twimg.com/images/themes/theme1/bg.png\" \"https://abs.twimg.com/images/themes/theme1/bg.png\" ...\n",
      " $ profile_background_tile           : logi  FALSE FALSE FALSE FALSE FALSE FALSE ...\n",
      " $ profile_image_url                 : chr  \"http://pbs.twimg.com/profile_images/825034502690975744/FLgM9GhW_normal.jpg\" \"http://pbs.twimg.com/profile_images/952856856627744769/pFCpd07u_normal.jpg\" \"http://pbs.twimg.com/profile_images/507322253776650240/TyAxiMi6_normal.jpeg\" \"http://pbs.twimg.com/profile_images/725803766130302981/CLrBmOIj_normal.jpg\" ...\n",
      " $ profile_image_url_https           : chr  \"https://pbs.twimg.com/profile_images/825034502690975744/FLgM9GhW_normal.jpg\" \"https://pbs.twimg.com/profile_images/952856856627744769/pFCpd07u_normal.jpg\" \"https://pbs.twimg.com/profile_images/507322253776650240/TyAxiMi6_normal.jpeg\" \"https://pbs.twimg.com/profile_images/725803766130302981/CLrBmOIj_normal.jpg\" ...\n",
      " $ profile_banner_url                : chr  \"https://pbs.twimg.com/profile_banners/10915042/1402674885\" \"https://pbs.twimg.com/profile_banners/2973406683/1482876477\" \"https://pbs.twimg.com/profile_banners/253791979/1502778303\" NA ...\n",
      " $ profile_link_color                : chr  \"0084B4\" \"CC1111\" \"1DA1F2\" \"1DA1F2\" ...\n",
      " $ profile_sidebar_border_color      : chr  \"BDDCAD\" \"C0DEED\" \"C0DEED\" \"C0DEED\" ...\n",
      " $ profile_sidebar_fill_color        : chr  \"DDFFCC\" \"DDEEF6\" \"DDEEF6\" \"DDEEF6\" ...\n",
      " $ profile_text_color                : chr  \"333333\" \"333333\" \"333333\" \"333333\" ...\n",
      " $ profile_use_background_image      : logi  TRUE FALSE TRUE TRUE TRUE FALSE ...\n",
      " $ has_extended_profile              : logi  FALSE TRUE TRUE TRUE FALSE FALSE ...\n",
      " $ default_profile                   : logi  FALSE FALSE TRUE TRUE TRUE FALSE ...\n",
      " $ default_profile_image             : logi  FALSE FALSE FALSE FALSE FALSE FALSE ...\n",
      " $ following                         : logi  TRUE FALSE TRUE TRUE TRUE TRUE ...\n",
      " $ follow_request_sent               : logi  FALSE FALSE FALSE FALSE FALSE FALSE ...\n",
      " $ notifications                     : logi  FALSE FALSE FALSE FALSE FALSE FALSE ...\n",
      " $ translator_type                   : chr  \"none\" \"none\" \"none\" \"none\" ...\n"
     ]
    }
   ],
   "source": [
    "str(usr, 2)"
   ]
  },
  {
   "cell_type": "code",
   "execution_count": 30,
   "metadata": {},
   "outputs": [
    {
     "data": {
      "text/html": [
       "<table>\n",
       "<thead><tr><th scope=col>id</th><th scope=col>id_str</th><th scope=col>name</th><th scope=col>screen_name</th><th scope=col>location</th><th scope=col>description</th><th scope=col>url</th><th scope=col>protected</th><th scope=col>followers_count</th><th scope=col>friends_count</th><th scope=col>...</th><th scope=col>profile_sidebar_fill_color</th><th scope=col>profile_text_color</th><th scope=col>profile_use_background_image</th><th scope=col>has_extended_profile</th><th scope=col>default_profile</th><th scope=col>default_profile_image</th><th scope=col>following</th><th scope=col>follow_request_sent</th><th scope=col>notifications</th><th scope=col>translator_type</th></tr></thead>\n",
       "<tbody>\n",
       "\t<tr><td><span style=white-space:pre-wrap>  10915042</span>                                                                                                                                                       </td><td><span style=white-space:pre-wrap>10915042  </span>                                                                                                                                                       </td><td><span style=white-space:pre-wrap>Sharon Machlis                          </span>                                                                                                                         </td><td>sharon000                                                                                                                                                                                                </td><td><span style=white-space:pre-wrap>                                     </span>                                                                                                                            </td><td><span style=white-space:pre-wrap>Director, editorial data &amp; analytics, IDG. A bit #rstats obsessed.                                                                                           </span></td><td>https://t.co/TTtBZRGP8q                                                                                                                                                                                  </td><td>FALSE                                                                                                                                                                                                    </td><td> 5407                                                                                                                                                                                                    </td><td>728                                                                                                                                                                                                      </td><td>...                                                                                                                                                                                                      </td><td>DDFFCC                                                                                                                                                                                                   </td><td>333333                                                                                                                                                                                                   </td><td> TRUE                                                                                                                                                                                                    </td><td>FALSE                                                                                                                                                                                                    </td><td>FALSE                                                                                                                                                                                                    </td><td>FALSE                                                                                                                                                                                                    </td><td> TRUE                                                                                                                                                                                                    </td><td>FALSE                                                                                                                                                                                                    </td><td>FALSE                                                                                                                                                                                                    </td><td>none                                                                                                                                                                                                     </td></tr>\n",
       "\t<tr><td>2973406683                                                                                                                                                                                           </td><td>2973406683                                                                                                                                                                                           </td><td>Mike Kearney&lt;f0&gt;&lt;U+009F&gt;&lt;U+0093&gt;&lt;U+008A&gt;                                                                                                                                     </td><td>kearneymw                                                                                                                                                                                            </td><td><span style=white-space:pre-wrap>Columbia, MO                         </span>                                                                                                                        </td><td><span style=white-space:pre-wrap>Assistant Professor at @mujschool and MU Informatics Institute. Interested in new media, partisanship, data journalism, data[[\"big\"]] science, and #rstats.  </span></td><td>https://t.co/wBaqsHTMcW                                                                                                                                                                              </td><td>FALSE                                                                                                                                                                                                </td><td> 3256                                                                                                                                                                                                </td><td>859                                                                                                                                                                                                  </td><td>...                                                                                                                                                                                                  </td><td>DDEEF6                                                                                                                                                                                               </td><td>333333                                                                                                                                                                                               </td><td>FALSE                                                                                                                                                                                                </td><td> TRUE                                                                                                                                                                                                </td><td>FALSE                                                                                                                                                                                                </td><td>FALSE                                                                                                                                                                                                </td><td>FALSE                                                                                                                                                                                                </td><td>FALSE                                                                                                                                                                                                </td><td>FALSE                                                                                                                                                                                                </td><td>none                                                                                                                                                                                                 </td></tr>\n",
       "\t<tr><td> 253791979                                                                                                                                                       </td><td>253791979                                                                                                                                                        </td><td><span style=white-space:pre-wrap>Dean Attali                             </span>                                                                                 </td><td>daattali                                                                                                                                                         </td><td><span style=white-space:pre-wrap>Toronto                              </span>                                                                                    </td><td>Founder &amp; Lead R-Shiny Consultant @ AttaliTech Ltd.\n",
       "\n",
       "#rstats blogger, tool builder, extreme traveller. MSc in Bioinformatics, Bachelor of Computer Science.</td><td>https://t.co/thlIsXJa95                                                                                                                                          </td><td>FALSE                                                                                                                                                            </td><td> 2786                                                                                                                                                            </td><td> 52                                                                                                                                                              </td><td>...                                                                                                                                                              </td><td>DDEEF6                                                                                                                                                           </td><td>333333                                                                                                                                                           </td><td> TRUE                                                                                                                                                            </td><td> TRUE                                                                                                                                                            </td><td> TRUE                                                                                                                                                            </td><td>FALSE                                                                                                                                                            </td><td> TRUE                                                                                                                                                            </td><td>FALSE                                                                                                                                                            </td><td>FALSE                                                                                                                                                            </td><td>none                                                                                                                                                             </td></tr>\n",
       "\t<tr><td>4406202856                                                                                                                                                   </td><td>4406202856                                                                                                                                                   </td><td>Joyce Robbins                                                                                                                                                </td><td>jtrnyc                                                                                                                                                       </td><td>New York, NY                                                                                                                                                 </td><td>Data visualization and stories, Lecturer, Dept of Statistics, Columbia U #rstats                                                                             </td><td>https://t.co/SqsH63OVW9                                                                                                                                      </td><td>FALSE                                                                                                                                                        </td><td>  452                                                                                                                                                        </td><td>260                                                                                                                                                          </td><td>...                                                                                                                                                          </td><td>DDEEF6                                                                                                                                                       </td><td>333333                                                                                                                                                       </td><td> TRUE                                                                                                                                                        </td><td> TRUE                                                                                                                                                        </td><td> TRUE                                                                                                                                                        </td><td>FALSE                                                                                                                                                        </td><td> TRUE                                                                                                                                                        </td><td>FALSE                                                                                                                                                        </td><td>FALSE                                                                                                                                                        </td><td>none                                                                                                                                                         </td></tr>\n",
       "\t<tr><td> 342250615                                                                                                                                                   </td><td>342250615                                                                                                                                                    </td><td>rOpenSci                                                                                                                                                     </td><td>rOpenSci                                                                                                                                                     </td><td>Berkeley, Portland, Kamloops, Utrecht                                                                                                                        </td><td>rOpenSci develops #rstats-based tools to facilitate open science and access to open data. Tweets by @sckottie,  @_inundata, @StefanieButland, @opencpu       </td><td>https://t.co/Ijujhl8x1E                                                                                                                                      </td><td>FALSE                                                                                                                                                        </td><td>16802                                                                                                                                                        </td><td>507                                                                                                                                                          </td><td>...                                                                                                                                                          </td><td>DDEEF6                                                                                                                                                       </td><td>333333                                                                                                                                                       </td><td> TRUE                                                                                                                                                        </td><td>FALSE                                                                                                                                                        </td><td> TRUE                                                                                                                                                        </td><td>FALSE                                                                                                                                                        </td><td> TRUE                                                                                                                                                        </td><td>FALSE                                                                                                                                                        </td><td>FALSE                                                                                                                                                        </td><td>none                                                                                                                                                         </td></tr>\n",
       "\t<tr><td> 295344317                                                                                                                                                   </td><td>295344317                                                                                                                                                    </td><td>One R Tip a Day                                                                                                                                              </td><td>RLangTip                                                                                                                                                     </td><td>                                                                                                                                                             </td><td>One tip per day M-F on the R programming language #rstats. Brought to you by the R community team at Microsoft.                                              </td><td>NA                                                                                                                                                           </td><td>FALSE                                                                                                                                                        </td><td>49164                                                                                                                                                        </td><td> 11                                                                                                                                                          </td><td>...                                                                                                                                                          </td><td>FFFFFF                                                                                                                                                       </td><td>333333                                                                                                                                                       </td><td>FALSE                                                                                                                                                        </td><td>FALSE                                                                                                                                                        </td><td>FALSE                                                                                                                                                        </td><td>FALSE                                                                                                                                                        </td><td> TRUE                                                                                                                                                        </td><td>FALSE                                                                                                                                                        </td><td>FALSE                                                                                                                                                        </td><td>none                                                                                                                                                         </td></tr>\n",
       "</tbody>\n",
       "</table>\n"
      ],
      "text/latex": [
       "\\begin{tabular}{r|lllllllllllllllllllllllllllllllllllllllll}\n",
       " id & id\\_str & name & screen\\_name & location & description & url & protected & followers\\_count & friends\\_count & ... & profile\\_sidebar\\_fill\\_color & profile\\_text\\_color & profile\\_use\\_background\\_image & has\\_extended\\_profile & default\\_profile & default\\_profile\\_image & following & follow\\_request\\_sent & notifications & translator\\_type\\\\\n",
       "\\hline\n",
       "\t   10915042                                                                                                                                                        & 10915042                                                                                                                                                          & Sharon Machlis                                                                                                                                                    & sharon000                                                                                                                                                         &                                                                                                                                                                   & Director, editorial data \\& analytics, IDG. A bit \\#rstats obsessed.                                                                                            & https://t.co/TTtBZRGP8q                                                                                                                                           & FALSE                                                                                                                                                             &  5407                                                                                                                                                             & 728                                                                                                                                                               & ...                                                                                                                                                               & DDFFCC                                                                                                                                                            & 333333                                                                                                                                                            &  TRUE                                                                                                                                                             & FALSE                                                                                                                                                             & FALSE                                                                                                                                                             & FALSE                                                                                                                                                             &  TRUE                                                                                                                                                             & FALSE                                                                                                                                                             & FALSE                                                                                                                                                             & none                                                                                                                                                             \\\\\n",
       "\t 2973406683                                                                                                                                                              & 2973406683                                                                                                                                                              & Mike Kearney<f0><U+009F><U+0093><U+008A>                                                                                                                                & kearneymw                                                                                                                                                               & Columbia, MO                                                                                                                                                            & Assistant Professor at @mujschool and MU Informatics Institute. Interested in new media, partisanship, data journalism, data{[}{[}\"big\"{]}{]} science, and \\#rstats.   & https://t.co/wBaqsHTMcW                                                                                                                                                 & FALSE                                                                                                                                                                   &  3256                                                                                                                                                                   & 859                                                                                                                                                                     & ...                                                                                                                                                                     & DDEEF6                                                                                                                                                                  & 333333                                                                                                                                                                  & FALSE                                                                                                                                                                   &  TRUE                                                                                                                                                                   & FALSE                                                                                                                                                                   & FALSE                                                                                                                                                                   & FALSE                                                                                                                                                                   & FALSE                                                                                                                                                                   & FALSE                                                                                                                                                                   & none                                                                                                                                                                   \\\\\n",
       "\t  253791979                                                                                                                                                        & 253791979                                                                                                                                                         & Dean Attali                                                                                                                                                       & daattali                                                                                                                                                          & Toronto                                                                                                                                                           & Founder \\& Lead R-Shiny Consultant @ AttaliTech Ltd.\n",
       "\n",
       "\\#rstats blogger, tool builder, extreme traveller. MSc in Bioinformatics, Bachelor of Computer Science. & https://t.co/thlIsXJa95                                                                                                                                           & FALSE                                                                                                                                                             &  2786                                                                                                                                                             &  52                                                                                                                                                               & ...                                                                                                                                                               & DDEEF6                                                                                                                                                            & 333333                                                                                                                                                            &  TRUE                                                                                                                                                             &  TRUE                                                                                                                                                             &  TRUE                                                                                                                                                             & FALSE                                                                                                                                                             &  TRUE                                                                                                                                                             & FALSE                                                                                                                                                             & FALSE                                                                                                                                                             & none                                                                                                                                                             \\\\\n",
       "\t 4406202856                                                                                                                                                      & 4406202856                                                                                                                                                      & Joyce Robbins                                                                                                                                                   & jtrnyc                                                                                                                                                          & New York, NY                                                                                                                                                    & Data visualization and stories, Lecturer, Dept of Statistics, Columbia U \\#rstats                                                                              & https://t.co/SqsH63OVW9                                                                                                                                         & FALSE                                                                                                                                                           &   452                                                                                                                                                           & 260                                                                                                                                                             & ...                                                                                                                                                             & DDEEF6                                                                                                                                                          & 333333                                                                                                                                                          &  TRUE                                                                                                                                                           &  TRUE                                                                                                                                                           &  TRUE                                                                                                                                                           & FALSE                                                                                                                                                           &  TRUE                                                                                                                                                           & FALSE                                                                                                                                                           & FALSE                                                                                                                                                           & none                                                                                                                                                           \\\\\n",
       "\t  342250615                                                                                                                                                        & 342250615                                                                                                                                                         & rOpenSci                                                                                                                                                          & rOpenSci                                                                                                                                                          & Berkeley, Portland, Kamloops, Utrecht                                                                                                                             & rOpenSci develops \\#rstats-based tools to facilitate open science and access to open data. Tweets by @sckottie,  @\\_inundata, @StefanieButland, @opencpu        & https://t.co/Ijujhl8x1E                                                                                                                                           & FALSE                                                                                                                                                             & 16802                                                                                                                                                             & 507                                                                                                                                                               & ...                                                                                                                                                               & DDEEF6                                                                                                                                                            & 333333                                                                                                                                                            &  TRUE                                                                                                                                                             & FALSE                                                                                                                                                             &  TRUE                                                                                                                                                             & FALSE                                                                                                                                                             &  TRUE                                                                                                                                                             & FALSE                                                                                                                                                             & FALSE                                                                                                                                                             & none                                                                                                                                                             \\\\\n",
       "\t  295344317                                                                                                                                                      & 295344317                                                                                                                                                       & One R Tip a Day                                                                                                                                                 & RLangTip                                                                                                                                                        &                                                                                                                                                                 & One tip per day M-F on the R programming language \\#rstats. Brought to you by the R community team at Microsoft.                                               & NA                                                                                                                                                              & FALSE                                                                                                                                                           & 49164                                                                                                                                                           &  11                                                                                                                                                             & ...                                                                                                                                                             & FFFFFF                                                                                                                                                          & 333333                                                                                                                                                          & FALSE                                                                                                                                                           & FALSE                                                                                                                                                           & FALSE                                                                                                                                                           & FALSE                                                                                                                                                           &  TRUE                                                                                                                                                           & FALSE                                                                                                                                                           & FALSE                                                                                                                                                           & none                                                                                                                                                           \\\\\n",
       "\\end{tabular}\n"
      ],
      "text/markdown": [
       "\n",
       "id | id_str | name | screen_name | location | description | url | protected | followers_count | friends_count | ... | profile_sidebar_fill_color | profile_text_color | profile_use_background_image | has_extended_profile | default_profile | default_profile_image | following | follow_request_sent | notifications | translator_type | \n",
       "|---|---|---|---|---|---|\n",
       "|   10915042                                                                                                                                                    | 10915042                                                                                                                                                      | Sharon Machlis                                                                                                                                                | sharon000                                                                                                                                                     |                                                                                                                                                               | Director, editorial data & analytics, IDG. A bit #rstats obsessed.                                                                                            | https://t.co/TTtBZRGP8q                                                                                                                                       | FALSE                                                                                                                                                         |  5407                                                                                                                                                         | 728                                                                                                                                                           | ...                                                                                                                                                           | DDFFCC                                                                                                                                                        | 333333                                                                                                                                                        |  TRUE                                                                                                                                                         | FALSE                                                                                                                                                         | FALSE                                                                                                                                                         | FALSE                                                                                                                                                         |  TRUE                                                                                                                                                         | FALSE                                                                                                                                                         | FALSE                                                                                                                                                         | none                                                                                                                                                          | \n",
       "| 2973406683                                                                                                                                                    | 2973406683                                                                                                                                                    | Mike Kearney<f0><U+009F><U+0093><U+008A>                                                                                                                      | kearneymw                                                                                                                                                     | Columbia, MO                                                                                                                                                  | Assistant Professor at @mujschool and MU Informatics Institute. Interested in new media, partisanship, data journalism, data[[\"big\"]] science, and #rstats.   | https://t.co/wBaqsHTMcW                                                                                                                                       | FALSE                                                                                                                                                         |  3256                                                                                                                                                         | 859                                                                                                                                                           | ...                                                                                                                                                           | DDEEF6                                                                                                                                                        | 333333                                                                                                                                                        | FALSE                                                                                                                                                         |  TRUE                                                                                                                                                         | FALSE                                                                                                                                                         | FALSE                                                                                                                                                         | FALSE                                                                                                                                                         | FALSE                                                                                                                                                         | FALSE                                                                                                                                                         | none                                                                                                                                                          | \n",
       "|  253791979                                                                                                                                                    | 253791979                                                                                                                                                     | Dean Attali                                                                                                                                                   | daattali                                                                                                                                                      | Toronto                                                                                                                                                       | Founder & Lead R-Shiny Consultant @ AttaliTech Ltd.\n",
       "\n",
       "#rstats blogger, tool builder, extreme traveller. MSc in Bioinformatics, Bachelor of Computer Science. | https://t.co/thlIsXJa95                                                                                                                                       | FALSE                                                                                                                                                         |  2786                                                                                                                                                         |  52                                                                                                                                                           | ...                                                                                                                                                           | DDEEF6                                                                                                                                                        | 333333                                                                                                                                                        |  TRUE                                                                                                                                                         |  TRUE                                                                                                                                                         |  TRUE                                                                                                                                                         | FALSE                                                                                                                                                         |  TRUE                                                                                                                                                         | FALSE                                                                                                                                                         | FALSE                                                                                                                                                         | none                                                                                                                                                          | \n",
       "| 4406202856                                                                                                                                                    | 4406202856                                                                                                                                                    | Joyce Robbins                                                                                                                                                 | jtrnyc                                                                                                                                                        | New York, NY                                                                                                                                                  | Data visualization and stories, Lecturer, Dept of Statistics, Columbia U #rstats                                                                              | https://t.co/SqsH63OVW9                                                                                                                                       | FALSE                                                                                                                                                         |   452                                                                                                                                                         | 260                                                                                                                                                           | ...                                                                                                                                                           | DDEEF6                                                                                                                                                        | 333333                                                                                                                                                        |  TRUE                                                                                                                                                         |  TRUE                                                                                                                                                         |  TRUE                                                                                                                                                         | FALSE                                                                                                                                                         |  TRUE                                                                                                                                                         | FALSE                                                                                                                                                         | FALSE                                                                                                                                                         | none                                                                                                                                                          | \n",
       "|  342250615                                                                                                                                                    | 342250615                                                                                                                                                     | rOpenSci                                                                                                                                                      | rOpenSci                                                                                                                                                      | Berkeley, Portland, Kamloops, Utrecht                                                                                                                         | rOpenSci develops #rstats-based tools to facilitate open science and access to open data. Tweets by @sckottie,  @_inundata, @StefanieButland, @opencpu        | https://t.co/Ijujhl8x1E                                                                                                                                       | FALSE                                                                                                                                                         | 16802                                                                                                                                                         | 507                                                                                                                                                           | ...                                                                                                                                                           | DDEEF6                                                                                                                                                        | 333333                                                                                                                                                        |  TRUE                                                                                                                                                         | FALSE                                                                                                                                                         |  TRUE                                                                                                                                                         | FALSE                                                                                                                                                         |  TRUE                                                                                                                                                         | FALSE                                                                                                                                                         | FALSE                                                                                                                                                         | none                                                                                                                                                          | \n",
       "|  295344317                                                                                                                                                    | 295344317                                                                                                                                                     | One R Tip a Day                                                                                                                                               | RLangTip                                                                                                                                                      |                                                                                                                                                               | One tip per day M-F on the R programming language #rstats. Brought to you by the R community team at Microsoft.                                               | NA                                                                                                                                                            | FALSE                                                                                                                                                         | 49164                                                                                                                                                         |  11                                                                                                                                                           | ...                                                                                                                                                           | FFFFFF                                                                                                                                                        | 333333                                                                                                                                                        | FALSE                                                                                                                                                         | FALSE                                                                                                                                                         | FALSE                                                                                                                                                         | FALSE                                                                                                                                                         |  TRUE                                                                                                                                                         | FALSE                                                                                                                                                         | FALSE                                                                                                                                                         | none                                                                                                                                                          | \n",
       "\n",
       "\n"
      ],
      "text/plain": [
       "  id         id_str     name                                     screen_name\n",
       "1   10915042 10915042   Sharon Machlis                           sharon000  \n",
       "2 2973406683 2973406683 Mike Kearney<f0><U+009F><U+0093><U+008A> kearneymw  \n",
       "3  253791979 253791979  Dean Attali                              daattali   \n",
       "4 4406202856 4406202856 Joyce Robbins                            jtrnyc     \n",
       "5  342250615 342250615  rOpenSci                                 rOpenSci   \n",
       "6  295344317 295344317  One R Tip a Day                          RLangTip   \n",
       "  location                             \n",
       "1                                      \n",
       "2 Columbia, MO                         \n",
       "3 Toronto                              \n",
       "4 New York, NY                         \n",
       "5 Berkeley, Portland, Kamloops, Utrecht\n",
       "6                                      \n",
       "  description                                                                                                                                                  \n",
       "1 Director, editorial data & analytics, IDG. A bit #rstats obsessed.                                                                                           \n",
       "2 Assistant Professor at @mujschool and MU Informatics Institute. Interested in new media, partisanship, data journalism, data[[\"big\"]] science, and #rstats.  \n",
       "3 Founder & Lead R-Shiny Consultant @ AttaliTech Ltd.\\n\\n#rstats blogger, tool builder, extreme traveller. MSc in Bioinformatics, Bachelor of Computer Science.\n",
       "4 Data visualization and stories, Lecturer, Dept of Statistics, Columbia U #rstats                                                                             \n",
       "5 rOpenSci develops #rstats-based tools to facilitate open science and access to open data. Tweets by @sckottie,  @_inundata, @StefanieButland, @opencpu       \n",
       "6 One tip per day M-F on the R programming language #rstats. Brought to you by the R community team at Microsoft.                                              \n",
       "  url                     protected followers_count friends_count ...\n",
       "1 https://t.co/TTtBZRGP8q FALSE      5407           728           ...\n",
       "2 https://t.co/wBaqsHTMcW FALSE      3256           859           ...\n",
       "3 https://t.co/thlIsXJa95 FALSE      2786            52           ...\n",
       "4 https://t.co/SqsH63OVW9 FALSE       452           260           ...\n",
       "5 https://t.co/Ijujhl8x1E FALSE     16802           507           ...\n",
       "6 NA                      FALSE     49164            11           ...\n",
       "  profile_sidebar_fill_color profile_text_color profile_use_background_image\n",
       "1 DDFFCC                     333333              TRUE                       \n",
       "2 DDEEF6                     333333             FALSE                       \n",
       "3 DDEEF6                     333333              TRUE                       \n",
       "4 DDEEF6                     333333              TRUE                       \n",
       "5 DDEEF6                     333333              TRUE                       \n",
       "6 FFFFFF                     333333             FALSE                       \n",
       "  has_extended_profile default_profile default_profile_image following\n",
       "1 FALSE                FALSE           FALSE                  TRUE    \n",
       "2  TRUE                FALSE           FALSE                 FALSE    \n",
       "3  TRUE                 TRUE           FALSE                  TRUE    \n",
       "4  TRUE                 TRUE           FALSE                  TRUE    \n",
       "5 FALSE                 TRUE           FALSE                  TRUE    \n",
       "6 FALSE                FALSE           FALSE                  TRUE    \n",
       "  follow_request_sent notifications translator_type\n",
       "1 FALSE               FALSE         none           \n",
       "2 FALSE               FALSE         none           \n",
       "3 FALSE               FALSE         none           \n",
       "4 FALSE               FALSE         none           \n",
       "5 FALSE               FALSE         none           \n",
       "6 FALSE               FALSE         none           "
      ]
     },
     "metadata": {},
     "output_type": "display_data"
    }
   ],
   "source": [
    "usr_atomic <- usr[, sapply(usr, is.atomic)]\n",
    "head(usr_atomic, 6)"
   ]
  },
  {
   "cell_type": "code",
   "execution_count": 31,
   "metadata": {},
   "outputs": [
    {
     "name": "stdout",
     "output_type": "stream",
     "text": [
      "'data.frame':\t20 obs. of  2 variables:\n",
      " $ entities:'data.frame':\t20 obs. of  2 variables:\n",
      "  ..$ url        :'data.frame':\t20 obs. of  1 variable:\n",
      "  ..$ description:'data.frame':\t20 obs. of  1 variable:\n",
      " $ status  :'data.frame':\t20 obs. of  27 variables:\n",
      "  ..$ created_at               : chr  \"Sun Jan 28 16:06:50 +0000 2018\" \"Sun Jan 28 17:48:49 +0000 2018\" \"Sun Jan 28 18:24:47 +0000 2018\" \"Sun Jan 28 17:08:33 +0000 2018\" ...\n",
      "  ..$ id                       : num  9.58e+17 9.58e+17 9.58e+17 9.58e+17 9.57e+17 ...\n",
      "  ..$ id_str                   : chr  \"957646157391519744\" \"957671820328620033\" \"957680871372349440\" \"957661688588898304\" ...\n",
      "  ..$ text                     : chr  \"@hspter @dataandme So true. Probably my most popular R article for Computerworld is the Beginner's Guide.  It s\"| __truncated__ \"@robinson_es I can't explain how excited I am to see this make the slides!!! https://t.co/Xrs9hzQ6Uj\" \"@yoniceedee hahaha you don't need to understand any spoken language to laugh at that\" \"@dt_gasman @katiejolly6 There have been some funny tweets about ppl finding answers on Stack Overflow... that t\"| __truncated__ ...\n",
      "  ..$ truncated                : logi  TRUE FALSE FALSE FALSE TRUE FALSE ...\n",
      "  ..$ entities                 :'data.frame':\t20 obs. of  5 variables:\n",
      "  ..$ source                   : chr  \"<a href=\\\"http://twitter.com/download/android\\\" rel=\\\"nofollow\\\">Twitter for Android</a>\" \"<a href=\\\"http://twitter.com\\\" rel=\\\"nofollow\\\">Twitter Web Client</a>\" \"<a href=\\\"http://twitter.com\\\" rel=\\\"nofollow\\\">Twitter Web Client</a>\" \"<a href=\\\"http://twitter.com/download/iphone\\\" rel=\\\"nofollow\\\">Twitter for iPhone</a>\" ...\n",
      "  ..$ in_reply_to_status_id    : num  9.57e+17 9.58e+17 9.58e+17 9.58e+17 NA ...\n",
      "  ..$ in_reply_to_status_id_str: chr  \"957306935103148033\" \"957671308980097025\" \"957678504342097920\" \"957659357277315073\" ...\n",
      "  ..$ in_reply_to_user_id      : num  2.42e+07 5.98e+08 2.22e+09 2.77e+09 NA ...\n",
      "  ..$ in_reply_to_user_id_str  : chr  \"24228154\" \"597868047\" \"2219758122\" \"2771735326\" ...\n",
      "  ..$ in_reply_to_screen_name  : chr  \"hspter\" \"robinson_es\" \"yoniceedee\" \"dt_gasman\" ...\n",
      "  ..$ geo                      : logi  NA NA NA NA NA NA ...\n",
      "  ..$ coordinates              : logi  NA NA NA NA NA NA ...\n",
      "  ..$ place                    :'data.frame':\t20 obs. of  10 variables:\n",
      "  ..$ contributors             : logi  NA NA NA NA NA NA ...\n",
      "  ..$ is_quote_status          : logi  FALSE FALSE FALSE FALSE FALSE FALSE ...\n",
      "  ..$ retweet_count            : int  0 0 0 0 10 15 1 0 109 0 ...\n",
      "  ..$ favorite_count           : int  4 4 0 1 14 19 5 0 0 4 ...\n",
      "  ..$ favorited                : logi  FALSE FALSE FALSE FALSE FALSE FALSE ...\n",
      "  ..$ retweeted                : logi  FALSE FALSE FALSE FALSE FALSE FALSE ...\n",
      "  ..$ lang                     : chr  \"en\" \"en\" \"en\" \"en\" ...\n",
      "  ..$ extended_entities        :'data.frame':\t20 obs. of  1 variable:\n",
      "  ..$ possibly_sensitive       : logi  NA FALSE NA NA FALSE FALSE ...\n",
      "  ..$ retweeted_status         :'data.frame':\t20 obs. of  25 variables:\n",
      "  ..$ quoted_status_id         : num  NA NA NA NA NA NA NA NA NA NA ...\n",
      "  ..$ quoted_status_id_str     : chr  NA NA NA NA ...\n"
     ]
    }
   ],
   "source": [
    "usr_recurs <- usr[, sapply(usr, is.recursive)]\n",
    "str(usr_recurs, 2)"
   ]
  },
  {
   "cell_type": "code",
   "execution_count": 32,
   "metadata": {},
   "outputs": [
    {
     "data": {
      "text/html": [
       "<ol class=list-inline>\n",
       "\t<li>'id'</li>\n",
       "\t<li>'id_str'</li>\n",
       "\t<li>'name'</li>\n",
       "\t<li>'screen_name'</li>\n",
       "\t<li>'location'</li>\n",
       "\t<li>'description'</li>\n",
       "\t<li>'url'</li>\n",
       "\t<li>'protected'</li>\n",
       "\t<li>'followers_count'</li>\n",
       "\t<li>'friends_count'</li>\n",
       "\t<li>'listed_count'</li>\n",
       "\t<li>'created_at'</li>\n",
       "\t<li>'favourites_count'</li>\n",
       "\t<li>'utc_offset'</li>\n",
       "\t<li>'time_zone'</li>\n",
       "\t<li>'geo_enabled'</li>\n",
       "\t<li>'verified'</li>\n",
       "\t<li>'statuses_count'</li>\n",
       "\t<li>'lang'</li>\n",
       "\t<li>'contributors_enabled'</li>\n",
       "\t<li>'is_translator'</li>\n",
       "\t<li>'is_translation_enabled'</li>\n",
       "\t<li>'profile_background_color'</li>\n",
       "\t<li>'profile_background_image_url'</li>\n",
       "\t<li>'profile_background_image_url_https'</li>\n",
       "\t<li>'profile_background_tile'</li>\n",
       "\t<li>'profile_image_url'</li>\n",
       "\t<li>'profile_image_url_https'</li>\n",
       "\t<li>'profile_banner_url'</li>\n",
       "\t<li>'profile_link_color'</li>\n",
       "\t<li>'profile_sidebar_border_color'</li>\n",
       "\t<li>'profile_sidebar_fill_color'</li>\n",
       "\t<li>'profile_text_color'</li>\n",
       "\t<li>'profile_use_background_image'</li>\n",
       "\t<li>'has_extended_profile'</li>\n",
       "\t<li>'default_profile'</li>\n",
       "\t<li>'default_profile_image'</li>\n",
       "\t<li>'following'</li>\n",
       "\t<li>'follow_request_sent'</li>\n",
       "\t<li>'notifications'</li>\n",
       "\t<li>'translator_type'</li>\n",
       "</ol>\n"
      ],
      "text/latex": [
       "\\begin{enumerate*}\n",
       "\\item 'id'\n",
       "\\item 'id\\_str'\n",
       "\\item 'name'\n",
       "\\item 'screen\\_name'\n",
       "\\item 'location'\n",
       "\\item 'description'\n",
       "\\item 'url'\n",
       "\\item 'protected'\n",
       "\\item 'followers\\_count'\n",
       "\\item 'friends\\_count'\n",
       "\\item 'listed\\_count'\n",
       "\\item 'created\\_at'\n",
       "\\item 'favourites\\_count'\n",
       "\\item 'utc\\_offset'\n",
       "\\item 'time\\_zone'\n",
       "\\item 'geo\\_enabled'\n",
       "\\item 'verified'\n",
       "\\item 'statuses\\_count'\n",
       "\\item 'lang'\n",
       "\\item 'contributors\\_enabled'\n",
       "\\item 'is\\_translator'\n",
       "\\item 'is\\_translation\\_enabled'\n",
       "\\item 'profile\\_background\\_color'\n",
       "\\item 'profile\\_background\\_image\\_url'\n",
       "\\item 'profile\\_background\\_image\\_url\\_https'\n",
       "\\item 'profile\\_background\\_tile'\n",
       "\\item 'profile\\_image\\_url'\n",
       "\\item 'profile\\_image\\_url\\_https'\n",
       "\\item 'profile\\_banner\\_url'\n",
       "\\item 'profile\\_link\\_color'\n",
       "\\item 'profile\\_sidebar\\_border\\_color'\n",
       "\\item 'profile\\_sidebar\\_fill\\_color'\n",
       "\\item 'profile\\_text\\_color'\n",
       "\\item 'profile\\_use\\_background\\_image'\n",
       "\\item 'has\\_extended\\_profile'\n",
       "\\item 'default\\_profile'\n",
       "\\item 'default\\_profile\\_image'\n",
       "\\item 'following'\n",
       "\\item 'follow\\_request\\_sent'\n",
       "\\item 'notifications'\n",
       "\\item 'translator\\_type'\n",
       "\\end{enumerate*}\n"
      ],
      "text/markdown": [
       "1. 'id'\n",
       "2. 'id_str'\n",
       "3. 'name'\n",
       "4. 'screen_name'\n",
       "5. 'location'\n",
       "6. 'description'\n",
       "7. 'url'\n",
       "8. 'protected'\n",
       "9. 'followers_count'\n",
       "10. 'friends_count'\n",
       "11. 'listed_count'\n",
       "12. 'created_at'\n",
       "13. 'favourites_count'\n",
       "14. 'utc_offset'\n",
       "15. 'time_zone'\n",
       "16. 'geo_enabled'\n",
       "17. 'verified'\n",
       "18. 'statuses_count'\n",
       "19. 'lang'\n",
       "20. 'contributors_enabled'\n",
       "21. 'is_translator'\n",
       "22. 'is_translation_enabled'\n",
       "23. 'profile_background_color'\n",
       "24. 'profile_background_image_url'\n",
       "25. 'profile_background_image_url_https'\n",
       "26. 'profile_background_tile'\n",
       "27. 'profile_image_url'\n",
       "28. 'profile_image_url_https'\n",
       "29. 'profile_banner_url'\n",
       "30. 'profile_link_color'\n",
       "31. 'profile_sidebar_border_color'\n",
       "32. 'profile_sidebar_fill_color'\n",
       "33. 'profile_text_color'\n",
       "34. 'profile_use_background_image'\n",
       "35. 'has_extended_profile'\n",
       "36. 'default_profile'\n",
       "37. 'default_profile_image'\n",
       "38. 'following'\n",
       "39. 'follow_request_sent'\n",
       "40. 'notifications'\n",
       "41. 'translator_type'\n",
       "\n",
       "\n"
      ],
      "text/plain": [
       " [1] \"id\"                                 \"id_str\"                            \n",
       " [3] \"name\"                               \"screen_name\"                       \n",
       " [5] \"location\"                           \"description\"                       \n",
       " [7] \"url\"                                \"protected\"                         \n",
       " [9] \"followers_count\"                    \"friends_count\"                     \n",
       "[11] \"listed_count\"                       \"created_at\"                        \n",
       "[13] \"favourites_count\"                   \"utc_offset\"                        \n",
       "[15] \"time_zone\"                          \"geo_enabled\"                       \n",
       "[17] \"verified\"                           \"statuses_count\"                    \n",
       "[19] \"lang\"                               \"contributors_enabled\"              \n",
       "[21] \"is_translator\"                      \"is_translation_enabled\"            \n",
       "[23] \"profile_background_color\"           \"profile_background_image_url\"      \n",
       "[25] \"profile_background_image_url_https\" \"profile_background_tile\"           \n",
       "[27] \"profile_image_url\"                  \"profile_image_url_https\"           \n",
       "[29] \"profile_banner_url\"                 \"profile_link_color\"                \n",
       "[31] \"profile_sidebar_border_color\"       \"profile_sidebar_fill_color\"        \n",
       "[33] \"profile_text_color\"                 \"profile_use_background_image\"      \n",
       "[35] \"has_extended_profile\"               \"default_profile\"                   \n",
       "[37] \"default_profile_image\"              \"following\"                         \n",
       "[39] \"follow_request_sent\"                \"notifications\"                     \n",
       "[41] \"translator_type\"                   "
      ]
     },
     "metadata": {},
     "output_type": "display_data"
    }
   ],
   "source": [
    "names(usr_atomic)"
   ]
  },
  {
   "cell_type": "code",
   "execution_count": 33,
   "metadata": {},
   "outputs": [
    {
     "data": {
      "text/html": [
       "<table>\n",
       "<thead><tr><th scope=col>id</th><th scope=col>id_str</th><th scope=col>name</th><th scope=col>screen_name</th><th scope=col>location</th><th scope=col>description</th><th scope=col>url</th><th scope=col>protected</th><th scope=col>followers_count</th><th scope=col>friends_count</th><th scope=col>...</th><th scope=col>profile_text_color</th><th scope=col>profile_use_background_image</th><th scope=col>has_extended_profile</th><th scope=col>default_profile</th><th scope=col>default_profile_image</th><th scope=col>following</th><th scope=col>follow_request_sent</th><th scope=col>notifications</th><th scope=col>translator_type</th><th scope=col>last_tweet</th></tr></thead>\n",
       "<tbody>\n",
       "\t<tr><td><span style=white-space:pre-wrap>  10915042</span>                                                                                                                                                       </td><td><span style=white-space:pre-wrap>10915042  </span>                                                                                                                                                       </td><td><span style=white-space:pre-wrap>Sharon Machlis                          </span>                                                                                                                         </td><td>sharon000                                                                                                                                                                                                </td><td><span style=white-space:pre-wrap>            </span>                                                                                                                                                     </td><td><span style=white-space:pre-wrap>Director, editorial data &amp; analytics, IDG. A bit #rstats obsessed.                                                                                           </span></td><td>https://t.co/TTtBZRGP8q                                                                                                                                                                                  </td><td>FALSE                                                                                                                                                                                                    </td><td>5407                                                                                                                                                                                                     </td><td>728                                                                                                                                                                                                      </td><td>...                                                                                                                                                                                                      </td><td>333333                                                                                                                                                                                                   </td><td> TRUE                                                                                                                                                                                                    </td><td>FALSE                                                                                                                                                                                                    </td><td>FALSE                                                                                                                                                                                                    </td><td>FALSE                                                                                                                                                                                                    </td><td> TRUE                                                                                                                                                                                                    </td><td>FALSE                                                                                                                                                                                                    </td><td>FALSE                                                                                                                                                                                                    </td><td>none                                                                                                                                                                                                     </td><td>2007-12-06 14:46:28                                                                                                                                                                                      </td></tr>\n",
       "\t<tr><td>2973406683                                                                                                                                                                                           </td><td>2973406683                                                                                                                                                                                           </td><td>Mike Kearney&lt;f0&gt;&lt;U+009F&gt;&lt;U+0093&gt;&lt;U+008A&gt;                                                                                                                                     </td><td>kearneymw                                                                                                                                                                                            </td><td>Columbia, MO                                                                                                                                                                                         </td><td><span style=white-space:pre-wrap>Assistant Professor at @mujschool and MU Informatics Institute. Interested in new media, partisanship, data journalism, data[[\"big\"]] science, and #rstats.  </span></td><td>https://t.co/wBaqsHTMcW                                                                                                                                                                              </td><td>FALSE                                                                                                                                                                                                </td><td>3256                                                                                                                                                                                                 </td><td>859                                                                                                                                                                                                  </td><td>...                                                                                                                                                                                                  </td><td>333333                                                                                                                                                                                               </td><td>FALSE                                                                                                                                                                                                </td><td> TRUE                                                                                                                                                                                                </td><td>FALSE                                                                                                                                                                                                </td><td>FALSE                                                                                                                                                                                                </td><td>FALSE                                                                                                                                                                                                </td><td>FALSE                                                                                                                                                                                                </td><td>FALSE                                                                                                                                                                                                </td><td>none                                                                                                                                                                                                 </td><td>2015-01-11 11:54:09                                                                                                                                                                                  </td></tr>\n",
       "\t<tr><td> 253791979                                                                                                                                                       </td><td>253791979                                                                                                                                                        </td><td><span style=white-space:pre-wrap>Dean Attali                             </span>                                                                                 </td><td>daattali                                                                                                                                                         </td><td><span style=white-space:pre-wrap>Toronto     </span>                                                                                                             </td><td>Founder &amp; Lead R-Shiny Consultant @ AttaliTech Ltd.\n",
       "\n",
       "#rstats blogger, tool builder, extreme traveller. MSc in Bioinformatics, Bachelor of Computer Science.</td><td>https://t.co/thlIsXJa95                                                                                                                                          </td><td>FALSE                                                                                                                                                            </td><td>2786                                                                                                                                                             </td><td> 52                                                                                                                                                              </td><td>...                                                                                                                                                              </td><td>333333                                                                                                                                                           </td><td> TRUE                                                                                                                                                            </td><td> TRUE                                                                                                                                                            </td><td> TRUE                                                                                                                                                            </td><td>FALSE                                                                                                                                                            </td><td> TRUE                                                                                                                                                            </td><td>FALSE                                                                                                                                                            </td><td>FALSE                                                                                                                                                            </td><td>none                                                                                                                                                             </td><td>2011-02-17 17:58:19                                                                                                                                              </td></tr>\n",
       "</tbody>\n",
       "</table>\n"
      ],
      "text/latex": [
       "\\begin{tabular}{r|llllllllllllllllllllllllllllllllllllllllll}\n",
       " id & id\\_str & name & screen\\_name & location & description & url & protected & followers\\_count & friends\\_count & ... & profile\\_text\\_color & profile\\_use\\_background\\_image & has\\_extended\\_profile & default\\_profile & default\\_profile\\_image & following & follow\\_request\\_sent & notifications & translator\\_type & last\\_tweet\\\\\n",
       "\\hline\n",
       "\t   10915042                                                                                                                                                        & 10915042                                                                                                                                                          & Sharon Machlis                                                                                                                                                    & sharon000                                                                                                                                                         &                                                                                                                                                                   & Director, editorial data \\& analytics, IDG. A bit \\#rstats obsessed.                                                                                            & https://t.co/TTtBZRGP8q                                                                                                                                           & FALSE                                                                                                                                                             & 5407                                                                                                                                                              & 728                                                                                                                                                               & ...                                                                                                                                                               & 333333                                                                                                                                                            &  TRUE                                                                                                                                                             & FALSE                                                                                                                                                             & FALSE                                                                                                                                                             & FALSE                                                                                                                                                             &  TRUE                                                                                                                                                             & FALSE                                                                                                                                                             & FALSE                                                                                                                                                             & none                                                                                                                                                              & 2007-12-06 14:46:28                                                                                                                                              \\\\\n",
       "\t 2973406683                                                                                                                                                              & 2973406683                                                                                                                                                              & Mike Kearney<f0><U+009F><U+0093><U+008A>                                                                                                                                & kearneymw                                                                                                                                                               & Columbia, MO                                                                                                                                                            & Assistant Professor at @mujschool and MU Informatics Institute. Interested in new media, partisanship, data journalism, data{[}{[}\"big\"{]}{]} science, and \\#rstats.   & https://t.co/wBaqsHTMcW                                                                                                                                                 & FALSE                                                                                                                                                                   & 3256                                                                                                                                                                    & 859                                                                                                                                                                     & ...                                                                                                                                                                     & 333333                                                                                                                                                                  & FALSE                                                                                                                                                                   &  TRUE                                                                                                                                                                   & FALSE                                                                                                                                                                   & FALSE                                                                                                                                                                   & FALSE                                                                                                                                                                   & FALSE                                                                                                                                                                   & FALSE                                                                                                                                                                   & none                                                                                                                                                                    & 2015-01-11 11:54:09                                                                                                                                                    \\\\\n",
       "\t  253791979                                                                                                                                                        & 253791979                                                                                                                                                         & Dean Attali                                                                                                                                                       & daattali                                                                                                                                                          & Toronto                                                                                                                                                           & Founder \\& Lead R-Shiny Consultant @ AttaliTech Ltd.\n",
       "\n",
       "\\#rstats blogger, tool builder, extreme traveller. MSc in Bioinformatics, Bachelor of Computer Science. & https://t.co/thlIsXJa95                                                                                                                                           & FALSE                                                                                                                                                             & 2786                                                                                                                                                              &  52                                                                                                                                                               & ...                                                                                                                                                               & 333333                                                                                                                                                            &  TRUE                                                                                                                                                             &  TRUE                                                                                                                                                             &  TRUE                                                                                                                                                             & FALSE                                                                                                                                                             &  TRUE                                                                                                                                                             & FALSE                                                                                                                                                             & FALSE                                                                                                                                                             & none                                                                                                                                                              & 2011-02-17 17:58:19                                                                                                                                              \\\\\n",
       "\\end{tabular}\n"
      ],
      "text/markdown": [
       "\n",
       "id | id_str | name | screen_name | location | description | url | protected | followers_count | friends_count | ... | profile_text_color | profile_use_background_image | has_extended_profile | default_profile | default_profile_image | following | follow_request_sent | notifications | translator_type | last_tweet | \n",
       "|---|---|---|\n",
       "|   10915042                                                                                                                                                    | 10915042                                                                                                                                                      | Sharon Machlis                                                                                                                                                | sharon000                                                                                                                                                     |                                                                                                                                                               | Director, editorial data & analytics, IDG. A bit #rstats obsessed.                                                                                            | https://t.co/TTtBZRGP8q                                                                                                                                       | FALSE                                                                                                                                                         | 5407                                                                                                                                                          | 728                                                                                                                                                           | ...                                                                                                                                                           | 333333                                                                                                                                                        |  TRUE                                                                                                                                                         | FALSE                                                                                                                                                         | FALSE                                                                                                                                                         | FALSE                                                                                                                                                         |  TRUE                                                                                                                                                         | FALSE                                                                                                                                                         | FALSE                                                                                                                                                         | none                                                                                                                                                          | 2007-12-06 14:46:28                                                                                                                                           | \n",
       "| 2973406683                                                                                                                                                    | 2973406683                                                                                                                                                    | Mike Kearney<f0><U+009F><U+0093><U+008A>                                                                                                                      | kearneymw                                                                                                                                                     | Columbia, MO                                                                                                                                                  | Assistant Professor at @mujschool and MU Informatics Institute. Interested in new media, partisanship, data journalism, data[[\"big\"]] science, and #rstats.   | https://t.co/wBaqsHTMcW                                                                                                                                       | FALSE                                                                                                                                                         | 3256                                                                                                                                                          | 859                                                                                                                                                           | ...                                                                                                                                                           | 333333                                                                                                                                                        | FALSE                                                                                                                                                         |  TRUE                                                                                                                                                         | FALSE                                                                                                                                                         | FALSE                                                                                                                                                         | FALSE                                                                                                                                                         | FALSE                                                                                                                                                         | FALSE                                                                                                                                                         | none                                                                                                                                                          | 2015-01-11 11:54:09                                                                                                                                           | \n",
       "|  253791979                                                                                                                                                    | 253791979                                                                                                                                                     | Dean Attali                                                                                                                                                   | daattali                                                                                                                                                      | Toronto                                                                                                                                                       | Founder & Lead R-Shiny Consultant @ AttaliTech Ltd.\n",
       "\n",
       "#rstats blogger, tool builder, extreme traveller. MSc in Bioinformatics, Bachelor of Computer Science. | https://t.co/thlIsXJa95                                                                                                                                       | FALSE                                                                                                                                                         | 2786                                                                                                                                                          |  52                                                                                                                                                           | ...                                                                                                                                                           | 333333                                                                                                                                                        |  TRUE                                                                                                                                                         |  TRUE                                                                                                                                                         |  TRUE                                                                                                                                                         | FALSE                                                                                                                                                         |  TRUE                                                                                                                                                         | FALSE                                                                                                                                                         | FALSE                                                                                                                                                         | none                                                                                                                                                          | 2011-02-17 17:58:19                                                                                                                                           | \n",
       "\n",
       "\n"
      ],
      "text/plain": [
       "  id         id_str     name                                     screen_name\n",
       "1   10915042 10915042   Sharon Machlis                           sharon000  \n",
       "2 2973406683 2973406683 Mike Kearney<f0><U+009F><U+0093><U+008A> kearneymw  \n",
       "3  253791979 253791979  Dean Attali                              daattali   \n",
       "  location    \n",
       "1             \n",
       "2 Columbia, MO\n",
       "3 Toronto     \n",
       "  description                                                                                                                                                  \n",
       "1 Director, editorial data & analytics, IDG. A bit #rstats obsessed.                                                                                           \n",
       "2 Assistant Professor at @mujschool and MU Informatics Institute. Interested in new media, partisanship, data journalism, data[[\"big\"]] science, and #rstats.  \n",
       "3 Founder & Lead R-Shiny Consultant @ AttaliTech Ltd.\\n\\n#rstats blogger, tool builder, extreme traveller. MSc in Bioinformatics, Bachelor of Computer Science.\n",
       "  url                     protected followers_count friends_count ...\n",
       "1 https://t.co/TTtBZRGP8q FALSE     5407            728           ...\n",
       "2 https://t.co/wBaqsHTMcW FALSE     3256            859           ...\n",
       "3 https://t.co/thlIsXJa95 FALSE     2786             52           ...\n",
       "  profile_text_color profile_use_background_image has_extended_profile\n",
       "1 333333              TRUE                        FALSE               \n",
       "2 333333             FALSE                         TRUE               \n",
       "3 333333              TRUE                         TRUE               \n",
       "  default_profile default_profile_image following follow_request_sent\n",
       "1 FALSE           FALSE                  TRUE     FALSE              \n",
       "2 FALSE           FALSE                 FALSE     FALSE              \n",
       "3  TRUE           FALSE                  TRUE     FALSE              \n",
       "  notifications translator_type last_tweet         \n",
       "1 FALSE         none            2007-12-06 14:46:28\n",
       "2 FALSE         none            2015-01-11 11:54:09\n",
       "3 FALSE         none            2011-02-17 17:58:19"
      ]
     },
     "metadata": {},
     "output_type": "display_data"
    }
   ],
   "source": [
    "## function for converting characters to date times\n",
    "convert2posixct <- function(x) {\n",
    "    as.POSIXct(x, format = \"%a %b %d %T %z %Y\")\n",
    "}\n",
    "\n",
    "## convert to posixct and add status created_at as new variable named `last_tweet`\n",
    "usr_atomic$last_tweet <- convert2posixct(usr_atomic$created_at)\n",
    "head(usr_atomic, 3)"
   ]
  },
  {
   "cell_type": "code",
   "execution_count": 34,
   "metadata": {},
   "outputs": [
    {
     "data": {
      "text/html": [
       "<table>\n",
       "<thead><tr><th scope=col>id</th><th scope=col>id_str</th><th scope=col>name</th><th scope=col>screen_name</th><th scope=col>location</th><th scope=col>description</th><th scope=col>url</th><th scope=col>protected</th><th scope=col>followers_count</th><th scope=col>friends_count</th><th scope=col>...</th><th scope=col>profile_use_background_image</th><th scope=col>has_extended_profile</th><th scope=col>default_profile</th><th scope=col>default_profile_image</th><th scope=col>following</th><th scope=col>follow_request_sent</th><th scope=col>notifications</th><th scope=col>translator_type</th><th scope=col>last_tweet</th><th scope=col>weeks_joined</th></tr></thead>\n",
       "<tbody>\n",
       "\t<tr><td><span style=white-space:pre-wrap>  10915042</span>                                                                                                                                                       </td><td><span style=white-space:pre-wrap>10915042  </span>                                                                                                                                                       </td><td><span style=white-space:pre-wrap>Sharon Machlis                          </span>                                                                                                                         </td><td>sharon000                                                                                                                                                                                                </td><td><span style=white-space:pre-wrap>            </span>                                                                                                                                                     </td><td><span style=white-space:pre-wrap>Director, editorial data &amp; analytics, IDG. A bit #rstats obsessed.                                                                                           </span></td><td>https://t.co/TTtBZRGP8q                                                                                                                                                                                  </td><td>FALSE                                                                                                                                                                                                    </td><td>5407                                                                                                                                                                                                     </td><td>728                                                                                                                                                                                                      </td><td>...                                                                                                                                                                                                      </td><td> TRUE                                                                                                                                                                                                    </td><td>FALSE                                                                                                                                                                                                    </td><td>FALSE                                                                                                                                                                                                    </td><td>FALSE                                                                                                                                                                                                    </td><td> TRUE                                                                                                                                                                                                    </td><td>FALSE                                                                                                                                                                                                    </td><td>FALSE                                                                                                                                                                                                    </td><td>none                                                                                                                                                                                                     </td><td>2007-12-06 14:46:28                                                                                                                                                                                      </td><td>529.4500                                                                                                                                                                                                 </td></tr>\n",
       "\t<tr><td>2973406683                                                                                                                                                                                           </td><td>2973406683                                                                                                                                                                                           </td><td>Mike Kearney&lt;f0&gt;&lt;U+009F&gt;&lt;U+0093&gt;&lt;U+008A&gt;                                                                                                                                     </td><td>kearneymw                                                                                                                                                                                            </td><td>Columbia, MO                                                                                                                                                                                         </td><td><span style=white-space:pre-wrap>Assistant Professor at @mujschool and MU Informatics Institute. Interested in new media, partisanship, data journalism, data[[\"big\"]] science, and #rstats.  </span></td><td>https://t.co/wBaqsHTMcW                                                                                                                                                                              </td><td>FALSE                                                                                                                                                                                                </td><td>3256                                                                                                                                                                                                 </td><td>859                                                                                                                                                                                                  </td><td>...                                                                                                                                                                                                  </td><td>FALSE                                                                                                                                                                                                </td><td> TRUE                                                                                                                                                                                                </td><td>FALSE                                                                                                                                                                                                </td><td>FALSE                                                                                                                                                                                                </td><td>FALSE                                                                                                                                                                                                </td><td>FALSE                                                                                                                                                                                                </td><td>FALSE                                                                                                                                                                                                </td><td>none                                                                                                                                                                                                 </td><td>2015-01-11 11:54:09                                                                                                                                                                                  </td><td>159.0385                                                                                                                                                                                             </td></tr>\n",
       "\t<tr><td> 253791979                                                                                                                                                       </td><td>253791979                                                                                                                                                        </td><td><span style=white-space:pre-wrap>Dean Attali                             </span>                                                                                 </td><td>daattali                                                                                                                                                         </td><td><span style=white-space:pre-wrap>Toronto     </span>                                                                                                             </td><td>Founder &amp; Lead R-Shiny Consultant @ AttaliTech Ltd.\n",
       "\n",
       "#rstats blogger, tool builder, extreme traveller. MSc in Bioinformatics, Bachelor of Computer Science.</td><td>https://t.co/thlIsXJa95                                                                                                                                          </td><td>FALSE                                                                                                                                                            </td><td>2786                                                                                                                                                             </td><td> 52                                                                                                                                                              </td><td>...                                                                                                                                                              </td><td> TRUE                                                                                                                                                            </td><td> TRUE                                                                                                                                                            </td><td> TRUE                                                                                                                                                            </td><td>FALSE                                                                                                                                                            </td><td> TRUE                                                                                                                                                            </td><td>FALSE                                                                                                                                                            </td><td>FALSE                                                                                                                                                            </td><td>none                                                                                                                                                             </td><td>2011-02-17 17:58:19                                                                                                                                              </td><td>362.4310                                                                                                                                                         </td></tr>\n",
       "</tbody>\n",
       "</table>\n"
      ],
      "text/latex": [
       "\\begin{tabular}{r|lllllllllllllllllllllllllllllllllllllllllll}\n",
       " id & id\\_str & name & screen\\_name & location & description & url & protected & followers\\_count & friends\\_count & ... & profile\\_use\\_background\\_image & has\\_extended\\_profile & default\\_profile & default\\_profile\\_image & following & follow\\_request\\_sent & notifications & translator\\_type & last\\_tweet & weeks\\_joined\\\\\n",
       "\\hline\n",
       "\t   10915042                                                                                                                                                        & 10915042                                                                                                                                                          & Sharon Machlis                                                                                                                                                    & sharon000                                                                                                                                                         &                                                                                                                                                                   & Director, editorial data \\& analytics, IDG. A bit \\#rstats obsessed.                                                                                            & https://t.co/TTtBZRGP8q                                                                                                                                           & FALSE                                                                                                                                                             & 5407                                                                                                                                                              & 728                                                                                                                                                               & ...                                                                                                                                                               &  TRUE                                                                                                                                                             & FALSE                                                                                                                                                             & FALSE                                                                                                                                                             & FALSE                                                                                                                                                             &  TRUE                                                                                                                                                             & FALSE                                                                                                                                                             & FALSE                                                                                                                                                             & none                                                                                                                                                              & 2007-12-06 14:46:28                                                                                                                                               & 529.4500                                                                                                                                                         \\\\\n",
       "\t 2973406683                                                                                                                                                              & 2973406683                                                                                                                                                              & Mike Kearney<f0><U+009F><U+0093><U+008A>                                                                                                                                & kearneymw                                                                                                                                                               & Columbia, MO                                                                                                                                                            & Assistant Professor at @mujschool and MU Informatics Institute. Interested in new media, partisanship, data journalism, data{[}{[}\"big\"{]}{]} science, and \\#rstats.   & https://t.co/wBaqsHTMcW                                                                                                                                                 & FALSE                                                                                                                                                                   & 3256                                                                                                                                                                    & 859                                                                                                                                                                     & ...                                                                                                                                                                     & FALSE                                                                                                                                                                   &  TRUE                                                                                                                                                                   & FALSE                                                                                                                                                                   & FALSE                                                                                                                                                                   & FALSE                                                                                                                                                                   & FALSE                                                                                                                                                                   & FALSE                                                                                                                                                                   & none                                                                                                                                                                    & 2015-01-11 11:54:09                                                                                                                                                     & 159.0385                                                                                                                                                               \\\\\n",
       "\t  253791979                                                                                                                                                        & 253791979                                                                                                                                                         & Dean Attali                                                                                                                                                       & daattali                                                                                                                                                          & Toronto                                                                                                                                                           & Founder \\& Lead R-Shiny Consultant @ AttaliTech Ltd.\n",
       "\n",
       "\\#rstats blogger, tool builder, extreme traveller. MSc in Bioinformatics, Bachelor of Computer Science. & https://t.co/thlIsXJa95                                                                                                                                           & FALSE                                                                                                                                                             & 2786                                                                                                                                                              &  52                                                                                                                                                               & ...                                                                                                                                                               &  TRUE                                                                                                                                                             &  TRUE                                                                                                                                                             &  TRUE                                                                                                                                                             & FALSE                                                                                                                                                             &  TRUE                                                                                                                                                             & FALSE                                                                                                                                                             & FALSE                                                                                                                                                             & none                                                                                                                                                              & 2011-02-17 17:58:19                                                                                                                                               & 362.4310                                                                                                                                                         \\\\\n",
       "\\end{tabular}\n"
      ],
      "text/markdown": [
       "\n",
       "id | id_str | name | screen_name | location | description | url | protected | followers_count | friends_count | ... | profile_use_background_image | has_extended_profile | default_profile | default_profile_image | following | follow_request_sent | notifications | translator_type | last_tweet | weeks_joined | \n",
       "|---|---|---|\n",
       "|   10915042                                                                                                                                                    | 10915042                                                                                                                                                      | Sharon Machlis                                                                                                                                                | sharon000                                                                                                                                                     |                                                                                                                                                               | Director, editorial data & analytics, IDG. A bit #rstats obsessed.                                                                                            | https://t.co/TTtBZRGP8q                                                                                                                                       | FALSE                                                                                                                                                         | 5407                                                                                                                                                          | 728                                                                                                                                                           | ...                                                                                                                                                           |  TRUE                                                                                                                                                         | FALSE                                                                                                                                                         | FALSE                                                                                                                                                         | FALSE                                                                                                                                                         |  TRUE                                                                                                                                                         | FALSE                                                                                                                                                         | FALSE                                                                                                                                                         | none                                                                                                                                                          | 2007-12-06 14:46:28                                                                                                                                           | 529.4500                                                                                                                                                      | \n",
       "| 2973406683                                                                                                                                                    | 2973406683                                                                                                                                                    | Mike Kearney<f0><U+009F><U+0093><U+008A>                                                                                                                      | kearneymw                                                                                                                                                     | Columbia, MO                                                                                                                                                  | Assistant Professor at @mujschool and MU Informatics Institute. Interested in new media, partisanship, data journalism, data[[\"big\"]] science, and #rstats.   | https://t.co/wBaqsHTMcW                                                                                                                                       | FALSE                                                                                                                                                         | 3256                                                                                                                                                          | 859                                                                                                                                                           | ...                                                                                                                                                           | FALSE                                                                                                                                                         |  TRUE                                                                                                                                                         | FALSE                                                                                                                                                         | FALSE                                                                                                                                                         | FALSE                                                                                                                                                         | FALSE                                                                                                                                                         | FALSE                                                                                                                                                         | none                                                                                                                                                          | 2015-01-11 11:54:09                                                                                                                                           | 159.0385                                                                                                                                                      | \n",
       "|  253791979                                                                                                                                                    | 253791979                                                                                                                                                     | Dean Attali                                                                                                                                                   | daattali                                                                                                                                                      | Toronto                                                                                                                                                       | Founder & Lead R-Shiny Consultant @ AttaliTech Ltd.\n",
       "\n",
       "#rstats blogger, tool builder, extreme traveller. MSc in Bioinformatics, Bachelor of Computer Science. | https://t.co/thlIsXJa95                                                                                                                                       | FALSE                                                                                                                                                         | 2786                                                                                                                                                          |  52                                                                                                                                                           | ...                                                                                                                                                           |  TRUE                                                                                                                                                         |  TRUE                                                                                                                                                         |  TRUE                                                                                                                                                         | FALSE                                                                                                                                                         |  TRUE                                                                                                                                                         | FALSE                                                                                                                                                         | FALSE                                                                                                                                                         | none                                                                                                                                                          | 2011-02-17 17:58:19                                                                                                                                           | 362.4310                                                                                                                                                      | \n",
       "\n",
       "\n"
      ],
      "text/plain": [
       "  id         id_str     name                                     screen_name\n",
       "1   10915042 10915042   Sharon Machlis                           sharon000  \n",
       "2 2973406683 2973406683 Mike Kearney<f0><U+009F><U+0093><U+008A> kearneymw  \n",
       "3  253791979 253791979  Dean Attali                              daattali   \n",
       "  location    \n",
       "1             \n",
       "2 Columbia, MO\n",
       "3 Toronto     \n",
       "  description                                                                                                                                                  \n",
       "1 Director, editorial data & analytics, IDG. A bit #rstats obsessed.                                                                                           \n",
       "2 Assistant Professor at @mujschool and MU Informatics Institute. Interested in new media, partisanship, data journalism, data[[\"big\"]] science, and #rstats.  \n",
       "3 Founder & Lead R-Shiny Consultant @ AttaliTech Ltd.\\n\\n#rstats blogger, tool builder, extreme traveller. MSc in Bioinformatics, Bachelor of Computer Science.\n",
       "  url                     protected followers_count friends_count ...\n",
       "1 https://t.co/TTtBZRGP8q FALSE     5407            728           ...\n",
       "2 https://t.co/wBaqsHTMcW FALSE     3256            859           ...\n",
       "3 https://t.co/thlIsXJa95 FALSE     2786             52           ...\n",
       "  profile_use_background_image has_extended_profile default_profile\n",
       "1  TRUE                        FALSE                FALSE          \n",
       "2 FALSE                         TRUE                FALSE          \n",
       "3  TRUE                         TRUE                 TRUE          \n",
       "  default_profile_image following follow_request_sent notifications\n",
       "1 FALSE                  TRUE     FALSE               FALSE        \n",
       "2 FALSE                 FALSE     FALSE               FALSE        \n",
       "3 FALSE                  TRUE     FALSE               FALSE        \n",
       "  translator_type last_tweet          weeks_joined\n",
       "1 none            2007-12-06 14:46:28 529.4500    \n",
       "2 none            2015-01-11 11:54:09 159.0385    \n",
       "3 none            2011-02-17 17:58:19 362.4310    "
      ]
     },
     "metadata": {},
     "output_type": "display_data"
    }
   ],
   "source": [
    "## convert created_at to class date-time\n",
    "usr_atomic$created_at <- convert2posixct(usr_atomic$created_at)\n",
    "\n",
    "## create `weeks_joined` variable and add it to `usr_atomic`\n",
    "usr_atomic$weeks_joined <- as.numeric(Sys.time() - usr_atomic$created_at)/7\n",
    "\n",
    "head(usr_atomic, 3)"
   ]
  },
  {
   "cell_type": "code",
   "execution_count": 37,
   "metadata": {},
   "outputs": [],
   "source": [
    "## load the tidyverse packages (dplyr, tidyr, ggplot2)\n",
    "library(tidyverse)"
   ]
  },
  {
   "cell_type": "code",
   "execution_count": 38,
   "metadata": {},
   "outputs": [
    {
     "data": {
      "text/html": [
       "<table>\n",
       "<thead><tr><th scope=col>statuses_count</th><th scope=col>friends_count</th><th scope=col>followers_count</th></tr></thead>\n",
       "<tbody>\n",
       "\t<tr><td>10429</td><td>728  </td><td> 5407</td></tr>\n",
       "\t<tr><td> 3176</td><td>859  </td><td> 3256</td></tr>\n",
       "\t<tr><td> 2337</td><td> 52  </td><td> 2786</td></tr>\n",
       "\t<tr><td>  800</td><td>260  </td><td>  452</td></tr>\n",
       "\t<tr><td> 3931</td><td>507  </td><td>16802</td></tr>\n",
       "\t<tr><td> 1822</td><td> 11  </td><td>49164</td></tr>\n",
       "</tbody>\n",
       "</table>\n"
      ],
      "text/latex": [
       "\\begin{tabular}{r|lll}\n",
       " statuses\\_count & friends\\_count & followers\\_count\\\\\n",
       "\\hline\n",
       "\t 10429 & 728   &  5407\\\\\n",
       "\t  3176 & 859   &  3256\\\\\n",
       "\t  2337 &  52   &  2786\\\\\n",
       "\t   800 & 260   &   452\\\\\n",
       "\t  3931 & 507   & 16802\\\\\n",
       "\t  1822 &  11   & 49164\\\\\n",
       "\\end{tabular}\n"
      ],
      "text/markdown": [
       "\n",
       "statuses_count | friends_count | followers_count | \n",
       "|---|---|---|---|---|---|\n",
       "| 10429 | 728   |  5407 | \n",
       "|  3176 | 859   |  3256 | \n",
       "|  2337 |  52   |  2786 | \n",
       "|   800 | 260   |   452 | \n",
       "|  3931 | 507   | 16802 | \n",
       "|  1822 |  11   | 49164 | \n",
       "\n",
       "\n"
      ],
      "text/plain": [
       "  statuses_count friends_count followers_count\n",
       "1 10429          728            5407          \n",
       "2  3176          859            3256          \n",
       "3  2337           52            2786          \n",
       "4   800          260             452          \n",
       "5  3931          507           16802          \n",
       "6  1822           11           49164          "
      ]
     },
     "metadata": {},
     "output_type": "display_data"
    }
   ],
   "source": [
    "## wrangle and plot using `geom_density()`\n",
    "\n",
    "interestedColumns <- usr_atomic %>%\n",
    "                        select(statuses_count, friends_count, followers_count)\n",
    "\n",
    "\n",
    "head(interestedColumns, 6)"
   ]
  },
  {
   "cell_type": "code",
   "execution_count": 39,
   "metadata": {},
   "outputs": [
    {
     "data": {
      "text/html": [
       "<table>\n",
       "<thead><tr><th scope=col>Categories</th><th scope=col>Numbers</th></tr></thead>\n",
       "<tbody>\n",
       "\t<tr><td>statuses_count</td><td>10429         </td></tr>\n",
       "\t<tr><td>statuses_count</td><td> 3176         </td></tr>\n",
       "\t<tr><td>statuses_count</td><td> 2337         </td></tr>\n",
       "\t<tr><td>statuses_count</td><td>  800         </td></tr>\n",
       "\t<tr><td>statuses_count</td><td> 3931         </td></tr>\n",
       "\t<tr><td>statuses_count</td><td> 1822         </td></tr>\n",
       "</tbody>\n",
       "</table>\n"
      ],
      "text/latex": [
       "\\begin{tabular}{r|ll}\n",
       " Categories & Numbers\\\\\n",
       "\\hline\n",
       "\t statuses\\_count & 10429           \\\\\n",
       "\t statuses\\_count &  3176           \\\\\n",
       "\t statuses\\_count &  2337           \\\\\n",
       "\t statuses\\_count &   800           \\\\\n",
       "\t statuses\\_count &  3931           \\\\\n",
       "\t statuses\\_count &  1822           \\\\\n",
       "\\end{tabular}\n"
      ],
      "text/markdown": [
       "\n",
       "Categories | Numbers | \n",
       "|---|---|---|---|---|---|\n",
       "| statuses_count | 10429          | \n",
       "| statuses_count |  3176          | \n",
       "| statuses_count |  2337          | \n",
       "| statuses_count |   800          | \n",
       "| statuses_count |  3931          | \n",
       "| statuses_count |  1822          | \n",
       "\n",
       "\n"
      ],
      "text/plain": [
       "  Categories     Numbers\n",
       "1 statuses_count 10429  \n",
       "2 statuses_count  3176  \n",
       "3 statuses_count  2337  \n",
       "4 statuses_count   800  \n",
       "5 statuses_count  3931  \n",
       "6 statuses_count  1822  "
      ]
     },
     "metadata": {},
     "output_type": "display_data"
    }
   ],
   "source": [
    "formattedData <- gather(interestedColumns, \"Categories\", \"Numbers\", 1:3)\n",
    "head(formattedData)"
   ]
  },
  {
   "cell_type": "code",
   "execution_count": 40,
   "metadata": {},
   "outputs": [
    {
     "data": {},
     "metadata": {},
     "output_type": "display_data"
    },
    {
     "data": {
      "image/png": "[encoded data removed]",
      "text/plain": [
       "plot without title"
      ]
     },
     "metadata": {},
     "output_type": "display_data"
    }
   ],
   "source": [
    "ggplot(formattedData, aes(x = Numbers)) + \n",
    "            geom_density(aes(group = Categories, color = Categories, fill = Categories), alpha = 0.1)"
   ]
  },
  {
   "cell_type": "code",
   "execution_count": 41,
   "metadata": {},
   "outputs": [
    {
     "data": {
      "text/html": [
       "<table>\n",
       "<thead><tr><th scope=col>Categories</th><th scope=col>Numbers</th></tr></thead>\n",
       "<tbody>\n",
       "\t<tr><td>statuses_count</td><td>10429         </td></tr>\n",
       "\t<tr><td>statuses_count</td><td> 3176         </td></tr>\n",
       "\t<tr><td>statuses_count</td><td> 2337         </td></tr>\n",
       "\t<tr><td>statuses_count</td><td>  800         </td></tr>\n",
       "\t<tr><td>statuses_count</td><td> 3931         </td></tr>\n",
       "\t<tr><td>statuses_count</td><td> 1822         </td></tr>\n",
       "</tbody>\n",
       "</table>\n"
      ],
      "text/latex": [
       "\\begin{tabular}{r|ll}\n",
       " Categories & Numbers\\\\\n",
       "\\hline\n",
       "\t statuses\\_count & 10429           \\\\\n",
       "\t statuses\\_count &  3176           \\\\\n",
       "\t statuses\\_count &  2337           \\\\\n",
       "\t statuses\\_count &   800           \\\\\n",
       "\t statuses\\_count &  3931           \\\\\n",
       "\t statuses\\_count &  1822           \\\\\n",
       "\\end{tabular}\n"
      ],
      "text/markdown": [
       "\n",
       "Categories | Numbers | \n",
       "|---|---|---|---|---|---|\n",
       "| statuses_count | 10429          | \n",
       "| statuses_count |  3176          | \n",
       "| statuses_count |  2337          | \n",
       "| statuses_count |   800          | \n",
       "| statuses_count |  3931          | \n",
       "| statuses_count |  1822          | \n",
       "\n",
       "\n"
      ],
      "text/plain": [
       "  Categories     Numbers\n",
       "1 statuses_count 10429  \n",
       "2 statuses_count  3176  \n",
       "3 statuses_count  2337  \n",
       "4 statuses_count   800  \n",
       "5 statuses_count  3931  \n",
       "6 statuses_count  1822  "
      ]
     },
     "metadata": {},
     "output_type": "display_data"
    }
   ],
   "source": [
    "head(formattedData)"
   ]
  },
  {
   "cell_type": "code",
   "execution_count": 42,
   "metadata": {},
   "outputs": [
    {
     "data": {
      "text/html": [
       "<table>\n",
       "<thead><tr><th scope=col>Categories</th><th scope=col>Numbers</th><th scope=col>loggedNumbers</th></tr></thead>\n",
       "<tbody>\n",
       "\t<tr><td>statuses_count</td><td>10429         </td><td>9.252346      </td></tr>\n",
       "\t<tr><td>statuses_count</td><td> 3176         </td><td>8.063378      </td></tr>\n",
       "\t<tr><td>statuses_count</td><td> 2337         </td><td>7.756623      </td></tr>\n",
       "\t<tr><td>statuses_count</td><td>  800         </td><td>6.684612      </td></tr>\n",
       "\t<tr><td>statuses_count</td><td> 3931         </td><td>8.276649      </td></tr>\n",
       "\t<tr><td>statuses_count</td><td> 1822         </td><td>7.507690      </td></tr>\n",
       "</tbody>\n",
       "</table>\n"
      ],
      "text/latex": [
       "\\begin{tabular}{r|lll}\n",
       " Categories & Numbers & loggedNumbers\\\\\n",
       "\\hline\n",
       "\t statuses\\_count & 10429            & 9.252346        \\\\\n",
       "\t statuses\\_count &  3176            & 8.063378        \\\\\n",
       "\t statuses\\_count &  2337            & 7.756623        \\\\\n",
       "\t statuses\\_count &   800            & 6.684612        \\\\\n",
       "\t statuses\\_count &  3931            & 8.276649        \\\\\n",
       "\t statuses\\_count &  1822            & 7.507690        \\\\\n",
       "\\end{tabular}\n"
      ],
      "text/markdown": [
       "\n",
       "Categories | Numbers | loggedNumbers | \n",
       "|---|---|---|---|---|---|\n",
       "| statuses_count | 10429          | 9.252346       | \n",
       "| statuses_count |  3176          | 8.063378       | \n",
       "| statuses_count |  2337          | 7.756623       | \n",
       "| statuses_count |   800          | 6.684612       | \n",
       "| statuses_count |  3931          | 8.276649       | \n",
       "| statuses_count |  1822          | 7.507690       | \n",
       "\n",
       "\n"
      ],
      "text/plain": [
       "  Categories     Numbers loggedNumbers\n",
       "1 statuses_count 10429   9.252346     \n",
       "2 statuses_count  3176   8.063378     \n",
       "3 statuses_count  2337   7.756623     \n",
       "4 statuses_count   800   6.684612     \n",
       "5 statuses_count  3931   8.276649     \n",
       "6 statuses_count  1822   7.507690     "
      ]
     },
     "metadata": {},
     "output_type": "display_data"
    }
   ],
   "source": [
    "formattedData$loggedNumbers <- log(formattedData$Numbers)\n",
    "head(formattedData)"
   ]
  },
  {
   "cell_type": "code",
   "execution_count": 43,
   "metadata": {},
   "outputs": [
    {
     "data": {},
     "metadata": {},
     "output_type": "display_data"
    },
    {
     "data": {
      "image/png": "[encoded data removed]",
      "text/plain": [
       "plot without title"
      ]
     },
     "metadata": {},
     "output_type": "display_data"
    }
   ],
   "source": [
    "ggplot(formattedData, aes(x = loggedNumbers)) + \n",
    "            geom_density(aes(group = Categories, color = Categories, fill = Categories), alpha = 0.1)"
   ]
  },
  {
   "cell_type": "code",
   "execution_count": 45,
   "metadata": {
    "scrolled": true
   },
   "outputs": [
    {
     "data": {
      "text/plain": [
       "\n",
       "Call:\n",
       "glm(formula = statuses_count ~ followers_count + friends_count + \n",
       "    verified + weeks_joined, family = poisson, data = usr_atomic)\n",
       "\n",
       "Deviance Residuals: \n",
       "    Min       1Q   Median       3Q      Max  \n",
       "-244.85   -80.53   -11.37    31.90   232.15  \n",
       "\n",
       "Coefficients:\n",
       "                 Estimate Std. Error z value Pr(>|z|)    \n",
       "(Intercept)     6.944e+00  1.131e-02  613.92   <2e-16 ***\n",
       "followers_count 1.613e-05  2.275e-07   70.91   <2e-16 ***\n",
       "friends_count   5.550e-04  2.960e-06  187.52   <2e-16 ***\n",
       "verifiedTRUE    7.257e-01  5.160e-03  140.64   <2e-16 ***\n",
       "weeks_joined    3.787e-03  2.014e-05  188.08   <2e-16 ***\n",
       "---\n",
       "Signif. codes:  0 '***' 0.001 '**' 0.01 '*' 0.05 '.' 0.1 ' ' 1\n",
       "\n",
       "(Dispersion parameter for poisson family taken to be 1)\n",
       "\n",
       "    Null deviance: 291023  on 19  degrees of freedom\n",
       "Residual deviance: 179498  on 15  degrees of freedom\n",
       "AIC: 179717\n",
       "\n",
       "Number of Fisher Scoring iterations: 6\n"
      ]
     },
     "metadata": {},
     "output_type": "display_data"
    }
   ],
   "source": [
    "lm <- glm(statuses_count ~ followers_count + friends_count + verified + weeks_joined,\n",
    "                      usr_atomic, \n",
    "                      family = poisson)\n",
    "\n",
    "summary(lm)"
   ]
  }
 ],
 "metadata": {
  "kernelspec": {
   "display_name": "R",
   "language": "R",
   "name": "ir"
  },
  "language_info": {
   "codemirror_mode": "r",
   "file_extension": ".r",
   "mimetype": "text/x-r-source",
   "name": "R",
   "pygments_lexer": "r",
   "version": "3.4.1"
  }
 },
 "nbformat": 4,
 "nbformat_minor": 2
}
