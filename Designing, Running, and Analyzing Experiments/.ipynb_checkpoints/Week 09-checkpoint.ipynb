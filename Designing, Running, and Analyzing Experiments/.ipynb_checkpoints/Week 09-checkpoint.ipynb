{
 "cells": [
  {
   "cell_type": "markdown",
   "metadata": {
    "collapsed": true
   },
   "source": [
    "# Introduction\n",
    "\n",
    "So we've just looked at generalized linear models or GLMs as generalizations of linear models which are typical anovas..but to respsones that are not normal and that allow us to handle response distributions like poisson or multinomial or ordinal responses. \n",
    "\n",
    "As we've said, the linear model generalizes to the generalized linear model. But this generalized linear model can only handle between-subject's data. Now we're going to introduce what are called mixed models. And there is a linear mixed model. We'll look at its generalization, the generalized linear mixed model. \n",
    "\n",
    "And both of these analyses can handle both between and within subjects data, allowing us to handle data with repeated measures, which in interaction design and HCI studies, repeated measures come up all the time. So these are very powerful models. \n",
    "\n",
    "<img src=\"materials/week9/001.JPG\">\n",
    "\n",
    "Let's set our scenario and then we'll describe more what it means to be a mixed model. Our scenario is that we'll return to our data for our mobile text entry study, where we had people using 2 different keyboards in 3 different postures (sitting, standing, and walking). You might recall we had 24 subjects, they were in 2 conditions of keyboard (iphone and galaxy). \n",
    "\n",
    "They were in 3 postures (sit, stand, and walk). Keyboard was between subjects and postures was within subjects. \n",
    "\n",
    "And they entered 20 phrases, which we might call a trial which is a general term meaning a sort of a single data point that we're going to capture from a subject. \n",
    "\n",
    "Before we averaged their words per minute and their error rate. But now, we're going to keep all 20 phrases and thus brings us to 1440 data points for this datatable that we can analyze. So we're keeping all of the individual phrases that we measure, and not averaging over them anymore. \n",
    "\n",
    "<img src=\"materials/week9/002.JPG\">\n",
    "\n",
    "So that's our scenario and we'll return to analyze that data shortly. But to do that, we're going to have to introduce the concept of random effects and what we've been working with all along but havent' called them this yet are fixed effects. When you have both of this in a statistical model, you have the \"mixed\" term for the mixed model which is their generalized linear mixed model. We're mixing fixed effects and random effects. \n",
    "\n",
    "<img src=\"materials/week9/003.JPG\">\n",
    "\n",
    "So what are these? \n",
    "\n",
    "Fixed effects are the factors of interest that we manipulate in a study. There have been the kinds of variables, the independent variables, we've looked at all along. Keyboard and posture are fixed effects. They're the factors in our study. \n",
    "\n",
    "Random effects - we haven't considered yet. Random effects have a very special meaning and allow us to use linear mixed and generalized linear mixed models. Random effects are factors whose levels were sampled randomly from a larger population about which we wish to generalize but whose specific level values we actually don't care about. \n",
    "\n",
    "So in interaction design and HCI studies, subject is a classic random effect. The subjects are sampled from a population of subjects we wish to generalize about and we don't care about the specific levels of the subject factor. They're coded 1, 2, 3, and so on for however many subjects we may have. Actually, we had 24 subjects in this particular study so we'll go with 24. But we don't care about the specific levels. We just care that we have a pool of subjects. They are a classic random effect and by makign them a random effect in our models with otherwise fixed effects, we have linear mixed models and if we need them, generalized linear mixed models for different kinds of responses. \n",
    "\n",
    "<img src=\"materials/week9/004.JPG\">\n",
    "\n",
    "Subject included in the model allows us to correlate measures across the same subjects, across different rows in our data table. And that's how we can handle within subject's design using mixed models. \n",
    "\n",
    "Mixed models have a number of advantages and they're very powerful indeed. They can have some missing data cells. If you drop data, you can still use a mixed model approach to analyze that data and it doesn't thwart your study to have some empty cells in your data table. You can also better handle unbalanced designs where you have different amounts of data in different conditions. There's also no longer a Mauchly's sphericity test needed anymore. We don't worry about the sphericity property. We just model the covariance in the data directly. \n",
    "\n",
    "Remember that sphericity is the situation where variances of the differences between all combinations of levels of a within subject factor are equal or close to equal. Now, we care about that but we can model sphericity however form it takes. Whatever form it takes directly. \n",
    "\n",
    "What are the disadvantages of using mixed models? I just cited 3 advantaes but what are the disadvantages? Well, they're just computationally more intensive. Sometimes, they can take longer to run. They also return larger denominator degrees of freedom, what we've seen as the DF residuals or DF denominator. \n",
    "\n",
    "Now to do this kind of analysis where we have each of our 20 trials, there's one more item that we have to consider and this comes up a lot with mixed models and that is the idea of nesting. In particular, the idea of nested effects. And it's a practical matter to consider when using mixed models. \n",
    "\n",
    "So what's a nested effect?\n",
    "\n",
    "Nesting comes into play when the levels of a factor shouldn't be pooled just by their label alone. When you're doing any kinds of ANOVA analysis, the levels of a factor are grouped together and calculations are made. For example - for all the set data, stand data, lock data, all the iphone data, or galaxy data. \n",
    "\n",
    "In the case of trial as a factor, we'll just encode trial just as a number for the 20 trials within each of the sit, stand, walk levels and each of the iphone and galaxy combinations there. Trial takes on values of 1 to 20 throughout the table. But we don't have any special meaning to pooling all of the data for variance calculations for all the trials numbered 1 or 2 or 3. Those levels aren't that important. And we don't want to pool across all levels 1, 2, 3 because trial number 1 while sitting using an iphone is very different than trial number 1 while standing using galaxy. \n",
    "\n",
    "<img src=\"materials/week9/005.JPG\">\n",
    "\n",
    "So we nest trial within posture and keyboard. If we're used to dot notation from certain programming languages like java, you can think of it as a kind of a keyboard.posture.trial where trial is kind of nested. So for example - we would pool values across iphone while sitting and pool all those trial ones and twos and so forth. But within iphone and sitting. \n",
    "\n",
    "In general, when you have a factor like a trial where it's not meaningful to consider them in isolation. Trial 1 by itself doesn't mean very much. You might be in a situation where you want to nest. And that will allow you to get a more accurate response in your results. "
   ]
  },
  {
   "cell_type": "markdown",
   "metadata": {
    "collapsed": true
   },
   "source": [
    "# Analyzing a linear mixed model"
   ]
  },
  {
   "cell_type": "markdown",
   "metadata": {},
   "source": [
    "We're going to revisit our mobile text entry data but now with all 1440 trials included. No longer summarizing, averaging over our 20 text entry phrases in each keyboard and posture situation. We're going to use mixed effects models. Mixed effect models have random and fixed effects. \n",
    "\n",
    "Linear mixed models extend our linear models, which were the fixed-effects ANOVAs that we've been doing but they can have random effects, which allow us to model within subjects' factors, using subject as a random effect. \n",
    "\n",
    "Then we'll move on to generalized linear mixed models which can do everything that the generalized linear models do but now have random effects and can therefore handle within subjects data. \n",
    "\n",
    "Make sure that you don't confused mixed factorial ANOVA (which have between and within subjects factors) with mixed effect models (which are about fixed and random effects). \n"
   ]
  },
  {
   "cell_type": "code",
   "execution_count": 207,
   "metadata": {
    "collapsed": true
   },
   "outputs": [],
   "source": [
    "# linear mixed models (LMM) do everything Linear Models (LM) do \n",
    "# but can have both fixed and random effects. Random effects allow us\n",
    "# to handle within-Ss factors by modeling \"Subject\" as a random effect. \n",
    "# Generalized linear mixed models (GLMM) do everything Generalized Linear Models (GLM) do\n",
    "# but also can have both fixed and random effects. \n",
    "# LMMs and GLMMs are called \"mixed effects models\". "
   ]
  },
  {
   "cell_type": "code",
   "execution_count": 208,
   "metadata": {},
   "outputs": [
    {
     "data": {
      "text/html": [
       "<table>\n",
       "<thead><tr><th scope=col>Subject</th><th scope=col>Keyboard</th><th scope=col>Posture</th><th scope=col>Posture_Order</th><th scope=col>Trial</th><th scope=col>WPM</th><th scope=col>Error_Rate</th></tr></thead>\n",
       "<tbody>\n",
       "\t<tr><td>1     </td><td>iPhone</td><td>Sit   </td><td>1     </td><td> 1    </td><td>21.05 </td><td>0.01  </td></tr>\n",
       "\t<tr><td>1     </td><td>iPhone</td><td>Sit   </td><td>1     </td><td> 2    </td><td>15.95 </td><td>0.02  </td></tr>\n",
       "\t<tr><td>1     </td><td>iPhone</td><td>Sit   </td><td>1     </td><td> 3    </td><td>21.51 </td><td>0.01  </td></tr>\n",
       "\t<tr><td>1     </td><td>iPhone</td><td>Sit   </td><td>1     </td><td> 4    </td><td>24.37 </td><td>0.00  </td></tr>\n",
       "\t<tr><td>1     </td><td>iPhone</td><td>Sit   </td><td>1     </td><td> 5    </td><td>22.58 </td><td>0.05  </td></tr>\n",
       "\t<tr><td>1     </td><td>iPhone</td><td>Sit   </td><td>1     </td><td> 6    </td><td>24.82 </td><td>0.06  </td></tr>\n",
       "\t<tr><td>1     </td><td>iPhone</td><td>Sit   </td><td>1     </td><td> 7    </td><td>24.35 </td><td>0.00  </td></tr>\n",
       "\t<tr><td>1     </td><td>iPhone</td><td>Sit   </td><td>1     </td><td> 8    </td><td>17.39 </td><td>0.03  </td></tr>\n",
       "\t<tr><td>1     </td><td>iPhone</td><td>Sit   </td><td>1     </td><td> 9    </td><td>20.76 </td><td>0.03  </td></tr>\n",
       "\t<tr><td>1     </td><td>iPhone</td><td>Sit   </td><td>1     </td><td>10    </td><td>15.98 </td><td>0.03  </td></tr>\n",
       "\t<tr><td>1     </td><td>iPhone</td><td>Sit   </td><td>1     </td><td>11    </td><td>25.52 </td><td>0.00  </td></tr>\n",
       "\t<tr><td>1     </td><td>iPhone</td><td>Sit   </td><td>1     </td><td>12    </td><td>23.43 </td><td>0.01  </td></tr>\n",
       "\t<tr><td>1     </td><td>iPhone</td><td>Sit   </td><td>1     </td><td>13    </td><td>20.94 </td><td>0.03  </td></tr>\n",
       "\t<tr><td>1     </td><td>iPhone</td><td>Sit   </td><td>1     </td><td>14    </td><td>16.69 </td><td>0.04  </td></tr>\n",
       "\t<tr><td>1     </td><td>iPhone</td><td>Sit   </td><td>1     </td><td>15    </td><td>17.57 </td><td>0.01  </td></tr>\n",
       "\t<tr><td>1     </td><td>iPhone</td><td>Sit   </td><td>1     </td><td>16    </td><td>17.92 </td><td>0.03  </td></tr>\n",
       "\t<tr><td>1     </td><td>iPhone</td><td>Sit   </td><td>1     </td><td>17    </td><td>20.46 </td><td>0.02  </td></tr>\n",
       "\t<tr><td>1     </td><td>iPhone</td><td>Sit   </td><td>1     </td><td>18    </td><td>17.57 </td><td>0.01  </td></tr>\n",
       "\t<tr><td>1     </td><td>iPhone</td><td>Sit   </td><td>1     </td><td>19    </td><td>16.06 </td><td>0.03  </td></tr>\n",
       "\t<tr><td>1     </td><td>iPhone</td><td>Sit   </td><td>1     </td><td>20    </td><td>19.37 </td><td>0.02  </td></tr>\n",
       "</tbody>\n",
       "</table>\n"
      ],
      "text/latex": [
       "\\begin{tabular}{r|lllllll}\n",
       " Subject & Keyboard & Posture & Posture\\_Order & Trial & WPM & Error\\_Rate\\\\\n",
       "\\hline\n",
       "\t 1      & iPhone & Sit    & 1      &  1     & 21.05  & 0.01  \\\\\n",
       "\t 1      & iPhone & Sit    & 1      &  2     & 15.95  & 0.02  \\\\\n",
       "\t 1      & iPhone & Sit    & 1      &  3     & 21.51  & 0.01  \\\\\n",
       "\t 1      & iPhone & Sit    & 1      &  4     & 24.37  & 0.00  \\\\\n",
       "\t 1      & iPhone & Sit    & 1      &  5     & 22.58  & 0.05  \\\\\n",
       "\t 1      & iPhone & Sit    & 1      &  6     & 24.82  & 0.06  \\\\\n",
       "\t 1      & iPhone & Sit    & 1      &  7     & 24.35  & 0.00  \\\\\n",
       "\t 1      & iPhone & Sit    & 1      &  8     & 17.39  & 0.03  \\\\\n",
       "\t 1      & iPhone & Sit    & 1      &  9     & 20.76  & 0.03  \\\\\n",
       "\t 1      & iPhone & Sit    & 1      & 10     & 15.98  & 0.03  \\\\\n",
       "\t 1      & iPhone & Sit    & 1      & 11     & 25.52  & 0.00  \\\\\n",
       "\t 1      & iPhone & Sit    & 1      & 12     & 23.43  & 0.01  \\\\\n",
       "\t 1      & iPhone & Sit    & 1      & 13     & 20.94  & 0.03  \\\\\n",
       "\t 1      & iPhone & Sit    & 1      & 14     & 16.69  & 0.04  \\\\\n",
       "\t 1      & iPhone & Sit    & 1      & 15     & 17.57  & 0.01  \\\\\n",
       "\t 1      & iPhone & Sit    & 1      & 16     & 17.92  & 0.03  \\\\\n",
       "\t 1      & iPhone & Sit    & 1      & 17     & 20.46  & 0.02  \\\\\n",
       "\t 1      & iPhone & Sit    & 1      & 18     & 17.57  & 0.01  \\\\\n",
       "\t 1      & iPhone & Sit    & 1      & 19     & 16.06  & 0.03  \\\\\n",
       "\t 1      & iPhone & Sit    & 1      & 20     & 19.37  & 0.02  \\\\\n",
       "\\end{tabular}\n"
      ],
      "text/markdown": [
       "\n",
       "Subject | Keyboard | Posture | Posture_Order | Trial | WPM | Error_Rate | \n",
       "|---|---|---|---|---|---|---|---|---|---|---|---|---|---|---|---|---|---|---|---|\n",
       "| 1      | iPhone | Sit    | 1      |  1     | 21.05  | 0.01   | \n",
       "| 1      | iPhone | Sit    | 1      |  2     | 15.95  | 0.02   | \n",
       "| 1      | iPhone | Sit    | 1      |  3     | 21.51  | 0.01   | \n",
       "| 1      | iPhone | Sit    | 1      |  4     | 24.37  | 0.00   | \n",
       "| 1      | iPhone | Sit    | 1      |  5     | 22.58  | 0.05   | \n",
       "| 1      | iPhone | Sit    | 1      |  6     | 24.82  | 0.06   | \n",
       "| 1      | iPhone | Sit    | 1      |  7     | 24.35  | 0.00   | \n",
       "| 1      | iPhone | Sit    | 1      |  8     | 17.39  | 0.03   | \n",
       "| 1      | iPhone | Sit    | 1      |  9     | 20.76  | 0.03   | \n",
       "| 1      | iPhone | Sit    | 1      | 10     | 15.98  | 0.03   | \n",
       "| 1      | iPhone | Sit    | 1      | 11     | 25.52  | 0.00   | \n",
       "| 1      | iPhone | Sit    | 1      | 12     | 23.43  | 0.01   | \n",
       "| 1      | iPhone | Sit    | 1      | 13     | 20.94  | 0.03   | \n",
       "| 1      | iPhone | Sit    | 1      | 14     | 16.69  | 0.04   | \n",
       "| 1      | iPhone | Sit    | 1      | 15     | 17.57  | 0.01   | \n",
       "| 1      | iPhone | Sit    | 1      | 16     | 17.92  | 0.03   | \n",
       "| 1      | iPhone | Sit    | 1      | 17     | 20.46  | 0.02   | \n",
       "| 1      | iPhone | Sit    | 1      | 18     | 17.57  | 0.01   | \n",
       "| 1      | iPhone | Sit    | 1      | 19     | 16.06  | 0.03   | \n",
       "| 1      | iPhone | Sit    | 1      | 20     | 19.37  | 0.02   | \n",
       "\n",
       "\n"
      ],
      "text/plain": [
       "   Subject Keyboard Posture Posture_Order Trial WPM   Error_Rate\n",
       "1  1       iPhone   Sit     1              1    21.05 0.01      \n",
       "2  1       iPhone   Sit     1              2    15.95 0.02      \n",
       "3  1       iPhone   Sit     1              3    21.51 0.01      \n",
       "4  1       iPhone   Sit     1              4    24.37 0.00      \n",
       "5  1       iPhone   Sit     1              5    22.58 0.05      \n",
       "6  1       iPhone   Sit     1              6    24.82 0.06      \n",
       "7  1       iPhone   Sit     1              7    24.35 0.00      \n",
       "8  1       iPhone   Sit     1              8    17.39 0.03      \n",
       "9  1       iPhone   Sit     1              9    20.76 0.03      \n",
       "10 1       iPhone   Sit     1             10    15.98 0.03      \n",
       "11 1       iPhone   Sit     1             11    25.52 0.00      \n",
       "12 1       iPhone   Sit     1             12    23.43 0.01      \n",
       "13 1       iPhone   Sit     1             13    20.94 0.03      \n",
       "14 1       iPhone   Sit     1             14    16.69 0.04      \n",
       "15 1       iPhone   Sit     1             15    17.57 0.01      \n",
       "16 1       iPhone   Sit     1             16    17.92 0.03      \n",
       "17 1       iPhone   Sit     1             17    20.46 0.02      \n",
       "18 1       iPhone   Sit     1             18    17.57 0.01      \n",
       "19 1       iPhone   Sit     1             19    16.06 0.03      \n",
       "20 1       iPhone   Sit     1             20    19.37 0.02      "
      ]
     },
     "metadata": {},
     "output_type": "display_data"
    }
   ],
   "source": [
    "# Linear mixed model (LMM) on words per minute\n",
    "\n",
    "mbltxttrials <- read.csv(\"materials/mbltxttrials.csv\")\n",
    "head(mbltxttrials, 20)"
   ]
  },
  {
   "cell_type": "code",
   "execution_count": 209,
   "metadata": {},
   "outputs": [
    {
     "data": {
      "text/html": [
       "<table>\n",
       "<thead><tr><th scope=col>Subject</th><th scope=col>Keyboard</th><th scope=col>Posture</th><th scope=col>Posture_Order</th><th scope=col>Trial</th><th scope=col>WPM</th><th scope=col>Error_Rate</th></tr></thead>\n",
       "<tbody>\n",
       "\t<tr><td>1     </td><td>iPhone</td><td>Sit   </td><td>1     </td><td> 1    </td><td>21.05 </td><td>0.01  </td></tr>\n",
       "\t<tr><td>1     </td><td>iPhone</td><td>Sit   </td><td>1     </td><td> 2    </td><td>15.95 </td><td>0.02  </td></tr>\n",
       "\t<tr><td>1     </td><td>iPhone</td><td>Sit   </td><td>1     </td><td> 3    </td><td>21.51 </td><td>0.01  </td></tr>\n",
       "\t<tr><td>1     </td><td>iPhone</td><td>Sit   </td><td>1     </td><td> 4    </td><td>24.37 </td><td>0.00  </td></tr>\n",
       "\t<tr><td>1     </td><td>iPhone</td><td>Sit   </td><td>1     </td><td> 5    </td><td>22.58 </td><td>0.05  </td></tr>\n",
       "\t<tr><td>1     </td><td>iPhone</td><td>Sit   </td><td>1     </td><td> 6    </td><td>24.82 </td><td>0.06  </td></tr>\n",
       "\t<tr><td>1     </td><td>iPhone</td><td>Sit   </td><td>1     </td><td> 7    </td><td>24.35 </td><td>0.00  </td></tr>\n",
       "\t<tr><td>1     </td><td>iPhone</td><td>Sit   </td><td>1     </td><td> 8    </td><td>17.39 </td><td>0.03  </td></tr>\n",
       "\t<tr><td>1     </td><td>iPhone</td><td>Sit   </td><td>1     </td><td> 9    </td><td>20.76 </td><td>0.03  </td></tr>\n",
       "\t<tr><td>1     </td><td>iPhone</td><td>Sit   </td><td>1     </td><td>10    </td><td>15.98 </td><td>0.03  </td></tr>\n",
       "\t<tr><td>1     </td><td>iPhone</td><td>Sit   </td><td>1     </td><td>11    </td><td>25.52 </td><td>0.00  </td></tr>\n",
       "\t<tr><td>1     </td><td>iPhone</td><td>Sit   </td><td>1     </td><td>12    </td><td>23.43 </td><td>0.01  </td></tr>\n",
       "\t<tr><td>1     </td><td>iPhone</td><td>Sit   </td><td>1     </td><td>13    </td><td>20.94 </td><td>0.03  </td></tr>\n",
       "\t<tr><td>1     </td><td>iPhone</td><td>Sit   </td><td>1     </td><td>14    </td><td>16.69 </td><td>0.04  </td></tr>\n",
       "\t<tr><td>1     </td><td>iPhone</td><td>Sit   </td><td>1     </td><td>15    </td><td>17.57 </td><td>0.01  </td></tr>\n",
       "\t<tr><td>1     </td><td>iPhone</td><td>Sit   </td><td>1     </td><td>16    </td><td>17.92 </td><td>0.03  </td></tr>\n",
       "\t<tr><td>1     </td><td>iPhone</td><td>Sit   </td><td>1     </td><td>17    </td><td>20.46 </td><td>0.02  </td></tr>\n",
       "\t<tr><td>1     </td><td>iPhone</td><td>Sit   </td><td>1     </td><td>18    </td><td>17.57 </td><td>0.01  </td></tr>\n",
       "\t<tr><td>1     </td><td>iPhone</td><td>Sit   </td><td>1     </td><td>19    </td><td>16.06 </td><td>0.03  </td></tr>\n",
       "\t<tr><td>1     </td><td>iPhone</td><td>Sit   </td><td>1     </td><td>20    </td><td>19.37 </td><td>0.02  </td></tr>\n",
       "\t<tr><td>1     </td><td>iPhone</td><td>Stand </td><td>2     </td><td> 1    </td><td>21.42 </td><td>0.04  </td></tr>\n",
       "\t<tr><td>1     </td><td>iPhone</td><td>Stand </td><td>2     </td><td> 2    </td><td>22.60 </td><td>0.02  </td></tr>\n",
       "\t<tr><td>1     </td><td>iPhone</td><td>Stand </td><td>2     </td><td> 3    </td><td>20.07 </td><td>0.01  </td></tr>\n",
       "\t<tr><td>1     </td><td>iPhone</td><td>Stand </td><td>2     </td><td> 4    </td><td>22.91 </td><td>0.02  </td></tr>\n",
       "\t<tr><td>1     </td><td>iPhone</td><td>Stand </td><td>2     </td><td> 5    </td><td>18.89 </td><td>0.04  </td></tr>\n",
       "\t<tr><td>1     </td><td>iPhone</td><td>Stand </td><td>2     </td><td> 6    </td><td>24.47 </td><td>0.02  </td></tr>\n",
       "\t<tr><td>1     </td><td>iPhone</td><td>Stand </td><td>2     </td><td> 7    </td><td>30.03 </td><td>0.05  </td></tr>\n",
       "\t<tr><td>1     </td><td>iPhone</td><td>Stand </td><td>2     </td><td> 8    </td><td>22.74 </td><td>0.02  </td></tr>\n",
       "\t<tr><td>1     </td><td>iPhone</td><td>Stand </td><td>2     </td><td> 9    </td><td>29.58 </td><td>0.02  </td></tr>\n",
       "\t<tr><td>1     </td><td>iPhone</td><td>Stand </td><td>2     </td><td>10    </td><td>27.30 </td><td>0.04  </td></tr>\n",
       "\t<tr><td>1     </td><td>iPhone</td><td>Stand </td><td>2     </td><td>11    </td><td>24.80 </td><td>0.02  </td></tr>\n",
       "\t<tr><td>1     </td><td>iPhone</td><td>Stand </td><td>2     </td><td>12    </td><td>18.22 </td><td>0.04  </td></tr>\n",
       "\t<tr><td>1     </td><td>iPhone</td><td>Stand </td><td>2     </td><td>13    </td><td>35.61 </td><td>0.03  </td></tr>\n",
       "\t<tr><td>1     </td><td>iPhone</td><td>Stand </td><td>2     </td><td>14    </td><td>20.85 </td><td>0.03  </td></tr>\n",
       "\t<tr><td>1     </td><td>iPhone</td><td>Stand </td><td>2     </td><td>15    </td><td>21.23 </td><td>0.01  </td></tr>\n",
       "\t<tr><td>1     </td><td>iPhone</td><td>Stand </td><td>2     </td><td>16    </td><td>23.54 </td><td>0.01  </td></tr>\n",
       "\t<tr><td>1     </td><td>iPhone</td><td>Stand </td><td>2     </td><td>17    </td><td>23.08 </td><td>0.04  </td></tr>\n",
       "\t<tr><td>1     </td><td>iPhone</td><td>Stand </td><td>2     </td><td>18    </td><td>20.97 </td><td>0.06  </td></tr>\n",
       "\t<tr><td>1     </td><td>iPhone</td><td>Stand </td><td>2     </td><td>19    </td><td>19.09 </td><td>0.05  </td></tr>\n",
       "\t<tr><td>1     </td><td>iPhone</td><td>Stand </td><td>2     </td><td>20    </td><td>27.57 </td><td>0.03  </td></tr>\n",
       "\t<tr><td>1     </td><td>iPhone</td><td>Walk  </td><td>3     </td><td> 1    </td><td>15.50 </td><td>0.03  </td></tr>\n",
       "\t<tr><td>1     </td><td>iPhone</td><td>Walk  </td><td>3     </td><td> 2    </td><td>23.60 </td><td>0.05  </td></tr>\n",
       "\t<tr><td>1     </td><td>iPhone</td><td>Walk  </td><td>3     </td><td> 3    </td><td>15.37 </td><td>0.05  </td></tr>\n",
       "\t<tr><td>1     </td><td>iPhone</td><td>Walk  </td><td>3     </td><td> 4    </td><td>21.60 </td><td>0.03  </td></tr>\n",
       "\t<tr><td>1     </td><td>iPhone</td><td>Walk  </td><td>3     </td><td> 5    </td><td>18.19 </td><td>0.09  </td></tr>\n",
       "\t<tr><td>1     </td><td>iPhone</td><td>Walk  </td><td>3     </td><td> 6    </td><td>19.19 </td><td>0.05  </td></tr>\n",
       "\t<tr><td>1     </td><td>iPhone</td><td>Walk  </td><td>3     </td><td> 7    </td><td>25.57 </td><td>0.06  </td></tr>\n",
       "\t<tr><td>1     </td><td>iPhone</td><td>Walk  </td><td>3     </td><td> 8    </td><td>19.00 </td><td>0.03  </td></tr>\n",
       "\t<tr><td>1     </td><td>iPhone</td><td>Walk  </td><td>3     </td><td> 9    </td><td>29.45 </td><td>0.02  </td></tr>\n",
       "\t<tr><td>1     </td><td>iPhone</td><td>Walk  </td><td>3     </td><td>10    </td><td>20.54 </td><td>0.04  </td></tr>\n",
       "\t<tr><td>1     </td><td>iPhone</td><td>Walk  </td><td>3     </td><td>11    </td><td>15.22 </td><td>0.04  </td></tr>\n",
       "\t<tr><td>1     </td><td>iPhone</td><td>Walk  </td><td>3     </td><td>12    </td><td>24.31 </td><td>0.08  </td></tr>\n",
       "\t<tr><td>1     </td><td>iPhone</td><td>Walk  </td><td>3     </td><td>13    </td><td>19.03 </td><td>0.04  </td></tr>\n",
       "\t<tr><td>1     </td><td>iPhone</td><td>Walk  </td><td>3     </td><td>14    </td><td>16.92 </td><td>0.04  </td></tr>\n",
       "\t<tr><td>1     </td><td>iPhone</td><td>Walk  </td><td>3     </td><td>15    </td><td>22.86 </td><td>0.04  </td></tr>\n",
       "\t<tr><td>1     </td><td>iPhone</td><td>Walk  </td><td>3     </td><td>16    </td><td>31.23 </td><td>0.00  </td></tr>\n",
       "\t<tr><td>1     </td><td>iPhone</td><td>Walk  </td><td>3     </td><td>17    </td><td>22.39 </td><td>0.03  </td></tr>\n",
       "\t<tr><td>1     </td><td>iPhone</td><td>Walk  </td><td>3     </td><td>18    </td><td>23.47 </td><td>0.07  </td></tr>\n",
       "\t<tr><td>1     </td><td>iPhone</td><td>Walk  </td><td>3     </td><td>19    </td><td>20.83 </td><td>0.00  </td></tr>\n",
       "\t<tr><td>1     </td><td>iPhone</td><td>Walk  </td><td>3     </td><td>20    </td><td>11.65 </td><td>0.04  </td></tr>\n",
       "</tbody>\n",
       "</table>\n"
      ],
      "text/latex": [
       "\\begin{tabular}{r|lllllll}\n",
       " Subject & Keyboard & Posture & Posture\\_Order & Trial & WPM & Error\\_Rate\\\\\n",
       "\\hline\n",
       "\t 1      & iPhone & Sit    & 1      &  1     & 21.05  & 0.01  \\\\\n",
       "\t 1      & iPhone & Sit    & 1      &  2     & 15.95  & 0.02  \\\\\n",
       "\t 1      & iPhone & Sit    & 1      &  3     & 21.51  & 0.01  \\\\\n",
       "\t 1      & iPhone & Sit    & 1      &  4     & 24.37  & 0.00  \\\\\n",
       "\t 1      & iPhone & Sit    & 1      &  5     & 22.58  & 0.05  \\\\\n",
       "\t 1      & iPhone & Sit    & 1      &  6     & 24.82  & 0.06  \\\\\n",
       "\t 1      & iPhone & Sit    & 1      &  7     & 24.35  & 0.00  \\\\\n",
       "\t 1      & iPhone & Sit    & 1      &  8     & 17.39  & 0.03  \\\\\n",
       "\t 1      & iPhone & Sit    & 1      &  9     & 20.76  & 0.03  \\\\\n",
       "\t 1      & iPhone & Sit    & 1      & 10     & 15.98  & 0.03  \\\\\n",
       "\t 1      & iPhone & Sit    & 1      & 11     & 25.52  & 0.00  \\\\\n",
       "\t 1      & iPhone & Sit    & 1      & 12     & 23.43  & 0.01  \\\\\n",
       "\t 1      & iPhone & Sit    & 1      & 13     & 20.94  & 0.03  \\\\\n",
       "\t 1      & iPhone & Sit    & 1      & 14     & 16.69  & 0.04  \\\\\n",
       "\t 1      & iPhone & Sit    & 1      & 15     & 17.57  & 0.01  \\\\\n",
       "\t 1      & iPhone & Sit    & 1      & 16     & 17.92  & 0.03  \\\\\n",
       "\t 1      & iPhone & Sit    & 1      & 17     & 20.46  & 0.02  \\\\\n",
       "\t 1      & iPhone & Sit    & 1      & 18     & 17.57  & 0.01  \\\\\n",
       "\t 1      & iPhone & Sit    & 1      & 19     & 16.06  & 0.03  \\\\\n",
       "\t 1      & iPhone & Sit    & 1      & 20     & 19.37  & 0.02  \\\\\n",
       "\t 1      & iPhone & Stand  & 2      &  1     & 21.42  & 0.04  \\\\\n",
       "\t 1      & iPhone & Stand  & 2      &  2     & 22.60  & 0.02  \\\\\n",
       "\t 1      & iPhone & Stand  & 2      &  3     & 20.07  & 0.01  \\\\\n",
       "\t 1      & iPhone & Stand  & 2      &  4     & 22.91  & 0.02  \\\\\n",
       "\t 1      & iPhone & Stand  & 2      &  5     & 18.89  & 0.04  \\\\\n",
       "\t 1      & iPhone & Stand  & 2      &  6     & 24.47  & 0.02  \\\\\n",
       "\t 1      & iPhone & Stand  & 2      &  7     & 30.03  & 0.05  \\\\\n",
       "\t 1      & iPhone & Stand  & 2      &  8     & 22.74  & 0.02  \\\\\n",
       "\t 1      & iPhone & Stand  & 2      &  9     & 29.58  & 0.02  \\\\\n",
       "\t 1      & iPhone & Stand  & 2      & 10     & 27.30  & 0.04  \\\\\n",
       "\t 1      & iPhone & Stand  & 2      & 11     & 24.80  & 0.02  \\\\\n",
       "\t 1      & iPhone & Stand  & 2      & 12     & 18.22  & 0.04  \\\\\n",
       "\t 1      & iPhone & Stand  & 2      & 13     & 35.61  & 0.03  \\\\\n",
       "\t 1      & iPhone & Stand  & 2      & 14     & 20.85  & 0.03  \\\\\n",
       "\t 1      & iPhone & Stand  & 2      & 15     & 21.23  & 0.01  \\\\\n",
       "\t 1      & iPhone & Stand  & 2      & 16     & 23.54  & 0.01  \\\\\n",
       "\t 1      & iPhone & Stand  & 2      & 17     & 23.08  & 0.04  \\\\\n",
       "\t 1      & iPhone & Stand  & 2      & 18     & 20.97  & 0.06  \\\\\n",
       "\t 1      & iPhone & Stand  & 2      & 19     & 19.09  & 0.05  \\\\\n",
       "\t 1      & iPhone & Stand  & 2      & 20     & 27.57  & 0.03  \\\\\n",
       "\t 1      & iPhone & Walk   & 3      &  1     & 15.50  & 0.03  \\\\\n",
       "\t 1      & iPhone & Walk   & 3      &  2     & 23.60  & 0.05  \\\\\n",
       "\t 1      & iPhone & Walk   & 3      &  3     & 15.37  & 0.05  \\\\\n",
       "\t 1      & iPhone & Walk   & 3      &  4     & 21.60  & 0.03  \\\\\n",
       "\t 1      & iPhone & Walk   & 3      &  5     & 18.19  & 0.09  \\\\\n",
       "\t 1      & iPhone & Walk   & 3      &  6     & 19.19  & 0.05  \\\\\n",
       "\t 1      & iPhone & Walk   & 3      &  7     & 25.57  & 0.06  \\\\\n",
       "\t 1      & iPhone & Walk   & 3      &  8     & 19.00  & 0.03  \\\\\n",
       "\t 1      & iPhone & Walk   & 3      &  9     & 29.45  & 0.02  \\\\\n",
       "\t 1      & iPhone & Walk   & 3      & 10     & 20.54  & 0.04  \\\\\n",
       "\t 1      & iPhone & Walk   & 3      & 11     & 15.22  & 0.04  \\\\\n",
       "\t 1      & iPhone & Walk   & 3      & 12     & 24.31  & 0.08  \\\\\n",
       "\t 1      & iPhone & Walk   & 3      & 13     & 19.03  & 0.04  \\\\\n",
       "\t 1      & iPhone & Walk   & 3      & 14     & 16.92  & 0.04  \\\\\n",
       "\t 1      & iPhone & Walk   & 3      & 15     & 22.86  & 0.04  \\\\\n",
       "\t 1      & iPhone & Walk   & 3      & 16     & 31.23  & 0.00  \\\\\n",
       "\t 1      & iPhone & Walk   & 3      & 17     & 22.39  & 0.03  \\\\\n",
       "\t 1      & iPhone & Walk   & 3      & 18     & 23.47  & 0.07  \\\\\n",
       "\t 1      & iPhone & Walk   & 3      & 19     & 20.83  & 0.00  \\\\\n",
       "\t 1      & iPhone & Walk   & 3      & 20     & 11.65  & 0.04  \\\\\n",
       "\\end{tabular}\n"
      ],
      "text/markdown": [
       "\n",
       "Subject | Keyboard | Posture | Posture_Order | Trial | WPM | Error_Rate | \n",
       "|---|---|---|---|---|---|---|---|---|---|---|---|---|---|---|---|---|---|---|---|---|---|---|---|---|---|---|---|---|---|---|---|---|---|---|---|---|---|---|---|---|---|---|---|---|---|---|---|---|---|---|---|---|---|---|---|---|---|---|---|\n",
       "| 1      | iPhone | Sit    | 1      |  1     | 21.05  | 0.01   | \n",
       "| 1      | iPhone | Sit    | 1      |  2     | 15.95  | 0.02   | \n",
       "| 1      | iPhone | Sit    | 1      |  3     | 21.51  | 0.01   | \n",
       "| 1      | iPhone | Sit    | 1      |  4     | 24.37  | 0.00   | \n",
       "| 1      | iPhone | Sit    | 1      |  5     | 22.58  | 0.05   | \n",
       "| 1      | iPhone | Sit    | 1      |  6     | 24.82  | 0.06   | \n",
       "| 1      | iPhone | Sit    | 1      |  7     | 24.35  | 0.00   | \n",
       "| 1      | iPhone | Sit    | 1      |  8     | 17.39  | 0.03   | \n",
       "| 1      | iPhone | Sit    | 1      |  9     | 20.76  | 0.03   | \n",
       "| 1      | iPhone | Sit    | 1      | 10     | 15.98  | 0.03   | \n",
       "| 1      | iPhone | Sit    | 1      | 11     | 25.52  | 0.00   | \n",
       "| 1      | iPhone | Sit    | 1      | 12     | 23.43  | 0.01   | \n",
       "| 1      | iPhone | Sit    | 1      | 13     | 20.94  | 0.03   | \n",
       "| 1      | iPhone | Sit    | 1      | 14     | 16.69  | 0.04   | \n",
       "| 1      | iPhone | Sit    | 1      | 15     | 17.57  | 0.01   | \n",
       "| 1      | iPhone | Sit    | 1      | 16     | 17.92  | 0.03   | \n",
       "| 1      | iPhone | Sit    | 1      | 17     | 20.46  | 0.02   | \n",
       "| 1      | iPhone | Sit    | 1      | 18     | 17.57  | 0.01   | \n",
       "| 1      | iPhone | Sit    | 1      | 19     | 16.06  | 0.03   | \n",
       "| 1      | iPhone | Sit    | 1      | 20     | 19.37  | 0.02   | \n",
       "| 1      | iPhone | Stand  | 2      |  1     | 21.42  | 0.04   | \n",
       "| 1      | iPhone | Stand  | 2      |  2     | 22.60  | 0.02   | \n",
       "| 1      | iPhone | Stand  | 2      |  3     | 20.07  | 0.01   | \n",
       "| 1      | iPhone | Stand  | 2      |  4     | 22.91  | 0.02   | \n",
       "| 1      | iPhone | Stand  | 2      |  5     | 18.89  | 0.04   | \n",
       "| 1      | iPhone | Stand  | 2      |  6     | 24.47  | 0.02   | \n",
       "| 1      | iPhone | Stand  | 2      |  7     | 30.03  | 0.05   | \n",
       "| 1      | iPhone | Stand  | 2      |  8     | 22.74  | 0.02   | \n",
       "| 1      | iPhone | Stand  | 2      |  9     | 29.58  | 0.02   | \n",
       "| 1      | iPhone | Stand  | 2      | 10     | 27.30  | 0.04   | \n",
       "| 1      | iPhone | Stand  | 2      | 11     | 24.80  | 0.02   | \n",
       "| 1      | iPhone | Stand  | 2      | 12     | 18.22  | 0.04   | \n",
       "| 1      | iPhone | Stand  | 2      | 13     | 35.61  | 0.03   | \n",
       "| 1      | iPhone | Stand  | 2      | 14     | 20.85  | 0.03   | \n",
       "| 1      | iPhone | Stand  | 2      | 15     | 21.23  | 0.01   | \n",
       "| 1      | iPhone | Stand  | 2      | 16     | 23.54  | 0.01   | \n",
       "| 1      | iPhone | Stand  | 2      | 17     | 23.08  | 0.04   | \n",
       "| 1      | iPhone | Stand  | 2      | 18     | 20.97  | 0.06   | \n",
       "| 1      | iPhone | Stand  | 2      | 19     | 19.09  | 0.05   | \n",
       "| 1      | iPhone | Stand  | 2      | 20     | 27.57  | 0.03   | \n",
       "| 1      | iPhone | Walk   | 3      |  1     | 15.50  | 0.03   | \n",
       "| 1      | iPhone | Walk   | 3      |  2     | 23.60  | 0.05   | \n",
       "| 1      | iPhone | Walk   | 3      |  3     | 15.37  | 0.05   | \n",
       "| 1      | iPhone | Walk   | 3      |  4     | 21.60  | 0.03   | \n",
       "| 1      | iPhone | Walk   | 3      |  5     | 18.19  | 0.09   | \n",
       "| 1      | iPhone | Walk   | 3      |  6     | 19.19  | 0.05   | \n",
       "| 1      | iPhone | Walk   | 3      |  7     | 25.57  | 0.06   | \n",
       "| 1      | iPhone | Walk   | 3      |  8     | 19.00  | 0.03   | \n",
       "| 1      | iPhone | Walk   | 3      |  9     | 29.45  | 0.02   | \n",
       "| 1      | iPhone | Walk   | 3      | 10     | 20.54  | 0.04   | \n",
       "| 1      | iPhone | Walk   | 3      | 11     | 15.22  | 0.04   | \n",
       "| 1      | iPhone | Walk   | 3      | 12     | 24.31  | 0.08   | \n",
       "| 1      | iPhone | Walk   | 3      | 13     | 19.03  | 0.04   | \n",
       "| 1      | iPhone | Walk   | 3      | 14     | 16.92  | 0.04   | \n",
       "| 1      | iPhone | Walk   | 3      | 15     | 22.86  | 0.04   | \n",
       "| 1      | iPhone | Walk   | 3      | 16     | 31.23  | 0.00   | \n",
       "| 1      | iPhone | Walk   | 3      | 17     | 22.39  | 0.03   | \n",
       "| 1      | iPhone | Walk   | 3      | 18     | 23.47  | 0.07   | \n",
       "| 1      | iPhone | Walk   | 3      | 19     | 20.83  | 0.00   | \n",
       "| 1      | iPhone | Walk   | 3      | 20     | 11.65  | 0.04   | \n",
       "\n",
       "\n"
      ],
      "text/plain": [
       "   Subject Keyboard Posture Posture_Order Trial WPM   Error_Rate\n",
       "1  1       iPhone   Sit     1              1    21.05 0.01      \n",
       "2  1       iPhone   Sit     1              2    15.95 0.02      \n",
       "3  1       iPhone   Sit     1              3    21.51 0.01      \n",
       "4  1       iPhone   Sit     1              4    24.37 0.00      \n",
       "5  1       iPhone   Sit     1              5    22.58 0.05      \n",
       "6  1       iPhone   Sit     1              6    24.82 0.06      \n",
       "7  1       iPhone   Sit     1              7    24.35 0.00      \n",
       "8  1       iPhone   Sit     1              8    17.39 0.03      \n",
       "9  1       iPhone   Sit     1              9    20.76 0.03      \n",
       "10 1       iPhone   Sit     1             10    15.98 0.03      \n",
       "11 1       iPhone   Sit     1             11    25.52 0.00      \n",
       "12 1       iPhone   Sit     1             12    23.43 0.01      \n",
       "13 1       iPhone   Sit     1             13    20.94 0.03      \n",
       "14 1       iPhone   Sit     1             14    16.69 0.04      \n",
       "15 1       iPhone   Sit     1             15    17.57 0.01      \n",
       "16 1       iPhone   Sit     1             16    17.92 0.03      \n",
       "17 1       iPhone   Sit     1             17    20.46 0.02      \n",
       "18 1       iPhone   Sit     1             18    17.57 0.01      \n",
       "19 1       iPhone   Sit     1             19    16.06 0.03      \n",
       "20 1       iPhone   Sit     1             20    19.37 0.02      \n",
       "21 1       iPhone   Stand   2              1    21.42 0.04      \n",
       "22 1       iPhone   Stand   2              2    22.60 0.02      \n",
       "23 1       iPhone   Stand   2              3    20.07 0.01      \n",
       "24 1       iPhone   Stand   2              4    22.91 0.02      \n",
       "25 1       iPhone   Stand   2              5    18.89 0.04      \n",
       "26 1       iPhone   Stand   2              6    24.47 0.02      \n",
       "27 1       iPhone   Stand   2              7    30.03 0.05      \n",
       "28 1       iPhone   Stand   2              8    22.74 0.02      \n",
       "29 1       iPhone   Stand   2              9    29.58 0.02      \n",
       "30 1       iPhone   Stand   2             10    27.30 0.04      \n",
       "31 1       iPhone   Stand   2             11    24.80 0.02      \n",
       "32 1       iPhone   Stand   2             12    18.22 0.04      \n",
       "33 1       iPhone   Stand   2             13    35.61 0.03      \n",
       "34 1       iPhone   Stand   2             14    20.85 0.03      \n",
       "35 1       iPhone   Stand   2             15    21.23 0.01      \n",
       "36 1       iPhone   Stand   2             16    23.54 0.01      \n",
       "37 1       iPhone   Stand   2             17    23.08 0.04      \n",
       "38 1       iPhone   Stand   2             18    20.97 0.06      \n",
       "39 1       iPhone   Stand   2             19    19.09 0.05      \n",
       "40 1       iPhone   Stand   2             20    27.57 0.03      \n",
       "41 1       iPhone   Walk    3              1    15.50 0.03      \n",
       "42 1       iPhone   Walk    3              2    23.60 0.05      \n",
       "43 1       iPhone   Walk    3              3    15.37 0.05      \n",
       "44 1       iPhone   Walk    3              4    21.60 0.03      \n",
       "45 1       iPhone   Walk    3              5    18.19 0.09      \n",
       "46 1       iPhone   Walk    3              6    19.19 0.05      \n",
       "47 1       iPhone   Walk    3              7    25.57 0.06      \n",
       "48 1       iPhone   Walk    3              8    19.00 0.03      \n",
       "49 1       iPhone   Walk    3              9    29.45 0.02      \n",
       "50 1       iPhone   Walk    3             10    20.54 0.04      \n",
       "51 1       iPhone   Walk    3             11    15.22 0.04      \n",
       "52 1       iPhone   Walk    3             12    24.31 0.08      \n",
       "53 1       iPhone   Walk    3             13    19.03 0.04      \n",
       "54 1       iPhone   Walk    3             14    16.92 0.04      \n",
       "55 1       iPhone   Walk    3             15    22.86 0.04      \n",
       "56 1       iPhone   Walk    3             16    31.23 0.00      \n",
       "57 1       iPhone   Walk    3             17    22.39 0.03      \n",
       "58 1       iPhone   Walk    3             18    23.47 0.07      \n",
       "59 1       iPhone   Walk    3             19    20.83 0.00      \n",
       "60 1       iPhone   Walk    3             20    11.65 0.04      "
      ]
     },
     "metadata": {},
     "output_type": "display_data"
    }
   ],
   "source": [
    "library(\"plyr\")\n",
    "library(\"dplyr\")\n",
    "\n",
    "mbltxttrials %>%\n",
    "    filter(Subject == 1)"
   ]
  },
  {
   "cell_type": "markdown",
   "metadata": {},
   "source": [
    "We have the posture order column to check for order effects of our within subject factor posture to make sure that our full counter balancing worked. We have now a trial column 1 to 20. And so, as the posture changes for the first subject using an iphone, the posture changes to standing from sitting. Now the trial start over from 1 to 20 again. And so, we're going to nest trial in posture and keyboard as we discussed previously. Then we have our 2 measure columns, WPM and Error Rate. \n",
    "\n",
    "We'll analyze words per minute with a linear mixed model and error rate because errors are poisson distributed with a generalized linear mixed model. "
   ]
  },
  {
   "cell_type": "markdown",
   "metadata": {},
   "source": [
    "It looks like each subject does 20 trials of a keyboard-posture combination. Each subjects does one keyboard type and all 3 posture types"
   ]
  },
  {
   "cell_type": "code",
   "execution_count": 210,
   "metadata": {},
   "outputs": [
    {
     "data": {
      "text/plain": [
       "    Subject       Keyboard    Posture    Posture_Order     Trial     \n",
       " 1      :  60   Galaxy:720   Sit  :480   1:480         1      :  72  \n",
       " 2      :  60   iPhone:720   Stand:480   2:480         2      :  72  \n",
       " 3      :  60                Walk :480   3:480         3      :  72  \n",
       " 4      :  60                                          4      :  72  \n",
       " 5      :  60                                          5      :  72  \n",
       " 6      :  60                                          6      :  72  \n",
       " (Other):1080                                          (Other):1008  \n",
       "      WPM          Error_Rate     \n",
       " Min.   : 0.63   Min.   :0.00000  \n",
       " 1st Qu.:17.47   1st Qu.:0.02000  \n",
       " Median :21.21   Median :0.03000  \n",
       " Mean   :20.21   Mean   :0.03381  \n",
       " 3rd Qu.:23.98   3rd Qu.:0.05000  \n",
       " Max.   :36.39   Max.   :0.15000  \n",
       "                                  "
      ]
     },
     "metadata": {},
     "output_type": "display_data"
    }
   ],
   "source": [
    "mbltxttrials$Subject <- as.factor(mbltxttrials$Subject)\n",
    "mbltxttrials$Posture_Order <- as.factor(mbltxttrials$Posture_Order)\n",
    "mbltxttrials$Trial <- as.factor(mbltxttrials$Trial)\n",
    "\n",
    "summary(mbltxttrials)"
   ]
  },
  {
   "cell_type": "code",
   "execution_count": 211,
   "metadata": {},
   "outputs": [
    {
     "data": {
      "text/html": [
       "<table>\n",
       "<thead><tr><th scope=col>Keyboard</th><th scope=col>Posture</th><th scope=col>Min.</th><th scope=col>1st Qu.</th><th scope=col>Median</th><th scope=col>Mean</th><th scope=col>3rd Qu.</th><th scope=col>Max.</th></tr></thead>\n",
       "<tbody>\n",
       "\t<tr><td>Galaxy  </td><td>Sit     </td><td>18.66   </td><td>22.5875 </td><td>23.970  </td><td>23.90979</td><td>25.0450 </td><td>29.25   </td></tr>\n",
       "\t<tr><td>Galaxy  </td><td>Stand   </td><td>13.52   </td><td>19.0900 </td><td>21.230  </td><td>21.19183</td><td>23.1275 </td><td>32.98   </td></tr>\n",
       "\t<tr><td>Galaxy  </td><td>Walk    </td><td> 0.63   </td><td> 8.5850 </td><td>11.785  </td><td>12.06554</td><td>15.7450 </td><td>25.36   </td></tr>\n",
       "\t<tr><td>iPhone  </td><td>Sit     </td><td> 9.85   </td><td>18.8050 </td><td>20.880  </td><td>20.95750</td><td>22.8475 </td><td>28.55   </td></tr>\n",
       "\t<tr><td>iPhone  </td><td>Stand   </td><td>10.76   </td><td>21.0925 </td><td>23.985  </td><td>23.91629</td><td>26.1825 </td><td>36.39   </td></tr>\n",
       "\t<tr><td>iPhone  </td><td>Walk    </td><td> 3.76   </td><td>15.5975 </td><td>19.000  </td><td>19.23408</td><td>22.2700 </td><td>34.90   </td></tr>\n",
       "</tbody>\n",
       "</table>\n"
      ],
      "text/latex": [
       "\\begin{tabular}{r|llllllll}\n",
       " Keyboard & Posture & Min. & 1st Qu. & Median & Mean & 3rd Qu. & Max.\\\\\n",
       "\\hline\n",
       "\t Galaxy   & Sit      & 18.66    & 22.5875  & 23.970   & 23.90979 & 25.0450  & 29.25   \\\\\n",
       "\t Galaxy   & Stand    & 13.52    & 19.0900  & 21.230   & 21.19183 & 23.1275  & 32.98   \\\\\n",
       "\t Galaxy   & Walk     &  0.63    &  8.5850  & 11.785   & 12.06554 & 15.7450  & 25.36   \\\\\n",
       "\t iPhone   & Sit      &  9.85    & 18.8050  & 20.880   & 20.95750 & 22.8475  & 28.55   \\\\\n",
       "\t iPhone   & Stand    & 10.76    & 21.0925  & 23.985   & 23.91629 & 26.1825  & 36.39   \\\\\n",
       "\t iPhone   & Walk     &  3.76    & 15.5975  & 19.000   & 19.23408 & 22.2700  & 34.90   \\\\\n",
       "\\end{tabular}\n"
      ],
      "text/markdown": [
       "\n",
       "Keyboard | Posture | Min. | 1st Qu. | Median | Mean | 3rd Qu. | Max. | \n",
       "|---|---|---|---|---|---|\n",
       "| Galaxy   | Sit      | 18.66    | 22.5875  | 23.970   | 23.90979 | 25.0450  | 29.25    | \n",
       "| Galaxy   | Stand    | 13.52    | 19.0900  | 21.230   | 21.19183 | 23.1275  | 32.98    | \n",
       "| Galaxy   | Walk     |  0.63    |  8.5850  | 11.785   | 12.06554 | 15.7450  | 25.36    | \n",
       "| iPhone   | Sit      |  9.85    | 18.8050  | 20.880   | 20.95750 | 22.8475  | 28.55    | \n",
       "| iPhone   | Stand    | 10.76    | 21.0925  | 23.985   | 23.91629 | 26.1825  | 36.39    | \n",
       "| iPhone   | Walk     |  3.76    | 15.5975  | 19.000   | 19.23408 | 22.2700  | 34.90    | \n",
       "\n",
       "\n"
      ],
      "text/plain": [
       "  Keyboard Posture Min.  1st Qu. Median Mean     3rd Qu. Max. \n",
       "1 Galaxy   Sit     18.66 22.5875 23.970 23.90979 25.0450 29.25\n",
       "2 Galaxy   Stand   13.52 19.0900 21.230 21.19183 23.1275 32.98\n",
       "3 Galaxy   Walk     0.63  8.5850 11.785 12.06554 15.7450 25.36\n",
       "4 iPhone   Sit      9.85 18.8050 20.880 20.95750 22.8475 28.55\n",
       "5 iPhone   Stand   10.76 21.0925 23.985 23.91629 26.1825 36.39\n",
       "6 iPhone   Walk     3.76 15.5975 19.000 19.23408 22.2700 34.90"
      ]
     },
     "metadata": {},
     "output_type": "display_data"
    }
   ],
   "source": [
    "# explore the WPM data\n",
    "\n",
    "ddply(mbltxttrials, ~ Keyboard * Posture, function(data) summary(data$WPM))"
   ]
  },
  {
   "cell_type": "code",
   "execution_count": 212,
   "metadata": {},
   "outputs": [
    {
     "data": {
      "text/html": [
       "<table>\n",
       "<thead><tr><th scope=col>Keyboard</th><th scope=col>Posture</th><th scope=col>WPM.mean</th><th scope=col>WPM.sd</th></tr></thead>\n",
       "<tbody>\n",
       "\t<tr><td>Galaxy  </td><td>Sit     </td><td>23.90979</td><td>1.947672</td></tr>\n",
       "\t<tr><td>Galaxy  </td><td>Stand   </td><td>21.19183</td><td>2.977103</td></tr>\n",
       "\t<tr><td>Galaxy  </td><td>Walk    </td><td>12.06554</td><td>4.905870</td></tr>\n",
       "\t<tr><td>iPhone  </td><td>Sit     </td><td>20.95750</td><td>2.995498</td></tr>\n",
       "\t<tr><td>iPhone  </td><td>Stand   </td><td>23.91629</td><td>4.230597</td></tr>\n",
       "\t<tr><td>iPhone  </td><td>Walk    </td><td>19.23408</td><td>4.885713</td></tr>\n",
       "</tbody>\n",
       "</table>\n"
      ],
      "text/latex": [
       "\\begin{tabular}{r|llll}\n",
       " Keyboard & Posture & WPM.mean & WPM.sd\\\\\n",
       "\\hline\n",
       "\t Galaxy   & Sit      & 23.90979 & 1.947672\\\\\n",
       "\t Galaxy   & Stand    & 21.19183 & 2.977103\\\\\n",
       "\t Galaxy   & Walk     & 12.06554 & 4.905870\\\\\n",
       "\t iPhone   & Sit      & 20.95750 & 2.995498\\\\\n",
       "\t iPhone   & Stand    & 23.91629 & 4.230597\\\\\n",
       "\t iPhone   & Walk     & 19.23408 & 4.885713\\\\\n",
       "\\end{tabular}\n"
      ],
      "text/markdown": [
       "\n",
       "Keyboard | Posture | WPM.mean | WPM.sd | \n",
       "|---|---|---|---|---|---|\n",
       "| Galaxy   | Sit      | 23.90979 | 1.947672 | \n",
       "| Galaxy   | Stand    | 21.19183 | 2.977103 | \n",
       "| Galaxy   | Walk     | 12.06554 | 4.905870 | \n",
       "| iPhone   | Sit      | 20.95750 | 2.995498 | \n",
       "| iPhone   | Stand    | 23.91629 | 4.230597 | \n",
       "| iPhone   | Walk     | 19.23408 | 4.885713 | \n",
       "\n",
       "\n"
      ],
      "text/plain": [
       "  Keyboard Posture WPM.mean WPM.sd  \n",
       "1 Galaxy   Sit     23.90979 1.947672\n",
       "2 Galaxy   Stand   21.19183 2.977103\n",
       "3 Galaxy   Walk    12.06554 4.905870\n",
       "4 iPhone   Sit     20.95750 2.995498\n",
       "5 iPhone   Stand   23.91629 4.230597\n",
       "6 iPhone   Walk    19.23408 4.885713"
      ]
     },
     "metadata": {},
     "output_type": "display_data"
    }
   ],
   "source": [
    "ddply(mbltxttrials, ~ Keyboard * Posture, summarise, \n",
    "         WPM.mean = mean(WPM),\n",
    "         WPM.sd = sd(WPM))"
   ]
  },
  {
   "cell_type": "code",
   "execution_count": 213,
   "metadata": {
    "scrolled": false
   },
   "outputs": [
    {
     "data": {
      "image/png": "[encoded data removed]",
      "text/plain": [
       "Plot with title \"Histogram of mbltxttrials[mbltxttrials$Keyboard == \"iPhone\" & mbltxttrials$Posture == \"Sit\", ]$WPM\""
      ]
     },
     "metadata": {},
     "output_type": "display_data"
    },
    {
     "data": {
      "image/png": "[encoded data removed]",
      "text/plain": [
       "Plot with title \"Histogram of mbltxttrials[mbltxttrials$Keyboard == \"iPhone\" & mbltxttrials$Posture == \"Stand\", ]$WPM\""
      ]
     },
     "metadata": {},
     "output_type": "display_data"
    },
    {
     "data": {
      "image/png": "[encoded data removed]",
      "text/plain": [
       "Plot with title \"Histogram of mbltxttrials[mbltxttrials$Keyboard == \"iPhone\" & mbltxttrials$Posture == \"Walk\", ]$WPM\""
      ]
     },
     "metadata": {},
     "output_type": "display_data"
    },
    {
     "data": {
      "image/png": "[encoded data removed]",
      "text/plain": [
       "Plot with title \"Histogram of mbltxttrials[mbltxttrials$Keyboard == \"Galaxy\" & mbltxttrials$Posture == \"Sit\", ]$WPM\""
      ]
     },
     "metadata": {},
     "output_type": "display_data"
    },
    {
     "data": {
      "image/png": "[encoded data removed]",
      "text/plain": [
       "Plot with title \"Histogram of mbltxttrials[mbltxttrials$Keyboard == \"Galaxy\" & mbltxttrials$Posture == \"Stand\", ]$WPM\""
      ]
     },
     "metadata": {},
     "output_type": "display_data"
    },
    {
     "data": {
      "image/png": "[encoded data removed]",
      "text/plain": [
       "Plot with title \"Histogram of mbltxttrials[mbltxttrials$Keyboard == \"Galaxy\" & mbltxttrials$Posture == \"Walk\", ]$WPM\""
      ]
     },
     "metadata": {},
     "output_type": "display_data"
    }
   ],
   "source": [
    "# histogram for the 2 factors\n",
    "\n",
    "hist(mbltxttrials[mbltxttrials$Keyboard == \"iPhone\" & mbltxttrials$Posture == \"Sit\",]$WPM)\n",
    "hist(mbltxttrials[mbltxttrials$Keyboard == \"iPhone\" & mbltxttrials$Posture == \"Stand\",]$WPM)\n",
    "hist(mbltxttrials[mbltxttrials$Keyboard == \"iPhone\" & mbltxttrials$Posture == \"Walk\",]$WPM)\n",
    "hist(mbltxttrials[mbltxttrials$Keyboard == \"Galaxy\" & mbltxttrials$Posture == \"Sit\",]$WPM)\n",
    "hist(mbltxttrials[mbltxttrials$Keyboard == \"Galaxy\" & mbltxttrials$Posture == \"Stand\",]$WPM)\n",
    "hist(mbltxttrials[mbltxttrials$Keyboard == \"Galaxy\" & mbltxttrials$Posture == \"Walk\",]$WPM)"
   ]
  },
  {
   "cell_type": "code",
   "execution_count": 214,
   "metadata": {},
   "outputs": [
    {
     "data": {
      "image/png": "[encoded data removed]",
      "text/plain": [
       "plot without title"
      ]
     },
     "metadata": {},
     "output_type": "display_data"
    }
   ],
   "source": [
    "boxplot(WPM ~ Keyboard * Posture, data=mbltxttrials, xlab=\"Keyboard.Posture\", ylab=\"WPM\") # boxplots"
   ]
  },
  {
   "cell_type": "code",
   "execution_count": 215,
   "metadata": {},
   "outputs": [
    {
     "data": {
      "image/png": "[encoded data removed]",
      "text/plain": [
       "plot without title"
      ]
     },
     "metadata": {},
     "output_type": "display_data"
    }
   ],
   "source": [
    "with(mbltxttrials, interaction.plot(Posture, Keyboard, WPM, ylim=c(0, max(mbltxttrials$WPM)))) # interaction?"
   ]
  },
  {
   "cell_type": "code",
   "execution_count": 216,
   "metadata": {},
   "outputs": [],
   "source": [
    "# libraries for LMMs\n",
    "library(\"lme4\") # for lmer\n",
    "library(\"lmerTest\")\n",
    "library(\"car\") # for Anova"
   ]
  },
  {
   "cell_type": "markdown",
   "metadata": {},
   "source": [
    "We need to set some contrasts for each of these factors to be sum to zero contrasts. They really mean that when we do pairwise comparisons, we compare each of the levels evenly to each other. "
   ]
  },
  {
   "cell_type": "code",
   "execution_count": 217,
   "metadata": {
    "collapsed": true
   },
   "outputs": [],
   "source": [
    "# set sum to zero contrasts for the anova calls\n",
    "\n",
    "contrasts(mbltxttrials$Keyboard) <- \"contr.sum\"\n",
    "contrasts(mbltxttrials$Posture) <- \"contr.sum\"\n",
    "contrasts(mbltxttrials$Posture_Order) <- \"contr.sum\"\n",
    "contrasts(mbltxttrials$Trial) <- \"contr.sum\""
   ]
  },
  {
   "cell_type": "markdown",
   "metadata": {},
   "source": [
    "Then we'll move into the test of an order effect. So we want to make sure we counterbalanced posture order properly and that it doesn't have an order effect working. \n",
    "\n",
    "So we'll run our trial, our linear mixed model, with keyboard as a fixed effect."
   ]
  },
  {
   "cell_type": "code",
   "execution_count": 218,
   "metadata": {},
   "outputs": [
    {
     "data": {
      "text/html": [
       "<table>\n",
       "<thead><tr><th></th><th scope=col>F</th><th scope=col>Df</th><th scope=col>Df.res</th><th scope=col>Pr(&gt;F)</th></tr></thead>\n",
       "<tbody>\n",
       "\t<tr><th scope=row>(Intercept)</th><td>1.925211e+04</td><td>  1         </td><td>  22        </td><td>7.210305e-34</td></tr>\n",
       "\t<tr><th scope=row>Keyboard</th><td>6.305843e+01</td><td>  1         </td><td>  22        </td><td>6.674588e-08</td></tr>\n",
       "\t<tr><th scope=row>Posture_Order</th><td>8.445125e-01</td><td>  2         </td><td>1298        </td><td>4.300028e-01</td></tr>\n",
       "\t<tr><th scope=row>Keyboard:Posture_Order</th><td>4.627457e-02</td><td>  2         </td><td>1298        </td><td>9.547813e-01</td></tr>\n",
       "\t<tr><th scope=row>Keyboard:Posture_Order:Trial</th><td>4.828560e-01</td><td>114         </td><td>1298        </td><td>9.999989e-01</td></tr>\n",
       "</tbody>\n",
       "</table>\n"
      ],
      "text/latex": [
       "\\begin{tabular}{r|llll}\n",
       "  & F & Df & Df.res & Pr(>F)\\\\\n",
       "\\hline\n",
       "\t(Intercept) & 1.925211e+04 &   1          &   22         & 7.210305e-34\\\\\n",
       "\tKeyboard & 6.305843e+01 &   1          &   22         & 6.674588e-08\\\\\n",
       "\tPosture\\_Order & 8.445125e-01 &   2          & 1298         & 4.300028e-01\\\\\n",
       "\tKeyboard:Posture\\_Order & 4.627457e-02 &   2          & 1298         & 9.547813e-01\\\\\n",
       "\tKeyboard:Posture\\_Order:Trial & 4.828560e-01 & 114          & 1298         & 9.999989e-01\\\\\n",
       "\\end{tabular}\n"
      ],
      "text/markdown": [
       "\n",
       "| <!--/--> | F | Df | Df.res | Pr(>F) | \n",
       "|---|---|---|---|---|\n",
       "| (Intercept) | 1.925211e+04 |   1          |   22         | 7.210305e-34 | \n",
       "| Keyboard | 6.305843e+01 |   1          |   22         | 6.674588e-08 | \n",
       "| Posture_Order | 8.445125e-01 |   2          | 1298         | 4.300028e-01 | \n",
       "| Keyboard:Posture_Order | 4.627457e-02 |   2          | 1298         | 9.547813e-01 | \n",
       "| Keyboard:Posture_Order:Trial | 4.828560e-01 | 114          | 1298         | 9.999989e-01 | \n",
       "\n",
       "\n"
      ],
      "text/plain": [
       "                             F            Df  Df.res Pr(>F)      \n",
       "(Intercept)                  1.925211e+04   1   22   7.210305e-34\n",
       "Keyboard                     6.305843e+01   1   22   6.674588e-08\n",
       "Posture_Order                8.445125e-01   2 1298   4.300028e-01\n",
       "Keyboard:Posture_Order       4.627457e-02   2 1298   9.547813e-01\n",
       "Keyboard:Posture_Order:Trial 4.828560e-01 114 1298   9.999989e-01"
      ]
     },
     "metadata": {},
     "output_type": "display_data"
    }
   ],
   "source": [
    "# LMM order effect test\n",
    "# Keyboard, posture order, keyboard:posture order\n",
    "# and trial are all fixed effects. \n",
    "# trial is nested within keyboard, posture_order.\n",
    "# subject is a random effect. \n",
    "\n",
    "m <- lmer(WPM ~ (Keyboard * Posture_Order)/Trial + (1|Subject), data=mbltxttrials)\n",
    "Anova(m, type=3, test.statistic=\"F\")"
   ]
  },
  {
   "cell_type": "markdown",
   "metadata": {},
   "source": [
    "In the results, we can see that we have a significant p-value for keyboard. Thankfully, posture order is not statistically significant. And neither is posture order interacting with keyboard. Neither is the 3 way interaction with trial. So what this tells us is that we did adequately counterbalance and the order of presentation of the postures did nto in fact affect our data so that's good. \n",
    "\n",
    "So now we can move forward with some confidence to do the linear mixed model on words per minute. That's the response variable that we care about. \n",
    "\n",
    "We have the same model but this time, we're just encoding posture directly (not posture order). We can run our linear mixed model with that. A subject is again a random effect, which gives us the ability to model the within subjects aspect of posture. And we have trial nested within keyboard in posture."
   ]
  },
  {
   "cell_type": "code",
   "execution_count": 219,
   "metadata": {},
   "outputs": [
    {
     "data": {
      "text/html": [
       "<table>\n",
       "<thead><tr><th></th><th scope=col>F</th><th scope=col>Df</th><th scope=col>Df.res</th><th scope=col>Pr(&gt;F)</th></tr></thead>\n",
       "<tbody>\n",
       "\t<tr><th scope=row>(Intercept)</th><td>3.798468e+04 </td><td>  1          </td><td>  22         </td><td> 4.112447e-37</td></tr>\n",
       "\t<tr><th scope=row>Keyboard</th><td>1.244151e+02 </td><td>  1          </td><td>  22         </td><td> 1.596642e-10</td></tr>\n",
       "\t<tr><th scope=row>Posture</th><td>5.111322e+02 </td><td>  2          </td><td>1298         </td><td>1.911868e-164</td></tr>\n",
       "\t<tr><th scope=row>Keyboard:Posture</th><td>2.105635e+02 </td><td>  2          </td><td>1298         </td><td> 6.315523e-80</td></tr>\n",
       "\t<tr><th scope=row>Keyboard:Posture:Trial</th><td>9.132851e-01 </td><td>114          </td><td>1298         </td><td> 7.288184e-01</td></tr>\n",
       "</tbody>\n",
       "</table>\n"
      ],
      "text/latex": [
       "\\begin{tabular}{r|llll}\n",
       "  & F & Df & Df.res & Pr(>F)\\\\\n",
       "\\hline\n",
       "\t(Intercept) & 3.798468e+04  &   1           &   22          &  4.112447e-37\\\\\n",
       "\tKeyboard & 1.244151e+02  &   1           &   22          &  1.596642e-10\\\\\n",
       "\tPosture & 5.111322e+02  &   2           & 1298          & 1.911868e-164\\\\\n",
       "\tKeyboard:Posture & 2.105635e+02  &   2           & 1298          &  6.315523e-80\\\\\n",
       "\tKeyboard:Posture:Trial & 9.132851e-01  & 114           & 1298          &  7.288184e-01\\\\\n",
       "\\end{tabular}\n"
      ],
      "text/markdown": [
       "\n",
       "| <!--/--> | F | Df | Df.res | Pr(>F) | \n",
       "|---|---|---|---|---|\n",
       "| (Intercept) | 3.798468e+04  |   1           |   22          |  4.112447e-37 | \n",
       "| Keyboard | 1.244151e+02  |   1           |   22          |  1.596642e-10 | \n",
       "| Posture | 5.111322e+02  |   2           | 1298          | 1.911868e-164 | \n",
       "| Keyboard:Posture | 2.105635e+02  |   2           | 1298          |  6.315523e-80 | \n",
       "| Keyboard:Posture:Trial | 9.132851e-01  | 114           | 1298          |  7.288184e-01 | \n",
       "\n",
       "\n"
      ],
      "text/plain": [
       "                       F            Df  Df.res Pr(>F)       \n",
       "(Intercept)            3.798468e+04   1   22    4.112447e-37\n",
       "Keyboard               1.244151e+02   1   22    1.596642e-10\n",
       "Posture                5.111322e+02   2 1298   1.911868e-164\n",
       "Keyboard:Posture       2.105635e+02   2 1298    6.315523e-80\n",
       "Keyboard:Posture:Trial 9.132851e-01 114 1298    7.288184e-01"
      ]
     },
     "metadata": {},
     "output_type": "display_data"
    }
   ],
   "source": [
    "# main LMM test on WPM\n",
    "# Keyboard, posture, keyboarD:posture and trial are \n",
    "# all fixed effects. Trial is nested within keyboard,\n",
    "# posture. Subject is a random effect. \n",
    "\n",
    "m <- lmer(WPM ~ (Keyboard * Posture)/Trial + (1|Subject), data=mbltxttrials)\n",
    "Anova(m, type=3, test.statistic=\"F\")"
   ]
  },
  {
   "cell_type": "markdown",
   "metadata": {},
   "source": [
    "We can see here that keyboard is statistically significant. There's a difference in keyboard (we also found that previously in previous modules). There's a difference in posture (also found previously). And there's a significant keyboard posture interaction. All of which we discovered from our summarized data previously. But now, look at our degrees of freedom for posture and keyboard posture. The numerator degrees of freedom are 2 and the denominator is 1298. So that's retaining a large number of denominator degrees of freedom that we would report in our F Statistic. But don't be alarm as that's typical for linear mixed models. \n",
    "\n",
    "Incidentally, you might be wondering...well, if subjects were sampled randomly from a population that we want to generalize about, and we don't care about the specific levels like subject. That is the specific subjects themselves. Isn't that sort of true of trial as well? Isn't trial kind of a random effect? Possibly if it's sampled from a larger population of possible text entry phrases they might enter. And we don't really care the specific value of trial 1 to 20. The answer is yes - that's a reasonable thing to do and we can create a random effect trial in this fashion as well. "
   ]
  },
  {
   "cell_type": "code",
   "execution_count": 220,
   "metadata": {},
   "outputs": [
    {
     "data": {
      "text/html": [
       "<table>\n",
       "<thead><tr><th></th><th scope=col>F</th><th scope=col>Df</th><th scope=col>Df.res</th><th scope=col>Pr(&gt;F)</th></tr></thead>\n",
       "<tbody>\n",
       "\t<tr><th scope=row>(Intercept)</th><td>37984.6920  </td><td>1           </td><td> 18.55577   </td><td>3.464935e-32</td></tr>\n",
       "\t<tr><th scope=row>Keyboard</th><td>  124.4152  </td><td>1           </td><td> 18.55577   </td><td>1.152387e-09</td></tr>\n",
       "\t<tr><th scope=row>Posture</th><td>  514.7359  </td><td>2           </td><td>114.00000   </td><td>8.408654e-58</td></tr>\n",
       "\t<tr><th scope=row>Keyboard:Posture</th><td>  212.0481  </td><td>2           </td><td>114.00000   </td><td>3.842065e-39</td></tr>\n",
       "</tbody>\n",
       "</table>\n"
      ],
      "text/latex": [
       "\\begin{tabular}{r|llll}\n",
       "  & F & Df & Df.res & Pr(>F)\\\\\n",
       "\\hline\n",
       "\t(Intercept) & 37984.6920   & 1            &  18.55577    & 3.464935e-32\\\\\n",
       "\tKeyboard &   124.4152   & 1            &  18.55577    & 1.152387e-09\\\\\n",
       "\tPosture &   514.7359   & 2            & 114.00000    & 8.408654e-58\\\\\n",
       "\tKeyboard:Posture &   212.0481   & 2            & 114.00000    & 3.842065e-39\\\\\n",
       "\\end{tabular}\n"
      ],
      "text/markdown": [
       "\n",
       "| <!--/--> | F | Df | Df.res | Pr(>F) | \n",
       "|---|---|---|---|\n",
       "| (Intercept) | 37984.6920   | 1            |  18.55577    | 3.464935e-32 | \n",
       "| Keyboard |   124.4152   | 1            |  18.55577    | 1.152387e-09 | \n",
       "| Posture |   514.7359   | 2            | 114.00000    | 8.408654e-58 | \n",
       "| Keyboard:Posture |   212.0481   | 2            | 114.00000    | 3.842065e-39 | \n",
       "\n",
       "\n"
      ],
      "text/plain": [
       "                 F          Df Df.res    Pr(>F)      \n",
       "(Intercept)      37984.6920 1   18.55577 3.464935e-32\n",
       "Keyboard           124.4152 1   18.55577 1.152387e-09\n",
       "Posture            514.7359 2  114.00000 8.408654e-58\n",
       "Keyboard:Posture   212.0481 2  114.00000 3.842065e-39"
      ]
     },
     "metadata": {},
     "output_type": "display_data"
    }
   ],
   "source": [
    "# we should consider trial to be a random effect \n",
    "# and we obtain almost exactly the same results\n",
    "# but it takes longer to run. \n",
    "\n",
    "m <- lmer(WPM ~ Keyboard * Posture + (1|Keyboard:Posture:Trial) + (1|Subject), data=mbltxttrials)\n",
    "Anova(m, type=3, test.statistic=\"F\")"
   ]
  },
  {
   "cell_type": "markdown",
   "metadata": {},
   "source": [
    "In light of the overall signficant result, the omnibus test, we can do some pairwise comparisons. We can execute a pairwise comparison among the levels of keyboard and posture. "
   ]
  },
  {
   "cell_type": "code",
   "execution_count": 221,
   "metadata": {},
   "outputs": [
    {
     "name": "stderr",
     "output_type": "stream",
     "text": [
      "Note: df set to 88\n"
     ]
    },
    {
     "data": {
      "text/plain": [
       "\n",
       "\t Simultaneous Tests for General Linear Hypotheses\n",
       "\n",
       "Fit: lmer(formula = WPM ~ Keyboard * Posture + (1 | Keyboard:Posture:Trial) + \n",
       "    (1 | Subject), data = mbltxttrials)\n",
       "\n",
       "Linear Hypotheses:\n",
       "                                 Estimate Std. Error t value Pr(>|t|)    \n",
       "Galaxy,Sit - iPhone,Sit == 0       2.9523     0.3520   8.386 5.25e-12 ***\n",
       "Galaxy,Sit - Galaxy,Stand == 0     2.7180     0.3484   7.802 7.04e-11 ***\n",
       "Galaxy,Sit - iPhone,Stand == 0    -0.0065     0.3520  -0.018        1    \n",
       "Galaxy,Sit - Galaxy,Walk == 0     11.8443     0.3484  33.999  < 2e-16 ***\n",
       "Galaxy,Sit - iPhone,Walk == 0      4.6757     0.3520  13.282  < 2e-16 ***\n",
       "iPhone,Sit - Galaxy,Stand == 0    -0.2343     0.3520  -0.666        1    \n",
       "iPhone,Sit - iPhone,Stand == 0    -2.9588     0.3484  -8.493 3.62e-12 ***\n",
       "iPhone,Sit - Galaxy,Walk == 0      8.8920     0.3520  25.259  < 2e-16 ***\n",
       "iPhone,Sit - iPhone,Walk == 0      1.7234     0.3484   4.947 1.08e-05 ***\n",
       "Galaxy,Stand - iPhone,Stand == 0  -2.7245     0.3520  -7.739 7.88e-11 ***\n",
       "Galaxy,Stand - Galaxy,Walk == 0    9.1263     0.3484  26.197  < 2e-16 ***\n",
       "Galaxy,Stand - iPhone,Walk == 0    1.9578     0.3520   5.561 1.14e-06 ***\n",
       "iPhone,Stand - Galaxy,Walk == 0   11.8507     0.3520  33.663  < 2e-16 ***\n",
       "iPhone,Stand - iPhone,Walk == 0    4.6822     0.3484  13.440  < 2e-16 ***\n",
       "Galaxy,Walk - iPhone,Walk == 0    -7.1685     0.3520 -20.363  < 2e-16 ***\n",
       "---\n",
       "Signif. codes:  0 '***' 0.001 '**' 0.01 '*' 0.05 '.' 0.1 ' ' 1\n",
       "(Adjusted p values reported -- holm method)\n"
      ]
     },
     "metadata": {},
     "output_type": "display_data"
    },
    {
     "data": {
      "image/png": "[encoded data removed]",
      "text/plain": [
       "plot without title"
      ]
     },
     "metadata": {},
     "output_type": "display_data"
    }
   ],
   "source": [
    "# perform post-hoc pairwise comparisons\n",
    "library(\"multcomp\")\n",
    "library(\"lsmeans\")\n",
    "\n",
    "summary(glht(m, lsm(pairwise ~ Keyboard * Posture)), test=adjusted(type=\"holm\"))\n",
    "with(mbltxttrials, interaction.plot(Posture, Keyboard, WPM, ylim=c(0, max(mbltxttrials$WPM))))"
   ]
  },
  {
   "cell_type": "markdown",
   "metadata": {},
   "source": [
    "There's a quite a few combinations so we end up with a little bit longer output. We can see here that we have all of the pairwise comparisons available to us across all of these levels in our interaction plot. \n",
    "\n",
    "We want to notice a few things here. All of these pairwise differences seem significant and they are corrected for multiple comparison and that's very important when doing this many of them. "
   ]
  },
  {
   "cell_type": "code",
   "execution_count": 222,
   "metadata": {},
   "outputs": [
    {
     "data": {
      "image/png": "[encoded data removed]",
      "text/plain": [
       "plot without title"
      ]
     },
     "metadata": {},
     "output_type": "display_data"
    }
   ],
   "source": [
    "boxplot(WPM ~ Keyboard * Posture, data=mbltxttrials, xlab=\"Keyboard.Posture\", ylab=\"WPM\") # boxplots"
   ]
  },
  {
   "cell_type": "markdown",
   "metadata": {},
   "source": [
    "# Analyzing a generalized linear mixed model"
   ]
  },
  {
   "cell_type": "markdown",
   "metadata": {},
   "source": [
    "We're analyzing our data of our study of mobile text entry with 24 participants. Half of whom use the iphone and half use the galaxy. And all of whom were standing, sitting, and walking in those 3 different postures. Entering text entry phrases. We're keeping all of our phrases so we have a large data table with 1440 datapoints for both words per minute and error rate. We've just finished a linear mixed model for words per minute. And now we're going to use a generalized linear mixed model, which allows us to model the poisson nature of error rate. It's a count variable if we think of it in terms of errors per 100 trials. \n",
    "\n",
    "And that gives us a postive integer. We need non-negative integers for poisson regression. And so, we'll use the generalized linear mixed model to carry that out. "
   ]
  },
  {
   "cell_type": "code",
   "execution_count": 223,
   "metadata": {},
   "outputs": [
    {
     "data": {
      "text/html": [
       "<table>\n",
       "<thead><tr><th scope=col>Subject</th><th scope=col>Keyboard</th><th scope=col>Posture</th><th scope=col>Posture_Order</th><th scope=col>Trial</th><th scope=col>WPM</th><th scope=col>Error_Rate</th><th scope=col>Errors</th></tr></thead>\n",
       "<tbody>\n",
       "\t<tr><td>1     </td><td>iPhone</td><td>Sit   </td><td>1     </td><td>1     </td><td>21.05 </td><td>0.01  </td><td>1     </td></tr>\n",
       "\t<tr><td>1     </td><td>iPhone</td><td>Sit   </td><td>1     </td><td>2     </td><td>15.95 </td><td>0.02  </td><td>2     </td></tr>\n",
       "\t<tr><td>1     </td><td>iPhone</td><td>Sit   </td><td>1     </td><td>3     </td><td>21.51 </td><td>0.01  </td><td>1     </td></tr>\n",
       "\t<tr><td>1     </td><td>iPhone</td><td>Sit   </td><td>1     </td><td>4     </td><td>24.37 </td><td>0.00  </td><td>0     </td></tr>\n",
       "\t<tr><td>1     </td><td>iPhone</td><td>Sit   </td><td>1     </td><td>5     </td><td>22.58 </td><td>0.05  </td><td>5     </td></tr>\n",
       "\t<tr><td>1     </td><td>iPhone</td><td>Sit   </td><td>1     </td><td>6     </td><td>24.82 </td><td>0.06  </td><td>6     </td></tr>\n",
       "</tbody>\n",
       "</table>\n"
      ],
      "text/latex": [
       "\\begin{tabular}{r|llllllll}\n",
       " Subject & Keyboard & Posture & Posture\\_Order & Trial & WPM & Error\\_Rate & Errors\\\\\n",
       "\\hline\n",
       "\t 1      & iPhone & Sit    & 1      & 1      & 21.05  & 0.01   & 1     \\\\\n",
       "\t 1      & iPhone & Sit    & 1      & 2      & 15.95  & 0.02   & 2     \\\\\n",
       "\t 1      & iPhone & Sit    & 1      & 3      & 21.51  & 0.01   & 1     \\\\\n",
       "\t 1      & iPhone & Sit    & 1      & 4      & 24.37  & 0.00   & 0     \\\\\n",
       "\t 1      & iPhone & Sit    & 1      & 5      & 22.58  & 0.05   & 5     \\\\\n",
       "\t 1      & iPhone & Sit    & 1      & 6      & 24.82  & 0.06   & 6     \\\\\n",
       "\\end{tabular}\n"
      ],
      "text/markdown": [
       "\n",
       "Subject | Keyboard | Posture | Posture_Order | Trial | WPM | Error_Rate | Errors | \n",
       "|---|---|---|---|---|---|\n",
       "| 1      | iPhone | Sit    | 1      | 1      | 21.05  | 0.01   | 1      | \n",
       "| 1      | iPhone | Sit    | 1      | 2      | 15.95  | 0.02   | 2      | \n",
       "| 1      | iPhone | Sit    | 1      | 3      | 21.51  | 0.01   | 1      | \n",
       "| 1      | iPhone | Sit    | 1      | 4      | 24.37  | 0.00   | 0      | \n",
       "| 1      | iPhone | Sit    | 1      | 5      | 22.58  | 0.05   | 5      | \n",
       "| 1      | iPhone | Sit    | 1      | 6      | 24.82  | 0.06   | 6      | \n",
       "\n",
       "\n"
      ],
      "text/plain": [
       "  Subject Keyboard Posture Posture_Order Trial WPM   Error_Rate Errors\n",
       "1 1       iPhone   Sit     1             1     21.05 0.01       1     \n",
       "2 1       iPhone   Sit     1             2     15.95 0.02       2     \n",
       "3 1       iPhone   Sit     1             3     21.51 0.01       1     \n",
       "4 1       iPhone   Sit     1             4     24.37 0.00       0     \n",
       "5 1       iPhone   Sit     1             5     22.58 0.05       5     \n",
       "6 1       iPhone   Sit     1             6     24.82 0.06       6     "
      ]
     },
     "metadata": {},
     "output_type": "display_data"
    }
   ],
   "source": [
    "# turn error_rate into errors counted out of 100\n",
    "\n",
    "mbltxttrials$Errors <- mbltxttrials$Error_Rate * 100\n",
    "head(mbltxttrials)"
   ]
  },
  {
   "cell_type": "code",
   "execution_count": 224,
   "metadata": {},
   "outputs": [
    {
     "data": {
      "text/plain": [
       "    Subject       Keyboard    Posture    Posture_Order     Trial     \n",
       " 1      :  60   Galaxy:720   Sit  :480   1:480         1      :  72  \n",
       " 2      :  60   iPhone:720   Stand:480   2:480         2      :  72  \n",
       " 3      :  60                Walk :480   3:480         3      :  72  \n",
       " 4      :  60                                          4      :  72  \n",
       " 5      :  60                                          5      :  72  \n",
       " 6      :  60                                          6      :  72  \n",
       " (Other):1080                                          (Other):1008  \n",
       "      WPM          Error_Rate          Errors      \n",
       " Min.   : 0.63   Min.   :0.00000   Min.   : 0.000  \n",
       " 1st Qu.:17.47   1st Qu.:0.02000   1st Qu.: 2.000  \n",
       " Median :21.21   Median :0.03000   Median : 3.000  \n",
       " Mean   :20.21   Mean   :0.03381   Mean   : 3.381  \n",
       " 3rd Qu.:23.98   3rd Qu.:0.05000   3rd Qu.: 5.000  \n",
       " Max.   :36.39   Max.   :0.15000   Max.   :15.000  \n",
       "                                                   "
      ]
     },
     "metadata": {},
     "output_type": "display_data"
    }
   ],
   "source": [
    "summary(mbltxttrials)"
   ]
  },
  {
   "cell_type": "code",
   "execution_count": 225,
   "metadata": {},
   "outputs": [
    {
     "data": {
      "text/html": [
       "<table>\n",
       "<thead><tr><th scope=col>Keyboard</th><th scope=col>Posture</th><th scope=col>Min.</th><th scope=col>1st Qu.</th><th scope=col>Median</th><th scope=col>Mean</th><th scope=col>3rd Qu.</th><th scope=col>Max.</th></tr></thead>\n",
       "<tbody>\n",
       "\t<tr><td>Galaxy  </td><td>Sit     </td><td>0       </td><td>1       </td><td>2       </td><td>1.941667</td><td>3       </td><td> 6      </td></tr>\n",
       "\t<tr><td>Galaxy  </td><td>Stand   </td><td>0       </td><td>2       </td><td>3       </td><td>3.066667</td><td>4       </td><td> 9      </td></tr>\n",
       "\t<tr><td>Galaxy  </td><td>Walk    </td><td>1       </td><td>5       </td><td>6       </td><td>6.320833</td><td>8       </td><td>15      </td></tr>\n",
       "\t<tr><td>iPhone  </td><td>Sit     </td><td>0       </td><td>1       </td><td>2       </td><td>1.987500</td><td>3       </td><td> 7      </td></tr>\n",
       "\t<tr><td>iPhone  </td><td>Stand   </td><td>0       </td><td>2       </td><td>3       </td><td>2.983333</td><td>4       </td><td> 8      </td></tr>\n",
       "\t<tr><td>iPhone  </td><td>Walk    </td><td>0       </td><td>3       </td><td>4       </td><td>3.987500</td><td>5       </td><td>10      </td></tr>\n",
       "</tbody>\n",
       "</table>\n"
      ],
      "text/latex": [
       "\\begin{tabular}{r|llllllll}\n",
       " Keyboard & Posture & Min. & 1st Qu. & Median & Mean & 3rd Qu. & Max.\\\\\n",
       "\\hline\n",
       "\t Galaxy   & Sit      & 0        & 1        & 2        & 1.941667 & 3        &  6      \\\\\n",
       "\t Galaxy   & Stand    & 0        & 2        & 3        & 3.066667 & 4        &  9      \\\\\n",
       "\t Galaxy   & Walk     & 1        & 5        & 6        & 6.320833 & 8        & 15      \\\\\n",
       "\t iPhone   & Sit      & 0        & 1        & 2        & 1.987500 & 3        &  7      \\\\\n",
       "\t iPhone   & Stand    & 0        & 2        & 3        & 2.983333 & 4        &  8      \\\\\n",
       "\t iPhone   & Walk     & 0        & 3        & 4        & 3.987500 & 5        & 10      \\\\\n",
       "\\end{tabular}\n"
      ],
      "text/markdown": [
       "\n",
       "Keyboard | Posture | Min. | 1st Qu. | Median | Mean | 3rd Qu. | Max. | \n",
       "|---|---|---|---|---|---|\n",
       "| Galaxy   | Sit      | 0        | 1        | 2        | 1.941667 | 3        |  6       | \n",
       "| Galaxy   | Stand    | 0        | 2        | 3        | 3.066667 | 4        |  9       | \n",
       "| Galaxy   | Walk     | 1        | 5        | 6        | 6.320833 | 8        | 15       | \n",
       "| iPhone   | Sit      | 0        | 1        | 2        | 1.987500 | 3        |  7       | \n",
       "| iPhone   | Stand    | 0        | 2        | 3        | 2.983333 | 4        |  8       | \n",
       "| iPhone   | Walk     | 0        | 3        | 4        | 3.987500 | 5        | 10       | \n",
       "\n",
       "\n"
      ],
      "text/plain": [
       "  Keyboard Posture Min. 1st Qu. Median Mean     3rd Qu. Max.\n",
       "1 Galaxy   Sit     0    1       2      1.941667 3        6  \n",
       "2 Galaxy   Stand   0    2       3      3.066667 4        9  \n",
       "3 Galaxy   Walk    1    5       6      6.320833 8       15  \n",
       "4 iPhone   Sit     0    1       2      1.987500 3        7  \n",
       "5 iPhone   Stand   0    2       3      2.983333 4        8  \n",
       "6 iPhone   Walk    0    3       4      3.987500 5       10  "
      ]
     },
     "metadata": {},
     "output_type": "display_data"
    }
   ],
   "source": [
    "ddply(mbltxttrials, ~ Keyboard * Posture, function(data) summary(data$Errors))"
   ]
  },
  {
   "cell_type": "code",
   "execution_count": 226,
   "metadata": {},
   "outputs": [
    {
     "data": {
      "text/html": [
       "<table>\n",
       "<thead><tr><th scope=col>Keyboard</th><th scope=col>Posture</th><th scope=col>Errors.mean</th><th scope=col>Errors.sd</th></tr></thead>\n",
       "<tbody>\n",
       "\t<tr><td>Galaxy  </td><td>Sit     </td><td>1.941667</td><td>1.401110</td></tr>\n",
       "\t<tr><td>Galaxy  </td><td>Stand   </td><td>3.066667</td><td>1.710090</td></tr>\n",
       "\t<tr><td>Galaxy  </td><td>Walk    </td><td>6.320833</td><td>2.561622</td></tr>\n",
       "\t<tr><td>iPhone  </td><td>Sit     </td><td>1.987500</td><td>1.345942</td></tr>\n",
       "\t<tr><td>iPhone  </td><td>Stand   </td><td>2.983333</td><td>1.694112</td></tr>\n",
       "\t<tr><td>iPhone  </td><td>Walk    </td><td>3.987500</td><td>1.990524</td></tr>\n",
       "</tbody>\n",
       "</table>\n"
      ],
      "text/latex": [
       "\\begin{tabular}{r|llll}\n",
       " Keyboard & Posture & Errors.mean & Errors.sd\\\\\n",
       "\\hline\n",
       "\t Galaxy   & Sit      & 1.941667 & 1.401110\\\\\n",
       "\t Galaxy   & Stand    & 3.066667 & 1.710090\\\\\n",
       "\t Galaxy   & Walk     & 6.320833 & 2.561622\\\\\n",
       "\t iPhone   & Sit      & 1.987500 & 1.345942\\\\\n",
       "\t iPhone   & Stand    & 2.983333 & 1.694112\\\\\n",
       "\t iPhone   & Walk     & 3.987500 & 1.990524\\\\\n",
       "\\end{tabular}\n"
      ],
      "text/markdown": [
       "\n",
       "Keyboard | Posture | Errors.mean | Errors.sd | \n",
       "|---|---|---|---|---|---|\n",
       "| Galaxy   | Sit      | 1.941667 | 1.401110 | \n",
       "| Galaxy   | Stand    | 3.066667 | 1.710090 | \n",
       "| Galaxy   | Walk     | 6.320833 | 2.561622 | \n",
       "| iPhone   | Sit      | 1.987500 | 1.345942 | \n",
       "| iPhone   | Stand    | 2.983333 | 1.694112 | \n",
       "| iPhone   | Walk     | 3.987500 | 1.990524 | \n",
       "\n",
       "\n"
      ],
      "text/plain": [
       "  Keyboard Posture Errors.mean Errors.sd\n",
       "1 Galaxy   Sit     1.941667    1.401110 \n",
       "2 Galaxy   Stand   3.066667    1.710090 \n",
       "3 Galaxy   Walk    6.320833    2.561622 \n",
       "4 iPhone   Sit     1.987500    1.345942 \n",
       "5 iPhone   Stand   2.983333    1.694112 \n",
       "6 iPhone   Walk    3.987500    1.990524 "
      ]
     },
     "metadata": {},
     "output_type": "display_data"
    }
   ],
   "source": [
    "ddply(mbltxttrials, ~ Keyboard * Posture, summarise, Errors.mean = mean(Errors), \n",
    "         Errors.sd = sd(Errors))"
   ]
  },
  {
   "cell_type": "code",
   "execution_count": 227,
   "metadata": {
    "scrolled": false
   },
   "outputs": [
    {
     "data": {
      "image/png": "[encoded data removed]",
      "text/plain": [
       "Plot with title \"Histogram of mbltxttrials[mbltxttrials$Keyboard == \"iPhone\" & mbltxttrials$Posture == \"Sit\", ]$Errors\""
      ]
     },
     "metadata": {},
     "output_type": "display_data"
    },
    {
     "data": {
      "image/png": "[encoded data removed]",
      "text/plain": [
       "Plot with title \"Histogram of mbltxttrials[mbltxttrials$Keyboard == \"iPhone\" & mbltxttrials$Posture == \"Stand\", ]$Errors\""
      ]
     },
     "metadata": {},
     "output_type": "display_data"
    },
    {
     "data": {
      "image/png": "[encoded data removed]",
      "text/plain": [
       "Plot with title \"Histogram of mbltxttrials[mbltxttrials$Keyboard == \"iPhone\" & mbltxttrials$Posture == \"Walk\", ]$Errors\""
      ]
     },
     "metadata": {},
     "output_type": "display_data"
    },
    {
     "data": {
      "image/png": "[encoded data removed]",
      "text/plain": [
       "Plot with title \"Histogram of mbltxttrials[mbltxttrials$Keyboard == \"Galaxy\" & mbltxttrials$Posture == \"Sit\", ]$Errors\""
      ]
     },
     "metadata": {},
     "output_type": "display_data"
    },
    {
     "data": {
      "image/png": "[encoded data removed]",
      "text/plain": [
       "Plot with title \"Histogram of mbltxttrials[mbltxttrials$Keyboard == \"Galaxy\" & mbltxttrials$Posture == \"Stand\", ]$Errors\""
      ]
     },
     "metadata": {},
     "output_type": "display_data"
    },
    {
     "data": {
      "image/png": "[encoded data removed]",
      "text/plain": [
       "Plot with title \"Histogram of mbltxttrials[mbltxttrials$Keyboard == \"Galaxy\" & mbltxttrials$Posture == \"Walk\", ]$Errors\""
      ]
     },
     "metadata": {},
     "output_type": "display_data"
    }
   ],
   "source": [
    "# histograms for two factors\n",
    "hist(mbltxttrials[mbltxttrials$Keyboard == \"iPhone\" & mbltxttrials$Posture == \"Sit\",]$Errors)\n",
    "hist(mbltxttrials[mbltxttrials$Keyboard == \"iPhone\" & mbltxttrials$Posture == \"Stand\",]$Errors)\n",
    "hist(mbltxttrials[mbltxttrials$Keyboard == \"iPhone\" & mbltxttrials$Posture == \"Walk\",]$Errors)\n",
    "hist(mbltxttrials[mbltxttrials$Keyboard == \"Galaxy\" & mbltxttrials$Posture == \"Sit\",]$Errors)\n",
    "hist(mbltxttrials[mbltxttrials$Keyboard == \"Galaxy\" & mbltxttrials$Posture == \"Stand\",]$Errors)\n",
    "hist(mbltxttrials[mbltxttrials$Keyboard == \"Galaxy\" & mbltxttrials$Posture == \"Walk\",]$Errors)"
   ]
  },
  {
   "cell_type": "code",
   "execution_count": 228,
   "metadata": {},
   "outputs": [
    {
     "data": {
      "image/png": "[encoded data removed]",
      "text/plain": [
       "plot without title"
      ]
     },
     "metadata": {},
     "output_type": "display_data"
    }
   ],
   "source": [
    "boxplot(Errors ~ Keyboard * Posture, data=mbltxttrials, xlab=\"Keyboard.Posture\", ylab=\"Errors\") # boxplots"
   ]
  },
  {
   "cell_type": "code",
   "execution_count": 229,
   "metadata": {},
   "outputs": [
    {
     "data": {
      "image/png": "[encoded data removed]",
      "text/plain": [
       "plot without title"
      ]
     },
     "metadata": {},
     "output_type": "display_data"
    }
   ],
   "source": [
    "with(mbltxttrials, interaction.plot(Posture, Keyboard, Errors, ylim=c(0, max(mbltxttrials$Errors)))) # interaction?"
   ]
  },
  {
   "cell_type": "markdown",
   "metadata": {},
   "source": [
    "Let's verify that the new erros we've got here are poisson distributed. Because we do have the data for every single trial, not just summarizing over 20 trials at a time. So we will fit them. I'll remind you that these tests are just guidelines. We have a lot of data here and so, it should be easy actually to be different significantly from an ideal poisson distribution so if we're not, that would give us a fairly good confidence that we are in fact poisson distributed. "
   ]
  },
  {
   "cell_type": "code",
   "execution_count": 230,
   "metadata": {},
   "outputs": [
    {
     "data": {
      "text/plain": [
       "Chi-squared statistic:  7.272216 \n",
       "Degree of freedom of the Chi-squared distribution:  4 \n",
       "Chi-squared p-value:  0.1221833 \n",
       "Chi-squared table:\n",
       "     obscounts theocounts\n",
       "<= 0  36.00000   32.88902\n",
       "<= 1  50.00000   65.36693\n",
       "<= 2  78.00000   64.95839\n",
       "<= 3  46.00000   43.03493\n",
       "<= 4  20.00000   21.38298\n",
       "> 4   10.00000   12.36775\n",
       "\n",
       "Goodness-of-fit criteria\n",
       "                               1-mle-pois\n",
       "Akaike's Information Criterion   807.6225\n",
       "Bayesian Information Criterion   811.1031"
      ]
     },
     "metadata": {},
     "output_type": "display_data"
    }
   ],
   "source": [
    "# see if the new errors data seem to be poisson distributed. \n",
    "\n",
    "library(\"fitdistrplus\")\n",
    "\n",
    "fit <- fitdist(mbltxttrials[mbltxttrials$Keyboard == \"iPhone\" & mbltxttrials$Posture == \"Sit\",]$Errors, \"pois\", discrete=TRUE)\n",
    "gofstat(fit) # goodness-of-fit test"
   ]
  },
  {
   "cell_type": "code",
   "execution_count": 231,
   "metadata": {},
   "outputs": [
    {
     "data": {
      "text/plain": [
       "Chi-squared statistic:  7.743491 \n",
       "Degree of freedom of the Chi-squared distribution:  4 \n",
       "Chi-squared p-value:  0.1014395 \n",
       "Chi-squared table:\n",
       "     obscounts theocounts\n",
       "<= 1  54.00000   48.39636\n",
       "<= 2  46.00000   54.06791\n",
       "<= 3  49.00000   53.76754\n",
       "<= 4  42.00000   40.10162\n",
       "<= 5  34.00000   23.92730\n",
       "> 5   15.00000   19.73927\n",
       "\n",
       "Goodness-of-fit criteria\n",
       "                               1-mle-pois\n",
       "Akaike's Information Criterion   925.5202\n",
       "Bayesian Information Criterion   929.0008"
      ]
     },
     "metadata": {},
     "output_type": "display_data"
    }
   ],
   "source": [
    "fit <- fitdist(mbltxttrials[mbltxttrials$Keyboard == \"iPhone\" & mbltxttrials$Posture == \"Stand\",]$Errors, \"pois\", discrete=TRUE)\n",
    "gofstat(fit) # goodness-of-fit test"
   ]
  },
  {
   "cell_type": "code",
   "execution_count": 232,
   "metadata": {},
   "outputs": [
    {
     "data": {
      "text/plain": [
       "Chi-squared statistic:  4.910812 \n",
       "Degree of freedom of the Chi-squared distribution:  5 \n",
       "Chi-squared p-value:  0.4268616 \n",
       "Chi-squared table:\n",
       "     obscounts theocounts\n",
       "<= 1  27.00000   22.19959\n",
       "<= 2  29.00000   35.38616\n",
       "<= 3  43.00000   47.03410\n",
       "<= 4  49.00000   46.88712\n",
       "<= 5  39.00000   37.39248\n",
       "<= 6  31.00000   24.85042\n",
       "> 6   22.00000   26.25015\n",
       "\n",
       "Goodness-of-fit criteria\n",
       "                               1-mle-pois\n",
       "Akaike's Information Criterion   1007.531\n",
       "Bayesian Information Criterion   1011.012"
      ]
     },
     "metadata": {},
     "output_type": "display_data"
    }
   ],
   "source": [
    "fit <- fitdist(mbltxttrials[mbltxttrials$Keyboard == \"iPhone\" & mbltxttrials$Posture == \"Walk\",]$Errors, \"pois\", discrete=TRUE)\n",
    "gofstat(fit) # goodness-of-fit test"
   ]
  },
  {
   "cell_type": "code",
   "execution_count": 233,
   "metadata": {},
   "outputs": [
    {
     "data": {
      "text/plain": [
       "Chi-squared statistic:  1.736072 \n",
       "Degree of freedom of the Chi-squared distribution:  4 \n",
       "Chi-squared p-value:  0.7841551 \n",
       "Chi-squared table:\n",
       "     obscounts theocounts\n",
       "<= 0  34.00000   34.43151\n",
       "<= 1  72.00000   66.85452\n",
       "<= 2  57.00000   64.90460\n",
       "<= 3  43.00000   42.00770\n",
       "<= 4  23.00000   20.39124\n",
       "> 4   11.00000   11.41043\n",
       "\n",
       "Goodness-of-fit criteria\n",
       "                               1-mle-pois\n",
       "Akaike's Information Criterion   814.5339\n",
       "Bayesian Information Criterion   818.0146"
      ]
     },
     "metadata": {},
     "output_type": "display_data"
    }
   ],
   "source": [
    "fit <- fitdist(mbltxttrials[mbltxttrials$Keyboard == \"Galaxy\" & mbltxttrials$Posture == \"Sit\",]$Errors, \"pois\", discrete=TRUE)\n",
    "gofstat(fit) # goodness-of-fit test"
   ]
  },
  {
   "cell_type": "code",
   "execution_count": 234,
   "metadata": {},
   "outputs": [
    {
     "data": {
      "text/plain": [
       "Chi-squared statistic:  2.92475 \n",
       "Degree of freedom of the Chi-squared distribution:  4 \n",
       "Chi-squared p-value:  0.5704962 \n",
       "Chi-squared table:\n",
       "     obscounts theocounts\n",
       "<= 1  43.00000   45.45832\n",
       "<= 2  54.00000   52.56274\n",
       "<= 3  59.00000   53.73080\n",
       "<= 4  43.00000   41.19361\n",
       "<= 5  18.00000   25.26542\n",
       "> 5   23.00000   21.78911\n",
       "\n",
       "Goodness-of-fit criteria\n",
       "                               1-mle-pois\n",
       "Akaike's Information Criterion   919.0333\n",
       "Bayesian Information Criterion   922.5140"
      ]
     },
     "metadata": {},
     "output_type": "display_data"
    }
   ],
   "source": [
    "fit <- fitdist(mbltxttrials[mbltxttrials$Keyboard == \"Galaxy\" & mbltxttrials$Posture == \"Stand\",]$Errors, \"pois\", discrete=TRUE)\n",
    "gofstat(fit) # goodness-of-fit test"
   ]
  },
  {
   "cell_type": "code",
   "execution_count": 235,
   "metadata": {},
   "outputs": [
    {
     "data": {
      "text/plain": [
       "Chi-squared statistic:  13.62705 \n",
       "Degree of freedom of the Chi-squared distribution:  7 \n",
       "Chi-squared p-value:  0.05822638 \n",
       "Chi-squared table:\n",
       "      obscounts theocounts\n",
       "<= 3  36.000000  29.949105\n",
       "<= 4  23.000000  28.707430\n",
       "<= 5  30.000000  36.290976\n",
       "<= 6  49.000000  38.231536\n",
       "<= 7  24.000000  34.522166\n",
       "<= 8  37.000000  27.276108\n",
       "<= 9  17.000000  19.156415\n",
       "<= 11 17.000000  19.066223\n",
       "> 11   7.000000   6.800042\n",
       "\n",
       "Goodness-of-fit criteria\n",
       "                               1-mle-pois\n",
       "Akaike's Information Criterion   1124.664\n",
       "Bayesian Information Criterion   1128.145"
      ]
     },
     "metadata": {},
     "output_type": "display_data"
    }
   ],
   "source": [
    "fit <-fitdist(mbltxttrials[mbltxttrials$Keyboard == \"Galaxy\" & mbltxttrials$Posture == \"Walk\",]$Errors, \"pois\", discrete=TRUE)\n",
    "gofstat(fit) # goodness-of-fit test"
   ]
  },
  {
   "cell_type": "markdown",
   "metadata": {},
   "source": [
    "This last one is close with a p-value of 0.058. If we look at that histogram again, it looks quasi-normal. So that's perhaps why we have a closer to significance result. Let's now proceed with some confience that poisson regression with a generalized linear mixed model makes sense. "
   ]
  },
  {
   "cell_type": "code",
   "execution_count": 236,
   "metadata": {
    "collapsed": true
   },
   "outputs": [],
   "source": [
    "# libraries for GLMMs with Poisson regression we'll use on Errors\n",
    "library(\"lme4\") # for glmer\n",
    "library(\"car\") # for Anova"
   ]
  },
  {
   "cell_type": "code",
   "execution_count": 237,
   "metadata": {
    "collapsed": true
   },
   "outputs": [],
   "source": [
    "# set sum-to-zero contrasts for the Anova call\n",
    "contrasts(mbltxttrials$Keyboard) <- \"contr.sum\"\n",
    "contrasts(mbltxttrials$Posture) <- \"contr.sum\"\n",
    "contrasts(mbltxttrials$Trial) <- \"contr.sum\""
   ]
  },
  {
   "cell_type": "code",
   "execution_count": 238,
   "metadata": {},
   "outputs": [
    {
     "data": {
      "text/html": [
       "<table>\n",
       "<thead><tr><th></th><th scope=col>Chisq</th><th scope=col>Df</th><th scope=col>Pr(&gt;Chisq)</th></tr></thead>\n",
       "<tbody>\n",
       "\t<tr><th scope=row>(Intercept)</th><td>4909.57939   </td><td>  1          </td><td> 0.000000e+00</td></tr>\n",
       "\t<tr><th scope=row>Keyboard</th><td>  21.67648   </td><td>  1          </td><td> 3.227238e-06</td></tr>\n",
       "\t<tr><th scope=row>Posture</th><td> 651.19140   </td><td>  2          </td><td>3.940790e-142</td></tr>\n",
       "\t<tr><th scope=row>Keyboard:Posture</th><td>  61.61287   </td><td>  2          </td><td> 4.177674e-14</td></tr>\n",
       "\t<tr><th scope=row>Keyboard:Posture:Trial</th><td> 129.94583   </td><td>114          </td><td> 1.459091e-01</td></tr>\n",
       "</tbody>\n",
       "</table>\n"
      ],
      "text/latex": [
       "\\begin{tabular}{r|lll}\n",
       "  & Chisq & Df & Pr(>Chisq)\\\\\n",
       "\\hline\n",
       "\t(Intercept) & 4909.57939    &   1           &  0.000000e+00\\\\\n",
       "\tKeyboard &   21.67648    &   1           &  3.227238e-06\\\\\n",
       "\tPosture &  651.19140    &   2           & 3.940790e-142\\\\\n",
       "\tKeyboard:Posture &   61.61287    &   2           &  4.177674e-14\\\\\n",
       "\tKeyboard:Posture:Trial &  129.94583    & 114           &  1.459091e-01\\\\\n",
       "\\end{tabular}\n"
      ],
      "text/markdown": [
       "\n",
       "| <!--/--> | Chisq | Df | Pr(>Chisq) | \n",
       "|---|---|---|---|---|\n",
       "| (Intercept) | 4909.57939    |   1           |  0.000000e+00 | \n",
       "| Keyboard |   21.67648    |   1           |  3.227238e-06 | \n",
       "| Posture |  651.19140    |   2           | 3.940790e-142 | \n",
       "| Keyboard:Posture |   61.61287    |   2           |  4.177674e-14 | \n",
       "| Keyboard:Posture:Trial |  129.94583    | 114           |  1.459091e-01 | \n",
       "\n",
       "\n"
      ],
      "text/plain": [
       "                       Chisq      Df  Pr(>Chisq)   \n",
       "(Intercept)            4909.57939   1  0.000000e+00\n",
       "Keyboard                 21.67648   1  3.227238e-06\n",
       "Posture                 651.19140   2 3.940790e-142\n",
       "Keyboard:Posture         61.61287   2  4.177674e-14\n",
       "Keyboard:Posture:Trial  129.94583 114  1.459091e-01"
      ]
     },
     "metadata": {},
     "output_type": "display_data"
    }
   ],
   "source": [
    "# main GLMM test on Errors\n",
    "# Keyboard, Posture, Keyboard:Posture and Trial are\n",
    "# all fixed effects. Trial is nested within \n",
    "# Keyboard, Posture. Subject is a random effect.\n",
    "m <- glmer(Errors ~ (Keyboard * Posture)/Trial + (1|Subject), data=mbltxttrials, family=poisson, nAGQ=0)\n",
    "Anova(m, type=3)\n",
    "\n",
    "# note that in glmer, we set nAGQ to zero for speed.\n",
    "# the results were almost the same as for nAGQ = 1, \n",
    "# the default, which takes a few minutes to complete."
   ]
  },
  {
   "cell_type": "markdown",
   "metadata": {},
   "source": [
    "Note that the NAGQ parameter is set to 0 here. It is set to 1 as a default but we set it to 0 here to speed things up. The results here are quite similar so we'll be using that. \n",
    "\n",
    "We see that we have a significant main effect of keyboard, signficant main effect of posture, and we have a significant keyboard by posture interaction. All of which we woudl intuit from the graph. \n",
    "\n",
    "We don't care much about trial and it's not significant anyway. "
   ]
  },
  {
   "cell_type": "code",
   "execution_count": 239,
   "metadata": {},
   "outputs": [
    {
     "data": {
      "text/html": [
       "<table>\n",
       "<thead><tr><th></th><th scope=col>Chisq</th><th scope=col>Df</th><th scope=col>Pr(&gt;Chisq)</th></tr></thead>\n",
       "<tbody>\n",
       "\t<tr><th scope=row>(Intercept)</th><td>5022.55407   </td><td>1            </td><td> 0.000000e+00</td></tr>\n",
       "\t<tr><th scope=row>Keyboard</th><td>  23.53149   </td><td>1            </td><td> 1.228861e-06</td></tr>\n",
       "\t<tr><th scope=row>Posture</th><td> 610.97205   </td><td>2            </td><td>2.133558e-133</td></tr>\n",
       "\t<tr><th scope=row>Keyboard:Posture</th><td>  57.16402   </td><td>2            </td><td> 3.863582e-13</td></tr>\n",
       "</tbody>\n",
       "</table>\n"
      ],
      "text/latex": [
       "\\begin{tabular}{r|lll}\n",
       "  & Chisq & Df & Pr(>Chisq)\\\\\n",
       "\\hline\n",
       "\t(Intercept) & 5022.55407    & 1             &  0.000000e+00\\\\\n",
       "\tKeyboard &   23.53149    & 1             &  1.228861e-06\\\\\n",
       "\tPosture &  610.97205    & 2             & 2.133558e-133\\\\\n",
       "\tKeyboard:Posture &   57.16402    & 2             &  3.863582e-13\\\\\n",
       "\\end{tabular}\n"
      ],
      "text/markdown": [
       "\n",
       "| <!--/--> | Chisq | Df | Pr(>Chisq) | \n",
       "|---|---|---|---|\n",
       "| (Intercept) | 5022.55407    | 1             |  0.000000e+00 | \n",
       "| Keyboard |   23.53149    | 1             |  1.228861e-06 | \n",
       "| Posture |  610.97205    | 2             | 2.133558e-133 | \n",
       "| Keyboard:Posture |   57.16402    | 2             |  3.863582e-13 | \n",
       "\n",
       "\n"
      ],
      "text/plain": [
       "                 Chisq      Df Pr(>Chisq)   \n",
       "(Intercept)      5022.55407 1   0.000000e+00\n",
       "Keyboard           23.53149 1   1.228861e-06\n",
       "Posture           610.97205 2  2.133558e-133\n",
       "Keyboard:Posture   57.16402 2   3.863582e-13"
      ]
     },
     "metadata": {},
     "output_type": "display_data"
    }
   ],
   "source": [
    "#m = glmer(Errors ~ (Keyboard * Posture)/(1|Trial) + (1|Subject), data=mbltxttrials, family=poisson, nAGQ=0) # old, incorrect syntax\n",
    "m <- glmer(Errors ~ (Keyboard * Posture) + (1|Keyboard:Posture:Trial) + (1|Subject), data=mbltxttrials, family=poisson, nAGQ=0) # new, correct syntax\n",
    "Anova(m, type=3)"
   ]
  },
  {
   "cell_type": "code",
   "execution_count": 240,
   "metadata": {},
   "outputs": [
    {
     "data": {
      "image/png": "[encoded data removed]",
      "text/plain": [
       "plot without title"
      ]
     },
     "metadata": {},
     "output_type": "display_data"
    }
   ],
   "source": [
    "# perform post hoc pairwise comparisons\n",
    "with(mbltxttrials, interaction.plot(Posture, Keyboard, Errors, ylim=c(0, max(mbltxttrials$Errors)))) # for convenience"
   ]
  },
  {
   "cell_type": "markdown",
   "metadata": {},
   "source": [
    "\n",
    "So we can then be justified into moving into posthoc pairwise comparisons. "
   ]
  },
  {
   "cell_type": "code",
   "execution_count": 241,
   "metadata": {},
   "outputs": [
    {
     "data": {
      "text/plain": [
       "\n",
       "\t Simultaneous Tests for General Linear Hypotheses\n",
       "\n",
       "Fit: glmer(formula = Errors ~ (Keyboard * Posture) + (1 | Keyboard:Posture:Trial) + \n",
       "    (1 | Subject), data = mbltxttrials, family = poisson, nAGQ = 0)\n",
       "\n",
       "Linear Hypotheses:\n",
       "                                 Estimate Std. Error z value Pr(>|z|)    \n",
       "Galaxy,Sit - iPhone,Sit == 0     -0.02334    0.06634  -0.352        1    \n",
       "Galaxy,Sit - Galaxy,Stand == 0   -0.45701    0.06053  -7.550 3.48e-13 ***\n",
       "Galaxy,Sit - iPhone,Stand == 0   -0.42949    0.06085  -7.059 1.01e-11 ***\n",
       "Galaxy,Sit - Galaxy,Walk == 0    -1.18026    0.05445 -21.676  < 2e-16 ***\n",
       "Galaxy,Sit - iPhone,Walk == 0    -0.71962    0.05788 -12.432  < 2e-16 ***\n",
       "iPhone,Sit - Galaxy,Stand == 0   -0.43367    0.06012  -7.213 3.83e-12 ***\n",
       "iPhone,Sit - iPhone,Stand == 0   -0.40616    0.06044  -6.720 9.09e-11 ***\n",
       "iPhone,Sit - Galaxy,Walk == 0    -1.15692    0.05400 -21.426  < 2e-16 ***\n",
       "iPhone,Sit - iPhone,Walk == 0    -0.69628    0.05746 -12.118  < 2e-16 ***\n",
       "Galaxy,Stand - iPhone,Stand == 0  0.02751    0.05399   0.510        1    \n",
       "Galaxy,Stand - Galaxy,Walk == 0  -0.72325    0.04667 -15.497  < 2e-16 ***\n",
       "Galaxy,Stand - iPhone,Walk == 0  -0.26261    0.05063  -5.186 6.43e-07 ***\n",
       "iPhone,Stand - Galaxy,Walk == 0  -0.75076    0.04708 -15.948  < 2e-16 ***\n",
       "iPhone,Stand - iPhone,Walk == 0  -0.29012    0.05101  -5.688 5.15e-08 ***\n",
       "Galaxy,Walk - iPhone,Walk == 0    0.46064    0.04318  10.668  < 2e-16 ***\n",
       "---\n",
       "Signif. codes:  0 '***' 0.001 '**' 0.01 '*' 0.05 '.' 0.1 ' ' 1\n",
       "(Adjusted p values reported -- holm method)\n"
      ]
     },
     "metadata": {},
     "output_type": "display_data"
    }
   ],
   "source": [
    "library(\"multcomp\") # for glht\n",
    "library(\"lsmeans\") # for lsm\n",
    "summary(glht(m, lsm(pairwise ~ Keyboard * Posture)), test=adjusted(type=\"holm\"))\n"
   ]
  },
  {
   "cell_type": "markdown",
   "metadata": {},
   "source": [
    "We can see that as the main ones we'd be interested in are how the keyboards compare in the different postures. We can see that there's no real difference in the sitting posture between the keyboard. In the standing posture, there's no real diffference eithere. In the walking posture, that is statistically significant. \n",
    "\n",
    "And we also adjusted these with the multiple corrections adjustment called the holms sequential bonferroni procedure so we can feel a bit better about have run so many pairwise comparisons. \n",
    "\n",
    "So that's our generalized lienar mixed model allowing us to do poisson regression on within subjects and between subjects mixed design with keyboard and posture. We nested trial and we use subject as a random effect. \n",
    "\n",
    "We used linear mixed models to analyze words per minute. We had a between subjects factor of keyboard and a within subjects factor of posture so we had a repeated measures anova situation but rather than doing a regular fixed effects models, we did a linear mixed effects model which allowed us to model our fixed effects, which are our factors of interest, keyboard and posture and our random effect of subject which allows us to handle within subjects design. \n",
    "\n",
    "We also did a generalized linear mixed model which allowed us to model response distributions that were different from normal (in this case - poisson distributed response). "
   ]
  },
  {
   "cell_type": "markdown",
   "metadata": {
    "collapsed": true
   },
   "source": [
    "# Quiz"
   ]
  },
  {
   "cell_type": "markdown",
   "metadata": {},
   "source": [
    "Recall our file websearch3.csv. If you have not done so already, please download it from the course materials. This file describes a study of the number of searches people did with various search engines to successfully find 100 facts on the web. You originally analyzed this data with a one-way repeated measures ANOVA. Now you will use a linear mixed model (LMM). Let's refresh our memory: How many subjects took part in this study?"
   ]
  },
  {
   "cell_type": "code",
   "execution_count": 242,
   "metadata": {},
   "outputs": [
    {
     "data": {
      "text/html": [
       "<table>\n",
       "<thead><tr><th scope=col>Subject</th><th scope=col>Engine</th><th scope=col>Order</th><th scope=col>Searches</th><th scope=col>Effort</th></tr></thead>\n",
       "<tbody>\n",
       "\t<tr><td>1     </td><td>Google</td><td>1     </td><td>192   </td><td>3     </td></tr>\n",
       "\t<tr><td>1     </td><td>Bing  </td><td>2     </td><td>158   </td><td>5     </td></tr>\n",
       "\t<tr><td>1     </td><td>Yahoo </td><td>3     </td><td> 92   </td><td>4     </td></tr>\n",
       "\t<tr><td>2     </td><td>Google</td><td>1     </td><td> 93   </td><td>1     </td></tr>\n",
       "\t<tr><td>2     </td><td>Bing  </td><td>3     </td><td>151   </td><td>2     </td></tr>\n",
       "\t<tr><td>2     </td><td>Yahoo </td><td>2     </td><td>144   </td><td>7     </td></tr>\n",
       "\t<tr><td>3     </td><td>Google</td><td>2     </td><td>132   </td><td>4     </td></tr>\n",
       "\t<tr><td>3     </td><td>Bing  </td><td>1     </td><td>193   </td><td>2     </td></tr>\n",
       "\t<tr><td>3     </td><td>Yahoo </td><td>3     </td><td>119   </td><td>3     </td></tr>\n",
       "\t<tr><td>4     </td><td>Google</td><td>2     </td><td>141   </td><td>3     </td></tr>\n",
       "</tbody>\n",
       "</table>\n"
      ],
      "text/latex": [
       "\\begin{tabular}{r|lllll}\n",
       " Subject & Engine & Order & Searches & Effort\\\\\n",
       "\\hline\n",
       "\t 1      & Google & 1      & 192    & 3     \\\\\n",
       "\t 1      & Bing   & 2      & 158    & 5     \\\\\n",
       "\t 1      & Yahoo  & 3      &  92    & 4     \\\\\n",
       "\t 2      & Google & 1      &  93    & 1     \\\\\n",
       "\t 2      & Bing   & 3      & 151    & 2     \\\\\n",
       "\t 2      & Yahoo  & 2      & 144    & 7     \\\\\n",
       "\t 3      & Google & 2      & 132    & 4     \\\\\n",
       "\t 3      & Bing   & 1      & 193    & 2     \\\\\n",
       "\t 3      & Yahoo  & 3      & 119    & 3     \\\\\n",
       "\t 4      & Google & 2      & 141    & 3     \\\\\n",
       "\\end{tabular}\n"
      ],
      "text/markdown": [
       "\n",
       "Subject | Engine | Order | Searches | Effort | \n",
       "|---|---|---|---|---|---|---|---|---|---|\n",
       "| 1      | Google | 1      | 192    | 3      | \n",
       "| 1      | Bing   | 2      | 158    | 5      | \n",
       "| 1      | Yahoo  | 3      |  92    | 4      | \n",
       "| 2      | Google | 1      |  93    | 1      | \n",
       "| 2      | Bing   | 3      | 151    | 2      | \n",
       "| 2      | Yahoo  | 2      | 144    | 7      | \n",
       "| 3      | Google | 2      | 132    | 4      | \n",
       "| 3      | Bing   | 1      | 193    | 2      | \n",
       "| 3      | Yahoo  | 3      | 119    | 3      | \n",
       "| 4      | Google | 2      | 141    | 3      | \n",
       "\n",
       "\n"
      ],
      "text/plain": [
       "   Subject Engine Order Searches Effort\n",
       "1  1       Google 1     192      3     \n",
       "2  1       Bing   2     158      5     \n",
       "3  1       Yahoo  3      92      4     \n",
       "4  2       Google 1      93      1     \n",
       "5  2       Bing   3     151      2     \n",
       "6  2       Yahoo  2     144      7     \n",
       "7  3       Google 2     132      4     \n",
       "8  3       Bing   1     193      2     \n",
       "9  3       Yahoo  3     119      3     \n",
       "10 4       Google 2     141      3     "
      ]
     },
     "metadata": {},
     "output_type": "display_data"
    }
   ],
   "source": [
    "df <- read.csv(\"materials/websearch3.csv\")\n",
    "head(df, 10)"
   ]
  },
  {
   "cell_type": "code",
   "execution_count": 243,
   "metadata": {},
   "outputs": [
    {
     "data": {
      "text/html": [
       "<table>\n",
       "<thead><tr><th></th><th scope=col>Subject</th><th scope=col>Engine</th><th scope=col>Order</th><th scope=col>Searches</th><th scope=col>Effort</th></tr></thead>\n",
       "<tbody>\n",
       "\t<tr><th scope=row>85</th><td>29    </td><td>Google</td><td>3     </td><td>157   </td><td>5     </td></tr>\n",
       "\t<tr><th scope=row>86</th><td>29    </td><td>Bing  </td><td>1     </td><td>195   </td><td>4     </td></tr>\n",
       "\t<tr><th scope=row>87</th><td>29    </td><td>Yahoo </td><td>2     </td><td>182   </td><td>5     </td></tr>\n",
       "\t<tr><th scope=row>88</th><td>30    </td><td>Google</td><td>3     </td><td>152   </td><td>1     </td></tr>\n",
       "\t<tr><th scope=row>89</th><td>30    </td><td>Bing  </td><td>2     </td><td>188   </td><td>7     </td></tr>\n",
       "\t<tr><th scope=row>90</th><td>30    </td><td>Yahoo </td><td>1     </td><td>131   </td><td>3     </td></tr>\n",
       "</tbody>\n",
       "</table>\n"
      ],
      "text/latex": [
       "\\begin{tabular}{r|lllll}\n",
       "  & Subject & Engine & Order & Searches & Effort\\\\\n",
       "\\hline\n",
       "\t85 & 29     & Google & 3      & 157    & 5     \\\\\n",
       "\t86 & 29     & Bing   & 1      & 195    & 4     \\\\\n",
       "\t87 & 29     & Yahoo  & 2      & 182    & 5     \\\\\n",
       "\t88 & 30     & Google & 3      & 152    & 1     \\\\\n",
       "\t89 & 30     & Bing   & 2      & 188    & 7     \\\\\n",
       "\t90 & 30     & Yahoo  & 1      & 131    & 3     \\\\\n",
       "\\end{tabular}\n"
      ],
      "text/markdown": [
       "\n",
       "| <!--/--> | Subject | Engine | Order | Searches | Effort | \n",
       "|---|---|---|---|---|---|\n",
       "| 85 | 29     | Google | 3      | 157    | 5      | \n",
       "| 86 | 29     | Bing   | 1      | 195    | 4      | \n",
       "| 87 | 29     | Yahoo  | 2      | 182    | 5      | \n",
       "| 88 | 30     | Google | 3      | 152    | 1      | \n",
       "| 89 | 30     | Bing   | 2      | 188    | 7      | \n",
       "| 90 | 30     | Yahoo  | 1      | 131    | 3      | \n",
       "\n",
       "\n"
      ],
      "text/plain": [
       "   Subject Engine Order Searches Effort\n",
       "85 29      Google 3     157      5     \n",
       "86 29      Bing   1     195      4     \n",
       "87 29      Yahoo  2     182      5     \n",
       "88 30      Google 3     152      1     \n",
       "89 30      Bing   2     188      7     \n",
       "90 30      Yahoo  1     131      3     "
      ]
     },
     "metadata": {},
     "output_type": "display_data"
    }
   ],
   "source": [
    "tail(df)"
   ]
  },
  {
   "cell_type": "markdown",
   "metadata": {},
   "source": [
    "To the nearest hundredth (two digits), how many searches on average did subjects require with the Google search engine?"
   ]
  },
  {
   "cell_type": "code",
   "execution_count": 244,
   "metadata": {},
   "outputs": [
    {
     "data": {
      "text/html": [
       "<table>\n",
       "<thead><tr><th scope=col>Engine</th><th scope=col>mean.searches</th></tr></thead>\n",
       "<tbody>\n",
       "\t<tr><td>Bing    </td><td>159.8333</td></tr>\n",
       "\t<tr><td>Google  </td><td>152.6667</td></tr>\n",
       "\t<tr><td>Yahoo   </td><td>172.4000</td></tr>\n",
       "</tbody>\n",
       "</table>\n"
      ],
      "text/latex": [
       "\\begin{tabular}{r|ll}\n",
       " Engine & mean.searches\\\\\n",
       "\\hline\n",
       "\t Bing     & 159.8333\\\\\n",
       "\t Google   & 152.6667\\\\\n",
       "\t Yahoo    & 172.4000\\\\\n",
       "\\end{tabular}\n"
      ],
      "text/markdown": [
       "\n",
       "Engine | mean.searches | \n",
       "|---|---|---|\n",
       "| Bing     | 159.8333 | \n",
       "| Google   | 152.6667 | \n",
       "| Yahoo    | 172.4000 | \n",
       "\n",
       "\n"
      ],
      "text/plain": [
       "  Engine mean.searches\n",
       "1 Bing   159.8333     \n",
       "2 Google 152.6667     \n",
       "3 Yahoo  172.4000     "
      ]
     },
     "metadata": {},
     "output_type": "display_data"
    }
   ],
   "source": [
    "df %>%\n",
    "    group_by(Engine) %>%\n",
    "    dplyr:::summarise(\n",
    "        mean.searches = mean(Searches)\n",
    "    )"
   ]
  },
  {
   "cell_type": "markdown",
   "metadata": {},
   "source": [
    "Conduct a linear mixed model (LMM) analysis of variance on Searches by Engine. To the nearest ten-thousandth (four digits), what is the p-value of such a test? Hint: Use the lme4 library and its lmer function with Subject as a random effect. Also load the lmerTest library. Then use the car library and its Anova function with type=3 and test.statistic=\"F\". Prior to either, set sum-to-zero contrasts for Engine."
   ]
  },
  {
   "cell_type": "code",
   "execution_count": 245,
   "metadata": {
    "collapsed": true
   },
   "outputs": [],
   "source": [
    "df$Subject <- as.factor(df$Subject)\n",
    "df$Order <- as.factor(df$Order)"
   ]
  },
  {
   "cell_type": "code",
   "execution_count": 246,
   "metadata": {},
   "outputs": [
    {
     "data": {
      "text/plain": [
       "    Subject      Engine   Order     Searches         Effort     \n",
       " 1      : 3   Bing  :30   1:30   Min.   : 92.0   Min.   :1.000  \n",
       " 2      : 3   Google:30   2:30   1st Qu.:139.0   1st Qu.:3.000  \n",
       " 3      : 3   Yahoo :30   3:30   Median :161.0   Median :4.000  \n",
       " 4      : 3                      Mean   :161.6   Mean   :4.256  \n",
       " 5      : 3                      3rd Qu.:181.8   3rd Qu.:6.000  \n",
       " 6      : 3                      Max.   :236.0   Max.   :7.000  \n",
       " (Other):72                                                     "
      ]
     },
     "metadata": {},
     "output_type": "display_data"
    }
   ],
   "source": [
    "summary(df)"
   ]
  },
  {
   "cell_type": "code",
   "execution_count": 247,
   "metadata": {},
   "outputs": [],
   "source": [
    "contrasts(df$Engine) <- \"contr.sum\""
   ]
  },
  {
   "cell_type": "code",
   "execution_count": 248,
   "metadata": {},
   "outputs": [
    {
     "data": {
      "text/html": [
       "<table>\n",
       "<thead><tr><th></th><th scope=col>F</th><th scope=col>Df</th><th scope=col>Df.res</th><th scope=col>Pr(&gt;F)</th></tr></thead>\n",
       "<tbody>\n",
       "\t<tr><th scope=row>(Intercept)</th><td>2374.808906 </td><td>1           </td><td>29          </td><td>2.244835e-29</td></tr>\n",
       "\t<tr><th scope=row>Engine</th><td>   3.023388 </td><td>2           </td><td>58          </td><td>5.636258e-02</td></tr>\n",
       "</tbody>\n",
       "</table>\n"
      ],
      "text/latex": [
       "\\begin{tabular}{r|llll}\n",
       "  & F & Df & Df.res & Pr(>F)\\\\\n",
       "\\hline\n",
       "\t(Intercept) & 2374.808906  & 1            & 29           & 2.244835e-29\\\\\n",
       "\tEngine &    3.023388  & 2            & 58           & 5.636258e-02\\\\\n",
       "\\end{tabular}\n"
      ],
      "text/markdown": [
       "\n",
       "| <!--/--> | F | Df | Df.res | Pr(>F) | \n",
       "|---|---|\n",
       "| (Intercept) | 2374.808906  | 1            | 29           | 2.244835e-29 | \n",
       "| Engine |    3.023388  | 2            | 58           | 5.636258e-02 | \n",
       "\n",
       "\n"
      ],
      "text/plain": [
       "            F           Df Df.res Pr(>F)      \n",
       "(Intercept) 2374.808906 1  29     2.244835e-29\n",
       "Engine         3.023388 2  58     5.636258e-02"
      ]
     },
     "metadata": {},
     "output_type": "display_data"
    }
   ],
   "source": [
    "m <- lmer(Searches ~ Engine + (1|Subject), data=df) \n",
    "Anova(m, type=3, test.statistic=\"F\")"
   ]
  },
  {
   "cell_type": "markdown",
   "metadata": {},
   "source": [
    "In light of your p-value result, are post hoc pairwise comparisons among levels of Engine justified, strictly speaking?\n",
    "- No as the p-value is slightly greater than 0.05. Therefore, we fail to reject the null hypothesis that there is no difference."
   ]
  },
  {
   "cell_type": "markdown",
   "metadata": {},
   "source": [
    "Regardless of your answer to the previous question, conduct simultaneous pairwise comparisons among all levels of Engine. Correct your p-values with Holm's sequential Bonferroni procedure. To the nearest ten-thousandth (four digits), what is the lowest corrected p-value resulting from such tests? Hint: Use the multcomp library and its mcp function within a call to its glht function.\n",
    "\n"
   ]
  },
  {
   "cell_type": "code",
   "execution_count": 249,
   "metadata": {},
   "outputs": [
    {
     "data": {
      "text/plain": [
       "\n",
       "\t Simultaneous Tests for General Linear Hypotheses\n",
       "\n",
       "Multiple Comparisons of Means: Tukey Contrasts\n",
       "\n",
       "\n",
       "Fit: lmer(formula = Searches ~ Engine + (1 | Subject), data = df)\n",
       "\n",
       "Linear Hypotheses:\n",
       "                    Estimate Std. Error z value Pr(>|z|)  \n",
       "Google - Bing == 0    -7.167      8.124  -0.882   0.3777  \n",
       "Yahoo - Bing == 0     12.567      8.124   1.547   0.2438  \n",
       "Yahoo - Google == 0   19.733      8.124   2.429   0.0454 *\n",
       "---\n",
       "Signif. codes:  0 '***' 0.001 '**' 0.01 '*' 0.05 '.' 0.1 ' ' 1\n",
       "(Adjusted p values reported -- holm method)\n"
      ]
     },
     "metadata": {},
     "output_type": "display_data"
    }
   ],
   "source": [
    "summary(glht(m, mcp(Engine=\"Tukey\")), test=adjusted(type=\"holm\"))"
   ]
  },
  {
   "cell_type": "markdown",
   "metadata": {},
   "source": [
    "Because the omnibus linear mixed model (LMM) analysis of variance did not result in a significant main effect of Engine on Searches, post hoc pairwise comparisons were not justified. As a result, despite one such comparison having p<.05, strictly speaking this \"finding\" must be disregarded. \n",
    "- True"
   ]
  },
  {
   "cell_type": "markdown",
   "metadata": {},
   "source": [
    "Recall our file socialvalue.csv. If you have not done so already, please download it from the course materials. This file describes a study of people viewing a positive or negative film clip before going onto social media and then judging the value of the first 100 posts they see there. The number of valued posts was recorded. You originally analyzed this data with a 2×2 within-subjects ANOVA. Now you will use a linear mixed model (LMM). Let's refresh our memory: How many subjects took part in this study?"
   ]
  },
  {
   "cell_type": "code",
   "execution_count": 250,
   "metadata": {},
   "outputs": [
    {
     "data": {
      "text/html": [
       "<table>\n",
       "<thead><tr><th scope=col>Subject</th><th scope=col>Clip</th><th scope=col>ClipOrder</th><th scope=col>Social</th><th scope=col>SocialOrder</th><th scope=col>Valued</th></tr></thead>\n",
       "<tbody>\n",
       "\t<tr><td>1       </td><td>positive</td><td>1       </td><td>Facebook</td><td>1       </td><td>85      </td></tr>\n",
       "\t<tr><td>1       </td><td>positive</td><td>1       </td><td>Twitter </td><td>2       </td><td>53      </td></tr>\n",
       "\t<tr><td>1       </td><td>negative</td><td>2       </td><td>Facebook</td><td>2       </td><td>38      </td></tr>\n",
       "\t<tr><td>1       </td><td>negative</td><td>2       </td><td>Twitter </td><td>1       </td><td>52      </td></tr>\n",
       "\t<tr><td>2       </td><td>positive</td><td>2       </td><td>Facebook</td><td>2       </td><td>25      </td></tr>\n",
       "\t<tr><td>2       </td><td>positive</td><td>2       </td><td>Twitter </td><td>1       </td><td>54      </td></tr>\n",
       "\t<tr><td>2       </td><td>negative</td><td>1       </td><td>Facebook</td><td>1       </td><td>73      </td></tr>\n",
       "\t<tr><td>2       </td><td>negative</td><td>1       </td><td>Twitter </td><td>2       </td><td>52      </td></tr>\n",
       "\t<tr><td>3       </td><td>positive</td><td>1       </td><td>Facebook</td><td>1       </td><td>95      </td></tr>\n",
       "\t<tr><td>3       </td><td>positive</td><td>1       </td><td>Twitter </td><td>2       </td><td>70      </td></tr>\n",
       "</tbody>\n",
       "</table>\n"
      ],
      "text/latex": [
       "\\begin{tabular}{r|llllll}\n",
       " Subject & Clip & ClipOrder & Social & SocialOrder & Valued\\\\\n",
       "\\hline\n",
       "\t 1        & positive & 1        & Facebook & 1        & 85      \\\\\n",
       "\t 1        & positive & 1        & Twitter  & 2        & 53      \\\\\n",
       "\t 1        & negative & 2        & Facebook & 2        & 38      \\\\\n",
       "\t 1        & negative & 2        & Twitter  & 1        & 52      \\\\\n",
       "\t 2        & positive & 2        & Facebook & 2        & 25      \\\\\n",
       "\t 2        & positive & 2        & Twitter  & 1        & 54      \\\\\n",
       "\t 2        & negative & 1        & Facebook & 1        & 73      \\\\\n",
       "\t 2        & negative & 1        & Twitter  & 2        & 52      \\\\\n",
       "\t 3        & positive & 1        & Facebook & 1        & 95      \\\\\n",
       "\t 3        & positive & 1        & Twitter  & 2        & 70      \\\\\n",
       "\\end{tabular}\n"
      ],
      "text/markdown": [
       "\n",
       "Subject | Clip | ClipOrder | Social | SocialOrder | Valued | \n",
       "|---|---|---|---|---|---|---|---|---|---|\n",
       "| 1        | positive | 1        | Facebook | 1        | 85       | \n",
       "| 1        | positive | 1        | Twitter  | 2        | 53       | \n",
       "| 1        | negative | 2        | Facebook | 2        | 38       | \n",
       "| 1        | negative | 2        | Twitter  | 1        | 52       | \n",
       "| 2        | positive | 2        | Facebook | 2        | 25       | \n",
       "| 2        | positive | 2        | Twitter  | 1        | 54       | \n",
       "| 2        | negative | 1        | Facebook | 1        | 73       | \n",
       "| 2        | negative | 1        | Twitter  | 2        | 52       | \n",
       "| 3        | positive | 1        | Facebook | 1        | 95       | \n",
       "| 3        | positive | 1        | Twitter  | 2        | 70       | \n",
       "\n",
       "\n"
      ],
      "text/plain": [
       "   Subject Clip     ClipOrder Social   SocialOrder Valued\n",
       "1  1       positive 1         Facebook 1           85    \n",
       "2  1       positive 1         Twitter  2           53    \n",
       "3  1       negative 2         Facebook 2           38    \n",
       "4  1       negative 2         Twitter  1           52    \n",
       "5  2       positive 2         Facebook 2           25    \n",
       "6  2       positive 2         Twitter  1           54    \n",
       "7  2       negative 1         Facebook 1           73    \n",
       "8  2       negative 1         Twitter  2           52    \n",
       "9  3       positive 1         Facebook 1           95    \n",
       "10 3       positive 1         Twitter  2           70    "
      ]
     },
     "metadata": {},
     "output_type": "display_data"
    }
   ],
   "source": [
    "df <- read.csv(\"materials/socialvalue.csv\")\n",
    "head(df, 10)"
   ]
  },
  {
   "cell_type": "code",
   "execution_count": 251,
   "metadata": {},
   "outputs": [
    {
     "data": {
      "text/html": [
       "<table>\n",
       "<thead><tr><th></th><th scope=col>Subject</th><th scope=col>Clip</th><th scope=col>ClipOrder</th><th scope=col>Social</th><th scope=col>SocialOrder</th><th scope=col>Valued</th></tr></thead>\n",
       "<tbody>\n",
       "\t<tr><th scope=row>59</th><td>15      </td><td>negative</td><td>2       </td><td>Facebook</td><td>2       </td><td>60      </td></tr>\n",
       "\t<tr><th scope=row>60</th><td>15      </td><td>negative</td><td>2       </td><td>Twitter </td><td>1       </td><td>62      </td></tr>\n",
       "\t<tr><th scope=row>61</th><td>16      </td><td>positive</td><td>2       </td><td>Facebook</td><td>2       </td><td>34      </td></tr>\n",
       "\t<tr><th scope=row>62</th><td>16      </td><td>positive</td><td>2       </td><td>Twitter </td><td>1       </td><td>61      </td></tr>\n",
       "\t<tr><th scope=row>63</th><td>16      </td><td>negative</td><td>1       </td><td>Facebook</td><td>1       </td><td>59      </td></tr>\n",
       "\t<tr><th scope=row>64</th><td>16      </td><td>negative</td><td>1       </td><td>Twitter </td><td>2       </td><td>70      </td></tr>\n",
       "</tbody>\n",
       "</table>\n"
      ],
      "text/latex": [
       "\\begin{tabular}{r|llllll}\n",
       "  & Subject & Clip & ClipOrder & Social & SocialOrder & Valued\\\\\n",
       "\\hline\n",
       "\t59 & 15       & negative & 2        & Facebook & 2        & 60      \\\\\n",
       "\t60 & 15       & negative & 2        & Twitter  & 1        & 62      \\\\\n",
       "\t61 & 16       & positive & 2        & Facebook & 2        & 34      \\\\\n",
       "\t62 & 16       & positive & 2        & Twitter  & 1        & 61      \\\\\n",
       "\t63 & 16       & negative & 1        & Facebook & 1        & 59      \\\\\n",
       "\t64 & 16       & negative & 1        & Twitter  & 2        & 70      \\\\\n",
       "\\end{tabular}\n"
      ],
      "text/markdown": [
       "\n",
       "| <!--/--> | Subject | Clip | ClipOrder | Social | SocialOrder | Valued | \n",
       "|---|---|---|---|---|---|\n",
       "| 59 | 15       | negative | 2        | Facebook | 2        | 60       | \n",
       "| 60 | 15       | negative | 2        | Twitter  | 1        | 62       | \n",
       "| 61 | 16       | positive | 2        | Facebook | 2        | 34       | \n",
       "| 62 | 16       | positive | 2        | Twitter  | 1        | 61       | \n",
       "| 63 | 16       | negative | 1        | Facebook | 1        | 59       | \n",
       "| 64 | 16       | negative | 1        | Twitter  | 2        | 70       | \n",
       "\n",
       "\n"
      ],
      "text/plain": [
       "   Subject Clip     ClipOrder Social   SocialOrder Valued\n",
       "59 15      negative 2         Facebook 2           60    \n",
       "60 15      negative 2         Twitter  1           62    \n",
       "61 16      positive 2         Facebook 2           34    \n",
       "62 16      positive 2         Twitter  1           61    \n",
       "63 16      negative 1         Facebook 1           59    \n",
       "64 16      negative 1         Twitter  2           70    "
      ]
     },
     "metadata": {},
     "output_type": "display_data"
    }
   ],
   "source": [
    "tail(df)"
   ]
  },
  {
   "cell_type": "markdown",
   "metadata": {},
   "source": [
    "On average and to the nearest whole number, how many more posts were valued on Facebook than on Twitter after seeing a positive film clip?"
   ]
  },
  {
   "cell_type": "code",
   "execution_count": 252,
   "metadata": {},
   "outputs": [
    {
     "data": {
      "text/html": [
       "<table>\n",
       "<thead><tr><th scope=col>Social</th><th scope=col>Clip</th><th scope=col>mean.valued</th></tr></thead>\n",
       "<tbody>\n",
       "\t<tr><td>Facebook</td><td>negative</td><td>46.3125 </td></tr>\n",
       "\t<tr><td>Facebook</td><td>positive</td><td>68.7500 </td></tr>\n",
       "\t<tr><td>Twitter </td><td>negative</td><td>55.5625 </td></tr>\n",
       "\t<tr><td>Twitter </td><td>positive</td><td>58.5625 </td></tr>\n",
       "</tbody>\n",
       "</table>\n"
      ],
      "text/latex": [
       "\\begin{tabular}{r|lll}\n",
       " Social & Clip & mean.valued\\\\\n",
       "\\hline\n",
       "\t Facebook & negative & 46.3125 \\\\\n",
       "\t Facebook & positive & 68.7500 \\\\\n",
       "\t Twitter  & negative & 55.5625 \\\\\n",
       "\t Twitter  & positive & 58.5625 \\\\\n",
       "\\end{tabular}\n"
      ],
      "text/markdown": [
       "\n",
       "Social | Clip | mean.valued | \n",
       "|---|---|---|---|\n",
       "| Facebook | negative | 46.3125  | \n",
       "| Facebook | positive | 68.7500  | \n",
       "| Twitter  | negative | 55.5625  | \n",
       "| Twitter  | positive | 58.5625  | \n",
       "\n",
       "\n"
      ],
      "text/plain": [
       "  Social   Clip     mean.valued\n",
       "1 Facebook negative 46.3125    \n",
       "2 Facebook positive 68.7500    \n",
       "3 Twitter  negative 55.5625    \n",
       "4 Twitter  positive 58.5625    "
      ]
     },
     "metadata": {},
     "output_type": "display_data"
    }
   ],
   "source": [
    "df %>%\n",
    "    group_by(Social, Clip) %>%\n",
    "    dplyr:::summarise(mean.valued = mean(Valued))"
   ]
  },
  {
   "cell_type": "code",
   "execution_count": 253,
   "metadata": {},
   "outputs": [
    {
     "data": {
      "text/html": [
       "10.1875"
      ],
      "text/latex": [
       "10.1875"
      ],
      "text/markdown": [
       "10.1875"
      ],
      "text/plain": [
       "[1] 10.1875"
      ]
     },
     "metadata": {},
     "output_type": "display_data"
    }
   ],
   "source": [
    "68.7500 - 58.5625"
   ]
  },
  {
   "cell_type": "markdown",
   "metadata": {},
   "source": [
    "Conduct a linear mixed model (LMM) analysis of variance on Valued by Social and Clip. To the nearest ten-thousandth (four digits), what is the p-value of the interaction effect? Hint: Use the lme4 library and its lmer function with Subject as a random effect. Then use the car library and its Anova function with type=3 and test.statistic=\"F\". Prior to either, set sum-to-zero contrasts for both Social and Clip."
   ]
  },
  {
   "cell_type": "code",
   "execution_count": 254,
   "metadata": {
    "collapsed": true
   },
   "outputs": [],
   "source": [
    "df$Subject <- as.factor(df$Subject)\n",
    "df$SocialOrder <- as.factor(df$SocialOrder)\n",
    "df$ClipOrder <- as.factor(df$ClipOrder)"
   ]
  },
  {
   "cell_type": "code",
   "execution_count": 255,
   "metadata": {
    "collapsed": true
   },
   "outputs": [],
   "source": [
    "contrasts(df$Clip) <- \"contr.sum\"\n",
    "contrasts(df$Social) <- \"contr.sum\""
   ]
  },
  {
   "cell_type": "code",
   "execution_count": 256,
   "metadata": {},
   "outputs": [
    {
     "data": {
      "text/html": [
       "<table>\n",
       "<thead><tr><th></th><th scope=col>F</th><th scope=col>Df</th><th scope=col>Df.res</th><th scope=col>Pr(&gt;F)</th></tr></thead>\n",
       "<tbody>\n",
       "\t<tr><th scope=row>(Intercept)</th><td>839.29401852</td><td>1           </td><td>15          </td><td>1.392136e-14</td></tr>\n",
       "\t<tr><th scope=row>Social</th><td>  0.01404348</td><td>1           </td><td>45          </td><td>9.061948e-01</td></tr>\n",
       "\t<tr><th scope=row>Clip</th><td> 10.33906169</td><td>1           </td><td>45          </td><td>2.412631e-03</td></tr>\n",
       "\t<tr><th scope=row>Social:Clip</th><td>  6.03688755</td><td>1           </td><td>45          </td><td>1.793028e-02</td></tr>\n",
       "</tbody>\n",
       "</table>\n"
      ],
      "text/latex": [
       "\\begin{tabular}{r|llll}\n",
       "  & F & Df & Df.res & Pr(>F)\\\\\n",
       "\\hline\n",
       "\t(Intercept) & 839.29401852 & 1            & 15           & 1.392136e-14\\\\\n",
       "\tSocial &   0.01404348 & 1            & 45           & 9.061948e-01\\\\\n",
       "\tClip &  10.33906169 & 1            & 45           & 2.412631e-03\\\\\n",
       "\tSocial:Clip &   6.03688755 & 1            & 45           & 1.793028e-02\\\\\n",
       "\\end{tabular}\n"
      ],
      "text/markdown": [
       "\n",
       "| <!--/--> | F | Df | Df.res | Pr(>F) | \n",
       "|---|---|---|---|\n",
       "| (Intercept) | 839.29401852 | 1            | 15           | 1.392136e-14 | \n",
       "| Social |   0.01404348 | 1            | 45           | 9.061948e-01 | \n",
       "| Clip |  10.33906169 | 1            | 45           | 2.412631e-03 | \n",
       "| Social:Clip |   6.03688755 | 1            | 45           | 1.793028e-02 | \n",
       "\n",
       "\n"
      ],
      "text/plain": [
       "            F            Df Df.res Pr(>F)      \n",
       "(Intercept) 839.29401852 1  15     1.392136e-14\n",
       "Social        0.01404348 1  45     9.061948e-01\n",
       "Clip         10.33906169 1  45     2.412631e-03\n",
       "Social:Clip   6.03688755 1  45     1.793028e-02"
      ]
     },
     "metadata": {},
     "output_type": "display_data"
    }
   ],
   "source": [
    "m <- lmer(Valued ~ (Social * Clip) + (1|Subject), data=df)\n",
    "Anova(m, type=3, test.statistic=\"F\")"
   ]
  },
  {
   "cell_type": "markdown",
   "metadata": {},
   "source": [
    "Conduct two planned pairwise comparisons of how the film clips may have influenced judgments about the value of social media. \n",
    "* The first question is whether on Facebook, the number of valued posts was different after people saw a positive film clip versus a negative film clip. \n",
    "* The second question is whether on Twitter, the number of valued posts was different after people saw a positive film clip versus a negative film clip. \n",
    "\n",
    "Correcting for these two planned comparisons using Holm's sequential Bonferroni procedure, to the nearest ten-thousandth (four digits), what is the lowest corrected p-value of the two tests? Hint: Use the multcomp and lsmeans libraries and the lsm function within the glht function. Do not correct for multiple comparisons yet as only two planned comparisons will be regarded. After retrieving the two as-yet uncorrected p-values of interest, manually pass them to p.adjust for correction."
   ]
  },
  {
   "cell_type": "code",
   "execution_count": 257,
   "metadata": {},
   "outputs": [
    {
     "name": "stderr",
     "output_type": "stream",
     "text": [
      "Note: df set to 45\n"
     ]
    },
    {
     "data": {
      "text/plain": [
       "\n",
       "\t Simultaneous Tests for General Linear Hypotheses\n",
       "\n",
       "Fit: lmer(formula = Valued ~ (Social * Clip) + (1 | Subject), data = df)\n",
       "\n",
       "Linear Hypotheses:\n",
       "                                           Estimate Std. Error t value Pr(>|t|)\n",
       "Facebook,negative - Twitter,negative == 0    -9.250      5.594  -1.654 0.105175\n",
       "Facebook,negative - Facebook,positive == 0  -22.438      5.594  -4.011 0.000225\n",
       "Facebook,negative - Twitter,positive == 0   -12.250      5.594  -2.190 0.033759\n",
       "Twitter,negative - Facebook,positive == 0   -13.188      5.594  -2.357 0.022810\n",
       "Twitter,negative - Twitter,positive == 0     -3.000      5.594  -0.536 0.594397\n",
       "Facebook,positive - Twitter,positive == 0    10.188      5.594   1.821 0.075234\n",
       "                                              \n",
       "Facebook,negative - Twitter,negative == 0     \n",
       "Facebook,negative - Facebook,positive == 0 ***\n",
       "Facebook,negative - Twitter,positive == 0  *  \n",
       "Twitter,negative - Facebook,positive == 0  *  \n",
       "Twitter,negative - Twitter,positive == 0      \n",
       "Facebook,positive - Twitter,positive == 0  .  \n",
       "---\n",
       "Signif. codes:  0 '***' 0.001 '**' 0.01 '*' 0.05 '.' 0.1 ' ' 1\n",
       "(Adjusted p values reported -- none method)\n"
      ]
     },
     "metadata": {},
     "output_type": "display_data"
    }
   ],
   "source": [
    "summary(glht(m, lsm(pairwise ~ Social * Clip)), test=adjusted(type=\"none\"))"
   ]
  },
  {
   "cell_type": "code",
   "execution_count": 258,
   "metadata": {},
   "outputs": [
    {
     "data": {
      "text/html": [
       "<ol class=list-inline>\n",
       "\t<li>0.00034</li>\n",
       "\t<li>0.59374</li>\n",
       "</ol>\n"
      ],
      "text/latex": [
       "\\begin{enumerate*}\n",
       "\\item 0.00034\n",
       "\\item 0.59374\n",
       "\\end{enumerate*}\n"
      ],
      "text/markdown": [
       "1. 0.00034\n",
       "2. 0.59374\n",
       "\n",
       "\n"
      ],
      "text/plain": [
       "[1] 0.00034 0.59374"
      ]
     },
     "metadata": {},
     "output_type": "display_data"
    }
   ],
   "source": [
    "p.adjust(c(0.00017, 0.59374), method=\"holm\")"
   ]
  },
  {
   "cell_type": "code",
   "execution_count": 259,
   "metadata": {},
   "outputs": [
    {
     "data": {
      "image/png": "[encoded data removed]",
      "text/plain": [
       "plot without title"
      ]
     },
     "metadata": {},
     "output_type": "display_data"
    }
   ],
   "source": [
    "boxplot(Valued ~ Social * Clip, data=df, xlab=\"Social.Clip\", ylab=\"Valued\") # boxplots"
   ]
  },
  {
   "cell_type": "markdown",
   "metadata": {},
   "source": [
    "Download the file teaser.csv from the course materials. This file describes a survey in which respondents recruited online saw five different teaser trailers for upcoming movies of different genres. Respondents simply indicated whether they liked each teaser or not. The research question is whether trailers from certain film genres were liked more than others. How many respondents took part in this survey?"
   ]
  },
  {
   "cell_type": "code",
   "execution_count": 260,
   "metadata": {},
   "outputs": [
    {
     "data": {
      "text/html": [
       "<table>\n",
       "<thead><tr><th scope=col>Subject</th><th scope=col>Teaser</th><th scope=col>Order</th><th scope=col>Liked</th></tr></thead>\n",
       "<tbody>\n",
       "\t<tr><td>1       </td><td>action  </td><td>1       </td><td>1       </td></tr>\n",
       "\t<tr><td>1       </td><td>comedy  </td><td>2       </td><td>0       </td></tr>\n",
       "\t<tr><td>1       </td><td>horror  </td><td>5       </td><td>0       </td></tr>\n",
       "\t<tr><td>1       </td><td>romance </td><td>3       </td><td>1       </td></tr>\n",
       "\t<tr><td>1       </td><td>thriller</td><td>4       </td><td>0       </td></tr>\n",
       "\t<tr><td>2       </td><td>action  </td><td>2       </td><td>0       </td></tr>\n",
       "\t<tr><td>2       </td><td>comedy  </td><td>3       </td><td>1       </td></tr>\n",
       "\t<tr><td>2       </td><td>horror  </td><td>1       </td><td>0       </td></tr>\n",
       "\t<tr><td>2       </td><td>romance </td><td>4       </td><td>1       </td></tr>\n",
       "\t<tr><td>2       </td><td>thriller</td><td>5       </td><td>1       </td></tr>\n",
       "\t<tr><td>3       </td><td>action  </td><td>3       </td><td>1       </td></tr>\n",
       "\t<tr><td>3       </td><td>comedy  </td><td>4       </td><td>0       </td></tr>\n",
       "\t<tr><td>3       </td><td>horror  </td><td>2       </td><td>0       </td></tr>\n",
       "\t<tr><td>3       </td><td>romance </td><td>5       </td><td>1       </td></tr>\n",
       "\t<tr><td>3       </td><td>thriller</td><td>1       </td><td>0       </td></tr>\n",
       "\t<tr><td>4       </td><td>action  </td><td>4       </td><td>1       </td></tr>\n",
       "\t<tr><td>4       </td><td>comedy  </td><td>5       </td><td>0       </td></tr>\n",
       "\t<tr><td>4       </td><td>horror  </td><td>3       </td><td>0       </td></tr>\n",
       "\t<tr><td>4       </td><td>romance </td><td>1       </td><td>1       </td></tr>\n",
       "\t<tr><td>4       </td><td>thriller</td><td>2       </td><td>1       </td></tr>\n",
       "</tbody>\n",
       "</table>\n"
      ],
      "text/latex": [
       "\\begin{tabular}{r|llll}\n",
       " Subject & Teaser & Order & Liked\\\\\n",
       "\\hline\n",
       "\t 1        & action   & 1        & 1       \\\\\n",
       "\t 1        & comedy   & 2        & 0       \\\\\n",
       "\t 1        & horror   & 5        & 0       \\\\\n",
       "\t 1        & romance  & 3        & 1       \\\\\n",
       "\t 1        & thriller & 4        & 0       \\\\\n",
       "\t 2        & action   & 2        & 0       \\\\\n",
       "\t 2        & comedy   & 3        & 1       \\\\\n",
       "\t 2        & horror   & 1        & 0       \\\\\n",
       "\t 2        & romance  & 4        & 1       \\\\\n",
       "\t 2        & thriller & 5        & 1       \\\\\n",
       "\t 3        & action   & 3        & 1       \\\\\n",
       "\t 3        & comedy   & 4        & 0       \\\\\n",
       "\t 3        & horror   & 2        & 0       \\\\\n",
       "\t 3        & romance  & 5        & 1       \\\\\n",
       "\t 3        & thriller & 1        & 0       \\\\\n",
       "\t 4        & action   & 4        & 1       \\\\\n",
       "\t 4        & comedy   & 5        & 0       \\\\\n",
       "\t 4        & horror   & 3        & 0       \\\\\n",
       "\t 4        & romance  & 1        & 1       \\\\\n",
       "\t 4        & thriller & 2        & 1       \\\\\n",
       "\\end{tabular}\n"
      ],
      "text/markdown": [
       "\n",
       "Subject | Teaser | Order | Liked | \n",
       "|---|---|---|---|---|---|---|---|---|---|---|---|---|---|---|---|---|---|---|---|\n",
       "| 1        | action   | 1        | 1        | \n",
       "| 1        | comedy   | 2        | 0        | \n",
       "| 1        | horror   | 5        | 0        | \n",
       "| 1        | romance  | 3        | 1        | \n",
       "| 1        | thriller | 4        | 0        | \n",
       "| 2        | action   | 2        | 0        | \n",
       "| 2        | comedy   | 3        | 1        | \n",
       "| 2        | horror   | 1        | 0        | \n",
       "| 2        | romance  | 4        | 1        | \n",
       "| 2        | thriller | 5        | 1        | \n",
       "| 3        | action   | 3        | 1        | \n",
       "| 3        | comedy   | 4        | 0        | \n",
       "| 3        | horror   | 2        | 0        | \n",
       "| 3        | romance  | 5        | 1        | \n",
       "| 3        | thriller | 1        | 0        | \n",
       "| 4        | action   | 4        | 1        | \n",
       "| 4        | comedy   | 5        | 0        | \n",
       "| 4        | horror   | 3        | 0        | \n",
       "| 4        | romance  | 1        | 1        | \n",
       "| 4        | thriller | 2        | 1        | \n",
       "\n",
       "\n"
      ],
      "text/plain": [
       "   Subject Teaser   Order Liked\n",
       "1  1       action   1     1    \n",
       "2  1       comedy   2     0    \n",
       "3  1       horror   5     0    \n",
       "4  1       romance  3     1    \n",
       "5  1       thriller 4     0    \n",
       "6  2       action   2     0    \n",
       "7  2       comedy   3     1    \n",
       "8  2       horror   1     0    \n",
       "9  2       romance  4     1    \n",
       "10 2       thriller 5     1    \n",
       "11 3       action   3     1    \n",
       "12 3       comedy   4     0    \n",
       "13 3       horror   2     0    \n",
       "14 3       romance  5     1    \n",
       "15 3       thriller 1     0    \n",
       "16 4       action   4     1    \n",
       "17 4       comedy   5     0    \n",
       "18 4       horror   3     0    \n",
       "19 4       romance  1     1    \n",
       "20 4       thriller 2     1    "
      ]
     },
     "metadata": {},
     "output_type": "display_data"
    }
   ],
   "source": [
    "df <- read.csv(\"materials/teaser.csv\")\n",
    "head(df, 20)"
   ]
  },
  {
   "cell_type": "code",
   "execution_count": 261,
   "metadata": {},
   "outputs": [
    {
     "data": {
      "text/html": [
       "<table>\n",
       "<thead><tr><th></th><th scope=col>Subject</th><th scope=col>Teaser</th><th scope=col>Order</th><th scope=col>Liked</th></tr></thead>\n",
       "<tbody>\n",
       "\t<tr><th scope=row>95</th><td>19      </td><td>thriller</td><td>4       </td><td>1       </td></tr>\n",
       "\t<tr><th scope=row>96</th><td>20      </td><td>action  </td><td>3       </td><td>1       </td></tr>\n",
       "\t<tr><th scope=row>97</th><td>20      </td><td>comedy  </td><td>2       </td><td>0       </td></tr>\n",
       "\t<tr><th scope=row>98</th><td>20      </td><td>horror  </td><td>4       </td><td>0       </td></tr>\n",
       "\t<tr><th scope=row>99</th><td>20      </td><td>romance </td><td>1       </td><td>0       </td></tr>\n",
       "\t<tr><th scope=row>100</th><td>20      </td><td>thriller</td><td>5       </td><td>1       </td></tr>\n",
       "</tbody>\n",
       "</table>\n"
      ],
      "text/latex": [
       "\\begin{tabular}{r|llll}\n",
       "  & Subject & Teaser & Order & Liked\\\\\n",
       "\\hline\n",
       "\t95 & 19       & thriller & 4        & 1       \\\\\n",
       "\t96 & 20       & action   & 3        & 1       \\\\\n",
       "\t97 & 20       & comedy   & 2        & 0       \\\\\n",
       "\t98 & 20       & horror   & 4        & 0       \\\\\n",
       "\t99 & 20       & romance  & 1        & 0       \\\\\n",
       "\t100 & 20       & thriller & 5        & 1       \\\\\n",
       "\\end{tabular}\n"
      ],
      "text/markdown": [
       "\n",
       "| <!--/--> | Subject | Teaser | Order | Liked | \n",
       "|---|---|---|---|---|---|\n",
       "| 95 | 19       | thriller | 4        | 1        | \n",
       "| 96 | 20       | action   | 3        | 1        | \n",
       "| 97 | 20       | comedy   | 2        | 0        | \n",
       "| 98 | 20       | horror   | 4        | 0        | \n",
       "| 99 | 20       | romance  | 1        | 0        | \n",
       "| 100 | 20       | thriller | 5        | 1        | \n",
       "\n",
       "\n"
      ],
      "text/plain": [
       "    Subject Teaser   Order Liked\n",
       "95  19      thriller 4     1    \n",
       "96  20      action   3     1    \n",
       "97  20      comedy   2     0    \n",
       "98  20      horror   4     0    \n",
       "99  20      romance  1     0    \n",
       "100 20      thriller 5     1    "
      ]
     },
     "metadata": {},
     "output_type": "display_data"
    }
   ],
   "source": [
    "tail(df)"
   ]
  },
  {
   "cell_type": "markdown",
   "metadata": {},
   "source": [
    "By viewing the data table, discern which counterbalancing scheme was used for the Teaser factor, if any:\n",
    "\n",
    "- Full counterbalancing"
   ]
  },
  {
   "cell_type": "markdown",
   "metadata": {},
   "source": [
    "Create a plot of Liked by Teaser. Which teaser trailer genre was liked the most?"
   ]
  },
  {
   "cell_type": "code",
   "execution_count": 262,
   "metadata": {
    "collapsed": true
   },
   "outputs": [],
   "source": [
    "df$Liked <- as.factor(df$Liked)\n",
    "df$Order <- as.factor(df$Order)\n",
    "df$Subject <- as.factor(df$Subject)"
   ]
  },
  {
   "cell_type": "code",
   "execution_count": 263,
   "metadata": {},
   "outputs": [
    {
     "data": {
      "text/html": [
       "<table>\n",
       "<thead><tr><th scope=col>Teaser</th><th scope=col>numLikes</th></tr></thead>\n",
       "<tbody>\n",
       "\t<tr><td>action  </td><td>19      </td></tr>\n",
       "\t<tr><td>comedy  </td><td> 6      </td></tr>\n",
       "\t<tr><td>horror  </td><td> 2      </td></tr>\n",
       "\t<tr><td>romance </td><td>12      </td></tr>\n",
       "\t<tr><td>thriller</td><td>16      </td></tr>\n",
       "</tbody>\n",
       "</table>\n"
      ],
      "text/latex": [
       "\\begin{tabular}{r|ll}\n",
       " Teaser & numLikes\\\\\n",
       "\\hline\n",
       "\t action   & 19      \\\\\n",
       "\t comedy   &  6      \\\\\n",
       "\t horror   &  2      \\\\\n",
       "\t romance  & 12      \\\\\n",
       "\t thriller & 16      \\\\\n",
       "\\end{tabular}\n"
      ],
      "text/markdown": [
       "\n",
       "Teaser | numLikes | \n",
       "|---|---|---|---|---|\n",
       "| action   | 19       | \n",
       "| comedy   |  6       | \n",
       "| horror   |  2       | \n",
       "| romance  | 12       | \n",
       "| thriller | 16       | \n",
       "\n",
       "\n"
      ],
      "text/plain": [
       "  Teaser   numLikes\n",
       "1 action   19      \n",
       "2 comedy    6      \n",
       "3 horror    2      \n",
       "4 romance  12      \n",
       "5 thriller 16      "
      ]
     },
     "metadata": {},
     "output_type": "display_data"
    },
    {
     "data": {},
     "metadata": {},
     "output_type": "display_data"
    },
    {
     "data": {
      "image/png": "[encoded data removed]",
      "text/plain": [
       "plot without title"
      ]
     },
     "metadata": {},
     "output_type": "display_data"
    }
   ],
   "source": [
    "library(\"ggplot2\")\n",
    "\n",
    "liked <- df %>%\n",
    "    dplyr:::filter(Liked == 1) %>%\n",
    "    group_by(Teaser) %>%\n",
    "    dplyr:::summarise(\n",
    "        numLikes = n())\n",
    "\n",
    "head(liked)\n",
    "\n",
    "ggplot(liked, aes(x=Teaser, y=numLikes)) + geom_col()"
   ]
  },
  {
   "cell_type": "markdown",
   "metadata": {},
   "source": [
    "Using a generalized linear mixed model (GLMM), conduct a test of order effects on Liked to ensure counterbalancing worked. To the nearest ten-thousandth (four digits), what is the p-value for the Order main effect? Hint: Use the lme4 library and its glmer function with family=binomial and Subject as a random effect. Then use the car library and its Anova function with type=3. Prior to either, set sum-to-zero contrasts for Order."
   ]
  },
  {
   "cell_type": "code",
   "execution_count": 264,
   "metadata": {},
   "outputs": [
    {
     "data": {
      "text/html": [
       "<table>\n",
       "<thead><tr><th></th><th scope=col>Chisq</th><th scope=col>Df</th><th scope=col>Pr(&gt;Chisq)</th></tr></thead>\n",
       "<tbody>\n",
       "\t<tr><th scope=row>(Intercept)</th><td>1.039229 </td><td>1        </td><td>0.3080010</td></tr>\n",
       "\t<tr><th scope=row>Order</th><td>3.920386 </td><td>4        </td><td>0.4168877</td></tr>\n",
       "</tbody>\n",
       "</table>\n"
      ],
      "text/latex": [
       "\\begin{tabular}{r|lll}\n",
       "  & Chisq & Df & Pr(>Chisq)\\\\\n",
       "\\hline\n",
       "\t(Intercept) & 1.039229  & 1         & 0.3080010\\\\\n",
       "\tOrder & 3.920386  & 4         & 0.4168877\\\\\n",
       "\\end{tabular}\n"
      ],
      "text/markdown": [
       "\n",
       "| <!--/--> | Chisq | Df | Pr(>Chisq) | \n",
       "|---|---|\n",
       "| (Intercept) | 1.039229  | 1         | 0.3080010 | \n",
       "| Order | 3.920386  | 4         | 0.4168877 | \n",
       "\n",
       "\n"
      ],
      "text/plain": [
       "            Chisq    Df Pr(>Chisq)\n",
       "(Intercept) 1.039229 1  0.3080010 \n",
       "Order       3.920386 4  0.4168877 "
      ]
     },
     "metadata": {},
     "output_type": "display_data"
    }
   ],
   "source": [
    "contrasts(df$Order) <- \"contr.sum\"\n",
    "\n",
    "m <- glmer(Liked ~ Order + (1|Subject), data=df, family=binomial)\n",
    "Anova(m, type=3)"
   ]
  },
  {
   "cell_type": "markdown",
   "metadata": {},
   "source": [
    "Using a generalized linear mixed model (GLMM), conduct a test of Liked by Teaser. To the nearest ten-thousandth (four digits), what is the Chi-Square statistic for the Teaser main effect? Hint: Use the lme4 library and its glmer function with family=binomial and Subject as a random effect. Then use the car library and its Anova function with type=3. Prior to either, set sum-to-zero contrasts for Teaser."
   ]
  },
  {
   "cell_type": "code",
   "execution_count": 265,
   "metadata": {},
   "outputs": [
    {
     "data": {
      "text/html": [
       "<table>\n",
       "<thead><tr><th></th><th scope=col>Chisq</th><th scope=col>Df</th><th scope=col>Pr(&gt;Chisq)</th></tr></thead>\n",
       "<tbody>\n",
       "\t<tr><th scope=row>(Intercept)</th><td> 1.20897    </td><td>1           </td><td>2.715361e-01</td></tr>\n",
       "\t<tr><th scope=row>Teaser</th><td>26.69487    </td><td>4           </td><td>2.291163e-05</td></tr>\n",
       "</tbody>\n",
       "</table>\n"
      ],
      "text/latex": [
       "\\begin{tabular}{r|lll}\n",
       "  & Chisq & Df & Pr(>Chisq)\\\\\n",
       "\\hline\n",
       "\t(Intercept) &  1.20897     & 1            & 2.715361e-01\\\\\n",
       "\tTeaser & 26.69487     & 4            & 2.291163e-05\\\\\n",
       "\\end{tabular}\n"
      ],
      "text/markdown": [
       "\n",
       "| <!--/--> | Chisq | Df | Pr(>Chisq) | \n",
       "|---|---|\n",
       "| (Intercept) |  1.20897     | 1            | 2.715361e-01 | \n",
       "| Teaser | 26.69487     | 4            | 2.291163e-05 | \n",
       "\n",
       "\n"
      ],
      "text/plain": [
       "            Chisq    Df Pr(>Chisq)  \n",
       "(Intercept)  1.20897 1  2.715361e-01\n",
       "Teaser      26.69487 4  2.291163e-05"
      ]
     },
     "metadata": {},
     "output_type": "display_data"
    }
   ],
   "source": [
    "contrasts(df$Teaser) <- \"contr.sum\"\n",
    "\n",
    "m <- glmer(Liked ~ Teaser + (1|Subject), data=df, family=binomial)\n",
    "Anova(m, type=3)"
   ]
  },
  {
   "cell_type": "markdown",
   "metadata": {},
   "source": [
    "Conduct simultaneous post hoc pairwise comparisons among levels of Teaser. Be sure to use Holm's sequential Bonferroni procedure. How many of the tests are statistically significant? Hint: Use the multcomp library and its mcp function called from within its glht function."
   ]
  },
  {
   "cell_type": "code",
   "execution_count": 266,
   "metadata": {},
   "outputs": [
    {
     "data": {
      "text/plain": [
       "\n",
       "\t Simultaneous Tests for General Linear Hypotheses\n",
       "\n",
       "Fit: glmer(formula = Liked ~ Teaser + (1 | Subject), data = df, family = binomial)\n",
       "\n",
       "Linear Hypotheses:\n",
       "                        Estimate Std. Error z value Pr(>|z|)    \n",
       "action - comedy == 0      3.7917     1.1361   3.338 0.006763 ** \n",
       "action - horror == 0      5.1417     1.2681   4.054 0.000502 ***\n",
       "action - romance == 0     2.5390     1.1229   2.261 0.118785    \n",
       "action - thriller == 0    1.5581     1.1684   1.334 0.389096    \n",
       "comedy - horror == 0      1.3499     0.8909   1.515 0.389096    \n",
       "comedy - romance == 0    -1.2528     0.6682  -1.875 0.243190    \n",
       "comedy - thriller == 0   -2.2336     0.7420  -3.010 0.018278 *  \n",
       "horror - romance == 0    -2.6027     0.8740  -2.978 0.018278 *  \n",
       "horror - thriller == 0   -3.5835     0.9317  -3.846 0.001079 ** \n",
       "romance - thriller == 0  -0.9808     0.7217  -1.359 0.389096    \n",
       "---\n",
       "Signif. codes:  0 '***' 0.001 '**' 0.01 '*' 0.05 '.' 0.1 ' ' 1\n",
       "(Adjusted p values reported -- holm method)\n"
      ]
     },
     "metadata": {},
     "output_type": "display_data"
    }
   ],
   "source": [
    "summary(glht(m, lsm(pairwise ~ Teaser)), test=adjusted(type=\"holm\"))"
   ]
  },
  {
   "cell_type": "markdown",
   "metadata": {},
   "source": [
    "Download the file vocab.csv from the course materials. This file describes a study in which 50 recent posts by men and women on social media were analyzed for how many unique words they used, i.e., the size of their operational vocabulary on social media. The research question is how men's and women's vocabulary may differ on each of three social media websites. How many subjects took part in this study?"
   ]
  },
  {
   "cell_type": "code",
   "execution_count": 267,
   "metadata": {},
   "outputs": [
    {
     "data": {
      "text/html": [
       "<table>\n",
       "<thead><tr><th scope=col>Subject</th><th scope=col>Sex</th><th scope=col>Social</th><th scope=col>Order</th><th scope=col>Vocab</th></tr></thead>\n",
       "<tbody>\n",
       "\t<tr><td>1       </td><td>M       </td><td>Facebook</td><td>1       </td><td> 23     </td></tr>\n",
       "\t<tr><td>1       </td><td>M       </td><td>Twitter </td><td>2       </td><td> 94     </td></tr>\n",
       "\t<tr><td>1       </td><td>M       </td><td>Gplus   </td><td>3       </td><td>586     </td></tr>\n",
       "\t<tr><td>2       </td><td>F       </td><td>Facebook</td><td>1       </td><td>215     </td></tr>\n",
       "\t<tr><td>2       </td><td>F       </td><td>Twitter </td><td>3       </td><td>125     </td></tr>\n",
       "\t<tr><td>2       </td><td>F       </td><td>Gplus   </td><td>2       </td><td>360     </td></tr>\n",
       "\t<tr><td>3       </td><td>M       </td><td>Facebook</td><td>2       </td><td> 23     </td></tr>\n",
       "\t<tr><td>3       </td><td>M       </td><td>Twitter </td><td>1       </td><td>177     </td></tr>\n",
       "\t<tr><td>3       </td><td>M       </td><td>Gplus   </td><td>3       </td><td>282     </td></tr>\n",
       "\t<tr><td>4       </td><td>F       </td><td>Facebook</td><td>2       </td><td>194     </td></tr>\n",
       "\t<tr><td>4       </td><td>F       </td><td>Twitter </td><td>3       </td><td> 11     </td></tr>\n",
       "\t<tr><td>4       </td><td>F       </td><td>Gplus   </td><td>1       </td><td>176     </td></tr>\n",
       "\t<tr><td>5       </td><td>M       </td><td>Facebook</td><td>3       </td><td> 32     </td></tr>\n",
       "\t<tr><td>5       </td><td>M       </td><td>Twitter </td><td>1       </td><td>167     </td></tr>\n",
       "\t<tr><td>5       </td><td>M       </td><td>Gplus   </td><td>2       </td><td>710     </td></tr>\n",
       "\t<tr><td>6       </td><td>F       </td><td>Facebook</td><td>3       </td><td>110     </td></tr>\n",
       "\t<tr><td>6       </td><td>F       </td><td>Twitter </td><td>2       </td><td> 83     </td></tr>\n",
       "\t<tr><td>6       </td><td>F       </td><td>Gplus   </td><td>1       </td><td>140     </td></tr>\n",
       "\t<tr><td>7       </td><td>M       </td><td>Facebook</td><td>1       </td><td>305     </td></tr>\n",
       "\t<tr><td>7       </td><td>M       </td><td>Twitter </td><td>3       </td><td> 98     </td></tr>\n",
       "</tbody>\n",
       "</table>\n"
      ],
      "text/latex": [
       "\\begin{tabular}{r|lllll}\n",
       " Subject & Sex & Social & Order & Vocab\\\\\n",
       "\\hline\n",
       "\t 1        & M        & Facebook & 1        &  23     \\\\\n",
       "\t 1        & M        & Twitter  & 2        &  94     \\\\\n",
       "\t 1        & M        & Gplus    & 3        & 586     \\\\\n",
       "\t 2        & F        & Facebook & 1        & 215     \\\\\n",
       "\t 2        & F        & Twitter  & 3        & 125     \\\\\n",
       "\t 2        & F        & Gplus    & 2        & 360     \\\\\n",
       "\t 3        & M        & Facebook & 2        &  23     \\\\\n",
       "\t 3        & M        & Twitter  & 1        & 177     \\\\\n",
       "\t 3        & M        & Gplus    & 3        & 282     \\\\\n",
       "\t 4        & F        & Facebook & 2        & 194     \\\\\n",
       "\t 4        & F        & Twitter  & 3        &  11     \\\\\n",
       "\t 4        & F        & Gplus    & 1        & 176     \\\\\n",
       "\t 5        & M        & Facebook & 3        &  32     \\\\\n",
       "\t 5        & M        & Twitter  & 1        & 167     \\\\\n",
       "\t 5        & M        & Gplus    & 2        & 710     \\\\\n",
       "\t 6        & F        & Facebook & 3        & 110     \\\\\n",
       "\t 6        & F        & Twitter  & 2        &  83     \\\\\n",
       "\t 6        & F        & Gplus    & 1        & 140     \\\\\n",
       "\t 7        & M        & Facebook & 1        & 305     \\\\\n",
       "\t 7        & M        & Twitter  & 3        &  98     \\\\\n",
       "\\end{tabular}\n"
      ],
      "text/markdown": [
       "\n",
       "Subject | Sex | Social | Order | Vocab | \n",
       "|---|---|---|---|---|---|---|---|---|---|---|---|---|---|---|---|---|---|---|---|\n",
       "| 1        | M        | Facebook | 1        |  23      | \n",
       "| 1        | M        | Twitter  | 2        |  94      | \n",
       "| 1        | M        | Gplus    | 3        | 586      | \n",
       "| 2        | F        | Facebook | 1        | 215      | \n",
       "| 2        | F        | Twitter  | 3        | 125      | \n",
       "| 2        | F        | Gplus    | 2        | 360      | \n",
       "| 3        | M        | Facebook | 2        |  23      | \n",
       "| 3        | M        | Twitter  | 1        | 177      | \n",
       "| 3        | M        | Gplus    | 3        | 282      | \n",
       "| 4        | F        | Facebook | 2        | 194      | \n",
       "| 4        | F        | Twitter  | 3        |  11      | \n",
       "| 4        | F        | Gplus    | 1        | 176      | \n",
       "| 5        | M        | Facebook | 3        |  32      | \n",
       "| 5        | M        | Twitter  | 1        | 167      | \n",
       "| 5        | M        | Gplus    | 2        | 710      | \n",
       "| 6        | F        | Facebook | 3        | 110      | \n",
       "| 6        | F        | Twitter  | 2        |  83      | \n",
       "| 6        | F        | Gplus    | 1        | 140      | \n",
       "| 7        | M        | Facebook | 1        | 305      | \n",
       "| 7        | M        | Twitter  | 3        |  98      | \n",
       "\n",
       "\n"
      ],
      "text/plain": [
       "   Subject Sex Social   Order Vocab\n",
       "1  1       M   Facebook 1      23  \n",
       "2  1       M   Twitter  2      94  \n",
       "3  1       M   Gplus    3     586  \n",
       "4  2       F   Facebook 1     215  \n",
       "5  2       F   Twitter  3     125  \n",
       "6  2       F   Gplus    2     360  \n",
       "7  3       M   Facebook 2      23  \n",
       "8  3       M   Twitter  1     177  \n",
       "9  3       M   Gplus    3     282  \n",
       "10 4       F   Facebook 2     194  \n",
       "11 4       F   Twitter  3      11  \n",
       "12 4       F   Gplus    1     176  \n",
       "13 5       M   Facebook 3      32  \n",
       "14 5       M   Twitter  1     167  \n",
       "15 5       M   Gplus    2     710  \n",
       "16 6       F   Facebook 3     110  \n",
       "17 6       F   Twitter  2      83  \n",
       "18 6       F   Gplus    1     140  \n",
       "19 7       M   Facebook 1     305  \n",
       "20 7       M   Twitter  3      98  "
      ]
     },
     "metadata": {},
     "output_type": "display_data"
    }
   ],
   "source": [
    "df <- read.csv(\"materials/vocab.csv\")\n",
    "head(df, 20)"
   ]
  },
  {
   "cell_type": "code",
   "execution_count": 268,
   "metadata": {},
   "outputs": [
    {
     "data": {
      "text/html": [
       "<table>\n",
       "<thead><tr><th></th><th scope=col>Subject</th><th scope=col>Sex</th><th scope=col>Social</th><th scope=col>Order</th><th scope=col>Vocab</th></tr></thead>\n",
       "<tbody>\n",
       "\t<tr><th scope=row>85</th><td>29      </td><td>M       </td><td>Facebook</td><td>3       </td><td> 46     </td></tr>\n",
       "\t<tr><th scope=row>86</th><td>29      </td><td>M       </td><td>Twitter </td><td>1       </td><td> 38     </td></tr>\n",
       "\t<tr><th scope=row>87</th><td>29      </td><td>M       </td><td>Gplus   </td><td>2       </td><td> 22     </td></tr>\n",
       "\t<tr><th scope=row>88</th><td>30      </td><td>F       </td><td>Facebook</td><td>3       </td><td>103     </td></tr>\n",
       "\t<tr><th scope=row>89</th><td>30      </td><td>F       </td><td>Twitter </td><td>2       </td><td> 97     </td></tr>\n",
       "\t<tr><th scope=row>90</th><td>30      </td><td>F       </td><td>Gplus   </td><td>1       </td><td> 92     </td></tr>\n",
       "</tbody>\n",
       "</table>\n"
      ],
      "text/latex": [
       "\\begin{tabular}{r|lllll}\n",
       "  & Subject & Sex & Social & Order & Vocab\\\\\n",
       "\\hline\n",
       "\t85 & 29       & M        & Facebook & 3        &  46     \\\\\n",
       "\t86 & 29       & M        & Twitter  & 1        &  38     \\\\\n",
       "\t87 & 29       & M        & Gplus    & 2        &  22     \\\\\n",
       "\t88 & 30       & F        & Facebook & 3        & 103     \\\\\n",
       "\t89 & 30       & F        & Twitter  & 2        &  97     \\\\\n",
       "\t90 & 30       & F        & Gplus    & 1        &  92     \\\\\n",
       "\\end{tabular}\n"
      ],
      "text/markdown": [
       "\n",
       "| <!--/--> | Subject | Sex | Social | Order | Vocab | \n",
       "|---|---|---|---|---|---|\n",
       "| 85 | 29       | M        | Facebook | 3        |  46      | \n",
       "| 86 | 29       | M        | Twitter  | 1        |  38      | \n",
       "| 87 | 29       | M        | Gplus    | 2        |  22      | \n",
       "| 88 | 30       | F        | Facebook | 3        | 103      | \n",
       "| 89 | 30       | F        | Twitter  | 2        |  97      | \n",
       "| 90 | 30       | F        | Gplus    | 1        |  92      | \n",
       "\n",
       "\n"
      ],
      "text/plain": [
       "   Subject Sex Social   Order Vocab\n",
       "85 29      M   Facebook 3      46  \n",
       "86 29      M   Twitter  1      38  \n",
       "87 29      M   Gplus    2      22  \n",
       "88 30      F   Facebook 3     103  \n",
       "89 30      F   Twitter  2      97  \n",
       "90 30      F   Gplus    1      92  "
      ]
     },
     "metadata": {},
     "output_type": "display_data"
    }
   ],
   "source": [
    "tail(df)"
   ]
  },
  {
   "cell_type": "code",
   "execution_count": 269,
   "metadata": {
    "collapsed": true
   },
   "outputs": [],
   "source": [
    "df$Subject <- as.factor(df$Subject)\n",
    "df$Order <- as.factor(df$Order)"
   ]
  },
  {
   "cell_type": "markdown",
   "metadata": {},
   "source": [
    "Create an interaction plot with Social on the X-axis and Sex as the traces. How many times, if any, do these lines cross?"
   ]
  },
  {
   "cell_type": "code",
   "execution_count": 270,
   "metadata": {},
   "outputs": [
    {
     "data": {
      "image/png": "[encoded data removed]",
      "text/plain": [
       "plot without title"
      ]
     },
     "metadata": {},
     "output_type": "display_data"
    }
   ],
   "source": [
    "with(df, interaction.plot(Social, Sex, Vocab, ylim=c(0, max(df$Vocab))))"
   ]
  },
  {
   "cell_type": "markdown",
   "metadata": {},
   "source": [
    "Perform three Kolmogorov-Smirnov goodness-of-fit tests on Vocab for each level of Social using exponential distributions. To the nearest ten-thousandth (four digits), what is the lowest p-value of these three tests? Hint: Use the MASS library and its fitdistr function on Vocab separately for each level of Social. Use \"exponential\" as the distribution type. Save the estimate as a fit. Then use ks.test with \"pexp\" passing fit[1] as the rate and requesting an exact test. Ignore any warnings produced about ties."
   ]
  },
  {
   "cell_type": "code",
   "execution_count": 271,
   "metadata": {
    "collapsed": true
   },
   "outputs": [],
   "source": [
    "facebook <- df[df$Social==\"Facebook\", ]\n",
    "gplus <- df[df$Social==\"Gplus\",]\n",
    "twitter <- df[df$Social==\"Twitter\",]"
   ]
  },
  {
   "cell_type": "code",
   "execution_count": 272,
   "metadata": {},
   "outputs": [
    {
     "name": "stdout",
     "output_type": "stream",
     "text": [
      "     rate \n",
      "0.0102424 \n"
     ]
    },
    {
     "name": "stderr",
     "output_type": "stream",
     "text": [
      "Warning message in ks.test(facebook$Vocab, \"pexp\", rate = fit[1], exact = TRUE):\n",
      "\"ties should not be present for the Kolmogorov-Smirnov test\""
     ]
    },
    {
     "data": {
      "text/plain": [
       "\n",
       "\tOne-sample Kolmogorov-Smirnov test\n",
       "\n",
       "data:  facebook$Vocab\n",
       "D = 0.17655, p-value = 0.2734\n",
       "alternative hypothesis: two-sided\n"
      ]
     },
     "metadata": {},
     "output_type": "display_data"
    }
   ],
   "source": [
    "library(\"MASS\")\n",
    "\n",
    "fit <- fitdistr(facebook$Vocab, \"exponential\")$estimate\n",
    "print(fit)\n",
    "ks.test(facebook$Vocab, \"pexp\", rate = fit[1], exact=TRUE)"
   ]
  },
  {
   "cell_type": "code",
   "execution_count": 273,
   "metadata": {},
   "outputs": [
    {
     "name": "stdout",
     "output_type": "stream",
     "text": [
      "       rate \n",
      "0.004405286 \n"
     ]
    },
    {
     "data": {
      "text/plain": [
       "\n",
       "\tOne-sample Kolmogorov-Smirnov test\n",
       "\n",
       "data:  gplus$Vocab\n",
       "D = 0.14461, p-value = 0.5111\n",
       "alternative hypothesis: two-sided\n"
      ]
     },
     "metadata": {},
     "output_type": "display_data"
    }
   ],
   "source": [
    "fit <- fitdistr(gplus$Vocab, \"exponential\")$estimate\n",
    "print(fit)\n",
    "ks.test(gplus$Vocab, \"pexp\", rate = fit[1], exact=TRUE)"
   ]
  },
  {
   "cell_type": "code",
   "execution_count": 274,
   "metadata": {},
   "outputs": [
    {
     "name": "stdout",
     "output_type": "stream",
     "text": [
      "      rate \n",
      "0.01052632 \n"
     ]
    },
    {
     "name": "stderr",
     "output_type": "stream",
     "text": [
      "Warning message in ks.test(twitter$Vocab, \"pexp\", rate = fit[1], exact = TRUE):\n",
      "\"ties should not be present for the Kolmogorov-Smirnov test\""
     ]
    },
    {
     "data": {
      "text/plain": [
       "\n",
       "\tOne-sample Kolmogorov-Smirnov test\n",
       "\n",
       "data:  twitter$Vocab\n",
       "D = 0.099912, p-value = 0.8966\n",
       "alternative hypothesis: two-sided\n"
      ]
     },
     "metadata": {},
     "output_type": "display_data"
    }
   ],
   "source": [
    "fit <- fitdistr(twitter$Vocab, \"exponential\")$estimate\n",
    "print(fit)\n",
    "ks.test(twitter$Vocab, \"pexp\", rate = fit[1], exact=TRUE)"
   ]
  },
  {
   "cell_type": "markdown",
   "metadata": {},
   "source": [
    "Use a generalized linear mixed model (GLMM) to conduct a test of order effects on Vocab to ensure counterbalancing worked. To the nearest ten-thousandth (four digits), what is the p-value for the Order main effect? Hint: Use the lme4 library and its glmer function with family=Gamma(link=\"log\") and Subject as a random effect. Then use the car library and its Anova function with type=3. Prior to either, set sum-to-zero contrasts for Sex and Order."
   ]
  },
  {
   "cell_type": "code",
   "execution_count": 275,
   "metadata": {
    "collapsed": true
   },
   "outputs": [],
   "source": [
    "contrasts(df$Sex) <- \"contr.sum\"\n",
    "contrasts(df$Order) <- \"contr.sum\"\n",
    "contrasts(df$Social) <- \"contr.sum\""
   ]
  },
  {
   "cell_type": "code",
   "execution_count": 276,
   "metadata": {},
   "outputs": [
    {
     "data": {
      "text/html": [
       "<table>\n",
       "<thead><tr><th></th><th scope=col>Chisq</th><th scope=col>Df</th><th scope=col>Pr(&gt;Chisq)</th></tr></thead>\n",
       "<tbody>\n",
       "\t<tr><th scope=row>(Intercept)</th><td>1179.0833177 </td><td>1            </td><td>2.143438e-258</td></tr>\n",
       "\t<tr><th scope=row>Sex</th><td>   1.3686702 </td><td>1            </td><td> 2.420405e-01</td></tr>\n",
       "\t<tr><th scope=row>Order</th><td>   0.7000762 </td><td>2            </td><td> 7.046612e-01</td></tr>\n",
       "\t<tr><th scope=row>Sex:Order</th><td>   2.0654904 </td><td>2            </td><td> 3.560283e-01</td></tr>\n",
       "</tbody>\n",
       "</table>\n"
      ],
      "text/latex": [
       "\\begin{tabular}{r|lll}\n",
       "  & Chisq & Df & Pr(>Chisq)\\\\\n",
       "\\hline\n",
       "\t(Intercept) & 1179.0833177  & 1             & 2.143438e-258\\\\\n",
       "\tSex &    1.3686702  & 1             &  2.420405e-01\\\\\n",
       "\tOrder &    0.7000762  & 2             &  7.046612e-01\\\\\n",
       "\tSex:Order &    2.0654904  & 2             &  3.560283e-01\\\\\n",
       "\\end{tabular}\n"
      ],
      "text/markdown": [
       "\n",
       "| <!--/--> | Chisq | Df | Pr(>Chisq) | \n",
       "|---|---|---|---|\n",
       "| (Intercept) | 1179.0833177  | 1             | 2.143438e-258 | \n",
       "| Sex |    1.3686702  | 1             |  2.420405e-01 | \n",
       "| Order |    0.7000762  | 2             |  7.046612e-01 | \n",
       "| Sex:Order |    2.0654904  | 2             |  3.560283e-01 | \n",
       "\n",
       "\n"
      ],
      "text/plain": [
       "            Chisq        Df Pr(>Chisq)   \n",
       "(Intercept) 1179.0833177 1  2.143438e-258\n",
       "Sex            1.3686702 1   2.420405e-01\n",
       "Order          0.7000762 2   7.046612e-01\n",
       "Sex:Order      2.0654904 2   3.560283e-01"
      ]
     },
     "metadata": {},
     "output_type": "display_data"
    }
   ],
   "source": [
    "m <- glmer(Vocab ~ Sex * Order + (1|Subject), data=df, family=Gamma(link=\"log\"))\n",
    "Anova(m, type=3)"
   ]
  },
  {
   "cell_type": "markdown",
   "metadata": {},
   "source": [
    "Use a generalized linear mixed model (GLMM) to conduct a test of Vocab by Sex and Social. To the nearest ten-thousandth (four digits), what is the p-value for the interaction effect? Hint: Use the lme4 library and its glmer function with family=Gamma(link=\"log\") and Subject as a random effect. Then use the car library and its Anova function with type=3. Prior to either, set sum-to-zero contrasts for Sex and Social."
   ]
  },
  {
   "cell_type": "code",
   "execution_count": 277,
   "metadata": {},
   "outputs": [
    {
     "data": {
      "text/html": [
       "<table>\n",
       "<thead><tr><th></th><th scope=col>Chisq</th><th scope=col>Df</th><th scope=col>Pr(&gt;Chisq)</th></tr></thead>\n",
       "<tbody>\n",
       "\t<tr><th scope=row>(Intercept)</th><td>1172.6025660 </td><td>1            </td><td>5.490136e-257</td></tr>\n",
       "\t<tr><th scope=row>Sex</th><td>   0.7925102 </td><td>1            </td><td> 3.733422e-01</td></tr>\n",
       "\t<tr><th scope=row>Social</th><td>  26.2075224 </td><td>2            </td><td> 2.037553e-06</td></tr>\n",
       "\t<tr><th scope=row>Sex:Social</th><td>   0.3470458 </td><td>2            </td><td> 8.406979e-01</td></tr>\n",
       "</tbody>\n",
       "</table>\n"
      ],
      "text/latex": [
       "\\begin{tabular}{r|lll}\n",
       "  & Chisq & Df & Pr(>Chisq)\\\\\n",
       "\\hline\n",
       "\t(Intercept) & 1172.6025660  & 1             & 5.490136e-257\\\\\n",
       "\tSex &    0.7925102  & 1             &  3.733422e-01\\\\\n",
       "\tSocial &   26.2075224  & 2             &  2.037553e-06\\\\\n",
       "\tSex:Social &    0.3470458  & 2             &  8.406979e-01\\\\\n",
       "\\end{tabular}\n"
      ],
      "text/markdown": [
       "\n",
       "| <!--/--> | Chisq | Df | Pr(>Chisq) | \n",
       "|---|---|---|---|\n",
       "| (Intercept) | 1172.6025660  | 1             | 5.490136e-257 | \n",
       "| Sex |    0.7925102  | 1             |  3.733422e-01 | \n",
       "| Social |   26.2075224  | 2             |  2.037553e-06 | \n",
       "| Sex:Social |    0.3470458  | 2             |  8.406979e-01 | \n",
       "\n",
       "\n"
      ],
      "text/plain": [
       "            Chisq        Df Pr(>Chisq)   \n",
       "(Intercept) 1172.6025660 1  5.490136e-257\n",
       "Sex            0.7925102 1   3.733422e-01\n",
       "Social        26.2075224 2   2.037553e-06\n",
       "Sex:Social     0.3470458 2   8.406979e-01"
      ]
     },
     "metadata": {},
     "output_type": "display_data"
    }
   ],
   "source": [
    "m <- glmer(Vocab ~ Sex * Social + (1|Subject), data=df, family=Gamma(link=\"log\"))\n",
    "Anova(m, type=3)"
   ]
  },
  {
   "cell_type": "markdown",
   "metadata": {},
   "source": [
    "The only significant effect on Vocab was Social. Therefore, perform post hoc pairwise comparisons among levels of Social adjusted with Holm's sequential Bonferroni procedure. To the nearest ten-thousandth (four digits), what is the p-value of the only non-significant pairwise comparison? Hint: Use the multcomp library and its mcp function called from within its glht function. Ignore any warnings produced."
   ]
  },
  {
   "cell_type": "code",
   "execution_count": 278,
   "metadata": {},
   "outputs": [
    {
     "name": "stderr",
     "output_type": "stream",
     "text": [
      "NOTE: Results may be misleading due to involvement in interactions\n"
     ]
    },
    {
     "data": {
      "text/plain": [
       "\n",
       "\t Simultaneous Tests for General Linear Hypotheses\n",
       "\n",
       "Fit: glmer(formula = Vocab ~ Sex * Social + (1 | Subject), data = df, \n",
       "    family = Gamma(link = \"log\"))\n",
       "\n",
       "Linear Hypotheses:\n",
       "                        Estimate Std. Error z value Pr(>|z|)    \n",
       "Facebook - Gplus == 0    -0.8676     0.2092  -4.148 6.72e-05 ***\n",
       "Facebook - Twitter == 0   0.1128     0.2026   0.556    0.578    \n",
       "Gplus - Twitter == 0      0.9803     0.2071   4.734 6.60e-06 ***\n",
       "---\n",
       "Signif. codes:  0 '***' 0.001 '**' 0.01 '*' 0.05 '.' 0.1 ' ' 1\n",
       "(Adjusted p values reported -- holm method)\n"
      ]
     },
     "metadata": {},
     "output_type": "display_data"
    }
   ],
   "source": [
    "summary(glht(m, lsm(pairwise ~ Social)), test=adjusted(type=\"holm\"))"
   ]
  },
  {
   "cell_type": "markdown",
   "metadata": {},
   "source": [
    "In Module 8, you employed a generalized linear model (GLM) for ordinal logistic regression using the polr function from the MASS library. You also conducted a GLM for nominal logistic regression using the multinom function from the nnet library. \n",
    "\n",
    "It is reasonable to wonder whether variants of such functions exist for generalized linear mixed models (GLMMs), i.e., variants that can handle random effects and therefore repeated measures. Unfortunately, although certain approaches exist, they are arcane and difficult, and the R community has not converged upon any approach to categorical response models with random effects. \n",
    "\n",
    "Our lectures did not venture into such territory, but as a final topic pointing toward the future, here is a brief treatment of ordinal logistic regression with random effects. Let's begin by revisiting our file websearch3.csv from the course materials. Effort is a Likert-type response. How many ordered categories does Effort have? Hint: Recode Effort as an ordinal response."
   ]
  },
  {
   "cell_type": "code",
   "execution_count": 279,
   "metadata": {},
   "outputs": [
    {
     "data": {
      "text/html": [
       "<table>\n",
       "<thead><tr><th scope=col>Subject</th><th scope=col>Engine</th><th scope=col>Order</th><th scope=col>Searches</th><th scope=col>Effort</th></tr></thead>\n",
       "<tbody>\n",
       "\t<tr><td>1     </td><td>Google</td><td>1     </td><td>192   </td><td>3     </td></tr>\n",
       "\t<tr><td>1     </td><td>Bing  </td><td>2     </td><td>158   </td><td>5     </td></tr>\n",
       "\t<tr><td>1     </td><td>Yahoo </td><td>3     </td><td> 92   </td><td>4     </td></tr>\n",
       "\t<tr><td>2     </td><td>Google</td><td>1     </td><td> 93   </td><td>1     </td></tr>\n",
       "\t<tr><td>2     </td><td>Bing  </td><td>3     </td><td>151   </td><td>2     </td></tr>\n",
       "\t<tr><td>2     </td><td>Yahoo </td><td>2     </td><td>144   </td><td>7     </td></tr>\n",
       "\t<tr><td>3     </td><td>Google</td><td>2     </td><td>132   </td><td>4     </td></tr>\n",
       "\t<tr><td>3     </td><td>Bing  </td><td>1     </td><td>193   </td><td>2     </td></tr>\n",
       "\t<tr><td>3     </td><td>Yahoo </td><td>3     </td><td>119   </td><td>3     </td></tr>\n",
       "\t<tr><td>4     </td><td>Google</td><td>2     </td><td>141   </td><td>3     </td></tr>\n",
       "</tbody>\n",
       "</table>\n"
      ],
      "text/latex": [
       "\\begin{tabular}{r|lllll}\n",
       " Subject & Engine & Order & Searches & Effort\\\\\n",
       "\\hline\n",
       "\t 1      & Google & 1      & 192    & 3     \\\\\n",
       "\t 1      & Bing   & 2      & 158    & 5     \\\\\n",
       "\t 1      & Yahoo  & 3      &  92    & 4     \\\\\n",
       "\t 2      & Google & 1      &  93    & 1     \\\\\n",
       "\t 2      & Bing   & 3      & 151    & 2     \\\\\n",
       "\t 2      & Yahoo  & 2      & 144    & 7     \\\\\n",
       "\t 3      & Google & 2      & 132    & 4     \\\\\n",
       "\t 3      & Bing   & 1      & 193    & 2     \\\\\n",
       "\t 3      & Yahoo  & 3      & 119    & 3     \\\\\n",
       "\t 4      & Google & 2      & 141    & 3     \\\\\n",
       "\\end{tabular}\n"
      ],
      "text/markdown": [
       "\n",
       "Subject | Engine | Order | Searches | Effort | \n",
       "|---|---|---|---|---|---|---|---|---|---|\n",
       "| 1      | Google | 1      | 192    | 3      | \n",
       "| 1      | Bing   | 2      | 158    | 5      | \n",
       "| 1      | Yahoo  | 3      |  92    | 4      | \n",
       "| 2      | Google | 1      |  93    | 1      | \n",
       "| 2      | Bing   | 3      | 151    | 2      | \n",
       "| 2      | Yahoo  | 2      | 144    | 7      | \n",
       "| 3      | Google | 2      | 132    | 4      | \n",
       "| 3      | Bing   | 1      | 193    | 2      | \n",
       "| 3      | Yahoo  | 3      | 119    | 3      | \n",
       "| 4      | Google | 2      | 141    | 3      | \n",
       "\n",
       "\n"
      ],
      "text/plain": [
       "   Subject Engine Order Searches Effort\n",
       "1  1       Google 1     192      3     \n",
       "2  1       Bing   2     158      5     \n",
       "3  1       Yahoo  3      92      4     \n",
       "4  2       Google 1      93      1     \n",
       "5  2       Bing   3     151      2     \n",
       "6  2       Yahoo  2     144      7     \n",
       "7  3       Google 2     132      4     \n",
       "8  3       Bing   1     193      2     \n",
       "9  3       Yahoo  3     119      3     \n",
       "10 4       Google 2     141      3     "
      ]
     },
     "metadata": {},
     "output_type": "display_data"
    }
   ],
   "source": [
    "df <- read.csv(\"materials/websearch3.csv\")\n",
    "head(df, 10)"
   ]
  },
  {
   "cell_type": "code",
   "execution_count": 280,
   "metadata": {
    "collapsed": true
   },
   "outputs": [],
   "source": [
    "df$Order <- ordered(df$Order)\n",
    "df$Subject <- as.factor(df$Subject)\n",
    "df$Effort <- ordered(df$Effort)"
   ]
  },
  {
   "cell_type": "code",
   "execution_count": 281,
   "metadata": {},
   "outputs": [
    {
     "data": {
      "text/plain": [
       "    Subject      Engine   Order     Searches     Effort\n",
       " 1      : 3   Bing  :30   1:30   Min.   : 92.0   1: 6  \n",
       " 2      : 3   Google:30   2:30   1st Qu.:139.0   2: 8  \n",
       " 3      : 3   Yahoo :30   3:30   Median :161.0   3:19  \n",
       " 4      : 3                      Mean   :161.6   4:16  \n",
       " 5      : 3                      3rd Qu.:181.8   5:16  \n",
       " 6      : 3                      Max.   :236.0   6:15  \n",
       " (Other):72                                      7:10  "
      ]
     },
     "metadata": {},
     "output_type": "display_data"
    }
   ],
   "source": [
    "summary(df)"
   ]
  },
  {
   "cell_type": "markdown",
   "metadata": {},
   "source": [
    "Use a generalized linear mixed model (GLMM) for ordinal logistic regression to examine Effort by Engine. Specifically, we will use what is called a \"cumulative link mixed model\" (CLMM). We find the clmm function in the ordinal library. To produce significance tests, we use a special version of the Anova function from the RVAideMemoire library. There are two quirks. One is that we must remake our data frame before passing it to clmm. The second is that the output of Anova.clmm always indicates Type II tests regardless of whether the type parameter is 2 or 3. (With a Type II ANOVA, if an interaction is present, then main effects are ignored; not an issue for our one-way analysis of Effort by Engine here.) To the nearest ten-thousandth (four digits), what is the p-value of the Engine main effect? Hint: Here is the code to use:"
   ]
  },
  {
   "cell_type": "code",
   "execution_count": 282,
   "metadata": {},
   "outputs": [
    {
     "data": {
      "text/html": [
       "<table>\n",
       "<thead><tr><th></th><th scope=col>LR Chisq</th><th scope=col>Df</th><th scope=col>Pr(&gt;Chisq)</th></tr></thead>\n",
       "<tbody>\n",
       "\t<tr><th scope=row>Engine</th><td>8.102007 </td><td>2        </td><td>0.0174049</td></tr>\n",
       "</tbody>\n",
       "</table>\n"
      ],
      "text/latex": [
       "\\begin{tabular}{r|lll}\n",
       "  & LR Chisq & Df & Pr(>Chisq)\\\\\n",
       "\\hline\n",
       "\tEngine & 8.102007  & 2         & 0.0174049\\\\\n",
       "\\end{tabular}\n"
      ],
      "text/markdown": [
       "\n",
       "| <!--/--> | LR Chisq | Df | Pr(>Chisq) | \n",
       "|---|\n",
       "| Engine | 8.102007  | 2         | 0.0174049 | \n",
       "\n",
       "\n"
      ],
      "text/plain": [
       "       LR Chisq Df Pr(>Chisq)\n",
       "Engine 8.102007 2  0.0174049 "
      ]
     },
     "metadata": {},
     "output_type": "display_data"
    }
   ],
   "source": [
    "library(\"ordinal\") # for clmm\n",
    "library(\"RVAideMemoire\") # for Anova.clmm\n",
    "df2 <- as.data.frame(df) # copy\n",
    "m <- clmm(Effort ~ Engine + (1|Subject), data=df2)\n",
    "Anova.clmm(m, type=3)"
   ]
  },
  {
   "cell_type": "markdown",
   "metadata": {},
   "source": [
    "In light of the significant main effect of Engine on Effort, post hoc pairwise comparisons are justified among the levels of Engine. For simplicity, we’ll treat Effort now as a numeric response. Plot the Effort ratings by Engine and perform pairwise comparisons with the following code. To the nearest ten-thousandth (four digits), what is the p-value of the one non-significant pairwise comparison?"
   ]
  },
  {
   "cell_type": "code",
   "execution_count": 283,
   "metadata": {},
   "outputs": [
    {
     "data": {
      "text/plain": [
       "\n",
       "\t Simultaneous Tests for General Linear Hypotheses\n",
       "\n",
       "Multiple Comparisons of Means: Tukey Contrasts\n",
       "\n",
       "\n",
       "Fit: lmer(formula = as.numeric(Effort) ~ Engine + (1 | Subject), data = df2)\n",
       "\n",
       "Linear Hypotheses:\n",
       "                    Estimate Std. Error z value Pr(>|z|)  \n",
       "Google - Bing == 0  -0.03333    0.42899  -0.078   0.9381  \n",
       "Yahoo - Bing == 0    1.10000    0.42899   2.564   0.0247 *\n",
       "Yahoo - Google == 0  1.13333    0.42899   2.642   0.0247 *\n",
       "---\n",
       "Signif. codes:  0 '***' 0.001 '**' 0.01 '*' 0.05 '.' 0.1 ' ' 1\n",
       "(Adjusted p values reported -- holm method)\n"
      ]
     },
     "metadata": {},
     "output_type": "display_data"
    },
    {
     "data": {
      "image/png": "[encoded data removed]",
      "text/plain": [
       "plot without title"
      ]
     },
     "metadata": {},
     "output_type": "display_data"
    }
   ],
   "source": [
    "plot(as.numeric(Effort) ~ Engine, data=df2)\n",
    "\n",
    "m <- lmer(as.numeric(Effort) ~ Engine + (1|Subject), data=df2)\n",
    "summary(glht(m, mcp(Engine=\"Tukey\")), test=adjusted(type=\"holm\"))"
   ]
  },
  {
   "cell_type": "code",
   "execution_count": null,
   "metadata": {
    "collapsed": true
   },
   "outputs": [],
   "source": []
  }
 ],
 "metadata": {
  "kernelspec": {
   "display_name": "R",
   "language": "R",
   "name": "ir"
  },
  "language_info": {
   "codemirror_mode": "r",
   "file_extension": ".r",
   "mimetype": "text/x-r-source",
   "name": "R",
   "pygments_lexer": "r",
   "version": "3.4.1"
  }
 },
 "nbformat": 4,
 "nbformat_minor": 2
}
