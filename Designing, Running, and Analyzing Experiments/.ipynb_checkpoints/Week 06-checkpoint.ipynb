{
 "cells": [
  {
   "cell_type": "markdown",
   "metadata": {},
   "source": [
    "# Introduction\n",
    "\n",
    "So far, we've considered analysis of vairance and nonparametric tests for between subject factors only, where each subject only gets one level (or one treatment) of all the possible level of a factor. \n",
    "\n",
    "Now let's consider within-subjects factors and here's the scenario we'll work for from..."
   ]
  },
  {
   "cell_type": "markdown",
   "metadata": {
    "collapsed": true
   },
   "source": [
    "Let's say 20 subjects interact with a smartphone contacts manager to find a set of contacts that they're assigned to look up and they do this initially in 2 ways. These 20 subjects each use 2 techniques. One is searching, typing text, and looking through the context manager that way/ And the other technique they use is scrolling. Just scrolling a list and visually looking for contacts in the list. \n",
    "\n",
    "Later, we'll add a third technique they'll use, which would be voice search. Sepaking the name of contacts and trying to look them up that way. Of course, this is just fictitious data for our use in this course. \n",
    "\n",
    "The things we measure will be total time and number of selection errors. So we're measuring both time to find a contact and the number of errors made (where someone selects the wrong contact). Perhaps moving quickly and tapping the wrong name or other kinds of errors may come up. \n",
    "\n",
    "Subjects will also rate their effort on a 1-7 scale (called a Likert scale). So we get some subjective feedback about how much effort they think each technique take. \n",
    "\n",
    "To put this down, we have 20 subjects. We have 3 techniques, initially 2 then 3 and they are \"Search\", \"Scroll\", and later \"Voice\". \n",
    "\n",
    "And the measures that we want are the time to find the context, the number of errors made, and the effort on a 1-7 scale (Likert Scale). \n",
    "\n",
    "These are getting a little bit more interesting than what we've looked at before. But we're able to take on more complicated analyses because we have a more sophisticated analyses at our disposal. \n",
    "\n",
    "We can ask ourselves with this one factor called technique with 3 levels or 2 level initially. It's a nominal factor or categorical as we've seen before. We have time which is a dependent variable or response variable. Time is a numeric result. We also have errors, which is also numeric. \n",
    "\n",
    "And effort...this would be called ordinal measure because a 1-7 scale (while it's a number) is an ordered scale. The gap conceptually for a person between 2 and 3 may not be how they perceive the gap between 6 and 7 or 5 and 6. Those gaps may be bigger or smaller. They're more of a subject concept. So that's called an ordinal variable where you know there's an order but you don't know the distance between each step in that order. \n",
    "\n",
    "Now...is the technique a within or between subjects variable?\n",
    "\n",
    "Well...we said each of the 20 subjects does all 3 techniques so therefore, it would be a within subjects variable (factor). \n",
    "\n",
    "These are also called repeated measures. \n",
    "\n",
    "And you'll see those terms used interchangeably, it's important to understand they're the same thing. \n",
    "\n",
    "Now..let's ask ourselves, when should we use within subjects variables vs between subjects variables?\n",
    "\n",
    "What would be the considerations there?\n",
    "\n",
    "The short answer is...you should use within subjects variable whenever you can. \n",
    "\n",
    "Why is that? For one thing, it takes many fewer subjects to get the same amount of data. We would need 60 subjects if each subject only did one of the techniques. But we'd need 20 if they each do all three. \n",
    "\n",
    "So we have more data from fewer subjects we have to recruit. \n",
    "\n",
    "It's also preferable because we want to remember that experiments are designed to detect differences. Well, what are the differences that we're looking for here between the 3 different techniques? We want to know in our measures if those 3 techniques perform differently. And when we're trying to detect differences, we're doing that against a backdrop of natural variation, measurement error, and general noise. So anything that reduces the variances in our measurements is a good thing. Leaving to stand out, hopefully, the variance or differences in the things we care about. \n",
    "\n",
    "And so, when we have within subject studies, the variance is less than if we have between subject studies..because you are more like than you are like anyone else. Every subject is more like themselves than they are anyone else. And so, that reduces individual differences and the variance that rises as a result. \n",
    "\n",
    "But there's one very important challenge with within subjects factors, and that is the potential for carry-over effects. That's because each subject does all three. \n",
    "\n",
    "We have to be careful that the order that they do them in is not causing them to perform differently than they would if they only did one each, and we had a between subject study. We have to be careful that we're not introducing a form of confounds. \n",
    "\n",
    "We've talked about confounds before. Now, carryover effects are a major source of confounds and within subjects' studies because the order we present things in can confound the result. \n",
    "\n",
    "So what are the kinds of carryover effects that arise in within subject studies? Examples are fatigue, practice effects, boredom, or skill transfer, where being in search made you better at scrolling or being in scrolling made you better at voice and we presented them in a certain order. Then we might be in fact differentially affecting future conditions based on prior ones, those are skill transfer effects. \n",
    "\n",
    "How would we test for an order effect? Turns out we can know if they're happening. But we have to encode another variable in our dataset. And that variable would be the presentation order of the conditions. So we have technique as a variable but we'd also add to our set the variable order or maybe technique order. \n",
    "\n",
    "And we'd encode that with just say one, two, or in a case of voice being added, three for which order was the measure taken in. And then we simply do a test like we would on technique to know the difference between the techniques. We do a test on order 1, 2, or 3 to see if there's a difference and the result just based on the order that things were shown in. And I obviously hope there is not such a difference. That would mean we don't have an order effect. So we want to think ahead to make sure we log that as part of our data. \n",
    "\n",
    "It still elaves open the question though. How are these orders assigned? How are orders one, two, and three actually put together? And for that, we want to go to our counterbalancing schemes. \n",
    "\n",
    "\n",
    "\n",
    "\n",
    "\n",
    "\n",
    "\n",
    "\n",
    "\n",
    "\n",
    "\n",
    "\n"
   ]
  },
  {
   "cell_type": "markdown",
   "metadata": {},
   "source": [
    "# Counterbalancing repeated measures factors"
   ]
  },
  {
   "cell_type": "markdown",
   "metadata": {},
   "source": [
    "So we've just been discussing the schemes for how we would assign the presentation order of techniques in our study to avoid carryover effects that introduce confounds to our results. The study we're considering again is a within-subjects design where subjects use 3 different techniques to find contacts in a smart phone contacts manager, and we measure the time it takes, the errors they make, and the effort rating that they give each ofo those techniques. So let's talk about how we assigned order of presentation more generally and how that helps us avoid confounds due to carryover effects. There are 3 strategies that we'll consider. \n",
    "\n",
    "We're going to look at full counterbalancing, latin squares, and balanced latin square. \n",
    "\n",
    "Let's start with full counterbalancing. \n",
    "\n",
    "Full counterbalancing is where every possible ordering of conditions is expressed in your study. And it is, when you can do it, the best way to counterbalance the presentation order of your factors. So with full counterbalancing, we have every order expressed. Let's say we have 2 levels of a within-subjects factor. So 2 conditions, let's call them A and B. Full counterbalancing would present A and then B, and then B and then A to the subjects. Because we have 2 sequences, we could say half the subjects or every other subject coming, first would see A then would see B. The other half would see B and then A. So with 2 levels, we need 2 factorial sequences or just 2 sequences. You can see with this factorial operator things are going to grow quickly. With 3 conditions, we'd need A, B, and C. We'd need A/C/B, B/C/A, C/A/B, and C/B/A. Whoa...that went big fast! We now have 6. With 3, we have 6 sequences that need to be expressed. We'd need a study that had subjects that are multiples of 6 in number so 6 subjects or 12 or 18 or 24 subjects, to make sure we have a balanced expression across all 6 sequences. With 4 conditions, I won't even draw them but we'd need 24 sequences. With 5, we'd need 120 sequences (5 factorial = 120). And with 6, it gets unweildy. That's full counterbalancing, expressing every order of conditions that can happen. \n",
    "\n",
    "And we'd need a lot of subjects to make sure we cover all of those orders. So if you can do full counterbalancing, that's the best thing to do. \n",
    "\n",
    "<img src=\"materials/FullCounterBalancing.JPG\">\n",
    "\n",
    "Let's consider something called Latin Squares. \n",
    "\n",
    "Latin Squares just need n sequences for n conditions and therefore, multiples of n subjects. So that sounds nice. And it has the property where each condition occupies each position in the order exactly the same number of times. We'll go with 5 conditions and we'll call them A, B, C, D, and E. \n",
    "\n",
    "And what you do is you start off with your top sequence and then you kind of rotate them around. \n",
    "\n",
    "So...A B C D E // B C D E A // C D E A B // D E A B C // E A B C D. You can see with this Latin Square of 5 conditions, every condition occupies each position in the sequence the same number of times. For example, they're all first once, they're all second once, they're all third once, and so on. \n",
    "\n",
    "There's still a challenge here, though, which is that not all conditions follow the other conditions in exactly the same number of times. For example, C follows A sometimes. \n",
    "\n",
    "<img src=\"materials/LatinSquares.JPG\">\n",
    "\n",
    "That wouldn't be the case for E following A. So we still could have carryover effects and we'll look into solving that with the balanced Latin Square. \n",
    "\n",
    "So we're discussing counterbalancing strategies for within-subjects variables. And we've talked about full counterbalancing and latin square. \n",
    "\n",
    "Now I want to discuss a Balanced Latin Square. The way it works is this. Let's first assume we have an even number of conditions. Let's say we'll do an example with six that I've drawn up here. But let me point how this is structured. The way it works is the top row starts with a formula. \n",
    "\n",
    "And instead of using letters like we did before, to make it easier to see how this works, let's use numbers. So you have condition 1 then 2 then n. \n",
    "\n",
    "<img src=\"materials/BalancedLatinSquares.JPG\">"
   ]
  },
  {
   "cell_type": "markdown",
   "metadata": {
    "collapsed": true
   },
   "source": [
    "The yellow is for even number of conditions. If you have an odd number, it's not too much more complicated. You simply build the same initial table and then you double the size of that table by reversing all the rows that you just established (in pink). \n",
    "\n",
    "Notice that with 6 conditions, we'd need 6 multiples of 6 subjects. With 5 conditions, we'd need multiples of not 5 but 10 because we'd double our table with this sort of second half-reversed. That's how we create a Balanced Latin Square. "
   ]
  },
  {
   "cell_type": "markdown",
   "metadata": {},
   "source": [
    "# Long vs Wide format tables\n",
    "\n",
    "<img src=\"materials/LongWideFormat.JPG\">\n",
    "\n",
    "Most analyses require a long format table. They're nice because they're easy to write in log files after each trial in an experiment. So a subject find a contact or does a text entry phrrase or performs some other kind of task and you write out that line in a table. But some analyses require wide format tables. "
   ]
  },
  {
   "cell_type": "markdown",
   "metadata": {},
   "source": [
    "# Paired T-Test & Wilcoxon Signed Rank Test\n",
    "\n",
    "We're analyzing our study of human performance in a smart phone contacts managers, where people are finding contacts with search and scrolling initially. Then we'll consider voice later on. \n",
    "\n",
    "This is our first within subjects analysis. And that's going to be a paired samples T Test. Recall before when we did T Tests, they were independent samples T Test. So you can think of this as a within subjects T Test. "
   ]
  },
  {
   "cell_type": "code",
   "execution_count": 2,
   "metadata": {},
   "outputs": [
    {
     "data": {
      "text/html": [
       "<table>\n",
       "<thead><tr><th scope=col>Subject</th><th scope=col>Technique</th><th scope=col>Order</th><th scope=col>Time</th><th scope=col>Errors</th><th scope=col>Effort</th></tr></thead>\n",
       "<tbody>\n",
       "\t<tr><td>1     </td><td>Search</td><td>1     </td><td> 98   </td><td>4     </td><td>5     </td></tr>\n",
       "\t<tr><td>1     </td><td>Scroll</td><td>2     </td><td>152   </td><td>0     </td><td>6     </td></tr>\n",
       "\t<tr><td>2     </td><td>Search</td><td>2     </td><td> 57   </td><td>2     </td><td>2     </td></tr>\n",
       "\t<tr><td>2     </td><td>Scroll</td><td>1     </td><td>148   </td><td>0     </td><td>3     </td></tr>\n",
       "\t<tr><td>3     </td><td>Search</td><td>1     </td><td> 86   </td><td>3     </td><td>2     </td></tr>\n",
       "\t<tr><td>3     </td><td>Scroll</td><td>2     </td><td>160   </td><td>0     </td><td>4     </td></tr>\n",
       "</tbody>\n",
       "</table>\n"
      ],
      "text/latex": [
       "\\begin{tabular}{r|llllll}\n",
       " Subject & Technique & Order & Time & Errors & Effort\\\\\n",
       "\\hline\n",
       "\t 1      & Search & 1      &  98    & 4      & 5     \\\\\n",
       "\t 1      & Scroll & 2      & 152    & 0      & 6     \\\\\n",
       "\t 2      & Search & 2      &  57    & 2      & 2     \\\\\n",
       "\t 2      & Scroll & 1      & 148    & 0      & 3     \\\\\n",
       "\t 3      & Search & 1      &  86    & 3      & 2     \\\\\n",
       "\t 3      & Scroll & 2      & 160    & 0      & 4     \\\\\n",
       "\\end{tabular}\n"
      ],
      "text/markdown": [
       "\n",
       "Subject | Technique | Order | Time | Errors | Effort | \n",
       "|---|---|---|---|---|---|\n",
       "| 1      | Search | 1      |  98    | 4      | 5      | \n",
       "| 1      | Scroll | 2      | 152    | 0      | 6      | \n",
       "| 2      | Search | 2      |  57    | 2      | 2      | \n",
       "| 2      | Scroll | 1      | 148    | 0      | 3      | \n",
       "| 3      | Search | 1      |  86    | 3      | 2      | \n",
       "| 3      | Scroll | 2      | 160    | 0      | 4      | \n",
       "\n",
       "\n"
      ],
      "text/plain": [
       "  Subject Technique Order Time Errors Effort\n",
       "1 1       Search    1      98  4      5     \n",
       "2 1       Scroll    2     152  0      6     \n",
       "3 2       Search    2      57  2      2     \n",
       "4 2       Scroll    1     148  0      3     \n",
       "5 3       Search    1      86  3      2     \n",
       "6 3       Scroll    2     160  0      4     "
      ]
     },
     "metadata": {},
     "output_type": "display_data"
    }
   ],
   "source": [
    "# paired samples T-Test\n",
    "\n",
    "srchscrl <- read.csv(\"materials/srchscrl.csv\")\n",
    "head(srchscrl)"
   ]
  },
  {
   "cell_type": "markdown",
   "metadata": {},
   "source": [
    "We can test for an order effect of technique and make sure our counter-balancing worked. Incidentally, in this study, we fully counter balanced things because it's only an order variable of only 2 levels. We have measures of time in seconds to find a contact, errors, and effort as a rating on a type scale at 1 to 7 rating. So we'll be able to cover how those are done. We will turn subject and order into factors"
   ]
  },
  {
   "cell_type": "code",
   "execution_count": 3,
   "metadata": {},
   "outputs": [
    {
     "data": {
      "text/plain": [
       "    Subject    Technique  Order       Time           Errors         Effort \n",
       " 1      : 2   Scroll:20   1:20   Min.   : 49.0   Min.   :0.00   Min.   :1  \n",
       " 2      : 2   Search:20   2:20   1st Qu.: 94.5   1st Qu.:0.75   1st Qu.:3  \n",
       " 3      : 2                      Median :112.5   Median :1.50   Median :4  \n",
       " 4      : 2                      Mean   :117.0   Mean   :1.60   Mean   :4  \n",
       " 5      : 2                      3rd Qu.:148.2   3rd Qu.:2.25   3rd Qu.:5  \n",
       " 6      : 2                      Max.   :192.0   Max.   :4.00   Max.   :7  \n",
       " (Other):28                                                                "
      ]
     },
     "metadata": {},
     "output_type": "display_data"
    }
   ],
   "source": [
    "srchscrl$Subject <- as.factor(srchscrl$Subject)\n",
    "srchscrl$Order <- as.factor(srchscrl$Order)\n",
    "summary(srchscrl)"
   ]
  },
  {
   "cell_type": "code",
   "execution_count": 4,
   "metadata": {
    "collapsed": true
   },
   "outputs": [],
   "source": [
    "search <- srchscrl[srchscrl$Technique == \"Search\", ]\n",
    "scroll <- srchscrl[srchscrl$Technique == \"Scroll\", ]"
   ]
  },
  {
   "cell_type": "code",
   "execution_count": 5,
   "metadata": {},
   "outputs": [
    {
     "data": {
      "image/png": "[encoded data removed]",
      "text/plain": [
       "Plot with title \"Histogram of search$Time\""
      ]
     },
     "metadata": {},
     "output_type": "display_data"
    }
   ],
   "source": [
    "hist(search$Time)"
   ]
  },
  {
   "cell_type": "code",
   "execution_count": 6,
   "metadata": {},
   "outputs": [
    {
     "data": {
      "image/png": "[encoded data removed]",
      "text/plain": [
       "Plot with title \"Histogram of scroll$Time\""
      ]
     },
     "metadata": {},
     "output_type": "display_data"
    }
   ],
   "source": [
    "hist(scroll$Time)"
   ]
  },
  {
   "cell_type": "code",
   "execution_count": 7,
   "metadata": {},
   "outputs": [
    {
     "data": {
      "image/png": "[encoded data removed]",
      "text/plain": [
       "plot without title"
      ]
     },
     "metadata": {},
     "output_type": "display_data"
    }
   ],
   "source": [
    "plot(Time ~ Technique, data=srchscrl)"
   ]
  },
  {
   "cell_type": "markdown",
   "metadata": {},
   "source": [
    "It would seem like there's a difference but we can't just compare the means. So we look at the standard deviations around those means. The boxplots help us see that it looks like there's a big difference between the 2 means of the 2 techniques. Let's do the shapiro test for normality on the data. "
   ]
  },
  {
   "cell_type": "code",
   "execution_count": 8,
   "metadata": {},
   "outputs": [
    {
     "data": {
      "text/plain": [
       "\n",
       "\tShapiro-Wilk normality test\n",
       "\n",
       "data:  search$Time\n",
       "W = 0.96858, p-value = 0.7247\n"
      ]
     },
     "metadata": {},
     "output_type": "display_data"
    },
    {
     "data": {
      "text/plain": [
       "\n",
       "\tShapiro-Wilk normality test\n",
       "\n",
       "data:  scroll$Time\n",
       "W = 0.91836, p-value = 0.09213\n"
      ]
     },
     "metadata": {},
     "output_type": "display_data"
    }
   ],
   "source": [
    "# test anova assumptions\n",
    "\n",
    "shapiro.test(search$Time)\n",
    "shapiro.test(scroll$Time)"
   ]
  },
  {
   "cell_type": "markdown",
   "metadata": {},
   "source": [
    "Both tests result in p-values > 0.05. Therefore, we cannot reject the null hypotheses. We can assume normality. Of course, we want to fit a model to the residuals for the testing of the normality assumption as well. And here it warrants a little note about how our syntax works. So we're fitting in an analysis of variance model as we've done before. \n",
    "\n",
    "And we have the technique factor which is our one within subject's factor. But we have to tell R that there are repeated measures on the same subject. And we do that with a function called error that you add in as a factor to the equation, to the model. "
   ]
  },
  {
   "cell_type": "code",
   "execution_count": 9,
   "metadata": {
    "collapsed": true
   },
   "outputs": [],
   "source": [
    "# fit a model for testing residuals\n",
    "# the error function is used to indicate\n",
    "# within-subject effects. \n",
    "# example: each subject was exposed to all levels of \n",
    "# technique. Error(S/(A*B*C)) means each S was exposed\n",
    "# to every level of A, B, C. And S is a column \n",
    "# encoding subject IDs. \n",
    "\n",
    "m <- aov(Time ~ Technique + Error(Subject/Technique), \n",
    "            data=srchscrl)\n"
   ]
  },
  {
   "cell_type": "code",
   "execution_count": 10,
   "metadata": {},
   "outputs": [
    {
     "data": {
      "text/plain": [
       "\n",
       "\tShapiro-Wilk normality test\n",
       "\n",
       "data:  residuals_m_subject\n",
       "W = 0.9603, p-value = 0.5783\n"
      ]
     },
     "metadata": {},
     "output_type": "display_data"
    },
    {
     "data": {
      "image/png": "[encoded data removed]",
      "text/plain": [
       "Plot with title \"Normal Q-Q Plot\""
      ]
     },
     "metadata": {},
     "output_type": "display_data"
    }
   ],
   "source": [
    "# residuals for Subject\n",
    "residuals_m_subject <- residuals(m$Subject)\n",
    "\n",
    "shapiro.test(residuals_m_subject)\n",
    "\n",
    "qqnorm(residuals_m_subject); \n",
    "qqline(residuals_m_subject)"
   ]
  },
  {
   "cell_type": "markdown",
   "metadata": {},
   "source": [
    "It looks pretty normal. Then we also look at the residuals for the subject technique term as well. "
   ]
  },
  {
   "cell_type": "code",
   "execution_count": 11,
   "metadata": {},
   "outputs": [
    {
     "data": {
      "text/plain": [
       "\n",
       "\tShapiro-Wilk normality test\n",
       "\n",
       "data:  residuals_m_subj_technique\n",
       "W = 0.97303, p-value = 0.8172\n"
      ]
     },
     "metadata": {},
     "output_type": "display_data"
    },
    {
     "data": {
      "image/png": "[encoded data removed]",
      "text/plain": [
       "Plot with title \"Normal Q-Q Plot\""
      ]
     },
     "metadata": {},
     "output_type": "display_data"
    }
   ],
   "source": [
    "# residuals for technique\n",
    "residuals_m_subj_technique <- residuals(m$`Subject:Technique`)\n",
    "\n",
    "shapiro.test(residuals_m_subj_technique)\n",
    "\n",
    "qqnorm(residuals_m_subj_technique); \n",
    "qqline(residuals_m_subj_technique)"
   ]
  },
  {
   "cell_type": "markdown",
   "metadata": {},
   "source": [
    "Because of it being within subject's factor. There's a little departure in the corner but for the most part, it looks pretty reasonable and normal. \n",
    "\n",
    "Now we should also check the homoscedascity with the Levene's Test. "
   ]
  },
  {
   "cell_type": "code",
   "execution_count": 12,
   "metadata": {},
   "outputs": [
    {
     "data": {
      "text/html": [
       "<table>\n",
       "<thead><tr><th></th><th scope=col>Df</th><th scope=col>F value</th><th scope=col>Pr(&gt;F)</th></tr></thead>\n",
       "<tbody>\n",
       "\t<tr><th scope=row>group</th><td> 1      </td><td>2.008776</td><td>0.164539</td></tr>\n",
       "\t<tr><th scope=row> </th><td>38      </td><td>      NA</td><td>      NA</td></tr>\n",
       "</tbody>\n",
       "</table>\n"
      ],
      "text/latex": [
       "\\begin{tabular}{r|lll}\n",
       "  & Df & F value & Pr(>F)\\\\\n",
       "\\hline\n",
       "\tgroup &  1       & 2.008776 & 0.164539\\\\\n",
       "\t  & 38       &       NA &       NA\\\\\n",
       "\\end{tabular}\n"
      ],
      "text/markdown": [
       "\n",
       "| <!--/--> | Df | F value | Pr(>F) | \n",
       "|---|---|\n",
       "| group |  1       | 2.008776 | 0.164539 | \n",
       "|   | 38       |       NA |       NA | \n",
       "\n",
       "\n"
      ],
      "text/plain": [
       "      Df F value  Pr(>F)  \n",
       "group  1 2.008776 0.164539\n",
       "      38       NA       NA"
      ]
     },
     "metadata": {},
     "output_type": "display_data"
    }
   ],
   "source": [
    "# homoscedasticity\n",
    "library(\"car\")\n",
    "\n",
    "# Brown-Forsythe\n",
    "leveneTest(Time ~ Technique, data=srchscrl, center=median) "
   ]
  },
  {
   "cell_type": "markdown",
   "metadata": {},
   "source": [
    "P-value is above 0.05 so we fail to reject the null hypothesis that there is no difference. Now let's look and see if there's an order effect to make sure that our counterbalancing worked. \n",
    "\n",
    "And for that, we're going to have to use a wide format table. And remember, a wide format table includes all the measures for a subject in a given row. We can do that with the reshape library. Our counterbalancing for 2 techniques was fully counterbalanced. Because with 2 technique, there's just 2 sequences so that's easy to cover. "
   ]
  },
  {
   "cell_type": "code",
   "execution_count": 13,
   "metadata": {},
   "outputs": [
    {
     "data": {
      "text/html": [
       "<table>\n",
       "<thead><tr><th scope=col>Subject</th><th scope=col>Technique</th><th scope=col>Order</th><th scope=col>Time</th><th scope=col>Errors</th><th scope=col>Effort</th></tr></thead>\n",
       "<tbody>\n",
       "\t<tr><td>1     </td><td>Search</td><td>1     </td><td> 98   </td><td>4     </td><td>5     </td></tr>\n",
       "\t<tr><td>1     </td><td>Scroll</td><td>2     </td><td>152   </td><td>0     </td><td>6     </td></tr>\n",
       "\t<tr><td>2     </td><td>Search</td><td>2     </td><td> 57   </td><td>2     </td><td>2     </td></tr>\n",
       "\t<tr><td>2     </td><td>Scroll</td><td>1     </td><td>148   </td><td>0     </td><td>3     </td></tr>\n",
       "\t<tr><td>3     </td><td>Search</td><td>1     </td><td> 86   </td><td>3     </td><td>2     </td></tr>\n",
       "\t<tr><td>3     </td><td>Scroll</td><td>2     </td><td>160   </td><td>0     </td><td>4     </td></tr>\n",
       "</tbody>\n",
       "</table>\n"
      ],
      "text/latex": [
       "\\begin{tabular}{r|llllll}\n",
       " Subject & Technique & Order & Time & Errors & Effort\\\\\n",
       "\\hline\n",
       "\t 1      & Search & 1      &  98    & 4      & 5     \\\\\n",
       "\t 1      & Scroll & 2      & 152    & 0      & 6     \\\\\n",
       "\t 2      & Search & 2      &  57    & 2      & 2     \\\\\n",
       "\t 2      & Scroll & 1      & 148    & 0      & 3     \\\\\n",
       "\t 3      & Search & 1      &  86    & 3      & 2     \\\\\n",
       "\t 3      & Scroll & 2      & 160    & 0      & 4     \\\\\n",
       "\\end{tabular}\n"
      ],
      "text/markdown": [
       "\n",
       "Subject | Technique | Order | Time | Errors | Effort | \n",
       "|---|---|---|---|---|---|\n",
       "| 1      | Search | 1      |  98    | 4      | 5      | \n",
       "| 1      | Scroll | 2      | 152    | 0      | 6      | \n",
       "| 2      | Search | 2      |  57    | 2      | 2      | \n",
       "| 2      | Scroll | 1      | 148    | 0      | 3      | \n",
       "| 3      | Search | 1      |  86    | 3      | 2      | \n",
       "| 3      | Scroll | 2      | 160    | 0      | 4      | \n",
       "\n",
       "\n"
      ],
      "text/plain": [
       "  Subject Technique Order Time Errors Effort\n",
       "1 1       Search    1      98  4      5     \n",
       "2 1       Scroll    2     152  0      6     \n",
       "3 2       Search    2      57  2      2     \n",
       "4 2       Scroll    1     148  0      3     \n",
       "5 3       Search    1      86  3      2     \n",
       "6 3       Scroll    2     160  0      4     "
      ]
     },
     "metadata": {},
     "output_type": "display_data"
    }
   ],
   "source": [
    "head(srchscrl)"
   ]
  },
  {
   "cell_type": "code",
   "execution_count": 14,
   "metadata": {},
   "outputs": [
    {
     "data": {
      "text/html": [
       "<table>\n",
       "<thead><tr><th scope=col>Subject</th><th scope=col>1</th><th scope=col>2</th></tr></thead>\n",
       "<tbody>\n",
       "\t<tr><td>1  </td><td> 98</td><td>152</td></tr>\n",
       "\t<tr><td>2  </td><td>148</td><td> 57</td></tr>\n",
       "\t<tr><td>3  </td><td> 86</td><td>160</td></tr>\n",
       "\t<tr><td>4  </td><td>113</td><td> 65</td></tr>\n",
       "\t<tr><td>5  </td><td>102</td><td>181</td></tr>\n",
       "\t<tr><td>6  </td><td> 70</td><td>126</td></tr>\n",
       "</tbody>\n",
       "</table>\n"
      ],
      "text/latex": [
       "\\begin{tabular}{r|lll}\n",
       " Subject & 1 & 2\\\\\n",
       "\\hline\n",
       "\t 1   &  98 & 152\\\\\n",
       "\t 2   & 148 &  57\\\\\n",
       "\t 3   &  86 & 160\\\\\n",
       "\t 4   & 113 &  65\\\\\n",
       "\t 5   & 102 & 181\\\\\n",
       "\t 6   &  70 & 126\\\\\n",
       "\\end{tabular}\n"
      ],
      "text/markdown": [
       "\n",
       "Subject | 1 | 2 | \n",
       "|---|---|---|---|---|---|\n",
       "| 1   |  98 | 152 | \n",
       "| 2   | 148 |  57 | \n",
       "| 3   |  86 | 160 | \n",
       "| 4   | 113 |  65 | \n",
       "| 5   | 102 | 181 | \n",
       "| 6   |  70 | 126 | \n",
       "\n",
       "\n"
      ],
      "text/plain": [
       "  Subject 1   2  \n",
       "1 1        98 152\n",
       "2 2       148  57\n",
       "3 3        86 160\n",
       "4 4       113  65\n",
       "5 5       102 181\n",
       "6 6        70 126"
      ]
     },
     "metadata": {},
     "output_type": "display_data"
    }
   ],
   "source": [
    "# now test for an order effect\n",
    "# did the counterbalancing work?\n",
    "library(\"reshape2\")\n",
    "\n",
    "\n",
    "# for a paired samples t test, we must use a wide-format\n",
    "# table. dcast() offers a quick way to translate long-format\n",
    "# into a wide-format when we need it\n",
    "\n",
    "srchscrl.wide.order <- dcast(srchscrl, \n",
    "                                Subject ~ Order, \n",
    "                                value.var=\"Time\")\n",
    "\n",
    "head(srchscrl.wide.order)"
   ]
  },
  {
   "cell_type": "markdown",
   "metadata": {},
   "source": [
    "Then we could do a T Test comparing order 1 to order 2 and notice there, for the first time we say paired equals true. It's a paired T Test...that's what makes it a paired sample T test. We go ahead and run that T Test. "
   ]
  },
  {
   "cell_type": "code",
   "execution_count": 15,
   "metadata": {},
   "outputs": [
    {
     "data": {
      "text/plain": [
       "\n",
       "\tPaired t-test\n",
       "\n",
       "data:  srchscrl.wide.order$\"1\" and srchscrl.wide.order$\"2\"\n",
       "t = -1.3304, df = 19, p-value = 0.1991\n",
       "alternative hypothesis: true difference in means is not equal to 0\n",
       "95 percent confidence interval:\n",
       " -47.34704  10.54704\n",
       "sample estimates:\n",
       "mean of the differences \n",
       "                  -18.4 \n"
      ]
     },
     "metadata": {},
     "output_type": "display_data"
    }
   ],
   "source": [
    "t.test(srchscrl.wide.order$\"1\", srchscrl.wide.order$\"2\",\n",
    "          paired=TRUE, \n",
    "          var.equal=TRUE)"
   ]
  },
  {
   "cell_type": "markdown",
   "metadata": {},
   "source": [
    "The p value is 0.19 which is good. It suggests that we don't have an order effect where order itself is causing difference in performance."
   ]
  },
  {
   "cell_type": "markdown",
   "metadata": {},
   "source": [
    "Then we can do the paired sample T test itself on technique, which is what we actually care about. We have to make a wide table for that as well. "
   ]
  },
  {
   "cell_type": "code",
   "execution_count": 16,
   "metadata": {},
   "outputs": [
    {
     "data": {
      "text/html": [
       "<table>\n",
       "<thead><tr><th scope=col>Subject</th><th scope=col>Scroll</th><th scope=col>Search</th></tr></thead>\n",
       "<tbody>\n",
       "\t<tr><td>1  </td><td>152</td><td> 98</td></tr>\n",
       "\t<tr><td>2  </td><td>148</td><td> 57</td></tr>\n",
       "\t<tr><td>3  </td><td>160</td><td> 86</td></tr>\n",
       "\t<tr><td>4  </td><td>113</td><td> 65</td></tr>\n",
       "\t<tr><td>5  </td><td>181</td><td>102</td></tr>\n",
       "\t<tr><td>6  </td><td> 70</td><td>126</td></tr>\n",
       "</tbody>\n",
       "</table>\n"
      ],
      "text/latex": [
       "\\begin{tabular}{r|lll}\n",
       " Subject & Scroll & Search\\\\\n",
       "\\hline\n",
       "\t 1   & 152 &  98\\\\\n",
       "\t 2   & 148 &  57\\\\\n",
       "\t 3   & 160 &  86\\\\\n",
       "\t 4   & 113 &  65\\\\\n",
       "\t 5   & 181 & 102\\\\\n",
       "\t 6   &  70 & 126\\\\\n",
       "\\end{tabular}\n"
      ],
      "text/markdown": [
       "\n",
       "Subject | Scroll | Search | \n",
       "|---|---|---|---|---|---|\n",
       "| 1   | 152 |  98 | \n",
       "| 2   | 148 |  57 | \n",
       "| 3   | 160 |  86 | \n",
       "| 4   | 113 |  65 | \n",
       "| 5   | 181 | 102 | \n",
       "| 6   |  70 | 126 | \n",
       "\n",
       "\n"
      ],
      "text/plain": [
       "  Subject Scroll Search\n",
       "1 1       152     98   \n",
       "2 2       148     57   \n",
       "3 3       160     86   \n",
       "4 4       113     65   \n",
       "5 5       181    102   \n",
       "6 6        70    126   "
      ]
     },
     "metadata": {},
     "output_type": "display_data"
    }
   ],
   "source": [
    "# paired samples t test\n",
    "srchscrl.wide.tech <- dcast(srchscrl,\n",
    "                               Subject ~ Technique, \n",
    "                               value.var=\"Time\")\n",
    "\n",
    "head(srchscrl.wide.tech)\n"
   ]
  },
  {
   "cell_type": "markdown",
   "metadata": {},
   "source": [
    "Next, we do a paired T Test between Search and Scroll. "
   ]
  },
  {
   "cell_type": "code",
   "execution_count": 17,
   "metadata": {},
   "outputs": [
    {
     "data": {
      "text/plain": [
       "\n",
       "\tPaired t-test\n",
       "\n",
       "data:  srchscrl.wide.tech$Search and srchscrl.wide.tech$Scroll\n",
       "t = -3.6399, df = 19, p-value = 0.001743\n",
       "alternative hypothesis: true difference in means is not equal to 0\n",
       "95 percent confidence interval:\n",
       " -63.63083 -17.16917\n",
       "sample estimates:\n",
       "mean of the differences \n",
       "                  -40.4 \n"
      ]
     },
     "metadata": {},
     "output_type": "display_data"
    }
   ],
   "source": [
    "t.test(srchscrl.wide.tech$Search, \n",
    "           srchscrl.wide.tech$Scroll,\n",
    "           paired=TRUE,\n",
    "          var.equal=TRUE)"
   ]
  },
  {
   "cell_type": "markdown",
   "metadata": {},
   "source": [
    "We see a p-value of 0.0017. So it does look less than 0.05. We reject the null hypothesis that there is no difference. We can also visually confirm by looking again at the boxplot between scroll and search. So it seems that the scroll time is a bit longer. "
   ]
  },
  {
   "cell_type": "code",
   "execution_count": 18,
   "metadata": {},
   "outputs": [
    {
     "data": {
      "image/png": "[encoded data removed]",
      "text/plain": [
       "plot without title"
      ]
     },
     "metadata": {},
     "output_type": "display_data"
    }
   ],
   "source": [
    "plot(Time ~ Technique, data=srchscrl) # confirm"
   ]
  },
  {
   "cell_type": "markdown",
   "metadata": {},
   "source": [
    "# Non-parametric version: Wilcoxon sign-rank test"
   ]
  },
  {
   "cell_type": "markdown",
   "metadata": {
    "collapsed": true
   },
   "source": [
    "Let's consider a non-parametrics equivalent of that previous test. A non-parametric equivalent of a T-Test is the Wilcoxon Sign-Rank Test. \n",
    "\n",
    "We're going to do that not on time. We could do it on Time but we've gotten our result for time and the assumptions looked met so we're pretty comfortable with that. Instead, let's do it on errors. Errors are an account response and often errors don't satisfy the assumptions of normality for ANOVAs. Errors can be kind of randomly distributed. \n",
    "\n",
    "They can often be Poisson distributed. They're clipped at zero. You don't get nice guassian curves usually when you're measuring errors. So let's explore the errors data that we've got in a different column in the original table. "
   ]
  },
  {
   "cell_type": "code",
   "execution_count": 19,
   "metadata": {},
   "outputs": [
    {
     "data": {
      "text/html": [
       "<table>\n",
       "<thead><tr><th scope=col>Subject</th><th scope=col>Technique</th><th scope=col>Order</th><th scope=col>Time</th><th scope=col>Errors</th><th scope=col>Effort</th></tr></thead>\n",
       "<tbody>\n",
       "\t<tr><td>1     </td><td>Search</td><td>1     </td><td> 98   </td><td>4     </td><td>5     </td></tr>\n",
       "\t<tr><td>1     </td><td>Scroll</td><td>2     </td><td>152   </td><td>0     </td><td>6     </td></tr>\n",
       "\t<tr><td>2     </td><td>Search</td><td>2     </td><td> 57   </td><td>2     </td><td>2     </td></tr>\n",
       "\t<tr><td>2     </td><td>Scroll</td><td>1     </td><td>148   </td><td>0     </td><td>3     </td></tr>\n",
       "\t<tr><td>3     </td><td>Search</td><td>1     </td><td> 86   </td><td>3     </td><td>2     </td></tr>\n",
       "\t<tr><td>3     </td><td>Scroll</td><td>2     </td><td>160   </td><td>0     </td><td>4     </td></tr>\n",
       "</tbody>\n",
       "</table>\n"
      ],
      "text/latex": [
       "\\begin{tabular}{r|llllll}\n",
       " Subject & Technique & Order & Time & Errors & Effort\\\\\n",
       "\\hline\n",
       "\t 1      & Search & 1      &  98    & 4      & 5     \\\\\n",
       "\t 1      & Scroll & 2      & 152    & 0      & 6     \\\\\n",
       "\t 2      & Search & 2      &  57    & 2      & 2     \\\\\n",
       "\t 2      & Scroll & 1      & 148    & 0      & 3     \\\\\n",
       "\t 3      & Search & 1      &  86    & 3      & 2     \\\\\n",
       "\t 3      & Scroll & 2      & 160    & 0      & 4     \\\\\n",
       "\\end{tabular}\n"
      ],
      "text/markdown": [
       "\n",
       "Subject | Technique | Order | Time | Errors | Effort | \n",
       "|---|---|---|---|---|---|\n",
       "| 1      | Search | 1      |  98    | 4      | 5      | \n",
       "| 1      | Scroll | 2      | 152    | 0      | 6      | \n",
       "| 2      | Search | 2      |  57    | 2      | 2      | \n",
       "| 2      | Scroll | 1      | 148    | 0      | 3      | \n",
       "| 3      | Search | 1      |  86    | 3      | 2      | \n",
       "| 3      | Scroll | 2      | 160    | 0      | 4      | \n",
       "\n",
       "\n"
      ],
      "text/plain": [
       "  Subject Technique Order Time Errors Effort\n",
       "1 1       Search    1      98  4      5     \n",
       "2 1       Scroll    2     152  0      6     \n",
       "3 2       Search    2      57  2      2     \n",
       "4 2       Scroll    1     148  0      3     \n",
       "5 3       Search    1      86  3      2     \n",
       "6 3       Scroll    2     160  0      4     "
      ]
     },
     "metadata": {},
     "output_type": "display_data"
    }
   ],
   "source": [
    "head(srchscrl)"
   ]
  },
  {
   "cell_type": "code",
   "execution_count": 20,
   "metadata": {},
   "outputs": [
    {
     "data": {
      "text/plain": [
       "    Subject    Technique  Order       Time           Errors         Effort \n",
       " 1      : 2   Scroll:20   1:20   Min.   : 49.0   Min.   :0.00   Min.   :1  \n",
       " 2      : 2   Search:20   2:20   1st Qu.: 94.5   1st Qu.:0.75   1st Qu.:3  \n",
       " 3      : 2                      Median :112.5   Median :1.50   Median :4  \n",
       " 4      : 2                      Mean   :117.0   Mean   :1.60   Mean   :4  \n",
       " 5      : 2                      3rd Qu.:148.2   3rd Qu.:2.25   3rd Qu.:5  \n",
       " 6      : 2                      Max.   :192.0   Max.   :4.00   Max.   :7  \n",
       " (Other):28                                                                "
      ]
     },
     "metadata": {},
     "output_type": "display_data"
    }
   ],
   "source": [
    "summary(srchscrl)"
   ]
  },
  {
   "cell_type": "code",
   "execution_count": 22,
   "metadata": {},
   "outputs": [
    {
     "data": {
      "text/html": [
       "<table>\n",
       "<thead><tr><th scope=col>Technique</th><th scope=col>Min.</th><th scope=col>1st Qu.</th><th scope=col>Median</th><th scope=col>Mean</th><th scope=col>3rd Qu.</th><th scope=col>Max.</th></tr></thead>\n",
       "<tbody>\n",
       "\t<tr><td>Scroll</td><td>0     </td><td>0     </td><td>0.5   </td><td>0.7   </td><td>1     </td><td>2     </td></tr>\n",
       "\t<tr><td>Search</td><td>1     </td><td>2     </td><td>2.5   </td><td>2.5   </td><td>3     </td><td>4     </td></tr>\n",
       "</tbody>\n",
       "</table>\n"
      ],
      "text/latex": [
       "\\begin{tabular}{r|lllllll}\n",
       " Technique & Min. & 1st Qu. & Median & Mean & 3rd Qu. & Max.\\\\\n",
       "\\hline\n",
       "\t Scroll & 0      & 0      & 0.5    & 0.7    & 1      & 2     \\\\\n",
       "\t Search & 1      & 2      & 2.5    & 2.5    & 3      & 4     \\\\\n",
       "\\end{tabular}\n"
      ],
      "text/markdown": [
       "\n",
       "Technique | Min. | 1st Qu. | Median | Mean | 3rd Qu. | Max. | \n",
       "|---|---|\n",
       "| Scroll | 0      | 0      | 0.5    | 0.7    | 1      | 2      | \n",
       "| Search | 1      | 2      | 2.5    | 2.5    | 3      | 4      | \n",
       "\n",
       "\n"
      ],
      "text/plain": [
       "  Technique Min. 1st Qu. Median Mean 3rd Qu. Max.\n",
       "1 Scroll    0    0       0.5    0.7  1       2   \n",
       "2 Search    1    2       2.5    2.5  3       4   "
      ]
     },
     "metadata": {},
     "output_type": "display_data"
    }
   ],
   "source": [
    "# explore the errors response. Error counts are often Poisson distributed\n",
    "library(\"plyr\")\n",
    "\n",
    "ddply(srchscrl, ~ Technique, function(data) summary(data$Errors))"
   ]
  },
  {
   "cell_type": "code",
   "execution_count": 23,
   "metadata": {},
   "outputs": [
    {
     "data": {
      "text/html": [
       "<table>\n",
       "<thead><tr><th scope=col>Technique</th><th scope=col>Errors.mean</th><th scope=col>Errors.sd</th></tr></thead>\n",
       "<tbody>\n",
       "\t<tr><td>Scroll   </td><td>0.7      </td><td>0.8013147</td></tr>\n",
       "\t<tr><td>Search   </td><td>2.5      </td><td>1.0513150</td></tr>\n",
       "</tbody>\n",
       "</table>\n"
      ],
      "text/latex": [
       "\\begin{tabular}{r|lll}\n",
       " Technique & Errors.mean & Errors.sd\\\\\n",
       "\\hline\n",
       "\t Scroll    & 0.7       & 0.8013147\\\\\n",
       "\t Search    & 2.5       & 1.0513150\\\\\n",
       "\\end{tabular}\n"
      ],
      "text/markdown": [
       "\n",
       "Technique | Errors.mean | Errors.sd | \n",
       "|---|---|\n",
       "| Scroll    | 0.7       | 0.8013147 | \n",
       "| Search    | 2.5       | 1.0513150 | \n",
       "\n",
       "\n"
      ],
      "text/plain": [
       "  Technique Errors.mean Errors.sd\n",
       "1 Scroll    0.7         0.8013147\n",
       "2 Search    2.5         1.0513150"
      ]
     },
     "metadata": {},
     "output_type": "display_data"
    }
   ],
   "source": [
    "ddply(srchscrl, ~ Technique, summarise, Errors.mean=mean(Errors), Errors.sd=sd(Errors))"
   ]
  },
  {
   "cell_type": "code",
   "execution_count": 24,
   "metadata": {
    "collapsed": true
   },
   "outputs": [],
   "source": [
    "search <- srchscrl[srchscrl$Technique == \"Search\", ]\n",
    "scroll <- srchscrl[srchscrl$Technique == \"Scroll\", ]"
   ]
  },
  {
   "cell_type": "code",
   "execution_count": 26,
   "metadata": {},
   "outputs": [
    {
     "data": {
      "image/png": "[encoded data removed]",
      "text/plain": [
       "Plot with title \"Histogram of search$Errors\""
      ]
     },
     "metadata": {},
     "output_type": "display_data"
    }
   ],
   "source": [
    "hist(search$Errors)"
   ]
  },
  {
   "cell_type": "code",
   "execution_count": 51,
   "metadata": {},
   "outputs": [
    {
     "data": {
      "image/png": "[encoded data removed]",
      "text/plain": [
       "Plot with title \"Histogram of scroll$Errors\""
      ]
     },
     "metadata": {},
     "output_type": "display_data"
    }
   ],
   "source": [
    "hist(scroll$Errors)"
   ]
  },
  {
   "cell_type": "code",
   "execution_count": 52,
   "metadata": {},
   "outputs": [
    {
     "data": {
      "image/png": "[encoded data removed]",
      "text/plain": [
       "plot without title"
      ]
     },
     "metadata": {},
     "output_type": "display_data"
    }
   ],
   "source": [
    "plot(Errors ~ Technique, data=srchscrl)"
   ]
  },
  {
   "cell_type": "markdown",
   "metadata": {},
   "source": [
    "This is the Errors for search and scroll...just to get a feel for the data and the spread. Neither are clearly not normally distributed. Scrolling was slower than search but it also looks like scrolling produced fewer errors than search. That might make sense especially depending how we counted errors. If we count text entry errors as part of our error concept, not just selection errors then maybe search could have more errors. Even if we don't, we might search and get a similar nmae but not quite the correct one. \n",
    "\n",
    "Scrolling might show us more context around the content so it makes some sense.\n",
    "\n",
    "Let's try to fit a Poisson distribution because we know this is count data and with count data, we often have that kind of distribution. Poisson distributions are discrete, not continuous. And so the fitting technique will use a library that allows that. So we'll first fit 2 errors. "
   ]
  },
  {
   "cell_type": "code",
   "execution_count": 33,
   "metadata": {},
   "outputs": [
    {
     "data": {
      "text/plain": [
       "Chi-squared statistic:  1.522231 \n",
       "Degree of freedom of the Chi-squared distribution:  2 \n",
       "Chi-squared p-value:  0.4671449 \n",
       "   the p-value may be wrong with some theoretical counts < 5  \n",
       "Chi-squared table:\n",
       "     obscounts theocounts\n",
       "<= 1  4.000000   5.745950\n",
       "<= 2  6.000000   5.130312\n",
       "<= 3  6.000000   4.275260\n",
       "> 3   4.000000   4.848478\n",
       "\n",
       "Goodness-of-fit criteria\n",
       "                               1-mle-pois\n",
       "Akaike's Information Criterion   65.61424\n",
       "Bayesian Information Criterion   66.60997"
      ]
     },
     "metadata": {},
     "output_type": "display_data"
    }
   ],
   "source": [
    "# we might once again test ANOVA assumptions (normality, homescedasticity) \n",
    "# but we have now cover that amply so we'll omit those steps until there's \n",
    "# something new to be learned. Remember - they're guidelines, not law. \n",
    "\n",
    "# try to fit a Poisson distribution for count data. \n",
    "# note that ks.test only works for continuous distributions but poisson distributions \n",
    "# are discrete, so use fitdist, not fitdistr and test with gofstat\n",
    "\n",
    "library(\"fitdistrplus\")\n",
    "\n",
    "fit <- fitdist(search$Errors, \"pois\", discrete=TRUE)\n",
    "gofstat(fit) # goodness of fit test"
   ]
  },
  {
   "cell_type": "code",
   "execution_count": 53,
   "metadata": {},
   "outputs": [
    {
     "data": {
      "text/plain": [
       "Chi-squared statistic:  0.3816087 \n",
       "Degree of freedom of the Chi-squared distribution:  1 \n",
       "Chi-squared p-value:  0.5367435 \n",
       "   the p-value may be wrong with some theoretical counts < 5  \n",
       "Chi-squared table:\n",
       "     obscounts theocounts\n",
       "<= 0 10.000000   9.931706\n",
       "<= 1  6.000000   6.952194\n",
       "> 1   4.000000   3.116100\n",
       "\n",
       "Goodness-of-fit criteria\n",
       "                               1-mle-pois\n",
       "Akaike's Information Criterion   45.53208\n",
       "Bayesian Information Criterion   46.52781"
      ]
     },
     "metadata": {},
     "output_type": "display_data"
    }
   ],
   "source": [
    "fit <- fitdist(scroll$Errors, \"pois\", discrete=TRUE)\n",
    "gofstat(fit)"
   ]
  },
  {
   "cell_type": "markdown",
   "metadata": {},
   "source": [
    "We fit the Error data to a poisson dist and used the goodness of fit test function. The GOF test tells us (in chi squared form) a p-value that says we're not significantly departing from a Poisson distribution. Both tests for search and scroll are not significantly departing from a Poisson distribution. \n",
    "\n",
    "We may use that information in the future to do an analysis specific to a Poisson distribution. We'll return to that later. For now, we'll just do the Wilcoxon Signed-Rank test on errors. It's the equivalent of the paired samples T-test. So we load the coin library and use this Wilcox-Signed test function\n",
    "\n",
    "One thing to note is that we're measuring errors by technique but we include subject behind this vertical bar. It tells this function that it's the blocking factore to correlate across rows in our table. We're not using a wide format table here. Notice we're using the original search scroll table. "
   ]
  },
  {
   "cell_type": "code",
   "execution_count": 54,
   "metadata": {},
   "outputs": [
    {
     "data": {
      "text/plain": [
       "\n",
       "\tExact Wilcoxon-Pratt Signed-Rank Test\n",
       "\n",
       "data:  y by x (pos, neg) \n",
       "\t stratified by block\n",
       "Z = -3.6701, p-value = 6.104e-05\n",
       "alternative hypothesis: true mu is not equal to 0\n"
      ]
     },
     "metadata": {},
     "output_type": "display_data"
    }
   ],
   "source": [
    "# wilcoxon signed-rank test of errors\n",
    "library(\"coin\")\n",
    "\n",
    "wilcoxsign_test(Errors ~ Technique | Subject, data=srchscrl, distribution=\"exact\")\n",
    "# note: the term after the \"|\" indicates the within-Subjects blocking term for matched pairs"
   ]
  },
  {
   "cell_type": "markdown",
   "metadata": {},
   "source": [
    "For 2 levels, we can do an exact test to get an exact p-value. It's less than 0.05 so we can reject the null hypothesis. There is a difference in errors between the 2 techniques.\n",
    "\n",
    "We can also examine effort using a non-parametric statitics because effort is on a Likert scale, which is an ordinal repsonse. Likert scale responses almost never satisfy the conditions for ANOVA either. They're bound from 1 to 7. They're ordinal so the difference between 1 to 2 numerically might be one maybe conceptually or perceptually is not the same as the difference between 4 and 5 or 5 and 6. Ordinal variables really should not be analyzed with parametric analyses. "
   ]
  },
  {
   "cell_type": "code",
   "execution_count": 43,
   "metadata": {},
   "outputs": [
    {
     "data": {
      "text/html": [
       "<table>\n",
       "<thead><tr><th scope=col>Technique</th><th scope=col>Min.</th><th scope=col>1st Qu.</th><th scope=col>Median</th><th scope=col>Mean</th><th scope=col>3rd Qu.</th><th scope=col>Max.</th></tr></thead>\n",
       "<tbody>\n",
       "\t<tr><td>Scroll</td><td>1     </td><td>3     </td><td>4     </td><td>4.4   </td><td>6.00  </td><td>7     </td></tr>\n",
       "\t<tr><td>Search</td><td>1     </td><td>3     </td><td>4     </td><td>3.6   </td><td>4.25  </td><td>5     </td></tr>\n",
       "</tbody>\n",
       "</table>\n"
      ],
      "text/latex": [
       "\\begin{tabular}{r|lllllll}\n",
       " Technique & Min. & 1st Qu. & Median & Mean & 3rd Qu. & Max.\\\\\n",
       "\\hline\n",
       "\t Scroll & 1      & 3      & 4      & 4.4    & 6.00   & 7     \\\\\n",
       "\t Search & 1      & 3      & 4      & 3.6    & 4.25   & 5     \\\\\n",
       "\\end{tabular}\n"
      ],
      "text/markdown": [
       "\n",
       "Technique | Min. | 1st Qu. | Median | Mean | 3rd Qu. | Max. | \n",
       "|---|---|\n",
       "| Scroll | 1      | 3      | 4      | 4.4    | 6.00   | 7      | \n",
       "| Search | 1      | 3      | 4      | 3.6    | 4.25   | 5      | \n",
       "\n",
       "\n"
      ],
      "text/plain": [
       "  Technique Min. 1st Qu. Median Mean 3rd Qu. Max.\n",
       "1 Scroll    1    3       4      4.4  6.00    7   \n",
       "2 Search    1    3       4      3.6  4.25    5   "
      ]
     },
     "metadata": {},
     "output_type": "display_data"
    }
   ],
   "source": [
    "# now also examine Effort (the ordinal Likert scale response from 1 to 7)\n",
    "\n",
    "ddply(srchscrl, ~ Technique, function(data) summary(data$Effort))"
   ]
  },
  {
   "cell_type": "code",
   "execution_count": 55,
   "metadata": {},
   "outputs": [
    {
     "data": {
      "text/html": [
       "<table>\n",
       "<thead><tr><th scope=col>Technique</th><th scope=col>Effort.mean</th><th scope=col>Effort.sd</th></tr></thead>\n",
       "<tbody>\n",
       "\t<tr><td>Scroll  </td><td>4.4     </td><td>1.698296</td></tr>\n",
       "\t<tr><td>Search  </td><td>3.6     </td><td>1.187656</td></tr>\n",
       "</tbody>\n",
       "</table>\n"
      ],
      "text/latex": [
       "\\begin{tabular}{r|lll}\n",
       " Technique & Effort.mean & Effort.sd\\\\\n",
       "\\hline\n",
       "\t Scroll   & 4.4      & 1.698296\\\\\n",
       "\t Search   & 3.6      & 1.187656\\\\\n",
       "\\end{tabular}\n"
      ],
      "text/markdown": [
       "\n",
       "Technique | Effort.mean | Effort.sd | \n",
       "|---|---|\n",
       "| Scroll   | 4.4      | 1.698296 | \n",
       "| Search   | 3.6      | 1.187656 | \n",
       "\n",
       "\n"
      ],
      "text/plain": [
       "  Technique Effort.mean Effort.sd\n",
       "1 Scroll    4.4         1.698296 \n",
       "2 Search    3.6         1.187656 "
      ]
     },
     "metadata": {},
     "output_type": "display_data"
    }
   ],
   "source": [
    "ddply(srchscrl, ~Technique, summarise, Effort.mean=mean(Effort), Effort.sd=sd(Effort))"
   ]
  },
  {
   "cell_type": "markdown",
   "metadata": {},
   "source": [
    "Scrolling had a mean of 4.4 and Search wa 3.6. That's where presumably higher on the scale is more effort. Perhaps lower on the scale is less effort. We can also look at histograms for the 1 to 7 scale which is on the x-axis here. That's for search and here is for scroll. We can see maybe some people thought that was more effort. And our usual boxplot where we can see the means look pretty similar but there's more difference of opinion around the scrolling amount of effort. "
   ]
  },
  {
   "cell_type": "code",
   "execution_count": 45,
   "metadata": {},
   "outputs": [
    {
     "data": {
      "image/png": "[encoded data removed]",
      "text/plain": [
       "Plot with title \"Histogram of search$Error\""
      ]
     },
     "metadata": {},
     "output_type": "display_data"
    }
   ],
   "source": [
    "hist(search$Error, breaks=c(1:7), xlim=c(1,7))"
   ]
  },
  {
   "cell_type": "code",
   "execution_count": 46,
   "metadata": {},
   "outputs": [
    {
     "data": {
      "image/png": "[encoded data removed]",
      "text/plain": [
       "Plot with title \"Histogram of scroll$Effort\""
      ]
     },
     "metadata": {},
     "output_type": "display_data"
    }
   ],
   "source": [
    "hist(scroll$Effort, breaks=c(1:7), xlim=c(1,7))"
   ]
  },
  {
   "cell_type": "code",
   "execution_count": 56,
   "metadata": {},
   "outputs": [
    {
     "data": {
      "image/png": "[encoded data removed]",
      "text/plain": [
       "plot without title"
      ]
     },
     "metadata": {},
     "output_type": "display_data"
    }
   ],
   "source": [
    "plot(Effort ~ Technique, data=srchscrl, ylim=c(1,7)) # boxplot"
   ]
  },
  {
   "cell_type": "markdown",
   "metadata": {},
   "source": [
    "We run a Wilcoxon Signed-Rank test again for Effort. "
   ]
  },
  {
   "cell_type": "code",
   "execution_count": 50,
   "metadata": {},
   "outputs": [
    {
     "data": {
      "text/plain": [
       "\n",
       "\tExact Wilcoxon-Pratt Signed-Rank Test\n",
       "\n",
       "data:  y by x (pos, neg) \n",
       "\t stratified by block\n",
       "Z = 1.746, p-value = 0.08746\n",
       "alternative hypothesis: true mu is not equal to 0\n"
      ]
     },
     "metadata": {},
     "output_type": "display_data"
    }
   ],
   "source": [
    "# our response is ordinal within-Ss, so use nonparametric Wilcoxon signed-rank\n",
    "library(coin)\n",
    "wilcoxsign_test(Effort ~ Technique | Subject, data=srchscrl, distribution=\"exact\")"
   ]
  },
  {
   "cell_type": "markdown",
   "metadata": {},
   "source": [
    "The p-value is 0.08 so we fail to reject the null hypothesis. Meaning that, although, there may be some differnces here, we could not detect them. There are no detectable difference between the effort required for scrolling and searching. \n",
    "\n",
    "To summarize, we just finished analyzing our searching and scrolling data for finding contacts in a smartphone contacts manager. And we had a within-subjects variable for the first time which was the technique we were using to find contacts. So we had one factor technique with 2 levels (search and scroll). It was within subjects factor and we can see in red that the parametric tests we did was a T-Test. That was our form of analysis of variance and it was a paired samples T-Test. The non-parametric test was a Wilcoxon Signed-Rank test, which avoids those assumptions of the parametric approach but it is somewhat less powerful to detect differences. What happens if we have a 3rd level of our within-subjects factor?\n",
    "\n",
    "Well, we can't use a pair-samples T-test or a Wilcoxon signed-rank test anymore. That bring sus to the One-way Repeated Measures ANOVA and the Freidman Test. "
   ]
  },
  {
   "cell_type": "markdown",
   "metadata": {},
   "source": [
    "# Analyzing a Repeated Measures ANOVA and Friedman Test"
   ]
  },
  {
   "cell_type": "code",
   "execution_count": 59,
   "metadata": {},
   "outputs": [
    {
     "data": {
      "text/html": [
       "<table>\n",
       "<thead><tr><th scope=col>Subject</th><th scope=col>Technique</th><th scope=col>Order</th><th scope=col>Time</th><th scope=col>Errors</th><th scope=col>Effort</th></tr></thead>\n",
       "<tbody>\n",
       "\t<tr><td>1     </td><td>Search</td><td>1     </td><td> 98   </td><td>4     </td><td>5     </td></tr>\n",
       "\t<tr><td>1     </td><td>Scroll</td><td>2     </td><td>152   </td><td>0     </td><td>6     </td></tr>\n",
       "\t<tr><td>2     </td><td>Search</td><td>2     </td><td> 57   </td><td>2     </td><td>2     </td></tr>\n",
       "\t<tr><td>2     </td><td>Scroll</td><td>1     </td><td>148   </td><td>0     </td><td>3     </td></tr>\n",
       "\t<tr><td>3     </td><td>Search</td><td>1     </td><td> 86   </td><td>3     </td><td>2     </td></tr>\n",
       "\t<tr><td>3     </td><td>Scroll</td><td>2     </td><td>160   </td><td>0     </td><td>4     </td></tr>\n",
       "</tbody>\n",
       "</table>\n"
      ],
      "text/latex": [
       "\\begin{tabular}{r|llllll}\n",
       " Subject & Technique & Order & Time & Errors & Effort\\\\\n",
       "\\hline\n",
       "\t 1      & Search & 1      &  98    & 4      & 5     \\\\\n",
       "\t 1      & Scroll & 2      & 152    & 0      & 6     \\\\\n",
       "\t 2      & Search & 2      &  57    & 2      & 2     \\\\\n",
       "\t 2      & Scroll & 1      & 148    & 0      & 3     \\\\\n",
       "\t 3      & Search & 1      &  86    & 3      & 2     \\\\\n",
       "\t 3      & Scroll & 2      & 160    & 0      & 4     \\\\\n",
       "\\end{tabular}\n"
      ],
      "text/markdown": [
       "\n",
       "Subject | Technique | Order | Time | Errors | Effort | \n",
       "|---|---|---|---|---|---|\n",
       "| 1      | Search | 1      |  98    | 4      | 5      | \n",
       "| 1      | Scroll | 2      | 152    | 0      | 6      | \n",
       "| 2      | Search | 2      |  57    | 2      | 2      | \n",
       "| 2      | Scroll | 1      | 148    | 0      | 3      | \n",
       "| 3      | Search | 1      |  86    | 3      | 2      | \n",
       "| 3      | Scroll | 2      | 160    | 0      | 4      | \n",
       "\n",
       "\n"
      ],
      "text/plain": [
       "  Subject Technique Order Time Errors Effort\n",
       "1 1       Search    1      98  4      5     \n",
       "2 1       Scroll    2     152  0      6     \n",
       "3 2       Search    2      57  2      2     \n",
       "4 2       Scroll    1     148  0      3     \n",
       "5 3       Search    1      86  3      2     \n",
       "6 3       Scroll    2     160  0      4     "
      ]
     },
     "metadata": {},
     "output_type": "display_data"
    }
   ],
   "source": [
    "# one way repeated measures ANOVA\n",
    "\n",
    "srchscrlvce <- read.csv(\"materials/srchscrlvce.csv\")\n",
    "head(srchscrlvce)"
   ]
  },
  {
   "cell_type": "code",
   "execution_count": 60,
   "metadata": {},
   "outputs": [
    {
     "data": {
      "text/plain": [
       "    Subject    Technique  Order       Time           Errors         Effort    \n",
       " 1      : 3   Scroll:20   1:20   Min.   : 49.0   Min.   :0.00   Min.   :1.00  \n",
       " 2      : 3   Search:20   2:20   1st Qu.: 86.0   1st Qu.:1.00   1st Qu.:3.00  \n",
       " 3      : 3   Voice :20   3:20   Median : 97.0   Median :2.00   Median :4.00  \n",
       " 4      : 3                      Mean   :106.2   Mean   :2.75   Mean   :4.15  \n",
       " 5      : 3                      3rd Qu.:128.0   3rd Qu.:4.00   3rd Qu.:5.00  \n",
       " 6      : 3                      Max.   :192.0   Max.   :9.00   Max.   :7.00  \n",
       " (Other):42                                                                   "
      ]
     },
     "metadata": {},
     "output_type": "display_data"
    }
   ],
   "source": [
    "srchscrlvce$Subject <- as.factor(srchscrlvce$Subject)\n",
    "srchscrlvce$Order <- as.factor(srchscrlvce$Order)\n",
    "summary(srchscrlvce)"
   ]
  },
  {
   "cell_type": "code",
   "execution_count": 62,
   "metadata": {},
   "outputs": [
    {
     "data": {
      "text/html": [
       "<table>\n",
       "<thead><tr><th scope=col>Technique</th><th scope=col>Min.</th><th scope=col>1st Qu.</th><th scope=col>Median</th><th scope=col>Mean</th><th scope=col>3rd Qu.</th><th scope=col>Max.</th></tr></thead>\n",
       "<tbody>\n",
       "\t<tr><td>Scroll</td><td>49    </td><td>123.50</td><td>148.5 </td><td>137.20</td><td>161.00</td><td>192   </td></tr>\n",
       "\t<tr><td>Search</td><td>50    </td><td> 86.75</td><td> 99.5 </td><td> 96.80</td><td>106.00</td><td>147   </td></tr>\n",
       "\t<tr><td>Voice </td><td>64    </td><td> 80.25</td><td> 86.0 </td><td> 84.45</td><td> 88.75</td><td>105   </td></tr>\n",
       "</tbody>\n",
       "</table>\n"
      ],
      "text/latex": [
       "\\begin{tabular}{r|lllllll}\n",
       " Technique & Min. & 1st Qu. & Median & Mean & 3rd Qu. & Max.\\\\\n",
       "\\hline\n",
       "\t Scroll & 49     & 123.50 & 148.5  & 137.20 & 161.00 & 192   \\\\\n",
       "\t Search & 50     &  86.75 &  99.5  &  96.80 & 106.00 & 147   \\\\\n",
       "\t Voice  & 64     &  80.25 &  86.0  &  84.45 &  88.75 & 105   \\\\\n",
       "\\end{tabular}\n"
      ],
      "text/markdown": [
       "\n",
       "Technique | Min. | 1st Qu. | Median | Mean | 3rd Qu. | Max. | \n",
       "|---|---|---|\n",
       "| Scroll | 49     | 123.50 | 148.5  | 137.20 | 161.00 | 192    | \n",
       "| Search | 50     |  86.75 |  99.5  |  96.80 | 106.00 | 147    | \n",
       "| Voice  | 64     |  80.25 |  86.0  |  84.45 |  88.75 | 105    | \n",
       "\n",
       "\n"
      ],
      "text/plain": [
       "  Technique Min. 1st Qu. Median Mean   3rd Qu. Max.\n",
       "1 Scroll    49   123.50  148.5  137.20 161.00  192 \n",
       "2 Search    50    86.75   99.5   96.80 106.00  147 \n",
       "3 Voice     64    80.25   86.0   84.45  88.75  105 "
      ]
     },
     "metadata": {},
     "output_type": "display_data"
    }
   ],
   "source": [
    "ddply(srchscrlvce, ~ Technique, function(data) summary(data$Time))"
   ]
  },
  {
   "cell_type": "code",
   "execution_count": 63,
   "metadata": {},
   "outputs": [
    {
     "data": {
      "text/html": [
       "<table>\n",
       "<thead><tr><th scope=col>Technique</th><th scope=col>Time.mean</th><th scope=col>Time.sd</th></tr></thead>\n",
       "<tbody>\n",
       "\t<tr><td>Scroll  </td><td>137.20  </td><td>35.80885</td></tr>\n",
       "\t<tr><td>Search  </td><td> 96.80  </td><td>23.23020</td></tr>\n",
       "\t<tr><td>Voice   </td><td> 84.45  </td><td>11.59617</td></tr>\n",
       "</tbody>\n",
       "</table>\n"
      ],
      "text/latex": [
       "\\begin{tabular}{r|lll}\n",
       " Technique & Time.mean & Time.sd\\\\\n",
       "\\hline\n",
       "\t Scroll   & 137.20   & 35.80885\\\\\n",
       "\t Search   &  96.80   & 23.23020\\\\\n",
       "\t Voice    &  84.45   & 11.59617\\\\\n",
       "\\end{tabular}\n"
      ],
      "text/markdown": [
       "\n",
       "Technique | Time.mean | Time.sd | \n",
       "|---|---|---|\n",
       "| Scroll   | 137.20   | 35.80885 | \n",
       "| Search   |  96.80   | 23.23020 | \n",
       "| Voice    |  84.45   | 11.59617 | \n",
       "\n",
       "\n"
      ],
      "text/plain": [
       "  Technique Time.mean Time.sd \n",
       "1 Scroll    137.20    35.80885\n",
       "2 Search     96.80    23.23020\n",
       "3 Voice      84.45    11.59617"
      ]
     },
     "metadata": {},
     "output_type": "display_data"
    }
   ],
   "source": [
    "ddply(srchscrlvce, ~ Technique, summarise, Time.mean=mean(Time), Time.sd=sd(Time))"
   ]
  },
  {
   "cell_type": "code",
   "execution_count": 71,
   "metadata": {
    "collapsed": true
   },
   "outputs": [],
   "source": [
    "search <- srchscrlvce[srchscrlvce$Technique == \"Search\",]\n",
    "scroll <- srchscrlvce[srchscrlvce$Technique == \"Scroll\",]\n",
    "voice <- srchscrlvce[srchscrlvce$Technique == \"Voice\",]"
   ]
  },
  {
   "cell_type": "code",
   "execution_count": 72,
   "metadata": {},
   "outputs": [
    {
     "data": {
      "image/png": "[encoded data removed]",
      "text/plain": [
       "Plot with title \"Histogram of search$Time\""
      ]
     },
     "metadata": {},
     "output_type": "display_data"
    }
   ],
   "source": [
    "hist(search$Time)"
   ]
  },
  {
   "cell_type": "code",
   "execution_count": 73,
   "metadata": {},
   "outputs": [
    {
     "data": {
      "image/png": "[encoded data removed]",
      "text/plain": [
       "Plot with title \"Histogram of scroll$Time\""
      ]
     },
     "metadata": {},
     "output_type": "display_data"
    }
   ],
   "source": [
    "hist(scroll$Time)"
   ]
  },
  {
   "cell_type": "code",
   "execution_count": 74,
   "metadata": {},
   "outputs": [
    {
     "data": {
      "image/png": "[encoded data removed]",
      "text/plain": [
       "Plot with title \"Histogram of voice$Time\""
      ]
     },
     "metadata": {},
     "output_type": "display_data"
    }
   ],
   "source": [
    "hist(voice$Time)"
   ]
  },
  {
   "cell_type": "code",
   "execution_count": 75,
   "metadata": {},
   "outputs": [
    {
     "data": {
      "image/png": "[encoded data removed]",
      "text/plain": [
       "plot without title"
      ]
     },
     "metadata": {},
     "output_type": "display_data"
    }
   ],
   "source": [
    "plot(Time ~ Technique, data=srchscrlvce)"
   ]
  },
  {
   "cell_type": "code",
   "execution_count": 81,
   "metadata": {},
   "outputs": [
    {
     "data": {
      "text/html": [
       "<dl>\n",
       "\t<dt>$ANOVA</dt>\n",
       "\t\t<dd><table>\n",
       "<thead><tr><th></th><th scope=col>Effect</th><th scope=col>DFn</th><th scope=col>DFd</th><th scope=col>F</th><th scope=col>p</th><th scope=col>p&lt;.05</th><th scope=col>ges</th></tr></thead>\n",
       "<tbody>\n",
       "\t<tr><th scope=row>2</th><td>Technique   </td><td>2           </td><td>38          </td><td>21.03571    </td><td>7.076457e-07</td><td>*           </td><td>0.4502877   </td></tr>\n",
       "</tbody>\n",
       "</table>\n",
       "</dd>\n",
       "\t<dt>$`Mauchly's Test for Sphericity`</dt>\n",
       "\t\t<dd><table>\n",
       "<thead><tr><th></th><th scope=col>Effect</th><th scope=col>W</th><th scope=col>p</th><th scope=col>p&lt;.05</th></tr></thead>\n",
       "<tbody>\n",
       "\t<tr><th scope=row>2</th><td>Technique   </td><td>0.4372081   </td><td>0.0005837053</td><td>*           </td></tr>\n",
       "</tbody>\n",
       "</table>\n",
       "</dd>\n",
       "\t<dt>$`Sphericity Corrections`</dt>\n",
       "\t\t<dd><table>\n",
       "<thead><tr><th></th><th scope=col>Effect</th><th scope=col>GGe</th><th scope=col>p[GG]</th><th scope=col>p[GG]&lt;.05</th><th scope=col>HFe</th><th scope=col>p[HF]</th><th scope=col>p[HF]&lt;.05</th></tr></thead>\n",
       "<tbody>\n",
       "\t<tr><th scope=row>2</th><td>Technique   </td><td>0.6398805   </td><td>4.101871e-05</td><td>*           </td><td>0.6657703   </td><td>3.058343e-05</td><td>*           </td></tr>\n",
       "</tbody>\n",
       "</table>\n",
       "</dd>\n",
       "</dl>\n"
      ],
      "text/latex": [
       "\\begin{description}\n",
       "\\item[\\$ANOVA] \\begin{tabular}{r|lllllll}\n",
       "  & Effect & DFn & DFd & F & p & p<.05 & ges\\\\\n",
       "\\hline\n",
       "\t2 & Technique    & 2            & 38           & 21.03571     & 7.076457e-07 & *            & 0.4502877   \\\\\n",
       "\\end{tabular}\n",
       "\n",
       "\\item[\\$`Mauchly's Test for Sphericity`] \\begin{tabular}{r|llll}\n",
       "  & Effect & W & p & p<.05\\\\\n",
       "\\hline\n",
       "\t2 & Technique    & 0.4372081    & 0.0005837053 & *           \\\\\n",
       "\\end{tabular}\n",
       "\n",
       "\\item[\\$`Sphericity Corrections`] \\begin{tabular}{r|lllllll}\n",
       "  & Effect & GGe & p{[}GG{]} & p{[}GG{]}<.05 & HFe & p{[}HF{]} & p{[}HF{]}<.05\\\\\n",
       "\\hline\n",
       "\t2 & Technique    & 0.6398805    & 4.101871e-05 & *            & 0.6657703    & 3.058343e-05 & *           \\\\\n",
       "\\end{tabular}\n",
       "\n",
       "\\end{description}\n"
      ],
      "text/markdown": [
       "$ANOVA\n",
       ":   \n",
       "| <!--/--> | Effect | DFn | DFd | F | p | p<.05 | ges | \n",
       "|---|\n",
       "| 2 | Technique    | 2            | 38           | 21.03571     | 7.076457e-07 | *            | 0.4502877    | \n",
       "\n",
       "\n",
       "\n",
       "$`Mauchly's Test for Sphericity`\n",
       ":   \n",
       "| <!--/--> | Effect | W | p | p<.05 | \n",
       "|---|\n",
       "| 2 | Technique    | 0.4372081    | 0.0005837053 | *            | \n",
       "\n",
       "\n",
       "\n",
       "$`Sphericity Corrections`\n",
       ":   \n",
       "| <!--/--> | Effect | GGe | p[GG] | p[GG]<.05 | HFe | p[HF] | p[HF]<.05 | \n",
       "|---|\n",
       "| 2 | Technique    | 0.6398805    | 4.101871e-05 | *            | 0.6657703    | 3.058343e-05 | *            | \n",
       "\n",
       "\n",
       "\n",
       "\n",
       "\n"
      ],
      "text/plain": [
       "$ANOVA\n",
       "     Effect DFn DFd        F            p p<.05       ges\n",
       "2 Technique   2  38 21.03571 7.076457e-07     * 0.4502877\n",
       "\n",
       "$`Mauchly's Test for Sphericity`\n",
       "     Effect         W            p p<.05\n",
       "2 Technique 0.4372081 0.0005837053     *\n",
       "\n",
       "$`Sphericity Corrections`\n",
       "     Effect       GGe        p[GG] p[GG]<.05       HFe        p[HF] p[HF]<.05\n",
       "2 Technique 0.6398805 4.101871e-05         * 0.6657703 3.058343e-05         *\n"
      ]
     },
     "metadata": {},
     "output_type": "display_data"
    }
   ],
   "source": [
    "# repeated measures ANOVA\n",
    "library(\"ez\")\n",
    "\n",
    "# ez lets us specify the dependent variable (Time),\n",
    "# within-Subjects variables (Technique), \n",
    "# and the variable that identifies subjects (Subjects)\n",
    "\n",
    "m <- ezANOVA(dv=Time, within=Technique, wid=Subject, data=srchscrlvce)\n",
    "m"
   ]
  },
  {
   "cell_type": "code",
   "execution_count": 82,
   "metadata": {},
   "outputs": [
    {
     "data": {
      "text/html": [
       "<table>\n",
       "<thead><tr><th></th><th scope=col>Effect</th><th scope=col>W</th><th scope=col>p</th><th scope=col>p&lt;.05</th></tr></thead>\n",
       "<tbody>\n",
       "\t<tr><th scope=row>2</th><td>Technique   </td><td>0.4372081   </td><td>0.0005837053</td><td>*           </td></tr>\n",
       "</tbody>\n",
       "</table>\n"
      ],
      "text/latex": [
       "\\begin{tabular}{r|llll}\n",
       "  & Effect & W & p & p<.05\\\\\n",
       "\\hline\n",
       "\t2 & Technique    & 0.4372081    & 0.0005837053 & *           \\\\\n",
       "\\end{tabular}\n"
      ],
      "text/markdown": [
       "\n",
       "| <!--/--> | Effect | W | p | p<.05 | \n",
       "|---|\n",
       "| 2 | Technique    | 0.4372081    | 0.0005837053 | *            | \n",
       "\n",
       "\n"
      ],
      "text/plain": [
       "  Effect    W         p            p<.05\n",
       "2 Technique 0.4372081 0.0005837053 *    "
      ]
     },
     "metadata": {},
     "output_type": "display_data"
    }
   ],
   "source": [
    "# we then check the model for violations of sphericity. Sphericity is \n",
    "# the situation where the variances of the differences between all \n",
    "# combinations of levels of a within-Ss factor are equal. It always\n",
    "# holds for within-Ss factors that have just 2 levels, but for 3+\n",
    "# levels, sphericity can be tested with Mauchly's Test of Sphericity.\n",
    "\n",
    "m$Mauchly "
   ]
  },
  {
   "cell_type": "markdown",
   "metadata": {},
   "source": [
    "Indicates a violation. "
   ]
  },
  {
   "cell_type": "code",
   "execution_count": 83,
   "metadata": {},
   "outputs": [
    {
     "data": {
      "text/html": [
       "<table>\n",
       "<thead><tr><th></th><th scope=col>Effect</th><th scope=col>DFn</th><th scope=col>DFd</th><th scope=col>F</th><th scope=col>p</th><th scope=col>p&lt;.05</th><th scope=col>ges</th></tr></thead>\n",
       "<tbody>\n",
       "\t<tr><th scope=row>2</th><td>Technique   </td><td>2           </td><td>38          </td><td>21.03571    </td><td>7.076457e-07</td><td>*           </td><td>0.4502877   </td></tr>\n",
       "</tbody>\n",
       "</table>\n"
      ],
      "text/latex": [
       "\\begin{tabular}{r|lllllll}\n",
       "  & Effect & DFn & DFd & F & p & p<.05 & ges\\\\\n",
       "\\hline\n",
       "\t2 & Technique    & 2            & 38           & 21.03571     & 7.076457e-07 & *            & 0.4502877   \\\\\n",
       "\\end{tabular}\n"
      ],
      "text/markdown": [
       "\n",
       "| <!--/--> | Effect | DFn | DFd | F | p | p<.05 | ges | \n",
       "|---|\n",
       "| 2 | Technique    | 2            | 38           | 21.03571     | 7.076457e-07 | *            | 0.4502877    | \n",
       "\n",
       "\n"
      ],
      "text/plain": [
       "  Effect    DFn DFd F        p            p<.05 ges      \n",
       "2 Technique 2   38  21.03571 7.076457e-07 *     0.4502877"
      ]
     },
     "metadata": {},
     "output_type": "display_data"
    }
   ],
   "source": [
    "# if no violation, examine the uncorrected ANOVA in m$ANOVA. \n",
    "# if violation, instead look at m$Sphericity and use the \n",
    "# Greenhouse-Geisser correction, GGe.\n",
    "m$ANOVA"
   ]
  },
  {
   "cell_type": "code",
   "execution_count": 84,
   "metadata": {},
   "outputs": [
    {
     "data": {
      "text/html": [
       "1"
      ],
      "text/latex": [
       "1"
      ],
      "text/markdown": [
       "1"
      ],
      "text/plain": [
       "[1] 1"
      ]
     },
     "metadata": {},
     "output_type": "display_data"
    }
   ],
   "source": [
    "# include the corrected DFs for each corrected effect\n",
    "\n",
    "pos <- match(m$`Sphericity Corrections`$Effect, m$ANOVA$Effect) # positions of within-Ss efx in m$ANOVA\n",
    "pos"
   ]
  },
  {
   "cell_type": "code",
   "execution_count": 87,
   "metadata": {},
   "outputs": [
    {
     "data": {
      "text/html": [
       "<table>\n",
       "<thead><tr><th></th><th scope=col>Effect</th><th scope=col>GGe</th><th scope=col>p[GG]</th><th scope=col>p[GG]&lt;.05</th><th scope=col>HFe</th><th scope=col>p[HF]</th><th scope=col>p[HF]&lt;.05</th><th scope=col>GGe.DFn</th><th scope=col>GGe.DFd</th><th scope=col>HFe.DFn</th><th scope=col>HFe.DFd</th></tr></thead>\n",
       "<tbody>\n",
       "\t<tr><th scope=row>2</th><td>Technique   </td><td>0.6398805   </td><td>4.101871e-05</td><td>*           </td><td>0.6657703   </td><td>3.058343e-05</td><td>*           </td><td>1.279761    </td><td>24.31546    </td><td>1.331541    </td><td>25.29927    </td></tr>\n",
       "</tbody>\n",
       "</table>\n"
      ],
      "text/latex": [
       "\\begin{tabular}{r|lllllllllll}\n",
       "  & Effect & GGe & p{[}GG{]} & p{[}GG{]}<.05 & HFe & p{[}HF{]} & p{[}HF{]}<.05 & GGe.DFn & GGe.DFd & HFe.DFn & HFe.DFd\\\\\n",
       "\\hline\n",
       "\t2 & Technique    & 0.6398805    & 4.101871e-05 & *            & 0.6657703    & 3.058343e-05 & *            & 1.279761     & 24.31546     & 1.331541     & 25.29927    \\\\\n",
       "\\end{tabular}\n"
      ],
      "text/markdown": [
       "\n",
       "| <!--/--> | Effect | GGe | p[GG] | p[GG]<.05 | HFe | p[HF] | p[HF]<.05 | GGe.DFn | GGe.DFd | HFe.DFn | HFe.DFd | \n",
       "|---|\n",
       "| 2 | Technique    | 0.6398805    | 4.101871e-05 | *            | 0.6657703    | 3.058343e-05 | *            | 1.279761     | 24.31546     | 1.331541     | 25.29927     | \n",
       "\n",
       "\n"
      ],
      "text/plain": [
       "  Effect    GGe       p[GG]        p[GG]<.05 HFe       p[HF]        p[HF]<.05\n",
       "2 Technique 0.6398805 4.101871e-05 *         0.6657703 3.058343e-05 *        \n",
       "  GGe.DFn  GGe.DFd  HFe.DFn  HFe.DFd \n",
       "2 1.279761 24.31546 1.331541 25.29927"
      ]
     },
     "metadata": {},
     "output_type": "display_data"
    }
   ],
   "source": [
    "m$Sphericity$GGe.DFn <- m$Sphericity$GGe * m$ANOVA$DFn[pos] # Greenhouse-Geisser\n",
    "m$Sphericity$GGe.DFd <- m$Sphericity$GGe * m$ANOVA$DFd[pos]\n",
    "\n",
    "m$Sphericity$HFe.DFn <- m$Sphericity$HFe * m$ANOVA$DFn[pos] # Huynh-Feldt\n",
    "m$Sphericity$HFe.DFd <- m$Sphericity$HFe * m$ANOVA$DFd[pos]\n",
    "\n",
    "m$Sphericity # show results"
   ]
  },
  {
   "cell_type": "code",
   "execution_count": 88,
   "metadata": {},
   "outputs": [
    {
     "data": {
      "text/plain": [
       "\n",
       "Error: Subject\n",
       "          Df Sum Sq Mean Sq F value Pr(>F)\n",
       "Residuals 19   9670   508.9               \n",
       "\n",
       "Error: Subject:Technique\n",
       "          Df Sum Sq Mean Sq F value   Pr(>F)    \n",
       "Technique  2  30448   15224   21.04 7.08e-07 ***\n",
       "Residuals 38  27502     724                     \n",
       "---\n",
       "Signif. codes:  0 '***' 0.001 '**' 0.01 '*' 0.05 '.' 0.1 ' ' 1"
      ]
     },
     "metadata": {},
     "output_type": "display_data"
    }
   ],
   "source": [
    "# the same uncorrected results are given by\n",
    "\n",
    "m <-  aov(Time ~ Technique + Error(Subject/Technique), data=srchscrlvce) # fit model\n",
    "\n",
    "summary(m) # show anova"
   ]
  },
  {
   "cell_type": "code",
   "execution_count": 92,
   "metadata": {},
   "outputs": [
    {
     "data": {
      "text/html": [
       "<table>\n",
       "<thead><tr><th scope=col>Subject</th><th scope=col>Scroll</th><th scope=col>Search</th><th scope=col>Voice</th></tr></thead>\n",
       "<tbody>\n",
       "\t<tr><td>1  </td><td>152</td><td> 98</td><td>86 </td></tr>\n",
       "\t<tr><td>2  </td><td>148</td><td> 57</td><td>65 </td></tr>\n",
       "\t<tr><td>3  </td><td>160</td><td> 86</td><td>87 </td></tr>\n",
       "\t<tr><td>4  </td><td>113</td><td> 65</td><td>75 </td></tr>\n",
       "\t<tr><td>5  </td><td>181</td><td>102</td><td>67 </td></tr>\n",
       "\t<tr><td>6  </td><td> 70</td><td>126</td><td>96 </td></tr>\n",
       "</tbody>\n",
       "</table>\n"
      ],
      "text/latex": [
       "\\begin{tabular}{r|llll}\n",
       " Subject & Scroll & Search & Voice\\\\\n",
       "\\hline\n",
       "\t 1   & 152 &  98 & 86 \\\\\n",
       "\t 2   & 148 &  57 & 65 \\\\\n",
       "\t 3   & 160 &  86 & 87 \\\\\n",
       "\t 4   & 113 &  65 & 75 \\\\\n",
       "\t 5   & 181 & 102 & 67 \\\\\n",
       "\t 6   &  70 & 126 & 96 \\\\\n",
       "\\end{tabular}\n"
      ],
      "text/markdown": [
       "\n",
       "Subject | Scroll | Search | Voice | \n",
       "|---|---|---|---|---|---|\n",
       "| 1   | 152 |  98 | 86  | \n",
       "| 2   | 148 |  57 | 65  | \n",
       "| 3   | 160 |  86 | 87  | \n",
       "| 4   | 113 |  65 | 75  | \n",
       "| 5   | 181 | 102 | 67  | \n",
       "| 6   |  70 | 126 | 96  | \n",
       "\n",
       "\n"
      ],
      "text/plain": [
       "  Subject Scroll Search Voice\n",
       "1 1       152     98    86   \n",
       "2 2       148     57    65   \n",
       "3 3       160     86    87   \n",
       "4 4       113     65    75   \n",
       "5 5       181    102    67   \n",
       "6 6        70    126    96   "
      ]
     },
     "metadata": {},
     "output_type": "display_data"
    }
   ],
   "source": [
    "# manual post hoc pairwise comparisons with paired-samples t-tests\n",
    "library(\"reshape2\")\n",
    "\n",
    "srchscrlvce.wide.tech <- dcast(srchscrlvce, Subject ~ Technique, value.var=\"Time\") # go wide\n",
    "\n",
    "head(srchscrlvce.wide.tech )"
   ]
  },
  {
   "cell_type": "code",
   "execution_count": 93,
   "metadata": {},
   "outputs": [
    {
     "data": {
      "text/html": [
       "<ol class=list-inline>\n",
       "\t<li>0.00348543000861271</li>\n",
       "\t<li>0.0372825478284699</li>\n",
       "\t<li>7.42229022854431e-06</li>\n",
       "</ol>\n"
      ],
      "text/latex": [
       "\\begin{enumerate*}\n",
       "\\item 0.00348543000861271\n",
       "\\item 0.0372825478284699\n",
       "\\item 7.42229022854431e-06\n",
       "\\end{enumerate*}\n"
      ],
      "text/markdown": [
       "1. 0.00348543000861271\n",
       "2. 0.0372825478284699\n",
       "3. 7.42229022854431e-06\n",
       "\n",
       "\n"
      ],
      "text/plain": [
       "[1] 3.485430e-03 3.728255e-02 7.422290e-06"
      ]
     },
     "metadata": {},
     "output_type": "display_data"
    }
   ],
   "source": [
    "se.sc <- t.test(srchscrlvce.wide.tech$Search, srchscrlvce.wide.tech$Scroll, paired=TRUE)\n",
    "se.vc <- t.test(srchscrlvce.wide.tech$Search, srchscrlvce.wide.tech$Voice, paired=TRUE)\n",
    "sc.vc <- t.test(srchscrlvce.wide.tech$Scroll, srchscrlvce.wide.tech$Voice, paired=TRUE)\n",
    "\n",
    "p.adjust(c(se.sc$p.value, se.vc$p.value, sc.vc$p.value), method=\"holm\")"
   ]
  },
  {
   "cell_type": "code",
   "execution_count": null,
   "metadata": {
    "collapsed": true
   },
   "outputs": [],
   "source": []
  }
 ],
 "metadata": {
  "kernelspec": {
   "display_name": "R",
   "language": "R",
   "name": "ir"
  },
  "language_info": {
   "codemirror_mode": "r",
   "file_extension": ".r",
   "mimetype": "text/x-r-source",
   "name": "R",
   "pygments_lexer": "r",
   "version": "3.4.1"
  }
 },
 "nbformat": 4,
 "nbformat_minor": 2
}
