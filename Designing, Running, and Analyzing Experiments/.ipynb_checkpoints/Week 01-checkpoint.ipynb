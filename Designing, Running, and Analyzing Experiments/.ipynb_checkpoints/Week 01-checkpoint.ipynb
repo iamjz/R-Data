{
 "cells": [
  {
   "cell_type": "markdown",
   "metadata": {},
   "source": [
    "Let's say 60 people try 2 website alternatives and express their preference for which one they like best. Perhaps website A is the old version of the site and website B is a redesign (a new version of the site). What are the design considerations for such an experiment?\n",
    "\n",
    "Well...how many participants do we need? I said 60 but is that enough? Is that too many? \n",
    "\n",
    "The short answer for most experiments is \"more is better\". More participants gives you more power, which is the ability to detect differences in the things you're comparing but it depends on the sizes of those differences. If the things you're comparing are very different, then you'd need fewer subjects. If the things that you're comparing are fairly similar, you may need more subjects. \n",
    "\n"
   ]
  },
  {
   "cell_type": "markdown",
   "metadata": {},
   "source": []
  }
 ],
 "metadata": {
  "kernelspec": {
   "display_name": "R",
   "language": "R",
   "name": "ir"
  },
  "language_info": {
   "codemirror_mode": "r",
   "file_extension": ".r",
   "mimetype": "text/x-r-source",
   "name": "R",
   "pygments_lexer": "r",
   "version": "3.4.1"
  }
 },
 "nbformat": 4,
 "nbformat_minor": 2
}
