{
 "cells": [
  {
   "cell_type": "markdown",
   "metadata": {},
   "source": [
    "# Introduction"
   ]
  },
  {
   "cell_type": "markdown",
   "metadata": {},
   "source": [
    "Let's say 60 people try 2 website alternatives and express their preference for which one they like best. Perhaps website A is the old version of the site and website B is a redesign (a new version of the site). What are the design considerations for such an experiment?\n",
    "\n",
    "Well...how many participants do we need? I said 60 but is that enough? Is that too many? \n",
    "\n",
    "The short answer for most experiments is \"more is better\". More participants gives you more power, which is the ability to detect differences in the things you're comparing but it depends on the sizes of those differences. If the things you're comparing are very different, then you'd need fewer subjects. If the things that you're comparing are fairly similar, you may need more subjects. \n",
    "\n",
    "With online experiments, thousands or even hundreds of subjects are possible. We ahve to be a little careful though. With enough people, you can always detect differences because no 2 things are ever exactly the same. \n",
    "\n",
    "In fact, even if you tested the same website, the same design, the same interface of some kind against itself with hundreds of thousands of people, you're likely to possibly see a difference simply because of measurement error and the variability that comes with measuring things across different people. \n",
    "\n",
    "So ask yourself for a difference to be meaningful to you. How many subjects would you be convinced by? What would seem a reasonable number? If you could detect a difference with 60 people, would that be enough to convince you that statistically significant difference is also a practical difference? We always must remember that statistical significance and practical significance bvased on practical difference are 2 very different things. In every experiment, there are at least 4 major considerations. \n",
    "\n",
    "1. Participants\n",
    "2. Apparatus\n",
    "3. Experiment Procedure\n",
    "4. Design/Analysis\n"
   ]
  },
  {
   "cell_type": "markdown",
   "metadata": {},
   "source": [
    "# Participants\n",
    "\n",
    "Who are they, where do they come from? How do they become part of our study? All these questions are related to sampling. Sampling and sampling theory is a deep topic that is beyond the scope of this course but sampling relates to how we select subjects for our study from a larger population about which we want to draw inferences. That is draw conclusions. There are many kinds of sampling. They fall generally into 2 categories. \n",
    "\n",
    "- Probability Sampling\n",
    "- Non-Probability Sampling\n",
    "\n",
    "Probability Sampling is a technique usually based on random approaches that select people from large populations randomly. Non probability sampling does not depend on randomness as much but uses other approaches to acquire participants. It's common in design studies and HCI (Human Computer Interaction) to use non-probability sampling although probability sampling can be used as well. Some examples of non-probability sampling are:\n",
    "\n",
    "- Purpose of sampling\n",
    "- Convenience sampling\n",
    "- Snowball sampling. \n",
    "\n",
    "Like their names suggest, you get an idea of what each of those might mean. \n",
    "\n",
    "Are there exclusion criteria that would mean we won't include them in our study? For example, in our study of 60 people who are expressing a preference for 1 website or another...maybe people already familiar with the old website are excluded from the study so we're getting fresh eyes on both versions of the website. That would be an example of exclusion criteria. "
   ]
  },
  {
   "cell_type": "markdown",
   "metadata": {},
   "source": [
    "# Aparatus\n",
    "\n",
    "We can ask what do we need in terms of equipment, space, and other resources to run the study? Is it in a lab? Is it a remote study or an online study? Do I need to build anything or have built something for people to test and try, and how will data be captured? Often, if we're doing test of computational artifacts, we can write log files. The computer or device can write log files directly based on what the user is doing with the device and we can analyze those log files later.\n",
    "\n",
    "We might have just direct human observation where we make notes or record things based on what we see. A sort of over the shoulder or maybe through a remote connection to their terminal. We might also do video recording. These are just some of the ways that we might capture data. "
   ]
  },
  {
   "cell_type": "markdown",
   "metadata": {},
   "source": [
    "# Experiment Procedure\n",
    "\n",
    "In terms of procedure, we can ask what do participants do? What do they actually go through as they come into the study? Do they perform tasks, what kinds, and how many? How long do they take? It's hard to keep people in a lab for more than about an hour, and you certainly want to be kind to them and not make them stay there for too long as they will begin to get tired and you'll introduce fatigue effects into your study. Is there learning involved that we need to take account of? Do they get to practice something beforehand or be exposed for awhile before we start measuring what data that we want to count. For example, in our study, how long do the participants use each website? Is that even controlled?\n",
    "\n",
    "What do they do on each site? Do they jut have open exploration or do we give them tasks like in a usability test where they follow a specific path that we want them to take."
   ]
  },
  {
   "cell_type": "markdown",
   "metadata": {},
   "source": [
    "# Design and Analysis\n",
    "\n",
    "This is design in the sense of experimental design. What's the formal design that we are using? How is it characterized and then what does that mean for the analysis that we use? We'll come back to all these things. For now, let's think about what it would be like to run the study that we've discussed.\n",
    "\n",
    "Some considerations to take into account. Informed consent is very important. That's where you have the opportunity at the start of a study to tell your subjects what they're going to go through, what the purpose of it is, and what they can expect during their time with you. They're in your care, and it's very important to remember that you're in charge of their welfare during that time. \n",
    "\n",
    "You want to set clear expectations. \n",
    "\n",
    "What are they about to encounter? Is there any potential risk? Getting their informed consent gives them the authority and autonomy to decide if they still want to take part in your study before it begins. Make sure the space you run a study in is accessible particularly to people for example in wheelchairs or who may be blind, deaf, or have other impairments. \n",
    "\n",
    "You want to make sure at the end of your study that you debrief your participants. You tell them what this was all about, maybe give them more insight into how other participants have performed, and compliment them and thank them for their time and effort. \n",
    "\n",
    "You may want someone to MC the study who's separate from someone who's making observations, taking notes, or recording data. It's often hard to both MC the experiment, and be the one recording the data. You have to ask youself - are you using some kind of test bed or a real world system? Are open tasks given or directed tasks? All of these are parts of what takes place while running the study. "
   ]
  }
 ],
 "metadata": {
  "kernelspec": {
   "display_name": "R",
   "language": "R",
   "name": "ir"
  },
  "language_info": {
   "codemirror_mode": "r",
   "file_extension": ".r",
   "mimetype": "text/x-r-source",
   "name": "R",
   "pygments_lexer": "r",
   "version": "3.4.1"
  }
 },
 "nbformat": 4,
 "nbformat_minor": 2
}
