{
 "cells": [
  {
   "cell_type": "markdown",
   "metadata": {},
   "source": [
    "# Introduction"
   ]
  },
  {
   "cell_type": "markdown",
   "metadata": {},
   "source": [
    "So we've just compared 2 programming languages and environments (C# in VS and Java in Eclipse). For the total task time, it's taken 20 students using each of those tools to write a series of small programs as a part of an intro to programming class. We found that VS was significantly faster according to the statistical test that we did. \n",
    "\n",
    "What happens now if we add a 3rd programming environment? We no long can use an independent samples T-test (or the Mann-Whitney U test) when we have 3 levels together. \n",
    "\n",
    "Let's say that the 3rd level is the Python programming language and the PyCharm programming environment. This will bring us to a very powerful and widely used test, the F-Test. And in this cae, it arises in the context of what's called a one-way ANOVA. Again, ANOVA stands for Analysis of Variance. One-way refers to a single factor in that analysis. And that factor is IDE and has 3 levels (VS, Eclipse, and PyCharm). "
   ]
  },
  {
   "cell_type": "markdown",
   "metadata": {},
   "source": [
    "# Analyzing and reporting a one-way ANOVA\n",
    "\n",
    "We're moving to 3 levels (which will require that we use a one-way ANOVA). "
   ]
  },
  {
   "cell_type": "code",
   "execution_count": 24,
   "metadata": {},
   "outputs": [
    {
     "data": {
      "text/plain": [
       "    Subject        IDE          Time      \n",
       " 1      : 1   Eclipse:20   Min.   :143.0  \n",
       " 2      : 1   PyCharm:20   1st Qu.:248.8  \n",
       " 3      : 1   VStudio:20   Median :295.0  \n",
       " 4      : 1                Mean   :353.9  \n",
       " 5      : 1                3rd Qu.:391.2  \n",
       " 6      : 1                Max.   :952.0  \n",
       " (Other):54                               "
      ]
     },
     "metadata": {},
     "output_type": "display_data"
    }
   ],
   "source": [
    "# one way ANOVA\n",
    "\n",
    "ide3 <- read.csv(\"materials/ide3.csv\")\n",
    "ide3$Subject <- as.factor(ide3$Subject)\n",
    "summary(ide3)"
   ]
  },
  {
   "cell_type": "code",
   "execution_count": 25,
   "metadata": {
    "collapsed": true
   },
   "outputs": [],
   "source": [
    "# view descriptive statistics by IDE\n",
    "library(\"plyr\")"
   ]
  },
  {
   "cell_type": "code",
   "execution_count": 26,
   "metadata": {},
   "outputs": [
    {
     "data": {
      "text/html": [
       "<table>\n",
       "<thead><tr><th scope=col>IDE</th><th scope=col>Min.</th><th scope=col>1st Qu.</th><th scope=col>Median</th><th scope=col>Mean</th><th scope=col>3rd Qu.</th><th scope=col>Max.</th></tr></thead>\n",
       "<tbody>\n",
       "\t<tr><td>Eclipse</td><td>232    </td><td>294.75 </td><td>393.5  </td><td>468.15 </td><td>585.50 </td><td>952    </td></tr>\n",
       "\t<tr><td>PyCharm</td><td>143    </td><td>232.25 </td><td>279.5  </td><td>291.45 </td><td>300.00 </td><td>572    </td></tr>\n",
       "\t<tr><td>VStudio</td><td>155    </td><td>246.50 </td><td>287.0  </td><td>302.10 </td><td>335.25 </td><td>632    </td></tr>\n",
       "</tbody>\n",
       "</table>\n"
      ],
      "text/latex": [
       "\\begin{tabular}{r|lllllll}\n",
       " IDE & Min. & 1st Qu. & Median & Mean & 3rd Qu. & Max.\\\\\n",
       "\\hline\n",
       "\t Eclipse & 232     & 294.75  & 393.5   & 468.15  & 585.50  & 952    \\\\\n",
       "\t PyCharm & 143     & 232.25  & 279.5   & 291.45  & 300.00  & 572    \\\\\n",
       "\t VStudio & 155     & 246.50  & 287.0   & 302.10  & 335.25  & 632    \\\\\n",
       "\\end{tabular}\n"
      ],
      "text/markdown": [
       "\n",
       "IDE | Min. | 1st Qu. | Median | Mean | 3rd Qu. | Max. | \n",
       "|---|---|---|\n",
       "| Eclipse | 232     | 294.75  | 393.5   | 468.15  | 585.50  | 952     | \n",
       "| PyCharm | 143     | 232.25  | 279.5   | 291.45  | 300.00  | 572     | \n",
       "| VStudio | 155     | 246.50  | 287.0   | 302.10  | 335.25  | 632     | \n",
       "\n",
       "\n"
      ],
      "text/plain": [
       "  IDE     Min. 1st Qu. Median Mean   3rd Qu. Max.\n",
       "1 Eclipse 232  294.75  393.5  468.15 585.50  952 \n",
       "2 PyCharm 143  232.25  279.5  291.45 300.00  572 \n",
       "3 VStudio 155  246.50  287.0  302.10 335.25  632 "
      ]
     },
     "metadata": {},
     "output_type": "display_data"
    }
   ],
   "source": [
    "ddply(ide3, ~ IDE, function(data) summary(data$Time))"
   ]
  },
  {
   "cell_type": "code",
   "execution_count": 27,
   "metadata": {},
   "outputs": [
    {
     "data": {
      "text/html": [
       "<table>\n",
       "<thead><tr><th scope=col>IDE</th><th scope=col>Time.mean</th><th scope=col>Time.sd</th></tr></thead>\n",
       "<tbody>\n",
       "\t<tr><td>Eclipse </td><td>468.15  </td><td>218.1241</td></tr>\n",
       "\t<tr><td>PyCharm </td><td>291.45  </td><td>106.8922</td></tr>\n",
       "\t<tr><td>VStudio </td><td>302.10  </td><td>101.0778</td></tr>\n",
       "</tbody>\n",
       "</table>\n"
      ],
      "text/latex": [
       "\\begin{tabular}{r|lll}\n",
       " IDE & Time.mean & Time.sd\\\\\n",
       "\\hline\n",
       "\t Eclipse  & 468.15   & 218.1241\\\\\n",
       "\t PyCharm  & 291.45   & 106.8922\\\\\n",
       "\t VStudio  & 302.10   & 101.0778\\\\\n",
       "\\end{tabular}\n"
      ],
      "text/markdown": [
       "\n",
       "IDE | Time.mean | Time.sd | \n",
       "|---|---|---|\n",
       "| Eclipse  | 468.15   | 218.1241 | \n",
       "| PyCharm  | 291.45   | 106.8922 | \n",
       "| VStudio  | 302.10   | 101.0778 | \n",
       "\n",
       "\n"
      ],
      "text/plain": [
       "  IDE     Time.mean Time.sd \n",
       "1 Eclipse 468.15    218.1241\n",
       "2 PyCharm 291.45    106.8922\n",
       "3 VStudio 302.10    101.0778"
      ]
     },
     "metadata": {},
     "output_type": "display_data"
    }
   ],
   "source": [
    "ddply(ide3, ~ IDE, summarise, Time.mean = mean(Time), Time.sd = sd(Time))"
   ]
  },
  {
   "cell_type": "code",
   "execution_count": 28,
   "metadata": {},
   "outputs": [
    {
     "data": {
      "image/png": "[encoded data removed]",
      "text/plain": [
       "plot without title"
      ]
     },
     "metadata": {},
     "output_type": "display_data"
    }
   ],
   "source": [
    "# explore the new response distribution\n",
    "VS <- ide3[ide3$IDE == \"VStudio\",]\n",
    "Eclipse <- ide3[ide3$IDE == \"Eclipse\",]\n",
    "PyCharm <- ide3[ide3$IDE == \"PyCharm\",]\n",
    "\n",
    "plot(Time ~ IDE, ide3)"
   ]
  },
  {
   "cell_type": "markdown",
   "metadata": {},
   "source": [
    "We can see that the times for VS and Eclipse haven't changed. The histogram for PyCharm is new and we can see there were quite a few students who took between 200 and 300 minutes for these programs. And a boxplot now compares all three. Looks like PyCharm might have a little edge on VS and both look like they were faster to do than Eclipse. "
   ]
  },
  {
   "cell_type": "markdown",
   "metadata": {},
   "source": [
    "As we did before, we'll test for normality on the result of this time of the new level of PyCharm"
   ]
  },
  {
   "cell_type": "code",
   "execution_count": 29,
   "metadata": {},
   "outputs": [
    {
     "data": {
      "text/plain": [
       "\n",
       "\tShapiro-Wilk normality test\n",
       "\n",
       "data:  PyCharm$Time\n",
       "W = 0.88623, p-value = 0.02294\n"
      ]
     },
     "metadata": {},
     "output_type": "display_data"
    }
   ],
   "source": [
    "# test for normality for the new IDE\n",
    "shapiro.test(PyCharm$Time)"
   ]
  },
  {
   "cell_type": "markdown",
   "metadata": {},
   "source": [
    "The p-value is significant so we have a departure from normality. But we should also test it on the residuals as it's more proper. So we fit our model and test the residuals."
   ]
  },
  {
   "cell_type": "code",
   "execution_count": 30,
   "metadata": {},
   "outputs": [
    {
     "data": {
      "text/plain": [
       "\n",
       "\tShapiro-Wilk normality test\n",
       "\n",
       "data:  residuals_m\n",
       "W = 0.89706, p-value = 0.000103\n"
      ]
     },
     "metadata": {},
     "output_type": "display_data"
    }
   ],
   "source": [
    "m <- aov(Time ~ IDE, data=ide3) # fit model\n",
    "residuals_m <- residuals(m) # residuals\n",
    "shapiro.test(residuals_m) # test the residuals for normality"
   ]
  },
  {
   "cell_type": "markdown",
   "metadata": {},
   "source": [
    "Again, the p-value was lower than 0.05 so it's significant. And thus, we see a departure from normality. Let's take a look at the qqplots"
   ]
  },
  {
   "cell_type": "code",
   "execution_count": 31,
   "metadata": {},
   "outputs": [
    {
     "data": {
      "image/png": "[encoded data removed]",
      "text/plain": [
       "Plot with title \"Normal Q-Q Plot\""
      ]
     },
     "metadata": {},
     "output_type": "display_data"
    }
   ],
   "source": [
    "qqnorm(residuals_m);\n",
    "qqline(residuals_m) "
   ]
  },
  {
   "cell_type": "markdown",
   "metadata": {},
   "source": [
    "We can test lognormality as we did before of the PyCharm level. We already did it previously on VS and Eclipse. "
   ]
  },
  {
   "cell_type": "code",
   "execution_count": 32,
   "metadata": {},
   "outputs": [
    {
     "name": "stdout",
     "output_type": "stream",
     "text": [
      "  meanlog     sdlog \n",
      "5.6176131 0.3329282 \n"
     ]
    },
    {
     "data": {
      "text/plain": [
       "\n",
       "\tOne-sample Kolmogorov-Smirnov test\n",
       "\n",
       "data:  PyCharm$Time\n",
       "D = 0.1864, p-value = 0.4377\n",
       "alternative hypothesis: two-sided\n"
      ]
     },
     "metadata": {},
     "output_type": "display_data"
    }
   ],
   "source": [
    "# test for lognormality of the new IDE (PyCharm)\n",
    "library(\"MASS\")\n",
    "\n",
    "fit <- fitdistr(PyCharm$Time, \"lognormal\")$estimate\n",
    "print(fit)\n",
    "\n",
    "ks.test(PyCharm$Time, \"plnorm\", \n",
    "           meanlog=fit[1], \n",
    "           sdlog=fit[2],\n",
    "           exact=TRUE) # lognormality"
   ]
  },
  {
   "cell_type": "markdown",
   "metadata": {},
   "source": [
    "And the lognormality test with the KS test shows that we're not statististically significant in a departure from lognormality. Because the p-value is greater than 0.05, we fail to reject the null hypothesis that it is lognormal. So this gives us an indication that the PyCharm times may be lognormally distributed. So let's create the LogTime column. "
   ]
  },
  {
   "cell_type": "code",
   "execution_count": 33,
   "metadata": {},
   "outputs": [
    {
     "data": {
      "text/plain": [
       "    Subject        IDE          Time          logTime     \n",
       " 1      : 1   Eclipse:20   Min.   :143.0   Min.   :4.963  \n",
       " 2      : 1   PyCharm:20   1st Qu.:248.8   1st Qu.:5.516  \n",
       " 3      : 1   VStudio:20   Median :295.0   Median :5.687  \n",
       " 4      : 1                Mean   :353.9   Mean   :5.780  \n",
       " 5      : 1                3rd Qu.:391.2   3rd Qu.:5.969  \n",
       " 6      : 1                Max.   :952.0   Max.   :6.859  \n",
       " (Other):54                                               "
      ]
     },
     "metadata": {},
     "output_type": "display_data"
    }
   ],
   "source": [
    "# compute logTime and re-test\n",
    "\n",
    "ide3$logTime <- log(ide3$Time)\n",
    "summary(ide3)"
   ]
  },
  {
   "cell_type": "code",
   "execution_count": 34,
   "metadata": {},
   "outputs": [
    {
     "data": {
      "text/plain": [
       "\n",
       "\tShapiro-Wilk normality test\n",
       "\n",
       "data:  PyCharm$logTime\n",
       "W = 0.96579, p-value = 0.6648\n"
      ]
     },
     "metadata": {},
     "output_type": "display_data"
    }
   ],
   "source": [
    "PyCharm <- ide3[ide3$IDE == \"PyCharm\", ]\n",
    "\n",
    "shapiro.test(PyCharm$logTime)"
   ]
  },
  {
   "cell_type": "markdown",
   "metadata": {},
   "source": [
    "The p-value is greater than 0.05 so we fail to reject the null hypothesis that it is normally distributed. "
   ]
  },
  {
   "cell_type": "code",
   "execution_count": 35,
   "metadata": {},
   "outputs": [
    {
     "data": {
      "text/plain": [
       "\n",
       "\tShapiro-Wilk normality test\n",
       "\n",
       "data:  residuals_m\n",
       "W = 0.96563, p-value = 0.08893\n"
      ]
     },
     "metadata": {},
     "output_type": "display_data"
    }
   ],
   "source": [
    "m <- aov(logTime ~ IDE, data=ide3)\n",
    "residuals_m <- residuals(m)\n",
    "shapiro.test(residuals_m)"
   ]
  },
  {
   "cell_type": "markdown",
   "metadata": {},
   "source": [
    "The p-value here is also greater than 0.05 so we fail to reject the null hypothesis that it is normally distributed. It's close to 0.05 so it's nearly a departure from normality but not quite. So we'll proceed with some confidence there since ANOVA is somewhat robust to milk departures anyway. "
   ]
  },
  {
   "cell_type": "code",
   "execution_count": 36,
   "metadata": {},
   "outputs": [
    {
     "data": {
      "image/png": "[encoded data removed]",
      "text/plain": [
       "Plot with title \"Normal Q-Q Plot\""
      ]
     },
     "metadata": {},
     "output_type": "display_data"
    }
   ],
   "source": [
    "qqnorm(residuals_m); \n",
    "qqline(residuals_m)"
   ]
  },
  {
   "cell_type": "markdown",
   "metadata": {},
   "source": [
    "We'll also do our homscedasticity test with Lavine's test (the Brown-Forsythe version)"
   ]
  },
  {
   "cell_type": "code",
   "execution_count": 37,
   "metadata": {
    "collapsed": true
   },
   "outputs": [],
   "source": [
    "library(\"car\")"
   ]
  },
  {
   "cell_type": "code",
   "execution_count": 38,
   "metadata": {},
   "outputs": [
    {
     "data": {
      "text/html": [
       "<table>\n",
       "<thead><tr><th></th><th scope=col>Df</th><th scope=col>F value</th><th scope=col>Pr(&gt;F)</th></tr></thead>\n",
       "<tbody>\n",
       "\t<tr><th scope=row>group</th><td> 2       </td><td>1.779692 </td><td>0.1779353</td></tr>\n",
       "\t<tr><th scope=row> </th><td>57       </td><td>      NA </td><td>       NA</td></tr>\n",
       "</tbody>\n",
       "</table>\n"
      ],
      "text/latex": [
       "\\begin{tabular}{r|lll}\n",
       "  & Df & F value & Pr(>F)\\\\\n",
       "\\hline\n",
       "\tgroup &  2        & 1.779692  & 0.1779353\\\\\n",
       "\t  & 57        &       NA  &        NA\\\\\n",
       "\\end{tabular}\n"
      ],
      "text/markdown": [
       "\n",
       "| <!--/--> | Df | F value | Pr(>F) | \n",
       "|---|---|\n",
       "| group |  2        | 1.779692  | 0.1779353 | \n",
       "|   | 57        |       NA  |        NA | \n",
       "\n",
       "\n"
      ],
      "text/plain": [
       "      Df F value  Pr(>F)   \n",
       "group  2 1.779692 0.1779353\n",
       "      57       NA        NA"
      ]
     },
     "metadata": {},
     "output_type": "display_data"
    }
   ],
   "source": [
    "leveneTest(logTime ~ IDE, data=ide3, center=median) #Brown-Forsythe test"
   ]
  },
  {
   "cell_type": "markdown",
   "metadata": {},
   "source": [
    "The p-value is greater than 0.05 so we fail to reject the null hypothesis that it is homoscedastic. So that means that we don't have a violation with our logTime result. Our variances are similar enough. So now, we're going to fit the actual one way ANOVA. "
   ]
  },
  {
   "cell_type": "code",
   "execution_count": 39,
   "metadata": {},
   "outputs": [
    {
     "data": {
      "text/html": [
       "<table>\n",
       "<thead><tr><th></th><th scope=col>Df</th><th scope=col>Sum Sq</th><th scope=col>Mean Sq</th><th scope=col>F value</th><th scope=col>Pr(&gt;F)</th></tr></thead>\n",
       "<tbody>\n",
       "\t<tr><th scope=row>IDE</th><td> 2          </td><td>2.306375    </td><td>1.1531876   </td><td>8.796025    </td><td>0.0004684851</td></tr>\n",
       "\t<tr><th scope=row>Residuals</th><td>57          </td><td>7.472886    </td><td>0.1311033   </td><td>      NA    </td><td>          NA</td></tr>\n",
       "</tbody>\n",
       "</table>\n"
      ],
      "text/latex": [
       "\\begin{tabular}{r|lllll}\n",
       "  & Df & Sum Sq & Mean Sq & F value & Pr(>F)\\\\\n",
       "\\hline\n",
       "\tIDE &  2           & 2.306375     & 1.1531876    & 8.796025     & 0.0004684851\\\\\n",
       "\tResiduals & 57           & 7.472886     & 0.1311033    &       NA     &           NA\\\\\n",
       "\\end{tabular}\n"
      ],
      "text/markdown": [
       "\n",
       "| <!--/--> | Df | Sum Sq | Mean Sq | F value | Pr(>F) | \n",
       "|---|---|\n",
       "| IDE |  2           | 2.306375     | 1.1531876    | 8.796025     | 0.0004684851 | \n",
       "| Residuals | 57           | 7.472886     | 0.1311033    |       NA     |           NA | \n",
       "\n",
       "\n"
      ],
      "text/plain": [
       "          Df Sum Sq   Mean Sq   F value  Pr(>F)      \n",
       "IDE        2 2.306375 1.1531876 8.796025 0.0004684851\n",
       "Residuals 57 7.472886 0.1311033       NA           NA"
      ]
     },
     "metadata": {},
     "output_type": "display_data"
    }
   ],
   "source": [
    "# one-way ANOVA, suitable now to logTime\n",
    "\n",
    "m <- aov(logTime ~ IDE, data=ide3) # fit model\n",
    "anova(m) # report anova"
   ]
  },
  {
   "cell_type": "markdown",
   "metadata": {},
   "source": [
    "We fit the model and then we use the ANOVA command to calculate and report the ANOVA. Again, we see the F-value of 8.796. The p-value is much less than 0.05. We reject the null hypothesis that there is not variance among the 3 levels. What that means is the overall ANOVA or the omnibus test (as it's called) shows that there's some difference among these levels of IDE. It does not tell us exactly what the difference is, nor does it tell us where exactly the difference lies in terms of comparisons between each of these IDEs...so we have to look further. \n",
    "\n",
    "But that first test being significant gives us permission to do what are called post-hoc tests, meaning follow-up tests that are pairwaise comparisons that will tell us where those differences lie. So now, we can go back to an independent samples T-Test, between the levels of Eclipse, PyCharm, and VS to see which 2 are different. "
   ]
  },
  {
   "cell_type": "code",
   "execution_count": 40,
   "metadata": {},
   "outputs": [
    {
     "data": {
      "image/png": "[encoded data removed]",
      "text/plain": [
       "plot without title"
      ]
     },
     "metadata": {},
     "output_type": "display_data"
    }
   ],
   "source": [
    "# post hoc independent-samples t-tests\n",
    "plot(Time ~ IDE, data=ide3)"
   ]
  },
  {
   "cell_type": "markdown",
   "metadata": {},
   "source": [
    "And just looking at the graph, we might ask, is PyCharm different from VS? Because those are the ones that obviously look close together. The eclipse level being so different is reason enough for the overal F test to be significant. "
   ]
  },
  {
   "cell_type": "code",
   "execution_count": 41,
   "metadata": {},
   "outputs": [],
   "source": [
    "library(\"multcomp\")"
   ]
  },
  {
   "cell_type": "code",
   "execution_count": 42,
   "metadata": {},
   "outputs": [
    {
     "data": {
      "text/plain": [
       "\n",
       "\t General Linear Hypotheses\n",
       "\n",
       "Multiple Comparisons of Means: Tukey Contrasts\n",
       "\n",
       "\n",
       "Linear Hypotheses:\n",
       "                       Estimate\n",
       "PyCharm - Eclipse == 0  -0.4380\n",
       "VStudio - Eclipse == 0  -0.3895\n",
       "VStudio - PyCharm == 0   0.0485\n"
      ]
     },
     "metadata": {},
     "output_type": "display_data"
    }
   ],
   "source": [
    "(gen_linear_hyp <- glht(m, mcp(IDE=\"Tukey\"))) # Tukey means compare all pairs"
   ]
  },
  {
   "cell_type": "markdown",
   "metadata": {},
   "source": [
    "The GLHT command is doing the test for us and the MCP is a command for multiple comparisons. We say which factor we're testing over. We have one IDE with 3 levels. When we say Tukey, it's a shorthand for all pairwise comparisons. As we've done before, we're adjusting for multiple test because they all by chance have a 1 in 20 chance of being significant. So we adjust with Holm Sequential Bonferroni procedure, which accounts for the factor making multiple comparison so we don't get an inflated chance of seeing significance where there isn't any. "
   ]
  },
  {
   "cell_type": "code",
   "execution_count": 43,
   "metadata": {},
   "outputs": [
    {
     "data": {
      "text/plain": [
       "\n",
       "\t Simultaneous Tests for General Linear Hypotheses\n",
       "\n",
       "Multiple Comparisons of Means: Tukey Contrasts\n",
       "\n",
       "\n",
       "Fit: aov(formula = logTime ~ IDE, data = ide3)\n",
       "\n",
       "Linear Hypotheses:\n",
       "                       Estimate Std. Error t value Pr(>|t|)    \n",
       "PyCharm - Eclipse == 0  -0.4380     0.1145  -3.826 0.000978 ***\n",
       "VStudio - Eclipse == 0  -0.3895     0.1145  -3.402 0.002458 ** \n",
       "VStudio - PyCharm == 0   0.0485     0.1145   0.424 0.673438    \n",
       "---\n",
       "Signif. codes:  0 '***' 0.001 '**' 0.01 '*' 0.05 '.' 0.1 ' ' 1\n",
       "(Adjusted p values reported -- holm method)\n"
      ]
     },
     "metadata": {},
     "output_type": "display_data"
    }
   ],
   "source": [
    "summary(gen_linear_hyp, test=adjusted(type=\"holm\")) "
   ]
  },
  {
   "cell_type": "markdown",
   "metadata": {},
   "source": [
    "We can see our pairwise values. PyCharm vs Eclipse is significantly different and we can see PyCharm is faster. VS vs. Eclipse, we found from before and that hasn't changed. And then VS vs. PyCharm's p-value is 0.67. So these are not detectably different according to this test. "
   ]
  },
  {
   "cell_type": "markdown",
   "metadata": {},
   "source": [
    "Just a matter of completeness in R, I will show another way to use the GLHT command. This time with LSM command which allows us to specify that we want pair-wise comparison. This is another way of executing exactly the same result and you may find a value."
   ]
  },
  {
   "cell_type": "code",
   "execution_count": 44,
   "metadata": {},
   "outputs": [
    {
     "data": {
      "text/plain": [
       "[[1]]\n",
       "pairwise ~ IDE\n",
       "\n",
       "attr(,\"class\")\n",
       "[1] \"emmlf\""
      ]
     },
     "metadata": {},
     "output_type": "display_data"
    }
   ],
   "source": [
    "# note: equivalent to this using lsm instead of mcp\n",
    "library(\"lsmeans\")\n",
    "\n",
    "(lsm_pair <- lsm(pairwise ~ IDE))"
   ]
  },
  {
   "cell_type": "code",
   "execution_count": 45,
   "metadata": {},
   "outputs": [
    {
     "data": {
      "text/plain": [
       "\n",
       "\t General Linear Hypotheses\n",
       "\n",
       "Linear Hypotheses:\n",
       "                       Estimate\n",
       "Eclipse - PyCharm == 0   0.4380\n",
       "Eclipse - VStudio == 0   0.3895\n",
       "PyCharm - VStudio == 0  -0.0485\n"
      ]
     },
     "metadata": {},
     "output_type": "display_data"
    }
   ],
   "source": [
    "(gen_linear_hyp <- glht(m, lsm_pair))"
   ]
  },
  {
   "cell_type": "markdown",
   "metadata": {},
   "source": [
    "We see all the "
   ]
  },
  {
   "cell_type": "code",
   "execution_count": 46,
   "metadata": {},
   "outputs": [
    {
     "data": {
      "text/plain": [
       "\n",
       "\t Simultaneous Tests for General Linear Hypotheses\n",
       "\n",
       "Fit: aov(formula = logTime ~ IDE, data = ide3)\n",
       "\n",
       "Linear Hypotheses:\n",
       "                       Estimate Std. Error t value Pr(>|t|)    \n",
       "Eclipse - PyCharm == 0   0.4380     0.1145   3.826 0.000978 ***\n",
       "Eclipse - VStudio == 0   0.3895     0.1145   3.402 0.002458 ** \n",
       "PyCharm - VStudio == 0  -0.0485     0.1145  -0.424 0.673438    \n",
       "---\n",
       "Signif. codes:  0 '***' 0.001 '**' 0.01 '*' 0.05 '.' 0.1 ' ' 1\n",
       "(Adjusted p values reported -- holm method)\n"
      ]
     },
     "metadata": {},
     "output_type": "display_data"
    }
   ],
   "source": [
    "summary(gen_linear_hyp, test=adjusted(type=\"holm\"))"
   ]
  },
  {
   "cell_type": "markdown",
   "metadata": {},
   "source": [
    "# Kruskal-Wallis - Nonparametric One-way ANOVA"
   ]
  },
  {
   "cell_type": "markdown",
   "metadata": {},
   "source": [
    "What would be the non-parametric equivalent of a one-way ANOVA. The nonparametric version of the test that we just did with these 3 levels? For that, we'll use a test called the Kruskal Wallace test. We'll load it from the coin library. And in much the same way we specify our model here with our data table. And you can't do an exact test with Kruskal-Wallace if you have 3 levels. So we make explicit asumptotic here. "
   ]
  },
  {
   "cell_type": "code",
   "execution_count": 62,
   "metadata": {},
   "outputs": [
    {
     "data": {
      "text/plain": [
       "\n",
       "\tAsymptotic Kruskal-Wallis Test\n",
       "\n",
       "data:  Time by IDE (Eclipse, PyCharm, VStudio)\n",
       "chi-squared = 12.17, df = 2, p-value = 0.002277\n"
      ]
     },
     "metadata": {},
     "output_type": "display_data"
    }
   ],
   "source": [
    "## Nonparametric equivalent of one-way ANOVA\n",
    "\n",
    "# Kruskal-Wallace test\n",
    "library(\"coin\")\n",
    "\n",
    "kruskal_test(Time ~ IDE, data=ide3, distribution=\"asymptotic\") # can't do exact with 3 levels"
   ]
  },
  {
   "cell_type": "markdown",
   "metadata": {},
   "source": [
    "We see that we get a p-value of 0.002. So we have significance there. "
   ]
  },
  {
   "cell_type": "code",
   "execution_count": 63,
   "metadata": {},
   "outputs": [
    {
     "data": {
      "text/plain": [
       "\n",
       "\tAsymptotic Kruskal-Wallis Test\n",
       "\n",
       "data:  logTime by IDE (Eclipse, PyCharm, VStudio)\n",
       "chi-squared = 12.17, df = 2, p-value = 0.002277\n"
      ]
     },
     "metadata": {},
     "output_type": "display_data"
    }
   ],
   "source": [
    "kruskal_test(logTime ~ IDE, data=ide3, distribution=\"asymptotic\") # same result"
   ]
  },
  {
   "cell_type": "markdown",
   "metadata": {},
   "source": [
    "Notice that if we do it on logTime, we get the same result because it is a rank based test. These are reported as chi squared tests. You can get the n which goes into how you report a chi-squared using the nrow() command. "
   ]
  },
  {
   "cell_type": "code",
   "execution_count": 64,
   "metadata": {
    "collapsed": true
   },
   "outputs": [],
   "source": [
    "# for reporting Kruskal-Wallis as chi-square, we can get N with nrow(ide3)"
   ]
  },
  {
   "cell_type": "markdown",
   "metadata": {},
   "source": [
    "Let's follow up with the post-hoc pairwise comparisons. We can use the Mann Whitney test. "
   ]
  },
  {
   "cell_type": "code",
   "execution_count": 53,
   "metadata": {
    "collapsed": true
   },
   "outputs": [],
   "source": [
    "VS <- ide3[ide3$IDE == \"VStudio\",]\n",
    "Eclipse <- ide3[ide3$IDE == \"Eclipse\",]\n",
    "PyCharm <- ide3[ide3$IDE == \"PyCharm\",]"
   ]
  },
  {
   "cell_type": "code",
   "execution_count": 55,
   "metadata": {},
   "outputs": [
    {
     "data": {
      "text/plain": [
       "\n",
       "\tWilcoxon rank sum test with continuity correction\n",
       "\n",
       "data:  VS$Time and Eclipse$Time\n",
       "W = 91, p-value = 0.003333\n",
       "alternative hypothesis: true location shift is not equal to 0\n"
      ]
     },
     "metadata": {},
     "output_type": "display_data"
    },
    {
     "data": {
      "text/plain": [
       "\n",
       "\tWilcoxon rank sum test with continuity correction\n",
       "\n",
       "data:  VS$Time and PyCharm$Time\n",
       "W = 220.5, p-value = 0.5885\n",
       "alternative hypothesis: true location shift is not equal to 0\n"
      ]
     },
     "metadata": {},
     "output_type": "display_data"
    },
    {
     "data": {
      "text/plain": [
       "\n",
       "\tWilcoxon rank sum test with continuity correction\n",
       "\n",
       "data:  Eclipse$Time and PyCharm$Time\n",
       "W = 312, p-value = 0.002561\n",
       "alternative hypothesis: true location shift is not equal to 0\n"
      ]
     },
     "metadata": {},
     "output_type": "display_data"
    }
   ],
   "source": [
    "# manual post-hoc Mann-Whitney U pairwise comparisons\n",
    "# note that wilcox_test we used above doesn't take 2 data vectors so we use wilcox.test\n",
    "\n",
    "(vs.ec <- wilcox.test(VS$Time, Eclipse$Time, exact=FALSE))\n",
    "(vs.py <- wilcox.test(VS$Time, PyCharm$Time, exact=FALSE))\n",
    "(ec.py <- wilcox.test(Eclipse$Time, PyCharm$Time, exact=FALSE))"
   ]
  },
  {
   "cell_type": "code",
   "execution_count": 65,
   "metadata": {},
   "outputs": [
    {
     "data": {
      "text/html": [
       "<ol class=list-inline>\n",
       "\t<li>0.00768184586143377</li>\n",
       "\t<li>0.588488863901123</li>\n",
       "\t<li>0.00768184586143377</li>\n",
       "</ol>\n"
      ],
      "text/latex": [
       "\\begin{enumerate*}\n",
       "\\item 0.00768184586143377\n",
       "\\item 0.588488863901123\n",
       "\\item 0.00768184586143377\n",
       "\\end{enumerate*}\n"
      ],
      "text/markdown": [
       "1. 0.00768184586143377\n",
       "2. 0.588488863901123\n",
       "3. 0.00768184586143377\n",
       "\n",
       "\n"
      ],
      "text/plain": [
       "[1] 0.007681846 0.588488864 0.007681846"
      ]
     },
     "metadata": {},
     "output_type": "display_data"
    }
   ],
   "source": [
    "p.adjust(c(vs.ec$p.value, vs.py$p.value, ec.py$p.value), method=\"holm\")"
   ]
  },
  {
   "cell_type": "markdown",
   "metadata": {},
   "source": [
    "So we have significant difference for VS vs. Eclipse, as we'd expect. For the third one (Eclipse vs. PyCharm), there's also a significant differnce. But no significant diference between VS and PyCharm. So our conclusion with a non-parametric test is the same. For completeness, I include another way of doing non-parametric pairwise comparisons from the PMCMR libary. You can look into that if you want more background. "
   ]
  },
  {
   "cell_type": "code",
   "execution_count": 66,
   "metadata": {},
   "outputs": [
    {
     "name": "stderr",
     "output_type": "stream",
     "text": [
      "Warning message in posthoc.kruskal.conover.test.default(c(341L, 291L, 283L, 155L, :\n",
      "\"Ties are present. Quantiles were corrected for ties.\""
     ]
    },
    {
     "data": {
      "text/plain": [
       "\n",
       "\tPairwise comparisons using Conover's-test for multiple\t\n",
       "                         comparisons of independent samples \n",
       "\n",
       "data:  Time by IDE \n",
       "\n",
       "        Eclipse PyCharm\n",
       "PyCharm 0.0025  -      \n",
       "VStudio 0.0062  0.6620 \n",
       "\n",
       "P value adjustment method: holm "
      ]
     },
     "metadata": {},
     "output_type": "display_data"
    }
   ],
   "source": [
    "# alternative approach is using PMCMR for nonparam pairwise comparisons\n",
    "library(PMCMR)\n",
    "posthoc.kruskal.conover.test(Time ~ IDE, data=ide3, p.adjust.method=\"holm\") # Conover & Iman (1979)"
   ]
  },
  {
   "cell_type": "markdown",
   "metadata": {},
   "source": [
    "The conclusions are the same as we've seen!"
   ]
  },
  {
   "cell_type": "markdown",
   "metadata": {},
   "source": [
    "# Quiz"
   ]
  },
  {
   "cell_type": "code",
   "execution_count": 67,
   "metadata": {
    "collapsed": true
   },
   "outputs": [],
   "source": [
    "df <- read.csv(\"materials/alphabets.csv\")"
   ]
  },
  {
   "cell_type": "code",
   "execution_count": 68,
   "metadata": {},
   "outputs": [
    {
     "data": {
      "text/html": [
       "<table>\n",
       "<thead><tr><th scope=col>Subject</th><th scope=col>Alphabet</th><th scope=col>WPM</th></tr></thead>\n",
       "<tbody>\n",
       "\t<tr><td>1         </td><td>Unistrokes</td><td>11.85     </td></tr>\n",
       "\t<tr><td>2         </td><td>Graffiti  </td><td>13.03     </td></tr>\n",
       "\t<tr><td>3         </td><td>EdgeWrite </td><td> 7.07     </td></tr>\n",
       "\t<tr><td>4         </td><td>Unistrokes</td><td>20.19     </td></tr>\n",
       "\t<tr><td>5         </td><td>Graffiti  </td><td> 9.22     </td></tr>\n",
       "\t<tr><td>6         </td><td>EdgeWrite </td><td>23.68     </td></tr>\n",
       "</tbody>\n",
       "</table>\n"
      ],
      "text/latex": [
       "\\begin{tabular}{r|lll}\n",
       " Subject & Alphabet & WPM\\\\\n",
       "\\hline\n",
       "\t 1          & Unistrokes & 11.85     \\\\\n",
       "\t 2          & Graffiti   & 13.03     \\\\\n",
       "\t 3          & EdgeWrite  &  7.07     \\\\\n",
       "\t 4          & Unistrokes & 20.19     \\\\\n",
       "\t 5          & Graffiti   &  9.22     \\\\\n",
       "\t 6          & EdgeWrite  & 23.68     \\\\\n",
       "\\end{tabular}\n"
      ],
      "text/markdown": [
       "\n",
       "Subject | Alphabet | WPM | \n",
       "|---|---|---|---|---|---|\n",
       "| 1          | Unistrokes | 11.85      | \n",
       "| 2          | Graffiti   | 13.03      | \n",
       "| 3          | EdgeWrite  |  7.07      | \n",
       "| 4          | Unistrokes | 20.19      | \n",
       "| 5          | Graffiti   |  9.22      | \n",
       "| 6          | EdgeWrite  | 23.68      | \n",
       "\n",
       "\n"
      ],
      "text/plain": [
       "  Subject Alphabet   WPM  \n",
       "1 1       Unistrokes 11.85\n",
       "2 2       Graffiti   13.03\n",
       "3 3       EdgeWrite   7.07\n",
       "4 4       Unistrokes 20.19\n",
       "5 5       Graffiti    9.22\n",
       "6 6       EdgeWrite  23.68"
      ]
     },
     "metadata": {},
     "output_type": "display_data"
    }
   ],
   "source": [
    "head(df)"
   ]
  },
  {
   "cell_type": "code",
   "execution_count": 69,
   "metadata": {
    "collapsed": true
   },
   "outputs": [],
   "source": [
    "df$Subject <- as.factor(df$Subject)"
   ]
  },
  {
   "cell_type": "code",
   "execution_count": 75,
   "metadata": {},
   "outputs": [
    {
     "data": {
      "text/plain": [
       "    Subject         Alphabet       WPM        \n",
       " 1      : 1   EdgeWrite :20   Min.   : 3.960  \n",
       " 2      : 1   Graffiti  :20   1st Qu.: 9.738  \n",
       " 3      : 1   Unistrokes:20   Median :13.795  \n",
       " 4      : 1                   Mean   :14.517  \n",
       " 5      : 1                   3rd Qu.:18.348  \n",
       " 6      : 1                   Max.   :28.350  \n",
       " (Other):54                                   "
      ]
     },
     "metadata": {},
     "output_type": "display_data"
    }
   ],
   "source": [
    "summary(df)"
   ]
  },
  {
   "cell_type": "code",
   "execution_count": 76,
   "metadata": {},
   "outputs": [
    {
     "data": {
      "image/png": "[encoded data removed]",
      "text/plain": [
       "plot without title"
      ]
     },
     "metadata": {},
     "output_type": "display_data"
    }
   ],
   "source": [
    "plot(WPM ~ Alphabet, data=df)"
   ]
  },
  {
   "cell_type": "markdown",
   "metadata": {},
   "source": [
    "To the nearest hundredth (two digits), what was the average text entry speed in words per minute (WPM) of the EdgeWrite alphabet?"
   ]
  },
  {
   "cell_type": "code",
   "execution_count": 72,
   "metadata": {},
   "outputs": [],
   "source": [
    "library(\"dplyr\")"
   ]
  },
  {
   "cell_type": "code",
   "execution_count": 73,
   "metadata": {},
   "outputs": [
    {
     "data": {
      "text/html": [
       "<table>\n",
       "<thead><tr><th scope=col>Alphabet</th><th scope=col>avg_WPM</th></tr></thead>\n",
       "<tbody>\n",
       "\t<tr><td>EdgeWrite </td><td>17.1400   </td></tr>\n",
       "\t<tr><td>Graffiti  </td><td>15.0395   </td></tr>\n",
       "\t<tr><td>Unistrokes</td><td>11.3715   </td></tr>\n",
       "</tbody>\n",
       "</table>\n"
      ],
      "text/latex": [
       "\\begin{tabular}{r|ll}\n",
       " Alphabet & avg\\_WPM\\\\\n",
       "\\hline\n",
       "\t EdgeWrite  & 17.1400   \\\\\n",
       "\t Graffiti   & 15.0395   \\\\\n",
       "\t Unistrokes & 11.3715   \\\\\n",
       "\\end{tabular}\n"
      ],
      "text/markdown": [
       "\n",
       "Alphabet | avg_WPM | \n",
       "|---|---|---|\n",
       "| EdgeWrite  | 17.1400    | \n",
       "| Graffiti   | 15.0395    | \n",
       "| Unistrokes | 11.3715    | \n",
       "\n",
       "\n"
      ],
      "text/plain": [
       "  Alphabet   avg_WPM\n",
       "1 EdgeWrite  17.1400\n",
       "2 Graffiti   15.0395\n",
       "3 Unistrokes 11.3715"
      ]
     },
     "metadata": {},
     "output_type": "display_data"
    }
   ],
   "source": [
    "df %>%\n",
    "    group_by(Alphabet) %>%\n",
    "    summarise(avg_WPM = mean(WPM))"
   ]
  },
  {
   "cell_type": "markdown",
   "metadata": {},
   "source": [
    "Conduct Shapiro-Wilk normality tests on the WPM response for each Alphabet. Which of the following, if any, violate the normality test? "
   ]
  },
  {
   "cell_type": "code",
   "execution_count": 81,
   "metadata": {},
   "outputs": [],
   "source": [
    "edge <- df[df$Alphabet == \"EdgeWrite\", ]\n",
    "graf <- df[df$Alphabet == \"Graffiti\", ]\n",
    "uni <- df[df$Alphabet == \"Unistrokes\", ]"
   ]
  },
  {
   "cell_type": "code",
   "execution_count": 82,
   "metadata": {},
   "outputs": [
    {
     "data": {
      "text/plain": [
       "\n",
       "\tShapiro-Wilk normality test\n",
       "\n",
       "data:  edge$WPM\n",
       "W = 0.95958, p-value = 0.5355\n"
      ]
     },
     "metadata": {},
     "output_type": "display_data"
    },
    {
     "data": {
      "text/plain": [
       "\n",
       "\tShapiro-Wilk normality test\n",
       "\n",
       "data:  graf$WPM\n",
       "W = 0.94311, p-value = 0.2743\n"
      ]
     },
     "metadata": {},
     "output_type": "display_data"
    },
    {
     "data": {
      "text/plain": [
       "\n",
       "\tShapiro-Wilk normality test\n",
       "\n",
       "data:  uni$WPM\n",
       "W = 0.94042, p-value = 0.2442\n"
      ]
     },
     "metadata": {},
     "output_type": "display_data"
    }
   ],
   "source": [
    "shapiro.test(edge$WPM)\n",
    "shapiro.test(graf$WPM)\n",
    "shapiro.test(uni$WPM)"
   ]
  },
  {
   "cell_type": "markdown",
   "metadata": {},
   "source": [
    "Null hypothesis is that the data is normally distributed (no difference from the normal distribution). All 3 are greater than 0.05 so we fail to reject the null hypotheses for all 3. All 3 are normally distributed. "
   ]
  },
  {
   "cell_type": "markdown",
   "metadata": {},
   "source": [
    "Conduct a Shapiro-Wilk normality test on the residuals of a WPM by Alphabet model. To the nearest ten-thousandth (four digits), what is the p-value from such a test? Hint: Fit a model with aov and then run shapiro.test on the model residuals."
   ]
  },
  {
   "cell_type": "code",
   "execution_count": 83,
   "metadata": {},
   "outputs": [
    {
     "data": {
      "text/plain": [
       "\n",
       "\tShapiro-Wilk normality test\n",
       "\n",
       "data:  residuals_m\n",
       "W = 0.97762, p-value = 0.3363\n"
      ]
     },
     "metadata": {},
     "output_type": "display_data"
    }
   ],
   "source": [
    "m <- aov(WPM ~ Alphabet, data=df)\n",
    "residuals_m <- residuals(m)\n",
    "shapiro.test(residuals_m)"
   ]
  },
  {
   "cell_type": "markdown",
   "metadata": {},
   "source": [
    "Conduct a Brown-Forsythe homoscedasticity test on WPM by Alphabet. To the nearest ten-thousandth (four digits), what is the p-value from such a test? Hint: Use the car library and its leveneTest function with center=median."
   ]
  },
  {
   "cell_type": "code",
   "execution_count": 84,
   "metadata": {},
   "outputs": [
    {
     "data": {
      "text/html": [
       "<table>\n",
       "<thead><tr><th></th><th scope=col>Df</th><th scope=col>F value</th><th scope=col>Pr(&gt;F)</th></tr></thead>\n",
       "<tbody>\n",
       "\t<tr><th scope=row>group</th><td> 2      </td><td>1.621912</td><td>0.206503</td></tr>\n",
       "\t<tr><th scope=row> </th><td>57      </td><td>      NA</td><td>      NA</td></tr>\n",
       "</tbody>\n",
       "</table>\n"
      ],
      "text/latex": [
       "\\begin{tabular}{r|lll}\n",
       "  & Df & F value & Pr(>F)\\\\\n",
       "\\hline\n",
       "\tgroup &  2       & 1.621912 & 0.206503\\\\\n",
       "\t  & 57       &       NA &       NA\\\\\n",
       "\\end{tabular}\n"
      ],
      "text/markdown": [
       "\n",
       "| <!--/--> | Df | F value | Pr(>F) | \n",
       "|---|---|\n",
       "| group |  2       | 1.621912 | 0.206503 | \n",
       "|   | 57       |       NA |       NA | \n",
       "\n",
       "\n"
      ],
      "text/plain": [
       "      Df F value  Pr(>F)  \n",
       "group  2 1.621912 0.206503\n",
       "      57       NA       NA"
      ]
     },
     "metadata": {},
     "output_type": "display_data"
    }
   ],
   "source": [
    "leveneTest(WPM ~ Alphabet, data=df, center=median) # Brown-Forsythe test"
   ]
  },
  {
   "cell_type": "markdown",
   "metadata": {},
   "source": [
    "Conduct a oneway ANOVA on WPM by Alphabet. To the nearest hundredth (two digits), what is the F statistic from such a test?"
   ]
  },
  {
   "cell_type": "code",
   "execution_count": 85,
   "metadata": {},
   "outputs": [
    {
     "data": {
      "text/html": [
       "<table>\n",
       "<thead><tr><th></th><th scope=col>Df</th><th scope=col>Sum Sq</th><th scope=col>Mean Sq</th><th scope=col>F value</th><th scope=col>Pr(&gt;F)</th></tr></thead>\n",
       "<tbody>\n",
       "\t<tr><th scope=row>Alphabet</th><td> 2         </td><td> 340.9461  </td><td>170.47306  </td><td>5.947159   </td><td>0.004510309</td></tr>\n",
       "\t<tr><th scope=row>Residuals</th><td>57         </td><td>1633.8834  </td><td> 28.66462  </td><td>      NA   </td><td>         NA</td></tr>\n",
       "</tbody>\n",
       "</table>\n"
      ],
      "text/latex": [
       "\\begin{tabular}{r|lllll}\n",
       "  & Df & Sum Sq & Mean Sq & F value & Pr(>F)\\\\\n",
       "\\hline\n",
       "\tAlphabet &  2          &  340.9461   & 170.47306   & 5.947159    & 0.004510309\\\\\n",
       "\tResiduals & 57          & 1633.8834   &  28.66462   &       NA    &          NA\\\\\n",
       "\\end{tabular}\n"
      ],
      "text/markdown": [
       "\n",
       "| <!--/--> | Df | Sum Sq | Mean Sq | F value | Pr(>F) | \n",
       "|---|---|\n",
       "| Alphabet |  2          |  340.9461   | 170.47306   | 5.947159    | 0.004510309 | \n",
       "| Residuals | 57          | 1633.8834   |  28.66462   |       NA    |          NA | \n",
       "\n",
       "\n"
      ],
      "text/plain": [
       "          Df Sum Sq    Mean Sq   F value  Pr(>F)     \n",
       "Alphabet   2  340.9461 170.47306 5.947159 0.004510309\n",
       "Residuals 57 1633.8834  28.66462       NA          NA"
      ]
     },
     "metadata": {},
     "output_type": "display_data"
    }
   ],
   "source": [
    "m <- aov(WPM ~ Alphabet, data=df)\n",
    "anova(m)"
   ]
  },
  {
   "cell_type": "markdown",
   "metadata": {},
   "source": [
    "Perform simultaneous pairwise comparisons among levels of Alphabet using the Tukey approach. Adjust for multiple comparisons using Holm's sequential Bonferroni procedure. To the nearest ten-thousandth (four digits), what is the corrected p-value for the comparison of Unistrokes to Graffiti? Hint: Use the multcomp library and its mcp function called from within its glht function.\n",
    "\n"
   ]
  },
  {
   "cell_type": "code",
   "execution_count": 87,
   "metadata": {},
   "outputs": [
    {
     "data": {
      "text/plain": [
       "\n",
       "\t Simultaneous Tests for General Linear Hypotheses\n",
       "\n",
       "Multiple Comparisons of Means: Tukey Contrasts\n",
       "\n",
       "\n",
       "Fit: aov(formula = WPM ~ Alphabet, data = df)\n",
       "\n",
       "Linear Hypotheses:\n",
       "                            Estimate Std. Error t value Pr(>|t|)   \n",
       "Graffiti - EdgeWrite == 0     -2.100      1.693  -1.241  0.21982   \n",
       "Unistrokes - EdgeWrite == 0   -5.768      1.693  -3.407  0.00363 **\n",
       "Unistrokes - Graffiti == 0    -3.668      1.693  -2.166  0.06894 . \n",
       "---\n",
       "Signif. codes:  0 '***' 0.001 '**' 0.01 '*' 0.05 '.' 0.1 ' ' 1\n",
       "(Adjusted p values reported -- holm method)\n"
      ]
     },
     "metadata": {},
     "output_type": "display_data"
    }
   ],
   "source": [
    "glh <- glht(m, mcp(Alphabet=\"Tukey\")) # pairwise\n",
    "summary(glh, test=adjusted(type=\"holm\"))"
   ]
  },
  {
   "cell_type": "markdown",
   "metadata": {},
   "source": [
    "According to the results of the simultaneous pairwise comparisons, which of the following levels of Alphabet are significantly different in terms of WPM?\n",
    "\n",
    "* Unistrokes - EdgeWrite"
   ]
  },
  {
   "cell_type": "markdown",
   "metadata": {},
   "source": [
    "Conduct a Kruskal-Wallis test on WPM by Alphabet. To the nearest ten-thousandth (four digits), what is the p-value from such a test? Hint: Use the coin library and its kruskal_test function with distribution=\"asymptotic\"."
   ]
  },
  {
   "cell_type": "code",
   "execution_count": 88,
   "metadata": {},
   "outputs": [
    {
     "data": {
      "text/plain": [
       "\n",
       "\tAsymptotic Kruskal-Wallis Test\n",
       "\n",
       "data:  WPM by\n",
       "\t Alphabet (EdgeWrite, Graffiti, Unistrokes)\n",
       "chi-squared = 9.7019, df = 2, p-value = 0.007821\n"
      ]
     },
     "metadata": {},
     "output_type": "display_data"
    }
   ],
   "source": [
    "kruskal_test(WPM ~ Alphabet, data=df, distribution=\"asymptotic\")"
   ]
  },
  {
   "cell_type": "markdown",
   "metadata": {},
   "source": [
    "Conduct nonparametric post hoc pairwise comparisons of WPM among all levels of Alphabet manually using three separate Mann-Whitney U tests. Adjust the p-values using Holm's sequential Bonferroni procedure. To the nearest ten-thousandth (four digits), what is the corrected p-value for Unistrokes vs. Graffiti? Hint: The coin library's wilcox_test only takes a model formula specification. For this, you need wilcox.test with paired=FALSE (and to avoid warnings, exact=FALSE).\n",
    "\n"
   ]
  },
  {
   "cell_type": "code",
   "execution_count": 89,
   "metadata": {
    "collapsed": true
   },
   "outputs": [],
   "source": [
    "edge <- df[df$Alphabet == \"EdgeWrite\", ]\n",
    "graf <- df[df$Alphabet == \"Graffiti\", ]\n",
    "uni <- df[df$Alphabet == \"Unistrokes\", ]"
   ]
  },
  {
   "cell_type": "code",
   "execution_count": 90,
   "metadata": {},
   "outputs": [
    {
     "data": {
      "text/html": [
       "<ol class=list-inline>\n",
       "\t<li>0.203581468257191</li>\n",
       "\t<li>0.0181067671951494</li>\n",
       "\t<li>0.041469188414365</li>\n",
       "</ol>\n"
      ],
      "text/latex": [
       "\\begin{enumerate*}\n",
       "\\item 0.203581468257191\n",
       "\\item 0.0181067671951494\n",
       "\\item 0.041469188414365\n",
       "\\end{enumerate*}\n"
      ],
      "text/markdown": [
       "1. 0.203581468257191\n",
       "2. 0.0181067671951494\n",
       "3. 0.041469188414365\n",
       "\n",
       "\n"
      ],
      "text/plain": [
       "[1] 0.20358147 0.01810677 0.04146919"
      ]
     },
     "metadata": {},
     "output_type": "display_data"
    }
   ],
   "source": [
    "edge.graf <- wilcox.test(edge$WPM, graf$WPM, exact=FALSE)\n",
    "edge.uni <- wilcox.test(edge$WPM, uni$WPM, exact=FALSE)\n",
    "graf.uni <- wilcox.test(graf$WPM, uni$WPM, exact=FALSE)\n",
    "\n",
    "res <- c(edge.graf$p.value, edge.uni$p.value, graf.uni$p.value)\n",
    "\n",
    "p.adjust(res, method=\"holm\")"
   ]
  }
 ],
 "metadata": {
  "kernelspec": {
   "display_name": "R",
   "language": "R",
   "name": "ir"
  },
  "language_info": {
   "codemirror_mode": "r",
   "file_extension": ".r",
   "mimetype": "text/x-r-source",
   "name": "R",
   "pygments_lexer": "r",
   "version": "3.4.1"
  }
 },
 "nbformat": 4,
 "nbformat_minor": 2
}
