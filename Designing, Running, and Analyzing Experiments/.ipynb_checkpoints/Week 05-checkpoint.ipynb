{
 "cells": [
  {
   "cell_type": "markdown",
   "metadata": {},
   "source": [
    "# Introduction"
   ]
  },
  {
   "cell_type": "markdown",
   "metadata": {},
   "source": [
    "So we've just compared 2 programming languages and environments (C# in VS and Java in Eclipse). For the total task time, it's taken 20 students using each of those tools to write a series of small programs as a part of an intro to programming class. We found that VS was significantly faster according to the statistical test that we did. \n",
    "\n",
    "What happens now if we add a 3rd programming environment? We no long can use an independent samples T-test (or the Mann-Whitney U test) when we have 3 levels together. \n",
    "\n",
    "Let's say that the 3rd level is the Python programming language and the PyCharm programming environment. This will bring us to a very powerful and widely used test, the F-Test. And in this cae, it arises in the context of what's called a one-way ANOVA. Again, ANOVA stands for Analysis of Variance. One-way refers to a single factor in that analysis. And that factor is IDE and has 3 levels (VS, Eclipse, and PyCharm). "
   ]
  },
  {
   "cell_type": "markdown",
   "metadata": {},
   "source": [
    "# Analyzing and reporting a one-way ANOVA\n",
    "\n",
    "We're moving to 3 levels (which will require that we use a one-way ANOVA). "
   ]
  },
  {
   "cell_type": "code",
   "execution_count": 4,
   "metadata": {},
   "outputs": [
    {
     "data": {
      "text/plain": [
       "    Subject        IDE          Time      \n",
       " 1      : 1   Eclipse:20   Min.   :143.0  \n",
       " 2      : 1   PyCharm:20   1st Qu.:248.8  \n",
       " 3      : 1   VStudio:20   Median :295.0  \n",
       " 4      : 1                Mean   :353.9  \n",
       " 5      : 1                3rd Qu.:391.2  \n",
       " 6      : 1                Max.   :952.0  \n",
       " (Other):54                               "
      ]
     },
     "metadata": {},
     "output_type": "display_data"
    }
   ],
   "source": [
    "# one way ANOVA\n",
    "\n",
    "ide3 <- read.csv(\"materials/ide3.csv\")\n",
    "ide3$Subject <- as.factor(ide3$Subject)\n",
    "summary(ide3)"
   ]
  },
  {
   "cell_type": "code",
   "execution_count": 6,
   "metadata": {},
   "outputs": [],
   "source": [
    "# view descriptive statistics by IDE\n",
    "library(\"plyr\")"
   ]
  },
  {
   "cell_type": "code",
   "execution_count": 8,
   "metadata": {},
   "outputs": [
    {
     "data": {
      "text/html": [
       "<table>\n",
       "<thead><tr><th scope=col>IDE</th><th scope=col>Min.</th><th scope=col>1st Qu.</th><th scope=col>Median</th><th scope=col>Mean</th><th scope=col>3rd Qu.</th><th scope=col>Max.</th></tr></thead>\n",
       "<tbody>\n",
       "\t<tr><td>Eclipse</td><td>232    </td><td>294.75 </td><td>393.5  </td><td>468.15 </td><td>585.50 </td><td>952    </td></tr>\n",
       "\t<tr><td>PyCharm</td><td>143    </td><td>232.25 </td><td>279.5  </td><td>291.45 </td><td>300.00 </td><td>572    </td></tr>\n",
       "\t<tr><td>VStudio</td><td>155    </td><td>246.50 </td><td>287.0  </td><td>302.10 </td><td>335.25 </td><td>632    </td></tr>\n",
       "</tbody>\n",
       "</table>\n"
      ],
      "text/latex": [
       "\\begin{tabular}{r|lllllll}\n",
       " IDE & Min. & 1st Qu. & Median & Mean & 3rd Qu. & Max.\\\\\n",
       "\\hline\n",
       "\t Eclipse & 232     & 294.75  & 393.5   & 468.15  & 585.50  & 952    \\\\\n",
       "\t PyCharm & 143     & 232.25  & 279.5   & 291.45  & 300.00  & 572    \\\\\n",
       "\t VStudio & 155     & 246.50  & 287.0   & 302.10  & 335.25  & 632    \\\\\n",
       "\\end{tabular}\n"
      ],
      "text/markdown": [
       "\n",
       "IDE | Min. | 1st Qu. | Median | Mean | 3rd Qu. | Max. | \n",
       "|---|---|---|\n",
       "| Eclipse | 232     | 294.75  | 393.5   | 468.15  | 585.50  | 952     | \n",
       "| PyCharm | 143     | 232.25  | 279.5   | 291.45  | 300.00  | 572     | \n",
       "| VStudio | 155     | 246.50  | 287.0   | 302.10  | 335.25  | 632     | \n",
       "\n",
       "\n"
      ],
      "text/plain": [
       "  IDE     Min. 1st Qu. Median Mean   3rd Qu. Max.\n",
       "1 Eclipse 232  294.75  393.5  468.15 585.50  952 \n",
       "2 PyCharm 143  232.25  279.5  291.45 300.00  572 \n",
       "3 VStudio 155  246.50  287.0  302.10 335.25  632 "
      ]
     },
     "metadata": {},
     "output_type": "display_data"
    }
   ],
   "source": [
    "ddply(ide3, ~ IDE, function(data) summary(data$Time))"
   ]
  },
  {
   "cell_type": "code",
   "execution_count": 9,
   "metadata": {},
   "outputs": [
    {
     "data": {
      "text/html": [
       "<table>\n",
       "<thead><tr><th scope=col>IDE</th><th scope=col>Time.mean</th><th scope=col>Time.sd</th></tr></thead>\n",
       "<tbody>\n",
       "\t<tr><td>Eclipse </td><td>468.15  </td><td>218.1241</td></tr>\n",
       "\t<tr><td>PyCharm </td><td>291.45  </td><td>106.8922</td></tr>\n",
       "\t<tr><td>VStudio </td><td>302.10  </td><td>101.0778</td></tr>\n",
       "</tbody>\n",
       "</table>\n"
      ],
      "text/latex": [
       "\\begin{tabular}{r|lll}\n",
       " IDE & Time.mean & Time.sd\\\\\n",
       "\\hline\n",
       "\t Eclipse  & 468.15   & 218.1241\\\\\n",
       "\t PyCharm  & 291.45   & 106.8922\\\\\n",
       "\t VStudio  & 302.10   & 101.0778\\\\\n",
       "\\end{tabular}\n"
      ],
      "text/markdown": [
       "\n",
       "IDE | Time.mean | Time.sd | \n",
       "|---|---|---|\n",
       "| Eclipse  | 468.15   | 218.1241 | \n",
       "| PyCharm  | 291.45   | 106.8922 | \n",
       "| VStudio  | 302.10   | 101.0778 | \n",
       "\n",
       "\n"
      ],
      "text/plain": [
       "  IDE     Time.mean Time.sd \n",
       "1 Eclipse 468.15    218.1241\n",
       "2 PyCharm 291.45    106.8922\n",
       "3 VStudio 302.10    101.0778"
      ]
     },
     "metadata": {},
     "output_type": "display_data"
    }
   ],
   "source": [
    "ddply(ide3, ~ IDE, summarise, Time.mean = mean(Time), Time.sd = sd(Time))"
   ]
  },
  {
   "cell_type": "code",
   "execution_count": 15,
   "metadata": {},
   "outputs": [
    {
     "data": {
      "image/png": "[encoded data removed]",
      "text/plain": [
       "plot without title"
      ]
     },
     "metadata": {},
     "output_type": "display_data"
    }
   ],
   "source": [
    "# explore the new response distribution\n",
    "VS <- ide3[ide3$IDE == \"VStudio\",]\n",
    "Eclipse <- ide3[ide3$IDE == \"Eclipse\",]\n",
    "PyCharm <- ide3[ide3$IDE == \"PyCharm\",]\n",
    "\n",
    "plot(Time ~ IDE, ide3)"
   ]
  },
  {
   "cell_type": "markdown",
   "metadata": {},
   "source": [
    "We can see that the times for VS and Eclipse haven't changed. The histogram for PyCharm is new and we can see there were quite a few students who took between 200 and 300 minutes for these programs. And a boxplot now compares all three. Looks like PyCharm might have a little edge on VS and both look like they were faster to do than Eclipse. "
   ]
  },
  {
   "cell_type": "markdown",
   "metadata": {},
   "source": [
    "As we did before, we'll test for normality on the result of this time of the new level of PyCharm"
   ]
  },
  {
   "cell_type": "code",
   "execution_count": 16,
   "metadata": {},
   "outputs": [
    {
     "data": {
      "text/plain": [
       "\n",
       "\tShapiro-Wilk normality test\n",
       "\n",
       "data:  PyCharm$Time\n",
       "W = 0.88623, p-value = 0.02294\n"
      ]
     },
     "metadata": {},
     "output_type": "display_data"
    }
   ],
   "source": [
    "# test for normality for the new IDE\n",
    "shapiro.test(PyCharm$Time)"
   ]
  },
  {
   "cell_type": "markdown",
   "metadata": {},
   "source": [
    "The p-value is significant so we have a departure from normality. But we should also test it on the residuals as it's more proper. So we fit our model and test the residuals."
   ]
  },
  {
   "cell_type": "code",
   "execution_count": 17,
   "metadata": {},
   "outputs": [
    {
     "data": {
      "text/plain": [
       "\n",
       "\tShapiro-Wilk normality test\n",
       "\n",
       "data:  residuals_m\n",
       "W = 0.89706, p-value = 0.000103\n"
      ]
     },
     "metadata": {},
     "output_type": "display_data"
    }
   ],
   "source": [
    "m <- aov(Time ~ IDE, data=ide3) # fit model\n",
    "residuals_m <- residuals(m) # residuals\n",
    "shapiro.test(residuals_m) # test the residuals for normality"
   ]
  },
  {
   "cell_type": "markdown",
   "metadata": {},
   "source": [
    "Again, the p-value was lower than 0.05 so it's significant. And thus, we see a departure from normality. Let's take a look at the qqplots"
   ]
  },
  {
   "cell_type": "code",
   "execution_count": 18,
   "metadata": {},
   "outputs": [
    {
     "data": {
      "image/png": "[encoded data removed]",
      "text/plain": [
       "Plot with title \"Normal Q-Q Plot\""
      ]
     },
     "metadata": {},
     "output_type": "display_data"
    }
   ],
   "source": [
    "qqnorm(residuals_m);\n",
    "qqline(residuals_m) "
   ]
  },
  {
   "cell_type": "markdown",
   "metadata": {},
   "source": [
    "We can test lognormality as we did before of the PyCharm level. We already did it previously on VS and Eclipse. "
   ]
  },
  {
   "cell_type": "code",
   "execution_count": 21,
   "metadata": {},
   "outputs": [
    {
     "name": "stdout",
     "output_type": "stream",
     "text": [
      "  meanlog     sdlog \n",
      "5.6176131 0.3329282 \n"
     ]
    },
    {
     "data": {
      "text/plain": [
       "\n",
       "\tOne-sample Kolmogorov-Smirnov test\n",
       "\n",
       "data:  PyCharm$Time\n",
       "D = 0.1864, p-value = 0.4377\n",
       "alternative hypothesis: two-sided\n"
      ]
     },
     "metadata": {},
     "output_type": "display_data"
    }
   ],
   "source": [
    "# test for lognormality of the new IDE (PyCharm)\n",
    "library(\"MASS\")\n",
    "\n",
    "fit <- fitdistr(PyCharm$Time, \"lognormal\")$estimate\n",
    "print(fit)\n",
    "\n",
    "ks.test(PyCharm$Time, \"plnorm\", \n",
    "           meanlog=fit[1], \n",
    "           sdlog=fit[2],\n",
    "           exact=TRUE) # lognormality"
   ]
  },
  {
   "cell_type": "markdown",
   "metadata": {},
   "source": [
    "And the lognormality test with the KS test shows that we're not statististically significant in a departure from lognormality. Because the p-value is greater than 0.05, we fail to reject the null hypothesis that it is lognormal. So this gives us an indication that the PyCharm times may be lognormally distributed. So let's create the LogTime column. "
   ]
  },
  {
   "cell_type": "code",
   "execution_count": 22,
   "metadata": {},
   "outputs": [
    {
     "data": {
      "text/plain": [
       "    Subject        IDE          Time          logTime     \n",
       " 1      : 1   Eclipse:20   Min.   :143.0   Min.   :4.963  \n",
       " 2      : 1   PyCharm:20   1st Qu.:248.8   1st Qu.:5.516  \n",
       " 3      : 1   VStudio:20   Median :295.0   Median :5.687  \n",
       " 4      : 1                Mean   :353.9   Mean   :5.780  \n",
       " 5      : 1                3rd Qu.:391.2   3rd Qu.:5.969  \n",
       " 6      : 1                Max.   :952.0   Max.   :6.859  \n",
       " (Other):54                                               "
      ]
     },
     "metadata": {},
     "output_type": "display_data"
    }
   ],
   "source": [
    "# compute logTime and re-test\n",
    "\n",
    "ide3$logTime <- log(ide3$Time)\n",
    "summary(ide3)"
   ]
  },
  {
   "cell_type": "code",
   "execution_count": 23,
   "metadata": {},
   "outputs": [
    {
     "data": {
      "text/plain": [
       "\n",
       "\tShapiro-Wilk normality test\n",
       "\n",
       "data:  PyCharm$logTime\n",
       "W = 0.96579, p-value = 0.6648\n"
      ]
     },
     "metadata": {},
     "output_type": "display_data"
    }
   ],
   "source": [
    "PyCharm <- ide3[ide3$IDE == \"PyCharm\", ]\n",
    "\n",
    "shapiro.test(PyCharm$logTime)"
   ]
  },
  {
   "cell_type": "markdown",
   "metadata": {},
   "source": [
    "The p-value is greater than 0.05 so we fail to reject the null hypothesis that it is normally distributed. "
   ]
  },
  {
   "cell_type": "code",
   "execution_count": 28,
   "metadata": {},
   "outputs": [
    {
     "data": {
      "text/plain": [
       "\n",
       "\tShapiro-Wilk normality test\n",
       "\n",
       "data:  residuals_m\n",
       "W = 0.96563, p-value = 0.08893\n"
      ]
     },
     "metadata": {},
     "output_type": "display_data"
    }
   ],
   "source": [
    "m <- aov(logTime ~ IDE, data=ide3)\n",
    "residuals_m <- residuals(m)\n",
    "shapiro.test(residuals_m)"
   ]
  },
  {
   "cell_type": "markdown",
   "metadata": {},
   "source": [
    "The p-value here is also greater than 0.05 so we fail to reject the null hypothesis that it is normally distributed. It's close to 0.05 so it's nearly a departure from normality but not quite. So we'll proceed with some confidence there since ANOVA is somewhat robust to milk departures anyway. "
   ]
  },
  {
   "cell_type": "code",
   "execution_count": 30,
   "metadata": {},
   "outputs": [
    {
     "data": {
      "image/png": "[encoded data removed]",
      "text/plain": [
       "Plot with title \"Normal Q-Q Plot\""
      ]
     },
     "metadata": {},
     "output_type": "display_data"
    }
   ],
   "source": [
    "qqnorm(residuals_m); \n",
    "qqline(residuals_m)"
   ]
  },
  {
   "cell_type": "markdown",
   "metadata": {},
   "source": [
    "We'll also do our homscedasticity test with Lavine's test (the Brown-Forsythe version)"
   ]
  },
  {
   "cell_type": "code",
   "execution_count": 31,
   "metadata": {
    "collapsed": true
   },
   "outputs": [],
   "source": [
    "library(\"car\")"
   ]
  },
  {
   "cell_type": "code",
   "execution_count": 32,
   "metadata": {},
   "outputs": [
    {
     "data": {
      "text/html": [
       "<table>\n",
       "<thead><tr><th></th><th scope=col>Df</th><th scope=col>F value</th><th scope=col>Pr(&gt;F)</th></tr></thead>\n",
       "<tbody>\n",
       "\t<tr><th scope=row>group</th><td> 2       </td><td>1.779692 </td><td>0.1779353</td></tr>\n",
       "\t<tr><th scope=row> </th><td>57       </td><td>      NA </td><td>       NA</td></tr>\n",
       "</tbody>\n",
       "</table>\n"
      ],
      "text/latex": [
       "\\begin{tabular}{r|lll}\n",
       "  & Df & F value & Pr(>F)\\\\\n",
       "\\hline\n",
       "\tgroup &  2        & 1.779692  & 0.1779353\\\\\n",
       "\t  & 57        &       NA  &        NA\\\\\n",
       "\\end{tabular}\n"
      ],
      "text/markdown": [
       "\n",
       "| <!--/--> | Df | F value | Pr(>F) | \n",
       "|---|---|\n",
       "| group |  2        | 1.779692  | 0.1779353 | \n",
       "|   | 57        |       NA  |        NA | \n",
       "\n",
       "\n"
      ],
      "text/plain": [
       "      Df F value  Pr(>F)   \n",
       "group  2 1.779692 0.1779353\n",
       "      57       NA        NA"
      ]
     },
     "metadata": {},
     "output_type": "display_data"
    }
   ],
   "source": [
    "leveneTest(logTime ~ IDE, data=ide3, center=median) #Brown-Forsythe test"
   ]
  },
  {
   "cell_type": "markdown",
   "metadata": {},
   "source": [
    "The p-value is greater than 0.05 so we fail to reject the null hypothesis that it is homoscedastic. So that means that we don't have a violation with our logTime result. Our variances are similar enough. So now, we're going to fit the actual one way ANOVA. "
   ]
  },
  {
   "cell_type": "code",
   "execution_count": 33,
   "metadata": {},
   "outputs": [
    {
     "data": {
      "text/html": [
       "<table>\n",
       "<thead><tr><th></th><th scope=col>Df</th><th scope=col>Sum Sq</th><th scope=col>Mean Sq</th><th scope=col>F value</th><th scope=col>Pr(&gt;F)</th></tr></thead>\n",
       "<tbody>\n",
       "\t<tr><th scope=row>IDE</th><td> 2          </td><td>2.306375    </td><td>1.1531876   </td><td>8.796025    </td><td>0.0004684851</td></tr>\n",
       "\t<tr><th scope=row>Residuals</th><td>57          </td><td>7.472886    </td><td>0.1311033   </td><td>      NA    </td><td>          NA</td></tr>\n",
       "</tbody>\n",
       "</table>\n"
      ],
      "text/latex": [
       "\\begin{tabular}{r|lllll}\n",
       "  & Df & Sum Sq & Mean Sq & F value & Pr(>F)\\\\\n",
       "\\hline\n",
       "\tIDE &  2           & 2.306375     & 1.1531876    & 8.796025     & 0.0004684851\\\\\n",
       "\tResiduals & 57           & 7.472886     & 0.1311033    &       NA     &           NA\\\\\n",
       "\\end{tabular}\n"
      ],
      "text/markdown": [
       "\n",
       "| <!--/--> | Df | Sum Sq | Mean Sq | F value | Pr(>F) | \n",
       "|---|---|\n",
       "| IDE |  2           | 2.306375     | 1.1531876    | 8.796025     | 0.0004684851 | \n",
       "| Residuals | 57           | 7.472886     | 0.1311033    |       NA     |           NA | \n",
       "\n",
       "\n"
      ],
      "text/plain": [
       "          Df Sum Sq   Mean Sq   F value  Pr(>F)      \n",
       "IDE        2 2.306375 1.1531876 8.796025 0.0004684851\n",
       "Residuals 57 7.472886 0.1311033       NA           NA"
      ]
     },
     "metadata": {},
     "output_type": "display_data"
    }
   ],
   "source": [
    "# one-way ANOVA, suitable now to logTime\n",
    "\n",
    "m <- aov(logTime ~ IDE, data=ide3) # fit model\n",
    "anova(m) # report anova"
   ]
  },
  {
   "cell_type": "markdown",
   "metadata": {},
   "source": [
    "We fit the model and then we use the ANOVA command to calculate and report the ANOVA. Again, we see the F-value of 8.796. The p-value is much less than 0.05. We reject the null hypothesis that there is not variance among the 3 levels. What that means is the overall ANOVA or the omnibus test (as it's called) shows that there's some difference among these levels of IDE. It does not tell us exactly what the difference is, nor does it tell us where exactly the difference lies in terms of comparisons between each of these IDEs...so we have to look further. \n",
    "\n",
    "But that first test being significant gives us permission to do what are called post-hoc tests, meaning follow-up tests that are pairwaise comparisons that will tell us where those differences lie. So now, we can go back to an independent samples T-Test, between the levels of Eclipse, PyCharm, and VS to see which 2 are different. "
   ]
  },
  {
   "cell_type": "code",
   "execution_count": 34,
   "metadata": {},
   "outputs": [
    {
     "data": {
      "image/png": "[encoded data removed]",
      "text/plain": [
       "plot without title"
      ]
     },
     "metadata": {},
     "output_type": "display_data"
    }
   ],
   "source": [
    "# post hoc independent-samples t-tests\n",
    "plot(Time ~ IDE, data=ide3)"
   ]
  },
  {
   "cell_type": "markdown",
   "metadata": {},
   "source": [
    "And just looking at the graph, we might ask, is PyCharm different from VS? Because those are the ones that obviously look close together. The eclipse level being so different is reason enough for the overal F test to be significant. "
   ]
  },
  {
   "cell_type": "code",
   "execution_count": 39,
   "metadata": {},
   "outputs": [],
   "source": [
    "library(\"multcomp\")"
   ]
  },
  {
   "cell_type": "code",
   "execution_count": 53,
   "metadata": {},
   "outputs": [
    {
     "data": {
      "text/plain": [
       "\n",
       "\t General Linear Hypotheses\n",
       "\n",
       "Multiple Comparisons of Means: Tukey Contrasts\n",
       "\n",
       "\n",
       "Linear Hypotheses:\n",
       "                       Estimate\n",
       "PyCharm - Eclipse == 0  -0.4380\n",
       "VStudio - Eclipse == 0  -0.3895\n",
       "VStudio - PyCharm == 0   0.0485\n"
      ]
     },
     "metadata": {},
     "output_type": "display_data"
    }
   ],
   "source": [
    "(gen_linear_hyp <- glht(m, mcp(IDE=\"Tukey\"))) # Tukey means compare all pairs"
   ]
  },
  {
   "cell_type": "markdown",
   "metadata": {},
   "source": [
    "The GLHT command is doing the test for us and the MCP is a command for multiple comparisons. We say which factor we're testing over. We have one IDE with 3 levels. When we say Tukey, it's a shorthand for all pairwise comparisons. As we've done before, we're adjusting for multiple test because they all by chance have a 1 in 20 chance of being significant. So we adjust with Holm Sequential Bonferroni procedure, which accounts for the factor making multiple comparison so we don't get an inflated chance of seeing significance where there isn't any. "
   ]
  },
  {
   "cell_type": "code",
   "execution_count": 55,
   "metadata": {},
   "outputs": [
    {
     "data": {
      "text/plain": [
       "\n",
       "\t Simultaneous Tests for General Linear Hypotheses\n",
       "\n",
       "Fit: aov(formula = logTime ~ IDE, data = ide3)\n",
       "\n",
       "Linear Hypotheses:\n",
       "                       Estimate Std. Error t value Pr(>|t|)    \n",
       "Eclipse - PyCharm == 0   0.4380     0.1145   3.826 0.000978 ***\n",
       "Eclipse - VStudio == 0   0.3895     0.1145   3.402 0.002458 ** \n",
       "PyCharm - VStudio == 0  -0.0485     0.1145  -0.424 0.673438    \n",
       "---\n",
       "Signif. codes:  0 '***' 0.001 '**' 0.01 '*' 0.05 '.' 0.1 ' ' 1\n",
       "(Adjusted p values reported -- holm method)\n"
      ]
     },
     "metadata": {},
     "output_type": "display_data"
    }
   ],
   "source": [
    "summary(gen_linear_hyp, test=adjusted(type=\"holm\")) "
   ]
  },
  {
   "cell_type": "markdown",
   "metadata": {},
   "source": [
    "We can see our pairwise values. PyCharm vs Eclipse is significantly different and we can see PyCharm is faster. VS vs. Eclipse, we found from before and that hasn't changed. And then VS vs. PyCharm's p-value is 0.67. So these are not detectably different according to this test. "
   ]
  },
  {
   "cell_type": "markdown",
   "metadata": {},
   "source": [
    "Just a matter of completeness in R, I will show another way to use the GLHT command. This time with LSM command which allows us to specify that we want pair-wise comparison. This is another way of executing exactly the same result and you may find a value."
   ]
  },
  {
   "cell_type": "code",
   "execution_count": 50,
   "metadata": {},
   "outputs": [
    {
     "data": {
      "text/plain": [
       "[[1]]\n",
       "pairwise ~ IDE\n",
       "\n",
       "attr(,\"class\")\n",
       "[1] \"emmlf\""
      ]
     },
     "metadata": {},
     "output_type": "display_data"
    }
   ],
   "source": [
    "# note: equivalent to this using lsm instead of mcp\n",
    "library(\"lsmeans\")\n",
    "\n",
    "(lsm_pair <- lsm(pairwise ~ IDE))"
   ]
  },
  {
   "cell_type": "code",
   "execution_count": 54,
   "metadata": {},
   "outputs": [
    {
     "data": {
      "text/plain": [
       "\n",
       "\t General Linear Hypotheses\n",
       "\n",
       "Linear Hypotheses:\n",
       "                       Estimate\n",
       "Eclipse - PyCharm == 0   0.4380\n",
       "Eclipse - VStudio == 0   0.3895\n",
       "PyCharm - VStudio == 0  -0.0485\n"
      ]
     },
     "metadata": {},
     "output_type": "display_data"
    }
   ],
   "source": [
    "(gen_linear_hyp <- glht(m, lsm_pair))"
   ]
  },
  {
   "cell_type": "markdown",
   "metadata": {},
   "source": [
    "We see all the "
   ]
  },
  {
   "cell_type": "code",
   "execution_count": 52,
   "metadata": {},
   "outputs": [
    {
     "data": {
      "text/plain": [
       "\n",
       "\t Simultaneous Tests for General Linear Hypotheses\n",
       "\n",
       "Fit: aov(formula = logTime ~ IDE, data = ide3)\n",
       "\n",
       "Linear Hypotheses:\n",
       "                       Estimate Std. Error t value Pr(>|t|)    \n",
       "Eclipse - PyCharm == 0   0.4380     0.1145   3.826 0.000978 ***\n",
       "Eclipse - VStudio == 0   0.3895     0.1145   3.402 0.002458 ** \n",
       "PyCharm - VStudio == 0  -0.0485     0.1145  -0.424 0.673438    \n",
       "---\n",
       "Signif. codes:  0 '***' 0.001 '**' 0.01 '*' 0.05 '.' 0.1 ' ' 1\n",
       "(Adjusted p values reported -- holm method)\n"
      ]
     },
     "metadata": {},
     "output_type": "display_data"
    }
   ],
   "source": [
    "summary(gen_linear_hyp, test=adjusted(type=\"holm\"))"
   ]
  }
 ],
 "metadata": {
  "kernelspec": {
   "display_name": "R",
   "language": "R",
   "name": "ir"
  },
  "language_info": {
   "codemirror_mode": "r",
   "file_extension": ".r",
   "mimetype": "text/x-r-source",
   "name": "R",
   "pygments_lexer": "r",
   "version": "3.4.1"
  }
 },
 "nbformat": 4,
 "nbformat_minor": 2
}
