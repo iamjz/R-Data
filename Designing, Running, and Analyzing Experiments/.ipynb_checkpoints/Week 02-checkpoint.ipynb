{
 "cells": [
  {
   "cell_type": "markdown",
   "metadata": {},
   "source": [
    "# Introduction"
   ]
  },
  {
   "cell_type": "markdown",
   "metadata": {},
   "source": [
    "Let's assume for our study of 60 participants and their preferences between 2 websites that they were all stakeholders in the design of the site. And we've excluded people familiar with the old site. So they're either going to get version A or B, or perhaps we're delivering it to the client of our design firm. So they haven't seen either versions so they're going in to each fresh. \n",
    "\n",
    "And we'll find out that preference in the end. Now, the consideration, and we'll return to this later is...do we want to make sure that people are exposed half to one website and half to the other website first? It accounts for any order effects that might take place between the 2 sides. \n",
    "\n",
    "They give us a preference at the end of their time. Let's say, we give them 20 minutes on each site. Let's make it open and not task-driven. They can just explore and use the site, and give us their preference. The statistical and experimental question is, based on the preferences we gather, is there a significant difference in the preference for one site or the other?"
   ]
  },
  {
   "cell_type": "raw",
   "metadata": {},
   "source": [
    "install.packages(\"RVAideMemoire\", repos = \"https://cran.r-project.org/\")"
   ]
  },
  {
   "cell_type": "code",
   "execution_count": 17,
   "metadata": {},
   "outputs": [],
   "source": [
    "library(\"dplyr\")"
   ]
  },
  {
   "cell_type": "code",
   "execution_count": 18,
   "metadata": {},
   "outputs": [
    {
     "data": {
      "text/html": [
       "<table>\n",
       "<thead><tr><th scope=col>Subject</th><th scope=col>Pref</th></tr></thead>\n",
       "<tbody>\n",
       "\t<tr><td>1</td><td>B</td></tr>\n",
       "\t<tr><td>2</td><td>B</td></tr>\n",
       "\t<tr><td>3</td><td>B</td></tr>\n",
       "\t<tr><td>4</td><td>B</td></tr>\n",
       "\t<tr><td>5</td><td>B</td></tr>\n",
       "\t<tr><td>6</td><td>B</td></tr>\n",
       "</tbody>\n",
       "</table>\n"
      ],
      "text/latex": [
       "\\begin{tabular}{r|ll}\n",
       " Subject & Pref\\\\\n",
       "\\hline\n",
       "\t 1 & B\\\\\n",
       "\t 2 & B\\\\\n",
       "\t 3 & B\\\\\n",
       "\t 4 & B\\\\\n",
       "\t 5 & B\\\\\n",
       "\t 6 & B\\\\\n",
       "\\end{tabular}\n"
      ],
      "text/markdown": [
       "\n",
       "Subject | Pref | \n",
       "|---|---|---|---|---|---|\n",
       "| 1 | B | \n",
       "| 2 | B | \n",
       "| 3 | B | \n",
       "| 4 | B | \n",
       "| 5 | B | \n",
       "| 6 | B | \n",
       "\n",
       "\n"
      ],
      "text/plain": [
       "  Subject Pref\n",
       "1 1       B   \n",
       "2 2       B   \n",
       "3 3       B   \n",
       "4 4       B   \n",
       "5 5       B   \n",
       "6 6       B   "
      ]
     },
     "metadata": {},
     "output_type": "display_data"
    }
   ],
   "source": [
    "prefsAB <- read.csv(\"materials/prefsAB.csv\")\n",
    "head(prefsAB)"
   ]
  },
  {
   "cell_type": "code",
   "execution_count": 26,
   "metadata": {},
   "outputs": [
    {
     "data": {
      "text/plain": [
       "    Subject   Pref  \n",
       " 1      : 1   A:14  \n",
       " 2      : 1   B:46  \n",
       " 3      : 1         \n",
       " 4      : 1         \n",
       " 5      : 1         \n",
       " 6      : 1         \n",
       " (Other):54         "
      ]
     },
     "metadata": {},
     "output_type": "display_data"
    },
    {
     "data": {
      "image/png": "[encoded data removed]",
      "text/plain": [
       "plot without title"
      ]
     },
     "metadata": {},
     "output_type": "display_data"
    }
   ],
   "source": [
    "prefsAB$Subject <- factor(prefsAB$Subject) # convert to categorical datatype\n",
    "(summary(prefsAB))\n",
    "plot(prefsAB$Pref)"
   ]
  },
  {
   "cell_type": "markdown",
   "metadata": {},
   "source": [
    "# Test of proportions | Chi-Squared Test\n",
    "\n",
    "60 people giving us their preference for which website they liked best. This is a one sample test of proportions. That's its formal name. A test of proportion is where you're looking at a proportion of responses. If you find yourself counting subjects themselves, for example, each subject gives their preference, then you may be doing a test of proportions. It's called a one sample because we havea a sample of their preference. So on one variable preference, we have proportions whether they liked website A or B. So that's a one sample test. \n",
    "\n",
    "We're going on to a Pearson Chi Square test. This is a one sample test of proportions. "
   ]
  },
  {
   "cell_type": "code",
   "execution_count": 24,
   "metadata": {},
   "outputs": [
    {
     "data": {
      "text/plain": [
       "Pref\n",
       " A  B \n",
       "14 46 "
      ]
     },
     "metadata": {},
     "output_type": "display_data"
    },
    {
     "data": {
      "text/plain": [
       "\n",
       "\tChi-squared test for given probabilities\n",
       "\n",
       "data:  prfs\n",
       "X-squared = 17.067, df = 1, p-value = 3.609e-05\n"
      ]
     },
     "metadata": {},
     "output_type": "display_data"
    }
   ],
   "source": [
    "# Pearson chi-square test\n",
    "(prfs <- xtabs(~ Pref, data = prefsAB))\n",
    "(chisq.test(prfs))"
   ]
  },
  {
   "cell_type": "markdown",
   "metadata": {},
   "source": [
    "Here's the output, chi squared tests for given probabilities. Chi squared, that's an X but it's the chi symbol, is 17. That's the value of the statistic. The degrees of freedom are one and the P value is very small (near zero). What does this all mean? \n",
    "\n",
    "Each statistical test has a statistic associated with it. Along with chi squared, we'll see the t-test, f-test, and perhaps some others. And the value of those statistics is related to the distribution that the statistic is calculated over. The chi-squared distribution in this case. What's important for our purposes is just to understand what it means if you get a significant result and how to write that. This result is in fact significant because the p-value is less than 0.05. And traditionally taken to be the threshold at which we would pronouce the results to be statistically significant. So clearly, we're very small here, much less than 0.05. \n",
    "\n",
    "At this point, we know there is in fact a statistically significant difference in the preferences for web B (the redesign) over website A (the older site). \n",
    "\n",
    "### Important point about non-significant results\n",
    "\n",
    "Significant results tell us there is a statistically significant difference between things we're comparing. But a non-significant result does not tell us there's no difference between things we're comparing. In fact, it only tells us that there was not a detectable difference with the data that we had. Whether there's a real difference depends only on the data we analyzed. And a non-significant result may just mean that we didn't have enough data to detect a differnce. It doesn't mean that 2 things are equal or that they're the same. It just means that we couldn't detect any difference. So the result was no detectably different. The factors were not detectably different. They were non-significantly difference. That's not the same thing as they're the same. So keep that in mind. That's a very important point when you're interpreting and reporting these kinds of results. "
   ]
  },
  {
   "cell_type": "markdown",
   "metadata": {},
   "source": [
    "# Exact test | Binomial Test\n",
    "\n",
    "Let's do a similar test as chi-squared but has an important difference. It's an exact test and it's formally called the binomial test. The chi-squared test, the one-sampled chi squared test, is an asymptotic test. And that means it's approximately the p-value that we get. And it works better and better the more data points that it has, the more samples. In fact, some people argue that maybe a chi-squared test isn't good to use unless you have 1000 data points or more. We certainly have less than that (60). \n",
    "\n",
    "So we can use an exact test, which is more computationally intensive to calculate but gives us the exact p-value. The binomial test does that. "
   ]
  },
  {
   "cell_type": "code",
   "execution_count": 27,
   "metadata": {},
   "outputs": [
    {
     "data": {
      "text/plain": [
       "\n",
       "\tExact binomial test\n",
       "\n",
       "data:  prfs\n",
       "number of successes = 14, number of trials = 60, p-value = 4.224e-05\n",
       "alternative hypothesis: true probability of success is not equal to 0.5\n",
       "95 percent confidence interval:\n",
       " 0.1338373 0.3603828\n",
       "sample estimates:\n",
       "probability of success \n",
       "             0.2333333 \n"
      ]
     },
     "metadata": {},
     "output_type": "display_data"
    }
   ],
   "source": [
    "# binomial test\n",
    "binom.test(prfs)"
   ]
  },
  {
   "cell_type": "markdown",
   "metadata": {},
   "source": [
    "It gives us the data output and the p-value is also very very small. There's clearly a strong preference for website B over website A. It gives us some other output as well but for our purposes, we won't worry about that yet. So that's the binomial test. We report that simply by writing that we had a binomial test with 60 data points and then report the p-value. "
   ]
  },
  {
   "cell_type": "markdown",
   "metadata": {},
   "source": [
    "# Tests for one sample and more than 2 response variables\n",
    "\n",
    "We've done a test for one sample with 2 response categories. That's using the one sample chi-squared test and the binomial test. What if there are more than 2 response categories? Well, we can still use a one sample chi-squared test but if we want an exact test, we need to go away from the binomial test which can only handle 2 response categories, into something called the multinomial test. "
   ]
  },
  {
   "cell_type": "code",
   "execution_count": 29,
   "metadata": {},
   "outputs": [
    {
     "data": {
      "text/html": [
       "<table>\n",
       "<thead><tr><th scope=col>Subject</th><th scope=col>Pref</th></tr></thead>\n",
       "<tbody>\n",
       "\t<tr><td>1</td><td>C</td></tr>\n",
       "\t<tr><td>2</td><td>C</td></tr>\n",
       "\t<tr><td>3</td><td>B</td></tr>\n",
       "\t<tr><td>4</td><td>C</td></tr>\n",
       "\t<tr><td>5</td><td>C</td></tr>\n",
       "\t<tr><td>6</td><td>B</td></tr>\n",
       "</tbody>\n",
       "</table>\n"
      ],
      "text/latex": [
       "\\begin{tabular}{r|ll}\n",
       " Subject & Pref\\\\\n",
       "\\hline\n",
       "\t 1 & C\\\\\n",
       "\t 2 & C\\\\\n",
       "\t 3 & B\\\\\n",
       "\t 4 & C\\\\\n",
       "\t 5 & C\\\\\n",
       "\t 6 & B\\\\\n",
       "\\end{tabular}\n"
      ],
      "text/markdown": [
       "\n",
       "Subject | Pref | \n",
       "|---|---|---|---|---|---|\n",
       "| 1 | C | \n",
       "| 2 | C | \n",
       "| 3 | B | \n",
       "| 4 | C | \n",
       "| 5 | C | \n",
       "| 6 | B | \n",
       "\n",
       "\n"
      ],
      "text/plain": [
       "  Subject Pref\n",
       "1 1       C   \n",
       "2 2       C   \n",
       "3 3       B   \n",
       "4 4       C   \n",
       "5 5       C   \n",
       "6 6       B   "
      ]
     },
     "metadata": {},
     "output_type": "display_data"
    }
   ],
   "source": [
    "# read in data with 3 response categories\n",
    "\n",
    "prefsABC <- read.csv(\"materials/prefsABC.csv\")\n",
    "head(prefsABC)"
   ]
  },
  {
   "cell_type": "code",
   "execution_count": 30,
   "metadata": {},
   "outputs": [
    {
     "data": {
      "text/plain": [
       "    Subject   Pref  \n",
       " 1      : 1   A: 8  \n",
       " 2      : 1   B:21  \n",
       " 3      : 1   C:31  \n",
       " 4      : 1         \n",
       " 5      : 1         \n",
       " 6      : 1         \n",
       " (Other):54         "
      ]
     },
     "metadata": {},
     "output_type": "display_data"
    },
    {
     "data": {
      "image/png": "[encoded data removed]",
      "text/plain": [
       "plot without title"
      ]
     },
     "metadata": {},
     "output_type": "display_data"
    }
   ],
   "source": [
    "prefsABC$Subject <- factor(prefsABC$Subject) # convert to factor\n",
    "summary(prefsABC)\n",
    "plot(prefsABC$Pref)"
   ]
  },
  {
   "cell_type": "code",
   "execution_count": 33,
   "metadata": {},
   "outputs": [
    {
     "data": {
      "text/plain": [
       "Pref\n",
       " A  B  C \n",
       " 8 21 31 "
      ]
     },
     "metadata": {},
     "output_type": "display_data"
    },
    {
     "data": {
      "text/plain": [
       "\n",
       "\tChi-squared test for given probabilities\n",
       "\n",
       "data:  prfs\n",
       "X-squared = 13.3, df = 2, p-value = 0.001294\n"
      ]
     },
     "metadata": {},
     "output_type": "display_data"
    }
   ],
   "source": [
    "# pearson chi-square test\n",
    "(prfs <- xtabs(~Pref, data=prefsABC))\n",
    "(chisq.test(prfs))"
   ]
  },
  {
   "cell_type": "markdown",
   "metadata": {},
   "source": [
    "We can see here the result now has 2 degrees of freedom, not just 1. Because we have 3 response categories and so the degrees of freedom for a chi-squared test of this kind are the number of response categories minus one. We can also see that our p-value is indeed significantly less than 0.05. Here, I've added the chi squared test result for our 3 response category data. The chi-squared statistic is 13.30 and it us a p-value of less than 0.01. So that's how we'd report that second result. So that's our asymptotic test. \n",
    "\n",
    "The multinomial test that we mentioned is an exact test and for that we're going to load in the XNomial library. "
   ]
  },
  {
   "cell_type": "code",
   "execution_count": 54,
   "metadata": {},
   "outputs": [],
   "source": [
    "library(\"XNomial\")"
   ]
  },
  {
   "cell_type": "markdown",
   "metadata": {},
   "source": [
    "The x multifunction gives us a test over a set of probabilities here. We're testing over the preferences we have. The c function just creates a list. So we can pass in a list of values that are the probabilities if there were no preferences. And that would be a third of the respondents would be for each category A, B, and C. If there was no preference for any of the websites, we'd expect a third of the people to like each of them. And then this function has various ways to calculate the probability and that comes through statname. "
   ]
  },
  {
   "cell_type": "code",
   "execution_count": 55,
   "metadata": {},
   "outputs": [
    {
     "name": "stdout",
     "output_type": "stream",
     "text": [
      "\n",
      "P value (Prob) = 0.0008024\n"
     ]
    }
   ],
   "source": [
    "xmulti(prfs, c(1/3, 1/3, 1/3), statName=\"Prob\")"
   ]
  },
  {
   "cell_type": "markdown",
   "metadata": {},
   "source": [
    "We can see that it gives us a p-value of less than 0.05. That's the exact p-value. So we'd expect a difference, given those proportions. Now, what that tells us, is there is a difference between some levels of numbers, of A, B, and C. It doesn't actually tell us what the difference is between A and B, B and C, or A and C. Those pair-wise differences are what are called post-hoc tests of post-hoc pairwise comparisions. \n",
    "\n",
    "They're post-hoc in the sense that they follow a statistically significant overall or what's called omnibus test. We just did that omnibus test (with the mulinomial test). If we want to know about the comparision of the separate differences, well then we can go ahead and run post-hoc binomial tests. Binomial again in the sense that we're just back to testing each of them against a hypothesized probability. "
   ]
  },
  {
   "cell_type": "code",
   "execution_count": 59,
   "metadata": {},
   "outputs": [],
   "source": [
    "NumA <- sum(prefsABC$Pref == \"A\")\n",
    "NumB <- sum(prefsABC$Pref == \"B\")\n",
    "NumC <- sum(prefsABC$Pref == \"C\")\n",
    "TotalNum <- nrow(prefsABC)"
   ]
  },
  {
   "cell_type": "markdown",
   "metadata": {},
   "source": [
    "We're summing over the rows that have a preference for A and comparing those against all the rows in the table. And comparing that against what would be a chance probability of 1/3. And we're doing that for all A, B, and C levels, to see which ones are significantly different from chance. So, we're going to store all those results in aa, bb, and cc. "
   ]
  },
  {
   "cell_type": "code",
   "execution_count": 60,
   "metadata": {},
   "outputs": [
    {
     "data": {
      "text/plain": [
       "\n",
       "\tExact binomial test\n",
       "\n",
       "data:  NumA and TotalNum\n",
       "number of successes = 8, number of trials = 60, p-value = 0.0005533\n",
       "alternative hypothesis: true probability of success is not equal to 0.3333333\n",
       "95 percent confidence interval:\n",
       " 0.05936442 0.24592222\n",
       "sample estimates:\n",
       "probability of success \n",
       "             0.1333333 \n"
      ]
     },
     "metadata": {},
     "output_type": "display_data"
    },
    {
     "data": {
      "text/plain": [
       "\n",
       "\tExact binomial test\n",
       "\n",
       "data:  NumB and TotalNum\n",
       "number of successes = 21, number of trials = 60, p-value = 0.7852\n",
       "alternative hypothesis: true probability of success is not equal to 0.3333333\n",
       "95 percent confidence interval:\n",
       " 0.2313264 0.4840280\n",
       "sample estimates:\n",
       "probability of success \n",
       "                  0.35 \n"
      ]
     },
     "metadata": {},
     "output_type": "display_data"
    },
    {
     "data": {
      "text/plain": [
       "\n",
       "\tExact binomial test\n",
       "\n",
       "data:  NumC and TotalNum\n",
       "number of successes = 31, number of trials = 60, p-value = 0.003723\n",
       "alternative hypothesis: true probability of success is not equal to 0.3333333\n",
       "95 percent confidence interval:\n",
       " 0.3839460 0.6476871\n",
       "sample estimates:\n",
       "probability of success \n",
       "             0.5166667 \n"
      ]
     },
     "metadata": {},
     "output_type": "display_data"
    }
   ],
   "source": [
    "# post hoc binomial tests with correction for multiple comparisions\n",
    "(aa <- binom.test(NumA, TotalNum, p=1/3))\n",
    "(bb <- binom.test(NumB, TotalNum, p=1/3))\n",
    "(cc <- binom.test(NumC, TotalNum, p=1/3))"
   ]
  },
  {
   "cell_type": "markdown",
   "metadata": {},
   "source": [
    "# Bonferroni Correction\n",
    "\n",
    "Then we're going do do what's called an adjustment. Now, this adjustment needs a little bit of explanation. When we're testing statistical tests and we say that if p is less than 0.05, there's a significant result, that means that there's 1 in 20 chance that just by chance, we might think there's a statistically significant outcome, when in fact it's just by chance. That's what being at 0.05 means, a 1 in 20 chance for that. And so if we're doing what are multiple comparisions, if we were to do 20 of them, we'd expect 1 just by chance to become significant. \n",
    "\n",
    "So we have to adjust for that. And we do that with a Bonferroni Correction. This method here is called \"holm\", which is really the preferred one. It subsumes Bonferroni but it's a little bit less of a strict test. It's a sequential test that adjusts each of the p values according to just how low it is. The 1st p-value is in this case with 3 test multiplied by 3, so increased 3 times. The 2nd is doubled and the highest one is left as is. If at any point one of those is not less than 0.05 then that sequence stops. This is called Holm's sequential Bonferroni procedure. \n",
    "\n",
    "Anytime we're doing multiple tests, we'd have to correct in this fashion."
   ]
  },
  {
   "cell_type": "code",
   "execution_count": 58,
   "metadata": {},
   "outputs": [
    {
     "data": {
      "text/html": [
       "<ol class=list-inline>\n",
       "\t<li>0.00165995407252237</li>\n",
       "\t<li>0.785201685145037</li>\n",
       "\t<li>0.00744697952190104</li>\n",
       "</ol>\n"
      ],
      "text/latex": [
       "\\begin{enumerate*}\n",
       "\\item 0.00165995407252237\n",
       "\\item 0.785201685145037\n",
       "\\item 0.00744697952190104\n",
       "\\end{enumerate*}\n"
      ],
      "text/markdown": [
       "1. 0.00165995407252237\n",
       "2. 0.785201685145037\n",
       "3. 0.00744697952190104\n",
       "\n",
       "\n"
      ],
      "text/plain": [
       "[1] 0.001659954 0.785201685 0.007446980"
      ]
     },
     "metadata": {},
     "output_type": "display_data"
    }
   ],
   "source": [
    "(p.adjust(c(aa$p.value, bb$p.value, cc$p.value), method=\"holm\"))"
   ]
  },
  {
   "cell_type": "markdown",
   "metadata": {},
   "source": [
    "We can see now that we have a significant result for A. It's significantly different from chance from 1/3. People didn't like it as it only had 8 preferences. The preference for B was 21, which was near chance. And then the preference for C was 31, which was was more than half the participants. So that tells us that they're significantly different from chance for those individual ones. We see than A was lower and C was higher. "
   ]
  },
  {
   "cell_type": "markdown",
   "metadata": {},
   "source": [
    "# Two-sample tests of proportions\n",
    "\n",
    "Now we can ask, what happens if we have more than 1 sample? What happens if we have a couple ways in which our participants are sampled, maybe for their preferences but also say for their sex (male or female)? We could ask, is there a difference in what males prefer to what females prefer with respect to these website preferences that we're testing. \n",
    "\n",
    "Also within those samples, might we not have more than 2 response cateogies possible? So for these, we're going to need 2 sample tests of proportions. Or in general, an end sample test to proportion. And we can go through there here when we revisit our data file that had preferences for website A or B. \n",
    "\n",
    "But now, we also add to that the sex of the respondent, whether they were male or female. "
   ]
  },
  {
   "cell_type": "code",
   "execution_count": 61,
   "metadata": {},
   "outputs": [
    {
     "data": {
      "text/html": [
       "<table>\n",
       "<thead><tr><th scope=col>Subject</th><th scope=col>Pref</th><th scope=col>Sex</th></tr></thead>\n",
       "<tbody>\n",
       "\t<tr><td>1</td><td>B</td><td>F</td></tr>\n",
       "\t<tr><td>2</td><td>B</td><td>F</td></tr>\n",
       "\t<tr><td>3</td><td>B</td><td>F</td></tr>\n",
       "\t<tr><td>4</td><td>B</td><td>M</td></tr>\n",
       "\t<tr><td>5</td><td>B</td><td>F</td></tr>\n",
       "\t<tr><td>6</td><td>B</td><td>M</td></tr>\n",
       "</tbody>\n",
       "</table>\n"
      ],
      "text/latex": [
       "\\begin{tabular}{r|lll}\n",
       " Subject & Pref & Sex\\\\\n",
       "\\hline\n",
       "\t 1 & B & F\\\\\n",
       "\t 2 & B & F\\\\\n",
       "\t 3 & B & F\\\\\n",
       "\t 4 & B & M\\\\\n",
       "\t 5 & B & F\\\\\n",
       "\t 6 & B & M\\\\\n",
       "\\end{tabular}\n"
      ],
      "text/markdown": [
       "\n",
       "Subject | Pref | Sex | \n",
       "|---|---|---|---|---|---|\n",
       "| 1 | B | F | \n",
       "| 2 | B | F | \n",
       "| 3 | B | F | \n",
       "| 4 | B | M | \n",
       "| 5 | B | F | \n",
       "| 6 | B | M | \n",
       "\n",
       "\n"
      ],
      "text/plain": [
       "  Subject Pref Sex\n",
       "1 1       B    F  \n",
       "2 2       B    F  \n",
       "3 3       B    F  \n",
       "4 4       B    M  \n",
       "5 5       B    F  \n",
       "6 6       B    M  "
      ]
     },
     "metadata": {},
     "output_type": "display_data"
    }
   ],
   "source": [
    "# Two-sample tests of proportions\n",
    "\n",
    "prefsABsex <- read.csv(\"materials/prefsABsex.csv\")\n",
    "head(prefsABsex)"
   ]
  },
  {
   "cell_type": "code",
   "execution_count": 62,
   "metadata": {},
   "outputs": [
    {
     "data": {
      "text/plain": [
       "    Subject   Pref   Sex   \n",
       " 1      : 1   A:14   F:31  \n",
       " 2      : 1   B:46   M:29  \n",
       " 3      : 1                \n",
       " 4      : 1                \n",
       " 5      : 1                \n",
       " 6      : 1                \n",
       " (Other):54                "
      ]
     },
     "metadata": {},
     "output_type": "display_data"
    }
   ],
   "source": [
    "prefsABsex$Subject <- factor(prefsABsex$Subject) # convert to factor\n",
    "(summary(prefsABsex))"
   ]
  },
  {
   "cell_type": "code",
   "execution_count": 74,
   "metadata": {},
   "outputs": [
    {
     "data": {
      "image/png": "[encoded data removed]",
      "text/plain": [
       "plot without title"
      ]
     },
     "metadata": {},
     "output_type": "display_data"
    }
   ],
   "source": [
    "males <- prefsABsex[prefsABsex$Sex == \"M\", ]\n",
    "plot(males$Pref)"
   ]
  },
  {
   "cell_type": "markdown",
   "metadata": {},
   "source": [
    "Males seem to prefer website B more. Of course, we don't know if that's statistically significant. "
   ]
  },
  {
   "cell_type": "code",
   "execution_count": 76,
   "metadata": {},
   "outputs": [
    {
     "data": {
      "image/png": "[encoded data removed]",
      "text/plain": [
       "plot without title"
      ]
     },
     "metadata": {},
     "output_type": "display_data"
    }
   ],
   "source": [
    "females <- prefsABsex[prefsABsex$Sex == \"F\", ]\n",
    "plot(females$Pref)"
   ]
  },
  {
   "cell_type": "markdown",
   "metadata": {},
   "source": [
    "There was a pretty dramatic drop in their preference for website A there, and that would be certainly very interesting to find. Maybe there's something about it that doesn't make females happy about the design or it's less usable for some reason. Of course, that would be pretty interesting to find. So we can do our Pearson Chi Square test, now it's a two sample test to proportions. "
   ]
  },
  {
   "cell_type": "code",
   "execution_count": 70,
   "metadata": {},
   "outputs": [
    {
     "data": {
      "text/plain": [
       "    Sex\n",
       "Pref  F  M\n",
       "   A  2 12\n",
       "   B 29 17"
      ]
     },
     "metadata": {},
     "output_type": "display_data"
    },
    {
     "data": {
      "text/plain": [
       "\n",
       "\tPearson's Chi-squared test with Yates' continuity correction\n",
       "\n",
       "data:  prfs\n",
       "X-squared = 8.3588, df = 1, p-value = 0.003838\n"
      ]
     },
     "metadata": {},
     "output_type": "display_data"
    }
   ],
   "source": [
    "# Pearson chi-square test\n",
    "(prfs <- xtabs(~Pref + Sex, data=prefsABsex)) # the '+' sign indicates 2 vars\n",
    "chisq.test(prfs)"
   ]
  },
  {
   "cell_type": "markdown",
   "metadata": {},
   "source": [
    "Here, we see that the result is statistically significant. And what that tells us again is just that there are some difference here. We'd need to follow up with a further analysis if we wanted to see exactly where those difference lay. From the graphs, we can pretty easily tell that the difference is strong in large part because of the females lack of preference for website A. \n",
    "\n",
    "Now another test that's catching on and becoming more popular is the G-Test. It's like the chi-square test.  It's also an asymptotic test as well. But it's meant to be more accurate and it's more of a kind of newer version of a similar thing. "
   ]
  },
  {
   "cell_type": "code",
   "execution_count": 80,
   "metadata": {},
   "outputs": [
    {
     "data": {
      "text/plain": [
       "\n",
       "\tG-test\n",
       "\n",
       "data:  prfs\n",
       "G = 11.025, df = 1, p-value = 0.0008989\n"
      ]
     },
     "metadata": {},
     "output_type": "display_data"
    }
   ],
   "source": [
    "# G-test, asymptotic like chi-square\n",
    "library(RVAideMemoire)\n",
    "G.test(prfs)"
   ]
  },
  {
   "cell_type": "markdown",
   "metadata": {},
   "source": [
    "We can see that it produces a similar result to what we've seen before with a 2 sample chi square test. Now there's also an exact test, just like we used the binomial test in the past and the multinomial test but those only work for one sample. \n",
    "\n",
    "We can use Fishers' exact test. Originally developed for 2 by 2 tests like we have here but actually can be generalized to kind of r by c (row by column) of any number becomes somewhat computationally intensive as those grow but for most of the kinds of tests you would be looking at, if you have a small number of samples, then this will work well. The R version of this test is already generalized to be on just 2 by 2 tables. So we can run Fisher's exact test as well and get some output there. "
   ]
  },
  {
   "cell_type": "code",
   "execution_count": 81,
   "metadata": {},
   "outputs": [
    {
     "data": {
      "text/plain": [
       "\n",
       "\tFisher's Exact Test for Count Data\n",
       "\n",
       "data:  prfs\n",
       "p-value = 0.001877\n",
       "alternative hypothesis: true odds ratio is not equal to 1\n",
       "95 percent confidence interval:\n",
       " 0.009898352 0.537050159\n",
       "sample estimates:\n",
       "odds ratio \n",
       " 0.1015763 \n"
      ]
     },
     "metadata": {},
     "output_type": "display_data"
    }
   ],
   "source": [
    "# Fisher's exact test\n",
    "fisher.test(prfs)"
   ]
  },
  {
   "cell_type": "markdown",
   "metadata": {},
   "source": [
    "All of those are alternatives to looking at ways of analyzing a 2 sample test. \n",
    "\n",
    "# 2 sample, more than 2 response categories\n",
    "\n",
    "Now what happens again if we have a 3 response categories? Well...here again, we can go back to our data with 3 response categories. "
   ]
  },
  {
   "cell_type": "code",
   "execution_count": 84,
   "metadata": {},
   "outputs": [
    {
     "data": {
      "text/html": [
       "<table>\n",
       "<thead><tr><th scope=col>Subject</th><th scope=col>Pref</th><th scope=col>Sex</th></tr></thead>\n",
       "<tbody>\n",
       "\t<tr><td>1</td><td>C</td><td>F</td></tr>\n",
       "\t<tr><td>2</td><td>C</td><td>M</td></tr>\n",
       "\t<tr><td>3</td><td>B</td><td>M</td></tr>\n",
       "\t<tr><td>4</td><td>C</td><td>M</td></tr>\n",
       "\t<tr><td>5</td><td>C</td><td>M</td></tr>\n",
       "\t<tr><td>6</td><td>B</td><td>F</td></tr>\n",
       "</tbody>\n",
       "</table>\n"
      ],
      "text/latex": [
       "\\begin{tabular}{r|lll}\n",
       " Subject & Pref & Sex\\\\\n",
       "\\hline\n",
       "\t 1 & C & F\\\\\n",
       "\t 2 & C & M\\\\\n",
       "\t 3 & B & M\\\\\n",
       "\t 4 & C & M\\\\\n",
       "\t 5 & C & M\\\\\n",
       "\t 6 & B & F\\\\\n",
       "\\end{tabular}\n"
      ],
      "text/markdown": [
       "\n",
       "Subject | Pref | Sex | \n",
       "|---|---|---|---|---|---|\n",
       "| 1 | C | F | \n",
       "| 2 | C | M | \n",
       "| 3 | B | M | \n",
       "| 4 | C | M | \n",
       "| 5 | C | M | \n",
       "| 6 | B | F | \n",
       "\n",
       "\n"
      ],
      "text/plain": [
       "  Subject Pref Sex\n",
       "1 1       C    F  \n",
       "2 2       C    M  \n",
       "3 3       B    M  \n",
       "4 4       C    M  \n",
       "5 5       C    M  \n",
       "6 6       B    F  "
      ]
     },
     "metadata": {},
     "output_type": "display_data"
    }
   ],
   "source": [
    "# revisit our data file with 3 response categories, but now with sex (M/F)\n",
    "prefsABCsex <- read.csv(\"materials/prefsABCsex.csv\")\n",
    "head(prefsABCsex)"
   ]
  },
  {
   "cell_type": "code",
   "execution_count": 85,
   "metadata": {},
   "outputs": [
    {
     "data": {
      "text/plain": [
       "    Subject   Pref   Sex   \n",
       " 1      : 1   A: 8   F:29  \n",
       " 2      : 1   B:21   M:31  \n",
       " 3      : 1   C:31         \n",
       " 4      : 1                \n",
       " 5      : 1                \n",
       " 6      : 1                \n",
       " (Other):54                "
      ]
     },
     "metadata": {},
     "output_type": "display_data"
    }
   ],
   "source": [
    "prefsABCsex$Subject <- factor(prefsABCsex$Subject) # convert to nominal factor\n",
    "summary(prefsABCsex)"
   ]
  },
  {
   "cell_type": "code",
   "execution_count": 86,
   "metadata": {},
   "outputs": [
    {
     "data": {
      "image/png": "[encoded data removed]",
      "text/plain": [
       "plot without title"
      ]
     },
     "metadata": {},
     "output_type": "display_data"
    }
   ],
   "source": [
    "males <- prefsABCsex[prefsABCsex$Sex == \"M\",]\n",
    "plot(males$Pref)"
   ]
  },
  {
   "cell_type": "code",
   "execution_count": 87,
   "metadata": {},
   "outputs": [
    {
     "data": {
      "image/png": "[encoded data removed]",
      "text/plain": [
       "plot without title"
      ]
     },
     "metadata": {},
     "output_type": "display_data"
    }
   ],
   "source": [
    "females <- prefsABCsex[prefsABCsex$Sex == \"F\",]\n",
    "plot(females$Pref)"
   ]
  },
  {
   "cell_type": "code",
   "execution_count": 91,
   "metadata": {},
   "outputs": [
    {
     "data": {
      "text/plain": [
       "    Sex\n",
       "Pref  F  M\n",
       "   A  3  5\n",
       "   B 15  6\n",
       "   C 11 20"
      ]
     },
     "metadata": {},
     "output_type": "display_data"
    },
    {
     "name": "stderr",
     "output_type": "stream",
     "text": [
      "Warning message in chisq.test(prfs):\n",
      "\"Chi-squared approximation may be incorrect\""
     ]
    },
    {
     "data": {
      "text/plain": [
       "\n",
       "\tPearson's Chi-squared test\n",
       "\n",
       "data:  prfs\n",
       "X-squared = 6.9111, df = 2, p-value = 0.03157\n"
      ]
     },
     "metadata": {},
     "output_type": "display_data"
    }
   ],
   "source": [
    "(prfs <- xtabs( ~ Pref + Sex, data=prefsABCsex))\n",
    "chisq.test(prfs)"
   ]
  },
  {
   "cell_type": "markdown",
   "metadata": {},
   "source": [
    "We get a warning here because the chi-squared test is not an exact test."
   ]
  },
  {
   "cell_type": "code",
   "execution_count": 89,
   "metadata": {},
   "outputs": [
    {
     "data": {
      "text/plain": [
       "\n",
       "\tG-test\n",
       "\n",
       "data:  prfs\n",
       "G = 7.0744, df = 2, p-value = 0.02909\n"
      ]
     },
     "metadata": {},
     "output_type": "display_data"
    }
   ],
   "source": [
    "# G-test\n",
    "G.test(prfs)"
   ]
  },
  {
   "cell_type": "code",
   "execution_count": 90,
   "metadata": {},
   "outputs": [
    {
     "data": {
      "text/plain": [
       "\n",
       "\tFisher's Exact Test for Count Data\n",
       "\n",
       "data:  prfs\n",
       "p-value = 0.03261\n",
       "alternative hypothesis: two.sided\n"
      ]
     },
     "metadata": {},
     "output_type": "display_data"
    }
   ],
   "source": [
    "# Fisher's exact test\n",
    "fisher.test(prfs)"
   ]
  },
  {
   "cell_type": "markdown",
   "metadata": {},
   "source": [
    "# Post-Hoc test for 2 sample proportions\n",
    "\n",
    "The tests before only tells us that there's some difference in the table but if we want to look further, we can see where those differences lie. So we can run this post-hoc binomial tests to see how much do the responses differ by chance? We can see for this that within we can test within males and within females, and we can see the preferences within males for A, B, and C website, and within females for A, B, and C website against all their rows. \n",
    "\n",
    "And then, we'll do a post-hoc adjustment for each of those p-values by the home sequential Bonferroni procedure. An adjustment for multiple comparisons. "
   ]
  },
  {
   "cell_type": "code",
   "execution_count": 95,
   "metadata": {},
   "outputs": [],
   "source": [
    "# manual post hoc binomial tests for (m)ales -- do any prefs for A-C sig. differ from chance for males?\n",
    "num_Males_A <- sum(prefsABCsex[prefsABCsex$Sex == \"M\",]$Pref == \"A\")\n",
    "num_Males_B <- sum(prefsABCsex[prefsABCsex$Sex == \"M\",]$Pref == \"B\")\n",
    "num_Males_C <- sum(prefsABCsex[prefsABCsex$Sex == \"M\",]$Pref == \"C\")\n",
    "Total_Males <- nrow(prefsABCsex[prefsABCsex$Sex == \"M\",])"
   ]
  },
  {
   "cell_type": "code",
   "execution_count": 97,
   "metadata": {},
   "outputs": [
    {
     "data": {
      "text/plain": [
       "\n",
       "\tExact binomial test\n",
       "\n",
       "data:  num_Males_A and Total_Males\n",
       "number of successes = 5, number of trials = 31, p-value = 0.05474\n",
       "alternative hypothesis: true probability of success is not equal to 0.3333333\n",
       "95 percent confidence interval:\n",
       " 0.05452433 0.33727158\n",
       "sample estimates:\n",
       "probability of success \n",
       "             0.1612903 \n"
      ]
     },
     "metadata": {},
     "output_type": "display_data"
    },
    {
     "data": {
      "text/plain": [
       "\n",
       "\tExact binomial test\n",
       "\n",
       "data:  num_Males_B and Total_Males\n",
       "number of successes = 6, number of trials = 31, p-value = 0.1266\n",
       "alternative hypothesis: true probability of success is not equal to 0.3333333\n",
       "95 percent confidence interval:\n",
       " 0.0745199 0.3747322\n",
       "sample estimates:\n",
       "probability of success \n",
       "             0.1935484 \n"
      ]
     },
     "metadata": {},
     "output_type": "display_data"
    },
    {
     "data": {
      "text/plain": [
       "\n",
       "\tExact binomial test\n",
       "\n",
       "data:  num_Males_C and Total_Males\n",
       "number of successes = 20, number of trials = 31, p-value = 0.0004323\n",
       "alternative hypothesis: true probability of success is not equal to 0.3333333\n",
       "95 percent confidence interval:\n",
       " 0.4536956 0.8077326\n",
       "sample estimates:\n",
       "probability of success \n",
       "             0.6451613 \n"
      ]
     },
     "metadata": {},
     "output_type": "display_data"
    }
   ],
   "source": [
    "(ma <- binom.test(num_Males_A, Total_Males, p=1/3))\n",
    "(mb <- binom.test(num_Males_B, Total_Males, p=1/3))\n",
    "(mc <- binom.test(num_Males_C, Total_Males, p=1/3))"
   ]
  },
  {
   "cell_type": "code",
   "execution_count": 98,
   "metadata": {},
   "outputs": [
    {
     "data": {
      "text/html": [
       "<ol class=list-inline>\n",
       "\t<li>0.109473563767907</li>\n",
       "\t<li>0.126622171855485</li>\n",
       "\t<li>0.00129675403508036</li>\n",
       "</ol>\n"
      ],
      "text/latex": [
       "\\begin{enumerate*}\n",
       "\\item 0.109473563767907\n",
       "\\item 0.126622171855485\n",
       "\\item 0.00129675403508036\n",
       "\\end{enumerate*}\n"
      ],
      "text/markdown": [
       "1. 0.109473563767907\n",
       "2. 0.126622171855485\n",
       "3. 0.00129675403508036\n",
       "\n",
       "\n"
      ],
      "text/plain": [
       "[1] 0.109473564 0.126622172 0.001296754"
      ]
     },
     "metadata": {},
     "output_type": "display_data"
    }
   ],
   "source": [
    "(p.adjust(c(ma$p.value, mb$p.value, mc$p.value), method=\"holm\")) # correct for multiple comparisons"
   ]
  },
  {
   "cell_type": "markdown",
   "metadata": {},
   "source": [
    "A and B were not statistically significant by chance but for website C, they were. And we can go back and look at the counts to see that they preferred C highly. We can do the same for females."
   ]
  },
  {
   "cell_type": "code",
   "execution_count": 99,
   "metadata": {
    "collapsed": true
   },
   "outputs": [],
   "source": [
    "# manual post hoc binomial tests for (f)emales -- do any prefs for A-C sig. differ from chance for females?\n",
    "num_females_A <- sum(prefsABCsex[prefsABCsex$Sex == \"F\",]$Pref == \"A\")\n",
    "num_females_B <- sum(prefsABCsex[prefsABCsex$Sex == \"F\",]$Pref == \"B\")\n",
    "num_females_C <- sum(prefsABCsex[prefsABCsex$Sex == \"F\",]$Pref == \"C\")\n",
    "Total_Females <- nrow(prefsABCsex[prefsABCsex$Sex == \"F\",])"
   ]
  },
  {
   "cell_type": "code",
   "execution_count": 101,
   "metadata": {},
   "outputs": [
    {
     "data": {
      "text/plain": [
       "\n",
       "\tExact binomial test\n",
       "\n",
       "data:  num_females_A and Total_Females\n",
       "number of successes = 3, number of trials = 29, p-value = 0.009011\n",
       "alternative hypothesis: true probability of success is not equal to 0.3333333\n",
       "95 percent confidence interval:\n",
       " 0.02186374 0.27351520\n",
       "sample estimates:\n",
       "probability of success \n",
       "             0.1034483 \n"
      ]
     },
     "metadata": {},
     "output_type": "display_data"
    },
    {
     "data": {
      "text/plain": [
       "\n",
       "\tExact binomial test\n",
       "\n",
       "data:  num_females_B and Total_Females\n",
       "number of successes = 15, number of trials = 29, p-value = 0.04724\n",
       "alternative hypothesis: true probability of success is not equal to 0.3333333\n",
       "95 percent confidence interval:\n",
       " 0.3253150 0.7055144\n",
       "sample estimates:\n",
       "probability of success \n",
       "             0.5172414 \n"
      ]
     },
     "metadata": {},
     "output_type": "display_data"
    },
    {
     "data": {
      "text/plain": [
       "\n",
       "\tExact binomial test\n",
       "\n",
       "data:  num_females_C and Total_Females\n",
       "number of successes = 11, number of trials = 29, p-value = 0.694\n",
       "alternative hypothesis: true probability of success is not equal to 0.3333333\n",
       "95 percent confidence interval:\n",
       " 0.2068687 0.5773954\n",
       "sample estimates:\n",
       "probability of success \n",
       "             0.3793103 \n"
      ]
     },
     "metadata": {},
     "output_type": "display_data"
    }
   ],
   "source": [
    "# manual post hoc binomial tests for (f)emales -- do any prefs for A-C sig. differ from chance for females?\n",
    "(fa <- binom.test(num_females_A , Total_Females, p=1/3))\n",
    "(fb <- binom.test(num_females_B , Total_Females, p=1/3))\n",
    "(fc <- binom.test(num_females_C , Total_Females, p=1/3))"
   ]
  },
  {
   "cell_type": "code",
   "execution_count": 102,
   "metadata": {},
   "outputs": [
    {
     "data": {
      "text/html": [
       "<ol class=list-inline>\n",
       "\t<li>0.0270327355020827</li>\n",
       "\t<li>0.0944782072896456</li>\n",
       "\t<li>0.693969513615019</li>\n",
       "</ol>\n"
      ],
      "text/latex": [
       "\\begin{enumerate*}\n",
       "\\item 0.0270327355020827\n",
       "\\item 0.0944782072896456\n",
       "\\item 0.693969513615019\n",
       "\\end{enumerate*}\n"
      ],
      "text/markdown": [
       "1. 0.0270327355020827\n",
       "2. 0.0944782072896456\n",
       "3. 0.693969513615019\n",
       "\n",
       "\n"
      ],
      "text/plain": [
       "[1] 0.02703274 0.09447821 0.69396951"
      ]
     },
     "metadata": {},
     "output_type": "display_data"
    }
   ],
   "source": [
    "p.adjust(c(fa$p.value, fb$p.value, fc$p.value), method=\"holm\") # correct for multiple comparisons"
   ]
  },
  {
   "cell_type": "markdown",
   "metadata": {},
   "source": [
    "For females, we see that they were statisically significantly different from chance in their lack of interest in website A but not for B and C. "
   ]
  }
 ],
 "metadata": {
  "kernelspec": {
   "display_name": "R",
   "language": "R",
   "name": "ir"
  },
  "language_info": {
   "codemirror_mode": "r",
   "file_extension": ".r",
   "mimetype": "text/x-r-source",
   "name": "R",
   "pygments_lexer": "r",
   "version": "3.4.1"
  }
 },
 "nbformat": 4,
 "nbformat_minor": 2
}
