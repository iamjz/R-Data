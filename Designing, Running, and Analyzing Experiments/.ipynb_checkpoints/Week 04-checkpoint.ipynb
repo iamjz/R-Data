{
 "cells": [
  {
   "cell_type": "markdown",
   "metadata": {},
   "source": [
    "# Introduction"
   ]
  },
  {
   "cell_type": "markdown",
   "metadata": {},
   "source": [
    "We just finished looking at an independent samples T-test in an AB testing situation with 2 website variations. We wanted to know whether there was a diffence in the number of distinct page views people had on each website. Now things will get a little bit more interesting. Let's consider the scenario of task completion times, a commonly used measure in interaction design in HCI studies. \n",
    "\n",
    "# Designing for experimental control\n",
    "\n",
    "Let's consider the case of authoring tools. Authoring tools might be sketching tools, other design tools, and programming languages, and the time it takes to write a series of small programs by intro to programming students using different languages and environments. \n",
    "\n",
    "Let's be specific. Let's say we have 40 intro to programming students split into 2 classes of 20 each. And let's say that one class uses the C# programming language in Visual Studio. Let's say the other class uses the Eclipse environment and the Java programming language. And they writes a series of programs and we want to know how long does it take them to complete these programs. Then later, we can add a third group. We'll add a group of 20 students from a class using Python in the PyCharm environment. \n",
    "\n",
    "So what are the considerations for an experiment like this? A big consideration that will come up in a lot of experiments is that of experimental control. We want to be able to control the situation so that we know the things we manipulate are responsible for the changes in the measures that we make and not due to some other factors. For example, we have an educational setting of students in classrooms. Things that may be outside our control are...do the students have different teachers? Maybe some are more effective at teaching programming than others. That might be a factor changing their task performance time rather than just the programming environment and language that they use. \n",
    "\n",
    "Can the students get outside help? What if some students get more help than others? What if one of the teachers encourages the students to get help but another doesn't? These and many other things could influence the results of the task completion time that we're interested in and become what are called confounds to the results that we observe. Confounds threaten our ability to draw inferences about the effects that we're manipulating because they introduce uncontrolled variation in the experiment. Other issues that we'd have to consider...what about prior knowledge? What about students who might already know how to program vesus those who don't? More control would come from having all students be on equal footing when they start. \n",
    "\n",
    "These might be inclusion or exclusion criteria like we talked about previously. How are we measuring results? One way to capture data in HCI and interaction design students when we're using computational artifacts is to do automatic logging. Mabe we can write log files or timestamps that tell us something about how long the students are taking to write their programs. \n",
    "\n",
    "There's a lot of excitement these days about the in-the-wild studies. All of these are very excitign new directions in research studies but we need to realize that they do trade off against experimental control. Realism (or what some people call ecological validity) comes as trade-off against controll (the ability to link cause and effect in an experiment). Without control, it's fundamentally hard to know if the changes in the responses we see are really due to the changes in the factors that we manipulate. \n",
    "\n",
    "So what are your options for exerting control? How can you take steps to make sure that confounds don't threaten your study and you have some known control that you can use to your advantage? \n",
    "\n",
    "Well, there's kind of a series of things that you might try to control. The first is, if something in a study threatens to change the results you see, manipulate it. Manipulating it means treating it as a factor, systematically changing it, making it a variable. So for example, in our scenario, we might want to manipulate the experience of the teacher. \n",
    "\n",
    "Maybe we can recruit teachers of our own. Perhaps this is at some kind of school that we run or a camp that we run. And so we actually manipulate the backgrounds of the teachers so we have experienced teachers, inexperienced teachers, and maybe average experience teachers, and we can see how experience affects these outcomes. If we can't manipulate something, then the next step might be to control for it. \n",
    "\n",
    "If we can control for it, that means maybe we can't manipulate it. So we can't have low experience, medium experience, and high experience teachers. But maybe we can say well...let's make sure all the students get the same experience teacher (whether they're low, medium, or high). That's called controlling...in that case for teacher experience. \n",
    "\n",
    "Maybe we can't do that either. Maybe we don't have available to us the ability to do that in this particular case. If we can't control for it, then let's at least record or measure it. So we can't manipulate or control but we can then at least record what is the experience of our teachers in this study. And later, we can do an analysis to see, given what we had in the way of their experience, did it seem to make a difference? \n",
    "\n",
    "If we can't even record or measure it then that becomes an interesting case because we probably aren't even fully aware that it exists. This would be a completely hidden effect (hidden to us). And there's not much you can do in that case because, by definition, it's hidden. You're not sure that it's really there or what effect it might have. The large of bulk of science spends its time searching for hidden effects, things that cause other things in interesting ways that we're not always fully aware of. That's a lot of what we do in science in the first place...it's searching for hidden effects. \n",
    "\n",
    "So these are optinos for exerting experimental control and handling things that could be confounds and threaten an experiement. What are some other considerations for actually running an experiment like this? Authoring tasks and authoring tools like writing programs can take lengthy amounts of time. You could be measuring things in many minutes or hours or even days. We'd have to give breaks to people. We'd have to control the lengths of those breaks and how they're spent by the subjects. Again, trying to prevent confounds from entering the experiement. We'd probably have to keep people on task in a lab setting for something like this, as opposed to having them out in the wild where all those other influencers could come into play. When we're running the experiment, do we set a time limit? What if some students are able to accomplish the program in a reasonable amount of time? If that happens, what do we do in the data table to indicate that they didn't finish? If we given them just a very high number, wouldn't that seem like possbily just a long number of minutes that it took them to complete? How do we show that they actually didn't finish? Maybe we have to drop them from our data completely. All of these are context-specific issues that you'd want to take into account when running a study like this. And of course, if we have too many dropouts, that can be an issue because we lose data or we have incomplete data. A good thing to remember is experiments aren't just about recording numbers. Observe things qualitatively and make your own conclusions about the kinds of behavior that you see. Qualitative observations are very powerful results from experiments as well as quantitative data. So what's the formal design and analysis for this study?\n",
    "\n",
    "As I said - let's say we have 40 students. We have 20 students each in 2 classes and we'll add a 3rd class of 20 others later. What's our response? \n",
    "\n",
    "The response is the term for what we're measuring. The response is time (in minutes). This would be a numeric value (a numeric variable sometimes called a continuous variable or a scalar variable). \n",
    "\n",
    "What are our factors? We have just one. We have what we might call the IDE (integrated development environment) and the programming langauge that goes with it. \n",
    "\n",
    "How many levels do we have of this factor? So far, we have 2 (Visual Studio - C# and Eclipse - Java). \n",
    "\n",
    "Lastly - is this factor a between or within subjects factor? We know that it's between, which means each student only experiences one level of the factor. Each student only uses either Visual Studio (C#) or Eclipse (Java).\n",
    "\n",
    "- 40 Students (20 each in 2 classes)\n",
    "- Response = Time\n",
    "- Factors = IDE with 2 levels (VS/C# and Eclipse/Java)\n",
    "- Between or within subjects = Between Subjects. Each student only takes one class or the other. \n",
    "\n"
   ]
  },
  {
   "cell_type": "code",
   "execution_count": 1,
   "metadata": {},
   "outputs": [
    {
     "name": "stderr",
     "output_type": "stream",
     "text": [
      "Warning message:\n",
      "\"package 'dplyr' was built under R version 3.4.2\"\n",
      "Attaching package: 'dplyr'\n",
      "\n",
      "The following objects are masked from 'package:plyr':\n",
      "\n",
      "    arrange, count, desc, failwith, id, mutate, rename, summarise,\n",
      "    summarize\n",
      "\n",
      "The following objects are masked from 'package:stats':\n",
      "\n",
      "    filter, lag\n",
      "\n",
      "The following objects are masked from 'package:base':\n",
      "\n",
      "    intersect, setdiff, setequal, union\n",
      "\n"
     ]
    }
   ],
   "source": [
    "library(\"plyr\")\n",
    "library(\"dplyr\")"
   ]
  },
  {
   "cell_type": "code",
   "execution_count": 2,
   "metadata": {},
   "outputs": [
    {
     "data": {
      "text/html": [
       "<table>\n",
       "<thead><tr><th scope=col>Subject</th><th scope=col>IDE</th><th scope=col>Time</th></tr></thead>\n",
       "<tbody>\n",
       "\t<tr><td>1      </td><td>VStudio</td><td>341    </td></tr>\n",
       "\t<tr><td>2      </td><td>VStudio</td><td>291    </td></tr>\n",
       "\t<tr><td>3      </td><td>VStudio</td><td>283    </td></tr>\n",
       "\t<tr><td>4      </td><td>VStudio</td><td>155    </td></tr>\n",
       "\t<tr><td>5      </td><td>VStudio</td><td>271    </td></tr>\n",
       "\t<tr><td>6      </td><td>VStudio</td><td>270    </td></tr>\n",
       "</tbody>\n",
       "</table>\n"
      ],
      "text/latex": [
       "\\begin{tabular}{r|lll}\n",
       " Subject & IDE & Time\\\\\n",
       "\\hline\n",
       "\t 1       & VStudio & 341    \\\\\n",
       "\t 2       & VStudio & 291    \\\\\n",
       "\t 3       & VStudio & 283    \\\\\n",
       "\t 4       & VStudio & 155    \\\\\n",
       "\t 5       & VStudio & 271    \\\\\n",
       "\t 6       & VStudio & 270    \\\\\n",
       "\\end{tabular}\n"
      ],
      "text/markdown": [
       "\n",
       "Subject | IDE | Time | \n",
       "|---|---|---|---|---|---|\n",
       "| 1       | VStudio | 341     | \n",
       "| 2       | VStudio | 291     | \n",
       "| 3       | VStudio | 283     | \n",
       "| 4       | VStudio | 155     | \n",
       "| 5       | VStudio | 271     | \n",
       "| 6       | VStudio | 270     | \n",
       "\n",
       "\n"
      ],
      "text/plain": [
       "  Subject IDE     Time\n",
       "1 1       VStudio 341 \n",
       "2 2       VStudio 291 \n",
       "3 3       VStudio 283 \n",
       "4 4       VStudio 155 \n",
       "5 5       VStudio 271 \n",
       "6 6       VStudio 270 "
      ]
     },
     "metadata": {},
     "output_type": "display_data"
    }
   ],
   "source": [
    "ide2 <- read.csv(\"materials/ide2.csv\")\n",
    "head(ide2)"
   ]
  },
  {
   "cell_type": "code",
   "execution_count": 3,
   "metadata": {},
   "outputs": [
    {
     "data": {
      "text/plain": [
       "    Subject        IDE          Time      \n",
       " 1      : 1   Eclipse:20   Min.   :155.0  \n",
       " 2      : 1   VStudio:20   1st Qu.:271.8  \n",
       " 3      : 1                Median :313.5  \n",
       " 4      : 1                Mean   :385.1  \n",
       " 5      : 1                3rd Qu.:422.0  \n",
       " 6      : 1                Max.   :952.0  \n",
       " (Other):34                               "
      ]
     },
     "metadata": {},
     "output_type": "display_data"
    }
   ],
   "source": [
    "ide2$Subject <- factor(ide2$Subject)\n",
    "summary(ide2)"
   ]
  },
  {
   "cell_type": "code",
   "execution_count": 4,
   "metadata": {},
   "outputs": [
    {
     "data": {
      "text/html": [
       "<table>\n",
       "<thead><tr><th scope=col>IDE</th><th scope=col>Min.</th><th scope=col>1st Qu.</th><th scope=col>Median</th><th scope=col>Mean</th><th scope=col>3rd Qu.</th><th scope=col>Max.</th></tr></thead>\n",
       "<tbody>\n",
       "\t<tr><td>Eclipse</td><td>232    </td><td>294.75 </td><td>393.5  </td><td>468.15 </td><td>585.50 </td><td>952    </td></tr>\n",
       "\t<tr><td>VStudio</td><td>155    </td><td>246.50 </td><td>287.0  </td><td>302.10 </td><td>335.25 </td><td>632    </td></tr>\n",
       "</tbody>\n",
       "</table>\n"
      ],
      "text/latex": [
       "\\begin{tabular}{r|lllllll}\n",
       " IDE & Min. & 1st Qu. & Median & Mean & 3rd Qu. & Max.\\\\\n",
       "\\hline\n",
       "\t Eclipse & 232     & 294.75  & 393.5   & 468.15  & 585.50  & 952    \\\\\n",
       "\t VStudio & 155     & 246.50  & 287.0   & 302.10  & 335.25  & 632    \\\\\n",
       "\\end{tabular}\n"
      ],
      "text/markdown": [
       "\n",
       "IDE | Min. | 1st Qu. | Median | Mean | 3rd Qu. | Max. | \n",
       "|---|---|\n",
       "| Eclipse | 232     | 294.75  | 393.5   | 468.15  | 585.50  | 952     | \n",
       "| VStudio | 155     | 246.50  | 287.0   | 302.10  | 335.25  | 632     | \n",
       "\n",
       "\n"
      ],
      "text/plain": [
       "  IDE     Min. 1st Qu. Median Mean   3rd Qu. Max.\n",
       "1 Eclipse 232  294.75  393.5  468.15 585.50  952 \n",
       "2 VStudio 155  246.50  287.0  302.10 335.25  632 "
      ]
     },
     "metadata": {},
     "output_type": "display_data"
    }
   ],
   "source": [
    "ddply(ide2, ~ IDE, function(data){\n",
    "    summary(data$Time)\n",
    "})"
   ]
  },
  {
   "cell_type": "code",
   "execution_count": 5,
   "metadata": {},
   "outputs": [
    {
     "data": {
      "text/html": [
       "<table>\n",
       "<thead><tr><th scope=col>IDE</th><th scope=col>Time.mean</th><th scope=col>Time.sd</th></tr></thead>\n",
       "<tbody>\n",
       "\t<tr><td>Eclipse </td><td>468.15  </td><td>218.1241</td></tr>\n",
       "\t<tr><td>VStudio </td><td>302.10  </td><td>101.0778</td></tr>\n",
       "</tbody>\n",
       "</table>\n"
      ],
      "text/latex": [
       "\\begin{tabular}{r|lll}\n",
       " IDE & Time.mean & Time.sd\\\\\n",
       "\\hline\n",
       "\t Eclipse  & 468.15   & 218.1241\\\\\n",
       "\t VStudio  & 302.10   & 101.0778\\\\\n",
       "\\end{tabular}\n"
      ],
      "text/markdown": [
       "\n",
       "IDE | Time.mean | Time.sd | \n",
       "|---|---|\n",
       "| Eclipse  | 468.15   | 218.1241 | \n",
       "| VStudio  | 302.10   | 101.0778 | \n",
       "\n",
       "\n"
      ],
      "text/plain": [
       "  IDE     Time.mean Time.sd \n",
       "1 Eclipse 468.15    218.1241\n",
       "2 VStudio 302.10    101.0778"
      ]
     },
     "metadata": {},
     "output_type": "display_data"
    }
   ],
   "source": [
    "ddply(ide2, ~ IDE, summarise, \n",
    "          Time.mean = mean(Time),\n",
    "          Time.sd = sd(Time))"
   ]
  },
  {
   "cell_type": "code",
   "execution_count": 6,
   "metadata": {
    "collapsed": true
   },
   "outputs": [],
   "source": [
    "VS <- ide2[ide2$IDE == \"VStudio\",]\n",
    "Eclipse <- ide2[ide2$IDE == \"Eclipse\",]"
   ]
  },
  {
   "cell_type": "code",
   "execution_count": 7,
   "metadata": {},
   "outputs": [
    {
     "data": {
      "image/png": "[encoded data removed]",
      "text/plain": [
       "Plot with title \"Histogram of VS$Time\""
      ]
     },
     "metadata": {},
     "output_type": "display_data"
    }
   ],
   "source": [
    "hist(VS$Time)"
   ]
  },
  {
   "cell_type": "code",
   "execution_count": 8,
   "metadata": {},
   "outputs": [
    {
     "data": {
      "image/png": "[encoded data removed]",
      "text/plain": [
       "Plot with title \"Histogram of Eclipse$Time\""
      ]
     },
     "metadata": {},
     "output_type": "display_data"
    }
   ],
   "source": [
    "hist(Eclipse$Time)"
   ]
  },
  {
   "cell_type": "code",
   "execution_count": 9,
   "metadata": {},
   "outputs": [
    {
     "data": {
      "image/png": "[encoded data removed]",
      "text/plain": [
       "plot without title"
      ]
     },
     "metadata": {},
     "output_type": "display_data"
    }
   ],
   "source": [
    "plot(Time ~ IDE, data=ide2)"
   ]
  },
  {
   "cell_type": "code",
   "execution_count": 10,
   "metadata": {},
   "outputs": [
    {
     "data": {
      "text/plain": [
       "\n",
       "\tTwo Sample t-test\n",
       "\n",
       "data:  Time by IDE\n",
       "t = 3.0889, df = 38, p-value = 0.003745\n",
       "alternative hypothesis: true difference in means is not equal to 0\n",
       "95 percent confidence interval:\n",
       "  57.226 274.874\n",
       "sample estimates:\n",
       "mean in group Eclipse mean in group VStudio \n",
       "               468.15                302.10 \n"
      ]
     },
     "metadata": {},
     "output_type": "display_data"
    }
   ],
   "source": [
    "# independent-samples t-test (suitable? maybe not, because...)\n",
    "t.test(Time ~ IDE, data=ide2, var.equal=TRUE)"
   ]
  },
  {
   "cell_type": "markdown",
   "metadata": {},
   "source": [
    "We ran a T-Test on Time as the measure as it relates to the changes in the IDE. This is called the independent samples T-Test or 2 sample T-Test. WE can see the T statistic (3.0889). The degrees of freedom here are 38 and the p-value is less than 0.05. So we would seem to have significant difference as the boxplot here would suggest that we would. \n",
    "\n",
    "BUT IS THIS A SUITABLE ANALYSIS? MAYBE NOT!\n",
    "\n",
    "We're going to talk about an important set of assumptions that underline analysis of variance (like T-Test) and these are called the ANOVA assumptions. "
   ]
  },
  {
   "cell_type": "markdown",
   "metadata": {},
   "source": [
    "# Data assumptions and distributions"
   ]
  },
  {
   "cell_type": "markdown",
   "metadata": {
    "collapsed": true
   },
   "source": [
    "So we've just looked at an independent sample's t-test for the programming time between 2 classes of students. One using VS/C# and the other using Eclipse/Java. \n",
    "\n",
    "And we thought, is this a suitable analysis? And what would that mean? Well..it turns out that with certain analysis of variances, there are 3 assumptions that must hold. These are called the 3 assumptions of ANOVA (Analysis of Variance). \n",
    "\n",
    "Many of the parametric tests that we'll be doing require that these assumptions be met. So 3 ANOVA assumptions...\n",
    "\n",
    "The first one is the assumption of independence. What is independence? Independence means that each subject is sampled independently of every other subject. Certain sampling approaches actually violate this like snowball sampling where you have one subject recommend the next to contact. It also means that measures on a subject are independent of measures on every other subject. It doesn't mean in a within subject studies that measures on the same subject are independent because obviously, they're not. That's the whole point of a within subject variable, the one subject is measured multiple times. That's also called repeated measures. And we'll talk a lot more about that in the future. So that's the independent assumption. And it's verified through the experiment design. \n",
    "\n",
    "The second assumption is the assumption of normality. What's normality? In short, normality means that the data is normally distributed. We can think about it as the phenomena we're measuring and the responses that we're getting. \n",
    "\n",
    "The third asssumption is what's called homoscedasticity. The adjective is homosedastic and it's sometimes more easily called homogeniety of variance. What that means is that the variance among groups being compared is similar. You can think of those box plots. Is the spread of the measures in each of those conditions similar or very very different? That's what that assumption refers to. Let's examine these a little bit more closely. To do that, we're going to talk about data distributions. \n",
    "\n",
    "Data distributions are important concepts to understand in any kind of data analysis coming out of experimental design. Data can be distributed in very different ways. What does that mean? When we talk about normality, what is the assumption? It's like a bell curve or a Gaussian curve. We have the mean at the top and we have some kind of standard deviation or variance that governs the spread of that curve. \n",
    "\n",
    "That's the normal distribution but there are many others. When we were looking at some histograms in our data, we saw that not everything looked quite normal. \n",
    "\n",
    "We'll also see things that are lognormal. What is lognormal? The lognormal is distributed so that if you were to take the logarithm of the data, it would become normal. And it's also therefore governed by a mean and standard deviation of the corresponding normal distribution. You can see that the lognormal curve is here and follows a bit more of a skewed distribution here. What kinds of measures can you expect from experiments that might be lognormal? A common measure that tends to fall lognormally is task time, not always and often not if the times are short, but if you're measuring task time over many minutes/hours/days, they can often fall lognormally. What's the intuition behind that? It's hard to be really fast but it's easy to be slower. It's always easier for things to take longer but you hit a sort of a ceiling when you try to get faster and faster so you end up with a long tail. \n",
    "\n",
    "Other kinds of data that you might see are exponential distributions. The exponential distribution drawn here is governed by one parameter, a rate parameter, sometimes given a lambda symbol. What kinds of things fall exponentially? Well, if you're ever measuring people's wealth in society, you'll find, as economists know, that those kinds of measures tend to fall exponentially. \n",
    "\n",
    "And a more general form of that is the gamma distribution you see here. The gamma distribution is governed by 2 paramaters. A shape parameter and a scale parameter. The rate parameter which we had with an exponential is actually the inverse of the scale parameter. In fact, an exponential is just a special case of a gamma distribution. When the shape parameter equals 1, you can see gammas can take on various forms as those shape and scale parameters change and differ. \n",
    "\n",
    "What kinds of things follow gamma distributions? Waiting times in lines have been known to follow gamma distributions. Other forms of time where there's time taken in a queue. Stress-testing until failure, if you're stress-testing certain kinds of products until they fail in some way. Often, those will follow gamma distributions as well. \n",
    "\n",
    "We also have our discrete distribution, call Poisson Distribution. This comes up in HCI and interaction design studies a lot. Poisson distribution being discrete means that each value it takes on has to be actually an integer (a positive one). \n",
    "\n",
    "In a Poisson distribution, you can lay a curve over that but really the distribution is discrete. What kinds of data follow a Poisson distribution? Count data often follows that (especially counts of rare events). What kinds of rare events might occur in an interaction design study? Let's say you're measuring the accuracy of a gesture recognizer and it's very accurate but occasionally, it makes a mistake. Maybe you're measuring the number of mistakes it makes in an hour, or out of 100 recognition attempts. Those things may follow what's on distribution. \n",
    "\n",
    "Another kind of discrete distribution is a binomial distribution (or in it's more general form, a multinomial distribution). These will be used when you have responses that are not numerical but are categories. In the case of binomial, if you have a yes-no, true-false, success-fail, those kinds of outcomes can be approximated by a binomial distribution which is governed by 2 parameters. The number of trials, you can think of them almost as coin tosses and the probability of a success, we'll say the probability of aheads, as a fair coin would be, we have what would be approxmiating a normal distribution around 10 successes out of 20. But that probability of success may be in fact not 50/50. Maybe it's not a fair coin. Maybe it's 90% or even just 10%. The generalization from 2 categories to many is a multinomial distribution. That would take place when you have responses as your measures that can be in multiple categories beyond just 2 in number. \n",
    "\n",
    "So these are a handful of distributions that we'll want to be aware of. Let's return to talking about the normality assumption of ANOVA. \n",
    "\n",
    "We've been talking about the assumption as if it's in response to or relevant to the response of the variable that we're measuring (Y). But it isn't actually the response that has to be normally distributed to meet this assumption, it's actually the normality of the residuals that matter. \n",
    "\n",
    "What are residuals? The residuals are the differences between your observed data (the response that you measure) and your statistical model predictions. It gives a sense of how randomly off your statistical model is. If the residuals are normally distributed, it means there's no systematic effects going on that you're not taking into account in your statistical model. The intuition is that if there's something going on that systematic, there may be a variable you're missing or some other effect that you're not sure of. Perhaps this idea of a hidden effect you haven't even taken into account. So we want to see that the residuals are normally distributed to meet the ANOVA assumption. \n",
    "\n",
    "So why have we even talked at all about the distribution of the response variable? Well, there's a few reasons. One is that understanding your response and the shape it takes is important in building intuition about your data. You want to find out what kind of model to use and some actually do care about the response. Like the Poisson distribution is about the response of your response. \n",
    "\n",
    "If you do in practice have normally distributed responses, you're most likely to be able to fall the normality assumption with your residuals. So a lot of people do look at the response and care about it being normal because then they know they're likely to be complying with the assumption of normality as it concerns the residuals. Of course, you can test both. \n",
    "\n",
    "The last issue to raise before returning to our analysis is the notion of parametric vs non-parametric analysis. \n",
    "\n",
    "Notice that these are the assumptions of ANOVA. ANOVAs are parametric. That measus they require the assumptions to be met and they assume a distribution of data, concerning the population that you're studying. \n",
    "\n",
    "Nonparametric analyses don't make those underlying, distributional assumptions. In fact, most of them work by converting your data into ranks (1st, 2nd, 3rd, 4th, 5th, etc) then analyzing those ranks in various ways. By using parametric analysis, we gain power. That's a big advantage but we have to comply with certain assumptions that we want to be aware of. By using nonparametric analysis, we avoid those assumption but often we lose some power. They can be great alternative to parametric studies especially when we have problems with our assumptions. But they're often a little less powerful and sometimes less versatile as well. There's been a lot longer history of statistical research and analysis on parametric models vs. non-parametric models. Our table of analysis that we're going through has both and shows which ones relate to which others so you can make the informed choice. "
   ]
  },
  {
   "cell_type": "markdown",
   "metadata": {
    "collapsed": true
   },
   "source": [
    "# Testing for ANOVA assumptions"
   ]
  },
  {
   "cell_type": "markdown",
   "metadata": {
    "collapsed": true
   },
   "source": [
    "Let's test our ANOVA assumption starting with a Shapiro-Wilk test. It's a common test of normality. We'll first start it on the response. "
   ]
  },
  {
   "cell_type": "code",
   "execution_count": 11,
   "metadata": {},
   "outputs": [
    {
     "data": {
      "text/plain": [
       "\n",
       "\tShapiro-Wilk normality test\n",
       "\n",
       "data:  ide2[ide2$IDE == \"VStudio\", ]$Time\n",
       "W = 0.84372, p-value = 0.004191\n"
      ]
     },
     "metadata": {},
     "output_type": "display_data"
    },
    {
     "data": {
      "text/plain": [
       "\n",
       "\tShapiro-Wilk normality test\n",
       "\n",
       "data:  ide2[ide2$IDE == \"Eclipse\", ]$Time\n",
       "W = 0.87213, p-value = 0.01281\n"
      ]
     },
     "metadata": {},
     "output_type": "display_data"
    }
   ],
   "source": [
    "## Testing ANOVA assumptions\n",
    "\n",
    "# Shapiro-Wilk normality test on response\n",
    "shapiro.test(ide2[ide2$IDE == \"VStudio\",]$Time)\n",
    "shapiro.test(ide2[ide2$IDE == \"Eclipse\",]$Time)"
   ]
  },
  {
   "cell_type": "markdown",
   "metadata": {},
   "source": [
    "A significant result indicates a departure from a normal distribution. The null hypothesis is that the distribution does not differ from the normal distribution. Rejecting the null hypothesis (p < 0.05) means that it is a departure from the normal distribution. \n",
    "\n",
    "These tests should be thought of as guidelines. ANOVAs are in fact somewhat robust to mild departures from normality and violations of homogeneity or variance. And also, how many data points you have influence these tests. If you have lots of data, you have a more powerful test. It may find that the data is not statistically significant for the Shapiro-Wilk test. In other words, you want to take these results with a grain of salt here. \n",
    "\n",
    "But technically, we want to make the assumption on the residuals (which is the difference between our observed measures and predictions). Let's actually test the residuals here. "
   ]
  },
  {
   "cell_type": "code",
   "execution_count": 12,
   "metadata": {},
   "outputs": [
    {
     "data": {
      "text/plain": [
       "\n",
       "\tShapiro-Wilk normality test\n",
       "\n",
       "data:  residuals_m\n",
       "W = 0.894, p-value = 0.001285\n"
      ]
     },
     "metadata": {},
     "output_type": "display_data"
    }
   ],
   "source": [
    "# but really what matters most is the residuals\n",
    "m <- aov(Time ~ IDE, data=ide2) # fit model\n",
    "residuals_m <- residuals(m)\n",
    "\n",
    "shapiro.test(residuals_m) # test residuals"
   ]
  },
  {
   "cell_type": "markdown",
   "metadata": {},
   "source": [
    "The Shapiro-Wilk test on the residuals is also significant and is a departure from normality. What can help us visualize this is called a \"QQ Plot\". "
   ]
  },
  {
   "cell_type": "code",
   "execution_count": 13,
   "metadata": {},
   "outputs": [
    {
     "data": {
      "image/png": "[encoded data removed]",
      "text/plain": [
       "Plot with title \"Normal Q-Q Plot\""
      ]
     },
     "metadata": {},
     "output_type": "display_data"
    }
   ],
   "source": [
    "# QQ Plot\n",
    "qqnorm(residuals_m); \n",
    "qqline(residuals_m) # plot residuals"
   ]
  },
  {
   "cell_type": "markdown",
   "metadata": {
    "collapsed": true
   },
   "source": [
    "We can see that in the upper portion of the plot, there's a pretty big deviation from this line. This line represents what would be conforming the residuals to a normal distribution. So for all these reasons, we can be confident that in fact, the time variable is probably not normall. If you recall our distributions on the glass board, we used taks time as an example of what commonly is lognormally distributed. So to test that, we're going to use another distribution test called the Kolmogorov-Smirnov or KS test. \n",
    "\n",
    "And we'll try to use this test to see if log-normality is a better fit. We'll load up the MASS library and do a fitting function on VS and Eclipse data for the lognormal distribution, using the parameters that we extracted from the fit (the mean and the standard deviation). "
   ]
  },
  {
   "cell_type": "code",
   "execution_count": 14,
   "metadata": {},
   "outputs": [
    {
     "name": "stderr",
     "output_type": "stream",
     "text": [
      "\n",
      "Attaching package: 'MASS'\n",
      "\n",
      "The following object is masked from 'package:dplyr':\n",
      "\n",
      "    select\n",
      "\n"
     ]
    },
    {
     "name": "stdout",
     "output_type": "stream",
     "text": [
      "  meanlog     sdlog \n",
      "5.6661175 0.2906172 \n"
     ]
    },
    {
     "data": {
      "text/plain": [
       "\n",
       "\tOne-sample Kolmogorov-Smirnov test\n",
       "\n",
       "data:  VS$Time\n",
       "D = 0.13421, p-value = 0.8181\n",
       "alternative hypothesis: two-sided\n"
      ]
     },
     "metadata": {},
     "output_type": "display_data"
    }
   ],
   "source": [
    "# KS Test\n",
    "# fit the distribution to a lognormal to estimate fit parameters\n",
    "# then supply those to a KS test with the lognormal distribution\n",
    "\n",
    "library(\"MASS\")\n",
    "\n",
    "VS <- ide2[ide2$IDE == \"VStudio\",]\n",
    "\n",
    "fit <- fitdistr(VS$Time, \"lognormal\")$estimate\n",
    "print(fit)\n",
    "\n",
    "ks.test(VS$Time, \"plnorm\", \n",
    "            meanlog=fit[1], \n",
    "            sdlog=fit[2], \n",
    "            exact=TRUE)\n"
   ]
  },
  {
   "cell_type": "markdown",
   "metadata": {},
   "source": [
    "The p-value here is not significant..meaning that in fact we don't detect the significant departure from lognormality. Given this is a time measurement, that's not so surprising because we know task time like this can fall lognormally. But it's still nice to confirm it. "
   ]
  },
  {
   "cell_type": "code",
   "execution_count": 15,
   "metadata": {},
   "outputs": [
    {
     "name": "stdout",
     "output_type": "stream",
     "text": [
      "  meanlog     sdlog \n",
      "6.0556450 0.4223088 \n"
     ]
    },
    {
     "data": {
      "text/plain": [
       "\n",
       "\tOne-sample Kolmogorov-Smirnov test\n",
       "\n",
       "data:  Eclipse$Time\n",
       "D = 0.12583, p-value = 0.871\n",
       "alternative hypothesis: two-sided\n"
      ]
     },
     "metadata": {},
     "output_type": "display_data"
    }
   ],
   "source": [
    "Eclipse <- ide2[ide2$IDE == \"Eclipse\",]\n",
    "\n",
    "fit <- fitdistr(Eclipse$Time, \"lognormal\")$estimate\n",
    "print(fit)\n",
    "\n",
    "ks.test(Eclipse$Time, \"plnorm\", \n",
    "            meanlog=fit[1],\n",
    "            sdlog=fit[2], \n",
    "            exact=TRUE)"
   ]
  },
  {
   "cell_type": "markdown",
   "metadata": {},
   "source": [
    "The same can be said for the Eclipse data as well. We cannot reject the null hypothesis that the data is lognormally distributed. \n",
    "\n",
    "We CAN'T prove with statistical tests that these data are exactly lognormally. That's just not what this means. We're just showing that it's not a significant departure from a lognormal distribution. \n",
    "\n",
    "So that's our distribtion test for the assumption of normality. Let's look at a test for homogeneity of variance. For that, we'll use the Levene's test and a variation on that called the Brown-Forsythe test. "
   ]
  },
  {
   "cell_type": "code",
   "execution_count": 16,
   "metadata": {},
   "outputs": [
    {
     "name": "stderr",
     "output_type": "stream",
     "text": [
      "\n",
      "Attaching package: 'car'\n",
      "\n",
      "The following object is masked from 'package:dplyr':\n",
      "\n",
      "    recode\n",
      "\n"
     ]
    },
    {
     "data": {
      "text/html": [
       "<table>\n",
       "<thead><tr><th></th><th scope=col>Df</th><th scope=col>F value</th><th scope=col>Pr(&gt;F)</th></tr></thead>\n",
       "<tbody>\n",
       "\t<tr><th scope=row>group</th><td> 1         </td><td>11.95855   </td><td>0.001356286</td></tr>\n",
       "\t<tr><th scope=row> </th><td>38         </td><td>      NA   </td><td>         NA</td></tr>\n",
       "</tbody>\n",
       "</table>\n"
      ],
      "text/latex": [
       "\\begin{tabular}{r|lll}\n",
       "  & Df & F value & Pr(>F)\\\\\n",
       "\\hline\n",
       "\tgroup &  1          & 11.95855    & 0.001356286\\\\\n",
       "\t  & 38          &       NA    &          NA\\\\\n",
       "\\end{tabular}\n"
      ],
      "text/markdown": [
       "\n",
       "| <!--/--> | Df | F value | Pr(>F) | \n",
       "|---|---|\n",
       "| group |  1          | 11.95855    | 0.001356286 | \n",
       "|   | 38          |       NA    |          NA | \n",
       "\n",
       "\n"
      ],
      "text/plain": [
       "      Df F value  Pr(>F)     \n",
       "group  1 11.95855 0.001356286\n",
       "      38       NA          NA"
      ]
     },
     "metadata": {},
     "output_type": "display_data"
    },
    {
     "data": {
      "text/html": [
       "<table>\n",
       "<thead><tr><th></th><th scope=col>Df</th><th scope=col>F value</th><th scope=col>Pr(&gt;F)</th></tr></thead>\n",
       "<tbody>\n",
       "\t<tr><th scope=row>group</th><td> 1        </td><td>5.914393  </td><td>0.01983961</td></tr>\n",
       "\t<tr><th scope=row> </th><td>38        </td><td>      NA  </td><td>        NA</td></tr>\n",
       "</tbody>\n",
       "</table>\n"
      ],
      "text/latex": [
       "\\begin{tabular}{r|lll}\n",
       "  & Df & F value & Pr(>F)\\\\\n",
       "\\hline\n",
       "\tgroup &  1         & 5.914393   & 0.01983961\\\\\n",
       "\t  & 38         &       NA   &         NA\\\\\n",
       "\\end{tabular}\n"
      ],
      "text/markdown": [
       "\n",
       "| <!--/--> | Df | F value | Pr(>F) | \n",
       "|---|---|\n",
       "| group |  1         | 5.914393   | 0.01983961 | \n",
       "|   | 38         |       NA   |         NA | \n",
       "\n",
       "\n"
      ],
      "text/plain": [
       "      Df F value  Pr(>F)    \n",
       "group  1 5.914393 0.01983961\n",
       "      38       NA         NA"
      ]
     },
     "metadata": {},
     "output_type": "display_data"
    }
   ],
   "source": [
    "# test for homoscedasticity (homogeneity of variance)\n",
    "library(\"car\")\n",
    "\n",
    "leveneTest(Time ~ IDE, \n",
    "               data=ide2, \n",
    "               center=mean) # Levene's test\n",
    "\n",
    "leveneTest(Time ~ IDE, \n",
    "               data=ide2, \n",
    "               center=median) # Brown-Forsythe test"
   ]
  },
  {
   "cell_type": "markdown",
   "metadata": {},
   "source": [
    "In the Levene's test, we can see that we have a significant result, which means that we have a violation of homogeneity of variance. In our boxplots above, we can actually see that the variance of the 2 conditions is obviously fairly different.\n",
    "\n",
    "The Brown-Forsythe test is preferred. Because it uses the median rather than the mean. It is a little bit more robust to outliers as a result. So that's what we'll be using from now on. You can see, it confirms that we have a difference in variances here. \n",
    "\n",
    "When you have difference in variance like this, then you actually can, in the case of a T-test, use something called a \"Welch Test\". We indicate the variances are not equal in the var equal parameter. By doing that, we don't have to conform to the assumption of homogeneity of variance, that third assumption of ANOVA. "
   ]
  },
  {
   "cell_type": "code",
   "execution_count": 17,
   "metadata": {},
   "outputs": [
    {
     "data": {
      "text/plain": [
       "\n",
       "\tWelch Two Sample t-test\n",
       "\n",
       "data:  Time by IDE\n",
       "t = 3.0889, df = 26.8, p-value = 0.004639\n",
       "alternative hypothesis: true difference in means is not equal to 0\n",
       "95 percent confidence interval:\n",
       "  55.71265 276.38735\n",
       "sample estimates:\n",
       "mean in group Eclipse mean in group VStudio \n",
       "               468.15                302.10 \n"
      ]
     },
     "metadata": {},
     "output_type": "display_data"
    }
   ],
   "source": [
    "# Welch t-test for unequal variances handles \n",
    "# the violation of homscedasticity but not the \n",
    "# violation of normality\n",
    "\n",
    "t.test(Time ~ IDE, data=ide2, var.equal=FALSE) # Welch T-Test"
   ]
  },
  {
   "cell_type": "markdown",
   "metadata": {},
   "source": [
    "When we run the t-test, we can see a significant p-value with adjusted degrees of freedom. We can see that there is a significant difference in programming time by IDE (which the boxplot would visually suggest). \n",
    "\n",
    "But the Welch test doesn't solve the violation of normality, just that of homoscedasticity violation. So let's go down and take a step in data transformation. We're going to transform our data so that it conforms to the normality assumption. Let's look at the possiblity of transforming our time data from our programming tools so it complies with the assumptions of ANOVA. \n",
    "\n"
   ]
  },
  {
   "cell_type": "code",
   "execution_count": 18,
   "metadata": {},
   "outputs": [
    {
     "data": {
      "text/plain": [
       "    Subject        IDE          Time          logTime     \n",
       " 1      : 1   Eclipse:20   Min.   :155.0   Min.   :5.043  \n",
       " 2      : 1   VStudio:20   1st Qu.:271.8   1st Qu.:5.605  \n",
       " 3      : 1                Median :313.5   Median :5.748  \n",
       " 4      : 1                Mean   :385.1   Mean   :5.861  \n",
       " 5      : 1                3rd Qu.:422.0   3rd Qu.:6.045  \n",
       " 6      : 1                Max.   :952.0   Max.   :6.859  \n",
       " (Other):34                                               "
      ]
     },
     "metadata": {},
     "output_type": "display_data"
    }
   ],
   "source": [
    "# data transformation\n",
    "\n",
    "# create a new column in ide2 defined as log(Time)\n",
    "ide2$logTime <- log(ide2$Time) # log transform\n",
    "summary(ide2)"
   ]
  },
  {
   "cell_type": "markdown",
   "metadata": {},
   "source": [
    "Let's give ourselves some more intuition with the logtime. Does it look normally distributed?"
   ]
  },
  {
   "cell_type": "code",
   "execution_count": 19,
   "metadata": {},
   "outputs": [
    {
     "data": {
      "image/png": "[encoded data removed]",
      "text/plain": [
       "Plot with title \"Histogram of VS$logTime\""
      ]
     },
     "metadata": {},
     "output_type": "display_data"
    },
    {
     "data": {
      "image/png": "[encoded data removed]",
      "text/plain": [
       "Plot with title \"Histogram of Eclipse$logTime\""
      ]
     },
     "metadata": {},
     "output_type": "display_data"
    },
    {
     "data": {
      "image/png": "[encoded data removed]",
      "text/plain": [
       "plot without title"
      ]
     },
     "metadata": {},
     "output_type": "display_data"
    }
   ],
   "source": [
    "# explore for intuition building\n",
    "\n",
    "VS <- ide2[ide2$IDE == \"VStudio\",]\n",
    "Eclipse <- ide2[ide2$IDE == \"Eclipse\",]\n",
    "\n",
    "hist(VS$logTime) # histogram\n",
    "hist(Eclipse$logTime) # histogram\n",
    "plot(logTime ~ IDE, data=ide2) # boxplot"
   ]
  },
  {
   "cell_type": "markdown",
   "metadata": {},
   "source": [
    "VS looks more normally distributed but not so normal for Eclipse. However, it seems closer to normal than before. Let's retest for normality. "
   ]
  },
  {
   "cell_type": "code",
   "execution_count": 20,
   "metadata": {},
   "outputs": [
    {
     "data": {
      "text/plain": [
       "\n",
       "\tShapiro-Wilk normality test\n",
       "\n",
       "data:  VS$logTime\n",
       "W = 0.95825, p-value = 0.5094\n"
      ]
     },
     "metadata": {},
     "output_type": "display_data"
    }
   ],
   "source": [
    "# retest for normality\n",
    "\n",
    "shapiro.test(VS$logTime)"
   ]
  },
  {
   "cell_type": "code",
   "execution_count": 21,
   "metadata": {},
   "outputs": [
    {
     "data": {
      "text/plain": [
       "\n",
       "\tShapiro-Wilk normality test\n",
       "\n",
       "data:  Eclipse$logTime\n",
       "W = 0.93905, p-value = 0.23\n"
      ]
     },
     "metadata": {},
     "output_type": "display_data"
    }
   ],
   "source": [
    "shapiro.test(Eclipse$logTime)"
   ]
  },
  {
   "cell_type": "markdown",
   "metadata": {},
   "source": [
    "For both VS and Eclipse, we can see that what was significant on Time is no longer significant on logTime. This indicates that we don't signficiantly deviate from a normal distribution. We cannot reject the null hypothesis that it is normally distributed. \n",
    "\n",
    "Now, we should test on the residual. So let's fit in the analysis of variance model on the logtime (instead of Time)"
   ]
  },
  {
   "cell_type": "code",
   "execution_count": 22,
   "metadata": {},
   "outputs": [
    {
     "data": {
      "text/plain": [
       "\n",
       "\tShapiro-Wilk normality test\n",
       "\n",
       "data:  residuals_m\n",
       "W = 0.96218, p-value = 0.1987\n"
      ]
     },
     "metadata": {},
     "output_type": "display_data"
    }
   ],
   "source": [
    "m <- aov(logTime ~ IDE, data=ide2) # fit model\n",
    "residuals_m <- residuals(m) # residuals\n",
    "\n",
    "shapiro.test(residuals_m) # test residuals"
   ]
  },
  {
   "cell_type": "markdown",
   "metadata": {},
   "source": [
    "We can see that the residuals don't depart from normality at a significant level. Let's graph it so we can see this. There's still a slight departure on the upper right corner but it's not as severe. And again, ANOVAs are somewhat robust to mild departures from these assumptions of normality. "
   ]
  },
  {
   "cell_type": "code",
   "execution_count": 23,
   "metadata": {},
   "outputs": [
    {
     "data": {
      "image/png": "[encoded data removed]",
      "text/plain": [
       "Plot with title \"Normal Q-Q Plot\""
      ]
     },
     "metadata": {},
     "output_type": "display_data"
    }
   ],
   "source": [
    "qqnorm(residuals_m);\n",
    "qqline(residuals_m)"
   ]
  },
  {
   "cell_type": "markdown",
   "metadata": {},
   "source": [
    "So we can then re-issue our test for homoscedasticity. Just to make sure we haven't changed anything there. "
   ]
  },
  {
   "cell_type": "code",
   "execution_count": 24,
   "metadata": {},
   "outputs": [
    {
     "data": {
      "text/html": [
       "<table>\n",
       "<thead><tr><th></th><th scope=col>Df</th><th scope=col>F value</th><th scope=col>Pr(&gt;F)</th></tr></thead>\n",
       "<tbody>\n",
       "\t<tr><th scope=row>group</th><td> 1        </td><td>3.263809  </td><td>0.07874844</td></tr>\n",
       "\t<tr><th scope=row> </th><td>38        </td><td>      NA  </td><td>        NA</td></tr>\n",
       "</tbody>\n",
       "</table>\n"
      ],
      "text/latex": [
       "\\begin{tabular}{r|lll}\n",
       "  & Df & F value & Pr(>F)\\\\\n",
       "\\hline\n",
       "\tgroup &  1         & 3.263809   & 0.07874844\\\\\n",
       "\t  & 38         &       NA   &         NA\\\\\n",
       "\\end{tabular}\n"
      ],
      "text/markdown": [
       "\n",
       "| <!--/--> | Df | F value | Pr(>F) | \n",
       "|---|---|\n",
       "| group |  1         | 3.263809   | 0.07874844 | \n",
       "|   | 38         |       NA   |         NA | \n",
       "\n",
       "\n"
      ],
      "text/plain": [
       "      Df F value  Pr(>F)    \n",
       "group  1 3.263809 0.07874844\n",
       "      38       NA         NA"
      ]
     },
     "metadata": {},
     "output_type": "display_data"
    }
   ],
   "source": [
    "# re-test for homoscedasticity\n",
    "library(\"car\")\n",
    "\n",
    "leveneTest(logTime ~ IDE, \n",
    "               data=ide2, \n",
    "               center=median) # Brown-Forsythe test"
   ]
  },
  {
   "cell_type": "markdown",
   "metadata": {},
   "source": [
    "It's close but we're now compliant with our homoscededastic assumption. Let's re-issue our T-Test once more. This time, we'll put TRUE in our var.equal parameter. "
   ]
  },
  {
   "cell_type": "code",
   "execution_count": 25,
   "metadata": {},
   "outputs": [
    {
     "data": {
      "text/plain": [
       "\n",
       "\tTwo Sample t-test\n",
       "\n",
       "data:  logTime by IDE\n",
       "t = 3.3121, df = 38, p-value = 0.002039\n",
       "alternative hypothesis: true difference in means is not equal to 0\n",
       "95 percent confidence interval:\n",
       " 0.1514416 0.6276133\n",
       "sample estimates:\n",
       "mean in group Eclipse mean in group VStudio \n",
       "             6.055645              5.666118 \n"
      ]
     },
     "metadata": {},
     "output_type": "display_data"
    }
   ],
   "source": [
    "# independent-samples t-test (now suitable for logTime)\n",
    "t.test(logTime ~ IDE, data=ide2, var.equal=TRUE)"
   ]
  },
  {
   "cell_type": "markdown",
   "metadata": {},
   "source": [
    "We have a significant p value. Same conclusions as before BUT we can trust this a bit more because we've transformed our data. "
   ]
  },
  {
   "cell_type": "markdown",
   "metadata": {
    "collapsed": true
   },
   "source": [
    "# Mann-Whitney, a non-parametric T-Test\n",
    "\n",
    "Let's move on now to examining the nonparametric equivalent of the independent samples T-Test. So if we wanted to do all this without ANOVA assumptions and use the underlying ranks in our data, we would use something called the \"Mann-Whitney T-Test\". \n",
    "\n",
    "We find that in the coin library and despite its name, it starts with Wilcox because there are multiple authors of this test and some people call it the Wilcox and Mann-Whitney test. \n",
    "\n",
    "So here we're going to run the test timed by the IDE"
   ]
  },
  {
   "cell_type": "code",
   "execution_count": 27,
   "metadata": {},
   "outputs": [
    {
     "name": "stderr",
     "output_type": "stream",
     "text": [
      "Installing package into 'C:/Users/Jacky Zhao/Documents/R/win-library/3.4'\n",
      "(as 'lib' is unspecified)\n",
      "also installing the dependencies 'TH.data', 'sandwich', 'multcomp'\n",
      "\n"
     ]
    },
    {
     "name": "stdout",
     "output_type": "stream",
     "text": [
      "package 'TH.data' successfully unpacked and MD5 sums checked\n",
      "package 'sandwich' successfully unpacked and MD5 sums checked\n",
      "package 'multcomp' successfully unpacked and MD5 sums checked\n",
      "package 'coin' successfully unpacked and MD5 sums checked\n",
      "\n",
      "The downloaded binary packages are in\n",
      "\tC:\\Users\\Jacky Zhao\\AppData\\Local\\Temp\\Rtmpk3MXnO\\downloaded_packages\n"
     ]
    }
   ],
   "source": [
    "install.packages(\"coin\", repos=\"https://cran.r-project.org/\")"
   ]
  },
  {
   "cell_type": "code",
   "execution_count": 28,
   "metadata": {},
   "outputs": [
    {
     "name": "stderr",
     "output_type": "stream",
     "text": [
      "Warning message:\n",
      "\"package 'coin' was built under R version 3.4.4\"Loading required package: survival\n"
     ]
    },
    {
     "data": {
      "text/plain": [
       "\n",
       "\tExact Wilcoxon-Mann-Whitney Test\n",
       "\n",
       "data:  Time by IDE (Eclipse, VStudio)\n",
       "Z = 2.9487, p-value = 0.002577\n",
       "alternative hypothesis: true mu is not equal to 0\n"
      ]
     },
     "metadata": {},
     "output_type": "display_data"
    }
   ],
   "source": [
    "# Non-parametric equivalent of independent samples T-Test\n",
    "\n",
    "# Mann-Whitney U Test\n",
    "\n",
    "library(\"coin\")\n",
    "\n",
    "wilcox_test(Time ~ IDE, data=ide2, distribution=\"exact\")"
   ]
  },
  {
   "cell_type": "code",
   "execution_count": 29,
   "metadata": {},
   "outputs": [
    {
     "data": {
      "text/plain": [
       "\n",
       "\tExact Wilcoxon-Mann-Whitney Test\n",
       "\n",
       "data:  logTime by IDE (Eclipse, VStudio)\n",
       "Z = 2.9487, p-value = 0.002577\n",
       "alternative hypothesis: true mu is not equal to 0\n"
      ]
     },
     "metadata": {},
     "output_type": "display_data"
    }
   ],
   "source": [
    "wilcox_test(logTime ~ IDE, data=ide2, distribution=\"exact\")"
   ]
  },
  {
   "cell_type": "markdown",
   "metadata": {},
   "source": [
    "We see a significant p-value for both tests so we can reject the null hypothesis that there is no difference. But why do we get the same result for both Time and LogTime? Because taking the log transform of the data doesn't fundamentally change the rank order of the response. The rank order of all the measures would still be the same when the log is taken. So, for a rank based test, the result would still be the same. \n",
    "\n",
    "We saw for a single factor (IDE) and 2 levels (VS and Eclipse). It was a between subjects factor because students only did one or the other (VS or Eclipse...not both). The parametric test, the analysis of variance test was the independent samples T-test. The non-parametric equivalent, which did NOT need the ANOVA assumptions to be met was the Mann-Whitney U test. "
   ]
  },
  {
   "cell_type": "code",
   "execution_count": null,
   "metadata": {
    "collapsed": true
   },
   "outputs": [],
   "source": []
  }
 ],
 "metadata": {
  "kernelspec": {
   "display_name": "R",
   "language": "R",
   "name": "ir"
  },
  "language_info": {
   "codemirror_mode": "r",
   "file_extension": ".r",
   "mimetype": "text/x-r-source",
   "name": "R",
   "pygments_lexer": "r",
   "version": "3.4.1"
  }
 },
 "nbformat": 4,
 "nbformat_minor": 2
}
