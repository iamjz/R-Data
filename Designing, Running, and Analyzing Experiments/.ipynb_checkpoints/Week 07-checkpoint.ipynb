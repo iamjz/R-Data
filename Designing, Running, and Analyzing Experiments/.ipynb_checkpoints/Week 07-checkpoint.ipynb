{
 "cells": [
  {
   "cell_type": "markdown",
   "metadata": {
    "collapsed": true
   },
   "source": [
    "# Introduction\n",
    "\n",
    "So far, we've been looking at studies that have had a single factor. And those factors have been either between subjects or within subjects factors, also called repeated measures. \n",
    "\n",
    "Now things are going to get more interesting. WE can look at studies that have multiple factors at one time. \n",
    "\n",
    "Here's the scenario that we'll use. Let's say 24 subjects are in our study. And they use either the Apple Iphone or the Samsung Galaxy keyboard on a mobile smartphone. \n",
    "\n",
    "And they use one or the other key while they are either sitting, standing, or walking. \n",
    "\n",
    "We're going to measure text entry speed in terms of words per minute. And text entry error rate, which is a percentage for each phrase entered. They'll enter a total of 20 phrases that we select from a larger corpus of text entry phrases. And they'll do those 20 phrases in each of the sitting, standing, and walking postures. \n",
    "\n",
    "We're interested in how the keyboards compare and also how the postures compare. And also how performance with the keyboard might be affected differently by the different postures. This is called an interaction. We'll come back to that concept of interaction shortly and discuss it further. \n",
    "\n",
    "For our first analysis on this data, we'll assume that we're averaging over those 20 phrases, for an average words per minute. And an average error rate for each fo the keyboards in sitting, standing, and walking postures. \n",
    "\n",
    "So what kind of study is this in terms of it's formal experiment design?\n",
    "\n",
    "Well - we would call this study a 2 by 3 mixed factorial design. 2 by 3, what does that mean? We have 2 separate numbers in this notation, the 2 and the 3 and those correspond to factors. And the numbers themselves indicate how many levels each of those factors has. The factors with 2 levels is keyboard and it has 2 levels (Apple IPhone and Samsung Galaxy). The factor with 3 levels is called posture (Sitting, Standing, and Walking). \n",
    "\n",
    "It's a mixed factorial design because keyboard is a between subjects factor. And posture is a within subjects factor (or a repeated measure factor). So it's a mixed factorial design. We could have designs that are purely between subjects across all their factors or purely within subjects across all their factors. But a mixed factorial design has between and within subjects factors. \n",
    "\n",
    "We'll be averaging over 20 phrases in each of these conditions. Now in an experiment of this kind, we would record the results of every trial. A trial would be every phrase entered. Why don't we analyze all 20 phrases separately for each of these conditions? Well, we'll come back to that when we have a little bit more statistical machinery under our belt. But for now, we'll say we're averaging over the 20 phrases. \n",
    "\n",
    "So what's the total data that we're gathering?\n",
    "\n",
    "We have 24 subjects. \n",
    "\n",
    "But we'll divide by 2 because they're in 2 separate conditions with respect to the keyboard. Then we have 2 keyboards then we have 3 postures that everyone does. And as I mentioned, they enter 20 phrases, giving us a total in this study of 1440 measures of words per minute and error rate. 1440 text entry phrases and measures over those phrases. And as I mentioned, because we're averaging over the 20 phrases for each of these conditions, we'll end up with 72 data points in this study. We can think of that in a long format table as 72 separate rows in the table. \n",
    "\n",
    "We can fully counterbalance our posture effect because with 3 levels of posture, full counterbalancing would take 6 different sequences. We ahve 24 subjects and so, we see a nice, clean multiple of 6 there, where we can represent all of those sequences the same number of times. \n",
    "\n",
    "Now, before we got to our analysis, I want to talk about this notion of interactions (2 factors in this case). And some studies can have more than 2 and you would have a longer phrase here 2 by 3 by perhaps other numbers after that. You don't want to get too many, the studies get pretty hard to analyze and complicated to report if you have too many factors. But I want to talk about interactions. Because that's where some really interesting results can arise. \n",
    "\n"
   ]
  },
  {
   "cell_type": "code",
   "execution_count": null,
   "metadata": {
    "collapsed": true
   },
   "outputs": [],
   "source": []
  }
 ],
 "metadata": {
  "kernelspec": {
   "display_name": "R",
   "language": "R",
   "name": "ir"
  },
  "language_info": {
   "codemirror_mode": "r",
   "file_extension": ".r",
   "mimetype": "text/x-r-source",
   "name": "R",
   "pygments_lexer": "r",
   "version": "3.4.1"
  }
 },
 "nbformat": 4,
 "nbformat_minor": 2
}
