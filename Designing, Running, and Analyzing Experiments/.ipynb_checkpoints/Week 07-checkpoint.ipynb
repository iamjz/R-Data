{
 "cells": [
  {
   "cell_type": "markdown",
   "metadata": {
    "collapsed": true
   },
   "source": [
    "# Introduction\n",
    "\n",
    "So far, we've been looking at studies that have had a single factor. And those factors have been either between subjects or within subjects factors, also called repeated measures. \n",
    "\n",
    "Now things are going to get more interesting. WE can look at studies that have multiple factors at one time. \n",
    "\n",
    "Here's the scenario that we'll use. Let's say 24 subjects are in our study. And they use either the Apple Iphone or the Samsung Galaxy keyboard on a mobile smartphone. \n",
    "\n",
    "And they use one or the other key while they are either sitting, standing, or walking. \n",
    "\n",
    "We're going to measure text entry speed in terms of words per minute. And text entry error rate, which is a percentage for each phrase entered. They'll enter a total of 20 phrases that we select from a larger corpus of text entry phrases. And they'll do those 20 phrases in each of the sitting, standing, and walking postures. \n",
    "\n",
    "We're interested in how the keyboards compare and also how the postures compare. And also how performance with the keyboard might be affected differently by the different postures. This is called an interaction. We'll come back to that concept of interaction shortly and discuss it further. \n",
    "\n",
    "For our first analysis on this data, we'll assume that we're averaging over those 20 phrases, for an average words per minute. And an average error rate for each fo the keyboards in sitting, standing, and walking postures. \n",
    "\n",
    "So what kind of study is this in terms of it's formal experiment design?\n",
    "\n",
    "Well - we would call this study a 2 by 3 mixed factorial design. 2 by 3, what does that mean? We have 2 separate numbers in this notation, the 2 and the 3 and those correspond to factors. And the numbers themselves indicate how many levels each of those factors has. The factors with 2 levels is keyboard and it has 2 levels (Apple IPhone and Samsung Galaxy). The factor with 3 levels is called posture (Sitting, Standing, and Walking). \n",
    "\n",
    "It's a mixed factorial design because keyboard is a between subjects factor. And posture is a within subjects factor (or a repeated measure factor). So it's a mixed factorial design. We could have designs that are purely between subjects across all their factors or purely within subjects across all their factors. But a mixed factorial design has between and within subjects factors. \n",
    "\n",
    "We'll be averaging over 20 phrases in each of these conditions. Now in an experiment of this kind, we would record the results of every trial. A trial would be every phrase entered. Why don't we analyze all 20 phrases separately for each of these conditions? Well, we'll come back to that when we have a little bit more statistical machinery under our belt. But for now, we'll say we're averaging over the 20 phrases. \n",
    "\n",
    "So what's the total data that we're gathering?\n",
    "\n",
    "We have 24 subjects. \n",
    "\n",
    "But we'll divide by 2 because they're in 2 separate conditions with respect to the keyboard. Then we have 2 keyboards then we have 3 postures that everyone does. And as I mentioned, they enter 20 phrases, giving us a total in this study of 1440 measures of words per minute and error rate. 1440 text entry phrases and measures over those phrases. And as I mentioned, because we're averaging over the 20 phrases for each of these conditions, we'll end up with 72 data points in this study. We can think of that in a long format table as 72 separate rows in the table. \n",
    "\n",
    "We can fully counterbalance our posture effect because with 3 levels of posture, full counterbalancing would take 6 different sequences. We have 24 subjects and so, we see a nice, clean multiple of 6 there, where we can represent all of those sequences the same number of times. \n",
    "\n",
    "<img src=\"materials/interactions.JPG\">\n",
    "\n",
    "Now, before we go to our analysis, I want to talk about this notion of interactions (2 factors in this case). And some studies can have more than 2 and you would have a longer phrase here 2 by 3 by perhaps other numbers after that. You don't want to get too many, the studies get pretty hard to analyze and complicated to report if you have too many factors. But I want to talk about interactions. Because that's where some really interesting results can arise. \n",
    "\n"
   ]
  },
  {
   "cell_type": "markdown",
   "metadata": {},
   "source": [
    "# Understanding interaction effects"
   ]
  },
  {
   "cell_type": "markdown",
   "metadata": {},
   "source": [
    "<img src=\"materials/interaction_effects.JPG\">"
   ]
  },
  {
   "cell_type": "markdown",
   "metadata": {},
   "source": [
    "Let's discuss the concept of a significant interaction in a factorial study. Here, we've drawn a few graphs that are going to help us understand what interactions are and how they work. We see on the x-axis the words \"Stand and Sit\". We talked about our study where we actually have 3 postures but for now, let's just consider 2. \n",
    "\n",
    "On the Y-axis, we have words per minute but it coudl really be any of our measures. \n",
    "\n",
    "And as traces in the graph, we have 2 keyboards we're considering, the Apple iPhone and the Samsung Galaxy. \n",
    "\n",
    "The question becomes: is there a main effect of key or posture? And a main effect would mean overall, just for keyboard, just for posture. So we can ask that question. And then we'd also ask, is there an interaction between keyboard and posture? That measns would posture differentially affect the performance of keyboard? "
   ]
  },
  {
   "cell_type": "markdown",
   "metadata": {},
   "source": [
    "## First Graph\n",
    "In the first gaph, we can see that in both standing and sitting, the keyboards stay roughly the same. \n",
    "\n",
    "But there is a gap between the lines of the 2 keyboards. So we can ask, do we have a main effect of keyboard? The answer is 'Yes'. Assuming there are small variances around these datapoints, we can assume that for these graphs, then there's some separation between the iPhone's performance and the Galaxy's performance. That would mean we have a main effect of keyboard. \n",
    "\n",
    "Is there an interaction? Before that - let's consider, is there a main effect of posture? Well...from standing to sitting, performance doesn't really seem to change. So there would not be a main effect of posture. \n",
    "\n",
    "And then...is there an interaction? Is there an differential effect? Well...it doesn't seem to be. A short way of seeing that is the lines are parallel. But what that means is that in both standing and sitting, there's no real differential effect on the keyboards themselves. "
   ]
  },
  {
   "cell_type": "markdown",
   "metadata": {},
   "source": [
    "## Second Graph\n",
    "\n",
    "Let's consider the next graph. Here, we see that the lines are sloped and still parallel. What does that mean? Is there a main effect of keyboard? In both conditions, we see the iPhone seems to be faster than the Galaxy. So we'd say yes, there's a main effect of keyboard. \n",
    "\n",
    "Is there a main effect of posture? From standing to sitting, we see that there's a change. It seems that when people are sitting, they're faster with both keyboards. So yes, we'd say there's a main effect of posture. \n",
    "\n",
    "And then we'd ask...is there an interaction? \n",
    "\n",
    "And here, we see parallel lines. We see that from standing to sitting while things improve in terms of speed, they improve the same for each keyboad. So there is not an interaction"
   ]
  },
  {
   "cell_type": "markdown",
   "metadata": {},
   "source": [
    "## Third Graph\n",
    "\n",
    "Let's consider the 3rd graph. Here, we see what are sometimes called alligator jaws. \n",
    "\n",
    "In 'Standing', both of the keyboards are basically the same, very close in performance. But in 'Sitting', the iPhone has now become differentially better than Galaxy, which actually hasn't improved. \n",
    "\n",
    "So let's go through our 3 questions. Is there a main effect of keyboard? You can take the midpoint of the iPhone line and the midpoint of the Galaxy line and there's a separation. We'd say 'Yes' - there is a main effect of keyboard. \n",
    "\n",
    "Is there a main effect of posture? We can imagine a line up through the center here and is that line sloped? The answer in this case is somewhat - perhaps, there is still a small but main effect of posture. \n",
    "\n",
    "But the interesting thing is there's an interaction because the lines are not parallel. And the iPhone seems to get much better when you sit down and enter text on its keyboard but the Galaxy kind of stays the same. So posture is differentially affecting the keyboard's performance. "
   ]
  },
  {
   "cell_type": "markdown",
   "metadata": {},
   "source": [
    "## Fourth Graph\n",
    "\n",
    "This last graph also clearly shows an interactions. Let's do our 3 questions. \n",
    "\n",
    "Is there a main effect of keyboard? Well maybe, if we take the center of each keyboard, there may be a slight separation. So perhaps the iPhone is still performing better but maybe it's too close to call. Is there a main effect of posture? If we draw a line between our lines here, we can see that overall, there's not that much change in posture. \n",
    "\n",
    "And is there an interaction? Clearly, there is because amazingly when you're standing up, you're much faster with the Galaxy keyboard than the iPhone keyboard. But as soon as you sit down, you're faster with the iPhone keyboard than the Galaxy keyboard. Anytime you see the lines cross, that's a class picture of an interaction effect. "
   ]
  },
  {
   "cell_type": "code",
   "execution_count": null,
   "metadata": {
    "collapsed": true
   },
   "outputs": [],
   "source": []
  }
 ],
 "metadata": {
  "kernelspec": {
   "display_name": "R",
   "language": "R",
   "name": "ir"
  },
  "language_info": {
   "codemirror_mode": "r",
   "file_extension": ".r",
   "mimetype": "text/x-r-source",
   "name": "R",
   "pygments_lexer": "r",
   "version": "3.4.1"
  }
 },
 "nbformat": 4,
 "nbformat_minor": 2
}
