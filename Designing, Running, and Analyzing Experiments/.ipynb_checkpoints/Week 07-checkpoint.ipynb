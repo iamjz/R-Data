{
 "cells": [
  {
   "cell_type": "markdown",
   "metadata": {
    "collapsed": true
   },
   "source": [
    "# Introduction\n",
    "\n",
    "So far, we've been looking at studies that have had a single factor. And those factors have been either between subjects or within subjects factors, also called repeated measures. \n",
    "\n",
    "Now things are going to get more interesting. We can look at studies that have multiple factors at one time. \n",
    "\n",
    "Here's the scenario that we'll use. Let's say 24 subjects are in our study. And they use either the Apple Iphone or the Samsung Galaxy keyboard on a mobile smartphone. \n",
    "\n",
    "And they use one or the other key while they are either sitting, standing, or walking. \n",
    "\n",
    "We're going to measure text entry speed in terms of words per minute. And text entry error rate, which is a percentage for each phrase entered. They'll enter a total of 20 phrases that we select from a larger corpus of text entry phrases. And they'll do those 20 phrases in each of the sitting, standing, and walking postures. \n",
    "\n",
    "We're interested in how the keyboards compare and also how the postures compare. And also how performance with the keyboard might be affected differently by the different postures. This is called an interaction. We'll come back to that concept of interaction shortly and discuss it further. \n",
    "\n",
    "For our first analysis on this data, we'll assume that we're averaging over those 20 phrases, for an average words per minute. And an average error rate for each fo the keyboards in sitting, standing, and walking postures. \n",
    "\n",
    "So what kind of study is this in terms of it's formal experiment design?\n",
    "\n",
    "Well - we would call this study a 2 by 3 mixed factorial design. 2 by 3, what does that mean? We have 2 separate numbers in this notation, the 2 and the 3 and those correspond to factors. And the numbers themselves indicate how many levels each of those factors has. The factors with 2 levels is keyboard and it has 2 levels (Apple IPhone and Samsung Galaxy). The factor with 3 levels is called posture (Sitting, Standing, and Walking). \n",
    "\n",
    "It's a mixed factorial design because keyboard is a between subjects factor. And posture is a within subjects factor (or a repeated measure factor). So it's a mixed factorial design. We could have designs that are purely between subjects across all their factors or purely within subjects across all their factors. But a mixed factorial design has between and within subjects factors. \n",
    "\n",
    "We'll be averaging over 20 phrases in each of these conditions. Now in an experiment of this kind, we would record the results of every trial. A trial would be every phrase entered. Why don't we analyze all 20 phrases separately for each of these conditions? Well, we'll come back to that when we have a little bit more statistical machinery under our belt. But for now, we'll say we're averaging over the 20 phrases. \n",
    "\n",
    "So what's the total data that we're gathering?\n",
    "\n",
    "We have 24 subjects. \n",
    "\n",
    "But we'll divide by 2 because they're in 2 separate conditions with respect to the keyboard. Then we have 2 keyboards then we have 3 postures that everyone does. And as I mentioned, they enter 20 phrases, giving us a total in this study of 1440 measures of words per minute and error rate. 1440 text entry phrases and measures over those phrases. And as I mentioned, because we're averaging over the 20 phrases for each of these conditions, we'll end up with 72 data points in this study. We can think of that in a long format table as 72 separate rows in the table. \n",
    "\n",
    "We can fully counterbalance our posture effect because with 3 levels of posture, full counterbalancing would take 6 different sequences. We have 24 subjects and so, we see a nice, clean multiple of 6 there, where we can represent all of those sequences the same number of times. \n",
    "\n",
    "<img src=\"materials/interactions.JPG\">\n",
    "\n",
    "Now, before we go to our analysis, I want to talk about this notion of interactions (2 factors in this case). And some studies can have more than 2 and you would have a longer phrase here 2 by 3 by perhaps other numbers after that. You don't want to get too many, the studies get pretty hard to analyze and complicated to report if you have too many factors. But I want to talk about interactions. Because that's where some really interesting results can arise. \n",
    "\n"
   ]
  },
  {
   "cell_type": "markdown",
   "metadata": {},
   "source": [
    "# Understanding interaction effects"
   ]
  },
  {
   "cell_type": "markdown",
   "metadata": {},
   "source": [
    "<img src=\"materials/interaction_effects.JPG\">"
   ]
  },
  {
   "cell_type": "markdown",
   "metadata": {},
   "source": [
    "Let's discuss the concept of a significant interaction in a factorial study. Here, we've drawn a few graphs that are going to help us understand what interactions are and how they work. We see on the x-axis the words \"Stand and Sit\". We talked about our study where we actually have 3 postures but for now, let's just consider 2. \n",
    "\n",
    "On the Y-axis, we have words per minute but it coudl really be any of our measures. \n",
    "\n",
    "And as traces in the graph, we have 2 keyboards we're considering, the Apple iPhone and the Samsung Galaxy. \n",
    "\n",
    "The question becomes: is there a main effect of key or posture? And a main effect would mean overall, just for keyboard, just for posture. So we can ask that question. And then we'd also ask, is there an interaction between keyboard and posture? That measns would posture differentially affect the performance of keyboard? "
   ]
  },
  {
   "cell_type": "markdown",
   "metadata": {},
   "source": [
    "## First Graph\n",
    "\n",
    "<img src=\"materials/first_int.JPG\">\n",
    "\n",
    "In the first gaph, we can see that in both standing and sitting, the keyboards stay roughly the same. \n",
    "\n",
    "But there is a gap between the lines of the 2 keyboards. So we can ask, do we have a main effect of keyboard? The answer is 'Yes'. Assuming there are small variances around these datapoints, we can assume that for these graphs, then there's some separation between the iPhone's performance and the Galaxy's performance. That would mean we have a main effect of keyboard. \n",
    "\n",
    "Is there an interaction? Before that - let's consider, is there a main effect of posture? Well...from standing to sitting, performance doesn't really seem to change. So there would not be a main effect of posture. \n",
    "\n",
    "And then...is there an interaction? Is there an differential effect? Well...it doesn't seem to be. A short way of seeing that is the lines are parallel. But what that means is that in both standing and sitting, there's no real differential effect on the keyboards themselves. "
   ]
  },
  {
   "cell_type": "markdown",
   "metadata": {},
   "source": [
    "## Second Graph\n",
    "\n",
    "<img src=\"materials/second_int.JPG\">\n",
    "\n",
    "Let's consider the next graph. Here, we see that the lines are sloped and still parallel. What does that mean? Is there a main effect of keyboard? In both conditions, we see the iPhone seems to be faster than the Galaxy. So we'd say yes, there's a main effect of keyboard. \n",
    "\n",
    "Is there a main effect of posture? From standing to sitting, we see that there's a change. It seems that when people are sitting, they're faster with both keyboards. So yes, we'd say there's a main effect of posture. \n",
    "\n",
    "And then we'd ask...is there an interaction? \n",
    "\n",
    "And here, we see parallel lines. We see that from standing to sitting while things improve in terms of speed, they improve the same for each keyboad. So there is not an interaction"
   ]
  },
  {
   "cell_type": "markdown",
   "metadata": {},
   "source": [
    "## Third Graph\n",
    "\n",
    "<img src=\"materials/third_int.JPG\">\n",
    "\n",
    "Let's consider the 3rd graph. Here, we see what are sometimes called alligator jaws. \n",
    "\n",
    "In 'Standing', both of the keyboards are basically the same, very close in performance. But in 'Sitting', the iPhone has now become differentially better than Galaxy, which actually hasn't improved. \n",
    "\n",
    "So let's go through our 3 questions. Is there a main effect of keyboard? You can take the midpoint of the iPhone line and the midpoint of the Galaxy line and there's a separation. We'd say 'Yes' - there is a main effect of keyboard. \n",
    "\n",
    "Is there a main effect of posture? We can imagine a line up through the center here and is that line sloped? The answer in this case is somewhat - perhaps, there is still a small but main effect of posture. \n",
    "\n",
    "But the interesting thing is there's an interaction because the lines are not parallel. And the iPhone seems to get much better when you sit down and enter text on its keyboard but the Galaxy kind of stays the same. So posture is differentially affecting the keyboard's performance. "
   ]
  },
  {
   "cell_type": "markdown",
   "metadata": {},
   "source": [
    "## Fourth Graph\n",
    "\n",
    "<img src=\"materials/fourth_int.JPG\">\n",
    "\n",
    "This last graph also clearly shows an interactions. Let's do our 3 questions. \n",
    "\n",
    "Is there a main effect of keyboard? Well maybe, if we take the center of each keyboard, there may be a slight separation. So perhaps the iPhone is still performing better but maybe it's too close to call. Is there a main effect of posture? If we draw a line between our lines here, we can see that overall, there's not that much change in posture. \n",
    "\n",
    "And is there an interaction? Clearly, there is because amazingly when you're standing up, you're much faster with the Galaxy keyboard than the iPhone keyboard. But as soon as you sit down, you're faster with the iPhone keyboard than the Galaxy keyboard. Anytime you see the lines cross, that's a class picture of an interaction effect. "
   ]
  },
  {
   "cell_type": "markdown",
   "metadata": {
    "collapsed": true
   },
   "source": [
    "# Analyzing a factorial ANOVA\n",
    "\n",
    "We're going to analyze our experiment of 24 subjects entering text using the iPhone keyboard or the Samsung Galaxy keyboard in different postures (standing and walking). This is a factorial ANOVA meaning there are multiple factors (2 in this case). And there's a between subjects factor for keyboard and within subjects factor for posture..which is also known as a repeated measures factor. So we'll be doing a repeated measures ANOVA. Because if you have any within subject factors then ultimately, you are doing a repeated measures ANOVA even though we are a mixed factorial design here. We'll be looking as well at interaction effects. And ultimately, a nonparametric version of these analysis as well. "
   ]
  },
  {
   "cell_type": "code",
   "execution_count": 1,
   "metadata": {},
   "outputs": [
    {
     "data": {
      "text/html": [
       "<table>\n",
       "<thead><tr><th scope=col>Subject</th><th scope=col>Keyboard</th><th scope=col>Posture</th><th scope=col>Posture_Order</th><th scope=col>WPM</th><th scope=col>Error_Rate</th></tr></thead>\n",
       "<tbody>\n",
       "\t<tr><td>1      </td><td>iPhone </td><td>Sit    </td><td>1      </td><td>20.2145</td><td>0.0220 </td></tr>\n",
       "\t<tr><td>1      </td><td>iPhone </td><td>Stand  </td><td>2      </td><td>23.7485</td><td>0.0300 </td></tr>\n",
       "\t<tr><td>1      </td><td>iPhone </td><td>Walk   </td><td>3      </td><td>20.7960</td><td>0.0415 </td></tr>\n",
       "\t<tr><td>2      </td><td>iPhone </td><td>Sit    </td><td>1      </td><td>20.8805</td><td>0.0220 </td></tr>\n",
       "\t<tr><td>2      </td><td>iPhone </td><td>Stand  </td><td>3      </td><td>23.2595</td><td>0.0255 </td></tr>\n",
       "\t<tr><td>2      </td><td>iPhone </td><td>Walk   </td><td>2      </td><td>19.1305</td><td>0.0355 </td></tr>\n",
       "</tbody>\n",
       "</table>\n"
      ],
      "text/latex": [
       "\\begin{tabular}{r|llllll}\n",
       " Subject & Keyboard & Posture & Posture\\_Order & WPM & Error\\_Rate\\\\\n",
       "\\hline\n",
       "\t 1       & iPhone  & Sit     & 1       & 20.2145 & 0.0220 \\\\\n",
       "\t 1       & iPhone  & Stand   & 2       & 23.7485 & 0.0300 \\\\\n",
       "\t 1       & iPhone  & Walk    & 3       & 20.7960 & 0.0415 \\\\\n",
       "\t 2       & iPhone  & Sit     & 1       & 20.8805 & 0.0220 \\\\\n",
       "\t 2       & iPhone  & Stand   & 3       & 23.2595 & 0.0255 \\\\\n",
       "\t 2       & iPhone  & Walk    & 2       & 19.1305 & 0.0355 \\\\\n",
       "\\end{tabular}\n"
      ],
      "text/markdown": [
       "\n",
       "Subject | Keyboard | Posture | Posture_Order | WPM | Error_Rate | \n",
       "|---|---|---|---|---|---|\n",
       "| 1       | iPhone  | Sit     | 1       | 20.2145 | 0.0220  | \n",
       "| 1       | iPhone  | Stand   | 2       | 23.7485 | 0.0300  | \n",
       "| 1       | iPhone  | Walk    | 3       | 20.7960 | 0.0415  | \n",
       "| 2       | iPhone  | Sit     | 1       | 20.8805 | 0.0220  | \n",
       "| 2       | iPhone  | Stand   | 3       | 23.2595 | 0.0255  | \n",
       "| 2       | iPhone  | Walk    | 2       | 19.1305 | 0.0355  | \n",
       "\n",
       "\n"
      ],
      "text/plain": [
       "  Subject Keyboard Posture Posture_Order WPM     Error_Rate\n",
       "1 1       iPhone   Sit     1             20.2145 0.0220    \n",
       "2 1       iPhone   Stand   2             23.7485 0.0300    \n",
       "3 1       iPhone   Walk    3             20.7960 0.0415    \n",
       "4 2       iPhone   Sit     1             20.8805 0.0220    \n",
       "5 2       iPhone   Stand   3             23.2595 0.0255    \n",
       "6 2       iPhone   Walk    2             19.1305 0.0355    "
      ]
     },
     "metadata": {},
     "output_type": "display_data"
    }
   ],
   "source": [
    "# Mixed Factorial ANOVA on WPM\n",
    "# Note: \"Mixed\" here is not \"mixed effects\" as in LMMs.\n",
    "# Those will be used farther down below. \"Mixed\" here is \n",
    "# mixing between-Ss and within-Ss factors. By contrast, \n",
    "# \"mixed\" in LMMs is mixing fixed and random effects,\n",
    "# which we'll cover later. Mixed factorial designs are \n",
    "# also called \"mixed designs\" or \"split-plot designs.\"\n",
    "# It is easy to extrapolate to purely between-Ss or \n",
    "# within-Ss factorial designs from what we do here.\n",
    "\n",
    "\n",
    "mbltxt <- read.csv(\"materials/mbltxt.csv\")\n",
    "head(mbltxt)"
   ]
  },
  {
   "cell_type": "code",
   "execution_count": 2,
   "metadata": {},
   "outputs": [
    {
     "data": {
      "text/plain": [
       "    Subject     Keyboard   Posture   Posture_Order      WPM        \n",
       " 1      : 3   Galaxy:36   Sit  :24   1:24          Min.   : 9.454  \n",
       " 2      : 3   iPhone:36   Stand:24   2:24          1st Qu.:19.091  \n",
       " 3      : 3               Walk :24   3:24          Median :21.032  \n",
       " 4      : 3                                        Mean   :20.213  \n",
       " 5      : 3                                        3rd Qu.:23.476  \n",
       " 6      : 3                                        Max.   :25.380  \n",
       " (Other):54                                                        \n",
       "   Error_Rate     \n",
       " Min.   :0.01500  \n",
       " 1st Qu.:0.02200  \n",
       " Median :0.03050  \n",
       " Mean   :0.03381  \n",
       " 3rd Qu.:0.04000  \n",
       " Max.   :0.06950  \n",
       "                  "
      ]
     },
     "metadata": {},
     "output_type": "display_data"
    }
   ],
   "source": [
    "mbltxt$Subject <- as.factor(mbltxt$Subject)\n",
    "mbltxt$Posture_Order <- as.factor(mbltxt$Posture_Order)\n",
    "summary(mbltxt)"
   ]
  },
  {
   "cell_type": "code",
   "execution_count": 3,
   "metadata": {},
   "outputs": [
    {
     "data": {
      "text/html": [
       "<table>\n",
       "<thead><tr><th scope=col>Keyboard</th><th scope=col>Posture</th><th scope=col>Min.</th><th scope=col>1st Qu.</th><th scope=col>Median</th><th scope=col>Mean</th><th scope=col>3rd Qu.</th><th scope=col>Max.</th></tr></thead>\n",
       "<tbody>\n",
       "\t<tr><td>Galaxy  </td><td>Sit     </td><td>23.3730 </td><td>23.56725</td><td>23.80650</td><td>23.90979</td><td>24.13638</td><td>24.8820 </td></tr>\n",
       "\t<tr><td>Galaxy  </td><td>Stand   </td><td>19.1295 </td><td>20.99375</td><td>21.15100</td><td>21.19183</td><td>21.68462</td><td>22.2575 </td></tr>\n",
       "\t<tr><td>Galaxy  </td><td>Walk    </td><td> 9.4535 </td><td>11.29850</td><td>12.16125</td><td>12.06554</td><td>12.86188</td><td>14.0270 </td></tr>\n",
       "\t<tr><td>iPhone  </td><td>Sit     </td><td>19.9115 </td><td>20.48338</td><td>20.94400</td><td>20.95750</td><td>21.34437</td><td>22.1050 </td></tr>\n",
       "\t<tr><td>iPhone  </td><td>Stand   </td><td>22.4040 </td><td>23.44062</td><td>23.83525</td><td>23.91629</td><td>24.36200</td><td>25.3800 </td></tr>\n",
       "\t<tr><td>iPhone  </td><td>Walk    </td><td>17.5130 </td><td>18.12075</td><td>19.05275</td><td>19.23408</td><td>20.66700</td><td>21.0245 </td></tr>\n",
       "</tbody>\n",
       "</table>\n"
      ],
      "text/latex": [
       "\\begin{tabular}{r|llllllll}\n",
       " Keyboard & Posture & Min. & 1st Qu. & Median & Mean & 3rd Qu. & Max.\\\\\n",
       "\\hline\n",
       "\t Galaxy   & Sit      & 23.3730  & 23.56725 & 23.80650 & 23.90979 & 24.13638 & 24.8820 \\\\\n",
       "\t Galaxy   & Stand    & 19.1295  & 20.99375 & 21.15100 & 21.19183 & 21.68462 & 22.2575 \\\\\n",
       "\t Galaxy   & Walk     &  9.4535  & 11.29850 & 12.16125 & 12.06554 & 12.86188 & 14.0270 \\\\\n",
       "\t iPhone   & Sit      & 19.9115  & 20.48338 & 20.94400 & 20.95750 & 21.34437 & 22.1050 \\\\\n",
       "\t iPhone   & Stand    & 22.4040  & 23.44062 & 23.83525 & 23.91629 & 24.36200 & 25.3800 \\\\\n",
       "\t iPhone   & Walk     & 17.5130  & 18.12075 & 19.05275 & 19.23408 & 20.66700 & 21.0245 \\\\\n",
       "\\end{tabular}\n"
      ],
      "text/markdown": [
       "\n",
       "Keyboard | Posture | Min. | 1st Qu. | Median | Mean | 3rd Qu. | Max. | \n",
       "|---|---|---|---|---|---|\n",
       "| Galaxy   | Sit      | 23.3730  | 23.56725 | 23.80650 | 23.90979 | 24.13638 | 24.8820  | \n",
       "| Galaxy   | Stand    | 19.1295  | 20.99375 | 21.15100 | 21.19183 | 21.68462 | 22.2575  | \n",
       "| Galaxy   | Walk     |  9.4535  | 11.29850 | 12.16125 | 12.06554 | 12.86188 | 14.0270  | \n",
       "| iPhone   | Sit      | 19.9115  | 20.48338 | 20.94400 | 20.95750 | 21.34437 | 22.1050  | \n",
       "| iPhone   | Stand    | 22.4040  | 23.44062 | 23.83525 | 23.91629 | 24.36200 | 25.3800  | \n",
       "| iPhone   | Walk     | 17.5130  | 18.12075 | 19.05275 | 19.23408 | 20.66700 | 21.0245  | \n",
       "\n",
       "\n"
      ],
      "text/plain": [
       "  Keyboard Posture Min.    1st Qu.  Median   Mean     3rd Qu.  Max.   \n",
       "1 Galaxy   Sit     23.3730 23.56725 23.80650 23.90979 24.13638 24.8820\n",
       "2 Galaxy   Stand   19.1295 20.99375 21.15100 21.19183 21.68462 22.2575\n",
       "3 Galaxy   Walk     9.4535 11.29850 12.16125 12.06554 12.86188 14.0270\n",
       "4 iPhone   Sit     19.9115 20.48338 20.94400 20.95750 21.34437 22.1050\n",
       "5 iPhone   Stand   22.4040 23.44062 23.83525 23.91629 24.36200 25.3800\n",
       "6 iPhone   Walk    17.5130 18.12075 19.05275 19.23408 20.66700 21.0245"
      ]
     },
     "metadata": {},
     "output_type": "display_data"
    }
   ],
   "source": [
    "library(\"plyr\")\n",
    "\n",
    "ddply(mbltxt, ~ Keyboard * Posture, function(data) summary(data$WPM))"
   ]
  },
  {
   "cell_type": "code",
   "execution_count": 4,
   "metadata": {},
   "outputs": [
    {
     "data": {
      "text/html": [
       "<table>\n",
       "<thead><tr><th scope=col>Keyboard</th><th scope=col>Posture</th><th scope=col>WPM.mean</th><th scope=col>WPM.sd</th></tr></thead>\n",
       "<tbody>\n",
       "\t<tr><td>Galaxy   </td><td>Sit      </td><td>23.90979 </td><td>0.4647806</td></tr>\n",
       "\t<tr><td>Galaxy   </td><td>Stand    </td><td>21.19183 </td><td>0.8095784</td></tr>\n",
       "\t<tr><td>Galaxy   </td><td>Walk     </td><td>12.06554 </td><td>1.2598977</td></tr>\n",
       "\t<tr><td>iPhone   </td><td>Sit      </td><td>20.95750 </td><td>0.7007755</td></tr>\n",
       "\t<tr><td>iPhone   </td><td>Stand    </td><td>23.91629 </td><td>0.8336896</td></tr>\n",
       "\t<tr><td>iPhone   </td><td>Walk     </td><td>19.23408 </td><td>1.3541833</td></tr>\n",
       "</tbody>\n",
       "</table>\n"
      ],
      "text/latex": [
       "\\begin{tabular}{r|llll}\n",
       " Keyboard & Posture & WPM.mean & WPM.sd\\\\\n",
       "\\hline\n",
       "\t Galaxy    & Sit       & 23.90979  & 0.4647806\\\\\n",
       "\t Galaxy    & Stand     & 21.19183  & 0.8095784\\\\\n",
       "\t Galaxy    & Walk      & 12.06554  & 1.2598977\\\\\n",
       "\t iPhone    & Sit       & 20.95750  & 0.7007755\\\\\n",
       "\t iPhone    & Stand     & 23.91629  & 0.8336896\\\\\n",
       "\t iPhone    & Walk      & 19.23408  & 1.3541833\\\\\n",
       "\\end{tabular}\n"
      ],
      "text/markdown": [
       "\n",
       "Keyboard | Posture | WPM.mean | WPM.sd | \n",
       "|---|---|---|---|---|---|\n",
       "| Galaxy    | Sit       | 23.90979  | 0.4647806 | \n",
       "| Galaxy    | Stand     | 21.19183  | 0.8095784 | \n",
       "| Galaxy    | Walk      | 12.06554  | 1.2598977 | \n",
       "| iPhone    | Sit       | 20.95750  | 0.7007755 | \n",
       "| iPhone    | Stand     | 23.91629  | 0.8336896 | \n",
       "| iPhone    | Walk      | 19.23408  | 1.3541833 | \n",
       "\n",
       "\n"
      ],
      "text/plain": [
       "  Keyboard Posture WPM.mean WPM.sd   \n",
       "1 Galaxy   Sit     23.90979 0.4647806\n",
       "2 Galaxy   Stand   21.19183 0.8095784\n",
       "3 Galaxy   Walk    12.06554 1.2598977\n",
       "4 iPhone   Sit     20.95750 0.7007755\n",
       "5 iPhone   Stand   23.91629 0.8336896\n",
       "6 iPhone   Walk    19.23408 1.3541833"
      ]
     },
     "metadata": {},
     "output_type": "display_data"
    }
   ],
   "source": [
    "ddply(mbltxt, ~ Keyboard * Posture, summarise, WPM.mean=mean(WPM), WPM.sd=sd(WPM))"
   ]
  },
  {
   "cell_type": "code",
   "execution_count": 5,
   "metadata": {
    "collapsed": true
   },
   "outputs": [],
   "source": [
    "iphone_sit <- mbltxt[mbltxt$Keyboard == \"iPhone\" & mbltxt$Posture == \"Sit\",]\n",
    "iphone_stand <- mbltxt[mbltxt$Keyboard == \"iPhone\" & mbltxt$Posture == \"Stand\",]\n",
    "iphone_walk <- mbltxt[mbltxt$Keyboard == \"iPhone\" & mbltxt$Posture == \"Walk\",]\n",
    "\n",
    "galaxy_sit <- mbltxt[mbltxt$Keyboard == \"Galaxy\" & mbltxt$Posture == \"Sit\",]\n",
    "galaxy_stand <- mbltxt[mbltxt$Keyboard == \"Galaxy\" & mbltxt$Posture == \"Stand\",]\n",
    "galaxy_walk <- mbltxt[mbltxt$Keyboard == \"Galaxy\" & mbltxt$Posture == \"Walk\",]"
   ]
  },
  {
   "cell_type": "code",
   "execution_count": 6,
   "metadata": {
    "scrolled": false
   },
   "outputs": [
    {
     "data": {
      "image/png": "[encoded data removed]",
      "text/plain": [
       "Plot with title \"Histogram of iphone_sit$WPM\""
      ]
     },
     "metadata": {},
     "output_type": "display_data"
    },
    {
     "data": {
      "image/png": "[encoded data removed]",
      "text/plain": [
       "Plot with title \"Histogram of iphone_stand$WPM\""
      ]
     },
     "metadata": {},
     "output_type": "display_data"
    },
    {
     "data": {
      "image/png": "[encoded data removed]",
      "text/plain": [
       "Plot with title \"Histogram of iphone_walk$WPM\""
      ]
     },
     "metadata": {},
     "output_type": "display_data"
    },
    {
     "data": {
      "image/png": "[encoded data removed]",
      "text/plain": [
       "Plot with title \"Histogram of galaxy_sit$WPM\""
      ]
     },
     "metadata": {},
     "output_type": "display_data"
    },
    {
     "data": {
      "image/png": "[encoded data removed]",
      "text/plain": [
       "Plot with title \"Histogram of galaxy_stand$WPM\""
      ]
     },
     "metadata": {},
     "output_type": "display_data"
    },
    {
     "data": {
      "image/png": "[encoded data removed]",
      "text/plain": [
       "Plot with title \"Histogram of galaxy_walk$WPM\""
      ]
     },
     "metadata": {},
     "output_type": "display_data"
    }
   ],
   "source": [
    "hist(iphone_sit$WPM)\n",
    "hist(iphone_stand$WPM)\n",
    "hist(iphone_walk$WPM)\n",
    "\n",
    "hist(galaxy_sit$WPM)\n",
    "hist(galaxy_stand$WPM)\n",
    "hist(galaxy_walk$WPM)"
   ]
  },
  {
   "cell_type": "code",
   "execution_count": 7,
   "metadata": {},
   "outputs": [
    {
     "data": {
      "image/png": "[encoded data removed]",
      "text/plain": [
       "plot without title"
      ]
     },
     "metadata": {},
     "output_type": "display_data"
    }
   ],
   "source": [
    "boxplot(WPM ~ Keyboard * Posture, data=mbltxt, xlab=\"Keyboard.Posture\", ylab=\"WPM\") # boxplots"
   ]
  },
  {
   "cell_type": "code",
   "execution_count": 21,
   "metadata": {},
   "outputs": [
    {
     "data": {
      "image/png": "[encoded data removed]",
      "text/plain": [
       "plot without title"
      ]
     },
     "metadata": {},
     "output_type": "display_data"
    }
   ],
   "source": [
    "with(mbltxt, interaction.plot(Posture, Keyboard, WPM, ylim=c(0, max(mbltxt$WPM)))) # interaction plot"
   ]
  },
  {
   "cell_type": "markdown",
   "metadata": {},
   "source": [
    "So here, we actually see there is clearly some visual gap between the sitting condition...also between standing and also between walking. It seems that walking certainly slows people's text entry speed down. \n",
    "\n",
    "Standing and sitting seem to be roughly about maybe the same but is different for each keyboard. So based on our discussion previously, it's pretty clear we certainly have at least some kind of interaction. Another way to put it is that the lines are not all just parallel...so we know something differential is happening. Let's go ahead and use our ezANOVA command.\n",
    "\n",
    "Recall with ezANOVA that it's because we're doing a within-subjects factor here for posture. First, we'll do posture order as well to make sure we're not violating this spehericity requirement. \n",
    "\n",
    "### FROM THE PREVIOUS WEEK:\n",
    "\n",
    "We have to check our model for violations of something called Sphericity. Sphericity is the situation where the variances of the differences between all the combinations of levels of within subjects factors are equal (or very near equal). It always holds for within subjects factors that have just 2 levels. So we didn't worry about that before.\n",
    "\n",
    "But with 3 or move levels, sphericity must be tested and examined with Mauchly's test of sphericity. These are some of the complications and complexites that within-subjects variables introduce. \n",
    "\n",
    "### Back to this week...\n",
    "\n",
    "So we'll do that with Machly's test of sphericity. Let's look at its potential order effect. So we'll look at posture order as our within subjects turn. Keyboard is our between subjects turn. Our depedent variable is the WPM"
   ]
  },
  {
   "cell_type": "code",
   "execution_count": 23,
   "metadata": {},
   "outputs": [
    {
     "data": {
      "text/html": [
       "<dl>\n",
       "\t<dt>$ANOVA</dt>\n",
       "\t\t<dd><table>\n",
       "<thead><tr><th></th><th scope=col>Effect</th><th scope=col>DFn</th><th scope=col>DFd</th><th scope=col>F</th><th scope=col>p</th><th scope=col>p&lt;.05</th><th scope=col>ges</th></tr></thead>\n",
       "<tbody>\n",
       "\t<tr><th scope=row>2</th><td>Keyboard              </td><td>1                     </td><td>22                    </td><td>1.244151e+02          </td><td>1.596641e-10          </td><td>*                     </td><td>0.0794723123          </td></tr>\n",
       "\t<tr><th scope=row>3</th><td>Posture_Order         </td><td>2                     </td><td>44                    </td><td>5.166254e-02          </td><td>9.497068e-01          </td><td>                      </td><td>0.0023071128          </td></tr>\n",
       "\t<tr><th scope=row>4</th><td>Keyboard:Posture_Order</td><td>2                     </td><td>44                    </td><td>2.830819e-03          </td><td>9.971734e-01          </td><td>                      </td><td>0.0001266932          </td></tr>\n",
       "</tbody>\n",
       "</table>\n",
       "</dd>\n",
       "\t<dt>$`Mauchly's Test for Sphericity`</dt>\n",
       "\t\t<dd><table>\n",
       "<thead><tr><th></th><th scope=col>Effect</th><th scope=col>W</th><th scope=col>p</th><th scope=col>p&lt;.05</th></tr></thead>\n",
       "<tbody>\n",
       "\t<tr><th scope=row>3</th><td>Posture_Order         </td><td>0.9912922             </td><td>0.9122583             </td><td>                      </td></tr>\n",
       "\t<tr><th scope=row>4</th><td>Keyboard:Posture_Order</td><td>0.9912922             </td><td>0.9122583             </td><td>                      </td></tr>\n",
       "</tbody>\n",
       "</table>\n",
       "</dd>\n",
       "\t<dt>$`Sphericity Corrections`</dt>\n",
       "\t\t<dd><table>\n",
       "<thead><tr><th></th><th scope=col>Effect</th><th scope=col>GGe</th><th scope=col>p[GG]</th><th scope=col>p[GG]&lt;.05</th><th scope=col>HFe</th><th scope=col>p[HF]</th><th scope=col>p[HF]&lt;.05</th></tr></thead>\n",
       "<tbody>\n",
       "\t<tr><th scope=row>3</th><td>Posture_Order         </td><td>0.9913674             </td><td>0.9486517             </td><td>                      </td><td>1.089132              </td><td>0.9497068             </td><td>                      </td></tr>\n",
       "\t<tr><th scope=row>4</th><td>Keyboard:Posture_Order</td><td>0.9913674             </td><td>0.9970418             </td><td>                      </td><td>1.089132              </td><td>0.9971734             </td><td>                      </td></tr>\n",
       "</tbody>\n",
       "</table>\n",
       "</dd>\n",
       "</dl>\n"
      ],
      "text/latex": [
       "\\begin{description}\n",
       "\\item[\\$ANOVA] \\begin{tabular}{r|lllllll}\n",
       "  & Effect & DFn & DFd & F & p & p<.05 & ges\\\\\n",
       "\\hline\n",
       "\t2 & Keyboard               & 1                      & 22                     & 1.244151e+02           & 1.596641e-10           & *                      & 0.0794723123          \\\\\n",
       "\t3 & Posture\\_Order          & 2                        & 44                       & 5.166254e-02             & 9.497068e-01             &                          & 0.0023071128            \\\\\n",
       "\t4 & Keyboard:Posture\\_Order & 2                        & 44                       & 2.830819e-03             & 9.971734e-01             &                          & 0.0001266932            \\\\\n",
       "\\end{tabular}\n",
       "\n",
       "\\item[\\$`Mauchly's Test for Sphericity`] \\begin{tabular}{r|llll}\n",
       "  & Effect & W & p & p<.05\\\\\n",
       "\\hline\n",
       "\t3 & Posture\\_Order          & 0.9912922                & 0.9122583                &                         \\\\\n",
       "\t4 & Keyboard:Posture\\_Order & 0.9912922                & 0.9122583                &                         \\\\\n",
       "\\end{tabular}\n",
       "\n",
       "\\item[\\$`Sphericity Corrections`] \\begin{tabular}{r|lllllll}\n",
       "  & Effect & GGe & p{[}GG{]} & p{[}GG{]}<.05 & HFe & p{[}HF{]} & p{[}HF{]}<.05\\\\\n",
       "\\hline\n",
       "\t3 & Posture\\_Order          & 0.9913674                & 0.9486517                &                          & 1.089132                 & 0.9497068                &                         \\\\\n",
       "\t4 & Keyboard:Posture\\_Order & 0.9913674                & 0.9970418                &                          & 1.089132                 & 0.9971734                &                         \\\\\n",
       "\\end{tabular}\n",
       "\n",
       "\\end{description}\n"
      ],
      "text/markdown": [
       "$ANOVA\n",
       ":   \n",
       "| <!--/--> | Effect | DFn | DFd | F | p | p<.05 | ges | \n",
       "|---|---|---|\n",
       "| 2 | Keyboard               | 1                      | 22                     | 1.244151e+02           | 1.596641e-10           | *                      | 0.0794723123           | \n",
       "| 3 | Posture_Order          | 2                      | 44                     | 5.166254e-02           | 9.497068e-01           |                        | 0.0023071128           | \n",
       "| 4 | Keyboard:Posture_Order | 2                      | 44                     | 2.830819e-03           | 9.971734e-01           |                        | 0.0001266932           | \n",
       "\n",
       "\n",
       "\n",
       "$`Mauchly's Test for Sphericity`\n",
       ":   \n",
       "| <!--/--> | Effect | W | p | p<.05 | \n",
       "|---|---|\n",
       "| 3 | Posture_Order          | 0.9912922              | 0.9122583              |                        | \n",
       "| 4 | Keyboard:Posture_Order | 0.9912922              | 0.9122583              |                        | \n",
       "\n",
       "\n",
       "\n",
       "$`Sphericity Corrections`\n",
       ":   \n",
       "| <!--/--> | Effect | GGe | p[GG] | p[GG]<.05 | HFe | p[HF] | p[HF]<.05 | \n",
       "|---|---|\n",
       "| 3 | Posture_Order          | 0.9913674              | 0.9486517              |                        | 1.089132               | 0.9497068              |                        | \n",
       "| 4 | Keyboard:Posture_Order | 0.9913674              | 0.9970418              |                        | 1.089132               | 0.9971734              |                        | \n",
       "\n",
       "\n",
       "\n",
       "\n",
       "\n"
      ],
      "text/plain": [
       "$ANOVA\n",
       "                  Effect DFn DFd            F            p p<.05          ges\n",
       "2               Keyboard   1  22 1.244151e+02 1.596641e-10     * 0.0794723123\n",
       "3          Posture_Order   2  44 5.166254e-02 9.497068e-01       0.0023071128\n",
       "4 Keyboard:Posture_Order   2  44 2.830819e-03 9.971734e-01       0.0001266932\n",
       "\n",
       "$`Mauchly's Test for Sphericity`\n",
       "                  Effect         W         p p<.05\n",
       "3          Posture_Order 0.9912922 0.9122583      \n",
       "4 Keyboard:Posture_Order 0.9912922 0.9122583      \n",
       "\n",
       "$`Sphericity Corrections`\n",
       "                  Effect       GGe     p[GG] p[GG]<.05      HFe     p[HF]\n",
       "3          Posture_Order 0.9913674 0.9486517           1.089132 0.9497068\n",
       "4 Keyboard:Posture_Order 0.9913674 0.9970418           1.089132 0.9971734\n",
       "  p[HF]<.05\n",
       "3          \n",
       "4          \n"
      ]
     },
     "metadata": {},
     "output_type": "display_data"
    }
   ],
   "source": [
    "# test for posture order effect to ensure counterbalancing worked\n",
    "library(\"ez\")\n",
    "\n",
    "m <- ezANOVA(dv=WPM, between=Keyboard, \n",
    "                 within=Posture_Order, \n",
    "                 wid=Subject, data=mbltxt)\n",
    "m"
   ]
  },
  {
   "cell_type": "code",
   "execution_count": 24,
   "metadata": {},
   "outputs": [
    {
     "data": {
      "text/html": [
       "<table>\n",
       "<thead><tr><th></th><th scope=col>Effect</th><th scope=col>W</th><th scope=col>p</th><th scope=col>p&lt;.05</th></tr></thead>\n",
       "<tbody>\n",
       "\t<tr><th scope=row>3</th><td>Posture_Order         </td><td>0.9912922             </td><td>0.9122583             </td><td>                      </td></tr>\n",
       "\t<tr><th scope=row>4</th><td>Keyboard:Posture_Order</td><td>0.9912922             </td><td>0.9122583             </td><td>                      </td></tr>\n",
       "</tbody>\n",
       "</table>\n"
      ],
      "text/latex": [
       "\\begin{tabular}{r|llll}\n",
       "  & Effect & W & p & p<.05\\\\\n",
       "\\hline\n",
       "\t3 & Posture\\_Order          & 0.9912922                & 0.9122583                &                         \\\\\n",
       "\t4 & Keyboard:Posture\\_Order & 0.9912922                & 0.9122583                &                         \\\\\n",
       "\\end{tabular}\n"
      ],
      "text/markdown": [
       "\n",
       "| <!--/--> | Effect | W | p | p<.05 | \n",
       "|---|---|\n",
       "| 3 | Posture_Order          | 0.9912922              | 0.9122583              |                        | \n",
       "| 4 | Keyboard:Posture_Order | 0.9912922              | 0.9122583              |                        | \n",
       "\n",
       "\n"
      ],
      "text/plain": [
       "  Effect                 W         p         p<.05\n",
       "3 Posture_Order          0.9912922 0.9122583      \n",
       "4 Keyboard:Posture_Order 0.9912922 0.9122583      "
      ]
     },
     "metadata": {},
     "output_type": "display_data"
    }
   ],
   "source": [
    "m$Mauchly "
   ]
  },
  {
   "cell_type": "markdown",
   "metadata": {},
   "source": [
    "Looking at Mauchly's test of sphericity, we see that we are not statistically significant for our within subjects effect. And that means that we don't have a violation of sphericity so we can just use our regular ANOVA table."
   ]
  },
  {
   "cell_type": "code",
   "execution_count": 25,
   "metadata": {},
   "outputs": [
    {
     "data": {
      "text/html": [
       "<table>\n",
       "<thead><tr><th></th><th scope=col>Effect</th><th scope=col>DFn</th><th scope=col>DFd</th><th scope=col>F</th><th scope=col>p</th><th scope=col>p&lt;.05</th><th scope=col>ges</th></tr></thead>\n",
       "<tbody>\n",
       "\t<tr><th scope=row>2</th><td>Keyboard              </td><td>1                     </td><td>22                    </td><td>1.244151e+02          </td><td>1.596641e-10          </td><td>*                     </td><td>0.0794723123          </td></tr>\n",
       "\t<tr><th scope=row>3</th><td>Posture_Order         </td><td>2                     </td><td>44                    </td><td>5.166254e-02          </td><td>9.497068e-01          </td><td>                      </td><td>0.0023071128          </td></tr>\n",
       "\t<tr><th scope=row>4</th><td>Keyboard:Posture_Order</td><td>2                     </td><td>44                    </td><td>2.830819e-03          </td><td>9.971734e-01          </td><td>                      </td><td>0.0001266932          </td></tr>\n",
       "</tbody>\n",
       "</table>\n"
      ],
      "text/latex": [
       "\\begin{tabular}{r|lllllll}\n",
       "  & Effect & DFn & DFd & F & p & p<.05 & ges\\\\\n",
       "\\hline\n",
       "\t2 & Keyboard               & 1                      & 22                     & 1.244151e+02           & 1.596641e-10           & *                      & 0.0794723123          \\\\\n",
       "\t3 & Posture\\_Order          & 2                        & 44                       & 5.166254e-02             & 9.497068e-01             &                          & 0.0023071128            \\\\\n",
       "\t4 & Keyboard:Posture\\_Order & 2                        & 44                       & 2.830819e-03             & 9.971734e-01             &                          & 0.0001266932            \\\\\n",
       "\\end{tabular}\n"
      ],
      "text/markdown": [
       "\n",
       "| <!--/--> | Effect | DFn | DFd | F | p | p<.05 | ges | \n",
       "|---|---|---|\n",
       "| 2 | Keyboard               | 1                      | 22                     | 1.244151e+02           | 1.596641e-10           | *                      | 0.0794723123           | \n",
       "| 3 | Posture_Order          | 2                      | 44                     | 5.166254e-02           | 9.497068e-01           |                        | 0.0023071128           | \n",
       "| 4 | Keyboard:Posture_Order | 2                      | 44                     | 2.830819e-03           | 9.971734e-01           |                        | 0.0001266932           | \n",
       "\n",
       "\n"
      ],
      "text/plain": [
       "  Effect                 DFn DFd F            p            p<.05 ges         \n",
       "2 Keyboard               1   22  1.244151e+02 1.596641e-10 *     0.0794723123\n",
       "3 Posture_Order          2   44  5.166254e-02 9.497068e-01       0.0023071128\n",
       "4 Keyboard:Posture_Order 2   44  2.830819e-03 9.971734e-01       0.0001266932"
      ]
     },
     "metadata": {},
     "output_type": "display_data"
    }
   ],
   "source": [
    "m$ANOVA"
   ]
  },
  {
   "cell_type": "markdown",
   "metadata": {},
   "source": [
    "Examining that - we see that we have a main effect of keyboard. But the key part here is posture porder and its interaction with keyboard - we don't want them to be significant. And we can see that they're not. \n",
    "\n",
    "So that's good - that means our counter-balancing worked. And we can go forward with an analysis with confidence that we're not confounding the results by the presentation order of the difference postures. Because remember again that each subject did all of the 3 postures in the assigned orders we gave them. So let's do the ANOVA now on posture. We're basically doing the same thing but we've changed the within subjects factor to posture instead of posture-order. "
   ]
  },
  {
   "cell_type": "code",
   "execution_count": 12,
   "metadata": {
    "collapsed": true
   },
   "outputs": [],
   "source": [
    "# now perform the two-way mixed factorial repeated measures ANOVA\n",
    "m <- ezANOVA(dv=WPM, between=Keyboard, within=Posture, wid=Subject, data=mbltxt)"
   ]
  },
  {
   "cell_type": "code",
   "execution_count": 26,
   "metadata": {},
   "outputs": [
    {
     "data": {
      "text/html": [
       "<table>\n",
       "<thead><tr><th></th><th scope=col>Effect</th><th scope=col>W</th><th scope=col>p</th><th scope=col>p&lt;.05</th></tr></thead>\n",
       "<tbody>\n",
       "\t<tr><th scope=row>3</th><td>Posture_Order         </td><td>0.9912922             </td><td>0.9122583             </td><td>                      </td></tr>\n",
       "\t<tr><th scope=row>4</th><td>Keyboard:Posture_Order</td><td>0.9912922             </td><td>0.9122583             </td><td>                      </td></tr>\n",
       "</tbody>\n",
       "</table>\n"
      ],
      "text/latex": [
       "\\begin{tabular}{r|llll}\n",
       "  & Effect & W & p & p<.05\\\\\n",
       "\\hline\n",
       "\t3 & Posture\\_Order          & 0.9912922                & 0.9122583                &                         \\\\\n",
       "\t4 & Keyboard:Posture\\_Order & 0.9912922                & 0.9122583                &                         \\\\\n",
       "\\end{tabular}\n"
      ],
      "text/markdown": [
       "\n",
       "| <!--/--> | Effect | W | p | p<.05 | \n",
       "|---|---|\n",
       "| 3 | Posture_Order          | 0.9912922              | 0.9122583              |                        | \n",
       "| 4 | Keyboard:Posture_Order | 0.9912922              | 0.9122583              |                        | \n",
       "\n",
       "\n"
      ],
      "text/plain": [
       "  Effect                 W         p         p<.05\n",
       "3 Posture_Order          0.9912922 0.9122583      \n",
       "4 Keyboard:Posture_Order 0.9912922 0.9122583      "
      ]
     },
     "metadata": {},
     "output_type": "display_data"
    }
   ],
   "source": [
    "m$Mauchly"
   ]
  },
  {
   "cell_type": "markdown",
   "metadata": {},
   "source": [
    "Checking the Mauchly's p-value, we see that it is now significant so we have a violation of sphericity which means we'll use that degrees of freedom and significance results for within subjects factors provided by the greenhouse geisser correction. \n",
    "\n",
    "We'll first take a look at the ANOVA table because we do want to look at the keyboard between subjects factor here. And we can see that it is statistically significant. We can also tell by the graphs above that there is clearly a difference in keyboards. \n",
    "\n",
    "While in sitting mode, the iphone's keyboard is not as fast as the galaxy keyboard. For both standing and walking, it's a fair bit better..especially with walking. So we're not surprised to see there is a difference in keyboards. We'll go ahead and load up the results for within subjects factors in this sphericity output here. "
   ]
  },
  {
   "cell_type": "code",
   "execution_count": 27,
   "metadata": {},
   "outputs": [
    {
     "data": {
      "text/html": [
       "<table>\n",
       "<thead><tr><th></th><th scope=col>Effect</th><th scope=col>DFn</th><th scope=col>DFd</th><th scope=col>F</th><th scope=col>p</th><th scope=col>p&lt;.05</th><th scope=col>ges</th></tr></thead>\n",
       "<tbody>\n",
       "\t<tr><th scope=row>2</th><td>Keyboard              </td><td>1                     </td><td>22                    </td><td>1.244151e+02          </td><td>1.596641e-10          </td><td>*                     </td><td>0.0794723123          </td></tr>\n",
       "\t<tr><th scope=row>3</th><td>Posture_Order         </td><td>2                     </td><td>44                    </td><td>5.166254e-02          </td><td>9.497068e-01          </td><td>                      </td><td>0.0023071128          </td></tr>\n",
       "\t<tr><th scope=row>4</th><td>Keyboard:Posture_Order</td><td>2                     </td><td>44                    </td><td>2.830819e-03          </td><td>9.971734e-01          </td><td>                      </td><td>0.0001266932          </td></tr>\n",
       "</tbody>\n",
       "</table>\n"
      ],
      "text/latex": [
       "\\begin{tabular}{r|lllllll}\n",
       "  & Effect & DFn & DFd & F & p & p<.05 & ges\\\\\n",
       "\\hline\n",
       "\t2 & Keyboard               & 1                      & 22                     & 1.244151e+02           & 1.596641e-10           & *                      & 0.0794723123          \\\\\n",
       "\t3 & Posture\\_Order          & 2                        & 44                       & 5.166254e-02             & 9.497068e-01             &                          & 0.0023071128            \\\\\n",
       "\t4 & Keyboard:Posture\\_Order & 2                        & 44                       & 2.830819e-03             & 9.971734e-01             &                          & 0.0001266932            \\\\\n",
       "\\end{tabular}\n"
      ],
      "text/markdown": [
       "\n",
       "| <!--/--> | Effect | DFn | DFd | F | p | p<.05 | ges | \n",
       "|---|---|---|\n",
       "| 2 | Keyboard               | 1                      | 22                     | 1.244151e+02           | 1.596641e-10           | *                      | 0.0794723123           | \n",
       "| 3 | Posture_Order          | 2                      | 44                     | 5.166254e-02           | 9.497068e-01           |                        | 0.0023071128           | \n",
       "| 4 | Keyboard:Posture_Order | 2                      | 44                     | 2.830819e-03           | 9.971734e-01           |                        | 0.0001266932           | \n",
       "\n",
       "\n"
      ],
      "text/plain": [
       "  Effect                 DFn DFd F            p            p<.05 ges         \n",
       "2 Keyboard               1   22  1.244151e+02 1.596641e-10 *     0.0794723123\n",
       "3 Posture_Order          2   44  5.166254e-02 9.497068e-01       0.0023071128\n",
       "4 Keyboard:Posture_Order 2   44  2.830819e-03 9.971734e-01       0.0001266932"
      ]
     },
     "metadata": {},
     "output_type": "display_data"
    }
   ],
   "source": [
    "m$ANOVA"
   ]
  },
  {
   "cell_type": "code",
   "execution_count": 30,
   "metadata": {},
   "outputs": [
    {
     "data": {
      "text/html": [
       "<table>\n",
       "<thead><tr><th></th><th scope=col>Effect</th><th scope=col>GGe</th><th scope=col>p[GG]</th><th scope=col>p[GG]&lt;.05</th><th scope=col>HFe</th><th scope=col>p[HF]</th><th scope=col>p[HF]&lt;.05</th><th scope=col>GGe.DFn</th><th scope=col>GGe.DFd</th><th scope=col>HFe.DFn</th><th scope=col>HFe.DFd</th></tr></thead>\n",
       "<tbody>\n",
       "\t<tr><th scope=row>3</th><td>Posture_Order         </td><td>0.9913674             </td><td>0.9486517             </td><td>                      </td><td>1.089132              </td><td>0.9497068             </td><td>                      </td><td>1.982735              </td><td>43.62017              </td><td>2.178265              </td><td>47.92182              </td></tr>\n",
       "\t<tr><th scope=row>4</th><td>Keyboard:Posture_Order</td><td>0.9913674             </td><td>0.9970418             </td><td>                      </td><td>1.089132              </td><td>0.9971734             </td><td>                      </td><td>1.982735              </td><td>43.62017              </td><td>2.178265              </td><td>47.92182              </td></tr>\n",
       "</tbody>\n",
       "</table>\n"
      ],
      "text/latex": [
       "\\begin{tabular}{r|lllllllllll}\n",
       "  & Effect & GGe & p{[}GG{]} & p{[}GG{]}<.05 & HFe & p{[}HF{]} & p{[}HF{]}<.05 & GGe.DFn & GGe.DFd & HFe.DFn & HFe.DFd\\\\\n",
       "\\hline\n",
       "\t3 & Posture\\_Order          & 0.9913674                & 0.9486517                &                          & 1.089132                 & 0.9497068                &                          & 1.982735                 & 43.62017                 & 2.178265                 & 47.92182                \\\\\n",
       "\t4 & Keyboard:Posture\\_Order & 0.9913674                & 0.9970418                &                          & 1.089132                 & 0.9971734                &                          & 1.982735                 & 43.62017                 & 2.178265                 & 47.92182                \\\\\n",
       "\\end{tabular}\n"
      ],
      "text/markdown": [
       "\n",
       "| <!--/--> | Effect | GGe | p[GG] | p[GG]<.05 | HFe | p[HF] | p[HF]<.05 | GGe.DFn | GGe.DFd | HFe.DFn | HFe.DFd | \n",
       "|---|---|\n",
       "| 3 | Posture_Order          | 0.9913674              | 0.9486517              |                        | 1.089132               | 0.9497068              |                        | 1.982735               | 43.62017               | 2.178265               | 47.92182               | \n",
       "| 4 | Keyboard:Posture_Order | 0.9913674              | 0.9970418              |                        | 1.089132               | 0.9971734              |                        | 1.982735               | 43.62017               | 2.178265               | 47.92182               | \n",
       "\n",
       "\n"
      ],
      "text/plain": [
       "  Effect                 GGe       p[GG]     p[GG]<.05 HFe      p[HF]    \n",
       "3 Posture_Order          0.9913674 0.9486517           1.089132 0.9497068\n",
       "4 Keyboard:Posture_Order 0.9913674 0.9970418           1.089132 0.9971734\n",
       "  p[HF]<.05 GGe.DFn  GGe.DFd  HFe.DFn  HFe.DFd \n",
       "3           1.982735 43.62017 2.178265 47.92182\n",
       "4           1.982735 43.62017 2.178265 47.92182"
      ]
     },
     "metadata": {},
     "output_type": "display_data"
    }
   ],
   "source": [
    "# note: \"ges\" in m$ANOVA is the generalized eta-squared measure\n",
    "# of effect size, preferred to eta-squared or partial eta-squared. \n",
    "# see Bakeman (2005) in the References at ?ezANOVA.\n",
    "# Now compute the corrected DFs for each corrected effect\n",
    "\n",
    "pos <- match(m$`Sphericity Corrections`$Effect, m$ANOVA$Effect) # positions of within-Ss efx in m$ANOVA\n",
    "\n",
    "m$Sphericity$GGe.DFn <- m$Sphericity$GGe * m$ANOVA$DFn[pos] # Greenhouse-Geisser\n",
    "m$Sphericity$GGe.DFd <- m$Sphericity$GGe * m$ANOVA$DFd[pos]\n",
    "m$Sphericity$HFe.DFn <- m$Sphericity$HFe * m$ANOVA$DFn[pos] # Huynh-Feldt\n",
    "m$Sphericity$HFe.DFd <- m$Sphericity$HFe * m$ANOVA$DFd[pos]\n",
    "\n",
    "m$Sphericity # show results"
   ]
  },
  {
   "cell_type": "markdown",
   "metadata": {},
   "source": [
    "So here, we're getting our effect significance from the corrected result so we have posture and keyboard by posture interaction here. We see that our p-values are in fact statistically significant under the greenhouse geisser correction. Now we get our stars in that column. We'll ignore the HF (HuntFeldt) correction here. It's just an alternative correction. \n",
    "\n",
    "The bottom line is we have 3 significant results. We have the main effect of keyboard, the main effector of posture, and we have an interaction effect that's significant. And we can see that in the crossing of the lines in the interaction plot above. So all 3 are significant. That makes for an intersting set of findings. \n",
    "\n",
    "For completeness, here's an analysis with the AOV fit but that won't give us the Mauchly's test of sphericity. "
   ]
  },
  {
   "cell_type": "code",
   "execution_count": 31,
   "metadata": {},
   "outputs": [
    {
     "data": {
      "text/plain": [
       "\n",
       "Error: Subject\n",
       "          Df Sum Sq Mean Sq F value  Pr(>F)    \n",
       "Keyboard   1  96.35   96.35   124.4 1.6e-10 ***\n",
       "Residuals 22  17.04    0.77                    \n",
       "---\n",
       "Signif. codes:  0 '***' 0.001 '**' 0.01 '*' 0.05 '.' 0.1 ' ' 1\n",
       "\n",
       "Error: Subject:Posture\n",
       "                 Df Sum Sq Mean Sq F value Pr(>F)    \n",
       "Posture           2  749.6   374.8   381.5 <2e-16 ***\n",
       "Keyboard:Posture  2  308.8   154.4   157.2 <2e-16 ***\n",
       "Residuals        44   43.2     1.0                   \n",
       "---\n",
       "Signif. codes:  0 '***' 0.001 '**' 0.01 '*' 0.05 '.' 0.1 ' ' 1"
      ]
     },
     "metadata": {},
     "output_type": "display_data"
    }
   ],
   "source": [
    "# for completeness, note the above's uncorrected results are the same as from this\n",
    "m <- aov(WPM ~ Keyboard * Posture + Error(Subject/Posture), data=mbltxt)\n",
    "summary(m)"
   ]
  },
  {
   "cell_type": "markdown",
   "metadata": {},
   "source": [
    "So now, we can do comparisons in light of the significant interaction. The overall/omnibus F-test was significant but let's look between levels. \n",
    "\n",
    "For example - how do the 2 keyboards compare when sitting? How do the 2 keyboards compare just when standing and just when walking? Now, those are some of the things interactions can answer for us. So we have to make a wide format table. "
   ]
  },
  {
   "cell_type": "code",
   "execution_count": 17,
   "metadata": {},
   "outputs": [
    {
     "data": {
      "text/html": [
       "<table>\n",
       "<thead><tr><th scope=col>Subject</th><th scope=col>Keyboard</th><th scope=col>Sit</th><th scope=col>Stand</th><th scope=col>Walk</th></tr></thead>\n",
       "<tbody>\n",
       "\t<tr><td>1      </td><td>iPhone </td><td>20.2145</td><td>23.7485</td><td>20.7960</td></tr>\n",
       "\t<tr><td>2      </td><td>iPhone </td><td>20.8805</td><td>23.2595</td><td>19.1305</td></tr>\n",
       "\t<tr><td>3      </td><td>iPhone </td><td>21.2635</td><td>23.4945</td><td>20.8545</td></tr>\n",
       "\t<tr><td>4      </td><td>iPhone </td><td>20.7080</td><td>23.9220</td><td>18.2575</td></tr>\n",
       "\t<tr><td>5      </td><td>iPhone </td><td>21.0075</td><td>23.4700</td><td>17.7105</td></tr>\n",
       "\t<tr><td>6      </td><td>iPhone </td><td>19.9115</td><td>24.2975</td><td>19.8550</td></tr>\n",
       "</tbody>\n",
       "</table>\n"
      ],
      "text/latex": [
       "\\begin{tabular}{r|lllll}\n",
       " Subject & Keyboard & Sit & Stand & Walk\\\\\n",
       "\\hline\n",
       "\t 1       & iPhone  & 20.2145 & 23.7485 & 20.7960\\\\\n",
       "\t 2       & iPhone  & 20.8805 & 23.2595 & 19.1305\\\\\n",
       "\t 3       & iPhone  & 21.2635 & 23.4945 & 20.8545\\\\\n",
       "\t 4       & iPhone  & 20.7080 & 23.9220 & 18.2575\\\\\n",
       "\t 5       & iPhone  & 21.0075 & 23.4700 & 17.7105\\\\\n",
       "\t 6       & iPhone  & 19.9115 & 24.2975 & 19.8550\\\\\n",
       "\\end{tabular}\n"
      ],
      "text/markdown": [
       "\n",
       "Subject | Keyboard | Sit | Stand | Walk | \n",
       "|---|---|---|---|---|---|\n",
       "| 1       | iPhone  | 20.2145 | 23.7485 | 20.7960 | \n",
       "| 2       | iPhone  | 20.8805 | 23.2595 | 19.1305 | \n",
       "| 3       | iPhone  | 21.2635 | 23.4945 | 20.8545 | \n",
       "| 4       | iPhone  | 20.7080 | 23.9220 | 18.2575 | \n",
       "| 5       | iPhone  | 21.0075 | 23.4700 | 17.7105 | \n",
       "| 6       | iPhone  | 19.9115 | 24.2975 | 19.8550 | \n",
       "\n",
       "\n"
      ],
      "text/plain": [
       "  Subject Keyboard Sit     Stand   Walk   \n",
       "1 1       iPhone   20.2145 23.7485 20.7960\n",
       "2 2       iPhone   20.8805 23.2595 19.1305\n",
       "3 3       iPhone   21.2635 23.4945 20.8545\n",
       "4 4       iPhone   20.7080 23.9220 18.2575\n",
       "5 5       iPhone   21.0075 23.4700 17.7105\n",
       "6 6       iPhone   19.9115 24.2975 19.8550"
      ]
     },
     "metadata": {},
     "output_type": "display_data"
    }
   ],
   "source": [
    "# manual post hoc pairwise comparisons in light of sig. interaction\n",
    "library(\"reshape2\")\n",
    "\n",
    "mbltxt.wide <- dcast(mbltxt, Subject + Keyboard ~ Posture, value.var=\"WPM\") # go wide\n",
    "head(mbltxt.wide)"
   ]
  },
  {
   "cell_type": "code",
   "execution_count": 32,
   "metadata": {},
   "outputs": [
    {
     "data": {
      "text/html": [
       "<ol class=list-inline>\n",
       "\t<li>3.84249009666701e-10</li>\n",
       "\t<li>4.62238419753284e-08</li>\n",
       "\t<li>1.45021408223689e-11</li>\n",
       "</ol>\n"
      ],
      "text/latex": [
       "\\begin{enumerate*}\n",
       "\\item 3.84249009666701e-10\n",
       "\\item 4.62238419753284e-08\n",
       "\\item 1.45021408223689e-11\n",
       "\\end{enumerate*}\n"
      ],
      "text/markdown": [
       "1. 3.84249009666701e-10\n",
       "2. 4.62238419753284e-08\n",
       "3. 1.45021408223689e-11\n",
       "\n",
       "\n"
      ],
      "text/plain": [
       "[1] 3.842490e-10 4.622384e-08 1.450214e-11"
      ]
     },
     "metadata": {},
     "output_type": "display_data"
    }
   ],
   "source": [
    "sit <- t.test(mbltxt.wide$Sit ~ Keyboard, data=mbltxt.wide) # iPhone vs. Galaxy WPM sitting\n",
    "\n",
    "std <- t.test(mbltxt.wide$Stand ~ Keyboard, data=mbltxt.wide) # iPhone vs. Galaxy WPM standing\n",
    "\n",
    "wlk <- t.test(mbltxt.wide$Walk ~ Keyboard, data=mbltxt.wide) # iPhone vs. Galaxy WPM walking\n",
    "\n",
    "p.adjust(c(sit$p.value, std$p.value, wlk$p.value), method=\"holm\")"
   ]
  },
  {
   "cell_type": "markdown",
   "metadata": {},
   "source": [
    "We ran the test and using the Holms Bonferonni correction, we see that all 3 are statistically significant at the 0.05 level. So all of these differences are big enough in light of their variance that we can say whichever ones on top is really actually faster. \n",
    "\n",
    "We might also be curious to say...what about within the iphone? How might we compare the iphone in terms of sitting to walking?  "
   ]
  },
  {
   "cell_type": "code",
   "execution_count": 33,
   "metadata": {},
   "outputs": [
    {
     "data": {
      "text/plain": [
       "\n",
       "\tPaired t-test\n",
       "\n",
       "data:  mbltxt.wide[mbltxt.wide$Keyboard == \"iPhone\", ]$Sit and mbltxt.wide[mbltxt.wide$Keyboard == \"iPhone\", ]$Walk\n",
       "t = 3.6259, df = 11, p-value = 0.003985\n",
       "alternative hypothesis: true difference in means is not equal to 0\n",
       "95 percent confidence interval:\n",
       " 0.6772808 2.7695525\n",
       "sample estimates:\n",
       "mean of the differences \n",
       "               1.723417 \n"
      ]
     },
     "metadata": {},
     "output_type": "display_data"
    }
   ],
   "source": [
    "# just curious: also compare iPhone 'sit' and 'walk'\n",
    "t.test(mbltxt.wide[mbltxt.wide$Keyboard == \"iPhone\",]$Sit, \n",
    "           mbltxt.wide[mbltxt.wide$Keyboard == \"iPhone\",]$Walk, \n",
    "           paired=TRUE)"
   ]
  },
  {
   "cell_type": "markdown",
   "metadata": {},
   "source": [
    "We ran that and we can see that there is a significant difference. In looking at the boxplot for just those levels, we can see that in fact the sitting is in fact faster in light of the variance than the walking condition. So that's a way we've explroed our interaction effects and our main effects between these keyboards for these difference postures."
   ]
  },
  {
   "cell_type": "code",
   "execution_count": 20,
   "metadata": {},
   "outputs": [
    {
     "data": {
      "image/png": "[encoded data removed]",
      "text/plain": [
       "plot without title"
      ]
     },
     "metadata": {},
     "output_type": "display_data"
    }
   ],
   "source": [
    "boxplot(mbltxt.wide[mbltxt.wide$Keyboard == \"iPhone\",]$Sit, \n",
    "            mbltxt.wide[mbltxt.wide$Keyboard == \"iPhone\",]$Walk,\n",
    "            xlab=\"iPhone.Sit vs. iPhone.Walk\", ylab=\"WPM\") # custom boxplot"
   ]
  },
  {
   "cell_type": "markdown",
   "metadata": {
    "collapsed": true
   },
   "source": [
    "Next, we'll go into looking at a non-parametric approach for this. "
   ]
  },
  {
   "cell_type": "code",
   "execution_count": null,
   "metadata": {
    "collapsed": true
   },
   "outputs": [],
   "source": []
  }
 ],
 "metadata": {
  "kernelspec": {
   "display_name": "R",
   "language": "R",
   "name": "ir"
  },
  "language_info": {
   "codemirror_mode": "r",
   "file_extension": ".r",
   "mimetype": "text/x-r-source",
   "name": "R",
   "pygments_lexer": "r",
   "version": "3.4.1"
  }
 },
 "nbformat": 4,
 "nbformat_minor": 2
}
