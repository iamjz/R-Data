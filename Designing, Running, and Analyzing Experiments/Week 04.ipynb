{
 "cells": [
  {
   "cell_type": "markdown",
   "metadata": {},
   "source": [
    "# Introduction"
   ]
  },
  {
   "cell_type": "markdown",
   "metadata": {},
   "source": [
    "We just finished looking at an independent samples T-test in an AB testing situation with 2 website variations. We wanted to know whether there was a diffence in the number of distinct page views people had on each website. Now things will get a little bit more interesting. Let's consider the scenario of task completion times, a commonly used measure in interaction design in HCI studies. \n",
    "\n",
    "# Designing for experimental control\n",
    "\n",
    "Let's consider the case of authoring tools. Authoring tools might be sketching tools, other design tools, and programming languages, and the time it takes to write a series of small programs by intro to programming students using different languages and environments. \n",
    "\n",
    "Let's be specific. Let's say we have 40 into to programming students split into 2 classes of 20 each. And let's say that one class uses the C# programming language in Visual Studio. Let's say the other class uses the Eclipse environment and the Java programming language. And they writes a series of programs and we want to know how long does it take them to complete these programs. Then later, we can add a third group. We'll add a group of 20 students from a class using Python in the PyCharm environment. \n",
    "\n",
    "So what are the considerations for an experiment like this? A big consideration that will come up in a lot of experiments is that of experimental control. We want to be able to control the situation so that we know the things we manipulate are responsible for the changes in the measures that we make and not due to some other factors. For example, we have an educational setting of students in classrooms. Things that may be outside our control are...do the students have different teachers? Maybe some are more effective at teaching programming than others. That might be a factor changing their task performance time rather than just the programming environment and language that they use. \n",
    "\n",
    "Can the students get outside help? What if some students get more help than others? What if one of the teachers encourages the students to get help but another doesn't? These and many other things could influence the results of the task completion time that we're interested in and become what are called confounds to the results that we observe. Confounds threaten our ability to draw inferences about the effects that we're manipulating because they introduce uncontrolled variation in the experiment. Other issues that we'd have to consider...what about prior knowledge? What about students who might already know how to program vesus those who don't? More control would come from having all students be on equal footing when they start. \n",
    "\n",
    "These might be inclusion or exclusion criteria like we talked about previously. How are we measuring results? One way to capture data in HCI and interaction design students when we're using computational artifacts is to do automatic logging. Mabe we can write log files or timestamps that tell us something about how long the students are taking to write their programs. \n",
    "\n",
    "There's a lot of excitement these days about the in-the-wild studies. All of these are very excitign new directions in research studies but we need to realize that they do trade off against experimental control. Realism (or what some people call ecological validity) comes as trade-off against controll (the ability to link cause and effect in an experiment). Without control, it's fundamentally hard to know if the changes in the responses we see are really due to the changes in the factors that we manipulate. \n",
    "\n",
    "So what are your options for exerting control? How can you take steps to make sure that confounds don't threaten your study and you have some known control that you can use to your advantage? \n",
    "\n",
    "Well, there's kind of a series of things that you might try to control. The first is, if something in a study threatens to change the results you see, manipulate it. Manipulating it means treating it as a factor, systematically changing it, making it a variable. So for example, in our scenario, we might want to manipulate the experience of the teacher. \n",
    "\n",
    "Maybe we can recruit teachers of our own. Perhaps this is at some kind of school that we run or a camp that we run. And so we actually manipulate the backgrounds of the teachers so we have experienced teachers, inexperienced teachers, and maybe average experience teachers, and we can see how experience affects these outcomes. If we can't manipulate something, then the next step might be to control for it. \n",
    "\n",
    "If we can control for it, that means maybe we can't manipulate it. So we can't have low experience, medium experience, and high experience teachers. But maybe we can say well...let's make sure all the students get the same experience teacher (whether they're low, medium, or high). That's called controlling...in that case for teacher experience. \n",
    "\n",
    "Maybe we can't do that either. Maybe we don't have available to us the ability to do that in this particular case. If we can't control for it, then let's at least record or measure it. So we can't manipulate or control but we can then at least record what is the experience of our teachers in this study. And later, we can do an analysis to see, given what we had in the way of their experience, did it seem to make a difference? \n",
    "\n",
    "If we can't even record or measure it then that becomes an interesting case because we probably aren't even fully aware that it exists. This would be a completely hidden effect (hidden to us). And there's not much you can do in that case because, by definition, it's hidden. You're not sure that it's really there or what effect it might have. The large of bulk of science spends its time searching for hidden effects, things that cause other things in interesting ways that we're not always fully aware of. That's a lot of what we do in science in the first place...it's searching for hidden effects. \n",
    "\n",
    "So these are optinos for exerting experimental control and handling things that could be confounds and threaten an experiement. What are some other considerations for actually running an experiment like this? Authoring tasks and authoring tools like writing programs can take lengthy amounts of time. You could be measuring things in many minutes or hours or even days. We'd have to give breaks to people. We'd have to control the lengths of those breaks and how they're spent by the subjects. Again, trying to prevent confounds from entering the experiement. We'd probably have to keep people on task in a lab setting for something like this, as opposed to having them out in the wild where all those other influencers could come into play. When we're running the experiment, do we set a time limit? What if some students are able to accomplish the program in a reasonable amount of time? If that happens, what do we do in the data table to indicate that they didn't finish? If we given them just a very high number, wouldn't that seem like possbily just a long number of minutes that it took them to complete? How do we show that they actually didn't finish? Maybe we have to drop them from our data completely. All of these are context-specific issues that you'd want to take into account when running a study like this. And of course, if we have too many dropouts, that can be an issue because we lose data or we have incomplete data. A good thing to remember is experiments aren't just about recording numbers. Observe things qualitatively and make your own conclusions about the kinds of behavior that you see. Qualitative observations are very powerful results from experiments as well as quantitative data. So what's the formal design and analysis for this study?\n",
    "\n",
    "As I said - let's say we have 40 students. We have 20 students each in 2 classes and we'll add a 3rd class of 20 others later. What's our response? \n",
    "\n",
    "The response is the term for what we're measuring. The response is time (in minutes). This would be a numeric value (a numeric variable sometimes called a continuous variable or a scalar variable). \n",
    "\n",
    "What are our factors? We have just one. We have what we might call the IDE (integrated development environment) and the programming langauge that goes with it. \n",
    "\n",
    "How many levels do we have of this factor? So far, we have 2 (Visual Studio - C# and Eclipse - Java). \n",
    "\n",
    "Lastly - is this factor a between or within subjects factor? We know that it's between, which means each student only experiences one level of the factor. Each student only uses either Visual Studio (C#) or Eclipse (Java).\n",
    "\n",
    "- 40 Students (20 each in 2 classes)\n",
    "- Response = Time\n",
    "- Factors = IDE with 2 levels (VS/C# and Eclipse/Java)\n",
    "- Between or within subjects = Between Subjects. Each student only takes one class or the other. \n",
    "\n"
   ]
  },
  {
   "cell_type": "code",
   "execution_count": 5,
   "metadata": {},
   "outputs": [],
   "source": [
    "library(\"plyr\")\n",
    "library(\"dplyr\")"
   ]
  },
  {
   "cell_type": "code",
   "execution_count": 2,
   "metadata": {},
   "outputs": [
    {
     "data": {
      "text/html": [
       "<table>\n",
       "<thead><tr><th scope=col>Subject</th><th scope=col>IDE</th><th scope=col>Time</th></tr></thead>\n",
       "<tbody>\n",
       "\t<tr><td>1      </td><td>VStudio</td><td>341    </td></tr>\n",
       "\t<tr><td>2      </td><td>VStudio</td><td>291    </td></tr>\n",
       "\t<tr><td>3      </td><td>VStudio</td><td>283    </td></tr>\n",
       "\t<tr><td>4      </td><td>VStudio</td><td>155    </td></tr>\n",
       "\t<tr><td>5      </td><td>VStudio</td><td>271    </td></tr>\n",
       "\t<tr><td>6      </td><td>VStudio</td><td>270    </td></tr>\n",
       "</tbody>\n",
       "</table>\n"
      ],
      "text/latex": [
       "\\begin{tabular}{r|lll}\n",
       " Subject & IDE & Time\\\\\n",
       "\\hline\n",
       "\t 1       & VStudio & 341    \\\\\n",
       "\t 2       & VStudio & 291    \\\\\n",
       "\t 3       & VStudio & 283    \\\\\n",
       "\t 4       & VStudio & 155    \\\\\n",
       "\t 5       & VStudio & 271    \\\\\n",
       "\t 6       & VStudio & 270    \\\\\n",
       "\\end{tabular}\n"
      ],
      "text/markdown": [
       "\n",
       "Subject | IDE | Time | \n",
       "|---|---|---|---|---|---|\n",
       "| 1       | VStudio | 341     | \n",
       "| 2       | VStudio | 291     | \n",
       "| 3       | VStudio | 283     | \n",
       "| 4       | VStudio | 155     | \n",
       "| 5       | VStudio | 271     | \n",
       "| 6       | VStudio | 270     | \n",
       "\n",
       "\n"
      ],
      "text/plain": [
       "  Subject IDE     Time\n",
       "1 1       VStudio 341 \n",
       "2 2       VStudio 291 \n",
       "3 3       VStudio 283 \n",
       "4 4       VStudio 155 \n",
       "5 5       VStudio 271 \n",
       "6 6       VStudio 270 "
      ]
     },
     "metadata": {},
     "output_type": "display_data"
    }
   ],
   "source": [
    "ide2 <- read.csv(\"materials/ide2.csv\")\n",
    "head(ide2)"
   ]
  },
  {
   "cell_type": "code",
   "execution_count": 3,
   "metadata": {},
   "outputs": [
    {
     "data": {
      "text/plain": [
       "    Subject        IDE          Time      \n",
       " 1      : 1   Eclipse:20   Min.   :155.0  \n",
       " 2      : 1   VStudio:20   1st Qu.:271.8  \n",
       " 3      : 1                Median :313.5  \n",
       " 4      : 1                Mean   :385.1  \n",
       " 5      : 1                3rd Qu.:422.0  \n",
       " 6      : 1                Max.   :952.0  \n",
       " (Other):34                               "
      ]
     },
     "metadata": {},
     "output_type": "display_data"
    }
   ],
   "source": [
    "ide2$Subject <- factor(ide2$Subject)\n",
    "summary(ide2)"
   ]
  },
  {
   "cell_type": "code",
   "execution_count": 6,
   "metadata": {},
   "outputs": [
    {
     "data": {
      "text/html": [
       "<table>\n",
       "<thead><tr><th scope=col>IDE</th><th scope=col>Min.</th><th scope=col>1st Qu.</th><th scope=col>Median</th><th scope=col>Mean</th><th scope=col>3rd Qu.</th><th scope=col>Max.</th></tr></thead>\n",
       "<tbody>\n",
       "\t<tr><td>Eclipse</td><td>232    </td><td>294.75 </td><td>393.5  </td><td>468.15 </td><td>585.50 </td><td>952    </td></tr>\n",
       "\t<tr><td>VStudio</td><td>155    </td><td>246.50 </td><td>287.0  </td><td>302.10 </td><td>335.25 </td><td>632    </td></tr>\n",
       "</tbody>\n",
       "</table>\n"
      ],
      "text/latex": [
       "\\begin{tabular}{r|lllllll}\n",
       " IDE & Min. & 1st Qu. & Median & Mean & 3rd Qu. & Max.\\\\\n",
       "\\hline\n",
       "\t Eclipse & 232     & 294.75  & 393.5   & 468.15  & 585.50  & 952    \\\\\n",
       "\t VStudio & 155     & 246.50  & 287.0   & 302.10  & 335.25  & 632    \\\\\n",
       "\\end{tabular}\n"
      ],
      "text/markdown": [
       "\n",
       "IDE | Min. | 1st Qu. | Median | Mean | 3rd Qu. | Max. | \n",
       "|---|---|\n",
       "| Eclipse | 232     | 294.75  | 393.5   | 468.15  | 585.50  | 952     | \n",
       "| VStudio | 155     | 246.50  | 287.0   | 302.10  | 335.25  | 632     | \n",
       "\n",
       "\n"
      ],
      "text/plain": [
       "  IDE     Min. 1st Qu. Median Mean   3rd Qu. Max.\n",
       "1 Eclipse 232  294.75  393.5  468.15 585.50  952 \n",
       "2 VStudio 155  246.50  287.0  302.10 335.25  632 "
      ]
     },
     "metadata": {},
     "output_type": "display_data"
    }
   ],
   "source": [
    "ddply(ide2, ~ IDE, function(data){\n",
    "    summary(data$Time)\n",
    "})"
   ]
  },
  {
   "cell_type": "code",
   "execution_count": 7,
   "metadata": {},
   "outputs": [
    {
     "data": {
      "text/html": [
       "<table>\n",
       "<thead><tr><th scope=col>IDE</th><th scope=col>Time.mean</th><th scope=col>Time.sd</th></tr></thead>\n",
       "<tbody>\n",
       "\t<tr><td>Eclipse </td><td>468.15  </td><td>218.1241</td></tr>\n",
       "\t<tr><td>VStudio </td><td>302.10  </td><td>101.0778</td></tr>\n",
       "</tbody>\n",
       "</table>\n"
      ],
      "text/latex": [
       "\\begin{tabular}{r|lll}\n",
       " IDE & Time.mean & Time.sd\\\\\n",
       "\\hline\n",
       "\t Eclipse  & 468.15   & 218.1241\\\\\n",
       "\t VStudio  & 302.10   & 101.0778\\\\\n",
       "\\end{tabular}\n"
      ],
      "text/markdown": [
       "\n",
       "IDE | Time.mean | Time.sd | \n",
       "|---|---|\n",
       "| Eclipse  | 468.15   | 218.1241 | \n",
       "| VStudio  | 302.10   | 101.0778 | \n",
       "\n",
       "\n"
      ],
      "text/plain": [
       "  IDE     Time.mean Time.sd \n",
       "1 Eclipse 468.15    218.1241\n",
       "2 VStudio 302.10    101.0778"
      ]
     },
     "metadata": {},
     "output_type": "display_data"
    }
   ],
   "source": [
    "ddply(ide2, ~ IDE, summarise, \n",
    "          Time.mean = mean(Time),\n",
    "          Time.sd = sd(Time))"
   ]
  },
  {
   "cell_type": "code",
   "execution_count": 8,
   "metadata": {
    "collapsed": true
   },
   "outputs": [],
   "source": [
    "VS <- ide2[ide2$IDE == \"VStudio\",]\n",
    "Eclipse <- ide2[ide2$IDE == \"Eclipse\",]"
   ]
  },
  {
   "cell_type": "code",
   "execution_count": 10,
   "metadata": {},
   "outputs": [
    {
     "data": {
      "image/png": "[encoded data removed]",
      "text/plain": [
       "Plot with title \"Histogram of VS$Time\""
      ]
     },
     "metadata": {},
     "output_type": "display_data"
    }
   ],
   "source": [
    "hist(VS$Time)"
   ]
  },
  {
   "cell_type": "code",
   "execution_count": 11,
   "metadata": {},
   "outputs": [
    {
     "data": {
      "image/png": "[encoded data removed]",
      "text/plain": [
       "Plot with title \"Histogram of Eclipse$Time\""
      ]
     },
     "metadata": {},
     "output_type": "display_data"
    }
   ],
   "source": [
    "hist(Eclipse$Time)"
   ]
  },
  {
   "cell_type": "code",
   "execution_count": 13,
   "metadata": {},
   "outputs": [
    {
     "data": {
      "image/png": "[encoded data removed]",
      "text/plain": [
       "plot without title"
      ]
     },
     "metadata": {},
     "output_type": "display_data"
    }
   ],
   "source": [
    "plot(Time ~ IDE, data=ide2)"
   ]
  },
  {
   "cell_type": "code",
   "execution_count": 17,
   "metadata": {},
   "outputs": [
    {
     "data": {
      "text/plain": [
       "\n",
       "\tTwo Sample t-test\n",
       "\n",
       "data:  Time by IDE\n",
       "t = 3.0889, df = 38, p-value = 0.003745\n",
       "alternative hypothesis: true difference in means is not equal to 0\n",
       "95 percent confidence interval:\n",
       "  57.226 274.874\n",
       "sample estimates:\n",
       "mean in group Eclipse mean in group VStudio \n",
       "               468.15                302.10 \n"
      ]
     },
     "metadata": {},
     "output_type": "display_data"
    }
   ],
   "source": [
    "# independent-samples t-test (suitable? maybe not, because...)\n",
    "t.test(Time ~ IDE, data=ide2, var.equal=TRUE)"
   ]
  },
  {
   "cell_type": "markdown",
   "metadata": {},
   "source": [
    "We ran a T-Test on Time as the measure as it relates to the changes in the IDE. This is called the independent samples T-Test or 2 sample T-Test. WE can see the T statistic (3.0889). The degrees of freedom here are 38 and the p-value is less than 0.05. So we would seem to have significant difference as the boxplot here would suggest that we would. \n",
    "\n",
    "BUT IS THIS A SUITABLE ANALYSIS? MAYBE NOT!\n",
    "\n",
    "We're going to talk about an important set of assumptions that underline analysis of variance (like T-Test) and these are called the ANOVA assumptions. "
   ]
  },
  {
   "cell_type": "markdown",
   "metadata": {},
   "source": [
    "# Data assumptions and distributions"
   ]
  },
  {
   "cell_type": "code",
   "execution_count": null,
   "metadata": {
    "collapsed": true
   },
   "outputs": [],
   "source": []
  },
  {
   "cell_type": "code",
   "execution_count": null,
   "metadata": {
    "collapsed": true
   },
   "outputs": [],
   "source": []
  },
  {
   "cell_type": "code",
   "execution_count": null,
   "metadata": {
    "collapsed": true
   },
   "outputs": [],
   "source": []
  },
  {
   "cell_type": "code",
   "execution_count": 15,
   "metadata": {},
   "outputs": [
    {
     "data": {
      "text/plain": [
       "\n",
       "\tShapiro-Wilk normality test\n",
       "\n",
       "data:  ide2[ide2$IDE == \"VStudio\", ]$Time\n",
       "W = 0.84372, p-value = 0.004191\n"
      ]
     },
     "metadata": {},
     "output_type": "display_data"
    },
    {
     "data": {
      "text/plain": [
       "\n",
       "\tShapiro-Wilk normality test\n",
       "\n",
       "data:  ide2[ide2$IDE == \"Eclipse\", ]$Time\n",
       "W = 0.87213, p-value = 0.01281\n"
      ]
     },
     "metadata": {},
     "output_type": "display_data"
    }
   ],
   "source": [
    "## Testing ANOVA assumptions\n",
    "\n",
    "# Shapiro-Wilk normality test on response\n",
    "shapiro.test(ide2[ide2$IDE == \"VStudio\",]$Time)\n",
    "shapiro.test(ide2[ide2$IDE == \"Eclipse\",]$Time)"
   ]
  },
  {
   "cell_type": "code",
   "execution_count": 16,
   "metadata": {},
   "outputs": [
    {
     "data": {
      "text/plain": [
       "\n",
       "\tShapiro-Wilk normality test\n",
       "\n",
       "data:  residuals(m)\n",
       "W = 0.894, p-value = 0.001285\n"
      ]
     },
     "metadata": {},
     "output_type": "display_data"
    },
    {
     "data": {
      "image/png": "[encoded data removed]",
      "text/plain": [
       "Plot with title \"Normal Q-Q Plot\""
      ]
     },
     "metadata": {},
     "output_type": "display_data"
    }
   ],
   "source": [
    "# but really what matters most is the residuals\n",
    "m <- aov(Time ~ IDE, data=ide2) # fit model\n",
    "shapiro.test(residuals(m)) # test residuals\n",
    "qqnorm(residuals(m)); qqline(residuals(m)) # plot residuals"
   ]
  },
  {
   "cell_type": "code",
   "execution_count": null,
   "metadata": {
    "collapsed": true
   },
   "outputs": [],
   "source": []
  }
 ],
 "metadata": {
  "kernelspec": {
   "display_name": "R",
   "language": "R",
   "name": "ir"
  },
  "language_info": {
   "codemirror_mode": "r",
   "file_extension": ".r",
   "mimetype": "text/x-r-source",
   "name": "R",
   "pygments_lexer": "r",
   "version": "3.4.1"
  }
 },
 "nbformat": 4,
 "nbformat_minor": 2
}
