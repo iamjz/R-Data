{
 "cells": [
  {
   "cell_type": "markdown",
   "metadata": {},
   "source": [
    "# Introduction\n",
    "\n",
    "So far, we've considered analysis of vairance and nonparametric tests for between subject factors only, where each subject only gets one level (or one treatment) of all the possible level of a factor. \n",
    "\n",
    "Now let's consider within-subjects factors and here's the scenario we'll work for from..."
   ]
  },
  {
   "cell_type": "markdown",
   "metadata": {
    "collapsed": true
   },
   "source": [
    "Let's say 20 subjects interact with a smartphone contacts manager to find a set of contacts that they're assigned to look up and they do this initially in 2 ways. These 20 subjects each use 2 techniques. One is searching, typing text, and looking through the context manager that way/ And the other technique they use is scrolling. Just scrolling a list and visually looking for contacts in the list. \n",
    "\n",
    "Later, we'll add a third techi"
   ]
  }
 ],
 "metadata": {
  "kernelspec": {
   "display_name": "R",
   "language": "R",
   "name": "ir"
  },
  "language_info": {
   "codemirror_mode": "r",
   "file_extension": ".r",
   "mimetype": "text/x-r-source",
   "name": "R",
   "pygments_lexer": "r",
   "version": "3.4.1"
  }
 },
 "nbformat": 4,
 "nbformat_minor": 2
}
