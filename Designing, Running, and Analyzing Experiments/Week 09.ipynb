{
 "cells": [
  {
   "cell_type": "markdown",
   "metadata": {
    "collapsed": true
   },
   "source": [
    "# Introduction\n",
    "\n",
    "So we've just looked at generalized linear models or GLMs as generalizations of linear models which are typical anovas..but to respsones that are not normal and that allow us to handle repsonse distributions like poisson or multinomial or ordinal responses. \n",
    "\n",
    "As we've said, the linear model generalizes to the generalized linear model. But this generalized linear model can only handle between-subject's data. Now we're going to introduce what are called mixed models. And there is a linear mixed model. We'll look at its generalization, the generalized linear mixed model. \n",
    "\n",
    "And both of these analyses can handle both between and within subjects data, allowing us to handle data with repeated measures, which in interaction design and HCI studies, repeated measures come up all the time. So these are very powerful models. \n",
    "\n",
    "<img src=\"materials/week9/001.JPG\">\n",
    "\n",
    "Let's set our scenario and then we'll describe more what it means to be a mixed model. Our scenario is that we'll return to our data for our mobile text entry study, where we had people using 2 different keyboards in 3 different postures (sitting, standing, and walking). You might recall we had 24 subjects, they were in 2 conditions of keyboard (iphone and galaxy). \n",
    "\n",
    "They were in 3 postures (sit, stand, and walk). Keyboard was between subjects and postures was within subjects. \n",
    "\n",
    "And they entered 20 phrases, which we might call a trial which is a general term meaning a sort of a single data point that we're going to capture from a subject. \n",
    "\n",
    "Before we averaged their words per minute and their error rate. But now, we're going to keep all 20 phrases and thus brings us to 1440 data points for this datatable that we can analyze. So we're keeping all of the individual phrases that we measure, and not averaging over them anymore. \n",
    "\n",
    "<img src=\"materials/week9/002.JPG\">\n",
    "\n",
    "So that's our scenario and we'll return to analyze that data shortly. But to do that, we're going to have to introduce the concept of random effects and what we've been working with all along but havent' called them this yet are fixed effects. When you have both of this in a statistical model, you have the \"mixed\" term for the mixed model which is their generalized linear mixed model. We're mixing fixed effects and random effects. \n",
    "\n",
    "<img src=\"materials/week9/003.JPG\">\n",
    "\n",
    "So what are these? \n",
    "\n",
    "Fixed effects are the factors of interest that we manipulate in a study. There have been the kinds of variables, the independent variables, we've looked at all along. Keyboard and posture are fixed effects. They're the factors in our study. \n",
    "\n",
    "Random effects - we haven't considered yet. Random effects have a very special meaning and allow us to use linear mixed and generalized linear mixed models. Random effects are factors whose levels were sampled randomly from a larger population about which we wish to generalize but whose specific level values we actually don't care about. \n",
    "\n",
    "So in interaction design and HCI studies, subject is a classic random effect. The subjects are sampled from a population of subjects we wish to generalize about and we don't care about the specific levels of the subject factor. They're coded 1, 2, 3, and so son for however many subjects we may have. Actually, we had 24 subjects in this particular study so we'll go with 24. But we don't care about the specific levels. We just care that we have a pool of subjects. They are a classic random effect and by makign them a random effect in our models with otherwise fixed effects, we have linear mixed models and if we need them, generalized linear mixed models for different kinds of responses. \n",
    "\n",
    "<img src=\"materials/week9/004.JPG\">\n",
    "\n",
    "Subject included in the model allows us to correlate measures across the same subjects, across different rows in our data table. And that's how we can handle within subject's design using mixed models. \n",
    "\n",
    "Mixed models have a number of advantages and they're very powerful indeed. They can have some missing data cells. If you drop data, you can still use a mixed model approach to analyze that data and it doesn't thwart your study to have some empty cells in your data table. You can also better handle unbalanced designs where you have different amounts of data in different conditions. There's also no longer a Mauchly's sphericity test needed anymore. We don't worry about the sphericity property. We just model the covariance in the data directly. \n",
    "\n",
    "Remember that sphericity is the situation where variances of the differences between all combinations of levels of a within subject factor are equal or close to equal. Now, we care about that but we can model sphericity however form it takes. Whatever form it takes directly. \n",
    "\n",
    "What are the disadvantages of using mixed models? I just cited 3 advantaes but what are the disadvantages? Well, they're just computationally more intensive. Sometimes, they can take longer to run. They also return larger denominator degrees of freedom, what we've seen as the DF residuals or DF denominator. \n",
    "\n",
    "Now to do this kind of analysis where we have each of our 20 trials, there's one more item that we have to consider and this comes up a lot with mixed models and that is the idea of nesting. In particular, the idea of nested effects. And it's a practical matter to consider when using mixed models. \n",
    "\n",
    "So what's a nested effect?\n",
    "\n",
    "Nesting comes into play when the levels of a factor shouldn't be pooled just by their label alone. When you're doing any kinds of ANOVA analysis, the levels of a factor are grouped together and calculations are made. For example - for all the set data, stand data, lock data, all the iphone data, or galaxy data. \n",
    "\n",
    "In the case of trial as a factor, we'll just encode trial just as a number for the 20 trials within each of the sit, stand, walk levels and each of the iphone and galaxy combinations there. Trial takes on values of 1 to 20 throughout the table. But we don't have any special meaning to pooling all of the data for variance calculations for all the trials numbered 1 or 2 or 3. Those levels are that important. And we don't want to pool across all levels 1, 2, 3 because trial number 1 while sitting using an iphone is very different than trial number 1 while standing using galaxy. \n",
    "\n",
    "<img src=\"materials/week9/005.JPG\">\n",
    "\n",
    "So we nest trial within posture and keyboard. If we're used to dot notation from certain programming languages like java, you can think of it as a kind of a keyboard.posture.trial where trial is kind of nested. So for example - we would pool values across iphone while sitting and pool all those trial ones and twos and so forth. But within iphone and sitting. \n",
    "\n",
    "In general, when you have a factor like a trial where it's not meaningful to consider them in isolation. Trial 1 by itself doesn't mean very much. You might be in a situation where you want to nest. And that will allow you to get a more accurate response in your results. "
   ]
  },
  {
   "cell_type": "markdown",
   "metadata": {
    "collapsed": true
   },
   "source": [
    "# Analyzing a linear mixed model"
   ]
  },
  {
   "cell_type": "markdown",
   "metadata": {},
   "source": [
    "We're going to revisit our mobile text entry data but now with all 1440 trials included. No longer summarizing, averaging over our 20 text entry phrases in each keyboard and posture situation. We're going to use mixed effects models. Mixed effect models have random and fixed effects. \n",
    "\n",
    "Linear mixed models extend our linear models, which were the fixed-effects ANOVAs that we've been doing but they can have random effects, which allow us to model within subjects' factors, using subject as a random effect. \n",
    "\n",
    "Then we'll move on to generalized linear mixed models which can do everything that the generalized linear models do but now have random effects and can therefore handle within subjects data. \n",
    "\n",
    "Make sure that you don't confused mixed factorial ANOVA (which have between and within subjects factors) with mixed effect models (which are about fixed and random effects). \n"
   ]
  },
  {
   "cell_type": "code",
   "execution_count": 39,
   "metadata": {
    "collapsed": true
   },
   "outputs": [],
   "source": [
    "# linear mixed models (LMM) do everything Linear Models (LM) do \n",
    "# but can have both fixed and random effects. Random effects allow us\n",
    "# to handle within-Ss factors by modeling \"Subject\" as a random effect. \n",
    "# Generalized linear mixed models (GLMM) do everything Generalized Linear Models (GLM) do\n",
    "# but also can have both fixed and random effects. \n",
    "# LMMs and GLMMs are called \"mixed effects models\". "
   ]
  },
  {
   "cell_type": "code",
   "execution_count": 8,
   "metadata": {},
   "outputs": [
    {
     "data": {
      "text/html": [
       "<table>\n",
       "<thead><tr><th scope=col>Subject</th><th scope=col>Keyboard</th><th scope=col>Posture</th><th scope=col>Posture_Order</th><th scope=col>Trial</th><th scope=col>WPM</th><th scope=col>Error_Rate</th></tr></thead>\n",
       "<tbody>\n",
       "\t<tr><td>1     </td><td>iPhone</td><td>Sit   </td><td>1     </td><td> 1    </td><td>21.05 </td><td>0.01  </td></tr>\n",
       "\t<tr><td>1     </td><td>iPhone</td><td>Sit   </td><td>1     </td><td> 2    </td><td>15.95 </td><td>0.02  </td></tr>\n",
       "\t<tr><td>1     </td><td>iPhone</td><td>Sit   </td><td>1     </td><td> 3    </td><td>21.51 </td><td>0.01  </td></tr>\n",
       "\t<tr><td>1     </td><td>iPhone</td><td>Sit   </td><td>1     </td><td> 4    </td><td>24.37 </td><td>0.00  </td></tr>\n",
       "\t<tr><td>1     </td><td>iPhone</td><td>Sit   </td><td>1     </td><td> 5    </td><td>22.58 </td><td>0.05  </td></tr>\n",
       "\t<tr><td>1     </td><td>iPhone</td><td>Sit   </td><td>1     </td><td> 6    </td><td>24.82 </td><td>0.06  </td></tr>\n",
       "\t<tr><td>1     </td><td>iPhone</td><td>Sit   </td><td>1     </td><td> 7    </td><td>24.35 </td><td>0.00  </td></tr>\n",
       "\t<tr><td>1     </td><td>iPhone</td><td>Sit   </td><td>1     </td><td> 8    </td><td>17.39 </td><td>0.03  </td></tr>\n",
       "\t<tr><td>1     </td><td>iPhone</td><td>Sit   </td><td>1     </td><td> 9    </td><td>20.76 </td><td>0.03  </td></tr>\n",
       "\t<tr><td>1     </td><td>iPhone</td><td>Sit   </td><td>1     </td><td>10    </td><td>15.98 </td><td>0.03  </td></tr>\n",
       "\t<tr><td>1     </td><td>iPhone</td><td>Sit   </td><td>1     </td><td>11    </td><td>25.52 </td><td>0.00  </td></tr>\n",
       "\t<tr><td>1     </td><td>iPhone</td><td>Sit   </td><td>1     </td><td>12    </td><td>23.43 </td><td>0.01  </td></tr>\n",
       "\t<tr><td>1     </td><td>iPhone</td><td>Sit   </td><td>1     </td><td>13    </td><td>20.94 </td><td>0.03  </td></tr>\n",
       "\t<tr><td>1     </td><td>iPhone</td><td>Sit   </td><td>1     </td><td>14    </td><td>16.69 </td><td>0.04  </td></tr>\n",
       "\t<tr><td>1     </td><td>iPhone</td><td>Sit   </td><td>1     </td><td>15    </td><td>17.57 </td><td>0.01  </td></tr>\n",
       "\t<tr><td>1     </td><td>iPhone</td><td>Sit   </td><td>1     </td><td>16    </td><td>17.92 </td><td>0.03  </td></tr>\n",
       "\t<tr><td>1     </td><td>iPhone</td><td>Sit   </td><td>1     </td><td>17    </td><td>20.46 </td><td>0.02  </td></tr>\n",
       "\t<tr><td>1     </td><td>iPhone</td><td>Sit   </td><td>1     </td><td>18    </td><td>17.57 </td><td>0.01  </td></tr>\n",
       "\t<tr><td>1     </td><td>iPhone</td><td>Sit   </td><td>1     </td><td>19    </td><td>16.06 </td><td>0.03  </td></tr>\n",
       "\t<tr><td>1     </td><td>iPhone</td><td>Sit   </td><td>1     </td><td>20    </td><td>19.37 </td><td>0.02  </td></tr>\n",
       "</tbody>\n",
       "</table>\n"
      ],
      "text/latex": [
       "\\begin{tabular}{r|lllllll}\n",
       " Subject & Keyboard & Posture & Posture\\_Order & Trial & WPM & Error\\_Rate\\\\\n",
       "\\hline\n",
       "\t 1      & iPhone & Sit    & 1      &  1     & 21.05  & 0.01  \\\\\n",
       "\t 1      & iPhone & Sit    & 1      &  2     & 15.95  & 0.02  \\\\\n",
       "\t 1      & iPhone & Sit    & 1      &  3     & 21.51  & 0.01  \\\\\n",
       "\t 1      & iPhone & Sit    & 1      &  4     & 24.37  & 0.00  \\\\\n",
       "\t 1      & iPhone & Sit    & 1      &  5     & 22.58  & 0.05  \\\\\n",
       "\t 1      & iPhone & Sit    & 1      &  6     & 24.82  & 0.06  \\\\\n",
       "\t 1      & iPhone & Sit    & 1      &  7     & 24.35  & 0.00  \\\\\n",
       "\t 1      & iPhone & Sit    & 1      &  8     & 17.39  & 0.03  \\\\\n",
       "\t 1      & iPhone & Sit    & 1      &  9     & 20.76  & 0.03  \\\\\n",
       "\t 1      & iPhone & Sit    & 1      & 10     & 15.98  & 0.03  \\\\\n",
       "\t 1      & iPhone & Sit    & 1      & 11     & 25.52  & 0.00  \\\\\n",
       "\t 1      & iPhone & Sit    & 1      & 12     & 23.43  & 0.01  \\\\\n",
       "\t 1      & iPhone & Sit    & 1      & 13     & 20.94  & 0.03  \\\\\n",
       "\t 1      & iPhone & Sit    & 1      & 14     & 16.69  & 0.04  \\\\\n",
       "\t 1      & iPhone & Sit    & 1      & 15     & 17.57  & 0.01  \\\\\n",
       "\t 1      & iPhone & Sit    & 1      & 16     & 17.92  & 0.03  \\\\\n",
       "\t 1      & iPhone & Sit    & 1      & 17     & 20.46  & 0.02  \\\\\n",
       "\t 1      & iPhone & Sit    & 1      & 18     & 17.57  & 0.01  \\\\\n",
       "\t 1      & iPhone & Sit    & 1      & 19     & 16.06  & 0.03  \\\\\n",
       "\t 1      & iPhone & Sit    & 1      & 20     & 19.37  & 0.02  \\\\\n",
       "\\end{tabular}\n"
      ],
      "text/markdown": [
       "\n",
       "Subject | Keyboard | Posture | Posture_Order | Trial | WPM | Error_Rate | \n",
       "|---|---|---|---|---|---|---|---|---|---|---|---|---|---|---|---|---|---|---|---|\n",
       "| 1      | iPhone | Sit    | 1      |  1     | 21.05  | 0.01   | \n",
       "| 1      | iPhone | Sit    | 1      |  2     | 15.95  | 0.02   | \n",
       "| 1      | iPhone | Sit    | 1      |  3     | 21.51  | 0.01   | \n",
       "| 1      | iPhone | Sit    | 1      |  4     | 24.37  | 0.00   | \n",
       "| 1      | iPhone | Sit    | 1      |  5     | 22.58  | 0.05   | \n",
       "| 1      | iPhone | Sit    | 1      |  6     | 24.82  | 0.06   | \n",
       "| 1      | iPhone | Sit    | 1      |  7     | 24.35  | 0.00   | \n",
       "| 1      | iPhone | Sit    | 1      |  8     | 17.39  | 0.03   | \n",
       "| 1      | iPhone | Sit    | 1      |  9     | 20.76  | 0.03   | \n",
       "| 1      | iPhone | Sit    | 1      | 10     | 15.98  | 0.03   | \n",
       "| 1      | iPhone | Sit    | 1      | 11     | 25.52  | 0.00   | \n",
       "| 1      | iPhone | Sit    | 1      | 12     | 23.43  | 0.01   | \n",
       "| 1      | iPhone | Sit    | 1      | 13     | 20.94  | 0.03   | \n",
       "| 1      | iPhone | Sit    | 1      | 14     | 16.69  | 0.04   | \n",
       "| 1      | iPhone | Sit    | 1      | 15     | 17.57  | 0.01   | \n",
       "| 1      | iPhone | Sit    | 1      | 16     | 17.92  | 0.03   | \n",
       "| 1      | iPhone | Sit    | 1      | 17     | 20.46  | 0.02   | \n",
       "| 1      | iPhone | Sit    | 1      | 18     | 17.57  | 0.01   | \n",
       "| 1      | iPhone | Sit    | 1      | 19     | 16.06  | 0.03   | \n",
       "| 1      | iPhone | Sit    | 1      | 20     | 19.37  | 0.02   | \n",
       "\n",
       "\n"
      ],
      "text/plain": [
       "   Subject Keyboard Posture Posture_Order Trial WPM   Error_Rate\n",
       "1  1       iPhone   Sit     1              1    21.05 0.01      \n",
       "2  1       iPhone   Sit     1              2    15.95 0.02      \n",
       "3  1       iPhone   Sit     1              3    21.51 0.01      \n",
       "4  1       iPhone   Sit     1              4    24.37 0.00      \n",
       "5  1       iPhone   Sit     1              5    22.58 0.05      \n",
       "6  1       iPhone   Sit     1              6    24.82 0.06      \n",
       "7  1       iPhone   Sit     1              7    24.35 0.00      \n",
       "8  1       iPhone   Sit     1              8    17.39 0.03      \n",
       "9  1       iPhone   Sit     1              9    20.76 0.03      \n",
       "10 1       iPhone   Sit     1             10    15.98 0.03      \n",
       "11 1       iPhone   Sit     1             11    25.52 0.00      \n",
       "12 1       iPhone   Sit     1             12    23.43 0.01      \n",
       "13 1       iPhone   Sit     1             13    20.94 0.03      \n",
       "14 1       iPhone   Sit     1             14    16.69 0.04      \n",
       "15 1       iPhone   Sit     1             15    17.57 0.01      \n",
       "16 1       iPhone   Sit     1             16    17.92 0.03      \n",
       "17 1       iPhone   Sit     1             17    20.46 0.02      \n",
       "18 1       iPhone   Sit     1             18    17.57 0.01      \n",
       "19 1       iPhone   Sit     1             19    16.06 0.03      \n",
       "20 1       iPhone   Sit     1             20    19.37 0.02      "
      ]
     },
     "metadata": {},
     "output_type": "display_data"
    }
   ],
   "source": [
    "# Linear mixed model (LMM) on words per minute\n",
    "\n",
    "mbltxttrials <- read.csv(\"materials/mbltxttrials.csv\")\n",
    "head(mbltxttrials, 20)"
   ]
  },
  {
   "cell_type": "code",
   "execution_count": 40,
   "metadata": {},
   "outputs": [
    {
     "data": {
      "text/html": [
       "<table>\n",
       "<thead><tr><th scope=col>Subject</th><th scope=col>Keyboard</th><th scope=col>Posture</th><th scope=col>Posture_Order</th><th scope=col>Trial</th><th scope=col>WPM</th><th scope=col>Error_Rate</th></tr></thead>\n",
       "<tbody>\n",
       "\t<tr><td>1     </td><td>iPhone</td><td>Sit   </td><td>1     </td><td>1     </td><td>21.05 </td><td>0.01  </td></tr>\n",
       "\t<tr><td>1     </td><td>iPhone</td><td>Sit   </td><td>1     </td><td>2     </td><td>15.95 </td><td>0.02  </td></tr>\n",
       "\t<tr><td>1     </td><td>iPhone</td><td>Sit   </td><td>1     </td><td>3     </td><td>21.51 </td><td>0.01  </td></tr>\n",
       "\t<tr><td>1     </td><td>iPhone</td><td>Sit   </td><td>1     </td><td>4     </td><td>24.37 </td><td>0.00  </td></tr>\n",
       "\t<tr><td>1     </td><td>iPhone</td><td>Sit   </td><td>1     </td><td>5     </td><td>22.58 </td><td>0.05  </td></tr>\n",
       "\t<tr><td>1     </td><td>iPhone</td><td>Sit   </td><td>1     </td><td>6     </td><td>24.82 </td><td>0.06  </td></tr>\n",
       "\t<tr><td>1     </td><td>iPhone</td><td>Sit   </td><td>1     </td><td>7     </td><td>24.35 </td><td>0.00  </td></tr>\n",
       "\t<tr><td>1     </td><td>iPhone</td><td>Sit   </td><td>1     </td><td>8     </td><td>17.39 </td><td>0.03  </td></tr>\n",
       "\t<tr><td>1     </td><td>iPhone</td><td>Sit   </td><td>1     </td><td>9     </td><td>20.76 </td><td>0.03  </td></tr>\n",
       "\t<tr><td>1     </td><td>iPhone</td><td>Sit   </td><td>1     </td><td>10    </td><td>15.98 </td><td>0.03  </td></tr>\n",
       "\t<tr><td>1     </td><td>iPhone</td><td>Sit   </td><td>1     </td><td>11    </td><td>25.52 </td><td>0.00  </td></tr>\n",
       "\t<tr><td>1     </td><td>iPhone</td><td>Sit   </td><td>1     </td><td>12    </td><td>23.43 </td><td>0.01  </td></tr>\n",
       "\t<tr><td>1     </td><td>iPhone</td><td>Sit   </td><td>1     </td><td>13    </td><td>20.94 </td><td>0.03  </td></tr>\n",
       "\t<tr><td>1     </td><td>iPhone</td><td>Sit   </td><td>1     </td><td>14    </td><td>16.69 </td><td>0.04  </td></tr>\n",
       "\t<tr><td>1     </td><td>iPhone</td><td>Sit   </td><td>1     </td><td>15    </td><td>17.57 </td><td>0.01  </td></tr>\n",
       "\t<tr><td>1     </td><td>iPhone</td><td>Sit   </td><td>1     </td><td>16    </td><td>17.92 </td><td>0.03  </td></tr>\n",
       "\t<tr><td>1     </td><td>iPhone</td><td>Sit   </td><td>1     </td><td>17    </td><td>20.46 </td><td>0.02  </td></tr>\n",
       "\t<tr><td>1     </td><td>iPhone</td><td>Sit   </td><td>1     </td><td>18    </td><td>17.57 </td><td>0.01  </td></tr>\n",
       "\t<tr><td>1     </td><td>iPhone</td><td>Sit   </td><td>1     </td><td>19    </td><td>16.06 </td><td>0.03  </td></tr>\n",
       "\t<tr><td>1     </td><td>iPhone</td><td>Sit   </td><td>1     </td><td>20    </td><td>19.37 </td><td>0.02  </td></tr>\n",
       "\t<tr><td>1     </td><td>iPhone</td><td>Stand </td><td>2     </td><td>1     </td><td>21.42 </td><td>0.04  </td></tr>\n",
       "\t<tr><td>1     </td><td>iPhone</td><td>Stand </td><td>2     </td><td>2     </td><td>22.60 </td><td>0.02  </td></tr>\n",
       "\t<tr><td>1     </td><td>iPhone</td><td>Stand </td><td>2     </td><td>3     </td><td>20.07 </td><td>0.01  </td></tr>\n",
       "\t<tr><td>1     </td><td>iPhone</td><td>Stand </td><td>2     </td><td>4     </td><td>22.91 </td><td>0.02  </td></tr>\n",
       "\t<tr><td>1     </td><td>iPhone</td><td>Stand </td><td>2     </td><td>5     </td><td>18.89 </td><td>0.04  </td></tr>\n",
       "\t<tr><td>1     </td><td>iPhone</td><td>Stand </td><td>2     </td><td>6     </td><td>24.47 </td><td>0.02  </td></tr>\n",
       "\t<tr><td>1     </td><td>iPhone</td><td>Stand </td><td>2     </td><td>7     </td><td>30.03 </td><td>0.05  </td></tr>\n",
       "\t<tr><td>1     </td><td>iPhone</td><td>Stand </td><td>2     </td><td>8     </td><td>22.74 </td><td>0.02  </td></tr>\n",
       "\t<tr><td>1     </td><td>iPhone</td><td>Stand </td><td>2     </td><td>9     </td><td>29.58 </td><td>0.02  </td></tr>\n",
       "\t<tr><td>1     </td><td>iPhone</td><td>Stand </td><td>2     </td><td>10    </td><td>27.30 </td><td>0.04  </td></tr>\n",
       "\t<tr><td>1     </td><td>iPhone</td><td>Stand </td><td>2     </td><td>11    </td><td>24.80 </td><td>0.02  </td></tr>\n",
       "\t<tr><td>1     </td><td>iPhone</td><td>Stand </td><td>2     </td><td>12    </td><td>18.22 </td><td>0.04  </td></tr>\n",
       "\t<tr><td>1     </td><td>iPhone</td><td>Stand </td><td>2     </td><td>13    </td><td>35.61 </td><td>0.03  </td></tr>\n",
       "\t<tr><td>1     </td><td>iPhone</td><td>Stand </td><td>2     </td><td>14    </td><td>20.85 </td><td>0.03  </td></tr>\n",
       "\t<tr><td>1     </td><td>iPhone</td><td>Stand </td><td>2     </td><td>15    </td><td>21.23 </td><td>0.01  </td></tr>\n",
       "\t<tr><td>1     </td><td>iPhone</td><td>Stand </td><td>2     </td><td>16    </td><td>23.54 </td><td>0.01  </td></tr>\n",
       "\t<tr><td>1     </td><td>iPhone</td><td>Stand </td><td>2     </td><td>17    </td><td>23.08 </td><td>0.04  </td></tr>\n",
       "\t<tr><td>1     </td><td>iPhone</td><td>Stand </td><td>2     </td><td>18    </td><td>20.97 </td><td>0.06  </td></tr>\n",
       "\t<tr><td>1     </td><td>iPhone</td><td>Stand </td><td>2     </td><td>19    </td><td>19.09 </td><td>0.05  </td></tr>\n",
       "\t<tr><td>1     </td><td>iPhone</td><td>Stand </td><td>2     </td><td>20    </td><td>27.57 </td><td>0.03  </td></tr>\n",
       "\t<tr><td>1     </td><td>iPhone</td><td>Walk  </td><td>3     </td><td>1     </td><td>15.50 </td><td>0.03  </td></tr>\n",
       "\t<tr><td>1     </td><td>iPhone</td><td>Walk  </td><td>3     </td><td>2     </td><td>23.60 </td><td>0.05  </td></tr>\n",
       "\t<tr><td>1     </td><td>iPhone</td><td>Walk  </td><td>3     </td><td>3     </td><td>15.37 </td><td>0.05  </td></tr>\n",
       "\t<tr><td>1     </td><td>iPhone</td><td>Walk  </td><td>3     </td><td>4     </td><td>21.60 </td><td>0.03  </td></tr>\n",
       "\t<tr><td>1     </td><td>iPhone</td><td>Walk  </td><td>3     </td><td>5     </td><td>18.19 </td><td>0.09  </td></tr>\n",
       "\t<tr><td>1     </td><td>iPhone</td><td>Walk  </td><td>3     </td><td>6     </td><td>19.19 </td><td>0.05  </td></tr>\n",
       "\t<tr><td>1     </td><td>iPhone</td><td>Walk  </td><td>3     </td><td>7     </td><td>25.57 </td><td>0.06  </td></tr>\n",
       "\t<tr><td>1     </td><td>iPhone</td><td>Walk  </td><td>3     </td><td>8     </td><td>19.00 </td><td>0.03  </td></tr>\n",
       "\t<tr><td>1     </td><td>iPhone</td><td>Walk  </td><td>3     </td><td>9     </td><td>29.45 </td><td>0.02  </td></tr>\n",
       "\t<tr><td>1     </td><td>iPhone</td><td>Walk  </td><td>3     </td><td>10    </td><td>20.54 </td><td>0.04  </td></tr>\n",
       "\t<tr><td>1     </td><td>iPhone</td><td>Walk  </td><td>3     </td><td>11    </td><td>15.22 </td><td>0.04  </td></tr>\n",
       "\t<tr><td>1     </td><td>iPhone</td><td>Walk  </td><td>3     </td><td>12    </td><td>24.31 </td><td>0.08  </td></tr>\n",
       "\t<tr><td>1     </td><td>iPhone</td><td>Walk  </td><td>3     </td><td>13    </td><td>19.03 </td><td>0.04  </td></tr>\n",
       "\t<tr><td>1     </td><td>iPhone</td><td>Walk  </td><td>3     </td><td>14    </td><td>16.92 </td><td>0.04  </td></tr>\n",
       "\t<tr><td>1     </td><td>iPhone</td><td>Walk  </td><td>3     </td><td>15    </td><td>22.86 </td><td>0.04  </td></tr>\n",
       "\t<tr><td>1     </td><td>iPhone</td><td>Walk  </td><td>3     </td><td>16    </td><td>31.23 </td><td>0.00  </td></tr>\n",
       "\t<tr><td>1     </td><td>iPhone</td><td>Walk  </td><td>3     </td><td>17    </td><td>22.39 </td><td>0.03  </td></tr>\n",
       "\t<tr><td>1     </td><td>iPhone</td><td>Walk  </td><td>3     </td><td>18    </td><td>23.47 </td><td>0.07  </td></tr>\n",
       "\t<tr><td>1     </td><td>iPhone</td><td>Walk  </td><td>3     </td><td>19    </td><td>20.83 </td><td>0.00  </td></tr>\n",
       "\t<tr><td>1     </td><td>iPhone</td><td>Walk  </td><td>3     </td><td>20    </td><td>11.65 </td><td>0.04  </td></tr>\n",
       "</tbody>\n",
       "</table>\n"
      ],
      "text/latex": [
       "\\begin{tabular}{r|lllllll}\n",
       " Subject & Keyboard & Posture & Posture\\_Order & Trial & WPM & Error\\_Rate\\\\\n",
       "\\hline\n",
       "\t 1      & iPhone & Sit    & 1      & 1      & 21.05  & 0.01  \\\\\n",
       "\t 1      & iPhone & Sit    & 1      & 2      & 15.95  & 0.02  \\\\\n",
       "\t 1      & iPhone & Sit    & 1      & 3      & 21.51  & 0.01  \\\\\n",
       "\t 1      & iPhone & Sit    & 1      & 4      & 24.37  & 0.00  \\\\\n",
       "\t 1      & iPhone & Sit    & 1      & 5      & 22.58  & 0.05  \\\\\n",
       "\t 1      & iPhone & Sit    & 1      & 6      & 24.82  & 0.06  \\\\\n",
       "\t 1      & iPhone & Sit    & 1      & 7      & 24.35  & 0.00  \\\\\n",
       "\t 1      & iPhone & Sit    & 1      & 8      & 17.39  & 0.03  \\\\\n",
       "\t 1      & iPhone & Sit    & 1      & 9      & 20.76  & 0.03  \\\\\n",
       "\t 1      & iPhone & Sit    & 1      & 10     & 15.98  & 0.03  \\\\\n",
       "\t 1      & iPhone & Sit    & 1      & 11     & 25.52  & 0.00  \\\\\n",
       "\t 1      & iPhone & Sit    & 1      & 12     & 23.43  & 0.01  \\\\\n",
       "\t 1      & iPhone & Sit    & 1      & 13     & 20.94  & 0.03  \\\\\n",
       "\t 1      & iPhone & Sit    & 1      & 14     & 16.69  & 0.04  \\\\\n",
       "\t 1      & iPhone & Sit    & 1      & 15     & 17.57  & 0.01  \\\\\n",
       "\t 1      & iPhone & Sit    & 1      & 16     & 17.92  & 0.03  \\\\\n",
       "\t 1      & iPhone & Sit    & 1      & 17     & 20.46  & 0.02  \\\\\n",
       "\t 1      & iPhone & Sit    & 1      & 18     & 17.57  & 0.01  \\\\\n",
       "\t 1      & iPhone & Sit    & 1      & 19     & 16.06  & 0.03  \\\\\n",
       "\t 1      & iPhone & Sit    & 1      & 20     & 19.37  & 0.02  \\\\\n",
       "\t 1      & iPhone & Stand  & 2      & 1      & 21.42  & 0.04  \\\\\n",
       "\t 1      & iPhone & Stand  & 2      & 2      & 22.60  & 0.02  \\\\\n",
       "\t 1      & iPhone & Stand  & 2      & 3      & 20.07  & 0.01  \\\\\n",
       "\t 1      & iPhone & Stand  & 2      & 4      & 22.91  & 0.02  \\\\\n",
       "\t 1      & iPhone & Stand  & 2      & 5      & 18.89  & 0.04  \\\\\n",
       "\t 1      & iPhone & Stand  & 2      & 6      & 24.47  & 0.02  \\\\\n",
       "\t 1      & iPhone & Stand  & 2      & 7      & 30.03  & 0.05  \\\\\n",
       "\t 1      & iPhone & Stand  & 2      & 8      & 22.74  & 0.02  \\\\\n",
       "\t 1      & iPhone & Stand  & 2      & 9      & 29.58  & 0.02  \\\\\n",
       "\t 1      & iPhone & Stand  & 2      & 10     & 27.30  & 0.04  \\\\\n",
       "\t 1      & iPhone & Stand  & 2      & 11     & 24.80  & 0.02  \\\\\n",
       "\t 1      & iPhone & Stand  & 2      & 12     & 18.22  & 0.04  \\\\\n",
       "\t 1      & iPhone & Stand  & 2      & 13     & 35.61  & 0.03  \\\\\n",
       "\t 1      & iPhone & Stand  & 2      & 14     & 20.85  & 0.03  \\\\\n",
       "\t 1      & iPhone & Stand  & 2      & 15     & 21.23  & 0.01  \\\\\n",
       "\t 1      & iPhone & Stand  & 2      & 16     & 23.54  & 0.01  \\\\\n",
       "\t 1      & iPhone & Stand  & 2      & 17     & 23.08  & 0.04  \\\\\n",
       "\t 1      & iPhone & Stand  & 2      & 18     & 20.97  & 0.06  \\\\\n",
       "\t 1      & iPhone & Stand  & 2      & 19     & 19.09  & 0.05  \\\\\n",
       "\t 1      & iPhone & Stand  & 2      & 20     & 27.57  & 0.03  \\\\\n",
       "\t 1      & iPhone & Walk   & 3      & 1      & 15.50  & 0.03  \\\\\n",
       "\t 1      & iPhone & Walk   & 3      & 2      & 23.60  & 0.05  \\\\\n",
       "\t 1      & iPhone & Walk   & 3      & 3      & 15.37  & 0.05  \\\\\n",
       "\t 1      & iPhone & Walk   & 3      & 4      & 21.60  & 0.03  \\\\\n",
       "\t 1      & iPhone & Walk   & 3      & 5      & 18.19  & 0.09  \\\\\n",
       "\t 1      & iPhone & Walk   & 3      & 6      & 19.19  & 0.05  \\\\\n",
       "\t 1      & iPhone & Walk   & 3      & 7      & 25.57  & 0.06  \\\\\n",
       "\t 1      & iPhone & Walk   & 3      & 8      & 19.00  & 0.03  \\\\\n",
       "\t 1      & iPhone & Walk   & 3      & 9      & 29.45  & 0.02  \\\\\n",
       "\t 1      & iPhone & Walk   & 3      & 10     & 20.54  & 0.04  \\\\\n",
       "\t 1      & iPhone & Walk   & 3      & 11     & 15.22  & 0.04  \\\\\n",
       "\t 1      & iPhone & Walk   & 3      & 12     & 24.31  & 0.08  \\\\\n",
       "\t 1      & iPhone & Walk   & 3      & 13     & 19.03  & 0.04  \\\\\n",
       "\t 1      & iPhone & Walk   & 3      & 14     & 16.92  & 0.04  \\\\\n",
       "\t 1      & iPhone & Walk   & 3      & 15     & 22.86  & 0.04  \\\\\n",
       "\t 1      & iPhone & Walk   & 3      & 16     & 31.23  & 0.00  \\\\\n",
       "\t 1      & iPhone & Walk   & 3      & 17     & 22.39  & 0.03  \\\\\n",
       "\t 1      & iPhone & Walk   & 3      & 18     & 23.47  & 0.07  \\\\\n",
       "\t 1      & iPhone & Walk   & 3      & 19     & 20.83  & 0.00  \\\\\n",
       "\t 1      & iPhone & Walk   & 3      & 20     & 11.65  & 0.04  \\\\\n",
       "\\end{tabular}\n"
      ],
      "text/markdown": [
       "\n",
       "Subject | Keyboard | Posture | Posture_Order | Trial | WPM | Error_Rate | \n",
       "|---|---|---|---|---|---|---|---|---|---|---|---|---|---|---|---|---|---|---|---|---|---|---|---|---|---|---|---|---|---|---|---|---|---|---|---|---|---|---|---|---|---|---|---|---|---|---|---|---|---|---|---|---|---|---|---|---|---|---|---|\n",
       "| 1      | iPhone | Sit    | 1      | 1      | 21.05  | 0.01   | \n",
       "| 1      | iPhone | Sit    | 1      | 2      | 15.95  | 0.02   | \n",
       "| 1      | iPhone | Sit    | 1      | 3      | 21.51  | 0.01   | \n",
       "| 1      | iPhone | Sit    | 1      | 4      | 24.37  | 0.00   | \n",
       "| 1      | iPhone | Sit    | 1      | 5      | 22.58  | 0.05   | \n",
       "| 1      | iPhone | Sit    | 1      | 6      | 24.82  | 0.06   | \n",
       "| 1      | iPhone | Sit    | 1      | 7      | 24.35  | 0.00   | \n",
       "| 1      | iPhone | Sit    | 1      | 8      | 17.39  | 0.03   | \n",
       "| 1      | iPhone | Sit    | 1      | 9      | 20.76  | 0.03   | \n",
       "| 1      | iPhone | Sit    | 1      | 10     | 15.98  | 0.03   | \n",
       "| 1      | iPhone | Sit    | 1      | 11     | 25.52  | 0.00   | \n",
       "| 1      | iPhone | Sit    | 1      | 12     | 23.43  | 0.01   | \n",
       "| 1      | iPhone | Sit    | 1      | 13     | 20.94  | 0.03   | \n",
       "| 1      | iPhone | Sit    | 1      | 14     | 16.69  | 0.04   | \n",
       "| 1      | iPhone | Sit    | 1      | 15     | 17.57  | 0.01   | \n",
       "| 1      | iPhone | Sit    | 1      | 16     | 17.92  | 0.03   | \n",
       "| 1      | iPhone | Sit    | 1      | 17     | 20.46  | 0.02   | \n",
       "| 1      | iPhone | Sit    | 1      | 18     | 17.57  | 0.01   | \n",
       "| 1      | iPhone | Sit    | 1      | 19     | 16.06  | 0.03   | \n",
       "| 1      | iPhone | Sit    | 1      | 20     | 19.37  | 0.02   | \n",
       "| 1      | iPhone | Stand  | 2      | 1      | 21.42  | 0.04   | \n",
       "| 1      | iPhone | Stand  | 2      | 2      | 22.60  | 0.02   | \n",
       "| 1      | iPhone | Stand  | 2      | 3      | 20.07  | 0.01   | \n",
       "| 1      | iPhone | Stand  | 2      | 4      | 22.91  | 0.02   | \n",
       "| 1      | iPhone | Stand  | 2      | 5      | 18.89  | 0.04   | \n",
       "| 1      | iPhone | Stand  | 2      | 6      | 24.47  | 0.02   | \n",
       "| 1      | iPhone | Stand  | 2      | 7      | 30.03  | 0.05   | \n",
       "| 1      | iPhone | Stand  | 2      | 8      | 22.74  | 0.02   | \n",
       "| 1      | iPhone | Stand  | 2      | 9      | 29.58  | 0.02   | \n",
       "| 1      | iPhone | Stand  | 2      | 10     | 27.30  | 0.04   | \n",
       "| 1      | iPhone | Stand  | 2      | 11     | 24.80  | 0.02   | \n",
       "| 1      | iPhone | Stand  | 2      | 12     | 18.22  | 0.04   | \n",
       "| 1      | iPhone | Stand  | 2      | 13     | 35.61  | 0.03   | \n",
       "| 1      | iPhone | Stand  | 2      | 14     | 20.85  | 0.03   | \n",
       "| 1      | iPhone | Stand  | 2      | 15     | 21.23  | 0.01   | \n",
       "| 1      | iPhone | Stand  | 2      | 16     | 23.54  | 0.01   | \n",
       "| 1      | iPhone | Stand  | 2      | 17     | 23.08  | 0.04   | \n",
       "| 1      | iPhone | Stand  | 2      | 18     | 20.97  | 0.06   | \n",
       "| 1      | iPhone | Stand  | 2      | 19     | 19.09  | 0.05   | \n",
       "| 1      | iPhone | Stand  | 2      | 20     | 27.57  | 0.03   | \n",
       "| 1      | iPhone | Walk   | 3      | 1      | 15.50  | 0.03   | \n",
       "| 1      | iPhone | Walk   | 3      | 2      | 23.60  | 0.05   | \n",
       "| 1      | iPhone | Walk   | 3      | 3      | 15.37  | 0.05   | \n",
       "| 1      | iPhone | Walk   | 3      | 4      | 21.60  | 0.03   | \n",
       "| 1      | iPhone | Walk   | 3      | 5      | 18.19  | 0.09   | \n",
       "| 1      | iPhone | Walk   | 3      | 6      | 19.19  | 0.05   | \n",
       "| 1      | iPhone | Walk   | 3      | 7      | 25.57  | 0.06   | \n",
       "| 1      | iPhone | Walk   | 3      | 8      | 19.00  | 0.03   | \n",
       "| 1      | iPhone | Walk   | 3      | 9      | 29.45  | 0.02   | \n",
       "| 1      | iPhone | Walk   | 3      | 10     | 20.54  | 0.04   | \n",
       "| 1      | iPhone | Walk   | 3      | 11     | 15.22  | 0.04   | \n",
       "| 1      | iPhone | Walk   | 3      | 12     | 24.31  | 0.08   | \n",
       "| 1      | iPhone | Walk   | 3      | 13     | 19.03  | 0.04   | \n",
       "| 1      | iPhone | Walk   | 3      | 14     | 16.92  | 0.04   | \n",
       "| 1      | iPhone | Walk   | 3      | 15     | 22.86  | 0.04   | \n",
       "| 1      | iPhone | Walk   | 3      | 16     | 31.23  | 0.00   | \n",
       "| 1      | iPhone | Walk   | 3      | 17     | 22.39  | 0.03   | \n",
       "| 1      | iPhone | Walk   | 3      | 18     | 23.47  | 0.07   | \n",
       "| 1      | iPhone | Walk   | 3      | 19     | 20.83  | 0.00   | \n",
       "| 1      | iPhone | Walk   | 3      | 20     | 11.65  | 0.04   | \n",
       "\n",
       "\n"
      ],
      "text/plain": [
       "   Subject Keyboard Posture Posture_Order Trial WPM   Error_Rate\n",
       "1  1       iPhone   Sit     1             1     21.05 0.01      \n",
       "2  1       iPhone   Sit     1             2     15.95 0.02      \n",
       "3  1       iPhone   Sit     1             3     21.51 0.01      \n",
       "4  1       iPhone   Sit     1             4     24.37 0.00      \n",
       "5  1       iPhone   Sit     1             5     22.58 0.05      \n",
       "6  1       iPhone   Sit     1             6     24.82 0.06      \n",
       "7  1       iPhone   Sit     1             7     24.35 0.00      \n",
       "8  1       iPhone   Sit     1             8     17.39 0.03      \n",
       "9  1       iPhone   Sit     1             9     20.76 0.03      \n",
       "10 1       iPhone   Sit     1             10    15.98 0.03      \n",
       "11 1       iPhone   Sit     1             11    25.52 0.00      \n",
       "12 1       iPhone   Sit     1             12    23.43 0.01      \n",
       "13 1       iPhone   Sit     1             13    20.94 0.03      \n",
       "14 1       iPhone   Sit     1             14    16.69 0.04      \n",
       "15 1       iPhone   Sit     1             15    17.57 0.01      \n",
       "16 1       iPhone   Sit     1             16    17.92 0.03      \n",
       "17 1       iPhone   Sit     1             17    20.46 0.02      \n",
       "18 1       iPhone   Sit     1             18    17.57 0.01      \n",
       "19 1       iPhone   Sit     1             19    16.06 0.03      \n",
       "20 1       iPhone   Sit     1             20    19.37 0.02      \n",
       "21 1       iPhone   Stand   2             1     21.42 0.04      \n",
       "22 1       iPhone   Stand   2             2     22.60 0.02      \n",
       "23 1       iPhone   Stand   2             3     20.07 0.01      \n",
       "24 1       iPhone   Stand   2             4     22.91 0.02      \n",
       "25 1       iPhone   Stand   2             5     18.89 0.04      \n",
       "26 1       iPhone   Stand   2             6     24.47 0.02      \n",
       "27 1       iPhone   Stand   2             7     30.03 0.05      \n",
       "28 1       iPhone   Stand   2             8     22.74 0.02      \n",
       "29 1       iPhone   Stand   2             9     29.58 0.02      \n",
       "30 1       iPhone   Stand   2             10    27.30 0.04      \n",
       "31 1       iPhone   Stand   2             11    24.80 0.02      \n",
       "32 1       iPhone   Stand   2             12    18.22 0.04      \n",
       "33 1       iPhone   Stand   2             13    35.61 0.03      \n",
       "34 1       iPhone   Stand   2             14    20.85 0.03      \n",
       "35 1       iPhone   Stand   2             15    21.23 0.01      \n",
       "36 1       iPhone   Stand   2             16    23.54 0.01      \n",
       "37 1       iPhone   Stand   2             17    23.08 0.04      \n",
       "38 1       iPhone   Stand   2             18    20.97 0.06      \n",
       "39 1       iPhone   Stand   2             19    19.09 0.05      \n",
       "40 1       iPhone   Stand   2             20    27.57 0.03      \n",
       "41 1       iPhone   Walk    3             1     15.50 0.03      \n",
       "42 1       iPhone   Walk    3             2     23.60 0.05      \n",
       "43 1       iPhone   Walk    3             3     15.37 0.05      \n",
       "44 1       iPhone   Walk    3             4     21.60 0.03      \n",
       "45 1       iPhone   Walk    3             5     18.19 0.09      \n",
       "46 1       iPhone   Walk    3             6     19.19 0.05      \n",
       "47 1       iPhone   Walk    3             7     25.57 0.06      \n",
       "48 1       iPhone   Walk    3             8     19.00 0.03      \n",
       "49 1       iPhone   Walk    3             9     29.45 0.02      \n",
       "50 1       iPhone   Walk    3             10    20.54 0.04      \n",
       "51 1       iPhone   Walk    3             11    15.22 0.04      \n",
       "52 1       iPhone   Walk    3             12    24.31 0.08      \n",
       "53 1       iPhone   Walk    3             13    19.03 0.04      \n",
       "54 1       iPhone   Walk    3             14    16.92 0.04      \n",
       "55 1       iPhone   Walk    3             15    22.86 0.04      \n",
       "56 1       iPhone   Walk    3             16    31.23 0.00      \n",
       "57 1       iPhone   Walk    3             17    22.39 0.03      \n",
       "58 1       iPhone   Walk    3             18    23.47 0.07      \n",
       "59 1       iPhone   Walk    3             19    20.83 0.00      \n",
       "60 1       iPhone   Walk    3             20    11.65 0.04      "
      ]
     },
     "metadata": {},
     "output_type": "display_data"
    }
   ],
   "source": [
    "library(\"dplyr\")\n",
    "\n",
    "mbltxttrials %>%\n",
    "    filter(Subject == 1)"
   ]
  },
  {
   "cell_type": "markdown",
   "metadata": {},
   "source": [
    "We have the posture order column to check for order effects of our within subject factor posture to make sure that our full counter balancing worked. We have now a trial column 1 to 20. And so, as the posture changes for the first subject using an iphone, the posture changes to standing from sitting. Now the trial start over from 1 to 20 again. And so, we're going to nest trial in posture and keyboard as we discussed previously. Then we have our 2 measure columns, WPM and Error Rate. \n",
    "\n",
    "We'll analyze words per minute with a linear mixed model and error rate because errors are poisson distributed with a generalized linear mixed model. "
   ]
  },
  {
   "cell_type": "markdown",
   "metadata": {},
   "source": [
    "It looks like each subject does 20 trials of a keyboard-posture combination. Each subjects does one keyboard type and all 3 posture types"
   ]
  },
  {
   "cell_type": "code",
   "execution_count": 16,
   "metadata": {},
   "outputs": [
    {
     "data": {
      "text/plain": [
       "    Subject       Keyboard    Posture    Posture_Order     Trial     \n",
       " 1      :  60   Galaxy:720   Sit  :480   1:480         1      :  72  \n",
       " 2      :  60   iPhone:720   Stand:480   2:480         2      :  72  \n",
       " 3      :  60                Walk :480   3:480         3      :  72  \n",
       " 4      :  60                                          4      :  72  \n",
       " 5      :  60                                          5      :  72  \n",
       " 6      :  60                                          6      :  72  \n",
       " (Other):1080                                          (Other):1008  \n",
       "      WPM          Error_Rate     \n",
       " Min.   : 0.63   Min.   :0.00000  \n",
       " 1st Qu.:17.47   1st Qu.:0.02000  \n",
       " Median :21.21   Median :0.03000  \n",
       " Mean   :20.21   Mean   :0.03381  \n",
       " 3rd Qu.:23.98   3rd Qu.:0.05000  \n",
       " Max.   :36.39   Max.   :0.15000  \n",
       "                                  "
      ]
     },
     "metadata": {},
     "output_type": "display_data"
    }
   ],
   "source": [
    "mbltxttrials$Subject <- as.factor(mbltxttrials$Subject)\n",
    "mbltxttrials$Posture_Order <- as.factor(mbltxttrials$Posture_Order)\n",
    "mbltxttrials$Trial <- as.factor(mbltxttrials$Trial)\n",
    "\n",
    "summary(mbltxttrials)"
   ]
  },
  {
   "cell_type": "code",
   "execution_count": 19,
   "metadata": {},
   "outputs": [
    {
     "data": {
      "text/html": [
       "<table>\n",
       "<thead><tr><th scope=col>Keyboard</th><th scope=col>Posture</th><th scope=col>Min.</th><th scope=col>1st Qu.</th><th scope=col>Median</th><th scope=col>Mean</th><th scope=col>3rd Qu.</th><th scope=col>Max.</th></tr></thead>\n",
       "<tbody>\n",
       "\t<tr><td>Galaxy  </td><td>Sit     </td><td>18.66   </td><td>22.5875 </td><td>23.970  </td><td>23.90979</td><td>25.0450 </td><td>29.25   </td></tr>\n",
       "\t<tr><td>Galaxy  </td><td>Stand   </td><td>13.52   </td><td>19.0900 </td><td>21.230  </td><td>21.19183</td><td>23.1275 </td><td>32.98   </td></tr>\n",
       "\t<tr><td>Galaxy  </td><td>Walk    </td><td> 0.63   </td><td> 8.5850 </td><td>11.785  </td><td>12.06554</td><td>15.7450 </td><td>25.36   </td></tr>\n",
       "\t<tr><td>iPhone  </td><td>Sit     </td><td> 9.85   </td><td>18.8050 </td><td>20.880  </td><td>20.95750</td><td>22.8475 </td><td>28.55   </td></tr>\n",
       "\t<tr><td>iPhone  </td><td>Stand   </td><td>10.76   </td><td>21.0925 </td><td>23.985  </td><td>23.91629</td><td>26.1825 </td><td>36.39   </td></tr>\n",
       "\t<tr><td>iPhone  </td><td>Walk    </td><td> 3.76   </td><td>15.5975 </td><td>19.000  </td><td>19.23408</td><td>22.2700 </td><td>34.90   </td></tr>\n",
       "</tbody>\n",
       "</table>\n"
      ],
      "text/latex": [
       "\\begin{tabular}{r|llllllll}\n",
       " Keyboard & Posture & Min. & 1st Qu. & Median & Mean & 3rd Qu. & Max.\\\\\n",
       "\\hline\n",
       "\t Galaxy   & Sit      & 18.66    & 22.5875  & 23.970   & 23.90979 & 25.0450  & 29.25   \\\\\n",
       "\t Galaxy   & Stand    & 13.52    & 19.0900  & 21.230   & 21.19183 & 23.1275  & 32.98   \\\\\n",
       "\t Galaxy   & Walk     &  0.63    &  8.5850  & 11.785   & 12.06554 & 15.7450  & 25.36   \\\\\n",
       "\t iPhone   & Sit      &  9.85    & 18.8050  & 20.880   & 20.95750 & 22.8475  & 28.55   \\\\\n",
       "\t iPhone   & Stand    & 10.76    & 21.0925  & 23.985   & 23.91629 & 26.1825  & 36.39   \\\\\n",
       "\t iPhone   & Walk     &  3.76    & 15.5975  & 19.000   & 19.23408 & 22.2700  & 34.90   \\\\\n",
       "\\end{tabular}\n"
      ],
      "text/markdown": [
       "\n",
       "Keyboard | Posture | Min. | 1st Qu. | Median | Mean | 3rd Qu. | Max. | \n",
       "|---|---|---|---|---|---|\n",
       "| Galaxy   | Sit      | 18.66    | 22.5875  | 23.970   | 23.90979 | 25.0450  | 29.25    | \n",
       "| Galaxy   | Stand    | 13.52    | 19.0900  | 21.230   | 21.19183 | 23.1275  | 32.98    | \n",
       "| Galaxy   | Walk     |  0.63    |  8.5850  | 11.785   | 12.06554 | 15.7450  | 25.36    | \n",
       "| iPhone   | Sit      |  9.85    | 18.8050  | 20.880   | 20.95750 | 22.8475  | 28.55    | \n",
       "| iPhone   | Stand    | 10.76    | 21.0925  | 23.985   | 23.91629 | 26.1825  | 36.39    | \n",
       "| iPhone   | Walk     |  3.76    | 15.5975  | 19.000   | 19.23408 | 22.2700  | 34.90    | \n",
       "\n",
       "\n"
      ],
      "text/plain": [
       "  Keyboard Posture Min.  1st Qu. Median Mean     3rd Qu. Max. \n",
       "1 Galaxy   Sit     18.66 22.5875 23.970 23.90979 25.0450 29.25\n",
       "2 Galaxy   Stand   13.52 19.0900 21.230 21.19183 23.1275 32.98\n",
       "3 Galaxy   Walk     0.63  8.5850 11.785 12.06554 15.7450 25.36\n",
       "4 iPhone   Sit      9.85 18.8050 20.880 20.95750 22.8475 28.55\n",
       "5 iPhone   Stand   10.76 21.0925 23.985 23.91629 26.1825 36.39\n",
       "6 iPhone   Walk     3.76 15.5975 19.000 19.23408 22.2700 34.90"
      ]
     },
     "metadata": {},
     "output_type": "display_data"
    }
   ],
   "source": [
    "# explore the WPM data\n",
    "library(\"plyr\")\n",
    "\n",
    "ddply(mbltxttrials, ~ Keyboard * Posture, function(data) summary(data$WPM))"
   ]
  },
  {
   "cell_type": "code",
   "execution_count": 20,
   "metadata": {},
   "outputs": [
    {
     "data": {
      "text/html": [
       "<table>\n",
       "<thead><tr><th scope=col>Keyboard</th><th scope=col>Posture</th><th scope=col>WPM.mean</th><th scope=col>WPM.sd</th></tr></thead>\n",
       "<tbody>\n",
       "\t<tr><td>Galaxy  </td><td>Sit     </td><td>23.90979</td><td>1.947672</td></tr>\n",
       "\t<tr><td>Galaxy  </td><td>Stand   </td><td>21.19183</td><td>2.977103</td></tr>\n",
       "\t<tr><td>Galaxy  </td><td>Walk    </td><td>12.06554</td><td>4.905870</td></tr>\n",
       "\t<tr><td>iPhone  </td><td>Sit     </td><td>20.95750</td><td>2.995498</td></tr>\n",
       "\t<tr><td>iPhone  </td><td>Stand   </td><td>23.91629</td><td>4.230597</td></tr>\n",
       "\t<tr><td>iPhone  </td><td>Walk    </td><td>19.23408</td><td>4.885713</td></tr>\n",
       "</tbody>\n",
       "</table>\n"
      ],
      "text/latex": [
       "\\begin{tabular}{r|llll}\n",
       " Keyboard & Posture & WPM.mean & WPM.sd\\\\\n",
       "\\hline\n",
       "\t Galaxy   & Sit      & 23.90979 & 1.947672\\\\\n",
       "\t Galaxy   & Stand    & 21.19183 & 2.977103\\\\\n",
       "\t Galaxy   & Walk     & 12.06554 & 4.905870\\\\\n",
       "\t iPhone   & Sit      & 20.95750 & 2.995498\\\\\n",
       "\t iPhone   & Stand    & 23.91629 & 4.230597\\\\\n",
       "\t iPhone   & Walk     & 19.23408 & 4.885713\\\\\n",
       "\\end{tabular}\n"
      ],
      "text/markdown": [
       "\n",
       "Keyboard | Posture | WPM.mean | WPM.sd | \n",
       "|---|---|---|---|---|---|\n",
       "| Galaxy   | Sit      | 23.90979 | 1.947672 | \n",
       "| Galaxy   | Stand    | 21.19183 | 2.977103 | \n",
       "| Galaxy   | Walk     | 12.06554 | 4.905870 | \n",
       "| iPhone   | Sit      | 20.95750 | 2.995498 | \n",
       "| iPhone   | Stand    | 23.91629 | 4.230597 | \n",
       "| iPhone   | Walk     | 19.23408 | 4.885713 | \n",
       "\n",
       "\n"
      ],
      "text/plain": [
       "  Keyboard Posture WPM.mean WPM.sd  \n",
       "1 Galaxy   Sit     23.90979 1.947672\n",
       "2 Galaxy   Stand   21.19183 2.977103\n",
       "3 Galaxy   Walk    12.06554 4.905870\n",
       "4 iPhone   Sit     20.95750 2.995498\n",
       "5 iPhone   Stand   23.91629 4.230597\n",
       "6 iPhone   Walk    19.23408 4.885713"
      ]
     },
     "metadata": {},
     "output_type": "display_data"
    }
   ],
   "source": [
    "ddply(mbltxttrials, ~ Keyboard * Posture, summarise, \n",
    "         WPM.mean = mean(WPM),\n",
    "         WPM.sd = sd(WPM))"
   ]
  },
  {
   "cell_type": "code",
   "execution_count": 21,
   "metadata": {
    "scrolled": false
   },
   "outputs": [
    {
     "data": {
      "image/png": "[encoded data removed]",
      "text/plain": [
       "Plot with title \"Histogram of mbltxttrials[mbltxttrials$Keyboard == \"iPhone\" & mbltxttrials$Posture == \"Sit\", ]$WPM\""
      ]
     },
     "metadata": {},
     "output_type": "display_data"
    },
    {
     "data": {
      "image/png": "[encoded data removed]",
      "text/plain": [
       "Plot with title \"Histogram of mbltxttrials[mbltxttrials$Keyboard == \"iPhone\" & mbltxttrials$Posture == \"Stand\", ]$WPM\""
      ]
     },
     "metadata": {},
     "output_type": "display_data"
    },
    {
     "data": {
      "image/png": "[encoded data removed]",
      "text/plain": [
       "Plot with title \"Histogram of mbltxttrials[mbltxttrials$Keyboard == \"iPhone\" & mbltxttrials$Posture == \"Walk\", ]$WPM\""
      ]
     },
     "metadata": {},
     "output_type": "display_data"
    },
    {
     "data": {
      "image/png": "[encoded data removed]",
      "text/plain": [
       "Plot with title \"Histogram of mbltxttrials[mbltxttrials$Keyboard == \"Galaxy\" & mbltxttrials$Posture == \"Sit\", ]$WPM\""
      ]
     },
     "metadata": {},
     "output_type": "display_data"
    },
    {
     "data": {
      "image/png": "[encoded data removed]",
      "text/plain": [
       "Plot with title \"Histogram of mbltxttrials[mbltxttrials$Keyboard == \"Galaxy\" & mbltxttrials$Posture == \"Stand\", ]$WPM\""
      ]
     },
     "metadata": {},
     "output_type": "display_data"
    },
    {
     "data": {
      "image/png": "[encoded data removed]",
      "text/plain": [
       "Plot with title \"Histogram of mbltxttrials[mbltxttrials$Keyboard == \"Galaxy\" & mbltxttrials$Posture == \"Walk\", ]$WPM\""
      ]
     },
     "metadata": {},
     "output_type": "display_data"
    }
   ],
   "source": [
    "# histogram for the 2 factors\n",
    "\n",
    "hist(mbltxttrials[mbltxttrials$Keyboard == \"iPhone\" & mbltxttrials$Posture == \"Sit\",]$WPM)\n",
    "hist(mbltxttrials[mbltxttrials$Keyboard == \"iPhone\" & mbltxttrials$Posture == \"Stand\",]$WPM)\n",
    "hist(mbltxttrials[mbltxttrials$Keyboard == \"iPhone\" & mbltxttrials$Posture == \"Walk\",]$WPM)\n",
    "hist(mbltxttrials[mbltxttrials$Keyboard == \"Galaxy\" & mbltxttrials$Posture == \"Sit\",]$WPM)\n",
    "hist(mbltxttrials[mbltxttrials$Keyboard == \"Galaxy\" & mbltxttrials$Posture == \"Stand\",]$WPM)\n",
    "hist(mbltxttrials[mbltxttrials$Keyboard == \"Galaxy\" & mbltxttrials$Posture == \"Walk\",]$WPM)"
   ]
  },
  {
   "cell_type": "code",
   "execution_count": 22,
   "metadata": {},
   "outputs": [
    {
     "data": {
      "image/png": "[encoded data removed]",
      "text/plain": [
       "plot without title"
      ]
     },
     "metadata": {},
     "output_type": "display_data"
    }
   ],
   "source": [
    "boxplot(WPM ~ Keyboard * Posture, data=mbltxttrials, xlab=\"Keyboard.Posture\", ylab=\"WPM\") # boxplots"
   ]
  },
  {
   "cell_type": "code",
   "execution_count": 23,
   "metadata": {},
   "outputs": [
    {
     "data": {
      "image/png": "[encoded data removed]",
      "text/plain": [
       "plot without title"
      ]
     },
     "metadata": {},
     "output_type": "display_data"
    }
   ],
   "source": [
    "with(mbltxttrials, interaction.plot(Posture, Keyboard, WPM, ylim=c(0, max(mbltxttrials$WPM)))) # interaction?"
   ]
  },
  {
   "cell_type": "code",
   "execution_count": 28,
   "metadata": {},
   "outputs": [],
   "source": [
    "# libraries for LMMs\n",
    "library(\"lme4\") # for lmer\n",
    "library(\"lmerTest\")\n",
    "library(\"car\") # for Anova"
   ]
  },
  {
   "cell_type": "markdown",
   "metadata": {},
   "source": [
    "We need to set some contrasts for each of these factors to be sum to zero contrasts. They really mean that when we do pairwise comparisons, we compare each of the levels evenly to each other. "
   ]
  },
  {
   "cell_type": "code",
   "execution_count": 29,
   "metadata": {
    "collapsed": true
   },
   "outputs": [],
   "source": [
    "# set sum to zero contrasts for the anova calls\n",
    "\n",
    "contrasts(mbltxttrials$Keyboard) <- \"contr.sum\"\n",
    "contrasts(mbltxttrials$Posture) <- \"contr.sum\"\n",
    "contrasts(mbltxttrials$Posture_Order) <- \"contr.sum\"\n",
    "contrasts(mbltxttrials$Trial) <- \"contr.sum\""
   ]
  },
  {
   "cell_type": "markdown",
   "metadata": {},
   "source": [
    "Then we'll move into the test of an order effect. So we want to make sure we counterbalanced posture order properly and that it doesn't have an order effect working. \n",
    "\n",
    "So we'll run our trial, our linear mixed model, with keyboard as a fixed effect."
   ]
  },
  {
   "cell_type": "code",
   "execution_count": 41,
   "metadata": {},
   "outputs": [
    {
     "data": {
      "text/html": [
       "<table>\n",
       "<thead><tr><th></th><th scope=col>F</th><th scope=col>Df</th><th scope=col>Df.res</th><th scope=col>Pr(&gt;F)</th></tr></thead>\n",
       "<tbody>\n",
       "\t<tr><th scope=row>(Intercept)</th><td>1.925211e+04</td><td>  1         </td><td>  22        </td><td>7.210305e-34</td></tr>\n",
       "\t<tr><th scope=row>Keyboard</th><td>6.305843e+01</td><td>  1         </td><td>  22        </td><td>6.674588e-08</td></tr>\n",
       "\t<tr><th scope=row>Posture_Order</th><td>8.445125e-01</td><td>  2         </td><td>1298        </td><td>4.300028e-01</td></tr>\n",
       "\t<tr><th scope=row>Keyboard:Posture_Order</th><td>4.627457e-02</td><td>  2         </td><td>1298        </td><td>9.547813e-01</td></tr>\n",
       "\t<tr><th scope=row>Keyboard:Posture_Order:Trial</th><td>4.828560e-01</td><td>114         </td><td>1298        </td><td>9.999989e-01</td></tr>\n",
       "</tbody>\n",
       "</table>\n"
      ],
      "text/latex": [
       "\\begin{tabular}{r|llll}\n",
       "  & F & Df & Df.res & Pr(>F)\\\\\n",
       "\\hline\n",
       "\t(Intercept) & 1.925211e+04 &   1          &   22         & 7.210305e-34\\\\\n",
       "\tKeyboard & 6.305843e+01 &   1          &   22         & 6.674588e-08\\\\\n",
       "\tPosture\\_Order & 8.445125e-01 &   2          & 1298         & 4.300028e-01\\\\\n",
       "\tKeyboard:Posture\\_Order & 4.627457e-02 &   2          & 1298         & 9.547813e-01\\\\\n",
       "\tKeyboard:Posture\\_Order:Trial & 4.828560e-01 & 114          & 1298         & 9.999989e-01\\\\\n",
       "\\end{tabular}\n"
      ],
      "text/markdown": [
       "\n",
       "| <!--/--> | F | Df | Df.res | Pr(>F) | \n",
       "|---|---|---|---|---|\n",
       "| (Intercept) | 1.925211e+04 |   1          |   22         | 7.210305e-34 | \n",
       "| Keyboard | 6.305843e+01 |   1          |   22         | 6.674588e-08 | \n",
       "| Posture_Order | 8.445125e-01 |   2          | 1298         | 4.300028e-01 | \n",
       "| Keyboard:Posture_Order | 4.627457e-02 |   2          | 1298         | 9.547813e-01 | \n",
       "| Keyboard:Posture_Order:Trial | 4.828560e-01 | 114          | 1298         | 9.999989e-01 | \n",
       "\n",
       "\n"
      ],
      "text/plain": [
       "                             F            Df  Df.res Pr(>F)      \n",
       "(Intercept)                  1.925211e+04   1   22   7.210305e-34\n",
       "Keyboard                     6.305843e+01   1   22   6.674588e-08\n",
       "Posture_Order                8.445125e-01   2 1298   4.300028e-01\n",
       "Keyboard:Posture_Order       4.627457e-02   2 1298   9.547813e-01\n",
       "Keyboard:Posture_Order:Trial 4.828560e-01 114 1298   9.999989e-01"
      ]
     },
     "metadata": {},
     "output_type": "display_data"
    }
   ],
   "source": [
    "# LMM order effect test\n",
    "# Keyboard, posture order, keyboard:posture order\n",
    "# and trial are all fixed effects. \n",
    "# trial is nested within keyboard, posture_order.\n",
    "# subject is a random effect. \n",
    "\n",
    "m <- lmer(WPM ~ (Keyboard * Posture_Order)/Trial + (1|Subject), data=mbltxttrials)\n",
    "Anova(m, type=3, test.statistic=\"F\")"
   ]
  },
  {
   "cell_type": "markdown",
   "metadata": {},
   "source": [
    "In the results, we can see that we have a significant p-value for keyboard. Thankfully, posture order is not statistically significant. And neither is posture order interacting with keyboard. Neither is the 3 way interaction with trial. So what this tells us is that we did adequately counterbalance and the order of presentation of the postures did nto in fact affect our data so that's good. \n",
    "\n",
    "So now we can move forward with some confidence to do the linear mixed model on words per minute. That's the response variable that we care about. \n",
    "\n",
    "We have the same model but this time, we're just encoding posture directly (not posture order). We can run our linear mixed model with that. A subject is again a random effect, which gives us the ability to model the within subjects aspect of posture. And we have trial nested within keyboard in posture."
   ]
  },
  {
   "cell_type": "code",
   "execution_count": 34,
   "metadata": {},
   "outputs": [
    {
     "data": {
      "text/html": [
       "<table>\n",
       "<thead><tr><th></th><th scope=col>F</th><th scope=col>Df</th><th scope=col>Df.res</th><th scope=col>Pr(&gt;F)</th></tr></thead>\n",
       "<tbody>\n",
       "\t<tr><th scope=row>(Intercept)</th><td>3.798468e+04 </td><td>  1          </td><td>  22         </td><td> 4.112447e-37</td></tr>\n",
       "\t<tr><th scope=row>Keyboard</th><td>1.244151e+02 </td><td>  1          </td><td>  22         </td><td> 1.596642e-10</td></tr>\n",
       "\t<tr><th scope=row>Posture</th><td>5.111322e+02 </td><td>  2          </td><td>1298         </td><td>1.911868e-164</td></tr>\n",
       "\t<tr><th scope=row>Keyboard:Posture</th><td>2.105635e+02 </td><td>  2          </td><td>1298         </td><td> 6.315523e-80</td></tr>\n",
       "\t<tr><th scope=row>Keyboard:Posture:Trial</th><td>9.132851e-01 </td><td>114          </td><td>1298         </td><td> 7.288184e-01</td></tr>\n",
       "</tbody>\n",
       "</table>\n"
      ],
      "text/latex": [
       "\\begin{tabular}{r|llll}\n",
       "  & F & Df & Df.res & Pr(>F)\\\\\n",
       "\\hline\n",
       "\t(Intercept) & 3.798468e+04  &   1           &   22          &  4.112447e-37\\\\\n",
       "\tKeyboard & 1.244151e+02  &   1           &   22          &  1.596642e-10\\\\\n",
       "\tPosture & 5.111322e+02  &   2           & 1298          & 1.911868e-164\\\\\n",
       "\tKeyboard:Posture & 2.105635e+02  &   2           & 1298          &  6.315523e-80\\\\\n",
       "\tKeyboard:Posture:Trial & 9.132851e-01  & 114           & 1298          &  7.288184e-01\\\\\n",
       "\\end{tabular}\n"
      ],
      "text/markdown": [
       "\n",
       "| <!--/--> | F | Df | Df.res | Pr(>F) | \n",
       "|---|---|---|---|---|\n",
       "| (Intercept) | 3.798468e+04  |   1           |   22          |  4.112447e-37 | \n",
       "| Keyboard | 1.244151e+02  |   1           |   22          |  1.596642e-10 | \n",
       "| Posture | 5.111322e+02  |   2           | 1298          | 1.911868e-164 | \n",
       "| Keyboard:Posture | 2.105635e+02  |   2           | 1298          |  6.315523e-80 | \n",
       "| Keyboard:Posture:Trial | 9.132851e-01  | 114           | 1298          |  7.288184e-01 | \n",
       "\n",
       "\n"
      ],
      "text/plain": [
       "                       F            Df  Df.res Pr(>F)       \n",
       "(Intercept)            3.798468e+04   1   22    4.112447e-37\n",
       "Keyboard               1.244151e+02   1   22    1.596642e-10\n",
       "Posture                5.111322e+02   2 1298   1.911868e-164\n",
       "Keyboard:Posture       2.105635e+02   2 1298    6.315523e-80\n",
       "Keyboard:Posture:Trial 9.132851e-01 114 1298    7.288184e-01"
      ]
     },
     "metadata": {},
     "output_type": "display_data"
    }
   ],
   "source": [
    "# main LMM test on WPM\n",
    "# Keyboard, posture, keyboarD:posture and trial are \n",
    "# all fixed effects. Trial is nested within keyboard,\n",
    "# posture. Subject is a random effect. \n",
    "\n",
    "m <- lmer(WPM ~ (Keyboard * Posture)/Trial + (1|Subject), data=mbltxttrials)\n",
    "Anova(m, type=3, test.statistic=\"F\")"
   ]
  },
  {
   "cell_type": "markdown",
   "metadata": {},
   "source": [
    "We can see here that keyboard is statistically significant. There's a difference in keyboard (we also found that previously in previous modules). There's a difference in posture (also found previously). And there's a significant keyboard posture interaction. All of which we discovered from our summarized data previously. But now, look at our degrees of freedom for posture and keyboard posture. The numerator degrees of freedom are 2 and the denominator is 1298. So that's retaining a large number of denominator degrees of freedom that we would report in our F Statistic. But don't be alarm as that's typical for linear mixed models. \n",
    "\n",
    "Incidentally, you might be wondering...well, if subjects were sampled randomly from a population that we want to generalize about, and we don't care about the specific levels like subject. That is the specific subjects themselves. Isn't that sort of true of trial as well? Isn't trial kind of a random effect? Possibly if it's sampled from a larger population of possible text entry phrases they might enter. And we don't really care the specific value of trial 1 to 20. The answer is yes - that's a reasonable thing to do and we can create a random effect trial in this fashion as well. "
   ]
  },
  {
   "cell_type": "code",
   "execution_count": 36,
   "metadata": {},
   "outputs": [
    {
     "data": {
      "text/html": [
       "<table>\n",
       "<thead><tr><th></th><th scope=col>F</th><th scope=col>Df</th><th scope=col>Df.res</th><th scope=col>Pr(&gt;F)</th></tr></thead>\n",
       "<tbody>\n",
       "\t<tr><th scope=row>(Intercept)</th><td>37984.6920  </td><td>1           </td><td> 18.55577   </td><td>3.464935e-32</td></tr>\n",
       "\t<tr><th scope=row>Keyboard</th><td>  124.4152  </td><td>1           </td><td> 18.55577   </td><td>1.152387e-09</td></tr>\n",
       "\t<tr><th scope=row>Posture</th><td>  514.7359  </td><td>2           </td><td>114.00000   </td><td>8.408654e-58</td></tr>\n",
       "\t<tr><th scope=row>Keyboard:Posture</th><td>  212.0481  </td><td>2           </td><td>114.00000   </td><td>3.842065e-39</td></tr>\n",
       "</tbody>\n",
       "</table>\n"
      ],
      "text/latex": [
       "\\begin{tabular}{r|llll}\n",
       "  & F & Df & Df.res & Pr(>F)\\\\\n",
       "\\hline\n",
       "\t(Intercept) & 37984.6920   & 1            &  18.55577    & 3.464935e-32\\\\\n",
       "\tKeyboard &   124.4152   & 1            &  18.55577    & 1.152387e-09\\\\\n",
       "\tPosture &   514.7359   & 2            & 114.00000    & 8.408654e-58\\\\\n",
       "\tKeyboard:Posture &   212.0481   & 2            & 114.00000    & 3.842065e-39\\\\\n",
       "\\end{tabular}\n"
      ],
      "text/markdown": [
       "\n",
       "| <!--/--> | F | Df | Df.res | Pr(>F) | \n",
       "|---|---|---|---|\n",
       "| (Intercept) | 37984.6920   | 1            |  18.55577    | 3.464935e-32 | \n",
       "| Keyboard |   124.4152   | 1            |  18.55577    | 1.152387e-09 | \n",
       "| Posture |   514.7359   | 2            | 114.00000    | 8.408654e-58 | \n",
       "| Keyboard:Posture |   212.0481   | 2            | 114.00000    | 3.842065e-39 | \n",
       "\n",
       "\n"
      ],
      "text/plain": [
       "                 F          Df Df.res    Pr(>F)      \n",
       "(Intercept)      37984.6920 1   18.55577 3.464935e-32\n",
       "Keyboard           124.4152 1   18.55577 1.152387e-09\n",
       "Posture            514.7359 2  114.00000 8.408654e-58\n",
       "Keyboard:Posture   212.0481 2  114.00000 3.842065e-39"
      ]
     },
     "metadata": {},
     "output_type": "display_data"
    }
   ],
   "source": [
    "# we should consider trial to be a random effect \n",
    "# and we obtain almost exactly the same results\n",
    "# but it takes longer to run. \n",
    "\n",
    "m <- lmer(WPM ~ Keyboard * Posture + (1|Keyboard:Posture:Trial) + (1|Subject), data=mbltxttrials)\n",
    "Anova(m, type=3, test.statistic=\"F\")"
   ]
  },
  {
   "cell_type": "markdown",
   "metadata": {},
   "source": [
    "In light of the overall signficant result, the omnibus test, we can do some pairwise comparisons. We can execute a pairwise comparison among the levels of keyboard and posture. "
   ]
  },
  {
   "cell_type": "code",
   "execution_count": 38,
   "metadata": {},
   "outputs": [
    {
     "name": "stderr",
     "output_type": "stream",
     "text": [
      "Note: df set to 88\n"
     ]
    },
    {
     "data": {
      "text/plain": [
       "\n",
       "\t Simultaneous Tests for General Linear Hypotheses\n",
       "\n",
       "Fit: lmer(formula = WPM ~ Keyboard * Posture + (1 | Keyboard:Posture:Trial) + \n",
       "    (1 | Subject), data = mbltxttrials)\n",
       "\n",
       "Linear Hypotheses:\n",
       "                                 Estimate Std. Error t value Pr(>|t|)    \n",
       "Galaxy,Sit - iPhone,Sit == 0       2.9523     0.3520   8.386 5.25e-12 ***\n",
       "Galaxy,Sit - Galaxy,Stand == 0     2.7180     0.3484   7.802 7.04e-11 ***\n",
       "Galaxy,Sit - iPhone,Stand == 0    -0.0065     0.3520  -0.018        1    \n",
       "Galaxy,Sit - Galaxy,Walk == 0     11.8443     0.3484  33.999  < 2e-16 ***\n",
       "Galaxy,Sit - iPhone,Walk == 0      4.6757     0.3520  13.282  < 2e-16 ***\n",
       "iPhone,Sit - Galaxy,Stand == 0    -0.2343     0.3520  -0.666        1    \n",
       "iPhone,Sit - iPhone,Stand == 0    -2.9588     0.3484  -8.493 3.62e-12 ***\n",
       "iPhone,Sit - Galaxy,Walk == 0      8.8920     0.3520  25.259  < 2e-16 ***\n",
       "iPhone,Sit - iPhone,Walk == 0      1.7234     0.3484   4.947 1.08e-05 ***\n",
       "Galaxy,Stand - iPhone,Stand == 0  -2.7245     0.3520  -7.739 7.88e-11 ***\n",
       "Galaxy,Stand - Galaxy,Walk == 0    9.1263     0.3484  26.197  < 2e-16 ***\n",
       "Galaxy,Stand - iPhone,Walk == 0    1.9578     0.3520   5.561 1.14e-06 ***\n",
       "iPhone,Stand - Galaxy,Walk == 0   11.8507     0.3520  33.663  < 2e-16 ***\n",
       "iPhone,Stand - iPhone,Walk == 0    4.6822     0.3484  13.440  < 2e-16 ***\n",
       "Galaxy,Walk - iPhone,Walk == 0    -7.1685     0.3520 -20.363  < 2e-16 ***\n",
       "---\n",
       "Signif. codes:  0 '***' 0.001 '**' 0.01 '*' 0.05 '.' 0.1 ' ' 1\n",
       "(Adjusted p values reported -- holm method)\n"
      ]
     },
     "metadata": {},
     "output_type": "display_data"
    },
    {
     "data": {
      "image/png": "[encoded data removed]",
      "text/plain": [
       "plot without title"
      ]
     },
     "metadata": {},
     "output_type": "display_data"
    }
   ],
   "source": [
    "# perform post-hoc pairwise comparisons\n",
    "library(\"multcomp\")\n",
    "library(\"lsmeans\")\n",
    "\n",
    "summary(glht(m, lsm(pairwise ~ Keyboard * Posture)), test=adjusted(type=\"holm\"))\n",
    "with(mbltxttrials, interaction.plot(Posture, Keyboard, WPM, ylim=c(0, max(mbltxttrials$WPM))))"
   ]
  },
  {
   "cell_type": "markdown",
   "metadata": {},
   "source": [
    "There's a quite a few combinations so we end up with a little bit longer output. We can see here that we have all of the pairwise comparisons available to us across all of these levels in our interaction plot. \n",
    "\n",
    "We want to notice a few things here. All of these pairwise differences seem significant and they are corrected for multiple comparison and that's very important when doing this many of them. "
   ]
  },
  {
   "cell_type": "code",
   "execution_count": 42,
   "metadata": {},
   "outputs": [
    {
     "data": {
      "image/png": "[encoded data removed]",
      "text/plain": [
       "plot without title"
      ]
     },
     "metadata": {},
     "output_type": "display_data"
    }
   ],
   "source": [
    "boxplot(WPM ~ Keyboard * Posture, data=mbltxttrials, xlab=\"Keyboard.Posture\", ylab=\"WPM\") # boxplots"
   ]
  },
  {
   "cell_type": "code",
   "execution_count": null,
   "metadata": {
    "collapsed": true
   },
   "outputs": [],
   "source": []
  }
 ],
 "metadata": {
  "kernelspec": {
   "display_name": "R",
   "language": "R",
   "name": "ir"
  },
  "language_info": {
   "codemirror_mode": "r",
   "file_extension": ".r",
   "mimetype": "text/x-r-source",
   "name": "R",
   "pygments_lexer": "r",
   "version": "3.4.1"
  }
 },
 "nbformat": 4,
 "nbformat_minor": 2
}
