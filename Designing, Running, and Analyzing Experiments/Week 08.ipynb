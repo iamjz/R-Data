{
 "cells": [
  {
   "cell_type": "markdown",
   "metadata": {
    "collapsed": true
   },
   "source": [
    "# Introduction\n",
    "\n",
    "So far in this course, we've looked at ANOVAs for parametric test, analyses of variances, and all of these have fallen into the category of linear models, which we'll abbreviate as LM. \n",
    "\n",
    "And the ANVOAs that we've used are examples of linear models. \n",
    "\n",
    "But there's a generalization of linear models called: Generalized Linear Models. \n",
    "\n",
    "How do they generalize the linear model? Conceptually, what you can think of is that the linear model relates our factors or what are called predictor variables, the things we're manipulating in an experiment, it relates them to a response that's generally considered to be normal in nature. \n",
    "\n",
    "The generalized linear model goes beyond the relationship of predictors to our response being normal to allow for those other kinds of distributions that we looked at previously. I won't draw them all again but we'll remember the lognormal distribution and we'll remember things like the exponential distribution, the Poisson distribution, gamme distribution, bionomial or multinomial distributions that we talked about previously. \n",
    "\n",
    "When we generalize the model to these other distributions, we're able to analyze data that would otherwise perhaps violate the assumptions of ANOVA or not be suitable to just the regular linear model. \n",
    "\n",
    "So we're going to use GLMs to revisit some of the data that we analyzed previously in other ways. And we'll show that these generalized linear models are quite powerful and versatile. \n",
    "\n",
    "The generalized linear model can only handle between-subjects factors. So we'll be looking at just between-subjects situations for the generalized lienar model. And later in the course, we'll consider the generalized linear mixed model and the linear mixed model, which add the opportunity to do within-subjects analyses of experiments. For now, we'll be working with between-subjects with the generalized linear model. \n",
    "\n",
    "And we'll look at 3 examples. \n",
    "\n",
    "We'll look at our prefs ABC sex data, where we saw website preference respones from men and women in 3 categories (Website A, B, or C). Originally, we analyzed that with a chi-squared test. We analyzed it with a 2 sample chi-squared test. Next, we'll use something called multinomial logistic regression. And you'll recall the word multinomial is related to the multinomal distribution. It's when we have multiple categories of responses. \n",
    "\n",
    "We also will look again at our search, scroll, and voice data. And in particular, the effort ratings on the Likert scales. So we had a 1 to 7 effort score that people gave. \n",
    "\n",
    "You might recall that this was about using search, scroll, and voice on a smartphone to find contacts in a contacts manager. Now this was originally a within-subjects rating. We'll recode it to pretend it's a between-subjects variable and comply with the between-subjects requirement for generalized linear models. Previously, we analyzed this with a Friedman test. \n",
    "\n",
    "With a between-subjects approach to this, we'll analyze it with something called ordinal logistic regression. Ordinal because we have an ordinal response variable. It's related to multinomial logistic regression but for ordinal responses. And last, we're going to also look in search, scroll, and voice but at the error counts. The errors counts were the errors made while finding contacts in the contacts manager. We originally analyzed that also with a Friedman test. Here, we'll assume again they were between subjects and we'll use Posisson regression to analyze those counts. You might recall we did test early on, knowing this was coming, to see whether those counts were Poisson distributed. \n",
    "\n",
    "All of these, Poisson, ordinal, multinomial, are forms of generalized linear models. And we'll see the power of these models to analyze non-numeric responses in these cases, and non-normally distributed data, discrete data distributed in a Poisson model in this case."
   ]
  },
  {
   "cell_type": "markdown",
   "metadata": {},
   "source": [
    "# Analyzing 3 Generalized Linear Models (GLM)"
   ]
  },
  {
   "cell_type": "markdown",
   "metadata": {},
   "source": [
    "Note that what we've done so far in the linear model actually is incorporated in a generalized linear model as well. It would be using the normal distribution as part of the generalized model. Generalized linear models also have, besides their distribution they're considering, something called the link function, and that's how the predictors or the factors relate to the mean of the response. Each distribution in a generalized linear model has a kind of canonical link function that goes with it and we'll always use the canonical one. But you can look into this further and see that you can actually have different link functions along with different distributions. "
   ]
  },
  {
   "cell_type": "markdown",
   "metadata": {},
   "source": [
    "Our first example is going to use what I previously called multinomial logistic regression. Sometimes, it's called nominal logistic regression. And that's because, we're analyzing nominal variables or categorical variables as a response. We did this in our previous data, prefsABCsex, where we saw the preferences of males and females for 3 different websites (A, B, C). So this will use the multinomal distribution with what's called the logit link function. \n",
    "\n",
    "Our question is: Did people's preference vary by their sex? Did males or females prefer different website designs?"
   ]
  },
  {
   "cell_type": "code",
   "execution_count": 784,
   "metadata": {},
   "outputs": [
    {
     "data": {
      "text/html": [
       "<table>\n",
       "<thead><tr><th scope=col>Subject</th><th scope=col>Pref</th><th scope=col>Sex</th></tr></thead>\n",
       "<tbody>\n",
       "\t<tr><td>1</td><td>C</td><td>F</td></tr>\n",
       "\t<tr><td>2</td><td>C</td><td>M</td></tr>\n",
       "\t<tr><td>3</td><td>B</td><td>M</td></tr>\n",
       "\t<tr><td>4</td><td>C</td><td>M</td></tr>\n",
       "\t<tr><td>5</td><td>C</td><td>M</td></tr>\n",
       "\t<tr><td>6</td><td>B</td><td>F</td></tr>\n",
       "</tbody>\n",
       "</table>\n"
      ],
      "text/latex": [
       "\\begin{tabular}{r|lll}\n",
       " Subject & Pref & Sex\\\\\n",
       "\\hline\n",
       "\t 1 & C & F\\\\\n",
       "\t 2 & C & M\\\\\n",
       "\t 3 & B & M\\\\\n",
       "\t 4 & C & M\\\\\n",
       "\t 5 & C & M\\\\\n",
       "\t 6 & B & F\\\\\n",
       "\\end{tabular}\n"
      ],
      "text/markdown": [
       "\n",
       "Subject | Pref | Sex | \n",
       "|---|---|---|---|---|---|\n",
       "| 1 | C | F | \n",
       "| 2 | C | M | \n",
       "| 3 | B | M | \n",
       "| 4 | C | M | \n",
       "| 5 | C | M | \n",
       "| 6 | B | F | \n",
       "\n",
       "\n"
      ],
      "text/plain": [
       "  Subject Pref Sex\n",
       "1 1       C    F  \n",
       "2 2       C    M  \n",
       "3 3       B    M  \n",
       "4 4       C    M  \n",
       "5 5       C    M  \n",
       "6 6       B    F  "
      ]
     },
     "metadata": {},
     "output_type": "display_data"
    }
   ],
   "source": [
    "# Generalized Linear Models (GLM) extend Linear Models (LM) for studies \n",
    "# with between-Ss factors to acommodate nominal (incl. binomial) or ordinal \n",
    "# responses, or with non-normal response distributions (e.g., Poisson, \n",
    "# exponential, gamma). All GLMs have a distribution and a link fn relating \n",
    "# their factors to their response. The GLM generalizes the LM, which is a \n",
    "# GLM with a normal distribution and \"identity\" link fn. See, e.g., \n",
    "# http://en.wikipedia.org/wiki/Generalized_linear_model\n",
    "\n",
    "prefsABCsex.2 <- read.csv(\"materials/prefsABCsex.csv\")\n",
    "head(prefsABCsex.2)"
   ]
  },
  {
   "cell_type": "code",
   "execution_count": 785,
   "metadata": {
    "collapsed": true
   },
   "outputs": [],
   "source": [
    "prefsABCsex.2$Subject <- as.factor(prefsABCsex.2$Subject)"
   ]
  },
  {
   "cell_type": "code",
   "execution_count": 786,
   "metadata": {},
   "outputs": [
    {
     "data": {
      "text/plain": [
       "    Subject   Pref   Sex   \n",
       " 1      : 1   A: 8   F:29  \n",
       " 2      : 1   B:21   M:31  \n",
       " 3      : 1   C:31         \n",
       " 4      : 1                \n",
       " 5      : 1                \n",
       " 6      : 1                \n",
       " (Other):54                "
      ]
     },
     "metadata": {},
     "output_type": "display_data"
    }
   ],
   "source": [
    "summary(prefsABCsex.2)"
   ]
  },
  {
   "cell_type": "code",
   "execution_count": 787,
   "metadata": {},
   "outputs": [
    {
     "data": {
      "image/png": "[encoded data removed]",
      "text/plain": [
       "plot without title"
      ]
     },
     "metadata": {},
     "output_type": "display_data"
    }
   ],
   "source": [
    "plot(prefsABCsex.2[prefsABCsex.2$Sex == \"M\",]$Pref)"
   ]
  },
  {
   "cell_type": "code",
   "execution_count": 788,
   "metadata": {},
   "outputs": [
    {
     "data": {
      "image/png": "[encoded data removed]",
      "text/plain": [
       "plot without title"
      ]
     },
     "metadata": {},
     "output_type": "display_data"
    }
   ],
   "source": [
    "plot(prefsABCsex.2[prefsABCsex.2$Sex == \"F\",]$Pref)"
   ]
  },
  {
   "cell_type": "code",
   "execution_count": 789,
   "metadata": {},
   "outputs": [
    {
     "data": {
      "text/html": [
       "<table>\n",
       "<thead><tr><th scope=col>Subject</th><th scope=col>Pref</th><th scope=col>Sex</th></tr></thead>\n",
       "<tbody>\n",
       "\t<tr><td>1</td><td>C</td><td>F</td></tr>\n",
       "\t<tr><td>2</td><td>C</td><td>M</td></tr>\n",
       "\t<tr><td>3</td><td>B</td><td>M</td></tr>\n",
       "\t<tr><td>4</td><td>C</td><td>M</td></tr>\n",
       "\t<tr><td>5</td><td>C</td><td>M</td></tr>\n",
       "\t<tr><td>6</td><td>B</td><td>F</td></tr>\n",
       "</tbody>\n",
       "</table>\n"
      ],
      "text/latex": [
       "\\begin{tabular}{r|lll}\n",
       " Subject & Pref & Sex\\\\\n",
       "\\hline\n",
       "\t 1 & C & F\\\\\n",
       "\t 2 & C & M\\\\\n",
       "\t 3 & B & M\\\\\n",
       "\t 4 & C & M\\\\\n",
       "\t 5 & C & M\\\\\n",
       "\t 6 & B & F\\\\\n",
       "\\end{tabular}\n"
      ],
      "text/markdown": [
       "\n",
       "Subject | Pref | Sex | \n",
       "|---|---|---|---|---|---|\n",
       "| 1 | C | F | \n",
       "| 2 | C | M | \n",
       "| 3 | B | M | \n",
       "| 4 | C | M | \n",
       "| 5 | C | M | \n",
       "| 6 | B | F | \n",
       "\n",
       "\n"
      ],
      "text/plain": [
       "  Subject Pref Sex\n",
       "1 1       C    F  \n",
       "2 2       C    M  \n",
       "3 3       B    M  \n",
       "4 4       C    M  \n",
       "5 5       C    M  \n",
       "6 6       B    F  "
      ]
     },
     "metadata": {},
     "output_type": "display_data"
    }
   ],
   "source": [
    "head(prefsABCsex.2)"
   ]
  },
  {
   "cell_type": "code",
   "execution_count": 790,
   "metadata": {
    "collapsed": true
   },
   "outputs": [],
   "source": [
    "## GLM 1: Nominal logistic regression for preference responses\n",
    "## -----  Multinomial distribution w/ logit link fn"
   ]
  },
  {
   "cell_type": "code",
   "execution_count": 791,
   "metadata": {},
   "outputs": [
    {
     "data": {
      "text/html": [
       "<table>\n",
       "<tbody>\n",
       "\t<tr><th scope=row>F</th><td> 1</td></tr>\n",
       "\t<tr><th scope=row>M</th><td>-1</td></tr>\n",
       "</tbody>\n",
       "</table>\n"
      ],
      "text/latex": [
       "\\begin{tabular}{r|l}\n",
       "\tF &  1\\\\\n",
       "\tM & -1\\\\\n",
       "\\end{tabular}\n"
      ],
      "text/markdown": [
       "\n",
       "| F |  1 | \n",
       "| M | -1 | \n",
       "\n",
       "\n"
      ],
      "text/plain": [
       "  [,1]\n",
       "F  1  \n",
       "M -1  "
      ]
     },
     "metadata": {},
     "output_type": "display_data"
    }
   ],
   "source": [
    "# analyze Pref by Sex with multinomial logistic regression,\n",
    "# also sometimes called nominal logistic regression\n",
    "\n",
    "library(\"nnet\") # for multinom\n",
    "library(\"car\") # for anova\n",
    "\n",
    "# set sum to zero contrasts for the anova call\n",
    "contrasts(prefsABCsex.2$Sex) <- \"contr.sum\"\n",
    "\n",
    "contrasts(prefsABCsex.2$Sex)"
   ]
  },
  {
   "cell_type": "code",
   "execution_count": 792,
   "metadata": {},
   "outputs": [
    {
     "name": "stdout",
     "output_type": "stream",
     "text": [
      "# weights:  9 (4 variable)\n",
      "initial  value 65.916737 \n",
      "iter  10 value 55.099353\n",
      "iter  10 value 55.099353\n",
      "final  value 55.099353 \n",
      "converged\n"
     ]
    },
    {
     "data": {
      "text/html": [
       "<table>\n",
       "<thead><tr><th></th><th scope=col>LR Chisq</th><th scope=col>Df</th><th scope=col>Pr(&gt;Chisq)</th></tr></thead>\n",
       "<tbody>\n",
       "\t<tr><th scope=row>Sex</th><td>7.074429  </td><td>2         </td><td>0.02909426</td></tr>\n",
       "</tbody>\n",
       "</table>\n"
      ],
      "text/latex": [
       "\\begin{tabular}{r|lll}\n",
       "  & LR Chisq & Df & Pr(>Chisq)\\\\\n",
       "\\hline\n",
       "\tSex & 7.074429   & 2          & 0.02909426\\\\\n",
       "\\end{tabular}\n"
      ],
      "text/markdown": [
       "\n",
       "| <!--/--> | LR Chisq | Df | Pr(>Chisq) | \n",
       "|---|\n",
       "| Sex | 7.074429   | 2          | 0.02909426 | \n",
       "\n",
       "\n"
      ],
      "text/plain": [
       "    LR Chisq Df Pr(>Chisq)\n",
       "Sex 7.074429 2  0.02909426"
      ]
     },
     "metadata": {},
     "output_type": "display_data"
    }
   ],
   "source": [
    "m <- multinom(Pref ~ Sex, data=prefsABCsex.2)\n",
    "Anova(m, type=3) \n",
    "\n",
    "# note: if Pref had only 2 response categories, we might us \n",
    "# binomial regression, which uses the same syntax as poisson regression\n",
    "# but with family=binomial"
   ]
  },
  {
   "cell_type": "markdown",
   "metadata": {},
   "source": [
    "Here in our omnibus (overall) test, we see a significant p-value of less than 0.05. So that's saying that it does seem that sex did affect the preferences distribution that we have in our data and we've just seen that in our plots. We see differences between the sexes. \n",
    "\n",
    "Because we have a significan overall test, we can reach in and look a bit more at these levels individually. And we can do that by looking at how the proportion of responses was within each of the sexes. Did any of those responses deviate signficantly from what we would expect by chance? "
   ]
  },
  {
   "cell_type": "code",
   "execution_count": 793,
   "metadata": {},
   "outputs": [
    {
     "data": {
      "text/html": [
       "<ol class=list-inline>\n",
       "\t<li>0.109473563767907</li>\n",
       "\t<li>0.126622171855485</li>\n",
       "\t<li>0.00129675403508036</li>\n",
       "</ol>\n"
      ],
      "text/latex": [
       "\\begin{enumerate*}\n",
       "\\item 0.109473563767907\n",
       "\\item 0.126622171855485\n",
       "\\item 0.00129675403508036\n",
       "\\end{enumerate*}\n"
      ],
      "text/markdown": [
       "1. 0.109473563767907\n",
       "2. 0.126622171855485\n",
       "3. 0.00129675403508036\n",
       "\n",
       "\n"
      ],
      "text/plain": [
       "[1] 0.109473564 0.126622172 0.001296754"
      ]
     },
     "metadata": {},
     "output_type": "display_data"
    }
   ],
   "source": [
    "# recall our testing from before to see which preferences by males were\n",
    "# significantly different from chance (answer: really liked C).\n",
    "\n",
    "ma <- binom.test(\n",
    "        sum(prefsABCsex.2[prefsABCsex.2$Sex == \"M\",]$Pref == \"A\"), \n",
    "                     nrow(prefsABCsex.2[prefsABCsex.2$Sex == \"M\",]), \n",
    "                     p=1/3)\n",
    "\n",
    "mb <- binom.test(\n",
    "        sum(prefsABCsex.2[prefsABCsex.2$Sex == \"M\",]$Pref == \"B\"), \n",
    "                     nrow(prefsABCsex.2[prefsABCsex.2$Sex == \"M\",]), \n",
    "                     p=1/3)\n",
    "\n",
    "mc <- binom.test(\n",
    "        sum(prefsABCsex.2[prefsABCsex.2$Sex == \"M\",]$Pref == \"C\"), \n",
    "                     nrow(prefsABCsex.2[prefsABCsex.2$Sex == \"M\",]), \n",
    "                     p=1/3)\n",
    "\n",
    "p.adjust(c(ma$p.value, mb$p.value, mc$p.value), method=\"holm\") # correct for multiple comparisons"
   ]
  },
  {
   "cell_type": "markdown",
   "metadata": {},
   "source": [
    "For website C, we do have a significant result. There is preference for C for men"
   ]
  },
  {
   "cell_type": "code",
   "execution_count": 794,
   "metadata": {},
   "outputs": [
    {
     "data": {
      "text/html": [
       "<ol class=list-inline>\n",
       "\t<li>0.0270327355020827</li>\n",
       "\t<li>0.0944782072896456</li>\n",
       "\t<li>0.693969513615019</li>\n",
       "</ol>\n"
      ],
      "text/latex": [
       "\\begin{enumerate*}\n",
       "\\item 0.0270327355020827\n",
       "\\item 0.0944782072896456\n",
       "\\item 0.693969513615019\n",
       "\\end{enumerate*}\n"
      ],
      "text/markdown": [
       "1. 0.0270327355020827\n",
       "2. 0.0944782072896456\n",
       "3. 0.693969513615019\n",
       "\n",
       "\n"
      ],
      "text/plain": [
       "[1] 0.02703274 0.09447821 0.69396951"
      ]
     },
     "metadata": {},
     "output_type": "display_data"
    }
   ],
   "source": [
    "# and for females, their preferences differed significantly from \n",
    "# chance for a different choice (answer: really disliked A).\n",
    "\n",
    "fa <- binom.test(\n",
    "        sum(prefsABCsex.2[prefsABCsex.2$Sex == \"F\",]$Pref == \"A\"), \n",
    "        nrow(prefsABCsex.2[prefsABCsex.2$Sex == \"F\",]), \n",
    "        p=1/3)\n",
    "\n",
    "fb <- binom.test(\n",
    "        sum(prefsABCsex.2[prefsABCsex.2$Sex == \"F\",]$Pref == \"B\"), \n",
    "        nrow(prefsABCsex.2[prefsABCsex.2$Sex == \"F\",]), \n",
    "        p=1/3)\n",
    "\n",
    "fc <- binom.test(\n",
    "        sum(prefsABCsex.2[prefsABCsex.2$Sex == \"F\",]$Pref == \"C\"), \n",
    "        nrow(prefsABCsex.2[prefsABCsex.2$Sex == \"F\",]), \n",
    "        p=1/3)\n",
    "\n",
    "p.adjust(c(fa$p.value, fb$p.value, fc$p.value), method=\"holm\") # correct for multiple comparisons"
   ]
  },
  {
   "cell_type": "markdown",
   "metadata": {},
   "source": [
    "For females, they really disliked website A as that p-value is significant. In short, men really liked website C whereas women really disliked website A. That's why gender has a significant effect on website preference. \n",
    "\n",
    "\n",
    "Let's now move on to our second generalized linear model where we have an ordinal response. We'll use ordinal logistic regression for Likert type response (1 to 7). This will actually use multinomial distribution with cumulative logit link function. "
   ]
  },
  {
   "cell_type": "code",
   "execution_count": 795,
   "metadata": {},
   "outputs": [
    {
     "data": {
      "text/html": [
       "<table>\n",
       "<thead><tr><th scope=col>Subject</th><th scope=col>Technique</th><th scope=col>Order</th><th scope=col>Time</th><th scope=col>Errors</th><th scope=col>Effort</th></tr></thead>\n",
       "<tbody>\n",
       "\t<tr><td>1     </td><td>Search</td><td>1     </td><td> 98   </td><td>4     </td><td>5     </td></tr>\n",
       "\t<tr><td>1     </td><td>Scroll</td><td>2     </td><td>152   </td><td>0     </td><td>6     </td></tr>\n",
       "\t<tr><td>2     </td><td>Search</td><td>2     </td><td> 57   </td><td>2     </td><td>2     </td></tr>\n",
       "\t<tr><td>2     </td><td>Scroll</td><td>1     </td><td>148   </td><td>0     </td><td>3     </td></tr>\n",
       "\t<tr><td>3     </td><td>Search</td><td>1     </td><td> 86   </td><td>3     </td><td>2     </td></tr>\n",
       "\t<tr><td>3     </td><td>Scroll</td><td>2     </td><td>160   </td><td>0     </td><td>4     </td></tr>\n",
       "</tbody>\n",
       "</table>\n"
      ],
      "text/latex": [
       "\\begin{tabular}{r|llllll}\n",
       " Subject & Technique & Order & Time & Errors & Effort\\\\\n",
       "\\hline\n",
       "\t 1      & Search & 1      &  98    & 4      & 5     \\\\\n",
       "\t 1      & Scroll & 2      & 152    & 0      & 6     \\\\\n",
       "\t 2      & Search & 2      &  57    & 2      & 2     \\\\\n",
       "\t 2      & Scroll & 1      & 148    & 0      & 3     \\\\\n",
       "\t 3      & Search & 1      &  86    & 3      & 2     \\\\\n",
       "\t 3      & Scroll & 2      & 160    & 0      & 4     \\\\\n",
       "\\end{tabular}\n"
      ],
      "text/markdown": [
       "\n",
       "Subject | Technique | Order | Time | Errors | Effort | \n",
       "|---|---|---|---|---|---|\n",
       "| 1      | Search | 1      |  98    | 4      | 5      | \n",
       "| 1      | Scroll | 2      | 152    | 0      | 6      | \n",
       "| 2      | Search | 2      |  57    | 2      | 2      | \n",
       "| 2      | Scroll | 1      | 148    | 0      | 3      | \n",
       "| 3      | Search | 1      |  86    | 3      | 2      | \n",
       "| 3      | Scroll | 2      | 160    | 0      | 4      | \n",
       "\n",
       "\n"
      ],
      "text/plain": [
       "  Subject Technique Order Time Errors Effort\n",
       "1 1       Search    1      98  4      5     \n",
       "2 1       Scroll    2     152  0      6     \n",
       "3 2       Search    2      57  2      2     \n",
       "4 2       Scroll    1     148  0      3     \n",
       "5 3       Search    1      86  3      2     \n",
       "6 3       Scroll    2     160  0      4     "
      ]
     },
     "metadata": {},
     "output_type": "display_data"
    }
   ],
   "source": [
    "## GLM 2: Ordinal logistic regression for Likert responses\n",
    "## -----  Multinomial distribution w/ cumulative logit link fn\n",
    "\n",
    "# re-read our data showing Effort Likert rating for finding contacts on a smartphone\n",
    "srchscrlvce.2 <- read.csv(\"materials/srchscrlvce.csv\")\n",
    "\n",
    "head(srchscrlvce.2)"
   ]
  },
  {
   "cell_type": "code",
   "execution_count": 796,
   "metadata": {},
   "outputs": [],
   "source": [
    "# recode as between-Ss study. we're using the data but faking it so every record is a different subject. \n",
    "srchscrlvce.2$Subject <- (1:nrow(srchscrlvce.2)) \n",
    "\n",
    "srchscrlvce.2$Subject <- as.factor(srchscrlvce.2$Subject)\n",
    "srchscrlvce.2$Order <- NULL # drop this "
   ]
  },
  {
   "cell_type": "code",
   "execution_count": 797,
   "metadata": {},
   "outputs": [
    {
     "data": {
      "text/plain": [
       "    Subject    Technique       Time           Errors         Effort    \n",
       " 1      : 1   Scroll:20   Min.   : 49.0   Min.   :0.00   Min.   :1.00  \n",
       " 2      : 1   Search:20   1st Qu.: 86.0   1st Qu.:1.00   1st Qu.:3.00  \n",
       " 3      : 1   Voice :20   Median : 97.0   Median :2.00   Median :4.00  \n",
       " 4      : 1               Mean   :106.2   Mean   :2.75   Mean   :4.15  \n",
       " 5      : 1               3rd Qu.:128.0   3rd Qu.:4.00   3rd Qu.:5.00  \n",
       " 6      : 1               Max.   :192.0   Max.   :9.00   Max.   :7.00  \n",
       " (Other):54                                                            "
      ]
     },
     "metadata": {},
     "output_type": "display_data"
    }
   ],
   "source": [
    "summary(srchscrlvce.2)"
   ]
  },
  {
   "cell_type": "code",
   "execution_count": 798,
   "metadata": {},
   "outputs": [
    {
     "data": {
      "text/html": [
       "<table>\n",
       "<thead><tr><th scope=col>Subject</th><th scope=col>Technique</th><th scope=col>Time</th><th scope=col>Errors</th><th scope=col>Effort</th></tr></thead>\n",
       "<tbody>\n",
       "\t<tr><td>1     </td><td>Search</td><td> 98   </td><td>4     </td><td>5     </td></tr>\n",
       "\t<tr><td>2     </td><td>Scroll</td><td>152   </td><td>0     </td><td>6     </td></tr>\n",
       "\t<tr><td>3     </td><td>Search</td><td> 57   </td><td>2     </td><td>2     </td></tr>\n",
       "\t<tr><td>4     </td><td>Scroll</td><td>148   </td><td>0     </td><td>3     </td></tr>\n",
       "\t<tr><td>5     </td><td>Search</td><td> 86   </td><td>3     </td><td>2     </td></tr>\n",
       "\t<tr><td>6     </td><td>Scroll</td><td>160   </td><td>0     </td><td>4     </td></tr>\n",
       "</tbody>\n",
       "</table>\n"
      ],
      "text/latex": [
       "\\begin{tabular}{r|lllll}\n",
       " Subject & Technique & Time & Errors & Effort\\\\\n",
       "\\hline\n",
       "\t 1      & Search &  98    & 4      & 5     \\\\\n",
       "\t 2      & Scroll & 152    & 0      & 6     \\\\\n",
       "\t 3      & Search &  57    & 2      & 2     \\\\\n",
       "\t 4      & Scroll & 148    & 0      & 3     \\\\\n",
       "\t 5      & Search &  86    & 3      & 2     \\\\\n",
       "\t 6      & Scroll & 160    & 0      & 4     \\\\\n",
       "\\end{tabular}\n"
      ],
      "text/markdown": [
       "\n",
       "Subject | Technique | Time | Errors | Effort | \n",
       "|---|---|---|---|---|---|\n",
       "| 1      | Search |  98    | 4      | 5      | \n",
       "| 2      | Scroll | 152    | 0      | 6      | \n",
       "| 3      | Search |  57    | 2      | 2      | \n",
       "| 4      | Scroll | 148    | 0      | 3      | \n",
       "| 5      | Search |  86    | 3      | 2      | \n",
       "| 6      | Scroll | 160    | 0      | 4      | \n",
       "\n",
       "\n"
      ],
      "text/plain": [
       "  Subject Technique Time Errors Effort\n",
       "1 1       Search     98  4      5     \n",
       "2 2       Scroll    152  0      6     \n",
       "3 3       Search     57  2      2     \n",
       "4 4       Scroll    148  0      3     \n",
       "5 5       Search     86  3      2     \n",
       "6 6       Scroll    160  0      4     "
      ]
     },
     "metadata": {},
     "output_type": "display_data"
    }
   ],
   "source": [
    "head(srchscrlvce.2)"
   ]
  },
  {
   "cell_type": "code",
   "execution_count": 799,
   "metadata": {},
   "outputs": [
    {
     "data": {
      "text/html": [
       "<table>\n",
       "<thead><tr><th scope=col>Technique</th><th scope=col>Min.</th><th scope=col>1st Qu.</th><th scope=col>Median</th><th scope=col>Mean</th><th scope=col>3rd Qu.</th><th scope=col>Max.</th></tr></thead>\n",
       "<tbody>\n",
       "\t<tr><td>Scroll</td><td>1     </td><td>3.00  </td><td>4     </td><td>4.40  </td><td>6.00  </td><td>7     </td></tr>\n",
       "\t<tr><td>Search</td><td>1     </td><td>3.00  </td><td>4     </td><td>3.60  </td><td>4.25  </td><td>5     </td></tr>\n",
       "\t<tr><td>Voice </td><td>1     </td><td>3.75  </td><td>5     </td><td>4.45  </td><td>5.25  </td><td>6     </td></tr>\n",
       "</tbody>\n",
       "</table>\n"
      ],
      "text/latex": [
       "\\begin{tabular}{r|lllllll}\n",
       " Technique & Min. & 1st Qu. & Median & Mean & 3rd Qu. & Max.\\\\\n",
       "\\hline\n",
       "\t Scroll & 1      & 3.00   & 4      & 4.40   & 6.00   & 7     \\\\\n",
       "\t Search & 1      & 3.00   & 4      & 3.60   & 4.25   & 5     \\\\\n",
       "\t Voice  & 1      & 3.75   & 5      & 4.45   & 5.25   & 6     \\\\\n",
       "\\end{tabular}\n"
      ],
      "text/markdown": [
       "\n",
       "Technique | Min. | 1st Qu. | Median | Mean | 3rd Qu. | Max. | \n",
       "|---|---|---|\n",
       "| Scroll | 1      | 3.00   | 4      | 4.40   | 6.00   | 7      | \n",
       "| Search | 1      | 3.00   | 4      | 3.60   | 4.25   | 5      | \n",
       "| Voice  | 1      | 3.75   | 5      | 4.45   | 5.25   | 6      | \n",
       "\n",
       "\n"
      ],
      "text/plain": [
       "  Technique Min. 1st Qu. Median Mean 3rd Qu. Max.\n",
       "1 Scroll    1    3.00    4      4.40 6.00    7   \n",
       "2 Search    1    3.00    4      3.60 4.25    5   \n",
       "3 Voice     1    3.75    5      4.45 5.25    6   "
      ]
     },
     "metadata": {},
     "output_type": "display_data"
    }
   ],
   "source": [
    "# re-familiarize ourselves with the Effort Likert response\n",
    "\n",
    "library(\"plyr\")\n",
    "\n",
    "ddply(srchscrlvce.2, ~ Technique, function(data) summary(data$Effort))"
   ]
  },
  {
   "cell_type": "code",
   "execution_count": 800,
   "metadata": {},
   "outputs": [
    {
     "data": {
      "text/html": [
       "<table>\n",
       "<thead><tr><th scope=col>Technique</th><th scope=col>Effort.mean</th><th scope=col>Effort.sd</th></tr></thead>\n",
       "<tbody>\n",
       "\t<tr><td>Scroll  </td><td>4.40    </td><td>1.698296</td></tr>\n",
       "\t<tr><td>Search  </td><td>3.60    </td><td>1.187656</td></tr>\n",
       "\t<tr><td>Voice   </td><td>4.45    </td><td>1.356272</td></tr>\n",
       "</tbody>\n",
       "</table>\n"
      ],
      "text/latex": [
       "\\begin{tabular}{r|lll}\n",
       " Technique & Effort.mean & Effort.sd\\\\\n",
       "\\hline\n",
       "\t Scroll   & 4.40     & 1.698296\\\\\n",
       "\t Search   & 3.60     & 1.187656\\\\\n",
       "\t Voice    & 4.45     & 1.356272\\\\\n",
       "\\end{tabular}\n"
      ],
      "text/markdown": [
       "\n",
       "Technique | Effort.mean | Effort.sd | \n",
       "|---|---|---|\n",
       "| Scroll   | 4.40     | 1.698296 | \n",
       "| Search   | 3.60     | 1.187656 | \n",
       "| Voice    | 4.45     | 1.356272 | \n",
       "\n",
       "\n"
      ],
      "text/plain": [
       "  Technique Effort.mean Effort.sd\n",
       "1 Scroll    4.40        1.698296 \n",
       "2 Search    3.60        1.187656 \n",
       "3 Voice     4.45        1.356272 "
      ]
     },
     "metadata": {},
     "output_type": "display_data"
    }
   ],
   "source": [
    "ddply(srchscrlvce.2, ~ Technique, summarise, Effort.mean=mean(Effort), Effort.sd=sd(Effort))"
   ]
  },
  {
   "cell_type": "code",
   "execution_count": 801,
   "metadata": {},
   "outputs": [
    {
     "data": {
      "image/png": "[encoded data removed]",
      "text/plain": [
       "Plot with title \"Histogram of srchscrlvce.2[srchscrlvce.2$Technique == \"Search\", ]$Effort\""
      ]
     },
     "metadata": {},
     "output_type": "display_data"
    }
   ],
   "source": [
    "hist(srchscrlvce.2[srchscrlvce.2$Technique == \"Search\",]$Effort, breaks=c(1:7), xlim=c(1,7))"
   ]
  },
  {
   "cell_type": "code",
   "execution_count": 802,
   "metadata": {},
   "outputs": [
    {
     "data": {
      "image/png": "[encoded data removed]",
      "text/plain": [
       "Plot with title \"Histogram of srchscrlvce.2[srchscrlvce.2$Technique == \"Scroll\", ]$Effort\""
      ]
     },
     "metadata": {},
     "output_type": "display_data"
    }
   ],
   "source": [
    "hist(srchscrlvce.2[srchscrlvce.2$Technique == \"Scroll\",]$Effort, breaks=c(1:7), xlim=c(1,7))"
   ]
  },
  {
   "cell_type": "code",
   "execution_count": 803,
   "metadata": {},
   "outputs": [
    {
     "data": {
      "image/png": "[encoded data removed]",
      "text/plain": [
       "Plot with title \"Histogram of srchscrlvce.2[srchscrlvce.2$Technique == \"Voice\", ]$Effort\""
      ]
     },
     "metadata": {},
     "output_type": "display_data"
    }
   ],
   "source": [
    "hist(srchscrlvce.2[srchscrlvce.2$Technique == \"Voice\",]$Effort, breaks=c(1:7), xlim=c(1,7))"
   ]
  },
  {
   "cell_type": "code",
   "execution_count": 804,
   "metadata": {},
   "outputs": [
    {
     "data": {
      "image/png": "[encoded data removed]",
      "text/plain": [
       "plot without title"
      ]
     },
     "metadata": {},
     "output_type": "display_data"
    }
   ],
   "source": [
    "plot(Effort ~ Technique, data=srchscrlvce.2) # boxplot"
   ]
  },
  {
   "cell_type": "code",
   "execution_count": 805,
   "metadata": {
    "collapsed": true
   },
   "outputs": [],
   "source": [
    "# analyze Effort Likert ratings by Technique with ordinal logistic regression\n",
    "\n",
    "library(\"MASS\") # for polr\n",
    "library(\"car\") # for anova\n",
    "\n",
    "srchscrlvce.2$Effort <- ordered(srchscrlvce.2$Effort) # must be an ordinal response"
   ]
  },
  {
   "cell_type": "code",
   "execution_count": 806,
   "metadata": {},
   "outputs": [
    {
     "data": {
      "text/plain": [
       "    Subject    Technique       Time           Errors     Effort\n",
       " 1      : 1   Scroll:20   Min.   : 49.0   Min.   :0.00   1: 3  \n",
       " 2      : 1   Search:20   1st Qu.: 86.0   1st Qu.:1.00   2: 5  \n",
       " 3      : 1   Voice :20   Median : 97.0   Median :2.00   3:11  \n",
       " 4      : 1               Mean   :106.2   Mean   :2.75   4:16  \n",
       " 5      : 1               3rd Qu.:128.0   3rd Qu.:4.00   5:12  \n",
       " 6      : 1               Max.   :192.0   Max.   :9.00   6:12  \n",
       " (Other):54                                              7: 1  "
      ]
     },
     "metadata": {},
     "output_type": "display_data"
    }
   ],
   "source": [
    "summary(srchscrlvce.2)"
   ]
  },
  {
   "cell_type": "code",
   "execution_count": 807,
   "metadata": {},
   "outputs": [
    {
     "data": {
      "text/html": [
       "<table>\n",
       "<thead><tr><th></th><th scope=col>Search</th><th scope=col>Voice</th></tr></thead>\n",
       "<tbody>\n",
       "\t<tr><th scope=row>Scroll</th><td>0</td><td>0</td></tr>\n",
       "\t<tr><th scope=row>Search</th><td>1</td><td>0</td></tr>\n",
       "\t<tr><th scope=row>Voice</th><td>0</td><td>1</td></tr>\n",
       "</tbody>\n",
       "</table>\n"
      ],
      "text/latex": [
       "\\begin{tabular}{r|ll}\n",
       "  & Search & Voice\\\\\n",
       "\\hline\n",
       "\tScroll & 0 & 0\\\\\n",
       "\tSearch & 1 & 0\\\\\n",
       "\tVoice & 0 & 1\\\\\n",
       "\\end{tabular}\n"
      ],
      "text/markdown": [
       "\n",
       "| <!--/--> | Search | Voice | \n",
       "|---|---|---|\n",
       "| Scroll | 0 | 0 | \n",
       "| Search | 1 | 0 | \n",
       "| Voice | 0 | 1 | \n",
       "\n",
       "\n"
      ],
      "text/plain": [
       "       Search Voice\n",
       "Scroll 0      0    \n",
       "Search 1      0    \n",
       "Voice  0      1    "
      ]
     },
     "metadata": {},
     "output_type": "display_data"
    }
   ],
   "source": [
    "contrasts(srchscrlvce.2$Technique)"
   ]
  },
  {
   "cell_type": "code",
   "execution_count": 808,
   "metadata": {},
   "outputs": [
    {
     "data": {
      "text/html": [
       "<table>\n",
       "<tbody>\n",
       "\t<tr><th scope=row>Scroll</th><td> 1</td><td> 0</td></tr>\n",
       "\t<tr><th scope=row>Search</th><td> 0</td><td> 1</td></tr>\n",
       "\t<tr><th scope=row>Voice</th><td>-1</td><td>-1</td></tr>\n",
       "</tbody>\n",
       "</table>\n"
      ],
      "text/latex": [
       "\\begin{tabular}{r|ll}\n",
       "\tScroll &  1 &  0\\\\\n",
       "\tSearch &  0 &  1\\\\\n",
       "\tVoice & -1 & -1\\\\\n",
       "\\end{tabular}\n"
      ],
      "text/markdown": [
       "\n",
       "| Scroll |  1 |  0 | \n",
       "| Search |  0 |  1 | \n",
       "| Voice | -1 | -1 | \n",
       "\n",
       "\n"
      ],
      "text/plain": [
       "       [,1] [,2]\n",
       "Scroll  1    0  \n",
       "Search  0    1  \n",
       "Voice  -1   -1  "
      ]
     },
     "metadata": {},
     "output_type": "display_data"
    }
   ],
   "source": [
    "# set sum-to-zero contrasts for the Anova call\n",
    "contrasts(srchscrlvce.2$Technique) <- \"contr.sum\"\n",
    "\n",
    "contrasts(srchscrlvce.2$Technique)"
   ]
  },
  {
   "cell_type": "code",
   "execution_count": 809,
   "metadata": {},
   "outputs": [
    {
     "data": {
      "text/html": [
       "<table>\n",
       "<thead><tr><th scope=col>Subject</th><th scope=col>Technique</th><th scope=col>Time</th><th scope=col>Errors</th><th scope=col>Effort</th></tr></thead>\n",
       "<tbody>\n",
       "\t<tr><td>1     </td><td>Search</td><td> 98   </td><td>4     </td><td>5     </td></tr>\n",
       "\t<tr><td>2     </td><td>Scroll</td><td>152   </td><td>0     </td><td>6     </td></tr>\n",
       "\t<tr><td>3     </td><td>Search</td><td> 57   </td><td>2     </td><td>2     </td></tr>\n",
       "\t<tr><td>4     </td><td>Scroll</td><td>148   </td><td>0     </td><td>3     </td></tr>\n",
       "\t<tr><td>5     </td><td>Search</td><td> 86   </td><td>3     </td><td>2     </td></tr>\n",
       "\t<tr><td>6     </td><td>Scroll</td><td>160   </td><td>0     </td><td>4     </td></tr>\n",
       "</tbody>\n",
       "</table>\n"
      ],
      "text/latex": [
       "\\begin{tabular}{r|lllll}\n",
       " Subject & Technique & Time & Errors & Effort\\\\\n",
       "\\hline\n",
       "\t 1      & Search &  98    & 4      & 5     \\\\\n",
       "\t 2      & Scroll & 152    & 0      & 6     \\\\\n",
       "\t 3      & Search &  57    & 2      & 2     \\\\\n",
       "\t 4      & Scroll & 148    & 0      & 3     \\\\\n",
       "\t 5      & Search &  86    & 3      & 2     \\\\\n",
       "\t 6      & Scroll & 160    & 0      & 4     \\\\\n",
       "\\end{tabular}\n"
      ],
      "text/markdown": [
       "\n",
       "Subject | Technique | Time | Errors | Effort | \n",
       "|---|---|---|---|---|---|\n",
       "| 1      | Search |  98    | 4      | 5      | \n",
       "| 2      | Scroll | 152    | 0      | 6      | \n",
       "| 3      | Search |  57    | 2      | 2      | \n",
       "| 4      | Scroll | 148    | 0      | 3      | \n",
       "| 5      | Search |  86    | 3      | 2      | \n",
       "| 6      | Scroll | 160    | 0      | 4      | \n",
       "\n",
       "\n"
      ],
      "text/plain": [
       "  Subject Technique Time Errors Effort\n",
       "1 1       Search     98  4      5     \n",
       "2 2       Scroll    152  0      6     \n",
       "3 3       Search     57  2      2     \n",
       "4 4       Scroll    148  0      3     \n",
       "5 5       Search     86  3      2     \n",
       "6 6       Scroll    160  0      4     "
      ]
     },
     "metadata": {},
     "output_type": "display_data"
    }
   ],
   "source": [
    "head(srchscrlvce.2)"
   ]
  },
  {
   "cell_type": "code",
   "execution_count": 810,
   "metadata": {},
   "outputs": [
    {
     "data": {
      "text/html": [
       "<table>\n",
       "<thead><tr><th></th><th scope=col>LR Chisq</th><th scope=col>Df</th><th scope=col>Pr(&gt;Chisq)</th></tr></thead>\n",
       "<tbody>\n",
       "\t<tr><th scope=row>Technique</th><td>4.524566 </td><td>2        </td><td>0.1041125</td></tr>\n",
       "</tbody>\n",
       "</table>\n"
      ],
      "text/latex": [
       "\\begin{tabular}{r|lll}\n",
       "  & LR Chisq & Df & Pr(>Chisq)\\\\\n",
       "\\hline\n",
       "\tTechnique & 4.524566  & 2         & 0.1041125\\\\\n",
       "\\end{tabular}\n"
      ],
      "text/markdown": [
       "\n",
       "| <!--/--> | LR Chisq | Df | Pr(>Chisq) | \n",
       "|---|\n",
       "| Technique | 4.524566  | 2         | 0.1041125 | \n",
       "\n",
       "\n"
      ],
      "text/plain": [
       "          LR Chisq Df Pr(>Chisq)\n",
       "Technique 4.524566 2  0.1041125 "
      ]
     },
     "metadata": {},
     "output_type": "display_data"
    }
   ],
   "source": [
    "m <- polr(Effort ~ Technique, data=srchscrlvce.2, Hess=TRUE) # ordinal logistic\n",
    "Anova(m, type=3) # n.s."
   ]
  },
  {
   "cell_type": "markdown",
   "metadata": {},
   "source": [
    "We see a non-significant result. We can say that the overall/omnibus test has not concluded that we've seen significant difference among these levels for this ordinal response. \n",
    "\n",
    "For completeness, here's what we would do if it was signficant:"
   ]
  },
  {
   "cell_type": "code",
   "execution_count": 811,
   "metadata": {},
   "outputs": [
    {
     "data": {
      "text/plain": [
       "\n",
       "\t Simultaneous Tests for General Linear Hypotheses\n",
       "\n",
       "Multiple Comparisons of Means: Tukey Contrasts\n",
       "\n",
       "\n",
       "Fit: polr(formula = Effort ~ Technique, data = srchscrlvce.2, Hess = TRUE)\n",
       "\n",
       "Linear Hypotheses:\n",
       "                      Estimate Std. Error z value Pr(>|z|)\n",
       "Search - Scroll == 0 -1.016610   0.584614  -1.739    0.191\n",
       "Voice - Scroll == 0   0.007397   0.587700   0.013    0.990\n",
       "Voice - Search == 0   1.024007   0.552298   1.854    0.191\n",
       "(Adjusted p values reported -- holm method)\n"
      ]
     },
     "metadata": {},
     "output_type": "display_data"
    }
   ],
   "source": [
    "# post hoc pairwise comparisons are NOT justified due to lack of sig.\n",
    "# but here's how we would do them, just for completeness\n",
    "\n",
    "library(\"multcomp\")\n",
    "\n",
    "summary(glht(m, mcp(Technique=\"Tukey\")), test=adjusted(type=\"holm\")) # Tukey means compare all pairs"
   ]
  },
  {
   "cell_type": "code",
   "execution_count": 812,
   "metadata": {},
   "outputs": [
    {
     "data": {
      "text/plain": [
       "\n",
       "\t Simultaneous Tests for General Linear Hypotheses\n",
       "\n",
       "Linear Hypotheses:\n",
       "                      Estimate Std. Error z value Pr(>|z|)\n",
       "Scroll - Search == 0  1.016610   0.584614   1.739    0.191\n",
       "Scroll - Voice == 0  -0.007397   0.587700  -0.013    0.990\n",
       "Search - Voice == 0  -1.024007   0.552298  -1.854    0.191\n",
       "(Adjusted p values reported -- holm method)\n"
      ]
     },
     "metadata": {},
     "output_type": "display_data"
    }
   ],
   "source": [
    "library(\"lsmeans\") # equivalent way using lsmeans, pairs, and as.glht\n",
    "\n",
    "summary(as.glht(pairs(lsmeans(m,  ~ Technique))), test=adjusted(type=\"holm\"))"
   ]
  },
  {
   "cell_type": "markdown",
   "metadata": {},
   "source": [
    "Finally, let's look at our 3rd generalized linear model -- Poisson regression which happens for rare event data and count responses. That uses a poisson distribution with the log link function"
   ]
  },
  {
   "cell_type": "code",
   "execution_count": 813,
   "metadata": {},
   "outputs": [
    {
     "data": {
      "text/html": [
       "<table>\n",
       "<thead><tr><th scope=col>Technique</th><th scope=col>Min.</th><th scope=col>1st Qu.</th><th scope=col>Median</th><th scope=col>Mean</th><th scope=col>3rd Qu.</th><th scope=col>Max.</th></tr></thead>\n",
       "<tbody>\n",
       "\t<tr><td>Scroll</td><td>0     </td><td>0.00  </td><td>0.5   </td><td>0.70  </td><td>1.00  </td><td>2     </td></tr>\n",
       "\t<tr><td>Search</td><td>1     </td><td>2.00  </td><td>2.5   </td><td>2.50  </td><td>3.00  </td><td>4     </td></tr>\n",
       "\t<tr><td>Voice </td><td>2     </td><td>3.75  </td><td>5.0   </td><td>5.05  </td><td>6.25  </td><td>9     </td></tr>\n",
       "</tbody>\n",
       "</table>\n"
      ],
      "text/latex": [
       "\\begin{tabular}{r|lllllll}\n",
       " Technique & Min. & 1st Qu. & Median & Mean & 3rd Qu. & Max.\\\\\n",
       "\\hline\n",
       "\t Scroll & 0      & 0.00   & 0.5    & 0.70   & 1.00   & 2     \\\\\n",
       "\t Search & 1      & 2.00   & 2.5    & 2.50   & 3.00   & 4     \\\\\n",
       "\t Voice  & 2      & 3.75   & 5.0    & 5.05   & 6.25   & 9     \\\\\n",
       "\\end{tabular}\n"
      ],
      "text/markdown": [
       "\n",
       "Technique | Min. | 1st Qu. | Median | Mean | 3rd Qu. | Max. | \n",
       "|---|---|---|\n",
       "| Scroll | 0      | 0.00   | 0.5    | 0.70   | 1.00   | 2      | \n",
       "| Search | 1      | 2.00   | 2.5    | 2.50   | 3.00   | 4      | \n",
       "| Voice  | 2      | 3.75   | 5.0    | 5.05   | 6.25   | 9      | \n",
       "\n",
       "\n"
      ],
      "text/plain": [
       "  Technique Min. 1st Qu. Median Mean 3rd Qu. Max.\n",
       "1 Scroll    0    0.00    0.5    0.70 1.00    2   \n",
       "2 Search    1    2.00    2.5    2.50 3.00    4   \n",
       "3 Voice     2    3.75    5.0    5.05 6.25    9   "
      ]
     },
     "metadata": {},
     "output_type": "display_data"
    }
   ],
   "source": [
    "## GLM 3: Poisson regression for count responses\n",
    "## -----  Poisson distribution w/ log link fn\n",
    "\n",
    "# our data also has an \"Errors\" response, count data\n",
    "# re-familiarize ourselves with the Errors response\n",
    "library(\"plyr\")\n",
    "\n",
    "ddply(srchscrlvce.2, ~ Technique, function(data) summary(data$Errors))"
   ]
  },
  {
   "cell_type": "code",
   "execution_count": 814,
   "metadata": {},
   "outputs": [
    {
     "data": {
      "text/html": [
       "<table>\n",
       "<thead><tr><th scope=col>Technique</th><th scope=col>Errors.mean</th><th scope=col>Errors.sd</th></tr></thead>\n",
       "<tbody>\n",
       "\t<tr><td>Scroll   </td><td>0.70     </td><td>0.8013147</td></tr>\n",
       "\t<tr><td>Search   </td><td>2.50     </td><td>1.0513150</td></tr>\n",
       "\t<tr><td>Voice    </td><td>5.05     </td><td>1.9049796</td></tr>\n",
       "</tbody>\n",
       "</table>\n"
      ],
      "text/latex": [
       "\\begin{tabular}{r|lll}\n",
       " Technique & Errors.mean & Errors.sd\\\\\n",
       "\\hline\n",
       "\t Scroll    & 0.70      & 0.8013147\\\\\n",
       "\t Search    & 2.50      & 1.0513150\\\\\n",
       "\t Voice     & 5.05      & 1.9049796\\\\\n",
       "\\end{tabular}\n"
      ],
      "text/markdown": [
       "\n",
       "Technique | Errors.mean | Errors.sd | \n",
       "|---|---|---|\n",
       "| Scroll    | 0.70      | 0.8013147 | \n",
       "| Search    | 2.50      | 1.0513150 | \n",
       "| Voice     | 5.05      | 1.9049796 | \n",
       "\n",
       "\n"
      ],
      "text/plain": [
       "  Technique Errors.mean Errors.sd\n",
       "1 Scroll    0.70        0.8013147\n",
       "2 Search    2.50        1.0513150\n",
       "3 Voice     5.05        1.9049796"
      ]
     },
     "metadata": {},
     "output_type": "display_data"
    }
   ],
   "source": [
    "ddply(srchscrlvce.2, ~ Technique, summarise, Errors.mean=mean(Errors), Errors.sd=sd(Errors))"
   ]
  },
  {
   "cell_type": "code",
   "execution_count": 815,
   "metadata": {},
   "outputs": [
    {
     "data": {
      "image/png": "[encoded data removed]",
      "text/plain": [
       "Plot with title \"Histogram of srchscrlvce.2[srchscrlvce.2$Technique == \"Search\", ]$Errors\""
      ]
     },
     "metadata": {},
     "output_type": "display_data"
    }
   ],
   "source": [
    "hist(srchscrlvce.2[srchscrlvce.2$Technique == \"Search\",]$Errors)"
   ]
  },
  {
   "cell_type": "code",
   "execution_count": 816,
   "metadata": {},
   "outputs": [
    {
     "data": {
      "image/png": "[encoded data removed]",
      "text/plain": [
       "Plot with title \"Histogram of srchscrlvce.2[srchscrlvce.2$Technique == \"Scroll\", ]$Errors\""
      ]
     },
     "metadata": {},
     "output_type": "display_data"
    }
   ],
   "source": [
    "hist(srchscrlvce.2[srchscrlvce.2$Technique == \"Scroll\",]$Errors)"
   ]
  },
  {
   "cell_type": "code",
   "execution_count": 817,
   "metadata": {},
   "outputs": [
    {
     "data": {
      "image/png": "[encoded data removed]",
      "text/plain": [
       "Plot with title \"Histogram of srchscrlvce.2[srchscrlvce.2$Technique == \"Voice\", ]$Errors\""
      ]
     },
     "metadata": {},
     "output_type": "display_data"
    }
   ],
   "source": [
    "hist(srchscrlvce.2[srchscrlvce.2$Technique == \"Voice\",]$Errors)"
   ]
  },
  {
   "cell_type": "code",
   "execution_count": 818,
   "metadata": {},
   "outputs": [
    {
     "data": {
      "image/png": "[encoded data removed]",
      "text/plain": [
       "plot without title"
      ]
     },
     "metadata": {},
     "output_type": "display_data"
    }
   ],
   "source": [
    "plot(Errors ~ Technique, data=srchscrlvce.2) # boxplot"
   ]
  },
  {
   "cell_type": "markdown",
   "metadata": {},
   "source": [
    "We'll fit the poisson distribution to the search data and then do all goodness-of-fit test on that. This is going to tell us whether we differ significantly from the poisson distribution. "
   ]
  },
  {
   "cell_type": "code",
   "execution_count": 819,
   "metadata": {},
   "outputs": [
    {
     "data": {
      "text/plain": [
       "Chi-squared statistic:  1.522231 \n",
       "Degree of freedom of the Chi-squared distribution:  2 \n",
       "Chi-squared p-value:  0.4671449 \n",
       "   the p-value may be wrong with some theoretical counts < 5  \n",
       "Chi-squared table:\n",
       "     obscounts theocounts\n",
       "<= 1  4.000000   5.745950\n",
       "<= 2  6.000000   5.130312\n",
       "<= 3  6.000000   4.275260\n",
       "> 3   4.000000   4.848478\n",
       "\n",
       "Goodness-of-fit criteria\n",
       "                               1-mle-pois\n",
       "Akaike's Information Criterion   65.61424\n",
       "Bayesian Information Criterion   66.60997"
      ]
     },
     "metadata": {},
     "output_type": "display_data"
    }
   ],
   "source": [
    "# re-verify that these data are Poisson-distributed\n",
    "\n",
    "library(\"fitdistrplus\")\n",
    "\n",
    "fit <- fitdist(srchscrlvce.2[srchscrlvce.2$Technique == \"Search\",]$Errors, \"pois\", discrete=TRUE)\n",
    "gofstat(fit) # goodness-of-fit test"
   ]
  },
  {
   "cell_type": "code",
   "execution_count": 820,
   "metadata": {},
   "outputs": [
    {
     "data": {
      "text/plain": [
       "Chi-squared statistic:  0.3816087 \n",
       "Degree of freedom of the Chi-squared distribution:  1 \n",
       "Chi-squared p-value:  0.5367435 \n",
       "   the p-value may be wrong with some theoretical counts < 5  \n",
       "Chi-squared table:\n",
       "     obscounts theocounts\n",
       "<= 0 10.000000   9.931706\n",
       "<= 1  6.000000   6.952194\n",
       "> 1   4.000000   3.116100\n",
       "\n",
       "Goodness-of-fit criteria\n",
       "                               1-mle-pois\n",
       "Akaike's Information Criterion   45.53208\n",
       "Bayesian Information Criterion   46.52781"
      ]
     },
     "metadata": {},
     "output_type": "display_data"
    }
   ],
   "source": [
    "fit <- fitdist(srchscrlvce.2[srchscrlvce.2$Technique == \"Scroll\",]$Errors, \"pois\", discrete=TRUE)\n",
    "gofstat(fit) # goodness-of-fit test"
   ]
  },
  {
   "cell_type": "code",
   "execution_count": 821,
   "metadata": {},
   "outputs": [
    {
     "data": {
      "text/plain": [
       "Chi-squared statistic:  0.1611327 \n",
       "Degree of freedom of the Chi-squared distribution:  3 \n",
       "Chi-squared p-value:  0.9836055 \n",
       "   the p-value may be wrong with some theoretical counts < 5  \n",
       "Chi-squared table:\n",
       "     obscounts theocounts\n",
       "<= 3  5.000000   5.161546\n",
       "<= 4  4.000000   3.473739\n",
       "<= 5  3.000000   3.508476\n",
       "<= 6  3.000000   2.952967\n",
       "> 6   5.000000   4.903272\n",
       "\n",
       "Goodness-of-fit criteria\n",
       "                               1-mle-pois\n",
       "Akaike's Information Criterion   84.19266\n",
       "Bayesian Information Criterion   85.18839"
      ]
     },
     "metadata": {},
     "output_type": "display_data"
    }
   ],
   "source": [
    "fit <- fitdist(srchscrlvce.2[srchscrlvce.2$Technique == \"Voice\",]$Errors, \"pois\", discrete=TRUE)\n",
    "gofstat(fit) # goodness-of-fit test"
   ]
  },
  {
   "cell_type": "markdown",
   "metadata": {},
   "source": [
    "For all of them, the p-value was not significant so there is no significant deviation from the poisson distribution. Now, let's move on to the actual Poisson regression GLM analysis. "
   ]
  },
  {
   "cell_type": "code",
   "execution_count": 822,
   "metadata": {},
   "outputs": [
    {
     "data": {
      "text/html": [
       "<table>\n",
       "<tbody>\n",
       "\t<tr><th scope=row>Scroll</th><td> 1</td><td> 0</td></tr>\n",
       "\t<tr><th scope=row>Search</th><td> 0</td><td> 1</td></tr>\n",
       "\t<tr><th scope=row>Voice</th><td>-1</td><td>-1</td></tr>\n",
       "</tbody>\n",
       "</table>\n"
      ],
      "text/latex": [
       "\\begin{tabular}{r|ll}\n",
       "\tScroll &  1 &  0\\\\\n",
       "\tSearch &  0 &  1\\\\\n",
       "\tVoice & -1 & -1\\\\\n",
       "\\end{tabular}\n"
      ],
      "text/markdown": [
       "\n",
       "| Scroll |  1 |  0 | \n",
       "| Search |  0 |  1 | \n",
       "| Voice | -1 | -1 | \n",
       "\n",
       "\n"
      ],
      "text/plain": [
       "       [,1] [,2]\n",
       "Scroll  1    0  \n",
       "Search  0    1  \n",
       "Voice  -1   -1  "
      ]
     },
     "metadata": {},
     "output_type": "display_data"
    }
   ],
   "source": [
    "contrasts(srchscrlvce.2$Technique)"
   ]
  },
  {
   "cell_type": "code",
   "execution_count": 823,
   "metadata": {},
   "outputs": [
    {
     "data": {
      "text/html": [
       "<table>\n",
       "<tbody>\n",
       "\t<tr><th scope=row>Scroll</th><td> 1</td><td> 0</td></tr>\n",
       "\t<tr><th scope=row>Search</th><td> 0</td><td> 1</td></tr>\n",
       "\t<tr><th scope=row>Voice</th><td>-1</td><td>-1</td></tr>\n",
       "</tbody>\n",
       "</table>\n"
      ],
      "text/latex": [
       "\\begin{tabular}{r|ll}\n",
       "\tScroll &  1 &  0\\\\\n",
       "\tSearch &  0 &  1\\\\\n",
       "\tVoice & -1 & -1\\\\\n",
       "\\end{tabular}\n"
      ],
      "text/markdown": [
       "\n",
       "| Scroll |  1 |  0 | \n",
       "| Search |  0 |  1 | \n",
       "| Voice | -1 | -1 | \n",
       "\n",
       "\n"
      ],
      "text/plain": [
       "       [,1] [,2]\n",
       "Scroll  1    0  \n",
       "Search  0    1  \n",
       "Voice  -1   -1  "
      ]
     },
     "metadata": {},
     "output_type": "display_data"
    }
   ],
   "source": [
    "# analyze using Poisson regression\n",
    "# set sum-to-zero contrasts for the Anova call\n",
    "contrasts(srchscrlvce.2$Technique) <- \"contr.sum\"\n",
    "\n",
    "contrasts(srchscrlvce.2$Technique)"
   ]
  },
  {
   "cell_type": "code",
   "execution_count": 824,
   "metadata": {},
   "outputs": [
    {
     "data": {
      "text/html": [
       "<table>\n",
       "<thead><tr><th></th><th scope=col>LR Chisq</th><th scope=col>Df</th><th scope=col>Pr(&gt;Chisq)</th></tr></thead>\n",
       "<tbody>\n",
       "\t<tr><th scope=row>Technique</th><td>74.9303     </td><td>2           </td><td>5.359105e-17</td></tr>\n",
       "</tbody>\n",
       "</table>\n"
      ],
      "text/latex": [
       "\\begin{tabular}{r|lll}\n",
       "  & LR Chisq & Df & Pr(>Chisq)\\\\\n",
       "\\hline\n",
       "\tTechnique & 74.9303      & 2            & 5.359105e-17\\\\\n",
       "\\end{tabular}\n"
      ],
      "text/markdown": [
       "\n",
       "| <!--/--> | LR Chisq | Df | Pr(>Chisq) | \n",
       "|---|\n",
       "| Technique | 74.9303      | 2            | 5.359105e-17 | \n",
       "\n",
       "\n"
      ],
      "text/plain": [
       "          LR Chisq Df Pr(>Chisq)  \n",
       "Technique 74.9303  2  5.359105e-17"
      ]
     },
     "metadata": {},
     "output_type": "display_data"
    }
   ],
   "source": [
    "# family parameter identifies both distribution and link fn\n",
    "m <- glm(Errors ~ Technique, data=srchscrlvce.2, family=poisson)\n",
    "Anova(m, type=3)"
   ]
  },
  {
   "cell_type": "markdown",
   "metadata": {},
   "source": [
    "We see that there is a significant p-value which means there is a difference. "
   ]
  },
  {
   "cell_type": "code",
   "execution_count": 825,
   "metadata": {},
   "outputs": [
    {
     "data": {
      "image/png": "[encoded data removed]",
      "text/plain": [
       "Plot with title \"Normal Q-Q Plot\""
      ]
     },
     "metadata": {},
     "output_type": "display_data"
    }
   ],
   "source": [
    "qqnorm(residuals(m)); qqline(residuals(m)) # it's ok! Poisson regression makes no normality assumption"
   ]
  },
  {
   "cell_type": "markdown",
   "metadata": {},
   "source": [
    "Because we had a significant overall test, let's go and conduct a pairwise comparisons among the different levels of the technique factor. "
   ]
  },
  {
   "cell_type": "code",
   "execution_count": 826,
   "metadata": {},
   "outputs": [
    {
     "data": {
      "text/plain": [
       "\n",
       "\t Simultaneous Tests for General Linear Hypotheses\n",
       "\n",
       "Multiple Comparisons of Means: Tukey Contrasts\n",
       "\n",
       "\n",
       "Fit: glm(formula = Errors ~ Technique, family = poisson, data = srchscrlvce.2)\n",
       "\n",
       "Linear Hypotheses:\n",
       "                     Estimate Std. Error z value Pr(>|z|)    \n",
       "Search - Scroll == 0   1.2730     0.3024   4.210 5.11e-05 ***\n",
       "Voice - Scroll == 0    1.9761     0.2852   6.929 1.27e-11 ***\n",
       "Voice - Search == 0    0.7031     0.1729   4.066 5.11e-05 ***\n",
       "---\n",
       "Signif. codes:  0 '***' 0.001 '**' 0.01 '*' 0.05 '.' 0.1 ' ' 1\n",
       "(Adjusted p values reported -- holm method)\n"
      ]
     },
     "metadata": {},
     "output_type": "display_data"
    }
   ],
   "source": [
    "# conduct pairwise comparisons among levels of Technique\n",
    "library(\"multcomp\")\n",
    "\n",
    "summary(glht(m, mcp(Technique=\"Tukey\")), test=adjusted(type=\"holm\")) # Tukey means compare all pairs"
   ]
  },
  {
   "cell_type": "markdown",
   "metadata": {},
   "source": [
    "From the results, none of these look like they are similar to the other. So we expect 3 significant pairwise differences. "
   ]
  },
  {
   "cell_type": "markdown",
   "metadata": {},
   "source": [
    "Technically, generalized linear models (GLM) are not non-parametric...at least not in the sense that they use ranks like the other non-parametric tests we've seen before. But I've put generalized linear models in the same category as ART because we would go to a GLM when we have a between subject study and we have data that wouldn't normally conform to our usual parametric linear model ANOVAs. "
   ]
  },
  {
   "cell_type": "markdown",
   "metadata": {},
   "source": [
    "# Quiz"
   ]
  },
  {
   "cell_type": "markdown",
   "metadata": {},
   "source": [
    "Download the file deviceprefssex.csv from the course materials. This file describes the same study as in our deviceprefs.csv file, but now augmented with a column for Sex (M, F). It also still contains a column for Disability (1, 0). The research question is how preference for either touchpads or trackballs differs by disability status and sex. How many subjects took part in this study?"
   ]
  },
  {
   "cell_type": "code",
   "execution_count": 827,
   "metadata": {
    "collapsed": true
   },
   "outputs": [],
   "source": [
    "df <- read.csv(\"materials/deviceprefssex.csv\")"
   ]
  },
  {
   "cell_type": "code",
   "execution_count": 828,
   "metadata": {},
   "outputs": [
    {
     "data": {
      "text/html": [
       "<table>\n",
       "<thead><tr><th scope=col>Subject</th><th scope=col>Disability</th><th scope=col>Sex</th><th scope=col>Pref</th></tr></thead>\n",
       "<tbody>\n",
       "\t<tr><td>1        </td><td>1        </td><td>M        </td><td>trackball</td></tr>\n",
       "\t<tr><td>2        </td><td>1        </td><td>F        </td><td>touchpad </td></tr>\n",
       "\t<tr><td>3        </td><td>0        </td><td>M        </td><td>touchpad </td></tr>\n",
       "\t<tr><td>4        </td><td>0        </td><td>F        </td><td>trackball</td></tr>\n",
       "\t<tr><td>5        </td><td>1        </td><td>M        </td><td>touchpad </td></tr>\n",
       "\t<tr><td>6        </td><td>0        </td><td>F        </td><td>touchpad </td></tr>\n",
       "</tbody>\n",
       "</table>\n"
      ],
      "text/latex": [
       "\\begin{tabular}{r|llll}\n",
       " Subject & Disability & Sex & Pref\\\\\n",
       "\\hline\n",
       "\t 1         & 1         & M         & trackball\\\\\n",
       "\t 2         & 1         & F         & touchpad \\\\\n",
       "\t 3         & 0         & M         & touchpad \\\\\n",
       "\t 4         & 0         & F         & trackball\\\\\n",
       "\t 5         & 1         & M         & touchpad \\\\\n",
       "\t 6         & 0         & F         & touchpad \\\\\n",
       "\\end{tabular}\n"
      ],
      "text/markdown": [
       "\n",
       "Subject | Disability | Sex | Pref | \n",
       "|---|---|---|---|---|---|\n",
       "| 1         | 1         | M         | trackball | \n",
       "| 2         | 1         | F         | touchpad  | \n",
       "| 3         | 0         | M         | touchpad  | \n",
       "| 4         | 0         | F         | trackball | \n",
       "| 5         | 1         | M         | touchpad  | \n",
       "| 6         | 0         | F         | touchpad  | \n",
       "\n",
       "\n"
      ],
      "text/plain": [
       "  Subject Disability Sex Pref     \n",
       "1 1       1          M   trackball\n",
       "2 2       1          F   touchpad \n",
       "3 3       0          M   touchpad \n",
       "4 4       0          F   trackball\n",
       "5 5       1          M   touchpad \n",
       "6 6       0          F   touchpad "
      ]
     },
     "metadata": {},
     "output_type": "display_data"
    }
   ],
   "source": [
    "head(df)"
   ]
  },
  {
   "cell_type": "code",
   "execution_count": 829,
   "metadata": {
    "collapsed": true
   },
   "outputs": [],
   "source": [
    "df$Subject <- as.factor(df$Subject)\n",
    "df$Disability <- as.factor(df$Disability)"
   ]
  },
  {
   "cell_type": "code",
   "execution_count": 830,
   "metadata": {},
   "outputs": [
    {
     "data": {
      "text/plain": [
       "    Subject   Disability Sex           Pref   \n",
       " 1      : 1   0:18       F:15   touchpad :21  \n",
       " 2      : 1   1:12       M:15   trackball: 9  \n",
       " 3      : 1                                   \n",
       " 4      : 1                                   \n",
       " 5      : 1                                   \n",
       " 6      : 1                                   \n",
       " (Other):24                                   "
      ]
     },
     "metadata": {},
     "output_type": "display_data"
    }
   ],
   "source": [
    "summary(df)"
   ]
  },
  {
   "cell_type": "code",
   "execution_count": 831,
   "metadata": {},
   "outputs": [
    {
     "data": {
      "text/html": [
       "<ol class=list-inline>\n",
       "\t<li>25</li>\n",
       "\t<li>26</li>\n",
       "\t<li>27</li>\n",
       "\t<li>28</li>\n",
       "\t<li>29</li>\n",
       "\t<li>30</li>\n",
       "</ol>\n"
      ],
      "text/latex": [
       "\\begin{enumerate*}\n",
       "\\item 25\n",
       "\\item 26\n",
       "\\item 27\n",
       "\\item 28\n",
       "\\item 29\n",
       "\\item 30\n",
       "\\end{enumerate*}\n"
      ],
      "text/markdown": [
       "1. 25\n",
       "2. 26\n",
       "3. 27\n",
       "4. 28\n",
       "5. 29\n",
       "6. 30\n",
       "\n",
       "\n"
      ],
      "text/plain": [
       "[1] 25 26 27 28 29 30\n",
       "30 Levels: 1 2 3 4 5 6 7 8 9 10 11 12 13 14 15 16 17 18 19 20 21 22 23 ... 30"
      ]
     },
     "metadata": {},
     "output_type": "display_data"
    }
   ],
   "source": [
    "tail(df$Subject)"
   ]
  },
  {
   "cell_type": "markdown",
   "metadata": {},
   "source": [
    "Use binomial regression to examine Pref by Disability and Sex. To the nearest ten-thousandth (four digits), what is the p-value of the Disability × Sex interaction? Hint: Create a model with glm using family=binomial. Then use the car library and its Anova function with type=3. Prior to either, set sum-to-zero contrasts for both Disability and Sex."
   ]
  },
  {
   "cell_type": "code",
   "execution_count": 832,
   "metadata": {},
   "outputs": [
    {
     "data": {
      "text/html": [
       "<table>\n",
       "<thead><tr><th></th><th scope=col>1</th></tr></thead>\n",
       "<tbody>\n",
       "\t<tr><th scope=row>0</th><td>0</td></tr>\n",
       "\t<tr><th scope=row>1</th><td>1</td></tr>\n",
       "</tbody>\n",
       "</table>\n"
      ],
      "text/latex": [
       "\\begin{tabular}{r|l}\n",
       "  & 1\\\\\n",
       "\\hline\n",
       "\t0 & 0\\\\\n",
       "\t1 & 1\\\\\n",
       "\\end{tabular}\n"
      ],
      "text/markdown": [
       "\n",
       "| <!--/--> | 1 | \n",
       "|---|---|\n",
       "| 0 | 0 | \n",
       "| 1 | 1 | \n",
       "\n",
       "\n"
      ],
      "text/plain": [
       "  1\n",
       "0 0\n",
       "1 1"
      ]
     },
     "metadata": {},
     "output_type": "display_data"
    }
   ],
   "source": [
    "contrasts(df$Disability)"
   ]
  },
  {
   "cell_type": "code",
   "execution_count": 833,
   "metadata": {},
   "outputs": [
    {
     "data": {
      "text/html": [
       "<table>\n",
       "<tbody>\n",
       "\t<tr><th scope=row>0</th><td> 1</td></tr>\n",
       "\t<tr><th scope=row>1</th><td>-1</td></tr>\n",
       "</tbody>\n",
       "</table>\n"
      ],
      "text/latex": [
       "\\begin{tabular}{r|l}\n",
       "\t0 &  1\\\\\n",
       "\t1 & -1\\\\\n",
       "\\end{tabular}\n"
      ],
      "text/markdown": [
       "\n",
       "| 0 |  1 | \n",
       "| 1 | -1 | \n",
       "\n",
       "\n"
      ],
      "text/plain": [
       "  [,1]\n",
       "0  1  \n",
       "1 -1  "
      ]
     },
     "metadata": {},
     "output_type": "display_data"
    }
   ],
   "source": [
    "contrasts(df$Disability) <- \"contr.sum\"\n",
    "\n",
    "contrasts(df$Disability)"
   ]
  },
  {
   "cell_type": "code",
   "execution_count": 834,
   "metadata": {},
   "outputs": [
    {
     "data": {
      "text/html": [
       "<table>\n",
       "<thead><tr><th></th><th scope=col>M</th></tr></thead>\n",
       "<tbody>\n",
       "\t<tr><th scope=row>F</th><td>0</td></tr>\n",
       "\t<tr><th scope=row>M</th><td>1</td></tr>\n",
       "</tbody>\n",
       "</table>\n"
      ],
      "text/latex": [
       "\\begin{tabular}{r|l}\n",
       "  & M\\\\\n",
       "\\hline\n",
       "\tF & 0\\\\\n",
       "\tM & 1\\\\\n",
       "\\end{tabular}\n"
      ],
      "text/markdown": [
       "\n",
       "| <!--/--> | M | \n",
       "|---|---|\n",
       "| F | 0 | \n",
       "| M | 1 | \n",
       "\n",
       "\n"
      ],
      "text/plain": [
       "  M\n",
       "F 0\n",
       "M 1"
      ]
     },
     "metadata": {},
     "output_type": "display_data"
    }
   ],
   "source": [
    "contrasts(df$Sex)"
   ]
  },
  {
   "cell_type": "code",
   "execution_count": 835,
   "metadata": {},
   "outputs": [
    {
     "data": {
      "text/html": [
       "<table>\n",
       "<tbody>\n",
       "\t<tr><th scope=row>F</th><td> 1</td></tr>\n",
       "\t<tr><th scope=row>M</th><td>-1</td></tr>\n",
       "</tbody>\n",
       "</table>\n"
      ],
      "text/latex": [
       "\\begin{tabular}{r|l}\n",
       "\tF &  1\\\\\n",
       "\tM & -1\\\\\n",
       "\\end{tabular}\n"
      ],
      "text/markdown": [
       "\n",
       "| F |  1 | \n",
       "| M | -1 | \n",
       "\n",
       "\n"
      ],
      "text/plain": [
       "  [,1]\n",
       "F  1  \n",
       "M -1  "
      ]
     },
     "metadata": {},
     "output_type": "display_data"
    }
   ],
   "source": [
    "contrasts(df$Sex) <- \"contr.sum\"\n",
    "\n",
    "contrasts(df$Sex)"
   ]
  },
  {
   "cell_type": "code",
   "execution_count": 836,
   "metadata": {},
   "outputs": [
    {
     "data": {
      "text/html": [
       "<table>\n",
       "<thead><tr><th></th><th scope=col>LR Chisq</th><th scope=col>Df</th><th scope=col>Pr(&gt;Chisq)</th></tr></thead>\n",
       "<tbody>\n",
       "\t<tr><th scope=row>Disability</th><td>10.4436968 </td><td>1          </td><td>0.001230687</td></tr>\n",
       "\t<tr><th scope=row>Sex</th><td> 2.8269455 </td><td>1          </td><td>0.092694507</td></tr>\n",
       "\t<tr><th scope=row>Disability:Sex</th><td> 0.6963972 </td><td>1          </td><td>0.403996942</td></tr>\n",
       "</tbody>\n",
       "</table>\n"
      ],
      "text/latex": [
       "\\begin{tabular}{r|lll}\n",
       "  & LR Chisq & Df & Pr(>Chisq)\\\\\n",
       "\\hline\n",
       "\tDisability & 10.4436968  & 1           & 0.001230687\\\\\n",
       "\tSex &  2.8269455  & 1           & 0.092694507\\\\\n",
       "\tDisability:Sex &  0.6963972  & 1           & 0.403996942\\\\\n",
       "\\end{tabular}\n"
      ],
      "text/markdown": [
       "\n",
       "| <!--/--> | LR Chisq | Df | Pr(>Chisq) | \n",
       "|---|---|---|\n",
       "| Disability | 10.4436968  | 1           | 0.001230687 | \n",
       "| Sex |  2.8269455  | 1           | 0.092694507 | \n",
       "| Disability:Sex |  0.6963972  | 1           | 0.403996942 | \n",
       "\n",
       "\n"
      ],
      "text/plain": [
       "               LR Chisq   Df Pr(>Chisq) \n",
       "Disability     10.4436968 1  0.001230687\n",
       "Sex             2.8269455 1  0.092694507\n",
       "Disability:Sex  0.6963972 1  0.403996942"
      ]
     },
     "metadata": {},
     "output_type": "display_data"
    }
   ],
   "source": [
    "m <- glm(Pref ~ Disability * Sex, data=df, family=binomial)\n",
    "Anova(m, type=3)"
   ]
  },
  {
   "cell_type": "markdown",
   "metadata": {},
   "source": [
    "Multinomial regression generalizes binomial regression to dependent variables with more than two categories, so it can handle just two categories as well. Use multinomial regression to examine Pref by Disability and Sex. To the nearest ten-thousandth (four digits), what is the p-value of the Disability × Sex interaction? Hint: Use the nnet library and its multinom function. Then use the car library and its Anova function with type=3. Prior to either, set sum-to-zero contrasts for both Disability and Sex."
   ]
  },
  {
   "cell_type": "code",
   "execution_count": 837,
   "metadata": {},
   "outputs": [
    {
     "name": "stdout",
     "output_type": "stream",
     "text": [
      "# weights:  5 (4 variable)\n",
      "initial  value 20.794415 \n",
      "iter  10 value 13.023239\n",
      "iter  20 value 13.010200\n",
      "final  value 13.010184 \n",
      "converged\n"
     ]
    },
    {
     "data": {
      "text/html": [
       "<table>\n",
       "<thead><tr><th></th><th scope=col>LR Chisq</th><th scope=col>Df</th><th scope=col>Pr(&gt;Chisq)</th></tr></thead>\n",
       "<tbody>\n",
       "\t<tr><th scope=row>Disability</th><td>10.4434302 </td><td>1          </td><td>0.001230865</td></tr>\n",
       "\t<tr><th scope=row>Sex</th><td> 2.8266790 </td><td>1          </td><td>0.092709895</td></tr>\n",
       "\t<tr><th scope=row>Disability:Sex</th><td> 0.6961306 </td><td>1          </td><td>0.404086917</td></tr>\n",
       "</tbody>\n",
       "</table>\n"
      ],
      "text/latex": [
       "\\begin{tabular}{r|lll}\n",
       "  & LR Chisq & Df & Pr(>Chisq)\\\\\n",
       "\\hline\n",
       "\tDisability & 10.4434302  & 1           & 0.001230865\\\\\n",
       "\tSex &  2.8266790  & 1           & 0.092709895\\\\\n",
       "\tDisability:Sex &  0.6961306  & 1           & 0.404086917\\\\\n",
       "\\end{tabular}\n"
      ],
      "text/markdown": [
       "\n",
       "| <!--/--> | LR Chisq | Df | Pr(>Chisq) | \n",
       "|---|---|---|\n",
       "| Disability | 10.4434302  | 1           | 0.001230865 | \n",
       "| Sex |  2.8266790  | 1           | 0.092709895 | \n",
       "| Disability:Sex |  0.6961306  | 1           | 0.404086917 | \n",
       "\n",
       "\n"
      ],
      "text/plain": [
       "               LR Chisq   Df Pr(>Chisq) \n",
       "Disability     10.4434302 1  0.001230865\n",
       "Sex             2.8266790 1  0.092709895\n",
       "Disability:Sex  0.6961306 1  0.404086917"
      ]
     },
     "metadata": {},
     "output_type": "display_data"
    }
   ],
   "source": [
    "m <- multinom(Pref ~ Disability * Sex, data=df)\n",
    "Anova(m, type=3)"
   ]
  },
  {
   "cell_type": "markdown",
   "metadata": {},
   "source": [
    "Let us examine whether there was a significant preference for touchpads or trackballs within each Disability × Sex combination. Conduct such an exploration using post hoc binomial tests. Adjust for multiple comparisons using Holm's sequential Bonferroni procedure. What is the lowest corrected p-value produced by such an exploration? Hint: Conduct four separate tests with binom.test. The four tests correspond to the four combinations of Disability and Sex. For each combination, test the sum of rows preferring \"touchpad\" against all rows having that same Disability * Sex combination. Since there are only two devices, a test for touchpad is implicitly a test for trackball, and vice versa."
   ]
  },
  {
   "cell_type": "code",
   "execution_count": 838,
   "metadata": {},
   "outputs": [
    {
     "data": {
      "text/html": [
       "<table>\n",
       "<thead><tr><th scope=col>Subject</th><th scope=col>Disability</th><th scope=col>Sex</th><th scope=col>Pref</th></tr></thead>\n",
       "<tbody>\n",
       "\t<tr><td>1        </td><td>1        </td><td>M        </td><td>trackball</td></tr>\n",
       "\t<tr><td>2        </td><td>1        </td><td>F        </td><td>touchpad </td></tr>\n",
       "\t<tr><td>3        </td><td>0        </td><td>M        </td><td>touchpad </td></tr>\n",
       "\t<tr><td>4        </td><td>0        </td><td>F        </td><td>trackball</td></tr>\n",
       "\t<tr><td>5        </td><td>1        </td><td>M        </td><td>touchpad </td></tr>\n",
       "\t<tr><td>6        </td><td>0        </td><td>F        </td><td>touchpad </td></tr>\n",
       "</tbody>\n",
       "</table>\n"
      ],
      "text/latex": [
       "\\begin{tabular}{r|llll}\n",
       " Subject & Disability & Sex & Pref\\\\\n",
       "\\hline\n",
       "\t 1         & 1         & M         & trackball\\\\\n",
       "\t 2         & 1         & F         & touchpad \\\\\n",
       "\t 3         & 0         & M         & touchpad \\\\\n",
       "\t 4         & 0         & F         & trackball\\\\\n",
       "\t 5         & 1         & M         & touchpad \\\\\n",
       "\t 6         & 0         & F         & touchpad \\\\\n",
       "\\end{tabular}\n"
      ],
      "text/markdown": [
       "\n",
       "Subject | Disability | Sex | Pref | \n",
       "|---|---|---|---|---|---|\n",
       "| 1         | 1         | M         | trackball | \n",
       "| 2         | 1         | F         | touchpad  | \n",
       "| 3         | 0         | M         | touchpad  | \n",
       "| 4         | 0         | F         | trackball | \n",
       "| 5         | 1         | M         | touchpad  | \n",
       "| 6         | 0         | F         | touchpad  | \n",
       "\n",
       "\n"
      ],
      "text/plain": [
       "  Subject Disability Sex Pref     \n",
       "1 1       1          M   trackball\n",
       "2 2       1          F   touchpad \n",
       "3 3       0          M   touchpad \n",
       "4 4       0          F   trackball\n",
       "5 5       1          M   touchpad \n",
       "6 6       0          F   touchpad "
      ]
     },
     "metadata": {},
     "output_type": "display_data"
    }
   ],
   "source": [
    "head(df)"
   ]
  },
  {
   "cell_type": "code",
   "execution_count": 839,
   "metadata": {},
   "outputs": [
    {
     "data": {
      "text/html": [
       "<ol class=list-inline>\n",
       "\t<li>0.1962890625</li>\n",
       "\t<li>0.0625</li>\n",
       "\t<li>1</li>\n",
       "\t<li>1</li>\n",
       "</ol>\n"
      ],
      "text/latex": [
       "\\begin{enumerate*}\n",
       "\\item 0.1962890625\n",
       "\\item 0.0625\n",
       "\\item 1\n",
       "\\item 1\n",
       "\\end{enumerate*}\n"
      ],
      "text/markdown": [
       "1. 0.1962890625\n",
       "2. 0.0625\n",
       "3. 1\n",
       "4. 1\n",
       "\n",
       "\n"
      ],
      "text/plain": [
       "[1] 0.1962891 0.0625000 1.0000000 1.0000000"
      ]
     },
     "metadata": {},
     "output_type": "display_data"
    }
   ],
   "source": [
    "# Sex = M/F\n",
    "# Disability = 0/1\n",
    "# Pref = trackball/touchpad\n",
    "\n",
    "# First, for women without a disability, test the sum of rows in which they prefer the touchpad to all rows:\n",
    "f0 <- binom.test(\n",
    "        sum(df[df$Disability == \"0\" & df$Sex == \"F\",]$Pref == \"touchpad\"), \n",
    "        nrow(df[df$Disability == \"0\" & df$Sex == \"F\",]), \n",
    "        p=1/2)\n",
    "\n",
    "# Second, do the same for men without a disability:\n",
    "m0 <- binom.test(\n",
    "        sum(df[df$Disability == \"0\" & df$Sex == \"M\",]$Pref == \"touchpad\"), \n",
    "        nrow(df[df$Disability == \"0\" & df$Sex == \"M\",]), \n",
    "        p=1/2)\n",
    "\n",
    "# Third, do the same for women with a disability:\n",
    "f1 <- binom.test(\n",
    "        sum(df[df$Disability == \"1\" & df$Sex == \"F\",]$Pref == \"touchpad\"), \n",
    "        nrow(df[df$Disability == \"1\" & df$Sex == \"F\",]), \n",
    "        p=1/2)\n",
    "\n",
    "# Fourth, do the same for men with a disability:\n",
    "m1 <- binom.test(\n",
    "        sum(df[df$Disability == \"1\" & df$Sex == \"M\",]$Pref == \"touchpad\"), \n",
    "        nrow(df[df$Disability == \"1\" & df$Sex == \"M\",]), \n",
    "        p=1/2)\n",
    "\n",
    "# adjust for multiple comparisons:\n",
    "p.adjust(c(f0$p.value, m0$p.value, f1$p.value, m1$p.value), method=\"holm\")"
   ]
  },
  {
   "cell_type": "markdown",
   "metadata": {},
   "source": [
    "Download the file hwreco.csv from the course materials. This file describes a study of three handwriting recognizers (A, B, C) and subjects who were either right-handed or left-handed. The response is the number of incorrectly recognized handwritten words out of every 100 handwritten words. The research questions are how each recognizer fared overall and whether a given recognizer performed better for right-handed or left-handed writers. How many subjects took part in this study?"
   ]
  },
  {
   "cell_type": "code",
   "execution_count": 840,
   "metadata": {},
   "outputs": [
    {
     "data": {
      "text/html": [
       "<table>\n",
       "<thead><tr><th scope=col>Subject</th><th scope=col>Recognizer</th><th scope=col>Hand</th><th scope=col>Errors</th></tr></thead>\n",
       "<tbody>\n",
       "\t<tr><td>1    </td><td>A    </td><td>Right</td><td>9    </td></tr>\n",
       "\t<tr><td>2    </td><td>B    </td><td>Left </td><td>8    </td></tr>\n",
       "\t<tr><td>3    </td><td>C    </td><td>Right</td><td>2    </td></tr>\n",
       "\t<tr><td>4    </td><td>A    </td><td>Left </td><td>3    </td></tr>\n",
       "\t<tr><td>5    </td><td>B    </td><td>Right</td><td>3    </td></tr>\n",
       "\t<tr><td>6    </td><td>C    </td><td>Left </td><td>3    </td></tr>\n",
       "</tbody>\n",
       "</table>\n"
      ],
      "text/latex": [
       "\\begin{tabular}{r|llll}\n",
       " Subject & Recognizer & Hand & Errors\\\\\n",
       "\\hline\n",
       "\t 1     & A     & Right & 9    \\\\\n",
       "\t 2     & B     & Left  & 8    \\\\\n",
       "\t 3     & C     & Right & 2    \\\\\n",
       "\t 4     & A     & Left  & 3    \\\\\n",
       "\t 5     & B     & Right & 3    \\\\\n",
       "\t 6     & C     & Left  & 3    \\\\\n",
       "\\end{tabular}\n"
      ],
      "text/markdown": [
       "\n",
       "Subject | Recognizer | Hand | Errors | \n",
       "|---|---|---|---|---|---|\n",
       "| 1     | A     | Right | 9     | \n",
       "| 2     | B     | Left  | 8     | \n",
       "| 3     | C     | Right | 2     | \n",
       "| 4     | A     | Left  | 3     | \n",
       "| 5     | B     | Right | 3     | \n",
       "| 6     | C     | Left  | 3     | \n",
       "\n",
       "\n"
      ],
      "text/plain": [
       "  Subject Recognizer Hand  Errors\n",
       "1 1       A          Right 9     \n",
       "2 2       B          Left  8     \n",
       "3 3       C          Right 2     \n",
       "4 4       A          Left  3     \n",
       "5 5       B          Right 3     \n",
       "6 6       C          Left  3     "
      ]
     },
     "metadata": {},
     "output_type": "display_data"
    }
   ],
   "source": [
    "df <- read.csv(\"materials/hwreco.csv\")\n",
    "head(df)"
   ]
  },
  {
   "cell_type": "code",
   "execution_count": 841,
   "metadata": {},
   "outputs": [
    {
     "data": {
      "text/plain": [
       "    Subject   Recognizer    Hand        Errors     \n",
       " 1      : 1   A:17       Left :25   Min.   : 1.00  \n",
       " 2      : 1   B:17       Right:25   1st Qu.: 3.00  \n",
       " 3      : 1   C:16                  Median : 4.00  \n",
       " 4      : 1                         Mean   : 4.38  \n",
       " 5      : 1                         3rd Qu.: 6.00  \n",
       " 6      : 1                         Max.   :11.00  \n",
       " (Other):44                                        "
      ]
     },
     "metadata": {},
     "output_type": "display_data"
    }
   ],
   "source": [
    "df$Subject <- as.factor(df$Subject)\n",
    "\n",
    "summary(df)"
   ]
  },
  {
   "cell_type": "code",
   "execution_count": 842,
   "metadata": {},
   "outputs": [
    {
     "data": {
      "text/html": [
       "<table>\n",
       "<thead><tr><th></th><th scope=col>Subject</th><th scope=col>Recognizer</th><th scope=col>Hand</th><th scope=col>Errors</th></tr></thead>\n",
       "<tbody>\n",
       "\t<tr><th scope=row>45</th><td>45   </td><td>C    </td><td>Right</td><td>2    </td></tr>\n",
       "\t<tr><th scope=row>46</th><td>46   </td><td>A    </td><td>Left </td><td>3    </td></tr>\n",
       "\t<tr><th scope=row>47</th><td>47   </td><td>B    </td><td>Right</td><td>1    </td></tr>\n",
       "\t<tr><th scope=row>48</th><td>48   </td><td>C    </td><td>Left </td><td>4    </td></tr>\n",
       "\t<tr><th scope=row>49</th><td>49   </td><td>A    </td><td>Right</td><td>4    </td></tr>\n",
       "\t<tr><th scope=row>50</th><td>50   </td><td>B    </td><td>Left </td><td>4    </td></tr>\n",
       "</tbody>\n",
       "</table>\n"
      ],
      "text/latex": [
       "\\begin{tabular}{r|llll}\n",
       "  & Subject & Recognizer & Hand & Errors\\\\\n",
       "\\hline\n",
       "\t45 & 45    & C     & Right & 2    \\\\\n",
       "\t46 & 46    & A     & Left  & 3    \\\\\n",
       "\t47 & 47    & B     & Right & 1    \\\\\n",
       "\t48 & 48    & C     & Left  & 4    \\\\\n",
       "\t49 & 49    & A     & Right & 4    \\\\\n",
       "\t50 & 50    & B     & Left  & 4    \\\\\n",
       "\\end{tabular}\n"
      ],
      "text/markdown": [
       "\n",
       "| <!--/--> | Subject | Recognizer | Hand | Errors | \n",
       "|---|---|---|---|---|---|\n",
       "| 45 | 45    | C     | Right | 2     | \n",
       "| 46 | 46    | A     | Left  | 3     | \n",
       "| 47 | 47    | B     | Right | 1     | \n",
       "| 48 | 48    | C     | Left  | 4     | \n",
       "| 49 | 49    | A     | Right | 4     | \n",
       "| 50 | 50    | B     | Left  | 4     | \n",
       "\n",
       "\n"
      ],
      "text/plain": [
       "   Subject Recognizer Hand  Errors\n",
       "45 45      C          Right 2     \n",
       "46 46      A          Left  3     \n",
       "47 47      B          Right 1     \n",
       "48 48      C          Left  4     \n",
       "49 49      A          Right 4     \n",
       "50 50      B          Left  4     "
      ]
     },
     "metadata": {},
     "output_type": "display_data"
    }
   ],
   "source": [
    "tail(df)"
   ]
  },
  {
   "cell_type": "markdown",
   "metadata": {},
   "source": [
    "Create an interaction plot with Recognizer on the X-axis and Hand as the traces. How many times, if any, do the two traces cross?"
   ]
  },
  {
   "cell_type": "code",
   "execution_count": 843,
   "metadata": {},
   "outputs": [
    {
     "data": {
      "image/png": "[encoded data removed]",
      "text/plain": [
       "plot without title"
      ]
     },
     "metadata": {},
     "output_type": "display_data"
    }
   ],
   "source": [
    "with(df, interaction.plot(Recognizer, Hand, Errors, ylim=c(0, max(df$Errors))))"
   ]
  },
  {
   "cell_type": "markdown",
   "metadata": {},
   "source": [
    "Fit Poisson distributions to the Errors of each of the three Recognizer levels and test those fits with goodness-of-fit tests. To the nearest ten-thousandth (four digits), what is the lowest p-value produced by these tests? Hint: To fit a Poisson distribution, use the fitdistrplus library and its fitdist function. Then test the fit with the gofstat function."
   ]
  },
  {
   "cell_type": "code",
   "execution_count": 844,
   "metadata": {
    "collapsed": true
   },
   "outputs": [],
   "source": [
    "a <- df[df$Recognizer==\"A\", ]\n",
    "b <- df[df$Recognizer==\"B\", ]\n",
    "c <- df[df$Recognizer==\"C\", ]"
   ]
  },
  {
   "cell_type": "code",
   "execution_count": 845,
   "metadata": {},
   "outputs": [
    {
     "data": {
      "text/plain": [
       "Chi-squared statistic:  1.807852 \n",
       "Degree of freedom of the Chi-squared distribution:  2 \n",
       "Chi-squared p-value:  0.4049767 \n",
       "   the p-value may be wrong with some theoretical counts < 5  \n",
       "Chi-squared table:\n",
       "     obscounts theocounts\n",
       "<= 2  4.000000   3.627277\n",
       "<= 3  5.000000   3.168895\n",
       "<= 5  4.000000   6.072436\n",
       "> 5   4.000000   4.131392\n",
       "\n",
       "Goodness-of-fit criteria\n",
       "                               1-mle-pois\n",
       "Akaike's Information Criterion   75.86792\n",
       "Bayesian Information Criterion   76.70113"
      ]
     },
     "metadata": {},
     "output_type": "display_data"
    }
   ],
   "source": [
    "fit_a <- fitdist(a$Errors, \"pois\", discrete=TRUE)\n",
    "gofstat(fit_a)"
   ]
  },
  {
   "cell_type": "code",
   "execution_count": 846,
   "metadata": {},
   "outputs": [
    {
     "data": {
      "text/plain": [
       "Chi-squared statistic:  0.9192556 \n",
       "Degree of freedom of the Chi-squared distribution:  2 \n",
       "Chi-squared p-value:  0.6315187 \n",
       "   the p-value may be wrong with some theoretical counts < 5  \n",
       "Chi-squared table:\n",
       "     obscounts theocounts\n",
       "<= 3  5.000000   3.970124\n",
       "<= 5  4.000000   5.800601\n",
       "<= 6  3.000000   2.588830\n",
       "> 6   5.000000   4.640445\n",
       "\n",
       "Goodness-of-fit criteria\n",
       "                               1-mle-pois\n",
       "Akaike's Information Criterion   78.75600\n",
       "Bayesian Information Criterion   79.58921"
      ]
     },
     "metadata": {},
     "output_type": "display_data"
    }
   ],
   "source": [
    "fit_b <- fitdist(b$Errors, \"pois\", discrete=TRUE)\n",
    "gofstat(fit_b)"
   ]
  },
  {
   "cell_type": "code",
   "execution_count": 847,
   "metadata": {},
   "outputs": [
    {
     "data": {
      "text/plain": [
       "Chi-squared statistic:  0.3521272 \n",
       "Degree of freedom of the Chi-squared distribution:  2 \n",
       "Chi-squared p-value:  0.8385647 \n",
       "   the p-value may be wrong with some theoretical counts < 5  \n",
       "Chi-squared table:\n",
       "     obscounts theocounts\n",
       "<= 2  5.000000   4.600874\n",
       "<= 3  4.000000   3.347372\n",
       "<= 4  3.000000   3.085858\n",
       "> 4   4.000000   4.965897\n",
       "\n",
       "Goodness-of-fit criteria\n",
       "                               1-mle-pois\n",
       "Akaike's Information Criterion   70.89042\n",
       "Bayesian Information Criterion   71.66301"
      ]
     },
     "metadata": {},
     "output_type": "display_data"
    }
   ],
   "source": [
    "fit_c <- fitdist(c$Errors, \"pois\", discrete=TRUE)\n",
    "gofstat(fit_c)"
   ]
  },
  {
   "cell_type": "markdown",
   "metadata": {},
   "source": [
    "Use Poisson regression to examine Errors by Recognizer and Hand. To the nearest ten-thousandth (four digits), what is the p-value of the Recognizer × Hand interaction? Hint: Create a model with glm using family=poisson. Then use the car library and its Anova function with type=3. Prior to either, set sum-to-zero contrasts for both Recognizer and Hand."
   ]
  },
  {
   "cell_type": "code",
   "execution_count": 848,
   "metadata": {
    "collapsed": true
   },
   "outputs": [],
   "source": [
    "contrasts(df$Recognizer) <- \"contr.sum\"\n",
    "contrasts(df$Hand) <- \"contr.sum\""
   ]
  },
  {
   "cell_type": "code",
   "execution_count": 849,
   "metadata": {},
   "outputs": [
    {
     "data": {
      "text/html": [
       "<table>\n",
       "<thead><tr><th></th><th scope=col>LR Chisq</th><th scope=col>Df</th><th scope=col>Pr(&gt;Chisq)</th></tr></thead>\n",
       "<tbody>\n",
       "\t<tr><th scope=row>Recognizer</th><td> 4.876825 </td><td>2         </td><td>0.08729931</td></tr>\n",
       "\t<tr><th scope=row>Hand</th><td> 3.159116 </td><td>1         </td><td>0.07550405</td></tr>\n",
       "\t<tr><th scope=row>Recognizer:Hand</th><td>12.968154 </td><td>2         </td><td>0.00152757</td></tr>\n",
       "</tbody>\n",
       "</table>\n"
      ],
      "text/latex": [
       "\\begin{tabular}{r|lll}\n",
       "  & LR Chisq & Df & Pr(>Chisq)\\\\\n",
       "\\hline\n",
       "\tRecognizer &  4.876825  & 2          & 0.08729931\\\\\n",
       "\tHand &  3.159116  & 1          & 0.07550405\\\\\n",
       "\tRecognizer:Hand & 12.968154  & 2          & 0.00152757\\\\\n",
       "\\end{tabular}\n"
      ],
      "text/markdown": [
       "\n",
       "| <!--/--> | LR Chisq | Df | Pr(>Chisq) | \n",
       "|---|---|---|\n",
       "| Recognizer |  4.876825  | 2          | 0.08729931 | \n",
       "| Hand |  3.159116  | 1          | 0.07550405 | \n",
       "| Recognizer:Hand | 12.968154  | 2          | 0.00152757 | \n",
       "\n",
       "\n"
      ],
      "text/plain": [
       "                LR Chisq  Df Pr(>Chisq)\n",
       "Recognizer       4.876825 2  0.08729931\n",
       "Hand             3.159116 1  0.07550405\n",
       "Recognizer:Hand 12.968154 2  0.00152757"
      ]
     },
     "metadata": {},
     "output_type": "display_data"
    }
   ],
   "source": [
    "m <- glm(Errors ~ Recognizer * Hand, data=df, family=poisson)\n",
    "Anova(m, type=3)"
   ]
  },
  {
   "cell_type": "markdown",
   "metadata": {},
   "source": [
    "Conduct three planned comparisons between left- and right-handed recognition errors within each recognizer. Adjust for multiple comparisons using Holm's sequential Bonferroni procedure. What is the lowest corrected p-value from such tests? Hint: Use the multcomp and lsmeans libraries and the lsm formulation of the glht function. Because we only have three planned pairwise comparisons, use \"none\" for the initial multiple comparisons adjustment to avoid correcting for all possible pairwise comparisons. Instead, just find the three planned and as-yet uncorrected p-values and then pass them manually to p.adjust with method=\"holm\"."
   ]
  },
  {
   "cell_type": "code",
   "execution_count": 850,
   "metadata": {},
   "outputs": [
    {
     "data": {
      "text/plain": [
       "\n",
       "\t Simultaneous Tests for General Linear Hypotheses\n",
       "\n",
       "Fit: glm(formula = Errors ~ Recognizer * Hand, family = poisson, data = df)\n",
       "\n",
       "Linear Hypotheses:\n",
       "                         Estimate Std. Error z value Pr(>|z|)    \n",
       "A,Left - B,Left == 0   -8.938e-01  2.611e-01  -3.423 0.000619 ***\n",
       "A,Left - C,Left == 0   -2.231e-01  3.000e-01  -0.744 0.456990    \n",
       "A,Left - A,Right == 0  -8.183e-01  2.638e-01  -3.102 0.001925 ** \n",
       "A,Left - B,Right == 0  -5.306e-01  2.818e-01  -1.883 0.059702 .  \n",
       "A,Left - C,Right == 0  -5.306e-01  2.818e-01  -1.883 0.059702 .  \n",
       "B,Left - C,Left == 0    6.707e-01  2.412e-01   2.780 0.005428 ** \n",
       "B,Left - A,Right == 0   7.551e-02  1.944e-01   0.388 0.697704    \n",
       "B,Left - B,Right == 0   3.632e-01  2.182e-01   1.665 0.095955 .  \n",
       "B,Left - C,Right == 0   3.632e-01  2.182e-01   1.665 0.095955 .  \n",
       "C,Left - A,Right == 0  -5.952e-01  2.441e-01  -2.438 0.014779 *  \n",
       "C,Left - B,Right == 0  -3.075e-01  2.635e-01  -1.167 0.243171    \n",
       "C,Left - C,Right == 0  -3.075e-01  2.635e-01  -1.167 0.243171    \n",
       "A,Right - B,Right == 0  2.877e-01  2.214e-01   1.299 0.193822    \n",
       "A,Right - C,Right == 0  2.877e-01  2.214e-01   1.299 0.193822    \n",
       "B,Right - C,Right == 0 -2.220e-16  2.425e-01   0.000 1.000000    \n",
       "---\n",
       "Signif. codes:  0 '***' 0.001 '**' 0.01 '*' 0.05 '.' 0.1 ' ' 1\n",
       "(Adjusted p values reported -- none method)\n"
      ]
     },
     "metadata": {},
     "output_type": "display_data"
    }
   ],
   "source": [
    "# run all pairwise comparisons but do not correct for multiple comparisons \n",
    "# at this time, as only three planned comparisons will be regarded:\n",
    "# assuming m = glm(Errors ~ Recognizer * Hand, data=df, family=poisson)\n",
    "\n",
    "summary(glht(m, lsm(pairwise ~ Recognizer * Hand)), test=adjusted(type=\"none\"))"
   ]
  },
  {
   "cell_type": "code",
   "execution_count": 851,
   "metadata": {},
   "outputs": [
    {
     "data": {
      "text/html": [
       "<ol class=list-inline>\n",
       "\t<li>0.005775</li>\n",
       "\t<li>0.19191</li>\n",
       "\t<li>0.243171</li>\n",
       "</ol>\n"
      ],
      "text/latex": [
       "\\begin{enumerate*}\n",
       "\\item 0.005775\n",
       "\\item 0.19191\n",
       "\\item 0.243171\n",
       "\\end{enumerate*}\n"
      ],
      "text/markdown": [
       "1. 0.005775\n",
       "2. 0.19191\n",
       "3. 0.243171\n",
       "\n",
       "\n"
      ],
      "text/plain": [
       "[1] 0.005775 0.191910 0.243171"
      ]
     },
     "metadata": {},
     "output_type": "display_data"
    }
   ],
   "source": [
    "# manually copy the three uncorrected p-values from \n",
    "# A,Left vs. A,Right; B,Left vs. B,Right; and C,Left vs. C,Right into p.adjust:\n",
    "\n",
    "p.adjust(c(0.001925, 0.095955, 0.243171), method=\"holm\")"
   ]
  },
  {
   "cell_type": "code",
   "execution_count": 852,
   "metadata": {},
   "outputs": [
    {
     "data": {
      "image/png": "[encoded data removed]",
      "text/plain": [
       "plot without title"
      ]
     },
     "metadata": {},
     "output_type": "display_data"
    }
   ],
   "source": [
    "boxplot(Errors ~ Recognizer * Hand, data=df)"
   ]
  },
  {
   "cell_type": "markdown",
   "metadata": {},
   "source": [
    "Download the file bookflights.csv from the course materials. This file describes a survey in which website visitors booked a flight on either Expedia, Orbitz, or Priceline. Whether they booked a domestic or international flight was recorded. The survey response was a 1-7 ordinal rating for Ease on a Likert-type scale, with \"7\" being easiest. The research question is which site felt easiest to use overall, and specifically for domestic vs. international bookings. How many subjects took part in this study? Hint: As usual, you will need to encode Subject as a factor. You will also need to encode International as a factor, because it, too, is encoded in the data table as a number, but should not be treated as a numeric value. You also will need to encode Ease, because it is an ordinal response. But instead of the factor function that you used for encoding Subject and International, you will need the ordered function for encoding Ease as ordinal."
   ]
  },
  {
   "cell_type": "code",
   "execution_count": 853,
   "metadata": {},
   "outputs": [
    {
     "data": {
      "text/html": [
       "<table>\n",
       "<thead><tr><th scope=col>Subject</th><th scope=col>Website</th><th scope=col>International</th><th scope=col>Ease</th></tr></thead>\n",
       "<tbody>\n",
       "\t<tr><td>1        </td><td>Expedia  </td><td>1        </td><td>4        </td></tr>\n",
       "\t<tr><td>2        </td><td>Orbitz   </td><td>1        </td><td>3        </td></tr>\n",
       "\t<tr><td>3        </td><td>Priceline</td><td>1        </td><td>5        </td></tr>\n",
       "\t<tr><td>4        </td><td>Expedia  </td><td>0        </td><td>1        </td></tr>\n",
       "\t<tr><td>5        </td><td>Orbitz   </td><td>0        </td><td>7        </td></tr>\n",
       "\t<tr><td>6        </td><td>Priceline</td><td>0        </td><td>2        </td></tr>\n",
       "</tbody>\n",
       "</table>\n"
      ],
      "text/latex": [
       "\\begin{tabular}{r|llll}\n",
       " Subject & Website & International & Ease\\\\\n",
       "\\hline\n",
       "\t 1         & Expedia   & 1         & 4        \\\\\n",
       "\t 2         & Orbitz    & 1         & 3        \\\\\n",
       "\t 3         & Priceline & 1         & 5        \\\\\n",
       "\t 4         & Expedia   & 0         & 1        \\\\\n",
       "\t 5         & Orbitz    & 0         & 7        \\\\\n",
       "\t 6         & Priceline & 0         & 2        \\\\\n",
       "\\end{tabular}\n"
      ],
      "text/markdown": [
       "\n",
       "Subject | Website | International | Ease | \n",
       "|---|---|---|---|---|---|\n",
       "| 1         | Expedia   | 1         | 4         | \n",
       "| 2         | Orbitz    | 1         | 3         | \n",
       "| 3         | Priceline | 1         | 5         | \n",
       "| 4         | Expedia   | 0         | 1         | \n",
       "| 5         | Orbitz    | 0         | 7         | \n",
       "| 6         | Priceline | 0         | 2         | \n",
       "\n",
       "\n"
      ],
      "text/plain": [
       "  Subject Website   International Ease\n",
       "1 1       Expedia   1             4   \n",
       "2 2       Orbitz    1             3   \n",
       "3 3       Priceline 1             5   \n",
       "4 4       Expedia   0             1   \n",
       "5 5       Orbitz    0             7   \n",
       "6 6       Priceline 0             2   "
      ]
     },
     "metadata": {},
     "output_type": "display_data"
    }
   ],
   "source": [
    "df <- read.csv(\"materials/bookflights.csv\")\n",
    "head(df)"
   ]
  },
  {
   "cell_type": "code",
   "execution_count": 854,
   "metadata": {},
   "outputs": [
    {
     "data": {
      "text/html": [
       "<table>\n",
       "<thead><tr><th></th><th scope=col>Subject</th><th scope=col>Website</th><th scope=col>International</th><th scope=col>Ease</th></tr></thead>\n",
       "<tbody>\n",
       "\t<tr><th scope=row>595</th><td>595      </td><td>Expedia  </td><td>1        </td><td>6        </td></tr>\n",
       "\t<tr><th scope=row>596</th><td>596      </td><td>Orbitz   </td><td>1        </td><td>2        </td></tr>\n",
       "\t<tr><th scope=row>597</th><td>597      </td><td>Priceline</td><td>1        </td><td>6        </td></tr>\n",
       "\t<tr><th scope=row>598</th><td>598      </td><td>Expedia  </td><td>0        </td><td>5        </td></tr>\n",
       "\t<tr><th scope=row>599</th><td>599      </td><td>Orbitz   </td><td>0        </td><td>2        </td></tr>\n",
       "\t<tr><th scope=row>600</th><td>600      </td><td>Priceline</td><td>0        </td><td>2        </td></tr>\n",
       "</tbody>\n",
       "</table>\n"
      ],
      "text/latex": [
       "\\begin{tabular}{r|llll}\n",
       "  & Subject & Website & International & Ease\\\\\n",
       "\\hline\n",
       "\t595 & 595       & Expedia   & 1         & 6        \\\\\n",
       "\t596 & 596       & Orbitz    & 1         & 2        \\\\\n",
       "\t597 & 597       & Priceline & 1         & 6        \\\\\n",
       "\t598 & 598       & Expedia   & 0         & 5        \\\\\n",
       "\t599 & 599       & Orbitz    & 0         & 2        \\\\\n",
       "\t600 & 600       & Priceline & 0         & 2        \\\\\n",
       "\\end{tabular}\n"
      ],
      "text/markdown": [
       "\n",
       "| <!--/--> | Subject | Website | International | Ease | \n",
       "|---|---|---|---|---|---|\n",
       "| 595 | 595       | Expedia   | 1         | 6         | \n",
       "| 596 | 596       | Orbitz    | 1         | 2         | \n",
       "| 597 | 597       | Priceline | 1         | 6         | \n",
       "| 598 | 598       | Expedia   | 0         | 5         | \n",
       "| 599 | 599       | Orbitz    | 0         | 2         | \n",
       "| 600 | 600       | Priceline | 0         | 2         | \n",
       "\n",
       "\n"
      ],
      "text/plain": [
       "    Subject Website   International Ease\n",
       "595 595     Expedia   1             6   \n",
       "596 596     Orbitz    1             2   \n",
       "597 597     Priceline 1             6   \n",
       "598 598     Expedia   0             5   \n",
       "599 599     Orbitz    0             2   \n",
       "600 600     Priceline 0             2   "
      ]
     },
     "metadata": {},
     "output_type": "display_data"
    }
   ],
   "source": [
    "tail(df)"
   ]
  },
  {
   "cell_type": "code",
   "execution_count": 855,
   "metadata": {},
   "outputs": [],
   "source": [
    "df$Subject <- as.factor(df$Subject)\n",
    "df$International <- as.factor(df$International)\n",
    "df$Ease <- as.ordered(df$Ease)"
   ]
  },
  {
   "cell_type": "code",
   "execution_count": 856,
   "metadata": {},
   "outputs": [
    {
     "data": {
      "text/plain": [
       "    Subject         Website    International Ease   \n",
       " 1      :  1   Expedia  :200   0:300         1: 87  \n",
       " 2      :  1   Orbitz   :200   1:300         2: 58  \n",
       " 3      :  1   Priceline:200                 3:108  \n",
       " 4      :  1                                 4:107  \n",
       " 5      :  1                                 5: 95  \n",
       " 6      :  1                                 6: 71  \n",
       " (Other):594                                 7: 74  "
      ]
     },
     "metadata": {},
     "output_type": "display_data"
    }
   ],
   "source": [
    "summary(df)"
   ]
  },
  {
   "cell_type": "markdown",
   "metadata": {},
   "source": [
    "Create an interaction plot with Website on the X-axis and International as the traces. How many times, if any, do the two traces cross? Hint: If you already recoded Ease as an ordinal response, you must use as.numeric when passing it to interaction.plot."
   ]
  },
  {
   "cell_type": "code",
   "execution_count": 857,
   "metadata": {},
   "outputs": [
    {
     "data": {
      "image/png": "[encoded data removed]",
      "text/plain": [
       "plot without title"
      ]
     },
     "metadata": {},
     "output_type": "display_data"
    }
   ],
   "source": [
    "with(df, interaction.plot(Website, International, as.numeric(Ease), ylim=c(0, max(df$Ease))))"
   ]
  },
  {
   "cell_type": "markdown",
   "metadata": {},
   "source": [
    "Use ordinal logistic regression to examine Ease by Website and International. To the nearest ten-thousandth (four digits), what is the p-value of the Website main effect? Hint: Use the MASS library and its polr function with Hess=TRUE to create the ordinal logistic model. Then use the car library and its Anova function with type=3. Prior to either, set sum-to-zero contrasts for both Website and International. And recall that Ease needs to have been encoded as an ordinal response with the ordered function."
   ]
  },
  {
   "cell_type": "code",
   "execution_count": 858,
   "metadata": {
    "collapsed": true
   },
   "outputs": [],
   "source": [
    "contrasts(df$International) <- \"contr.sum\"\n",
    "contrasts(df$Website) <- \"contr.sum\""
   ]
  },
  {
   "cell_type": "code",
   "execution_count": 859,
   "metadata": {},
   "outputs": [
    {
     "data": {
      "text/html": [
       "<table>\n",
       "<thead><tr><th></th><th scope=col>LR Chisq</th><th scope=col>Df</th><th scope=col>Pr(&gt;Chisq)</th></tr></thead>\n",
       "<tbody>\n",
       "\t<tr><th scope=row>International</th><td> 0.6677662  </td><td>1           </td><td>4.138315e-01</td></tr>\n",
       "\t<tr><th scope=row>Website</th><td> 6.8108924  </td><td>2           </td><td>3.319201e-02</td></tr>\n",
       "\t<tr><th scope=row>International:Website</th><td>90.5904892  </td><td>2           </td><td>2.130714e-20</td></tr>\n",
       "</tbody>\n",
       "</table>\n"
      ],
      "text/latex": [
       "\\begin{tabular}{r|lll}\n",
       "  & LR Chisq & Df & Pr(>Chisq)\\\\\n",
       "\\hline\n",
       "\tInternational &  0.6677662   & 1            & 4.138315e-01\\\\\n",
       "\tWebsite &  6.8108924   & 2            & 3.319201e-02\\\\\n",
       "\tInternational:Website & 90.5904892   & 2            & 2.130714e-20\\\\\n",
       "\\end{tabular}\n"
      ],
      "text/markdown": [
       "\n",
       "| <!--/--> | LR Chisq | Df | Pr(>Chisq) | \n",
       "|---|---|---|\n",
       "| International |  0.6677662   | 1            | 4.138315e-01 | \n",
       "| Website |  6.8108924   | 2            | 3.319201e-02 | \n",
       "| International:Website | 90.5904892   | 2            | 2.130714e-20 | \n",
       "\n",
       "\n"
      ],
      "text/plain": [
       "                      LR Chisq   Df Pr(>Chisq)  \n",
       "International          0.6677662 1  4.138315e-01\n",
       "Website                6.8108924 2  3.319201e-02\n",
       "International:Website 90.5904892 2  2.130714e-20"
      ]
     },
     "metadata": {},
     "output_type": "display_data"
    }
   ],
   "source": [
    "m <- polr(Ease ~ International * Website, data=df, Hess=TRUE)\n",
    "Anova(m, type=3)"
   ]
  },
  {
   "cell_type": "markdown",
   "metadata": {},
   "source": [
    "Conduct three planned comparisons of Ease ratings between domestic and international bookings for each website. Adjust for multiple comparisons using Holm's sequential Bonferroni procedure. To the nearest ten-thousandth (four digits), what is the highest p-value from such tests? Hint: Use the multcomp and lsmeans libraries and the lsmeans, pairs, and as.glht functions. (The lsm formulation from within glht will not work in this case.) Because we only have three planned pairwise comparisons, use \"none\" for the multiple comparisons adjustment to avoid correcting for all possible pairwise comparisons. Instead, just find the three planned and as-yet uncorrected p-values and pass them manually to p.adjust with method=\"holm\". Since the formulation for simultaneous comparisons is a bit different, we place the code for that aspect of this question here:"
   ]
  },
  {
   "cell_type": "code",
   "execution_count": 860,
   "metadata": {},
   "outputs": [
    {
     "data": {
      "text/plain": [
       "\n",
       "\t Simultaneous Tests for General Linear Hypotheses\n",
       "\n",
       "Linear Hypotheses:\n",
       "                               Estimate Std. Error z value Pr(>|z|)    \n",
       "Expedia,0 - Orbitz,0 == 0       -2.1442     0.2619  -8.189 2.22e-16 ***\n",
       "Expedia,0 - Priceline,0 == 0    -0.9351     0.2537  -3.686 0.000228 ***\n",
       "Expedia,0 - Expedia,1 == 0      -1.6477     0.2570  -6.411 1.44e-10 ***\n",
       "Expedia,0 - Orbitz,1 == 0       -0.3217     0.2490  -1.292 0.196380    \n",
       "Expedia,0 - Priceline,1 == 0    -0.7563     0.2517  -3.004 0.002663 ** \n",
       "Orbitz,0 - Priceline,0 == 0      1.2091     0.2555   4.732 2.22e-06 ***\n",
       "Orbitz,0 - Expedia,1 == 0        0.4965     0.2505   1.982 0.047498 *  \n",
       "Orbitz,0 - Orbitz,1 == 0         1.8225     0.2571   7.089 1.35e-12 ***\n",
       "Orbitz,0 - Priceline,1 == 0      1.3879     0.2546   5.452 4.99e-08 ***\n",
       "Priceline,0 - Expedia,1 == 0    -0.7126     0.2518  -2.830 0.004659 ** \n",
       "Priceline,0 - Orbitz,1 == 0      0.6134     0.2497   2.457 0.014023 *  \n",
       "Priceline,0 - Priceline,1 == 0   0.1789     0.2501   0.715 0.474476    \n",
       "Expedia,1 - Orbitz,1 == 0        1.3260     0.2524   5.254 1.49e-07 ***\n",
       "Expedia,1 - Priceline,1 == 0     0.8914     0.2506   3.557 0.000375 ***\n",
       "Orbitz,1 - Priceline,1 == 0     -0.4345     0.2477  -1.754 0.079408 .  \n",
       "---\n",
       "Signif. codes:  0 '***' 0.001 '**' 0.01 '*' 0.05 '.' 0.1 ' ' 1\n",
       "(Adjusted p values reported -- none method)\n"
      ]
     },
     "metadata": {},
     "output_type": "display_data"
    }
   ],
   "source": [
    "summary(as.glht(pairs(lsmeans(m,  ~ Website * International))), test=adjusted(type=\"none\")) # this works!"
   ]
  },
  {
   "cell_type": "code",
   "execution_count": 861,
   "metadata": {},
   "outputs": [
    {
     "data": {
      "text/html": [
       "<ol class=list-inline>\n",
       "\t<li>2.88e-10</li>\n",
       "\t<li>4.05e-12</li>\n",
       "\t<li>0.474476</li>\n",
       "</ol>\n"
      ],
      "text/latex": [
       "\\begin{enumerate*}\n",
       "\\item 2.88e-10\n",
       "\\item 4.05e-12\n",
       "\\item 0.474476\n",
       "\\end{enumerate*}\n"
      ],
      "text/markdown": [
       "1. 2.88e-10\n",
       "2. 4.05e-12\n",
       "3. 0.474476\n",
       "\n",
       "\n"
      ],
      "text/plain": [
       "[1] 2.88000e-10 4.05000e-12 4.74476e-01"
      ]
     },
     "metadata": {},
     "output_type": "display_data"
    }
   ],
   "source": [
    "#  copy the three uncorrected p-values from \n",
    "# Expedia,0 vs. Expedia,1; Orbitz,0 vs. Orbitz,1; and Priceline,0 vs. Priceline,1 into p.adjust:\n",
    "\n",
    "p.adjust(c(1.44e-10, 1.35e-12, 0.474476), method=\"holm\")"
   ]
  },
  {
   "cell_type": "code",
   "execution_count": 862,
   "metadata": {},
   "outputs": [
    {
     "data": {
      "image/png": "[encoded data removed]",
      "text/plain": [
       "plot without title"
      ]
     },
     "metadata": {},
     "output_type": "display_data"
    }
   ],
   "source": [
    "boxplot(Ease ~ International * Website, data=df)"
   ]
  },
  {
   "cell_type": "code",
   "execution_count": null,
   "metadata": {
    "collapsed": true
   },
   "outputs": [],
   "source": []
  },
  {
   "cell_type": "code",
   "execution_count": null,
   "metadata": {
    "collapsed": true
   },
   "outputs": [],
   "source": []
  }
 ],
 "metadata": {
  "kernelspec": {
   "display_name": "R",
   "language": "R",
   "name": "ir"
  },
  "language_info": {
   "codemirror_mode": "r",
   "file_extension": ".r",
   "mimetype": "text/x-r-source",
   "name": "R",
   "pygments_lexer": "r",
   "version": "3.4.1"
  }
 },
 "nbformat": 4,
 "nbformat_minor": 2
}
