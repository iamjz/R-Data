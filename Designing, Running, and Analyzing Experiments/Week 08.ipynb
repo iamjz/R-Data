{
 "cells": [
  {
   "cell_type": "markdown",
   "metadata": {
    "collapsed": true
   },
   "source": [
    "# Introduction\n",
    "\n",
    "So far in this course, we've looked at ANOVAs for parametric test, analyses of variances, and all of these have fallen into the category of linear models, which we'll abbreviate as LM. \n",
    "\n",
    "And the ANVOAs that we've used are examples of linear models. \n",
    "\n",
    "But there's a generalization of linear models called: Generalized Linear Models. \n",
    "\n",
    "How do they generalize the linear model? Conceptually, what you can think of is that the linear model relates our factors or what are called predictor variables, the things we're manipulating in an experiment, it relates them to a response that's generally considered to be normal in nature. \n",
    "\n",
    "The generalized linear model goes beyond the relationship of predictors to our response being normal to allow for those other kinds of distributions that we looked at previously. I won't draw them all again but we'll remember the lognormal distribution and we'll remember things like the exponential distribution, the Poisson distribution, gamme distribution, bionomial or multinomial distributions that we talked about previously. \n",
    "\n",
    "When we generalize the model to these other distributions, we're able to analyze data that would otherwise perhaps violate the assumptions of ANOVA or not be suitable to just the regular linear model. \n",
    "\n",
    "So we're going to use GLMs to revisit some of the data that we analyzed previously in other ways. And we'll show that these generalized linear models are quite powerful and versatile. \n",
    "\n",
    "The generalized linear model can only handle between-subjects factors. So we'll be looking at just between-subjects situations for the generalized lienar model. And later in the course, we'll consider the generalized linear mixed model and the linear mixed model, which add the opportunity to do within-subjects analyses of experiments. For now, we'll be working with between-subjects with the generalized linear model. \n",
    "\n",
    "And we'll look at 3 examples. \n",
    "\n",
    "We'll look at our prefs ABC sex data, where we saw website preference respones from men and women in 3 categories (Website A, B, or C). Originally, we analyzed that with a chi-squared test. We analyzed it with a 2 sample chi-squared test. Next, we'll use something called multinomial logistic regression. And you'll recall the word multinomial is related to the multinomal distribution. It's when we have multiple categories of responses. \n",
    "\n",
    "We also will look again at our search, scroll, and voice data. And in particular, the effort ratings on the Likert scales. So we had a 1 to 7 effort score that people gave. \n",
    "\n",
    "You might recall that this was about using search, scroll, and voice on a smartphone to find contacts in a contacts manager. Now this was originally a within-subjects rating. We'll recode it to pretend it's a between-subjects variable and comply with the between-subjects requirement for generalized linear models. Previously, we analyzed this with a Friedman test. \n",
    "\n",
    "With a between-subjects approach to this, we'll analyze it with something called ordinal logistic regression. Ordinal because we have an ordinal response variable. It's related to multinomial logistic regression but for ordinal responses. And last, we're going to also look in search, scroll, and voice but at the error counts. The errors counts were the errors made while finding contacts in the contacts manager. We originally analyzed that also with a Friedman test. Here, we'll assume again they were between subjects and we'll use Posisson regression to analyze those counts. You might recall we did test early on, knowing this was coming, to see whether those counts were Poisson distributed. \n",
    "\n",
    "All of these, Poisson, ordinal, multinomial, are forms of generalized linear models. And we'll see the power of these models to analyze non-numeric responses in these cases, and non-normally distributed data, discrete data distributed in a Poisson model in this case."
   ]
  },
  {
   "cell_type": "markdown",
   "metadata": {},
   "source": [
    "# Analyzing 3 Generalized Linear Models (GLM)"
   ]
  },
  {
   "cell_type": "markdown",
   "metadata": {},
   "source": [
    "Note that what we've done so far in the linear model actually is incorporated in a generalized linear model as well. It would be using the normal distribution as part of the generalized model. Generalized linear models also have, besides their distribution they're considering, something called the link function, and that's how the predictors or the factors relate to the mean of the response. Each distribution in a generalized linear model has a kind of canonical link function that goes with it and we'll always use the canonical one. But you can look into this further and see that you can actually have different link functions along with different distributions. "
   ]
  },
  {
   "cell_type": "code",
   "execution_count": 2,
   "metadata": {},
   "outputs": [
    {
     "data": {
      "text/html": [
       "<table>\n",
       "<thead><tr><th scope=col>Subject</th><th scope=col>Pref</th><th scope=col>Sex</th></tr></thead>\n",
       "<tbody>\n",
       "\t<tr><td>1</td><td>C</td><td>F</td></tr>\n",
       "\t<tr><td>2</td><td>C</td><td>M</td></tr>\n",
       "\t<tr><td>3</td><td>B</td><td>M</td></tr>\n",
       "\t<tr><td>4</td><td>C</td><td>M</td></tr>\n",
       "\t<tr><td>5</td><td>C</td><td>M</td></tr>\n",
       "\t<tr><td>6</td><td>B</td><td>F</td></tr>\n",
       "</tbody>\n",
       "</table>\n"
      ],
      "text/latex": [
       "\\begin{tabular}{r|lll}\n",
       " Subject & Pref & Sex\\\\\n",
       "\\hline\n",
       "\t 1 & C & F\\\\\n",
       "\t 2 & C & M\\\\\n",
       "\t 3 & B & M\\\\\n",
       "\t 4 & C & M\\\\\n",
       "\t 5 & C & M\\\\\n",
       "\t 6 & B & F\\\\\n",
       "\\end{tabular}\n"
      ],
      "text/markdown": [
       "\n",
       "Subject | Pref | Sex | \n",
       "|---|---|---|---|---|---|\n",
       "| 1 | C | F | \n",
       "| 2 | C | M | \n",
       "| 3 | B | M | \n",
       "| 4 | C | M | \n",
       "| 5 | C | M | \n",
       "| 6 | B | F | \n",
       "\n",
       "\n"
      ],
      "text/plain": [
       "  Subject Pref Sex\n",
       "1 1       C    F  \n",
       "2 2       C    M  \n",
       "3 3       B    M  \n",
       "4 4       C    M  \n",
       "5 5       C    M  \n",
       "6 6       B    F  "
      ]
     },
     "metadata": {},
     "output_type": "display_data"
    }
   ],
   "source": [
    "# Generalized Linear Models (GLM) extend Linear Models (LM) for studies \n",
    "# with between-Ss factors to acommodate nominal (incl. binomial) or ordinal \n",
    "# responses, or with non-normal response distributions (e.g., Poisson, \n",
    "# exponential, gamma). All GLMs have a distribution and a link fn relating \n",
    "# their factors to their response. The GLM generalizes the LM, which is a \n",
    "# GLM with a normal distribution and \"identity\" link fn. See, e.g., \n",
    "# http://en.wikipedia.org/wiki/Generalized_linear_model\n",
    "\n",
    "prefsABCsex.2 <- read.csv(\"materials/prefsABCsex.csv\")\n",
    "head(prefsABCsex.2)"
   ]
  },
  {
   "cell_type": "code",
   "execution_count": 3,
   "metadata": {
    "collapsed": true
   },
   "outputs": [],
   "source": [
    "prefsABCsex.2$Subject <- as.factor(prefsABCsex.2$Subject)"
   ]
  },
  {
   "cell_type": "code",
   "execution_count": 4,
   "metadata": {},
   "outputs": [
    {
     "data": {
      "text/plain": [
       "    Subject   Pref   Sex   \n",
       " 1      : 1   A: 8   F:29  \n",
       " 2      : 1   B:21   M:31  \n",
       " 3      : 1   C:31         \n",
       " 4      : 1                \n",
       " 5      : 1                \n",
       " 6      : 1                \n",
       " (Other):54                "
      ]
     },
     "metadata": {},
     "output_type": "display_data"
    }
   ],
   "source": [
    "summary(prefsABCsex.2)"
   ]
  },
  {
   "cell_type": "code",
   "execution_count": 7,
   "metadata": {},
   "outputs": [
    {
     "data": {
      "image/png": "[encoded data removed]",
      "text/plain": [
       "plot without title"
      ]
     },
     "metadata": {},
     "output_type": "display_data"
    }
   ],
   "source": [
    "plot(prefsABCsex.2[prefsABCsex.2$Sex == \"M\",]$Pref)"
   ]
  },
  {
   "cell_type": "code",
   "execution_count": 15,
   "metadata": {},
   "outputs": [
    {
     "data": {
      "image/png": "[encoded data removed]",
      "text/plain": [
       "plot without title"
      ]
     },
     "metadata": {},
     "output_type": "display_data"
    }
   ],
   "source": [
    "plot(prefsABCsex.2[prefsABCsex.2$Sex == \"F\",]$Pref)"
   ]
  },
  {
   "cell_type": "code",
   "execution_count": 34,
   "metadata": {},
   "outputs": [
    {
     "data": {
      "text/html": [
       "<table>\n",
       "<thead><tr><th scope=col>Subject</th><th scope=col>Pref</th><th scope=col>Sex</th></tr></thead>\n",
       "<tbody>\n",
       "\t<tr><td>1</td><td>C</td><td>F</td></tr>\n",
       "\t<tr><td>2</td><td>C</td><td>M</td></tr>\n",
       "\t<tr><td>3</td><td>B</td><td>M</td></tr>\n",
       "\t<tr><td>4</td><td>C</td><td>M</td></tr>\n",
       "\t<tr><td>5</td><td>C</td><td>M</td></tr>\n",
       "\t<tr><td>6</td><td>B</td><td>F</td></tr>\n",
       "</tbody>\n",
       "</table>\n"
      ],
      "text/latex": [
       "\\begin{tabular}{r|lll}\n",
       " Subject & Pref & Sex\\\\\n",
       "\\hline\n",
       "\t 1 & C & F\\\\\n",
       "\t 2 & C & M\\\\\n",
       "\t 3 & B & M\\\\\n",
       "\t 4 & C & M\\\\\n",
       "\t 5 & C & M\\\\\n",
       "\t 6 & B & F\\\\\n",
       "\\end{tabular}\n"
      ],
      "text/markdown": [
       "\n",
       "Subject | Pref | Sex | \n",
       "|---|---|---|---|---|---|\n",
       "| 1 | C | F | \n",
       "| 2 | C | M | \n",
       "| 3 | B | M | \n",
       "| 4 | C | M | \n",
       "| 5 | C | M | \n",
       "| 6 | B | F | \n",
       "\n",
       "\n"
      ],
      "text/plain": [
       "  Subject Pref Sex\n",
       "1 1       C    F  \n",
       "2 2       C    M  \n",
       "3 3       B    M  \n",
       "4 4       C    M  \n",
       "5 5       C    M  \n",
       "6 6       B    F  "
      ]
     },
     "metadata": {},
     "output_type": "display_data"
    }
   ],
   "source": [
    "head(prefsABCsex.2)"
   ]
  },
  {
   "cell_type": "code",
   "execution_count": 35,
   "metadata": {
    "collapsed": true
   },
   "outputs": [],
   "source": [
    "## GLM 1: Nominal logistic regression for preference responses\n",
    "## -----  Multinomial distribution w/ logit link fn"
   ]
  },
  {
   "cell_type": "code",
   "execution_count": 14,
   "metadata": {},
   "outputs": [
    {
     "data": {
      "text/html": [
       "<table>\n",
       "<tbody>\n",
       "\t<tr><th scope=row>F</th><td> 1</td></tr>\n",
       "\t<tr><th scope=row>M</th><td>-1</td></tr>\n",
       "</tbody>\n",
       "</table>\n"
      ],
      "text/latex": [
       "\\begin{tabular}{r|l}\n",
       "\tF &  1\\\\\n",
       "\tM & -1\\\\\n",
       "\\end{tabular}\n"
      ],
      "text/markdown": [
       "\n",
       "| F |  1 | \n",
       "| M | -1 | \n",
       "\n",
       "\n"
      ],
      "text/plain": [
       "  [,1]\n",
       "F  1  \n",
       "M -1  "
      ]
     },
     "metadata": {},
     "output_type": "display_data"
    }
   ],
   "source": [
    "# analyze Pref by Sex with multinomial logistic regression,\n",
    "# also sometimes called nominal logistic regression\n",
    "\n",
    "library(\"nnet\") # for multinom\n",
    "library(\"car\") # for anova\n",
    "\n",
    "# set sum to zero contrasts for the anova call\n",
    "contrasts(prefsABCsex.2$Sex) <- \"contr.sum\"\n",
    "\n",
    "contrasts(prefsABCsex.2$Sex)"
   ]
  },
  {
   "cell_type": "code",
   "execution_count": 24,
   "metadata": {},
   "outputs": [
    {
     "name": "stdout",
     "output_type": "stream",
     "text": [
      "# weights:  9 (4 variable)\n",
      "initial  value 65.916737 \n",
      "iter  10 value 55.099353\n",
      "iter  10 value 55.099353\n",
      "final  value 55.099353 \n",
      "converged\n"
     ]
    },
    {
     "data": {
      "text/html": [
       "<table>\n",
       "<thead><tr><th></th><th scope=col>LR Chisq</th><th scope=col>Df</th><th scope=col>Pr(&gt;Chisq)</th></tr></thead>\n",
       "<tbody>\n",
       "\t<tr><th scope=row>Sex</th><td>7.074429  </td><td>2         </td><td>0.02909426</td></tr>\n",
       "</tbody>\n",
       "</table>\n"
      ],
      "text/latex": [
       "\\begin{tabular}{r|lll}\n",
       "  & LR Chisq & Df & Pr(>Chisq)\\\\\n",
       "\\hline\n",
       "\tSex & 7.074429   & 2          & 0.02909426\\\\\n",
       "\\end{tabular}\n"
      ],
      "text/markdown": [
       "\n",
       "| <!--/--> | LR Chisq | Df | Pr(>Chisq) | \n",
       "|---|\n",
       "| Sex | 7.074429   | 2          | 0.02909426 | \n",
       "\n",
       "\n"
      ],
      "text/plain": [
       "    LR Chisq Df Pr(>Chisq)\n",
       "Sex 7.074429 2  0.02909426"
      ]
     },
     "metadata": {},
     "output_type": "display_data"
    }
   ],
   "source": [
    "m <- multinom(Pref ~ Sex, data=prefsABCsex.2)\n",
    "Anova(m, type=3) \n",
    "\n",
    "# note: if Pref had only 2 response categories, we might us \n",
    "# binomial regression, which uses the same syntax as poisson regression\n",
    "# but with family=binomial"
   ]
  },
  {
   "cell_type": "code",
   "execution_count": 28,
   "metadata": {},
   "outputs": [
    {
     "data": {
      "text/html": [
       "<ol class=list-inline>\n",
       "\t<li>0.109473563767907</li>\n",
       "\t<li>0.126622171855485</li>\n",
       "\t<li>0.00129675403508036</li>\n",
       "</ol>\n"
      ],
      "text/latex": [
       "\\begin{enumerate*}\n",
       "\\item 0.109473563767907\n",
       "\\item 0.126622171855485\n",
       "\\item 0.00129675403508036\n",
       "\\end{enumerate*}\n"
      ],
      "text/markdown": [
       "1. 0.109473563767907\n",
       "2. 0.126622171855485\n",
       "3. 0.00129675403508036\n",
       "\n",
       "\n"
      ],
      "text/plain": [
       "[1] 0.109473564 0.126622172 0.001296754"
      ]
     },
     "metadata": {},
     "output_type": "display_data"
    }
   ],
   "source": [
    "# recall our testing from before to see which preferences by males were\n",
    "# significantly different from chance (answer: really liked C).\n",
    "\n",
    "ma <- binom.test(\n",
    "        sum(prefsABCsex.2[prefsABCsex.2$Sex == \"M\",]$Pref == \"A\"), \n",
    "                     nrow(prefsABCsex.2[prefsABCsex.2$Sex == \"M\",]), \n",
    "                     p=1/3)\n",
    "\n",
    "mb <- binom.test(\n",
    "        sum(prefsABCsex.2[prefsABCsex.2$Sex == \"M\",]$Pref == \"B\"), \n",
    "                     nrow(prefsABCsex.2[prefsABCsex.2$Sex == \"M\",]), \n",
    "                     p=1/3)\n",
    "\n",
    "mc <- binom.test(\n",
    "        sum(prefsABCsex.2[prefsABCsex.2$Sex == \"M\",]$Pref == \"C\"), \n",
    "                     nrow(prefsABCsex.2[prefsABCsex.2$Sex == \"M\",]), \n",
    "                     p=1/3)\n",
    "\n",
    "p.adjust(c(ma$p.value, mb$p.value, mc$p.value), method=\"holm\") # correct for multiple comparisons"
   ]
  },
  {
   "cell_type": "code",
   "execution_count": 33,
   "metadata": {},
   "outputs": [
    {
     "data": {
      "text/html": [
       "<ol class=list-inline>\n",
       "\t<li>0.0270327355020827</li>\n",
       "\t<li>0.0944782072896456</li>\n",
       "\t<li>0.693969513615019</li>\n",
       "</ol>\n"
      ],
      "text/latex": [
       "\\begin{enumerate*}\n",
       "\\item 0.0270327355020827\n",
       "\\item 0.0944782072896456\n",
       "\\item 0.693969513615019\n",
       "\\end{enumerate*}\n"
      ],
      "text/markdown": [
       "1. 0.0270327355020827\n",
       "2. 0.0944782072896456\n",
       "3. 0.693969513615019\n",
       "\n",
       "\n"
      ],
      "text/plain": [
       "[1] 0.02703274 0.09447821 0.69396951"
      ]
     },
     "metadata": {},
     "output_type": "display_data"
    }
   ],
   "source": [
    "# and for females, their preferences differed significantly from \n",
    "# chance for a different choice (answer: really disliked A).\n",
    "\n",
    "fa <- binom.test(\n",
    "        sum(prefsABCsex.2[prefsABCsex.2$Sex == \"F\",]$Pref == \"A\"), \n",
    "        nrow(prefsABCsex.2[prefsABCsex.2$Sex == \"F\",]), \n",
    "        p=1/3)\n",
    "\n",
    "fb <- binom.test(\n",
    "        sum(prefsABCsex.2[prefsABCsex.2$Sex == \"F\",]$Pref == \"B\"), \n",
    "        nrow(prefsABCsex.2[prefsABCsex.2$Sex == \"F\",]), \n",
    "        p=1/3)\n",
    "\n",
    "fc <- binom.test(\n",
    "        sum(prefsABCsex.2[prefsABCsex.2$Sex == \"F\",]$Pref == \"C\"), \n",
    "        nrow(prefsABCsex.2[prefsABCsex.2$Sex == \"F\",]), \n",
    "        p=1/3)\n",
    "\n",
    "p.adjust(c(fa$p.value, fb$p.value, fc$p.value), method=\"holm\") # correct for multiple comparisons"
   ]
  },
  {
   "cell_type": "code",
   "execution_count": 54,
   "metadata": {},
   "outputs": [
    {
     "data": {
      "text/html": [
       "<table>\n",
       "<thead><tr><th scope=col>Subject</th><th scope=col>Technique</th><th scope=col>Order</th><th scope=col>Time</th><th scope=col>Errors</th><th scope=col>Effort</th></tr></thead>\n",
       "<tbody>\n",
       "\t<tr><td>1     </td><td>Search</td><td>1     </td><td> 98   </td><td>4     </td><td>5     </td></tr>\n",
       "\t<tr><td>1     </td><td>Scroll</td><td>2     </td><td>152   </td><td>0     </td><td>6     </td></tr>\n",
       "\t<tr><td>2     </td><td>Search</td><td>2     </td><td> 57   </td><td>2     </td><td>2     </td></tr>\n",
       "\t<tr><td>2     </td><td>Scroll</td><td>1     </td><td>148   </td><td>0     </td><td>3     </td></tr>\n",
       "\t<tr><td>3     </td><td>Search</td><td>1     </td><td> 86   </td><td>3     </td><td>2     </td></tr>\n",
       "\t<tr><td>3     </td><td>Scroll</td><td>2     </td><td>160   </td><td>0     </td><td>4     </td></tr>\n",
       "</tbody>\n",
       "</table>\n"
      ],
      "text/latex": [
       "\\begin{tabular}{r|llllll}\n",
       " Subject & Technique & Order & Time & Errors & Effort\\\\\n",
       "\\hline\n",
       "\t 1      & Search & 1      &  98    & 4      & 5     \\\\\n",
       "\t 1      & Scroll & 2      & 152    & 0      & 6     \\\\\n",
       "\t 2      & Search & 2      &  57    & 2      & 2     \\\\\n",
       "\t 2      & Scroll & 1      & 148    & 0      & 3     \\\\\n",
       "\t 3      & Search & 1      &  86    & 3      & 2     \\\\\n",
       "\t 3      & Scroll & 2      & 160    & 0      & 4     \\\\\n",
       "\\end{tabular}\n"
      ],
      "text/markdown": [
       "\n",
       "Subject | Technique | Order | Time | Errors | Effort | \n",
       "|---|---|---|---|---|---|\n",
       "| 1      | Search | 1      |  98    | 4      | 5      | \n",
       "| 1      | Scroll | 2      | 152    | 0      | 6      | \n",
       "| 2      | Search | 2      |  57    | 2      | 2      | \n",
       "| 2      | Scroll | 1      | 148    | 0      | 3      | \n",
       "| 3      | Search | 1      |  86    | 3      | 2      | \n",
       "| 3      | Scroll | 2      | 160    | 0      | 4      | \n",
       "\n",
       "\n"
      ],
      "text/plain": [
       "  Subject Technique Order Time Errors Effort\n",
       "1 1       Search    1      98  4      5     \n",
       "2 1       Scroll    2     152  0      6     \n",
       "3 2       Search    2      57  2      2     \n",
       "4 2       Scroll    1     148  0      3     \n",
       "5 3       Search    1      86  3      2     \n",
       "6 3       Scroll    2     160  0      4     "
      ]
     },
     "metadata": {},
     "output_type": "display_data"
    }
   ],
   "source": [
    "## GLM 2: Ordinal logistic regression for Likert responses\n",
    "## -----  Multinomial distribution w/ cumulative logit link fn\n",
    "\n",
    "# re-read our data showing Effort Likert rating for finding contacts on a smartphone\n",
    "srchscrlvce.2 <- read.csv(\"materials/srchscrlvce.csv\")\n",
    "\n",
    "head(srchscrlvce.2)"
   ]
  },
  {
   "cell_type": "code",
   "execution_count": 55,
   "metadata": {},
   "outputs": [],
   "source": [
    "# recode as between-Ss study. we're using the data but faking it so every record is a different subject. \n",
    "srchscrlvce.2$Subject <- (1:nrow(srchscrlvce.2)) \n",
    "\n",
    "srchscrlvce.2$Subject <- as.factor(srchscrlvce.2$Subject)\n",
    "srchscrlvce.2$Order <- NULL # drop this "
   ]
  },
  {
   "cell_type": "code",
   "execution_count": 56,
   "metadata": {},
   "outputs": [
    {
     "data": {
      "text/plain": [
       "    Subject    Technique       Time           Errors         Effort    \n",
       " 1      : 1   Scroll:20   Min.   : 49.0   Min.   :0.00   Min.   :1.00  \n",
       " 2      : 1   Search:20   1st Qu.: 86.0   1st Qu.:1.00   1st Qu.:3.00  \n",
       " 3      : 1   Voice :20   Median : 97.0   Median :2.00   Median :4.00  \n",
       " 4      : 1               Mean   :106.2   Mean   :2.75   Mean   :4.15  \n",
       " 5      : 1               3rd Qu.:128.0   3rd Qu.:4.00   3rd Qu.:5.00  \n",
       " 6      : 1               Max.   :192.0   Max.   :9.00   Max.   :7.00  \n",
       " (Other):54                                                            "
      ]
     },
     "metadata": {},
     "output_type": "display_data"
    }
   ],
   "source": [
    "summary(srchscrlvce.2)"
   ]
  },
  {
   "cell_type": "code",
   "execution_count": 57,
   "metadata": {},
   "outputs": [
    {
     "data": {
      "text/html": [
       "<table>\n",
       "<thead><tr><th scope=col>Subject</th><th scope=col>Technique</th><th scope=col>Time</th><th scope=col>Errors</th><th scope=col>Effort</th></tr></thead>\n",
       "<tbody>\n",
       "\t<tr><td>1     </td><td>Search</td><td> 98   </td><td>4     </td><td>5     </td></tr>\n",
       "\t<tr><td>2     </td><td>Scroll</td><td>152   </td><td>0     </td><td>6     </td></tr>\n",
       "\t<tr><td>3     </td><td>Search</td><td> 57   </td><td>2     </td><td>2     </td></tr>\n",
       "\t<tr><td>4     </td><td>Scroll</td><td>148   </td><td>0     </td><td>3     </td></tr>\n",
       "\t<tr><td>5     </td><td>Search</td><td> 86   </td><td>3     </td><td>2     </td></tr>\n",
       "\t<tr><td>6     </td><td>Scroll</td><td>160   </td><td>0     </td><td>4     </td></tr>\n",
       "</tbody>\n",
       "</table>\n"
      ],
      "text/latex": [
       "\\begin{tabular}{r|lllll}\n",
       " Subject & Technique & Time & Errors & Effort\\\\\n",
       "\\hline\n",
       "\t 1      & Search &  98    & 4      & 5     \\\\\n",
       "\t 2      & Scroll & 152    & 0      & 6     \\\\\n",
       "\t 3      & Search &  57    & 2      & 2     \\\\\n",
       "\t 4      & Scroll & 148    & 0      & 3     \\\\\n",
       "\t 5      & Search &  86    & 3      & 2     \\\\\n",
       "\t 6      & Scroll & 160    & 0      & 4     \\\\\n",
       "\\end{tabular}\n"
      ],
      "text/markdown": [
       "\n",
       "Subject | Technique | Time | Errors | Effort | \n",
       "|---|---|---|---|---|---|\n",
       "| 1      | Search |  98    | 4      | 5      | \n",
       "| 2      | Scroll | 152    | 0      | 6      | \n",
       "| 3      | Search |  57    | 2      | 2      | \n",
       "| 4      | Scroll | 148    | 0      | 3      | \n",
       "| 5      | Search |  86    | 3      | 2      | \n",
       "| 6      | Scroll | 160    | 0      | 4      | \n",
       "\n",
       "\n"
      ],
      "text/plain": [
       "  Subject Technique Time Errors Effort\n",
       "1 1       Search     98  4      5     \n",
       "2 2       Scroll    152  0      6     \n",
       "3 3       Search     57  2      2     \n",
       "4 4       Scroll    148  0      3     \n",
       "5 5       Search     86  3      2     \n",
       "6 6       Scroll    160  0      4     "
      ]
     },
     "metadata": {},
     "output_type": "display_data"
    }
   ],
   "source": [
    "head(srchscrlvce.2)"
   ]
  },
  {
   "cell_type": "code",
   "execution_count": 58,
   "metadata": {},
   "outputs": [
    {
     "data": {
      "text/html": [
       "<table>\n",
       "<thead><tr><th scope=col>Technique</th><th scope=col>Min.</th><th scope=col>1st Qu.</th><th scope=col>Median</th><th scope=col>Mean</th><th scope=col>3rd Qu.</th><th scope=col>Max.</th></tr></thead>\n",
       "<tbody>\n",
       "\t<tr><td>Scroll</td><td>1     </td><td>3.00  </td><td>4     </td><td>4.40  </td><td>6.00  </td><td>7     </td></tr>\n",
       "\t<tr><td>Search</td><td>1     </td><td>3.00  </td><td>4     </td><td>3.60  </td><td>4.25  </td><td>5     </td></tr>\n",
       "\t<tr><td>Voice </td><td>1     </td><td>3.75  </td><td>5     </td><td>4.45  </td><td>5.25  </td><td>6     </td></tr>\n",
       "</tbody>\n",
       "</table>\n"
      ],
      "text/latex": [
       "\\begin{tabular}{r|lllllll}\n",
       " Technique & Min. & 1st Qu. & Median & Mean & 3rd Qu. & Max.\\\\\n",
       "\\hline\n",
       "\t Scroll & 1      & 3.00   & 4      & 4.40   & 6.00   & 7     \\\\\n",
       "\t Search & 1      & 3.00   & 4      & 3.60   & 4.25   & 5     \\\\\n",
       "\t Voice  & 1      & 3.75   & 5      & 4.45   & 5.25   & 6     \\\\\n",
       "\\end{tabular}\n"
      ],
      "text/markdown": [
       "\n",
       "Technique | Min. | 1st Qu. | Median | Mean | 3rd Qu. | Max. | \n",
       "|---|---|---|\n",
       "| Scroll | 1      | 3.00   | 4      | 4.40   | 6.00   | 7      | \n",
       "| Search | 1      | 3.00   | 4      | 3.60   | 4.25   | 5      | \n",
       "| Voice  | 1      | 3.75   | 5      | 4.45   | 5.25   | 6      | \n",
       "\n",
       "\n"
      ],
      "text/plain": [
       "  Technique Min. 1st Qu. Median Mean 3rd Qu. Max.\n",
       "1 Scroll    1    3.00    4      4.40 6.00    7   \n",
       "2 Search    1    3.00    4      3.60 4.25    5   \n",
       "3 Voice     1    3.75    5      4.45 5.25    6   "
      ]
     },
     "metadata": {},
     "output_type": "display_data"
    }
   ],
   "source": [
    "# re-familiarize ourselves with the Effort Likert response\n",
    "\n",
    "library(\"plyr\")\n",
    "\n",
    "ddply(srchscrlvce.2, ~ Technique, function(data) summary(data$Effort))"
   ]
  },
  {
   "cell_type": "code",
   "execution_count": 59,
   "metadata": {},
   "outputs": [
    {
     "data": {
      "text/html": [
       "<table>\n",
       "<thead><tr><th scope=col>Technique</th><th scope=col>Effort.mean</th><th scope=col>Effort.sd</th></tr></thead>\n",
       "<tbody>\n",
       "\t<tr><td>Scroll  </td><td>4.40    </td><td>1.698296</td></tr>\n",
       "\t<tr><td>Search  </td><td>3.60    </td><td>1.187656</td></tr>\n",
       "\t<tr><td>Voice   </td><td>4.45    </td><td>1.356272</td></tr>\n",
       "</tbody>\n",
       "</table>\n"
      ],
      "text/latex": [
       "\\begin{tabular}{r|lll}\n",
       " Technique & Effort.mean & Effort.sd\\\\\n",
       "\\hline\n",
       "\t Scroll   & 4.40     & 1.698296\\\\\n",
       "\t Search   & 3.60     & 1.187656\\\\\n",
       "\t Voice    & 4.45     & 1.356272\\\\\n",
       "\\end{tabular}\n"
      ],
      "text/markdown": [
       "\n",
       "Technique | Effort.mean | Effort.sd | \n",
       "|---|---|---|\n",
       "| Scroll   | 4.40     | 1.698296 | \n",
       "| Search   | 3.60     | 1.187656 | \n",
       "| Voice    | 4.45     | 1.356272 | \n",
       "\n",
       "\n"
      ],
      "text/plain": [
       "  Technique Effort.mean Effort.sd\n",
       "1 Scroll    4.40        1.698296 \n",
       "2 Search    3.60        1.187656 \n",
       "3 Voice     4.45        1.356272 "
      ]
     },
     "metadata": {},
     "output_type": "display_data"
    }
   ],
   "source": [
    "ddply(srchscrlvce.2, ~ Technique, summarise, Effort.mean=mean(Effort), Effort.sd=sd(Effort))"
   ]
  },
  {
   "cell_type": "code",
   "execution_count": 60,
   "metadata": {},
   "outputs": [
    {
     "data": {
      "image/png": "[encoded data removed]",
      "text/plain": [
       "Plot with title \"Histogram of srchscrlvce.2[srchscrlvce.2$Technique == \"Search\", ]$Effort\""
      ]
     },
     "metadata": {},
     "output_type": "display_data"
    }
   ],
   "source": [
    "hist(srchscrlvce.2[srchscrlvce.2$Technique == \"Search\",]$Effort, breaks=c(1:7), xlim=c(1,7))"
   ]
  },
  {
   "cell_type": "code",
   "execution_count": 61,
   "metadata": {},
   "outputs": [
    {
     "data": {
      "image/png": "[encoded data removed]",
      "text/plain": [
       "Plot with title \"Histogram of srchscrlvce.2[srchscrlvce.2$Technique == \"Scroll\", ]$Effort\""
      ]
     },
     "metadata": {},
     "output_type": "display_data"
    }
   ],
   "source": [
    "hist(srchscrlvce.2[srchscrlvce.2$Technique == \"Scroll\",]$Effort, breaks=c(1:7), xlim=c(1,7))"
   ]
  },
  {
   "cell_type": "code",
   "execution_count": 62,
   "metadata": {},
   "outputs": [
    {
     "data": {
      "image/png": "[encoded data removed]",
      "text/plain": [
       "Plot with title \"Histogram of srchscrlvce.2[srchscrlvce.2$Technique == \"Voice\", ]$Effort\""
      ]
     },
     "metadata": {},
     "output_type": "display_data"
    }
   ],
   "source": [
    "hist(srchscrlvce.2[srchscrlvce.2$Technique == \"Voice\",]$Effort, breaks=c(1:7), xlim=c(1,7))"
   ]
  },
  {
   "cell_type": "code",
   "execution_count": 63,
   "metadata": {},
   "outputs": [
    {
     "data": {
      "image/png": "[encoded data removed]",
      "text/plain": [
       "plot without title"
      ]
     },
     "metadata": {},
     "output_type": "display_data"
    }
   ],
   "source": [
    "plot(Effort ~ Technique, data=srchscrlvce.2) # boxplot"
   ]
  },
  {
   "cell_type": "code",
   "execution_count": 64,
   "metadata": {
    "collapsed": true
   },
   "outputs": [],
   "source": [
    "# analyze Effort Likert ratings by Technique with ordinal logistic regression\n",
    "\n",
    "library(\"MASS\") # for polr\n",
    "library(\"car\") # for anova\n",
    "\n",
    "srchscrlvce.2$Effort <- ordered(srchscrlvce.2$Effort) # must be an ordinal response"
   ]
  },
  {
   "cell_type": "code",
   "execution_count": 65,
   "metadata": {},
   "outputs": [
    {
     "data": {
      "text/plain": [
       "    Subject    Technique       Time           Errors     Effort\n",
       " 1      : 1   Scroll:20   Min.   : 49.0   Min.   :0.00   1: 3  \n",
       " 2      : 1   Search:20   1st Qu.: 86.0   1st Qu.:1.00   2: 5  \n",
       " 3      : 1   Voice :20   Median : 97.0   Median :2.00   3:11  \n",
       " 4      : 1               Mean   :106.2   Mean   :2.75   4:16  \n",
       " 5      : 1               3rd Qu.:128.0   3rd Qu.:4.00   5:12  \n",
       " 6      : 1               Max.   :192.0   Max.   :9.00   6:12  \n",
       " (Other):54                                              7: 1  "
      ]
     },
     "metadata": {},
     "output_type": "display_data"
    }
   ],
   "source": [
    "summary(srchscrlvce.2)"
   ]
  },
  {
   "cell_type": "code",
   "execution_count": 67,
   "metadata": {},
   "outputs": [
    {
     "data": {
      "text/html": [
       "<table>\n",
       "<thead><tr><th></th><th scope=col>Search</th><th scope=col>Voice</th></tr></thead>\n",
       "<tbody>\n",
       "\t<tr><th scope=row>Scroll</th><td>0</td><td>0</td></tr>\n",
       "\t<tr><th scope=row>Search</th><td>1</td><td>0</td></tr>\n",
       "\t<tr><th scope=row>Voice</th><td>0</td><td>1</td></tr>\n",
       "</tbody>\n",
       "</table>\n"
      ],
      "text/latex": [
       "\\begin{tabular}{r|ll}\n",
       "  & Search & Voice\\\\\n",
       "\\hline\n",
       "\tScroll & 0 & 0\\\\\n",
       "\tSearch & 1 & 0\\\\\n",
       "\tVoice & 0 & 1\\\\\n",
       "\\end{tabular}\n"
      ],
      "text/markdown": [
       "\n",
       "| <!--/--> | Search | Voice | \n",
       "|---|---|---|\n",
       "| Scroll | 0 | 0 | \n",
       "| Search | 1 | 0 | \n",
       "| Voice | 0 | 1 | \n",
       "\n",
       "\n"
      ],
      "text/plain": [
       "       Search Voice\n",
       "Scroll 0      0    \n",
       "Search 1      0    \n",
       "Voice  0      1    "
      ]
     },
     "metadata": {},
     "output_type": "display_data"
    }
   ],
   "source": [
    "contrasts(srchscrlvce.2$Technique)"
   ]
  },
  {
   "cell_type": "code",
   "execution_count": 72,
   "metadata": {},
   "outputs": [
    {
     "data": {
      "text/html": [
       "<table>\n",
       "<tbody>\n",
       "\t<tr><th scope=row>Scroll</th><td> 1</td><td> 0</td></tr>\n",
       "\t<tr><th scope=row>Search</th><td> 0</td><td> 1</td></tr>\n",
       "\t<tr><th scope=row>Voice</th><td>-1</td><td>-1</td></tr>\n",
       "</tbody>\n",
       "</table>\n"
      ],
      "text/latex": [
       "\\begin{tabular}{r|ll}\n",
       "\tScroll &  1 &  0\\\\\n",
       "\tSearch &  0 &  1\\\\\n",
       "\tVoice & -1 & -1\\\\\n",
       "\\end{tabular}\n"
      ],
      "text/markdown": [
       "\n",
       "| Scroll |  1 |  0 | \n",
       "| Search |  0 |  1 | \n",
       "| Voice | -1 | -1 | \n",
       "\n",
       "\n"
      ],
      "text/plain": [
       "       [,1] [,2]\n",
       "Scroll  1    0  \n",
       "Search  0    1  \n",
       "Voice  -1   -1  "
      ]
     },
     "metadata": {},
     "output_type": "display_data"
    }
   ],
   "source": [
    "# set sum-to-zero contrasts for the Anova call\n",
    "contrasts(srchscrlvce.2$Technique) <- \"contr.sum\"\n",
    "\n",
    "contrasts(srchscrlvce.2$Technique)"
   ]
  },
  {
   "cell_type": "code",
   "execution_count": 73,
   "metadata": {},
   "outputs": [
    {
     "data": {
      "text/html": [
       "<table>\n",
       "<thead><tr><th scope=col>Subject</th><th scope=col>Technique</th><th scope=col>Time</th><th scope=col>Errors</th><th scope=col>Effort</th></tr></thead>\n",
       "<tbody>\n",
       "\t<tr><td>1     </td><td>Search</td><td> 98   </td><td>4     </td><td>5     </td></tr>\n",
       "\t<tr><td>2     </td><td>Scroll</td><td>152   </td><td>0     </td><td>6     </td></tr>\n",
       "\t<tr><td>3     </td><td>Search</td><td> 57   </td><td>2     </td><td>2     </td></tr>\n",
       "\t<tr><td>4     </td><td>Scroll</td><td>148   </td><td>0     </td><td>3     </td></tr>\n",
       "\t<tr><td>5     </td><td>Search</td><td> 86   </td><td>3     </td><td>2     </td></tr>\n",
       "\t<tr><td>6     </td><td>Scroll</td><td>160   </td><td>0     </td><td>4     </td></tr>\n",
       "</tbody>\n",
       "</table>\n"
      ],
      "text/latex": [
       "\\begin{tabular}{r|lllll}\n",
       " Subject & Technique & Time & Errors & Effort\\\\\n",
       "\\hline\n",
       "\t 1      & Search &  98    & 4      & 5     \\\\\n",
       "\t 2      & Scroll & 152    & 0      & 6     \\\\\n",
       "\t 3      & Search &  57    & 2      & 2     \\\\\n",
       "\t 4      & Scroll & 148    & 0      & 3     \\\\\n",
       "\t 5      & Search &  86    & 3      & 2     \\\\\n",
       "\t 6      & Scroll & 160    & 0      & 4     \\\\\n",
       "\\end{tabular}\n"
      ],
      "text/markdown": [
       "\n",
       "Subject | Technique | Time | Errors | Effort | \n",
       "|---|---|---|---|---|---|\n",
       "| 1      | Search |  98    | 4      | 5      | \n",
       "| 2      | Scroll | 152    | 0      | 6      | \n",
       "| 3      | Search |  57    | 2      | 2      | \n",
       "| 4      | Scroll | 148    | 0      | 3      | \n",
       "| 5      | Search |  86    | 3      | 2      | \n",
       "| 6      | Scroll | 160    | 0      | 4      | \n",
       "\n",
       "\n"
      ],
      "text/plain": [
       "  Subject Technique Time Errors Effort\n",
       "1 1       Search     98  4      5     \n",
       "2 2       Scroll    152  0      6     \n",
       "3 3       Search     57  2      2     \n",
       "4 4       Scroll    148  0      3     \n",
       "5 5       Search     86  3      2     \n",
       "6 6       Scroll    160  0      4     "
      ]
     },
     "metadata": {},
     "output_type": "display_data"
    }
   ],
   "source": [
    "head(srchscrlvce.2)"
   ]
  },
  {
   "cell_type": "code",
   "execution_count": 71,
   "metadata": {},
   "outputs": [
    {
     "data": {
      "text/html": [
       "<table>\n",
       "<thead><tr><th></th><th scope=col>LR Chisq</th><th scope=col>Df</th><th scope=col>Pr(&gt;Chisq)</th></tr></thead>\n",
       "<tbody>\n",
       "\t<tr><th scope=row>Technique</th><td>4.524566 </td><td>2        </td><td>0.1041125</td></tr>\n",
       "</tbody>\n",
       "</table>\n"
      ],
      "text/latex": [
       "\\begin{tabular}{r|lll}\n",
       "  & LR Chisq & Df & Pr(>Chisq)\\\\\n",
       "\\hline\n",
       "\tTechnique & 4.524566  & 2         & 0.1041125\\\\\n",
       "\\end{tabular}\n"
      ],
      "text/markdown": [
       "\n",
       "| <!--/--> | LR Chisq | Df | Pr(>Chisq) | \n",
       "|---|\n",
       "| Technique | 4.524566  | 2         | 0.1041125 | \n",
       "\n",
       "\n"
      ],
      "text/plain": [
       "          LR Chisq Df Pr(>Chisq)\n",
       "Technique 4.524566 2  0.1041125 "
      ]
     },
     "metadata": {},
     "output_type": "display_data"
    }
   ],
   "source": [
    "m <- polr(Effort ~ Technique, data=srchscrlvce.2, Hess=TRUE) # ordinal logistic\n",
    "Anova(m, type=3) # n.s."
   ]
  },
  {
   "cell_type": "code",
   "execution_count": 80,
   "metadata": {},
   "outputs": [
    {
     "data": {
      "text/plain": [
       "\n",
       "\t Simultaneous Tests for General Linear Hypotheses\n",
       "\n",
       "Multiple Comparisons of Means: Tukey Contrasts\n",
       "\n",
       "\n",
       "Fit: polr(formula = Effort ~ Technique, data = srchscrlvce.2, Hess = TRUE)\n",
       "\n",
       "Linear Hypotheses:\n",
       "                      Estimate Std. Error z value Pr(>|z|)\n",
       "Search - Scroll == 0 -1.016610   0.584614  -1.739    0.191\n",
       "Voice - Scroll == 0   0.007397   0.587700   0.013    0.990\n",
       "Voice - Search == 0   1.024007   0.552298   1.854    0.191\n",
       "(Adjusted p values reported -- holm method)\n"
      ]
     },
     "metadata": {},
     "output_type": "display_data"
    }
   ],
   "source": [
    "# post hoc pairwise comparisons are NOT justified due to lack of sig.\n",
    "# but here's how we would do them, just for completeness\n",
    "\n",
    "library(\"multcomp\")\n",
    "\n",
    "summary(glht(m, mcp(Technique=\"Tukey\")), test=adjusted(type=\"holm\")) # Tukey means compare all pairs"
   ]
  },
  {
   "cell_type": "code",
   "execution_count": 82,
   "metadata": {},
   "outputs": [
    {
     "data": {
      "text/plain": [
       "\n",
       "\t Simultaneous Tests for General Linear Hypotheses\n",
       "\n",
       "Linear Hypotheses:\n",
       "            Estimate Std. Error z value Pr(>|z|)\n",
       "Scroll == 0   0.3556     0.4706   0.756    0.811\n",
       "Search == 0  -0.6611     0.4203  -1.573    0.347\n",
       "Voice == 0    0.3630     0.4363   0.832    0.811\n",
       "(Adjusted p values reported -- holm method)\n"
      ]
     },
     "metadata": {},
     "output_type": "display_data"
    }
   ],
   "source": [
    "library(\"lsmeans\") # equivalent way using lsmeans, pairs, and as.glht\n",
    "\n",
    "summary(as.glht((lsmeans(m, pairwise ~ Technique))), test=adjusted(type=\"holm\"))"
   ]
  },
  {
   "cell_type": "code",
   "execution_count": 84,
   "metadata": {},
   "outputs": [
    {
     "data": {
      "text/html": [
       "<table>\n",
       "<thead><tr><th scope=col>Technique</th><th scope=col>Min.</th><th scope=col>1st Qu.</th><th scope=col>Median</th><th scope=col>Mean</th><th scope=col>3rd Qu.</th><th scope=col>Max.</th></tr></thead>\n",
       "<tbody>\n",
       "\t<tr><td>Scroll</td><td>0     </td><td>0.00  </td><td>0.5   </td><td>0.70  </td><td>1.00  </td><td>2     </td></tr>\n",
       "\t<tr><td>Search</td><td>1     </td><td>2.00  </td><td>2.5   </td><td>2.50  </td><td>3.00  </td><td>4     </td></tr>\n",
       "\t<tr><td>Voice </td><td>2     </td><td>3.75  </td><td>5.0   </td><td>5.05  </td><td>6.25  </td><td>9     </td></tr>\n",
       "</tbody>\n",
       "</table>\n"
      ],
      "text/latex": [
       "\\begin{tabular}{r|lllllll}\n",
       " Technique & Min. & 1st Qu. & Median & Mean & 3rd Qu. & Max.\\\\\n",
       "\\hline\n",
       "\t Scroll & 0      & 0.00   & 0.5    & 0.70   & 1.00   & 2     \\\\\n",
       "\t Search & 1      & 2.00   & 2.5    & 2.50   & 3.00   & 4     \\\\\n",
       "\t Voice  & 2      & 3.75   & 5.0    & 5.05   & 6.25   & 9     \\\\\n",
       "\\end{tabular}\n"
      ],
      "text/markdown": [
       "\n",
       "Technique | Min. | 1st Qu. | Median | Mean | 3rd Qu. | Max. | \n",
       "|---|---|---|\n",
       "| Scroll | 0      | 0.00   | 0.5    | 0.70   | 1.00   | 2      | \n",
       "| Search | 1      | 2.00   | 2.5    | 2.50   | 3.00   | 4      | \n",
       "| Voice  | 2      | 3.75   | 5.0    | 5.05   | 6.25   | 9      | \n",
       "\n",
       "\n"
      ],
      "text/plain": [
       "  Technique Min. 1st Qu. Median Mean 3rd Qu. Max.\n",
       "1 Scroll    0    0.00    0.5    0.70 1.00    2   \n",
       "2 Search    1    2.00    2.5    2.50 3.00    4   \n",
       "3 Voice     2    3.75    5.0    5.05 6.25    9   "
      ]
     },
     "metadata": {},
     "output_type": "display_data"
    }
   ],
   "source": [
    "## GLM 3: Poisson regression for count responses\n",
    "## -----  Poisson distribution w/ log link fn\n",
    "\n",
    "# our data also has an \"Errors\" response, count data\n",
    "# re-familiarize ourselves with the Errors response\n",
    "library(\"plyr\")\n",
    "\n",
    "ddply(srchscrlvce.2, ~ Technique, function(data) summary(data$Errors))"
   ]
  },
  {
   "cell_type": "code",
   "execution_count": 85,
   "metadata": {},
   "outputs": [
    {
     "data": {
      "text/html": [
       "<table>\n",
       "<thead><tr><th scope=col>Technique</th><th scope=col>Errors.mean</th><th scope=col>Errors.sd</th></tr></thead>\n",
       "<tbody>\n",
       "\t<tr><td>Scroll   </td><td>0.70     </td><td>0.8013147</td></tr>\n",
       "\t<tr><td>Search   </td><td>2.50     </td><td>1.0513150</td></tr>\n",
       "\t<tr><td>Voice    </td><td>5.05     </td><td>1.9049796</td></tr>\n",
       "</tbody>\n",
       "</table>\n"
      ],
      "text/latex": [
       "\\begin{tabular}{r|lll}\n",
       " Technique & Errors.mean & Errors.sd\\\\\n",
       "\\hline\n",
       "\t Scroll    & 0.70      & 0.8013147\\\\\n",
       "\t Search    & 2.50      & 1.0513150\\\\\n",
       "\t Voice     & 5.05      & 1.9049796\\\\\n",
       "\\end{tabular}\n"
      ],
      "text/markdown": [
       "\n",
       "Technique | Errors.mean | Errors.sd | \n",
       "|---|---|---|\n",
       "| Scroll    | 0.70      | 0.8013147 | \n",
       "| Search    | 2.50      | 1.0513150 | \n",
       "| Voice     | 5.05      | 1.9049796 | \n",
       "\n",
       "\n"
      ],
      "text/plain": [
       "  Technique Errors.mean Errors.sd\n",
       "1 Scroll    0.70        0.8013147\n",
       "2 Search    2.50        1.0513150\n",
       "3 Voice     5.05        1.9049796"
      ]
     },
     "metadata": {},
     "output_type": "display_data"
    }
   ],
   "source": [
    "ddply(srchscrlvce.2, ~ Technique, summarise, Errors.mean=mean(Errors), Errors.sd=sd(Errors))"
   ]
  },
  {
   "cell_type": "code",
   "execution_count": 86,
   "metadata": {},
   "outputs": [
    {
     "data": {
      "image/png": "[encoded data removed]",
      "text/plain": [
       "Plot with title \"Histogram of srchscrlvce.2[srchscrlvce.2$Technique == \"Search\", ]$Errors\""
      ]
     },
     "metadata": {},
     "output_type": "display_data"
    }
   ],
   "source": [
    "hist(srchscrlvce.2[srchscrlvce.2$Technique == \"Search\",]$Errors)"
   ]
  },
  {
   "cell_type": "code",
   "execution_count": 87,
   "metadata": {},
   "outputs": [
    {
     "data": {
      "image/png": "[encoded data removed]",
      "text/plain": [
       "Plot with title \"Histogram of srchscrlvce.2[srchscrlvce.2$Technique == \"Scroll\", ]$Errors\""
      ]
     },
     "metadata": {},
     "output_type": "display_data"
    }
   ],
   "source": [
    "hist(srchscrlvce.2[srchscrlvce.2$Technique == \"Scroll\",]$Errors)"
   ]
  },
  {
   "cell_type": "code",
   "execution_count": 88,
   "metadata": {},
   "outputs": [
    {
     "data": {
      "image/png": "[encoded data removed]",
      "text/plain": [
       "Plot with title \"Histogram of srchscrlvce.2[srchscrlvce.2$Technique == \"Voice\", ]$Errors\""
      ]
     },
     "metadata": {},
     "output_type": "display_data"
    }
   ],
   "source": [
    "hist(srchscrlvce.2[srchscrlvce.2$Technique == \"Voice\",]$Errors)"
   ]
  },
  {
   "cell_type": "code",
   "execution_count": 89,
   "metadata": {},
   "outputs": [
    {
     "data": {
      "image/png": "[encoded data removed]",
      "text/plain": [
       "plot without title"
      ]
     },
     "metadata": {},
     "output_type": "display_data"
    }
   ],
   "source": [
    "plot(Errors ~ Technique, data=srchscrlvce.2) # boxplot"
   ]
  },
  {
   "cell_type": "code",
   "execution_count": 92,
   "metadata": {},
   "outputs": [
    {
     "data": {
      "text/plain": [
       "Chi-squared statistic:  1.522231 \n",
       "Degree of freedom of the Chi-squared distribution:  2 \n",
       "Chi-squared p-value:  0.4671449 \n",
       "   the p-value may be wrong with some theoretical counts < 5  \n",
       "Chi-squared table:\n",
       "     obscounts theocounts\n",
       "<= 1  4.000000   5.745950\n",
       "<= 2  6.000000   5.130312\n",
       "<= 3  6.000000   4.275260\n",
       "> 3   4.000000   4.848478\n",
       "\n",
       "Goodness-of-fit criteria\n",
       "                               1-mle-pois\n",
       "Akaike's Information Criterion   65.61424\n",
       "Bayesian Information Criterion   66.60997"
      ]
     },
     "metadata": {},
     "output_type": "display_data"
    }
   ],
   "source": [
    "# re-verify that these data are Poisson-distributed\n",
    "\n",
    "library(\"fitdistrplus\")\n",
    "\n",
    "fit <- fitdist(srchscrlvce.2[srchscrlvce.2$Technique == \"Search\",]$Errors, \"pois\", discrete=TRUE)\n",
    "gofstat(fit) # goodness-of-fit test"
   ]
  },
  {
   "cell_type": "code",
   "execution_count": 94,
   "metadata": {},
   "outputs": [
    {
     "data": {
      "text/plain": [
       "Chi-squared statistic:  0.3816087 \n",
       "Degree of freedom of the Chi-squared distribution:  1 \n",
       "Chi-squared p-value:  0.5367435 \n",
       "   the p-value may be wrong with some theoretical counts < 5  \n",
       "Chi-squared table:\n",
       "     obscounts theocounts\n",
       "<= 0 10.000000   9.931706\n",
       "<= 1  6.000000   6.952194\n",
       "> 1   4.000000   3.116100\n",
       "\n",
       "Goodness-of-fit criteria\n",
       "                               1-mle-pois\n",
       "Akaike's Information Criterion   45.53208\n",
       "Bayesian Information Criterion   46.52781"
      ]
     },
     "metadata": {},
     "output_type": "display_data"
    }
   ],
   "source": [
    "fit <- fitdist(srchscrlvce.2[srchscrlvce.2$Technique == \"Scroll\",]$Errors, \"pois\", discrete=TRUE)\n",
    "gofstat(fit) # goodness-of-fit test"
   ]
  },
  {
   "cell_type": "code",
   "execution_count": 96,
   "metadata": {},
   "outputs": [
    {
     "data": {
      "text/plain": [
       "Chi-squared statistic:  0.1611327 \n",
       "Degree of freedom of the Chi-squared distribution:  3 \n",
       "Chi-squared p-value:  0.9836055 \n",
       "   the p-value may be wrong with some theoretical counts < 5  \n",
       "Chi-squared table:\n",
       "     obscounts theocounts\n",
       "<= 3  5.000000   5.161546\n",
       "<= 4  4.000000   3.473739\n",
       "<= 5  3.000000   3.508476\n",
       "<= 6  3.000000   2.952967\n",
       "> 6   5.000000   4.903272\n",
       "\n",
       "Goodness-of-fit criteria\n",
       "                               1-mle-pois\n",
       "Akaike's Information Criterion   84.19266\n",
       "Bayesian Information Criterion   85.18839"
      ]
     },
     "metadata": {},
     "output_type": "display_data"
    }
   ],
   "source": [
    "fit <- fitdist(srchscrlvce.2[srchscrlvce.2$Technique == \"Voice\",]$Errors, \"pois\", discrete=TRUE)\n",
    "gofstat(fit) # goodness-of-fit test"
   ]
  },
  {
   "cell_type": "code",
   "execution_count": 97,
   "metadata": {},
   "outputs": [
    {
     "data": {
      "text/html": [
       "<table>\n",
       "<tbody>\n",
       "\t<tr><th scope=row>Scroll</th><td> 1</td><td> 0</td></tr>\n",
       "\t<tr><th scope=row>Search</th><td> 0</td><td> 1</td></tr>\n",
       "\t<tr><th scope=row>Voice</th><td>-1</td><td>-1</td></tr>\n",
       "</tbody>\n",
       "</table>\n"
      ],
      "text/latex": [
       "\\begin{tabular}{r|ll}\n",
       "\tScroll &  1 &  0\\\\\n",
       "\tSearch &  0 &  1\\\\\n",
       "\tVoice & -1 & -1\\\\\n",
       "\\end{tabular}\n"
      ],
      "text/markdown": [
       "\n",
       "| Scroll |  1 |  0 | \n",
       "| Search |  0 |  1 | \n",
       "| Voice | -1 | -1 | \n",
       "\n",
       "\n"
      ],
      "text/plain": [
       "       [,1] [,2]\n",
       "Scroll  1    0  \n",
       "Search  0    1  \n",
       "Voice  -1   -1  "
      ]
     },
     "metadata": {},
     "output_type": "display_data"
    }
   ],
   "source": [
    "contrasts(srchscrlvce.2$Technique)"
   ]
  },
  {
   "cell_type": "code",
   "execution_count": 99,
   "metadata": {},
   "outputs": [
    {
     "data": {
      "text/html": [
       "<table>\n",
       "<tbody>\n",
       "\t<tr><th scope=row>Scroll</th><td> 1</td><td> 0</td></tr>\n",
       "\t<tr><th scope=row>Search</th><td> 0</td><td> 1</td></tr>\n",
       "\t<tr><th scope=row>Voice</th><td>-1</td><td>-1</td></tr>\n",
       "</tbody>\n",
       "</table>\n"
      ],
      "text/latex": [
       "\\begin{tabular}{r|ll}\n",
       "\tScroll &  1 &  0\\\\\n",
       "\tSearch &  0 &  1\\\\\n",
       "\tVoice & -1 & -1\\\\\n",
       "\\end{tabular}\n"
      ],
      "text/markdown": [
       "\n",
       "| Scroll |  1 |  0 | \n",
       "| Search |  0 |  1 | \n",
       "| Voice | -1 | -1 | \n",
       "\n",
       "\n"
      ],
      "text/plain": [
       "       [,1] [,2]\n",
       "Scroll  1    0  \n",
       "Search  0    1  \n",
       "Voice  -1   -1  "
      ]
     },
     "metadata": {},
     "output_type": "display_data"
    }
   ],
   "source": [
    "# analyze using Poisson regression\n",
    "# set sum-to-zero contrasts for the Anova call\n",
    "contrasts(srchscrlvce.2$Technique) <- \"contr.sum\"\n",
    "\n",
    "contrasts(srchscrlvce.2$Technique)"
   ]
  },
  {
   "cell_type": "code",
   "execution_count": 100,
   "metadata": {},
   "outputs": [
    {
     "data": {
      "text/html": [
       "<table>\n",
       "<thead><tr><th></th><th scope=col>LR Chisq</th><th scope=col>Df</th><th scope=col>Pr(&gt;Chisq)</th></tr></thead>\n",
       "<tbody>\n",
       "\t<tr><th scope=row>Technique</th><td>74.9303     </td><td>2           </td><td>5.359105e-17</td></tr>\n",
       "</tbody>\n",
       "</table>\n"
      ],
      "text/latex": [
       "\\begin{tabular}{r|lll}\n",
       "  & LR Chisq & Df & Pr(>Chisq)\\\\\n",
       "\\hline\n",
       "\tTechnique & 74.9303      & 2            & 5.359105e-17\\\\\n",
       "\\end{tabular}\n"
      ],
      "text/markdown": [
       "\n",
       "| <!--/--> | LR Chisq | Df | Pr(>Chisq) | \n",
       "|---|\n",
       "| Technique | 74.9303      | 2            | 5.359105e-17 | \n",
       "\n",
       "\n"
      ],
      "text/plain": [
       "          LR Chisq Df Pr(>Chisq)  \n",
       "Technique 74.9303  2  5.359105e-17"
      ]
     },
     "metadata": {},
     "output_type": "display_data"
    }
   ],
   "source": [
    "# family parameter identifies both distribution and link fn\n",
    "m <- glm(Errors ~ Technique, data=srchscrlvce.2, family=poisson)\n",
    "Anova(m, type=3)"
   ]
  },
  {
   "cell_type": "code",
   "execution_count": 103,
   "metadata": {},
   "outputs": [
    {
     "data": {
      "image/png": "[encoded data removed]",
      "text/plain": [
       "Plot with title \"Normal Q-Q Plot\""
      ]
     },
     "metadata": {},
     "output_type": "display_data"
    }
   ],
   "source": [
    "qqnorm(residuals(m)); qqline(residuals(m)) # it's ok! Poisson regression makes no normality assumption"
   ]
  },
  {
   "cell_type": "code",
   "execution_count": 105,
   "metadata": {},
   "outputs": [
    {
     "data": {
      "text/plain": [
       "\n",
       "\t Simultaneous Tests for General Linear Hypotheses\n",
       "\n",
       "Multiple Comparisons of Means: Tukey Contrasts\n",
       "\n",
       "\n",
       "Fit: glm(formula = Errors ~ Technique, family = poisson, data = srchscrlvce.2)\n",
       "\n",
       "Linear Hypotheses:\n",
       "                     Estimate Std. Error z value Pr(>|z|)    \n",
       "Search - Scroll == 0   1.2730     0.3024   4.210 5.11e-05 ***\n",
       "Voice - Scroll == 0    1.9761     0.2852   6.929 1.27e-11 ***\n",
       "Voice - Search == 0    0.7031     0.1729   4.066 5.11e-05 ***\n",
       "---\n",
       "Signif. codes:  0 '***' 0.001 '**' 0.01 '*' 0.05 '.' 0.1 ' ' 1\n",
       "(Adjusted p values reported -- holm method)\n"
      ]
     },
     "metadata": {},
     "output_type": "display_data"
    }
   ],
   "source": [
    "# conduct pairwise comparisons among levels of Technique\n",
    "library(\"multcomp\")\n",
    "\n",
    "summary(glht(m, mcp(Technique=\"Tukey\")), test=adjusted(type=\"holm\")) # Tukey means compare all pairs"
   ]
  },
  {
   "cell_type": "code",
   "execution_count": null,
   "metadata": {
    "collapsed": true
   },
   "outputs": [],
   "source": []
  }
 ],
 "metadata": {
  "kernelspec": {
   "display_name": "R",
   "language": "R",
   "name": "ir"
  },
  "language_info": {
   "codemirror_mode": "r",
   "file_extension": ".r",
   "mimetype": "text/x-r-source",
   "name": "R",
   "pygments_lexer": "r",
   "version": "3.4.1"
  }
 },
 "nbformat": 4,
 "nbformat_minor": 2
}
