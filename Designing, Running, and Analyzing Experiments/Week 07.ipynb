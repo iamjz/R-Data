{
 "cells": [
  {
   "cell_type": "markdown",
   "metadata": {
    "collapsed": true
   },
   "source": [
    "# Introduction\n",
    "\n",
    "So far, we've been looking at studies that have had a single factor. And those factors have been either between subjects or within subjects factors, also called repeated measures. \n",
    "\n",
    "Now things are going to get more interesting. We can look at studies that have multiple factors at one time. \n",
    "\n",
    "Here's the scenario that we'll use. Let's say 24 subjects are in our study. And they use either the Apple Iphone or the Samsung Galaxy keyboard on a mobile smartphone. \n",
    "\n",
    "And they use one or the other key while they are either sitting, standing, or walking. \n",
    "\n",
    "We're going to measure text entry speed in terms of words per minute. And text entry error rate, which is a percentage for each phrase entered. They'll enter a total of 20 phrases that we select from a larger corpus of text entry phrases. And they'll do those 20 phrases in each of the sitting, standing, and walking postures. \n",
    "\n",
    "We're interested in how the keyboards compare and also how the postures compare. And also how performance with the keyboard might be affected differently by the different postures. This is called an interaction. We'll come back to that concept of interaction shortly and discuss it further. \n",
    "\n",
    "For our first analysis on this data, we'll assume that we're averaging over those 20 phrases, for an average words per minute. And an average error rate for each fo the keyboards in sitting, standing, and walking postures. \n",
    "\n",
    "So what kind of study is this in terms of it's formal experiment design?\n",
    "\n",
    "Well - we would call this study a 2 by 3 mixed factorial design. 2 by 3, what does that mean? We have 2 separate numbers in this notation, the 2 and the 3 and those correspond to factors. And the numbers themselves indicate how many levels each of those factors has. The factors with 2 levels is keyboard and it has 2 levels (Apple IPhone and Samsung Galaxy). The factor with 3 levels is called posture (Sitting, Standing, and Walking). \n",
    "\n",
    "It's a mixed factorial design because keyboard is a between subjects factor. And posture is a within subjects factor (or a repeated measure factor). So it's a mixed factorial design. We could have designs that are purely between subjects across all their factors or purely within subjects across all their factors. But a mixed factorial design has between and within subjects factors. \n",
    "\n",
    "We'll be averaging over 20 phrases in each of these conditions. Now in an experiment of this kind, we would record the results of every trial. A trial would be every phrase entered. Why don't we analyze all 20 phrases separately for each of these conditions? Well, we'll come back to that when we have a little bit more statistical machinery under our belt. But for now, we'll say we're averaging over the 20 phrases. \n",
    "\n",
    "So what's the total data that we're gathering?\n",
    "\n",
    "We have 24 subjects. \n",
    "\n",
    "But we'll divide by 2 because they're in 2 separate conditions with respect to the keyboard. Then we have 2 keyboards then we have 3 postures that everyone does. And as I mentioned, they enter 20 phrases, giving us a total in this study of 1440 measures of words per minute and error rate. 1440 text entry phrases and measures over those phrases. And as I mentioned, because we're averaging over the 20 phrases for each of these conditions, we'll end up with 72 data points in this study. We can think of that in a long format table as 72 separate rows in the table. \n",
    "\n",
    "We can fully counterbalance our posture effect because with 3 levels of posture, full counterbalancing would take 6 different sequences. We have 24 subjects and so, we see a nice, clean multiple of 6 there, where we can represent all of those sequences the same number of times. \n",
    "\n",
    "<img src=\"materials/interactions.JPG\">\n",
    "\n",
    "Now, before we go to our analysis, I want to talk about this notion of interactions (2 factors in this case). And some studies can have more than 2 and you would have a longer phrase here 2 by 3 by perhaps other numbers after that. You don't want to get too many, the studies get pretty hard to analyze and complicated to report if you have too many factors. But I want to talk about interactions. Because that's where some really interesting results can arise. \n",
    "\n"
   ]
  },
  {
   "cell_type": "markdown",
   "metadata": {},
   "source": [
    "# Understanding interaction effects"
   ]
  },
  {
   "cell_type": "markdown",
   "metadata": {},
   "source": [
    "<img src=\"materials/interaction_effects.JPG\">"
   ]
  },
  {
   "cell_type": "markdown",
   "metadata": {},
   "source": [
    "Let's discuss the concept of a significant interaction in a factorial study. Here, we've drawn a few graphs that are going to help us understand what interactions are and how they work. We see on the x-axis the words \"Stand and Sit\". We talked about our study where we actually have 3 postures but for now, let's just consider 2. \n",
    "\n",
    "On the Y-axis, we have words per minute but it coudl really be any of our measures. \n",
    "\n",
    "And as traces in the graph, we have 2 keyboards we're considering, the Apple iPhone and the Samsung Galaxy. \n",
    "\n",
    "The question becomes: is there a main effect of key or posture? And a main effect would mean overall, just for keyboard, just for posture. So we can ask that question. And then we'd also ask, is there an interaction between keyboard and posture? That measns would posture differentially affect the performance of keyboard? "
   ]
  },
  {
   "cell_type": "markdown",
   "metadata": {},
   "source": [
    "## First Graph\n",
    "\n",
    "<img src=\"materials/first_int.JPG\">\n",
    "\n",
    "In the first gaph, we can see that in both standing and sitting, the keyboards stay roughly the same. \n",
    "\n",
    "But there is a gap between the lines of the 2 keyboards. So we can ask, do we have a main effect of keyboard? The answer is 'Yes'. Assuming there are small variances around these datapoints, we can assume that for these graphs, then there's some separation between the iPhone's performance and the Galaxy's performance. That would mean we have a main effect of keyboard. \n",
    "\n",
    "Is there an interaction? Before that - let's consider, is there a main effect of posture? Well...from standing to sitting, performance doesn't really seem to change. So there would not be a main effect of posture. \n",
    "\n",
    "And then...is there an interaction? Is there an differential effect? Well...it doesn't seem to be. A short way of seeing that is the lines are parallel. But what that means is that in both standing and sitting, there's no real differential effect on the keyboards themselves. "
   ]
  },
  {
   "cell_type": "markdown",
   "metadata": {},
   "source": [
    "## Second Graph\n",
    "\n",
    "<img src=\"materials/second_int.JPG\">\n",
    "\n",
    "Let's consider the next graph. Here, we see that the lines are sloped and still parallel. What does that mean? Is there a main effect of keyboard? In both conditions, we see the iPhone seems to be faster than the Galaxy. So we'd say yes, there's a main effect of keyboard. \n",
    "\n",
    "Is there a main effect of posture? From standing to sitting, we see that there's a change. It seems that when people are sitting, they're faster with both keyboards. So yes, we'd say there's a main effect of posture. \n",
    "\n",
    "And then we'd ask...is there an interaction? \n",
    "\n",
    "And here, we see parallel lines. We see that from standing to sitting while things improve in terms of speed, they improve the same for each keyboad. So there is not an interaction"
   ]
  },
  {
   "cell_type": "markdown",
   "metadata": {},
   "source": [
    "## Third Graph\n",
    "\n",
    "<img src=\"materials/third_int.JPG\">\n",
    "\n",
    "Let's consider the 3rd graph. Here, we see what are sometimes called alligator jaws. \n",
    "\n",
    "In 'Standing', both of the keyboards are basically the same, very close in performance. But in 'Sitting', the iPhone has now become differentially better than Galaxy, which actually hasn't improved. \n",
    "\n",
    "So let's go through our 3 questions. Is there a main effect of keyboard? You can take the midpoint of the iPhone line and the midpoint of the Galaxy line and there's a separation. We'd say 'Yes' - there is a main effect of keyboard. \n",
    "\n",
    "Is there a main effect of posture? We can imagine a line up through the center here and is that line sloped? The answer in this case is somewhat - perhaps, there is still a small but main effect of posture. \n",
    "\n",
    "But the interesting thing is there's an interaction because the lines are not parallel. And the iPhone seems to get much better when you sit down and enter text on its keyboard but the Galaxy kind of stays the same. So posture is differentially affecting the keyboard's performance. "
   ]
  },
  {
   "cell_type": "markdown",
   "metadata": {},
   "source": [
    "## Fourth Graph\n",
    "\n",
    "<img src=\"materials/fourth_int.JPG\">\n",
    "\n",
    "This last graph also clearly shows an interactions. Let's do our 3 questions. \n",
    "\n",
    "Is there a main effect of keyboard? Well maybe, if we take the center of each keyboard, there may be a slight separation. So perhaps the iPhone is still performing better but maybe it's too close to call. Is there a main effect of posture? If we draw a line between our lines here, we can see that overall, there's not that much change in posture. \n",
    "\n",
    "And is there an interaction? Clearly, there is because amazingly when you're standing up, you're much faster with the Galaxy keyboard than the iPhone keyboard. But as soon as you sit down, you're faster with the iPhone keyboard than the Galaxy keyboard. Anytime you see the lines cross, that's a class picture of an interaction effect. "
   ]
  },
  {
   "cell_type": "markdown",
   "metadata": {
    "collapsed": true
   },
   "source": [
    "# Analyzing a factorial ANOVA\n",
    "\n",
    "We're going to analyze our experiment of 24 subjects entering text using the iPhone keyboard or the Samsung Galaxy keyboard in different postures (standing and walking). This is a factorial ANOVA meaning there are multiple factors (2 in this case). And there's a between subjects factor for keyboard and within subjects factor for posture..which is also known as a repeated measures factor. So we'll be doing a repeated measures ANOVA. Because if you have any within subject factors then ultimately, you are doing a repeated measures ANOVA even though we are a mixed factorial design here. We'll be looking as well at interaction effects. And ultimately, a nonparametric version of these analysis as well. "
   ]
  },
  {
   "cell_type": "code",
   "execution_count": 1,
   "metadata": {},
   "outputs": [
    {
     "data": {
      "text/html": [
       "<table>\n",
       "<thead><tr><th scope=col>Subject</th><th scope=col>Keyboard</th><th scope=col>Posture</th><th scope=col>Posture_Order</th><th scope=col>WPM</th><th scope=col>Error_Rate</th></tr></thead>\n",
       "<tbody>\n",
       "\t<tr><td>1      </td><td>iPhone </td><td>Sit    </td><td>1      </td><td>20.2145</td><td>0.0220 </td></tr>\n",
       "\t<tr><td>1      </td><td>iPhone </td><td>Stand  </td><td>2      </td><td>23.7485</td><td>0.0300 </td></tr>\n",
       "\t<tr><td>1      </td><td>iPhone </td><td>Walk   </td><td>3      </td><td>20.7960</td><td>0.0415 </td></tr>\n",
       "\t<tr><td>2      </td><td>iPhone </td><td>Sit    </td><td>1      </td><td>20.8805</td><td>0.0220 </td></tr>\n",
       "\t<tr><td>2      </td><td>iPhone </td><td>Stand  </td><td>3      </td><td>23.2595</td><td>0.0255 </td></tr>\n",
       "\t<tr><td>2      </td><td>iPhone </td><td>Walk   </td><td>2      </td><td>19.1305</td><td>0.0355 </td></tr>\n",
       "</tbody>\n",
       "</table>\n"
      ],
      "text/latex": [
       "\\begin{tabular}{r|llllll}\n",
       " Subject & Keyboard & Posture & Posture\\_Order & WPM & Error\\_Rate\\\\\n",
       "\\hline\n",
       "\t 1       & iPhone  & Sit     & 1       & 20.2145 & 0.0220 \\\\\n",
       "\t 1       & iPhone  & Stand   & 2       & 23.7485 & 0.0300 \\\\\n",
       "\t 1       & iPhone  & Walk    & 3       & 20.7960 & 0.0415 \\\\\n",
       "\t 2       & iPhone  & Sit     & 1       & 20.8805 & 0.0220 \\\\\n",
       "\t 2       & iPhone  & Stand   & 3       & 23.2595 & 0.0255 \\\\\n",
       "\t 2       & iPhone  & Walk    & 2       & 19.1305 & 0.0355 \\\\\n",
       "\\end{tabular}\n"
      ],
      "text/markdown": [
       "\n",
       "Subject | Keyboard | Posture | Posture_Order | WPM | Error_Rate | \n",
       "|---|---|---|---|---|---|\n",
       "| 1       | iPhone  | Sit     | 1       | 20.2145 | 0.0220  | \n",
       "| 1       | iPhone  | Stand   | 2       | 23.7485 | 0.0300  | \n",
       "| 1       | iPhone  | Walk    | 3       | 20.7960 | 0.0415  | \n",
       "| 2       | iPhone  | Sit     | 1       | 20.8805 | 0.0220  | \n",
       "| 2       | iPhone  | Stand   | 3       | 23.2595 | 0.0255  | \n",
       "| 2       | iPhone  | Walk    | 2       | 19.1305 | 0.0355  | \n",
       "\n",
       "\n"
      ],
      "text/plain": [
       "  Subject Keyboard Posture Posture_Order WPM     Error_Rate\n",
       "1 1       iPhone   Sit     1             20.2145 0.0220    \n",
       "2 1       iPhone   Stand   2             23.7485 0.0300    \n",
       "3 1       iPhone   Walk    3             20.7960 0.0415    \n",
       "4 2       iPhone   Sit     1             20.8805 0.0220    \n",
       "5 2       iPhone   Stand   3             23.2595 0.0255    \n",
       "6 2       iPhone   Walk    2             19.1305 0.0355    "
      ]
     },
     "metadata": {},
     "output_type": "display_data"
    }
   ],
   "source": [
    "# Mixed Factorial ANOVA on WPM\n",
    "# Note: \"Mixed\" here is not \"mixed effects\" as in LMMs.\n",
    "# Those will be used farther down below. \"Mixed\" here is \n",
    "# mixing between-Ss and within-Ss factors. By contrast, \n",
    "# \"mixed\" in LMMs is mixing fixed and random effects,\n",
    "# which we'll cover later. Mixed factorial designs are \n",
    "# also called \"mixed designs\" or \"split-plot designs.\"\n",
    "# It is easy to extrapolate to purely between-Ss or \n",
    "# within-Ss factorial designs from what we do here.\n",
    "\n",
    "\n",
    "mbltxt <- read.csv(\"materials/mbltxt.csv\")\n",
    "head(mbltxt)"
   ]
  },
  {
   "cell_type": "code",
   "execution_count": 2,
   "metadata": {},
   "outputs": [
    {
     "data": {
      "text/plain": [
       "    Subject     Keyboard   Posture   Posture_Order      WPM        \n",
       " 1      : 3   Galaxy:36   Sit  :24   1:24          Min.   : 9.454  \n",
       " 2      : 3   iPhone:36   Stand:24   2:24          1st Qu.:19.091  \n",
       " 3      : 3               Walk :24   3:24          Median :21.032  \n",
       " 4      : 3                                        Mean   :20.213  \n",
       " 5      : 3                                        3rd Qu.:23.476  \n",
       " 6      : 3                                        Max.   :25.380  \n",
       " (Other):54                                                        \n",
       "   Error_Rate     \n",
       " Min.   :0.01500  \n",
       " 1st Qu.:0.02200  \n",
       " Median :0.03050  \n",
       " Mean   :0.03381  \n",
       " 3rd Qu.:0.04000  \n",
       " Max.   :0.06950  \n",
       "                  "
      ]
     },
     "metadata": {},
     "output_type": "display_data"
    }
   ],
   "source": [
    "mbltxt$Subject <- as.factor(mbltxt$Subject)\n",
    "mbltxt$Posture_Order <- as.factor(mbltxt$Posture_Order)\n",
    "summary(mbltxt)"
   ]
  },
  {
   "cell_type": "code",
   "execution_count": 3,
   "metadata": {},
   "outputs": [
    {
     "data": {
      "text/html": [
       "<table>\n",
       "<thead><tr><th scope=col>Keyboard</th><th scope=col>Posture</th><th scope=col>Min.</th><th scope=col>1st Qu.</th><th scope=col>Median</th><th scope=col>Mean</th><th scope=col>3rd Qu.</th><th scope=col>Max.</th></tr></thead>\n",
       "<tbody>\n",
       "\t<tr><td>Galaxy  </td><td>Sit     </td><td>23.3730 </td><td>23.56725</td><td>23.80650</td><td>23.90979</td><td>24.13638</td><td>24.8820 </td></tr>\n",
       "\t<tr><td>Galaxy  </td><td>Stand   </td><td>19.1295 </td><td>20.99375</td><td>21.15100</td><td>21.19183</td><td>21.68462</td><td>22.2575 </td></tr>\n",
       "\t<tr><td>Galaxy  </td><td>Walk    </td><td> 9.4535 </td><td>11.29850</td><td>12.16125</td><td>12.06554</td><td>12.86188</td><td>14.0270 </td></tr>\n",
       "\t<tr><td>iPhone  </td><td>Sit     </td><td>19.9115 </td><td>20.48338</td><td>20.94400</td><td>20.95750</td><td>21.34437</td><td>22.1050 </td></tr>\n",
       "\t<tr><td>iPhone  </td><td>Stand   </td><td>22.4040 </td><td>23.44062</td><td>23.83525</td><td>23.91629</td><td>24.36200</td><td>25.3800 </td></tr>\n",
       "\t<tr><td>iPhone  </td><td>Walk    </td><td>17.5130 </td><td>18.12075</td><td>19.05275</td><td>19.23408</td><td>20.66700</td><td>21.0245 </td></tr>\n",
       "</tbody>\n",
       "</table>\n"
      ],
      "text/latex": [
       "\\begin{tabular}{r|llllllll}\n",
       " Keyboard & Posture & Min. & 1st Qu. & Median & Mean & 3rd Qu. & Max.\\\\\n",
       "\\hline\n",
       "\t Galaxy   & Sit      & 23.3730  & 23.56725 & 23.80650 & 23.90979 & 24.13638 & 24.8820 \\\\\n",
       "\t Galaxy   & Stand    & 19.1295  & 20.99375 & 21.15100 & 21.19183 & 21.68462 & 22.2575 \\\\\n",
       "\t Galaxy   & Walk     &  9.4535  & 11.29850 & 12.16125 & 12.06554 & 12.86188 & 14.0270 \\\\\n",
       "\t iPhone   & Sit      & 19.9115  & 20.48338 & 20.94400 & 20.95750 & 21.34437 & 22.1050 \\\\\n",
       "\t iPhone   & Stand    & 22.4040  & 23.44062 & 23.83525 & 23.91629 & 24.36200 & 25.3800 \\\\\n",
       "\t iPhone   & Walk     & 17.5130  & 18.12075 & 19.05275 & 19.23408 & 20.66700 & 21.0245 \\\\\n",
       "\\end{tabular}\n"
      ],
      "text/markdown": [
       "\n",
       "Keyboard | Posture | Min. | 1st Qu. | Median | Mean | 3rd Qu. | Max. | \n",
       "|---|---|---|---|---|---|\n",
       "| Galaxy   | Sit      | 23.3730  | 23.56725 | 23.80650 | 23.90979 | 24.13638 | 24.8820  | \n",
       "| Galaxy   | Stand    | 19.1295  | 20.99375 | 21.15100 | 21.19183 | 21.68462 | 22.2575  | \n",
       "| Galaxy   | Walk     |  9.4535  | 11.29850 | 12.16125 | 12.06554 | 12.86188 | 14.0270  | \n",
       "| iPhone   | Sit      | 19.9115  | 20.48338 | 20.94400 | 20.95750 | 21.34437 | 22.1050  | \n",
       "| iPhone   | Stand    | 22.4040  | 23.44062 | 23.83525 | 23.91629 | 24.36200 | 25.3800  | \n",
       "| iPhone   | Walk     | 17.5130  | 18.12075 | 19.05275 | 19.23408 | 20.66700 | 21.0245  | \n",
       "\n",
       "\n"
      ],
      "text/plain": [
       "  Keyboard Posture Min.    1st Qu.  Median   Mean     3rd Qu.  Max.   \n",
       "1 Galaxy   Sit     23.3730 23.56725 23.80650 23.90979 24.13638 24.8820\n",
       "2 Galaxy   Stand   19.1295 20.99375 21.15100 21.19183 21.68462 22.2575\n",
       "3 Galaxy   Walk     9.4535 11.29850 12.16125 12.06554 12.86188 14.0270\n",
       "4 iPhone   Sit     19.9115 20.48338 20.94400 20.95750 21.34437 22.1050\n",
       "5 iPhone   Stand   22.4040 23.44062 23.83525 23.91629 24.36200 25.3800\n",
       "6 iPhone   Walk    17.5130 18.12075 19.05275 19.23408 20.66700 21.0245"
      ]
     },
     "metadata": {},
     "output_type": "display_data"
    }
   ],
   "source": [
    "library(\"plyr\")\n",
    "\n",
    "ddply(mbltxt, ~ Keyboard * Posture, function(data) summary(data$WPM))"
   ]
  },
  {
   "cell_type": "code",
   "execution_count": 4,
   "metadata": {},
   "outputs": [
    {
     "data": {
      "text/html": [
       "<table>\n",
       "<thead><tr><th scope=col>Keyboard</th><th scope=col>Posture</th><th scope=col>WPM.mean</th><th scope=col>WPM.sd</th></tr></thead>\n",
       "<tbody>\n",
       "\t<tr><td>Galaxy   </td><td>Sit      </td><td>23.90979 </td><td>0.4647806</td></tr>\n",
       "\t<tr><td>Galaxy   </td><td>Stand    </td><td>21.19183 </td><td>0.8095784</td></tr>\n",
       "\t<tr><td>Galaxy   </td><td>Walk     </td><td>12.06554 </td><td>1.2598977</td></tr>\n",
       "\t<tr><td>iPhone   </td><td>Sit      </td><td>20.95750 </td><td>0.7007755</td></tr>\n",
       "\t<tr><td>iPhone   </td><td>Stand    </td><td>23.91629 </td><td>0.8336896</td></tr>\n",
       "\t<tr><td>iPhone   </td><td>Walk     </td><td>19.23408 </td><td>1.3541833</td></tr>\n",
       "</tbody>\n",
       "</table>\n"
      ],
      "text/latex": [
       "\\begin{tabular}{r|llll}\n",
       " Keyboard & Posture & WPM.mean & WPM.sd\\\\\n",
       "\\hline\n",
       "\t Galaxy    & Sit       & 23.90979  & 0.4647806\\\\\n",
       "\t Galaxy    & Stand     & 21.19183  & 0.8095784\\\\\n",
       "\t Galaxy    & Walk      & 12.06554  & 1.2598977\\\\\n",
       "\t iPhone    & Sit       & 20.95750  & 0.7007755\\\\\n",
       "\t iPhone    & Stand     & 23.91629  & 0.8336896\\\\\n",
       "\t iPhone    & Walk      & 19.23408  & 1.3541833\\\\\n",
       "\\end{tabular}\n"
      ],
      "text/markdown": [
       "\n",
       "Keyboard | Posture | WPM.mean | WPM.sd | \n",
       "|---|---|---|---|---|---|\n",
       "| Galaxy    | Sit       | 23.90979  | 0.4647806 | \n",
       "| Galaxy    | Stand     | 21.19183  | 0.8095784 | \n",
       "| Galaxy    | Walk      | 12.06554  | 1.2598977 | \n",
       "| iPhone    | Sit       | 20.95750  | 0.7007755 | \n",
       "| iPhone    | Stand     | 23.91629  | 0.8336896 | \n",
       "| iPhone    | Walk      | 19.23408  | 1.3541833 | \n",
       "\n",
       "\n"
      ],
      "text/plain": [
       "  Keyboard Posture WPM.mean WPM.sd   \n",
       "1 Galaxy   Sit     23.90979 0.4647806\n",
       "2 Galaxy   Stand   21.19183 0.8095784\n",
       "3 Galaxy   Walk    12.06554 1.2598977\n",
       "4 iPhone   Sit     20.95750 0.7007755\n",
       "5 iPhone   Stand   23.91629 0.8336896\n",
       "6 iPhone   Walk    19.23408 1.3541833"
      ]
     },
     "metadata": {},
     "output_type": "display_data"
    }
   ],
   "source": [
    "ddply(mbltxt, ~ Keyboard * Posture, summarise, WPM.mean=mean(WPM), WPM.sd=sd(WPM))"
   ]
  },
  {
   "cell_type": "code",
   "execution_count": 5,
   "metadata": {
    "collapsed": true
   },
   "outputs": [],
   "source": [
    "iphone_sit <- mbltxt[mbltxt$Keyboard == \"iPhone\" & mbltxt$Posture == \"Sit\",]\n",
    "iphone_stand <- mbltxt[mbltxt$Keyboard == \"iPhone\" & mbltxt$Posture == \"Stand\",]\n",
    "iphone_walk <- mbltxt[mbltxt$Keyboard == \"iPhone\" & mbltxt$Posture == \"Walk\",]\n",
    "\n",
    "galaxy_sit <- mbltxt[mbltxt$Keyboard == \"Galaxy\" & mbltxt$Posture == \"Sit\",]\n",
    "galaxy_stand <- mbltxt[mbltxt$Keyboard == \"Galaxy\" & mbltxt$Posture == \"Stand\",]\n",
    "galaxy_walk <- mbltxt[mbltxt$Keyboard == \"Galaxy\" & mbltxt$Posture == \"Walk\",]"
   ]
  },
  {
   "cell_type": "code",
   "execution_count": 6,
   "metadata": {
    "scrolled": false
   },
   "outputs": [
    {
     "data": {
      "image/png": "[encoded data removed]",
      "text/plain": [
       "Plot with title \"Histogram of iphone_sit$WPM\""
      ]
     },
     "metadata": {},
     "output_type": "display_data"
    },
    {
     "data": {
      "image/png": "[encoded data removed]",
      "text/plain": [
       "Plot with title \"Histogram of iphone_stand$WPM\""
      ]
     },
     "metadata": {},
     "output_type": "display_data"
    },
    {
     "data": {
      "image/png": "[encoded data removed]",
      "text/plain": [
       "Plot with title \"Histogram of iphone_walk$WPM\""
      ]
     },
     "metadata": {},
     "output_type": "display_data"
    },
    {
     "data": {
      "image/png": "[encoded data removed]",
      "text/plain": [
       "Plot with title \"Histogram of galaxy_sit$WPM\""
      ]
     },
     "metadata": {},
     "output_type": "display_data"
    },
    {
     "data": {
      "image/png": "[encoded data removed]",
      "text/plain": [
       "Plot with title \"Histogram of galaxy_stand$WPM\""
      ]
     },
     "metadata": {},
     "output_type": "display_data"
    },
    {
     "data": {
      "image/png": "[encoded data removed]",
      "text/plain": [
       "Plot with title \"Histogram of galaxy_walk$WPM\""
      ]
     },
     "metadata": {},
     "output_type": "display_data"
    }
   ],
   "source": [
    "hist(iphone_sit$WPM)\n",
    "hist(iphone_stand$WPM)\n",
    "hist(iphone_walk$WPM)\n",
    "\n",
    "hist(galaxy_sit$WPM)\n",
    "hist(galaxy_stand$WPM)\n",
    "hist(galaxy_walk$WPM)"
   ]
  },
  {
   "cell_type": "code",
   "execution_count": 7,
   "metadata": {},
   "outputs": [
    {
     "data": {
      "image/png": "[encoded data removed]",
      "text/plain": [
       "plot without title"
      ]
     },
     "metadata": {},
     "output_type": "display_data"
    }
   ],
   "source": [
    "boxplot(WPM ~ Keyboard * Posture, data=mbltxt, xlab=\"Keyboard.Posture\", ylab=\"WPM\") # boxplots"
   ]
  },
  {
   "cell_type": "code",
   "execution_count": 8,
   "metadata": {},
   "outputs": [
    {
     "data": {
      "image/png": "[encoded data removed]",
      "text/plain": [
       "plot without title"
      ]
     },
     "metadata": {},
     "output_type": "display_data"
    }
   ],
   "source": [
    "with(mbltxt, interaction.plot(Posture, Keyboard, WPM, ylim=c(0, max(mbltxt$WPM)))) # interaction plot"
   ]
  },
  {
   "cell_type": "markdown",
   "metadata": {},
   "source": [
    "So here, we actually see there is clearly some visual gap between the sitting condition...also between standing and also between walking. It seems that walking certainly slows people's text entry speed down. \n",
    "\n",
    "Standing and sitting seem to be roughly about maybe the same but is different for each keyboard. So based on our discussion previously, it's pretty clear we certainly have at least some kind of interaction. Another way to put it is that the lines are not all just parallel...so we know something differential is happening. Let's go ahead and use our ezANOVA command.\n",
    "\n",
    "Recall with ezANOVA that it's because we're doing a within-subjects factor here for posture. First, we'll do posture order as well to make sure we're not violating this spehericity requirement. \n",
    "\n",
    "### FROM THE PREVIOUS WEEK:\n",
    "\n",
    "We have to check our model for violations of something called Sphericity. Sphericity is the situation where the variances of the differences between all the combinations of levels of within subjects factors are equal (or very near equal). It always holds for within subjects factors that have just 2 levels. So we didn't worry about that before.\n",
    "\n",
    "But with 3 or move levels, sphericity must be tested and examined with Mauchly's test of sphericity. These are some of the complications and complexites that within-subjects variables introduce. \n",
    "\n",
    "### Back to this week...\n",
    "\n",
    "So we'll do that with Machly's test of sphericity. Let's look at its potential order effect. So we'll look at posture order as our within subjects turn. Keyboard is our between subjects turn. Our depedent variable is the WPM"
   ]
  },
  {
   "cell_type": "code",
   "execution_count": 9,
   "metadata": {},
   "outputs": [
    {
     "name": "stderr",
     "output_type": "stream",
     "text": [
      "Warning message:\n",
      "\"package 'ez' was built under R version 3.4.4\""
     ]
    },
    {
     "data": {
      "text/html": [
       "<dl>\n",
       "\t<dt>$ANOVA</dt>\n",
       "\t\t<dd><table>\n",
       "<thead><tr><th></th><th scope=col>Effect</th><th scope=col>DFn</th><th scope=col>DFd</th><th scope=col>F</th><th scope=col>p</th><th scope=col>p&lt;.05</th><th scope=col>ges</th></tr></thead>\n",
       "<tbody>\n",
       "\t<tr><th scope=row>2</th><td>Keyboard              </td><td>1                     </td><td>22                    </td><td>1.244151e+02          </td><td>1.596641e-10          </td><td>*                     </td><td>0.0794723123          </td></tr>\n",
       "\t<tr><th scope=row>3</th><td>Posture_Order         </td><td>2                     </td><td>44                    </td><td>5.166254e-02          </td><td>9.497068e-01          </td><td>                      </td><td>0.0023071128          </td></tr>\n",
       "\t<tr><th scope=row>4</th><td>Keyboard:Posture_Order</td><td>2                     </td><td>44                    </td><td>2.830819e-03          </td><td>9.971734e-01          </td><td>                      </td><td>0.0001266932          </td></tr>\n",
       "</tbody>\n",
       "</table>\n",
       "</dd>\n",
       "\t<dt>$`Mauchly's Test for Sphericity`</dt>\n",
       "\t\t<dd><table>\n",
       "<thead><tr><th></th><th scope=col>Effect</th><th scope=col>W</th><th scope=col>p</th><th scope=col>p&lt;.05</th></tr></thead>\n",
       "<tbody>\n",
       "\t<tr><th scope=row>3</th><td>Posture_Order         </td><td>0.9912922             </td><td>0.9122583             </td><td>                      </td></tr>\n",
       "\t<tr><th scope=row>4</th><td>Keyboard:Posture_Order</td><td>0.9912922             </td><td>0.9122583             </td><td>                      </td></tr>\n",
       "</tbody>\n",
       "</table>\n",
       "</dd>\n",
       "\t<dt>$`Sphericity Corrections`</dt>\n",
       "\t\t<dd><table>\n",
       "<thead><tr><th></th><th scope=col>Effect</th><th scope=col>GGe</th><th scope=col>p[GG]</th><th scope=col>p[GG]&lt;.05</th><th scope=col>HFe</th><th scope=col>p[HF]</th><th scope=col>p[HF]&lt;.05</th></tr></thead>\n",
       "<tbody>\n",
       "\t<tr><th scope=row>3</th><td>Posture_Order         </td><td>0.9913674             </td><td>0.9486517             </td><td>                      </td><td>1.089132              </td><td>0.9497068             </td><td>                      </td></tr>\n",
       "\t<tr><th scope=row>4</th><td>Keyboard:Posture_Order</td><td>0.9913674             </td><td>0.9970418             </td><td>                      </td><td>1.089132              </td><td>0.9971734             </td><td>                      </td></tr>\n",
       "</tbody>\n",
       "</table>\n",
       "</dd>\n",
       "</dl>\n"
      ],
      "text/latex": [
       "\\begin{description}\n",
       "\\item[\\$ANOVA] \\begin{tabular}{r|lllllll}\n",
       "  & Effect & DFn & DFd & F & p & p<.05 & ges\\\\\n",
       "\\hline\n",
       "\t2 & Keyboard               & 1                      & 22                     & 1.244151e+02           & 1.596641e-10           & *                      & 0.0794723123          \\\\\n",
       "\t3 & Posture\\_Order          & 2                        & 44                       & 5.166254e-02             & 9.497068e-01             &                          & 0.0023071128            \\\\\n",
       "\t4 & Keyboard:Posture\\_Order & 2                        & 44                       & 2.830819e-03             & 9.971734e-01             &                          & 0.0001266932            \\\\\n",
       "\\end{tabular}\n",
       "\n",
       "\\item[\\$`Mauchly's Test for Sphericity`] \\begin{tabular}{r|llll}\n",
       "  & Effect & W & p & p<.05\\\\\n",
       "\\hline\n",
       "\t3 & Posture\\_Order          & 0.9912922                & 0.9122583                &                         \\\\\n",
       "\t4 & Keyboard:Posture\\_Order & 0.9912922                & 0.9122583                &                         \\\\\n",
       "\\end{tabular}\n",
       "\n",
       "\\item[\\$`Sphericity Corrections`] \\begin{tabular}{r|lllllll}\n",
       "  & Effect & GGe & p{[}GG{]} & p{[}GG{]}<.05 & HFe & p{[}HF{]} & p{[}HF{]}<.05\\\\\n",
       "\\hline\n",
       "\t3 & Posture\\_Order          & 0.9913674                & 0.9486517                &                          & 1.089132                 & 0.9497068                &                         \\\\\n",
       "\t4 & Keyboard:Posture\\_Order & 0.9913674                & 0.9970418                &                          & 1.089132                 & 0.9971734                &                         \\\\\n",
       "\\end{tabular}\n",
       "\n",
       "\\end{description}\n"
      ],
      "text/markdown": [
       "$ANOVA\n",
       ":   \n",
       "| <!--/--> | Effect | DFn | DFd | F | p | p<.05 | ges | \n",
       "|---|---|---|\n",
       "| 2 | Keyboard               | 1                      | 22                     | 1.244151e+02           | 1.596641e-10           | *                      | 0.0794723123           | \n",
       "| 3 | Posture_Order          | 2                      | 44                     | 5.166254e-02           | 9.497068e-01           |                        | 0.0023071128           | \n",
       "| 4 | Keyboard:Posture_Order | 2                      | 44                     | 2.830819e-03           | 9.971734e-01           |                        | 0.0001266932           | \n",
       "\n",
       "\n",
       "\n",
       "$`Mauchly's Test for Sphericity`\n",
       ":   \n",
       "| <!--/--> | Effect | W | p | p<.05 | \n",
       "|---|---|\n",
       "| 3 | Posture_Order          | 0.9912922              | 0.9122583              |                        | \n",
       "| 4 | Keyboard:Posture_Order | 0.9912922              | 0.9122583              |                        | \n",
       "\n",
       "\n",
       "\n",
       "$`Sphericity Corrections`\n",
       ":   \n",
       "| <!--/--> | Effect | GGe | p[GG] | p[GG]<.05 | HFe | p[HF] | p[HF]<.05 | \n",
       "|---|---|\n",
       "| 3 | Posture_Order          | 0.9913674              | 0.9486517              |                        | 1.089132               | 0.9497068              |                        | \n",
       "| 4 | Keyboard:Posture_Order | 0.9913674              | 0.9970418              |                        | 1.089132               | 0.9971734              |                        | \n",
       "\n",
       "\n",
       "\n",
       "\n",
       "\n"
      ],
      "text/plain": [
       "$ANOVA\n",
       "                  Effect DFn DFd            F            p p<.05          ges\n",
       "2               Keyboard   1  22 1.244151e+02 1.596641e-10     * 0.0794723123\n",
       "3          Posture_Order   2  44 5.166254e-02 9.497068e-01       0.0023071128\n",
       "4 Keyboard:Posture_Order   2  44 2.830819e-03 9.971734e-01       0.0001266932\n",
       "\n",
       "$`Mauchly's Test for Sphericity`\n",
       "                  Effect         W         p p<.05\n",
       "3          Posture_Order 0.9912922 0.9122583      \n",
       "4 Keyboard:Posture_Order 0.9912922 0.9122583      \n",
       "\n",
       "$`Sphericity Corrections`\n",
       "                  Effect       GGe     p[GG] p[GG]<.05      HFe     p[HF]\n",
       "3          Posture_Order 0.9913674 0.9486517           1.089132 0.9497068\n",
       "4 Keyboard:Posture_Order 0.9913674 0.9970418           1.089132 0.9971734\n",
       "  p[HF]<.05\n",
       "3          \n",
       "4          \n"
      ]
     },
     "metadata": {},
     "output_type": "display_data"
    }
   ],
   "source": [
    "# test for posture order effect to ensure counterbalancing worked\n",
    "library(\"ez\")\n",
    "\n",
    "m <- ezANOVA(dv=WPM, between=Keyboard, \n",
    "                 within=Posture_Order, \n",
    "                 wid=Subject, data=mbltxt)\n",
    "m"
   ]
  },
  {
   "cell_type": "code",
   "execution_count": 10,
   "metadata": {},
   "outputs": [
    {
     "data": {
      "text/html": [
       "<table>\n",
       "<thead><tr><th></th><th scope=col>Effect</th><th scope=col>W</th><th scope=col>p</th><th scope=col>p&lt;.05</th></tr></thead>\n",
       "<tbody>\n",
       "\t<tr><th scope=row>3</th><td>Posture_Order         </td><td>0.9912922             </td><td>0.9122583             </td><td>                      </td></tr>\n",
       "\t<tr><th scope=row>4</th><td>Keyboard:Posture_Order</td><td>0.9912922             </td><td>0.9122583             </td><td>                      </td></tr>\n",
       "</tbody>\n",
       "</table>\n"
      ],
      "text/latex": [
       "\\begin{tabular}{r|llll}\n",
       "  & Effect & W & p & p<.05\\\\\n",
       "\\hline\n",
       "\t3 & Posture\\_Order          & 0.9912922                & 0.9122583                &                         \\\\\n",
       "\t4 & Keyboard:Posture\\_Order & 0.9912922                & 0.9122583                &                         \\\\\n",
       "\\end{tabular}\n"
      ],
      "text/markdown": [
       "\n",
       "| <!--/--> | Effect | W | p | p<.05 | \n",
       "|---|---|\n",
       "| 3 | Posture_Order          | 0.9912922              | 0.9122583              |                        | \n",
       "| 4 | Keyboard:Posture_Order | 0.9912922              | 0.9122583              |                        | \n",
       "\n",
       "\n"
      ],
      "text/plain": [
       "  Effect                 W         p         p<.05\n",
       "3 Posture_Order          0.9912922 0.9122583      \n",
       "4 Keyboard:Posture_Order 0.9912922 0.9122583      "
      ]
     },
     "metadata": {},
     "output_type": "display_data"
    }
   ],
   "source": [
    "m$Mauchly "
   ]
  },
  {
   "cell_type": "markdown",
   "metadata": {},
   "source": [
    "Looking at Mauchly's test of sphericity, we see that we are not statistically significant for our within subjects effect. And that means that we don't have a violation of sphericity so we can just use our regular ANOVA table."
   ]
  },
  {
   "cell_type": "code",
   "execution_count": 11,
   "metadata": {},
   "outputs": [
    {
     "data": {
      "text/html": [
       "<table>\n",
       "<thead><tr><th></th><th scope=col>Effect</th><th scope=col>DFn</th><th scope=col>DFd</th><th scope=col>F</th><th scope=col>p</th><th scope=col>p&lt;.05</th><th scope=col>ges</th></tr></thead>\n",
       "<tbody>\n",
       "\t<tr><th scope=row>2</th><td>Keyboard              </td><td>1                     </td><td>22                    </td><td>1.244151e+02          </td><td>1.596641e-10          </td><td>*                     </td><td>0.0794723123          </td></tr>\n",
       "\t<tr><th scope=row>3</th><td>Posture_Order         </td><td>2                     </td><td>44                    </td><td>5.166254e-02          </td><td>9.497068e-01          </td><td>                      </td><td>0.0023071128          </td></tr>\n",
       "\t<tr><th scope=row>4</th><td>Keyboard:Posture_Order</td><td>2                     </td><td>44                    </td><td>2.830819e-03          </td><td>9.971734e-01          </td><td>                      </td><td>0.0001266932          </td></tr>\n",
       "</tbody>\n",
       "</table>\n"
      ],
      "text/latex": [
       "\\begin{tabular}{r|lllllll}\n",
       "  & Effect & DFn & DFd & F & p & p<.05 & ges\\\\\n",
       "\\hline\n",
       "\t2 & Keyboard               & 1                      & 22                     & 1.244151e+02           & 1.596641e-10           & *                      & 0.0794723123          \\\\\n",
       "\t3 & Posture\\_Order          & 2                        & 44                       & 5.166254e-02             & 9.497068e-01             &                          & 0.0023071128            \\\\\n",
       "\t4 & Keyboard:Posture\\_Order & 2                        & 44                       & 2.830819e-03             & 9.971734e-01             &                          & 0.0001266932            \\\\\n",
       "\\end{tabular}\n"
      ],
      "text/markdown": [
       "\n",
       "| <!--/--> | Effect | DFn | DFd | F | p | p<.05 | ges | \n",
       "|---|---|---|\n",
       "| 2 | Keyboard               | 1                      | 22                     | 1.244151e+02           | 1.596641e-10           | *                      | 0.0794723123           | \n",
       "| 3 | Posture_Order          | 2                      | 44                     | 5.166254e-02           | 9.497068e-01           |                        | 0.0023071128           | \n",
       "| 4 | Keyboard:Posture_Order | 2                      | 44                     | 2.830819e-03           | 9.971734e-01           |                        | 0.0001266932           | \n",
       "\n",
       "\n"
      ],
      "text/plain": [
       "  Effect                 DFn DFd F            p            p<.05 ges         \n",
       "2 Keyboard               1   22  1.244151e+02 1.596641e-10 *     0.0794723123\n",
       "3 Posture_Order          2   44  5.166254e-02 9.497068e-01       0.0023071128\n",
       "4 Keyboard:Posture_Order 2   44  2.830819e-03 9.971734e-01       0.0001266932"
      ]
     },
     "metadata": {},
     "output_type": "display_data"
    }
   ],
   "source": [
    "m$ANOVA"
   ]
  },
  {
   "cell_type": "markdown",
   "metadata": {},
   "source": [
    "Examining that - we see that we have a main effect of keyboard. But the key part here is posture porder and its interaction with keyboard - we don't want them to be significant. And we can see that they're not. \n",
    "\n",
    "So that's good - that means our counter-balancing worked. And we can go forward with an analysis with confidence that we're not confounding the results by the presentation order of the difference postures. Because remember again that each subject did all of the 3 postures in the assigned orders we gave them. So let's do the ANOVA now on posture. We're basically doing the same thing but we've changed the within subjects factor to posture instead of posture-order. "
   ]
  },
  {
   "cell_type": "code",
   "execution_count": 12,
   "metadata": {
    "collapsed": true
   },
   "outputs": [],
   "source": [
    "# now perform the two-way mixed factorial repeated measures ANOVA\n",
    "m <- ezANOVA(dv=WPM, between=Keyboard, within=Posture, wid=Subject, data=mbltxt)"
   ]
  },
  {
   "cell_type": "code",
   "execution_count": 13,
   "metadata": {},
   "outputs": [
    {
     "data": {
      "text/html": [
       "<table>\n",
       "<thead><tr><th></th><th scope=col>Effect</th><th scope=col>W</th><th scope=col>p</th><th scope=col>p&lt;.05</th></tr></thead>\n",
       "<tbody>\n",
       "\t<tr><th scope=row>3</th><td>Posture         </td><td>0.6370236       </td><td>0.008782794     </td><td>*               </td></tr>\n",
       "\t<tr><th scope=row>4</th><td>Keyboard:Posture</td><td>0.6370236       </td><td>0.008782794     </td><td>*               </td></tr>\n",
       "</tbody>\n",
       "</table>\n"
      ],
      "text/latex": [
       "\\begin{tabular}{r|llll}\n",
       "  & Effect & W & p & p<.05\\\\\n",
       "\\hline\n",
       "\t3 & Posture          & 0.6370236        & 0.008782794      & *               \\\\\n",
       "\t4 & Keyboard:Posture & 0.6370236        & 0.008782794      & *               \\\\\n",
       "\\end{tabular}\n"
      ],
      "text/markdown": [
       "\n",
       "| <!--/--> | Effect | W | p | p<.05 | \n",
       "|---|---|\n",
       "| 3 | Posture          | 0.6370236        | 0.008782794      | *                | \n",
       "| 4 | Keyboard:Posture | 0.6370236        | 0.008782794      | *                | \n",
       "\n",
       "\n"
      ],
      "text/plain": [
       "  Effect           W         p           p<.05\n",
       "3 Posture          0.6370236 0.008782794 *    \n",
       "4 Keyboard:Posture 0.6370236 0.008782794 *    "
      ]
     },
     "metadata": {},
     "output_type": "display_data"
    }
   ],
   "source": [
    "m$Mauchly"
   ]
  },
  {
   "cell_type": "markdown",
   "metadata": {},
   "source": [
    "Checking the Mauchly's p-value, we see that it is now significant so we have a violation of sphericity which means we'll use that degrees of freedom and significance results for within subjects factors provided by the greenhouse geisser correction. \n",
    "\n",
    "We'll first take a look at the ANOVA table because we do want to look at the keyboard between subjects factor here. And we can see that it is statistically significant. We can also tell by the graphs above that there is clearly a difference in keyboards. \n",
    "\n",
    "While in sitting mode, the iphone's keyboard is not as fast as the galaxy keyboard. For both standing and walking, it's a fair bit better..especially with walking. So we're not surprised to see there is a difference in keyboards. We'll go ahead and load up the results for within subjects factors in this sphericity output here. "
   ]
  },
  {
   "cell_type": "code",
   "execution_count": 14,
   "metadata": {},
   "outputs": [
    {
     "data": {
      "text/html": [
       "<table>\n",
       "<thead><tr><th></th><th scope=col>Effect</th><th scope=col>DFn</th><th scope=col>DFd</th><th scope=col>F</th><th scope=col>p</th><th scope=col>p&lt;.05</th><th scope=col>ges</th></tr></thead>\n",
       "<tbody>\n",
       "\t<tr><th scope=row>2</th><td>Keyboard        </td><td>1               </td><td>22              </td><td>124.4151        </td><td>1.596641e-10    </td><td>*               </td><td>0.6151917       </td></tr>\n",
       "\t<tr><th scope=row>3</th><td>Posture         </td><td>2               </td><td>44              </td><td>381.4980        </td><td>1.602465e-28    </td><td>*               </td><td>0.9255880       </td></tr>\n",
       "\t<tr><th scope=row>4</th><td>Keyboard:Posture</td><td>2               </td><td>44              </td><td>157.1600        </td><td>9.162076e-21    </td><td>*               </td><td>0.8367128       </td></tr>\n",
       "</tbody>\n",
       "</table>\n"
      ],
      "text/latex": [
       "\\begin{tabular}{r|lllllll}\n",
       "  & Effect & DFn & DFd & F & p & p<.05 & ges\\\\\n",
       "\\hline\n",
       "\t2 & Keyboard         & 1                & 22               & 124.4151         & 1.596641e-10     & *                & 0.6151917       \\\\\n",
       "\t3 & Posture          & 2                & 44               & 381.4980         & 1.602465e-28     & *                & 0.9255880       \\\\\n",
       "\t4 & Keyboard:Posture & 2                & 44               & 157.1600         & 9.162076e-21     & *                & 0.8367128       \\\\\n",
       "\\end{tabular}\n"
      ],
      "text/markdown": [
       "\n",
       "| <!--/--> | Effect | DFn | DFd | F | p | p<.05 | ges | \n",
       "|---|---|---|\n",
       "| 2 | Keyboard         | 1                | 22               | 124.4151         | 1.596641e-10     | *                | 0.6151917        | \n",
       "| 3 | Posture          | 2                | 44               | 381.4980         | 1.602465e-28     | *                | 0.9255880        | \n",
       "| 4 | Keyboard:Posture | 2                | 44               | 157.1600         | 9.162076e-21     | *                | 0.8367128        | \n",
       "\n",
       "\n"
      ],
      "text/plain": [
       "  Effect           DFn DFd F        p            p<.05 ges      \n",
       "2 Keyboard         1   22  124.4151 1.596641e-10 *     0.6151917\n",
       "3 Posture          2   44  381.4980 1.602465e-28 *     0.9255880\n",
       "4 Keyboard:Posture 2   44  157.1600 9.162076e-21 *     0.8367128"
      ]
     },
     "metadata": {},
     "output_type": "display_data"
    }
   ],
   "source": [
    "m$ANOVA"
   ]
  },
  {
   "cell_type": "code",
   "execution_count": 15,
   "metadata": {},
   "outputs": [
    {
     "data": {
      "text/html": [
       "<table>\n",
       "<thead><tr><th></th><th scope=col>Effect</th><th scope=col>GGe</th><th scope=col>p[GG]</th><th scope=col>p[GG]&lt;.05</th><th scope=col>HFe</th><th scope=col>p[HF]</th><th scope=col>p[HF]&lt;.05</th><th scope=col>GGe.DFn</th><th scope=col>GGe.DFd</th><th scope=col>HFe.DFn</th><th scope=col>HFe.DFd</th></tr></thead>\n",
       "<tbody>\n",
       "\t<tr><th scope=row>3</th><td>Posture         </td><td>0.7336884       </td><td>1.558280e-21    </td><td>*               </td><td>0.7731517       </td><td>1.432947e-22    </td><td>*               </td><td>1.467377        </td><td>32.28229        </td><td>1.546303        </td><td>34.01868        </td></tr>\n",
       "\t<tr><th scope=row>4</th><td>Keyboard:Posture</td><td>0.7336884       </td><td>7.800756e-16    </td><td>*               </td><td>0.7731517       </td><td>1.447657e-16    </td><td>*               </td><td>1.467377        </td><td>32.28229        </td><td>1.546303        </td><td>34.01868        </td></tr>\n",
       "</tbody>\n",
       "</table>\n"
      ],
      "text/latex": [
       "\\begin{tabular}{r|lllllllllll}\n",
       "  & Effect & GGe & p{[}GG{]} & p{[}GG{]}<.05 & HFe & p{[}HF{]} & p{[}HF{]}<.05 & GGe.DFn & GGe.DFd & HFe.DFn & HFe.DFd\\\\\n",
       "\\hline\n",
       "\t3 & Posture          & 0.7336884        & 1.558280e-21     & *                & 0.7731517        & 1.432947e-22     & *                & 1.467377         & 32.28229         & 1.546303         & 34.01868        \\\\\n",
       "\t4 & Keyboard:Posture & 0.7336884        & 7.800756e-16     & *                & 0.7731517        & 1.447657e-16     & *                & 1.467377         & 32.28229         & 1.546303         & 34.01868        \\\\\n",
       "\\end{tabular}\n"
      ],
      "text/markdown": [
       "\n",
       "| <!--/--> | Effect | GGe | p[GG] | p[GG]<.05 | HFe | p[HF] | p[HF]<.05 | GGe.DFn | GGe.DFd | HFe.DFn | HFe.DFd | \n",
       "|---|---|\n",
       "| 3 | Posture          | 0.7336884        | 1.558280e-21     | *                | 0.7731517        | 1.432947e-22     | *                | 1.467377         | 32.28229         | 1.546303         | 34.01868         | \n",
       "| 4 | Keyboard:Posture | 0.7336884        | 7.800756e-16     | *                | 0.7731517        | 1.447657e-16     | *                | 1.467377         | 32.28229         | 1.546303         | 34.01868         | \n",
       "\n",
       "\n"
      ],
      "text/plain": [
       "  Effect           GGe       p[GG]        p[GG]<.05 HFe       p[HF]       \n",
       "3 Posture          0.7336884 1.558280e-21 *         0.7731517 1.432947e-22\n",
       "4 Keyboard:Posture 0.7336884 7.800756e-16 *         0.7731517 1.447657e-16\n",
       "  p[HF]<.05 GGe.DFn  GGe.DFd  HFe.DFn  HFe.DFd \n",
       "3 *         1.467377 32.28229 1.546303 34.01868\n",
       "4 *         1.467377 32.28229 1.546303 34.01868"
      ]
     },
     "metadata": {},
     "output_type": "display_data"
    }
   ],
   "source": [
    "# note: \"ges\" in m$ANOVA is the generalized eta-squared measure\n",
    "# of effect size, preferred to eta-squared or partial eta-squared. \n",
    "# see Bakeman (2005) in the References at ?ezANOVA.\n",
    "# Now compute the corrected DFs for each corrected effect\n",
    "\n",
    "pos <- match(m$`Sphericity Corrections`$Effect, m$ANOVA$Effect) # positions of within-Ss efx in m$ANOVA\n",
    "\n",
    "m$Sphericity$GGe.DFn <- m$Sphericity$GGe * m$ANOVA$DFn[pos] # Greenhouse-Geisser\n",
    "m$Sphericity$GGe.DFd <- m$Sphericity$GGe * m$ANOVA$DFd[pos]\n",
    "m$Sphericity$HFe.DFn <- m$Sphericity$HFe * m$ANOVA$DFn[pos] # Huynh-Feldt\n",
    "m$Sphericity$HFe.DFd <- m$Sphericity$HFe * m$ANOVA$DFd[pos]\n",
    "\n",
    "m$Sphericity # show results"
   ]
  },
  {
   "cell_type": "markdown",
   "metadata": {},
   "source": [
    "So here, we're getting our effect significance from the corrected result so we have posture and keyboard by posture interaction here. We see that our p-values are in fact statistically significant under the greenhouse geisser correction. Now we get our stars in that column. We'll ignore the HF (HuntFeldt) correction here. It's just an alternative correction. \n",
    "\n",
    "The bottom line is we have 3 significant results. We have the main effect of keyboard, the main effector of posture, and we have an interaction effect that's significant. And we can see that in the crossing of the lines in the interaction plot above. So all 3 are significant. That makes for an intersting set of findings. \n",
    "\n",
    "For completeness, here's an analysis with the AOV fit but that won't give us the Mauchly's test of sphericity. "
   ]
  },
  {
   "cell_type": "code",
   "execution_count": 16,
   "metadata": {},
   "outputs": [
    {
     "data": {
      "text/plain": [
       "\n",
       "Error: Subject\n",
       "          Df Sum Sq Mean Sq F value  Pr(>F)    \n",
       "Keyboard   1  96.35   96.35   124.4 1.6e-10 ***\n",
       "Residuals 22  17.04    0.77                    \n",
       "---\n",
       "Signif. codes:  0 '***' 0.001 '**' 0.01 '*' 0.05 '.' 0.1 ' ' 1\n",
       "\n",
       "Error: Subject:Posture\n",
       "                 Df Sum Sq Mean Sq F value Pr(>F)    \n",
       "Posture           2  749.6   374.8   381.5 <2e-16 ***\n",
       "Keyboard:Posture  2  308.8   154.4   157.2 <2e-16 ***\n",
       "Residuals        44   43.2     1.0                   \n",
       "---\n",
       "Signif. codes:  0 '***' 0.001 '**' 0.01 '*' 0.05 '.' 0.1 ' ' 1"
      ]
     },
     "metadata": {},
     "output_type": "display_data"
    }
   ],
   "source": [
    "# for completeness, note the above's uncorrected results are the same as from this\n",
    "m <- aov(WPM ~ Keyboard * Posture + Error(Subject/Posture), data=mbltxt)\n",
    "summary(m)"
   ]
  },
  {
   "cell_type": "markdown",
   "metadata": {},
   "source": [
    "So now, we can do comparisons in light of the significant interaction. The overall/omnibus F-test was significant but let's look between levels. \n",
    "\n",
    "For example - how do the 2 keyboards compare when sitting? How do the 2 keyboards compare just when standing and just when walking? Now, those are some of the things interactions can answer for us. So we have to make a wide format table. "
   ]
  },
  {
   "cell_type": "code",
   "execution_count": 17,
   "metadata": {},
   "outputs": [
    {
     "data": {
      "text/html": [
       "<table>\n",
       "<thead><tr><th scope=col>Subject</th><th scope=col>Keyboard</th><th scope=col>Sit</th><th scope=col>Stand</th><th scope=col>Walk</th></tr></thead>\n",
       "<tbody>\n",
       "\t<tr><td>1      </td><td>iPhone </td><td>20.2145</td><td>23.7485</td><td>20.7960</td></tr>\n",
       "\t<tr><td>2      </td><td>iPhone </td><td>20.8805</td><td>23.2595</td><td>19.1305</td></tr>\n",
       "\t<tr><td>3      </td><td>iPhone </td><td>21.2635</td><td>23.4945</td><td>20.8545</td></tr>\n",
       "\t<tr><td>4      </td><td>iPhone </td><td>20.7080</td><td>23.9220</td><td>18.2575</td></tr>\n",
       "\t<tr><td>5      </td><td>iPhone </td><td>21.0075</td><td>23.4700</td><td>17.7105</td></tr>\n",
       "\t<tr><td>6      </td><td>iPhone </td><td>19.9115</td><td>24.2975</td><td>19.8550</td></tr>\n",
       "</tbody>\n",
       "</table>\n"
      ],
      "text/latex": [
       "\\begin{tabular}{r|lllll}\n",
       " Subject & Keyboard & Sit & Stand & Walk\\\\\n",
       "\\hline\n",
       "\t 1       & iPhone  & 20.2145 & 23.7485 & 20.7960\\\\\n",
       "\t 2       & iPhone  & 20.8805 & 23.2595 & 19.1305\\\\\n",
       "\t 3       & iPhone  & 21.2635 & 23.4945 & 20.8545\\\\\n",
       "\t 4       & iPhone  & 20.7080 & 23.9220 & 18.2575\\\\\n",
       "\t 5       & iPhone  & 21.0075 & 23.4700 & 17.7105\\\\\n",
       "\t 6       & iPhone  & 19.9115 & 24.2975 & 19.8550\\\\\n",
       "\\end{tabular}\n"
      ],
      "text/markdown": [
       "\n",
       "Subject | Keyboard | Sit | Stand | Walk | \n",
       "|---|---|---|---|---|---|\n",
       "| 1       | iPhone  | 20.2145 | 23.7485 | 20.7960 | \n",
       "| 2       | iPhone  | 20.8805 | 23.2595 | 19.1305 | \n",
       "| 3       | iPhone  | 21.2635 | 23.4945 | 20.8545 | \n",
       "| 4       | iPhone  | 20.7080 | 23.9220 | 18.2575 | \n",
       "| 5       | iPhone  | 21.0075 | 23.4700 | 17.7105 | \n",
       "| 6       | iPhone  | 19.9115 | 24.2975 | 19.8550 | \n",
       "\n",
       "\n"
      ],
      "text/plain": [
       "  Subject Keyboard Sit     Stand   Walk   \n",
       "1 1       iPhone   20.2145 23.7485 20.7960\n",
       "2 2       iPhone   20.8805 23.2595 19.1305\n",
       "3 3       iPhone   21.2635 23.4945 20.8545\n",
       "4 4       iPhone   20.7080 23.9220 18.2575\n",
       "5 5       iPhone   21.0075 23.4700 17.7105\n",
       "6 6       iPhone   19.9115 24.2975 19.8550"
      ]
     },
     "metadata": {},
     "output_type": "display_data"
    }
   ],
   "source": [
    "# manual post hoc pairwise comparisons in light of sig. interaction\n",
    "library(\"reshape2\")\n",
    "\n",
    "mbltxt.wide <- dcast(mbltxt, Subject + Keyboard ~ Posture, value.var=\"WPM\") # go wide\n",
    "head(mbltxt.wide)"
   ]
  },
  {
   "cell_type": "code",
   "execution_count": 18,
   "metadata": {},
   "outputs": [
    {
     "data": {
      "text/html": [
       "<ol class=list-inline>\n",
       "\t<li>3.84249009666701e-10</li>\n",
       "\t<li>4.62238419753284e-08</li>\n",
       "\t<li>1.45021408223689e-11</li>\n",
       "</ol>\n"
      ],
      "text/latex": [
       "\\begin{enumerate*}\n",
       "\\item 3.84249009666701e-10\n",
       "\\item 4.62238419753284e-08\n",
       "\\item 1.45021408223689e-11\n",
       "\\end{enumerate*}\n"
      ],
      "text/markdown": [
       "1. 3.84249009666701e-10\n",
       "2. 4.62238419753284e-08\n",
       "3. 1.45021408223689e-11\n",
       "\n",
       "\n"
      ],
      "text/plain": [
       "[1] 3.842490e-10 4.622384e-08 1.450214e-11"
      ]
     },
     "metadata": {},
     "output_type": "display_data"
    }
   ],
   "source": [
    "sit <- t.test(mbltxt.wide$Sit ~ Keyboard, data=mbltxt.wide) # iPhone vs. Galaxy WPM sitting\n",
    "\n",
    "std <- t.test(mbltxt.wide$Stand ~ Keyboard, data=mbltxt.wide) # iPhone vs. Galaxy WPM standing\n",
    "\n",
    "wlk <- t.test(mbltxt.wide$Walk ~ Keyboard, data=mbltxt.wide) # iPhone vs. Galaxy WPM walking\n",
    "\n",
    "p.adjust(c(sit$p.value, std$p.value, wlk$p.value), method=\"holm\")"
   ]
  },
  {
   "cell_type": "markdown",
   "metadata": {},
   "source": [
    "We ran the test and using the Holms Bonferonni correction, we see that all 3 are statistically significant at the 0.05 level. So all of these differences are big enough in light of their variance that we can say whichever ones on top is really actually faster. \n",
    "\n",
    "We might also be curious to say...what about within the iphone? How might we compare the iphone in terms of sitting to walking?  "
   ]
  },
  {
   "cell_type": "code",
   "execution_count": 19,
   "metadata": {},
   "outputs": [
    {
     "data": {
      "text/plain": [
       "\n",
       "\tPaired t-test\n",
       "\n",
       "data:  mbltxt.wide[mbltxt.wide$Keyboard == \"iPhone\", ]$Sit and mbltxt.wide[mbltxt.wide$Keyboard == \"iPhone\", ]$Walk\n",
       "t = 3.6259, df = 11, p-value = 0.003985\n",
       "alternative hypothesis: true difference in means is not equal to 0\n",
       "95 percent confidence interval:\n",
       " 0.6772808 2.7695525\n",
       "sample estimates:\n",
       "mean of the differences \n",
       "               1.723417 \n"
      ]
     },
     "metadata": {},
     "output_type": "display_data"
    }
   ],
   "source": [
    "# just curious: also compare iPhone 'sit' and 'walk'\n",
    "t.test(mbltxt.wide[mbltxt.wide$Keyboard == \"iPhone\",]$Sit, \n",
    "           mbltxt.wide[mbltxt.wide$Keyboard == \"iPhone\",]$Walk, \n",
    "           paired=TRUE)"
   ]
  },
  {
   "cell_type": "markdown",
   "metadata": {},
   "source": [
    "We ran that and we can see that there is a significant difference. In looking at the boxplot for just those levels, we can see that in fact the sitting is in fact faster in light of the variance than the walking condition. So that's a way we've explroed our interaction effects and our main effects between these keyboards for these difference postures."
   ]
  },
  {
   "cell_type": "code",
   "execution_count": 20,
   "metadata": {
    "scrolled": false
   },
   "outputs": [
    {
     "data": {
      "image/png": "[encoded data removed]",
      "text/plain": [
       "plot without title"
      ]
     },
     "metadata": {},
     "output_type": "display_data"
    }
   ],
   "source": [
    "boxplot(mbltxt.wide[mbltxt.wide$Keyboard == \"iPhone\",]$Sit, \n",
    "            mbltxt.wide[mbltxt.wide$Keyboard == \"iPhone\",]$Walk,\n",
    "            xlab=\"iPhone.Sit vs. iPhone.Walk\", ylab=\"WPM\") # custom boxplot"
   ]
  },
  {
   "cell_type": "markdown",
   "metadata": {
    "collapsed": true
   },
   "source": [
    "Next, we'll go into looking at a non-parametric approach for this. "
   ]
  },
  {
   "cell_type": "markdown",
   "metadata": {},
   "source": [
    "# The ART, a nonparametric factorial ANOVA\n",
    "\n",
    "So we're looking at our study of people using 2 different keyboards. And they use one or the other. The iphone keyboard or the galaxy keyboard in 3 different postures. And they do all 3 postures (sitting, standing, and walking) which we fully counterbalanced. We had the parametric analysis - it was a mixed factorial ANVOA because we have a betweens and within subjects factor. And we saw this interaction plot here and we found that we have differences at each of the 2 keyboards and each of the postures were different. \n",
    "\n",
    "How do we do this with a non-parametric procedure? Let's take a look at the error rate. Erros almost invariably do not conform to the assumptions that we discussed for ANOVA. They are cut off at zero. They can't be sort of less than zero, obviously. They often are kind of random in their distribution. Errors just tend to not allow themselves to be analyzed easily with parametric procedures. So we can use a non-parametric procedure on our error rate column. And we'll do that with an approach called the aligned rank transform procedure. It's important to note that with non-parametric analysis, interaction effects are not usually available in the common analysis. Freidmans tests that we've looked at, Wilcoxon sign-rank test, Kruskal-wallace test, and Mann-whitney test, they're all one-way tests. They're just single factors tests. So if we want the possiblity of analyzing interactions and handling those the right way, one of the options available to us is called the aligned rank transform. I won't go into great depth about how this works but it does operate on ranks just like the other non-parametric tests we've seen. But it operates on something called aligned ranks where the data is aligned before being ranked. And what aligned means is that only the effect of interest is left in the data because we subtract out values from it. That removes the possibility of other effects. So for example, if we're just looking at the main effective keyboard, we align the data to that by subtracting out possible estimated efffects of posture. If we want to look just at the interaction between keyboard and posture, we subtract out estimated values from each data point that would relate to the main effects of keyboard and posture. So we just leave one effect behind and that's called the alignment process. "
   ]
  },
  {
   "cell_type": "code",
   "execution_count": 21,
   "metadata": {},
   "outputs": [
    {
     "data": {
      "text/html": [
       "<table>\n",
       "<thead><tr><th scope=col>Subject</th><th scope=col>Keyboard</th><th scope=col>Posture</th><th scope=col>Posture_Order</th><th scope=col>WPM</th><th scope=col>Error_Rate</th></tr></thead>\n",
       "<tbody>\n",
       "\t<tr><td>1      </td><td>iPhone </td><td>Sit    </td><td>1      </td><td>20.2145</td><td>0.0220 </td></tr>\n",
       "\t<tr><td>1      </td><td>iPhone </td><td>Stand  </td><td>2      </td><td>23.7485</td><td>0.0300 </td></tr>\n",
       "\t<tr><td>1      </td><td>iPhone </td><td>Walk   </td><td>3      </td><td>20.7960</td><td>0.0415 </td></tr>\n",
       "\t<tr><td>2      </td><td>iPhone </td><td>Sit    </td><td>1      </td><td>20.8805</td><td>0.0220 </td></tr>\n",
       "\t<tr><td>2      </td><td>iPhone </td><td>Stand  </td><td>3      </td><td>23.2595</td><td>0.0255 </td></tr>\n",
       "\t<tr><td>2      </td><td>iPhone </td><td>Walk   </td><td>2      </td><td>19.1305</td><td>0.0355 </td></tr>\n",
       "</tbody>\n",
       "</table>\n"
      ],
      "text/latex": [
       "\\begin{tabular}{r|llllll}\n",
       " Subject & Keyboard & Posture & Posture\\_Order & WPM & Error\\_Rate\\\\\n",
       "\\hline\n",
       "\t 1       & iPhone  & Sit     & 1       & 20.2145 & 0.0220 \\\\\n",
       "\t 1       & iPhone  & Stand   & 2       & 23.7485 & 0.0300 \\\\\n",
       "\t 1       & iPhone  & Walk    & 3       & 20.7960 & 0.0415 \\\\\n",
       "\t 2       & iPhone  & Sit     & 1       & 20.8805 & 0.0220 \\\\\n",
       "\t 2       & iPhone  & Stand   & 3       & 23.2595 & 0.0255 \\\\\n",
       "\t 2       & iPhone  & Walk    & 2       & 19.1305 & 0.0355 \\\\\n",
       "\\end{tabular}\n"
      ],
      "text/markdown": [
       "\n",
       "Subject | Keyboard | Posture | Posture_Order | WPM | Error_Rate | \n",
       "|---|---|---|---|---|---|\n",
       "| 1       | iPhone  | Sit     | 1       | 20.2145 | 0.0220  | \n",
       "| 1       | iPhone  | Stand   | 2       | 23.7485 | 0.0300  | \n",
       "| 1       | iPhone  | Walk    | 3       | 20.7960 | 0.0415  | \n",
       "| 2       | iPhone  | Sit     | 1       | 20.8805 | 0.0220  | \n",
       "| 2       | iPhone  | Stand   | 3       | 23.2595 | 0.0255  | \n",
       "| 2       | iPhone  | Walk    | 2       | 19.1305 | 0.0355  | \n",
       "\n",
       "\n"
      ],
      "text/plain": [
       "  Subject Keyboard Posture Posture_Order WPM     Error_Rate\n",
       "1 1       iPhone   Sit     1             20.2145 0.0220    \n",
       "2 1       iPhone   Stand   2             23.7485 0.0300    \n",
       "3 1       iPhone   Walk    3             20.7960 0.0415    \n",
       "4 2       iPhone   Sit     1             20.8805 0.0220    \n",
       "5 2       iPhone   Stand   3             23.2595 0.0255    \n",
       "6 2       iPhone   Walk    2             19.1305 0.0355    "
      ]
     },
     "metadata": {},
     "output_type": "display_data"
    }
   ],
   "source": [
    "head(mbltxt)"
   ]
  },
  {
   "cell_type": "code",
   "execution_count": 22,
   "metadata": {},
   "outputs": [
    {
     "data": {
      "text/html": [
       "<table>\n",
       "<thead><tr><th scope=col>Keyboard</th><th scope=col>Posture</th><th scope=col>Min.</th><th scope=col>1st Qu.</th><th scope=col>Median</th><th scope=col>Mean</th><th scope=col>3rd Qu.</th><th scope=col>Max.</th></tr></thead>\n",
       "<tbody>\n",
       "\t<tr><td>Galaxy    </td><td>Sit       </td><td>0.0150    </td><td>0.018000  </td><td>0.01900   </td><td>0.01941667</td><td>0.020875  </td><td>0.0235    </td></tr>\n",
       "\t<tr><td>Galaxy    </td><td>Stand     </td><td>0.0250    </td><td>0.027875  </td><td>0.03050   </td><td>0.03066667</td><td>0.033625  </td><td>0.0370    </td></tr>\n",
       "\t<tr><td>Galaxy    </td><td>Walk      </td><td>0.0510    </td><td>0.060250  </td><td>0.06575   </td><td>0.06320833</td><td>0.067250  </td><td>0.0695    </td></tr>\n",
       "\t<tr><td>iPhone    </td><td>Sit       </td><td>0.0155    </td><td>0.017875  </td><td>0.02050   </td><td>0.01987500</td><td>0.022000  </td><td>0.0235    </td></tr>\n",
       "\t<tr><td>iPhone    </td><td>Stand     </td><td>0.0255    </td><td>0.028250  </td><td>0.03025   </td><td>0.02983333</td><td>0.031125  </td><td>0.0350    </td></tr>\n",
       "\t<tr><td>iPhone    </td><td>Walk      </td><td>0.0350    </td><td>0.037000  </td><td>0.04000   </td><td>0.03987500</td><td>0.041500  </td><td>0.0500    </td></tr>\n",
       "</tbody>\n",
       "</table>\n"
      ],
      "text/latex": [
       "\\begin{tabular}{r|llllllll}\n",
       " Keyboard & Posture & Min. & 1st Qu. & Median & Mean & 3rd Qu. & Max.\\\\\n",
       "\\hline\n",
       "\t Galaxy     & Sit        & 0.0150     & 0.018000   & 0.01900    & 0.01941667 & 0.020875   & 0.0235    \\\\\n",
       "\t Galaxy     & Stand      & 0.0250     & 0.027875   & 0.03050    & 0.03066667 & 0.033625   & 0.0370    \\\\\n",
       "\t Galaxy     & Walk       & 0.0510     & 0.060250   & 0.06575    & 0.06320833 & 0.067250   & 0.0695    \\\\\n",
       "\t iPhone     & Sit        & 0.0155     & 0.017875   & 0.02050    & 0.01987500 & 0.022000   & 0.0235    \\\\\n",
       "\t iPhone     & Stand      & 0.0255     & 0.028250   & 0.03025    & 0.02983333 & 0.031125   & 0.0350    \\\\\n",
       "\t iPhone     & Walk       & 0.0350     & 0.037000   & 0.04000    & 0.03987500 & 0.041500   & 0.0500    \\\\\n",
       "\\end{tabular}\n"
      ],
      "text/markdown": [
       "\n",
       "Keyboard | Posture | Min. | 1st Qu. | Median | Mean | 3rd Qu. | Max. | \n",
       "|---|---|---|---|---|---|\n",
       "| Galaxy     | Sit        | 0.0150     | 0.018000   | 0.01900    | 0.01941667 | 0.020875   | 0.0235     | \n",
       "| Galaxy     | Stand      | 0.0250     | 0.027875   | 0.03050    | 0.03066667 | 0.033625   | 0.0370     | \n",
       "| Galaxy     | Walk       | 0.0510     | 0.060250   | 0.06575    | 0.06320833 | 0.067250   | 0.0695     | \n",
       "| iPhone     | Sit        | 0.0155     | 0.017875   | 0.02050    | 0.01987500 | 0.022000   | 0.0235     | \n",
       "| iPhone     | Stand      | 0.0255     | 0.028250   | 0.03025    | 0.02983333 | 0.031125   | 0.0350     | \n",
       "| iPhone     | Walk       | 0.0350     | 0.037000   | 0.04000    | 0.03987500 | 0.041500   | 0.0500     | \n",
       "\n",
       "\n"
      ],
      "text/plain": [
       "  Keyboard Posture Min.   1st Qu.  Median  Mean       3rd Qu.  Max.  \n",
       "1 Galaxy   Sit     0.0150 0.018000 0.01900 0.01941667 0.020875 0.0235\n",
       "2 Galaxy   Stand   0.0250 0.027875 0.03050 0.03066667 0.033625 0.0370\n",
       "3 Galaxy   Walk    0.0510 0.060250 0.06575 0.06320833 0.067250 0.0695\n",
       "4 iPhone   Sit     0.0155 0.017875 0.02050 0.01987500 0.022000 0.0235\n",
       "5 iPhone   Stand   0.0255 0.028250 0.03025 0.02983333 0.031125 0.0350\n",
       "6 iPhone   Walk    0.0350 0.037000 0.04000 0.03987500 0.041500 0.0500"
      ]
     },
     "metadata": {},
     "output_type": "display_data"
    }
   ],
   "source": [
    "# The Aligned Rank Transform (ART) procedure\n",
    "\n",
    "library(\"plyr\")\n",
    "\n",
    "ddply(mbltxt, ~ Keyboard * Posture, \n",
    "          function(data) summary(data$Error_Rate))"
   ]
  },
  {
   "cell_type": "code",
   "execution_count": 23,
   "metadata": {},
   "outputs": [
    {
     "data": {
      "text/html": [
       "<table>\n",
       "<thead><tr><th scope=col>Keyboard</th><th scope=col>Posture</th><th scope=col>Error_Rate.mean</th><th scope=col>Error_Rate.sd</th></tr></thead>\n",
       "<tbody>\n",
       "\t<tr><td>Galaxy     </td><td>Sit        </td><td>0.01941667 </td><td>0.002429303</td></tr>\n",
       "\t<tr><td>Galaxy     </td><td>Stand      </td><td>0.03066667 </td><td>0.004063884</td></tr>\n",
       "\t<tr><td>Galaxy     </td><td>Walk       </td><td>0.06320833 </td><td>0.005754280</td></tr>\n",
       "\t<tr><td>iPhone     </td><td>Sit        </td><td>0.01987500 </td><td>0.002478315</td></tr>\n",
       "\t<tr><td>iPhone     </td><td>Stand      </td><td>0.02983333 </td><td>0.002579053</td></tr>\n",
       "\t<tr><td>iPhone     </td><td>Walk       </td><td>0.03987500 </td><td>0.004051515</td></tr>\n",
       "</tbody>\n",
       "</table>\n"
      ],
      "text/latex": [
       "\\begin{tabular}{r|llll}\n",
       " Keyboard & Posture & Error\\_Rate.mean & Error\\_Rate.sd\\\\\n",
       "\\hline\n",
       "\t Galaxy      & Sit         & 0.01941667  & 0.002429303\\\\\n",
       "\t Galaxy      & Stand       & 0.03066667  & 0.004063884\\\\\n",
       "\t Galaxy      & Walk        & 0.06320833  & 0.005754280\\\\\n",
       "\t iPhone      & Sit         & 0.01987500  & 0.002478315\\\\\n",
       "\t iPhone      & Stand       & 0.02983333  & 0.002579053\\\\\n",
       "\t iPhone      & Walk        & 0.03987500  & 0.004051515\\\\\n",
       "\\end{tabular}\n"
      ],
      "text/markdown": [
       "\n",
       "Keyboard | Posture | Error_Rate.mean | Error_Rate.sd | \n",
       "|---|---|---|---|---|---|\n",
       "| Galaxy      | Sit         | 0.01941667  | 0.002429303 | \n",
       "| Galaxy      | Stand       | 0.03066667  | 0.004063884 | \n",
       "| Galaxy      | Walk        | 0.06320833  | 0.005754280 | \n",
       "| iPhone      | Sit         | 0.01987500  | 0.002478315 | \n",
       "| iPhone      | Stand       | 0.02983333  | 0.002579053 | \n",
       "| iPhone      | Walk        | 0.03987500  | 0.004051515 | \n",
       "\n",
       "\n"
      ],
      "text/plain": [
       "  Keyboard Posture Error_Rate.mean Error_Rate.sd\n",
       "1 Galaxy   Sit     0.01941667      0.002429303  \n",
       "2 Galaxy   Stand   0.03066667      0.004063884  \n",
       "3 Galaxy   Walk    0.06320833      0.005754280  \n",
       "4 iPhone   Sit     0.01987500      0.002478315  \n",
       "5 iPhone   Stand   0.02983333      0.002579053  \n",
       "6 iPhone   Walk    0.03987500      0.004051515  "
      ]
     },
     "metadata": {},
     "output_type": "display_data"
    }
   ],
   "source": [
    "ddply(mbltxt, ~ Keyboard * Posture, summarise, \n",
    "          Error_Rate.mean=mean(Error_Rate), \n",
    "          Error_Rate.sd=sd(Error_Rate))"
   ]
  },
  {
   "cell_type": "code",
   "execution_count": 24,
   "metadata": {
    "scrolled": false
   },
   "outputs": [
    {
     "data": {
      "image/png": "[encoded data removed]",
      "text/plain": [
       "Plot with title \"Histogram of mbltxt[mbltxt$Keyboard == \"iPhone\" & mbltxt$Posture == \"Sit\", ]$Error_Rate\""
      ]
     },
     "metadata": {},
     "output_type": "display_data"
    },
    {
     "data": {
      "image/png": "[encoded data removed]",
      "text/plain": [
       "Plot with title \"Histogram of mbltxt[mbltxt$Keyboard == \"iPhone\" & mbltxt$Posture == \"Stand\", ]$Error_Rate\""
      ]
     },
     "metadata": {},
     "output_type": "display_data"
    },
    {
     "data": {
      "image/png": "[encoded data removed]",
      "text/plain": [
       "Plot with title \"Histogram of mbltxt[mbltxt$Keyboard == \"iPhone\" & mbltxt$Posture == \"Walk\", ]$Error_Rate\""
      ]
     },
     "metadata": {},
     "output_type": "display_data"
    },
    {
     "data": {
      "image/png": "[encoded data removed]",
      "text/plain": [
       "Plot with title \"Histogram of mbltxt[mbltxt$Keyboard == \"Galaxy\" & mbltxt$Posture == \"Sit\", ]$Error_Rate\""
      ]
     },
     "metadata": {},
     "output_type": "display_data"
    },
    {
     "data": {
      "image/png": "[encoded data removed]",
      "text/plain": [
       "Plot with title \"Histogram of mbltxt[mbltxt$Keyboard == \"Galaxy\" & mbltxt$Posture == \"Stand\", ]$Error_Rate\""
      ]
     },
     "metadata": {},
     "output_type": "display_data"
    },
    {
     "data": {
      "image/png": "[encoded data removed]",
      "text/plain": [
       "Plot with title \"Histogram of mbltxt[mbltxt$Keyboard == \"Galaxy\" & mbltxt$Posture == \"Walk\", ]$Error_Rate\""
      ]
     },
     "metadata": {},
     "output_type": "display_data"
    }
   ],
   "source": [
    "# histograms, boxplots, and interaction plot\n",
    "hist(mbltxt[mbltxt$Keyboard == \"iPhone\" & mbltxt$Posture == \"Sit\",]$Error_Rate)\n",
    "hist(mbltxt[mbltxt$Keyboard == \"iPhone\" & mbltxt$Posture == \"Stand\",]$Error_Rate)\n",
    "hist(mbltxt[mbltxt$Keyboard == \"iPhone\" & mbltxt$Posture == \"Walk\",]$Error_Rate)\n",
    "hist(mbltxt[mbltxt$Keyboard == \"Galaxy\" & mbltxt$Posture == \"Sit\",]$Error_Rate)\n",
    "hist(mbltxt[mbltxt$Keyboard == \"Galaxy\" & mbltxt$Posture == \"Stand\",]$Error_Rate)\n",
    "hist(mbltxt[mbltxt$Keyboard == \"Galaxy\" & mbltxt$Posture == \"Walk\",]$Error_Rate)"
   ]
  },
  {
   "cell_type": "code",
   "execution_count": 25,
   "metadata": {},
   "outputs": [
    {
     "data": {
      "image/png": "[encoded data removed]",
      "text/plain": [
       "plot without title"
      ]
     },
     "metadata": {},
     "output_type": "display_data"
    }
   ],
   "source": [
    "boxplot(Error_Rate ~ Keyboard * Posture, data=mbltxt, xlab=\"Keyboard.Posture\", ylab=\"Error_Rate\") # boxplots"
   ]
  },
  {
   "cell_type": "code",
   "execution_count": 26,
   "metadata": {},
   "outputs": [
    {
     "data": {
      "image/png": "[encoded data removed]",
      "text/plain": [
       "plot without title"
      ]
     },
     "metadata": {},
     "output_type": "display_data"
    }
   ],
   "source": [
    "with(mbltxt, interaction.plot(Posture, Keyboard, Error_Rate, ylim=c(0, max(mbltxt$Error_Rate)))) # interaction?"
   ]
  },
  {
   "cell_type": "markdown",
   "metadata": {},
   "source": [
    "Even though this isn't ANOVA. It is a non-parametric result because the ART procedure used the aligned rank transform on all of the data to build that model. So that's what allows us to see interactions in an F test but it's really a non-parametric result. "
   ]
  },
  {
   "cell_type": "code",
   "execution_count": 27,
   "metadata": {},
   "outputs": [
    {
     "name": "stderr",
     "output_type": "stream",
     "text": [
      "Warning message:\n",
      "\"package 'ARTool' was built under R version 3.4.4\""
     ]
    },
    {
     "data": {
      "text/plain": [
       "Aligned Rank Transform of Factorial Model\n",
       "\n",
       "Call:\n",
       "art(formula = Error_Rate ~ Keyboard * Posture + (1 | Subject), \n",
       "    data = mbltxt)\n",
       "\n",
       "Column sums of aligned responses (should all be ~0):\n",
       "        Keyboard          Posture Keyboard:Posture \n",
       "               0                0                0 \n",
       "\n",
       "F values of ANOVAs on aligned responses not of interest (should all be ~0):\n",
       "   Min. 1st Qu.  Median    Mean 3rd Qu.    Max. \n",
       "      0       0       0       0       0       0 "
      ]
     },
     "metadata": {},
     "output_type": "display_data"
    }
   ],
   "source": [
    "# Aligned Rank Transform on Error Rate\n",
    "library(\"ARTool\")\n",
    "\n",
    "m <- art(Error_Rate ~ Keyboard * Posture + (1|Subject), data=mbltxt) # uses LMM\n",
    "summary(m)"
   ]
  },
  {
   "cell_type": "code",
   "execution_count": 28,
   "metadata": {},
   "outputs": [
    {
     "data": {
      "text/html": [
       "<table>\n",
       "<thead><tr><th></th><th scope=col>Term</th><th scope=col>F</th><th scope=col>Df</th><th scope=col>Df.res</th><th scope=col>Pr(&gt;F)</th></tr></thead>\n",
       "<tbody>\n",
       "\t<tr><th scope=row>Keyboard</th><td>Keyboard        </td><td> 89.44950       </td><td>1               </td><td>22              </td><td>3.295978e-09    </td></tr>\n",
       "\t<tr><th scope=row>Posture</th><td>Posture         </td><td>274.70413       </td><td>2               </td><td>44              </td><td>1.387330e-25    </td></tr>\n",
       "\t<tr><th scope=row>Keyboard:Posture</th><td>Keyboard:Posture</td><td> 78.54452       </td><td>2               </td><td>44              </td><td>3.029802e-15    </td></tr>\n",
       "</tbody>\n",
       "</table>\n"
      ],
      "text/latex": [
       "\\begin{tabular}{r|lllll}\n",
       "  & Term & F & Df & Df.res & Pr(>F)\\\\\n",
       "\\hline\n",
       "\tKeyboard & Keyboard         &  89.44950        & 1                & 22               & 3.295978e-09    \\\\\n",
       "\tPosture & Posture          & 274.70413        & 2                & 44               & 1.387330e-25    \\\\\n",
       "\tKeyboard:Posture & Keyboard:Posture &  78.54452        & 2                & 44               & 3.029802e-15    \\\\\n",
       "\\end{tabular}\n"
      ],
      "text/markdown": [
       "\n",
       "| <!--/--> | Term | F | Df | Df.res | Pr(>F) | \n",
       "|---|---|---|\n",
       "| Keyboard | Keyboard         |  89.44950        | 1                | 22               | 3.295978e-09     | \n",
       "| Posture | Posture          | 274.70413        | 2                | 44               | 1.387330e-25     | \n",
       "| Keyboard:Posture | Keyboard:Posture |  78.54452        | 2                | 44               | 3.029802e-15     | \n",
       "\n",
       "\n"
      ],
      "text/plain": [
       "                 Term             F         Df Df.res Pr(>F)      \n",
       "Keyboard         Keyboard          89.44950 1  22     3.295978e-09\n",
       "Posture          Posture          274.70413 2  44     1.387330e-25\n",
       "Keyboard:Posture Keyboard:Posture  78.54452 2  44     3.029802e-15"
      ]
     },
     "metadata": {},
     "output_type": "display_data"
    }
   ],
   "source": [
    "anova(m) # report anova"
   ]
  },
  {
   "cell_type": "markdown",
   "metadata": {},
   "source": [
    "We see that all 3 results are statistically significant. What that means is, for all 3 main effects in the interaction, we have statistically significant results. It seems there's a main effect on keybaord, main effect on posture, and we can tell from just looking at the graph for a significant interaction. We can test for normality, just for fun. "
   ]
  },
  {
   "cell_type": "markdown",
   "metadata": {},
   "source": [
    "Remember that one of the ANOVA assumptions is normality and specifically, the normality of the residuals which are the difference and the observations from the model predictions. We'll use Shapiro-Wilk test. And even though it is a non-parametric test, we're utlimately still doing an ANOVA and so it would be nice to see that the residuals comply with normality. "
   ]
  },
  {
   "cell_type": "code",
   "execution_count": 29,
   "metadata": {},
   "outputs": [
    {
     "data": {
      "text/plain": [
       "\n",
       "\tShapiro-Wilk normality test\n",
       "\n",
       "data:  residuals(m)\n",
       "W = 0.98453, p-value = 0.5227\n"
      ]
     },
     "metadata": {},
     "output_type": "display_data"
    }
   ],
   "source": [
    "shapiro.test(residuals(m)) # normality?"
   ]
  },
  {
   "cell_type": "markdown",
   "metadata": {},
   "source": [
    "The test is non-significant so we fail to reject the null hypothesis...telling us that we don't have a significant departure from normality. That's nice to see!"
   ]
  },
  {
   "cell_type": "code",
   "execution_count": 30,
   "metadata": {},
   "outputs": [
    {
     "data": {
      "image/png": "[encoded data removed]",
      "text/plain": [
       "Plot with title \"Normal Q-Q Plot\""
      ]
     },
     "metadata": {},
     "output_type": "display_data"
    }
   ],
   "source": [
    "qqnorm(residuals(m)) ; qqline(residuals(m)) # seems to conform"
   ]
  },
  {
   "cell_type": "markdown",
   "metadata": {},
   "source": [
    "So it seems that we're conforming to the assumptions of ANOVA, which can make us proceed with confidence. So given the overall significant interaction effects and main effects here, we can look a little bit further into pairwise comparisons. Where do the differences lie? One thing we might notice is in the sitting situation and the standing situation, things between the keyboards don't seem to be all that different. But in the walking situation, we see that they are quite different. So that's going to be interesting for us to see. "
   ]
  },
  {
   "cell_type": "code",
   "execution_count": 31,
   "metadata": {},
   "outputs": [
    {
     "data": {
      "image/png": "[encoded data removed]",
      "text/plain": [
       "plot without title"
      ]
     },
     "metadata": {},
     "output_type": "display_data"
    }
   ],
   "source": [
    "# conduct a post hoc pairwise comparisons within each factor\n",
    "with(mbltxt, interaction.plot(Posture, Keyboard, Error_Rate, ylim=c(0, max(mbltxt$Error_Rate)))) "
   ]
  },
  {
   "cell_type": "markdown",
   "metadata": {},
   "source": [
    "So we have our interaction plot there for us. And we can conduct pairwise tests among levels, first for keyboard. "
   ]
  },
  {
   "cell_type": "code",
   "execution_count": 32,
   "metadata": {},
   "outputs": [
    {
     "name": "stderr",
     "output_type": "stream",
     "text": [
      "Warning message:\n",
      "\"package 'lsmeans' was built under R version 3.4.4\"Loading required package: emmeans\n",
      "Warning message:\n",
      "\"package 'emmeans' was built under R version 3.4.4\"The 'lsmeans' package is now basically a front end for 'emmeans'.\n",
      "Users are encouraged to switch the rest of the way.\n",
      "See help('transition') for more information, including how to\n",
      "convert old 'lsmeans' objects and scripts to work with 'emmeans'.\n",
      "NOTE: Results may be misleading due to involvement in interactions\n"
     ]
    },
    {
     "data": {
      "text/plain": [
       "$lsmeans\n",
       " Keyboard   lsmean       SE df lower.CL upper.CL\n",
       " Galaxy   52.27778 2.359239 22 47.38502 57.17054\n",
       " iPhone   20.72222 2.359239 22 15.82946 25.61498\n",
       "\n",
       "Results are averaged over the levels of: Posture \n",
       "Degrees-of-freedom method: kenward-roger \n",
       "Confidence level used: 0.95 \n",
       "\n",
       "$contrasts\n",
       " contrast        estimate       SE df t.ratio p.value\n",
       " Galaxy - iPhone 31.55556 3.336467 22   9.458  <.0001\n",
       "\n",
       "Results are averaged over the levels of: Posture \n"
      ]
     },
     "metadata": {},
     "output_type": "display_data"
    }
   ],
   "source": [
    "library(\"lsmeans\")\n",
    "\n",
    "lsmeans(artlm(m, \"Keyboard\"), pairwise ~ Keyboard)"
   ]
  },
  {
   "cell_type": "markdown",
   "metadata": {},
   "source": [
    "We can see the results here are in contracts where we see the galaxy and the iphone comparison. So it's a comparison there. We can see that its' a t-test between those. \n",
    "\n",
    "We can also check the pairwise. So we should say with the keyboard, this is equivalent to the main effect because there are only 2 levels of keyboard. So we just included that kind for completeness. If we want to do the pairwise comparisons among the levels of posture, we can do that. "
   ]
  },
  {
   "cell_type": "code",
   "execution_count": 33,
   "metadata": {},
   "outputs": [
    {
     "name": "stderr",
     "output_type": "stream",
     "text": [
      "NOTE: Results may be misleading due to involvement in interactions\n"
     ]
    },
    {
     "data": {
      "text/plain": [
       "$lsmeans\n",
       " Posture lsmean       SE    df lower.CL upper.CL\n",
       " Sit       12.5 1.466482 65.92  9.57201 15.42799\n",
       " Stand     36.5 1.466482 65.92 33.57201 39.42799\n",
       " Walk      60.5 1.466482 65.92 57.57201 63.42799\n",
       "\n",
       "Results are averaged over the levels of: Keyboard \n",
       "Degrees-of-freedom method: kenward-roger \n",
       "Confidence level used: 0.95 \n",
       "\n",
       "$contrasts\n",
       " contrast     estimate       SE df t.ratio p.value\n",
       " Sit - Stand       -24 2.047829 44 -11.720  <.0001\n",
       " Sit - Walk        -48 2.047829 44 -23.439  <.0001\n",
       " Stand - Walk      -24 2.047829 44 -11.720  <.0001\n",
       "\n",
       "Results are averaged over the levels of: Keyboard \n",
       "P value adjustment: tukey method for comparing a family of 3 estimates \n"
      ]
     },
     "metadata": {},
     "output_type": "display_data"
    }
   ],
   "source": [
    "lsmeans(artlm(m, \"Posture\"), pairwise ~ Posture)"
   ]
  },
  {
   "cell_type": "markdown",
   "metadata": {},
   "source": [
    "And in the contrast table, we see sitting vs. standing, sitting vs. walking, and standing vs. walking. And they're all significant. So imagine a line drawn between these lines for that posture effect. So it would be kind of moving from sitting to standing and then going up between them in the middle for walking. Since they're not horizontal, there's clearly effects here of posture overall. \n",
    "\n",
    "HOWEVER - that approach to contrast testing that we've done can't be used for interactions. The good news is that there's another way to do contrast that results in something called interaction contrasts.  And it's looking at the difference of differences. "
   ]
  },
  {
   "cell_type": "code",
   "execution_count": 36,
   "metadata": {},
   "outputs": [
    {
     "data": {
      "image/png": "[encoded data removed]",
      "text/plain": [
       "plot without title"
      ]
     },
     "metadata": {},
     "output_type": "display_data"
    }
   ],
   "source": [
    "# conduct a post hoc pairwise comparisons within each factor\n",
    "with(mbltxt, interaction.plot(Posture, Keyboard, Error_Rate, ylim=c(0, max(mbltxt$Error_Rate)))) "
   ]
  },
  {
   "cell_type": "code",
   "execution_count": 34,
   "metadata": {},
   "outputs": [
    {
     "name": "stderr",
     "output_type": "stream",
     "text": [
      "Warning message:\n",
      "\"package 'phia' was built under R version 3.4.4\"Loading required package: car\n"
     ]
    },
    {
     "data": {
      "text/html": [
       "<table>\n",
       "<thead><tr><th></th><th scope=col>Value</th><th scope=col>Df</th><th scope=col>Chisq</th><th scope=col>Pr(&gt;Chisq)</th></tr></thead>\n",
       "<tbody>\n",
       "\t<tr><th scope=row>Galaxy-iPhone :  Sit-Stand</th><td> -5.083333  </td><td>1           </td><td>  0.5583733 </td><td>4.549164e-01</td></tr>\n",
       "\t<tr><th scope=row>Galaxy-iPhone :   Sit-Walk</th><td>-76.250000  </td><td>1           </td><td>125.6340036 </td><td>1.109277e-28</td></tr>\n",
       "\t<tr><th scope=row>Galaxy-iPhone : Stand-Walk</th><td>-71.166667  </td><td>1           </td><td>109.4411765 </td><td>2.598057e-25</td></tr>\n",
       "</tbody>\n",
       "</table>\n"
      ],
      "text/latex": [
       "\\begin{tabular}{r|llll}\n",
       "  & Value & Df & Chisq & Pr(>Chisq)\\\\\n",
       "\\hline\n",
       "\tGalaxy-iPhone :  Sit-Stand &  -5.083333   & 1            &   0.5583733  & 4.549164e-01\\\\\n",
       "\tGalaxy-iPhone :   Sit-Walk & -76.250000   & 1            & 125.6340036  & 1.109277e-28\\\\\n",
       "\tGalaxy-iPhone : Stand-Walk & -71.166667   & 1            & 109.4411765  & 2.598057e-25\\\\\n",
       "\\end{tabular}\n"
      ],
      "text/markdown": [
       "\n",
       "| <!--/--> | Value | Df | Chisq | Pr(>Chisq) | \n",
       "|---|---|---|\n",
       "| Galaxy-iPhone :  Sit-Stand |  -5.083333   | 1            |   0.5583733  | 4.549164e-01 | \n",
       "| Galaxy-iPhone :   Sit-Walk | -76.250000   | 1            | 125.6340036  | 1.109277e-28 | \n",
       "| Galaxy-iPhone : Stand-Walk | -71.166667   | 1            | 109.4411765  | 2.598057e-25 | \n",
       "\n",
       "\n"
      ],
      "text/plain": [
       "                           Value      Df Chisq       Pr(>Chisq)  \n",
       "Galaxy-iPhone :  Sit-Stand  -5.083333 1    0.5583733 4.549164e-01\n",
       "Galaxy-iPhone :   Sit-Walk -76.250000 1  125.6340036 1.109277e-28\n",
       "Galaxy-iPhone : Stand-Walk -71.166667 1  109.4411765 2.598057e-25"
      ]
     },
     "metadata": {},
     "output_type": "display_data"
    }
   ],
   "source": [
    "#lsmeans(artlm(m, \"Keyboard : Posture\"), pairwise ~ Keyboard : Posture) # don't do this in ART!\n",
    "\n",
    "# the above contrast-testing method is invalid for cross-factor pairwise comparisons in ART.\n",
    "# and you can't just grab aligned-ranks for manual t-tests. instead, use testInteractions \n",
    "# from the phia package to perform \"interaction contrasts.\" see vignette(\"art-contrasts\").\n",
    "\n",
    "library(\"phia\")\n",
    "testInteractions(artlm(m, \"Keyboard:Posture\"), pairwise=c(\"Keyboard\", \"Posture\"), adjustment=\"holm\")\n",
    "\n",
    "# in the output, A-B : C-D is interpreted as a difference-of-differences, i.e., the difference \n",
    "# between (A-B | C) and (A-B | D). in words, is the difference between A and B significantly \n",
    "# different in condition C from condition D?"
   ]
  },
  {
   "cell_type": "markdown",
   "metadata": {},
   "source": [
    "So what we see in this table is not just the usual comparison of levels. We see Galaxy-iPhone on the left and then a colon and then sit-stand, sit-walk and stand-walk on the right. Well, what does that mean? So let's look at our comment here. In the output, A-B colon C-D is interpreted as a difference of differences. In other words, the difference between A and B given C, and the difference of A and B given D. So in other words, is the difference between A and B significantly different in condition C from condition D? So that'd be kind of the general interpretation. \n",
    "\n",
    "So let's apply that here. So we're saying that, is the difference in Galaxy versus the iPhone given the sitting posture  significantly different from the Galaxy versus the iPhone in the standing situation? So there are difference here. And that is not statistically significant with a chi-squared test. And so, that's saying that the difference we see here, which is obviously very minimal between the keyboards, and the difference we see here which is only slightly bigger. Those differences are really not significantly different.\n",
    "\n",
    "But, when we compare the sitting situation of keyboards to walking, we can see this is significantly different as a difference from this difference. And the same when we compare the difference here in standing to the difference in walking. So that's how we have to interpret contrast tests in the aligned rank transform situation."
   ]
  },
  {
   "cell_type": "code",
   "execution_count": 35,
   "metadata": {},
   "outputs": [
    {
     "data": {
      "image/png": "[encoded data removed]",
      "text/plain": [
       "plot without title"
      ]
     },
     "metadata": {},
     "output_type": "display_data"
    }
   ],
   "source": [
    "# conduct a post hoc pairwise comparisons within each factor\n",
    "with(mbltxt, interaction.plot(Posture, Keyboard, Error_Rate, ylim=c(0, max(mbltxt$Error_Rate)))) "
   ]
  },
  {
   "cell_type": "markdown",
   "metadata": {},
   "source": [
    "# Quiz"
   ]
  },
  {
   "cell_type": "code",
   "execution_count": 49,
   "metadata": {},
   "outputs": [
    {
     "data": {
      "text/html": [
       "<table>\n",
       "<thead><tr><th scope=col>Subject</th><th scope=col>Sex</th><th scope=col>Avatar</th><th scope=col>Positives</th></tr></thead>\n",
       "<tbody>\n",
       "\t<tr><td>1     </td><td>Male  </td><td>Male  </td><td> 78   </td></tr>\n",
       "\t<tr><td>2     </td><td>Female</td><td>Male  </td><td>104   </td></tr>\n",
       "\t<tr><td>3     </td><td>Male  </td><td>Female</td><td> 89   </td></tr>\n",
       "\t<tr><td>4     </td><td>Female</td><td>Female</td><td> 71   </td></tr>\n",
       "\t<tr><td>5     </td><td>Male  </td><td>Male  </td><td> 61   </td></tr>\n",
       "\t<tr><td>6     </td><td>Female</td><td>Male  </td><td> 65   </td></tr>\n",
       "</tbody>\n",
       "</table>\n"
      ],
      "text/latex": [
       "\\begin{tabular}{r|llll}\n",
       " Subject & Sex & Avatar & Positives\\\\\n",
       "\\hline\n",
       "\t 1      & Male   & Male   &  78   \\\\\n",
       "\t 2      & Female & Male   & 104   \\\\\n",
       "\t 3      & Male   & Female &  89   \\\\\n",
       "\t 4      & Female & Female &  71   \\\\\n",
       "\t 5      & Male   & Male   &  61   \\\\\n",
       "\t 6      & Female & Male   &  65   \\\\\n",
       "\\end{tabular}\n"
      ],
      "text/markdown": [
       "\n",
       "Subject | Sex | Avatar | Positives | \n",
       "|---|---|---|---|---|---|\n",
       "| 1      | Male   | Male   |  78    | \n",
       "| 2      | Female | Male   | 104    | \n",
       "| 3      | Male   | Female |  89    | \n",
       "| 4      | Female | Female |  71    | \n",
       "| 5      | Male   | Male   |  61    | \n",
       "| 6      | Female | Male   |  65    | \n",
       "\n",
       "\n"
      ],
      "text/plain": [
       "  Subject Sex    Avatar Positives\n",
       "1 1       Male   Male    78      \n",
       "2 2       Female Male   104      \n",
       "3 3       Male   Female  89      \n",
       "4 4       Female Female  71      \n",
       "5 5       Male   Male    61      \n",
       "6 6       Female Male    65      "
      ]
     },
     "metadata": {},
     "output_type": "display_data"
    }
   ],
   "source": [
    "df <- read.csv(\"materials/avatars.csv\")\n",
    "head(df)"
   ]
  },
  {
   "cell_type": "code",
   "execution_count": 50,
   "metadata": {},
   "outputs": [
    {
     "data": {
      "text/plain": [
       "    Subject       Sex        Avatar     Positives    \n",
       " 1      : 1   Female:30   Female:30   Min.   : 32.0  \n",
       " 2      : 1   Male  :30   Male  :30   1st Qu.: 65.0  \n",
       " 3      : 1                           Median : 84.0  \n",
       " 4      : 1                           Mean   : 85.1  \n",
       " 5      : 1                           3rd Qu.:104.2  \n",
       " 6      : 1                           Max.   :149.0  \n",
       " (Other):54                                          "
      ]
     },
     "metadata": {},
     "output_type": "display_data"
    }
   ],
   "source": [
    "df$Subject <- as.factor(df$Subject)\n",
    "summary(df)"
   ]
  },
  {
   "cell_type": "markdown",
   "metadata": {},
   "source": [
    "This file describes a study in which men and women were shown a virtual human avatar that was itself either male or female, and asked to craft a persona and write a day-in-the-life scenario for that avatar. The number of positive sentiments in either description were summed by a blind panel of judges. Examine the data and indicate what kind of experiment design this was.\n",
    "\n",
    "* A 2×2 between-subjects design with factors for Sex (M, F) and Avatar (M, F)."
   ]
  },
  {
   "cell_type": "markdown",
   "metadata": {},
   "source": [
    "How many subjects took part in this experiment?"
   ]
  },
  {
   "cell_type": "code",
   "execution_count": 41,
   "metadata": {},
   "outputs": [
    {
     "data": {
      "text/html": [
       "<table>\n",
       "<thead><tr><th scope=col>NumSubjects</th></tr></thead>\n",
       "<tbody>\n",
       "\t<tr><td>60</td></tr>\n",
       "</tbody>\n",
       "</table>\n"
      ],
      "text/latex": [
       "\\begin{tabular}{r|l}\n",
       " NumSubjects\\\\\n",
       "\\hline\n",
       "\t 60\\\\\n",
       "\\end{tabular}\n"
      ],
      "text/markdown": [
       "\n",
       "NumSubjects | \n",
       "|---|\n",
       "| 60 | \n",
       "\n",
       "\n"
      ],
      "text/plain": [
       "  NumSubjects\n",
       "1 60         "
      ]
     },
     "metadata": {},
     "output_type": "display_data"
    }
   ],
   "source": [
    "library(\"dplyr\")\n",
    "\n",
    "df %>%\n",
    "    summarise(NumSubjects = n())"
   ]
  },
  {
   "cell_type": "code",
   "execution_count": 42,
   "metadata": {},
   "outputs": [
    {
     "data": {
      "text/html": [
       "<table>\n",
       "<thead><tr><th scope=col>Sex</th><th scope=col>NumSubjects</th></tr></thead>\n",
       "<tbody>\n",
       "\t<tr><td>Female</td><td>30    </td></tr>\n",
       "\t<tr><td>Male  </td><td>30    </td></tr>\n",
       "</tbody>\n",
       "</table>\n"
      ],
      "text/latex": [
       "\\begin{tabular}{r|ll}\n",
       " Sex & NumSubjects\\\\\n",
       "\\hline\n",
       "\t Female & 30    \\\\\n",
       "\t Male   & 30    \\\\\n",
       "\\end{tabular}\n"
      ],
      "text/markdown": [
       "\n",
       "Sex | NumSubjects | \n",
       "|---|---|\n",
       "| Female | 30     | \n",
       "| Male   | 30     | \n",
       "\n",
       "\n"
      ],
      "text/plain": [
       "  Sex    NumSubjects\n",
       "1 Female 30         \n",
       "2 Male   30         "
      ]
     },
     "metadata": {},
     "output_type": "display_data"
    }
   ],
   "source": [
    "df %>%\n",
    "    group_by(Sex) %>%\n",
    "    summarise(NumSubjects = n())"
   ]
  },
  {
   "cell_type": "markdown",
   "metadata": {},
   "source": [
    "To the nearest hundredth (two digits), on average how many positive sentiments were expressed for the most positive combination of Sex and Avatar?"
   ]
  },
  {
   "cell_type": "code",
   "execution_count": 43,
   "metadata": {},
   "outputs": [
    {
     "data": {
      "text/html": [
       "<table>\n",
       "<thead><tr><th scope=col>Sex</th><th scope=col>Avatar</th><th scope=col>meanPositives</th></tr></thead>\n",
       "<tbody>\n",
       "\t<tr><td>Female   </td><td>Female   </td><td> 63.13333</td></tr>\n",
       "\t<tr><td>Female   </td><td>Male     </td><td> 85.20000</td></tr>\n",
       "\t<tr><td>Male     </td><td>Female   </td><td>100.73333</td></tr>\n",
       "\t<tr><td>Male     </td><td>Male     </td><td> 91.33333</td></tr>\n",
       "</tbody>\n",
       "</table>\n"
      ],
      "text/latex": [
       "\\begin{tabular}{r|lll}\n",
       " Sex & Avatar & meanPositives\\\\\n",
       "\\hline\n",
       "\t Female    & Female    &  63.13333\\\\\n",
       "\t Female    & Male      &  85.20000\\\\\n",
       "\t Male      & Female    & 100.73333\\\\\n",
       "\t Male      & Male      &  91.33333\\\\\n",
       "\\end{tabular}\n"
      ],
      "text/markdown": [
       "\n",
       "Sex | Avatar | meanPositives | \n",
       "|---|---|---|---|\n",
       "| Female    | Female    |  63.13333 | \n",
       "| Female    | Male      |  85.20000 | \n",
       "| Male      | Female    | 100.73333 | \n",
       "| Male      | Male      |  91.33333 | \n",
       "\n",
       "\n"
      ],
      "text/plain": [
       "  Sex    Avatar meanPositives\n",
       "1 Female Female  63.13333    \n",
       "2 Female Male    85.20000    \n",
       "3 Male   Female 100.73333    \n",
       "4 Male   Male    91.33333    "
      ]
     },
     "metadata": {},
     "output_type": "display_data"
    }
   ],
   "source": [
    "df %>%\n",
    "    group_by(Sex, Avatar) %>%\n",
    "    summarise(meanPositives = mean(Positives))"
   ]
  },
  {
   "cell_type": "markdown",
   "metadata": {},
   "source": [
    "Create an interaction plot with Sex on the X-axis and Avatar as the traces. Do the lines cross?"
   ]
  },
  {
   "cell_type": "code",
   "execution_count": 45,
   "metadata": {},
   "outputs": [
    {
     "data": {
      "image/png": "[encoded data removed]",
      "text/plain": [
       "plot without title"
      ]
     },
     "metadata": {},
     "output_type": "display_data"
    }
   ],
   "source": [
    "with(df, interaction.plot(Sex, Avatar, Positives, ylim=c(0, max(df$Positives))))"
   ]
  },
  {
   "cell_type": "markdown",
   "metadata": {},
   "source": [
    "Create an interaction plot with Avatar on the X-axis and Sex as the traces. Do the lines cross?"
   ]
  },
  {
   "cell_type": "code",
   "execution_count": 46,
   "metadata": {},
   "outputs": [
    {
     "data": {
      "image/png": "[encoded data removed]",
      "text/plain": [
       "plot without title"
      ]
     },
     "metadata": {},
     "output_type": "display_data"
    }
   ],
   "source": [
    "with(df, interaction.plot(Avatar, Sex, Positives, ylim=c(0, max(df$Positives))))"
   ]
  },
  {
   "cell_type": "markdown",
   "metadata": {},
   "source": [
    "Conduct a factorial ANOVA on Positives by Sex and Avatar. To the nearest hundredth (two digits), what is the largest F statistic from such a test? Hint: Use the ez library and its ezANOVA function. Pass both Sex and Avatar as the between parameter using a vector created with the \"c\" function. If you aren't sure how to use the \"c\" function, look it up, as with any function, using the question-mark operator, like so:"
   ]
  },
  {
   "cell_type": "code",
   "execution_count": 53,
   "metadata": {},
   "outputs": [
    {
     "data": {
      "text/html": [
       "<dl>\n",
       "\t<dt>$ANOVA</dt>\n",
       "\t\t<dd><table>\n",
       "<thead><tr><th scope=col>Effect</th><th scope=col>DFn</th><th scope=col>DFd</th><th scope=col>F</th><th scope=col>p</th><th scope=col>p&lt;.05</th><th scope=col>ges</th></tr></thead>\n",
       "<tbody>\n",
       "\t<tr><td>Sex         </td><td>1           </td><td>56          </td><td>17.041756   </td><td>0.0001228287</td><td>*           </td><td>0.23331526  </td></tr>\n",
       "\t<tr><td>Avatar      </td><td>1           </td><td>56          </td><td> 1.429598   </td><td>0.2368686270</td><td>            </td><td>0.02489305  </td></tr>\n",
       "\t<tr><td>Sex:Avatar  </td><td>1           </td><td>56          </td><td> 8.822480   </td><td>0.0043757511</td><td>*           </td><td>0.13610216  </td></tr>\n",
       "</tbody>\n",
       "</table>\n",
       "</dd>\n",
       "\t<dt>$`Levene's Test for Homogeneity of Variance`</dt>\n",
       "\t\t<dd><table>\n",
       "<thead><tr><th scope=col>DFn</th><th scope=col>DFd</th><th scope=col>SSn</th><th scope=col>SSd</th><th scope=col>F</th><th scope=col>p</th><th scope=col>p&lt;.05</th></tr></thead>\n",
       "<tbody>\n",
       "\t<tr><td>3        </td><td>56       </td><td>408.7333 </td><td>10757.2  </td><td>0.7092635</td><td>0.5505357</td><td>         </td></tr>\n",
       "</tbody>\n",
       "</table>\n",
       "</dd>\n",
       "</dl>\n"
      ],
      "text/latex": [
       "\\begin{description}\n",
       "\\item[\\$ANOVA] \\begin{tabular}{r|lllllll}\n",
       " Effect & DFn & DFd & F & p & p<.05 & ges\\\\\n",
       "\\hline\n",
       "\t Sex          & 1            & 56           & 17.041756    & 0.0001228287 & *            & 0.23331526  \\\\\n",
       "\t Avatar       & 1            & 56           &  1.429598    & 0.2368686270 &              & 0.02489305  \\\\\n",
       "\t Sex:Avatar   & 1            & 56           &  8.822480    & 0.0043757511 & *            & 0.13610216  \\\\\n",
       "\\end{tabular}\n",
       "\n",
       "\\item[\\$`Levene's Test for Homogeneity of Variance`] \\begin{tabular}{r|lllllll}\n",
       " DFn & DFd & SSn & SSd & F & p & p<.05\\\\\n",
       "\\hline\n",
       "\t 3         & 56        & 408.7333  & 10757.2   & 0.7092635 & 0.5505357 &          \\\\\n",
       "\\end{tabular}\n",
       "\n",
       "\\end{description}\n"
      ],
      "text/markdown": [
       "$ANOVA\n",
       ":   \n",
       "Effect | DFn | DFd | F | p | p<.05 | ges | \n",
       "|---|---|---|\n",
       "| Sex          | 1            | 56           | 17.041756    | 0.0001228287 | *            | 0.23331526   | \n",
       "| Avatar       | 1            | 56           |  1.429598    | 0.2368686270 |              | 0.02489305   | \n",
       "| Sex:Avatar   | 1            | 56           |  8.822480    | 0.0043757511 | *            | 0.13610216   | \n",
       "\n",
       "\n",
       "\n",
       "$`Levene's Test for Homogeneity of Variance`\n",
       ":   \n",
       "DFn | DFd | SSn | SSd | F | p | p<.05 | \n",
       "|---|\n",
       "| 3         | 56        | 408.7333  | 10757.2   | 0.7092635 | 0.5505357 |           | \n",
       "\n",
       "\n",
       "\n",
       "\n",
       "\n"
      ],
      "text/plain": [
       "$ANOVA\n",
       "      Effect DFn DFd         F            p p<.05        ges\n",
       "1        Sex   1  56 17.041756 0.0001228287     * 0.23331526\n",
       "2     Avatar   1  56  1.429598 0.2368686270       0.02489305\n",
       "3 Sex:Avatar   1  56  8.822480 0.0043757511     * 0.13610216\n",
       "\n",
       "$`Levene's Test for Homogeneity of Variance`\n",
       "  DFn DFd      SSn     SSd         F         p p<.05\n",
       "1   3  56 408.7333 10757.2 0.7092635 0.5505357      \n"
      ]
     },
     "metadata": {},
     "output_type": "display_data"
    }
   ],
   "source": [
    "library(\"ez\")\n",
    "\n",
    "m <- ezANOVA(dv=Positives, between=c(Sex, Avatar), data=df, wid=Subject)\n",
    "m"
   ]
  },
  {
   "cell_type": "markdown",
   "metadata": {},
   "source": [
    "Which effects are statistically significant in the factorial ANOVA of Positives by Sex and Avatar? "
   ]
  },
  {
   "cell_type": "markdown",
   "metadata": {},
   "source": [
    "* Main effect of Sex\n",
    "* Sex * Avatar interaction"
   ]
  },
  {
   "cell_type": "markdown",
   "metadata": {},
   "source": [
    "Conduct two planned pairwise comparisons using independent-samples t-tests. The first question is whether women produced different numbers of positive sentiments for male avatars versus female avatars. The second question is whether men produced different numbers of positive sentiments for male avatars versus female avatars. Assuming equal variances, and using Holm's sequential Bonferroni procedure to correct for multiple comparisons, what to within a ten-thousandth (four digits) is the lowest corrected p-value from these tests?\n",
    "\n",
    "Hint: You will need conjunctions with ampersands (&) to select the necessary rows for your t.test functions. By now, you have seen responses (Y) obtained by selecting rows with a single factor (X) matching a given level value:"
   ]
  },
  {
   "cell_type": "code",
   "execution_count": 54,
   "metadata": {},
   "outputs": [
    {
     "data": {
      "text/html": [
       "<table>\n",
       "<thead><tr><th scope=col>Subject</th><th scope=col>Sex</th><th scope=col>Avatar</th><th scope=col>Positives</th></tr></thead>\n",
       "<tbody>\n",
       "\t<tr><td>1     </td><td>Male  </td><td>Male  </td><td> 78   </td></tr>\n",
       "\t<tr><td>2     </td><td>Female</td><td>Male  </td><td>104   </td></tr>\n",
       "\t<tr><td>3     </td><td>Male  </td><td>Female</td><td> 89   </td></tr>\n",
       "\t<tr><td>4     </td><td>Female</td><td>Female</td><td> 71   </td></tr>\n",
       "\t<tr><td>5     </td><td>Male  </td><td>Male  </td><td> 61   </td></tr>\n",
       "\t<tr><td>6     </td><td>Female</td><td>Male  </td><td> 65   </td></tr>\n",
       "</tbody>\n",
       "</table>\n"
      ],
      "text/latex": [
       "\\begin{tabular}{r|llll}\n",
       " Subject & Sex & Avatar & Positives\\\\\n",
       "\\hline\n",
       "\t 1      & Male   & Male   &  78   \\\\\n",
       "\t 2      & Female & Male   & 104   \\\\\n",
       "\t 3      & Male   & Female &  89   \\\\\n",
       "\t 4      & Female & Female &  71   \\\\\n",
       "\t 5      & Male   & Male   &  61   \\\\\n",
       "\t 6      & Female & Male   &  65   \\\\\n",
       "\\end{tabular}\n"
      ],
      "text/markdown": [
       "\n",
       "Subject | Sex | Avatar | Positives | \n",
       "|---|---|---|---|---|---|\n",
       "| 1      | Male   | Male   |  78    | \n",
       "| 2      | Female | Male   | 104    | \n",
       "| 3      | Male   | Female |  89    | \n",
       "| 4      | Female | Female |  71    | \n",
       "| 5      | Male   | Male   |  61    | \n",
       "| 6      | Female | Male   |  65    | \n",
       "\n",
       "\n"
      ],
      "text/plain": [
       "  Subject Sex    Avatar Positives\n",
       "1 1       Male   Male    78      \n",
       "2 2       Female Male   104      \n",
       "3 3       Male   Female  89      \n",
       "4 4       Female Female  71      \n",
       "5 5       Male   Male    61      \n",
       "6 6       Female Male    65      "
      ]
     },
     "metadata": {},
     "output_type": "display_data"
    }
   ],
   "source": [
    "head(df)"
   ]
  },
  {
   "cell_type": "code",
   "execution_count": 56,
   "metadata": {
    "collapsed": true
   },
   "outputs": [],
   "source": [
    "women <- df[df$Sex == \"Female\", ]\n",
    "men <- df[df$Sex == \"Male\", ]"
   ]
  },
  {
   "cell_type": "code",
   "execution_count": 64,
   "metadata": {},
   "outputs": [
    {
     "data": {
      "text/html": [
       "<ol class=list-inline>\n",
       "\t<li>0.0204860155210383</li>\n",
       "\t<li>0.190760389581542</li>\n",
       "</ol>\n"
      ],
      "text/latex": [
       "\\begin{enumerate*}\n",
       "\\item 0.0204860155210383\n",
       "\\item 0.190760389581542\n",
       "\\end{enumerate*}\n"
      ],
      "text/markdown": [
       "1. 0.0204860155210383\n",
       "2. 0.190760389581542\n",
       "\n",
       "\n"
      ],
      "text/plain": [
       "[1] 0.02048602 0.19076039"
      ]
     },
     "metadata": {},
     "output_type": "display_data"
    }
   ],
   "source": [
    "women_av <- t.test(women$Positives ~ Avatar, data=women)\n",
    "men_av <- t.test(men$Positives ~ Avatar, data=men)\n",
    "\n",
    "p.adjust(c(women_av$p.value, men_av$p.value), method=\"holm\")"
   ]
  },
  {
   "cell_type": "code",
   "execution_count": 66,
   "metadata": {},
   "outputs": [
    {
     "data": {
      "image/png": "[encoded data removed]",
      "text/plain": [
       "plot without title"
      ]
     },
     "metadata": {},
     "output_type": "display_data"
    }
   ],
   "source": [
    "boxplot(Positives ~ Sex * Avatar, data=df, xlab=\"Sex.Avatar\", ylab=\"Positive Sentiments\")"
   ]
  },
  {
   "cell_type": "markdown",
   "metadata": {},
   "source": [
    "Which of the following conclusions are supported by the examination of means and the planned pairwise comparisons just conducted? (Mark all that apply.)"
   ]
  },
  {
   "cell_type": "markdown",
   "metadata": {},
   "source": [
    "* Women made significantly more positive sentiments about male avatars than they did about female avatars."
   ]
  },
  {
   "cell_type": "markdown",
   "metadata": {},
   "source": [
    "Download the file notes.csv from the course materials. This file describes a study in which iPhone and Android smartphone owners used their phone's built-in note-taking app and then switched to an add-on third-party app, or vice-versa. The number of words they wrote in their notes apps over the course of a week was recorded. Examine the data and indicate what kind of experiment design this was."
   ]
  },
  {
   "cell_type": "code",
   "execution_count": 74,
   "metadata": {},
   "outputs": [
    {
     "ename": "ERROR",
     "evalue": "Error in parse(text = x, srcfile = src): <text>:2:9: unexpected symbol\n1: df <- read.csv(\"materials/notes.csv\")\n2: head(df)tail\n           ^\n",
     "output_type": "error",
     "traceback": [
      "Error in parse(text = x, srcfile = src): <text>:2:9: unexpected symbol\n1: df <- read.csv(\"materials/notes.csv\")\n2: head(df)tail\n           ^\nTraceback:\n"
     ]
    }
   ],
   "source": [
    "df <- read.csv(\"materials/notes.csv\")\n",
    "head(df)tail"
   ]
  },
  {
   "cell_type": "markdown",
   "metadata": {},
   "source": [
    "A 2 × 2 mixed factorial design with a between-subjects factor for Phone (iPhone, Android) and a within-subjects factor for Notes (Built-in, Add-on)."
   ]
  },
  {
   "cell_type": "code",
   "execution_count": 69,
   "metadata": {
    "collapsed": true
   },
   "outputs": [],
   "source": [
    "df$Subject <- as.factor(df$Subject)\n",
    "df$Order <- as.factor(df$Order)"
   ]
  },
  {
   "cell_type": "code",
   "execution_count": 70,
   "metadata": {},
   "outputs": [
    {
     "data": {
      "text/plain": [
       "    Subject       Phone         Notes    Order      Words      \n",
       " 1      : 2   Android:20   Add-on  :20   1:20   Min.   :259.0  \n",
       " 2      : 2   iPhone :20   Built-in:20   2:20   1st Qu.:421.8  \n",
       " 3      : 2                                     Median :457.0  \n",
       " 4      : 2                                     Mean   :459.2  \n",
       " 5      : 2                                     3rd Qu.:518.5  \n",
       " 6      : 2                                     Max.   :598.0  \n",
       " (Other):28                                                    "
      ]
     },
     "metadata": {},
     "output_type": "display_data"
    }
   ],
   "source": [
    "summary(df)"
   ]
  },
  {
   "cell_type": "markdown",
   "metadata": {},
   "source": [
    "How many subjects took part in this experiment?"
   ]
  },
  {
   "cell_type": "code",
   "execution_count": 75,
   "metadata": {},
   "outputs": [
    {
     "data": {
      "text/html": [
       "<ol class=list-inline>\n",
       "\t<li>18</li>\n",
       "\t<li>18</li>\n",
       "\t<li>19</li>\n",
       "\t<li>19</li>\n",
       "\t<li>20</li>\n",
       "\t<li>20</li>\n",
       "</ol>\n"
      ],
      "text/latex": [
       "\\begin{enumerate*}\n",
       "\\item 18\n",
       "\\item 18\n",
       "\\item 19\n",
       "\\item 19\n",
       "\\item 20\n",
       "\\item 20\n",
       "\\end{enumerate*}\n"
      ],
      "text/markdown": [
       "1. 18\n",
       "2. 18\n",
       "3. 19\n",
       "4. 19\n",
       "5. 20\n",
       "6. 20\n",
       "\n",
       "\n"
      ],
      "text/plain": [
       "[1] 18 18 19 19 20 20\n",
       "Levels: 1 2 3 4 5 6 7 8 9 10 11 12 13 14 15 16 17 18 19 20"
      ]
     },
     "metadata": {},
     "output_type": "display_data"
    }
   ],
   "source": [
    "tail(df$Subject)"
   ]
  },
  {
   "cell_type": "markdown",
   "metadata": {},
   "source": [
    "To the nearest whole number, on average how many words were recorded with the most heavily used combination of Phone and Notes?"
   ]
  },
  {
   "cell_type": "code",
   "execution_count": 76,
   "metadata": {},
   "outputs": [
    {
     "data": {
      "text/html": [
       "<table>\n",
       "<thead><tr><th scope=col>Phone</th><th scope=col>Notes</th><th scope=col>words.mean</th></tr></thead>\n",
       "<tbody>\n",
       "\t<tr><td>Android </td><td>Add-on  </td><td>388.1   </td></tr>\n",
       "\t<tr><td>Android </td><td>Built-in</td><td>410.9   </td></tr>\n",
       "\t<tr><td>iPhone  </td><td>Add-on  </td><td>504.2   </td></tr>\n",
       "\t<tr><td>iPhone  </td><td>Built-in</td><td>533.7   </td></tr>\n",
       "</tbody>\n",
       "</table>\n"
      ],
      "text/latex": [
       "\\begin{tabular}{r|lll}\n",
       " Phone & Notes & words.mean\\\\\n",
       "\\hline\n",
       "\t Android  & Add-on   & 388.1   \\\\\n",
       "\t Android  & Built-in & 410.9   \\\\\n",
       "\t iPhone   & Add-on   & 504.2   \\\\\n",
       "\t iPhone   & Built-in & 533.7   \\\\\n",
       "\\end{tabular}\n"
      ],
      "text/markdown": [
       "\n",
       "Phone | Notes | words.mean | \n",
       "|---|---|---|---|\n",
       "| Android  | Add-on   | 388.1    | \n",
       "| Android  | Built-in | 410.9    | \n",
       "| iPhone   | Add-on   | 504.2    | \n",
       "| iPhone   | Built-in | 533.7    | \n",
       "\n",
       "\n"
      ],
      "text/plain": [
       "  Phone   Notes    words.mean\n",
       "1 Android Add-on   388.1     \n",
       "2 Android Built-in 410.9     \n",
       "3 iPhone  Add-on   504.2     \n",
       "4 iPhone  Built-in 533.7     "
      ]
     },
     "metadata": {},
     "output_type": "display_data"
    }
   ],
   "source": [
    "df %>%\n",
    "    group_by(Phone, Notes) %>%\n",
    "    summarise(words.mean=mean(Words))"
   ]
  },
  {
   "cell_type": "markdown",
   "metadata": {},
   "source": [
    "Create an interaction plot with Phone on the X-axis and Notes as the traces. Do the lines cross?"
   ]
  },
  {
   "cell_type": "code",
   "execution_count": 78,
   "metadata": {},
   "outputs": [
    {
     "data": {
      "image/png": "[encoded data removed]",
      "text/plain": [
       "plot without title"
      ]
     },
     "metadata": {},
     "output_type": "display_data"
    }
   ],
   "source": [
    "with(df, interaction.plot(Phone, Notes, Words, ylim=c(0, max(df$Words))))"
   ]
  },
  {
   "cell_type": "markdown",
   "metadata": {},
   "source": [
    "Create an interaction plot with Notes on the X-axis and Phone as the traces. Do the lines cross?"
   ]
  },
  {
   "cell_type": "code",
   "execution_count": 79,
   "metadata": {},
   "outputs": [
    {
     "data": {
      "image/png": "[encoded data removed]",
      "text/plain": [
       "plot without title"
      ]
     },
     "metadata": {},
     "output_type": "display_data"
    }
   ],
   "source": [
    "with(df, interaction.plot(Notes, Phone, Words, ylim=c(0, max(df$Words))))"
   ]
  },
  {
   "cell_type": "markdown",
   "metadata": {},
   "source": [
    "Conduct a factorial ANOVA to test for any order effect that the presentation order of the Notes factor may have had. To the nearest ten-thousandth (four digits), what is the p-value for the Order factor from such a test? Hint: Use the ez library and its ezANOVA function, passing one between parameter and Order as the within parameter."
   ]
  },
  {
   "cell_type": "code",
   "execution_count": 82,
   "metadata": {},
   "outputs": [
    {
     "data": {
      "text/html": [
       "<strong>$ANOVA</strong> = <table>\n",
       "<thead><tr><th></th><th scope=col>Effect</th><th scope=col>DFn</th><th scope=col>DFd</th><th scope=col>F</th><th scope=col>p</th><th scope=col>p&lt;.05</th><th scope=col>ges</th></tr></thead>\n",
       "<tbody>\n",
       "\t<tr><th scope=row>2</th><td>Phone       </td><td>1           </td><td>18          </td><td>43.5625695  </td><td>3.375888e-06</td><td>*           </td><td>0.56875437  </td></tr>\n",
       "\t<tr><th scope=row>3</th><td>Order       </td><td>1           </td><td>18          </td><td> 0.5486763  </td><td>4.684126e-01</td><td>            </td><td>0.01368098  </td></tr>\n",
       "\t<tr><th scope=row>4</th><td>Phone:Order </td><td>1           </td><td>18          </td><td> 3.0643695  </td><td>9.705122e-02</td><td>            </td><td>0.07189858  </td></tr>\n",
       "</tbody>\n",
       "</table>\n"
      ],
      "text/latex": [
       "\\textbf{\\$ANOVA} = \\begin{tabular}{r|lllllll}\n",
       "  & Effect & DFn & DFd & F & p & p<.05 & ges\\\\\n",
       "\\hline\n",
       "\t2 & Phone        & 1            & 18           & 43.5625695   & 3.375888e-06 & *            & 0.56875437  \\\\\n",
       "\t3 & Order        & 1            & 18           &  0.5486763   & 4.684126e-01 &              & 0.01368098  \\\\\n",
       "\t4 & Phone:Order  & 1            & 18           &  3.0643695   & 9.705122e-02 &              & 0.07189858  \\\\\n",
       "\\end{tabular}\n"
      ],
      "text/markdown": [
       "**$ANOVA** = \n",
       "| <!--/--> | Effect | DFn | DFd | F | p | p<.05 | ges | \n",
       "|---|---|---|\n",
       "| 2 | Phone        | 1            | 18           | 43.5625695   | 3.375888e-06 | *            | 0.56875437   | \n",
       "| 3 | Order        | 1            | 18           |  0.5486763   | 4.684126e-01 |              | 0.01368098   | \n",
       "| 4 | Phone:Order  | 1            | 18           |  3.0643695   | 9.705122e-02 |              | 0.07189858   | \n",
       "\n",
       "\n"
      ],
      "text/plain": [
       "$ANOVA\n",
       "       Effect DFn DFd          F            p p<.05        ges\n",
       "2       Phone   1  18 43.5625695 3.375888e-06     * 0.56875437\n",
       "3       Order   1  18  0.5486763 4.684126e-01       0.01368098\n",
       "4 Phone:Order   1  18  3.0643695 9.705122e-02       0.07189858\n"
      ]
     },
     "metadata": {},
     "output_type": "display_data"
    }
   ],
   "source": [
    "m <- ezANOVA(dv=Words, between=Phone, within=Order, wid=Subject, data=df)\n",
    "m"
   ]
  },
  {
   "cell_type": "markdown",
   "metadata": {},
   "source": [
    "In our test of possible order effects, Mauchly's test of sphericity is irrelevant because our within-subjects factor only has two levels, which cannot present a sphericity violation.\n",
    "\n",
    "* True"
   ]
  },
  {
   "cell_type": "markdown",
   "metadata": {},
   "source": [
    "Conduct a factorial ANOVA on Words by Phone and Notes. To the nearest hundredth (two digits), what is the largest F statistic produced by such a test? Hint: Use the ez library and its ezANOVA function, passing one between parameter and one within parameter."
   ]
  },
  {
   "cell_type": "code",
   "execution_count": 83,
   "metadata": {},
   "outputs": [
    {
     "data": {
      "text/html": [
       "<strong>$ANOVA</strong> = <table>\n",
       "<thead><tr><th></th><th scope=col>Effect</th><th scope=col>DFn</th><th scope=col>DFd</th><th scope=col>F</th><th scope=col>p</th><th scope=col>p&lt;.05</th><th scope=col>ges</th></tr></thead>\n",
       "<tbody>\n",
       "\t<tr><th scope=row>2</th><td>Phone       </td><td>1           </td><td>18          </td><td>43.56256949 </td><td>3.375888e-06</td><td>*           </td><td>0.562185697 </td></tr>\n",
       "\t<tr><th scope=row>3</th><td>Notes       </td><td>1           </td><td>18          </td><td> 2.35976941 </td><td>1.418921e-01</td><td>            </td><td>0.057972811 </td></tr>\n",
       "\t<tr><th scope=row>4</th><td>Phone:Notes </td><td>1           </td><td>18          </td><td> 0.03872717 </td><td>8.461951e-01</td><td>            </td><td>0.001008948 </td></tr>\n",
       "</tbody>\n",
       "</table>\n"
      ],
      "text/latex": [
       "\\textbf{\\$ANOVA} = \\begin{tabular}{r|lllllll}\n",
       "  & Effect & DFn & DFd & F & p & p<.05 & ges\\\\\n",
       "\\hline\n",
       "\t2 & Phone        & 1            & 18           & 43.56256949  & 3.375888e-06 & *            & 0.562185697 \\\\\n",
       "\t3 & Notes        & 1            & 18           &  2.35976941  & 1.418921e-01 &              & 0.057972811 \\\\\n",
       "\t4 & Phone:Notes  & 1            & 18           &  0.03872717  & 8.461951e-01 &              & 0.001008948 \\\\\n",
       "\\end{tabular}\n"
      ],
      "text/markdown": [
       "**$ANOVA** = \n",
       "| <!--/--> | Effect | DFn | DFd | F | p | p<.05 | ges | \n",
       "|---|---|---|\n",
       "| 2 | Phone        | 1            | 18           | 43.56256949  | 3.375888e-06 | *            | 0.562185697  | \n",
       "| 3 | Notes        | 1            | 18           |  2.35976941  | 1.418921e-01 |              | 0.057972811  | \n",
       "| 4 | Phone:Notes  | 1            | 18           |  0.03872717  | 8.461951e-01 |              | 0.001008948  | \n",
       "\n",
       "\n"
      ],
      "text/plain": [
       "$ANOVA\n",
       "       Effect DFn DFd           F            p p<.05         ges\n",
       "2       Phone   1  18 43.56256949 3.375888e-06     * 0.562185697\n",
       "3       Notes   1  18  2.35976941 1.418921e-01       0.057972811\n",
       "4 Phone:Notes   1  18  0.03872717 8.461951e-01       0.001008948\n"
      ]
     },
     "metadata": {},
     "output_type": "display_data"
    }
   ],
   "source": [
    "ezANOVA(dv=Words, between=Phone, within=Notes, wid=Subject, data=df)"
   ]
  },
  {
   "cell_type": "markdown",
   "metadata": {},
   "source": [
    "Conduct two planned pairwise comparisons using paired-samples t-tests. The first question is whether iPhone users entered different numbers of words using the built-in notes app versus the add-on notes app. The second question is whether Android users entered different numbers of words using the built-in notes app versus the add-on notes app. Assuming equal variances, and using Holm's sequential Bonferroni procedure to correct for multiple comparisons, what to within a ten-thousandth (four digits) is the lowest p-value from these tests? Hint: Use the reshape2 library and its dcast function to make a wide-format table with columns for Subject, Phone, Add-on, and Built-in, and then within each Phone type, do a paired-samples t-test between the Add-on and Built-in columns."
   ]
  },
  {
   "cell_type": "code",
   "execution_count": 89,
   "metadata": {},
   "outputs": [
    {
     "data": {
      "text/html": [
       "<table>\n",
       "<thead><tr><th scope=col>Subject</th><th scope=col>Phone</th><th scope=col>Notes</th><th scope=col>Order</th><th scope=col>Words</th></tr></thead>\n",
       "<tbody>\n",
       "\t<tr><td>1       </td><td>iPhone  </td><td>Built-in</td><td>1       </td><td>561     </td></tr>\n",
       "\t<tr><td>1       </td><td>iPhone  </td><td>Add-on  </td><td>2       </td><td>464     </td></tr>\n",
       "\t<tr><td>2       </td><td>Android </td><td>Built-in</td><td>1       </td><td>428     </td></tr>\n",
       "\t<tr><td>2       </td><td>Android </td><td>Add-on  </td><td>2       </td><td>433     </td></tr>\n",
       "\t<tr><td>3       </td><td>iPhone  </td><td>Built-in</td><td>2       </td><td>586     </td></tr>\n",
       "\t<tr><td>3       </td><td>iPhone  </td><td>Add-on  </td><td>1       </td><td>598     </td></tr>\n",
       "</tbody>\n",
       "</table>\n"
      ],
      "text/latex": [
       "\\begin{tabular}{r|lllll}\n",
       " Subject & Phone & Notes & Order & Words\\\\\n",
       "\\hline\n",
       "\t 1        & iPhone   & Built-in & 1        & 561     \\\\\n",
       "\t 1        & iPhone   & Add-on   & 2        & 464     \\\\\n",
       "\t 2        & Android  & Built-in & 1        & 428     \\\\\n",
       "\t 2        & Android  & Add-on   & 2        & 433     \\\\\n",
       "\t 3        & iPhone   & Built-in & 2        & 586     \\\\\n",
       "\t 3        & iPhone   & Add-on   & 1        & 598     \\\\\n",
       "\\end{tabular}\n"
      ],
      "text/markdown": [
       "\n",
       "Subject | Phone | Notes | Order | Words | \n",
       "|---|---|---|---|---|---|\n",
       "| 1        | iPhone   | Built-in | 1        | 561      | \n",
       "| 1        | iPhone   | Add-on   | 2        | 464      | \n",
       "| 2        | Android  | Built-in | 1        | 428      | \n",
       "| 2        | Android  | Add-on   | 2        | 433      | \n",
       "| 3        | iPhone   | Built-in | 2        | 586      | \n",
       "| 3        | iPhone   | Add-on   | 1        | 598      | \n",
       "\n",
       "\n"
      ],
      "text/plain": [
       "  Subject Phone   Notes    Order Words\n",
       "1 1       iPhone  Built-in 1     561  \n",
       "2 1       iPhone  Add-on   2     464  \n",
       "3 2       Android Built-in 1     428  \n",
       "4 2       Android Add-on   2     433  \n",
       "5 3       iPhone  Built-in 2     586  \n",
       "6 3       iPhone  Add-on   1     598  "
      ]
     },
     "metadata": {},
     "output_type": "display_data"
    }
   ],
   "source": [
    "head(df)"
   ]
  },
  {
   "cell_type": "code",
   "execution_count": 97,
   "metadata": {},
   "outputs": [
    {
     "data": {
      "text/html": [
       "<table>\n",
       "<thead><tr><th scope=col>Subject</th><th scope=col>Phone</th><th scope=col>Add-on</th><th scope=col>Built-in</th></tr></thead>\n",
       "<tbody>\n",
       "\t<tr><td>1      </td><td>iPhone </td><td>464    </td><td>561    </td></tr>\n",
       "\t<tr><td>2      </td><td>Android</td><td>433    </td><td>428    </td></tr>\n",
       "\t<tr><td>3      </td><td>iPhone </td><td>598    </td><td>586    </td></tr>\n",
       "\t<tr><td>4      </td><td>Android</td><td>347    </td><td>448    </td></tr>\n",
       "\t<tr><td>5      </td><td>iPhone </td><td>478    </td><td>543    </td></tr>\n",
       "\t<tr><td>6      </td><td>Android</td><td>365    </td><td>445    </td></tr>\n",
       "</tbody>\n",
       "</table>\n"
      ],
      "text/latex": [
       "\\begin{tabular}{r|llll}\n",
       " Subject & Phone & Add-on & Built-in\\\\\n",
       "\\hline\n",
       "\t 1       & iPhone  & 464     & 561    \\\\\n",
       "\t 2       & Android & 433     & 428    \\\\\n",
       "\t 3       & iPhone  & 598     & 586    \\\\\n",
       "\t 4       & Android & 347     & 448    \\\\\n",
       "\t 5       & iPhone  & 478     & 543    \\\\\n",
       "\t 6       & Android & 365     & 445    \\\\\n",
       "\\end{tabular}\n"
      ],
      "text/markdown": [
       "\n",
       "Subject | Phone | Add-on | Built-in | \n",
       "|---|---|---|---|---|---|\n",
       "| 1       | iPhone  | 464     | 561     | \n",
       "| 2       | Android | 433     | 428     | \n",
       "| 3       | iPhone  | 598     | 586     | \n",
       "| 4       | Android | 347     | 448     | \n",
       "| 5       | iPhone  | 478     | 543     | \n",
       "| 6       | Android | 365     | 445     | \n",
       "\n",
       "\n"
      ],
      "text/plain": [
       "  Subject Phone   Add-on Built-in\n",
       "1 1       iPhone  464    561     \n",
       "2 2       Android 433    428     \n",
       "3 3       iPhone  598    586     \n",
       "4 4       Android 347    448     \n",
       "5 5       iPhone  478    543     \n",
       "6 6       Android 365    445     "
      ]
     },
     "metadata": {},
     "output_type": "display_data"
    }
   ],
   "source": [
    "library(\"reshape2\")\n",
    "\n",
    "df.wide <- dcast(df, Subject + Phone ~ Notes, value.var=\"Words\") # go wide\n",
    "head(df.wide)"
   ]
  },
  {
   "cell_type": "code",
   "execution_count": 100,
   "metadata": {
    "collapsed": true
   },
   "outputs": [],
   "source": [
    "iphone <- df.wide[df.wide$Phone==\"iPhone\", ]\n",
    "android <- df.wide[df.wide$Phone==\"Android\", ]"
   ]
  },
  {
   "cell_type": "code",
   "execution_count": 101,
   "metadata": {},
   "outputs": [
    {
     "data": {
      "text/plain": [
       "\n",
       "\tWelch Two Sample t-test\n",
       "\n",
       "data:  iphone$`Add-on` and iphone$`Built-in`\n",
       "t = -1.3838, df = 17.996, p-value = 0.1834\n",
       "alternative hypothesis: true difference in means is not equal to 0\n",
       "95 percent confidence interval:\n",
       " -74.28964  15.28964\n",
       "sample estimates:\n",
       "mean of x mean of y \n",
       "    504.2     533.7 \n"
      ]
     },
     "metadata": {},
     "output_type": "display_data"
    }
   ],
   "source": [
    "iphone_test <- t.test(iphone$`Add-on`, iphone$`Built-in`)\n",
    "iphone_test "
   ]
  },
  {
   "cell_type": "code",
   "execution_count": 102,
   "metadata": {},
   "outputs": [
    {
     "data": {
      "text/plain": [
       "\n",
       "\tWelch Two Sample t-test\n",
       "\n",
       "data:  android$`Add-on` and android$`Built-in`\n",
       "t = -0.81629, df = 13.943, p-value = 0.4281\n",
       "alternative hypothesis: true difference in means is not equal to 0\n",
       "95 percent confidence interval:\n",
       " -82.72934  37.12934\n",
       "sample estimates:\n",
       "mean of x mean of y \n",
       "    388.1     410.9 \n"
      ]
     },
     "metadata": {},
     "output_type": "display_data"
    }
   ],
   "source": [
    "android_test <- t.test(android$`Add-on`, android$`Built-in`)\n",
    "android_test "
   ]
  },
  {
   "cell_type": "code",
   "execution_count": 104,
   "metadata": {},
   "outputs": [
    {
     "data": {
      "text/html": [
       "<ol class=list-inline>\n",
       "\t<li>0.366711052827127</li>\n",
       "\t<li>0.428059921151906</li>\n",
       "</ol>\n"
      ],
      "text/latex": [
       "\\begin{enumerate*}\n",
       "\\item 0.366711052827127\n",
       "\\item 0.428059921151906\n",
       "\\end{enumerate*}\n"
      ],
      "text/markdown": [
       "1. 0.366711052827127\n",
       "2. 0.428059921151906\n",
       "\n",
       "\n"
      ],
      "text/plain": [
       "[1] 0.3667111 0.4280599"
      ]
     },
     "metadata": {},
     "output_type": "display_data"
    }
   ],
   "source": [
    "p.adjust(c(iphone_test$p.value, android_test$p.value), method=\"holm\")"
   ]
  },
  {
   "cell_type": "code",
   "execution_count": 105,
   "metadata": {},
   "outputs": [
    {
     "data": {
      "image/png": "[encoded data removed]",
      "text/plain": [
       "plot without title"
      ]
     },
     "metadata": {},
     "output_type": "display_data"
    }
   ],
   "source": [
    "boxplot(Words ~ Phone * Notes, data=df, xlab=\"Phone.Notes\", ylab=\"Words\")"
   ]
  },
  {
   "cell_type": "code",
   "execution_count": null,
   "metadata": {
    "collapsed": true
   },
   "outputs": [],
   "source": []
  }
 ],
 "metadata": {
  "kernelspec": {
   "display_name": "R",
   "language": "R",
   "name": "ir"
  },
  "language_info": {
   "codemirror_mode": "r",
   "file_extension": ".r",
   "mimetype": "text/x-r-source",
   "name": "R",
   "pygments_lexer": "r",
   "version": "3.4.1"
  }
 },
 "nbformat": 4,
 "nbformat_minor": 2
}
