{
 "cells": [
  {
   "cell_type": "markdown",
   "metadata": {},
   "source": [
    "Let's say 60 people try 2 website alternatives and express their preference for which one they like best. Perhaps website A is the old version of the site and website B is a redesign (a new version of the site). What are the design considerations for such an experiment?\n",
    "\n",
    "Well...how many participants do we need? I said 60 but is that enough? Is that too many? \n",
    "\n",
    "The short answer for most experiments is \"more is better\". More participants gives you more power, which is the ability to detect differences in the things you're comparing but it depends on the sizes of those differences. If the things you're comparing are very different, then you'd need fewer subjects. If the things that you're comparing are fairly similar, you may need more subjects. \n",
    "\n",
    "With online experiments, thousands or even hundreds of subjects are possible. We ahve to be a little careful though. With enough people, you can always detect differences because no 2 things are ever exactly the same. \n",
    "\n",
    "In fact, even if you tested the same website, the same design, the same interface of some kind against itself with hundreds of thousands of people, you're likely to possibly see a difference simply because of measurement error and the variability that comes with measuring things across different people. \n",
    "\n",
    "So ask yourself for a difference to be meaningful to you. How many subjects would you be convinced by? What would seem a reasonable number? If you could detect a difference with 60 people, would that be enough to convince you that statistically significant difference is also a practical difference? We always must remember that statistical significance and practical significance bvased on practical difference are 2 very different things. In every experiment, there are at least 4 major considerations. \n",
    "\n",
    "1. Participants\n",
    "2. Apparatus\n",
    "3. Experiment Procedure\n",
    "4. Design/Analysis\n"
   ]
  },
  {
   "cell_type": "markdown",
   "metadata": {},
   "source": []
  }
 ],
 "metadata": {
  "kernelspec": {
   "display_name": "R",
   "language": "R",
   "name": "ir"
  },
  "language_info": {
   "codemirror_mode": "r",
   "file_extension": ".r",
   "mimetype": "text/x-r-source",
   "name": "R",
   "pygments_lexer": "r",
   "version": "3.4.1"
  }
 },
 "nbformat": 4,
 "nbformat_minor": 2
}
