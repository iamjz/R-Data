{
 "cells": [
  {
   "cell_type": "code",
   "execution_count": 1,
   "metadata": {},
   "outputs": [
    {
     "name": "stderr",
     "output_type": "stream",
     "text": [
      "Warning message:\n",
      "\"package 'rtweet' was built under R version 3.4.3\"Warning message:\n",
      "\"package 'tidyverse' was built under R version 3.4.3\"-- Attaching packages --------------------------------------- tidyverse 1.2.1 --\n",
      "v ggplot2 2.2.1     v purrr   0.2.4\n",
      "v tibble  1.4.1     v dplyr   0.7.4\n",
      "v tidyr   0.7.2     v stringr 1.2.0\n",
      "v readr   1.1.1     v forcats 0.2.0\n",
      "Warning message:\n",
      "\"package 'tibble' was built under R version 3.4.3\"Warning message:\n",
      "\"package 'tidyr' was built under R version 3.4.3\"Warning message:\n",
      "\"package 'purrr' was built under R version 3.4.3\"Warning message:\n",
      "\"package 'dplyr' was built under R version 3.4.2\"-- Conflicts ------------------------------------------ tidyverse_conflicts() --\n",
      "x dplyr::filter() masks stats::filter()\n",
      "x dplyr::lag()    masks stats::lag()\n"
     ]
    }
   ],
   "source": [
    "library(rtweet)\n",
    "library(tidyverse)"
   ]
  },
  {
   "cell_type": "code",
   "execution_count": 3,
   "metadata": {},
   "outputs": [
    {
     "data": {
      "text/plain": [
       "[1] '0.6.0'"
      ]
     },
     "metadata": {},
     "output_type": "display_data"
    }
   ],
   "source": [
    "packageVersion(\"rtweet\")"
   ]
  },
  {
   "cell_type": "code",
   "execution_count": 4,
   "metadata": {
    "collapsed": true
   },
   "outputs": [],
   "source": [
    "## search for users\n",
    "foxnews <- search_users(\"fox news\", n = 1, verbose = FALSE)\n",
    "msnbc <- search_users(\"msnbc\", n = 1, verbose = FALSE)\n",
    "cnn <- search_users(\"cnn\", n = 1, verbose = FALSE)"
   ]
  },
  {
   "cell_type": "code",
   "execution_count": 5,
   "metadata": {},
   "outputs": [
    {
     "data": {
      "text/html": [
       "<table>\n",
       "<thead><tr><th scope=col>user_id</th><th scope=col>name</th><th scope=col>screen_name</th><th scope=col>location</th><th scope=col>description</th><th scope=col>url</th><th scope=col>protected</th><th scope=col>followers_count</th><th scope=col>friends_count</th><th scope=col>listed_count</th><th scope=col>statuses_count</th><th scope=col>favourites_count</th><th scope=col>account_created_at</th><th scope=col>verified</th><th scope=col>profile_url</th><th scope=col>profile_expanded_url</th><th scope=col>account_lang</th><th scope=col>profile_banner_url</th><th scope=col>profile_background_url</th><th scope=col>profile_image_url</th></tr></thead>\n",
       "<tbody>\n",
       "\t<tr><td>759251                                                                                                                                                                                                                                                            </td><td>CNN                                                                                                                                                                                                                                                               </td><td>CNN                                                                                                                                                                                                                                                               </td><td>                                                                                                                                                                                                                                                                  </td><td><span style=white-space:pre-wrap>It’s our job to #GoThere &amp; tell the most difficult stories. Join us! For more breaking news updates follow @CNNBRK  &amp; Download our app &lt;f0&gt;&lt;U+009F&gt;&lt;U+0093&gt;&lt;U+00B2&gt;https://t.co/Xgo5kjIt8c</span></td><td>http://t.co/IaghNW8Xm2                                                                                                                                                                                                                                            </td><td>FALSE                                                                                                                                                                                                                                                             </td><td>39398381                                                                                                                                                                                                                                                          </td><td>1116                                                                                                                                                                                                                                                              </td><td>132173                                                                                                                                                                                                                                                            </td><td>169407                                                                                                                                                                                                                                                            </td><td>1468                                                                                                                                                                                                                                                              </td><td>2007-02-09 00:35:02                                                                                                                                                                                                                                               </td><td>TRUE                                                                                                                                                                                                                                                              </td><td>http://t.co/IaghNW8Xm2                                                                                                                                                                                                                                            </td><td>http://www.cnn.com                                                                                                                                                                                                                                                </td><td>en                                                                                                                                                                                                                                                                </td><td>https://pbs.twimg.com/profile_banners/759251/1508752874                                                                                                                                                                                                           </td><td>http://pbs.twimg.com/profile_background_images/515228058286952449/zVfUxqPl.jpeg                                                                                                                                                                                   </td><td>http://pbs.twimg.com/profile_images/508960761826131968/LnvhR8ED_normal.png                                                                                                                                                                                        </td></tr>\n",
       "</tbody>\n",
       "</table>\n"
      ],
      "text/latex": [
       "\\begin{tabular}{r|llllllllllllllllllll}\n",
       " user\\_id & name & screen\\_name & location & description & url & protected & followers\\_count & friends\\_count & listed\\_count & statuses\\_count & favourites\\_count & account\\_created\\_at & verified & profile\\_url & profile\\_expanded\\_url & account\\_lang & profile\\_banner\\_url & profile\\_background\\_url & profile\\_image\\_url\\\\\n",
       "\\hline\n",
       "\t 759251                                                                                                                                                                                           & CNN                                                                                                                                                                                              & CNN                                                                                                                                                                                              &                                                                                                                                                                                                  & It’s our job to \\#GoThere \\& tell the most difficult stories. Join us! For more breaking news updates follow @CNNBRK  \\& Download our app <f0><U+009F><U+0093><U+00B2>https://t.co/Xgo5kjIt8c & http://t.co/IaghNW8Xm2                                                                                                                                                                           & FALSE                                                                                                                                                                                            & 39398381                                                                                                                                                                                         & 1116                                                                                                                                                                                             & 132173                                                                                                                                                                                           & 169407                                                                                                                                                                                           & 1468                                                                                                                                                                                             & 2007-02-09 00:35:02                                                                                                                                                                              & TRUE                                                                                                                                                                                             & http://t.co/IaghNW8Xm2                                                                                                                                                                           & http://www.cnn.com                                                                                                                                                                               & en                                                                                                                                                                                               & https://pbs.twimg.com/profile\\_banners/759251/1508752874                                                                                                                                        & http://pbs.twimg.com/profile\\_background\\_images/515228058286952449/zVfUxqPl.jpeg                                                                                                              & http://pbs.twimg.com/profile\\_images/508960761826131968/LnvhR8ED\\_normal.png                                                                                                                  \\\\\n",
       "\\end{tabular}\n"
      ],
      "text/markdown": [
       "\n",
       "user_id | name | screen_name | location | description | url | protected | followers_count | friends_count | listed_count | statuses_count | favourites_count | account_created_at | verified | profile_url | profile_expanded_url | account_lang | profile_banner_url | profile_background_url | profile_image_url | \n",
       "|---|\n",
       "| 759251                                                                                                                                                                                     | CNN                                                                                                                                                                                        | CNN                                                                                                                                                                                        |                                                                                                                                                                                            | It’s our job to #GoThere & tell the most difficult stories. Join us! For more breaking news updates follow @CNNBRK  & Download our app <f0><U+009F><U+0093><U+00B2>https://t.co/Xgo5kjIt8c | http://t.co/IaghNW8Xm2                                                                                                                                                                     | FALSE                                                                                                                                                                                      | 39398381                                                                                                                                                                                   | 1116                                                                                                                                                                                       | 132173                                                                                                                                                                                     | 169407                                                                                                                                                                                     | 1468                                                                                                                                                                                       | 2007-02-09 00:35:02                                                                                                                                                                        | TRUE                                                                                                                                                                                       | http://t.co/IaghNW8Xm2                                                                                                                                                                     | http://www.cnn.com                                                                                                                                                                         | en                                                                                                                                                                                         | https://pbs.twimg.com/profile_banners/759251/1508752874                                                                                                                                    | http://pbs.twimg.com/profile_background_images/515228058286952449/zVfUxqPl.jpeg                                                                                                            | http://pbs.twimg.com/profile_images/508960761826131968/LnvhR8ED_normal.png                                                                                                                 | \n",
       "\n",
       "\n"
      ],
      "text/plain": [
       "  user_id name screen_name location\n",
       "1 759251  CNN  CNN                 \n",
       "  description                                                                                                                                                                               \n",
       "1 Its our job to #GoThere & tell the most difficult stories. Join us! For more breaking news updates follow @CNNBRK  & Download our app <f0><U+009F><U+0093><U+00B2>https://t.co/Xgo5kjIt8c\n",
       "  url                    protected followers_count friends_count listed_count\n",
       "1 http://t.co/IaghNW8Xm2 FALSE     39398381        1116          132173      \n",
       "  statuses_count favourites_count account_created_at  verified\n",
       "1 169407         1468             2007-02-09 00:35:02 TRUE    \n",
       "  profile_url            profile_expanded_url account_lang\n",
       "1 http://t.co/IaghNW8Xm2 http://www.cnn.com   en          \n",
       "  profile_banner_url                                     \n",
       "1 https://pbs.twimg.com/profile_banners/759251/1508752874\n",
       "  profile_background_url                                                         \n",
       "1 http://pbs.twimg.com/profile_background_images/515228058286952449/zVfUxqPl.jpeg\n",
       "  profile_image_url                                                         \n",
       "1 http://pbs.twimg.com/profile_images/508960761826131968/LnvhR8ED_normal.png"
      ]
     },
     "metadata": {},
     "output_type": "display_data"
    }
   ],
   "source": [
    "head(cnn, 2)"
   ]
  },
  {
   "cell_type": "code",
   "execution_count": 8,
   "metadata": {},
   "outputs": [
    {
     "data": {
      "text/html": [
       "<table>\n",
       "<thead><tr><th scope=col>user_id</th><th scope=col>name</th><th scope=col>screen_name</th><th scope=col>location</th><th scope=col>description</th><th scope=col>url</th><th scope=col>protected</th><th scope=col>followers_count</th><th scope=col>friends_count</th><th scope=col>listed_count</th><th scope=col>statuses_count</th><th scope=col>favourites_count</th><th scope=col>account_created_at</th><th scope=col>verified</th><th scope=col>profile_url</th><th scope=col>profile_expanded_url</th><th scope=col>account_lang</th><th scope=col>profile_banner_url</th><th scope=col>profile_background_url</th><th scope=col>profile_image_url</th></tr></thead>\n",
       "<tbody>\n",
       "\t<tr><td>2836421                                                                                                                                     </td><td>MSNBC                                                                                                                                       </td><td>MSNBC                                                                                                                                       </td><td>                                                                                                                                            </td><td>The place for in-depth analysis, political commentary and informed perspectives. Questions? Tweet to @Farrashley. Find us on Snapchat: msnbc</td><td>https://t.co/5TAF6ijWwt                                                                                                                     </td><td>FALSE                                                                                                                                       </td><td>2003758                                                                                                                                     </td><td>561                                                                                                                                         </td><td>20520                                                                                                                                       </td><td>126513                                                                                                                                      </td><td>635                                                                                                                                         </td><td>2007-03-29 13:15:41                                                                                                                         </td><td>TRUE                                                                                                                                        </td><td>https://t.co/5TAF6ijWwt                                                                                                                     </td><td>http://msnbc.com                                                                                                                            </td><td>en                                                                                                                                          </td><td>https://pbs.twimg.com/profile_banners/2836421/1498784746                                                                                    </td><td>http://pbs.twimg.com/profile_background_images/644272209536552961/OQBR8Ra8.jpg                                                              </td><td>http://pbs.twimg.com/profile_images/814858612640202754/KCQAV5nf_normal.jpg                                                                  </td></tr>\n",
       "</tbody>\n",
       "</table>\n"
      ],
      "text/latex": [
       "\\begin{tabular}{r|llllllllllllllllllll}\n",
       " user\\_id & name & screen\\_name & location & description & url & protected & followers\\_count & friends\\_count & listed\\_count & statuses\\_count & favourites\\_count & account\\_created\\_at & verified & profile\\_url & profile\\_expanded\\_url & account\\_lang & profile\\_banner\\_url & profile\\_background\\_url & profile\\_image\\_url\\\\\n",
       "\\hline\n",
       "\t 2836421                                                                                                                                      & MSNBC                                                                                                                                        & MSNBC                                                                                                                                        &                                                                                                                                              & The place for in-depth analysis, political commentary and informed perspectives. Questions? Tweet to @Farrashley. Find us on Snapchat: msnbc & https://t.co/5TAF6ijWwt                                                                                                                      & FALSE                                                                                                                                        & 2003758                                                                                                                                      & 561                                                                                                                                          & 20520                                                                                                                                        & 126513                                                                                                                                       & 635                                                                                                                                          & 2007-03-29 13:15:41                                                                                                                          & TRUE                                                                                                                                         & https://t.co/5TAF6ijWwt                                                                                                                      & http://msnbc.com                                                                                                                             & en                                                                                                                                           & https://pbs.twimg.com/profile\\_banners/2836421/1498784746                                                                                   & http://pbs.twimg.com/profile\\_background\\_images/644272209536552961/OQBR8Ra8.jpg                                                           & http://pbs.twimg.com/profile\\_images/814858612640202754/KCQAV5nf\\_normal.jpg                                                              \\\\\n",
       "\\end{tabular}\n"
      ],
      "text/markdown": [
       "\n",
       "user_id | name | screen_name | location | description | url | protected | followers_count | friends_count | listed_count | statuses_count | favourites_count | account_created_at | verified | profile_url | profile_expanded_url | account_lang | profile_banner_url | profile_background_url | profile_image_url | \n",
       "|---|\n",
       "| 2836421                                                                                                                                      | MSNBC                                                                                                                                        | MSNBC                                                                                                                                        |                                                                                                                                              | The place for in-depth analysis, political commentary and informed perspectives. Questions? Tweet to @Farrashley. Find us on Snapchat: msnbc | https://t.co/5TAF6ijWwt                                                                                                                      | FALSE                                                                                                                                        | 2003758                                                                                                                                      | 561                                                                                                                                          | 20520                                                                                                                                        | 126513                                                                                                                                       | 635                                                                                                                                          | 2007-03-29 13:15:41                                                                                                                          | TRUE                                                                                                                                         | https://t.co/5TAF6ijWwt                                                                                                                      | http://msnbc.com                                                                                                                             | en                                                                                                                                           | https://pbs.twimg.com/profile_banners/2836421/1498784746                                                                                     | http://pbs.twimg.com/profile_background_images/644272209536552961/OQBR8Ra8.jpg                                                               | http://pbs.twimg.com/profile_images/814858612640202754/KCQAV5nf_normal.jpg                                                                   | \n",
       "\n",
       "\n"
      ],
      "text/plain": [
       "  user_id name  screen_name location\n",
       "1 2836421 MSNBC MSNBC               \n",
       "  description                                                                                                                                 \n",
       "1 The place for in-depth analysis, political commentary and informed perspectives. Questions? Tweet to @Farrashley. Find us on Snapchat: msnbc\n",
       "  url                     protected followers_count friends_count listed_count\n",
       "1 https://t.co/5TAF6ijWwt FALSE     2003758         561           20520       \n",
       "  statuses_count favourites_count account_created_at  verified\n",
       "1 126513         635              2007-03-29 13:15:41 TRUE    \n",
       "  profile_url             profile_expanded_url account_lang\n",
       "1 https://t.co/5TAF6ijWwt http://msnbc.com     en          \n",
       "  profile_banner_url                                      \n",
       "1 https://pbs.twimg.com/profile_banners/2836421/1498784746\n",
       "  profile_background_url                                                        \n",
       "1 http://pbs.twimg.com/profile_background_images/644272209536552961/OQBR8Ra8.jpg\n",
       "  profile_image_url                                                         \n",
       "1 http://pbs.twimg.com/profile_images/814858612640202754/KCQAV5nf_normal.jpg"
      ]
     },
     "metadata": {},
     "output_type": "display_data"
    }
   ],
   "source": [
    "head(msnbc)"
   ]
  },
  {
   "cell_type": "code",
   "execution_count": 9,
   "metadata": {},
   "outputs": [
    {
     "data": {
      "text/html": [
       "<table>\n",
       "<thead><tr><th scope=col>user_id</th><th scope=col>name</th><th scope=col>screen_name</th><th scope=col>location</th><th scope=col>description</th><th scope=col>url</th><th scope=col>protected</th><th scope=col>followers_count</th><th scope=col>friends_count</th><th scope=col>listed_count</th><th scope=col>statuses_count</th><th scope=col>favourites_count</th><th scope=col>account_created_at</th><th scope=col>verified</th><th scope=col>profile_url</th><th scope=col>profile_expanded_url</th><th scope=col>account_lang</th><th scope=col>profile_banner_url</th><th scope=col>profile_background_url</th><th scope=col>profile_image_url</th></tr></thead>\n",
       "<tbody>\n",
       "\t<tr><td>1367531                                                                                                                                                       </td><td>Fox News                                                                                                                                                      </td><td>FoxNews                                                                                                                                                       </td><td>U.S.A.                                                                                                                                                        </td><td>America’s Strongest Primetime Lineup Anywhere! Follow America's #1 cable news network, delivering you breaking news, insightful analysis, and must-see videos.</td><td>http://t.co/ZYG58XZtAC                                                                                                                                        </td><td>FALSE                                                                                                                                                         </td><td>17170572                                                                                                                                                      </td><td>405                                                                                                                                                           </td><td>62242                                                                                                                                                         </td><td>360764                                                                                                                                                        </td><td>0                                                                                                                                                             </td><td>2007-03-17 19:01:26                                                                                                                                           </td><td>TRUE                                                                                                                                                          </td><td>http://t.co/ZYG58XZtAC                                                                                                                                        </td><td>http://www.foxnews.com                                                                                                                                        </td><td>en                                                                                                                                                            </td><td>https://pbs.twimg.com/profile_banners/1367531/1492649996                                                                                                      </td><td>http://pbs.twimg.com/profile_background_images/414488415/xyz123abc.jpg                                                                                        </td><td>http://pbs.twimg.com/profile_images/918480715158716419/4X8oCbge_normal.jpg                                                                                    </td></tr>\n",
       "</tbody>\n",
       "</table>\n"
      ],
      "text/latex": [
       "\\begin{tabular}{r|llllllllllllllllllll}\n",
       " user\\_id & name & screen\\_name & location & description & url & protected & followers\\_count & friends\\_count & listed\\_count & statuses\\_count & favourites\\_count & account\\_created\\_at & verified & profile\\_url & profile\\_expanded\\_url & account\\_lang & profile\\_banner\\_url & profile\\_background\\_url & profile\\_image\\_url\\\\\n",
       "\\hline\n",
       "\t 1367531                                                                                                                                                          & Fox News                                                                                                                                                         & FoxNews                                                                                                                                                          & U.S.A.                                                                                                                                                           & America’s Strongest Primetime Lineup Anywhere! Follow America's \\#1 cable news network, delivering you breaking news, insightful analysis, and must-see videos. & http://t.co/ZYG58XZtAC                                                                                                                                           & FALSE                                                                                                                                                            & 17170572                                                                                                                                                         & 405                                                                                                                                                              & 62242                                                                                                                                                            & 360764                                                                                                                                                           & 0                                                                                                                                                                & 2007-03-17 19:01:26                                                                                                                                              & TRUE                                                                                                                                                             & http://t.co/ZYG58XZtAC                                                                                                                                           & http://www.foxnews.com                                                                                                                                           & en                                                                                                                                                               & https://pbs.twimg.com/profile\\_banners/1367531/1492649996                                                                                                       & http://pbs.twimg.com/profile\\_background\\_images/414488415/xyz123abc.jpg                                                                                       & http://pbs.twimg.com/profile\\_images/918480715158716419/4X8oCbge\\_normal.jpg                                                                                  \\\\\n",
       "\\end{tabular}\n"
      ],
      "text/markdown": [
       "\n",
       "user_id | name | screen_name | location | description | url | protected | followers_count | friends_count | listed_count | statuses_count | favourites_count | account_created_at | verified | profile_url | profile_expanded_url | account_lang | profile_banner_url | profile_background_url | profile_image_url | \n",
       "|---|\n",
       "| 1367531                                                                                                                                                        | Fox News                                                                                                                                                       | FoxNews                                                                                                                                                        | U.S.A.                                                                                                                                                         | America’s Strongest Primetime Lineup Anywhere! Follow America's #1 cable news network, delivering you breaking news, insightful analysis, and must-see videos. | http://t.co/ZYG58XZtAC                                                                                                                                         | FALSE                                                                                                                                                          | 17170572                                                                                                                                                       | 405                                                                                                                                                            | 62242                                                                                                                                                          | 360764                                                                                                                                                         | 0                                                                                                                                                              | 2007-03-17 19:01:26                                                                                                                                            | TRUE                                                                                                                                                           | http://t.co/ZYG58XZtAC                                                                                                                                         | http://www.foxnews.com                                                                                                                                         | en                                                                                                                                                             | https://pbs.twimg.com/profile_banners/1367531/1492649996                                                                                                       | http://pbs.twimg.com/profile_background_images/414488415/xyz123abc.jpg                                                                                         | http://pbs.twimg.com/profile_images/918480715158716419/4X8oCbge_normal.jpg                                                                                     | \n",
       "\n",
       "\n"
      ],
      "text/plain": [
       "  user_id name     screen_name location\n",
       "1 1367531 Fox News FoxNews     U.S.A.  \n",
       "  description                                                                                                                                                   \n",
       "1 Americas Strongest Primetime Lineup Anywhere! Follow America's #1 cable news network, delivering you breaking news, insightful analysis, and must-see videos.\n",
       "  url                    protected followers_count friends_count listed_count\n",
       "1 http://t.co/ZYG58XZtAC FALSE     17170572        405           62242       \n",
       "  statuses_count favourites_count account_created_at  verified\n",
       "1 360764         0                2007-03-17 19:01:26 TRUE    \n",
       "  profile_url            profile_expanded_url   account_lang\n",
       "1 http://t.co/ZYG58XZtAC http://www.foxnews.com en          \n",
       "  profile_banner_url                                      \n",
       "1 https://pbs.twimg.com/profile_banners/1367531/1492649996\n",
       "  profile_background_url                                                \n",
       "1 http://pbs.twimg.com/profile_background_images/414488415/xyz123abc.jpg\n",
       "  profile_image_url                                                         \n",
       "1 http://pbs.twimg.com/profile_images/918480715158716419/4X8oCbge_normal.jpg"
      ]
     },
     "metadata": {},
     "output_type": "display_data"
    }
   ],
   "source": [
    "head(foxnews)"
   ]
  },
  {
   "cell_type": "code",
   "execution_count": 10,
   "metadata": {
    "collapsed": true
   },
   "outputs": [],
   "source": [
    "## get followers\n",
    "dem <- get_followers(\"msnbc\", n = 1000)"
   ]
  },
  {
   "cell_type": "code",
   "execution_count": 11,
   "metadata": {},
   "outputs": [
    {
     "data": {
      "text/html": [
       "<table>\n",
       "<thead><tr><th scope=col>user_id</th></tr></thead>\n",
       "<tbody>\n",
       "\t<tr><td>961038294921330689</td></tr>\n",
       "\t<tr><td>264713789         </td></tr>\n",
       "\t<tr><td>957809824921657344</td></tr>\n",
       "\t<tr><td>273919025         </td></tr>\n",
       "\t<tr><td>959785976997478406</td></tr>\n",
       "\t<tr><td>1512048486        </td></tr>\n",
       "</tbody>\n",
       "</table>\n"
      ],
      "text/latex": [
       "\\begin{tabular}{r|l}\n",
       " user\\_id\\\\\n",
       "\\hline\n",
       "\t 961038294921330689\\\\\n",
       "\t 264713789         \\\\\n",
       "\t 957809824921657344\\\\\n",
       "\t 273919025         \\\\\n",
       "\t 959785976997478406\\\\\n",
       "\t 1512048486        \\\\\n",
       "\\end{tabular}\n"
      ],
      "text/markdown": [
       "\n",
       "user_id | \n",
       "|---|---|---|---|---|---|\n",
       "| 961038294921330689 | \n",
       "| 264713789          | \n",
       "| 957809824921657344 | \n",
       "| 273919025          | \n",
       "| 959785976997478406 | \n",
       "| 1512048486         | \n",
       "\n",
       "\n"
      ],
      "text/plain": [
       "  user_id           \n",
       "1 961038294921330689\n",
       "2 264713789         \n",
       "3 957809824921657344\n",
       "4 273919025         \n",
       "5 959785976997478406\n",
       "6 1512048486        "
      ]
     },
     "metadata": {},
     "output_type": "display_data"
    }
   ],
   "source": [
    "head(dem)"
   ]
  },
  {
   "cell_type": "code",
   "execution_count": 12,
   "metadata": {
    "collapsed": true
   },
   "outputs": [],
   "source": [
    "## get followers\n",
    "gop <- get_followers(\"FoxNews\", n = 1000)"
   ]
  },
  {
   "cell_type": "code",
   "execution_count": 13,
   "metadata": {},
   "outputs": [
    {
     "data": {
      "text/html": [
       "<table>\n",
       "<thead><tr><th scope=col>user_id</th></tr></thead>\n",
       "<tbody>\n",
       "\t<tr><td>962803507228303371</td></tr>\n",
       "\t<tr><td>961961320701624321</td></tr>\n",
       "\t<tr><td>962802558501662721</td></tr>\n",
       "\t<tr><td>962801205088079872</td></tr>\n",
       "\t<tr><td>962803331180703750</td></tr>\n",
       "\t<tr><td>962803352684855297</td></tr>\n",
       "</tbody>\n",
       "</table>\n"
      ],
      "text/latex": [
       "\\begin{tabular}{r|l}\n",
       " user\\_id\\\\\n",
       "\\hline\n",
       "\t 962803507228303371\\\\\n",
       "\t 961961320701624321\\\\\n",
       "\t 962802558501662721\\\\\n",
       "\t 962801205088079872\\\\\n",
       "\t 962803331180703750\\\\\n",
       "\t 962803352684855297\\\\\n",
       "\\end{tabular}\n"
      ],
      "text/markdown": [
       "\n",
       "user_id | \n",
       "|---|---|---|---|---|---|\n",
       "| 962803507228303371 | \n",
       "| 961961320701624321 | \n",
       "| 962802558501662721 | \n",
       "| 962801205088079872 | \n",
       "| 962803331180703750 | \n",
       "| 962803352684855297 | \n",
       "\n",
       "\n"
      ],
      "text/plain": [
       "  user_id           \n",
       "1 962803507228303371\n",
       "2 961961320701624321\n",
       "3 962802558501662721\n",
       "4 962801205088079872\n",
       "5 962803331180703750\n",
       "6 962803352684855297"
      ]
     },
     "metadata": {},
     "output_type": "display_data"
    }
   ],
   "source": [
    "head(gop)"
   ]
  },
  {
   "cell_type": "code",
   "execution_count": 14,
   "metadata": {
    "collapsed": true
   },
   "outputs": [],
   "source": [
    "## get followers\n",
    "mod <- get_followers(\"cnn\", n = 1000)"
   ]
  },
  {
   "cell_type": "code",
   "execution_count": 15,
   "metadata": {},
   "outputs": [
    {
     "data": {
      "text/html": [
       "<table>\n",
       "<thead><tr><th scope=col>user_id</th></tr></thead>\n",
       "<tbody>\n",
       "\t<tr><td>962803507228303371</td></tr>\n",
       "\t<tr><td>962802364691439616</td></tr>\n",
       "\t<tr><td>962803511036653568</td></tr>\n",
       "\t<tr><td>957507103815421952</td></tr>\n",
       "\t<tr><td>962802517800255488</td></tr>\n",
       "\t<tr><td>962803331180703750</td></tr>\n",
       "</tbody>\n",
       "</table>\n"
      ],
      "text/latex": [
       "\\begin{tabular}{r|l}\n",
       " user\\_id\\\\\n",
       "\\hline\n",
       "\t 962803507228303371\\\\\n",
       "\t 962802364691439616\\\\\n",
       "\t 962803511036653568\\\\\n",
       "\t 957507103815421952\\\\\n",
       "\t 962802517800255488\\\\\n",
       "\t 962803331180703750\\\\\n",
       "\\end{tabular}\n"
      ],
      "text/markdown": [
       "\n",
       "user_id | \n",
       "|---|---|---|---|---|---|\n",
       "| 962803507228303371 | \n",
       "| 962802364691439616 | \n",
       "| 962803511036653568 | \n",
       "| 957507103815421952 | \n",
       "| 962802517800255488 | \n",
       "| 962803331180703750 | \n",
       "\n",
       "\n"
      ],
      "text/plain": [
       "  user_id           \n",
       "1 962803507228303371\n",
       "2 962802364691439616\n",
       "3 962803511036653568\n",
       "4 957507103815421952\n",
       "5 962802517800255488\n",
       "6 962803331180703750"
      ]
     },
     "metadata": {},
     "output_type": "display_data"
    }
   ],
   "source": [
    "head(mod)"
   ]
  },
  {
   "cell_type": "code",
   "execution_count": 16,
   "metadata": {},
   "outputs": [],
   "source": [
    "## get gop users data\n",
    "gop_data <- lookup_users(gop$user_id)"
   ]
  },
  {
   "cell_type": "code",
   "execution_count": 17,
   "metadata": {
    "collapsed": true
   },
   "outputs": [],
   "source": [
    "## get dem users data\n",
    "dem_data <- lookup_users(dem$user_id)"
   ]
  },
  {
   "cell_type": "code",
   "execution_count": 18,
   "metadata": {
    "collapsed": true
   },
   "outputs": [],
   "source": [
    "## get mod users data\n",
    "mod_data <- lookup_users(mod$user_id)"
   ]
  },
  {
   "cell_type": "code",
   "execution_count": 19,
   "metadata": {
    "collapsed": true
   },
   "outputs": [],
   "source": [
    "## create \"partisan\" grouping variable\n",
    "gop_data$partisan <- \"gop\"\n",
    "dem_data$partisan <- \"dem\"\n",
    "mod_data$partisan <- \"mod\"\n",
    "\n",
    "## merge into single data frame\n",
    "data <- bind_rows(gop_data, dem_data, mod_data)"
   ]
  },
  {
   "cell_type": "code",
   "execution_count": 20,
   "metadata": {},
   "outputs": [
    {
     "data": {
      "text/html": [
       "<table>\n",
       "<thead><tr><th scope=col>partisan</th><th scope=col>friends</th><th scope=col>followers</th></tr></thead>\n",
       "<tbody>\n",
       "\t<tr><td>dem    </td><td>442.471</td><td>196.095</td></tr>\n",
       "\t<tr><td>gop    </td><td>152.495</td><td>494.326</td></tr>\n",
       "\t<tr><td>mod    </td><td>182.166</td><td>104.920</td></tr>\n",
       "</tbody>\n",
       "</table>\n"
      ],
      "text/latex": [
       "\\begin{tabular}{r|lll}\n",
       " partisan & friends & followers\\\\\n",
       "\\hline\n",
       "\t dem     & 442.471 & 196.095\\\\\n",
       "\t gop     & 152.495 & 494.326\\\\\n",
       "\t mod     & 182.166 & 104.920\\\\\n",
       "\\end{tabular}\n"
      ],
      "text/markdown": [
       "\n",
       "partisan | friends | followers | \n",
       "|---|---|---|\n",
       "| dem     | 442.471 | 196.095 | \n",
       "| gop     | 152.495 | 494.326 | \n",
       "| mod     | 182.166 | 104.920 | \n",
       "\n",
       "\n"
      ],
      "text/plain": [
       "  partisan friends followers\n",
       "1 dem      442.471 196.095  \n",
       "2 gop      152.495 494.326  \n",
       "3 mod      182.166 104.920  "
      ]
     },
     "metadata": {},
     "output_type": "display_data"
    }
   ],
   "source": [
    "## PRINT: group by partisan and summarise friends and followers counts\n",
    "data %>%\n",
    "    group_by(partisan) %>%\n",
    "    summarise(\n",
    "        friends = mean(friends_count, na.rm = TRUE),\n",
    "        followers = mean(followers_count, na.rm = TRUE))"
   ]
  },
  {
   "cell_type": "code",
   "execution_count": 21,
   "metadata": {},
   "outputs": [
    {
     "data": {},
     "metadata": {},
     "output_type": "display_data"
    },
    {
     "data": {
      "image/png": "[encoded data removed]",
      "text/plain": [
       "plot without title"
      ]
     },
     "metadata": {},
     "output_type": "display_data"
    }
   ],
   "source": [
    "## PLOT: group by partisan and summarise integer vars\n",
    "data %>%\n",
    "    mutate(Following = factor(partisan, labels = c(\"MSNBC\", \"FoxNews\", \"CNN\"))) %>%\n",
    "    group_by(Following) %>%\n",
    "    summarise(\n",
    "        friends = mean(friends_count, na.rm = TRUE),\n",
    "        followers = mean(followers_count, na.rm = TRUE)) %>%\n",
    "    gather(var, count, -Following) %>%\n",
    "    ggplot(aes(x = Following, y = count, fill = Following)) + \n",
    "    geom_col() + \n",
    "    facet_wrap(~ var, ncol = 2, scales = \"free_y\") + \n",
    "    theme_bw(base_size = 10) + \n",
    "    theme(plot.title = element_text(face = \"bold\")) + \n",
    "    scale_fill_manual(values = c(FoxNews = \"red2\", MSNBC = \"blue\", CNN = \"purple\")) + \n",
    "    labs(\n",
    "        title = \"User stats for followers of MSNBC, FoxNews, and CNN\",\n",
    "        subtitle = \"Mean number of friends and followers by group (n = 1000)\", \n",
    "        x = NULL, y = \"Count\")"
   ]
  },
  {
   "cell_type": "code",
   "execution_count": 22,
   "metadata": {
    "collapsed": true
   },
   "outputs": [],
   "source": [
    "## function to filter and then randomly sample user IDs\n",
    "rsamp_uq <- function(..., n) {\n",
    "    \n",
    "    dots <- list(...)\n",
    "    \n",
    "    groups <- names(dots)\n",
    "    \n",
    "    user_ids <- lapply(dots, \"[[\", \"user_id\")\n",
    "    \n",
    "    \n",
    "    for (i in seq_along(dots)) {\n",
    "        \n",
    "        ## filter out users found in other groups and protected users\n",
    "        dots[[i]] <- filter(\n",
    "            dots[[i]], \n",
    "            !user_id %in% unlist(user_ids[-i]) & !protected\n",
    "        )\n",
    "        \n",
    "        dots[[i]]$group <- groups[i]\n",
    "    }\n",
    "    \n",
    "    sample_users <- function(x, n) x[x$user_id %in% sample(x$user_id, n), ]\n",
    "        \n",
    "    out <- lapply(dots, sample_users, n)\n",
    "        \n",
    "    bind_rows(out)\n",
    "}\n",
    "    \n",
    "    \n",
    "\n",
    "## filter and sample 5 from each group\n",
    "smps <- rsamp_uq(gop = gop_data, dem = dem_data, mod = mod_data, n = 5)"
   ]
  },
  {
   "cell_type": "code",
   "execution_count": 23,
   "metadata": {},
   "outputs": [
    {
     "name": "stderr",
     "output_type": "stream",
     "text": [
      "Warning message:\n",
      "\"Rate limit exceeded\"Warning message:\n",
      "\"Rate limit exceeded\"Warning message:\n",
      "\"Rate limit exceeded\"Warning message:\n",
      "\"Rate limit exceeded\"Warning message:\n",
      "\"Rate limit exceeded\"Warning message:\n",
      "\"Rate limit exceeded\"Warning message:\n",
      "\"Rate limit exceeded\"Warning message:\n",
      "\"Rate limit exceeded\"Warning message:\n",
      "\"Rate limit exceeded\"Warning message:\n",
      "\"Rate limit exceeded\"Warning message:\n",
      "\"Rate limit exceeded\"Warning message:\n",
      "\"Rate limit exceeded\"Warning message:\n",
      "\"Rate limit exceeded\"Warning message:\n",
      "\"Rate limit exceeded\"Warning message:\n",
      "\"Rate limit exceeded\""
     ]
    }
   ],
   "source": [
    "## get friends for each sampled user\n",
    "fds <- lapply(smps$user_id, get_friends, verbose = FALSE)"
   ]
  },
  {
   "cell_type": "code",
   "execution_count": 24,
   "metadata": {
    "collapsed": true
   },
   "outputs": [],
   "source": [
    "## add the list of data frames to smps as a list column\n",
    "smps$fds <- I(fds)"
   ]
  },
  {
   "cell_type": "code",
   "execution_count": 25,
   "metadata": {
    "collapsed": true
   },
   "outputs": [],
   "source": [
    "## create function to identify the top 3 accounts and then lookup their screen names\n",
    "\n",
    "get_top_names <- function(x, n = 3) {\n",
    "    \n",
    "    tbl <- sort(table(unlist(x)), decreasing = TRUE)\n",
    "    \n",
    "    if (length(tbl) > n) {\n",
    "        tbl <- tbl[seq_len(n)]\n",
    "    }\n",
    "    \n",
    "    sns <- lookup_users(names(tbl))\n",
    "    \n",
    "    sns$screen_name\n",
    "}"
   ]
  },
  {
   "cell_type": "code",
   "execution_count": 26,
   "metadata": {},
   "outputs": [
    {
     "ename": "ERROR",
     "evalue": "Error in summarise_impl(.data, dots): Evaluation error: argument is of length zero.\n",
     "output_type": "error",
     "traceback": [
      "Error in summarise_impl(.data, dots): Evaluation error: argument is of length zero.\nTraceback:\n",
      "1. smps %>% group_by(group) %>% summarise(freq = list(get_top_names(fds)))",
      "2. withVisible(eval(quote(`_fseq`(`_lhs`)), env, env))",
      "3. eval(quote(`_fseq`(`_lhs`)), env, env)",
      "4. eval(quote(`_fseq`(`_lhs`)), env, env)",
      "5. `_fseq`(`_lhs`)",
      "6. freduce(value, `_function_list`)",
      "7. withVisible(function_list[[k]](value))",
      "8. function_list[[k]](value)",
      "9. summarise(., freq = list(get_top_names(fds)))",
      "10. summarise.tbl_df(., freq = list(get_top_names(fds)))",
      "11. summarise_impl(.data, dots)"
     ]
    }
   ],
   "source": [
    "## print out top 3 screen names associated with each group\n",
    "smps %>% \n",
    "    group_by(group) %>%\n",
    "    summarise(\n",
    "        freq = list(get_top_names(fds))\n",
    "    )"
   ]
  }
 ],
 "metadata": {
  "kernelspec": {
   "display_name": "R",
   "language": "R",
   "name": "ir"
  },
  "language_info": {
   "codemirror_mode": "r",
   "file_extension": ".r",
   "mimetype": "text/x-r-source",
   "name": "R",
   "pygments_lexer": "r",
   "version": "3.4.1"
  }
 },
 "nbformat": 4,
 "nbformat_minor": 2
}
