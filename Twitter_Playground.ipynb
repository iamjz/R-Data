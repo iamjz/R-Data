{
 "cells": [
  {
   "cell_type": "code",
   "execution_count": 27,
   "metadata": {},
   "outputs": [],
   "source": [
    "library(rtweet)\n",
    "library(tidyverse)"
   ]
  },
  {
   "cell_type": "code",
   "execution_count": 28,
   "metadata": {},
   "outputs": [
    {
     "data": {
      "text/plain": [
       "[1] '0.6.0'"
      ]
     },
     "metadata": {},
     "output_type": "display_data"
    }
   ],
   "source": [
    "packageVersion(\"rtweet\")"
   ]
  },
  {
   "cell_type": "code",
   "execution_count": 76,
   "metadata": {
    "collapsed": true
   },
   "outputs": [],
   "source": [
    "## search for users\n",
    "foxnews <- search_users(\"fox news\", n = 1, verbose = FALSE)\n",
    "msnbc <- search_users(\"msnbc\", n = 1, verbose = FALSE)\n",
    "cnn <- search_users(\"cnn\", n = 1, verbose = FALSE)"
   ]
  },
  {
   "cell_type": "code",
   "execution_count": 77,
   "metadata": {},
   "outputs": [
    {
     "data": {
      "text/html": [
       "<table>\n",
       "<thead><tr><th scope=col>user_id</th><th scope=col>name</th><th scope=col>screen_name</th><th scope=col>location</th><th scope=col>description</th><th scope=col>url</th><th scope=col>protected</th><th scope=col>followers_count</th><th scope=col>friends_count</th><th scope=col>listed_count</th><th scope=col>statuses_count</th><th scope=col>favourites_count</th><th scope=col>account_created_at</th><th scope=col>verified</th><th scope=col>profile_url</th><th scope=col>profile_expanded_url</th><th scope=col>account_lang</th><th scope=col>profile_banner_url</th><th scope=col>profile_background_url</th><th scope=col>profile_image_url</th></tr></thead>\n",
       "<tbody>\n",
       "\t<tr><td>759251                                                                                                                                                                                                                                                            </td><td>CNN                                                                                                                                                                                                                                                               </td><td>CNN                                                                                                                                                                                                                                                               </td><td>                                                                                                                                                                                                                                                                  </td><td><span style=white-space:pre-wrap>It’s our job to #GoThere &amp; tell the most difficult stories. Join us! For more breaking news updates follow @CNNBRK  &amp; Download our app &lt;f0&gt;&lt;U+009F&gt;&lt;U+0093&gt;&lt;U+00B2&gt;https://t.co/Xgo5kjIt8c</span></td><td>http://t.co/IaghNW8Xm2                                                                                                                                                                                                                                            </td><td>FALSE                                                                                                                                                                                                                                                             </td><td>39303681                                                                                                                                                                                                                                                          </td><td>1115                                                                                                                                                                                                                                                              </td><td>131060                                                                                                                                                                                                                                                            </td><td>168335                                                                                                                                                                                                                                                            </td><td>1468                                                                                                                                                                                                                                                              </td><td>2007-02-09 00:35:02                                                                                                                                                                                                                                               </td><td>TRUE                                                                                                                                                                                                                                                              </td><td>http://t.co/IaghNW8Xm2                                                                                                                                                                                                                                            </td><td>http://www.cnn.com                                                                                                                                                                                                                                                </td><td>en                                                                                                                                                                                                                                                                </td><td>https://pbs.twimg.com/profile_banners/759251/1508752874                                                                                                                                                                                                           </td><td>http://pbs.twimg.com/profile_background_images/515228058286952449/zVfUxqPl.jpeg                                                                                                                                                                                   </td><td>http://pbs.twimg.com/profile_images/508960761826131968/LnvhR8ED_normal.png                                                                                                                                                                                        </td></tr>\n",
       "</tbody>\n",
       "</table>\n"
      ],
      "text/latex": [
       "\\begin{tabular}{r|llllllllllllllllllll}\n",
       " user\\_id & name & screen\\_name & location & description & url & protected & followers\\_count & friends\\_count & listed\\_count & statuses\\_count & favourites\\_count & account\\_created\\_at & verified & profile\\_url & profile\\_expanded\\_url & account\\_lang & profile\\_banner\\_url & profile\\_background\\_url & profile\\_image\\_url\\\\\n",
       "\\hline\n",
       "\t 759251                                                                                                                                                                                           & CNN                                                                                                                                                                                              & CNN                                                                                                                                                                                              &                                                                                                                                                                                                  & It’s our job to \\#GoThere \\& tell the most difficult stories. Join us! For more breaking news updates follow @CNNBRK  \\& Download our app <f0><U+009F><U+0093><U+00B2>https://t.co/Xgo5kjIt8c & http://t.co/IaghNW8Xm2                                                                                                                                                                           & FALSE                                                                                                                                                                                            & 39303681                                                                                                                                                                                         & 1115                                                                                                                                                                                             & 131060                                                                                                                                                                                           & 168335                                                                                                                                                                                           & 1468                                                                                                                                                                                             & 2007-02-09 00:35:02                                                                                                                                                                              & TRUE                                                                                                                                                                                             & http://t.co/IaghNW8Xm2                                                                                                                                                                           & http://www.cnn.com                                                                                                                                                                               & en                                                                                                                                                                                               & https://pbs.twimg.com/profile\\_banners/759251/1508752874                                                                                                                                        & http://pbs.twimg.com/profile\\_background\\_images/515228058286952449/zVfUxqPl.jpeg                                                                                                              & http://pbs.twimg.com/profile\\_images/508960761826131968/LnvhR8ED\\_normal.png                                                                                                                  \\\\\n",
       "\\end{tabular}\n"
      ],
      "text/markdown": [
       "\n",
       "user_id | name | screen_name | location | description | url | protected | followers_count | friends_count | listed_count | statuses_count | favourites_count | account_created_at | verified | profile_url | profile_expanded_url | account_lang | profile_banner_url | profile_background_url | profile_image_url | \n",
       "|---|\n",
       "| 759251                                                                                                                                                                                     | CNN                                                                                                                                                                                        | CNN                                                                                                                                                                                        |                                                                                                                                                                                            | It’s our job to #GoThere & tell the most difficult stories. Join us! For more breaking news updates follow @CNNBRK  & Download our app <f0><U+009F><U+0093><U+00B2>https://t.co/Xgo5kjIt8c | http://t.co/IaghNW8Xm2                                                                                                                                                                     | FALSE                                                                                                                                                                                      | 39303681                                                                                                                                                                                   | 1115                                                                                                                                                                                       | 131060                                                                                                                                                                                     | 168335                                                                                                                                                                                     | 1468                                                                                                                                                                                       | 2007-02-09 00:35:02                                                                                                                                                                        | TRUE                                                                                                                                                                                       | http://t.co/IaghNW8Xm2                                                                                                                                                                     | http://www.cnn.com                                                                                                                                                                         | en                                                                                                                                                                                         | https://pbs.twimg.com/profile_banners/759251/1508752874                                                                                                                                    | http://pbs.twimg.com/profile_background_images/515228058286952449/zVfUxqPl.jpeg                                                                                                            | http://pbs.twimg.com/profile_images/508960761826131968/LnvhR8ED_normal.png                                                                                                                 | \n",
       "\n",
       "\n"
      ],
      "text/plain": [
       "  user_id name screen_name location\n",
       "1 759251  CNN  CNN                 \n",
       "  description                                                                                                                                                                               \n",
       "1 Its our job to #GoThere & tell the most difficult stories. Join us! For more breaking news updates follow @CNNBRK  & Download our app <f0><U+009F><U+0093><U+00B2>https://t.co/Xgo5kjIt8c\n",
       "  url                    protected followers_count friends_count listed_count\n",
       "1 http://t.co/IaghNW8Xm2 FALSE     39303681        1115          131060      \n",
       "  statuses_count favourites_count account_created_at  verified\n",
       "1 168335         1468             2007-02-09 00:35:02 TRUE    \n",
       "  profile_url            profile_expanded_url account_lang\n",
       "1 http://t.co/IaghNW8Xm2 http://www.cnn.com   en          \n",
       "  profile_banner_url                                     \n",
       "1 https://pbs.twimg.com/profile_banners/759251/1508752874\n",
       "  profile_background_url                                                         \n",
       "1 http://pbs.twimg.com/profile_background_images/515228058286952449/zVfUxqPl.jpeg\n",
       "  profile_image_url                                                         \n",
       "1 http://pbs.twimg.com/profile_images/508960761826131968/LnvhR8ED_normal.png"
      ]
     },
     "metadata": {},
     "output_type": "display_data"
    }
   ],
   "source": [
    "head(cnn, 2)"
   ]
  },
  {
   "cell_type": "code",
   "execution_count": 31,
   "metadata": {},
   "outputs": [
    {
     "data": {
      "text/html": [
       "<table>\n",
       "<thead><tr><th scope=col>user_id</th><th scope=col>name</th><th scope=col>screen_name</th><th scope=col>location</th><th scope=col>description</th><th scope=col>url</th><th scope=col>protected</th><th scope=col>followers_count</th><th scope=col>friends_count</th><th scope=col>listed_count</th><th scope=col>statuses_count</th><th scope=col>favourites_count</th><th scope=col>account_created_at</th><th scope=col>verified</th><th scope=col>profile_url</th><th scope=col>profile_expanded_url</th><th scope=col>account_lang</th><th scope=col>profile_banner_url</th><th scope=col>profile_background_url</th><th scope=col>profile_image_url</th></tr></thead>\n",
       "<tbody>\n",
       "\t<tr><td>2836421                                                                                                                                     </td><td>MSNBC                                                                                                                                       </td><td>MSNBC                                                                                                                                       </td><td>                                                                                                                                            </td><td>The place for in-depth analysis, political commentary and informed perspectives. Questions? Tweet to @Farrashley. Find us on Snapchat: msnbc</td><td>https://t.co/5TAF6ijWwt                                                                                                                     </td><td>FALSE                                                                                                                                       </td><td>1997837                                                                                                                                     </td><td>560                                                                                                                                         </td><td>20410                                                                                                                                       </td><td>126113                                                                                                                                      </td><td>636                                                                                                                                         </td><td>2007-03-29 13:15:41                                                                                                                         </td><td>TRUE                                                                                                                                        </td><td>https://t.co/5TAF6ijWwt                                                                                                                     </td><td>http://msnbc.com                                                                                                                            </td><td>en                                                                                                                                          </td><td>https://pbs.twimg.com/profile_banners/2836421/1498784746                                                                                    </td><td>http://pbs.twimg.com/profile_background_images/644272209536552961/OQBR8Ra8.jpg                                                              </td><td>http://pbs.twimg.com/profile_images/814858612640202754/KCQAV5nf_normal.jpg                                                                  </td></tr>\n",
       "</tbody>\n",
       "</table>\n"
      ],
      "text/latex": [
       "\\begin{tabular}{r|llllllllllllllllllll}\n",
       " user\\_id & name & screen\\_name & location & description & url & protected & followers\\_count & friends\\_count & listed\\_count & statuses\\_count & favourites\\_count & account\\_created\\_at & verified & profile\\_url & profile\\_expanded\\_url & account\\_lang & profile\\_banner\\_url & profile\\_background\\_url & profile\\_image\\_url\\\\\n",
       "\\hline\n",
       "\t 2836421                                                                                                                                      & MSNBC                                                                                                                                        & MSNBC                                                                                                                                        &                                                                                                                                              & The place for in-depth analysis, political commentary and informed perspectives. Questions? Tweet to @Farrashley. Find us on Snapchat: msnbc & https://t.co/5TAF6ijWwt                                                                                                                      & FALSE                                                                                                                                        & 1997837                                                                                                                                      & 560                                                                                                                                          & 20410                                                                                                                                        & 126113                                                                                                                                       & 636                                                                                                                                          & 2007-03-29 13:15:41                                                                                                                          & TRUE                                                                                                                                         & https://t.co/5TAF6ijWwt                                                                                                                      & http://msnbc.com                                                                                                                             & en                                                                                                                                           & https://pbs.twimg.com/profile\\_banners/2836421/1498784746                                                                                   & http://pbs.twimg.com/profile\\_background\\_images/644272209536552961/OQBR8Ra8.jpg                                                           & http://pbs.twimg.com/profile\\_images/814858612640202754/KCQAV5nf\\_normal.jpg                                                              \\\\\n",
       "\\end{tabular}\n"
      ],
      "text/markdown": [
       "\n",
       "user_id | name | screen_name | location | description | url | protected | followers_count | friends_count | listed_count | statuses_count | favourites_count | account_created_at | verified | profile_url | profile_expanded_url | account_lang | profile_banner_url | profile_background_url | profile_image_url | \n",
       "|---|\n",
       "| 2836421                                                                                                                                      | MSNBC                                                                                                                                        | MSNBC                                                                                                                                        |                                                                                                                                              | The place for in-depth analysis, political commentary and informed perspectives. Questions? Tweet to @Farrashley. Find us on Snapchat: msnbc | https://t.co/5TAF6ijWwt                                                                                                                      | FALSE                                                                                                                                        | 1997837                                                                                                                                      | 560                                                                                                                                          | 20410                                                                                                                                        | 126113                                                                                                                                       | 636                                                                                                                                          | 2007-03-29 13:15:41                                                                                                                          | TRUE                                                                                                                                         | https://t.co/5TAF6ijWwt                                                                                                                      | http://msnbc.com                                                                                                                             | en                                                                                                                                           | https://pbs.twimg.com/profile_banners/2836421/1498784746                                                                                     | http://pbs.twimg.com/profile_background_images/644272209536552961/OQBR8Ra8.jpg                                                               | http://pbs.twimg.com/profile_images/814858612640202754/KCQAV5nf_normal.jpg                                                                   | \n",
       "\n",
       "\n"
      ],
      "text/plain": [
       "  user_id name  screen_name location\n",
       "1 2836421 MSNBC MSNBC               \n",
       "  description                                                                                                                                 \n",
       "1 The place for in-depth analysis, political commentary and informed perspectives. Questions? Tweet to @Farrashley. Find us on Snapchat: msnbc\n",
       "  url                     protected followers_count friends_count listed_count\n",
       "1 https://t.co/5TAF6ijWwt FALSE     1997837         560           20410       \n",
       "  statuses_count favourites_count account_created_at  verified\n",
       "1 126113         636              2007-03-29 13:15:41 TRUE    \n",
       "  profile_url             profile_expanded_url account_lang\n",
       "1 https://t.co/5TAF6ijWwt http://msnbc.com     en          \n",
       "  profile_banner_url                                      \n",
       "1 https://pbs.twimg.com/profile_banners/2836421/1498784746\n",
       "  profile_background_url                                                        \n",
       "1 http://pbs.twimg.com/profile_background_images/644272209536552961/OQBR8Ra8.jpg\n",
       "  profile_image_url                                                         \n",
       "1 http://pbs.twimg.com/profile_images/814858612640202754/KCQAV5nf_normal.jpg"
      ]
     },
     "metadata": {},
     "output_type": "display_data"
    }
   ],
   "source": [
    "head(msnbc)"
   ]
  },
  {
   "cell_type": "code",
   "execution_count": 32,
   "metadata": {},
   "outputs": [
    {
     "data": {
      "text/html": [
       "<table>\n",
       "<thead><tr><th scope=col>user_id</th><th scope=col>name</th><th scope=col>screen_name</th><th scope=col>location</th><th scope=col>description</th><th scope=col>url</th><th scope=col>protected</th><th scope=col>followers_count</th><th scope=col>friends_count</th><th scope=col>listed_count</th><th scope=col>statuses_count</th><th scope=col>favourites_count</th><th scope=col>account_created_at</th><th scope=col>verified</th><th scope=col>profile_url</th><th scope=col>profile_expanded_url</th><th scope=col>account_lang</th><th scope=col>profile_banner_url</th><th scope=col>profile_background_url</th><th scope=col>profile_image_url</th></tr></thead>\n",
       "<tbody>\n",
       "\t<tr><td>1367531                                                                                                                                                       </td><td>Fox News                                                                                                                                                      </td><td>FoxNews                                                                                                                                                       </td><td>U.S.A.                                                                                                                                                        </td><td>America’s Strongest Primetime Lineup Anywhere! Follow America's #1 cable news network, delivering you breaking news, insightful analysis, and must-see videos.</td><td>http://t.co/ZYG58XZtAC                                                                                                                                        </td><td>FALSE                                                                                                                                                         </td><td>17111156                                                                                                                                                      </td><td>404                                                                                                                                                           </td><td>62282                                                                                                                                                         </td><td>359333                                                                                                                                                        </td><td>0                                                                                                                                                             </td><td>2007-03-17 19:01:26                                                                                                                                           </td><td>TRUE                                                                                                                                                          </td><td>http://t.co/ZYG58XZtAC                                                                                                                                        </td><td>http://www.foxnews.com                                                                                                                                        </td><td>en                                                                                                                                                            </td><td>https://pbs.twimg.com/profile_banners/1367531/1492649996                                                                                                      </td><td>http://pbs.twimg.com/profile_background_images/414488415/xyz123abc.jpg                                                                                        </td><td>http://pbs.twimg.com/profile_images/918480715158716419/4X8oCbge_normal.jpg                                                                                    </td></tr>\n",
       "</tbody>\n",
       "</table>\n"
      ],
      "text/latex": [
       "\\begin{tabular}{r|llllllllllllllllllll}\n",
       " user\\_id & name & screen\\_name & location & description & url & protected & followers\\_count & friends\\_count & listed\\_count & statuses\\_count & favourites\\_count & account\\_created\\_at & verified & profile\\_url & profile\\_expanded\\_url & account\\_lang & profile\\_banner\\_url & profile\\_background\\_url & profile\\_image\\_url\\\\\n",
       "\\hline\n",
       "\t 1367531                                                                                                                                                          & Fox News                                                                                                                                                         & FoxNews                                                                                                                                                          & U.S.A.                                                                                                                                                           & America’s Strongest Primetime Lineup Anywhere! Follow America's \\#1 cable news network, delivering you breaking news, insightful analysis, and must-see videos. & http://t.co/ZYG58XZtAC                                                                                                                                           & FALSE                                                                                                                                                            & 17111156                                                                                                                                                         & 404                                                                                                                                                              & 62282                                                                                                                                                            & 359333                                                                                                                                                           & 0                                                                                                                                                                & 2007-03-17 19:01:26                                                                                                                                              & TRUE                                                                                                                                                             & http://t.co/ZYG58XZtAC                                                                                                                                           & http://www.foxnews.com                                                                                                                                           & en                                                                                                                                                               & https://pbs.twimg.com/profile\\_banners/1367531/1492649996                                                                                                       & http://pbs.twimg.com/profile\\_background\\_images/414488415/xyz123abc.jpg                                                                                       & http://pbs.twimg.com/profile\\_images/918480715158716419/4X8oCbge\\_normal.jpg                                                                                  \\\\\n",
       "\\end{tabular}\n"
      ],
      "text/markdown": [
       "\n",
       "user_id | name | screen_name | location | description | url | protected | followers_count | friends_count | listed_count | statuses_count | favourites_count | account_created_at | verified | profile_url | profile_expanded_url | account_lang | profile_banner_url | profile_background_url | profile_image_url | \n",
       "|---|\n",
       "| 1367531                                                                                                                                                        | Fox News                                                                                                                                                       | FoxNews                                                                                                                                                        | U.S.A.                                                                                                                                                         | America’s Strongest Primetime Lineup Anywhere! Follow America's #1 cable news network, delivering you breaking news, insightful analysis, and must-see videos. | http://t.co/ZYG58XZtAC                                                                                                                                         | FALSE                                                                                                                                                          | 17111156                                                                                                                                                       | 404                                                                                                                                                            | 62282                                                                                                                                                          | 359333                                                                                                                                                         | 0                                                                                                                                                              | 2007-03-17 19:01:26                                                                                                                                            | TRUE                                                                                                                                                           | http://t.co/ZYG58XZtAC                                                                                                                                         | http://www.foxnews.com                                                                                                                                         | en                                                                                                                                                             | https://pbs.twimg.com/profile_banners/1367531/1492649996                                                                                                       | http://pbs.twimg.com/profile_background_images/414488415/xyz123abc.jpg                                                                                         | http://pbs.twimg.com/profile_images/918480715158716419/4X8oCbge_normal.jpg                                                                                     | \n",
       "\n",
       "\n"
      ],
      "text/plain": [
       "  user_id name     screen_name location\n",
       "1 1367531 Fox News FoxNews     U.S.A.  \n",
       "  description                                                                                                                                                   \n",
       "1 Americas Strongest Primetime Lineup Anywhere! Follow America's #1 cable news network, delivering you breaking news, insightful analysis, and must-see videos.\n",
       "  url                    protected followers_count friends_count listed_count\n",
       "1 http://t.co/ZYG58XZtAC FALSE     17111156        404           62282       \n",
       "  statuses_count favourites_count account_created_at  verified\n",
       "1 359333         0                2007-03-17 19:01:26 TRUE    \n",
       "  profile_url            profile_expanded_url   account_lang\n",
       "1 http://t.co/ZYG58XZtAC http://www.foxnews.com en          \n",
       "  profile_banner_url                                      \n",
       "1 https://pbs.twimg.com/profile_banners/1367531/1492649996\n",
       "  profile_background_url                                                \n",
       "1 http://pbs.twimg.com/profile_background_images/414488415/xyz123abc.jpg\n",
       "  profile_image_url                                                         \n",
       "1 http://pbs.twimg.com/profile_images/918480715158716419/4X8oCbge_normal.jpg"
      ]
     },
     "metadata": {},
     "output_type": "display_data"
    }
   ],
   "source": [
    "head(foxnews)"
   ]
  },
  {
   "cell_type": "code",
   "execution_count": 33,
   "metadata": {
    "collapsed": true
   },
   "outputs": [],
   "source": [
    "## get followers\n",
    "dem <- get_followers(\"msnbc\", n = 1000)"
   ]
  },
  {
   "cell_type": "code",
   "execution_count": 34,
   "metadata": {},
   "outputs": [
    {
     "data": {
      "text/html": [],
      "text/latex": [],
      "text/markdown": [],
      "text/plain": [
       "<0 x 0 matrix>"
      ]
     },
     "metadata": {},
     "output_type": "display_data"
    }
   ],
   "source": [
    "head(dem)"
   ]
  },
  {
   "cell_type": "code",
   "execution_count": 35,
   "metadata": {
    "collapsed": true
   },
   "outputs": [],
   "source": [
    "## get followers\n",
    "gop <- get_followers(\"FoxNews\", n = 1000)"
   ]
  },
  {
   "cell_type": "code",
   "execution_count": 36,
   "metadata": {},
   "outputs": [
    {
     "data": {
      "text/html": [],
      "text/latex": [],
      "text/markdown": [],
      "text/plain": [
       "<0 x 0 matrix>"
      ]
     },
     "metadata": {},
     "output_type": "display_data"
    }
   ],
   "source": [
    "head(gop)"
   ]
  },
  {
   "cell_type": "code",
   "execution_count": 37,
   "metadata": {
    "collapsed": true
   },
   "outputs": [],
   "source": [
    "## get followers\n",
    "mod <- get_followers(\"cnn\", n = 1000)"
   ]
  },
  {
   "cell_type": "code",
   "execution_count": 38,
   "metadata": {},
   "outputs": [
    {
     "data": {
      "text/html": [],
      "text/latex": [],
      "text/markdown": [],
      "text/plain": [
       "<0 x 0 matrix>"
      ]
     },
     "metadata": {},
     "output_type": "display_data"
    }
   ],
   "source": [
    "head(mod)"
   ]
  },
  {
   "cell_type": "code",
   "execution_count": 39,
   "metadata": {},
   "outputs": [
    {
     "ename": "ERROR",
     "evalue": "Error in if (x) {: argument is of length zero\n",
     "output_type": "error",
     "traceback": [
      "Error in if (x) {: argument is of length zero\nTraceback:\n",
      "1. lookup_users(gop$user_id)",
      "2. do.call(\"lookup_users_\", args)",
      "3. lookup_users_(users = NULL, parse = TRUE, token = NULL)",
      "4. .user_lookup(users, token)",
      "5. .ids_type(users)",
      "6. .id_type(x)"
     ]
    }
   ],
   "source": [
    "## get gop users data\n",
    "gop_data <- lookup_users(gop$user_id)"
   ]
  },
  {
   "cell_type": "code",
   "execution_count": null,
   "metadata": {},
   "outputs": [],
   "source": [
    "## get dem users data\n",
    "dem_data <- lookup_users(dem$user_id)"
   ]
  },
  {
   "cell_type": "code",
   "execution_count": null,
   "metadata": {
    "collapsed": true
   },
   "outputs": [],
   "source": [
    "## get mod users data\n",
    "mod_data <- lookup_users(mod$user_id)"
   ]
  },
  {
   "cell_type": "code",
   "execution_count": null,
   "metadata": {},
   "outputs": [],
   "source": [
    "## create \"partisan\" grouping variable\n",
    "gop_data$partisan <- \"gop\"\n",
    "dem_data$partisan <- \"dem\"\n",
    "mod_data$partisan <- \"mod\"\n",
    "\n",
    "## merge into single data frame\n",
    "data <- bind_rows(gop_data, dem_data, mod_data)"
   ]
  },
  {
   "cell_type": "code",
   "execution_count": null,
   "metadata": {},
   "outputs": [],
   "source": [
    "## PRINT: group by partisan and summarise friends and followers counts\n",
    "data %>%\n",
    "    group_by(partisan) %>%\n",
    "    summarise(\n",
    "        friends = mean(friends_count, na.rm = TRUE),\n",
    "        followers = mean(followers_count, na.rm = TRUE))"
   ]
  },
  {
   "cell_type": "code",
   "execution_count": null,
   "metadata": {},
   "outputs": [],
   "source": [
    "## PLOT: group by partisan and summarise integer vars\n",
    "data %>%\n",
    "    mutate(Following = factor(partisan, labels = c(\"MSNBC\", \"FoxNews\", \"CNN\"))) %>%\n",
    "    group_by(Following) %>%\n",
    "    summarise(\n",
    "        friends = mean(friends_count, na.rm = TRUE),\n",
    "        followers = mean(followers_count, na.rm = TRUE)) %>%\n",
    "    gather(var, count, -Following) %>%\n",
    "    ggplot(aes(x = Following, y = count, fill = Following)) + \n",
    "    geom_col() + \n",
    "    facet_wrap(~ var, ncol = 2, scales = \"free_y\") + \n",
    "    theme_bw(base_size = 10) + \n",
    "    theme(plot.title = element_text(face = \"bold\")) + \n",
    "    scale_fill_manual(values = c(FoxNews = \"red2\", MSNBC = \"blue\", CNN = \"purple\")) + \n",
    "    labs(\n",
    "        title = \"User stats for followers of MSNBC, FoxNews, and CNN\",\n",
    "        subtitle = \"Mean number of friends and followers by group (n = 1000)\", \n",
    "        x = NULL, y = \"Count\")"
   ]
  },
  {
   "cell_type": "code",
   "execution_count": null,
   "metadata": {},
   "outputs": [],
   "source": [
    "## function to filter and then randomly sample user IDs\n",
    "rsamp_uq <- function(..., n) {\n",
    "    \n",
    "    dots <- list(...)\n",
    "    \n",
    "    groups <- names(dots)\n",
    "    \n",
    "    user_ids <- lapply(dots, \"[[\", \"user_id\")\n",
    "    \n",
    "    \n",
    "    for (i in seq_along(dots)) {\n",
    "        \n",
    "        ## filter out users found in other groups and protected users\n",
    "        dots[[i]] <- filter(\n",
    "            dots[[i]], \n",
    "            !user_id %in% unlist(user_ids[-i]) & !protected\n",
    "        )\n",
    "        \n",
    "        dots[[i]]$group <- groups[i]\n",
    "    }\n",
    "    \n",
    "    sample_users <- function(x, n) x[x$user_id %in% sample(x$user_id, n), ]\n",
    "        \n",
    "    out <- lapply(dots, sample_users, n)\n",
    "        \n",
    "    bind_rows(out)\n",
    "}\n",
    "    \n",
    "    \n",
    "\n",
    "## filter and sample 5 from each group\n",
    "smps <- rsamp_uq(gop = gop_data, dem = dem_data, mod = mod_data, n = 5)"
   ]
  },
  {
   "cell_type": "code",
   "execution_count": null,
   "metadata": {},
   "outputs": [],
   "source": [
    "## get friends for each sampled user\n",
    "fds <- lapply(smps$user_id, get_friends, verbose = FALSE)"
   ]
  },
  {
   "cell_type": "code",
   "execution_count": null,
   "metadata": {},
   "outputs": [],
   "source": [
    "## add the list of data frames to smps as a list column\n",
    "smps$fds <- I(fds)"
   ]
  },
  {
   "cell_type": "code",
   "execution_count": null,
   "metadata": {
    "collapsed": true
   },
   "outputs": [],
   "source": [
    "## create function to identify the top 3 accounts and then lookup their screen names\n",
    "\n",
    "get_top_names <- function(x, n = 3) {\n",
    "    \n",
    "    tbl <- sort(table(unlist(x)), decreasing = TRUE)\n",
    "    \n",
    "    if (length(tbl) > n) {\n",
    "        tbl <- tbl[seq_len(n)]\n",
    "    }\n",
    "    \n",
    "    sns <- lookup_users(names(tbl))\n",
    "    \n",
    "    sns$screen_name\n",
    "}"
   ]
  },
  {
   "cell_type": "code",
   "execution_count": null,
   "metadata": {},
   "outputs": [],
   "source": [
    "## print out top 3 screen names associated with each group\n",
    "smps %>% \n",
    "    group_by(group) %>%\n",
    "    summarise(\n",
    "        freq = list(get_top_names(fds))\n",
    "    )"
   ]
  }
 ],
 "metadata": {
  "kernelspec": {
   "display_name": "R",
   "language": "R",
   "name": "ir"
  },
  "language_info": {
   "codemirror_mode": "r",
   "file_extension": ".r",
   "mimetype": "text/x-r-source",
   "name": "R",
   "pygments_lexer": "r",
   "version": "3.4.1"
  }
 },
 "nbformat": 4,
 "nbformat_minor": 2
}
