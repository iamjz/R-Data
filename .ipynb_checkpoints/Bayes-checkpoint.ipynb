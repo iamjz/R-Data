{
 "cells": [
  {
   "cell_type": "markdown",
   "metadata": {},
   "source": [
    "### Bayes Theorem\n",
    "\n",
    "The cigar example in the lab illustrates the application of Bayes' theorem with its calculation using the formula. \n",
    "Unfortunately, that calculation is complicated and can cause confusion and/or incorrect substitution of the involved\n",
    "probability values. \n",
    "Fortunately, here is another approach that is much more intuitive and easier:\n",
    "\n",
    "Assume some convenient value for the total of all items involved, \n",
    "then construct a table of rows and columns with the individual cell frequencies based on the known probabilities.\n",
    "\n",
    "For example, let's assume that the adult population in Boone County, Missouri is 100,000. \n",
    "Now we can use the given information to create a table.\n",
    "\n",
    "*Number of males who smoke cigars:* \n",
    "51% of adults are males; so there are 51,000 males. \n",
    "If 9.5% of them smoke, that makes 0.095 x 51,000 = 4845. \n",
    "Then, males who do not smoke are 51,000 - 4845 = 46,155.\n",
    "See the table where these values go.\n",
    "\n",
    "\n",
    "*Number of females who smoke cigars:* 49% of the adults are females, that makes 49,000. \n",
    "1.7% of them are smokers, so 0.017 x 49,000 = 833. \n",
    "The number of females who do not smoke is 49,000 - 833 = 48,167. \n",
    "Again look at the table below. "
   ]
  },
  {
   "cell_type": "code",
   "execution_count": 36,
   "metadata": {},
   "outputs": [
    {
     "data": {
      "text/html": [
       "<table>\n",
       "<thead><tr><th></th><th scope=col>smoker</th><th scope=col>nonsmoker</th><th scope=col>Sum</th></tr></thead>\n",
       "<tbody>\n",
       "\t<tr><th scope=row>male</th><td>4845  </td><td>46155 </td><td> 51000</td></tr>\n",
       "\t<tr><th scope=row>female</th><td> 833  </td><td>48167 </td><td> 49000</td></tr>\n",
       "\t<tr><th scope=row>Sum</th><td>5678  </td><td>94322 </td><td>100000</td></tr>\n",
       "</tbody>\n",
       "</table>\n"
      ],
      "text/latex": [
       "\\begin{tabular}{r|lll}\n",
       "  & smoker & nonsmoker & Sum\\\\\n",
       "\\hline\n",
       "\tmale & 4845   & 46155  &  51000\\\\\n",
       "\tfemale &  833   & 48167  &  49000\\\\\n",
       "\tSum & 5678   & 94322  & 100000\\\\\n",
       "\\end{tabular}\n"
      ],
      "text/markdown": [
       "\n",
       "| <!--/--> | smoker | nonsmoker | Sum | \n",
       "|---|---|---|\n",
       "| male | 4845   | 46155  |  51000 | \n",
       "| female |  833   | 48167  |  49000 | \n",
       "| Sum | 5678   | 94322  | 100000 | \n",
       "\n",
       "\n"
      ],
      "text/plain": [
       "       smoker nonsmoker Sum   \n",
       "male   4845   46155      51000\n",
       "female  833   48167      49000\n",
       "Sum    5678   94322     100000"
      ]
     },
     "metadata": {},
     "output_type": "display_data"
    }
   ],
   "source": [
    "cigar <- matrix(c(4845, 833, 46155, 48167), ncol=2)\n",
    "colnames(cigar) <- c('smoker','nonsmoker')\n",
    "rownames(cigar) <- c('male','female')\n",
    "cigar.table <- as.table(cigar)\n",
    "\n",
    "addmargins(cigar)"
   ]
  },
  {
   "cell_type": "code",
   "execution_count": 37,
   "metadata": {},
   "outputs": [
    {
     "data": {
      "text/html": [
       "<table>\n",
       "<tbody>\n",
       "\t<tr><td>4845 </td><td>46155</td></tr>\n",
       "\t<tr><td> 833 </td><td>48167</td></tr>\n",
       "</tbody>\n",
       "</table>\n"
      ],
      "text/latex": [
       "\\begin{tabular}{ll}\n",
       "\t 4845  & 46155\\\\\n",
       "\t  833  & 48167\\\\\n",
       "\\end{tabular}\n"
      ],
      "text/markdown": [
       "\n",
       "| 4845  | 46155 | \n",
       "|  833  | 48167 | \n",
       "\n",
       "\n"
      ],
      "text/plain": [
       "     [,1] [,2] \n",
       "[1,] 4845 46155\n",
       "[2,]  833 48167"
      ]
     },
     "metadata": {},
     "output_type": "display_data"
    }
   ],
   "source": [
    "c <- matrix(c(4845, 833, 46155, 48167), ncol = 2)\n",
    "c"
   ]
  },
  {
   "cell_type": "code",
   "execution_count": 38,
   "metadata": {
    "collapsed": true
   },
   "outputs": [],
   "source": [
    "colnames(c) <- c(\"smoker\", \"nonsmoker\")"
   ]
  },
  {
   "cell_type": "code",
   "execution_count": 39,
   "metadata": {},
   "outputs": [
    {
     "data": {
      "text/html": [
       "<table>\n",
       "<thead><tr><th scope=col>smoker</th><th scope=col>nonsmoker</th></tr></thead>\n",
       "<tbody>\n",
       "\t<tr><td>4845 </td><td>46155</td></tr>\n",
       "\t<tr><td> 833 </td><td>48167</td></tr>\n",
       "</tbody>\n",
       "</table>\n"
      ],
      "text/latex": [
       "\\begin{tabular}{ll}\n",
       " smoker & nonsmoker\\\\\n",
       "\\hline\n",
       "\t 4845  & 46155\\\\\n",
       "\t  833  & 48167\\\\\n",
       "\\end{tabular}\n"
      ],
      "text/markdown": [
       "\n",
       "smoker | nonsmoker | \n",
       "|---|---|\n",
       "| 4845  | 46155 | \n",
       "|  833  | 48167 | \n",
       "\n",
       "\n"
      ],
      "text/plain": [
       "     smoker nonsmoker\n",
       "[1,] 4845   46155    \n",
       "[2,]  833   48167    "
      ]
     },
     "metadata": {},
     "output_type": "display_data"
    }
   ],
   "source": [
    "c"
   ]
  },
  {
   "cell_type": "code",
   "execution_count": 40,
   "metadata": {},
   "outputs": [
    {
     "data": {
      "text/html": [
       "<table>\n",
       "<thead><tr><th></th><th scope=col>smoker</th><th scope=col>nonsmoker</th></tr></thead>\n",
       "<tbody>\n",
       "\t<tr><th scope=row>male</th><td>4845 </td><td>46155</td></tr>\n",
       "\t<tr><th scope=row>female</th><td> 833 </td><td>48167</td></tr>\n",
       "</tbody>\n",
       "</table>\n"
      ],
      "text/latex": [
       "\\begin{tabular}{r|ll}\n",
       "  & smoker & nonsmoker\\\\\n",
       "\\hline\n",
       "\tmale & 4845  & 46155\\\\\n",
       "\tfemale &  833  & 48167\\\\\n",
       "\\end{tabular}\n"
      ],
      "text/markdown": [
       "\n",
       "| <!--/--> | smoker | nonsmoker | \n",
       "|---|---|\n",
       "| male | 4845  | 46155 | \n",
       "| female |  833  | 48167 | \n",
       "\n",
       "\n"
      ],
      "text/plain": [
       "       smoker nonsmoker\n",
       "male   4845   46155    \n",
       "female  833   48167    "
      ]
     },
     "metadata": {},
     "output_type": "display_data"
    }
   ],
   "source": [
    "rownames(c) <- c(\"male\", \"female\")\n",
    "c"
   ]
  },
  {
   "cell_type": "code",
   "execution_count": 41,
   "metadata": {},
   "outputs": [
    {
     "data": {
      "text/html": [
       "<table>\n",
       "<thead><tr><th></th><th scope=col>smoker</th><th scope=col>nonsmoker</th><th scope=col>Sum</th></tr></thead>\n",
       "<tbody>\n",
       "\t<tr><th scope=row>male</th><td>4845  </td><td>46155 </td><td> 51000</td></tr>\n",
       "\t<tr><th scope=row>female</th><td> 833  </td><td>48167 </td><td> 49000</td></tr>\n",
       "\t<tr><th scope=row>Sum</th><td>5678  </td><td>94322 </td><td>100000</td></tr>\n",
       "</tbody>\n",
       "</table>\n"
      ],
      "text/latex": [
       "\\begin{tabular}{r|lll}\n",
       "  & smoker & nonsmoker & Sum\\\\\n",
       "\\hline\n",
       "\tmale & 4845   & 46155  &  51000\\\\\n",
       "\tfemale &  833   & 48167  &  49000\\\\\n",
       "\tSum & 5678   & 94322  & 100000\\\\\n",
       "\\end{tabular}\n"
      ],
      "text/markdown": [
       "\n",
       "| <!--/--> | smoker | nonsmoker | Sum | \n",
       "|---|---|---|\n",
       "| male | 4845   | 46155  |  51000 | \n",
       "| female |  833   | 48167  |  49000 | \n",
       "| Sum | 5678   | 94322  | 100000 | \n",
       "\n",
       "\n"
      ],
      "text/plain": [
       "       smoker nonsmoker Sum   \n",
       "male   4845   46155      51000\n",
       "female  833   48167      49000\n",
       "Sum    5678   94322     100000"
      ]
     },
     "metadata": {},
     "output_type": "display_data"
    }
   ],
   "source": [
    "addmargins(c)"
   ]
  },
  {
   "cell_type": "markdown",
   "metadata": {},
   "source": [
    "The above table involves simple arithmetic. \n",
    "Simply partition the assumed population into the different cell categories by finding suitable percentages.\n",
    "\n",
    "Now we can easily address the key question as follows: \n",
    "To find the probability of getting a male subject, given that the subject smokes cigars, \n",
    "simply use the same conditional probability described before. \n",
    "\n",
    "To find the probability of getting a male given that the subject smokes, \n",
    "restrict the table to the column of cigar smokers, \n",
    "then find the probability of getting a male in that column.\n",
    "Among the 5678 cigar smokers, there are 4845 males, so the probability we seek is 4845/5678 = 0.85329341. \n",
    "That is, $P(M | C)$ = 4845/5678 = 0.85329341 = 0.853 (rounded).\n",
    "\n",
    "The actual population of Boone County, Missouri is 170,733 (as of 2013).\n",
    "Create the above table with actual population values for the given percentages and find the actual $P(M | C)$."
   ]
  },
  {
   "cell_type": "code",
   "execution_count": 42,
   "metadata": {
    "collapsed": true
   },
   "outputs": [],
   "source": [
    "boone <- 170733"
   ]
  },
  {
   "cell_type": "code",
   "execution_count": 43,
   "metadata": {
    "collapsed": true
   },
   "outputs": [],
   "source": [
    "male_boone_pct <- 0.51\n",
    "female_boone_pct <- 0.49"
   ]
  },
  {
   "cell_type": "code",
   "execution_count": 44,
   "metadata": {},
   "outputs": [
    {
     "data": {
      "text/html": [
       "87073.83"
      ],
      "text/latex": [
       "87073.83"
      ],
      "text/markdown": [
       "87073.83"
      ],
      "text/plain": [
       "[1] 87073.83"
      ]
     },
     "metadata": {},
     "output_type": "display_data"
    }
   ],
   "source": [
    "male_boone <- (male_boone_pct * boone)\n",
    "male_boone"
   ]
  },
  {
   "cell_type": "code",
   "execution_count": 45,
   "metadata": {},
   "outputs": [
    {
     "data": {
      "text/html": [
       "83659.17"
      ],
      "text/latex": [
       "83659.17"
      ],
      "text/markdown": [
       "83659.17"
      ],
      "text/plain": [
       "[1] 83659.17"
      ]
     },
     "metadata": {},
     "output_type": "display_data"
    }
   ],
   "source": [
    "female_boone <- (female_boone_pct * boone)\n",
    "female_boone"
   ]
  },
  {
   "cell_type": "code",
   "execution_count": 46,
   "metadata": {
    "collapsed": true
   },
   "outputs": [],
   "source": [
    "male_smoke_pct <- 0.095\n",
    "female_smoke_pct <- 0.017"
   ]
  },
  {
   "cell_type": "code",
   "execution_count": 47,
   "metadata": {},
   "outputs": [
    {
     "data": {
      "text/html": [
       "8272.01385"
      ],
      "text/latex": [
       "8272.01385"
      ],
      "text/markdown": [
       "8272.01385"
      ],
      "text/plain": [
       "[1] 8272.014"
      ]
     },
     "metadata": {},
     "output_type": "display_data"
    }
   ],
   "source": [
    "male_smoke_boone <- (male_smoke_pct * male_boone)\n",
    "male_smoke_boone"
   ]
  },
  {
   "cell_type": "code",
   "execution_count": 48,
   "metadata": {},
   "outputs": [
    {
     "data": {
      "text/html": [
       "78801.81615"
      ],
      "text/latex": [
       "78801.81615"
      ],
      "text/markdown": [
       "78801.81615"
      ],
      "text/plain": [
       "[1] 78801.82"
      ]
     },
     "metadata": {},
     "output_type": "display_data"
    }
   ],
   "source": [
    "male_nonsmoke_boone <- (1-male_smoke_pct) * male_boone\n",
    "male_nonsmoke_boone"
   ]
  },
  {
   "cell_type": "code",
   "execution_count": 49,
   "metadata": {},
   "outputs": [
    {
     "data": {
      "text/html": [
       "1422.20589"
      ],
      "text/latex": [
       "1422.20589"
      ],
      "text/markdown": [
       "1422.20589"
      ],
      "text/plain": [
       "[1] 1422.206"
      ]
     },
     "metadata": {},
     "output_type": "display_data"
    }
   ],
   "source": [
    "female_smoke_boone <- (female_smoke_pct * female_boone)\n",
    "female_smoke_boone"
   ]
  },
  {
   "cell_type": "code",
   "execution_count": 50,
   "metadata": {},
   "outputs": [
    {
     "data": {
      "text/html": [
       "82236.96411"
      ],
      "text/latex": [
       "82236.96411"
      ],
      "text/markdown": [
       "82236.96411"
      ],
      "text/plain": [
       "[1] 82236.96"
      ]
     },
     "metadata": {},
     "output_type": "display_data"
    }
   ],
   "source": [
    "female_nonsmoke_boone <- (1 - female_smoke_pct) * female_boone\n",
    "female_nonsmoke_boone"
   ]
  },
  {
   "cell_type": "code",
   "execution_count": 51,
   "metadata": {},
   "outputs": [
    {
     "data": {
      "text/html": [
       "<table>\n",
       "<tbody>\n",
       "\t<tr><td>8272.014</td><td>78801.82</td></tr>\n",
       "\t<tr><td>1422.206</td><td>82236.96</td></tr>\n",
       "</tbody>\n",
       "</table>\n"
      ],
      "text/latex": [
       "\\begin{tabular}{ll}\n",
       "\t 8272.014 & 78801.82\\\\\n",
       "\t 1422.206 & 82236.96\\\\\n",
       "\\end{tabular}\n"
      ],
      "text/markdown": [
       "\n",
       "| 8272.014 | 78801.82 | \n",
       "| 1422.206 | 82236.96 | \n",
       "\n",
       "\n"
      ],
      "text/plain": [
       "     [,1]     [,2]    \n",
       "[1,] 8272.014 78801.82\n",
       "[2,] 1422.206 82236.96"
      ]
     },
     "metadata": {},
     "output_type": "display_data"
    }
   ],
   "source": [
    "# Add your code here\n",
    "# --------------------\n",
    "\n",
    "boone_smoke_table <- matrix(c(male_smoke_boone, female_smoke_boone, male_nonsmoke_boone, female_nonsmoke_boone), ncol = 2)\n",
    "boone_smoke_table"
   ]
  },
  {
   "cell_type": "code",
   "execution_count": 52,
   "metadata": {
    "collapsed": true
   },
   "outputs": [],
   "source": [
    "colnames(boone_smoke_table) <- c(\"Smoker\", \"Nonsmoker\")\n",
    "rownames(boone_smoke_table) <- c(\"Male\", \"Female\")"
   ]
  },
  {
   "cell_type": "code",
   "execution_count": 53,
   "metadata": {
    "collapsed": true
   },
   "outputs": [],
   "source": [
    "boone_smoke_table.table <- as.table(boone_smoke_table)"
   ]
  },
  {
   "cell_type": "code",
   "execution_count": 54,
   "metadata": {},
   "outputs": [
    {
     "data": {
      "text/html": [
       "<table>\n",
       "<thead><tr><th></th><th scope=col>Smoker</th><th scope=col>Nonsmoker</th><th scope=col>Sum</th></tr></thead>\n",
       "<tbody>\n",
       "\t<tr><th scope=row>Male</th><td>8272.014 </td><td> 78801.82</td><td> 87073.83</td></tr>\n",
       "\t<tr><th scope=row>Female</th><td>1422.206 </td><td> 82236.96</td><td> 83659.17</td></tr>\n",
       "\t<tr><th scope=row>Sum</th><td>9694.220 </td><td>161038.78</td><td>170733.00</td></tr>\n",
       "</tbody>\n",
       "</table>\n"
      ],
      "text/latex": [
       "\\begin{tabular}{r|lll}\n",
       "  & Smoker & Nonsmoker & Sum\\\\\n",
       "\\hline\n",
       "\tMale & 8272.014  &  78801.82 &  87073.83\\\\\n",
       "\tFemale & 1422.206  &  82236.96 &  83659.17\\\\\n",
       "\tSum & 9694.220  & 161038.78 & 170733.00\\\\\n",
       "\\end{tabular}\n"
      ],
      "text/markdown": [
       "\n",
       "| <!--/--> | Smoker | Nonsmoker | Sum | \n",
       "|---|---|---|\n",
       "| Male | 8272.014  |  78801.82 |  87073.83 | \n",
       "| Female | 1422.206  |  82236.96 |  83659.17 | \n",
       "| Sum | 9694.220  | 161038.78 | 170733.00 | \n",
       "\n",
       "\n"
      ],
      "text/plain": [
       "       Smoker   Nonsmoker Sum      \n",
       "Male   8272.014  78801.82  87073.83\n",
       "Female 1422.206  82236.96  83659.17\n",
       "Sum    9694.220 161038.78 170733.00"
      ]
     },
     "metadata": {},
     "output_type": "display_data"
    }
   ],
   "source": [
    "addmargins(boone_smoke_table) \n",
    "\n",
    "# total = 170,733 "
   ]
  },
  {
   "cell_type": "code",
   "execution_count": 55,
   "metadata": {},
   "outputs": [
    {
     "data": {
      "text/html": [
       "<table>\n",
       "<thead><tr><th></th><th scope=col>Smoker</th><th scope=col>Nonsmoker</th></tr></thead>\n",
       "<tbody>\n",
       "\t<tr><th scope=row>Male</th><td>8272.014</td><td>78801.82</td></tr>\n",
       "\t<tr><th scope=row>Female</th><td>1422.206</td><td>82236.96</td></tr>\n",
       "</tbody>\n",
       "</table>\n"
      ],
      "text/latex": [
       "\\begin{tabular}{r|ll}\n",
       "  & Smoker & Nonsmoker\\\\\n",
       "\\hline\n",
       "\tMale & 8272.014 & 78801.82\\\\\n",
       "\tFemale & 1422.206 & 82236.96\\\\\n",
       "\\end{tabular}\n"
      ],
      "text/markdown": [
       "\n",
       "| <!--/--> | Smoker | Nonsmoker | \n",
       "|---|---|\n",
       "| Male | 8272.014 | 78801.82 | \n",
       "| Female | 1422.206 | 82236.96 | \n",
       "\n",
       "\n"
      ],
      "text/plain": [
       "       Smoker   Nonsmoker\n",
       "Male   8272.014 78801.82 \n",
       "Female 1422.206 82236.96 "
      ]
     },
     "metadata": {},
     "output_type": "display_data"
    }
   ],
   "source": [
    "boone_smoke_table"
   ]
  },
  {
   "cell_type": "code",
   "execution_count": 56,
   "metadata": {},
   "outputs": [
    {
     "data": {
      "text/html": [
       "<table>\n",
       "<thead><tr><th></th><th scope=col>Smoker</th><th scope=col>Nonsmoker</th><th scope=col>Sum</th></tr></thead>\n",
       "<tbody>\n",
       "\t<tr><th scope=row>Male</th><td>0.04845</td><td>0.46155</td><td>0.51   </td></tr>\n",
       "\t<tr><th scope=row>Female</th><td>0.00833</td><td>0.48167</td><td>0.49   </td></tr>\n",
       "\t<tr><th scope=row>Sum</th><td>0.05678</td><td>0.94322</td><td>1.00   </td></tr>\n",
       "</tbody>\n",
       "</table>\n"
      ],
      "text/latex": [
       "\\begin{tabular}{r|lll}\n",
       "  & Smoker & Nonsmoker & Sum\\\\\n",
       "\\hline\n",
       "\tMale & 0.04845 & 0.46155 & 0.51   \\\\\n",
       "\tFemale & 0.00833 & 0.48167 & 0.49   \\\\\n",
       "\tSum & 0.05678 & 0.94322 & 1.00   \\\\\n",
       "\\end{tabular}\n"
      ],
      "text/markdown": [
       "\n",
       "| <!--/--> | Smoker | Nonsmoker | Sum | \n",
       "|---|---|---|\n",
       "| Male | 0.04845 | 0.46155 | 0.51    | \n",
       "| Female | 0.00833 | 0.48167 | 0.49    | \n",
       "| Sum | 0.05678 | 0.94322 | 1.00    | \n",
       "\n",
       "\n"
      ],
      "text/plain": [
       "       Smoker  Nonsmoker Sum \n",
       "Male   0.04845 0.46155   0.51\n",
       "Female 0.00833 0.48167   0.49\n",
       "Sum    0.05678 0.94322   1.00"
      ]
     },
     "metadata": {},
     "output_type": "display_data"
    }
   ],
   "source": [
    "addmargins(prop.table(boone_smoke_table))"
   ]
  },
  {
   "cell_type": "code",
   "execution_count": 57,
   "metadata": {},
   "outputs": [
    {
     "data": {
      "text/html": [
       "<table>\n",
       "<thead><tr><th></th><th scope=col>Smoker</th><th scope=col>Nonsmoker</th><th scope=col>Sum</th></tr></thead>\n",
       "<tbody>\n",
       "\t<tr><th scope=row>Male</th><td>0.095</td><td>0.905</td><td>1    </td></tr>\n",
       "\t<tr><th scope=row>Female</th><td>0.017</td><td>0.983</td><td>1    </td></tr>\n",
       "\t<tr><th scope=row>Sum</th><td>0.112</td><td>1.888</td><td>2    </td></tr>\n",
       "</tbody>\n",
       "</table>\n"
      ],
      "text/latex": [
       "\\begin{tabular}{r|lll}\n",
       "  & Smoker & Nonsmoker & Sum\\\\\n",
       "\\hline\n",
       "\tMale & 0.095 & 0.905 & 1    \\\\\n",
       "\tFemale & 0.017 & 0.983 & 1    \\\\\n",
       "\tSum & 0.112 & 1.888 & 2    \\\\\n",
       "\\end{tabular}\n"
      ],
      "text/markdown": [
       "\n",
       "| <!--/--> | Smoker | Nonsmoker | Sum | \n",
       "|---|---|---|\n",
       "| Male | 0.095 | 0.905 | 1     | \n",
       "| Female | 0.017 | 0.983 | 1     | \n",
       "| Sum | 0.112 | 1.888 | 2     | \n",
       "\n",
       "\n"
      ],
      "text/plain": [
       "       Smoker Nonsmoker Sum\n",
       "Male   0.095  0.905     1  \n",
       "Female 0.017  0.983     1  \n",
       "Sum    0.112  1.888     2  "
      ]
     },
     "metadata": {},
     "output_type": "display_data"
    }
   ],
   "source": [
    "p1 <- prop.table(boone_smoke_table, 1)\n",
    "addmargins(p1)"
   ]
  },
  {
   "cell_type": "code",
   "execution_count": 58,
   "metadata": {},
   "outputs": [
    {
     "data": {
      "text/html": [
       "<table>\n",
       "<thead><tr><th></th><th scope=col>Smoker</th><th scope=col>Nonsmoker</th><th scope=col>Sum</th></tr></thead>\n",
       "<tbody>\n",
       "\t<tr><th scope=row>Male</th><td>0.8532934</td><td>0.4893344</td><td>1.3426278</td></tr>\n",
       "\t<tr><th scope=row>Female</th><td>0.1467066</td><td>0.5106656</td><td>0.6573722</td></tr>\n",
       "\t<tr><th scope=row>Sum</th><td>1.0000000</td><td>1.0000000</td><td>2.0000000</td></tr>\n",
       "</tbody>\n",
       "</table>\n"
      ],
      "text/latex": [
       "\\begin{tabular}{r|lll}\n",
       "  & Smoker & Nonsmoker & Sum\\\\\n",
       "\\hline\n",
       "\tMale & 0.8532934 & 0.4893344 & 1.3426278\\\\\n",
       "\tFemale & 0.1467066 & 0.5106656 & 0.6573722\\\\\n",
       "\tSum & 1.0000000 & 1.0000000 & 2.0000000\\\\\n",
       "\\end{tabular}\n"
      ],
      "text/markdown": [
       "\n",
       "| <!--/--> | Smoker | Nonsmoker | Sum | \n",
       "|---|---|---|\n",
       "| Male | 0.8532934 | 0.4893344 | 1.3426278 | \n",
       "| Female | 0.1467066 | 0.5106656 | 0.6573722 | \n",
       "| Sum | 1.0000000 | 1.0000000 | 2.0000000 | \n",
       "\n",
       "\n"
      ],
      "text/plain": [
       "       Smoker    Nonsmoker Sum      \n",
       "Male   0.8532934 0.4893344 1.3426278\n",
       "Female 0.1467066 0.5106656 0.6573722\n",
       "Sum    1.0000000 1.0000000 2.0000000"
      ]
     },
     "metadata": {},
     "output_type": "display_data"
    }
   ],
   "source": [
    "p2 <- prop.table(boone_smoke_table, 2)\n",
    "addmargins(p2)"
   ]
  },
  {
   "cell_type": "code",
   "execution_count": 59,
   "metadata": {},
   "outputs": [
    {
     "data": {
      "text/html": [
       "<table>\n",
       "<thead><tr><th></th><th scope=col>Smoker</th><th scope=col>Nonsmoker</th><th scope=col>Sum</th></tr></thead>\n",
       "<tbody>\n",
       "\t<tr><th scope=row>Male</th><td>8272.014 </td><td> 78801.82</td><td> 87073.83</td></tr>\n",
       "\t<tr><th scope=row>Female</th><td>1422.206 </td><td> 82236.96</td><td> 83659.17</td></tr>\n",
       "\t<tr><th scope=row>Sum</th><td>9694.220 </td><td>161038.78</td><td>170733.00</td></tr>\n",
       "</tbody>\n",
       "</table>\n"
      ],
      "text/latex": [
       "\\begin{tabular}{r|lll}\n",
       "  & Smoker & Nonsmoker & Sum\\\\\n",
       "\\hline\n",
       "\tMale & 8272.014  &  78801.82 &  87073.83\\\\\n",
       "\tFemale & 1422.206  &  82236.96 &  83659.17\\\\\n",
       "\tSum & 9694.220  & 161038.78 & 170733.00\\\\\n",
       "\\end{tabular}\n"
      ],
      "text/markdown": [
       "\n",
       "| <!--/--> | Smoker | Nonsmoker | Sum | \n",
       "|---|---|---|\n",
       "| Male | 8272.014  |  78801.82 |  87073.83 | \n",
       "| Female | 1422.206  |  82236.96 |  83659.17 | \n",
       "| Sum | 9694.220  | 161038.78 | 170733.00 | \n",
       "\n",
       "\n"
      ],
      "text/plain": [
       "       Smoker   Nonsmoker Sum      \n",
       "Male   8272.014  78801.82  87073.83\n",
       "Female 1422.206  82236.96  83659.17\n",
       "Sum    9694.220 161038.78 170733.00"
      ]
     },
     "metadata": {},
     "output_type": "display_data"
    }
   ],
   "source": [
    "addmargins(boone_smoke_table)"
   ]
  },
  {
   "cell_type": "code",
   "execution_count": 60,
   "metadata": {},
   "outputs": [
    {
     "data": {
      "text/html": [
       "0.853293405761371"
      ],
      "text/latex": [
       "0.853293405761371"
      ],
      "text/markdown": [
       "0.853293405761371"
      ],
      "text/plain": [
       "[1] 0.8532934"
      ]
     },
     "metadata": {},
     "output_type": "display_data"
    }
   ],
   "source": [
    "# P(M|C)\n",
    "# probability of male given cigar smoker\n",
    "\n",
    "# 85.3%\n",
    "\n",
    "(8272.014)/(9694.220)"
   ]
  },
  {
   "cell_type": "markdown",
   "metadata": {},
   "source": [
    "a) Now, using the same table, randomly select an individual, what is the prior probability that the selected person is a female?\n",
    "\n",
    "b) You later learn that the randomly selected person was smoking a cigar. \n",
    "Use this additional information to find the posterior probability that the selected person is a female."
   ]
  },
  {
   "cell_type": "code",
   "execution_count": 61,
   "metadata": {},
   "outputs": [
    {
     "data": {
      "text/html": [
       "0.49"
      ],
      "text/latex": [
       "0.49"
      ],
      "text/markdown": [
       "0.49"
      ],
      "text/plain": [
       "[1] 0.49"
      ]
     },
     "metadata": {},
     "output_type": "display_data"
    }
   ],
   "source": [
    "# A\n",
    "\n",
    "(83659.17) / (170733.00)"
   ]
  },
  {
   "cell_type": "code",
   "execution_count": 62,
   "metadata": {},
   "outputs": [
    {
     "data": {
      "text/html": [
       "0.146706594238629"
      ],
      "text/latex": [
       "0.146706594238629"
      ],
      "text/markdown": [
       "0.146706594238629"
      ],
      "text/plain": [
       "[1] 0.1467066"
      ]
     },
     "metadata": {},
     "output_type": "display_data"
    }
   ],
   "source": [
    "# B\n",
    "\n",
    "# 0.146\n",
    "\n",
    "(1422.206) / (9694.220)\n"
   ]
  },
  {
   "cell_type": "markdown",
   "metadata": {},
   "source": [
    "Load the framingham data from the directory '/datasets/framingham'."
   ]
  },
  {
   "cell_type": "code",
   "execution_count": 63,
   "metadata": {},
   "outputs": [
    {
     "data": {
      "text/html": [
       "<table>\n",
       "<thead><tr><th scope=col>male</th><th scope=col>age</th><th scope=col>education</th><th scope=col>currentSmoker</th><th scope=col>cigsPerDay</th><th scope=col>BPMeds</th><th scope=col>prevalentStroke</th><th scope=col>prevalentHyp</th><th scope=col>diabetes</th><th scope=col>totChol</th><th scope=col>sysBP</th><th scope=col>diaBP</th><th scope=col>BMI</th><th scope=col>heartRate</th><th scope=col>glucose</th><th scope=col>TenYearCHD</th></tr></thead>\n",
       "<tbody>\n",
       "\t<tr><td>1    </td><td>39   </td><td>4    </td><td>0    </td><td> 0   </td><td>0    </td><td>0    </td><td>0    </td><td>0    </td><td>195  </td><td>106.0</td><td> 70  </td><td>26.97</td><td>80   </td><td> 77  </td><td>0    </td></tr>\n",
       "\t<tr><td>0    </td><td>46   </td><td>2    </td><td>0    </td><td> 0   </td><td>0    </td><td>0    </td><td>0    </td><td>0    </td><td>250  </td><td>121.0</td><td> 81  </td><td>28.73</td><td>95   </td><td> 76  </td><td>0    </td></tr>\n",
       "\t<tr><td>1    </td><td>48   </td><td>1    </td><td>1    </td><td>20   </td><td>0    </td><td>0    </td><td>0    </td><td>0    </td><td>245  </td><td>127.5</td><td> 80  </td><td>25.34</td><td>75   </td><td> 70  </td><td>0    </td></tr>\n",
       "\t<tr><td>0    </td><td>61   </td><td>3    </td><td>1    </td><td>30   </td><td>0    </td><td>0    </td><td>1    </td><td>0    </td><td>225  </td><td>150.0</td><td> 95  </td><td>28.58</td><td>65   </td><td>103  </td><td>1    </td></tr>\n",
       "\t<tr><td>0    </td><td>46   </td><td>3    </td><td>1    </td><td>23   </td><td>0    </td><td>0    </td><td>0    </td><td>0    </td><td>285  </td><td>130.0</td><td> 84  </td><td>23.10</td><td>85   </td><td> 85  </td><td>0    </td></tr>\n",
       "\t<tr><td>0    </td><td>43   </td><td>2    </td><td>0    </td><td> 0   </td><td>0    </td><td>0    </td><td>1    </td><td>0    </td><td>228  </td><td>180.0</td><td>110  </td><td>30.30</td><td>77   </td><td> 99  </td><td>0    </td></tr>\n",
       "</tbody>\n",
       "</table>\n"
      ],
      "text/latex": [
       "\\begin{tabular}{r|llllllllllllllll}\n",
       " male & age & education & currentSmoker & cigsPerDay & BPMeds & prevalentStroke & prevalentHyp & diabetes & totChol & sysBP & diaBP & BMI & heartRate & glucose & TenYearCHD\\\\\n",
       "\\hline\n",
       "\t 1     & 39    & 4     & 0     &  0    & 0     & 0     & 0     & 0     & 195   & 106.0 &  70   & 26.97 & 80    &  77   & 0    \\\\\n",
       "\t 0     & 46    & 2     & 0     &  0    & 0     & 0     & 0     & 0     & 250   & 121.0 &  81   & 28.73 & 95    &  76   & 0    \\\\\n",
       "\t 1     & 48    & 1     & 1     & 20    & 0     & 0     & 0     & 0     & 245   & 127.5 &  80   & 25.34 & 75    &  70   & 0    \\\\\n",
       "\t 0     & 61    & 3     & 1     & 30    & 0     & 0     & 1     & 0     & 225   & 150.0 &  95   & 28.58 & 65    & 103   & 1    \\\\\n",
       "\t 0     & 46    & 3     & 1     & 23    & 0     & 0     & 0     & 0     & 285   & 130.0 &  84   & 23.10 & 85    &  85   & 0    \\\\\n",
       "\t 0     & 43    & 2     & 0     &  0    & 0     & 0     & 1     & 0     & 228   & 180.0 & 110   & 30.30 & 77    &  99   & 0    \\\\\n",
       "\\end{tabular}\n"
      ],
      "text/markdown": [
       "\n",
       "male | age | education | currentSmoker | cigsPerDay | BPMeds | prevalentStroke | prevalentHyp | diabetes | totChol | sysBP | diaBP | BMI | heartRate | glucose | TenYearCHD | \n",
       "|---|---|---|---|---|---|\n",
       "| 1     | 39    | 4     | 0     |  0    | 0     | 0     | 0     | 0     | 195   | 106.0 |  70   | 26.97 | 80    |  77   | 0     | \n",
       "| 0     | 46    | 2     | 0     |  0    | 0     | 0     | 0     | 0     | 250   | 121.0 |  81   | 28.73 | 95    |  76   | 0     | \n",
       "| 1     | 48    | 1     | 1     | 20    | 0     | 0     | 0     | 0     | 245   | 127.5 |  80   | 25.34 | 75    |  70   | 0     | \n",
       "| 0     | 61    | 3     | 1     | 30    | 0     | 0     | 1     | 0     | 225   | 150.0 |  95   | 28.58 | 65    | 103   | 1     | \n",
       "| 0     | 46    | 3     | 1     | 23    | 0     | 0     | 0     | 0     | 285   | 130.0 |  84   | 23.10 | 85    |  85   | 0     | \n",
       "| 0     | 43    | 2     | 0     |  0    | 0     | 0     | 1     | 0     | 228   | 180.0 | 110   | 30.30 | 77    |  99   | 0     | \n",
       "\n",
       "\n"
      ],
      "text/plain": [
       "  male age education currentSmoker cigsPerDay BPMeds prevalentStroke\n",
       "1 1    39  4         0              0         0      0              \n",
       "2 0    46  2         0              0         0      0              \n",
       "3 1    48  1         1             20         0      0              \n",
       "4 0    61  3         1             30         0      0              \n",
       "5 0    46  3         1             23         0      0              \n",
       "6 0    43  2         0              0         0      0              \n",
       "  prevalentHyp diabetes totChol sysBP diaBP BMI   heartRate glucose TenYearCHD\n",
       "1 0            0        195     106.0  70   26.97 80         77     0         \n",
       "2 0            0        250     121.0  81   28.73 95         76     0         \n",
       "3 0            0        245     127.5  80   25.34 75         70     0         \n",
       "4 1            0        225     150.0  95   28.58 65        103     1         \n",
       "5 0            0        285     130.0  84   23.10 85         85     0         \n",
       "6 1            0        228     180.0 110   30.30 77         99     0         "
      ]
     },
     "metadata": {},
     "output_type": "display_data"
    }
   ],
   "source": [
    "framingham_data <- read.csv(\"datasets/framingham/framingham.csv\")\n",
    "head(framingham_data)"
   ]
  },
  {
   "cell_type": "markdown",
   "metadata": {},
   "source": [
    "Two-way table from this data set with diabetes condition in the columns and gender in the rows. Use addmargins to add totals.\n"
   ]
  },
  {
   "cell_type": "code",
   "execution_count": 64,
   "metadata": {},
   "outputs": [
    {
     "data": {
      "text/html": [
       "<table>\n",
       "<thead><tr><th></th><th scope=col>nondiabetes</th><th scope=col>diabetes</th><th scope=col>Sum</th></tr></thead>\n",
       "<tbody>\n",
       "\t<tr><th scope=row>female</th><td>2363</td><td> 57 </td><td>2420</td></tr>\n",
       "\t<tr><th scope=row>male</th><td>1768</td><td> 52 </td><td>1820</td></tr>\n",
       "\t<tr><th scope=row>Sum</th><td>4131</td><td>109 </td><td>4240</td></tr>\n",
       "</tbody>\n",
       "</table>\n"
      ],
      "text/latex": [
       "\\begin{tabular}{r|lll}\n",
       "  & nondiabetes & diabetes & Sum\\\\\n",
       "\\hline\n",
       "\tfemale & 2363 &  57  & 2420\\\\\n",
       "\tmale & 1768 &  52  & 1820\\\\\n",
       "\tSum & 4131 & 109  & 4240\\\\\n",
       "\\end{tabular}\n"
      ],
      "text/markdown": [
       "\n",
       "| <!--/--> | nondiabetes | diabetes | Sum | \n",
       "|---|---|---|\n",
       "| female | 2363 |  57  | 2420 | \n",
       "| male | 1768 |  52  | 1820 | \n",
       "| Sum | 4131 | 109  | 4240 | \n",
       "\n",
       "\n"
      ],
      "text/plain": [
       "        diabetes\n",
       "male     nondiabetes diabetes Sum \n",
       "  female 2363         57      2420\n",
       "  male   1768         52      1820\n",
       "  Sum    4131        109      4240"
      ]
     },
     "metadata": {},
     "output_type": "display_data"
    }
   ],
   "source": [
    "dia <- with(framingham_data, table(male,diabetes))\n",
    "colnames(dia) <- c('nondiabetes','diabetes')\n",
    "rownames(dia) <- c('female','male')\n",
    "addmargins(dia)"
   ]
  },
  {
   "cell_type": "markdown",
   "metadata": {},
   "source": [
    "What is the probability for a female to have diabetes?\n",
    "Let **d** be an event of diabetes and **d'** be event of nondiabetes.\n",
    "Similarly let g be the event of male and g' be event of female. \n",
    "Find $P(d | g')$ using Bayes formula.\n",
    "\n",
    "            \n",
    "                    p(d) * p(g'/d)\n",
    "     p(d/g') =  -------------------------------------\n",
    "               [p(d) * p(g'/d)] + [ p(d') * p(g'/d')]\n",
    "            "
   ]
  },
  {
   "cell_type": "code",
   "execution_count": 65,
   "metadata": {},
   "outputs": [
    {
     "data": {
      "text/html": [
       "<table>\n",
       "<thead><tr><th></th><th scope=col>nondiabetes</th><th scope=col>diabetes</th><th scope=col>Sum</th></tr></thead>\n",
       "<tbody>\n",
       "\t<tr><th scope=row>female</th><td>0.5573113 </td><td>0.01344340</td><td>0.5707547 </td></tr>\n",
       "\t<tr><th scope=row>male</th><td>0.4169811 </td><td>0.01226415</td><td>0.4292453 </td></tr>\n",
       "\t<tr><th scope=row>Sum</th><td>0.9742925 </td><td>0.02570755</td><td>1.0000000 </td></tr>\n",
       "</tbody>\n",
       "</table>\n"
      ],
      "text/latex": [
       "\\begin{tabular}{r|lll}\n",
       "  & nondiabetes & diabetes & Sum\\\\\n",
       "\\hline\n",
       "\tfemale & 0.5573113  & 0.01344340 & 0.5707547 \\\\\n",
       "\tmale & 0.4169811  & 0.01226415 & 0.4292453 \\\\\n",
       "\tSum & 0.9742925  & 0.02570755 & 1.0000000 \\\\\n",
       "\\end{tabular}\n"
      ],
      "text/markdown": [
       "\n",
       "| <!--/--> | nondiabetes | diabetes | Sum | \n",
       "|---|---|---|\n",
       "| female | 0.5573113  | 0.01344340 | 0.5707547  | \n",
       "| male | 0.4169811  | 0.01226415 | 0.4292453  | \n",
       "| Sum | 0.9742925  | 0.02570755 | 1.0000000  | \n",
       "\n",
       "\n"
      ],
      "text/plain": [
       "        diabetes\n",
       "male     nondiabetes diabetes   Sum      \n",
       "  female 0.5573113   0.01344340 0.5707547\n",
       "  male   0.4169811   0.01226415 0.4292453\n",
       "  Sum    0.9742925   0.02570755 1.0000000"
      ]
     },
     "metadata": {},
     "output_type": "display_data"
    }
   ],
   "source": [
    "addmargins(prop.table(dia))"
   ]
  },
  {
   "cell_type": "code",
   "execution_count": 66,
   "metadata": {},
   "outputs": [
    {
     "data": {
      "text/html": [
       "<table>\n",
       "<thead><tr><th></th><th scope=col>nondiabetes</th><th scope=col>diabetes</th><th scope=col>Sum</th></tr></thead>\n",
       "<tbody>\n",
       "\t<tr><th scope=row>female</th><td>0.9764463 </td><td>0.02355372</td><td>1         </td></tr>\n",
       "\t<tr><th scope=row>male</th><td>0.9714286 </td><td>0.02857143</td><td>1         </td></tr>\n",
       "\t<tr><th scope=row>Sum</th><td>1.9478749 </td><td>0.05212515</td><td>2         </td></tr>\n",
       "</tbody>\n",
       "</table>\n"
      ],
      "text/latex": [
       "\\begin{tabular}{r|lll}\n",
       "  & nondiabetes & diabetes & Sum\\\\\n",
       "\\hline\n",
       "\tfemale & 0.9764463  & 0.02355372 & 1         \\\\\n",
       "\tmale & 0.9714286  & 0.02857143 & 1         \\\\\n",
       "\tSum & 1.9478749  & 0.05212515 & 2         \\\\\n",
       "\\end{tabular}\n"
      ],
      "text/markdown": [
       "\n",
       "| <!--/--> | nondiabetes | diabetes | Sum | \n",
       "|---|---|---|\n",
       "| female | 0.9764463  | 0.02355372 | 1          | \n",
       "| male | 0.9714286  | 0.02857143 | 1          | \n",
       "| Sum | 1.9478749  | 0.05212515 | 2          | \n",
       "\n",
       "\n"
      ],
      "text/plain": [
       "        diabetes\n",
       "male     nondiabetes diabetes   Sum\n",
       "  female 0.9764463   0.02355372 1  \n",
       "  male   0.9714286   0.02857143 1  \n",
       "  Sum    1.9478749   0.05212515 2  "
      ]
     },
     "metadata": {},
     "output_type": "display_data"
    }
   ],
   "source": [
    "addmargins(prop.table(dia, 1))"
   ]
  },
  {
   "cell_type": "code",
   "execution_count": 67,
   "metadata": {},
   "outputs": [
    {
     "data": {
      "text/html": [
       "<table>\n",
       "<thead><tr><th></th><th scope=col>nondiabetes</th><th scope=col>diabetes</th><th scope=col>Sum</th></tr></thead>\n",
       "<tbody>\n",
       "\t<tr><th scope=row>female</th><td>0.5720165</td><td>0.5229358</td><td>1.0949522</td></tr>\n",
       "\t<tr><th scope=row>male</th><td>0.4279835</td><td>0.4770642</td><td>0.9050478</td></tr>\n",
       "\t<tr><th scope=row>Sum</th><td>1.0000000</td><td>1.0000000</td><td>2.0000000</td></tr>\n",
       "</tbody>\n",
       "</table>\n"
      ],
      "text/latex": [
       "\\begin{tabular}{r|lll}\n",
       "  & nondiabetes & diabetes & Sum\\\\\n",
       "\\hline\n",
       "\tfemale & 0.5720165 & 0.5229358 & 1.0949522\\\\\n",
       "\tmale & 0.4279835 & 0.4770642 & 0.9050478\\\\\n",
       "\tSum & 1.0000000 & 1.0000000 & 2.0000000\\\\\n",
       "\\end{tabular}\n"
      ],
      "text/markdown": [
       "\n",
       "| <!--/--> | nondiabetes | diabetes | Sum | \n",
       "|---|---|---|\n",
       "| female | 0.5720165 | 0.5229358 | 1.0949522 | \n",
       "| male | 0.4279835 | 0.4770642 | 0.9050478 | \n",
       "| Sum | 1.0000000 | 1.0000000 | 2.0000000 | \n",
       "\n",
       "\n"
      ],
      "text/plain": [
       "        diabetes\n",
       "male     nondiabetes diabetes  Sum      \n",
       "  female 0.5720165   0.5229358 1.0949522\n",
       "  male   0.4279835   0.4770642 0.9050478\n",
       "  Sum    1.0000000   1.0000000 2.0000000"
      ]
     },
     "metadata": {},
     "output_type": "display_data"
    }
   ],
   "source": [
    "addmargins(prop.table(dia, 2))"
   ]
  },
  {
   "cell_type": "code",
   "execution_count": 68,
   "metadata": {},
   "outputs": [
    {
     "data": {
      "text/html": [
       "0.522935779816514"
      ],
      "text/latex": [
       "0.522935779816514"
      ],
      "text/markdown": [
       "0.522935779816514"
      ],
      "text/plain": [
       "[1] 0.5229358"
      ]
     },
     "metadata": {},
     "output_type": "display_data"
    }
   ],
   "source": [
    "# p(Female|Diabetes)\n",
    "\n",
    "# 0.5229358\n",
    "\n",
    "(57/109)"
   ]
  },
  {
   "cell_type": "code",
   "execution_count": 69,
   "metadata": {},
   "outputs": [
    {
     "data": {
      "text/html": [
       "0.0235537190082645"
      ],
      "text/latex": [
       "0.0235537190082645"
      ],
      "text/markdown": [
       "0.0235537190082645"
      ],
      "text/plain": [
       "[1] 0.02355372"
      ]
     },
     "metadata": {},
     "output_type": "display_data"
    }
   ],
   "source": [
    "# p(Diabetes|Female)\n",
    "\n",
    "# 0.02355372\n",
    "(57/2420)"
   ]
  }
 ],
 "metadata": {
  "kernelspec": {
   "display_name": "R",
   "language": "R",
   "name": "ir"
  },
  "language_info": {
   "codemirror_mode": "r",
   "file_extension": ".r",
   "mimetype": "text/x-r-source",
   "name": "R",
   "pygments_lexer": "r",
   "version": "3.4.1"
  }
 },
 "nbformat": 4,
 "nbformat_minor": 1
}
