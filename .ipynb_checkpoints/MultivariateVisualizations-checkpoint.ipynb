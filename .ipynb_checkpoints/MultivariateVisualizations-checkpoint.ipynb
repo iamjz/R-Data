{
 "cells": [
  {
   "cell_type": "markdown",
   "metadata": {},
   "source": [
    "# Multivariate visualizations to statistics\n",
    "\n",
    "## Limited utility of graphing vectors\n",
    "\n",
    "Graphs are easy to understand and catchy when you want to explain something. You can convey a lot of information through a picture. However, as we saw, there is a limit to the extent of information you can show on the graph and still convey its meaning appropriately. \n",
    "\n",
    "Graphs do a good job in univariate and bivariate data analysis. They can even do a decent job in 4 dimensions by plotting 3 dimensional data points and using color as the 4th feature. However, it is hard to plot 5 features within a single plot. Even if you manage to plot 5 dimensions, it will be difficult to interpret the graph. So when you have multidimensional data, which can reach 1000s of features, you have to rely on multivariate statistics for analyzing the data before you explore visualizations. \n",
    "\n",
    "Statistics can help narrow down the list of significant features you can use for building a model. These reduced sets of features can be analyzed using graphs. Statistics will guide features or data to be visualized to gain more insights from the data. "
   ]
  },
  {
   "cell_type": "code",
   "execution_count": 1,
   "metadata": {
    "collapsed": true
   },
   "outputs": [],
   "source": [
    "housing_prices <- read.csv(\"datasets/kc_house_data.csv\")"
   ]
  },
  {
   "cell_type": "code",
   "execution_count": 3,
   "metadata": {},
   "outputs": [
    {
     "data": {
      "text/html": [
       "<table>\n",
       "<thead><tr><th></th><th scope=col>1</th><th scope=col>2</th><th scope=col>3</th><th scope=col>4</th><th scope=col>5</th><th scope=col>6</th></tr></thead>\n",
       "<tbody>\n",
       "\t<tr><th scope=row>X</th><td>1              </td><td>2              </td><td>3              </td><td>4              </td><td>5              </td><td>6              </td></tr>\n",
       "\t<tr><th scope=row>id</th><td>7129300520     </td><td>6414100192     </td><td>5631500400     </td><td>2487200875     </td><td>1954400510     </td><td>7237550310     </td></tr>\n",
       "\t<tr><th scope=row>date</th><td>20141013T000000</td><td>20141209T000000</td><td>20150225T000000</td><td>20141209T000000</td><td>20150218T000000</td><td>20140512T000000</td></tr>\n",
       "\t<tr><th scope=row>price</th><td> 221900        </td><td> 538000        </td><td> 180000        </td><td> 604000        </td><td> 510000        </td><td>1225000        </td></tr>\n",
       "\t<tr><th scope=row>bedrooms</th><td>3              </td><td>3              </td><td>2              </td><td>4              </td><td>3              </td><td>4              </td></tr>\n",
       "\t<tr><th scope=row>bathrooms</th><td>1.00           </td><td>2.25           </td><td>1.00           </td><td>3.00           </td><td>2.00           </td><td>4.50           </td></tr>\n",
       "\t<tr><th scope=row>sqft_living</th><td>1180           </td><td>2570           </td><td> 770           </td><td>1960           </td><td>1680           </td><td>5420           </td></tr>\n",
       "\t<tr><th scope=row>sqft_lot</th><td>  5650         </td><td>  7242         </td><td> 10000         </td><td>  5000         </td><td>  8080         </td><td>101930         </td></tr>\n",
       "\t<tr><th scope=row>floors</th><td>1              </td><td>2              </td><td>1              </td><td>1              </td><td>1              </td><td>1              </td></tr>\n",
       "\t<tr><th scope=row>waterfront</th><td>0              </td><td>0              </td><td>0              </td><td>0              </td><td>0              </td><td>0              </td></tr>\n",
       "\t<tr><th scope=row>view</th><td>0              </td><td>0              </td><td>0              </td><td>0              </td><td>0              </td><td>0              </td></tr>\n",
       "\t<tr><th scope=row>condition</th><td>3              </td><td>3              </td><td>3              </td><td>5              </td><td>3              </td><td>3              </td></tr>\n",
       "\t<tr><th scope=row>grade</th><td> 7             </td><td> 7             </td><td> 6             </td><td> 7             </td><td> 8             </td><td>11             </td></tr>\n",
       "\t<tr><th scope=row>sqft_above</th><td>1180           </td><td>2170           </td><td> 770           </td><td>1050           </td><td>1680           </td><td>3890           </td></tr>\n",
       "\t<tr><th scope=row>sqft_basement</th><td>   0           </td><td> 400           </td><td>   0           </td><td> 910           </td><td>   0           </td><td>1530           </td></tr>\n",
       "\t<tr><th scope=row>yr_built</th><td>1955           </td><td>1951           </td><td>1933           </td><td>1965           </td><td>1987           </td><td>2001           </td></tr>\n",
       "\t<tr><th scope=row>yr_renovated</th><td>   0           </td><td>1991           </td><td>   0           </td><td>   0           </td><td>   0           </td><td>   0           </td></tr>\n",
       "\t<tr><th scope=row>zipcode</th><td>98178          </td><td>98125          </td><td>98028          </td><td>98136          </td><td>98074          </td><td>98053          </td></tr>\n",
       "\t<tr><th scope=row>lat</th><td>47.5112        </td><td>47.7210        </td><td>47.7379        </td><td>47.5208        </td><td>47.6168        </td><td>47.6561        </td></tr>\n",
       "\t<tr><th scope=row>long</th><td>-122.257       </td><td>-122.319       </td><td>-122.233       </td><td>-122.393       </td><td>-122.045       </td><td>-122.005       </td></tr>\n",
       "\t<tr><th scope=row>sqft_living15</th><td>1340           </td><td>1690           </td><td>2720           </td><td>1360           </td><td>1800           </td><td>4760           </td></tr>\n",
       "\t<tr><th scope=row>sqft_lot15</th><td>  5650         </td><td>  7639         </td><td>  8062         </td><td>  5000         </td><td>  7503         </td><td>101930         </td></tr>\n",
       "</tbody>\n",
       "</table>\n"
      ],
      "text/latex": [
       "\\begin{tabular}{r|llllll}\n",
       "  & 1 & 2 & 3 & 4 & 5 & 6\\\\\n",
       "\\hline\n",
       "\tX & 1               & 2               & 3               & 4               & 5               & 6              \\\\\n",
       "\tid & 7129300520      & 6414100192      & 5631500400      & 2487200875      & 1954400510      & 7237550310     \\\\\n",
       "\tdate & 20141013T000000 & 20141209T000000 & 20150225T000000 & 20141209T000000 & 20150218T000000 & 20140512T000000\\\\\n",
       "\tprice &  221900         &  538000         &  180000         &  604000         &  510000         & 1225000        \\\\\n",
       "\tbedrooms & 3               & 3               & 2               & 4               & 3               & 4              \\\\\n",
       "\tbathrooms & 1.00            & 2.25            & 1.00            & 3.00            & 2.00            & 4.50           \\\\\n",
       "\tsqft\\_living & 1180            & 2570            &  770            & 1960            & 1680            & 5420           \\\\\n",
       "\tsqft\\_lot &   5650          &   7242          &  10000          &   5000          &   8080          & 101930         \\\\\n",
       "\tfloors & 1               & 2               & 1               & 1               & 1               & 1              \\\\\n",
       "\twaterfront & 0               & 0               & 0               & 0               & 0               & 0              \\\\\n",
       "\tview & 0               & 0               & 0               & 0               & 0               & 0              \\\\\n",
       "\tcondition & 3               & 3               & 3               & 5               & 3               & 3              \\\\\n",
       "\tgrade &  7              &  7              &  6              &  7              &  8              & 11             \\\\\n",
       "\tsqft\\_above & 1180            & 2170            &  770            & 1050            & 1680            & 3890           \\\\\n",
       "\tsqft\\_basement &    0            &  400            &    0            &  910            &    0            & 1530           \\\\\n",
       "\tyr\\_built & 1955            & 1951            & 1933            & 1965            & 1987            & 2001           \\\\\n",
       "\tyr\\_renovated &    0            & 1991            &    0            &    0            &    0            &    0           \\\\\n",
       "\tzipcode & 98178           & 98125           & 98028           & 98136           & 98074           & 98053          \\\\\n",
       "\tlat & 47.5112         & 47.7210         & 47.7379         & 47.5208         & 47.6168         & 47.6561        \\\\\n",
       "\tlong & -122.257        & -122.319        & -122.233        & -122.393        & -122.045        & -122.005       \\\\\n",
       "\tsqft\\_living15 & 1340            & 1690            & 2720            & 1360            & 1800            & 4760           \\\\\n",
       "\tsqft\\_lot15 &   5650          &   7639          &   8062          &   5000          &   7503          & 101930         \\\\\n",
       "\\end{tabular}\n"
      ],
      "text/markdown": [
       "\n",
       "| <!--/--> | 1 | 2 | 3 | 4 | 5 | 6 | \n",
       "|---|---|---|---|---|---|---|---|---|---|---|---|---|---|---|---|---|---|---|---|---|---|\n",
       "| X | 1               | 2               | 3               | 4               | 5               | 6               | \n",
       "| id | 7129300520      | 6414100192      | 5631500400      | 2487200875      | 1954400510      | 7237550310      | \n",
       "| date | 20141013T000000 | 20141209T000000 | 20150225T000000 | 20141209T000000 | 20150218T000000 | 20140512T000000 | \n",
       "| price |  221900         |  538000         |  180000         |  604000         |  510000         | 1225000         | \n",
       "| bedrooms | 3               | 3               | 2               | 4               | 3               | 4               | \n",
       "| bathrooms | 1.00            | 2.25            | 1.00            | 3.00            | 2.00            | 4.50            | \n",
       "| sqft_living | 1180            | 2570            |  770            | 1960            | 1680            | 5420            | \n",
       "| sqft_lot |   5650          |   7242          |  10000          |   5000          |   8080          | 101930          | \n",
       "| floors | 1               | 2               | 1               | 1               | 1               | 1               | \n",
       "| waterfront | 0               | 0               | 0               | 0               | 0               | 0               | \n",
       "| view | 0               | 0               | 0               | 0               | 0               | 0               | \n",
       "| condition | 3               | 3               | 3               | 5               | 3               | 3               | \n",
       "| grade |  7              |  7              |  6              |  7              |  8              | 11              | \n",
       "| sqft_above | 1180            | 2170            |  770            | 1050            | 1680            | 3890            | \n",
       "| sqft_basement |    0            |  400            |    0            |  910            |    0            | 1530            | \n",
       "| yr_built | 1955            | 1951            | 1933            | 1965            | 1987            | 2001            | \n",
       "| yr_renovated |    0            | 1991            |    0            |    0            |    0            |    0            | \n",
       "| zipcode | 98178           | 98125           | 98028           | 98136           | 98074           | 98053           | \n",
       "| lat | 47.5112         | 47.7210         | 47.7379         | 47.5208         | 47.6168         | 47.6561         | \n",
       "| long | -122.257        | -122.319        | -122.233        | -122.393        | -122.045        | -122.005        | \n",
       "| sqft_living15 | 1340            | 1690            | 2720            | 1360            | 1800            | 4760            | \n",
       "| sqft_lot15 |   5650          |   7639          |   8062          |   5000          |   7503          | 101930          | \n",
       "\n",
       "\n"
      ],
      "text/plain": [
       "              1               2               3               4              \n",
       "X             1               2               3               4              \n",
       "id            7129300520      6414100192      5631500400      2487200875     \n",
       "date          20141013T000000 20141209T000000 20150225T000000 20141209T000000\n",
       "price          221900          538000          180000          604000        \n",
       "bedrooms      3               3               2               4              \n",
       "bathrooms     1.00            2.25            1.00            3.00           \n",
       "sqft_living   1180            2570             770            1960           \n",
       "sqft_lot        5650            7242           10000            5000         \n",
       "floors        1               2               1               1              \n",
       "waterfront    0               0               0               0              \n",
       "view          0               0               0               0              \n",
       "condition     3               3               3               5              \n",
       "grade          7               7               6               7             \n",
       "sqft_above    1180            2170             770            1050           \n",
       "sqft_basement    0             400               0             910           \n",
       "yr_built      1955            1951            1933            1965           \n",
       "yr_renovated     0            1991               0               0           \n",
       "zipcode       98178           98125           98028           98136          \n",
       "lat           47.5112         47.7210         47.7379         47.5208        \n",
       "long          -122.257        -122.319        -122.233        -122.393       \n",
       "sqft_living15 1340            1690            2720            1360           \n",
       "sqft_lot15      5650            7639            8062            5000         \n",
       "              5               6              \n",
       "X             5               6              \n",
       "id            1954400510      7237550310     \n",
       "date          20150218T000000 20140512T000000\n",
       "price          510000         1225000        \n",
       "bedrooms      3               4              \n",
       "bathrooms     2.00            4.50           \n",
       "sqft_living   1680            5420           \n",
       "sqft_lot        8080          101930         \n",
       "floors        1               1              \n",
       "waterfront    0               0              \n",
       "view          0               0              \n",
       "condition     3               3              \n",
       "grade          8              11             \n",
       "sqft_above    1680            3890           \n",
       "sqft_basement    0            1530           \n",
       "yr_built      1987            2001           \n",
       "yr_renovated     0               0           \n",
       "zipcode       98074           98053          \n",
       "lat           47.6168         47.6561        \n",
       "long          -122.045        -122.005       \n",
       "sqft_living15 1800            4760           \n",
       "sqft_lot15      7503          101930         "
      ]
     },
     "metadata": {},
     "output_type": "display_data"
    }
   ],
   "source": [
    "t(head(housing_prices))"
   ]
  },
  {
   "cell_type": "markdown",
   "metadata": {},
   "source": [
    "Let's see how the independent variables are correlated to the dependent variable price. Before we can run cor(), we'll need to ensure all the supplied features are numeric. "
   ]
  },
  {
   "cell_type": "code",
   "execution_count": 5,
   "metadata": {},
   "outputs": [
    {
     "data": {
      "text/html": [
       "<table>\n",
       "<thead><tr><th scope=col>X</th><th scope=col>id</th><th scope=col>date</th><th scope=col>price</th><th scope=col>bedrooms</th><th scope=col>bathrooms</th><th scope=col>sqft_living</th><th scope=col>sqft_lot</th><th scope=col>floors</th><th scope=col>waterfront</th><th scope=col>...</th><th scope=col>grade</th><th scope=col>sqft_above</th><th scope=col>sqft_basement</th><th scope=col>yr_built</th><th scope=col>yr_renovated</th><th scope=col>zipcode</th><th scope=col>lat</th><th scope=col>long</th><th scope=col>sqft_living15</th><th scope=col>sqft_lot15</th></tr></thead>\n",
       "<tbody>\n",
       "\t<tr><td>integer</td><td>numeric</td><td>factor </td><td>numeric</td><td>integer</td><td>numeric</td><td>integer</td><td>integer</td><td>numeric</td><td>integer</td><td>...    </td><td>integer</td><td>integer</td><td>integer</td><td>integer</td><td>integer</td><td>integer</td><td>numeric</td><td>numeric</td><td>integer</td><td>integer</td></tr>\n",
       "</tbody>\n",
       "</table>\n"
      ],
      "text/latex": [
       "\\begin{tabular}{llllllllllllllllllllll}\n",
       " X & id & date & price & bedrooms & bathrooms & sqft\\_living & sqft\\_lot & floors & waterfront & ... & grade & sqft\\_above & sqft\\_basement & yr\\_built & yr\\_renovated & zipcode & lat & long & sqft\\_living15 & sqft\\_lot15\\\\\n",
       "\\hline\n",
       "\t integer & numeric & factor  & numeric & integer & numeric & integer & integer & numeric & integer & ...     & integer & integer & integer & integer & integer & integer & numeric & numeric & integer & integer\\\\\n",
       "\\end{tabular}\n"
      ],
      "text/markdown": [
       "\n",
       "X | id | date | price | bedrooms | bathrooms | sqft_living | sqft_lot | floors | waterfront | ... | grade | sqft_above | sqft_basement | yr_built | yr_renovated | zipcode | lat | long | sqft_living15 | sqft_lot15 | \n",
       "|---|\n",
       "| integer | numeric | factor  | numeric | integer | numeric | integer | integer | numeric | integer | ...     | integer | integer | integer | integer | integer | integer | numeric | numeric | integer | integer | \n",
       "\n",
       "\n"
      ],
      "text/plain": [
       "     X       id      date   price   bedrooms bathrooms sqft_living sqft_lot\n",
       "[1,] integer numeric factor numeric integer  numeric   integer     integer \n",
       "     floors  waterfront ... grade   sqft_above sqft_basement yr_built\n",
       "[1,] numeric integer    ... integer integer    integer       integer \n",
       "     yr_renovated zipcode lat     long    sqft_living15 sqft_lot15\n",
       "[1,] integer      integer numeric numeric integer       integer   "
      ]
     },
     "metadata": {},
     "output_type": "display_data"
    }
   ],
   "source": [
    "# sapply applies the class function to each column of housing_prices_dataframe\n",
    "t(sapply(housing_prices, class))"
   ]
  },
  {
   "cell_type": "code",
   "execution_count": 6,
   "metadata": {},
   "outputs": [
    {
     "data": {
      "text/html": [
       "<dl class=dl-horizontal>\n",
       "\t<dt>X</dt>\n",
       "\t\t<dd>'integer'</dd>\n",
       "\t<dt>id</dt>\n",
       "\t\t<dd>'numeric'</dd>\n",
       "\t<dt>date</dt>\n",
       "\t\t<dd>'factor'</dd>\n",
       "\t<dt>price</dt>\n",
       "\t\t<dd>'numeric'</dd>\n",
       "\t<dt>bedrooms</dt>\n",
       "\t\t<dd>'integer'</dd>\n",
       "\t<dt>bathrooms</dt>\n",
       "\t\t<dd>'numeric'</dd>\n",
       "\t<dt>sqft_living</dt>\n",
       "\t\t<dd>'integer'</dd>\n",
       "\t<dt>sqft_lot</dt>\n",
       "\t\t<dd>'integer'</dd>\n",
       "\t<dt>floors</dt>\n",
       "\t\t<dd>'numeric'</dd>\n",
       "\t<dt>waterfront</dt>\n",
       "\t\t<dd>'integer'</dd>\n",
       "\t<dt>view</dt>\n",
       "\t\t<dd>'integer'</dd>\n",
       "\t<dt>condition</dt>\n",
       "\t\t<dd>'integer'</dd>\n",
       "\t<dt>grade</dt>\n",
       "\t\t<dd>'integer'</dd>\n",
       "\t<dt>sqft_above</dt>\n",
       "\t\t<dd>'integer'</dd>\n",
       "\t<dt>sqft_basement</dt>\n",
       "\t\t<dd>'integer'</dd>\n",
       "\t<dt>yr_built</dt>\n",
       "\t\t<dd>'integer'</dd>\n",
       "\t<dt>yr_renovated</dt>\n",
       "\t\t<dd>'integer'</dd>\n",
       "\t<dt>zipcode</dt>\n",
       "\t\t<dd>'integer'</dd>\n",
       "\t<dt>lat</dt>\n",
       "\t\t<dd>'numeric'</dd>\n",
       "\t<dt>long</dt>\n",
       "\t\t<dd>'numeric'</dd>\n",
       "\t<dt>sqft_living15</dt>\n",
       "\t\t<dd>'integer'</dd>\n",
       "\t<dt>sqft_lot15</dt>\n",
       "\t\t<dd>'integer'</dd>\n",
       "</dl>\n"
      ],
      "text/latex": [
       "\\begin{description*}\n",
       "\\item[X] 'integer'\n",
       "\\item[id] 'numeric'\n",
       "\\item[date] 'factor'\n",
       "\\item[price] 'numeric'\n",
       "\\item[bedrooms] 'integer'\n",
       "\\item[bathrooms] 'numeric'\n",
       "\\item[sqft\\textbackslash{}\\_living] 'integer'\n",
       "\\item[sqft\\textbackslash{}\\_lot] 'integer'\n",
       "\\item[floors] 'numeric'\n",
       "\\item[waterfront] 'integer'\n",
       "\\item[view] 'integer'\n",
       "\\item[condition] 'integer'\n",
       "\\item[grade] 'integer'\n",
       "\\item[sqft\\textbackslash{}\\_above] 'integer'\n",
       "\\item[sqft\\textbackslash{}\\_basement] 'integer'\n",
       "\\item[yr\\textbackslash{}\\_built] 'integer'\n",
       "\\item[yr\\textbackslash{}\\_renovated] 'integer'\n",
       "\\item[zipcode] 'integer'\n",
       "\\item[lat] 'numeric'\n",
       "\\item[long] 'numeric'\n",
       "\\item[sqft\\textbackslash{}\\_living15] 'integer'\n",
       "\\item[sqft\\textbackslash{}\\_lot15] 'integer'\n",
       "\\end{description*}\n"
      ],
      "text/markdown": [
       "X\n",
       ":   'integer'id\n",
       ":   'numeric'date\n",
       ":   'factor'price\n",
       ":   'numeric'bedrooms\n",
       ":   'integer'bathrooms\n",
       ":   'numeric'sqft_living\n",
       ":   'integer'sqft_lot\n",
       ":   'integer'floors\n",
       ":   'numeric'waterfront\n",
       ":   'integer'view\n",
       ":   'integer'condition\n",
       ":   'integer'grade\n",
       ":   'integer'sqft_above\n",
       ":   'integer'sqft_basement\n",
       ":   'integer'yr_built\n",
       ":   'integer'yr_renovated\n",
       ":   'integer'zipcode\n",
       ":   'integer'lat\n",
       ":   'numeric'long\n",
       ":   'numeric'sqft_living15\n",
       ":   'integer'sqft_lot15\n",
       ":   'integer'\n",
       "\n"
      ],
      "text/plain": [
       "            X            id          date         price      bedrooms \n",
       "    \"integer\"     \"numeric\"      \"factor\"     \"numeric\"     \"integer\" \n",
       "    bathrooms   sqft_living      sqft_lot        floors    waterfront \n",
       "    \"numeric\"     \"integer\"     \"integer\"     \"numeric\"     \"integer\" \n",
       "         view     condition         grade    sqft_above sqft_basement \n",
       "    \"integer\"     \"integer\"     \"integer\"     \"integer\"     \"integer\" \n",
       "     yr_built  yr_renovated       zipcode           lat          long \n",
       "    \"integer\"     \"integer\"     \"integer\"     \"numeric\"     \"numeric\" \n",
       "sqft_living15    sqft_lot15 \n",
       "    \"integer\"     \"integer\" "
      ]
     },
     "metadata": {},
     "output_type": "display_data"
    }
   ],
   "source": [
    "sapply(housing_prices, class)"
   ]
  },
  {
   "cell_type": "markdown",
   "metadata": {},
   "source": [
    "Notice that the date is a factor variable. We should exclude it from the cor() function. ID (while numeric) is just an indentifier so it's useless here. Let's exclude them both. "
   ]
  },
  {
   "cell_type": "code",
   "execution_count": 9,
   "metadata": {
    "collapsed": true
   },
   "outputs": [],
   "source": [
    "lessData <- housing_prices[!names(housing_prices) %in% c(\"X\", \"id\", \"date\")]"
   ]
  },
  {
   "cell_type": "code",
   "execution_count": 10,
   "metadata": {},
   "outputs": [
    {
     "data": {
      "text/html": [
       "<ol class=list-inline>\n",
       "\t<li>'price'</li>\n",
       "\t<li>'bedrooms'</li>\n",
       "\t<li>'bathrooms'</li>\n",
       "\t<li>'sqft_living'</li>\n",
       "\t<li>'sqft_lot'</li>\n",
       "\t<li>'floors'</li>\n",
       "\t<li>'waterfront'</li>\n",
       "\t<li>'view'</li>\n",
       "\t<li>'condition'</li>\n",
       "\t<li>'grade'</li>\n",
       "\t<li>'sqft_above'</li>\n",
       "\t<li>'sqft_basement'</li>\n",
       "\t<li>'yr_built'</li>\n",
       "\t<li>'yr_renovated'</li>\n",
       "\t<li>'zipcode'</li>\n",
       "\t<li>'lat'</li>\n",
       "\t<li>'long'</li>\n",
       "\t<li>'sqft_living15'</li>\n",
       "\t<li>'sqft_lot15'</li>\n",
       "</ol>\n"
      ],
      "text/latex": [
       "\\begin{enumerate*}\n",
       "\\item 'price'\n",
       "\\item 'bedrooms'\n",
       "\\item 'bathrooms'\n",
       "\\item 'sqft\\_living'\n",
       "\\item 'sqft\\_lot'\n",
       "\\item 'floors'\n",
       "\\item 'waterfront'\n",
       "\\item 'view'\n",
       "\\item 'condition'\n",
       "\\item 'grade'\n",
       "\\item 'sqft\\_above'\n",
       "\\item 'sqft\\_basement'\n",
       "\\item 'yr\\_built'\n",
       "\\item 'yr\\_renovated'\n",
       "\\item 'zipcode'\n",
       "\\item 'lat'\n",
       "\\item 'long'\n",
       "\\item 'sqft\\_living15'\n",
       "\\item 'sqft\\_lot15'\n",
       "\\end{enumerate*}\n"
      ],
      "text/markdown": [
       "1. 'price'\n",
       "2. 'bedrooms'\n",
       "3. 'bathrooms'\n",
       "4. 'sqft_living'\n",
       "5. 'sqft_lot'\n",
       "6. 'floors'\n",
       "7. 'waterfront'\n",
       "8. 'view'\n",
       "9. 'condition'\n",
       "10. 'grade'\n",
       "11. 'sqft_above'\n",
       "12. 'sqft_basement'\n",
       "13. 'yr_built'\n",
       "14. 'yr_renovated'\n",
       "15. 'zipcode'\n",
       "16. 'lat'\n",
       "17. 'long'\n",
       "18. 'sqft_living15'\n",
       "19. 'sqft_lot15'\n",
       "\n",
       "\n"
      ],
      "text/plain": [
       " [1] \"price\"         \"bedrooms\"      \"bathrooms\"     \"sqft_living\"  \n",
       " [5] \"sqft_lot\"      \"floors\"        \"waterfront\"    \"view\"         \n",
       " [9] \"condition\"     \"grade\"         \"sqft_above\"    \"sqft_basement\"\n",
       "[13] \"yr_built\"      \"yr_renovated\"  \"zipcode\"       \"lat\"          \n",
       "[17] \"long\"          \"sqft_living15\" \"sqft_lot15\"   "
      ]
     },
     "metadata": {},
     "output_type": "display_data"
    }
   ],
   "source": [
    "names(lessData)"
   ]
  },
  {
   "cell_type": "code",
   "execution_count": 11,
   "metadata": {},
   "outputs": [
    {
     "data": {
      "text/html": [
       "<table>\n",
       "<thead><tr><th></th><th scope=col>price</th><th scope=col>bedrooms</th><th scope=col>bathrooms</th><th scope=col>sqft_living</th><th scope=col>sqft_lot</th><th scope=col>floors</th><th scope=col>waterfront</th><th scope=col>view</th><th scope=col>condition</th><th scope=col>grade</th><th scope=col>sqft_above</th><th scope=col>sqft_basement</th><th scope=col>yr_built</th><th scope=col>yr_renovated</th><th scope=col>zipcode</th><th scope=col>lat</th><th scope=col>long</th><th scope=col>sqft_living15</th><th scope=col>sqft_lot15</th></tr></thead>\n",
       "<tbody>\n",
       "\t<tr><th scope=row>price</th><td> 1.00000000  </td><td> 0.308349598 </td><td> 0.52513751  </td><td> 0.70203505  </td><td> 0.089660861 </td><td> 0.256793888 </td><td> 0.266369434 </td><td> 0.397293488 </td><td> 0.036361789 </td><td> 0.66743426  </td><td> 0.6055672984</td><td> 0.32381602  </td><td> 0.05401153  </td><td> 0.126433793 </td><td>-0.053202854 </td><td> 0.3070034800</td><td> 0.02162624  </td><td> 0.585378904 </td><td> 0.082447153 </td></tr>\n",
       "\t<tr><th scope=row>bedrooms</th><td> 0.30834960  </td><td> 1.000000000 </td><td> 0.51588364  </td><td> 0.57667069  </td><td> 0.031703243 </td><td> 0.175428935 </td><td>-0.006582479 </td><td> 0.079531852 </td><td> 0.028472104 </td><td> 0.35696673  </td><td> 0.4776001614</td><td> 0.30309338  </td><td> 0.15417807  </td><td> 0.018840823 </td><td>-0.152668487 </td><td>-0.0089310097</td><td> 0.12947298  </td><td> 0.391637524 </td><td> 0.029244224 </td></tr>\n",
       "\t<tr><th scope=row>bathrooms</th><td> 0.52513751  </td><td> 0.515883638 </td><td> 1.00000000  </td><td> 0.75466528  </td><td> 0.087739662 </td><td> 0.500653173 </td><td> 0.063743629 </td><td> 0.187737024 </td><td>-0.124981933 </td><td> 0.66498253  </td><td> 0.6853424759</td><td> 0.28377003  </td><td> 0.50601944  </td><td> 0.050738978 </td><td>-0.203866274 </td><td> 0.0245729528</td><td> 0.22304184  </td><td> 0.568634290 </td><td> 0.087175361 </td></tr>\n",
       "\t<tr><th scope=row>sqft_living</th><td> 0.70203505  </td><td> 0.576670693 </td><td> 0.75466528  </td><td> 1.00000000  </td><td> 0.172825661 </td><td> 0.353949290 </td><td> 0.103817818 </td><td> 0.284611186 </td><td>-0.058752587 </td><td> 0.76270448  </td><td> 0.8765965987</td><td> 0.43504297  </td><td> 0.31804877  </td><td> 0.055362927 </td><td>-0.199430043 </td><td> 0.0525294622</td><td> 0.24022330  </td><td> 0.756420259 </td><td> 0.183285551 </td></tr>\n",
       "\t<tr><th scope=row>sqft_lot</th><td> 0.08966086  </td><td> 0.031703243 </td><td> 0.08773966  </td><td> 0.17282566  </td><td> 1.000000000 </td><td>-0.005200991 </td><td> 0.021603683 </td><td> 0.074710106 </td><td>-0.008958250 </td><td> 0.11362112  </td><td> 0.1835122809</td><td> 0.01528620  </td><td> 0.05308037  </td><td> 0.007643505 </td><td>-0.129574486 </td><td>-0.0856827882</td><td> 0.22952086  </td><td> 0.144608174 </td><td> 0.718556752 </td></tr>\n",
       "\t<tr><th scope=row>floors</th><td> 0.25679389  </td><td> 0.175428935 </td><td> 0.50065317  </td><td> 0.35394929  </td><td>-0.005200991 </td><td> 1.000000000 </td><td> 0.023698320 </td><td> 0.029443820 </td><td>-0.263767946 </td><td> 0.45818251  </td><td> 0.5238847103</td><td>-0.24570454  </td><td> 0.48931942  </td><td> 0.006338401 </td><td>-0.059120642 </td><td> 0.0496141310</td><td> 0.12541903  </td><td> 0.279885265 </td><td>-0.011269187 </td></tr>\n",
       "\t<tr><th scope=row>waterfront</th><td> 0.26636943  </td><td>-0.006582479 </td><td> 0.06374363  </td><td> 0.10381782  </td><td> 0.021603683 </td><td> 0.023698320 </td><td> 1.000000000 </td><td> 0.401857351 </td><td> 0.016653157 </td><td> 0.08277491  </td><td> 0.0720745917</td><td> 0.08058794  </td><td>-0.02616109  </td><td> 0.092884837 </td><td> 0.030284728 </td><td>-0.0142737756</td><td>-0.04191020  </td><td> 0.086463136 </td><td> 0.030703283 </td></tr>\n",
       "\t<tr><th scope=row>view</th><td> 0.39729349  </td><td> 0.079531852 </td><td> 0.18773702  </td><td> 0.28461119  </td><td> 0.074710106 </td><td> 0.029443820 </td><td> 0.401857351 </td><td> 1.000000000 </td><td> 0.045989737 </td><td> 0.25132058  </td><td> 0.1676493441</td><td> 0.27694658  </td><td>-0.05343985  </td><td> 0.103917288 </td><td> 0.084826917 </td><td> 0.0061567321</td><td>-0.07839971  </td><td> 0.280439082 </td><td> 0.072574568 </td></tr>\n",
       "\t<tr><th scope=row>condition</th><td> 0.03636179  </td><td> 0.028472104 </td><td>-0.12498193  </td><td>-0.05875259  </td><td>-0.008958250 </td><td>-0.263767946 </td><td> 0.016653157 </td><td> 0.045989737 </td><td> 1.000000000 </td><td>-0.14467367  </td><td>-0.1582136164</td><td> 0.17410491  </td><td>-0.36141656  </td><td>-0.060617787 </td><td> 0.003025524 </td><td>-0.0149410064</td><td>-0.10650045  </td><td>-0.092824268 </td><td>-0.003405523 </td></tr>\n",
       "\t<tr><th scope=row>grade</th><td> 0.66743426  </td><td> 0.356966725 </td><td> 0.66498253  </td><td> 0.76270448  </td><td> 0.113621124 </td><td> 0.458182514 </td><td> 0.082774914 </td><td> 0.251320585 </td><td>-0.144673671 </td><td> 1.00000000  </td><td> 0.7559229376</td><td> 0.16839182  </td><td> 0.44696320  </td><td> 0.014414281 </td><td>-0.184862093 </td><td> 0.1140840571</td><td> 0.19837215  </td><td> 0.713202093 </td><td> 0.119247897 </td></tr>\n",
       "\t<tr><th scope=row>sqft_above</th><td> 0.60556730  </td><td> 0.477600161 </td><td> 0.68534248  </td><td> 0.87659660  </td><td> 0.183512281 </td><td> 0.523884710 </td><td> 0.072074592 </td><td> 0.167649344 </td><td>-0.158213616 </td><td> 0.75592294  </td><td> 1.0000000000</td><td>-0.05194331  </td><td> 0.42389835  </td><td> 0.023284688 </td><td>-0.261189977 </td><td>-0.0008164986</td><td> 0.34380302  </td><td> 0.731870292 </td><td> 0.194049862 </td></tr>\n",
       "\t<tr><th scope=row>sqft_basement</th><td> 0.32381602  </td><td> 0.303093375 </td><td> 0.28377003  </td><td> 0.43504297  </td><td> 0.015286202 </td><td>-0.245704542 </td><td> 0.080587939 </td><td> 0.276946579 </td><td> 0.174104914 </td><td> 0.16839182  </td><td>-0.0519433068</td><td> 1.00000000  </td><td>-0.13312410  </td><td> 0.071322902 </td><td> 0.074844608 </td><td> 0.1105379580</td><td>-0.14476477  </td><td> 0.200354983 </td><td> 0.017276181 </td></tr>\n",
       "\t<tr><th scope=row>yr_built</th><td> 0.05401153  </td><td> 0.154178069 </td><td> 0.50601944  </td><td> 0.31804877  </td><td> 0.053080367 </td><td> 0.489319425 </td><td>-0.026161086 </td><td>-0.053439851 </td><td>-0.361416562 </td><td> 0.44696320  </td><td> 0.4238983517</td><td>-0.13312410  </td><td> 1.00000000  </td><td>-0.224873518 </td><td>-0.346869178 </td><td>-0.1481224021</td><td> 0.40935620  </td><td> 0.326228900 </td><td> 0.070957926 </td></tr>\n",
       "\t<tr><th scope=row>yr_renovated</th><td> 0.12643379  </td><td> 0.018840823 </td><td> 0.05073898  </td><td> 0.05536293  </td><td> 0.007643505 </td><td> 0.006338401 </td><td> 0.092884837 </td><td> 0.103917288 </td><td>-0.060617787 </td><td> 0.01441428  </td><td> 0.0232846879</td><td> 0.07132290  </td><td>-0.22487352  </td><td> 1.000000000 </td><td> 0.064357057 </td><td> 0.0293976092</td><td>-0.06837237  </td><td>-0.002672555 </td><td> 0.007853765 </td></tr>\n",
       "\t<tr><th scope=row>zipcode</th><td>-0.05320285  </td><td>-0.152668487 </td><td>-0.20386627  </td><td>-0.19943004  </td><td>-0.129574486 </td><td>-0.059120642 </td><td> 0.030284728 </td><td> 0.084826917 </td><td> 0.003025524 </td><td>-0.18486209  </td><td>-0.2611899765</td><td> 0.07484461  </td><td>-0.34686918  </td><td> 0.064357057 </td><td> 1.000000000 </td><td> 0.2670479500</td><td>-0.56407161  </td><td>-0.279032997 </td><td>-0.147221069 </td></tr>\n",
       "\t<tr><th scope=row>lat</th><td> 0.30700348  </td><td>-0.008931010 </td><td> 0.02457295  </td><td> 0.05252946  </td><td>-0.085682788 </td><td> 0.049614131 </td><td>-0.014273776 </td><td> 0.006156732 </td><td>-0.014941006 </td><td> 0.11408406  </td><td>-0.0008164986</td><td> 0.11053796  </td><td>-0.14812240  </td><td> 0.029397609 </td><td> 0.267047950 </td><td> 1.0000000000</td><td>-0.13551178  </td><td> 0.048857932 </td><td>-0.086418807 </td></tr>\n",
       "\t<tr><th scope=row>long</th><td> 0.02162624  </td><td> 0.129472975 </td><td> 0.22304184  </td><td> 0.24022330  </td><td> 0.229520859 </td><td> 0.125419028 </td><td>-0.041910200 </td><td>-0.078399712 </td><td>-0.106500448 </td><td> 0.19837215  </td><td> 0.3438030175</td><td>-0.14476477  </td><td> 0.40935620  </td><td>-0.068372369 </td><td>-0.564071606 </td><td>-0.1355117836</td><td> 1.00000000  </td><td> 0.334604984 </td><td> 0.254451288 </td></tr>\n",
       "\t<tr><th scope=row>sqft_living15</th><td> 0.58537890  </td><td> 0.391637524 </td><td> 0.56863429  </td><td> 0.75642026  </td><td> 0.144608174 </td><td> 0.279885265 </td><td> 0.086463136 </td><td> 0.280439082 </td><td>-0.092824268 </td><td> 0.71320209  </td><td> 0.7318702924</td><td> 0.20035498  </td><td> 0.32622890  </td><td>-0.002672555 </td><td>-0.279032997 </td><td> 0.0488579321</td><td> 0.33460498  </td><td> 1.000000000 </td><td> 0.183191749 </td></tr>\n",
       "\t<tr><th scope=row>sqft_lot15</th><td> 0.08244715  </td><td> 0.029244224 </td><td> 0.08717536  </td><td> 0.18328555  </td><td> 0.718556752 </td><td>-0.011269187 </td><td> 0.030703283 </td><td> 0.072574568 </td><td>-0.003405523 </td><td> 0.11924790  </td><td> 0.1940498619</td><td> 0.01727618  </td><td> 0.07095793  </td><td> 0.007853765 </td><td>-0.147221069 </td><td>-0.0864188072</td><td> 0.25445129  </td><td> 0.183191749 </td><td> 1.000000000 </td></tr>\n",
       "</tbody>\n",
       "</table>\n"
      ],
      "text/latex": [
       "\\begin{tabular}{r|lllllllllllllllllll}\n",
       "  & price & bedrooms & bathrooms & sqft\\_living & sqft\\_lot & floors & waterfront & view & condition & grade & sqft\\_above & sqft\\_basement & yr\\_built & yr\\_renovated & zipcode & lat & long & sqft\\_living15 & sqft\\_lot15\\\\\n",
       "\\hline\n",
       "\tprice &  1.00000000   &  0.308349598  &  0.52513751   &  0.70203505   &  0.089660861  &  0.256793888  &  0.266369434  &  0.397293488  &  0.036361789  &  0.66743426   &  0.6055672984 &  0.32381602   &  0.05401153   &  0.126433793  & -0.053202854  &  0.3070034800 &  0.02162624   &  0.585378904  &  0.082447153 \\\\\n",
       "\tbedrooms &  0.30834960   &  1.000000000  &  0.51588364   &  0.57667069   &  0.031703243  &  0.175428935  & -0.006582479  &  0.079531852  &  0.028472104  &  0.35696673   &  0.4776001614 &  0.30309338   &  0.15417807   &  0.018840823  & -0.152668487  & -0.0089310097 &  0.12947298   &  0.391637524  &  0.029244224 \\\\\n",
       "\tbathrooms &  0.52513751   &  0.515883638  &  1.00000000   &  0.75466528   &  0.087739662  &  0.500653173  &  0.063743629  &  0.187737024  & -0.124981933  &  0.66498253   &  0.6853424759 &  0.28377003   &  0.50601944   &  0.050738978  & -0.203866274  &  0.0245729528 &  0.22304184   &  0.568634290  &  0.087175361 \\\\\n",
       "\tsqft\\_living &  0.70203505   &  0.576670693  &  0.75466528   &  1.00000000   &  0.172825661  &  0.353949290  &  0.103817818  &  0.284611186  & -0.058752587  &  0.76270448   &  0.8765965987 &  0.43504297   &  0.31804877   &  0.055362927  & -0.199430043  &  0.0525294622 &  0.24022330   &  0.756420259  &  0.183285551 \\\\\n",
       "\tsqft\\_lot &  0.08966086   &  0.031703243  &  0.08773966   &  0.17282566   &  1.000000000  & -0.005200991  &  0.021603683  &  0.074710106  & -0.008958250  &  0.11362112   &  0.1835122809 &  0.01528620   &  0.05308037   &  0.007643505  & -0.129574486  & -0.0856827882 &  0.22952086   &  0.144608174  &  0.718556752 \\\\\n",
       "\tfloors &  0.25679389   &  0.175428935  &  0.50065317   &  0.35394929   & -0.005200991  &  1.000000000  &  0.023698320  &  0.029443820  & -0.263767946  &  0.45818251   &  0.5238847103 & -0.24570454   &  0.48931942   &  0.006338401  & -0.059120642  &  0.0496141310 &  0.12541903   &  0.279885265  & -0.011269187 \\\\\n",
       "\twaterfront &  0.26636943   & -0.006582479  &  0.06374363   &  0.10381782   &  0.021603683  &  0.023698320  &  1.000000000  &  0.401857351  &  0.016653157  &  0.08277491   &  0.0720745917 &  0.08058794   & -0.02616109   &  0.092884837  &  0.030284728  & -0.0142737756 & -0.04191020   &  0.086463136  &  0.030703283 \\\\\n",
       "\tview &  0.39729349   &  0.079531852  &  0.18773702   &  0.28461119   &  0.074710106  &  0.029443820  &  0.401857351  &  1.000000000  &  0.045989737  &  0.25132058   &  0.1676493441 &  0.27694658   & -0.05343985   &  0.103917288  &  0.084826917  &  0.0061567321 & -0.07839971   &  0.280439082  &  0.072574568 \\\\\n",
       "\tcondition &  0.03636179   &  0.028472104  & -0.12498193   & -0.05875259   & -0.008958250  & -0.263767946  &  0.016653157  &  0.045989737  &  1.000000000  & -0.14467367   & -0.1582136164 &  0.17410491   & -0.36141656   & -0.060617787  &  0.003025524  & -0.0149410064 & -0.10650045   & -0.092824268  & -0.003405523 \\\\\n",
       "\tgrade &  0.66743426   &  0.356966725  &  0.66498253   &  0.76270448   &  0.113621124  &  0.458182514  &  0.082774914  &  0.251320585  & -0.144673671  &  1.00000000   &  0.7559229376 &  0.16839182   &  0.44696320   &  0.014414281  & -0.184862093  &  0.1140840571 &  0.19837215   &  0.713202093  &  0.119247897 \\\\\n",
       "\tsqft\\_above &  0.60556730   &  0.477600161  &  0.68534248   &  0.87659660   &  0.183512281  &  0.523884710  &  0.072074592  &  0.167649344  & -0.158213616  &  0.75592294   &  1.0000000000 & -0.05194331   &  0.42389835   &  0.023284688  & -0.261189977  & -0.0008164986 &  0.34380302   &  0.731870292  &  0.194049862 \\\\\n",
       "\tsqft\\_basement &  0.32381602   &  0.303093375  &  0.28377003   &  0.43504297   &  0.015286202  & -0.245704542  &  0.080587939  &  0.276946579  &  0.174104914  &  0.16839182   & -0.0519433068 &  1.00000000   & -0.13312410   &  0.071322902  &  0.074844608  &  0.1105379580 & -0.14476477   &  0.200354983  &  0.017276181 \\\\\n",
       "\tyr\\_built &  0.05401153   &  0.154178069  &  0.50601944   &  0.31804877   &  0.053080367  &  0.489319425  & -0.026161086  & -0.053439851  & -0.361416562  &  0.44696320   &  0.4238983517 & -0.13312410   &  1.00000000   & -0.224873518  & -0.346869178  & -0.1481224021 &  0.40935620   &  0.326228900  &  0.070957926 \\\\\n",
       "\tyr\\_renovated &  0.12643379   &  0.018840823  &  0.05073898   &  0.05536293   &  0.007643505  &  0.006338401  &  0.092884837  &  0.103917288  & -0.060617787  &  0.01441428   &  0.0232846879 &  0.07132290   & -0.22487352   &  1.000000000  &  0.064357057  &  0.0293976092 & -0.06837237   & -0.002672555  &  0.007853765 \\\\\n",
       "\tzipcode & -0.05320285   & -0.152668487  & -0.20386627   & -0.19943004   & -0.129574486  & -0.059120642  &  0.030284728  &  0.084826917  &  0.003025524  & -0.18486209   & -0.2611899765 &  0.07484461   & -0.34686918   &  0.064357057  &  1.000000000  &  0.2670479500 & -0.56407161   & -0.279032997  & -0.147221069 \\\\\n",
       "\tlat &  0.30700348   & -0.008931010  &  0.02457295   &  0.05252946   & -0.085682788  &  0.049614131  & -0.014273776  &  0.006156732  & -0.014941006  &  0.11408406   & -0.0008164986 &  0.11053796   & -0.14812240   &  0.029397609  &  0.267047950  &  1.0000000000 & -0.13551178   &  0.048857932  & -0.086418807 \\\\\n",
       "\tlong &  0.02162624   &  0.129472975  &  0.22304184   &  0.24022330   &  0.229520859  &  0.125419028  & -0.041910200  & -0.078399712  & -0.106500448  &  0.19837215   &  0.3438030175 & -0.14476477   &  0.40935620   & -0.068372369  & -0.564071606  & -0.1355117836 &  1.00000000   &  0.334604984  &  0.254451288 \\\\\n",
       "\tsqft\\_living15 &  0.58537890   &  0.391637524  &  0.56863429   &  0.75642026   &  0.144608174  &  0.279885265  &  0.086463136  &  0.280439082  & -0.092824268  &  0.71320209   &  0.7318702924 &  0.20035498   &  0.32622890   & -0.002672555  & -0.279032997  &  0.0488579321 &  0.33460498   &  1.000000000  &  0.183191749 \\\\\n",
       "\tsqft\\_lot15 &  0.08244715   &  0.029244224  &  0.08717536   &  0.18328555   &  0.718556752  & -0.011269187  &  0.030703283  &  0.072574568  & -0.003405523  &  0.11924790   &  0.1940498619 &  0.01727618   &  0.07095793   &  0.007853765  & -0.147221069  & -0.0864188072 &  0.25445129   &  0.183191749  &  1.000000000 \\\\\n",
       "\\end{tabular}\n"
      ],
      "text/markdown": [
       "\n",
       "| <!--/--> | price | bedrooms | bathrooms | sqft_living | sqft_lot | floors | waterfront | view | condition | grade | sqft_above | sqft_basement | yr_built | yr_renovated | zipcode | lat | long | sqft_living15 | sqft_lot15 | \n",
       "|---|---|---|---|---|---|---|---|---|---|---|---|---|---|---|---|---|---|---|\n",
       "| price |  1.00000000   |  0.308349598  |  0.52513751   |  0.70203505   |  0.089660861  |  0.256793888  |  0.266369434  |  0.397293488  |  0.036361789  |  0.66743426   |  0.6055672984 |  0.32381602   |  0.05401153   |  0.126433793  | -0.053202854  |  0.3070034800 |  0.02162624   |  0.585378904  |  0.082447153  | \n",
       "| bedrooms |  0.30834960   |  1.000000000  |  0.51588364   |  0.57667069   |  0.031703243  |  0.175428935  | -0.006582479  |  0.079531852  |  0.028472104  |  0.35696673   |  0.4776001614 |  0.30309338   |  0.15417807   |  0.018840823  | -0.152668487  | -0.0089310097 |  0.12947298   |  0.391637524  |  0.029244224  | \n",
       "| bathrooms |  0.52513751   |  0.515883638  |  1.00000000   |  0.75466528   |  0.087739662  |  0.500653173  |  0.063743629  |  0.187737024  | -0.124981933  |  0.66498253   |  0.6853424759 |  0.28377003   |  0.50601944   |  0.050738978  | -0.203866274  |  0.0245729528 |  0.22304184   |  0.568634290  |  0.087175361  | \n",
       "| sqft_living |  0.70203505   |  0.576670693  |  0.75466528   |  1.00000000   |  0.172825661  |  0.353949290  |  0.103817818  |  0.284611186  | -0.058752587  |  0.76270448   |  0.8765965987 |  0.43504297   |  0.31804877   |  0.055362927  | -0.199430043  |  0.0525294622 |  0.24022330   |  0.756420259  |  0.183285551  | \n",
       "| sqft_lot |  0.08966086   |  0.031703243  |  0.08773966   |  0.17282566   |  1.000000000  | -0.005200991  |  0.021603683  |  0.074710106  | -0.008958250  |  0.11362112   |  0.1835122809 |  0.01528620   |  0.05308037   |  0.007643505  | -0.129574486  | -0.0856827882 |  0.22952086   |  0.144608174  |  0.718556752  | \n",
       "| floors |  0.25679389   |  0.175428935  |  0.50065317   |  0.35394929   | -0.005200991  |  1.000000000  |  0.023698320  |  0.029443820  | -0.263767946  |  0.45818251   |  0.5238847103 | -0.24570454   |  0.48931942   |  0.006338401  | -0.059120642  |  0.0496141310 |  0.12541903   |  0.279885265  | -0.011269187  | \n",
       "| waterfront |  0.26636943   | -0.006582479  |  0.06374363   |  0.10381782   |  0.021603683  |  0.023698320  |  1.000000000  |  0.401857351  |  0.016653157  |  0.08277491   |  0.0720745917 |  0.08058794   | -0.02616109   |  0.092884837  |  0.030284728  | -0.0142737756 | -0.04191020   |  0.086463136  |  0.030703283  | \n",
       "| view |  0.39729349   |  0.079531852  |  0.18773702   |  0.28461119   |  0.074710106  |  0.029443820  |  0.401857351  |  1.000000000  |  0.045989737  |  0.25132058   |  0.1676493441 |  0.27694658   | -0.05343985   |  0.103917288  |  0.084826917  |  0.0061567321 | -0.07839971   |  0.280439082  |  0.072574568  | \n",
       "| condition |  0.03636179   |  0.028472104  | -0.12498193   | -0.05875259   | -0.008958250  | -0.263767946  |  0.016653157  |  0.045989737  |  1.000000000  | -0.14467367   | -0.1582136164 |  0.17410491   | -0.36141656   | -0.060617787  |  0.003025524  | -0.0149410064 | -0.10650045   | -0.092824268  | -0.003405523  | \n",
       "| grade |  0.66743426   |  0.356966725  |  0.66498253   |  0.76270448   |  0.113621124  |  0.458182514  |  0.082774914  |  0.251320585  | -0.144673671  |  1.00000000   |  0.7559229376 |  0.16839182   |  0.44696320   |  0.014414281  | -0.184862093  |  0.1140840571 |  0.19837215   |  0.713202093  |  0.119247897  | \n",
       "| sqft_above |  0.60556730   |  0.477600161  |  0.68534248   |  0.87659660   |  0.183512281  |  0.523884710  |  0.072074592  |  0.167649344  | -0.158213616  |  0.75592294   |  1.0000000000 | -0.05194331   |  0.42389835   |  0.023284688  | -0.261189977  | -0.0008164986 |  0.34380302   |  0.731870292  |  0.194049862  | \n",
       "| sqft_basement |  0.32381602   |  0.303093375  |  0.28377003   |  0.43504297   |  0.015286202  | -0.245704542  |  0.080587939  |  0.276946579  |  0.174104914  |  0.16839182   | -0.0519433068 |  1.00000000   | -0.13312410   |  0.071322902  |  0.074844608  |  0.1105379580 | -0.14476477   |  0.200354983  |  0.017276181  | \n",
       "| yr_built |  0.05401153   |  0.154178069  |  0.50601944   |  0.31804877   |  0.053080367  |  0.489319425  | -0.026161086  | -0.053439851  | -0.361416562  |  0.44696320   |  0.4238983517 | -0.13312410   |  1.00000000   | -0.224873518  | -0.346869178  | -0.1481224021 |  0.40935620   |  0.326228900  |  0.070957926  | \n",
       "| yr_renovated |  0.12643379   |  0.018840823  |  0.05073898   |  0.05536293   |  0.007643505  |  0.006338401  |  0.092884837  |  0.103917288  | -0.060617787  |  0.01441428   |  0.0232846879 |  0.07132290   | -0.22487352   |  1.000000000  |  0.064357057  |  0.0293976092 | -0.06837237   | -0.002672555  |  0.007853765  | \n",
       "| zipcode | -0.05320285   | -0.152668487  | -0.20386627   | -0.19943004   | -0.129574486  | -0.059120642  |  0.030284728  |  0.084826917  |  0.003025524  | -0.18486209   | -0.2611899765 |  0.07484461   | -0.34686918   |  0.064357057  |  1.000000000  |  0.2670479500 | -0.56407161   | -0.279032997  | -0.147221069  | \n",
       "| lat |  0.30700348   | -0.008931010  |  0.02457295   |  0.05252946   | -0.085682788  |  0.049614131  | -0.014273776  |  0.006156732  | -0.014941006  |  0.11408406   | -0.0008164986 |  0.11053796   | -0.14812240   |  0.029397609  |  0.267047950  |  1.0000000000 | -0.13551178   |  0.048857932  | -0.086418807  | \n",
       "| long |  0.02162624   |  0.129472975  |  0.22304184   |  0.24022330   |  0.229520859  |  0.125419028  | -0.041910200  | -0.078399712  | -0.106500448  |  0.19837215   |  0.3438030175 | -0.14476477   |  0.40935620   | -0.068372369  | -0.564071606  | -0.1355117836 |  1.00000000   |  0.334604984  |  0.254451288  | \n",
       "| sqft_living15 |  0.58537890   |  0.391637524  |  0.56863429   |  0.75642026   |  0.144608174  |  0.279885265  |  0.086463136  |  0.280439082  | -0.092824268  |  0.71320209   |  0.7318702924 |  0.20035498   |  0.32622890   | -0.002672555  | -0.279032997  |  0.0488579321 |  0.33460498   |  1.000000000  |  0.183191749  | \n",
       "| sqft_lot15 |  0.08244715   |  0.029244224  |  0.08717536   |  0.18328555   |  0.718556752  | -0.011269187  |  0.030703283  |  0.072574568  | -0.003405523  |  0.11924790   |  0.1940498619 |  0.01727618   |  0.07095793   |  0.007853765  | -0.147221069  | -0.0864188072 |  0.25445129   |  0.183191749  |  1.000000000  | \n",
       "\n",
       "\n"
      ],
      "text/plain": [
       "              price       bedrooms     bathrooms   sqft_living sqft_lot    \n",
       "price          1.00000000  0.308349598  0.52513751  0.70203505  0.089660861\n",
       "bedrooms       0.30834960  1.000000000  0.51588364  0.57667069  0.031703243\n",
       "bathrooms      0.52513751  0.515883638  1.00000000  0.75466528  0.087739662\n",
       "sqft_living    0.70203505  0.576670693  0.75466528  1.00000000  0.172825661\n",
       "sqft_lot       0.08966086  0.031703243  0.08773966  0.17282566  1.000000000\n",
       "floors         0.25679389  0.175428935  0.50065317  0.35394929 -0.005200991\n",
       "waterfront     0.26636943 -0.006582479  0.06374363  0.10381782  0.021603683\n",
       "view           0.39729349  0.079531852  0.18773702  0.28461119  0.074710106\n",
       "condition      0.03636179  0.028472104 -0.12498193 -0.05875259 -0.008958250\n",
       "grade          0.66743426  0.356966725  0.66498253  0.76270448  0.113621124\n",
       "sqft_above     0.60556730  0.477600161  0.68534248  0.87659660  0.183512281\n",
       "sqft_basement  0.32381602  0.303093375  0.28377003  0.43504297  0.015286202\n",
       "yr_built       0.05401153  0.154178069  0.50601944  0.31804877  0.053080367\n",
       "yr_renovated   0.12643379  0.018840823  0.05073898  0.05536293  0.007643505\n",
       "zipcode       -0.05320285 -0.152668487 -0.20386627 -0.19943004 -0.129574486\n",
       "lat            0.30700348 -0.008931010  0.02457295  0.05252946 -0.085682788\n",
       "long           0.02162624  0.129472975  0.22304184  0.24022330  0.229520859\n",
       "sqft_living15  0.58537890  0.391637524  0.56863429  0.75642026  0.144608174\n",
       "sqft_lot15     0.08244715  0.029244224  0.08717536  0.18328555  0.718556752\n",
       "              floors       waterfront   view         condition    grade      \n",
       "price          0.256793888  0.266369434  0.397293488  0.036361789  0.66743426\n",
       "bedrooms       0.175428935 -0.006582479  0.079531852  0.028472104  0.35696673\n",
       "bathrooms      0.500653173  0.063743629  0.187737024 -0.124981933  0.66498253\n",
       "sqft_living    0.353949290  0.103817818  0.284611186 -0.058752587  0.76270448\n",
       "sqft_lot      -0.005200991  0.021603683  0.074710106 -0.008958250  0.11362112\n",
       "floors         1.000000000  0.023698320  0.029443820 -0.263767946  0.45818251\n",
       "waterfront     0.023698320  1.000000000  0.401857351  0.016653157  0.08277491\n",
       "view           0.029443820  0.401857351  1.000000000  0.045989737  0.25132058\n",
       "condition     -0.263767946  0.016653157  0.045989737  1.000000000 -0.14467367\n",
       "grade          0.458182514  0.082774914  0.251320585 -0.144673671  1.00000000\n",
       "sqft_above     0.523884710  0.072074592  0.167649344 -0.158213616  0.75592294\n",
       "sqft_basement -0.245704542  0.080587939  0.276946579  0.174104914  0.16839182\n",
       "yr_built       0.489319425 -0.026161086 -0.053439851 -0.361416562  0.44696320\n",
       "yr_renovated   0.006338401  0.092884837  0.103917288 -0.060617787  0.01441428\n",
       "zipcode       -0.059120642  0.030284728  0.084826917  0.003025524 -0.18486209\n",
       "lat            0.049614131 -0.014273776  0.006156732 -0.014941006  0.11408406\n",
       "long           0.125419028 -0.041910200 -0.078399712 -0.106500448  0.19837215\n",
       "sqft_living15  0.279885265  0.086463136  0.280439082 -0.092824268  0.71320209\n",
       "sqft_lot15    -0.011269187  0.030703283  0.072574568 -0.003405523  0.11924790\n",
       "              sqft_above    sqft_basement yr_built    yr_renovated zipcode     \n",
       "price          0.6055672984  0.32381602    0.05401153  0.126433793 -0.053202854\n",
       "bedrooms       0.4776001614  0.30309338    0.15417807  0.018840823 -0.152668487\n",
       "bathrooms      0.6853424759  0.28377003    0.50601944  0.050738978 -0.203866274\n",
       "sqft_living    0.8765965987  0.43504297    0.31804877  0.055362927 -0.199430043\n",
       "sqft_lot       0.1835122809  0.01528620    0.05308037  0.007643505 -0.129574486\n",
       "floors         0.5238847103 -0.24570454    0.48931942  0.006338401 -0.059120642\n",
       "waterfront     0.0720745917  0.08058794   -0.02616109  0.092884837  0.030284728\n",
       "view           0.1676493441  0.27694658   -0.05343985  0.103917288  0.084826917\n",
       "condition     -0.1582136164  0.17410491   -0.36141656 -0.060617787  0.003025524\n",
       "grade          0.7559229376  0.16839182    0.44696320  0.014414281 -0.184862093\n",
       "sqft_above     1.0000000000 -0.05194331    0.42389835  0.023284688 -0.261189977\n",
       "sqft_basement -0.0519433068  1.00000000   -0.13312410  0.071322902  0.074844608\n",
       "yr_built       0.4238983517 -0.13312410    1.00000000 -0.224873518 -0.346869178\n",
       "yr_renovated   0.0232846879  0.07132290   -0.22487352  1.000000000  0.064357057\n",
       "zipcode       -0.2611899765  0.07484461   -0.34686918  0.064357057  1.000000000\n",
       "lat           -0.0008164986  0.11053796   -0.14812240  0.029397609  0.267047950\n",
       "long           0.3438030175 -0.14476477    0.40935620 -0.068372369 -0.564071606\n",
       "sqft_living15  0.7318702924  0.20035498    0.32622890 -0.002672555 -0.279032997\n",
       "sqft_lot15     0.1940498619  0.01727618    0.07095793  0.007853765 -0.147221069\n",
       "              lat           long        sqft_living15 sqft_lot15  \n",
       "price          0.3070034800  0.02162624  0.585378904   0.082447153\n",
       "bedrooms      -0.0089310097  0.12947298  0.391637524   0.029244224\n",
       "bathrooms      0.0245729528  0.22304184  0.568634290   0.087175361\n",
       "sqft_living    0.0525294622  0.24022330  0.756420259   0.183285551\n",
       "sqft_lot      -0.0856827882  0.22952086  0.144608174   0.718556752\n",
       "floors         0.0496141310  0.12541903  0.279885265  -0.011269187\n",
       "waterfront    -0.0142737756 -0.04191020  0.086463136   0.030703283\n",
       "view           0.0061567321 -0.07839971  0.280439082   0.072574568\n",
       "condition     -0.0149410064 -0.10650045 -0.092824268  -0.003405523\n",
       "grade          0.1140840571  0.19837215  0.713202093   0.119247897\n",
       "sqft_above    -0.0008164986  0.34380302  0.731870292   0.194049862\n",
       "sqft_basement  0.1105379580 -0.14476477  0.200354983   0.017276181\n",
       "yr_built      -0.1481224021  0.40935620  0.326228900   0.070957926\n",
       "yr_renovated   0.0293976092 -0.06837237 -0.002672555   0.007853765\n",
       "zipcode        0.2670479500 -0.56407161 -0.279032997  -0.147221069\n",
       "lat            1.0000000000 -0.13551178  0.048857932  -0.086418807\n",
       "long          -0.1355117836  1.00000000  0.334604984   0.254451288\n",
       "sqft_living15  0.0488579321  0.33460498  1.000000000   0.183191749\n",
       "sqft_lot15    -0.0864188072  0.25445129  0.183191749   1.000000000"
      ]
     },
     "metadata": {},
     "output_type": "display_data"
    }
   ],
   "source": [
    "cor(lessData)"
   ]
  },
  {
   "cell_type": "markdown",
   "metadata": {},
   "source": [
    "bathroom, sqft_living, grade, sqft_above, and sqft_living15 all \"look\" significant since they have a corelation greater than 0.5. How can you visualize these 5 features relative to the price? We can plot them..."
   ]
  },
  {
   "cell_type": "code",
   "execution_count": 12,
   "metadata": {
    "collapsed": true
   },
   "outputs": [],
   "source": [
    "options(scipen = 999) \n",
    "\n",
    "library(ggplot2)"
   ]
  },
  {
   "cell_type": "code",
   "execution_count": 16,
   "metadata": {},
   "outputs": [
    {
     "data": {},
     "metadata": {},
     "output_type": "display_data"
    },
    {
     "data": {
      "image/png": "[encoded data removed]",
      "text/plain": [
       "plot without title"
      ]
     },
     "metadata": {},
     "output_type": "display_data"
    }
   ],
   "source": [
    "ggplot(lessData, aes(x = sqft_living, y = price), main(\"Price vs Sqft living area\")) + \n",
    "    geom_point(aes(color = factor(grade), size = bathrooms)) + \n",
    "    xlab(\"sqft living\") + \n",
    "    ylab(\"price\")\n"
   ]
  },
  {
   "cell_type": "markdown",
   "metadata": {},
   "source": [
    "Houses with 0 bathrooms and 0 bedrooms are typical outliers. Let's remove them and redo this"
   ]
  },
  {
   "cell_type": "code",
   "execution_count": 17,
   "metadata": {
    "collapsed": true
   },
   "outputs": [],
   "source": [
    "lessData <- lessData[!lessData$bedrooms %in% c(0) & !lessData$bathrooms %in% c(0), ]"
   ]
  },
  {
   "cell_type": "code",
   "execution_count": 19,
   "metadata": {},
   "outputs": [
    {
     "data": {},
     "metadata": {},
     "output_type": "display_data"
    },
    {
     "data": {
      "image/png": "[encoded data removed]",
      "text/plain": [
       "plot without title"
      ]
     },
     "metadata": {},
     "output_type": "display_data"
    }
   ],
   "source": [
    "ggplot(lessData, aes(x = sqft_living, y = price), main(\"Price vs Sqft living area\")) +\n",
    "    geom_point(aes(color = factor(grade), size = bathrooms)) + \n",
    "    geom_smooth(method = lm, color = \"black\")"
   ]
  },
  {
   "cell_type": "markdown",
   "metadata": {},
   "source": [
    "This plot does well summarizing price against sqft_living but explains little about how price correlates with sqft_above or number of bathrooms. The size of the datapoints denote the sqft_above. Since the observations are closely packed, we are not able to identify the trend in the data along the sqft_living. Bathrooms, when used as a factor, has 29 levels and that makes it difficult to interpret as well. \n",
    "\n",
    "We can also try plotting in 3 dimensional to see if size and color parameters help us in analyzing multiple diemnsions in the data. "
   ]
  },
  {
   "cell_type": "code",
   "execution_count": 23,
   "metadata": {},
   "outputs": [],
   "source": [
    "library(scatterplot3d)"
   ]
  },
  {
   "cell_type": "code",
   "execution_count": 24,
   "metadata": {
    "collapsed": true
   },
   "outputs": [],
   "source": [
    "lessData$colors[lessData$bathrooms < 2] <- \"red\"\n",
    "lessData$colors[lessData$bathrooms == 2] <- \"blue\"\n",
    "lessData$colors[lessData$bathrooms > 2] <- \"green\"\n",
    "lessData$colors[lessData$bathrooms > 3] <- \"magenta\"\n",
    "lessData$colors[lessData$bathrooms > 4] <- \"cyan\""
   ]
  },
  {
   "cell_type": "code",
   "execution_count": 25,
   "metadata": {},
   "outputs": [
    {
     "data": {
      "image/png": "[encoded data removed]",
      "text/plain": [
       "Plot with title \"Areas vs Prices\""
      ]
     },
     "metadata": {},
     "output_type": "display_data"
    }
   ],
   "source": [
    "with(lessData,{\n",
    "        \n",
    "     scatterplot3d(sqft_living, sqft_above, price, \n",
    "                      type = \"h\",\n",
    "                      angle = 45, \n",
    "                      pch = 16,\n",
    "                      color = lessData$colors,\n",
    "                      main = \"Areas vs Prices\",\n",
    "                      xlab = \"Sqft living area\",\n",
    "                      ylab = \"Sqft above area\",\n",
    "                      zlab = \"Price\"                                             \n",
    "                  )\n",
    "     \n",
    "     legend(\"topleft\", inset = 0.05, bty = \"n\", cex = 0.5, title = \"Bathrooms\", \n",
    "               c(\"<2\", \"2\", \">2\", \">3\", \">4\"), \n",
    "               fill = c(\"red\", \"blue\", \"green\", \"magenta\", \"cyan\")\n",
    "           )\n",
    "     \n",
    "    })"
   ]
  },
  {
   "cell_type": "markdown",
   "metadata": {},
   "source": [
    "While we have been able to incorporate additional features of the data into the plot, we can see we have reached the limit in dimensionality of the data that can be visually inspected. \n",
    "\n",
    "## Feature selection\n",
    "\n",
    "Feature selection is the process of choosing relevant features from a dataset to perform modelling and machine learning tasks."
   ]
  }
 ],
 "metadata": {
  "kernelspec": {
   "display_name": "R",
   "language": "R",
   "name": "ir"
  },
  "language_info": {
   "codemirror_mode": "r",
   "file_extension": ".r",
   "mimetype": "text/x-r-source",
   "name": "R",
   "pygments_lexer": "r",
   "version": "3.4.1"
  }
 },
 "nbformat": 4,
 "nbformat_minor": 2
}
