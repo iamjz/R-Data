{
 "cells": [
  {
   "cell_type": "markdown",
   "metadata": {},
   "source": [
    "### Conditional Probability\n",
    "\n",
    "Conditional probability, as you have seen in the labs and the video, \n",
    "is the probability of an event X occurring given that another event Y has occurred. \n",
    "Mathematically, it is represented as $P(X | Y)$ which is read as “probability of X given Y”.\n",
    "\n",
    "We will continue working with motor vehicle thefts dataset to apply conditional probability concepts on it. \n",
    "You will be introduced to a new function `tally()` that works just like prop.table() for working easily with conditional probability."
   ]
  },
  {
   "cell_type": "markdown",
   "metadata": {},
   "source": [
    "#### Read the data\n",
    "\n",
    "Load the motor thefts dataset into a variable called vehicle_thefts."
   ]
  },
  {
   "cell_type": "code",
   "execution_count": 1,
   "metadata": {},
   "outputs": [
    {
     "data": {
      "text/html": [
       "<table>\n",
       "<thead><tr><th scope=col>ID</th><th scope=col>Date</th><th scope=col>LocationDescription</th><th scope=col>Arrest</th><th scope=col>Domestic</th><th scope=col>Beat</th><th scope=col>District</th><th scope=col>CommunityArea</th><th scope=col>Year</th><th scope=col>Latitude</th><th scope=col>Longitude</th></tr></thead>\n",
       "<tbody>\n",
       "\t<tr><td>8951354                      </td><td>12/31/2012 23:15             </td><td>STREET                       </td><td>FALSE                        </td><td>FALSE                        </td><td> 623                         </td><td> 6                           </td><td>69                           </td><td>2012                         </td><td>41.75628                     </td><td>-87.62164                    </td></tr>\n",
       "\t<tr><td>8951141                      </td><td>12/31/2012 22:00             </td><td>STREET                       </td><td>FALSE                        </td><td>FALSE                        </td><td>1213                         </td><td>12                           </td><td>24                           </td><td>2012                         </td><td>41.89879                     </td><td>-87.66130                    </td></tr>\n",
       "\t<tr><td>8952745                      </td><td>12/31/2012 22:00             </td><td>RESIDENTIAL YARD (FRONT/BACK)</td><td>FALSE                        </td><td>FALSE                        </td><td>1622                         </td><td>16                           </td><td>11                           </td><td>2012                         </td><td>41.96919                     </td><td>-87.76767                    </td></tr>\n",
       "\t<tr><td>8952223                      </td><td>12/31/2012 22:00             </td><td>STREET                       </td><td>FALSE                        </td><td>FALSE                        </td><td> 724                         </td><td> 7                           </td><td>67                           </td><td>2012                         </td><td>41.76933                     </td><td>-87.65773                    </td></tr>\n",
       "\t<tr><td>8951608                      </td><td>12/31/2012 21:30             </td><td>STREET                       </td><td>FALSE                        </td><td>FALSE                        </td><td> 211                         </td><td> 2                           </td><td>35                           </td><td>2012                         </td><td>41.83757                     </td><td>-87.62176                    </td></tr>\n",
       "\t<tr><td>8950793                      </td><td>12/31/2012 20:30             </td><td>STREET                       </td><td> TRUE                        </td><td>FALSE                        </td><td>2521                         </td><td>25                           </td><td>19                           </td><td>2012                         </td><td>41.92856                     </td><td>-87.75400                    </td></tr>\n",
       "</tbody>\n",
       "</table>\n"
      ],
      "text/latex": [
       "\\begin{tabular}{r|lllllllllll}\n",
       " ID & Date & LocationDescription & Arrest & Domestic & Beat & District & CommunityArea & Year & Latitude & Longitude\\\\\n",
       "\\hline\n",
       "\t 8951354                       & 12/31/2012 23:15              & STREET                        & FALSE                         & FALSE                         &  623                          &  6                            & 69                            & 2012                          & 41.75628                      & -87.62164                    \\\\\n",
       "\t 8951141                       & 12/31/2012 22:00              & STREET                        & FALSE                         & FALSE                         & 1213                          & 12                            & 24                            & 2012                          & 41.89879                      & -87.66130                    \\\\\n",
       "\t 8952745                       & 12/31/2012 22:00              & RESIDENTIAL YARD (FRONT/BACK) & FALSE                         & FALSE                         & 1622                          & 16                            & 11                            & 2012                          & 41.96919                      & -87.76767                    \\\\\n",
       "\t 8952223                       & 12/31/2012 22:00              & STREET                        & FALSE                         & FALSE                         &  724                          &  7                            & 67                            & 2012                          & 41.76933                      & -87.65773                    \\\\\n",
       "\t 8951608                       & 12/31/2012 21:30              & STREET                        & FALSE                         & FALSE                         &  211                          &  2                            & 35                            & 2012                          & 41.83757                      & -87.62176                    \\\\\n",
       "\t 8950793                       & 12/31/2012 20:30              & STREET                        &  TRUE                         & FALSE                         & 2521                          & 25                            & 19                            & 2012                          & 41.92856                      & -87.75400                    \\\\\n",
       "\\end{tabular}\n"
      ],
      "text/markdown": [
       "\n",
       "ID | Date | LocationDescription | Arrest | Domestic | Beat | District | CommunityArea | Year | Latitude | Longitude | \n",
       "|---|---|---|---|---|---|\n",
       "| 8951354                       | 12/31/2012 23:15              | STREET                        | FALSE                         | FALSE                         |  623                          |  6                            | 69                            | 2012                          | 41.75628                      | -87.62164                     | \n",
       "| 8951141                       | 12/31/2012 22:00              | STREET                        | FALSE                         | FALSE                         | 1213                          | 12                            | 24                            | 2012                          | 41.89879                      | -87.66130                     | \n",
       "| 8952745                       | 12/31/2012 22:00              | RESIDENTIAL YARD (FRONT/BACK) | FALSE                         | FALSE                         | 1622                          | 16                            | 11                            | 2012                          | 41.96919                      | -87.76767                     | \n",
       "| 8952223                       | 12/31/2012 22:00              | STREET                        | FALSE                         | FALSE                         |  724                          |  7                            | 67                            | 2012                          | 41.76933                      | -87.65773                     | \n",
       "| 8951608                       | 12/31/2012 21:30              | STREET                        | FALSE                         | FALSE                         |  211                          |  2                            | 35                            | 2012                          | 41.83757                      | -87.62176                     | \n",
       "| 8950793                       | 12/31/2012 20:30              | STREET                        |  TRUE                         | FALSE                         | 2521                          | 25                            | 19                            | 2012                          | 41.92856                      | -87.75400                     | \n",
       "\n",
       "\n"
      ],
      "text/plain": [
       "  ID      Date             LocationDescription           Arrest Domestic Beat\n",
       "1 8951354 12/31/2012 23:15 STREET                        FALSE  FALSE     623\n",
       "2 8951141 12/31/2012 22:00 STREET                        FALSE  FALSE    1213\n",
       "3 8952745 12/31/2012 22:00 RESIDENTIAL YARD (FRONT/BACK) FALSE  FALSE    1622\n",
       "4 8952223 12/31/2012 22:00 STREET                        FALSE  FALSE     724\n",
       "5 8951608 12/31/2012 21:30 STREET                        FALSE  FALSE     211\n",
       "6 8950793 12/31/2012 20:30 STREET                         TRUE  FALSE    2521\n",
       "  District CommunityArea Year Latitude Longitude\n",
       "1  6       69            2012 41.75628 -87.62164\n",
       "2 12       24            2012 41.89879 -87.66130\n",
       "3 16       11            2012 41.96919 -87.76767\n",
       "4  7       67            2012 41.76933 -87.65773\n",
       "5  2       35            2012 41.83757 -87.62176\n",
       "6 25       19            2012 41.92856 -87.75400"
      ]
     },
     "metadata": {},
     "output_type": "display_data"
    }
   ],
   "source": [
    "vehicle_thefts <- read.csv(\"datasets/motor vehicle thefts/mvt.csv\",header=TRUE)\n",
    "head(vehicle_thefts)"
   ]
  },
  {
   "cell_type": "code",
   "execution_count": 2,
   "metadata": {},
   "outputs": [
    {
     "data": {
      "text/plain": [
       "[1] \"2012-12-31 23:15:00 CST\" \"2012-12-31 22:00:00 CST\""
      ]
     },
     "metadata": {},
     "output_type": "display_data"
    }
   ],
   "source": [
    "DateConvert = strptime(vehicle_thefts$Date, \"%m/%d/%Y %H:%M\")\n",
    "\n",
    "DateConvert[0:2]"
   ]
  },
  {
   "cell_type": "code",
   "execution_count": 3,
   "metadata": {},
   "outputs": [
    {
     "name": "stderr",
     "output_type": "stream",
     "text": [
      "\n",
      "Attaching package: 'lubridate'\n",
      "\n",
      "The following object is masked from 'package:base':\n",
      "\n",
      "    date\n",
      "\n",
      "Warning message:\n",
      "\"package 'dplyr' was built under R version 3.4.2\"\n",
      "Attaching package: 'dplyr'\n",
      "\n",
      "The following objects are masked from 'package:lubridate':\n",
      "\n",
      "    intersect, setdiff, union\n",
      "\n",
      "The following objects are masked from 'package:stats':\n",
      "\n",
      "    filter, lag\n",
      "\n",
      "The following objects are masked from 'package:base':\n",
      "\n",
      "    intersect, setdiff, setequal, union\n",
      "\n"
     ]
    },
    {
     "name": "stdout",
     "output_type": "stream",
     "text": [
      "[1] \"2012-12-31 23:15:00 CST\" \"2012-12-31 22:00:00 CST\"\n",
      "[1] \"2012-12-31 23:15:00 UTC\" \"2012-12-31 22:00:00 UTC\"\n"
     ]
    }
   ],
   "source": [
    "#extract the month and the day of the week and add these variables to the data frame vehicle_thefts\n",
    "# install.packages(\"lubridate\",repo=\"http://cran.mtu.edu/\")\n",
    "library(lubridate)\n",
    "library(dplyr)\n",
    "\n",
    "print(DateConvert[0:2])\n",
    "expand_date <- ymd_hms(DateConvert) #Converting input date \"12/31/2012 20:30\" to \"2012-12-31 23:15:00 UTC\" format\n",
    "print(expand_date[0:2])"
   ]
  },
  {
   "cell_type": "code",
   "execution_count": 4,
   "metadata": {
    "collapsed": true
   },
   "outputs": [],
   "source": [
    "vehicle_thefts$Month = months(DateConvert)  #Extract month from formatted date. \n",
    "vehicle_thefts$Weekday = weekdays(DateConvert)   #Extract weekday from formatted date. "
   ]
  },
  {
   "cell_type": "code",
   "execution_count": 5,
   "metadata": {},
   "outputs": [
    {
     "data": {
      "text/html": [
       "<ol class=list-inline>\n",
       "\t<li>'December'</li>\n",
       "\t<li>'December'</li>\n",
       "</ol>\n"
      ],
      "text/latex": [
       "\\begin{enumerate*}\n",
       "\\item 'December'\n",
       "\\item 'December'\n",
       "\\end{enumerate*}\n"
      ],
      "text/markdown": [
       "1. 'December'\n",
       "2. 'December'\n",
       "\n",
       "\n"
      ],
      "text/plain": [
       "[1] \"December\" \"December\""
      ]
     },
     "metadata": {},
     "output_type": "display_data"
    }
   ],
   "source": [
    "vehicle_thefts$Month[0:2]"
   ]
  },
  {
   "cell_type": "code",
   "execution_count": 6,
   "metadata": {},
   "outputs": [
    {
     "data": {
      "text/html": [
       "<ol class=list-inline>\n",
       "\t<li>'Monday'</li>\n",
       "\t<li>'Monday'</li>\n",
       "</ol>\n"
      ],
      "text/latex": [
       "\\begin{enumerate*}\n",
       "\\item 'Monday'\n",
       "\\item 'Monday'\n",
       "\\end{enumerate*}\n"
      ],
      "text/markdown": [
       "1. 'Monday'\n",
       "2. 'Monday'\n",
       "\n",
       "\n"
      ],
      "text/plain": [
       "[1] \"Monday\" \"Monday\""
      ]
     },
     "metadata": {},
     "output_type": "display_data"
    }
   ],
   "source": [
    "vehicle_thefts$Weekday[0:2]"
   ]
  },
  {
   "cell_type": "code",
   "execution_count": 7,
   "metadata": {},
   "outputs": [
    {
     "name": "stdout",
     "output_type": "stream",
     "text": [
      "[1] \"2012-12-31 23:15:00 UTC\" \"2012-12-31 22:00:00 UTC\"\n"
     ]
    }
   ],
   "source": [
    "print(expand_date[0:2])"
   ]
  },
  {
   "cell_type": "code",
   "execution_count": 8,
   "metadata": {
    "collapsed": true
   },
   "outputs": [],
   "source": [
    "# using base::format\n",
    "vehicle_thefts$Hour = as.numeric(format(expand_date, \"%H\")) #Extract hour from formatted date. \n",
    "vehicle_thefts$Minutes = as.numeric(format(expand_date, \"%M\"))  #Extract minutes from formatted date. "
   ]
  },
  {
   "cell_type": "code",
   "execution_count": 9,
   "metadata": {},
   "outputs": [
    {
     "data": {
      "text/html": [
       "<ol class=list-inline>\n",
       "\t<li>23</li>\n",
       "\t<li>22</li>\n",
       "</ol>\n"
      ],
      "text/latex": [
       "\\begin{enumerate*}\n",
       "\\item 23\n",
       "\\item 22\n",
       "\\end{enumerate*}\n"
      ],
      "text/markdown": [
       "1. 23\n",
       "2. 22\n",
       "\n",
       "\n"
      ],
      "text/plain": [
       "[1] 23 22"
      ]
     },
     "metadata": {},
     "output_type": "display_data"
    }
   ],
   "source": [
    "vehicle_thefts$Hour[0:2]"
   ]
  },
  {
   "cell_type": "code",
   "execution_count": 10,
   "metadata": {},
   "outputs": [
    {
     "data": {
      "text/html": [
       "<ol class=list-inline>\n",
       "\t<li>15</li>\n",
       "\t<li>0</li>\n",
       "</ol>\n"
      ],
      "text/latex": [
       "\\begin{enumerate*}\n",
       "\\item 15\n",
       "\\item 0\n",
       "\\end{enumerate*}\n"
      ],
      "text/markdown": [
       "1. 15\n",
       "2. 0\n",
       "\n",
       "\n"
      ],
      "text/plain": [
       "[1] 15  0"
      ]
     },
     "metadata": {},
     "output_type": "display_data"
    }
   ],
   "source": [
    "vehicle_thefts$Minutes[0:2]"
   ]
  },
  {
   "cell_type": "markdown",
   "metadata": {},
   "source": [
    "**Reference: **[format()](https://stat.ethz.ch/R-manual/R-devel/library/base/html/format.html)"
   ]
  },
  {
   "cell_type": "markdown",
   "metadata": {},
   "source": [
    "What is the probability of an arrest being made for the month with largest number of motor vehicle thefts? First let's find out the month with maximum number of thefts.\n"
   ]
  },
  {
   "cell_type": "code",
   "execution_count": 11,
   "metadata": {},
   "outputs": [
    {
     "data": {
      "text/plain": [
       "\n",
       " February     April     March      June       May   January September  November \n",
       "    13511     15280     15758     16002     16035     16047     16060     16063 \n",
       " December    August      July   October       Sum \n",
       "    16426     16572     16801     17086    191641 "
      ]
     },
     "metadata": {},
     "output_type": "display_data"
    }
   ],
   "source": [
    "#Find the name of the month with largest value among the table() output results\n",
    "addmargins(sort(table(vehicle_thefts$Month)))"
   ]
  },
  {
   "cell_type": "code",
   "execution_count": 12,
   "metadata": {},
   "outputs": [
    {
     "data": {
      "text/html": [
       "17086"
      ],
      "text/latex": [
       "17086"
      ],
      "text/markdown": [
       "17086"
      ],
      "text/plain": [
       "[1] 17086"
      ]
     },
     "metadata": {},
     "output_type": "display_data"
    }
   ],
   "source": [
    "max(table(vehicle_thefts$Month)) # October"
   ]
  },
  {
   "cell_type": "code",
   "execution_count": 13,
   "metadata": {},
   "outputs": [
    {
     "data": {
      "text/html": [
       "<table>\n",
       "<thead><tr><th></th><th scope=col>FALSE</th><th scope=col>TRUE</th><th scope=col>Sum</th></tr></thead>\n",
       "<tbody>\n",
       "\t<tr><th scope=row>April</th><td> 14028</td><td> 1252 </td><td> 15280</td></tr>\n",
       "\t<tr><th scope=row>August</th><td> 15243</td><td> 1329 </td><td> 16572</td></tr>\n",
       "\t<tr><th scope=row>December</th><td> 15029</td><td> 1397 </td><td> 16426</td></tr>\n",
       "\t<tr><th scope=row>February</th><td> 12273</td><td> 1238 </td><td> 13511</td></tr>\n",
       "\t<tr><th scope=row>January</th><td> 14612</td><td> 1435 </td><td> 16047</td></tr>\n",
       "\t<tr><th scope=row>July</th><td> 15477</td><td> 1324 </td><td> 16801</td></tr>\n",
       "\t<tr><th scope=row>June</th><td> 14772</td><td> 1230 </td><td> 16002</td></tr>\n",
       "\t<tr><th scope=row>March</th><td> 14460</td><td> 1298 </td><td> 15758</td></tr>\n",
       "\t<tr><th scope=row>May</th><td> 14848</td><td> 1187 </td><td> 16035</td></tr>\n",
       "\t<tr><th scope=row>November</th><td> 14807</td><td> 1256 </td><td> 16063</td></tr>\n",
       "\t<tr><th scope=row>October</th><td> 15744</td><td> 1342 </td><td> 17086</td></tr>\n",
       "\t<tr><th scope=row>September</th><td> 14812</td><td> 1248 </td><td> 16060</td></tr>\n",
       "\t<tr><th scope=row>Sum</th><td>176105</td><td>15536 </td><td>191641</td></tr>\n",
       "</tbody>\n",
       "</table>\n"
      ],
      "text/latex": [
       "\\begin{tabular}{r|lll}\n",
       "  & FALSE & TRUE & Sum\\\\\n",
       "\\hline\n",
       "\tApril &  14028 &  1252  &  15280\\\\\n",
       "\tAugust &  15243 &  1329  &  16572\\\\\n",
       "\tDecember &  15029 &  1397  &  16426\\\\\n",
       "\tFebruary &  12273 &  1238  &  13511\\\\\n",
       "\tJanuary &  14612 &  1435  &  16047\\\\\n",
       "\tJuly &  15477 &  1324  &  16801\\\\\n",
       "\tJune &  14772 &  1230  &  16002\\\\\n",
       "\tMarch &  14460 &  1298  &  15758\\\\\n",
       "\tMay &  14848 &  1187  &  16035\\\\\n",
       "\tNovember &  14807 &  1256  &  16063\\\\\n",
       "\tOctober &  15744 &  1342  &  17086\\\\\n",
       "\tSeptember &  14812 &  1248  &  16060\\\\\n",
       "\tSum & 176105 & 15536  & 191641\\\\\n",
       "\\end{tabular}\n"
      ],
      "text/markdown": [
       "\n",
       "| <!--/--> | FALSE | TRUE | Sum | \n",
       "|---|---|---|---|---|---|---|---|---|---|---|---|---|\n",
       "| April |  14028 |  1252  |  15280 | \n",
       "| August |  15243 |  1329  |  16572 | \n",
       "| December |  15029 |  1397  |  16426 | \n",
       "| February |  12273 |  1238  |  13511 | \n",
       "| January |  14612 |  1435  |  16047 | \n",
       "| July |  15477 |  1324  |  16801 | \n",
       "| June |  14772 |  1230  |  16002 | \n",
       "| March |  14460 |  1298  |  15758 | \n",
       "| May |  14848 |  1187  |  16035 | \n",
       "| November |  14807 |  1256  |  16063 | \n",
       "| October |  15744 |  1342  |  17086 | \n",
       "| September |  14812 |  1248  |  16060 | \n",
       "| Sum | 176105 | 15536  | 191641 | \n",
       "\n",
       "\n"
      ],
      "text/plain": [
       "           \n",
       "            FALSE  TRUE  Sum   \n",
       "  April      14028  1252  15280\n",
       "  August     15243  1329  16572\n",
       "  December   15029  1397  16426\n",
       "  February   12273  1238  13511\n",
       "  January    14612  1435  16047\n",
       "  July       15477  1324  16801\n",
       "  June       14772  1230  16002\n",
       "  March      14460  1298  15758\n",
       "  May        14848  1187  16035\n",
       "  November   14807  1256  16063\n",
       "  October    15744  1342  17086\n",
       "  September  14812  1248  16060\n",
       "  Sum       176105 15536 191641"
      ]
     },
     "metadata": {},
     "output_type": "display_data"
    }
   ],
   "source": [
    "#A table is usually the best summary for categorical data. Once we have a table, we should look at it and say something sensible.\n",
    "#Now let's take a look at the relationship between the two categorical variables Month and Arrest.\n",
    "addmargins(table(vehicle_thefts$Month, vehicle_thefts$Arrest))"
   ]
  },
  {
   "cell_type": "code",
   "execution_count": 14,
   "metadata": {},
   "outputs": [
    {
     "data": {
      "text/html": [
       "1342"
      ],
      "text/latex": [
       "1342"
      ],
      "text/markdown": [
       "1342"
      ],
      "text/plain": [
       "[1] 1342"
      ]
     },
     "metadata": {},
     "output_type": "display_data"
    }
   ],
   "source": [
    "sum(table(vehicle_thefts$Month[vehicle_thefts$Arrest == TRUE & vehicle_thefts$Month == \"October\"]))\n",
    "# Only Arrests in October"
   ]
  },
  {
   "cell_type": "code",
   "execution_count": 15,
   "metadata": {},
   "outputs": [
    {
     "data": {
      "text/plain": [
       "\n",
       "October \n",
       "  17086 "
      ]
     },
     "metadata": {},
     "output_type": "display_data"
    }
   ],
   "source": [
    "table(vehicle_thefts$Month[vehicle_thefts$Month == \"October\"])\n",
    "# Everything in October"
   ]
  },
  {
   "cell_type": "code",
   "execution_count": 16,
   "metadata": {
    "collapsed": true
   },
   "outputs": [],
   "source": [
    "# 1342/17086"
   ]
  },
  {
   "cell_type": "code",
   "execution_count": 17,
   "metadata": {},
   "outputs": [
    {
     "data": {
      "text/html": [
       "17086"
      ],
      "text/latex": [
       "17086"
      ],
      "text/markdown": [
       "17086"
      ],
      "text/plain": [
       "[1] 17086"
      ]
     },
     "metadata": {},
     "output_type": "display_data"
    }
   ],
   "source": [
    "sum(table(vehicle_thefts$Month[vehicle_thefts$Month==\"October\"]))"
   ]
  },
  {
   "cell_type": "code",
   "execution_count": 18,
   "metadata": {},
   "outputs": [
    {
     "data": {
      "text/html": [
       "0.0785438370595809"
      ],
      "text/latex": [
       "0.0785438370595809"
      ],
      "text/markdown": [
       "0.0785438370595809"
      ],
      "text/plain": [
       "[1] 0.07854384"
      ]
     },
     "metadata": {},
     "output_type": "display_data"
    }
   ],
   "source": [
    "#P(Arrest in October)\n",
    " sum(table(vehicle_thefts$Month[vehicle_thefts$Arrest == TRUE & vehicle_thefts$Month == \"October\"]))/sum(table(vehicle_thefts$Month[vehicle_thefts$Month==\"October\"]))"
   ]
  },
  {
   "cell_type": "markdown",
   "metadata": {},
   "source": [
    "**Activity 2: **Which month has the largest number of motor vehicle thefts for which an arrest was made?"
   ]
  },
  {
   "cell_type": "code",
   "execution_count": 19,
   "metadata": {},
   "outputs": [
    {
     "data": {
      "text/plain": [
       "           \n",
       "            FALSE  TRUE\n",
       "  April     14028  1252\n",
       "  August    15243  1329\n",
       "  December  15029  1397\n",
       "  February  12273  1238\n",
       "  January   14612  1435\n",
       "  July      15477  1324\n",
       "  June      14772  1230\n",
       "  March     14460  1298\n",
       "  May       14848  1187\n",
       "  November  14807  1256\n",
       "  October   15744  1342\n",
       "  September 14812  1248"
      ]
     },
     "metadata": {},
     "output_type": "display_data"
    }
   ],
   "source": [
    "table(vehicle_thefts$Month, vehicle_thefts$Arrest)"
   ]
  },
  {
   "cell_type": "code",
   "execution_count": 20,
   "metadata": {},
   "outputs": [
    {
     "data": {
      "text/plain": [
       "\n",
       "    April    August  December  February   January      July      June     March \n",
       "     1252      1329      1397      1238      1435      1324      1230      1298 \n",
       "      May  November   October September \n",
       "     1187      1256      1342      1248 "
      ]
     },
     "metadata": {},
     "output_type": "display_data"
    }
   ],
   "source": [
    "month_arrest_table <- table(vehicle_thefts$Month[vehicle_thefts$Arrest == TRUE])\n",
    "month_arrest_table"
   ]
  },
  {
   "cell_type": "code",
   "execution_count": 21,
   "metadata": {},
   "outputs": [
    {
     "data": {
      "text/html": [
       "<strong>May:</strong> 9"
      ],
      "text/latex": [
       "\\textbf{May:} 9"
      ],
      "text/markdown": [
       "**May:** 9"
      ],
      "text/plain": [
       "May \n",
       "  9 "
      ]
     },
     "metadata": {},
     "output_type": "display_data"
    }
   ],
   "source": [
    "which.min(month_arrest_table)"
   ]
  },
  {
   "cell_type": "code",
   "execution_count": 22,
   "metadata": {},
   "outputs": [
    {
     "data": {
      "text/html": [
       "<strong>January:</strong> 5"
      ],
      "text/latex": [
       "\\textbf{January:} 5"
      ],
      "text/markdown": [
       "**January:** 5"
      ],
      "text/plain": [
       "January \n",
       "      5 "
      ]
     },
     "metadata": {},
     "output_type": "display_data"
    }
   ],
   "source": [
    "which.max(month_arrest_table)"
   ]
  },
  {
   "cell_type": "code",
   "execution_count": 23,
   "metadata": {},
   "outputs": [
    {
     "data": {
      "text/html": [
       "<table>\n",
       "<thead><tr><th scope=col>X</th><th scope=col>outcome</th><th scope=col>smoker</th><th scope=col>age</th></tr></thead>\n",
       "<tbody>\n",
       "\t<tr><td>1    </td><td>Alive</td><td>Yes  </td><td>23   </td></tr>\n",
       "\t<tr><td>2    </td><td>Alive</td><td>Yes  </td><td>18   </td></tr>\n",
       "\t<tr><td>3    </td><td>Dead </td><td>Yes  </td><td>71   </td></tr>\n",
       "\t<tr><td>4    </td><td>Alive</td><td>No   </td><td>67   </td></tr>\n",
       "\t<tr><td>5    </td><td>Alive</td><td>No   </td><td>64   </td></tr>\n",
       "\t<tr><td>6    </td><td>Alive</td><td>Yes  </td><td>38   </td></tr>\n",
       "</tbody>\n",
       "</table>\n"
      ],
      "text/latex": [
       "\\begin{tabular}{r|llll}\n",
       " X & outcome & smoker & age\\\\\n",
       "\\hline\n",
       "\t 1     & Alive & Yes   & 23   \\\\\n",
       "\t 2     & Alive & Yes   & 18   \\\\\n",
       "\t 3     & Dead  & Yes   & 71   \\\\\n",
       "\t 4     & Alive & No    & 67   \\\\\n",
       "\t 5     & Alive & No    & 64   \\\\\n",
       "\t 6     & Alive & Yes   & 38   \\\\\n",
       "\\end{tabular}\n"
      ],
      "text/markdown": [
       "\n",
       "X | outcome | smoker | age | \n",
       "|---|---|---|---|---|---|\n",
       "| 1     | Alive | Yes   | 23    | \n",
       "| 2     | Alive | Yes   | 18    | \n",
       "| 3     | Dead  | Yes   | 71    | \n",
       "| 4     | Alive | No    | 67    | \n",
       "| 5     | Alive | No    | 64    | \n",
       "| 6     | Alive | Yes   | 38    | \n",
       "\n",
       "\n"
      ],
      "text/plain": [
       "  X outcome smoker age\n",
       "1 1 Alive   Yes    23 \n",
       "2 2 Alive   Yes    18 \n",
       "3 3 Dead    Yes    71 \n",
       "4 4 Alive   No     67 \n",
       "5 5 Alive   No     64 \n",
       "6 6 Alive   Yes    38 "
      ]
     },
     "metadata": {},
     "output_type": "display_data"
    }
   ],
   "source": [
    "smoke_data <- read.csv(\"datasets/smoke/smoke.csv\", header = TRUE)\n",
    "head(smoke_data)"
   ]
  },
  {
   "cell_type": "code",
   "execution_count": 24,
   "metadata": {
    "collapsed": true
   },
   "outputs": [],
   "source": [
    "smoker_outcome = table(smoke_data$smoker,smoke_data$outcome)"
   ]
  },
  {
   "cell_type": "code",
   "execution_count": 25,
   "metadata": {},
   "outputs": [
    {
     "data": {
      "text/html": [
       "<table>\n",
       "<thead><tr><th></th><th scope=col>Alive</th><th scope=col>Dead</th><th scope=col>Sum</th></tr></thead>\n",
       "<tbody>\n",
       "\t<tr><th scope=row>No</th><td>502 </td><td>230 </td><td> 732</td></tr>\n",
       "\t<tr><th scope=row>Yes</th><td>443 </td><td>139 </td><td> 582</td></tr>\n",
       "\t<tr><th scope=row>Sum</th><td>945 </td><td>369 </td><td>1314</td></tr>\n",
       "</tbody>\n",
       "</table>\n"
      ],
      "text/latex": [
       "\\begin{tabular}{r|lll}\n",
       "  & Alive & Dead & Sum\\\\\n",
       "\\hline\n",
       "\tNo & 502  & 230  &  732\\\\\n",
       "\tYes & 443  & 139  &  582\\\\\n",
       "\tSum & 945  & 369  & 1314\\\\\n",
       "\\end{tabular}\n"
      ],
      "text/markdown": [
       "\n",
       "| <!--/--> | Alive | Dead | Sum | \n",
       "|---|---|---|\n",
       "| No | 502  | 230  |  732 | \n",
       "| Yes | 443  | 139  |  582 | \n",
       "| Sum | 945  | 369  | 1314 | \n",
       "\n",
       "\n"
      ],
      "text/plain": [
       "     \n",
       "      Alive Dead Sum \n",
       "  No  502   230   732\n",
       "  Yes 443   139   582\n",
       "  Sum 945   369  1314"
      ]
     },
     "metadata": {},
     "output_type": "display_data"
    }
   ],
   "source": [
    "addmargins(smoker_outcome)"
   ]
  },
  {
   "cell_type": "markdown",
   "metadata": {},
   "source": [
    "There is no point in getting this table unless we can interpret it. Most important thing we might be interested in is whether smoking is a factor in smokers' death vs. nonsmokers' death. 443 out of 945 alive are smokers while 139 out of 369 dead are smokers. Those are hard to compare unless we change to a common denominator, or express them as proportions or percentages. We see that 443 out of 945, or about 47% of the alive smoke; and 139 out of 369, or about 38% of the dead smoked. So smoking does not seem to be a factor in deaths for this group of people. "
   ]
  },
  {
   "cell_type": "code",
   "execution_count": 26,
   "metadata": {},
   "outputs": [
    {
     "data": {
      "text/html": [
       "<table>\n",
       "<thead><tr><th></th><th scope=col>Alive</th><th scope=col>Dead</th><th scope=col>Sum</th></tr></thead>\n",
       "<tbody>\n",
       "\t<tr><th scope=row>No</th><td>0.3820396</td><td>0.1750381</td><td>0.5570776</td></tr>\n",
       "\t<tr><th scope=row>Yes</th><td>0.3371385</td><td>0.1057839</td><td>0.4429224</td></tr>\n",
       "\t<tr><th scope=row>Sum</th><td>0.7191781</td><td>0.2808219</td><td>1.0000000</td></tr>\n",
       "</tbody>\n",
       "</table>\n"
      ],
      "text/latex": [
       "\\begin{tabular}{r|lll}\n",
       "  & Alive & Dead & Sum\\\\\n",
       "\\hline\n",
       "\tNo & 0.3820396 & 0.1750381 & 0.5570776\\\\\n",
       "\tYes & 0.3371385 & 0.1057839 & 0.4429224\\\\\n",
       "\tSum & 0.7191781 & 0.2808219 & 1.0000000\\\\\n",
       "\\end{tabular}\n"
      ],
      "text/markdown": [
       "\n",
       "| <!--/--> | Alive | Dead | Sum | \n",
       "|---|---|---|\n",
       "| No | 0.3820396 | 0.1750381 | 0.5570776 | \n",
       "| Yes | 0.3371385 | 0.1057839 | 0.4429224 | \n",
       "| Sum | 0.7191781 | 0.2808219 | 1.0000000 | \n",
       "\n",
       "\n"
      ],
      "text/plain": [
       "     \n",
       "      Alive     Dead      Sum      \n",
       "  No  0.3820396 0.1750381 0.5570776\n",
       "  Yes 0.3371385 0.1057839 0.4429224\n",
       "  Sum 0.7191781 0.2808219 1.0000000"
      ]
     },
     "metadata": {},
     "output_type": "display_data"
    }
   ],
   "source": [
    "# Example: Above dataset recorded smoking status and whether or not the subject was alive at the end \n",
    "# of 20 years. Use the prop.table function to find the conditional probability of survival for smokers and nonsmokers. \n",
    "# prop.table() is similar to table() command where former one gives probabilities while table() returns actual frequency count. \n",
    "# tally() works exactly like prop.table(). tal <- tally(~smoker + outcome)\n",
    "\n",
    "tal <- prop.table(smoker_outcome)\n",
    "addmargins(tal)"
   ]
  },
  {
   "cell_type": "code",
   "execution_count": 27,
   "metadata": {},
   "outputs": [
    {
     "data": {
      "text/html": [
       "<table>\n",
       "<thead><tr><th></th><th scope=col>Alive</th><th scope=col>Dead</th><th scope=col>Sum</th></tr></thead>\n",
       "<tbody>\n",
       "\t<tr><th scope=row>No</th><td>0.6857923</td><td>0.3142077</td><td>1        </td></tr>\n",
       "\t<tr><th scope=row>Yes</th><td>0.7611684</td><td>0.2388316</td><td>1        </td></tr>\n",
       "\t<tr><th scope=row>Sum</th><td>1.4469607</td><td>0.5530393</td><td>2        </td></tr>\n",
       "</tbody>\n",
       "</table>\n"
      ],
      "text/latex": [
       "\\begin{tabular}{r|lll}\n",
       "  & Alive & Dead & Sum\\\\\n",
       "\\hline\n",
       "\tNo & 0.6857923 & 0.3142077 & 1        \\\\\n",
       "\tYes & 0.7611684 & 0.2388316 & 1        \\\\\n",
       "\tSum & 1.4469607 & 0.5530393 & 2        \\\\\n",
       "\\end{tabular}\n"
      ],
      "text/markdown": [
       "\n",
       "| <!--/--> | Alive | Dead | Sum | \n",
       "|---|---|---|\n",
       "| No | 0.6857923 | 0.3142077 | 1         | \n",
       "| Yes | 0.7611684 | 0.2388316 | 1         | \n",
       "| Sum | 1.4469607 | 0.5530393 | 2         | \n",
       "\n",
       "\n"
      ],
      "text/plain": [
       "     \n",
       "      Alive     Dead      Sum\n",
       "  No  0.6857923 0.3142077 1  \n",
       "  Yes 0.7611684 0.2388316 1  \n",
       "  Sum 1.4469607 0.5530393 2  "
      ]
     },
     "metadata": {},
     "output_type": "display_data"
    }
   ],
   "source": [
    "addmargins(prop.table(smoker_outcome, 1))"
   ]
  },
  {
   "cell_type": "code",
   "execution_count": 28,
   "metadata": {},
   "outputs": [
    {
     "data": {
      "text/html": [
       "<table>\n",
       "<thead><tr><th></th><th scope=col>Alive</th><th scope=col>Dead</th><th scope=col>Sum</th></tr></thead>\n",
       "<tbody>\n",
       "\t<tr><th scope=row>No</th><td>0.5312169</td><td>0.6233062</td><td>1.1545232</td></tr>\n",
       "\t<tr><th scope=row>Yes</th><td>0.4687831</td><td>0.3766938</td><td>0.8454768</td></tr>\n",
       "\t<tr><th scope=row>Sum</th><td>1.0000000</td><td>1.0000000</td><td>2.0000000</td></tr>\n",
       "</tbody>\n",
       "</table>\n"
      ],
      "text/latex": [
       "\\begin{tabular}{r|lll}\n",
       "  & Alive & Dead & Sum\\\\\n",
       "\\hline\n",
       "\tNo & 0.5312169 & 0.6233062 & 1.1545232\\\\\n",
       "\tYes & 0.4687831 & 0.3766938 & 0.8454768\\\\\n",
       "\tSum & 1.0000000 & 1.0000000 & 2.0000000\\\\\n",
       "\\end{tabular}\n"
      ],
      "text/markdown": [
       "\n",
       "| <!--/--> | Alive | Dead | Sum | \n",
       "|---|---|---|\n",
       "| No | 0.5312169 | 0.6233062 | 1.1545232 | \n",
       "| Yes | 0.4687831 | 0.3766938 | 0.8454768 | \n",
       "| Sum | 1.0000000 | 1.0000000 | 2.0000000 | \n",
       "\n",
       "\n"
      ],
      "text/plain": [
       "     \n",
       "      Alive     Dead      Sum      \n",
       "  No  0.5312169 0.6233062 1.1545232\n",
       "  Yes 0.4687831 0.3766938 0.8454768\n",
       "  Sum 1.0000000 1.0000000 2.0000000"
      ]
     },
     "metadata": {},
     "output_type": "display_data"
    }
   ],
   "source": [
    "addmargins(prop.table(smoker_outcome, 2))"
   ]
  },
  {
   "cell_type": "markdown",
   "metadata": {},
   "source": [
    "**Reference: ** [tally()](http://finzi.psych.upenn.edu/library/dplyr/html/tally.html)"
   ]
  },
  {
   "cell_type": "markdown",
   "metadata": {},
   "source": [
    "**Activity 4: ** \n",
    "\n",
    "a) What is the probability that a person was smoker and is dead?\n",
    "\n",
    "b) What is the probability that a person was non-smoker and is dead? \n",
    "\n",
    "Here, smoker status is the condition."
   ]
  },
  {
   "cell_type": "code",
   "execution_count": 29,
   "metadata": {},
   "outputs": [
    {
     "data": {
      "text/html": [
       "<table>\n",
       "<thead><tr><th></th><th scope=col>Alive</th><th scope=col>Dead</th><th scope=col>Sum</th></tr></thead>\n",
       "<tbody>\n",
       "\t<tr><th scope=row>No</th><td>0.3820396</td><td>0.1750381</td><td>0.5570776</td></tr>\n",
       "\t<tr><th scope=row>Yes</th><td>0.3371385</td><td>0.1057839</td><td>0.4429224</td></tr>\n",
       "\t<tr><th scope=row>Sum</th><td>0.7191781</td><td>0.2808219</td><td>1.0000000</td></tr>\n",
       "</tbody>\n",
       "</table>\n"
      ],
      "text/latex": [
       "\\begin{tabular}{r|lll}\n",
       "  & Alive & Dead & Sum\\\\\n",
       "\\hline\n",
       "\tNo & 0.3820396 & 0.1750381 & 0.5570776\\\\\n",
       "\tYes & 0.3371385 & 0.1057839 & 0.4429224\\\\\n",
       "\tSum & 0.7191781 & 0.2808219 & 1.0000000\\\\\n",
       "\\end{tabular}\n"
      ],
      "text/markdown": [
       "\n",
       "| <!--/--> | Alive | Dead | Sum | \n",
       "|---|---|---|\n",
       "| No | 0.3820396 | 0.1750381 | 0.5570776 | \n",
       "| Yes | 0.3371385 | 0.1057839 | 0.4429224 | \n",
       "| Sum | 0.7191781 | 0.2808219 | 1.0000000 | \n",
       "\n",
       "\n"
      ],
      "text/plain": [
       "     \n",
       "      Alive     Dead      Sum      \n",
       "  No  0.3820396 0.1750381 0.5570776\n",
       "  Yes 0.3371385 0.1057839 0.4429224\n",
       "  Sum 0.7191781 0.2808219 1.0000000"
      ]
     },
     "metadata": {},
     "output_type": "display_data"
    }
   ],
   "source": [
    "s <- prop.table(smoker_outcome)\n",
    "addmargins(s)"
   ]
  },
  {
   "cell_type": "code",
   "execution_count": 30,
   "metadata": {},
   "outputs": [
    {
     "data": {
      "text/html": [
       "0.238654323775119"
      ],
      "text/latex": [
       "0.238654323775119"
      ],
      "text/markdown": [
       "0.238654323775119"
      ],
      "text/plain": [
       "[1] 0.2386543"
      ]
     },
     "metadata": {},
     "output_type": "display_data"
    }
   ],
   "source": [
    "#P(dead|smoker) = P(dead & smoker)/P(smoker)\n",
    "\n",
    "# probability of dead given that the person is a smoker\n",
    "\n",
    "(0.1057) / (0.4429)"
   ]
  },
  {
   "cell_type": "code",
   "execution_count": 31,
   "metadata": {},
   "outputs": [
    {
     "data": {
      "text/html": [
       "0.314183123877917"
      ],
      "text/latex": [
       "0.314183123877917"
      ],
      "text/markdown": [
       "0.314183123877917"
      ],
      "text/plain": [
       "[1] 0.3141831"
      ]
     },
     "metadata": {},
     "output_type": "display_data"
    }
   ],
   "source": [
    "#P(dead|nonsmoker) = P(dead & nonsmoker)/P(nonsmoker)\n",
    "\n",
    "# probability of dead given that the person is a nonsmoker\n",
    "\n",
    "(0.175) / (0.557)"
   ]
  },
  {
   "cell_type": "code",
   "execution_count": 32,
   "metadata": {
    "collapsed": true
   },
   "outputs": [],
   "source": [
    "# Use prop.table() if you dont want to do arithmetic of finding percentages from table() results, \n",
    "# The \"2\" tells R to compute the marginal distributions across the columns (smoker status adds up to 1 columnwise). \n",
    "# To compute rowwise percentages, use \"1\" (outcome (dead or alive) adds up to 1.)\n",
    "# --- Add code below ---------------------------------"
   ]
  },
  {
   "cell_type": "code",
   "execution_count": 33,
   "metadata": {},
   "outputs": [
    {
     "data": {
      "text/html": [
       "<table>\n",
       "<thead><tr><th></th><th scope=col>Alive</th><th scope=col>Dead</th><th scope=col>Sum</th></tr></thead>\n",
       "<tbody>\n",
       "\t<tr><th scope=row>No</th><td>0.5312169</td><td>0.6233062</td><td>1.1545232</td></tr>\n",
       "\t<tr><th scope=row>Yes</th><td>0.4687831</td><td>0.3766938</td><td>0.8454768</td></tr>\n",
       "\t<tr><th scope=row>Sum</th><td>1.0000000</td><td>1.0000000</td><td>2.0000000</td></tr>\n",
       "</tbody>\n",
       "</table>\n"
      ],
      "text/latex": [
       "\\begin{tabular}{r|lll}\n",
       "  & Alive & Dead & Sum\\\\\n",
       "\\hline\n",
       "\tNo & 0.5312169 & 0.6233062 & 1.1545232\\\\\n",
       "\tYes & 0.4687831 & 0.3766938 & 0.8454768\\\\\n",
       "\tSum & 1.0000000 & 1.0000000 & 2.0000000\\\\\n",
       "\\end{tabular}\n"
      ],
      "text/markdown": [
       "\n",
       "| <!--/--> | Alive | Dead | Sum | \n",
       "|---|---|---|\n",
       "| No | 0.5312169 | 0.6233062 | 1.1545232 | \n",
       "| Yes | 0.4687831 | 0.3766938 | 0.8454768 | \n",
       "| Sum | 1.0000000 | 1.0000000 | 2.0000000 | \n",
       "\n",
       "\n"
      ],
      "text/plain": [
       "     \n",
       "      Alive     Dead      Sum      \n",
       "  No  0.5312169 0.6233062 1.1545232\n",
       "  Yes 0.4687831 0.3766938 0.8454768\n",
       "  Sum 1.0000000 1.0000000 2.0000000"
      ]
     },
     "metadata": {},
     "output_type": "display_data"
    }
   ],
   "source": [
    "addmargins(prop.table(smoker_outcome,2))"
   ]
  },
  {
   "cell_type": "code",
   "execution_count": 34,
   "metadata": {},
   "outputs": [
    {
     "data": {
      "text/html": [
       "<table>\n",
       "<thead><tr><th></th><th scope=col>Alive</th><th scope=col>Dead</th><th scope=col>Sum</th></tr></thead>\n",
       "<tbody>\n",
       "\t<tr><th scope=row>No</th><td>0.6857923</td><td>0.3142077</td><td>1        </td></tr>\n",
       "\t<tr><th scope=row>Yes</th><td>0.7611684</td><td>0.2388316</td><td>1        </td></tr>\n",
       "\t<tr><th scope=row>Sum</th><td>1.4469607</td><td>0.5530393</td><td>2        </td></tr>\n",
       "</tbody>\n",
       "</table>\n"
      ],
      "text/latex": [
       "\\begin{tabular}{r|lll}\n",
       "  & Alive & Dead & Sum\\\\\n",
       "\\hline\n",
       "\tNo & 0.6857923 & 0.3142077 & 1        \\\\\n",
       "\tYes & 0.7611684 & 0.2388316 & 1        \\\\\n",
       "\tSum & 1.4469607 & 0.5530393 & 2        \\\\\n",
       "\\end{tabular}\n"
      ],
      "text/markdown": [
       "\n",
       "| <!--/--> | Alive | Dead | Sum | \n",
       "|---|---|---|\n",
       "| No | 0.6857923 | 0.3142077 | 1         | \n",
       "| Yes | 0.7611684 | 0.2388316 | 1         | \n",
       "| Sum | 1.4469607 | 0.5530393 | 2         | \n",
       "\n",
       "\n"
      ],
      "text/plain": [
       "     \n",
       "      Alive     Dead      Sum\n",
       "  No  0.6857923 0.3142077 1  \n",
       "  Yes 0.7611684 0.2388316 1  \n",
       "  Sum 1.4469607 0.5530393 2  "
      ]
     },
     "metadata": {},
     "output_type": "display_data"
    }
   ],
   "source": [
    "addmargins(prop.table(smoker_outcome,1))"
   ]
  },
  {
   "cell_type": "markdown",
   "metadata": {},
   "source": [
    "The meaning of conditional probabilities is much clearer in these tables than it is in language or mathematical notation.\n",
    "The idea of a conditional probability is that you are looking at a subset of the data. \n",
    "For example, in an election poll we might be interested in the subset of voters who prefer Candidate A, \n",
    "and also be interested in knowing the proportions of those voters  with respect to gender, race, ethnicity, etc. \n",
    "\n",
    "For the smoke data, we saw that about 40% of the 1314 people smoked. \n",
    "However, for the subset of alive, 443 out of 945, or about 47% are smokers. \n",
    "Often we want to compare one subset to another. \n",
    "Here, 139 of the 369 dead, or about 38% were smokers. \n",
    "We noted this earlier and found those numbers in the table. \n",
    "The notation for these conditional probabilities might look something like \n",
    "P(smoke | alive) and P(smoke | dead) respectively.\n",
    "These can be found by using \"2\" in prop.table() because the subsets (conditions) are dead or alive."
   ]
  },
  {
   "cell_type": "code",
   "execution_count": 35,
   "metadata": {},
   "outputs": [
    {
     "data": {
      "text/html": [
       "<table>\n",
       "<thead><tr><th></th><th scope=col>Alive</th><th scope=col>Dead</th><th scope=col>Sum</th></tr></thead>\n",
       "<tbody>\n",
       "\t<tr><th scope=row>No</th><td>0.5312169</td><td>0.6233062</td><td>1.1545232</td></tr>\n",
       "\t<tr><th scope=row>Yes</th><td>0.4687831</td><td>0.3766938</td><td>0.8454768</td></tr>\n",
       "\t<tr><th scope=row>Sum</th><td>1.0000000</td><td>1.0000000</td><td>2.0000000</td></tr>\n",
       "</tbody>\n",
       "</table>\n"
      ],
      "text/latex": [
       "\\begin{tabular}{r|lll}\n",
       "  & Alive & Dead & Sum\\\\\n",
       "\\hline\n",
       "\tNo & 0.5312169 & 0.6233062 & 1.1545232\\\\\n",
       "\tYes & 0.4687831 & 0.3766938 & 0.8454768\\\\\n",
       "\tSum & 1.0000000 & 1.0000000 & 2.0000000\\\\\n",
       "\\end{tabular}\n"
      ],
      "text/markdown": [
       "\n",
       "| <!--/--> | Alive | Dead | Sum | \n",
       "|---|---|---|\n",
       "| No | 0.5312169 | 0.6233062 | 1.1545232 | \n",
       "| Yes | 0.4687831 | 0.3766938 | 0.8454768 | \n",
       "| Sum | 1.0000000 | 1.0000000 | 2.0000000 | \n",
       "\n",
       "\n"
      ],
      "text/plain": [
       "     \n",
       "      Alive     Dead      Sum      \n",
       "  No  0.5312169 0.6233062 1.1545232\n",
       "  Yes 0.4687831 0.3766938 0.8454768\n",
       "  Sum 1.0000000 1.0000000 2.0000000"
      ]
     },
     "metadata": {},
     "output_type": "display_data"
    }
   ],
   "source": [
    "#comparing proportions of smokers and non-smokers for subsets of alive and dead.\n",
    "addmargins(prop.table(smoker_outcome,2))"
   ]
  },
  {
   "cell_type": "markdown",
   "metadata": {},
   "source": [
    "Similarly, we can answer activity 3 by looking at the subsets (conditions) of smoking status."
   ]
  },
  {
   "cell_type": "code",
   "execution_count": 36,
   "metadata": {},
   "outputs": [
    {
     "data": {
      "text/html": [
       "<table>\n",
       "<thead><tr><th></th><th scope=col>Alive</th><th scope=col>Dead</th><th scope=col>Sum</th></tr></thead>\n",
       "<tbody>\n",
       "\t<tr><th scope=row>No</th><td>0.6857923</td><td>0.3142077</td><td>1        </td></tr>\n",
       "\t<tr><th scope=row>Yes</th><td>0.7611684</td><td>0.2388316</td><td>1        </td></tr>\n",
       "\t<tr><th scope=row>Sum</th><td>1.4469607</td><td>0.5530393</td><td>2        </td></tr>\n",
       "</tbody>\n",
       "</table>\n"
      ],
      "text/latex": [
       "\\begin{tabular}{r|lll}\n",
       "  & Alive & Dead & Sum\\\\\n",
       "\\hline\n",
       "\tNo & 0.6857923 & 0.3142077 & 1        \\\\\n",
       "\tYes & 0.7611684 & 0.2388316 & 1        \\\\\n",
       "\tSum & 1.4469607 & 0.5530393 & 2        \\\\\n",
       "\\end{tabular}\n"
      ],
      "text/markdown": [
       "\n",
       "| <!--/--> | Alive | Dead | Sum | \n",
       "|---|---|---|\n",
       "| No | 0.6857923 | 0.3142077 | 1         | \n",
       "| Yes | 0.7611684 | 0.2388316 | 1         | \n",
       "| Sum | 1.4469607 | 0.5530393 | 2         | \n",
       "\n",
       "\n"
      ],
      "text/plain": [
       "     \n",
       "      Alive     Dead      Sum\n",
       "  No  0.6857923 0.3142077 1  \n",
       "  Yes 0.7611684 0.2388316 1  \n",
       "  Sum 1.4469607 0.5530393 2  "
      ]
     },
     "metadata": {},
     "output_type": "display_data"
    }
   ],
   "source": [
    "#comparing proportions of alive and dead for subsets of nonsmokers and smokers.\n",
    "addmargins(prop.table(smoker_outcome,1))"
   ]
  }
 ],
 "metadata": {
  "kernelspec": {
   "display_name": "R",
   "language": "R",
   "name": "ir"
  },
  "language_info": {
   "codemirror_mode": "r",
   "file_extension": ".r",
   "mimetype": "text/x-r-source",
   "name": "R",
   "pygments_lexer": "r",
   "version": "3.4.1"
  }
 },
 "nbformat": 4,
 "nbformat_minor": 1
}
