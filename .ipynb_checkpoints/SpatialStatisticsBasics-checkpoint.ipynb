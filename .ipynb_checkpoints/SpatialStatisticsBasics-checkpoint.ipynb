{
 "cells": [
  {
   "cell_type": "markdown",
   "metadata": {},
   "source": [
    "Let's generate 200 uniformly random datapoints in a rectangle. "
   ]
  },
  {
   "cell_type": "code",
   "execution_count": 65,
   "metadata": {
    "collapsed": true
   },
   "outputs": [],
   "source": [
    "library(spatstat)\n",
    "library(dplyr)"
   ]
  },
  {
   "cell_type": "code",
   "execution_count": 66,
   "metadata": {
    "collapsed": true
   },
   "outputs": [],
   "source": [
    "n <- 200 \n",
    "# number of points"
   ]
  },
  {
   "cell_type": "code",
   "execution_count": 67,
   "metadata": {
    "collapsed": true
   },
   "outputs": [],
   "source": [
    "# let's set the range\n",
    "xmin <- 0\n",
    "xmax <- 1\n",
    "\n",
    "ymin <- 0\n",
    "ymax <- 2"
   ]
  },
  {
   "cell_type": "code",
   "execution_count": 68,
   "metadata": {
    "collapsed": true
   },
   "outputs": [],
   "source": [
    "# create a uniform sample distribution\n",
    "x <- runif(n, 0, 1)\n",
    "y <- runif(n, 0, 2)"
   ]
  },
  {
   "cell_type": "code",
   "execution_count": 69,
   "metadata": {},
   "outputs": [
    {
     "data": {
      "text/html": [
       "<ol class=list-inline>\n",
       "\t<li>0.468452134402469</li>\n",
       "\t<li>0.162395716644824</li>\n",
       "\t<li>0.192506315885112</li>\n",
       "\t<li>0.0139029056299478</li>\n",
       "\t<li>0.846057121874765</li>\n",
       "\t<li>0.205207568127662</li>\n",
       "</ol>\n"
      ],
      "text/latex": [
       "\\begin{enumerate*}\n",
       "\\item 0.468452134402469\n",
       "\\item 0.162395716644824\n",
       "\\item 0.192506315885112\n",
       "\\item 0.0139029056299478\n",
       "\\item 0.846057121874765\n",
       "\\item 0.205207568127662\n",
       "\\end{enumerate*}\n"
      ],
      "text/markdown": [
       "1. 0.468452134402469\n",
       "2. 0.162395716644824\n",
       "3. 0.192506315885112\n",
       "4. 0.0139029056299478\n",
       "5. 0.846057121874765\n",
       "6. 0.205207568127662\n",
       "\n",
       "\n"
      ],
      "text/plain": [
       "[1] 0.46845213 0.16239572 0.19250632 0.01390291 0.84605712 0.20520757"
      ]
     },
     "metadata": {},
     "output_type": "display_data"
    }
   ],
   "source": [
    "head(x)"
   ]
  },
  {
   "cell_type": "code",
   "execution_count": 70,
   "metadata": {},
   "outputs": [
    {
     "data": {
      "text/html": [
       "<ol class=list-inline>\n",
       "\t<li>1.13213354721665</li>\n",
       "\t<li>0.659006745088845</li>\n",
       "\t<li>1.51062953472137</li>\n",
       "\t<li>0.944892221130431</li>\n",
       "\t<li>1.92811814090237</li>\n",
       "\t<li>1.59218589495867</li>\n",
       "</ol>\n"
      ],
      "text/latex": [
       "\\begin{enumerate*}\n",
       "\\item 1.13213354721665\n",
       "\\item 0.659006745088845\n",
       "\\item 1.51062953472137\n",
       "\\item 0.944892221130431\n",
       "\\item 1.92811814090237\n",
       "\\item 1.59218589495867\n",
       "\\end{enumerate*}\n"
      ],
      "text/markdown": [
       "1. 1.13213354721665\n",
       "2. 0.659006745088845\n",
       "3. 1.51062953472137\n",
       "4. 0.944892221130431\n",
       "5. 1.92811814090237\n",
       "6. 1.59218589495867\n",
       "\n",
       "\n"
      ],
      "text/plain": [
       "[1] 1.1321335 0.6590067 1.5106295 0.9448922 1.9281181 1.5921859"
      ]
     },
     "metadata": {},
     "output_type": "display_data"
    }
   ],
   "source": [
    "head(y)"
   ]
  },
  {
   "cell_type": "markdown",
   "metadata": {},
   "source": [
    "When plotting spatial data, make sure the one X unit is the same size as one Y unit. We don't want any misrepresentation. The Y axis scale to X axis scale is called the aspect ratio. Spatial data should be represented with an aspect ratio of 1:1. "
   ]
  },
  {
   "cell_type": "code",
   "execution_count": 71,
   "metadata": {},
   "outputs": [
    {
     "data": {
      "text/plain": [
       "angle :  num [1:300] 2.47 5.76 3.96 5.2 4.81 ...\n",
       "disc10 : List of 5\n",
       " $ type  : chr \"polygonal\"\n",
       " $ xrange: num [1:2] -10 10\n",
       " $ yrange: num [1:2] -10 10\n",
       " $ bdry  :List of 1\n",
       " $ units :List of 3\n",
       "lamba :  num 1.59\n",
       "lambda :  num 1.59\n",
       "mapxy : function (a = NA)  \n",
       "n :  num 200\n",
       "n_points :  num 300\n",
       "p_cluster : List of 5\n",
       " $ window    :List of 5\n",
       " $ n         : int 332\n",
       " $ x         : num [1:332] 8.934 1.243 -0.349 0.351 1.133 ...\n",
       " $ y         : num [1:332] 0.402 -2.997 -0.612 -0.483 -2.52 ...\n",
       " $ markformat: chr \"none\"\n",
       "ppois : List of 5\n",
       " $ window    :List of 5\n",
       " $ n         : int 497\n",
       " $ x         : num [1:497] -3.153 8.513 -0.794 2.806 2.125 ...\n",
       " $ y         : num [1:497] 8.128 -0.465 6.899 0.279 -8.242 ...\n",
       " $ markformat: chr \"none\"\n",
       "ppxy : List of 5\n",
       " $ window    :List of 5\n",
       " $ n         : int 300\n",
       " $ x         : num [1:300] -4.497 6.119 -2.546 0.766 0.87 ...\n",
       " $ y         : num [1:300] 3.58 -3.56 -2.72 -1.45 -8.67 ...\n",
       " $ markformat: chr \"none\"\n",
       "qt : List of 11\n",
       " $ statistic  : Named num 12.1\n",
       " $ parameter  : Named num 24\n",
       " $ p.value    : num 0.0434\n",
       " $ method     : chr [1:2] \"Chi-squared test of CSR using quadrat counts\" \"Pearson X2 statistic\"\n",
       " $ data.name  : chr \"ppxy\"\n",
       " $ alternative: chr \"two.sided\"\n",
       " $ observed   : int [1:25] 1 11 23 11 1 14 16 10 17 12 ...\n",
       " $ expected   : num [1:25] 2.09 11.75 15.02 11.75 2.09 ...\n",
       " $ residuals  : num [1:25] -0.752 -0.219 2.059 -0.219 -0.752 ...\n",
       " $ CR         : num 1\n",
       " $ method.key : chr \"Chisq\"\n",
       "radius :  num 10\n",
       "raidus :  num 10\n",
       "rSquared :  num [1:300] 33.02 50.1 13.87 2.69 75.85 ...\n",
       "strauss : List of 5\n",
       " $ window    :List of 5\n",
       " $ n         : int 300\n",
       " $ x         : num [1:300] -9.32 -8.98 -9.9 -9.74 -9.03 ...\n",
       " $ y         : num [1:300] -3.513 -2.87 -0.864 -1.642 -0.203 ...\n",
       " $ markformat: chr \"none\"\n",
       "thomas : List of 5\n",
       " $ window    :List of 5\n",
       " $ n         : int 379\n",
       " $ x         : num [1:379] -3.262 -0.262 1.058 2.326 2.246 ...\n",
       " $ y         : num [1:379] 1.76 9.18 9.59 -9.71 9.16 ...\n",
       " $ markformat: chr \"none\"\n",
       "x :  num [1:200] 0.4685 0.1624 0.1925 0.0139 0.8461 ...\n",
       "xmax :  num 1\n",
       "xmin :  num 0\n",
       "y :  num [1:200] 1.132 0.659 1.511 0.945 1.928 ...\n",
       "ymax :  num 2\n",
       "ymin :  num 0"
      ]
     },
     "metadata": {},
     "output_type": "display_data"
    }
   ],
   "source": [
    "ls.str() # show me previously assigned variables. "
   ]
  },
  {
   "cell_type": "code",
   "execution_count": 72,
   "metadata": {
    "collapsed": true
   },
   "outputs": [],
   "source": [
    "mapxy <- function(a = NA){\n",
    "    plot(x, y, asp = a)\n",
    "    rect(xmin, ymin, xmax, ymax)\n",
    "}"
   ]
  },
  {
   "cell_type": "code",
   "execution_count": 73,
   "metadata": {},
   "outputs": [
    {
     "data": {
      "image/png": "[encoded data removed]",
      "text/plain": [
       "plot without title"
      ]
     },
     "metadata": {},
     "output_type": "display_data"
    }
   ],
   "source": [
    "mapxy(1) # aspect ratio = 1"
   ]
  },
  {
   "cell_type": "markdown",
   "metadata": {},
   "source": [
    "Now let's create a uniform density pattern inside a circle. The spatstat libary contains the disc() function that creates a circular window for you"
   ]
  },
  {
   "cell_type": "code",
   "execution_count": 74,
   "metadata": {
    "collapsed": true
   },
   "outputs": [],
   "source": [
    "n_points <- 300\n",
    "radius <- 10"
   ]
  },
  {
   "cell_type": "code",
   "execution_count": 75,
   "metadata": {
    "collapsed": true
   },
   "outputs": [],
   "source": [
    "rSquared <- runif(n_points, 0, radius^2)"
   ]
  },
  {
   "cell_type": "code",
   "execution_count": 76,
   "metadata": {},
   "outputs": [
    {
     "data": {
      "text/html": [
       "<ol class=list-inline>\n",
       "\t<li>82.638123491779</li>\n",
       "\t<li>51.5189690049738</li>\n",
       "\t<li>53.2897343160585</li>\n",
       "\t<li>2.59653693065047</li>\n",
       "\t<li>63.3745149243623</li>\n",
       "\t<li>19.4733514683321</li>\n",
       "</ol>\n"
      ],
      "text/latex": [
       "\\begin{enumerate*}\n",
       "\\item 82.638123491779\n",
       "\\item 51.5189690049738\n",
       "\\item 53.2897343160585\n",
       "\\item 2.59653693065047\n",
       "\\item 63.3745149243623\n",
       "\\item 19.4733514683321\n",
       "\\end{enumerate*}\n"
      ],
      "text/markdown": [
       "1. 82.638123491779\n",
       "2. 51.5189690049738\n",
       "3. 53.2897343160585\n",
       "4. 2.59653693065047\n",
       "5. 63.3745149243623\n",
       "6. 19.4733514683321\n",
       "\n",
       "\n"
      ],
      "text/plain": [
       "[1] 82.638123 51.518969 53.289734  2.596537 63.374515 19.473351"
      ]
     },
     "metadata": {},
     "output_type": "display_data"
    }
   ],
   "source": [
    "head(rSquared)"
   ]
  },
  {
   "cell_type": "code",
   "execution_count": 77,
   "metadata": {
    "collapsed": true
   },
   "outputs": [],
   "source": [
    "angle <- runif(n_points, 0, 2*pi)"
   ]
  },
  {
   "cell_type": "code",
   "execution_count": 78,
   "metadata": {},
   "outputs": [
    {
     "data": {
      "text/html": [
       "<ol class=list-inline>\n",
       "\t<li>3.60708036247272</li>\n",
       "\t<li>3.2708122353269</li>\n",
       "\t<li>4.34278647126521</li>\n",
       "\t<li>0.712797120346877</li>\n",
       "\t<li>2.00412720766829</li>\n",
       "\t<li>5.41497669389165</li>\n",
       "</ol>\n"
      ],
      "text/latex": [
       "\\begin{enumerate*}\n",
       "\\item 3.60708036247272\n",
       "\\item 3.2708122353269\n",
       "\\item 4.34278647126521\n",
       "\\item 0.712797120346877\n",
       "\\item 2.00412720766829\n",
       "\\item 5.41497669389165\n",
       "\\end{enumerate*}\n"
      ],
      "text/markdown": [
       "1. 3.60708036247272\n",
       "2. 3.2708122353269\n",
       "3. 4.34278647126521\n",
       "4. 0.712797120346877\n",
       "5. 2.00412720766829\n",
       "6. 5.41497669389165\n",
       "\n",
       "\n"
      ],
      "text/plain": [
       "[1] 3.6070804 3.2708122 4.3427865 0.7127971 2.0041272 5.4149767"
      ]
     },
     "metadata": {},
     "output_type": "display_data"
    }
   ],
   "source": [
    "head(angle)"
   ]
  },
  {
   "cell_type": "code",
   "execution_count": 79,
   "metadata": {
    "collapsed": true
   },
   "outputs": [],
   "source": [
    "x <- sqrt(rSquared) * cos(angle)"
   ]
  },
  {
   "cell_type": "code",
   "execution_count": 80,
   "metadata": {},
   "outputs": [
    {
     "data": {
      "text/html": [
       "<ol class=list-inline>\n",
       "\t<li>-8.12334175454742</li>\n",
       "\t<li>-7.11782959260997</li>\n",
       "\t<li>-2.63708055229358</li>\n",
       "\t<li>1.21906440979348</li>\n",
       "\t<li>-3.34271390048446</li>\n",
       "\t<li>2.85156815899366</li>\n",
       "</ol>\n"
      ],
      "text/latex": [
       "\\begin{enumerate*}\n",
       "\\item -8.12334175454742\n",
       "\\item -7.11782959260997\n",
       "\\item -2.63708055229358\n",
       "\\item 1.21906440979348\n",
       "\\item -3.34271390048446\n",
       "\\item 2.85156815899366\n",
       "\\end{enumerate*}\n"
      ],
      "text/markdown": [
       "1. -8.12334175454742\n",
       "2. -7.11782959260997\n",
       "3. -2.63708055229358\n",
       "4. 1.21906440979348\n",
       "5. -3.34271390048446\n",
       "6. 2.85156815899366\n",
       "\n",
       "\n"
      ],
      "text/plain": [
       "[1] -8.123342 -7.117830 -2.637081  1.219064 -3.342714  2.851568"
      ]
     },
     "metadata": {},
     "output_type": "display_data"
    }
   ],
   "source": [
    "head(x)"
   ]
  },
  {
   "cell_type": "code",
   "execution_count": 81,
   "metadata": {
    "collapsed": true
   },
   "outputs": [],
   "source": [
    "y <- sqrt(rSquared) * sin(angle)"
   ]
  },
  {
   "cell_type": "code",
   "execution_count": 82,
   "metadata": {},
   "outputs": [
    {
     "data": {
      "text/html": [
       "<ol class=list-inline>\n",
       "\t<li>-4.08037280534579</li>\n",
       "\t<li>-0.924916696540626</li>\n",
       "\t<li>-6.80702141004224</li>\n",
       "\t<li>1.05376415550413</li>\n",
       "\t<li>7.22501063693821</li>\n",
       "\t<li>-3.36777530469977</li>\n",
       "</ol>\n"
      ],
      "text/latex": [
       "\\begin{enumerate*}\n",
       "\\item -4.08037280534579\n",
       "\\item -0.924916696540626\n",
       "\\item -6.80702141004224\n",
       "\\item 1.05376415550413\n",
       "\\item 7.22501063693821\n",
       "\\item -3.36777530469977\n",
       "\\end{enumerate*}\n"
      ],
      "text/markdown": [
       "1. -4.08037280534579\n",
       "2. -0.924916696540626\n",
       "3. -6.80702141004224\n",
       "4. 1.05376415550413\n",
       "5. 7.22501063693821\n",
       "6. -3.36777530469977\n",
       "\n",
       "\n"
      ],
      "text/plain": [
       "[1] -4.0803728 -0.9249167 -6.8070214  1.0537642  7.2250106 -3.3677753"
      ]
     },
     "metadata": {},
     "output_type": "display_data"
    }
   ],
   "source": [
    "head(y)"
   ]
  },
  {
   "cell_type": "code",
   "execution_count": 83,
   "metadata": {},
   "outputs": [
    {
     "data": {
      "image/png": "[encoded data removed]",
      "text/plain": [
       "Plot with title \"disc(radius)\""
      ]
     },
     "metadata": {},
     "output_type": "display_data"
    }
   ],
   "source": [
    "plot(disc(radius))\n",
    "points(x, y)"
   ]
  },
  {
   "cell_type": "markdown",
   "metadata": {},
   "source": [
    "- Point = location in a planar space (x, y)\n",
    "- Event = observed data point\n",
    "\n",
    "For example: trees can be in any point but the actual locations are considered events. \n",
    "\n",
    "Spatial studies occur in a confined area called a \"window\". Events occcuring outside the \"window\" are considered unobserved. Spatial point pattern is a set of observed events and the window. Spatial point process is a random number generator for events in a window. Most spatial pattern analysis is spent making inferences about the spatial point process. \n",
    "\n",
    "- Marks = other characteristics (height, width, species, etc) about the events. Also called a \"Mark Point Pattern\".\n",
    "\n",
    "spatstats stores information in its ppp object (planar point pattern). PPPs contain the (x, y) coords, the window, the marks (optional). \n",
    "\n",
    "- Complete Spatial Randomness (CSR) = This just means that no part of the window is any more special than another. And the chance of finding an event somewhere is the same as another location. \n",
    "\n",
    "Testing a hypothesis would be interesting for a scientist since rejecting the hypothesis might show that some parts of the forest are producing more trees than others or trees are clumping together or spacing themselves out. The spatstat library has a bunch of tests:\n",
    "\n",
    "- The Quadrat Test = It can be used to check if the points are completely spatially random. The window is divided into parts (~20 squares) and the number of points in each square are counted. If the process is completely spatially random, then the number of points in the subregions follows a poisson distribution (a simple distribution for counting). The difference between the observed counts and the expected counts lead to a test statistic with a \"chi squared\" distribution. Larger/smaller values of the test statistic indicate the deviation from complete spatial randomness.\n",
    "\n",
    "### Create PPP objects and perform a Quadrat Test"
   ]
  },
  {
   "cell_type": "markdown",
   "metadata": {},
   "source": [
    "Let's run a quadrat count test on some points to verify whether they were uniformly generated on a circle."
   ]
  },
  {
   "cell_type": "code",
   "execution_count": 84,
   "metadata": {},
   "outputs": [
    {
     "data": {
      "text/plain": [
       "angle :  num [1:300] 3.607 3.271 4.343 0.713 2.004 ...\n",
       "disc10 : List of 5\n",
       " $ type  : chr \"polygonal\"\n",
       " $ xrange: num [1:2] -10 10\n",
       " $ yrange: num [1:2] -10 10\n",
       " $ bdry  :List of 1\n",
       " $ units :List of 3\n",
       "lamba :  num 1.59\n",
       "lambda :  num 1.59\n",
       "mapxy : function (a = NA)  \n",
       "n :  num 200\n",
       "n_points :  num 300\n",
       "p_cluster : List of 5\n",
       " $ window    :List of 5\n",
       " $ n         : int 332\n",
       " $ x         : num [1:332] 8.934 1.243 -0.349 0.351 1.133 ...\n",
       " $ y         : num [1:332] 0.402 -2.997 -0.612 -0.483 -2.52 ...\n",
       " $ markformat: chr \"none\"\n",
       "ppois : List of 5\n",
       " $ window    :List of 5\n",
       " $ n         : int 497\n",
       " $ x         : num [1:497] -3.153 8.513 -0.794 2.806 2.125 ...\n",
       " $ y         : num [1:497] 8.128 -0.465 6.899 0.279 -8.242 ...\n",
       " $ markformat: chr \"none\"\n",
       "ppxy : List of 5\n",
       " $ window    :List of 5\n",
       " $ n         : int 300\n",
       " $ x         : num [1:300] -4.497 6.119 -2.546 0.766 0.87 ...\n",
       " $ y         : num [1:300] 3.58 -3.56 -2.72 -1.45 -8.67 ...\n",
       " $ markformat: chr \"none\"\n",
       "qt : List of 11\n",
       " $ statistic  : Named num 12.1\n",
       " $ parameter  : Named num 24\n",
       " $ p.value    : num 0.0434\n",
       " $ method     : chr [1:2] \"Chi-squared test of CSR using quadrat counts\" \"Pearson X2 statistic\"\n",
       " $ data.name  : chr \"ppxy\"\n",
       " $ alternative: chr \"two.sided\"\n",
       " $ observed   : int [1:25] 1 11 23 11 1 14 16 10 17 12 ...\n",
       " $ expected   : num [1:25] 2.09 11.75 15.02 11.75 2.09 ...\n",
       " $ residuals  : num [1:25] -0.752 -0.219 2.059 -0.219 -0.752 ...\n",
       " $ CR         : num 1\n",
       " $ method.key : chr \"Chisq\"\n",
       "radius :  num 10\n",
       "raidus :  num 10\n",
       "rSquared :  num [1:300] 82.6 51.5 53.3 2.6 63.4 ...\n",
       "strauss : List of 5\n",
       " $ window    :List of 5\n",
       " $ n         : int 300\n",
       " $ x         : num [1:300] -9.32 -8.98 -9.9 -9.74 -9.03 ...\n",
       " $ y         : num [1:300] -3.513 -2.87 -0.864 -1.642 -0.203 ...\n",
       " $ markformat: chr \"none\"\n",
       "thomas : List of 5\n",
       " $ window    :List of 5\n",
       " $ n         : int 379\n",
       " $ x         : num [1:379] -3.262 -0.262 1.058 2.326 2.246 ...\n",
       " $ y         : num [1:379] 1.76 9.18 9.59 -9.71 9.16 ...\n",
       " $ markformat: chr \"none\"\n",
       "x :  num [1:300] -8.12 -7.12 -2.64 1.22 -3.34 ...\n",
       "xmax :  num 1\n",
       "xmin :  num 0\n",
       "y :  num [1:300] -4.08 -0.925 -6.807 1.054 7.225 ...\n",
       "ymax :  num 2\n",
       "ymin :  num 0"
      ]
     },
     "metadata": {},
     "output_type": "display_data"
    }
   ],
   "source": [
    "ls.str()"
   ]
  },
  {
   "cell_type": "code",
   "execution_count": 85,
   "metadata": {
    "collapsed": true
   },
   "outputs": [],
   "source": [
    "ppxy <- ppp(x = x, y = y, window = disc(radius))"
   ]
  },
  {
   "cell_type": "code",
   "execution_count": 86,
   "metadata": {},
   "outputs": [
    {
     "data": {
      "text/plain": [
       "Planar point pattern: 300 points\n",
       "window: polygonal boundary\n",
       "enclosing rectangle: [-10, 10] x [-10, 10] units"
      ]
     },
     "metadata": {},
     "output_type": "display_data"
    }
   ],
   "source": [
    "ppxy"
   ]
  },
  {
   "cell_type": "code",
   "execution_count": 87,
   "metadata": {},
   "outputs": [
    {
     "name": "stderr",
     "output_type": "stream",
     "text": [
      "Warning message:\n",
      "\"Some expected counts are small; chi^2 approximation may be inaccurate\""
     ]
    }
   ],
   "source": [
    "# testing the point pattern\n",
    "qt <- quadrat.test(ppxy)"
   ]
  },
  {
   "cell_type": "code",
   "execution_count": 88,
   "metadata": {},
   "outputs": [
    {
     "name": "stdout",
     "output_type": "stream",
     "text": [
      "\n",
      "\tChi-squared test of CSR using quadrat counts\n",
      "\tPearson X2 statistic\n",
      "\n",
      "data:  ppxy\n",
      "X2 = 29.408, df = 24, p-value = 0.4103\n",
      "alternative hypothesis: two.sided\n",
      "\n",
      "Quadrats: 25 tiles (irregular windows)\n"
     ]
    }
   ],
   "source": [
    "print(qt)"
   ]
  },
  {
   "cell_type": "code",
   "execution_count": 89,
   "metadata": {},
   "outputs": [
    {
     "data": {
      "image/png": "[encoded data removed]",
      "text/plain": [
       "Plot with title \"qt\""
      ]
     },
     "metadata": {},
     "output_type": "display_data"
    }
   ],
   "source": [
    "plot(qt)"
   ]
  },
  {
   "cell_type": "markdown",
   "metadata": {},
   "source": [
    "* p-value >= 0.05 = we cannot reject the null hypothesis that the points are spatially random.\n",
    "* p-value < 0.05 = we reject the null hypothesis that the points are spatially random."
   ]
  },
  {
   "cell_type": "markdown",
   "metadata": {},
   "source": [
    "Poisson point process creates events according to a Poisson distribution. The intensity parameter specifies the expected events per unit area. The total number of events generated is a single number from a poisson distribution. Multiple realizations of the same process can have different numbers of events. "
   ]
  },
  {
   "cell_type": "code",
   "execution_count": 90,
   "metadata": {
    "collapsed": true
   },
   "outputs": [],
   "source": [
    "# create a disc of radius = 10\n",
    "disc10 <- disc(10)"
   ]
  },
  {
   "cell_type": "code",
   "execution_count": 91,
   "metadata": {
    "collapsed": true
   },
   "outputs": [],
   "source": [
    "# compute the rate as count/area\n",
    "lambda <- 500/area(disc10)"
   ]
  },
  {
   "cell_type": "code",
   "execution_count": 92,
   "metadata": {},
   "outputs": [
    {
     "data": {
      "text/html": [
       "1.59218876930438"
      ],
      "text/latex": [
       "1.59218876930438"
      ],
      "text/markdown": [
       "1.59218876930438"
      ],
      "text/plain": [
       "[1] 1.592189"
      ]
     },
     "metadata": {},
     "output_type": "display_data"
    }
   ],
   "source": [
    "lambda"
   ]
  },
  {
   "cell_type": "code",
   "execution_count": 93,
   "metadata": {
    "collapsed": true
   },
   "outputs": [],
   "source": [
    "# create ppp\n",
    "ppois <- rpoispp(lambda = lambda, win = disc10)"
   ]
  },
  {
   "cell_type": "code",
   "execution_count": 94,
   "metadata": {},
   "outputs": [
    {
     "data": {
      "text/plain": [
       "Planar point pattern: 494 points\n",
       "window: polygonal boundary\n",
       "enclosing rectangle: [-10, 10] x [-10, 10] units"
      ]
     },
     "metadata": {},
     "output_type": "display_data"
    }
   ],
   "source": [
    "ppois"
   ]
  },
  {
   "cell_type": "code",
   "execution_count": 95,
   "metadata": {},
   "outputs": [
    {
     "data": {
      "image/png": "[encoded data removed]",
      "text/plain": [
       "Plot with title \"ppois\""
      ]
     },
     "metadata": {},
     "output_type": "display_data"
    }
   ],
   "source": [
    "plot(ppois)\n",
    "# now we have a poisson process that generates completely spatially random points. "
   ]
  },
  {
   "cell_type": "markdown",
   "metadata": {},
   "source": [
    "Other point patterns:\n",
    "- Clustered Processes = Points occur together more than under a uniform poisson process\n",
    "- Regular (inhibitory) Processes = Points are more spaced apart than under a uniform intensity poisson process. \n",
    "\n",
    "The quadrat.test() function can test against clustered or regular alternative hypotheses. \n",
    "\n",
    "### Thomas and Strauss Process:\n",
    "\n",
    "- Thomas Process = Clustered pattern where a number of parent points (uniformly distributed) create a number of child points in their neighborhood. The child points themselves form a pattern. This is an atractive point pattern. It makes sense for modelling things like trees, since new trees will grow near the original tree.\n",
    "\n",
    "- Strauss Process = Lowers the probability of finding another point nearby. No 2 points can be closer than a set threshold. This is a repulsive point pattern and it makes sense for modelling things like territorial animals since the other animal will avoid the territory of a given animal. Strauss process points are also called \"Regularly spaced\" points. "
   ]
  },
  {
   "cell_type": "code",
   "execution_count": 96,
   "metadata": {
    "collapsed": true
   },
   "outputs": [],
   "source": [
    "disc10 <- disc(10) \n",
    "# create a disc with radius = 10"
   ]
  },
  {
   "cell_type": "code",
   "execution_count": 97,
   "metadata": {
    "collapsed": true
   },
   "outputs": [],
   "source": [
    "set.seed(123)"
   ]
  },
  {
   "cell_type": "code",
   "execution_count": 98,
   "metadata": {},
   "outputs": [
    {
     "data": {
      "image/png": "[encoded data removed]",
      "text/plain": [
       "Plot with title \"thomas\""
      ]
     },
     "metadata": {},
     "output_type": "display_data"
    }
   ],
   "source": [
    "# generate clustered points from a thomas process\n",
    "thomas <- rThomas(kappa = 0.35, scale = 1, mu = 3, win = disc10)\n",
    "plot(thomas)"
   ]
  },
  {
   "cell_type": "code",
   "execution_count": 99,
   "metadata": {},
   "outputs": [
    {
     "name": "stderr",
     "output_type": "stream",
     "text": [
      "Warning message:\n",
      "\"Some expected counts are small; chi^2 approximation may be inaccurate\""
     ]
    },
    {
     "data": {
      "text/plain": [
       "\n",
       "\tChi-squared test of CSR using quadrat counts\n",
       "\tPearson X2 statistic\n",
       "\n",
       "data:  thomas\n",
       "X2 = 53.387, df = 24, p-value = 0.0005142\n",
       "alternative hypothesis: clustered\n",
       "\n",
       "Quadrats: 25 tiles (irregular windows)"
      ]
     },
     "metadata": {},
     "output_type": "display_data"
    }
   ],
   "source": [
    "# run a quadrat test \n",
    "quadrat.test(thomas, alternative = \"clustered\")"
   ]
  },
  {
   "cell_type": "code",
   "execution_count": 100,
   "metadata": {},
   "outputs": [
    {
     "name": "stderr",
     "output_type": "stream",
     "text": [
      "Warning message:\n",
      "\"Simulation will be performed in the containing rectangle and clipped to the original window.\""
     ]
    },
    {
     "data": {
      "image/png": "[encoded data removed]",
      "text/plain": [
       "Plot with title \"strauss\""
      ]
     },
     "metadata": {},
     "output_type": "display_data"
    }
   ],
   "source": [
    "strauss <- rStrauss(beta = 2.9, gamma = 0.025, R = 0.5, W = disc10)\n",
    "plot(strauss)"
   ]
  },
  {
   "cell_type": "code",
   "execution_count": 101,
   "metadata": {},
   "outputs": [
    {
     "name": "stderr",
     "output_type": "stream",
     "text": [
      "Warning message:\n",
      "\"Some expected counts are small; chi^2 approximation may be inaccurate\""
     ]
    },
    {
     "data": {
      "text/plain": [
       "\n",
       "\tChi-squared test of CSR using quadrat counts\n",
       "\tPearson X2 statistic\n",
       "\n",
       "data:  strauss\n",
       "X2 = 11.653, df = 24, p-value = 0.01646\n",
       "alternative hypothesis: regular\n",
       "\n",
       "Quadrats: 25 tiles (irregular windows)"
      ]
     },
     "metadata": {},
     "output_type": "display_data"
    }
   ],
   "source": [
    "quadrat.test(strauss, alternative = \"regular\")"
   ]
  },
  {
   "cell_type": "markdown",
   "metadata": {},
   "source": [
    "#### The P-Values in the quadrat.tests determined the properties of the pattern"
   ]
  },
  {
   "cell_type": "markdown",
   "metadata": {},
   "source": [
    "One problem with the quadrat.test function is that you would have to choose the number of subregions. Too few and you don't have many numbers for the statistical tests to have much power. Too many and your regions won't have many points in them - you'll lose statistical powers too. \n",
    "\n",
    "Another way to assess clustering and regularity is to consider each point and how it relates to the other points. One simple measure is the distribution of the distances from each point to its nearest neighbor. \n",
    "\n",
    "Nearest Neighbors distribution looks at each events in the pattern and finds the distance to the nearest event. Once we do this for every event, we plot a histogram to get an estimate of the probability density function (PDF) of the nearest neighbors distribution. The cumulative distribution function (CDF) is the probability of finding a nearest neighbor within a distance D. "
   ]
  },
  {
   "cell_type": "markdown",
   "metadata": {
    "collapsed": true
   },
   "source": [
    "### Other point pattern distribution functions"
   ]
  },
  {
   "cell_type": "markdown",
   "metadata": {},
   "source": [
    "There are other point patterns that have been developed. \n",
    "\n",
    "* The K function is defined as the expected number of points within a distance of a process of the process (scaled by intensity). Deviations can indicate clustering or point inhibition. K function calculations also need edge corrections. The default edge correction in spatstat is generally the best but slow. We can use \"border\" correction for speed. \n",
    "*  Uncertainties on the K function estimates can be assessed by randomly sampling points from a uniform Poisson process in the area and computing the K function of the simulated data. Repeat this 99 times and take the minimum and maximum value of K over each of the distance values. This gives an \"envelope\". If the K function from the data goes above the top of the envelope then we have evidence for clustering. If the K function goes below the envelope then there is evidence for inhibitory process causing points to be spaced out. Envelopes are useful where theoretical distribution is hard or impossible to calculate"
   ]
  },
  {
   "cell_type": "code",
   "execution_count": null,
   "metadata": {
    "collapsed": true
   },
   "outputs": [],
   "source": []
  }
 ],
 "metadata": {
  "kernelspec": {
   "display_name": "R",
   "language": "R",
   "name": "ir"
  },
  "language_info": {
   "codemirror_mode": "r",
   "file_extension": ".r",
   "mimetype": "text/x-r-source",
   "name": "R",
   "pygments_lexer": "r",
   "version": "3.4.1"
  }
 },
 "nbformat": 4,
 "nbformat_minor": 2
}
