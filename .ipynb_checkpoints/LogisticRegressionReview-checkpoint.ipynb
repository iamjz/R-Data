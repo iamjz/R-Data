{
 "cells": [
  {
   "cell_type": "code",
   "execution_count": 12,
   "metadata": {},
   "outputs": [],
   "source": [
    "library(plyr)"
   ]
  },
  {
   "cell_type": "code",
   "execution_count": 13,
   "metadata": {
    "collapsed": true
   },
   "outputs": [],
   "source": [
    "points_data1 <- read.csv(\"datasets/data1.csv\", header = TRUE)"
   ]
  },
  {
   "cell_type": "code",
   "execution_count": 14,
   "metadata": {},
   "outputs": [
    {
     "data": {
      "text/html": [
       "<table>\n",
       "<thead><tr><th scope=col>X</th><th scope=col>Y</th><th scope=col>class</th></tr></thead>\n",
       "<tbody>\n",
       "\t<tr><td>4.915895</td><td>3.312657</td><td>1       </td></tr>\n",
       "\t<tr><td>2.203087</td><td>2.762946</td><td>1       </td></tr>\n",
       "\t<tr><td>2.376347</td><td>2.273357</td><td>1       </td></tr>\n",
       "\t<tr><td>4.366696</td><td>2.682983</td><td>1       </td></tr>\n",
       "\t<tr><td>2.079594</td><td>2.194263</td><td>1       </td></tr>\n",
       "\t<tr><td>4.141328</td><td>3.377833</td><td>1       </td></tr>\n",
       "</tbody>\n",
       "</table>\n"
      ],
      "text/latex": [
       "\\begin{tabular}{r|lll}\n",
       " X & Y & class\\\\\n",
       "\\hline\n",
       "\t 4.915895 & 3.312657 & 1       \\\\\n",
       "\t 2.203087 & 2.762946 & 1       \\\\\n",
       "\t 2.376347 & 2.273357 & 1       \\\\\n",
       "\t 4.366696 & 2.682983 & 1       \\\\\n",
       "\t 2.079594 & 2.194263 & 1       \\\\\n",
       "\t 4.141328 & 3.377833 & 1       \\\\\n",
       "\\end{tabular}\n"
      ],
      "text/markdown": [
       "\n",
       "X | Y | class | \n",
       "|---|---|---|---|---|---|\n",
       "| 4.915895 | 3.312657 | 1        | \n",
       "| 2.203087 | 2.762946 | 1        | \n",
       "| 2.376347 | 2.273357 | 1        | \n",
       "| 4.366696 | 2.682983 | 1        | \n",
       "| 2.079594 | 2.194263 | 1        | \n",
       "| 4.141328 | 3.377833 | 1        | \n",
       "\n",
       "\n"
      ],
      "text/plain": [
       "  X        Y        class\n",
       "1 4.915895 3.312657 1    \n",
       "2 2.203087 2.762946 1    \n",
       "3 2.376347 2.273357 1    \n",
       "4 4.366696 2.682983 1    \n",
       "5 2.079594 2.194263 1    \n",
       "6 4.141328 3.377833 1    "
      ]
     },
     "metadata": {},
     "output_type": "display_data"
    }
   ],
   "source": [
    "head(points_data1)"
   ]
  },
  {
   "cell_type": "code",
   "execution_count": 15,
   "metadata": {},
   "outputs": [
    {
     "data": {
      "text/plain": [
       "       X                 Y               class   \n",
       " Min.   : 0.2705   Min.   : 0.8923   Min.   :-1  \n",
       " 1st Qu.: 2.8507   1st Qu.: 3.0902   1st Qu.:-1  \n",
       " Median : 5.6616   Median : 5.5714   Median : 0  \n",
       " Mean   : 5.4196   Mean   : 5.5006   Mean   : 0  \n",
       " 3rd Qu.: 7.8422   3rd Qu.: 8.1014   3rd Qu.: 1  \n",
       " Max.   :10.3411   Max.   :10.3447   Max.   : 1  "
      ]
     },
     "metadata": {},
     "output_type": "display_data"
    }
   ],
   "source": [
    "summary(points_data1)"
   ]
  },
  {
   "cell_type": "code",
   "execution_count": 16,
   "metadata": {},
   "outputs": [
    {
     "data": {
      "text/html": [
       "<table>\n",
       "<thead><tr><th scope=col>class</th><th scope=col>freq</th></tr></thead>\n",
       "<tbody>\n",
       "\t<tr><td>-1</td><td>75</td></tr>\n",
       "\t<tr><td> 1</td><td>75</td></tr>\n",
       "</tbody>\n",
       "</table>\n"
      ],
      "text/latex": [
       "\\begin{tabular}{r|ll}\n",
       " class & freq\\\\\n",
       "\\hline\n",
       "\t -1 & 75\\\\\n",
       "\t  1 & 75\\\\\n",
       "\\end{tabular}\n"
      ],
      "text/markdown": [
       "\n",
       "class | freq | \n",
       "|---|---|\n",
       "| -1 | 75 | \n",
       "|  1 | 75 | \n",
       "\n",
       "\n"
      ],
      "text/plain": [
       "  class freq\n",
       "1 -1    75  \n",
       "2  1    75  "
      ]
     },
     "metadata": {},
     "output_type": "display_data"
    }
   ],
   "source": [
    "count(points_data1, \"class\")"
   ]
  },
  {
   "cell_type": "code",
   "execution_count": 17,
   "metadata": {
    "collapsed": true
   },
   "outputs": [],
   "source": [
    "# For logistic regression, we need to change the class labels from -1 and 1 to 0 and 1. \n",
    "points_data1$class[points_data1$class == -1] <- 0"
   ]
  },
  {
   "cell_type": "code",
   "execution_count": 18,
   "metadata": {},
   "outputs": [
    {
     "data": {
      "text/html": [
       "<table>\n",
       "<thead><tr><th scope=col>class</th><th scope=col>freq</th></tr></thead>\n",
       "<tbody>\n",
       "\t<tr><td>0 </td><td>75</td></tr>\n",
       "\t<tr><td>1 </td><td>75</td></tr>\n",
       "</tbody>\n",
       "</table>\n"
      ],
      "text/latex": [
       "\\begin{tabular}{r|ll}\n",
       " class & freq\\\\\n",
       "\\hline\n",
       "\t 0  & 75\\\\\n",
       "\t 1  & 75\\\\\n",
       "\\end{tabular}\n"
      ],
      "text/markdown": [
       "\n",
       "class | freq | \n",
       "|---|---|\n",
       "| 0  | 75 | \n",
       "| 1  | 75 | \n",
       "\n",
       "\n"
      ],
      "text/plain": [
       "  class freq\n",
       "1 0     75  \n",
       "2 1     75  "
      ]
     },
     "metadata": {},
     "output_type": "display_data"
    }
   ],
   "source": [
    "count(points_data1, \"class\")"
   ]
  },
  {
   "cell_type": "code",
   "execution_count": 19,
   "metadata": {},
   "outputs": [
    {
     "data": {},
     "metadata": {},
     "output_type": "display_data"
    },
    {
     "data": {
      "image/png": "[encoded data removed]",
      "text/plain": [
       "plot without title"
      ]
     },
     "metadata": {},
     "output_type": "display_data"
    }
   ],
   "source": [
    "# Visualize the data\n",
    "library(ggplot2)\n",
    "\n",
    "plot1 <- ggplot(points_data1, aes(X, Y)) + \n",
    "    geom_point(aes(colour = factor(class), shape = factor(class))) #+ theme(legend.position=\"none\")\n",
    "\n",
    "plot1"
   ]
  },
  {
   "cell_type": "code",
   "execution_count": 21,
   "metadata": {},
   "outputs": [
    {
     "name": "stderr",
     "output_type": "stream",
     "text": [
      "Warning message:\n",
      "\"glm.fit: algorithm did not converge\"Warning message:\n",
      "\"glm.fit: fitted probabilities numerically 0 or 1 occurred\""
     ]
    },
    {
     "data": {
      "text/plain": [
       "\n",
       "Call:\n",
       "glm(formula = class ~ X + Y, family = binomial, data = points_data1)\n",
       "\n",
       "Deviance Residuals: \n",
       "       Min          1Q      Median          3Q         Max  \n",
       "-5.127e-05  -2.100e-08   0.000e+00   2.100e-08   3.684e-05  \n",
       "\n",
       "Coefficients:\n",
       "            Estimate Std. Error z value Pr(>|z|)\n",
       "(Intercept)   135.33   78084.64   0.002    0.999\n",
       "X             -10.16   16004.61  -0.001    0.999\n",
       "Y             -15.54   17089.11  -0.001    0.999\n",
       "\n",
       "(Dispersion parameter for binomial family taken to be 1)\n",
       "\n",
       "    Null deviance: 2.0794e+02  on 149  degrees of freedom\n",
       "Residual deviance: 5.1478e-09  on 147  degrees of freedom\n",
       "AIC: 6\n",
       "\n",
       "Number of Fisher Scoring iterations: 25\n"
      ]
     },
     "metadata": {},
     "output_type": "display_data"
    }
   ],
   "source": [
    "glmfit1 = glm(class ~ X + Y, \n",
    "                  data=points_data1, \n",
    "                  family=binomial)\n",
    "\n",
    "summary(glmfit1)"
   ]
  },
  {
   "cell_type": "code",
   "execution_count": null,
   "metadata": {
    "collapsed": true
   },
   "outputs": [],
   "source": []
  },
  {
   "cell_type": "markdown",
   "metadata": {},
   "source": [
    "Let's draw the decision boundary of the LR model on the data. \n",
    "To do that, we'll need to figure out the slope and the intercept of the decision boundary line from the model's coefficients. \n",
    "Lets see how to calculate slope and intercept for this decision boundary.\n",
    "\n",
    "The hypothesis for logistic regression takes the form of:\n",
    "\n",
    "$$h_\\theta = g(z)$$\n",
    "\n",
    "where, $g(z)$ is the sigmoid function and where $z$ is of the form:\n",
    "\n",
    "$$z = \\theta_0 + \\theta_1x_1 + \\theta_2x_2$$\n",
    "\n",
    "Given we are classifying between 0 and 1, $y=1$ when $h_\\theta \\ge 0.5$ which given the sigmoid function is true when:\n",
    "\n",
    "$$ \\theta_0 + \\theta_1x_1 + \\theta_2x_2  \\ge 0$$\n",
    "\n",
    "the above is the decision boundary and can be rearranged as:\n",
    "\n",
    "\n",
    "$$x_2 \\ge \\frac{-\\theta_0}{\\theta_2} + \\frac{-\\theta_1}{\\theta_2}x_1$$\n",
    "\n",
    "This is an equation in the form of $y=mx+b$ and you can see then why $m$ and $b$ \n",
    "are calculated the way they are in the below piece of code."
   ]
  },
  {
   "cell_type": "code",
   "execution_count": 23,
   "metadata": {},
   "outputs": [
    {
     "data": {
      "text/html": [
       "<ol class=list-inline>\n",
       "\t<li>'coefficients'</li>\n",
       "\t<li>'residuals'</li>\n",
       "\t<li>'fitted.values'</li>\n",
       "\t<li>'effects'</li>\n",
       "\t<li>'R'</li>\n",
       "\t<li>'rank'</li>\n",
       "\t<li>'qr'</li>\n",
       "\t<li>'family'</li>\n",
       "\t<li>'linear.predictors'</li>\n",
       "\t<li>'deviance'</li>\n",
       "\t<li>'aic'</li>\n",
       "\t<li>'null.deviance'</li>\n",
       "\t<li>'iter'</li>\n",
       "\t<li>'weights'</li>\n",
       "\t<li>'prior.weights'</li>\n",
       "\t<li>'df.residual'</li>\n",
       "\t<li>'df.null'</li>\n",
       "\t<li>'y'</li>\n",
       "\t<li>'converged'</li>\n",
       "\t<li>'boundary'</li>\n",
       "\t<li>'model'</li>\n",
       "\t<li>'call'</li>\n",
       "\t<li>'formula'</li>\n",
       "\t<li>'terms'</li>\n",
       "\t<li>'data'</li>\n",
       "\t<li>'offset'</li>\n",
       "\t<li>'control'</li>\n",
       "\t<li>'method'</li>\n",
       "\t<li>'contrasts'</li>\n",
       "\t<li>'xlevels'</li>\n",
       "</ol>\n"
      ],
      "text/latex": [
       "\\begin{enumerate*}\n",
       "\\item 'coefficients'\n",
       "\\item 'residuals'\n",
       "\\item 'fitted.values'\n",
       "\\item 'effects'\n",
       "\\item 'R'\n",
       "\\item 'rank'\n",
       "\\item 'qr'\n",
       "\\item 'family'\n",
       "\\item 'linear.predictors'\n",
       "\\item 'deviance'\n",
       "\\item 'aic'\n",
       "\\item 'null.deviance'\n",
       "\\item 'iter'\n",
       "\\item 'weights'\n",
       "\\item 'prior.weights'\n",
       "\\item 'df.residual'\n",
       "\\item 'df.null'\n",
       "\\item 'y'\n",
       "\\item 'converged'\n",
       "\\item 'boundary'\n",
       "\\item 'model'\n",
       "\\item 'call'\n",
       "\\item 'formula'\n",
       "\\item 'terms'\n",
       "\\item 'data'\n",
       "\\item 'offset'\n",
       "\\item 'control'\n",
       "\\item 'method'\n",
       "\\item 'contrasts'\n",
       "\\item 'xlevels'\n",
       "\\end{enumerate*}\n"
      ],
      "text/markdown": [
       "1. 'coefficients'\n",
       "2. 'residuals'\n",
       "3. 'fitted.values'\n",
       "4. 'effects'\n",
       "5. 'R'\n",
       "6. 'rank'\n",
       "7. 'qr'\n",
       "8. 'family'\n",
       "9. 'linear.predictors'\n",
       "10. 'deviance'\n",
       "11. 'aic'\n",
       "12. 'null.deviance'\n",
       "13. 'iter'\n",
       "14. 'weights'\n",
       "15. 'prior.weights'\n",
       "16. 'df.residual'\n",
       "17. 'df.null'\n",
       "18. 'y'\n",
       "19. 'converged'\n",
       "20. 'boundary'\n",
       "21. 'model'\n",
       "22. 'call'\n",
       "23. 'formula'\n",
       "24. 'terms'\n",
       "25. 'data'\n",
       "26. 'offset'\n",
       "27. 'control'\n",
       "28. 'method'\n",
       "29. 'contrasts'\n",
       "30. 'xlevels'\n",
       "\n",
       "\n"
      ],
      "text/plain": [
       " [1] \"coefficients\"      \"residuals\"         \"fitted.values\"    \n",
       " [4] \"effects\"           \"R\"                 \"rank\"             \n",
       " [7] \"qr\"                \"family\"            \"linear.predictors\"\n",
       "[10] \"deviance\"          \"aic\"               \"null.deviance\"    \n",
       "[13] \"iter\"              \"weights\"           \"prior.weights\"    \n",
       "[16] \"df.residual\"       \"df.null\"           \"y\"                \n",
       "[19] \"converged\"         \"boundary\"          \"model\"            \n",
       "[22] \"call\"              \"formula\"           \"terms\"            \n",
       "[25] \"data\"              \"offset\"            \"control\"          \n",
       "[28] \"method\"            \"contrasts\"         \"xlevels\"          "
      ]
     },
     "metadata": {},
     "output_type": "display_data"
    }
   ],
   "source": [
    "names(glmfit1)"
   ]
  },
  {
   "cell_type": "code",
   "execution_count": 25,
   "metadata": {},
   "outputs": [
    {
     "data": {
      "text/html": [
       "<strong>$coefficients</strong> = <dl class=dl-horizontal>\n",
       "\t<dt>(Intercept)</dt>\n",
       "\t\t<dd>135.330914540963</dd>\n",
       "\t<dt>X</dt>\n",
       "\t\t<dd>-10.1622708792577</dd>\n",
       "\t<dt>Y</dt>\n",
       "\t\t<dd>-15.5378866847622</dd>\n",
       "</dl>\n"
      ],
      "text/latex": [
       "\\textbf{\\$coefficients} = \\begin{description*}\n",
       "\\item[(Intercept)] 135.330914540963\n",
       "\\item[X] -10.1622708792577\n",
       "\\item[Y] -15.5378866847622\n",
       "\\end{description*}\n"
      ],
      "text/markdown": [
       "**$coefficients** = (Intercept)\n",
       ":   135.330914540963X\n",
       ":   -10.1622708792577Y\n",
       ":   -15.5378866847622\n",
       "\n"
      ],
      "text/plain": [
       "$coefficients\n",
       "(Intercept)           X           Y \n",
       "  135.33091   -10.16227   -15.53789 \n"
      ]
     },
     "metadata": {},
     "output_type": "display_data"
    }
   ],
   "source": [
    "glmfit1[1]"
   ]
  },
  {
   "cell_type": "code",
   "execution_count": 27,
   "metadata": {},
   "outputs": [
    {
     "data": {
      "text/html": [
       "<strong>X:</strong> -10.1622708792577"
      ],
      "text/latex": [
       "\\textbf{X:} -10.1622708792577"
      ],
      "text/markdown": [
       "**X:** -10.1622708792577"
      ],
      "text/plain": [
       "        X \n",
       "-10.16227 "
      ]
     },
     "metadata": {},
     "output_type": "display_data"
    }
   ],
   "source": [
    "coef(glmfit1)[2]"
   ]
  },
  {
   "cell_type": "code",
   "execution_count": 28,
   "metadata": {},
   "outputs": [
    {
     "data": {
      "text/html": [
       "<strong>Y:</strong> -15.5378866847622"
      ],
      "text/latex": [
       "\\textbf{Y:} -15.5378866847622"
      ],
      "text/markdown": [
       "**Y:** -15.5378866847622"
      ],
      "text/plain": [
       "        Y \n",
       "-15.53789 "
      ]
     },
     "metadata": {},
     "output_type": "display_data"
    }
   ],
   "source": [
    "coef(glmfit1)[3]"
   ]
  },
  {
   "cell_type": "code",
   "execution_count": 30,
   "metadata": {},
   "outputs": [
    {
     "data": {
      "text/html": [
       "<strong>X:</strong> -0.654031728087178"
      ],
      "text/latex": [
       "\\textbf{X:} -0.654031728087178"
      ],
      "text/markdown": [
       "**X:** -0.654031728087178"
      ],
      "text/plain": [
       "         X \n",
       "-0.6540317 "
      ]
     },
     "metadata": {},
     "output_type": "display_data"
    }
   ],
   "source": [
    "glm_slope1 <- coef(glmfit1)[2]/(-coef(glmfit1)[3])\n",
    "\n",
    "glm_slope1"
   ]
  },
  {
   "cell_type": "code",
   "execution_count": 31,
   "metadata": {},
   "outputs": [
    {
     "data": {
      "text/html": [
       "<strong>(Intercept):</strong> 8.70973751364017"
      ],
      "text/latex": [
       "\\textbf{(Intercept):} 8.70973751364017"
      ],
      "text/markdown": [
       "**(Intercept):** 8.70973751364017"
      ],
      "text/plain": [
       "(Intercept) \n",
       "   8.709738 "
      ]
     },
     "metadata": {},
     "output_type": "display_data"
    }
   ],
   "source": [
    "glm_intercept1 <- coef(glmfit1)[1]/(-coef(glmfit1)[3])\n",
    "\n",
    "\n",
    "glm_intercept1"
   ]
  },
  {
   "cell_type": "code",
   "execution_count": 32,
   "metadata": {},
   "outputs": [
    {
     "data": {},
     "metadata": {},
     "output_type": "display_data"
    },
    {
     "data": {
      "image/png": "[encoded data removed]",
      "text/plain": [
       "plot without title"
      ]
     },
     "metadata": {},
     "output_type": "display_data"
    }
   ],
   "source": [
    "plot1 + geom_abline(slope = glm_slope1, intercept = glm_intercept1)"
   ]
  },
  {
   "cell_type": "markdown",
   "metadata": {},
   "source": [
    "It can separate two classes; they are linearly separable. Logistic Regression is also a linear classifier like LDA; it finds a decision line in two dimensions, a decision plane in three dimensions, and a decision hyperplane for dimensions higher than three.\n",
    "Now, let's compute a confusion table similar to what we have done in LDA practice."
   ]
  },
  {
   "cell_type": "code",
   "execution_count": 33,
   "metadata": {},
   "outputs": [
    {
     "data": {
      "text/html": [
       "<dl class=dl-horizontal>\n",
       "\t<dt>1</dt>\n",
       "\t\t<dd>1</dd>\n",
       "\t<dt>2</dt>\n",
       "\t\t<dd>1</dd>\n",
       "\t<dt>3</dt>\n",
       "\t\t<dd>1</dd>\n",
       "\t<dt>4</dt>\n",
       "\t\t<dd>1</dd>\n",
       "\t<dt>5</dt>\n",
       "\t\t<dd>1</dd>\n",
       "\t<dt>6</dt>\n",
       "\t\t<dd>1</dd>\n",
       "\t<dt>7</dt>\n",
       "\t\t<dd>1</dd>\n",
       "\t<dt>8</dt>\n",
       "\t\t<dd>0.99999999999988</dd>\n",
       "\t<dt>9</dt>\n",
       "\t\t<dd>1</dd>\n",
       "\t<dt>10</dt>\n",
       "\t\t<dd>1</dd>\n",
       "</dl>\n"
      ],
      "text/latex": [
       "\\begin{description*}\n",
       "\\item[1] 1\n",
       "\\item[2] 1\n",
       "\\item[3] 1\n",
       "\\item[4] 1\n",
       "\\item[5] 1\n",
       "\\item[6] 1\n",
       "\\item[7] 1\n",
       "\\item[8] 0.99999999999988\n",
       "\\item[9] 1\n",
       "\\item[10] 1\n",
       "\\end{description*}\n"
      ],
      "text/markdown": [
       "1\n",
       ":   12\n",
       ":   13\n",
       ":   14\n",
       ":   15\n",
       ":   16\n",
       ":   17\n",
       ":   18\n",
       ":   0.999999999999889\n",
       ":   110\n",
       ":   1\n",
       "\n"
      ],
      "text/plain": [
       " 1  2  3  4  5  6  7  8  9 10 \n",
       " 1  1  1  1  1  1  1  1  1  1 "
      ]
     },
     "metadata": {},
     "output_type": "display_data"
    }
   ],
   "source": [
    "# Run the model on the same data that it was trained with and get the probabilities for each sample. \n",
    "glm1.probs <- predict(glmfit1, type=\"response\")\n",
    "\n",
    "glm1.probs[0:10]"
   ]
  },
  {
   "cell_type": "code",
   "execution_count": 34,
   "metadata": {},
   "outputs": [
    {
     "data": {
      "text/html": [
       "<ol class=list-inline>\n",
       "\t<li>0</li>\n",
       "\t<li>0</li>\n",
       "\t<li>0</li>\n",
       "\t<li>0</li>\n",
       "\t<li>0</li>\n",
       "\t<li>0</li>\n",
       "\t<li>0</li>\n",
       "\t<li>0</li>\n",
       "\t<li>0</li>\n",
       "\t<li>0</li>\n",
       "</ol>\n"
      ],
      "text/latex": [
       "\\begin{enumerate*}\n",
       "\\item 0\n",
       "\\item 0\n",
       "\\item 0\n",
       "\\item 0\n",
       "\\item 0\n",
       "\\item 0\n",
       "\\item 0\n",
       "\\item 0\n",
       "\\item 0\n",
       "\\item 0\n",
       "\\end{enumerate*}\n"
      ],
      "text/markdown": [
       "1. 0\n",
       "2. 0\n",
       "3. 0\n",
       "4. 0\n",
       "5. 0\n",
       "6. 0\n",
       "7. 0\n",
       "8. 0\n",
       "9. 0\n",
       "10. 0\n",
       "\n",
       "\n"
      ],
      "text/plain": [
       " [1] 0 0 0 0 0 0 0 0 0 0"
      ]
     },
     "metadata": {},
     "output_type": "display_data"
    }
   ],
   "source": [
    "# create an array to hold predictions and assign all zeros initially.\n",
    "glm1.pred = rep(0, length(glm1.probs))\n",
    "\n",
    "glm1.pred[0:10]"
   ]
  },
  {
   "cell_type": "code",
   "execution_count": 35,
   "metadata": {},
   "outputs": [
    {
     "data": {
      "text/html": [
       "<ol class=list-inline>\n",
       "\t<li>1</li>\n",
       "\t<li>1</li>\n",
       "\t<li>1</li>\n",
       "\t<li>1</li>\n",
       "\t<li>1</li>\n",
       "\t<li>1</li>\n",
       "\t<li>1</li>\n",
       "\t<li>1</li>\n",
       "\t<li>1</li>\n",
       "\t<li>1</li>\n",
       "\t<li>1</li>\n",
       "\t<li>1</li>\n",
       "\t<li>1</li>\n",
       "\t<li>1</li>\n",
       "\t<li>1</li>\n",
       "\t<li>1</li>\n",
       "\t<li>1</li>\n",
       "\t<li>1</li>\n",
       "\t<li>1</li>\n",
       "\t<li>1</li>\n",
       "\t<li>1</li>\n",
       "\t<li>1</li>\n",
       "\t<li>1</li>\n",
       "\t<li>1</li>\n",
       "\t<li>1</li>\n",
       "\t<li>1</li>\n",
       "\t<li>1</li>\n",
       "\t<li>1</li>\n",
       "\t<li>1</li>\n",
       "\t<li>1</li>\n",
       "\t<li>1</li>\n",
       "\t<li>1</li>\n",
       "\t<li>1</li>\n",
       "\t<li>1</li>\n",
       "\t<li>1</li>\n",
       "\t<li>1</li>\n",
       "\t<li>1</li>\n",
       "\t<li>1</li>\n",
       "\t<li>1</li>\n",
       "\t<li>1</li>\n",
       "\t<li>1</li>\n",
       "\t<li>1</li>\n",
       "\t<li>1</li>\n",
       "\t<li>1</li>\n",
       "\t<li>1</li>\n",
       "\t<li>1</li>\n",
       "\t<li>1</li>\n",
       "\t<li>1</li>\n",
       "\t<li>1</li>\n",
       "\t<li>1</li>\n",
       "\t<li>1</li>\n",
       "\t<li>1</li>\n",
       "\t<li>1</li>\n",
       "\t<li>1</li>\n",
       "\t<li>1</li>\n",
       "\t<li>1</li>\n",
       "\t<li>1</li>\n",
       "\t<li>1</li>\n",
       "\t<li>1</li>\n",
       "\t<li>1</li>\n",
       "\t<li>1</li>\n",
       "\t<li>1</li>\n",
       "\t<li>1</li>\n",
       "\t<li>1</li>\n",
       "\t<li>1</li>\n",
       "\t<li>1</li>\n",
       "\t<li>1</li>\n",
       "\t<li>1</li>\n",
       "\t<li>1</li>\n",
       "\t<li>1</li>\n",
       "\t<li>1</li>\n",
       "\t<li>1</li>\n",
       "\t<li>1</li>\n",
       "\t<li>1</li>\n",
       "\t<li>1</li>\n",
       "\t<li>0</li>\n",
       "\t<li>0</li>\n",
       "\t<li>0</li>\n",
       "\t<li>0</li>\n",
       "\t<li>0</li>\n",
       "\t<li>0</li>\n",
       "\t<li>0</li>\n",
       "\t<li>0</li>\n",
       "\t<li>0</li>\n",
       "\t<li>0</li>\n",
       "\t<li>0</li>\n",
       "\t<li>0</li>\n",
       "\t<li>0</li>\n",
       "\t<li>0</li>\n",
       "\t<li>0</li>\n",
       "\t<li>0</li>\n",
       "\t<li>0</li>\n",
       "\t<li>0</li>\n",
       "\t<li>0</li>\n",
       "\t<li>0</li>\n",
       "\t<li>0</li>\n",
       "\t<li>0</li>\n",
       "\t<li>0</li>\n",
       "\t<li>0</li>\n",
       "\t<li>0</li>\n",
       "</ol>\n"
      ],
      "text/latex": [
       "\\begin{enumerate*}\n",
       "\\item 1\n",
       "\\item 1\n",
       "\\item 1\n",
       "\\item 1\n",
       "\\item 1\n",
       "\\item 1\n",
       "\\item 1\n",
       "\\item 1\n",
       "\\item 1\n",
       "\\item 1\n",
       "\\item 1\n",
       "\\item 1\n",
       "\\item 1\n",
       "\\item 1\n",
       "\\item 1\n",
       "\\item 1\n",
       "\\item 1\n",
       "\\item 1\n",
       "\\item 1\n",
       "\\item 1\n",
       "\\item 1\n",
       "\\item 1\n",
       "\\item 1\n",
       "\\item 1\n",
       "\\item 1\n",
       "\\item 1\n",
       "\\item 1\n",
       "\\item 1\n",
       "\\item 1\n",
       "\\item 1\n",
       "\\item 1\n",
       "\\item 1\n",
       "\\item 1\n",
       "\\item 1\n",
       "\\item 1\n",
       "\\item 1\n",
       "\\item 1\n",
       "\\item 1\n",
       "\\item 1\n",
       "\\item 1\n",
       "\\item 1\n",
       "\\item 1\n",
       "\\item 1\n",
       "\\item 1\n",
       "\\item 1\n",
       "\\item 1\n",
       "\\item 1\n",
       "\\item 1\n",
       "\\item 1\n",
       "\\item 1\n",
       "\\item 1\n",
       "\\item 1\n",
       "\\item 1\n",
       "\\item 1\n",
       "\\item 1\n",
       "\\item 1\n",
       "\\item 1\n",
       "\\item 1\n",
       "\\item 1\n",
       "\\item 1\n",
       "\\item 1\n",
       "\\item 1\n",
       "\\item 1\n",
       "\\item 1\n",
       "\\item 1\n",
       "\\item 1\n",
       "\\item 1\n",
       "\\item 1\n",
       "\\item 1\n",
       "\\item 1\n",
       "\\item 1\n",
       "\\item 1\n",
       "\\item 1\n",
       "\\item 1\n",
       "\\item 1\n",
       "\\item 0\n",
       "\\item 0\n",
       "\\item 0\n",
       "\\item 0\n",
       "\\item 0\n",
       "\\item 0\n",
       "\\item 0\n",
       "\\item 0\n",
       "\\item 0\n",
       "\\item 0\n",
       "\\item 0\n",
       "\\item 0\n",
       "\\item 0\n",
       "\\item 0\n",
       "\\item 0\n",
       "\\item 0\n",
       "\\item 0\n",
       "\\item 0\n",
       "\\item 0\n",
       "\\item 0\n",
       "\\item 0\n",
       "\\item 0\n",
       "\\item 0\n",
       "\\item 0\n",
       "\\item 0\n",
       "\\end{enumerate*}\n"
      ],
      "text/markdown": [
       "1. 1\n",
       "2. 1\n",
       "3. 1\n",
       "4. 1\n",
       "5. 1\n",
       "6. 1\n",
       "7. 1\n",
       "8. 1\n",
       "9. 1\n",
       "10. 1\n",
       "11. 1\n",
       "12. 1\n",
       "13. 1\n",
       "14. 1\n",
       "15. 1\n",
       "16. 1\n",
       "17. 1\n",
       "18. 1\n",
       "19. 1\n",
       "20. 1\n",
       "21. 1\n",
       "22. 1\n",
       "23. 1\n",
       "24. 1\n",
       "25. 1\n",
       "26. 1\n",
       "27. 1\n",
       "28. 1\n",
       "29. 1\n",
       "30. 1\n",
       "31. 1\n",
       "32. 1\n",
       "33. 1\n",
       "34. 1\n",
       "35. 1\n",
       "36. 1\n",
       "37. 1\n",
       "38. 1\n",
       "39. 1\n",
       "40. 1\n",
       "41. 1\n",
       "42. 1\n",
       "43. 1\n",
       "44. 1\n",
       "45. 1\n",
       "46. 1\n",
       "47. 1\n",
       "48. 1\n",
       "49. 1\n",
       "50. 1\n",
       "51. 1\n",
       "52. 1\n",
       "53. 1\n",
       "54. 1\n",
       "55. 1\n",
       "56. 1\n",
       "57. 1\n",
       "58. 1\n",
       "59. 1\n",
       "60. 1\n",
       "61. 1\n",
       "62. 1\n",
       "63. 1\n",
       "64. 1\n",
       "65. 1\n",
       "66. 1\n",
       "67. 1\n",
       "68. 1\n",
       "69. 1\n",
       "70. 1\n",
       "71. 1\n",
       "72. 1\n",
       "73. 1\n",
       "74. 1\n",
       "75. 1\n",
       "76. 0\n",
       "77. 0\n",
       "78. 0\n",
       "79. 0\n",
       "80. 0\n",
       "81. 0\n",
       "82. 0\n",
       "83. 0\n",
       "84. 0\n",
       "85. 0\n",
       "86. 0\n",
       "87. 0\n",
       "88. 0\n",
       "89. 0\n",
       "90. 0\n",
       "91. 0\n",
       "92. 0\n",
       "93. 0\n",
       "94. 0\n",
       "95. 0\n",
       "96. 0\n",
       "97. 0\n",
       "98. 0\n",
       "99. 0\n",
       "100. 0\n",
       "\n",
       "\n"
      ],
      "text/plain": [
       "  [1] 1 1 1 1 1 1 1 1 1 1 1 1 1 1 1 1 1 1 1 1 1 1 1 1 1 1 1 1 1 1 1 1 1 1 1 1 1\n",
       " [38] 1 1 1 1 1 1 1 1 1 1 1 1 1 1 1 1 1 1 1 1 1 1 1 1 1 1 1 1 1 1 1 1 1 1 1 1 1\n",
       " [75] 1 0 0 0 0 0 0 0 0 0 0 0 0 0 0 0 0 0 0 0 0 0 0 0 0 0"
      ]
     },
     "metadata": {},
     "output_type": "display_data"
    }
   ],
   "source": [
    "# based on model's probablities for each sample, assign the class label.\n",
    "glm1.pred[glm1.probs > 0.5] <- 1\n",
    "\n",
    "glm1.pred[0:100]"
   ]
  },
  {
   "cell_type": "code",
   "execution_count": 36,
   "metadata": {},
   "outputs": [
    {
     "data": {
      "text/plain": [
       "         \n",
       "glm1.pred  0  1\n",
       "        0 75  0\n",
       "        1  0 75"
      ]
     },
     "metadata": {},
     "output_type": "display_data"
    }
   ],
   "source": [
    "# Create a confusion table.\n",
    "conftable1 <- table(glm1.pred, points_data1$class)\n",
    "conftable1"
   ]
  },
  {
   "cell_type": "markdown",
   "metadata": {},
   "source": [
    "We can see that there is no confusion between classes; accuracy is 100% (occasionally, \n",
    "you can have a few misclassified points; \n",
    "that is because a random new data set will be created every time you run the code, \n",
    "and a few points may end up too close to the other class)."
   ]
  }
 ],
 "metadata": {
  "kernelspec": {
   "display_name": "R",
   "language": "R",
   "name": "ir"
  },
  "language_info": {
   "codemirror_mode": "r",
   "file_extension": ".r",
   "mimetype": "text/x-r-source",
   "name": "R",
   "pygments_lexer": "r",
   "version": "3.4.1"
  }
 },
 "nbformat": 4,
 "nbformat_minor": 2
}
