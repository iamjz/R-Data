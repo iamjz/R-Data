{
 "cells": [
  {
   "cell_type": "markdown",
   "metadata": {},
   "source": [
    "# Normal Distributions\n",
    "\n",
    "We can say a distribution, X, is normally distributed mathematically as below... \n",
    "\n",
    "$$ X ∼ norm(mean = µ, sd = σ) $$\n",
    "\n",
    "where µ(mu) is the mean of the normal distribution and σ(sigma) is the standard deviation of the distribution. \n",
    "\n",
    "The associated R function is to generate a standard normal distribution with mean 0 and standard deviation of 1 is `dnorm(x, mean = 0,sd = 1)`.\n",
    "\n",
    "The values of the distribution lie around the (sample) mean in specific proportions, \n",
    "which is commonly called 68-95-99.7 rule. \n",
    "We can see where this rule comes from using `pnorm()` function in R.\n",
    "\n",
    "`pnorm()` : Given a number or a list, \n",
    "this function calculates the probability that a normally distributed random number will be less than that number. \n",
    "Simply put, it gives the area under the standard normal curve. \n",
    "It takes mean and standard deviation as its arguments. \n",
    "If none are specified, it considers mean=0 and sd=1 by default. \n",
    "\n",
    "In the below example, the `pnorm()` function gives the probabilities of 3 numbers {1,2,3}, \n",
    "telling us where they will fall according to the 68-95-99.7 rule. \n",
    "We are not supplying the mean and standard deviation to the function. \n",
    "So, mean and sd are assumed 0 and 1, respectively, by default.\n",
    "So, what is the area below the first input value '1'? \n",
    "We know that 50% of the area under standard normal curve will be below the mean. "
   ]
  },
  {
   "cell_type": "code",
   "execution_count": 19,
   "metadata": {},
   "outputs": [],
   "source": [
    "library(tigerstats)\n",
    "library(distr)"
   ]
  },
  {
   "cell_type": "code",
   "execution_count": 20,
   "metadata": {},
   "outputs": [
    {
     "data": {
      "text/html": [
       "0.841344746068543"
      ],
      "text/latex": [
       "0.841344746068543"
      ],
      "text/markdown": [
       "0.841344746068543"
      ],
      "text/plain": [
       "[1] 0.8413447"
      ]
     },
     "metadata": {},
     "output_type": "display_data"
    },
    {
     "data": {
      "text/html": [
       "0.977249868051821"
      ],
      "text/latex": [
       "0.977249868051821"
      ],
      "text/markdown": [
       "0.977249868051821"
      ],
      "text/plain": [
       "[1] 0.9772499"
      ]
     },
     "metadata": {},
     "output_type": "display_data"
    },
    {
     "data": {
      "text/html": [
       "0.99865010196837"
      ],
      "text/latex": [
       "0.99865010196837"
      ],
      "text/markdown": [
       "0.99865010196837"
      ],
      "text/plain": [
       "[1] 0.9986501"
      ]
     },
     "metadata": {},
     "output_type": "display_data"
    },
    {
     "data": {
      "text/html": [
       "0.999968328758167"
      ],
      "text/latex": [
       "0.999968328758167"
      ],
      "text/markdown": [
       "0.999968328758167"
      ],
      "text/plain": [
       "[1] 0.9999683"
      ]
     },
     "metadata": {},
     "output_type": "display_data"
    }
   ],
   "source": [
    "# these probabilities are for the right tail of the distribution\n",
    "pnorm(1)\n",
    "pnorm(2)\n",
    "pnorm(3)\n",
    "pnorm(4)"
   ]
  },
  {
   "cell_type": "code",
   "execution_count": 21,
   "metadata": {},
   "outputs": [
    {
     "data": {
      "text/html": [
       "<ol class=list-inline>\n",
       "\t<li>0.000133830225764885</li>\n",
       "\t<li>0.00013928497646576</li>\n",
       "\t<li>0.000144947560423891</li>\n",
       "\t<li>0.000150825271550518</li>\n",
       "\t<li>0.000156925634065532</li>\n",
       "\t<li>0.000163256408766242</li>\n",
       "</ol>\n"
      ],
      "text/latex": [
       "\\begin{enumerate*}\n",
       "\\item 0.000133830225764885\n",
       "\\item 0.00013928497646576\n",
       "\\item 0.000144947560423891\n",
       "\\item 0.000150825271550518\n",
       "\\item 0.000156925634065532\n",
       "\\item 0.000163256408766242\n",
       "\\end{enumerate*}\n"
      ],
      "text/markdown": [
       "1. 0.000133830225764885\n",
       "2. 0.00013928497646576\n",
       "3. 0.000144947560423891\n",
       "4. 0.000150825271550518\n",
       "5. 0.000156925634065532\n",
       "6. 0.000163256408766242\n",
       "\n",
       "\n"
      ],
      "text/plain": [
       "[1] 0.0001338302 0.0001392850 0.0001449476 0.0001508253 0.0001569256\n",
       "[6] 0.0001632564"
      ]
     },
     "metadata": {},
     "output_type": "display_data"
    }
   ],
   "source": [
    "sequence <- seq(-4, 4, 0.01)\n",
    "\n",
    "# dnorm() - given a set of values, it returns the height of the probability distribution at each point. \n",
    "# it assumes a mean of 0 and a standard deviation of 1 if they are not supplied with data\n",
    "\n",
    "densities <- dnorm(sequence, 0, 1)\n",
    "head(densities)"
   ]
  },
  {
   "cell_type": "code",
   "execution_count": 22,
   "metadata": {},
   "outputs": [
    {
     "data": {
      "image/png": "[encoded data removed]",
      "text/plain": [
       "Plot with title \"PDF of Standard Normal Distribution\""
      ]
     },
     "metadata": {},
     "output_type": "display_data"
    }
   ],
   "source": [
    "# setting the size of the plot to be 2 x 2\n",
    "par(pin = c(2, 2))\n",
    "\n",
    "plot(sequence, # plotting the values -4, -3.99, -3.98...3.99, 4 on the x axis\n",
    "        densities, \n",
    "        col = \"blue\", xlab = \"\", ylab = \"Density\", type = \"l\", lwd = 2 , cex = 2,\n",
    "        main = \"PDF of Standard Normal Distribution\", cex.axis = 0.8\n",
    "    )\n",
    "\n",
    "# vertical lines at standard deviations of 1, 2, 3 from mean\n",
    "abline(v = c(-1, 1), col = (\"red\")) # draw a vertical line at 1\n",
    "abline(v = c(-2, 2), col = (\"green\"))\n",
    "abline(v = c(-3, 3), col = (\"blue\"))\n",
    "\n",
    "axis(1, at = c(-3, -2, -1, 0, 1, 2, 3),\n",
    "        labels = c(0.001,0.02,0.15,0.5,0.84,0.97,0.99), # represent the areas under the normal curver before each value\n",
    "        las = 2, col.axis = \"red\", cex.axis = 0.7)"
   ]
  },
  {
   "cell_type": "code",
   "execution_count": 23,
   "metadata": {},
   "outputs": [
    {
     "data": {
      "text/html": [
       "<ol class=list-inline>\n",
       "\t<li>0.158655253931457</li>\n",
       "\t<li>0.0227501319481792</li>\n",
       "\t<li>0.00134989803163009</li>\n",
       "</ol>\n"
      ],
      "text/latex": [
       "\\begin{enumerate*}\n",
       "\\item 0.158655253931457\n",
       "\\item 0.0227501319481792\n",
       "\\item 0.00134989803163009\n",
       "\\end{enumerate*}\n"
      ],
      "text/markdown": [
       "1. 0.158655253931457\n",
       "2. 0.0227501319481792\n",
       "3. 0.00134989803163009\n",
       "\n",
       "\n"
      ],
      "text/plain": [
       "[1] 0.158655254 0.022750132 0.001349898"
      ]
     },
     "metadata": {},
     "output_type": "display_data"
    }
   ],
   "source": [
    "# probabilities of numbers on the left rail of the distribution\n",
    "pnorm(-(1:3))"
   ]
  },
  {
   "cell_type": "markdown",
   "metadata": {},
   "source": [
    "When you subtract the areas of probability on the left tail with that of the right tail, you will see why the values of the distribution fall within the proportions of 69.2 - 95.4 - 99.7"
   ]
  },
  {
   "cell_type": "code",
   "execution_count": 24,
   "metadata": {},
   "outputs": [
    {
     "data": {
      "text/html": [
       "<ol class=list-inline>\n",
       "\t<li>0.682689492137086</li>\n",
       "\t<li>0.954499736103642</li>\n",
       "\t<li>0.99730020393674</li>\n",
       "</ol>\n"
      ],
      "text/latex": [
       "\\begin{enumerate*}\n",
       "\\item 0.682689492137086\n",
       "\\item 0.954499736103642\n",
       "\\item 0.99730020393674\n",
       "\\end{enumerate*}\n"
      ],
      "text/markdown": [
       "1. 0.682689492137086\n",
       "2. 0.954499736103642\n",
       "3. 0.99730020393674\n",
       "\n",
       "\n"
      ],
      "text/plain": [
       "[1] 0.6826895 0.9544997 0.9973002"
      ]
     },
     "metadata": {},
     "output_type": "display_data"
    }
   ],
   "source": [
    "# A = right tail vector\n",
    "# B = left tail vector\n",
    "pnorm(1:3) - pnorm(-(1:3))"
   ]
  },
  {
   "cell_type": "markdown",
   "metadata": {},
   "source": [
    "**Question: ** A random experiment consist of a person taking an IQ test. \n",
    "Let `X` be the score on the test.\n",
    "The test scores have a mean of 100 and a standard deviation of 15. \n",
    "What is P(85 ≤ X ≤ 115)?\n",
    "\n",
    "\n",
    "**Solution:** We need to find the area on the normal curve where this scores will fall. \n",
    "The limits 85 and 115 fall exactly one standard deviation (below and above, respectively) from the mean of 100. \n",
    "The answer is therefore approximately 68%. \n",
    "So the probability of a person getting a score between 85 and 115 is 68%. \n",
    "\n",
    "**qnorm() **\n",
    "\n",
    "Given a set of values it returns the height of the probability distribution at each point. \n",
    "If you only give the points it assumes you want to use a mean of zero and standard deviation of one. \n",
    "Simply put, it gives the value at which the CDF of the standard normal curve is at a given value.\n",
    "\n",
    "**Question: ** Continuing with our previous example of IQ, \n",
    "what is the lowest possible IQ score that a person can have and still be in the top 1% of all IQ scores?\n",
    "\n",
    "**Solution: ** we are looking for QX(0.99), where X ∼ norm(mean =100, sd = 15). "
   ]
  },
  {
   "cell_type": "code",
   "execution_count": 25,
   "metadata": {},
   "outputs": [
    {
     "data": {
      "text/html": [
       "134.895218110613"
      ],
      "text/latex": [
       "134.895218110613"
      ],
      "text/markdown": [
       "134.895218110613"
      ],
      "text/plain": [
       "[1] 134.8952"
      ]
     },
     "metadata": {},
     "output_type": "display_data"
    }
   ],
   "source": [
    "# the below function should return the distribution value at the given probability\n",
    "qnorm(0.99, mean = 100, sd = 15)"
   ]
  },
  {
   "cell_type": "markdown",
   "metadata": {},
   "source": [
    "So, the answer is approximately 134.8952. A person with this IQ score or higher falls in the top 1% of all IQ scores\n",
    "\n",
    "### Normal distribution as an approximation for the binomial distribution\n",
    "\n",
    "**Binomial distributions**\n",
    "\n",
    "When you flip a coin, there are two possible outcomes: heads or tails. \n",
    "Each outcome has a fixed probability of 1/2, the same from trial to trial.\n",
    "We consider probability distributions for which there are just two possible \n",
    "outcomes with fixed probabilities summing to one. \n",
    "These distributions are called binomial distributions.\n",
    "\n",
    "http://onlinestatbook.com/2/probability/binomial.html\n",
    "\n",
    "We toss a coin 12 times. \n",
    "What is the probability that we get from 0 to 3 heads? \n",
    "The answer is found by computing the probability of exactly 0 heads,\n",
    "exactly 1 head, exactly 2 heads, and exactly 3 heads. \n",
    "The probability of getting from 0 to 3 heads is then the sum of these probabilities.\n",
    "The probabilities are: 0.0002, 0.0029, 0.0161, and 0.0537.\n",
    "The sum of the probabilities is 0.073. \n",
    "The calculation of cumulative binomial probabilities can be quite tedious. \n",
    "Abraham de Moivre, an 18th century statistician noted that when the number of events (coin flips) increased, \n",
    "the shape of the binomial distribution approached a very smooth curve. \n",
    "The curve he discovered is now called the \"normal curve.\"\n",
    "\n"
   ]
  },
  {
   "cell_type": "markdown",
   "metadata": {},
   "source": [
    "Assume you have a fair coin and wish to know the probability that you would get 8 heads out of 10 flips.\n",
    "The binomial distribution has a mean of $\\mu$ = Nπ = (10)(0.5) = 5 and a variance of $\\sigma^2$ = Nπ(1-π) = (10)(0.5)(0.5) = 2.5. \n",
    "The standard deviation $\\sigma$ is therefore 1.5811. \n",
    "\n",
    "    8 - no of heads\n",
    "\n",
    "    5 - mean of the population\n",
    "\n",
    "    1.5811 - SD of pulation\n",
    "\n",
    "A total of 8 heads is (8 - 5)/1.5811 = 1.897 standard deviations above the mean of the distribution. \n",
    "\n",
    "The question then is, \"What is the probability of getting a value exactly 1.897 standard deviations above the mean?\" You may be surprised to learn that the answer is 0:\n",
    "The probability of any one specific point is 0 on a continous distribution.\n",
    "\n",
    "The solution is to round off and consider any value from 7.5 to 8.5 to represent an outcome of 8 heads. \n",
    "Using this approach, we figure out the area under a normal curve from 7.5 to 8.5"
   ]
  },
  {
   "cell_type": "code",
   "execution_count": 26,
   "metadata": {},
   "outputs": [
    {
     "data": {
      "text/html": [
       "2.21364872557081"
      ],
      "text/latex": [
       "2.21364872557081"
      ],
      "text/markdown": [
       "2.21364872557081"
      ],
      "text/plain": [
       "[1] 2.213649"
      ]
     },
     "metadata": {},
     "output_type": "display_data"
    }
   ],
   "source": [
    "# there are 2 ways to find the area under a curve\n",
    "# a) using a table of the standard normal distribution (Z table)\n",
    "# b) using pnormGC() function as shown below\n",
    "\n",
    "\n",
    "# find the z score to find out the area\n",
    "# Z score for 8.5\n",
    "Z1 = (8.5 - 5)/1.5811\n",
    "Z1"
   ]
  },
  {
   "cell_type": "code",
   "execution_count": 27,
   "metadata": {
    "collapsed": true
   },
   "outputs": [],
   "source": [
    "# Z score for 7.5\n",
    "Z2 = (7.5 - 5)/1.5811"
   ]
  },
  {
   "cell_type": "code",
   "execution_count": 28,
   "metadata": {},
   "outputs": [
    {
     "data": {
      "text/html": [
       "0.99874513323378"
      ],
      "text/latex": [
       "0.99874513323378"
      ],
      "text/markdown": [
       "0.99874513323378"
      ],
      "text/plain": [
       "[1] 0.9987451"
      ]
     },
     "metadata": {},
     "output_type": "display_data"
    },
    {
     "data": {
      "text/html": [
       "0.99999999837949"
      ],
      "text/latex": [
       "0.99999999837949"
      ],
      "text/markdown": [
       "0.99999999837949"
      ],
      "text/plain": [
       "[1] 1"
      ]
     },
     "metadata": {},
     "output_type": "display_data"
    }
   ],
   "source": [
    "# area below Z1 of 2.21 using pnormGC function\n",
    "\n",
    "pnormGC(8.5, region = \"below\", mean = 5, sd = 1.15811, graph = FALSE)\n",
    "pnormGC(7.5, region = \"below\", mean = 1.5811, graph = FALSE)"
   ]
  },
  {
   "cell_type": "code",
   "execution_count": 29,
   "metadata": {},
   "outputs": [
    {
     "data": {
      "text/html": [
       "0.043492234454135"
      ],
      "text/latex": [
       "0.043492234454135"
      ],
      "text/markdown": [
       "0.043492234454135"
      ],
      "text/plain": [
       "[1] 0.04349223"
      ]
     },
     "metadata": {},
     "output_type": "display_data"
    }
   ],
   "source": [
    "# subtract the area of Z2 from the value of Z1\n",
    "0.986573523658572 - 0.943081289204437"
   ]
  },
  {
   "cell_type": "markdown",
   "metadata": {},
   "source": [
    "The area 0.043492234454135 is an approximation of the probability of obtaining 8 heads.\n",
    "\n",
    "The same logic applies when calculating the probability of a range of outcomes. For example, to calculate the probability of 7 to 10 flips, calculate the area from 7.5 to 10.5."
   ]
  },
  {
   "cell_type": "markdown",
   "metadata": {},
   "source": [
    "##  Binomial Distribution\n",
    "\n",
    "The binomial distribution is based on a Bernoulli trial (Binomial trial), \n",
    "which is a random experiment in which there are only two possible outcomes: \n",
    "success (S) and failure (F). \n",
    "We conduct the Bernoulli trial and let\n",
    "\n",
    "\\begin{gather*}     \n",
    "X =\n",
    "\\begin{cases}\n",
    "1 & \\text {if the outcome is S ,}\\\\\n",
    "0 & \\text {if the outcome is F.}\\\\\n",
    "\\end{cases}\n",
    "\\end{gather*}\n",
    "\n",
    "If the probability of success is **p** then the probability of failure must be 1 − p = q and the PMF of X is\n",
    "\n",
    "$fx(X) = p^x(1 − p)^{1−x} $,                  x = 0, 1.\n"
   ]
  },
  {
   "cell_type": "markdown",
   "metadata": {},
   "source": [
    "#### The Binomial Model\n",
    "\n",
    "The Binomial model has three defining properties:\n",
    "    \n",
    "    • Bernoulli trials are conducted n times,\n",
    "    • the trials are independent,\n",
    "    • the probability of success **p** does not change between trials.\n",
    "\n",
    "If a random variable `X` follows the binomial distribution with parameters n ∈ N(total number of trials) and p ∈ [0,1] (probability range),\n",
    "we write X ~ B(n, p). \n",
    "he probability of getting exactly k successes in n trials is given by the probability mass function:\n",
    "\n",
    "https://en.wikipedia.org/wiki/Binomial_distribution\n",
    "\n",
    "#### How to replicate the same in R:\n",
    "\n",
    "The corresponding R function for the PMF and CDF for binomial distribution are `dbinom` and `pbinom`, respectively. We demonstrate their use in the following examples.\n",
    "\n",
    "Example: Roll 12 dice simultaneously, and let X denote the number of 6s that appear. \n",
    "We wish to find the probability of getting seven, eight, or nine 6s. \n",
    "If we let S = { get a 6 on one roll },then P(S) = 1/6 and the rolls constitute Bernoulli trials; \n",
    "thus X ∼ binom(size =12, prob =1/6) and our task is to find P(7 ≤ X ≤ 9). \n",
    "This is just\n",
    "\n",
    "$P(7 ≤ X ≤ 9) = \\sum_{x=7}^{9} {{9}\\choose{7}}(1/6)^x(5/6)^{12−x}$\n",
    "\n",
    "\n",
    "P(7 ≤ X ≤ 9) = P(X ≤9) − P(X ≤ 6) = FX(9) − FX(6),"
   ]
  },
  {
   "cell_type": "code",
   "execution_count": 30,
   "metadata": {},
   "outputs": [
    {
     "data": {
      "text/html": [
       "0.00129175754208255"
      ],
      "text/latex": [
       "0.00129175754208255"
      ],
      "text/markdown": [
       "0.00129175754208255"
      ],
      "text/plain": [
       "[1] 0.001291758"
      ]
     },
     "metadata": {},
     "output_type": "display_data"
    }
   ],
   "source": [
    "pbinom(9, size = 12, prob = 1/6) - pbinom(6, size = 12, prob = 1/6)"
   ]
  },
  {
   "cell_type": "markdown",
   "metadata": {},
   "source": [
    "**Example:** Toss a coin three times and let X be the number of Heads observed.\n",
    "We know from before that X ∼ binom(size = 3, prob = 1/2) which implies the following PMF:\n",
    "\n",
    "x = # of Heads   |  0   1   2   3\n",
    "----------------|-----------------\n",
    "f(x) = IP(X = x)| 1/8 3/8 3/8 1/8"
   ]
  },
  {
   "cell_type": "code",
   "execution_count": 31,
   "metadata": {},
   "outputs": [
    {
     "data": {
      "text/plain": [
       "Distribution Object of Class: Binom\n",
       " size: 3\n",
       " prob: 0.5"
      ]
     },
     "metadata": {},
     "output_type": "display_data"
    }
   ],
   "source": [
    "x <- Binom(size = 3, prob = 1/2)\n",
    "x"
   ]
  },
  {
   "cell_type": "code",
   "execution_count": 32,
   "metadata": {},
   "outputs": [
    {
     "data": {
      "text/html": [
       "'0.125 , 0.375 , 0.375 , 0.125'"
      ],
      "text/latex": [
       "'0.125 , 0.375 , 0.375 , 0.125'"
      ],
      "text/markdown": [
       "'0.125 , 0.375 , 0.375 , 0.125'"
      ],
      "text/plain": [
       "[1] \"0.125 , 0.375 , 0.375 , 0.125\""
      ]
     },
     "metadata": {},
     "output_type": "display_data"
    }
   ],
   "source": [
    "paste(d(x)(0),',', d(x)(1),',', d(x)(2),',',d(x)(3)) # pmf of X evaluated at x = 0,1,2,3"
   ]
  },
  {
   "cell_type": "code",
   "execution_count": 33,
   "metadata": {},
   "outputs": [
    {
     "data": {
      "text/html": [
       "'0.125 , 0.5 , 0.875 , 1'"
      ],
      "text/latex": [
       "'0.125 , 0.5 , 0.875 , 1'"
      ],
      "text/markdown": [
       "'0.125 , 0.5 , 0.875 , 1'"
      ],
      "text/plain": [
       "[1] \"0.125 , 0.5 , 0.875 , 1\""
      ]
     },
     "metadata": {},
     "output_type": "display_data"
    }
   ],
   "source": [
    "paste(p(x)(0),',', p(x)(1),',', p(x)(2),',',p(x)(3)) # cdf of X evaluated at x = 0,1,2,3"
   ]
  }
 ],
 "metadata": {
  "kernelspec": {
   "display_name": "R",
   "language": "R",
   "name": "ir"
  },
  "language_info": {
   "codemirror_mode": "r",
   "file_extension": ".r",
   "mimetype": "text/x-r-source",
   "name": "R",
   "pygments_lexer": "r",
   "version": "3.4.1"
  }
 },
 "nbformat": 4,
 "nbformat_minor": 2
}
