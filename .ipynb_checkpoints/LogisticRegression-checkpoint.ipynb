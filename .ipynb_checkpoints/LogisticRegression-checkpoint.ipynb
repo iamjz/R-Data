{
 "cells": [
  {
   "cell_type": "code",
   "execution_count": 4,
   "metadata": {},
   "outputs": [
    {
     "data": {
      "text/html": [
       "<table>\n",
       "<thead><tr><th></th><th scope=col>1</th><th scope=col>2</th><th scope=col>3</th><th scope=col>4</th><th scope=col>5</th><th scope=col>6</th></tr></thead>\n",
       "<tbody>\n",
       "\t<tr><th scope=row>fixed.acidity</th><td>  7.000 </td><td>  6.300 </td><td> 8.1000 </td><td>  7.2000</td><td>  7.2000</td><td> 8.1000 </td></tr>\n",
       "\t<tr><th scope=row>volatile.acidity</th><td>  0.270 </td><td>  0.300 </td><td> 0.2800 </td><td>  0.2300</td><td>  0.2300</td><td> 0.2800 </td></tr>\n",
       "\t<tr><th scope=row>citric.acid</th><td>  0.360 </td><td>  0.340 </td><td> 0.4000 </td><td>  0.3200</td><td>  0.3200</td><td> 0.4000 </td></tr>\n",
       "\t<tr><th scope=row>residual.sugar</th><td> 20.700 </td><td>  1.600 </td><td> 6.9000 </td><td>  8.5000</td><td>  8.5000</td><td> 6.9000 </td></tr>\n",
       "\t<tr><th scope=row>chlorides</th><td>  0.045 </td><td>  0.049 </td><td> 0.0500 </td><td>  0.0580</td><td>  0.0580</td><td> 0.0500 </td></tr>\n",
       "\t<tr><th scope=row>free.sulfur.dioxide</th><td> 45.000 </td><td> 14.000 </td><td>30.0000 </td><td> 47.0000</td><td> 47.0000</td><td>30.0000 </td></tr>\n",
       "\t<tr><th scope=row>total.sulfur.dioxide</th><td>170.000 </td><td>132.000 </td><td>97.0000 </td><td>186.0000</td><td>186.0000</td><td>97.0000 </td></tr>\n",
       "\t<tr><th scope=row>density</th><td>  1.001 </td><td>  0.994 </td><td> 0.9951 </td><td>  0.9956</td><td>  0.9956</td><td> 0.9951 </td></tr>\n",
       "\t<tr><th scope=row>pH</th><td>  3.000 </td><td>  3.300 </td><td> 3.2600 </td><td>  3.1900</td><td>  3.1900</td><td> 3.2600 </td></tr>\n",
       "\t<tr><th scope=row>sulphates</th><td>  0.450 </td><td>  0.490 </td><td> 0.4400 </td><td>  0.4000</td><td>  0.4000</td><td> 0.4400 </td></tr>\n",
       "\t<tr><th scope=row>alcohol</th><td>  8.800 </td><td>  9.500 </td><td>10.1000 </td><td>  9.9000</td><td>  9.9000</td><td>10.1000 </td></tr>\n",
       "\t<tr><th scope=row>quality</th><td>  6.000 </td><td>  6.000 </td><td> 6.0000 </td><td>  6.0000</td><td>  6.0000</td><td> 6.0000 </td></tr>\n",
       "</tbody>\n",
       "</table>\n"
      ],
      "text/latex": [
       "\\begin{tabular}{r|llllll}\n",
       "  & 1 & 2 & 3 & 4 & 5 & 6\\\\\n",
       "\\hline\n",
       "\tfixed.acidity &   7.000  &   6.300  &  8.1000  &   7.2000 &   7.2000 &  8.1000 \\\\\n",
       "\tvolatile.acidity &   0.270  &   0.300  &  0.2800  &   0.2300 &   0.2300 &  0.2800 \\\\\n",
       "\tcitric.acid &   0.360  &   0.340  &  0.4000  &   0.3200 &   0.3200 &  0.4000 \\\\\n",
       "\tresidual.sugar &  20.700  &   1.600  &  6.9000  &   8.5000 &   8.5000 &  6.9000 \\\\\n",
       "\tchlorides &   0.045  &   0.049  &  0.0500  &   0.0580 &   0.0580 &  0.0500 \\\\\n",
       "\tfree.sulfur.dioxide &  45.000  &  14.000  & 30.0000  &  47.0000 &  47.0000 & 30.0000 \\\\\n",
       "\ttotal.sulfur.dioxide & 170.000  & 132.000  & 97.0000  & 186.0000 & 186.0000 & 97.0000 \\\\\n",
       "\tdensity &   1.001  &   0.994  &  0.9951  &   0.9956 &   0.9956 &  0.9951 \\\\\n",
       "\tpH &   3.000  &   3.300  &  3.2600  &   3.1900 &   3.1900 &  3.2600 \\\\\n",
       "\tsulphates &   0.450  &   0.490  &  0.4400  &   0.4000 &   0.4000 &  0.4400 \\\\\n",
       "\talcohol &   8.800  &   9.500  & 10.1000  &   9.9000 &   9.9000 & 10.1000 \\\\\n",
       "\tquality &   6.000  &   6.000  &  6.0000  &   6.0000 &   6.0000 &  6.0000 \\\\\n",
       "\\end{tabular}\n"
      ],
      "text/markdown": [
       "\n",
       "| <!--/--> | 1 | 2 | 3 | 4 | 5 | 6 | \n",
       "|---|---|---|---|---|---|---|---|---|---|---|---|\n",
       "| fixed.acidity |   7.000  |   6.300  |  8.1000  |   7.2000 |   7.2000 |  8.1000  | \n",
       "| volatile.acidity |   0.270  |   0.300  |  0.2800  |   0.2300 |   0.2300 |  0.2800  | \n",
       "| citric.acid |   0.360  |   0.340  |  0.4000  |   0.3200 |   0.3200 |  0.4000  | \n",
       "| residual.sugar |  20.700  |   1.600  |  6.9000  |   8.5000 |   8.5000 |  6.9000  | \n",
       "| chlorides |   0.045  |   0.049  |  0.0500  |   0.0580 |   0.0580 |  0.0500  | \n",
       "| free.sulfur.dioxide |  45.000  |  14.000  | 30.0000  |  47.0000 |  47.0000 | 30.0000  | \n",
       "| total.sulfur.dioxide | 170.000  | 132.000  | 97.0000  | 186.0000 | 186.0000 | 97.0000  | \n",
       "| density |   1.001  |   0.994  |  0.9951  |   0.9956 |   0.9956 |  0.9951  | \n",
       "| pH |   3.000  |   3.300  |  3.2600  |   3.1900 |   3.1900 |  3.2600  | \n",
       "| sulphates |   0.450  |   0.490  |  0.4400  |   0.4000 |   0.4000 |  0.4400  | \n",
       "| alcohol |   8.800  |   9.500  | 10.1000  |   9.9000 |   9.9000 | 10.1000  | \n",
       "| quality |   6.000  |   6.000  |  6.0000  |   6.0000 |   6.0000 |  6.0000  | \n",
       "\n",
       "\n"
      ],
      "text/plain": [
       "                     1       2       3       4        5        6      \n",
       "fixed.acidity          7.000   6.300  8.1000   7.2000   7.2000  8.1000\n",
       "volatile.acidity       0.270   0.300  0.2800   0.2300   0.2300  0.2800\n",
       "citric.acid            0.360   0.340  0.4000   0.3200   0.3200  0.4000\n",
       "residual.sugar        20.700   1.600  6.9000   8.5000   8.5000  6.9000\n",
       "chlorides              0.045   0.049  0.0500   0.0580   0.0580  0.0500\n",
       "free.sulfur.dioxide   45.000  14.000 30.0000  47.0000  47.0000 30.0000\n",
       "total.sulfur.dioxide 170.000 132.000 97.0000 186.0000 186.0000 97.0000\n",
       "density                1.001   0.994  0.9951   0.9956   0.9956  0.9951\n",
       "pH                     3.000   3.300  3.2600   3.1900   3.1900  3.2600\n",
       "sulphates              0.450   0.490  0.4400   0.4000   0.4000  0.4400\n",
       "alcohol                8.800   9.500 10.1000   9.9000   9.9000 10.1000\n",
       "quality                6.000   6.000  6.0000   6.0000   6.0000  6.0000"
      ]
     },
     "metadata": {},
     "output_type": "display_data"
    },
    {
     "name": "stdout",
     "output_type": "stream",
     "text": [
      "'data.frame':\t4898 obs. of  12 variables:\n",
      " $ fixed.acidity       : num  7 6.3 8.1 7.2 7.2 8.1 6.2 7 6.3 8.1 ...\n",
      " $ volatile.acidity    : num  0.27 0.3 0.28 0.23 0.23 0.28 0.32 0.27 0.3 0.22 ...\n",
      " $ citric.acid         : num  0.36 0.34 0.4 0.32 0.32 0.4 0.16 0.36 0.34 0.43 ...\n",
      " $ residual.sugar      : num  20.7 1.6 6.9 8.5 8.5 6.9 7 20.7 1.6 1.5 ...\n",
      " $ chlorides           : num  0.045 0.049 0.05 0.058 0.058 0.05 0.045 0.045 0.049 0.044 ...\n",
      " $ free.sulfur.dioxide : num  45 14 30 47 47 30 30 45 14 28 ...\n",
      " $ total.sulfur.dioxide: num  170 132 97 186 186 97 136 170 132 129 ...\n",
      " $ density             : num  1.001 0.994 0.995 0.996 0.996 ...\n",
      " $ pH                  : num  3 3.3 3.26 3.19 3.19 3.26 3.18 3 3.3 3.22 ...\n",
      " $ sulphates           : num  0.45 0.49 0.44 0.4 0.4 0.44 0.47 0.45 0.49 0.45 ...\n",
      " $ alcohol             : num  8.8 9.5 10.1 9.9 9.9 10.1 9.6 8.8 9.5 11 ...\n",
      " $ quality             : int  6 6 6 6 6 6 6 6 6 6 ...\n"
     ]
    }
   ],
   "source": [
    "wine_quality_data <- read.csv(\"datasets/winequality-white.csv\",\n",
    "                              header=TRUE)\n",
    "\n",
    "t(head(wine_quality_data))\n",
    "str(wine_quality_data)"
   ]
  },
  {
   "cell_type": "code",
   "execution_count": 5,
   "metadata": {},
   "outputs": [
    {
     "data": {
      "text/plain": [
       "\n",
       "   3    4    5    6    7    8    9 \n",
       "  20  163 1457 2198  880  175    5 "
      ]
     },
     "metadata": {},
     "output_type": "display_data"
    }
   ],
   "source": [
    "# distribution of quality variable\n",
    "table(wine_quality_data$quality)"
   ]
  },
  {
   "cell_type": "code",
   "execution_count": 6,
   "metadata": {},
   "outputs": [
    {
     "data": {
      "text/html": [
       "<table>\n",
       "<thead><tr><th scope=col>quality</th><th scope=col>freq</th></tr></thead>\n",
       "<tbody>\n",
       "\t<tr><td>3   </td><td>  20</td></tr>\n",
       "\t<tr><td>4   </td><td> 163</td></tr>\n",
       "\t<tr><td>5   </td><td>1457</td></tr>\n",
       "\t<tr><td>6   </td><td>2198</td></tr>\n",
       "\t<tr><td>7   </td><td> 880</td></tr>\n",
       "\t<tr><td>8   </td><td> 175</td></tr>\n",
       "\t<tr><td>9   </td><td>   5</td></tr>\n",
       "</tbody>\n",
       "</table>\n"
      ],
      "text/latex": [
       "\\begin{tabular}{r|ll}\n",
       " quality & freq\\\\\n",
       "\\hline\n",
       "\t 3    &   20\\\\\n",
       "\t 4    &  163\\\\\n",
       "\t 5    & 1457\\\\\n",
       "\t 6    & 2198\\\\\n",
       "\t 7    &  880\\\\\n",
       "\t 8    &  175\\\\\n",
       "\t 9    &    5\\\\\n",
       "\\end{tabular}\n"
      ],
      "text/markdown": [
       "\n",
       "quality | freq | \n",
       "|---|---|---|---|---|---|---|\n",
       "| 3    |   20 | \n",
       "| 4    |  163 | \n",
       "| 5    | 1457 | \n",
       "| 6    | 2198 | \n",
       "| 7    |  880 | \n",
       "| 8    |  175 | \n",
       "| 9    |    5 | \n",
       "\n",
       "\n"
      ],
      "text/plain": [
       "  quality freq\n",
       "1 3         20\n",
       "2 4        163\n",
       "3 5       1457\n",
       "4 6       2198\n",
       "5 7        880\n",
       "6 8        175\n",
       "7 9          5"
      ]
     },
     "metadata": {},
     "output_type": "display_data"
    }
   ],
   "source": [
    "library(plyr)\n",
    "\n",
    "freq <- count(wine_quality_data, \"quality\")\n",
    "freq"
   ]
  },
  {
   "cell_type": "markdown",
   "metadata": {},
   "source": [
    "the value 6 for quality dominates the distribution; let's remove that value and label the rest as 'good' or 'bad' to create a binary variable for quality. If the quality is larger than 6, we'll call it 'good' wine, otherwise 'bad' wine. "
   ]
  },
  {
   "cell_type": "code",
   "execution_count": 7,
   "metadata": {},
   "outputs": [
    {
     "data": {
      "text/html": [
       "<table>\n",
       "<thead><tr><th scope=col>quality</th><th scope=col>freq</th></tr></thead>\n",
       "<tbody>\n",
       "\t<tr><td>3   </td><td>  20</td></tr>\n",
       "\t<tr><td>4   </td><td> 163</td></tr>\n",
       "\t<tr><td>5   </td><td>1457</td></tr>\n",
       "\t<tr><td>7   </td><td> 880</td></tr>\n",
       "\t<tr><td>8   </td><td> 175</td></tr>\n",
       "\t<tr><td>9   </td><td>   5</td></tr>\n",
       "</tbody>\n",
       "</table>\n"
      ],
      "text/latex": [
       "\\begin{tabular}{r|ll}\n",
       " quality & freq\\\\\n",
       "\\hline\n",
       "\t 3    &   20\\\\\n",
       "\t 4    &  163\\\\\n",
       "\t 5    & 1457\\\\\n",
       "\t 7    &  880\\\\\n",
       "\t 8    &  175\\\\\n",
       "\t 9    &    5\\\\\n",
       "\\end{tabular}\n"
      ],
      "text/markdown": [
       "\n",
       "quality | freq | \n",
       "|---|---|---|---|---|---|\n",
       "| 3    |   20 | \n",
       "| 4    |  163 | \n",
       "| 5    | 1457 | \n",
       "| 7    |  880 | \n",
       "| 8    |  175 | \n",
       "| 9    |    5 | \n",
       "\n",
       "\n"
      ],
      "text/plain": [
       "  quality freq\n",
       "1 3         20\n",
       "2 4        163\n",
       "3 5       1457\n",
       "4 7        880\n",
       "5 8        175\n",
       "6 9          5"
      ]
     },
     "metadata": {},
     "output_type": "display_data"
    }
   ],
   "source": [
    "wine_quality_subset_data <- subset(wine_quality_data, wine_quality_data$quality != 6)\n",
    "\n",
    "freq2 <- count(wine_quality_subset_data, \"quality\")\n",
    "freq2"
   ]
  },
  {
   "cell_type": "code",
   "execution_count": 8,
   "metadata": {
    "collapsed": true
   },
   "outputs": [],
   "source": [
    "# Now create a new column named 'good' with initially all zeros. \n",
    "wine_quality_subset_data$good <- 0\n",
    "\n",
    "# assign 1 to good if quality is larger than 5\n",
    "wine_quality_subset_data$good[wine_quality_subset_data$quality > 5] <- 1\n",
    "\n",
    "# Now remove the 'quality' column; we don't want that in the model any more.\n",
    "wine_quality_subset_data$quality <- NULL"
   ]
  },
  {
   "cell_type": "code",
   "execution_count": 9,
   "metadata": {},
   "outputs": [
    {
     "data": {
      "text/plain": [
       "\n",
       "   0    1 \n",
       "1640 1060 "
      ]
     },
     "metadata": {},
     "output_type": "display_data"
    }
   ],
   "source": [
    "table(wine_quality_subset_data$good)"
   ]
  },
  {
   "cell_type": "markdown",
   "metadata": {},
   "source": [
    "So there are 1640 'bad' white wines and 1060 'good' white wines in the data set now. Let's fit a logistic regression model to predict the variable 'good'. Let's first start with the whole data i'e wine_quality_subset_data. Later we'll split it into testing and training sets."
   ]
  },
  {
   "cell_type": "code",
   "execution_count": 11,
   "metadata": {},
   "outputs": [
    {
     "data": {
      "text/plain": [
       "\n",
       "Call:\n",
       "glm(formula = good ~ ., family = binomial, data = wine_quality_subset_data)\n",
       "\n",
       "Deviance Residuals: \n",
       "    Min       1Q   Median       3Q      Max  \n",
       "-2.8364  -0.5869  -0.2165   0.5807   2.9736  \n",
       "\n",
       "Coefficients:\n",
       "                       Estimate Std. Error z value Pr(>|z|)    \n",
       "(Intercept)           8.889e+02  1.264e+02   7.035 1.99e-12 ***\n",
       "fixed.acidity         6.417e-01  1.262e-01   5.086 3.66e-07 ***\n",
       "volatile.acidity     -9.677e+00  7.422e-01 -13.038  < 2e-16 ***\n",
       "citric.acid          -8.608e-01  5.712e-01  -1.507 0.131782    \n",
       "residual.sugar        4.399e-01  4.787e-02   9.191  < 2e-16 ***\n",
       "chlorides            -1.053e+01  5.283e+00  -1.993 0.046236 *  \n",
       "free.sulfur.dioxide   5.434e-03  4.330e-03   1.255 0.209484    \n",
       "total.sulfur.dioxide  2.489e-03  2.104e-03   1.183 0.236881    \n",
       "density              -9.182e+02  1.282e+02  -7.165 7.80e-13 ***\n",
       "pH                    3.660e+00  5.903e-01   6.200 5.64e-10 ***\n",
       "sulphates             3.360e+00  5.198e-01   6.465 1.02e-10 ***\n",
       "alcohol               5.320e-01  1.571e-01   3.386 0.000709 ***\n",
       "---\n",
       "Signif. codes:  0 '***' 0.001 '**' 0.01 '*' 0.05 '.' 0.1 ' ' 1\n",
       "\n",
       "(Dispersion parameter for binomial family taken to be 1)\n",
       "\n",
       "    Null deviance: 3617.4  on 2699  degrees of freedom\n",
       "Residual deviance: 2124.5  on 2688  degrees of freedom\n",
       "AIC: 2148.5\n",
       "\n",
       "Number of Fisher Scoring iterations: 6\n"
      ]
     },
     "metadata": {},
     "output_type": "display_data"
    }
   ],
   "source": [
    "wine_quality_log = glm(good ~ ., \n",
    "                       data = wine_quality_subset_data, \n",
    "                       family = binomial)\n",
    "\n",
    "summary(wine_quality_log)"
   ]
  },
  {
   "cell_type": "code",
   "execution_count": 12,
   "metadata": {},
   "outputs": [
    {
     "data": {
      "text/html": [
       "<dl class=dl-horizontal>\n",
       "\t<dt>11</dt>\n",
       "\t\t<dd>0.754026616681568</dd>\n",
       "\t<dt>12</dt>\n",
       "\t\t<dd>0.2343927197391</dd>\n",
       "\t<dt>13</dt>\n",
       "\t\t<dd>0.723308594237434</dd>\n",
       "\t<dt>14</dt>\n",
       "\t\t<dd>0.96307222012009</dd>\n",
       "\t<dt>15</dt>\n",
       "\t\t<dd>0.152705893968001</dd>\n",
       "\t<dt>16</dt>\n",
       "\t\t<dd>0.809371541230705</dd>\n",
       "\t<dt>18</dt>\n",
       "\t\t<dd>0.21322460204068</dd>\n",
       "\t<dt>20</dt>\n",
       "\t\t<dd>0.0978509641693318</dd>\n",
       "\t<dt>21</dt>\n",
       "\t\t<dd>0.21322460204068</dd>\n",
       "\t<dt>22</dt>\n",
       "\t\t<dd>0.365355062339596</dd>\n",
       "</dl>\n"
      ],
      "text/latex": [
       "\\begin{description*}\n",
       "\\item[11] 0.754026616681568\n",
       "\\item[12] 0.2343927197391\n",
       "\\item[13] 0.723308594237434\n",
       "\\item[14] 0.96307222012009\n",
       "\\item[15] 0.152705893968001\n",
       "\\item[16] 0.809371541230705\n",
       "\\item[18] 0.21322460204068\n",
       "\\item[20] 0.0978509641693318\n",
       "\\item[21] 0.21322460204068\n",
       "\\item[22] 0.365355062339596\n",
       "\\end{description*}\n"
      ],
      "text/markdown": [
       "11\n",
       ":   0.75402661668156812\n",
       ":   0.234392719739113\n",
       ":   0.72330859423743414\n",
       ":   0.9630722201200915\n",
       ":   0.15270589396800116\n",
       ":   0.80937154123070518\n",
       ":   0.2132246020406820\n",
       ":   0.097850964169331821\n",
       ":   0.2132246020406822\n",
       ":   0.365355062339596\n",
       "\n"
      ],
      "text/plain": [
       "        11         12         13         14         15         16         18 \n",
       "0.75402662 0.23439272 0.72330859 0.96307222 0.15270589 0.80937154 0.21322460 \n",
       "        20         21         22 \n",
       "0.09785096 0.21322460 0.36535506 "
      ]
     },
     "metadata": {},
     "output_type": "display_data"
    }
   ],
   "source": [
    "probs <- predict(wine_quality_log, \n",
    "                 type = \"response\", \n",
    "                 newdata = wine_quality_subset_data)\n",
    "\n",
    "probs[0:10]"
   ]
  },
  {
   "cell_type": "code",
   "execution_count": 13,
   "metadata": {},
   "outputs": [
    {
     "data": {
      "text/html": [
       "<dl class=dl-horizontal>\n",
       "\t<dt>11</dt>\n",
       "\t\t<dd>1</dd>\n",
       "\t<dt>12</dt>\n",
       "\t\t<dd>0</dd>\n",
       "\t<dt>13</dt>\n",
       "\t\t<dd>1</dd>\n",
       "\t<dt>14</dt>\n",
       "\t\t<dd>1</dd>\n",
       "\t<dt>15</dt>\n",
       "\t\t<dd>0</dd>\n",
       "\t<dt>16</dt>\n",
       "\t\t<dd>1</dd>\n",
       "\t<dt>18</dt>\n",
       "\t\t<dd>0</dd>\n",
       "\t<dt>20</dt>\n",
       "\t\t<dd>0</dd>\n",
       "\t<dt>21</dt>\n",
       "\t\t<dd>0</dd>\n",
       "\t<dt>22</dt>\n",
       "\t\t<dd>0</dd>\n",
       "</dl>\n"
      ],
      "text/latex": [
       "\\begin{description*}\n",
       "\\item[11] 1\n",
       "\\item[12] 0\n",
       "\\item[13] 1\n",
       "\\item[14] 1\n",
       "\\item[15] 0\n",
       "\\item[16] 1\n",
       "\\item[18] 0\n",
       "\\item[20] 0\n",
       "\\item[21] 0\n",
       "\\item[22] 0\n",
       "\\end{description*}\n"
      ],
      "text/markdown": [
       "11\n",
       ":   112\n",
       ":   013\n",
       ":   114\n",
       ":   115\n",
       ":   016\n",
       ":   118\n",
       ":   020\n",
       ":   021\n",
       ":   022\n",
       ":   0\n",
       "\n"
      ],
      "text/plain": [
       "11 12 13 14 15 16 18 20 21 22 \n",
       " 1  0  1  1  0  1  0  0  0  0 "
      ]
     },
     "metadata": {},
     "output_type": "display_data"
    }
   ],
   "source": [
    "preds <- ifelse(probs > 0.5, 1, 0)\n",
    "\n",
    "preds[0:10]"
   ]
  },
  {
   "cell_type": "code",
   "execution_count": 14,
   "metadata": {},
   "outputs": [
    {
     "name": "stdout",
     "output_type": "stream",
     "text": [
      "[1] \"Accuracy 0.823333333333333\"\n"
     ]
    }
   ],
   "source": [
    "misClassificError <- mean(preds != wine_quality_subset_data$good)\n",
    "\n",
    "print(paste('Accuracy', 1-misClassificError))"
   ]
  },
  {
   "cell_type": "markdown",
   "metadata": {},
   "source": [
    "Baseline model accuracy. There are 1640 'bad' wines, 1060 'good wines, so it should predict 'bad' all the time"
   ]
  },
  {
   "cell_type": "code",
   "execution_count": 15,
   "metadata": {},
   "outputs": [
    {
     "data": {
      "text/plain": [
       "\n",
       "   0    1 \n",
       "1640 1060 "
      ]
     },
     "metadata": {},
     "output_type": "display_data"
    }
   ],
   "source": [
    "table(wine_quality_subset_data$good)"
   ]
  },
  {
   "cell_type": "code",
   "execution_count": 16,
   "metadata": {},
   "outputs": [
    {
     "name": "stdout",
     "output_type": "stream",
     "text": [
      "[1] \"baseline accuracy = 0.607407407407407\"\n"
     ]
    }
   ],
   "source": [
    "print(paste('baseline accuracy =', 1640/(1640+1060)))"
   ]
  },
  {
   "cell_type": "markdown",
   "metadata": {},
   "source": [
    "Most of the variables are useful to predict the quality of the wine except sulfur dioxide and citric acid. Let's see if we can create a model with good generalization. A model's generalization property refers to the ability to predict the outcome accurately for unseen data. We will now create a training set to fit a model, and then test it on the testing data the model hasn't 'seen' yet."
   ]
  },
  {
   "cell_type": "code",
   "execution_count": 18,
   "metadata": {
    "collapsed": true
   },
   "outputs": [],
   "source": [
    "library(caTools)\n",
    "set.seed(1000)\n",
    "\n",
    "split <- sample.split(wine_quality_subset_data$good, SplitRatio = 0.70)"
   ]
  },
  {
   "cell_type": "code",
   "execution_count": 19,
   "metadata": {
    "collapsed": true
   },
   "outputs": [],
   "source": [
    "wine_quality_train_data <- subset(wine_quality_subset_data, split == TRUE)\n",
    "\n",
    "wine_quality_test_data <- subset(wine_quality_subset_data, split == FALSE)"
   ]
  },
  {
   "cell_type": "code",
   "execution_count": 20,
   "metadata": {},
   "outputs": [
    {
     "data": {
      "text/html": [
       "<ol class=list-inline>\n",
       "\t<li>1890</li>\n",
       "\t<li>12</li>\n",
       "</ol>\n"
      ],
      "text/latex": [
       "\\begin{enumerate*}\n",
       "\\item 1890\n",
       "\\item 12\n",
       "\\end{enumerate*}\n"
      ],
      "text/markdown": [
       "1. 1890\n",
       "2. 12\n",
       "\n",
       "\n"
      ],
      "text/plain": [
       "[1] 1890   12"
      ]
     },
     "metadata": {},
     "output_type": "display_data"
    }
   ],
   "source": [
    "dim(wine_quality_train_data)"
   ]
  },
  {
   "cell_type": "code",
   "execution_count": 21,
   "metadata": {},
   "outputs": [
    {
     "data": {
      "text/html": [
       "<ol class=list-inline>\n",
       "\t<li>810</li>\n",
       "\t<li>12</li>\n",
       "</ol>\n"
      ],
      "text/latex": [
       "\\begin{enumerate*}\n",
       "\\item 810\n",
       "\\item 12\n",
       "\\end{enumerate*}\n"
      ],
      "text/markdown": [
       "1. 810\n",
       "2. 12\n",
       "\n",
       "\n"
      ],
      "text/plain": [
       "[1] 810  12"
      ]
     },
     "metadata": {},
     "output_type": "display_data"
    }
   ],
   "source": [
    "dim(wine_quality_test_data)"
   ]
  },
  {
   "cell_type": "code",
   "execution_count": 22,
   "metadata": {
    "collapsed": true
   },
   "outputs": [],
   "source": [
    "wine_quality_train_log =  glm(good ~ ., \n",
    "                              data = wine_quality_train_data, \n",
    "                              family = binomial)"
   ]
  },
  {
   "cell_type": "code",
   "execution_count": 23,
   "metadata": {},
   "outputs": [
    {
     "data": {
      "text/plain": [
       "\n",
       "Call:\n",
       "glm(formula = good ~ ., family = binomial, data = wine_quality_train_data)\n",
       "\n",
       "Deviance Residuals: \n",
       "    Min       1Q   Median       3Q      Max  \n",
       "-2.8077  -0.5865  -0.2136   0.5837   2.8874  \n",
       "\n",
       "Coefficients:\n",
       "                       Estimate Std. Error z value Pr(>|z|)    \n",
       "(Intercept)           8.490e+02  1.551e+02   5.474 4.39e-08 ***\n",
       "fixed.acidity         6.098e-01  1.518e-01   4.017 5.90e-05 ***\n",
       "volatile.acidity     -9.908e+00  8.983e-01 -11.029  < 2e-16 ***\n",
       "citric.acid          -8.687e-01  6.806e-01  -1.276  0.20185    \n",
       "residual.sugar        4.310e-01  5.859e-02   7.356 1.89e-13 ***\n",
       "chlorides            -1.200e+01  6.236e+00  -1.925  0.05424 .  \n",
       "free.sulfur.dioxide   2.208e-03  5.113e-03   0.432  0.66580    \n",
       "total.sulfur.dioxide  4.291e-03  2.512e-03   1.708  0.08757 .  \n",
       "density              -8.787e+02  1.573e+02  -5.587 2.31e-08 ***\n",
       "pH                    3.882e+00  7.168e-01   5.416 6.08e-08 ***\n",
       "sulphates             3.211e+00  6.147e-01   5.223 1.76e-07 ***\n",
       "alcohol               5.654e-01  1.925e-01   2.938  0.00331 ** \n",
       "---\n",
       "Signif. codes:  0 '***' 0.001 '**' 0.01 '*' 0.05 '.' 0.1 ' ' 1\n",
       "\n",
       "(Dispersion parameter for binomial family taken to be 1)\n",
       "\n",
       "    Null deviance: 2532.2  on 1889  degrees of freedom\n",
       "Residual deviance: 1486.9  on 1878  degrees of freedom\n",
       "AIC: 1510.9\n",
       "\n",
       "Number of Fisher Scoring iterations: 6\n"
      ]
     },
     "metadata": {},
     "output_type": "display_data"
    }
   ],
   "source": [
    "summary(wine_quality_train_log)"
   ]
  },
  {
   "cell_type": "code",
   "execution_count": 24,
   "metadata": {},
   "outputs": [
    {
     "data": {
      "text/plain": [
       "     Min.   1st Qu.    Median      Mean   3rd Qu.      Max. \n",
       "0.0001099 0.1001214 0.2924292 0.3961119 0.7226328 0.9896926 "
      ]
     },
     "metadata": {},
     "output_type": "display_data"
    }
   ],
   "source": [
    "# predict on the test data\n",
    "probs1 <- predict(wine_quality_train_log, \n",
    "                  type = \"response\", \n",
    "                  newdata = wine_quality_test_data)\n",
    "\n",
    "summary(probs1)"
   ]
  },
  {
   "cell_type": "code",
   "execution_count": 25,
   "metadata": {},
   "outputs": [
    {
     "data": {
      "text/html": [
       "<dl class=dl-horizontal>\n",
       "\t<dt>12</dt>\n",
       "\t\t<dd>0</dd>\n",
       "\t<dt>14</dt>\n",
       "\t\t<dd>1</dd>\n",
       "\t<dt>21</dt>\n",
       "\t\t<dd>0</dd>\n",
       "\t<dt>22</dt>\n",
       "\t\t<dd>0</dd>\n",
       "\t<dt>35</dt>\n",
       "\t\t<dd>1</dd>\n",
       "\t<dt>46</dt>\n",
       "\t\t<dd>0</dd>\n",
       "\t<dt>47</dt>\n",
       "\t\t<dd>0</dd>\n",
       "\t<dt>50</dt>\n",
       "\t\t<dd>0</dd>\n",
       "\t<dt>53</dt>\n",
       "\t\t<dd>1</dd>\n",
       "\t<dt>63</dt>\n",
       "\t\t<dd>0</dd>\n",
       "</dl>\n"
      ],
      "text/latex": [
       "\\begin{description*}\n",
       "\\item[12] 0\n",
       "\\item[14] 1\n",
       "\\item[21] 0\n",
       "\\item[22] 0\n",
       "\\item[35] 1\n",
       "\\item[46] 0\n",
       "\\item[47] 0\n",
       "\\item[50] 0\n",
       "\\item[53] 1\n",
       "\\item[63] 0\n",
       "\\end{description*}\n"
      ],
      "text/markdown": [
       "12\n",
       ":   014\n",
       ":   121\n",
       ":   022\n",
       ":   035\n",
       ":   146\n",
       ":   047\n",
       ":   050\n",
       ":   053\n",
       ":   163\n",
       ":   0\n",
       "\n"
      ],
      "text/plain": [
       "12 14 21 22 35 46 47 50 53 63 \n",
       " 0  1  0  0  1  0  0  0  1  0 "
      ]
     },
     "metadata": {},
     "output_type": "display_data"
    }
   ],
   "source": [
    "# Now let's use a threshold of 0.5 to turn probablities into actual predictions\n",
    "preds1 <- ifelse(probs1 > 0.5, 1, 0)\n",
    "preds1[0:10]"
   ]
  },
  {
   "cell_type": "code",
   "execution_count": 26,
   "metadata": {},
   "outputs": [
    {
     "name": "stdout",
     "output_type": "stream",
     "text": [
      "[1] \"Accuracy 0.824691358024691\"\n"
     ]
    }
   ],
   "source": [
    "misClassificError1 <- mean(preds1 != wine_quality_test_data$good)\n",
    "print(paste('Accuracy',1 - misClassificError1))"
   ]
  },
  {
   "cell_type": "markdown",
   "metadata": {},
   "source": [
    "The accuracy of the model for unseen data is about 82% where as baseline model has an accuracy of 62%."
   ]
  },
  {
   "cell_type": "code",
   "execution_count": 29,
   "metadata": {},
   "outputs": [
    {
     "data": {
      "text/plain": [
       "   \n",
       "    FALSE TRUE\n",
       "  0   431   61\n",
       "  1    81  237"
      ]
     },
     "metadata": {},
     "output_type": "display_data"
    }
   ],
   "source": [
    "table(wine_quality_test_data$good,preds1 > 0.5)"
   ]
  },
  {
   "cell_type": "markdown",
   "metadata": {},
   "source": [
    "Sensitivity = TP/(TP+FN)\n",
    "\n",
    "Specificity = TN/(TN+FP)"
   ]
  },
  {
   "cell_type": "code",
   "execution_count": 28,
   "metadata": {},
   "outputs": [
    {
     "name": "stdout",
     "output_type": "stream",
     "text": [
      "[1] \"sens = 0.745283018867924\"\n",
      "[1] \"spec = 0.876016260162602\"\n"
     ]
    }
   ],
   "source": [
    "\n",
    "print(paste('sens =', (237/(237 + 81))))\n",
    "print(paste('spec =', (431/(431+61))))"
   ]
  }
 ],
 "metadata": {
  "kernelspec": {
   "display_name": "R",
   "language": "R",
   "name": "ir"
  },
  "language_info": {
   "codemirror_mode": "r",
   "file_extension": ".r",
   "mimetype": "text/x-r-source",
   "name": "R",
   "pygments_lexer": "r",
   "version": "3.4.1"
  }
 },
 "nbformat": 4,
 "nbformat_minor": 2
}
