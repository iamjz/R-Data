{
 "cells": [
  {
   "cell_type": "markdown",
   "metadata": {},
   "source": [
    "# Extra ways to summarize data\n",
    "\n",
    "## Summarizing vectors\n",
    "\n",
    "Vectors are summarized using measures of central tendency and variability. Let's look into other descriptive statistics for summarizing the vectors. "
   ]
  },
  {
   "cell_type": "code",
   "execution_count": 1,
   "metadata": {
    "collapsed": true
   },
   "outputs": [],
   "source": [
    "housing_prices <- read.csv(\"datasets/kc_house_data.csv\")"
   ]
  },
  {
   "cell_type": "code",
   "execution_count": 2,
   "metadata": {},
   "outputs": [
    {
     "data": {
      "text/html": [
       "<table>\n",
       "<thead><tr><th></th><th scope=col>1</th><th scope=col>2</th><th scope=col>3</th><th scope=col>4</th><th scope=col>5</th><th scope=col>6</th></tr></thead>\n",
       "<tbody>\n",
       "\t<tr><th scope=row>X</th><td>1              </td><td>2              </td><td>3              </td><td>4              </td><td>5              </td><td>6              </td></tr>\n",
       "\t<tr><th scope=row>id</th><td>7129300520     </td><td>6414100192     </td><td>5631500400     </td><td>2487200875     </td><td>1954400510     </td><td>7237550310     </td></tr>\n",
       "\t<tr><th scope=row>date</th><td>20141013T000000</td><td>20141209T000000</td><td>20150225T000000</td><td>20141209T000000</td><td>20150218T000000</td><td>20140512T000000</td></tr>\n",
       "\t<tr><th scope=row>price</th><td> 221900        </td><td> 538000        </td><td> 180000        </td><td> 604000        </td><td> 510000        </td><td>1225000        </td></tr>\n",
       "\t<tr><th scope=row>bedrooms</th><td>3              </td><td>3              </td><td>2              </td><td>4              </td><td>3              </td><td>4              </td></tr>\n",
       "\t<tr><th scope=row>bathrooms</th><td>1.00           </td><td>2.25           </td><td>1.00           </td><td>3.00           </td><td>2.00           </td><td>4.50           </td></tr>\n",
       "\t<tr><th scope=row>sqft_living</th><td>1180           </td><td>2570           </td><td> 770           </td><td>1960           </td><td>1680           </td><td>5420           </td></tr>\n",
       "\t<tr><th scope=row>sqft_lot</th><td>  5650         </td><td>  7242         </td><td> 10000         </td><td>  5000         </td><td>  8080         </td><td>101930         </td></tr>\n",
       "\t<tr><th scope=row>floors</th><td>1              </td><td>2              </td><td>1              </td><td>1              </td><td>1              </td><td>1              </td></tr>\n",
       "\t<tr><th scope=row>waterfront</th><td>0              </td><td>0              </td><td>0              </td><td>0              </td><td>0              </td><td>0              </td></tr>\n",
       "\t<tr><th scope=row>view</th><td>0              </td><td>0              </td><td>0              </td><td>0              </td><td>0              </td><td>0              </td></tr>\n",
       "\t<tr><th scope=row>condition</th><td>3              </td><td>3              </td><td>3              </td><td>5              </td><td>3              </td><td>3              </td></tr>\n",
       "\t<tr><th scope=row>grade</th><td> 7             </td><td> 7             </td><td> 6             </td><td> 7             </td><td> 8             </td><td>11             </td></tr>\n",
       "\t<tr><th scope=row>sqft_above</th><td>1180           </td><td>2170           </td><td> 770           </td><td>1050           </td><td>1680           </td><td>3890           </td></tr>\n",
       "\t<tr><th scope=row>sqft_basement</th><td>   0           </td><td> 400           </td><td>   0           </td><td> 910           </td><td>   0           </td><td>1530           </td></tr>\n",
       "\t<tr><th scope=row>yr_built</th><td>1955           </td><td>1951           </td><td>1933           </td><td>1965           </td><td>1987           </td><td>2001           </td></tr>\n",
       "\t<tr><th scope=row>yr_renovated</th><td>   0           </td><td>1991           </td><td>   0           </td><td>   0           </td><td>   0           </td><td>   0           </td></tr>\n",
       "\t<tr><th scope=row>zipcode</th><td>98178          </td><td>98125          </td><td>98028          </td><td>98136          </td><td>98074          </td><td>98053          </td></tr>\n",
       "\t<tr><th scope=row>lat</th><td>47.5112        </td><td>47.7210        </td><td>47.7379        </td><td>47.5208        </td><td>47.6168        </td><td>47.6561        </td></tr>\n",
       "\t<tr><th scope=row>long</th><td>-122.257       </td><td>-122.319       </td><td>-122.233       </td><td>-122.393       </td><td>-122.045       </td><td>-122.005       </td></tr>\n",
       "\t<tr><th scope=row>sqft_living15</th><td>1340           </td><td>1690           </td><td>2720           </td><td>1360           </td><td>1800           </td><td>4760           </td></tr>\n",
       "\t<tr><th scope=row>sqft_lot15</th><td>  5650         </td><td>  7639         </td><td>  8062         </td><td>  5000         </td><td>  7503         </td><td>101930         </td></tr>\n",
       "</tbody>\n",
       "</table>\n"
      ],
      "text/latex": [
       "\\begin{tabular}{r|llllll}\n",
       "  & 1 & 2 & 3 & 4 & 5 & 6\\\\\n",
       "\\hline\n",
       "\tX & 1               & 2               & 3               & 4               & 5               & 6              \\\\\n",
       "\tid & 7129300520      & 6414100192      & 5631500400      & 2487200875      & 1954400510      & 7237550310     \\\\\n",
       "\tdate & 20141013T000000 & 20141209T000000 & 20150225T000000 & 20141209T000000 & 20150218T000000 & 20140512T000000\\\\\n",
       "\tprice &  221900         &  538000         &  180000         &  604000         &  510000         & 1225000        \\\\\n",
       "\tbedrooms & 3               & 3               & 2               & 4               & 3               & 4              \\\\\n",
       "\tbathrooms & 1.00            & 2.25            & 1.00            & 3.00            & 2.00            & 4.50           \\\\\n",
       "\tsqft\\_living & 1180            & 2570            &  770            & 1960            & 1680            & 5420           \\\\\n",
       "\tsqft\\_lot &   5650          &   7242          &  10000          &   5000          &   8080          & 101930         \\\\\n",
       "\tfloors & 1               & 2               & 1               & 1               & 1               & 1              \\\\\n",
       "\twaterfront & 0               & 0               & 0               & 0               & 0               & 0              \\\\\n",
       "\tview & 0               & 0               & 0               & 0               & 0               & 0              \\\\\n",
       "\tcondition & 3               & 3               & 3               & 5               & 3               & 3              \\\\\n",
       "\tgrade &  7              &  7              &  6              &  7              &  8              & 11             \\\\\n",
       "\tsqft\\_above & 1180            & 2170            &  770            & 1050            & 1680            & 3890           \\\\\n",
       "\tsqft\\_basement &    0            &  400            &    0            &  910            &    0            & 1530           \\\\\n",
       "\tyr\\_built & 1955            & 1951            & 1933            & 1965            & 1987            & 2001           \\\\\n",
       "\tyr\\_renovated &    0            & 1991            &    0            &    0            &    0            &    0           \\\\\n",
       "\tzipcode & 98178           & 98125           & 98028           & 98136           & 98074           & 98053          \\\\\n",
       "\tlat & 47.5112         & 47.7210         & 47.7379         & 47.5208         & 47.6168         & 47.6561        \\\\\n",
       "\tlong & -122.257        & -122.319        & -122.233        & -122.393        & -122.045        & -122.005       \\\\\n",
       "\tsqft\\_living15 & 1340            & 1690            & 2720            & 1360            & 1800            & 4760           \\\\\n",
       "\tsqft\\_lot15 &   5650          &   7639          &   8062          &   5000          &   7503          & 101930         \\\\\n",
       "\\end{tabular}\n"
      ],
      "text/markdown": [
       "\n",
       "| <!--/--> | 1 | 2 | 3 | 4 | 5 | 6 | \n",
       "|---|---|---|---|---|---|---|---|---|---|---|---|---|---|---|---|---|---|---|---|---|---|\n",
       "| X | 1               | 2               | 3               | 4               | 5               | 6               | \n",
       "| id | 7129300520      | 6414100192      | 5631500400      | 2487200875      | 1954400510      | 7237550310      | \n",
       "| date | 20141013T000000 | 20141209T000000 | 20150225T000000 | 20141209T000000 | 20150218T000000 | 20140512T000000 | \n",
       "| price |  221900         |  538000         |  180000         |  604000         |  510000         | 1225000         | \n",
       "| bedrooms | 3               | 3               | 2               | 4               | 3               | 4               | \n",
       "| bathrooms | 1.00            | 2.25            | 1.00            | 3.00            | 2.00            | 4.50            | \n",
       "| sqft_living | 1180            | 2570            |  770            | 1960            | 1680            | 5420            | \n",
       "| sqft_lot |   5650          |   7242          |  10000          |   5000          |   8080          | 101930          | \n",
       "| floors | 1               | 2               | 1               | 1               | 1               | 1               | \n",
       "| waterfront | 0               | 0               | 0               | 0               | 0               | 0               | \n",
       "| view | 0               | 0               | 0               | 0               | 0               | 0               | \n",
       "| condition | 3               | 3               | 3               | 5               | 3               | 3               | \n",
       "| grade |  7              |  7              |  6              |  7              |  8              | 11              | \n",
       "| sqft_above | 1180            | 2170            |  770            | 1050            | 1680            | 3890            | \n",
       "| sqft_basement |    0            |  400            |    0            |  910            |    0            | 1530            | \n",
       "| yr_built | 1955            | 1951            | 1933            | 1965            | 1987            | 2001            | \n",
       "| yr_renovated |    0            | 1991            |    0            |    0            |    0            |    0            | \n",
       "| zipcode | 98178           | 98125           | 98028           | 98136           | 98074           | 98053           | \n",
       "| lat | 47.5112         | 47.7210         | 47.7379         | 47.5208         | 47.6168         | 47.6561         | \n",
       "| long | -122.257        | -122.319        | -122.233        | -122.393        | -122.045        | -122.005        | \n",
       "| sqft_living15 | 1340            | 1690            | 2720            | 1360            | 1800            | 4760            | \n",
       "| sqft_lot15 |   5650          |   7639          |   8062          |   5000          |   7503          | 101930          | \n",
       "\n",
       "\n"
      ],
      "text/plain": [
       "              1               2               3               4              \n",
       "X             1               2               3               4              \n",
       "id            7129300520      6414100192      5631500400      2487200875     \n",
       "date          20141013T000000 20141209T000000 20150225T000000 20141209T000000\n",
       "price          221900          538000          180000          604000        \n",
       "bedrooms      3               3               2               4              \n",
       "bathrooms     1.00            2.25            1.00            3.00           \n",
       "sqft_living   1180            2570             770            1960           \n",
       "sqft_lot        5650            7242           10000            5000         \n",
       "floors        1               2               1               1              \n",
       "waterfront    0               0               0               0              \n",
       "view          0               0               0               0              \n",
       "condition     3               3               3               5              \n",
       "grade          7               7               6               7             \n",
       "sqft_above    1180            2170             770            1050           \n",
       "sqft_basement    0             400               0             910           \n",
       "yr_built      1955            1951            1933            1965           \n",
       "yr_renovated     0            1991               0               0           \n",
       "zipcode       98178           98125           98028           98136          \n",
       "lat           47.5112         47.7210         47.7379         47.5208        \n",
       "long          -122.257        -122.319        -122.233        -122.393       \n",
       "sqft_living15 1340            1690            2720            1360           \n",
       "sqft_lot15      5650            7639            8062            5000         \n",
       "              5               6              \n",
       "X             5               6              \n",
       "id            1954400510      7237550310     \n",
       "date          20150218T000000 20140512T000000\n",
       "price          510000         1225000        \n",
       "bedrooms      3               4              \n",
       "bathrooms     2.00            4.50           \n",
       "sqft_living   1680            5420           \n",
       "sqft_lot        8080          101930         \n",
       "floors        1               1              \n",
       "waterfront    0               0              \n",
       "view          0               0              \n",
       "condition     3               3              \n",
       "grade          8              11             \n",
       "sqft_above    1680            3890           \n",
       "sqft_basement    0            1530           \n",
       "yr_built      1987            2001           \n",
       "yr_renovated     0               0           \n",
       "zipcode       98074           98053          \n",
       "lat           47.6168         47.6561        \n",
       "long          -122.045        -122.005       \n",
       "sqft_living15 1800            4760           \n",
       "sqft_lot15      7503          101930         "
      ]
     },
     "metadata": {},
     "output_type": "display_data"
    }
   ],
   "source": [
    "t(head(housing_prices))"
   ]
  },
  {
   "cell_type": "markdown",
   "metadata": {},
   "source": [
    "apply(), lapply(), sapply(), tapply(), ddply() are some summarizing functions that we can use to apply functions on the columns"
   ]
  },
  {
   "cell_type": "markdown",
   "metadata": {},
   "source": [
    "## APPLY()\n",
    "\n",
    "The apply function is used to apply a function to the rows or columns of a matrix. It collapses either a row or a column. 1 represents row and 2 represents column. We'll try to apply the mean function for all columns so we're using 2. "
   ]
  },
  {
   "cell_type": "code",
   "execution_count": 4,
   "metadata": {
    "collapsed": true
   },
   "outputs": [],
   "source": [
    "# Date is a factor variable so we cannot apply the mean function onto a factor variable. The id column is just an identifier. \n",
    "# Let's exclude them\n",
    "\n",
    "less_data <- housing_prices[, !names(housing_prices) %in% c(\"date\", \"id\")]"
   ]
  },
  {
   "cell_type": "code",
   "execution_count": 5,
   "metadata": {},
   "outputs": [
    {
     "data": {
      "text/html": [
       "<dl class=dl-horizontal>\n",
       "\t<dt>X</dt>\n",
       "\t\t<dd>10807</dd>\n",
       "\t<dt>price</dt>\n",
       "\t\t<dd>540088.141766529</dd>\n",
       "\t<dt>bedrooms</dt>\n",
       "\t\t<dd>3.37084162309721</dd>\n",
       "\t<dt>bathrooms</dt>\n",
       "\t\t<dd>2.11475732198214</dd>\n",
       "\t<dt>sqft_living</dt>\n",
       "\t\t<dd>2079.89973626984</dd>\n",
       "\t<dt>sqft_lot</dt>\n",
       "\t\t<dd>15106.9675658169</dd>\n",
       "\t<dt>floors</dt>\n",
       "\t\t<dd>1.49430898070606</dd>\n",
       "\t<dt>waterfront</dt>\n",
       "\t\t<dd>0.00754175727571369</dd>\n",
       "\t<dt>view</dt>\n",
       "\t\t<dd>0.234303428492111</dd>\n",
       "\t<dt>condition</dt>\n",
       "\t\t<dd>3.40942951001712</dd>\n",
       "\t<dt>grade</dt>\n",
       "\t\t<dd>7.6568731781798</dd>\n",
       "\t<dt>sqft_above</dt>\n",
       "\t\t<dd>1788.39069078795</dd>\n",
       "\t<dt>sqft_basement</dt>\n",
       "\t\t<dd>291.509045481886</dd>\n",
       "\t<dt>yr_built</dt>\n",
       "\t\t<dd>1971.0051357979</dd>\n",
       "\t<dt>yr_renovated</dt>\n",
       "\t\t<dd>84.4022579003378</dd>\n",
       "\t<dt>zipcode</dt>\n",
       "\t\t<dd>98077.9398047471</dd>\n",
       "\t<dt>lat</dt>\n",
       "\t\t<dd>47.5600525193171</dd>\n",
       "\t<dt>long</dt>\n",
       "\t\t<dd>-122.213896404941</dd>\n",
       "\t<dt>sqft_living15</dt>\n",
       "\t\t<dd>1986.55249155601</dd>\n",
       "\t<dt>sqft_lot15</dt>\n",
       "\t\t<dd>12768.4556516911</dd>\n",
       "</dl>\n"
      ],
      "text/latex": [
       "\\begin{description*}\n",
       "\\item[X] 10807\n",
       "\\item[price] 540088.141766529\n",
       "\\item[bedrooms] 3.37084162309721\n",
       "\\item[bathrooms] 2.11475732198214\n",
       "\\item[sqft\\textbackslash{}\\_living] 2079.89973626984\n",
       "\\item[sqft\\textbackslash{}\\_lot] 15106.9675658169\n",
       "\\item[floors] 1.49430898070606\n",
       "\\item[waterfront] 0.00754175727571369\n",
       "\\item[view] 0.234303428492111\n",
       "\\item[condition] 3.40942951001712\n",
       "\\item[grade] 7.6568731781798\n",
       "\\item[sqft\\textbackslash{}\\_above] 1788.39069078795\n",
       "\\item[sqft\\textbackslash{}\\_basement] 291.509045481886\n",
       "\\item[yr\\textbackslash{}\\_built] 1971.0051357979\n",
       "\\item[yr\\textbackslash{}\\_renovated] 84.4022579003378\n",
       "\\item[zipcode] 98077.9398047471\n",
       "\\item[lat] 47.5600525193171\n",
       "\\item[long] -122.213896404941\n",
       "\\item[sqft\\textbackslash{}\\_living15] 1986.55249155601\n",
       "\\item[sqft\\textbackslash{}\\_lot15] 12768.4556516911\n",
       "\\end{description*}\n"
      ],
      "text/markdown": [
       "X\n",
       ":   10807price\n",
       ":   540088.141766529bedrooms\n",
       ":   3.37084162309721bathrooms\n",
       ":   2.11475732198214sqft_living\n",
       ":   2079.89973626984sqft_lot\n",
       ":   15106.9675658169floors\n",
       ":   1.49430898070606waterfront\n",
       ":   0.00754175727571369view\n",
       ":   0.234303428492111condition\n",
       ":   3.40942951001712grade\n",
       ":   7.6568731781798sqft_above\n",
       ":   1788.39069078795sqft_basement\n",
       ":   291.509045481886yr_built\n",
       ":   1971.0051357979yr_renovated\n",
       ":   84.4022579003378zipcode\n",
       ":   98077.9398047471lat\n",
       ":   47.5600525193171long\n",
       ":   -122.213896404941sqft_living15\n",
       ":   1986.55249155601sqft_lot15\n",
       ":   12768.4556516911\n",
       "\n"
      ],
      "text/plain": [
       "            X         price      bedrooms     bathrooms   sqft_living \n",
       " 1.080700e+04  5.400881e+05  3.370842e+00  2.114757e+00  2.079900e+03 \n",
       "     sqft_lot        floors    waterfront          view     condition \n",
       " 1.510697e+04  1.494309e+00  7.541757e-03  2.343034e-01  3.409430e+00 \n",
       "        grade    sqft_above sqft_basement      yr_built  yr_renovated \n",
       " 7.656873e+00  1.788391e+03  2.915090e+02  1.971005e+03  8.440226e+01 \n",
       "      zipcode           lat          long sqft_living15    sqft_lot15 \n",
       " 9.807794e+04  4.756005e+01 -1.222139e+02  1.986552e+03  1.276846e+04 "
      ]
     },
     "metadata": {},
     "output_type": "display_data"
    }
   ],
   "source": [
    "apply(less_data, 2, mean)"
   ]
  },
  {
   "cell_type": "code",
   "execution_count": 10,
   "metadata": {},
   "outputs": [
    {
     "data": {
      "text/html": [
       "<dl class=dl-horizontal>\n",
       "\t<dt>X</dt>\n",
       "\t\t<dd>10807</dd>\n",
       "\t<dt>price</dt>\n",
       "\t\t<dd>540088.141766529</dd>\n",
       "\t<dt>bedrooms</dt>\n",
       "\t\t<dd>3.37084162309721</dd>\n",
       "\t<dt>bathrooms</dt>\n",
       "\t\t<dd>2.11475732198214</dd>\n",
       "\t<dt>sqft_living</dt>\n",
       "\t\t<dd>2079.89973626984</dd>\n",
       "\t<dt>sqft_lot</dt>\n",
       "\t\t<dd>15106.9675658169</dd>\n",
       "\t<dt>floors</dt>\n",
       "\t\t<dd>1.49430898070606</dd>\n",
       "\t<dt>waterfront</dt>\n",
       "\t\t<dd>0.00754175727571369</dd>\n",
       "\t<dt>view</dt>\n",
       "\t\t<dd>0.234303428492111</dd>\n",
       "\t<dt>condition</dt>\n",
       "\t\t<dd>3.40942951001712</dd>\n",
       "\t<dt>grade</dt>\n",
       "\t\t<dd>7.6568731781798</dd>\n",
       "\t<dt>sqft_above</dt>\n",
       "\t\t<dd>1788.39069078795</dd>\n",
       "\t<dt>sqft_basement</dt>\n",
       "\t\t<dd>291.509045481886</dd>\n",
       "\t<dt>yr_built</dt>\n",
       "\t\t<dd>1971.0051357979</dd>\n",
       "\t<dt>yr_renovated</dt>\n",
       "\t\t<dd>84.4022579003378</dd>\n",
       "\t<dt>zipcode</dt>\n",
       "\t\t<dd>98077.9398047471</dd>\n",
       "\t<dt>lat</dt>\n",
       "\t\t<dd>47.5600525193171</dd>\n",
       "\t<dt>long</dt>\n",
       "\t\t<dd>-122.213896404941</dd>\n",
       "\t<dt>sqft_living15</dt>\n",
       "\t\t<dd>1986.55249155601</dd>\n",
       "\t<dt>sqft_lot15</dt>\n",
       "\t\t<dd>12768.4556516911</dd>\n",
       "</dl>\n"
      ],
      "text/latex": [
       "\\begin{description*}\n",
       "\\item[X] 10807\n",
       "\\item[price] 540088.141766529\n",
       "\\item[bedrooms] 3.37084162309721\n",
       "\\item[bathrooms] 2.11475732198214\n",
       "\\item[sqft\\textbackslash{}\\_living] 2079.89973626984\n",
       "\\item[sqft\\textbackslash{}\\_lot] 15106.9675658169\n",
       "\\item[floors] 1.49430898070606\n",
       "\\item[waterfront] 0.00754175727571369\n",
       "\\item[view] 0.234303428492111\n",
       "\\item[condition] 3.40942951001712\n",
       "\\item[grade] 7.6568731781798\n",
       "\\item[sqft\\textbackslash{}\\_above] 1788.39069078795\n",
       "\\item[sqft\\textbackslash{}\\_basement] 291.509045481886\n",
       "\\item[yr\\textbackslash{}\\_built] 1971.0051357979\n",
       "\\item[yr\\textbackslash{}\\_renovated] 84.4022579003378\n",
       "\\item[zipcode] 98077.9398047471\n",
       "\\item[lat] 47.5600525193171\n",
       "\\item[long] -122.213896404941\n",
       "\\item[sqft\\textbackslash{}\\_living15] 1986.55249155601\n",
       "\\item[sqft\\textbackslash{}\\_lot15] 12768.4556516911\n",
       "\\end{description*}\n"
      ],
      "text/markdown": [
       "X\n",
       ":   10807price\n",
       ":   540088.141766529bedrooms\n",
       ":   3.37084162309721bathrooms\n",
       ":   2.11475732198214sqft_living\n",
       ":   2079.89973626984sqft_lot\n",
       ":   15106.9675658169floors\n",
       ":   1.49430898070606waterfront\n",
       ":   0.00754175727571369view\n",
       ":   0.234303428492111condition\n",
       ":   3.40942951001712grade\n",
       ":   7.6568731781798sqft_above\n",
       ":   1788.39069078795sqft_basement\n",
       ":   291.509045481886yr_built\n",
       ":   1971.0051357979yr_renovated\n",
       ":   84.4022579003378zipcode\n",
       ":   98077.9398047471lat\n",
       ":   47.5600525193171long\n",
       ":   -122.213896404941sqft_living15\n",
       ":   1986.55249155601sqft_lot15\n",
       ":   12768.4556516911\n",
       "\n"
      ],
      "text/plain": [
       "            X         price      bedrooms     bathrooms   sqft_living \n",
       " 1.080700e+04  5.400881e+05  3.370842e+00  2.114757e+00  2.079900e+03 \n",
       "     sqft_lot        floors    waterfront          view     condition \n",
       " 1.510697e+04  1.494309e+00  7.541757e-03  2.343034e-01  3.409430e+00 \n",
       "        grade    sqft_above sqft_basement      yr_built  yr_renovated \n",
       " 7.656873e+00  1.788391e+03  2.915090e+02  1.971005e+03  8.440226e+01 \n",
       "      zipcode           lat          long sqft_living15    sqft_lot15 \n",
       " 9.807794e+04  4.756005e+01 -1.222139e+02  1.986552e+03  1.276846e+04 "
      ]
     },
     "metadata": {},
     "output_type": "display_data"
    }
   ],
   "source": [
    "colMeans(less_data) # much faster\n",
    "\n",
    "# colMeans\n",
    "# rowMeans\n",
    "# colSums\n",
    "# rowSums"
   ]
  },
  {
   "cell_type": "markdown",
   "metadata": {},
   "source": [
    "Let's create a list using variables \"bedrooms\" and \"bathrooms\". "
   ]
  },
  {
   "cell_type": "code",
   "execution_count": 13,
   "metadata": {
    "collapsed": true
   },
   "outputs": [],
   "source": [
    "x <- list(housing_prices$bedrooms, housing_prices$bathrooms)"
   ]
  },
  {
   "cell_type": "code",
   "execution_count": 14,
   "metadata": {},
   "outputs": [
    {
     "name": "stdout",
     "output_type": "stream",
     "text": [
      "List of 2\n",
      " $ : int [1:21613] 3 3 2 4 3 4 3 3 3 3 ...\n",
      " $ : num [1:21613] 1 2.25 1 3 2 4.5 2.25 1.5 1 2.5 ...\n"
     ]
    }
   ],
   "source": [
    "str(x)"
   ]
  },
  {
   "cell_type": "markdown",
   "metadata": {},
   "source": [
    "## LAPPLY()\n",
    "\n",
    "lapply() is used when you want to apply a function to each element of a list. Hence...the L in Lapply. A list of values is returned back for every element of the list. lapply(x) returns a list of the same length of x"
   ]
  },
  {
   "cell_type": "code",
   "execution_count": 18,
   "metadata": {},
   "outputs": [
    {
     "data": {
      "text/html": [
       "<ol>\n",
       "\t<li>3.37084162309721</li>\n",
       "\t<li>2.11475732198214</li>\n",
       "</ol>\n"
      ],
      "text/latex": [
       "\\begin{enumerate}\n",
       "\\item 3.37084162309721\n",
       "\\item 2.11475732198214\n",
       "\\end{enumerate}\n"
      ],
      "text/markdown": [
       "1. 3.37084162309721\n",
       "2. 2.11475732198214\n",
       "\n",
       "\n"
      ],
      "text/plain": [
       "[[1]]\n",
       "[1] 3.370842\n",
       "\n",
       "[[2]]\n",
       "[1] 2.114757\n"
      ]
     },
     "metadata": {},
     "output_type": "display_data"
    }
   ],
   "source": [
    "res <- lapply(x, FUN = mean)\n",
    "res"
   ]
  },
  {
   "cell_type": "code",
   "execution_count": 19,
   "metadata": {},
   "outputs": [
    {
     "data": {
      "text/html": [
       "'list'"
      ],
      "text/latex": [
       "'list'"
      ],
      "text/markdown": [
       "'list'"
      ],
      "text/plain": [
       "[1] \"list\""
      ]
     },
     "metadata": {},
     "output_type": "display_data"
    }
   ],
   "source": [
    "class(res)"
   ]
  },
  {
   "cell_type": "markdown",
   "metadata": {},
   "source": [
    "## SAPPLY()\n",
    "\n",
    "sapply() is used when you want to apply a function to each element of a list. In return, you will get a vector rather than a list. lapply() and sapply() are similar except for the return type of the result. "
   ]
  },
  {
   "cell_type": "code",
   "execution_count": 21,
   "metadata": {},
   "outputs": [
    {
     "data": {
      "text/html": [
       "<dl class=dl-horizontal>\n",
       "\t<dt>X</dt>\n",
       "\t\t<dd>10807</dd>\n",
       "\t<dt>price</dt>\n",
       "\t\t<dd>540088.141766529</dd>\n",
       "\t<dt>bedrooms</dt>\n",
       "\t\t<dd>3.37084162309721</dd>\n",
       "\t<dt>bathrooms</dt>\n",
       "\t\t<dd>2.11475732198214</dd>\n",
       "\t<dt>sqft_living</dt>\n",
       "\t\t<dd>2079.89973626984</dd>\n",
       "\t<dt>sqft_lot</dt>\n",
       "\t\t<dd>15106.9675658169</dd>\n",
       "\t<dt>floors</dt>\n",
       "\t\t<dd>1.49430898070606</dd>\n",
       "\t<dt>waterfront</dt>\n",
       "\t\t<dd>0.00754175727571369</dd>\n",
       "\t<dt>view</dt>\n",
       "\t\t<dd>0.234303428492111</dd>\n",
       "\t<dt>condition</dt>\n",
       "\t\t<dd>3.40942951001712</dd>\n",
       "\t<dt>grade</dt>\n",
       "\t\t<dd>7.6568731781798</dd>\n",
       "\t<dt>sqft_above</dt>\n",
       "\t\t<dd>1788.39069078795</dd>\n",
       "\t<dt>sqft_basement</dt>\n",
       "\t\t<dd>291.509045481886</dd>\n",
       "\t<dt>yr_built</dt>\n",
       "\t\t<dd>1971.0051357979</dd>\n",
       "\t<dt>yr_renovated</dt>\n",
       "\t\t<dd>84.4022579003378</dd>\n",
       "\t<dt>zipcode</dt>\n",
       "\t\t<dd>98077.9398047471</dd>\n",
       "\t<dt>lat</dt>\n",
       "\t\t<dd>47.5600525193171</dd>\n",
       "\t<dt>long</dt>\n",
       "\t\t<dd>-122.213896404941</dd>\n",
       "\t<dt>sqft_living15</dt>\n",
       "\t\t<dd>1986.55249155601</dd>\n",
       "\t<dt>sqft_lot15</dt>\n",
       "\t\t<dd>12768.4556516911</dd>\n",
       "</dl>\n"
      ],
      "text/latex": [
       "\\begin{description*}\n",
       "\\item[X] 10807\n",
       "\\item[price] 540088.141766529\n",
       "\\item[bedrooms] 3.37084162309721\n",
       "\\item[bathrooms] 2.11475732198214\n",
       "\\item[sqft\\textbackslash{}\\_living] 2079.89973626984\n",
       "\\item[sqft\\textbackslash{}\\_lot] 15106.9675658169\n",
       "\\item[floors] 1.49430898070606\n",
       "\\item[waterfront] 0.00754175727571369\n",
       "\\item[view] 0.234303428492111\n",
       "\\item[condition] 3.40942951001712\n",
       "\\item[grade] 7.6568731781798\n",
       "\\item[sqft\\textbackslash{}\\_above] 1788.39069078795\n",
       "\\item[sqft\\textbackslash{}\\_basement] 291.509045481886\n",
       "\\item[yr\\textbackslash{}\\_built] 1971.0051357979\n",
       "\\item[yr\\textbackslash{}\\_renovated] 84.4022579003378\n",
       "\\item[zipcode] 98077.9398047471\n",
       "\\item[lat] 47.5600525193171\n",
       "\\item[long] -122.213896404941\n",
       "\\item[sqft\\textbackslash{}\\_living15] 1986.55249155601\n",
       "\\item[sqft\\textbackslash{}\\_lot15] 12768.4556516911\n",
       "\\end{description*}\n"
      ],
      "text/markdown": [
       "X\n",
       ":   10807price\n",
       ":   540088.141766529bedrooms\n",
       ":   3.37084162309721bathrooms\n",
       ":   2.11475732198214sqft_living\n",
       ":   2079.89973626984sqft_lot\n",
       ":   15106.9675658169floors\n",
       ":   1.49430898070606waterfront\n",
       ":   0.00754175727571369view\n",
       ":   0.234303428492111condition\n",
       ":   3.40942951001712grade\n",
       ":   7.6568731781798sqft_above\n",
       ":   1788.39069078795sqft_basement\n",
       ":   291.509045481886yr_built\n",
       ":   1971.0051357979yr_renovated\n",
       ":   84.4022579003378zipcode\n",
       ":   98077.9398047471lat\n",
       ":   47.5600525193171long\n",
       ":   -122.213896404941sqft_living15\n",
       ":   1986.55249155601sqft_lot15\n",
       ":   12768.4556516911\n",
       "\n"
      ],
      "text/plain": [
       "            X         price      bedrooms     bathrooms   sqft_living \n",
       " 1.080700e+04  5.400881e+05  3.370842e+00  2.114757e+00  2.079900e+03 \n",
       "     sqft_lot        floors    waterfront          view     condition \n",
       " 1.510697e+04  1.494309e+00  7.541757e-03  2.343034e-01  3.409430e+00 \n",
       "        grade    sqft_above sqft_basement      yr_built  yr_renovated \n",
       " 7.656873e+00  1.788391e+03  2.915090e+02  1.971005e+03  8.440226e+01 \n",
       "      zipcode           lat          long sqft_living15    sqft_lot15 \n",
       " 9.807794e+04  4.756005e+01 -1.222139e+02  1.986552e+03  1.276846e+04 "
      ]
     },
     "metadata": {},
     "output_type": "display_data"
    },
    {
     "data": {
      "text/html": [
       "'numeric'"
      ],
      "text/latex": [
       "'numeric'"
      ],
      "text/markdown": [
       "'numeric'"
      ],
      "text/plain": [
       "[1] \"numeric\""
      ]
     },
     "metadata": {},
     "output_type": "display_data"
    }
   ],
   "source": [
    "res <- sapply(less_data, mean)\n",
    "res\n",
    "class(res)"
   ]
  },
  {
   "cell_type": "code",
   "execution_count": 23,
   "metadata": {},
   "outputs": [
    {
     "data": {
      "text/html": [
       "<ol class=list-inline>\n",
       "\t<li>3.37084162309721</li>\n",
       "\t<li>2.11475732198214</li>\n",
       "</ol>\n"
      ],
      "text/latex": [
       "\\begin{enumerate*}\n",
       "\\item 3.37084162309721\n",
       "\\item 2.11475732198214\n",
       "\\end{enumerate*}\n"
      ],
      "text/markdown": [
       "1. 3.37084162309721\n",
       "2. 2.11475732198214\n",
       "\n",
       "\n"
      ],
      "text/plain": [
       "[1] 3.370842 2.114757"
      ]
     },
     "metadata": {},
     "output_type": "display_data"
    },
    {
     "data": {
      "text/html": [
       "'numeric'"
      ],
      "text/latex": [
       "'numeric'"
      ],
      "text/markdown": [
       "'numeric'"
      ],
      "text/plain": [
       "[1] \"numeric\""
      ]
     },
     "metadata": {},
     "output_type": "display_data"
    }
   ],
   "source": [
    "res <- sapply(x, mean)\n",
    "res\n",
    "class(res)"
   ]
  },
  {
   "cell_type": "markdown",
   "metadata": {},
   "source": [
    "## MAPPLY()\n",
    "\n",
    "mapply() is used when we have several data structures (vectors, lists, etc) and we want to apply a function to all columns in a row. The result is coerced into a vector/array as in sapply. \n",
    "\n",
    "For examples, there are different variables measuring different areas like sqft_living, sqft_lot, sqft_above, \n",
    "sqft_base, sqft_living15, sqft_lot15. If we want to find the total area of each house then we can use this function. "
   ]
  },
  {
   "cell_type": "code",
   "execution_count": 24,
   "metadata": {
    "collapsed": true
   },
   "outputs": [],
   "source": [
    "result <- mapply(sum, housing_prices$sqft_living, housing_prices$sqft_lot, housing_prices$sqft_above, housing_prices$sqft_basement, \n",
    "                    housing_prices$sqft_living15, housing_prices$sqft_lot15)\n"
   ]
  },
  {
   "cell_type": "code",
   "execution_count": 28,
   "metadata": {},
   "outputs": [
    {
     "data": {
      "text/html": [
       "<ol class=list-inline>\n",
       "\t<li>15000</li>\n",
       "\t<li>21711</li>\n",
       "\t<li>22322</li>\n",
       "\t<li>15280</li>\n",
       "\t<li>20743</li>\n",
       "\t<li>219460</li>\n",
       "\t<li>19306</li>\n",
       "\t<li>23192</li>\n",
       "\t<li>20923</li>\n",
       "\t<li>20300</li>\n",
       "</ol>\n"
      ],
      "text/latex": [
       "\\begin{enumerate*}\n",
       "\\item 15000\n",
       "\\item 21711\n",
       "\\item 22322\n",
       "\\item 15280\n",
       "\\item 20743\n",
       "\\item 219460\n",
       "\\item 19306\n",
       "\\item 23192\n",
       "\\item 20923\n",
       "\\item 20300\n",
       "\\end{enumerate*}\n"
      ],
      "text/markdown": [
       "1. 15000\n",
       "2. 21711\n",
       "3. 22322\n",
       "4. 15280\n",
       "5. 20743\n",
       "6. 219460\n",
       "7. 19306\n",
       "8. 23192\n",
       "9. 20923\n",
       "10. 20300\n",
       "\n",
       "\n"
      ],
      "text/plain": [
       " [1]  15000  21711  22322  15280  20743 219460  19306  23192  20923  20300"
      ]
     },
     "metadata": {},
     "output_type": "display_data"
    }
   ],
   "source": [
    "head(result, 10)\n",
    "# the values in the mapply() for the first row = 1500....second row = 21711"
   ]
  },
  {
   "cell_type": "code",
   "execution_count": 26,
   "metadata": {},
   "outputs": [
    {
     "data": {
      "text/html": [
       "'integer'"
      ],
      "text/latex": [
       "'integer'"
      ],
      "text/markdown": [
       "'integer'"
      ],
      "text/plain": [
       "[1] \"integer\""
      ]
     },
     "metadata": {},
     "output_type": "display_data"
    }
   ],
   "source": [
    "class(result)"
   ]
  },
  {
   "cell_type": "markdown",
   "metadata": {},
   "source": [
    "## TAPPLY()\n",
    "\n",
    "tapply() is used when you want to apply a function to subsets of a vector and the subsets are defined by some other vector, usually a factor. \n",
    "\n",
    "It is a tabular version of apply(), which means that its input argument should have a categorical variable and its argument function is applied to each group. \n",
    "\n",
    "For example, we may want to know the average price of homes for each number of bedrooms in the house\n"
   ]
  },
  {
   "cell_type": "code",
   "execution_count": 30,
   "metadata": {},
   "outputs": [
    {
     "data": {
      "text/html": [
       "<table>\n",
       "<thead><tr><th scope=col>0</th><th scope=col>1</th><th scope=col>2</th><th scope=col>3</th><th scope=col>4</th><th scope=col>5</th><th scope=col>6</th><th scope=col>7</th><th scope=col>8</th><th scope=col>9</th><th scope=col>10</th><th scope=col>11</th><th scope=col>33</th></tr></thead>\n",
       "<tbody>\n",
       "\t<tr><td>409503.8</td><td>317642.9</td><td>401372.7</td><td>466232.1</td><td>635419.5</td><td>786599.8</td><td>825520.6</td><td>951184.7</td><td>1105077 </td><td>893999.8</td><td>819333.3</td><td>520000  </td><td>640000  </td></tr>\n",
       "</tbody>\n",
       "</table>\n"
      ],
      "text/latex": [
       "\\begin{tabular}{lllllllllllll}\n",
       " 0 & 1 & 2 & 3 & 4 & 5 & 6 & 7 & 8 & 9 & 10 & 11 & 33\\\\\n",
       "\\hline\n",
       "\t 409503.8 & 317642.9 & 401372.7 & 466232.1 & 635419.5 & 786599.8 & 825520.6 & 951184.7 & 1105077  & 893999.8 & 819333.3 & 520000   & 640000  \\\\\n",
       "\\end{tabular}\n"
      ],
      "text/markdown": [
       "\n",
       "0 | 1 | 2 | 3 | 4 | 5 | 6 | 7 | 8 | 9 | 10 | 11 | 33 | \n",
       "|---|\n",
       "| 409503.8 | 317642.9 | 401372.7 | 466232.1 | 635419.5 | 786599.8 | 825520.6 | 951184.7 | 1105077  | 893999.8 | 819333.3 | 520000   | 640000   | \n",
       "\n",
       "\n"
      ],
      "text/plain": [
       "     0        1        2        3        4        5        6        7       \n",
       "[1,] 409503.8 317642.9 401372.7 466232.1 635419.5 786599.8 825520.6 951184.7\n",
       "     8       9        10       11     33    \n",
       "[1,] 1105077 893999.8 819333.3 520000 640000"
      ]
     },
     "metadata": {},
     "output_type": "display_data"
    }
   ],
   "source": [
    "t(tapply(housing_prices$price, housing_prices$bedrooms, mean))"
   ]
  },
  {
   "cell_type": "markdown",
   "metadata": {},
   "source": [
    "## BY()"
   ]
  },
  {
   "cell_type": "markdown",
   "metadata": {},
   "source": [
    "tapply() can be used to summarize one variable based on another variable. But what if we want to summarize many variables. The by function is like an extended version of tapply() command. "
   ]
  },
  {
   "cell_type": "code",
   "execution_count": 31,
   "metadata": {},
   "outputs": [
    {
     "data": {
      "text/plain": [
       "housing_prices$view: 0\n",
       "     price          sqft_living  \n",
       " Min.   :  75000   Min.   : 290  \n",
       " 1st Qu.: 311000   1st Qu.:1390  \n",
       " Median : 432500   Median :1850  \n",
       " Mean   : 496564   Mean   :1998  \n",
       " 3rd Qu.: 600000   3rd Qu.:2450  \n",
       " Max.   :5570000   Max.   :9200  \n",
       "------------------------------------------------------------ \n",
       "housing_prices$view: 1\n",
       "     price          sqft_living  \n",
       " Min.   : 217000   Min.   : 570  \n",
       " 1st Qu.: 498750   1st Qu.:1855  \n",
       " Median : 690944   Median :2420  \n",
       " Mean   : 812281   Mean   :2569  \n",
       " 3rd Qu.: 921250   3rd Qu.:3180  \n",
       " Max.   :3650000   Max.   :6300  \n",
       "------------------------------------------------------------ \n",
       "housing_prices$view: 2\n",
       "     price          sqft_living   \n",
       " Min.   : 169317   Min.   :  470  \n",
       " 1st Qu.: 485000   1st Qu.: 1842  \n",
       " Median : 675000   Median : 2470  \n",
       " Mean   : 792401   Mean   : 2655  \n",
       " 3rd Qu.: 941250   3rd Qu.: 3250  \n",
       " Max.   :7062500   Max.   :10040  \n",
       "------------------------------------------------------------ \n",
       "housing_prices$view: 3\n",
       "     price          sqft_living   \n",
       " Min.   : 154000   Min.   :  440  \n",
       " 1st Qu.: 554000   1st Qu.: 2210  \n",
       " Median : 802500   Median : 2840  \n",
       " Mean   : 971965   Mean   : 3019  \n",
       " 3rd Qu.:1256000   3rd Qu.: 3658  \n",
       " Max.   :7700000   Max.   :12050  \n",
       "------------------------------------------------------------ \n",
       "housing_prices$view: 4\n",
       "     price          sqft_living   \n",
       " Min.   : 252000   Min.   :  680  \n",
       " 1st Qu.: 817500   1st Qu.: 2425  \n",
       " Median :1185000   Median : 3050  \n",
       " Mean   :1463711   Mean   : 3351  \n",
       " 3rd Qu.:1850000   3rd Qu.: 3911  \n",
       " Max.   :6885000   Max.   :13540  "
      ]
     },
     "metadata": {},
     "output_type": "display_data"
    }
   ],
   "source": [
    "byViews <- by(housing_prices[, c(\"price\", \"sqft_living\")], housing_prices$view, summary)\n",
    "byViews"
   ]
  },
  {
   "cell_type": "markdown",
   "metadata": {},
   "source": [
    "## 2 way tables\n",
    "\n",
    "2 way tables are very informative. We have distribution of bathrooms for every count of bedrooms. It is very detailed and the sums of columns and rows are displayed which indicate number of bedrooms or bathrooms with a specific number"
   ]
  },
  {
   "cell_type": "code",
   "execution_count": 32,
   "metadata": {},
   "outputs": [
    {
     "data": {
      "text/html": [
       "<table>\n",
       "<thead><tr><th></th><th scope=col>0</th><th scope=col>0.5</th><th scope=col>0.75</th><th scope=col>1</th><th scope=col>1.25</th><th scope=col>1.5</th><th scope=col>1.75</th><th scope=col>2</th><th scope=col>2.25</th><th scope=col>2.5</th><th scope=col>...</th><th scope=col>5.5</th><th scope=col>5.75</th><th scope=col>6</th><th scope=col>6.25</th><th scope=col>6.5</th><th scope=col>6.75</th><th scope=col>7.5</th><th scope=col>7.75</th><th scope=col>8</th><th scope=col>Sum</th></tr></thead>\n",
       "<tbody>\n",
       "\t<tr><th scope=row>0</th><td> 7   </td><td>0    </td><td> 1   </td><td>   1 </td><td>0    </td><td>   1 </td><td>   0 </td><td>   0 </td><td>   0 </td><td>   3 </td><td>...  </td><td> 0   </td><td>0    </td><td>0    </td><td>0    </td><td>0    </td><td>0    </td><td>0    </td><td>0    </td><td>0    </td><td>   13</td></tr>\n",
       "\t<tr><th scope=row>1</th><td> 3   </td><td>1    </td><td>27   </td><td> 138 </td><td>2    </td><td>  12 </td><td>   4 </td><td>   6 </td><td>   4 </td><td>   2 </td><td>...  </td><td> 0   </td><td>0    </td><td>0    </td><td>0    </td><td>0    </td><td>0    </td><td>0    </td><td>0    </td><td>0    </td><td>  199</td></tr>\n",
       "\t<tr><th scope=row>2</th><td> 0   </td><td>2    </td><td>26   </td><td>1558 </td><td>3    </td><td> 294 </td><td> 304 </td><td> 216 </td><td> 118 </td><td> 197 </td><td>...  </td><td> 0   </td><td>0    </td><td>0    </td><td>0    </td><td>0    </td><td>0    </td><td>0    </td><td>0    </td><td>0    </td><td> 2760</td></tr>\n",
       "\t<tr><th scope=row>3</th><td> 0   </td><td>0    </td><td>16   </td><td>1780 </td><td>4    </td><td> 829 </td><td>1870 </td><td>1048 </td><td>1082 </td><td>2357 </td><td>...  </td><td> 0   </td><td>0    </td><td>0    </td><td>0    </td><td>0    </td><td>0    </td><td>0    </td><td>0    </td><td>0    </td><td> 9824</td></tr>\n",
       "\t<tr><th scope=row>4</th><td> 0   </td><td>1    </td><td> 2   </td><td> 325 </td><td>0    </td><td> 254 </td><td> 719 </td><td> 525 </td><td> 709 </td><td>2502 </td><td>...  </td><td> 5   </td><td>1    </td><td>0    </td><td>0    </td><td>0    </td><td>0    </td><td>0    </td><td>0    </td><td>0    </td><td> 6882</td></tr>\n",
       "\t<tr><th scope=row>5</th><td> 0   </td><td>0    </td><td> 0   </td><td>  43 </td><td>0    </td><td>  48 </td><td> 134 </td><td> 110 </td><td> 116 </td><td> 287 </td><td>...  </td><td> 4   </td><td>2    </td><td>4    </td><td>2    </td><td>1    </td><td>1    </td><td>0    </td><td>0    </td><td>0    </td><td> 1601</td></tr>\n",
       "\t<tr><th scope=row>6</th><td> 0   </td><td>0    </td><td> 0   </td><td>   6 </td><td>0    </td><td>   6 </td><td>  16 </td><td>  24 </td><td>  15 </td><td>  29 </td><td>...  </td><td> 0   </td><td>0    </td><td>1    </td><td>0    </td><td>1    </td><td>0    </td><td>0    </td><td>1    </td><td>1    </td><td>  272</td></tr>\n",
       "\t<tr><th scope=row>7</th><td> 0   </td><td>0    </td><td> 0   </td><td>   1 </td><td>0    </td><td>   2 </td><td>   0 </td><td>   0 </td><td>   3 </td><td>   2 </td><td>...  </td><td> 1   </td><td>1    </td><td>0    </td><td>0    </td><td>0    </td><td>1    </td><td>0    </td><td>0    </td><td>1    </td><td>   38</td></tr>\n",
       "\t<tr><th scope=row>8</th><td> 0   </td><td>0    </td><td> 0   </td><td>   0 </td><td>0    </td><td>   0 </td><td>   0 </td><td>   0 </td><td>   0 </td><td>   1 </td><td>...  </td><td> 0   </td><td>0    </td><td>1    </td><td>0    </td><td>0    </td><td>0    </td><td>0    </td><td>0    </td><td>0    </td><td>   13</td></tr>\n",
       "\t<tr><th scope=row>9</th><td> 0   </td><td>0    </td><td> 0   </td><td>   0 </td><td>0    </td><td>   0 </td><td>   0 </td><td>   0 </td><td>   0 </td><td>   0 </td><td>...  </td><td> 0   </td><td>0    </td><td>0    </td><td>0    </td><td>0    </td><td>0    </td><td>1    </td><td>0    </td><td>0    </td><td>    6</td></tr>\n",
       "\t<tr><th scope=row>10</th><td> 0   </td><td>0    </td><td> 0   </td><td>   0 </td><td>0    </td><td>   0 </td><td>   0 </td><td>   1 </td><td>   0 </td><td>   0 </td><td>...  </td><td> 0   </td><td>0    </td><td>0    </td><td>0    </td><td>0    </td><td>0    </td><td>0    </td><td>0    </td><td>0    </td><td>    3</td></tr>\n",
       "\t<tr><th scope=row>11</th><td> 0   </td><td>0    </td><td> 0   </td><td>   0 </td><td>0    </td><td>   0 </td><td>   0 </td><td>   0 </td><td>   0 </td><td>   0 </td><td>...  </td><td> 0   </td><td>0    </td><td>0    </td><td>0    </td><td>0    </td><td>0    </td><td>0    </td><td>0    </td><td>0    </td><td>    1</td></tr>\n",
       "\t<tr><th scope=row>33</th><td> 0   </td><td>0    </td><td> 0   </td><td>   0 </td><td>0    </td><td>   0 </td><td>   1 </td><td>   0 </td><td>   0 </td><td>   0 </td><td>...  </td><td> 0   </td><td>0    </td><td>0    </td><td>0    </td><td>0    </td><td>0    </td><td>0    </td><td>0    </td><td>0    </td><td>    1</td></tr>\n",
       "\t<tr><th scope=row>Sum</th><td>10   </td><td>4    </td><td>72   </td><td>3852 </td><td>9    </td><td>1446 </td><td>3048 </td><td>1930 </td><td>2047 </td><td>5380 </td><td>...  </td><td>10   </td><td>4    </td><td>6    </td><td>2    </td><td>2    </td><td>2    </td><td>1    </td><td>1    </td><td>2    </td><td>21613</td></tr>\n",
       "</tbody>\n",
       "</table>\n"
      ],
      "text/latex": [
       "\\begin{tabular}{r|lllllllllllllllllllllllllllllll}\n",
       "  & 0 & 0.5 & 0.75 & 1 & 1.25 & 1.5 & 1.75 & 2 & 2.25 & 2.5 & ... & 5.5 & 5.75 & 6 & 6.25 & 6.5 & 6.75 & 7.5 & 7.75 & 8 & Sum\\\\\n",
       "\\hline\n",
       "\t0 &  7    & 0     &  1    &    1  & 0     &    1  &    0  &    0  &    0  &    3  & ...   &  0    & 0     & 0     & 0     & 0     & 0     & 0     & 0     & 0     &    13\\\\\n",
       "\t1 &  3    & 1     & 27    &  138  & 2     &   12  &    4  &    6  &    4  &    2  & ...   &  0    & 0     & 0     & 0     & 0     & 0     & 0     & 0     & 0     &   199\\\\\n",
       "\t2 &  0    & 2     & 26    & 1558  & 3     &  294  &  304  &  216  &  118  &  197  & ...   &  0    & 0     & 0     & 0     & 0     & 0     & 0     & 0     & 0     &  2760\\\\\n",
       "\t3 &  0    & 0     & 16    & 1780  & 4     &  829  & 1870  & 1048  & 1082  & 2357  & ...   &  0    & 0     & 0     & 0     & 0     & 0     & 0     & 0     & 0     &  9824\\\\\n",
       "\t4 &  0    & 1     &  2    &  325  & 0     &  254  &  719  &  525  &  709  & 2502  & ...   &  5    & 1     & 0     & 0     & 0     & 0     & 0     & 0     & 0     &  6882\\\\\n",
       "\t5 &  0    & 0     &  0    &   43  & 0     &   48  &  134  &  110  &  116  &  287  & ...   &  4    & 2     & 4     & 2     & 1     & 1     & 0     & 0     & 0     &  1601\\\\\n",
       "\t6 &  0    & 0     &  0    &    6  & 0     &    6  &   16  &   24  &   15  &   29  & ...   &  0    & 0     & 1     & 0     & 1     & 0     & 0     & 1     & 1     &   272\\\\\n",
       "\t7 &  0    & 0     &  0    &    1  & 0     &    2  &    0  &    0  &    3  &    2  & ...   &  1    & 1     & 0     & 0     & 0     & 1     & 0     & 0     & 1     &    38\\\\\n",
       "\t8 &  0    & 0     &  0    &    0  & 0     &    0  &    0  &    0  &    0  &    1  & ...   &  0    & 0     & 1     & 0     & 0     & 0     & 0     & 0     & 0     &    13\\\\\n",
       "\t9 &  0    & 0     &  0    &    0  & 0     &    0  &    0  &    0  &    0  &    0  & ...   &  0    & 0     & 0     & 0     & 0     & 0     & 1     & 0     & 0     &     6\\\\\n",
       "\t10 &  0    & 0     &  0    &    0  & 0     &    0  &    0  &    1  &    0  &    0  & ...   &  0    & 0     & 0     & 0     & 0     & 0     & 0     & 0     & 0     &     3\\\\\n",
       "\t11 &  0    & 0     &  0    &    0  & 0     &    0  &    0  &    0  &    0  &    0  & ...   &  0    & 0     & 0     & 0     & 0     & 0     & 0     & 0     & 0     &     1\\\\\n",
       "\t33 &  0    & 0     &  0    &    0  & 0     &    0  &    1  &    0  &    0  &    0  & ...   &  0    & 0     & 0     & 0     & 0     & 0     & 0     & 0     & 0     &     1\\\\\n",
       "\tSum & 10    & 4     & 72    & 3852  & 9     & 1446  & 3048  & 1930  & 2047  & 5380  & ...   & 10    & 4     & 6     & 2     & 2     & 2     & 1     & 1     & 2     & 21613\\\\\n",
       "\\end{tabular}\n"
      ],
      "text/markdown": [
       "\n",
       "| <!--/--> | 0 | 0.5 | 0.75 | 1 | 1.25 | 1.5 | 1.75 | 2 | 2.25 | 2.5 | ... | 5.5 | 5.75 | 6 | 6.25 | 6.5 | 6.75 | 7.5 | 7.75 | 8 | Sum | \n",
       "|---|---|---|---|---|---|---|---|---|---|---|---|---|---|\n",
       "| 0 |  7    | 0     |  1    |    1  | 0     |    1  |    0  |    0  |    0  |    3  | ...   |  0    | 0     | 0     | 0     | 0     | 0     | 0     | 0     | 0     |    13 | \n",
       "| 1 |  3    | 1     | 27    |  138  | 2     |   12  |    4  |    6  |    4  |    2  | ...   |  0    | 0     | 0     | 0     | 0     | 0     | 0     | 0     | 0     |   199 | \n",
       "| 2 |  0    | 2     | 26    | 1558  | 3     |  294  |  304  |  216  |  118  |  197  | ...   |  0    | 0     | 0     | 0     | 0     | 0     | 0     | 0     | 0     |  2760 | \n",
       "| 3 |  0    | 0     | 16    | 1780  | 4     |  829  | 1870  | 1048  | 1082  | 2357  | ...   |  0    | 0     | 0     | 0     | 0     | 0     | 0     | 0     | 0     |  9824 | \n",
       "| 4 |  0    | 1     |  2    |  325  | 0     |  254  |  719  |  525  |  709  | 2502  | ...   |  5    | 1     | 0     | 0     | 0     | 0     | 0     | 0     | 0     |  6882 | \n",
       "| 5 |  0    | 0     |  0    |   43  | 0     |   48  |  134  |  110  |  116  |  287  | ...   |  4    | 2     | 4     | 2     | 1     | 1     | 0     | 0     | 0     |  1601 | \n",
       "| 6 |  0    | 0     |  0    |    6  | 0     |    6  |   16  |   24  |   15  |   29  | ...   |  0    | 0     | 1     | 0     | 1     | 0     | 0     | 1     | 1     |   272 | \n",
       "| 7 |  0    | 0     |  0    |    1  | 0     |    2  |    0  |    0  |    3  |    2  | ...   |  1    | 1     | 0     | 0     | 0     | 1     | 0     | 0     | 1     |    38 | \n",
       "| 8 |  0    | 0     |  0    |    0  | 0     |    0  |    0  |    0  |    0  |    1  | ...   |  0    | 0     | 1     | 0     | 0     | 0     | 0     | 0     | 0     |    13 | \n",
       "| 9 |  0    | 0     |  0    |    0  | 0     |    0  |    0  |    0  |    0  |    0  | ...   |  0    | 0     | 0     | 0     | 0     | 0     | 1     | 0     | 0     |     6 | \n",
       "| 10 |  0    | 0     |  0    |    0  | 0     |    0  |    0  |    1  |    0  |    0  | ...   |  0    | 0     | 0     | 0     | 0     | 0     | 0     | 0     | 0     |     3 | \n",
       "| 11 |  0    | 0     |  0    |    0  | 0     |    0  |    0  |    0  |    0  |    0  | ...   |  0    | 0     | 0     | 0     | 0     | 0     | 0     | 0     | 0     |     1 | \n",
       "| 33 |  0    | 0     |  0    |    0  | 0     |    0  |    1  |    0  |    0  |    0  | ...   |  0    | 0     | 0     | 0     | 0     | 0     | 0     | 0     | 0     |     1 | \n",
       "| Sum | 10    | 4     | 72    | 3852  | 9     | 1446  | 3048  | 1930  | 2047  | 5380  | ...   | 10    | 4     | 6     | 2     | 2     | 2     | 1     | 1     | 2     | 21613 | \n",
       "\n",
       "\n"
      ],
      "text/plain": [
       "    0  0.5 0.75 1    1.25 1.5  1.75 2    2.25 2.5  ... 5.5 5.75 6 6.25 6.5 6.75\n",
       "0    7 0    1      1 0       1    0    0    0    3 ...  0  0    0 0    0   0   \n",
       "1    3 1   27    138 2      12    4    6    4    2 ...  0  0    0 0    0   0   \n",
       "2    0 2   26   1558 3     294  304  216  118  197 ...  0  0    0 0    0   0   \n",
       "3    0 0   16   1780 4     829 1870 1048 1082 2357 ...  0  0    0 0    0   0   \n",
       "4    0 1    2    325 0     254  719  525  709 2502 ...  5  1    0 0    0   0   \n",
       "5    0 0    0     43 0      48  134  110  116  287 ...  4  2    4 2    1   1   \n",
       "6    0 0    0      6 0       6   16   24   15   29 ...  0  0    1 0    1   0   \n",
       "7    0 0    0      1 0       2    0    0    3    2 ...  1  1    0 0    0   1   \n",
       "8    0 0    0      0 0       0    0    0    0    1 ...  0  0    1 0    0   0   \n",
       "9    0 0    0      0 0       0    0    0    0    0 ...  0  0    0 0    0   0   \n",
       "10   0 0    0      0 0       0    0    1    0    0 ...  0  0    0 0    0   0   \n",
       "11   0 0    0      0 0       0    0    0    0    0 ...  0  0    0 0    0   0   \n",
       "33   0 0    0      0 0       0    1    0    0    0 ...  0  0    0 0    0   0   \n",
       "Sum 10 4   72   3852 9    1446 3048 1930 2047 5380 ... 10  4    6 2    2   2   \n",
       "    7.5 7.75 8 Sum  \n",
       "0   0   0    0    13\n",
       "1   0   0    0   199\n",
       "2   0   0    0  2760\n",
       "3   0   0    0  9824\n",
       "4   0   0    0  6882\n",
       "5   0   0    0  1601\n",
       "6   0   1    1   272\n",
       "7   0   0    1    38\n",
       "8   0   0    0    13\n",
       "9   1   0    0     6\n",
       "10  0   0    0     3\n",
       "11  0   0    0     1\n",
       "33  0   0    0     1\n",
       "Sum 1   1    2 21613"
      ]
     },
     "metadata": {},
     "output_type": "display_data"
    }
   ],
   "source": [
    "# produces a 2 way table with distribution count of every combination between bedrooms and bathrooms. \n",
    "# addmargins() will give the summary or sum of this counts at the end of both x and y axis. \n",
    "\n",
    "bed_vs_bath <- table(housing_prices$bedrooms, housing_prices$bathrooms)\n",
    "addmargins(bed_vs_bath)"
   ]
  },
  {
   "cell_type": "markdown",
   "metadata": {},
   "source": [
    "Here's the extended version of the table command...adding a 3rd dimension to the 2 way table. "
   ]
  },
  {
   "cell_type": "code",
   "execution_count": 33,
   "metadata": {
    "collapsed": true
   },
   "outputs": [],
   "source": [
    "bed_bath_view <- xtabs(~bedrooms + bathrooms + view, data = housing_prices)"
   ]
  },
  {
   "cell_type": "code",
   "execution_count": 34,
   "metadata": {},
   "outputs": [
    {
     "data": {
      "text/plain": [
       ", , view = 0\n",
       "\n",
       "        bathrooms\n",
       "bedrooms    0  0.5 0.75    1 1.25  1.5 1.75    2 2.25  2.5 2.75    3 3.25  3.5\n",
       "      0     5    0    1    1    0    1    0    0    0    3    0    0    0    0\n",
       "      1     3    1   23  127    1   12    4    5    3    2    0    0    0    0\n",
       "      2     0    2   20 1465    3  274  264  203  105  176   17   13    5    1\n",
       "      3     0    0   15 1737    2  785 1717  964 1001 2164  216  156  147  113\n",
       "      4     0    1    1  309    0  237  642  484  649 2329  543  277  186  298\n",
       "      5     0    0    0   41    0   44  117  104  101  257  192  136   92  119\n",
       "      6     0    0    0    6    0    6   15   22   12   26   19   43    7   15\n",
       "      7     0    0    0    1    0    2    0    0    3    2    3    2    1    3\n",
       "      8     0    0    0    0    0    0    0    0    0    1    3    2    1    0\n",
       "      9     0    0    0    0    0    0    0    0    0    0    0    2    0    0\n",
       "      10    0    0    0    0    0    0    0    1    0    0    0    1    0    0\n",
       "      11    0    0    0    0    0    0    0    0    0    0    0    1    0    0\n",
       "      33    0    0    0    0    0    0    1    0    0    0    0    0    0    0\n",
       "        bathrooms\n",
       "bedrooms 3.75    4 4.25  4.5 4.75    5 5.25  5.5 5.75    6 6.25  6.5 6.75  7.5\n",
       "      0     0    0    0    0    0    0    0    0    0    0    0    0    0    0\n",
       "      1     0    0    0    0    0    0    0    0    0    0    0    0    0    0\n",
       "      2     0    0    0    0    0    0    0    0    0    0    0    0    0    0\n",
       "      3    13    4    3    1    0    0    0    0    0    0    0    0    0    0\n",
       "      4    60   44   18   18    5    3    3    4    0    0    0    0    0    0\n",
       "      5    30   38   16   27    5    4    2    0    2    2    1    1    0    0\n",
       "      6     9    7    4   18    0    5    3    0    0    0    0    1    0    0\n",
       "      7     2    5    0    2    2    0    0    1    0    0    0    0    0    0\n",
       "      8     1    2    0    0    0    1    0    0    0    1    0    0    0    0\n",
       "      9     0    1    0    2    0    0    0    0    0    0    0    0    0    1\n",
       "      10    0    0    0    0    0    0    0    0    0    0    0    0    0    0\n",
       "      11    0    0    0    0    0    0    0    0    0    0    0    0    0    0\n",
       "      33    0    0    0    0    0    0    0    0    0    0    0    0    0    0\n",
       "        bathrooms\n",
       "bedrooms 7.75    8\n",
       "      0     0    0\n",
       "      1     0    0\n",
       "      2     0    0\n",
       "      3     0    0\n",
       "      4     0    0\n",
       "      5     0    0\n",
       "      6     0    0\n",
       "      7     0    0\n",
       "      8     0    0\n",
       "      9     0    0\n",
       "      10    0    0\n",
       "      11    0    0\n",
       "      33    0    0\n",
       "\n",
       ", , view = 1\n",
       "\n",
       "        bathrooms\n",
       "bedrooms    0  0.5 0.75    1 1.25  1.5 1.75    2 2.25  2.5 2.75    3 3.25  3.5\n",
       "      0     0    0    0    0    0    0    0    0    0    0    0    0    0    0\n",
       "      1     0    0    1    1    0    0    0    0    0    0    0    0    0    0\n",
       "      2     0    0    1   23    0    5    7    4    0    2    0    0    0    0\n",
       "      3     0    0    0    6    0   11   31   15   14   25    9    2    5    2\n",
       "      4     0    0    0    1    0    5   12   12   15   19   15    7   10   19\n",
       "      5     0    0    0    0    0    0    3    2    4    6    2    5    4    6\n",
       "      6     0    0    0    0    0    0    0    1    0    1    0    0    1    0\n",
       "      7     0    0    0    0    0    0    0    0    0    0    0    0    0    1\n",
       "      8     0    0    0    0    0    0    0    0    0    0    0    0    0    0\n",
       "      9     0    0    0    0    0    0    0    0    0    0    0    0    0    0\n",
       "      10    0    0    0    0    0    0    0    0    0    0    0    0    0    0\n",
       "      11    0    0    0    0    0    0    0    0    0    0    0    0    0    0\n",
       "      33    0    0    0    0    0    0    0    0    0    0    0    0    0    0\n",
       "        bathrooms\n",
       "bedrooms 3.75    4 4.25  4.5 4.75    5 5.25  5.5 5.75    6 6.25  6.5 6.75  7.5\n",
       "      0     0    0    0    0    0    0    0    0    0    0    0    0    0    0\n",
       "      1     0    0    0    0    0    0    0    0    0    0    0    0    0    0\n",
       "      2     0    0    0    0    0    0    0    0    0    0    0    0    0    0\n",
       "      3     0    0    0    0    0    0    0    0    0    0    0    0    0    0\n",
       "      4     1    1    4    0    0    0    0    0    0    0    0    0    0    0\n",
       "      5     3    3    1    1    0    0    1    0    0    0    0    0    0    0\n",
       "      6     0    0    0    0    0    0    0    0    0    0    0    0    0    0\n",
       "      7     0    0    1    0    0    0    0    0    1    0    0    0    0    0\n",
       "      8     0    0    0    0    0    0    0    0    0    0    0    0    0    0\n",
       "      9     0    0    0    0    0    0    0    0    0    0    0    0    0    0\n",
       "      10    0    0    0    0    0    0    0    0    0    0    0    0    0    0\n",
       "      11    0    0    0    0    0    0    0    0    0    0    0    0    0    0\n",
       "      33    0    0    0    0    0    0    0    0    0    0    0    0    0    0\n",
       "        bathrooms\n",
       "bedrooms 7.75    8\n",
       "      0     0    0\n",
       "      1     0    0\n",
       "      2     0    0\n",
       "      3     0    0\n",
       "      4     0    0\n",
       "      5     0    0\n",
       "      6     0    0\n",
       "      7     0    0\n",
       "      8     0    0\n",
       "      9     0    0\n",
       "      10    0    0\n",
       "      11    0    0\n",
       "      33    0    0\n",
       "\n",
       ", , view = 2\n",
       "\n",
       "        bathrooms\n",
       "bedrooms    0  0.5 0.75    1 1.25  1.5 1.75    2 2.25  2.5 2.75    3 3.25  3.5\n",
       "      0     2    0    0    0    0    0    0    0    0    0    0    0    0    0\n",
       "      1     0    0    2    3    0    0    0    1    1    0    0    0    0    0\n",
       "      2     0    0    3   49    0   12   15    6    5    7    0    0    0    0\n",
       "      3     0    0    1   27    1   21   80   42   43   83   23   19   17   11\n",
       "      4     0    0    0    9    0    7   34   19   29   84   42   23   20   44\n",
       "      5     0    0    0    1    0    3   11    2    9   14    8   10   19   23\n",
       "      6     0    0    0    0    0    0    0    1    3    2    5    1    1    1\n",
       "      7     0    0    0    0    0    0    0    0    0    0    0    1    0    0\n",
       "      8     0    0    0    0    0    0    0    0    0    0    0    0    0    0\n",
       "      9     0    0    0    0    0    0    0    0    0    0    0    0    0    0\n",
       "      10    0    0    0    0    0    0    0    0    0    0    0    0    0    0\n",
       "      11    0    0    0    0    0    0    0    0    0    0    0    0    0    0\n",
       "      33    0    0    0    0    0    0    0    0    0    0    0    0    0    0\n",
       "        bathrooms\n",
       "bedrooms 3.75    4 4.25  4.5 4.75    5 5.25  5.5 5.75    6 6.25  6.5 6.75  7.5\n",
       "      0     0    0    0    0    0    0    0    0    0    0    0    0    0    0\n",
       "      1     0    0    0    0    0    0    0    0    0    0    0    0    0    0\n",
       "      2     0    0    0    0    0    0    0    0    0    0    0    0    0    0\n",
       "      3     3    4    2    1    0    0    0    0    0    0    0    0    0    0\n",
       "      4     2    5    3    6    2    0    2    1    0    0    0    0    0    0\n",
       "      5     5    3    4    2    3    1    0    2    0    0    0    0    0    0\n",
       "      6     2    2    2    1    1    0    0    0    0    0    0    0    0    0\n",
       "      7     0    0    1    1    0    0    0    0    0    0    0    0    1    0\n",
       "      8     0    0    0    0    0    0    0    0    0    0    0    0    0    0\n",
       "      9     0    0    0    0    0    0    0    0    0    0    0    0    0    0\n",
       "      10    0    0    0    0    0    0    1    0    0    0    0    0    0    0\n",
       "      11    0    0    0    0    0    0    0    0    0    0    0    0    0    0\n",
       "      33    0    0    0    0    0    0    0    0    0    0    0    0    0    0\n",
       "        bathrooms\n",
       "bedrooms 7.75    8\n",
       "      0     0    0\n",
       "      1     0    0\n",
       "      2     0    0\n",
       "      3     0    0\n",
       "      4     0    0\n",
       "      5     0    0\n",
       "      6     0    0\n",
       "      7     0    0\n",
       "      8     0    0\n",
       "      9     0    0\n",
       "      10    0    0\n",
       "      11    0    0\n",
       "      33    0    0\n",
       "\n",
       ", , view = 3\n",
       "\n",
       "        bathrooms\n",
       "bedrooms    0  0.5 0.75    1 1.25  1.5 1.75    2 2.25  2.5 2.75    3 3.25  3.5\n",
       "      0     0    0    0    0    0    0    0    0    0    0    0    0    0    0\n",
       "      1     0    0    0    3    0    0    0    0    0    0    0    0    0    0\n",
       "      2     0    0    1   12    0    0    9    1    2    6    1    0    3    0\n",
       "      3     0    0    0    8    1    9   31   23   13   55   14   11    7    8\n",
       "      4     0    0    0    3    0    4   21    8   11   43   26   13   26   27\n",
       "      5     0    0    0    1    0    1    0    1    1    4    8    9    8   16\n",
       "      6     0    0    0    0    0    0    1    0    0    0    3    1    2    0\n",
       "      7     0    0    0    0    0    0    0    0    0    0    0    0    0    0\n",
       "      8     0    0    0    0    0    0    0    0    0    0    0    0    0    1\n",
       "      9     0    0    0    0    0    0    0    0    0    0    0    0    0    0\n",
       "      10    0    0    0    0    0    0    0    0    0    0    0    0    0    0\n",
       "      11    0    0    0    0    0    0    0    0    0    0    0    0    0    0\n",
       "      33    0    0    0    0    0    0    0    0    0    0    0    0    0    0\n",
       "        bathrooms\n",
       "bedrooms 3.75    4 4.25  4.5 4.75    5 5.25  5.5 5.75    6 6.25  6.5 6.75  7.5\n",
       "      0     0    0    0    0    0    0    0    0    0    0    0    0    0    0\n",
       "      1     0    0    0    0    0    0    0    0    0    0    0    0    0    0\n",
       "      2     0    0    0    0    0    0    0    0    0    0    0    0    0    0\n",
       "      3     0    1    0    2    0    0    0    0    0    0    0    0    0    0\n",
       "      4     8    6    9    5    0    2    0    0    0    0    0    0    0    0\n",
       "      5     3    1    2    2    1    1    0    1    0    1    0    0    0    0\n",
       "      6     1    1    1    2    1    1    0    0    0    0    0    0    0    0\n",
       "      7     0    0    0    0    0    0    0    0    0    0    0    0    0    0\n",
       "      8     0    0    0    0    0    0    0    0    0    0    0    0    0    0\n",
       "      9     0    0    0    0    0    0    0    0    0    0    0    0    0    0\n",
       "      10    0    0    0    0    0    0    0    0    0    0    0    0    0    0\n",
       "      11    0    0    0    0    0    0    0    0    0    0    0    0    0    0\n",
       "      33    0    0    0    0    0    0    0    0    0    0    0    0    0    0\n",
       "        bathrooms\n",
       "bedrooms 7.75    8\n",
       "      0     0    0\n",
       "      1     0    0\n",
       "      2     0    0\n",
       "      3     0    0\n",
       "      4     0    0\n",
       "      5     0    0\n",
       "      6     0    1\n",
       "      7     0    0\n",
       "      8     0    0\n",
       "      9     0    0\n",
       "      10    0    0\n",
       "      11    0    0\n",
       "      33    0    0\n",
       "\n",
       ", , view = 4\n",
       "\n",
       "        bathrooms\n",
       "bedrooms    0  0.5 0.75    1 1.25  1.5 1.75    2 2.25  2.5 2.75    3 3.25  3.5\n",
       "      0     0    0    0    0    0    0    0    0    0    0    0    0    0    0\n",
       "      1     0    0    1    4    1    0    0    0    0    0    0    0    0    0\n",
       "      2     0    0    1    9    0    3    9    2    6    6    2    0    0    0\n",
       "      3     0    0    0    2    0    3   11    4   11   30   13    9    8    9\n",
       "      4     0    0    1    3    0    1   10    2    5   27   13    6   12    7\n",
       "      5     0    0    0    0    0    0    3    1    1    6    4    3    6    5\n",
       "      6     0    0    0    0    0    0    0    0    0    0    4    0    1    1\n",
       "      7     0    0    0    0    0    0    0    0    0    0    0    0    0    1\n",
       "      8     0    0    0    0    0    0    0    0    0    0    0    0    0    0\n",
       "      9     0    0    0    0    0    0    0    0    0    0    0    0    0    0\n",
       "      10    0    0    0    0    0    0    0    0    0    0    0    0    0    0\n",
       "      11    0    0    0    0    0    0    0    0    0    0    0    0    0    0\n",
       "      33    0    0    0    0    0    0    0    0    0    0    0    0    0    0\n",
       "        bathrooms\n",
       "bedrooms 3.75    4 4.25  4.5 4.75    5 5.25  5.5 5.75    6 6.25  6.5 6.75  7.5\n",
       "      0     0    0    0    0    0    0    0    0    0    0    0    0    0    0\n",
       "      1     0    0    0    0    0    0    0    0    0    0    0    0    0    0\n",
       "      2     0    0    0    0    0    0    0    0    0    0    0    0    0    0\n",
       "      3     1    2    1    1    0    0    0    0    0    0    0    0    0    0\n",
       "      4     7    2    4    3    0    2    0    0    1    0    0    0    0    0\n",
       "      5     3    3    2    3    2    1    1    1    0    1    1    0    1    0\n",
       "      6     1    1    1    2    1    0    0    0    0    1    0    0    0    0\n",
       "      7     0    0    0    0    0    0    0    0    0    0    0    0    0    0\n",
       "      8     0    0    0    0    0    0    0    0    0    0    0    0    0    0\n",
       "      9     0    0    0    0    0    0    0    0    0    0    0    0    0    0\n",
       "      10    0    0    0    0    0    0    0    0    0    0    0    0    0    0\n",
       "      11    0    0    0    0    0    0    0    0    0    0    0    0    0    0\n",
       "      33    0    0    0    0    0    0    0    0    0    0    0    0    0    0\n",
       "        bathrooms\n",
       "bedrooms 7.75    8\n",
       "      0     0    0\n",
       "      1     0    0\n",
       "      2     0    0\n",
       "      3     0    0\n",
       "      4     0    0\n",
       "      5     0    0\n",
       "      6     1    0\n",
       "      7     0    1\n",
       "      8     0    0\n",
       "      9     0    0\n",
       "      10    0    0\n",
       "      11    0    0\n",
       "      33    0    0\n"
      ]
     },
     "metadata": {},
     "output_type": "display_data"
    }
   ],
   "source": [
    "bed_bath_view"
   ]
  },
  {
   "cell_type": "markdown",
   "metadata": {},
   "source": [
    "## Stat.desc()\n",
    "\n",
    "Gives an elaborte descriptive statistics of the input object. Most of the statistics are commonly used "
   ]
  },
  {
   "cell_type": "code",
   "execution_count": 37,
   "metadata": {},
   "outputs": [
    {
     "name": "stderr",
     "output_type": "stream",
     "text": [
      "Warning message:\n",
      "\"package 'pastecs' was built under R version 3.4.2\"Loading required package: boot\n"
     ]
    }
   ],
   "source": [
    "library(pastecs)"
   ]
  },
  {
   "cell_type": "code",
   "execution_count": 38,
   "metadata": {
    "collapsed": true
   },
   "outputs": [],
   "source": [
    "options(scipen = 999)"
   ]
  },
  {
   "cell_type": "code",
   "execution_count": 39,
   "metadata": {},
   "outputs": [
    {
     "data": {
      "text/html": [
       "<table>\n",
       "<thead><tr><th></th><th scope=col>X</th><th scope=col>id</th><th scope=col>date</th><th scope=col>price</th><th scope=col>bedrooms</th><th scope=col>bathrooms</th><th scope=col>sqft_living</th><th scope=col>sqft_lot</th><th scope=col>floors</th><th scope=col>waterfront</th><th scope=col>...</th><th scope=col>grade</th><th scope=col>sqft_above</th><th scope=col>sqft_basement</th><th scope=col>yr_built</th><th scope=col>yr_renovated</th><th scope=col>zipcode</th><th scope=col>lat</th><th scope=col>long</th><th scope=col>sqft_living15</th><th scope=col>sqft_lot15</th></tr></thead>\n",
       "<tbody>\n",
       "\t<tr><th scope=row>nbr.val</th><td>    21613.0000000          </td><td>              21613.0000000</td><td>NA                         </td><td>       21613.0000000       </td><td>21613.000000000            </td><td>21613.00000000             </td><td>   21613.0000000           </td><td>     21613.000000          </td><td>21613.000000000            </td><td>21613.0000000000           </td><td>...                        </td><td> 21613.000000000           </td><td>   21613.000000            </td><td>  21613.000000             </td><td>   21613.00000000          </td><td>  21613.000000             </td><td>     21613.0000000000      </td><td>  21613.000000000          </td><td>   21613.0000000000        </td><td>   21613.0000000           </td><td>    21613.000000           </td></tr>\n",
       "\t<tr><th scope=row>nbr.null</th><td>        0.0000000          </td><td>                  0.0000000</td><td>NA                         </td><td>           0.0000000       </td><td>   13.000000000            </td><td>   10.00000000             </td><td>       0.0000000           </td><td>         0.000000          </td><td>    0.000000000            </td><td>21450.0000000000           </td><td>...                        </td><td>     0.000000000           </td><td>       0.000000            </td><td>  13126.000000             </td><td>       0.00000000          </td><td>  20699.000000             </td><td>         0.0000000000      </td><td>      0.000000000          </td><td>       0.0000000000        </td><td>       0.0000000           </td><td>        0.000000           </td></tr>\n",
       "\t<tr><th scope=row>nbr.na</th><td>        0.0000000          </td><td>                  0.0000000</td><td>NA                         </td><td>           0.0000000       </td><td>    0.000000000            </td><td>    0.00000000             </td><td>       0.0000000           </td><td>         0.000000          </td><td>    0.000000000            </td><td>    0.0000000000           </td><td>...                        </td><td>     0.000000000           </td><td>       0.000000            </td><td>      0.000000             </td><td>       0.00000000          </td><td>      0.000000             </td><td>         0.0000000000      </td><td>      0.000000000          </td><td>       0.0000000000        </td><td>       0.0000000           </td><td>        0.000000           </td></tr>\n",
       "\t<tr><th scope=row>min</th><td>        1.0000000          </td><td>            1000102.0000000</td><td>NA                         </td><td>       75000.0000000       </td><td>    0.000000000            </td><td>    0.00000000             </td><td>     290.0000000           </td><td>       520.000000          </td><td>    1.000000000            </td><td>    0.0000000000           </td><td>...                        </td><td>     1.000000000           </td><td>     290.000000            </td><td>      0.000000             </td><td>    1900.00000000          </td><td>      0.000000             </td><td>     98001.0000000000      </td><td>     47.155900000          </td><td>    -122.5190000000        </td><td>     399.0000000           </td><td>      651.000000           </td></tr>\n",
       "\t<tr><th scope=row>max</th><td>    21613.0000000          </td><td>         9900000190.0000000</td><td>NA                         </td><td>     7700000.0000000       </td><td>   33.000000000            </td><td>    8.00000000             </td><td>   13540.0000000           </td><td>   1651359.000000          </td><td>    3.500000000            </td><td>    1.0000000000           </td><td>...                        </td><td>    13.000000000           </td><td>    9410.000000            </td><td>   4820.000000             </td><td>    2015.00000000          </td><td>   2015.000000             </td><td>     98199.0000000000      </td><td>     47.777600000          </td><td>    -121.3150000000        </td><td>    6210.0000000           </td><td>   871200.000000           </td></tr>\n",
       "\t<tr><th scope=row>range</th><td>    21612.0000000          </td><td>         9899000088.0000000</td><td>NA                         </td><td>     7625000.0000000       </td><td>   33.000000000            </td><td>    8.00000000             </td><td>   13250.0000000           </td><td>   1650839.000000          </td><td>    2.500000000            </td><td>    1.0000000000           </td><td>...                        </td><td>    12.000000000           </td><td>    9120.000000            </td><td>   4820.000000             </td><td>     115.00000000          </td><td>   2015.000000             </td><td>       198.0000000000      </td><td>      0.621700000          </td><td>       1.2040000000        </td><td>    5811.0000000           </td><td>   870549.000000           </td></tr>\n",
       "\t<tr><th scope=row>sum</th><td>233571691.0000000          </td><td>     98994056770455.0000000</td><td>NA                         </td><td> 11672925008.0000000       </td><td>72854.000000000            </td><td>45706.25000000             </td><td>44952873.0000000           </td><td> 326506890.000000          </td><td>32296.500000000            </td><td>  163.0000000000           </td><td>...                        </td><td>165488.000000000           </td><td>38652488.000000            </td><td>6300385.000000             </td><td>42599334.00000000          </td><td>1824186.000000             </td><td>2119758513.0000000000      </td><td>1027915.415100000          </td><td>-2641408.9430000000        </td><td>42935359.0000000           </td><td>275964632.000000           </td></tr>\n",
       "\t<tr><th scope=row>median</th><td>    10807.0000000          </td><td>         3904930410.0000000</td><td>NA                         </td><td>      450000.0000000       </td><td>    3.000000000            </td><td>    2.25000000             </td><td>    1910.0000000           </td><td>      7618.000000          </td><td>    1.500000000            </td><td>    0.0000000000           </td><td>...                        </td><td>     7.000000000           </td><td>    1560.000000            </td><td>      0.000000             </td><td>    1975.00000000          </td><td>      0.000000             </td><td>     98065.0000000000      </td><td>     47.571800000          </td><td>    -122.2300000000        </td><td>    1840.0000000           </td><td>     7620.000000           </td></tr>\n",
       "\t<tr><th scope=row>mean</th><td>    10807.0000000          </td><td>         4580301520.8649883</td><td>NA                         </td><td>      540088.1417665       </td><td>    3.370841623            </td><td>    2.11475732             </td><td>    2079.8997363           </td><td>     15106.967566          </td><td>    1.494308981            </td><td>    0.0075417573           </td><td>...                        </td><td>     7.656873178           </td><td>    1788.390691            </td><td>    291.509045             </td><td>    1971.00513580          </td><td>     84.402258             </td><td>     98077.9398047471      </td><td>     47.560052519          </td><td>    -122.2138964049        </td><td>    1986.5524916           </td><td>    12768.455652           </td></tr>\n",
       "\t<tr><th scope=row>SE.mean</th><td>       42.4401539          </td><td>           19566662.3846041</td><td>NA                         </td><td>        2497.2328034       </td><td>    0.006326366            </td><td>    0.00523872             </td><td>       6.2473191           </td><td>       281.746112          </td><td>    0.003673054            </td><td>    0.0005884979           </td><td>...                        </td><td>     0.007995578           </td><td>       5.632751            </td><td>      3.010436             </td><td>       0.19980063          </td><td>      2.732259             </td><td>         0.3639460873      </td><td>      0.000942523          </td><td>       0.0009579273        </td><td>       4.6620944           </td><td>      185.725530           </td></tr>\n",
       "\t<tr><th scope=row>CI.mean.0.95</th><td>       83.1858320          </td><td>           38352101.4516255</td><td>NA                         </td><td>        4894.7604830       </td><td>    0.012400143            </td><td>    0.01026828             </td><td>      12.2452062           </td><td>       552.243160          </td><td>    0.007199457            </td><td>    0.0011534993           </td><td>...                        </td><td>     0.015671923           </td><td>      11.040607            </td><td>      5.900677             </td><td>       0.39162397          </td><td>      5.355429             </td><td>         0.7133611748      </td><td>      0.001847415          </td><td>       0.0018776081        </td><td>       9.1380489           </td><td>      364.035737           </td></tr>\n",
       "\t<tr><th scope=row>var</th><td> 38928615.1666667          </td><td>8274629486057861120.0000000</td><td>NA                         </td><td>134782378397.2468872       </td><td>    0.865015010            </td><td>    0.59315129             </td><td>  843533.6813682           </td><td>1715658774.175470          </td><td>    0.291588007            </td><td>    0.0074852255           </td><td>...                        </td><td>     1.381703289           </td><td>  685734.667269            </td><td> 195872.668401             </td><td>     862.79726217          </td><td> 161346.211862             </td><td>      2862.7878348129      </td><td>      0.019199902          </td><td>       0.0198326220        </td><td>  469761.2399453           </td><td>745518225.340401           </td></tr>\n",
       "\t<tr><th scope=row>std.dev</th><td>     6239.2800199          </td><td>         2876565571.3120570</td><td>NA                         </td><td>      367127.1964827       </td><td>    0.930061831            </td><td>    0.77016316             </td><td>     918.4408970           </td><td>     41420.511515          </td><td>    0.539988895            </td><td>    0.0865171977           </td><td>...                        </td><td>     1.175458757           </td><td>     828.090978            </td><td>    442.575043             </td><td>      29.37341080          </td><td>    401.679240             </td><td>        53.5050262575      </td><td>      0.138563710          </td><td>       0.1408283424        </td><td>     685.3913043           </td><td>    27304.179631           </td></tr>\n",
       "\t<tr><th scope=row>coef.var</th><td>        0.5773369          </td><td>                  0.6280297</td><td>NA                         </td><td>           0.6797542       </td><td>    0.275913833            </td><td>    0.36418512             </td><td>       0.4415794           </td><td>         2.741815          </td><td>    0.361363615            </td><td>   11.4717557944           </td><td>...                        </td><td>     0.153516812           </td><td>       0.463037            </td><td>      1.518221             </td><td>       0.01490276          </td><td>      4.759105             </td><td>         0.0005455358      </td><td>      0.002913447          </td><td>      -0.0011523104        </td><td>       0.3450155           </td><td>        2.138409           </td></tr>\n",
       "</tbody>\n",
       "</table>\n"
      ],
      "text/latex": [
       "\\begin{tabular}{r|llllllllllllllllllllll}\n",
       "  & X & id & date & price & bedrooms & bathrooms & sqft\\_living & sqft\\_lot & floors & waterfront & ... & grade & sqft\\_above & sqft\\_basement & yr\\_built & yr\\_renovated & zipcode & lat & long & sqft\\_living15 & sqft\\_lot15\\\\\n",
       "\\hline\n",
       "\tnbr.val &     21613.0000000           &               21613.0000000 & NA                          &        21613.0000000        & 21613.000000000             & 21613.00000000              &    21613.0000000            &      21613.000000           & 21613.000000000             & 21613.0000000000            & ...                         &  21613.000000000            &    21613.000000             &   21613.000000              &    21613.00000000           &   21613.000000              &      21613.0000000000       &   21613.000000000           &    21613.0000000000         &    21613.0000000            &     21613.000000           \\\\\n",
       "\tnbr.null &         0.0000000           &                   0.0000000 & NA                          &            0.0000000        &    13.000000000             &    10.00000000              &        0.0000000            &          0.000000           &     0.000000000             & 21450.0000000000            & ...                         &      0.000000000            &        0.000000             &   13126.000000              &        0.00000000           &   20699.000000              &          0.0000000000       &       0.000000000           &        0.0000000000         &        0.0000000            &         0.000000           \\\\\n",
       "\tnbr.na &         0.0000000           &                   0.0000000 & NA                          &            0.0000000        &     0.000000000             &     0.00000000              &        0.0000000            &          0.000000           &     0.000000000             &     0.0000000000            & ...                         &      0.000000000            &        0.000000             &       0.000000              &        0.00000000           &       0.000000              &          0.0000000000       &       0.000000000           &        0.0000000000         &        0.0000000            &         0.000000           \\\\\n",
       "\tmin &         1.0000000           &             1000102.0000000 & NA                          &        75000.0000000        &     0.000000000             &     0.00000000              &      290.0000000            &        520.000000           &     1.000000000             &     0.0000000000            & ...                         &      1.000000000            &      290.000000             &       0.000000              &     1900.00000000           &       0.000000              &      98001.0000000000       &      47.155900000           &     -122.5190000000         &      399.0000000            &       651.000000           \\\\\n",
       "\tmax &     21613.0000000           &          9900000190.0000000 & NA                          &      7700000.0000000        &    33.000000000             &     8.00000000              &    13540.0000000            &    1651359.000000           &     3.500000000             &     1.0000000000            & ...                         &     13.000000000            &     9410.000000             &    4820.000000              &     2015.00000000           &    2015.000000              &      98199.0000000000       &      47.777600000           &     -121.3150000000         &     6210.0000000            &    871200.000000           \\\\\n",
       "\trange &     21612.0000000           &          9899000088.0000000 & NA                          &      7625000.0000000        &    33.000000000             &     8.00000000              &    13250.0000000            &    1650839.000000           &     2.500000000             &     1.0000000000            & ...                         &     12.000000000            &     9120.000000             &    4820.000000              &      115.00000000           &    2015.000000              &        198.0000000000       &       0.621700000           &        1.2040000000         &     5811.0000000            &    870549.000000           \\\\\n",
       "\tsum & 233571691.0000000           &      98994056770455.0000000 & NA                          &  11672925008.0000000        & 72854.000000000             & 45706.25000000              & 44952873.0000000            &  326506890.000000           & 32296.500000000             &   163.0000000000            & ...                         & 165488.000000000            & 38652488.000000             & 6300385.000000              & 42599334.00000000           & 1824186.000000              & 2119758513.0000000000       & 1027915.415100000           & -2641408.9430000000         & 42935359.0000000            & 275964632.000000           \\\\\n",
       "\tmedian &     10807.0000000           &          3904930410.0000000 & NA                          &       450000.0000000        &     3.000000000             &     2.25000000              &     1910.0000000            &       7618.000000           &     1.500000000             &     0.0000000000            & ...                         &      7.000000000            &     1560.000000             &       0.000000              &     1975.00000000           &       0.000000              &      98065.0000000000       &      47.571800000           &     -122.2300000000         &     1840.0000000            &      7620.000000           \\\\\n",
       "\tmean &     10807.0000000           &          4580301520.8649883 & NA                          &       540088.1417665        &     3.370841623             &     2.11475732              &     2079.8997363            &      15106.967566           &     1.494308981             &     0.0075417573            & ...                         &      7.656873178            &     1788.390691             &     291.509045              &     1971.00513580           &      84.402258              &      98077.9398047471       &      47.560052519           &     -122.2138964049         &     1986.5524916            &     12768.455652           \\\\\n",
       "\tSE.mean &        42.4401539           &            19566662.3846041 & NA                          &         2497.2328034        &     0.006326366             &     0.00523872              &        6.2473191            &        281.746112           &     0.003673054             &     0.0005884979            & ...                         &      0.007995578            &        5.632751             &       3.010436              &        0.19980063           &       2.732259              &          0.3639460873       &       0.000942523           &        0.0009579273         &        4.6620944            &       185.725530           \\\\\n",
       "\tCI.mean.0.95 &        83.1858320           &            38352101.4516255 & NA                          &         4894.7604830        &     0.012400143             &     0.01026828              &       12.2452062            &        552.243160           &     0.007199457             &     0.0011534993            & ...                         &      0.015671923            &       11.040607             &       5.900677              &        0.39162397           &       5.355429              &          0.7133611748       &       0.001847415           &        0.0018776081         &        9.1380489            &       364.035737           \\\\\n",
       "\tvar &  38928615.1666667           & 8274629486057861120.0000000 & NA                          & 134782378397.2468872        &     0.865015010             &     0.59315129              &   843533.6813682            & 1715658774.175470           &     0.291588007             &     0.0074852255            & ...                         &      1.381703289            &   685734.667269             &  195872.668401              &      862.79726217           &  161346.211862              &       2862.7878348129       &       0.019199902           &        0.0198326220         &   469761.2399453            & 745518225.340401           \\\\\n",
       "\tstd.dev &      6239.2800199           &          2876565571.3120570 & NA                          &       367127.1964827        &     0.930061831             &     0.77016316              &      918.4408970            &      41420.511515           &     0.539988895             &     0.0865171977            & ...                         &      1.175458757            &      828.090978             &     442.575043              &       29.37341080           &     401.679240              &         53.5050262575       &       0.138563710           &        0.1408283424         &      685.3913043            &     27304.179631           \\\\\n",
       "\tcoef.var &         0.5773369           &                   0.6280297 & NA                          &            0.6797542        &     0.275913833             &     0.36418512              &        0.4415794            &          2.741815           &     0.361363615             &    11.4717557944            & ...                         &      0.153516812            &        0.463037             &       1.518221              &        0.01490276           &       4.759105              &          0.0005455358       &       0.002913447           &       -0.0011523104         &        0.3450155            &         2.138409           \\\\\n",
       "\\end{tabular}\n"
      ],
      "text/markdown": [
       "\n",
       "| <!--/--> | X | id | date | price | bedrooms | bathrooms | sqft_living | sqft_lot | floors | waterfront | ... | grade | sqft_above | sqft_basement | yr_built | yr_renovated | zipcode | lat | long | sqft_living15 | sqft_lot15 | \n",
       "|---|---|---|---|---|---|---|---|---|---|---|---|---|---|\n",
       "| nbr.val |     21613.0000000           |               21613.0000000 | NA                          |        21613.0000000        | 21613.000000000             | 21613.00000000              |    21613.0000000            |      21613.000000           | 21613.000000000             | 21613.0000000000            | ...                         |  21613.000000000            |    21613.000000             |   21613.000000              |    21613.00000000           |   21613.000000              |      21613.0000000000       |   21613.000000000           |    21613.0000000000         |    21613.0000000            |     21613.000000            | \n",
       "| nbr.null |         0.0000000           |                   0.0000000 | NA                          |            0.0000000        |    13.000000000             |    10.00000000              |        0.0000000            |          0.000000           |     0.000000000             | 21450.0000000000            | ...                         |      0.000000000            |        0.000000             |   13126.000000              |        0.00000000           |   20699.000000              |          0.0000000000       |       0.000000000           |        0.0000000000         |        0.0000000            |         0.000000            | \n",
       "| nbr.na |         0.0000000           |                   0.0000000 | NA                          |            0.0000000        |     0.000000000             |     0.00000000              |        0.0000000            |          0.000000           |     0.000000000             |     0.0000000000            | ...                         |      0.000000000            |        0.000000             |       0.000000              |        0.00000000           |       0.000000              |          0.0000000000       |       0.000000000           |        0.0000000000         |        0.0000000            |         0.000000            | \n",
       "| min |         1.0000000           |             1000102.0000000 | NA                          |        75000.0000000        |     0.000000000             |     0.00000000              |      290.0000000            |        520.000000           |     1.000000000             |     0.0000000000            | ...                         |      1.000000000            |      290.000000             |       0.000000              |     1900.00000000           |       0.000000              |      98001.0000000000       |      47.155900000           |     -122.5190000000         |      399.0000000            |       651.000000            | \n",
       "| max |     21613.0000000           |          9900000190.0000000 | NA                          |      7700000.0000000        |    33.000000000             |     8.00000000              |    13540.0000000            |    1651359.000000           |     3.500000000             |     1.0000000000            | ...                         |     13.000000000            |     9410.000000             |    4820.000000              |     2015.00000000           |    2015.000000              |      98199.0000000000       |      47.777600000           |     -121.3150000000         |     6210.0000000            |    871200.000000            | \n",
       "| range |     21612.0000000           |          9899000088.0000000 | NA                          |      7625000.0000000        |    33.000000000             |     8.00000000              |    13250.0000000            |    1650839.000000           |     2.500000000             |     1.0000000000            | ...                         |     12.000000000            |     9120.000000             |    4820.000000              |      115.00000000           |    2015.000000              |        198.0000000000       |       0.621700000           |        1.2040000000         |     5811.0000000            |    870549.000000            | \n",
       "| sum | 233571691.0000000           |      98994056770455.0000000 | NA                          |  11672925008.0000000        | 72854.000000000             | 45706.25000000              | 44952873.0000000            |  326506890.000000           | 32296.500000000             |   163.0000000000            | ...                         | 165488.000000000            | 38652488.000000             | 6300385.000000              | 42599334.00000000           | 1824186.000000              | 2119758513.0000000000       | 1027915.415100000           | -2641408.9430000000         | 42935359.0000000            | 275964632.000000            | \n",
       "| median |     10807.0000000           |          3904930410.0000000 | NA                          |       450000.0000000        |     3.000000000             |     2.25000000              |     1910.0000000            |       7618.000000           |     1.500000000             |     0.0000000000            | ...                         |      7.000000000            |     1560.000000             |       0.000000              |     1975.00000000           |       0.000000              |      98065.0000000000       |      47.571800000           |     -122.2300000000         |     1840.0000000            |      7620.000000            | \n",
       "| mean |     10807.0000000           |          4580301520.8649883 | NA                          |       540088.1417665        |     3.370841623             |     2.11475732              |     2079.8997363            |      15106.967566           |     1.494308981             |     0.0075417573            | ...                         |      7.656873178            |     1788.390691             |     291.509045              |     1971.00513580           |      84.402258              |      98077.9398047471       |      47.560052519           |     -122.2138964049         |     1986.5524916            |     12768.455652            | \n",
       "| SE.mean |        42.4401539           |            19566662.3846041 | NA                          |         2497.2328034        |     0.006326366             |     0.00523872              |        6.2473191            |        281.746112           |     0.003673054             |     0.0005884979            | ...                         |      0.007995578            |        5.632751             |       3.010436              |        0.19980063           |       2.732259              |          0.3639460873       |       0.000942523           |        0.0009579273         |        4.6620944            |       185.725530            | \n",
       "| CI.mean.0.95 |        83.1858320           |            38352101.4516255 | NA                          |         4894.7604830        |     0.012400143             |     0.01026828              |       12.2452062            |        552.243160           |     0.007199457             |     0.0011534993            | ...                         |      0.015671923            |       11.040607             |       5.900677              |        0.39162397           |       5.355429              |          0.7133611748       |       0.001847415           |        0.0018776081         |        9.1380489            |       364.035737            | \n",
       "| var |  38928615.1666667           | 8274629486057861120.0000000 | NA                          | 134782378397.2468872        |     0.865015010             |     0.59315129              |   843533.6813682            | 1715658774.175470           |     0.291588007             |     0.0074852255            | ...                         |      1.381703289            |   685734.667269             |  195872.668401              |      862.79726217           |  161346.211862              |       2862.7878348129       |       0.019199902           |        0.0198326220         |   469761.2399453            | 745518225.340401            | \n",
       "| std.dev |      6239.2800199           |          2876565571.3120570 | NA                          |       367127.1964827        |     0.930061831             |     0.77016316              |      918.4408970            |      41420.511515           |     0.539988895             |     0.0865171977            | ...                         |      1.175458757            |      828.090978             |     442.575043              |       29.37341080           |     401.679240              |         53.5050262575       |       0.138563710           |        0.1408283424         |      685.3913043            |     27304.179631            | \n",
       "| coef.var |         0.5773369           |                   0.6280297 | NA                          |            0.6797542        |     0.275913833             |     0.36418512              |        0.4415794            |          2.741815           |     0.361363615             |    11.4717557944            | ...                         |      0.153516812            |        0.463037             |       1.518221              |        0.01490276           |       4.759105              |          0.0005455358       |       0.002913447           |       -0.0011523104         |        0.3450155            |         2.138409            | \n",
       "\n",
       "\n"
      ],
      "text/plain": [
       "             X                 id                          date\n",
       "nbr.val          21613.0000000               21613.0000000 NA  \n",
       "nbr.null             0.0000000                   0.0000000 NA  \n",
       "nbr.na               0.0000000                   0.0000000 NA  \n",
       "min                  1.0000000             1000102.0000000 NA  \n",
       "max              21613.0000000          9900000190.0000000 NA  \n",
       "range            21612.0000000          9899000088.0000000 NA  \n",
       "sum          233571691.0000000      98994056770455.0000000 NA  \n",
       "median           10807.0000000          3904930410.0000000 NA  \n",
       "mean             10807.0000000          4580301520.8649883 NA  \n",
       "SE.mean             42.4401539            19566662.3846041 NA  \n",
       "CI.mean.0.95        83.1858320            38352101.4516255 NA  \n",
       "var           38928615.1666667 8274629486057861120.0000000 NA  \n",
       "std.dev           6239.2800199          2876565571.3120570 NA  \n",
       "coef.var             0.5773369                   0.6280297 NA  \n",
       "             price                bedrooms        bathrooms     \n",
       "nbr.val             21613.0000000 21613.000000000 21613.00000000\n",
       "nbr.null                0.0000000    13.000000000    10.00000000\n",
       "nbr.na                  0.0000000     0.000000000     0.00000000\n",
       "min                 75000.0000000     0.000000000     0.00000000\n",
       "max               7700000.0000000    33.000000000     8.00000000\n",
       "range             7625000.0000000    33.000000000     8.00000000\n",
       "sum           11672925008.0000000 72854.000000000 45706.25000000\n",
       "median             450000.0000000     3.000000000     2.25000000\n",
       "mean               540088.1417665     3.370841623     2.11475732\n",
       "SE.mean              2497.2328034     0.006326366     0.00523872\n",
       "CI.mean.0.95         4894.7604830     0.012400143     0.01026828\n",
       "var          134782378397.2468872     0.865015010     0.59315129\n",
       "std.dev            367127.1964827     0.930061831     0.77016316\n",
       "coef.var                0.6797542     0.275913833     0.36418512\n",
       "             sqft_living      sqft_lot          floors         \n",
       "nbr.val         21613.0000000      21613.000000 21613.000000000\n",
       "nbr.null            0.0000000          0.000000     0.000000000\n",
       "nbr.na              0.0000000          0.000000     0.000000000\n",
       "min               290.0000000        520.000000     1.000000000\n",
       "max             13540.0000000    1651359.000000     3.500000000\n",
       "range           13250.0000000    1650839.000000     2.500000000\n",
       "sum          44952873.0000000  326506890.000000 32296.500000000\n",
       "median           1910.0000000       7618.000000     1.500000000\n",
       "mean             2079.8997363      15106.967566     1.494308981\n",
       "SE.mean             6.2473191        281.746112     0.003673054\n",
       "CI.mean.0.95       12.2452062        552.243160     0.007199457\n",
       "var            843533.6813682 1715658774.175470     0.291588007\n",
       "std.dev           918.4408970      41420.511515     0.539988895\n",
       "coef.var            0.4415794          2.741815     0.361363615\n",
       "             waterfront       ... grade            sqft_above     \n",
       "nbr.val      21613.0000000000 ...  21613.000000000    21613.000000\n",
       "nbr.null     21450.0000000000 ...      0.000000000        0.000000\n",
       "nbr.na           0.0000000000 ...      0.000000000        0.000000\n",
       "min              0.0000000000 ...      1.000000000      290.000000\n",
       "max              1.0000000000 ...     13.000000000     9410.000000\n",
       "range            1.0000000000 ...     12.000000000     9120.000000\n",
       "sum            163.0000000000 ... 165488.000000000 38652488.000000\n",
       "median           0.0000000000 ...      7.000000000     1560.000000\n",
       "mean             0.0075417573 ...      7.656873178     1788.390691\n",
       "SE.mean          0.0005884979 ...      0.007995578        5.632751\n",
       "CI.mean.0.95     0.0011534993 ...      0.015671923       11.040607\n",
       "var              0.0074852255 ...      1.381703289   685734.667269\n",
       "std.dev          0.0865171977 ...      1.175458757      828.090978\n",
       "coef.var        11.4717557944 ...      0.153516812        0.463037\n",
       "             sqft_basement  yr_built          yr_renovated  \n",
       "nbr.val        21613.000000    21613.00000000   21613.000000\n",
       "nbr.null       13126.000000        0.00000000   20699.000000\n",
       "nbr.na             0.000000        0.00000000       0.000000\n",
       "min                0.000000     1900.00000000       0.000000\n",
       "max             4820.000000     2015.00000000    2015.000000\n",
       "range           4820.000000      115.00000000    2015.000000\n",
       "sum          6300385.000000 42599334.00000000 1824186.000000\n",
       "median             0.000000     1975.00000000       0.000000\n",
       "mean             291.509045     1971.00513580      84.402258\n",
       "SE.mean            3.010436        0.19980063       2.732259\n",
       "CI.mean.0.95       5.900677        0.39162397       5.355429\n",
       "var           195872.668401      862.79726217  161346.211862\n",
       "std.dev          442.575043       29.37341080     401.679240\n",
       "coef.var           1.518221        0.01490276       4.759105\n",
       "             zipcode               lat               long               \n",
       "nbr.val           21613.0000000000   21613.000000000    21613.0000000000\n",
       "nbr.null              0.0000000000       0.000000000        0.0000000000\n",
       "nbr.na                0.0000000000       0.000000000        0.0000000000\n",
       "min               98001.0000000000      47.155900000     -122.5190000000\n",
       "max               98199.0000000000      47.777600000     -121.3150000000\n",
       "range               198.0000000000       0.621700000        1.2040000000\n",
       "sum          2119758513.0000000000 1027915.415100000 -2641408.9430000000\n",
       "median            98065.0000000000      47.571800000     -122.2300000000\n",
       "mean              98077.9398047471      47.560052519     -122.2138964049\n",
       "SE.mean               0.3639460873       0.000942523        0.0009579273\n",
       "CI.mean.0.95          0.7133611748       0.001847415        0.0018776081\n",
       "var                2862.7878348129       0.019199902        0.0198326220\n",
       "std.dev              53.5050262575       0.138563710        0.1408283424\n",
       "coef.var              0.0005455358       0.002913447       -0.0011523104\n",
       "             sqft_living15    sqft_lot15      \n",
       "nbr.val         21613.0000000     21613.000000\n",
       "nbr.null            0.0000000         0.000000\n",
       "nbr.na              0.0000000         0.000000\n",
       "min               399.0000000       651.000000\n",
       "max              6210.0000000    871200.000000\n",
       "range            5811.0000000    870549.000000\n",
       "sum          42935359.0000000 275964632.000000\n",
       "median           1840.0000000      7620.000000\n",
       "mean             1986.5524916     12768.455652\n",
       "SE.mean             4.6620944       185.725530\n",
       "CI.mean.0.95        9.1380489       364.035737\n",
       "var            469761.2399453 745518225.340401\n",
       "std.dev           685.3913043     27304.179631\n",
       "coef.var            0.3450155         2.138409"
      ]
     },
     "metadata": {},
     "output_type": "display_data"
    }
   ],
   "source": [
    "stat.desc(housing_prices)"
   ]
  },
  {
   "cell_type": "markdown",
   "metadata": {},
   "source": [
    "## AGGREGRATE()\n",
    "\n",
    "Aggregate works liek groupbys in sql. Here, we are grouping data based on bedrooms. \n",
    "We're interested in column prices, bathroom, and sqft_living. Finally, we're applying the mean function on the subset of data for every group of data"
   ]
  },
  {
   "cell_type": "code",
   "execution_count": 40,
   "metadata": {},
   "outputs": [
    {
     "data": {
      "text/html": [
       "<table>\n",
       "<thead><tr><th scope=col>bedrooms</th><th scope=col>price</th><th scope=col>bathrooms</th><th scope=col>sqft_living</th></tr></thead>\n",
       "<tbody>\n",
       "\t<tr><td> 0       </td><td> 409503.8</td><td>0.8269231</td><td>1707.8462</td></tr>\n",
       "\t<tr><td> 1       </td><td> 317642.9</td><td>1.0665829</td><td> 884.6131</td></tr>\n",
       "\t<tr><td> 2       </td><td> 401372.7</td><td>1.4017210</td><td>1239.7529</td></tr>\n",
       "\t<tr><td> 3       </td><td> 466232.1</td><td>1.9683937</td><td>1805.8372</td></tr>\n",
       "\t<tr><td> 4       </td><td> 635419.5</td><td>2.4364284</td><td>2554.6497</td></tr>\n",
       "\t<tr><td> 5       </td><td> 786599.8</td><td>2.7785759</td><td>3047.5453</td></tr>\n",
       "\t<tr><td> 6       </td><td> 825520.6</td><td>3.0680147</td><td>3284.3419</td></tr>\n",
       "\t<tr><td> 7       </td><td> 951184.7</td><td>3.6513158</td><td>3974.2105</td></tr>\n",
       "\t<tr><td> 8       </td><td>1105076.9</td><td>3.5576923</td><td>3800.0000</td></tr>\n",
       "\t<tr><td> 9       </td><td> 893999.8</td><td>4.4166667</td><td>3775.0000</td></tr>\n",
       "\t<tr><td>10       </td><td> 819333.3</td><td>3.4166667</td><td>3706.6667</td></tr>\n",
       "\t<tr><td>11       </td><td> 520000.0</td><td>3.0000000</td><td>3000.0000</td></tr>\n",
       "\t<tr><td>33       </td><td> 640000.0</td><td>1.7500000</td><td>1620.0000</td></tr>\n",
       "</tbody>\n",
       "</table>\n"
      ],
      "text/latex": [
       "\\begin{tabular}{r|llll}\n",
       " bedrooms & price & bathrooms & sqft\\_living\\\\\n",
       "\\hline\n",
       "\t  0        &  409503.8 & 0.8269231 & 1707.8462\\\\\n",
       "\t  1        &  317642.9 & 1.0665829 &  884.6131\\\\\n",
       "\t  2        &  401372.7 & 1.4017210 & 1239.7529\\\\\n",
       "\t  3        &  466232.1 & 1.9683937 & 1805.8372\\\\\n",
       "\t  4        &  635419.5 & 2.4364284 & 2554.6497\\\\\n",
       "\t  5        &  786599.8 & 2.7785759 & 3047.5453\\\\\n",
       "\t  6        &  825520.6 & 3.0680147 & 3284.3419\\\\\n",
       "\t  7        &  951184.7 & 3.6513158 & 3974.2105\\\\\n",
       "\t  8        & 1105076.9 & 3.5576923 & 3800.0000\\\\\n",
       "\t  9        &  893999.8 & 4.4166667 & 3775.0000\\\\\n",
       "\t 10        &  819333.3 & 3.4166667 & 3706.6667\\\\\n",
       "\t 11        &  520000.0 & 3.0000000 & 3000.0000\\\\\n",
       "\t 33        &  640000.0 & 1.7500000 & 1620.0000\\\\\n",
       "\\end{tabular}\n"
      ],
      "text/markdown": [
       "\n",
       "bedrooms | price | bathrooms | sqft_living | \n",
       "|---|---|---|---|---|---|---|---|---|---|---|---|---|\n",
       "|  0        |  409503.8 | 0.8269231 | 1707.8462 | \n",
       "|  1        |  317642.9 | 1.0665829 |  884.6131 | \n",
       "|  2        |  401372.7 | 1.4017210 | 1239.7529 | \n",
       "|  3        |  466232.1 | 1.9683937 | 1805.8372 | \n",
       "|  4        |  635419.5 | 2.4364284 | 2554.6497 | \n",
       "|  5        |  786599.8 | 2.7785759 | 3047.5453 | \n",
       "|  6        |  825520.6 | 3.0680147 | 3284.3419 | \n",
       "|  7        |  951184.7 | 3.6513158 | 3974.2105 | \n",
       "|  8        | 1105076.9 | 3.5576923 | 3800.0000 | \n",
       "|  9        |  893999.8 | 4.4166667 | 3775.0000 | \n",
       "| 10        |  819333.3 | 3.4166667 | 3706.6667 | \n",
       "| 11        |  520000.0 | 3.0000000 | 3000.0000 | \n",
       "| 33        |  640000.0 | 1.7500000 | 1620.0000 | \n",
       "\n",
       "\n"
      ],
      "text/plain": [
       "   bedrooms price     bathrooms sqft_living\n",
       "1   0        409503.8 0.8269231 1707.8462  \n",
       "2   1        317642.9 1.0665829  884.6131  \n",
       "3   2        401372.7 1.4017210 1239.7529  \n",
       "4   3        466232.1 1.9683937 1805.8372  \n",
       "5   4        635419.5 2.4364284 2554.6497  \n",
       "6   5        786599.8 2.7785759 3047.5453  \n",
       "7   6        825520.6 3.0680147 3284.3419  \n",
       "8   7        951184.7 3.6513158 3974.2105  \n",
       "9   8       1105076.9 3.5576923 3800.0000  \n",
       "10  9        893999.8 4.4166667 3775.0000  \n",
       "11 10        819333.3 3.4166667 3706.6667  \n",
       "12 11        520000.0 3.0000000 3000.0000  \n",
       "13 33        640000.0 1.7500000 1620.0000  "
      ]
     },
     "metadata": {},
     "output_type": "display_data"
    }
   ],
   "source": [
    "aggregate(housing_prices[c(\"price\", \"bathrooms\", \"sqft_living\")], by = list(bedrooms = housing_prices$bedrooms), mean)"
   ]
  }
 ],
 "metadata": {
  "kernelspec": {
   "display_name": "R",
   "language": "R",
   "name": "ir"
  },
  "language_info": {
   "codemirror_mode": "r",
   "file_extension": ".r",
   "mimetype": "text/x-r-source",
   "name": "R",
   "pygments_lexer": "r",
   "version": "3.4.1"
  }
 },
 "nbformat": 4,
 "nbformat_minor": 2
}
