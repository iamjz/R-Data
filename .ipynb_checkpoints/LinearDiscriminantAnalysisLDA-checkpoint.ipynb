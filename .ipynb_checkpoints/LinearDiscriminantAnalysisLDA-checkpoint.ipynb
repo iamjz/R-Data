{
 "cells": [
  {
   "cell_type": "code",
   "execution_count": 111,
   "metadata": {},
   "outputs": [],
   "source": [
    "library(ISLR)\n",
    "library(MASS)\n",
    "library(plyr)\n",
    "library(ggplot2)"
   ]
  },
  {
   "cell_type": "markdown",
   "metadata": {},
   "source": [
    "## Stock market data"
   ]
  },
  {
   "cell_type": "code",
   "execution_count": 112,
   "metadata": {},
   "outputs": [
    {
     "data": {
      "text/html": [
       "<table>\n",
       "<thead><tr><th scope=col>Year</th><th scope=col>Lag1</th><th scope=col>Lag2</th><th scope=col>Lag3</th><th scope=col>Lag4</th><th scope=col>Lag5</th><th scope=col>Volume</th><th scope=col>Today</th><th scope=col>Direction</th></tr></thead>\n",
       "<tbody>\n",
       "\t<tr><td>2001  </td><td> 0.381</td><td>-0.192</td><td>-2.624</td><td>-1.055</td><td> 5.010</td><td>1.1913</td><td> 0.959</td><td>Up    </td></tr>\n",
       "\t<tr><td>2001  </td><td> 0.959</td><td> 0.381</td><td>-0.192</td><td>-2.624</td><td>-1.055</td><td>1.2965</td><td> 1.032</td><td>Up    </td></tr>\n",
       "\t<tr><td>2001  </td><td> 1.032</td><td> 0.959</td><td> 0.381</td><td>-0.192</td><td>-2.624</td><td>1.4112</td><td>-0.623</td><td>Down  </td></tr>\n",
       "\t<tr><td>2001  </td><td>-0.623</td><td> 1.032</td><td> 0.959</td><td> 0.381</td><td>-0.192</td><td>1.2760</td><td> 0.614</td><td>Up    </td></tr>\n",
       "\t<tr><td>2001  </td><td> 0.614</td><td>-0.623</td><td> 1.032</td><td> 0.959</td><td> 0.381</td><td>1.2057</td><td> 0.213</td><td>Up    </td></tr>\n",
       "\t<tr><td>2001  </td><td> 0.213</td><td> 0.614</td><td>-0.623</td><td> 1.032</td><td> 0.959</td><td>1.3491</td><td> 1.392</td><td>Up    </td></tr>\n",
       "</tbody>\n",
       "</table>\n"
      ],
      "text/latex": [
       "\\begin{tabular}{r|lllllllll}\n",
       " Year & Lag1 & Lag2 & Lag3 & Lag4 & Lag5 & Volume & Today & Direction\\\\\n",
       "\\hline\n",
       "\t 2001   &  0.381 & -0.192 & -2.624 & -1.055 &  5.010 & 1.1913 &  0.959 & Up    \\\\\n",
       "\t 2001   &  0.959 &  0.381 & -0.192 & -2.624 & -1.055 & 1.2965 &  1.032 & Up    \\\\\n",
       "\t 2001   &  1.032 &  0.959 &  0.381 & -0.192 & -2.624 & 1.4112 & -0.623 & Down  \\\\\n",
       "\t 2001   & -0.623 &  1.032 &  0.959 &  0.381 & -0.192 & 1.2760 &  0.614 & Up    \\\\\n",
       "\t 2001   &  0.614 & -0.623 &  1.032 &  0.959 &  0.381 & 1.2057 &  0.213 & Up    \\\\\n",
       "\t 2001   &  0.213 &  0.614 & -0.623 &  1.032 &  0.959 & 1.3491 &  1.392 & Up    \\\\\n",
       "\\end{tabular}\n"
      ],
      "text/markdown": [
       "\n",
       "Year | Lag1 | Lag2 | Lag3 | Lag4 | Lag5 | Volume | Today | Direction | \n",
       "|---|---|---|---|---|---|\n",
       "| 2001   |  0.381 | -0.192 | -2.624 | -1.055 |  5.010 | 1.1913 |  0.959 | Up     | \n",
       "| 2001   |  0.959 |  0.381 | -0.192 | -2.624 | -1.055 | 1.2965 |  1.032 | Up     | \n",
       "| 2001   |  1.032 |  0.959 |  0.381 | -0.192 | -2.624 | 1.4112 | -0.623 | Down   | \n",
       "| 2001   | -0.623 |  1.032 |  0.959 |  0.381 | -0.192 | 1.2760 |  0.614 | Up     | \n",
       "| 2001   |  0.614 | -0.623 |  1.032 |  0.959 |  0.381 | 1.2057 |  0.213 | Up     | \n",
       "| 2001   |  0.213 |  0.614 | -0.623 |  1.032 |  0.959 | 1.3491 |  1.392 | Up     | \n",
       "\n",
       "\n"
      ],
      "text/plain": [
       "  Year Lag1   Lag2   Lag3   Lag4   Lag5   Volume Today  Direction\n",
       "1 2001  0.381 -0.192 -2.624 -1.055  5.010 1.1913  0.959 Up       \n",
       "2 2001  0.959  0.381 -0.192 -2.624 -1.055 1.2965  1.032 Up       \n",
       "3 2001  1.032  0.959  0.381 -0.192 -2.624 1.4112 -0.623 Down     \n",
       "4 2001 -0.623  1.032  0.959  0.381 -0.192 1.2760  0.614 Up       \n",
       "5 2001  0.614 -0.623  1.032  0.959  0.381 1.2057  0.213 Up       \n",
       "6 2001  0.213  0.614 -0.623  1.032  0.959 1.3491  1.392 Up       "
      ]
     },
     "metadata": {},
     "output_type": "display_data"
    }
   ],
   "source": [
    "head(Smarket)"
   ]
  },
  {
   "cell_type": "code",
   "execution_count": 113,
   "metadata": {},
   "outputs": [
    {
     "data": {
      "text/plain": [
       "      Year           Lag1                Lag2                Lag3          \n",
       " Min.   :2001   Min.   :-4.922000   Min.   :-4.922000   Min.   :-4.922000  \n",
       " 1st Qu.:2002   1st Qu.:-0.639500   1st Qu.:-0.639500   1st Qu.:-0.640000  \n",
       " Median :2003   Median : 0.039000   Median : 0.039000   Median : 0.038500  \n",
       " Mean   :2003   Mean   : 0.003834   Mean   : 0.003919   Mean   : 0.001716  \n",
       " 3rd Qu.:2004   3rd Qu.: 0.596750   3rd Qu.: 0.596750   3rd Qu.: 0.596750  \n",
       " Max.   :2005   Max.   : 5.733000   Max.   : 5.733000   Max.   : 5.733000  \n",
       "      Lag4                Lag5              Volume           Today          \n",
       " Min.   :-4.922000   Min.   :-4.92200   Min.   :0.3561   Min.   :-4.922000  \n",
       " 1st Qu.:-0.640000   1st Qu.:-0.64000   1st Qu.:1.2574   1st Qu.:-0.639500  \n",
       " Median : 0.038500   Median : 0.03850   Median :1.4229   Median : 0.038500  \n",
       " Mean   : 0.001636   Mean   : 0.00561   Mean   :1.4783   Mean   : 0.003138  \n",
       " 3rd Qu.: 0.596750   3rd Qu.: 0.59700   3rd Qu.:1.6417   3rd Qu.: 0.596750  \n",
       " Max.   : 5.733000   Max.   : 5.73300   Max.   :3.1525   Max.   : 5.733000  \n",
       " Direction \n",
       " Down:602  \n",
       " Up  :648  \n",
       "           \n",
       "           \n",
       "           \n",
       "           "
      ]
     },
     "metadata": {},
     "output_type": "display_data"
    }
   ],
   "source": [
    "summary(Smarket)"
   ]
  },
  {
   "cell_type": "code",
   "execution_count": 114,
   "metadata": {
    "collapsed": true
   },
   "outputs": [],
   "source": [
    "train <- Smarket$Year < 2005"
   ]
  },
  {
   "cell_type": "code",
   "execution_count": 115,
   "metadata": {},
   "outputs": [
    {
     "data": {
      "text/html": [
       "<ol class=list-inline>\n",
       "\t<li>TRUE</li>\n",
       "\t<li>TRUE</li>\n",
       "\t<li>TRUE</li>\n",
       "\t<li>TRUE</li>\n",
       "\t<li>TRUE</li>\n",
       "\t<li>TRUE</li>\n",
       "\t<li>TRUE</li>\n",
       "\t<li>TRUE</li>\n",
       "\t<li>TRUE</li>\n",
       "\t<li>TRUE</li>\n",
       "</ol>\n"
      ],
      "text/latex": [
       "\\begin{enumerate*}\n",
       "\\item TRUE\n",
       "\\item TRUE\n",
       "\\item TRUE\n",
       "\\item TRUE\n",
       "\\item TRUE\n",
       "\\item TRUE\n",
       "\\item TRUE\n",
       "\\item TRUE\n",
       "\\item TRUE\n",
       "\\item TRUE\n",
       "\\end{enumerate*}\n"
      ],
      "text/markdown": [
       "1. TRUE\n",
       "2. TRUE\n",
       "3. TRUE\n",
       "4. TRUE\n",
       "5. TRUE\n",
       "6. TRUE\n",
       "7. TRUE\n",
       "8. TRUE\n",
       "9. TRUE\n",
       "10. TRUE\n",
       "\n",
       "\n"
      ],
      "text/plain": [
       " [1] TRUE TRUE TRUE TRUE TRUE TRUE TRUE TRUE TRUE TRUE"
      ]
     },
     "metadata": {},
     "output_type": "display_data"
    }
   ],
   "source": [
    "train[0:10]"
   ]
  },
  {
   "cell_type": "code",
   "execution_count": 116,
   "metadata": {},
   "outputs": [
    {
     "data": {
      "text/html": [
       "<table>\n",
       "<thead><tr><th scope=col>Year</th><th scope=col>Lag1</th><th scope=col>Lag2</th><th scope=col>Lag3</th><th scope=col>Lag4</th><th scope=col>Lag5</th><th scope=col>Volume</th><th scope=col>Today</th><th scope=col>Direction</th></tr></thead>\n",
       "<tbody>\n",
       "\t<tr><td>2001  </td><td> 0.381</td><td>-0.192</td><td>-2.624</td><td>-1.055</td><td> 5.010</td><td>1.1913</td><td> 0.959</td><td>Up    </td></tr>\n",
       "\t<tr><td>2001  </td><td> 0.959</td><td> 0.381</td><td>-0.192</td><td>-2.624</td><td>-1.055</td><td>1.2965</td><td> 1.032</td><td>Up    </td></tr>\n",
       "\t<tr><td>2001  </td><td> 1.032</td><td> 0.959</td><td> 0.381</td><td>-0.192</td><td>-2.624</td><td>1.4112</td><td>-0.623</td><td>Down  </td></tr>\n",
       "\t<tr><td>2001  </td><td>-0.623</td><td> 1.032</td><td> 0.959</td><td> 0.381</td><td>-0.192</td><td>1.2760</td><td> 0.614</td><td>Up    </td></tr>\n",
       "\t<tr><td>2001  </td><td> 0.614</td><td>-0.623</td><td> 1.032</td><td> 0.959</td><td> 0.381</td><td>1.2057</td><td> 0.213</td><td>Up    </td></tr>\n",
       "\t<tr><td>2001  </td><td> 0.213</td><td> 0.614</td><td>-0.623</td><td> 1.032</td><td> 0.959</td><td>1.3491</td><td> 1.392</td><td>Up    </td></tr>\n",
       "\t<tr><td>2001  </td><td> 1.392</td><td> 0.213</td><td> 0.614</td><td>-0.623</td><td> 1.032</td><td>1.4450</td><td>-0.403</td><td>Down  </td></tr>\n",
       "\t<tr><td>2001  </td><td>-0.403</td><td> 1.392</td><td> 0.213</td><td> 0.614</td><td>-0.623</td><td>1.4078</td><td> 0.027</td><td>Up    </td></tr>\n",
       "\t<tr><td>2001  </td><td> 0.027</td><td>-0.403</td><td> 1.392</td><td> 0.213</td><td> 0.614</td><td>1.1640</td><td> 1.303</td><td>Up    </td></tr>\n",
       "\t<tr><td>2001  </td><td> 1.303</td><td> 0.027</td><td>-0.403</td><td> 1.392</td><td> 0.213</td><td>1.2326</td><td> 0.287</td><td>Up    </td></tr>\n",
       "</tbody>\n",
       "</table>\n"
      ],
      "text/latex": [
       "\\begin{tabular}{r|lllllllll}\n",
       " Year & Lag1 & Lag2 & Lag3 & Lag4 & Lag5 & Volume & Today & Direction\\\\\n",
       "\\hline\n",
       "\t 2001   &  0.381 & -0.192 & -2.624 & -1.055 &  5.010 & 1.1913 &  0.959 & Up    \\\\\n",
       "\t 2001   &  0.959 &  0.381 & -0.192 & -2.624 & -1.055 & 1.2965 &  1.032 & Up    \\\\\n",
       "\t 2001   &  1.032 &  0.959 &  0.381 & -0.192 & -2.624 & 1.4112 & -0.623 & Down  \\\\\n",
       "\t 2001   & -0.623 &  1.032 &  0.959 &  0.381 & -0.192 & 1.2760 &  0.614 & Up    \\\\\n",
       "\t 2001   &  0.614 & -0.623 &  1.032 &  0.959 &  0.381 & 1.2057 &  0.213 & Up    \\\\\n",
       "\t 2001   &  0.213 &  0.614 & -0.623 &  1.032 &  0.959 & 1.3491 &  1.392 & Up    \\\\\n",
       "\t 2001   &  1.392 &  0.213 &  0.614 & -0.623 &  1.032 & 1.4450 & -0.403 & Down  \\\\\n",
       "\t 2001   & -0.403 &  1.392 &  0.213 &  0.614 & -0.623 & 1.4078 &  0.027 & Up    \\\\\n",
       "\t 2001   &  0.027 & -0.403 &  1.392 &  0.213 &  0.614 & 1.1640 &  1.303 & Up    \\\\\n",
       "\t 2001   &  1.303 &  0.027 & -0.403 &  1.392 &  0.213 & 1.2326 &  0.287 & Up    \\\\\n",
       "\\end{tabular}\n"
      ],
      "text/markdown": [
       "\n",
       "Year | Lag1 | Lag2 | Lag3 | Lag4 | Lag5 | Volume | Today | Direction | \n",
       "|---|---|---|---|---|---|---|---|---|---|\n",
       "| 2001   |  0.381 | -0.192 | -2.624 | -1.055 |  5.010 | 1.1913 |  0.959 | Up     | \n",
       "| 2001   |  0.959 |  0.381 | -0.192 | -2.624 | -1.055 | 1.2965 |  1.032 | Up     | \n",
       "| 2001   |  1.032 |  0.959 |  0.381 | -0.192 | -2.624 | 1.4112 | -0.623 | Down   | \n",
       "| 2001   | -0.623 |  1.032 |  0.959 |  0.381 | -0.192 | 1.2760 |  0.614 | Up     | \n",
       "| 2001   |  0.614 | -0.623 |  1.032 |  0.959 |  0.381 | 1.2057 |  0.213 | Up     | \n",
       "| 2001   |  0.213 |  0.614 | -0.623 |  1.032 |  0.959 | 1.3491 |  1.392 | Up     | \n",
       "| 2001   |  1.392 |  0.213 |  0.614 | -0.623 |  1.032 | 1.4450 | -0.403 | Down   | \n",
       "| 2001   | -0.403 |  1.392 |  0.213 |  0.614 | -0.623 | 1.4078 |  0.027 | Up     | \n",
       "| 2001   |  0.027 | -0.403 |  1.392 |  0.213 |  0.614 | 1.1640 |  1.303 | Up     | \n",
       "| 2001   |  1.303 |  0.027 | -0.403 |  1.392 |  0.213 | 1.2326 |  0.287 | Up     | \n",
       "\n",
       "\n"
      ],
      "text/plain": [
       "   Year Lag1   Lag2   Lag3   Lag4   Lag5   Volume Today  Direction\n",
       "1  2001  0.381 -0.192 -2.624 -1.055  5.010 1.1913  0.959 Up       \n",
       "2  2001  0.959  0.381 -0.192 -2.624 -1.055 1.2965  1.032 Up       \n",
       "3  2001  1.032  0.959  0.381 -0.192 -2.624 1.4112 -0.623 Down     \n",
       "4  2001 -0.623  1.032  0.959  0.381 -0.192 1.2760  0.614 Up       \n",
       "5  2001  0.614 -0.623  1.032  0.959  0.381 1.2057  0.213 Up       \n",
       "6  2001  0.213  0.614 -0.623  1.032  0.959 1.3491  1.392 Up       \n",
       "7  2001  1.392  0.213  0.614 -0.623  1.032 1.4450 -0.403 Down     \n",
       "8  2001 -0.403  1.392  0.213  0.614 -0.623 1.4078  0.027 Up       \n",
       "9  2001  0.027 -0.403  1.392  0.213  0.614 1.1640  1.303 Up       \n",
       "10 2001  1.303  0.027 -0.403  1.392  0.213 1.2326  0.287 Up       "
      ]
     },
     "metadata": {},
     "output_type": "display_data"
    }
   ],
   "source": [
    "head(Smarket, 10)"
   ]
  },
  {
   "cell_type": "code",
   "execution_count": 117,
   "metadata": {},
   "outputs": [
    {
     "data": {
      "text/html": [
       "<ol class=list-inline>\n",
       "\t<li>1250</li>\n",
       "\t<li>9</li>\n",
       "</ol>\n"
      ],
      "text/latex": [
       "\\begin{enumerate*}\n",
       "\\item 1250\n",
       "\\item 9\n",
       "\\end{enumerate*}\n"
      ],
      "text/markdown": [
       "1. 1250\n",
       "2. 9\n",
       "\n",
       "\n"
      ],
      "text/plain": [
       "[1] 1250    9"
      ]
     },
     "metadata": {},
     "output_type": "display_data"
    }
   ],
   "source": [
    "dim(Smarket)"
   ]
  },
  {
   "cell_type": "code",
   "execution_count": 118,
   "metadata": {},
   "outputs": [
    {
     "data": {
      "text/html": [
       "<table>\n",
       "<thead><tr><th></th><th scope=col>Year</th><th scope=col>Lag1</th><th scope=col>Lag2</th><th scope=col>Lag3</th><th scope=col>Lag4</th><th scope=col>Lag5</th><th scope=col>Volume</th><th scope=col>Today</th><th scope=col>Direction</th></tr></thead>\n",
       "<tbody>\n",
       "\t<tr><th scope=row>999</th><td>2005  </td><td>-0.134</td><td> 0.008</td><td>-0.007</td><td> 0.715</td><td>-0.431</td><td>0.7869</td><td>-0.812</td><td>Down  </td></tr>\n",
       "\t<tr><th scope=row>1000</th><td>2005  </td><td>-0.812</td><td>-0.134</td><td> 0.008</td><td>-0.007</td><td> 0.715</td><td>1.5108</td><td>-1.167</td><td>Down  </td></tr>\n",
       "\t<tr><th scope=row>1001</th><td>2005  </td><td>-1.167</td><td>-0.812</td><td>-0.134</td><td> 0.008</td><td>-0.007</td><td>1.7210</td><td>-0.363</td><td>Down  </td></tr>\n",
       "\t<tr><th scope=row>1002</th><td>2005  </td><td>-0.363</td><td>-1.167</td><td>-0.812</td><td>-0.134</td><td> 0.008</td><td>1.7389</td><td> 0.351</td><td>Up    </td></tr>\n",
       "\t<tr><th scope=row>1003</th><td>2005  </td><td> 0.351</td><td>-0.363</td><td>-1.167</td><td>-0.812</td><td>-0.134</td><td>1.5691</td><td>-0.143</td><td>Down  </td></tr>\n",
       "\t<tr><th scope=row>1004</th><td>2005  </td><td>-0.143</td><td> 0.351</td><td>-0.363</td><td>-1.167</td><td>-0.812</td><td>1.4779</td><td> 0.342</td><td>Up    </td></tr>\n",
       "\t<tr><th scope=row>1005</th><td>2005  </td><td> 0.342</td><td>-0.143</td><td> 0.351</td><td>-0.363</td><td>-1.167</td><td>1.4904</td><td>-0.610</td><td>Down  </td></tr>\n",
       "\t<tr><th scope=row>1006</th><td>2005  </td><td>-0.610</td><td> 0.342</td><td>-0.143</td><td> 0.351</td><td>-0.363</td><td>1.4888</td><td> 0.398</td><td>Up    </td></tr>\n",
       "\t<tr><th scope=row>1007</th><td>2005  </td><td> 0.398</td><td>-0.610</td><td> 0.342</td><td>-0.143</td><td> 0.351</td><td>1.5621</td><td>-0.863</td><td>Down  </td></tr>\n",
       "\t<tr><th scope=row>1008</th><td>2005  </td><td>-0.863</td><td> 0.398</td><td>-0.610</td><td> 0.342</td><td>-0.143</td><td>1.5103</td><td> 0.600</td><td>Up    </td></tr>\n",
       "</tbody>\n",
       "</table>\n"
      ],
      "text/latex": [
       "\\begin{tabular}{r|lllllllll}\n",
       "  & Year & Lag1 & Lag2 & Lag3 & Lag4 & Lag5 & Volume & Today & Direction\\\\\n",
       "\\hline\n",
       "\t999 & 2005   & -0.134 &  0.008 & -0.007 &  0.715 & -0.431 & 0.7869 & -0.812 & Down  \\\\\n",
       "\t1000 & 2005   & -0.812 & -0.134 &  0.008 & -0.007 &  0.715 & 1.5108 & -1.167 & Down  \\\\\n",
       "\t1001 & 2005   & -1.167 & -0.812 & -0.134 &  0.008 & -0.007 & 1.7210 & -0.363 & Down  \\\\\n",
       "\t1002 & 2005   & -0.363 & -1.167 & -0.812 & -0.134 &  0.008 & 1.7389 &  0.351 & Up    \\\\\n",
       "\t1003 & 2005   &  0.351 & -0.363 & -1.167 & -0.812 & -0.134 & 1.5691 & -0.143 & Down  \\\\\n",
       "\t1004 & 2005   & -0.143 &  0.351 & -0.363 & -1.167 & -0.812 & 1.4779 &  0.342 & Up    \\\\\n",
       "\t1005 & 2005   &  0.342 & -0.143 &  0.351 & -0.363 & -1.167 & 1.4904 & -0.610 & Down  \\\\\n",
       "\t1006 & 2005   & -0.610 &  0.342 & -0.143 &  0.351 & -0.363 & 1.4888 &  0.398 & Up    \\\\\n",
       "\t1007 & 2005   &  0.398 & -0.610 &  0.342 & -0.143 &  0.351 & 1.5621 & -0.863 & Down  \\\\\n",
       "\t1008 & 2005   & -0.863 &  0.398 & -0.610 &  0.342 & -0.143 & 1.5103 &  0.600 & Up    \\\\\n",
       "\\end{tabular}\n"
      ],
      "text/markdown": [
       "\n",
       "| <!--/--> | Year | Lag1 | Lag2 | Lag3 | Lag4 | Lag5 | Volume | Today | Direction | \n",
       "|---|---|---|---|---|---|---|---|---|---|\n",
       "| 999 | 2005   | -0.134 |  0.008 | -0.007 |  0.715 | -0.431 | 0.7869 | -0.812 | Down   | \n",
       "| 1000 | 2005   | -0.812 | -0.134 |  0.008 | -0.007 |  0.715 | 1.5108 | -1.167 | Down   | \n",
       "| 1001 | 2005   | -1.167 | -0.812 | -0.134 |  0.008 | -0.007 | 1.7210 | -0.363 | Down   | \n",
       "| 1002 | 2005   | -0.363 | -1.167 | -0.812 | -0.134 |  0.008 | 1.7389 |  0.351 | Up     | \n",
       "| 1003 | 2005   |  0.351 | -0.363 | -1.167 | -0.812 | -0.134 | 1.5691 | -0.143 | Down   | \n",
       "| 1004 | 2005   | -0.143 |  0.351 | -0.363 | -1.167 | -0.812 | 1.4779 |  0.342 | Up     | \n",
       "| 1005 | 2005   |  0.342 | -0.143 |  0.351 | -0.363 | -1.167 | 1.4904 | -0.610 | Down   | \n",
       "| 1006 | 2005   | -0.610 |  0.342 | -0.143 |  0.351 | -0.363 | 1.4888 |  0.398 | Up     | \n",
       "| 1007 | 2005   |  0.398 | -0.610 |  0.342 | -0.143 |  0.351 | 1.5621 | -0.863 | Down   | \n",
       "| 1008 | 2005   | -0.863 |  0.398 | -0.610 |  0.342 | -0.143 | 1.5103 |  0.600 | Up     | \n",
       "\n",
       "\n"
      ],
      "text/plain": [
       "     Year Lag1   Lag2   Lag3   Lag4   Lag5   Volume Today  Direction\n",
       "999  2005 -0.134  0.008 -0.007  0.715 -0.431 0.7869 -0.812 Down     \n",
       "1000 2005 -0.812 -0.134  0.008 -0.007  0.715 1.5108 -1.167 Down     \n",
       "1001 2005 -1.167 -0.812 -0.134  0.008 -0.007 1.7210 -0.363 Down     \n",
       "1002 2005 -0.363 -1.167 -0.812 -0.134  0.008 1.7389  0.351 Up       \n",
       "1003 2005  0.351 -0.363 -1.167 -0.812 -0.134 1.5691 -0.143 Down     \n",
       "1004 2005 -0.143  0.351 -0.363 -1.167 -0.812 1.4779  0.342 Up       \n",
       "1005 2005  0.342 -0.143  0.351 -0.363 -1.167 1.4904 -0.610 Down     \n",
       "1006 2005 -0.610  0.342 -0.143  0.351 -0.363 1.4888  0.398 Up       \n",
       "1007 2005  0.398 -0.610  0.342 -0.143  0.351 1.5621 -0.863 Down     \n",
       "1008 2005 -0.863  0.398 -0.610  0.342 -0.143 1.5103  0.600 Up       "
      ]
     },
     "metadata": {},
     "output_type": "display_data"
    }
   ],
   "source": [
    "Smarket.2005 <- Smarket[!train,]\n",
    "\n",
    "head(Smarket.2005, 10)"
   ]
  },
  {
   "cell_type": "code",
   "execution_count": 119,
   "metadata": {},
   "outputs": [
    {
     "data": {
      "text/html": [
       "<ol class=list-inline>\n",
       "\t<li>252</li>\n",
       "\t<li>9</li>\n",
       "</ol>\n"
      ],
      "text/latex": [
       "\\begin{enumerate*}\n",
       "\\item 252\n",
       "\\item 9\n",
       "\\end{enumerate*}\n"
      ],
      "text/markdown": [
       "1. 252\n",
       "2. 9\n",
       "\n",
       "\n"
      ],
      "text/plain": [
       "[1] 252   9"
      ]
     },
     "metadata": {},
     "output_type": "display_data"
    }
   ],
   "source": [
    "dim(Smarket.2005)"
   ]
  },
  {
   "cell_type": "code",
   "execution_count": 120,
   "metadata": {},
   "outputs": [
    {
     "data": {
      "text/html": [
       "<ol class=list-inline>\n",
       "\t<li>Down</li>\n",
       "\t<li>Down</li>\n",
       "\t<li>Down</li>\n",
       "\t<li>Up</li>\n",
       "\t<li>Down</li>\n",
       "\t<li>Up</li>\n",
       "\t<li>Down</li>\n",
       "\t<li>Up</li>\n",
       "\t<li>Down</li>\n",
       "\t<li>Up</li>\n",
       "</ol>\n"
      ],
      "text/latex": [
       "\\begin{enumerate*}\n",
       "\\item Down\n",
       "\\item Down\n",
       "\\item Down\n",
       "\\item Up\n",
       "\\item Down\n",
       "\\item Up\n",
       "\\item Down\n",
       "\\item Up\n",
       "\\item Down\n",
       "\\item Up\n",
       "\\end{enumerate*}\n"
      ],
      "text/markdown": [
       "1. Down\n",
       "2. Down\n",
       "3. Down\n",
       "4. Up\n",
       "5. Down\n",
       "6. Up\n",
       "7. Down\n",
       "8. Up\n",
       "9. Down\n",
       "10. Up\n",
       "\n",
       "\n"
      ],
      "text/plain": [
       " [1] Down Down Down Up   Down Up   Down Up   Down Up  \n",
       "Levels: Down Up"
      ]
     },
     "metadata": {},
     "output_type": "display_data"
    }
   ],
   "source": [
    "Direction.2005 <- Smarket$Direction[!train]\n",
    "\n",
    "Direction.2005[0:10]"
   ]
  },
  {
   "cell_type": "code",
   "execution_count": 121,
   "metadata": {
    "collapsed": true
   },
   "outputs": [],
   "source": [
    "lda.fit <- lda(Direction ~ Lag1 + Lag2, \n",
    "                  data = Smarket, \n",
    "                  subset = train)"
   ]
  },
  {
   "cell_type": "code",
   "execution_count": 122,
   "metadata": {},
   "outputs": [
    {
     "data": {
      "text/plain": [
       "Call:\n",
       "lda(Direction ~ Lag1 + Lag2, data = Smarket, subset = train)\n",
       "\n",
       "Prior probabilities of groups:\n",
       "    Down       Up \n",
       "0.491984 0.508016 \n",
       "\n",
       "Group means:\n",
       "            Lag1        Lag2\n",
       "Down  0.04279022  0.03389409\n",
       "Up   -0.03954635 -0.03132544\n",
       "\n",
       "Coefficients of linear discriminants:\n",
       "            LD1\n",
       "Lag1 -0.6420190\n",
       "Lag2 -0.5135293"
      ]
     },
     "metadata": {},
     "output_type": "display_data"
    }
   ],
   "source": [
    "lda.fit"
   ]
  },
  {
   "cell_type": "markdown",
   "metadata": {},
   "source": [
    "The model output indicates that $\\hat{π}_1$ = 0.492 and $\\hat{π}_2$ = 0.508. \n",
    "In other words,  49.2% of the training observations correspond to days during which the market went down. \n",
    "The group means are the average of each predictor within each class, \n",
    "and are used by LDA as estimates of μk. \n",
    "These suggest that there is a tendency for previous 2 days’ returns to be negative on days when the market \n",
    "increases and a tendency for the previous 2 days’ returns to be positive on days when the market declines. \n",
    "\n",
    "The coefficients of linear discriminants output provides the linear combination of Lag1 and Lag2 that are used to form the LDA decision rule. \n",
    "In essence, these coefficients map the data onto a line to form the decision space.\n",
    "If (`−0.642×Lag1−0.514×Lag2`) is large, then the LDA classifier will predict a market increase, \n",
    "and if it is small, then the LDA classifier will predict a market decline. \n",
    "\n",
    "Below, the first plot is for observations where market went down and second plot observations show market went up.  "
   ]
  },
  {
   "cell_type": "code",
   "execution_count": 123,
   "metadata": {},
   "outputs": [
    {
     "data": {
      "image/png": "[encoded data removed]",
      "text/plain": [
       "plot without title"
      ]
     },
     "metadata": {},
     "output_type": "display_data"
    }
   ],
   "source": [
    "plot(lda.fit)"
   ]
  },
  {
   "cell_type": "markdown",
   "metadata": {},
   "source": [
    "The `plot()` function produces plots of the linear discriminants, \n",
    "obtained by computing (`−0.642 × Lag1 − 0.514 × Lag2`) for each of the training observations. \n",
    "The horizontal axis is the linear combination of Lag1 and Lag2. \n",
    "Both the groups are centered on 0, and have similar spread, which means there is nothing that distinguishes these two groups. \n",
    "The prediction error will be close to 50%, \n",
    "which indicates that you cannot distinguish between the groups. \n",
    "The range of x-axis (-4 to 4) represents the range of Lag1 and Lag2. "
   ]
  },
  {
   "cell_type": "markdown",
   "metadata": {},
   "source": [
    "The `predict()` function returns a list with three elements. \n",
    "The first element, class, contains LDA’s predictions about the movement of the market. \n",
    "The second element, posterior, is a matrix whose kth column contains the posterior probability that the corresponding observation belongs to the kth class. \n",
    "Finally, x contains the linear discriminants.\n"
   ]
  },
  {
   "cell_type": "code",
   "execution_count": 124,
   "metadata": {
    "collapsed": true
   },
   "outputs": [],
   "source": [
    "lda.pred <- predict(lda.fit, Smarket.2005)"
   ]
  },
  {
   "cell_type": "code",
   "execution_count": 125,
   "metadata": {},
   "outputs": [
    {
     "data": {
      "text/html": [
       "<ol class=list-inline>\n",
       "\t<li>'class'</li>\n",
       "\t<li>'posterior'</li>\n",
       "\t<li>'x'</li>\n",
       "</ol>\n"
      ],
      "text/latex": [
       "\\begin{enumerate*}\n",
       "\\item 'class'\n",
       "\\item 'posterior'\n",
       "\\item 'x'\n",
       "\\end{enumerate*}\n"
      ],
      "text/markdown": [
       "1. 'class'\n",
       "2. 'posterior'\n",
       "3. 'x'\n",
       "\n",
       "\n"
      ],
      "text/plain": [
       "[1] \"class\"     \"posterior\" \"x\"        "
      ]
     },
     "metadata": {},
     "output_type": "display_data"
    }
   ],
   "source": [
    "names(lda.pred)"
   ]
  },
  {
   "cell_type": "code",
   "execution_count": 126,
   "metadata": {},
   "outputs": [
    {
     "data": {
      "text/html": [
       "<ol class=list-inline>\n",
       "\t<li>Up</li>\n",
       "\t<li>Up</li>\n",
       "\t<li>Up</li>\n",
       "\t<li>Up</li>\n",
       "\t<li>Up</li>\n",
       "\t<li>Up</li>\n",
       "\t<li>Up</li>\n",
       "\t<li>Up</li>\n",
       "\t<li>Up</li>\n",
       "\t<li>Up</li>\n",
       "\t<li>Up</li>\n",
       "\t<li>Down</li>\n",
       "\t<li>Up</li>\n",
       "\t<li>Up</li>\n",
       "\t<li>Up</li>\n",
       "\t<li>Up</li>\n",
       "\t<li>Up</li>\n",
       "\t<li>Down</li>\n",
       "\t<li>Up</li>\n",
       "\t<li>Up</li>\n",
       "\t<li>Down</li>\n",
       "\t<li>Down</li>\n",
       "\t<li>Down</li>\n",
       "\t<li>Up</li>\n",
       "\t<li>Down</li>\n",
       "\t<li>Down</li>\n",
       "\t<li>Up</li>\n",
       "\t<li>Up</li>\n",
       "\t<li>Up</li>\n",
       "\t<li>Down</li>\n",
       "\t<li>Down</li>\n",
       "\t<li>Up</li>\n",
       "\t<li>Up</li>\n",
       "\t<li>Up</li>\n",
       "\t<li>Up</li>\n",
       "\t<li>Up</li>\n",
       "\t<li>Up</li>\n",
       "\t<li>Down</li>\n",
       "\t<li>Down</li>\n",
       "\t<li>Up</li>\n",
       "\t<li>Up</li>\n",
       "\t<li>Up</li>\n",
       "\t<li>Up</li>\n",
       "\t<li>Down</li>\n",
       "\t<li>Down</li>\n",
       "\t<li>Up</li>\n",
       "\t<li>Up</li>\n",
       "\t<li>Up</li>\n",
       "\t<li>Up</li>\n",
       "\t<li>Up</li>\n",
       "\t<li>Up</li>\n",
       "\t<li>Up</li>\n",
       "\t<li>Up</li>\n",
       "\t<li>Up</li>\n",
       "\t<li>Up</li>\n",
       "\t<li>Up</li>\n",
       "\t<li>Up</li>\n",
       "\t<li>Up</li>\n",
       "\t<li>Up</li>\n",
       "\t<li>Up</li>\n",
       "\t<li>Down</li>\n",
       "\t<li>Down</li>\n",
       "\t<li>Up</li>\n",
       "\t<li>Up</li>\n",
       "\t<li>Down</li>\n",
       "\t<li>Down</li>\n",
       "\t<li>Down</li>\n",
       "\t<li>Up</li>\n",
       "\t<li>Up</li>\n",
       "\t<li>Up</li>\n",
       "\t<li>Up</li>\n",
       "\t<li>Up</li>\n",
       "\t<li>Up</li>\n",
       "\t<li>Up</li>\n",
       "\t<li>Down</li>\n",
       "\t<li>Up</li>\n",
       "\t<li>Down</li>\n",
       "\t<li>Down</li>\n",
       "\t<li>Up</li>\n",
       "\t<li>Up</li>\n",
       "\t<li>Up</li>\n",
       "\t<li>Up</li>\n",
       "\t<li>Up</li>\n",
       "\t<li>Down</li>\n",
       "\t<li>Up</li>\n",
       "\t<li>Down</li>\n",
       "\t<li>Down</li>\n",
       "\t<li>Up</li>\n",
       "\t<li>Up</li>\n",
       "\t<li>Up</li>\n",
       "\t<li>Up</li>\n",
       "\t<li>Up</li>\n",
       "\t<li>Up</li>\n",
       "\t<li>Down</li>\n",
       "\t<li>Down</li>\n",
       "\t<li>Down</li>\n",
       "\t<li>Down</li>\n",
       "\t<li>Up</li>\n",
       "\t<li>Up</li>\n",
       "\t<li>Up</li>\n",
       "\t<li>Up</li>\n",
       "\t<li>Up</li>\n",
       "\t<li>Down</li>\n",
       "\t<li>Up</li>\n",
       "\t<li>Up</li>\n",
       "\t<li>Down</li>\n",
       "\t<li>Up</li>\n",
       "\t<li>Up</li>\n",
       "\t<li>Up</li>\n",
       "\t<li>Up</li>\n",
       "\t<li>Up</li>\n",
       "\t<li>Up</li>\n",
       "\t<li>Up</li>\n",
       "\t<li>Up</li>\n",
       "\t<li>Up</li>\n",
       "\t<li>Up</li>\n",
       "\t<li>Down</li>\n",
       "\t<li>Up</li>\n",
       "\t<li>Up</li>\n",
       "\t<li>Up</li>\n",
       "\t<li>Up</li>\n",
       "\t<li>Up</li>\n",
       "\t<li>Up</li>\n",
       "\t<li>Down</li>\n",
       "\t<li>Down</li>\n",
       "\t<li>Up</li>\n",
       "\t<li>Up</li>\n",
       "\t<li>Down</li>\n",
       "\t<li>Up</li>\n",
       "\t<li>Up</li>\n",
       "\t<li>Down</li>\n",
       "\t<li>Down</li>\n",
       "\t<li>Down</li>\n",
       "\t<li>Up</li>\n",
       "\t<li>Up</li>\n",
       "\t<li>Up</li>\n",
       "\t<li>Up</li>\n",
       "\t<li>Up</li>\n",
       "\t<li>Down</li>\n",
       "\t<li>Up</li>\n",
       "\t<li>Up</li>\n",
       "\t<li>Up</li>\n",
       "\t<li>Up</li>\n",
       "\t<li>Down</li>\n",
       "\t<li>Down</li>\n",
       "\t<li>Up</li>\n",
       "\t<li>Up</li>\n",
       "\t<li>Down</li>\n",
       "\t<li>Down</li>\n",
       "\t<li>Up</li>\n",
       "\t<li>Up</li>\n",
       "\t<li>Up</li>\n",
       "\t<li>Up</li>\n",
       "\t<li>Up</li>\n",
       "\t<li>Up</li>\n",
       "\t<li>Up</li>\n",
       "\t<li>Up</li>\n",
       "\t<li>Up</li>\n",
       "\t<li>Up</li>\n",
       "\t<li>Up</li>\n",
       "\t<li>Up</li>\n",
       "\t<li>Up</li>\n",
       "\t<li>Up</li>\n",
       "\t<li>Up</li>\n",
       "\t<li>Up</li>\n",
       "\t<li>Up</li>\n",
       "\t<li>Up</li>\n",
       "\t<li>Up</li>\n",
       "\t<li>Down</li>\n",
       "\t<li>Down</li>\n",
       "\t<li>Up</li>\n",
       "\t<li>Down</li>\n",
       "\t<li>Down</li>\n",
       "\t<li>Up</li>\n",
       "\t<li>Up</li>\n",
       "\t<li>Up</li>\n",
       "\t<li>Up</li>\n",
       "\t<li>Up</li>\n",
       "\t<li>Up</li>\n",
       "\t<li>Down</li>\n",
       "\t<li>Up</li>\n",
       "\t<li>Up</li>\n",
       "\t<li>Up</li>\n",
       "\t<li>Up</li>\n",
       "\t<li>Up</li>\n",
       "\t<li>Up</li>\n",
       "\t<li>Up</li>\n",
       "\t<li>Up</li>\n",
       "\t<li>Down</li>\n",
       "\t<li>Down</li>\n",
       "\t<li>Up</li>\n",
       "\t<li>Up</li>\n",
       "\t<li>Up</li>\n",
       "\t<li>Up</li>\n",
       "\t<li>Up</li>\n",
       "\t<li>Up</li>\n",
       "\t<li>Up</li>\n",
       "\t<li>Up</li>\n",
       "\t<li>Up</li>\n",
       "\t<li>Down</li>\n",
       "\t<li>Down</li>\n",
       "\t<li>Up</li>\n",
       "\t<li>Down</li>\n",
       "\t<li>Up</li>\n",
       "\t<li>Up</li>\n",
       "\t<li>Down</li>\n",
       "\t<li>Down</li>\n",
       "\t<li>Up</li>\n",
       "\t<li>Up</li>\n",
       "\t<li>Down</li>\n",
       "\t<li>Down</li>\n",
       "\t<li>Up</li>\n",
       "\t<li>Down</li>\n",
       "\t<li>Down</li>\n",
       "\t<li>Up</li>\n",
       "\t<li>Up</li>\n",
       "\t<li>Up</li>\n",
       "\t<li>Up</li>\n",
       "\t<li>Down</li>\n",
       "\t<li>Down</li>\n",
       "\t<li>Up</li>\n",
       "\t<li>Up</li>\n",
       "\t<li>Up</li>\n",
       "\t<li>Down</li>\n",
       "\t<li>Down</li>\n",
       "\t<li>Down</li>\n",
       "\t<li>Down</li>\n",
       "\t<li>Down</li>\n",
       "\t<li>Up</li>\n",
       "\t<li>Up</li>\n",
       "\t<li>Up</li>\n",
       "\t<li>Up</li>\n",
       "\t<li>Down</li>\n",
       "\t<li>Down</li>\n",
       "\t<li>Up</li>\n",
       "\t<li>Up</li>\n",
       "\t<li>Up</li>\n",
       "\t<li>Up</li>\n",
       "\t<li>Up</li>\n",
       "\t<li>Up</li>\n",
       "\t<li>Down</li>\n",
       "\t<li>Down</li>\n",
       "\t<li>Up</li>\n",
       "\t<li>Up</li>\n",
       "\t<li>Up</li>\n",
       "\t<li>Up</li>\n",
       "\t<li>Up</li>\n",
       "\t<li>Down</li>\n",
       "\t<li>Up</li>\n",
       "\t<li>Up</li>\n",
       "\t<li>Up</li>\n",
       "\t<li>Up</li>\n",
       "</ol>\n"
      ],
      "text/latex": [
       "\\begin{enumerate*}\n",
       "\\item Up\n",
       "\\item Up\n",
       "\\item Up\n",
       "\\item Up\n",
       "\\item Up\n",
       "\\item Up\n",
       "\\item Up\n",
       "\\item Up\n",
       "\\item Up\n",
       "\\item Up\n",
       "\\item Up\n",
       "\\item Down\n",
       "\\item Up\n",
       "\\item Up\n",
       "\\item Up\n",
       "\\item Up\n",
       "\\item Up\n",
       "\\item Down\n",
       "\\item Up\n",
       "\\item Up\n",
       "\\item Down\n",
       "\\item Down\n",
       "\\item Down\n",
       "\\item Up\n",
       "\\item Down\n",
       "\\item Down\n",
       "\\item Up\n",
       "\\item Up\n",
       "\\item Up\n",
       "\\item Down\n",
       "\\item Down\n",
       "\\item Up\n",
       "\\item Up\n",
       "\\item Up\n",
       "\\item Up\n",
       "\\item Up\n",
       "\\item Up\n",
       "\\item Down\n",
       "\\item Down\n",
       "\\item Up\n",
       "\\item Up\n",
       "\\item Up\n",
       "\\item Up\n",
       "\\item Down\n",
       "\\item Down\n",
       "\\item Up\n",
       "\\item Up\n",
       "\\item Up\n",
       "\\item Up\n",
       "\\item Up\n",
       "\\item Up\n",
       "\\item Up\n",
       "\\item Up\n",
       "\\item Up\n",
       "\\item Up\n",
       "\\item Up\n",
       "\\item Up\n",
       "\\item Up\n",
       "\\item Up\n",
       "\\item Up\n",
       "\\item Down\n",
       "\\item Down\n",
       "\\item Up\n",
       "\\item Up\n",
       "\\item Down\n",
       "\\item Down\n",
       "\\item Down\n",
       "\\item Up\n",
       "\\item Up\n",
       "\\item Up\n",
       "\\item Up\n",
       "\\item Up\n",
       "\\item Up\n",
       "\\item Up\n",
       "\\item Down\n",
       "\\item Up\n",
       "\\item Down\n",
       "\\item Down\n",
       "\\item Up\n",
       "\\item Up\n",
       "\\item Up\n",
       "\\item Up\n",
       "\\item Up\n",
       "\\item Down\n",
       "\\item Up\n",
       "\\item Down\n",
       "\\item Down\n",
       "\\item Up\n",
       "\\item Up\n",
       "\\item Up\n",
       "\\item Up\n",
       "\\item Up\n",
       "\\item Up\n",
       "\\item Down\n",
       "\\item Down\n",
       "\\item Down\n",
       "\\item Down\n",
       "\\item Up\n",
       "\\item Up\n",
       "\\item Up\n",
       "\\item Up\n",
       "\\item Up\n",
       "\\item Down\n",
       "\\item Up\n",
       "\\item Up\n",
       "\\item Down\n",
       "\\item Up\n",
       "\\item Up\n",
       "\\item Up\n",
       "\\item Up\n",
       "\\item Up\n",
       "\\item Up\n",
       "\\item Up\n",
       "\\item Up\n",
       "\\item Up\n",
       "\\item Up\n",
       "\\item Down\n",
       "\\item Up\n",
       "\\item Up\n",
       "\\item Up\n",
       "\\item Up\n",
       "\\item Up\n",
       "\\item Up\n",
       "\\item Down\n",
       "\\item Down\n",
       "\\item Up\n",
       "\\item Up\n",
       "\\item Down\n",
       "\\item Up\n",
       "\\item Up\n",
       "\\item Down\n",
       "\\item Down\n",
       "\\item Down\n",
       "\\item Up\n",
       "\\item Up\n",
       "\\item Up\n",
       "\\item Up\n",
       "\\item Up\n",
       "\\item Down\n",
       "\\item Up\n",
       "\\item Up\n",
       "\\item Up\n",
       "\\item Up\n",
       "\\item Down\n",
       "\\item Down\n",
       "\\item Up\n",
       "\\item Up\n",
       "\\item Down\n",
       "\\item Down\n",
       "\\item Up\n",
       "\\item Up\n",
       "\\item Up\n",
       "\\item Up\n",
       "\\item Up\n",
       "\\item Up\n",
       "\\item Up\n",
       "\\item Up\n",
       "\\item Up\n",
       "\\item Up\n",
       "\\item Up\n",
       "\\item Up\n",
       "\\item Up\n",
       "\\item Up\n",
       "\\item Up\n",
       "\\item Up\n",
       "\\item Up\n",
       "\\item Up\n",
       "\\item Up\n",
       "\\item Down\n",
       "\\item Down\n",
       "\\item Up\n",
       "\\item Down\n",
       "\\item Down\n",
       "\\item Up\n",
       "\\item Up\n",
       "\\item Up\n",
       "\\item Up\n",
       "\\item Up\n",
       "\\item Up\n",
       "\\item Down\n",
       "\\item Up\n",
       "\\item Up\n",
       "\\item Up\n",
       "\\item Up\n",
       "\\item Up\n",
       "\\item Up\n",
       "\\item Up\n",
       "\\item Up\n",
       "\\item Down\n",
       "\\item Down\n",
       "\\item Up\n",
       "\\item Up\n",
       "\\item Up\n",
       "\\item Up\n",
       "\\item Up\n",
       "\\item Up\n",
       "\\item Up\n",
       "\\item Up\n",
       "\\item Up\n",
       "\\item Down\n",
       "\\item Down\n",
       "\\item Up\n",
       "\\item Down\n",
       "\\item Up\n",
       "\\item Up\n",
       "\\item Down\n",
       "\\item Down\n",
       "\\item Up\n",
       "\\item Up\n",
       "\\item Down\n",
       "\\item Down\n",
       "\\item Up\n",
       "\\item Down\n",
       "\\item Down\n",
       "\\item Up\n",
       "\\item Up\n",
       "\\item Up\n",
       "\\item Up\n",
       "\\item Down\n",
       "\\item Down\n",
       "\\item Up\n",
       "\\item Up\n",
       "\\item Up\n",
       "\\item Down\n",
       "\\item Down\n",
       "\\item Down\n",
       "\\item Down\n",
       "\\item Down\n",
       "\\item Up\n",
       "\\item Up\n",
       "\\item Up\n",
       "\\item Up\n",
       "\\item Down\n",
       "\\item Down\n",
       "\\item Up\n",
       "\\item Up\n",
       "\\item Up\n",
       "\\item Up\n",
       "\\item Up\n",
       "\\item Up\n",
       "\\item Down\n",
       "\\item Down\n",
       "\\item Up\n",
       "\\item Up\n",
       "\\item Up\n",
       "\\item Up\n",
       "\\item Up\n",
       "\\item Down\n",
       "\\item Up\n",
       "\\item Up\n",
       "\\item Up\n",
       "\\item Up\n",
       "\\end{enumerate*}\n"
      ],
      "text/markdown": [
       "1. Up\n",
       "2. Up\n",
       "3. Up\n",
       "4. Up\n",
       "5. Up\n",
       "6. Up\n",
       "7. Up\n",
       "8. Up\n",
       "9. Up\n",
       "10. Up\n",
       "11. Up\n",
       "12. Down\n",
       "13. Up\n",
       "14. Up\n",
       "15. Up\n",
       "16. Up\n",
       "17. Up\n",
       "18. Down\n",
       "19. Up\n",
       "20. Up\n",
       "21. Down\n",
       "22. Down\n",
       "23. Down\n",
       "24. Up\n",
       "25. Down\n",
       "26. Down\n",
       "27. Up\n",
       "28. Up\n",
       "29. Up\n",
       "30. Down\n",
       "31. Down\n",
       "32. Up\n",
       "33. Up\n",
       "34. Up\n",
       "35. Up\n",
       "36. Up\n",
       "37. Up\n",
       "38. Down\n",
       "39. Down\n",
       "40. Up\n",
       "41. Up\n",
       "42. Up\n",
       "43. Up\n",
       "44. Down\n",
       "45. Down\n",
       "46. Up\n",
       "47. Up\n",
       "48. Up\n",
       "49. Up\n",
       "50. Up\n",
       "51. Up\n",
       "52. Up\n",
       "53. Up\n",
       "54. Up\n",
       "55. Up\n",
       "56. Up\n",
       "57. Up\n",
       "58. Up\n",
       "59. Up\n",
       "60. Up\n",
       "61. Down\n",
       "62. Down\n",
       "63. Up\n",
       "64. Up\n",
       "65. Down\n",
       "66. Down\n",
       "67. Down\n",
       "68. Up\n",
       "69. Up\n",
       "70. Up\n",
       "71. Up\n",
       "72. Up\n",
       "73. Up\n",
       "74. Up\n",
       "75. Down\n",
       "76. Up\n",
       "77. Down\n",
       "78. Down\n",
       "79. Up\n",
       "80. Up\n",
       "81. Up\n",
       "82. Up\n",
       "83. Up\n",
       "84. Down\n",
       "85. Up\n",
       "86. Down\n",
       "87. Down\n",
       "88. Up\n",
       "89. Up\n",
       "90. Up\n",
       "91. Up\n",
       "92. Up\n",
       "93. Up\n",
       "94. Down\n",
       "95. Down\n",
       "96. Down\n",
       "97. Down\n",
       "98. Up\n",
       "99. Up\n",
       "100. Up\n",
       "101. Up\n",
       "102. Up\n",
       "103. Down\n",
       "104. Up\n",
       "105. Up\n",
       "106. Down\n",
       "107. Up\n",
       "108. Up\n",
       "109. Up\n",
       "110. Up\n",
       "111. Up\n",
       "112. Up\n",
       "113. Up\n",
       "114. Up\n",
       "115. Up\n",
       "116. Up\n",
       "117. Down\n",
       "118. Up\n",
       "119. Up\n",
       "120. Up\n",
       "121. Up\n",
       "122. Up\n",
       "123. Up\n",
       "124. Down\n",
       "125. Down\n",
       "126. Up\n",
       "127. Up\n",
       "128. Down\n",
       "129. Up\n",
       "130. Up\n",
       "131. Down\n",
       "132. Down\n",
       "133. Down\n",
       "134. Up\n",
       "135. Up\n",
       "136. Up\n",
       "137. Up\n",
       "138. Up\n",
       "139. Down\n",
       "140. Up\n",
       "141. Up\n",
       "142. Up\n",
       "143. Up\n",
       "144. Down\n",
       "145. Down\n",
       "146. Up\n",
       "147. Up\n",
       "148. Down\n",
       "149. Down\n",
       "150. Up\n",
       "151. Up\n",
       "152. Up\n",
       "153. Up\n",
       "154. Up\n",
       "155. Up\n",
       "156. Up\n",
       "157. Up\n",
       "158. Up\n",
       "159. Up\n",
       "160. Up\n",
       "161. Up\n",
       "162. Up\n",
       "163. Up\n",
       "164. Up\n",
       "165. Up\n",
       "166. Up\n",
       "167. Up\n",
       "168. Up\n",
       "169. Down\n",
       "170. Down\n",
       "171. Up\n",
       "172. Down\n",
       "173. Down\n",
       "174. Up\n",
       "175. Up\n",
       "176. Up\n",
       "177. Up\n",
       "178. Up\n",
       "179. Up\n",
       "180. Down\n",
       "181. Up\n",
       "182. Up\n",
       "183. Up\n",
       "184. Up\n",
       "185. Up\n",
       "186. Up\n",
       "187. Up\n",
       "188. Up\n",
       "189. Down\n",
       "190. Down\n",
       "191. Up\n",
       "192. Up\n",
       "193. Up\n",
       "194. Up\n",
       "195. Up\n",
       "196. Up\n",
       "197. Up\n",
       "198. Up\n",
       "199. Up\n",
       "200. Down\n",
       "201. Down\n",
       "202. Up\n",
       "203. Down\n",
       "204. Up\n",
       "205. Up\n",
       "206. Down\n",
       "207. Down\n",
       "208. Up\n",
       "209. Up\n",
       "210. Down\n",
       "211. Down\n",
       "212. Up\n",
       "213. Down\n",
       "214. Down\n",
       "215. Up\n",
       "216. Up\n",
       "217. Up\n",
       "218. Up\n",
       "219. Down\n",
       "220. Down\n",
       "221. Up\n",
       "222. Up\n",
       "223. Up\n",
       "224. Down\n",
       "225. Down\n",
       "226. Down\n",
       "227. Down\n",
       "228. Down\n",
       "229. Up\n",
       "230. Up\n",
       "231. Up\n",
       "232. Up\n",
       "233. Down\n",
       "234. Down\n",
       "235. Up\n",
       "236. Up\n",
       "237. Up\n",
       "238. Up\n",
       "239. Up\n",
       "240. Up\n",
       "241. Down\n",
       "242. Down\n",
       "243. Up\n",
       "244. Up\n",
       "245. Up\n",
       "246. Up\n",
       "247. Up\n",
       "248. Down\n",
       "249. Up\n",
       "250. Up\n",
       "251. Up\n",
       "252. Up\n",
       "\n",
       "\n"
      ],
      "text/plain": [
       "  [1] Up   Up   Up   Up   Up   Up   Up   Up   Up   Up   Up   Down Up   Up   Up  \n",
       " [16] Up   Up   Down Up   Up   Down Down Down Up   Down Down Up   Up   Up   Down\n",
       " [31] Down Up   Up   Up   Up   Up   Up   Down Down Up   Up   Up   Up   Down Down\n",
       " [46] Up   Up   Up   Up   Up   Up   Up   Up   Up   Up   Up   Up   Up   Up   Up  \n",
       " [61] Down Down Up   Up   Down Down Down Up   Up   Up   Up   Up   Up   Up   Down\n",
       " [76] Up   Down Down Up   Up   Up   Up   Up   Down Up   Down Down Up   Up   Up  \n",
       " [91] Up   Up   Up   Down Down Down Down Up   Up   Up   Up   Up   Down Up   Up  \n",
       "[106] Down Up   Up   Up   Up   Up   Up   Up   Up   Up   Up   Down Up   Up   Up  \n",
       "[121] Up   Up   Up   Down Down Up   Up   Down Up   Up   Down Down Down Up   Up  \n",
       "[136] Up   Up   Up   Down Up   Up   Up   Up   Down Down Up   Up   Down Down Up  \n",
       "[151] Up   Up   Up   Up   Up   Up   Up   Up   Up   Up   Up   Up   Up   Up   Up  \n",
       "[166] Up   Up   Up   Down Down Up   Down Down Up   Up   Up   Up   Up   Up   Down\n",
       "[181] Up   Up   Up   Up   Up   Up   Up   Up   Down Down Up   Up   Up   Up   Up  \n",
       "[196] Up   Up   Up   Up   Down Down Up   Down Up   Up   Down Down Up   Up   Down\n",
       "[211] Down Up   Down Down Up   Up   Up   Up   Down Down Up   Up   Up   Down Down\n",
       "[226] Down Down Down Up   Up   Up   Up   Down Down Up   Up   Up   Up   Up   Up  \n",
       "[241] Down Down Up   Up   Up   Up   Up   Down Up   Up   Up   Up  \n",
       "Levels: Down Up"
      ]
     },
     "metadata": {},
     "output_type": "display_data"
    }
   ],
   "source": [
    "lda.class <- lda.pred$class\n",
    "lda.class"
   ]
  },
  {
   "cell_type": "code",
   "execution_count": 127,
   "metadata": {},
   "outputs": [
    {
     "data": {
      "text/plain": [
       "         Direction.2005\n",
       "lda.class Down  Up\n",
       "     Down   35  35\n",
       "     Up     76 106"
      ]
     },
     "metadata": {},
     "output_type": "display_data"
    }
   ],
   "source": [
    "confusion <- table(lda.class, Direction.2005)\n",
    "confusion"
   ]
  },
  {
   "cell_type": "code",
   "execution_count": 128,
   "metadata": {},
   "outputs": [
    {
     "data": {
      "text/html": [
       "0.55952380952381"
      ],
      "text/latex": [
       "0.55952380952381"
      ],
      "text/markdown": [
       "0.55952380952381"
      ],
      "text/plain": [
       "[1] 0.5595238"
      ]
     },
     "metadata": {},
     "output_type": "display_data"
    }
   ],
   "source": [
    "mean(lda.class == Direction.2005)"
   ]
  },
  {
   "cell_type": "code",
   "execution_count": 129,
   "metadata": {},
   "outputs": [
    {
     "name": "stdout",
     "output_type": "stream",
     "text": [
      "[1] \"accuracy =  0.55952380952381\"\n"
     ]
    }
   ],
   "source": [
    "print (paste(\"accuracy = \", sum(diag(confusion)) / length(Direction.2005)))"
   ]
  },
  {
   "cell_type": "markdown",
   "metadata": {},
   "source": [
    "## Example with dummy data"
   ]
  },
  {
   "cell_type": "code",
   "execution_count": 130,
   "metadata": {
    "collapsed": true
   },
   "outputs": [],
   "source": [
    "points_data <- read.csv(\"datasets/data1.csv\")"
   ]
  },
  {
   "cell_type": "code",
   "execution_count": 131,
   "metadata": {},
   "outputs": [
    {
     "data": {
      "text/html": [
       "<table>\n",
       "<thead><tr><th scope=col>X</th><th scope=col>Y</th><th scope=col>class</th></tr></thead>\n",
       "<tbody>\n",
       "\t<tr><td>4.915895</td><td>3.312657</td><td>1       </td></tr>\n",
       "\t<tr><td>2.203087</td><td>2.762946</td><td>1       </td></tr>\n",
       "\t<tr><td>2.376347</td><td>2.273357</td><td>1       </td></tr>\n",
       "\t<tr><td>4.366696</td><td>2.682983</td><td>1       </td></tr>\n",
       "\t<tr><td>2.079594</td><td>2.194263</td><td>1       </td></tr>\n",
       "\t<tr><td>4.141328</td><td>3.377833</td><td>1       </td></tr>\n",
       "</tbody>\n",
       "</table>\n"
      ],
      "text/latex": [
       "\\begin{tabular}{r|lll}\n",
       " X & Y & class\\\\\n",
       "\\hline\n",
       "\t 4.915895 & 3.312657 & 1       \\\\\n",
       "\t 2.203087 & 2.762946 & 1       \\\\\n",
       "\t 2.376347 & 2.273357 & 1       \\\\\n",
       "\t 4.366696 & 2.682983 & 1       \\\\\n",
       "\t 2.079594 & 2.194263 & 1       \\\\\n",
       "\t 4.141328 & 3.377833 & 1       \\\\\n",
       "\\end{tabular}\n"
      ],
      "text/markdown": [
       "\n",
       "X | Y | class | \n",
       "|---|---|---|---|---|---|\n",
       "| 4.915895 | 3.312657 | 1        | \n",
       "| 2.203087 | 2.762946 | 1        | \n",
       "| 2.376347 | 2.273357 | 1        | \n",
       "| 4.366696 | 2.682983 | 1        | \n",
       "| 2.079594 | 2.194263 | 1        | \n",
       "| 4.141328 | 3.377833 | 1        | \n",
       "\n",
       "\n"
      ],
      "text/plain": [
       "  X        Y        class\n",
       "1 4.915895 3.312657 1    \n",
       "2 2.203087 2.762946 1    \n",
       "3 2.376347 2.273357 1    \n",
       "4 4.366696 2.682983 1    \n",
       "5 2.079594 2.194263 1    \n",
       "6 4.141328 3.377833 1    "
      ]
     },
     "metadata": {},
     "output_type": "display_data"
    }
   ],
   "source": [
    "head(points_data)"
   ]
  },
  {
   "cell_type": "code",
   "execution_count": 132,
   "metadata": {},
   "outputs": [
    {
     "data": {
      "text/html": [
       "<table>\n",
       "<thead><tr><th scope=col>class</th><th scope=col>freq</th></tr></thead>\n",
       "<tbody>\n",
       "\t<tr><td>-1</td><td>75</td></tr>\n",
       "\t<tr><td> 1</td><td>75</td></tr>\n",
       "</tbody>\n",
       "</table>\n"
      ],
      "text/latex": [
       "\\begin{tabular}{r|ll}\n",
       " class & freq\\\\\n",
       "\\hline\n",
       "\t -1 & 75\\\\\n",
       "\t  1 & 75\\\\\n",
       "\\end{tabular}\n"
      ],
      "text/markdown": [
       "\n",
       "class | freq | \n",
       "|---|---|\n",
       "| -1 | 75 | \n",
       "|  1 | 75 | \n",
       "\n",
       "\n"
      ],
      "text/plain": [
       "  class freq\n",
       "1 -1    75  \n",
       "2  1    75  "
      ]
     },
     "metadata": {},
     "output_type": "display_data"
    }
   ],
   "source": [
    "count(points_data, \"class\")"
   ]
  },
  {
   "cell_type": "code",
   "execution_count": 133,
   "metadata": {},
   "outputs": [
    {
     "data": {},
     "metadata": {},
     "output_type": "display_data"
    },
    {
     "data": {
      "image/png": "[encoded data removed]",
      "text/plain": [
       "plot without title"
      ]
     },
     "metadata": {},
     "output_type": "display_data"
    }
   ],
   "source": [
    "plot <- ggplot(points_data, aes(X, Y)) + \n",
    "    geom_point(aes(colour=factor(class),shape=factor(class)))\n",
    "\n",
    "plot"
   ]
  },
  {
   "cell_type": "code",
   "execution_count": 134,
   "metadata": {},
   "outputs": [],
   "source": [
    "ldafit <- lda(class ~ X + Y, data = points_data)"
   ]
  },
  {
   "cell_type": "code",
   "execution_count": 135,
   "metadata": {},
   "outputs": [
    {
     "data": {
      "text/plain": [
       "Call:\n",
       "lda(class ~ X + Y, data = points_data)\n",
       "\n",
       "Prior probabilities of groups:\n",
       " -1   1 \n",
       "0.5 0.5 \n",
       "\n",
       "Group means:\n",
       "          X        Y\n",
       "-1 7.918329 8.011722\n",
       "1  2.920857 2.989449\n",
       "\n",
       "Coefficients of linear discriminants:\n",
       "         LD1\n",
       "X -0.6128911\n",
       "Y -0.7542157"
      ]
     },
     "metadata": {},
     "output_type": "display_data"
    }
   ],
   "source": [
    "ldafit"
   ]
  },
  {
   "cell_type": "code",
   "execution_count": 136,
   "metadata": {},
   "outputs": [
    {
     "data": {
      "image/png": "[encoded data removed]",
      "text/plain": [
       "plot without title"
      ]
     },
     "metadata": {},
     "output_type": "display_data"
    }
   ],
   "source": [
    "plot(ldafit)"
   ]
  },
  {
   "cell_type": "code",
   "execution_count": 137,
   "metadata": {
    "collapsed": true
   },
   "outputs": [],
   "source": [
    "pred <- predict(ldafit)"
   ]
  },
  {
   "cell_type": "code",
   "execution_count": 138,
   "metadata": {},
   "outputs": [
    {
     "data": {
      "text/html": [
       "<ol class=list-inline>\n",
       "\t<li>'class'</li>\n",
       "\t<li>'posterior'</li>\n",
       "\t<li>'x'</li>\n",
       "</ol>\n"
      ],
      "text/latex": [
       "\\begin{enumerate*}\n",
       "\\item 'class'\n",
       "\\item 'posterior'\n",
       "\\item 'x'\n",
       "\\end{enumerate*}\n"
      ],
      "text/markdown": [
       "1. 'class'\n",
       "2. 'posterior'\n",
       "3. 'x'\n",
       "\n",
       "\n"
      ],
      "text/plain": [
       "[1] \"class\"     \"posterior\" \"x\"        "
      ]
     },
     "metadata": {},
     "output_type": "display_data"
    }
   ],
   "source": [
    "names(pred)"
   ]
  },
  {
   "cell_type": "code",
   "execution_count": 139,
   "metadata": {},
   "outputs": [
    {
     "data": {
      "text/plain": [
       "    \n",
       "     -1  1\n",
       "  -1 75  0\n",
       "  1   0 75"
      ]
     },
     "metadata": {},
     "output_type": "display_data"
    }
   ],
   "source": [
    "confusion_table <- table(pred$class, points_data$class)\n",
    "confusion_table"
   ]
  },
  {
   "cell_type": "code",
   "execution_count": 140,
   "metadata": {},
   "outputs": [
    {
     "data": {},
     "metadata": {},
     "output_type": "display_data"
    },
    {
     "data": {
      "image/png": "[encoded data removed]",
      "text/plain": [
       "plot without title"
      ]
     },
     "metadata": {},
     "output_type": "display_data"
    }
   ],
   "source": [
    "# plotting boundary.\n",
    "contour_data <- data.frame(expand.grid(X=seq(0,15,length=300),Y=seq(0,15,length=300)))\n",
    "lda_predict <- data.frame(contour_data, as.numeric(predict(ldafit,contour_data)$class))\n",
    "names(lda_predict)[3] <- \"pred\"\n",
    "plot + stat_contour(aes(x=X, y=Y, z=pred),data=lda_predict)"
   ]
  }
 ],
 "metadata": {
  "kernelspec": {
   "display_name": "R",
   "language": "R",
   "name": "ir"
  },
  "language_info": {
   "codemirror_mode": "r",
   "file_extension": ".r",
   "mimetype": "text/x-r-source",
   "name": "R",
   "pygments_lexer": "r",
   "version": "3.4.1"
  }
 },
 "nbformat": 4,
 "nbformat_minor": 2
}
