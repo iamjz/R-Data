{
 "cells": [
  {
   "cell_type": "code",
   "execution_count": 11,
   "metadata": {
    "collapsed": true
   },
   "outputs": [],
   "source": [
    "library(plyr)\n",
    "library(caTools)\n",
    "library(ggplot2)"
   ]
  },
  {
   "cell_type": "code",
   "execution_count": 12,
   "metadata": {},
   "outputs": [],
   "source": [
    "songs_data <- read.csv(\"datasets/songs.csv\")"
   ]
  },
  {
   "cell_type": "code",
   "execution_count": 13,
   "metadata": {},
   "outputs": [
    {
     "data": {
      "text/html": [
       "<table>\n",
       "<thead><tr><th></th><th scope=col>1</th><th scope=col>2</th></tr></thead>\n",
       "<tbody>\n",
       "\t<tr><th scope=row>year</th><td>2010                              </td><td>2010                              </td></tr>\n",
       "\t<tr><th scope=row>songtitle</th><td>This Is the House That Doubt Built                            </td><td><span style=white-space:pre-wrap>Sticks &amp; Bricks   </span></td></tr>\n",
       "\t<tr><th scope=row>artistname</th><td>A Day to Remember                 </td><td>A Day to Remember                 </td></tr>\n",
       "\t<tr><th scope=row>songID</th><td>SOBGGAB12C5664F054                </td><td>SOPAQHU1315CD47F31                </td></tr>\n",
       "\t<tr><th scope=row>artistID</th><td>AROBSHL1187B9AFB01                </td><td>AROBSHL1187B9AFB01                </td></tr>\n",
       "\t<tr><th scope=row>timesignature</th><td>3                                 </td><td>4                                 </td></tr>\n",
       "\t<tr><th scope=row>timesignature_confidence</th><td>0.853                             </td><td>1.000                             </td></tr>\n",
       "\t<tr><th scope=row>loudness</th><td>-4.262                            </td><td>-4.051                            </td></tr>\n",
       "\t<tr><th scope=row>tempo</th><td> 91.525                           </td><td>140.048                           </td></tr>\n",
       "\t<tr><th scope=row>tempo_confidence</th><td>0.953                             </td><td>0.921                             </td></tr>\n",
       "\t<tr><th scope=row>key</th><td>11                                </td><td>10                                </td></tr>\n",
       "\t<tr><th scope=row>key_confidence</th><td>0.453                             </td><td>0.469                             </td></tr>\n",
       "\t<tr><th scope=row>energy</th><td>0.9666556                         </td><td>0.9847095                         </td></tr>\n",
       "\t<tr><th scope=row>pitch</th><td>0.024                             </td><td>0.025                             </td></tr>\n",
       "\t<tr><th scope=row>timbre_0_min</th><td>0.002                             </td><td>0.000                             </td></tr>\n",
       "\t<tr><th scope=row>timbre_0_max</th><td>57.342                            </td><td>57.414                            </td></tr>\n",
       "\t<tr><th scope=row>timbre_1_min</th><td> -6.496                           </td><td>-37.351                           </td></tr>\n",
       "\t<tr><th scope=row>timbre_1_max</th><td>171.093                           </td><td>171.130                           </td></tr>\n",
       "\t<tr><th scope=row>timbre_2_min</th><td> -81.664                          </td><td>-149.589                          </td></tr>\n",
       "\t<tr><th scope=row>timbre_2_max</th><td> 95.117                           </td><td>180.334                           </td></tr>\n",
       "\t<tr><th scope=row>timbre_3_min</th><td>-285.049                          </td><td>-380.143                          </td></tr>\n",
       "\t<tr><th scope=row>timbre_3_max</th><td>259.426                           </td><td>384.166                           </td></tr>\n",
       "\t<tr><th scope=row>timbre_4_min</th><td>-40.385                           </td><td>-48.662                           </td></tr>\n",
       "\t<tr><th scope=row>timbre_4_max</th><td> 73.630                           </td><td>100.414                           </td></tr>\n",
       "\t<tr><th scope=row>timbre_5_min</th><td>-104.683                          </td><td> -87.267                          </td></tr>\n",
       "\t<tr><th scope=row>timbre_5_max</th><td>183.089                           </td><td> 42.798                           </td></tr>\n",
       "\t<tr><th scope=row>timbre_6_min</th><td>-88.771                           </td><td>-86.895                           </td></tr>\n",
       "\t<tr><th scope=row>timbre_6_max</th><td>73.549                            </td><td>75.455                            </td></tr>\n",
       "\t<tr><th scope=row>timbre_7_min</th><td>-71.127                           </td><td>-65.807                           </td></tr>\n",
       "\t<tr><th scope=row>timbre_7_max</th><td> 82.475                           </td><td>106.918                           </td></tr>\n",
       "\t<tr><th scope=row>timbre_8_min</th><td>-52.025                           </td><td>-61.320                           </td></tr>\n",
       "\t<tr><th scope=row>timbre_8_max</th><td>39.116                            </td><td>35.378                            </td></tr>\n",
       "\t<tr><th scope=row>timbre_9_min</th><td>-35.368                           </td><td>-81.928                           </td></tr>\n",
       "\t<tr><th scope=row>timbre_9_max</th><td>71.642                            </td><td>74.574                            </td></tr>\n",
       "\t<tr><th scope=row>timbre_10_min</th><td>-126.440                          </td><td>-103.808                          </td></tr>\n",
       "\t<tr><th scope=row>timbre_10_max</th><td> 18.658                           </td><td>121.935                           </td></tr>\n",
       "\t<tr><th scope=row>timbre_11_min</th><td>-44.770                           </td><td>-38.892                           </td></tr>\n",
       "\t<tr><th scope=row>timbre_11_max</th><td>25.989                            </td><td>22.513                            </td></tr>\n",
       "\t<tr><th scope=row>Top10</th><td>0                                 </td><td>0                                 </td></tr>\n",
       "</tbody>\n",
       "</table>\n"
      ],
      "text/latex": [
       "\\begin{tabular}{r|ll}\n",
       "  & 1 & 2\\\\\n",
       "\\hline\n",
       "\tyear & 2010                               & 2010                              \\\\\n",
       "\tsongtitle & This Is the House That Doubt Built & Sticks \\& Bricks                 \\\\\n",
       "\tartistname & A Day to Remember                  & A Day to Remember                 \\\\\n",
       "\tsongID & SOBGGAB12C5664F054                 & SOPAQHU1315CD47F31                \\\\\n",
       "\tartistID & AROBSHL1187B9AFB01                 & AROBSHL1187B9AFB01                \\\\\n",
       "\ttimesignature & 3                                  & 4                                 \\\\\n",
       "\ttimesignature\\_confidence & 0.853                              & 1.000                             \\\\\n",
       "\tloudness & -4.262                             & -4.051                            \\\\\n",
       "\ttempo &  91.525                            & 140.048                           \\\\\n",
       "\ttempo\\_confidence & 0.953                              & 0.921                             \\\\\n",
       "\tkey & 11                                 & 10                                \\\\\n",
       "\tkey\\_confidence & 0.453                              & 0.469                             \\\\\n",
       "\tenergy & 0.9666556                          & 0.9847095                         \\\\\n",
       "\tpitch & 0.024                              & 0.025                             \\\\\n",
       "\ttimbre\\_0\\_min & 0.002                              & 0.000                             \\\\\n",
       "\ttimbre\\_0\\_max & 57.342                             & 57.414                            \\\\\n",
       "\ttimbre\\_1\\_min &  -6.496                            & -37.351                           \\\\\n",
       "\ttimbre\\_1\\_max & 171.093                            & 171.130                           \\\\\n",
       "\ttimbre\\_2\\_min &  -81.664                           & -149.589                          \\\\\n",
       "\ttimbre\\_2\\_max &  95.117                            & 180.334                           \\\\\n",
       "\ttimbre\\_3\\_min & -285.049                           & -380.143                          \\\\\n",
       "\ttimbre\\_3\\_max & 259.426                            & 384.166                           \\\\\n",
       "\ttimbre\\_4\\_min & -40.385                            & -48.662                           \\\\\n",
       "\ttimbre\\_4\\_max &  73.630                            & 100.414                           \\\\\n",
       "\ttimbre\\_5\\_min & -104.683                           &  -87.267                          \\\\\n",
       "\ttimbre\\_5\\_max & 183.089                            &  42.798                           \\\\\n",
       "\ttimbre\\_6\\_min & -88.771                            & -86.895                           \\\\\n",
       "\ttimbre\\_6\\_max & 73.549                             & 75.455                            \\\\\n",
       "\ttimbre\\_7\\_min & -71.127                            & -65.807                           \\\\\n",
       "\ttimbre\\_7\\_max &  82.475                            & 106.918                           \\\\\n",
       "\ttimbre\\_8\\_min & -52.025                            & -61.320                           \\\\\n",
       "\ttimbre\\_8\\_max & 39.116                             & 35.378                            \\\\\n",
       "\ttimbre\\_9\\_min & -35.368                            & -81.928                           \\\\\n",
       "\ttimbre\\_9\\_max & 71.642                             & 74.574                            \\\\\n",
       "\ttimbre\\_10\\_min & -126.440                           & -103.808                          \\\\\n",
       "\ttimbre\\_10\\_max &  18.658                            & 121.935                           \\\\\n",
       "\ttimbre\\_11\\_min & -44.770                            & -38.892                           \\\\\n",
       "\ttimbre\\_11\\_max & 25.989                             & 22.513                            \\\\\n",
       "\tTop10 & 0                                  & 0                                 \\\\\n",
       "\\end{tabular}\n"
      ],
      "text/markdown": [
       "\n",
       "| <!--/--> | 1 | 2 | \n",
       "|---|---|---|---|---|---|---|---|---|---|---|---|---|---|---|---|---|---|---|---|---|---|---|---|---|---|---|---|---|---|---|---|---|---|---|---|---|---|---|\n",
       "| year | 2010                               | 2010                               | \n",
       "| songtitle | This Is the House That Doubt Built | Sticks & Bricks                    | \n",
       "| artistname | A Day to Remember                  | A Day to Remember                  | \n",
       "| songID | SOBGGAB12C5664F054                 | SOPAQHU1315CD47F31                 | \n",
       "| artistID | AROBSHL1187B9AFB01                 | AROBSHL1187B9AFB01                 | \n",
       "| timesignature | 3                                  | 4                                  | \n",
       "| timesignature_confidence | 0.853                              | 1.000                              | \n",
       "| loudness | -4.262                             | -4.051                             | \n",
       "| tempo |  91.525                            | 140.048                            | \n",
       "| tempo_confidence | 0.953                              | 0.921                              | \n",
       "| key | 11                                 | 10                                 | \n",
       "| key_confidence | 0.453                              | 0.469                              | \n",
       "| energy | 0.9666556                          | 0.9847095                          | \n",
       "| pitch | 0.024                              | 0.025                              | \n",
       "| timbre_0_min | 0.002                              | 0.000                              | \n",
       "| timbre_0_max | 57.342                             | 57.414                             | \n",
       "| timbre_1_min |  -6.496                            | -37.351                            | \n",
       "| timbre_1_max | 171.093                            | 171.130                            | \n",
       "| timbre_2_min |  -81.664                           | -149.589                           | \n",
       "| timbre_2_max |  95.117                            | 180.334                            | \n",
       "| timbre_3_min | -285.049                           | -380.143                           | \n",
       "| timbre_3_max | 259.426                            | 384.166                            | \n",
       "| timbre_4_min | -40.385                            | -48.662                            | \n",
       "| timbre_4_max |  73.630                            | 100.414                            | \n",
       "| timbre_5_min | -104.683                           |  -87.267                           | \n",
       "| timbre_5_max | 183.089                            |  42.798                            | \n",
       "| timbre_6_min | -88.771                            | -86.895                            | \n",
       "| timbre_6_max | 73.549                             | 75.455                             | \n",
       "| timbre_7_min | -71.127                            | -65.807                            | \n",
       "| timbre_7_max |  82.475                            | 106.918                            | \n",
       "| timbre_8_min | -52.025                            | -61.320                            | \n",
       "| timbre_8_max | 39.116                             | 35.378                             | \n",
       "| timbre_9_min | -35.368                            | -81.928                            | \n",
       "| timbre_9_max | 71.642                             | 74.574                             | \n",
       "| timbre_10_min | -126.440                           | -103.808                           | \n",
       "| timbre_10_max |  18.658                            | 121.935                            | \n",
       "| timbre_11_min | -44.770                            | -38.892                            | \n",
       "| timbre_11_max | 25.989                             | 22.513                             | \n",
       "| Top10 | 0                                  | 0                                  | \n",
       "\n",
       "\n"
      ],
      "text/plain": [
       "                         1                                  2                 \n",
       "year                     2010                               2010              \n",
       "songtitle                This Is the House That Doubt Built Sticks & Bricks   \n",
       "artistname               A Day to Remember                  A Day to Remember \n",
       "songID                   SOBGGAB12C5664F054                 SOPAQHU1315CD47F31\n",
       "artistID                 AROBSHL1187B9AFB01                 AROBSHL1187B9AFB01\n",
       "timesignature            3                                  4                 \n",
       "timesignature_confidence 0.853                              1.000             \n",
       "loudness                 -4.262                             -4.051            \n",
       "tempo                     91.525                            140.048           \n",
       "tempo_confidence         0.953                              0.921             \n",
       "key                      11                                 10                \n",
       "key_confidence           0.453                              0.469             \n",
       "energy                   0.9666556                          0.9847095         \n",
       "pitch                    0.024                              0.025             \n",
       "timbre_0_min             0.002                              0.000             \n",
       "timbre_0_max             57.342                             57.414            \n",
       "timbre_1_min              -6.496                            -37.351           \n",
       "timbre_1_max             171.093                            171.130           \n",
       "timbre_2_min              -81.664                           -149.589          \n",
       "timbre_2_max              95.117                            180.334           \n",
       "timbre_3_min             -285.049                           -380.143          \n",
       "timbre_3_max             259.426                            384.166           \n",
       "timbre_4_min             -40.385                            -48.662           \n",
       "timbre_4_max              73.630                            100.414           \n",
       "timbre_5_min             -104.683                            -87.267          \n",
       "timbre_5_max             183.089                             42.798           \n",
       "timbre_6_min             -88.771                            -86.895           \n",
       "timbre_6_max             73.549                             75.455            \n",
       "timbre_7_min             -71.127                            -65.807           \n",
       "timbre_7_max              82.475                            106.918           \n",
       "timbre_8_min             -52.025                            -61.320           \n",
       "timbre_8_max             39.116                             35.378            \n",
       "timbre_9_min             -35.368                            -81.928           \n",
       "timbre_9_max             71.642                             74.574            \n",
       "timbre_10_min            -126.440                           -103.808          \n",
       "timbre_10_max             18.658                            121.935           \n",
       "timbre_11_min            -44.770                            -38.892           \n",
       "timbre_11_max            25.989                             22.513            \n",
       "Top10                    0                                  0                 "
      ]
     },
     "metadata": {},
     "output_type": "display_data"
    }
   ],
   "source": [
    "t(head(songs_data, 2))"
   ]
  },
  {
   "cell_type": "code",
   "execution_count": 14,
   "metadata": {},
   "outputs": [
    {
     "name": "stdout",
     "output_type": "stream",
     "text": [
      "'data.frame':\t7574 obs. of  39 variables:\n",
      " $ year                    : int  2010 2010 2010 2010 2010 2010 2010 2010 2010 2010 ...\n",
      " $ songtitle               : Factor w/ 7141 levels \"'03 Bonnie & Clyde\",..: 6204 5522 241 3098 47 607 254 4419 2887 6756 ...\n",
      " $ artistname              : Factor w/ 1032 levels \"50 Cent\",\"98 Degrees\",..: 3 3 3 3 3 3 3 3 3 12 ...\n",
      " $ songID                  : Factor w/ 7549 levels \"SOAACNI1315CD4AC42\",..: 595 5439 5252 1716 3431 1020 1831 3964 6904 2473 ...\n",
      " $ artistID                : Factor w/ 1047 levels \"AR00B1I1187FB433EB\",..: 671 671 671 671 671 671 671 671 671 507 ...\n",
      " $ timesignature           : int  3 4 4 4 4 4 4 4 4 4 ...\n",
      " $ timesignature_confidence: num  0.853 1 1 1 0.788 1 0.968 0.861 0.622 0.938 ...\n",
      " $ loudness                : num  -4.26 -4.05 -3.57 -3.81 -4.71 ...\n",
      " $ tempo                   : num  91.5 140 160.5 97.5 140.1 ...\n",
      " $ tempo_confidence        : num  0.953 0.921 0.489 0.794 0.286 0.347 0.273 0.83 0.018 0.929 ...\n",
      " $ key                     : int  11 10 2 1 6 4 10 5 9 11 ...\n",
      " $ key_confidence          : num  0.453 0.469 0.209 0.632 0.483 0.627 0.715 0.423 0.751 0.602 ...\n",
      " $ energy                  : num  0.967 0.985 0.99 0.939 0.988 ...\n",
      " $ pitch                   : num  0.024 0.025 0.026 0.013 0.063 0.038 0.026 0.033 0.027 0.004 ...\n",
      " $ timbre_0_min            : num  0.002 0 0.003 0 0 ...\n",
      " $ timbre_0_max            : num  57.3 57.4 57.4 57.8 56.9 ...\n",
      " $ timbre_1_min            : num  -6.5 -37.4 -17.2 -32.1 -223.9 ...\n",
      " $ timbre_1_max            : num  171 171 171 221 171 ...\n",
      " $ timbre_2_min            : num  -81.7 -149.6 -72.9 -138.6 -147.2 ...\n",
      " $ timbre_2_max            : num  95.1 180.3 157.9 173.4 166 ...\n",
      " $ timbre_3_min            : num  -285 -380.1 -204 -73.5 -128.1 ...\n",
      " $ timbre_3_max            : num  259 384 251 373 389 ...\n",
      " $ timbre_4_min            : num  -40.4 -48.7 -66 -55.6 -43.9 ...\n",
      " $ timbre_4_max            : num  73.6 100.4 152.1 119.2 99.3 ...\n",
      " $ timbre_5_min            : num  -104.7 -87.3 -98.7 -77.5 -96.1 ...\n",
      " $ timbre_5_max            : num  183.1 42.8 141.4 141.2 38.3 ...\n",
      " $ timbre_6_min            : num  -88.8 -86.9 -88.9 -70.8 -110.8 ...\n",
      " $ timbre_6_max            : num  73.5 75.5 66.5 64.5 72.4 ...\n",
      " $ timbre_7_min            : num  -71.1 -65.8 -67.4 -63.7 -55.9 ...\n",
      " $ timbre_7_max            : num  82.5 106.9 80.6 96.7 110.3 ...\n",
      " $ timbre_8_min            : num  -52 -61.3 -59.8 -78.7 -56.5 ...\n",
      " $ timbre_8_max            : num  39.1 35.4 46 41.1 37.6 ...\n",
      " $ timbre_9_min            : num  -35.4 -81.9 -46.3 -49.2 -48.6 ...\n",
      " $ timbre_9_max            : num  71.6 74.6 59.9 95.4 67.6 ...\n",
      " $ timbre_10_min           : num  -126.4 -103.8 -108.3 -102.7 -52.8 ...\n",
      " $ timbre_10_max           : num  18.7 121.9 33.3 46.4 22.9 ...\n",
      " $ timbre_11_min           : num  -44.8 -38.9 -43.7 -59.4 -50.4 ...\n",
      " $ timbre_11_max           : num  26 22.5 25.7 37.1 32.8 ...\n",
      " $ Top10                   : int  0 0 0 0 0 0 0 0 0 1 ...\n"
     ]
    }
   ],
   "source": [
    "str(songs_data)"
   ]
  },
  {
   "cell_type": "code",
   "execution_count": 15,
   "metadata": {},
   "outputs": [
    {
     "data": {
      "text/plain": [
       "\n",
       "1990 1991 1992 1993 1994 1995 1996 1997 1998 1999 2000 2001 2002 2003 2004 2005 \n",
       " 328  196  186  324  198  258  178  329  380  357  363  282  518  434  479  392 \n",
       "2006 2007 2008 2009 2010 \n",
       " 479  622  415  483  373 "
      ]
     },
     "metadata": {},
     "output_type": "display_data"
    }
   ],
   "source": [
    "table(songs_data$year)"
   ]
  },
  {
   "cell_type": "code",
   "execution_count": 16,
   "metadata": {},
   "outputs": [
    {
     "data": {
      "text/html": [
       "<table>\n",
       "<thead><tr><th scope=col>Top10</th><th scope=col>freq</th></tr></thead>\n",
       "<tbody>\n",
       "\t<tr><td>0   </td><td>6455</td></tr>\n",
       "\t<tr><td>1   </td><td>1119</td></tr>\n",
       "</tbody>\n",
       "</table>\n"
      ],
      "text/latex": [
       "\\begin{tabular}{r|ll}\n",
       " Top10 & freq\\\\\n",
       "\\hline\n",
       "\t 0    & 6455\\\\\n",
       "\t 1    & 1119\\\\\n",
       "\\end{tabular}\n"
      ],
      "text/markdown": [
       "\n",
       "Top10 | freq | \n",
       "|---|---|\n",
       "| 0    | 6455 | \n",
       "| 1    | 1119 | \n",
       "\n",
       "\n"
      ],
      "text/plain": [
       "  Top10 freq\n",
       "1 0     6455\n",
       "2 1     1119"
      ]
     },
     "metadata": {},
     "output_type": "display_data"
    }
   ],
   "source": [
    "count(songs_data, \"Top10\")"
   ]
  },
  {
   "cell_type": "code",
   "execution_count": 17,
   "metadata": {},
   "outputs": [
    {
     "data": {
      "text/html": [
       "<ol class=list-inline>\n",
       "\t<li>7574</li>\n",
       "\t<li>39</li>\n",
       "</ol>\n"
      ],
      "text/latex": [
       "\\begin{enumerate*}\n",
       "\\item 7574\n",
       "\\item 39\n",
       "\\end{enumerate*}\n"
      ],
      "text/markdown": [
       "1. 7574\n",
       "2. 39\n",
       "\n",
       "\n"
      ],
      "text/plain": [
       "[1] 7574   39"
      ]
     },
     "metadata": {},
     "output_type": "display_data"
    }
   ],
   "source": [
    "dim(songs_data)"
   ]
  },
  {
   "cell_type": "code",
   "execution_count": 18,
   "metadata": {},
   "outputs": [
    {
     "data": {
      "text/html": [
       "<ol class=list-inline>\n",
       "\t<li>7201</li>\n",
       "\t<li>39</li>\n",
       "</ol>\n"
      ],
      "text/latex": [
       "\\begin{enumerate*}\n",
       "\\item 7201\n",
       "\\item 39\n",
       "\\end{enumerate*}\n"
      ],
      "text/markdown": [
       "1. 7201\n",
       "2. 39\n",
       "\n",
       "\n"
      ],
      "text/plain": [
       "[1] 7201   39"
      ]
     },
     "metadata": {},
     "output_type": "display_data"
    },
    {
     "data": {
      "text/html": [
       "<ol class=list-inline>\n",
       "\t<li>373</li>\n",
       "\t<li>39</li>\n",
       "</ol>\n"
      ],
      "text/latex": [
       "\\begin{enumerate*}\n",
       "\\item 373\n",
       "\\item 39\n",
       "\\end{enumerate*}\n"
      ],
      "text/markdown": [
       "1. 373\n",
       "2. 39\n",
       "\n",
       "\n"
      ],
      "text/plain": [
       "[1] 373  39"
      ]
     },
     "metadata": {},
     "output_type": "display_data"
    }
   ],
   "source": [
    "#split the data into train and test sets\n",
    "\n",
    "songs_traindata <- subset(songs_data, songs_data$year <= 2009)\n",
    "songs_testdata <- subset(songs_data, songs_data$year > 2009)\n",
    "\n",
    "dim(songs_traindata)\n",
    "dim(songs_testdata)"
   ]
  },
  {
   "cell_type": "code",
   "execution_count": 19,
   "metadata": {
    "collapsed": true
   },
   "outputs": [],
   "source": [
    "colsRemove = c(\"year\", \"songtitle\", \"artistname\", \"songID\", \"artistID\")\n",
    "\n",
    "songs_traindata <- songs_traindata[, !names(songs_traindata) %in% colsRemove]\n",
    "songs_testdata <- songs_testdata[, !names(songs_testdata) %in% colsRemove]"
   ]
  },
  {
   "cell_type": "code",
   "execution_count": 20,
   "metadata": {},
   "outputs": [
    {
     "data": {},
     "metadata": {},
     "output_type": "display_data"
    },
    {
     "data": {
      "image/png": "[encoded data removed]",
      "text/plain": [
       "plot without title"
      ]
     },
     "metadata": {},
     "output_type": "display_data"
    }
   ],
   "source": [
    "songs_plot <- ggplot(songs_traindata, aes(x = loudness, y = energy)) + \n",
    "                    geom_point(aes(color = factor(Top10), shape = factor(Top10)))\n",
    "\n",
    "songs_plot"
   ]
  },
  {
   "cell_type": "code",
   "execution_count": 21,
   "metadata": {
    "collapsed": true
   },
   "outputs": [],
   "source": [
    "songsLog1 <- glm(Top10 ~ . ,\n",
    "                    data = songs_traindata, \n",
    "                     family = binomial)"
   ]
  },
  {
   "cell_type": "code",
   "execution_count": 22,
   "metadata": {},
   "outputs": [
    {
     "data": {
      "text/plain": [
       "\n",
       "Call:\n",
       "glm(formula = Top10 ~ ., family = binomial, data = songs_traindata)\n",
       "\n",
       "Deviance Residuals: \n",
       "    Min       1Q   Median       3Q      Max  \n",
       "-1.9220  -0.5399  -0.3459  -0.1845   3.0770  \n",
       "\n",
       "Coefficients:\n",
       "                           Estimate Std. Error z value Pr(>|z|)    \n",
       "(Intercept)               1.470e+01  1.806e+00   8.138 4.03e-16 ***\n",
       "timesignature             1.264e-01  8.674e-02   1.457 0.145050    \n",
       "timesignature_confidence  7.450e-01  1.953e-01   3.815 0.000136 ***\n",
       "loudness                  2.999e-01  2.917e-02  10.282  < 2e-16 ***\n",
       "tempo                     3.634e-04  1.691e-03   0.215 0.829889    \n",
       "tempo_confidence          4.732e-01  1.422e-01   3.329 0.000873 ***\n",
       "key                       1.588e-02  1.039e-02   1.529 0.126349    \n",
       "key_confidence            3.087e-01  1.412e-01   2.187 0.028760 *  \n",
       "energy                   -1.502e+00  3.099e-01  -4.847 1.25e-06 ***\n",
       "pitch                    -4.491e+01  6.835e+00  -6.570 5.02e-11 ***\n",
       "timbre_0_min              2.316e-02  4.256e-03   5.441 5.29e-08 ***\n",
       "timbre_0_max             -3.310e-01  2.569e-02 -12.882  < 2e-16 ***\n",
       "timbre_1_min              5.881e-03  7.798e-04   7.542 4.64e-14 ***\n",
       "timbre_1_max             -2.449e-04  7.152e-04  -0.342 0.732087    \n",
       "timbre_2_min             -2.127e-03  1.126e-03  -1.889 0.058843 .  \n",
       "timbre_2_max              6.586e-04  9.066e-04   0.726 0.467571    \n",
       "timbre_3_min              6.920e-04  5.985e-04   1.156 0.247583    \n",
       "timbre_3_max             -2.967e-03  5.815e-04  -5.103 3.34e-07 ***\n",
       "timbre_4_min              1.040e-02  1.985e-03   5.237 1.63e-07 ***\n",
       "timbre_4_max              6.110e-03  1.550e-03   3.942 8.10e-05 ***\n",
       "timbre_5_min             -5.598e-03  1.277e-03  -4.385 1.16e-05 ***\n",
       "timbre_5_max              7.736e-05  7.935e-04   0.097 0.922337    \n",
       "timbre_6_min             -1.686e-02  2.264e-03  -7.445 9.66e-14 ***\n",
       "timbre_6_max              3.668e-03  2.190e-03   1.675 0.093875 .  \n",
       "timbre_7_min             -4.549e-03  1.781e-03  -2.554 0.010661 *  \n",
       "timbre_7_max             -3.774e-03  1.832e-03  -2.060 0.039408 *  \n",
       "timbre_8_min              3.911e-03  2.851e-03   1.372 0.170123    \n",
       "timbre_8_max              4.011e-03  3.003e-03   1.336 0.181620    \n",
       "timbre_9_min              1.367e-03  2.998e-03   0.456 0.648356    \n",
       "timbre_9_max              1.603e-03  2.434e-03   0.659 0.510188    \n",
       "timbre_10_min             4.126e-03  1.839e-03   2.244 0.024852 *  \n",
       "timbre_10_max             5.825e-03  1.769e-03   3.292 0.000995 ***\n",
       "timbre_11_min            -2.625e-02  3.693e-03  -7.108 1.18e-12 ***\n",
       "timbre_11_max             1.967e-02  3.385e-03   5.811 6.21e-09 ***\n",
       "---\n",
       "Signif. codes:  0 '***' 0.001 '**' 0.01 '*' 0.05 '.' 0.1 ' ' 1\n",
       "\n",
       "(Dispersion parameter for binomial family taken to be 1)\n",
       "\n",
       "    Null deviance: 6017.5  on 7200  degrees of freedom\n",
       "Residual deviance: 4759.2  on 7167  degrees of freedom\n",
       "AIC: 4827.2\n",
       "\n",
       "Number of Fisher Scoring iterations: 6\n"
      ]
     },
     "metadata": {},
     "output_type": "display_data"
    }
   ],
   "source": [
    "summary(songsLog1)"
   ]
  },
  {
   "cell_type": "code",
   "execution_count": 23,
   "metadata": {},
   "outputs": [
    {
     "data": {
      "text/html": [
       "<dl class=dl-horizontal>\n",
       "\t<dt>1</dt>\n",
       "\t\t<dd>0.0328564215706949</dd>\n",
       "\t<dt>2</dt>\n",
       "\t\t<dd>0.0318610976699903</dd>\n",
       "\t<dt>3</dt>\n",
       "\t\t<dd>0.0380681345183232</dd>\n",
       "\t<dt>4</dt>\n",
       "\t\t<dd>0.0660660252609541</dd>\n",
       "\t<dt>5</dt>\n",
       "\t\t<dd>0.00250255183519714</dd>\n",
       "</dl>\n"
      ],
      "text/latex": [
       "\\begin{description*}\n",
       "\\item[1] 0.0328564215706949\n",
       "\\item[2] 0.0318610976699903\n",
       "\\item[3] 0.0380681345183232\n",
       "\\item[4] 0.0660660252609541\n",
       "\\item[5] 0.00250255183519714\n",
       "\\end{description*}\n"
      ],
      "text/markdown": [
       "1\n",
       ":   0.03285642157069492\n",
       ":   0.03186109766999033\n",
       ":   0.03806813451832324\n",
       ":   0.06606602526095415\n",
       ":   0.00250255183519714\n",
       "\n"
      ],
      "text/plain": [
       "          1           2           3           4           5 \n",
       "0.032856422 0.031861098 0.038068135 0.066066025 0.002502552 "
      ]
     },
     "metadata": {},
     "output_type": "display_data"
    }
   ],
   "source": [
    "probs <- predict(songsLog1, type = \"response\", newdata = songs_testdata)\n",
    "probs[0:5]"
   ]
  },
  {
   "cell_type": "code",
   "execution_count": 24,
   "metadata": {},
   "outputs": [
    {
     "data": {
      "text/plain": [
       "   preds\n",
       "      0   1\n",
       "  0 311   3\n",
       "  1  48  11"
      ]
     },
     "metadata": {},
     "output_type": "display_data"
    }
   ],
   "source": [
    "preds <- ifelse(probs > 0.5, 1, 0)\n",
    "table(songs_testdata$Top10, preds)"
   ]
  },
  {
   "cell_type": "code",
   "execution_count": 25,
   "metadata": {},
   "outputs": [
    {
     "data": {
      "text/html": [
       "'Accuracy: 0.863270777479893'"
      ],
      "text/latex": [
       "'Accuracy: 0.863270777479893'"
      ],
      "text/markdown": [
       "'Accuracy: 0.863270777479893'"
      ],
      "text/plain": [
       "[1] \"Accuracy: 0.863270777479893\""
      ]
     },
     "metadata": {},
     "output_type": "display_data"
    }
   ],
   "source": [
    "misClassify <- mean(preds != songs_testdata$Top10)\n",
    "paste(\"Accuracy:\", 1 - misClassify)"
   ]
  },
  {
   "cell_type": "code",
   "execution_count": 26,
   "metadata": {},
   "outputs": [
    {
     "data": {
      "text/html": [
       "<table>\n",
       "<thead><tr><th scope=col>Top10</th><th scope=col>freq</th></tr></thead>\n",
       "<tbody>\n",
       "\t<tr><td>0   </td><td>6455</td></tr>\n",
       "\t<tr><td>1   </td><td>1119</td></tr>\n",
       "</tbody>\n",
       "</table>\n"
      ],
      "text/latex": [
       "\\begin{tabular}{r|ll}\n",
       " Top10 & freq\\\\\n",
       "\\hline\n",
       "\t 0    & 6455\\\\\n",
       "\t 1    & 1119\\\\\n",
       "\\end{tabular}\n"
      ],
      "text/markdown": [
       "\n",
       "Top10 | freq | \n",
       "|---|---|\n",
       "| 0    | 6455 | \n",
       "| 1    | 1119 | \n",
       "\n",
       "\n"
      ],
      "text/plain": [
       "  Top10 freq\n",
       "1 0     6455\n",
       "2 1     1119"
      ]
     },
     "metadata": {},
     "output_type": "display_data"
    }
   ],
   "source": [
    "count(songs_data, \"Top10\")"
   ]
  },
  {
   "cell_type": "code",
   "execution_count": 27,
   "metadata": {},
   "outputs": [
    {
     "data": {
      "text/html": [
       "'Baseline Accuracy: 0.85225772379192'"
      ],
      "text/latex": [
       "'Baseline Accuracy: 0.85225772379192'"
      ],
      "text/markdown": [
       "'Baseline Accuracy: 0.85225772379192'"
      ],
      "text/plain": [
       "[1] \"Baseline Accuracy: 0.85225772379192\""
      ]
     },
     "metadata": {},
     "output_type": "display_data"
    }
   ],
   "source": [
    "### Not Top10 dominates the original database. Therefore the baseline accuracy is:\n",
    "\n",
    "paste(\"Baseline Accuracy:\", (6455)/ (6455 + 1119))"
   ]
  }
 ],
 "metadata": {
  "kernelspec": {
   "display_name": "R",
   "language": "R",
   "name": "ir"
  },
  "language_info": {
   "codemirror_mode": "r",
   "file_extension": ".r",
   "mimetype": "text/x-r-source",
   "name": "R",
   "pygments_lexer": "r",
   "version": "3.4.1"
  }
 },
 "nbformat": 4,
 "nbformat_minor": 2
}
