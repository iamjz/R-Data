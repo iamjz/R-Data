{
 "cells": [
  {
   "cell_type": "markdown",
   "metadata": {},
   "source": [
    "# Logistic regression with loans"
   ]
  },
  {
   "cell_type": "markdown",
   "metadata": {},
   "source": [
    "Loans data captured information on loan repayment by individuals. We have 13 independent variables and 1 dependent variable called not.fully.paid. Build a logistic regreession model to predict if an individual is a loan defaulter or not."
   ]
  },
  {
   "cell_type": "code",
   "execution_count": 1,
   "metadata": {
    "collapsed": true
   },
   "outputs": [],
   "source": [
    "loans_data <- read.csv(\"datasets/loans.csv\")"
   ]
  },
  {
   "cell_type": "code",
   "execution_count": 2,
   "metadata": {},
   "outputs": [
    {
     "name": "stdout",
     "output_type": "stream",
     "text": [
      "'data.frame':\t9578 obs. of  14 variables:\n",
      " $ credit.policy    : int  1 1 1 1 1 1 1 1 1 1 ...\n",
      " $ purpose          : Factor w/ 7 levels \"all_other\",\"credit_card\",..: 3 2 3 3 2 2 3 1 5 3 ...\n",
      " $ int.rate         : num  0.119 0.107 0.136 0.101 0.143 ...\n",
      " $ installment      : num  829 228 367 162 103 ...\n",
      " $ log.annual.inc   : num  11.4 11.1 10.4 11.4 11.3 ...\n",
      " $ dti              : num  19.5 14.3 11.6 8.1 15 ...\n",
      " $ fico             : int  737 707 682 712 667 727 667 722 682 707 ...\n",
      " $ days.with.cr.line: num  5640 2760 4710 2700 4066 ...\n",
      " $ revol.bal        : int  28854 33623 3511 33667 4740 50807 3839 24220 69909 5630 ...\n",
      " $ revol.util       : num  52.1 76.7 25.6 73.2 39.5 51 76.8 68.6 51.1 23 ...\n",
      " $ inq.last.6mths   : int  0 0 1 1 0 0 0 0 1 1 ...\n",
      " $ delinq.2yrs      : int  0 0 0 0 1 0 0 0 0 0 ...\n",
      " $ pub.rec          : int  0 0 0 0 0 0 1 0 0 0 ...\n",
      " $ not.fully.paid   : int  0 0 0 0 0 0 1 1 0 0 ...\n"
     ]
    }
   ],
   "source": [
    "str(loans_data)"
   ]
  },
  {
   "cell_type": "code",
   "execution_count": 3,
   "metadata": {
    "collapsed": true
   },
   "outputs": [],
   "source": [
    "# dummy encode the purpose column\n",
    "purposeMatrix <- model.matrix(~ purpose -1, data = loans_data)"
   ]
  },
  {
   "cell_type": "code",
   "execution_count": 4,
   "metadata": {
    "collapsed": true
   },
   "outputs": [],
   "source": [
    "# cbind it to loans_data\n",
    "loans_data <- cbind(loans_data, purposeMatrix)"
   ]
  },
  {
   "cell_type": "code",
   "execution_count": 5,
   "metadata": {},
   "outputs": [
    {
     "data": {
      "text/html": [
       "<table>\n",
       "<thead><tr><th></th><th scope=col>1</th><th scope=col>2</th><th scope=col>3</th><th scope=col>4</th><th scope=col>5</th><th scope=col>6</th></tr></thead>\n",
       "<tbody>\n",
       "\t<tr><th scope=row>credit.policy</th><td>1                 </td><td>1                 </td><td>1                 </td><td>1                 </td><td>1                 </td><td>1                 </td></tr>\n",
       "\t<tr><th scope=row>purpose</th><td>debt_consolidation</td><td>credit_card       </td><td>debt_consolidation</td><td>debt_consolidation</td><td>credit_card       </td><td>credit_card       </td></tr>\n",
       "\t<tr><th scope=row>int.rate</th><td>0.1189            </td><td>0.1071            </td><td>0.1357            </td><td>0.1008            </td><td>0.1426            </td><td>0.0788            </td></tr>\n",
       "\t<tr><th scope=row>installment</th><td>829.10            </td><td>228.22            </td><td>366.86            </td><td>162.34            </td><td>102.92            </td><td>125.13            </td></tr>\n",
       "\t<tr><th scope=row>log.annual.inc</th><td>11.35041          </td><td>11.08214          </td><td>10.37349          </td><td>11.35041          </td><td>11.29973          </td><td>11.90497          </td></tr>\n",
       "\t<tr><th scope=row>dti</th><td>19.48             </td><td>14.29             </td><td>11.63             </td><td> 8.10             </td><td>14.97             </td><td>16.98             </td></tr>\n",
       "\t<tr><th scope=row>fico</th><td>737               </td><td>707               </td><td>682               </td><td>712               </td><td>667               </td><td>727               </td></tr>\n",
       "\t<tr><th scope=row>days.with.cr.line</th><td>5639.958          </td><td>2760.000          </td><td>4710.000          </td><td>2699.958          </td><td>4066.000          </td><td>6120.042          </td></tr>\n",
       "\t<tr><th scope=row>revol.bal</th><td>28854             </td><td>33623             </td><td> 3511             </td><td>33667             </td><td> 4740             </td><td>50807             </td></tr>\n",
       "\t<tr><th scope=row>revol.util</th><td>52.1              </td><td>76.7              </td><td>25.6              </td><td>73.2              </td><td>39.5              </td><td>51.0              </td></tr>\n",
       "\t<tr><th scope=row>inq.last.6mths</th><td>0                 </td><td>0                 </td><td>1                 </td><td>1                 </td><td>0                 </td><td>0                 </td></tr>\n",
       "\t<tr><th scope=row>delinq.2yrs</th><td>0                 </td><td>0                 </td><td>0                 </td><td>0                 </td><td>1                 </td><td>0                 </td></tr>\n",
       "\t<tr><th scope=row>pub.rec</th><td>0                 </td><td>0                 </td><td>0                 </td><td>0                 </td><td>0                 </td><td>0                 </td></tr>\n",
       "\t<tr><th scope=row>not.fully.paid</th><td>0                 </td><td>0                 </td><td>0                 </td><td>0                 </td><td>0                 </td><td>0                 </td></tr>\n",
       "\t<tr><th scope=row>purposeall_other</th><td>0                 </td><td>0                 </td><td>0                 </td><td>0                 </td><td>0                 </td><td>0                 </td></tr>\n",
       "\t<tr><th scope=row>purposecredit_card</th><td>0                 </td><td>1                 </td><td>0                 </td><td>0                 </td><td>1                 </td><td>1                 </td></tr>\n",
       "\t<tr><th scope=row>purposedebt_consolidation</th><td>1                 </td><td>0                 </td><td>1                 </td><td>1                 </td><td>0                 </td><td>0                 </td></tr>\n",
       "\t<tr><th scope=row>purposeeducational</th><td>0                 </td><td>0                 </td><td>0                 </td><td>0                 </td><td>0                 </td><td>0                 </td></tr>\n",
       "\t<tr><th scope=row>purposehome_improvement</th><td>0                 </td><td>0                 </td><td>0                 </td><td>0                 </td><td>0                 </td><td>0                 </td></tr>\n",
       "\t<tr><th scope=row>purposemajor_purchase</th><td>0                 </td><td>0                 </td><td>0                 </td><td>0                 </td><td>0                 </td><td>0                 </td></tr>\n",
       "\t<tr><th scope=row>purposesmall_business</th><td>0                 </td><td>0                 </td><td>0                 </td><td>0                 </td><td>0                 </td><td>0                 </td></tr>\n",
       "</tbody>\n",
       "</table>\n"
      ],
      "text/latex": [
       "\\begin{tabular}{r|llllll}\n",
       "  & 1 & 2 & 3 & 4 & 5 & 6\\\\\n",
       "\\hline\n",
       "\tcredit.policy & 1                  & 1                  & 1                  & 1                  & 1                  & 1                 \\\\\n",
       "\tpurpose & debt\\_consolidation & credit\\_card        & debt\\_consolidation & debt\\_consolidation & credit\\_card        & credit\\_card       \\\\\n",
       "\tint.rate & 0.1189             & 0.1071             & 0.1357             & 0.1008             & 0.1426             & 0.0788            \\\\\n",
       "\tinstallment & 829.10             & 228.22             & 366.86             & 162.34             & 102.92             & 125.13            \\\\\n",
       "\tlog.annual.inc & 11.35041           & 11.08214           & 10.37349           & 11.35041           & 11.29973           & 11.90497          \\\\\n",
       "\tdti & 19.48              & 14.29              & 11.63              &  8.10              & 14.97              & 16.98             \\\\\n",
       "\tfico & 737                & 707                & 682                & 712                & 667                & 727               \\\\\n",
       "\tdays.with.cr.line & 5639.958           & 2760.000           & 4710.000           & 2699.958           & 4066.000           & 6120.042          \\\\\n",
       "\trevol.bal & 28854              & 33623              &  3511              & 33667              &  4740              & 50807             \\\\\n",
       "\trevol.util & 52.1               & 76.7               & 25.6               & 73.2               & 39.5               & 51.0              \\\\\n",
       "\tinq.last.6mths & 0                  & 0                  & 1                  & 1                  & 0                  & 0                 \\\\\n",
       "\tdelinq.2yrs & 0                  & 0                  & 0                  & 0                  & 1                  & 0                 \\\\\n",
       "\tpub.rec & 0                  & 0                  & 0                  & 0                  & 0                  & 0                 \\\\\n",
       "\tnot.fully.paid & 0                  & 0                  & 0                  & 0                  & 0                  & 0                 \\\\\n",
       "\tpurposeall\\_other & 0                  & 0                  & 0                  & 0                  & 0                  & 0                 \\\\\n",
       "\tpurposecredit\\_card & 0                  & 1                  & 0                  & 0                  & 1                  & 1                 \\\\\n",
       "\tpurposedebt\\_consolidation & 1                  & 0                  & 1                  & 1                  & 0                  & 0                 \\\\\n",
       "\tpurposeeducational & 0                  & 0                  & 0                  & 0                  & 0                  & 0                 \\\\\n",
       "\tpurposehome\\_improvement & 0                  & 0                  & 0                  & 0                  & 0                  & 0                 \\\\\n",
       "\tpurposemajor\\_purchase & 0                  & 0                  & 0                  & 0                  & 0                  & 0                 \\\\\n",
       "\tpurposesmall\\_business & 0                  & 0                  & 0                  & 0                  & 0                  & 0                 \\\\\n",
       "\\end{tabular}\n"
      ],
      "text/markdown": [
       "\n",
       "| <!--/--> | 1 | 2 | 3 | 4 | 5 | 6 | \n",
       "|---|---|---|---|---|---|---|---|---|---|---|---|---|---|---|---|---|---|---|---|---|\n",
       "| credit.policy | 1                  | 1                  | 1                  | 1                  | 1                  | 1                  | \n",
       "| purpose | debt_consolidation | credit_card        | debt_consolidation | debt_consolidation | credit_card        | credit_card        | \n",
       "| int.rate | 0.1189             | 0.1071             | 0.1357             | 0.1008             | 0.1426             | 0.0788             | \n",
       "| installment | 829.10             | 228.22             | 366.86             | 162.34             | 102.92             | 125.13             | \n",
       "| log.annual.inc | 11.35041           | 11.08214           | 10.37349           | 11.35041           | 11.29973           | 11.90497           | \n",
       "| dti | 19.48              | 14.29              | 11.63              |  8.10              | 14.97              | 16.98              | \n",
       "| fico | 737                | 707                | 682                | 712                | 667                | 727                | \n",
       "| days.with.cr.line | 5639.958           | 2760.000           | 4710.000           | 2699.958           | 4066.000           | 6120.042           | \n",
       "| revol.bal | 28854              | 33623              |  3511              | 33667              |  4740              | 50807              | \n",
       "| revol.util | 52.1               | 76.7               | 25.6               | 73.2               | 39.5               | 51.0               | \n",
       "| inq.last.6mths | 0                  | 0                  | 1                  | 1                  | 0                  | 0                  | \n",
       "| delinq.2yrs | 0                  | 0                  | 0                  | 0                  | 1                  | 0                  | \n",
       "| pub.rec | 0                  | 0                  | 0                  | 0                  | 0                  | 0                  | \n",
       "| not.fully.paid | 0                  | 0                  | 0                  | 0                  | 0                  | 0                  | \n",
       "| purposeall_other | 0                  | 0                  | 0                  | 0                  | 0                  | 0                  | \n",
       "| purposecredit_card | 0                  | 1                  | 0                  | 0                  | 1                  | 1                  | \n",
       "| purposedebt_consolidation | 1                  | 0                  | 1                  | 1                  | 0                  | 0                  | \n",
       "| purposeeducational | 0                  | 0                  | 0                  | 0                  | 0                  | 0                  | \n",
       "| purposehome_improvement | 0                  | 0                  | 0                  | 0                  | 0                  | 0                  | \n",
       "| purposemajor_purchase | 0                  | 0                  | 0                  | 0                  | 0                  | 0                  | \n",
       "| purposesmall_business | 0                  | 0                  | 0                  | 0                  | 0                  | 0                  | \n",
       "\n",
       "\n"
      ],
      "text/plain": [
       "                          1                  2           3                 \n",
       "credit.policy             1                  1           1                 \n",
       "purpose                   debt_consolidation credit_card debt_consolidation\n",
       "int.rate                  0.1189             0.1071      0.1357            \n",
       "installment               829.10             228.22      366.86            \n",
       "log.annual.inc            11.35041           11.08214    10.37349          \n",
       "dti                       19.48              14.29       11.63             \n",
       "fico                      737                707         682               \n",
       "days.with.cr.line         5639.958           2760.000    4710.000          \n",
       "revol.bal                 28854              33623        3511             \n",
       "revol.util                52.1               76.7        25.6              \n",
       "inq.last.6mths            0                  0           1                 \n",
       "delinq.2yrs               0                  0           0                 \n",
       "pub.rec                   0                  0           0                 \n",
       "not.fully.paid            0                  0           0                 \n",
       "purposeall_other          0                  0           0                 \n",
       "purposecredit_card        0                  1           0                 \n",
       "purposedebt_consolidation 1                  0           1                 \n",
       "purposeeducational        0                  0           0                 \n",
       "purposehome_improvement   0                  0           0                 \n",
       "purposemajor_purchase     0                  0           0                 \n",
       "purposesmall_business     0                  0           0                 \n",
       "                          4                  5           6          \n",
       "credit.policy             1                  1           1          \n",
       "purpose                   debt_consolidation credit_card credit_card\n",
       "int.rate                  0.1008             0.1426      0.0788     \n",
       "installment               162.34             102.92      125.13     \n",
       "log.annual.inc            11.35041           11.29973    11.90497   \n",
       "dti                        8.10              14.97       16.98      \n",
       "fico                      712                667         727        \n",
       "days.with.cr.line         2699.958           4066.000    6120.042   \n",
       "revol.bal                 33667               4740       50807      \n",
       "revol.util                73.2               39.5        51.0       \n",
       "inq.last.6mths            1                  0           0          \n",
       "delinq.2yrs               0                  1           0          \n",
       "pub.rec                   0                  0           0          \n",
       "not.fully.paid            0                  0           0          \n",
       "purposeall_other          0                  0           0          \n",
       "purposecredit_card        0                  1           1          \n",
       "purposedebt_consolidation 1                  0           0          \n",
       "purposeeducational        0                  0           0          \n",
       "purposehome_improvement   0                  0           0          \n",
       "purposemajor_purchase     0                  0           0          \n",
       "purposesmall_business     0                  0           0          "
      ]
     },
     "metadata": {},
     "output_type": "display_data"
    }
   ],
   "source": [
    "t(head(loans_data))"
   ]
  },
  {
   "cell_type": "code",
   "execution_count": 6,
   "metadata": {
    "collapsed": true
   },
   "outputs": [],
   "source": [
    "# don't need the purpose column anymore\n",
    "loans_data$purpose <- NULL"
   ]
  },
  {
   "cell_type": "code",
   "execution_count": 7,
   "metadata": {},
   "outputs": [
    {
     "data": {
      "text/html": [
       "<table>\n",
       "<thead><tr><th></th><th scope=col>1</th><th scope=col>2</th><th scope=col>3</th><th scope=col>4</th><th scope=col>5</th><th scope=col>6</th></tr></thead>\n",
       "<tbody>\n",
       "\t<tr><th scope=row>credit.policy</th><td>    1.00000</td><td>    1.00000</td><td>   1.00000 </td><td>    1.00000</td><td>   1.00000 </td><td>    1.00000</td></tr>\n",
       "\t<tr><th scope=row>int.rate</th><td>    0.11890</td><td>    0.10710</td><td>   0.13570 </td><td>    0.10080</td><td>   0.14260 </td><td>    0.07880</td></tr>\n",
       "\t<tr><th scope=row>installment</th><td>  829.10000</td><td>  228.22000</td><td> 366.86000 </td><td>  162.34000</td><td> 102.92000 </td><td>  125.13000</td></tr>\n",
       "\t<tr><th scope=row>log.annual.inc</th><td>   11.35041</td><td>   11.08214</td><td>  10.37349 </td><td>   11.35041</td><td>  11.29973 </td><td>   11.90497</td></tr>\n",
       "\t<tr><th scope=row>dti</th><td>   19.48000</td><td>   14.29000</td><td>  11.63000 </td><td>    8.10000</td><td>  14.97000 </td><td>   16.98000</td></tr>\n",
       "\t<tr><th scope=row>fico</th><td>  737.00000</td><td>  707.00000</td><td> 682.00000 </td><td>  712.00000</td><td> 667.00000 </td><td>  727.00000</td></tr>\n",
       "\t<tr><th scope=row>days.with.cr.line</th><td> 5639.95833</td><td> 2760.00000</td><td>4710.00000 </td><td> 2699.95833</td><td>4066.00000 </td><td> 6120.04167</td></tr>\n",
       "\t<tr><th scope=row>revol.bal</th><td>28854.00000</td><td>33623.00000</td><td>3511.00000 </td><td>33667.00000</td><td>4740.00000 </td><td>50807.00000</td></tr>\n",
       "\t<tr><th scope=row>revol.util</th><td>   52.10000</td><td>   76.70000</td><td>  25.60000 </td><td>   73.20000</td><td>  39.50000 </td><td>   51.00000</td></tr>\n",
       "\t<tr><th scope=row>inq.last.6mths</th><td>    0.00000</td><td>    0.00000</td><td>   1.00000 </td><td>    1.00000</td><td>   0.00000 </td><td>    0.00000</td></tr>\n",
       "\t<tr><th scope=row>delinq.2yrs</th><td>    0.00000</td><td>    0.00000</td><td>   0.00000 </td><td>    0.00000</td><td>   1.00000 </td><td>    0.00000</td></tr>\n",
       "\t<tr><th scope=row>pub.rec</th><td>    0.00000</td><td>    0.00000</td><td>   0.00000 </td><td>    0.00000</td><td>   0.00000 </td><td>    0.00000</td></tr>\n",
       "\t<tr><th scope=row>not.fully.paid</th><td>    0.00000</td><td>    0.00000</td><td>   0.00000 </td><td>    0.00000</td><td>   0.00000 </td><td>    0.00000</td></tr>\n",
       "\t<tr><th scope=row>purposeall_other</th><td>    0.00000</td><td>    0.00000</td><td>   0.00000 </td><td>    0.00000</td><td>   0.00000 </td><td>    0.00000</td></tr>\n",
       "\t<tr><th scope=row>purposecredit_card</th><td>    0.00000</td><td>    1.00000</td><td>   0.00000 </td><td>    0.00000</td><td>   1.00000 </td><td>    1.00000</td></tr>\n",
       "\t<tr><th scope=row>purposedebt_consolidation</th><td>    1.00000</td><td>    0.00000</td><td>   1.00000 </td><td>    1.00000</td><td>   0.00000 </td><td>    0.00000</td></tr>\n",
       "\t<tr><th scope=row>purposeeducational</th><td>    0.00000</td><td>    0.00000</td><td>   0.00000 </td><td>    0.00000</td><td>   0.00000 </td><td>    0.00000</td></tr>\n",
       "\t<tr><th scope=row>purposehome_improvement</th><td>    0.00000</td><td>    0.00000</td><td>   0.00000 </td><td>    0.00000</td><td>   0.00000 </td><td>    0.00000</td></tr>\n",
       "\t<tr><th scope=row>purposemajor_purchase</th><td>    0.00000</td><td>    0.00000</td><td>   0.00000 </td><td>    0.00000</td><td>   0.00000 </td><td>    0.00000</td></tr>\n",
       "\t<tr><th scope=row>purposesmall_business</th><td>    0.00000</td><td>    0.00000</td><td>   0.00000 </td><td>    0.00000</td><td>   0.00000 </td><td>    0.00000</td></tr>\n",
       "</tbody>\n",
       "</table>\n"
      ],
      "text/latex": [
       "\\begin{tabular}{r|llllll}\n",
       "  & 1 & 2 & 3 & 4 & 5 & 6\\\\\n",
       "\\hline\n",
       "\tcredit.policy &     1.00000 &     1.00000 &    1.00000  &     1.00000 &    1.00000  &     1.00000\\\\\n",
       "\tint.rate &     0.11890 &     0.10710 &    0.13570  &     0.10080 &    0.14260  &     0.07880\\\\\n",
       "\tinstallment &   829.10000 &   228.22000 &  366.86000  &   162.34000 &  102.92000  &   125.13000\\\\\n",
       "\tlog.annual.inc &    11.35041 &    11.08214 &   10.37349  &    11.35041 &   11.29973  &    11.90497\\\\\n",
       "\tdti &    19.48000 &    14.29000 &   11.63000  &     8.10000 &   14.97000  &    16.98000\\\\\n",
       "\tfico &   737.00000 &   707.00000 &  682.00000  &   712.00000 &  667.00000  &   727.00000\\\\\n",
       "\tdays.with.cr.line &  5639.95833 &  2760.00000 & 4710.00000  &  2699.95833 & 4066.00000  &  6120.04167\\\\\n",
       "\trevol.bal & 28854.00000 & 33623.00000 & 3511.00000  & 33667.00000 & 4740.00000  & 50807.00000\\\\\n",
       "\trevol.util &    52.10000 &    76.70000 &   25.60000  &    73.20000 &   39.50000  &    51.00000\\\\\n",
       "\tinq.last.6mths &     0.00000 &     0.00000 &    1.00000  &     1.00000 &    0.00000  &     0.00000\\\\\n",
       "\tdelinq.2yrs &     0.00000 &     0.00000 &    0.00000  &     0.00000 &    1.00000  &     0.00000\\\\\n",
       "\tpub.rec &     0.00000 &     0.00000 &    0.00000  &     0.00000 &    0.00000  &     0.00000\\\\\n",
       "\tnot.fully.paid &     0.00000 &     0.00000 &    0.00000  &     0.00000 &    0.00000  &     0.00000\\\\\n",
       "\tpurposeall\\_other &     0.00000 &     0.00000 &    0.00000  &     0.00000 &    0.00000  &     0.00000\\\\\n",
       "\tpurposecredit\\_card &     0.00000 &     1.00000 &    0.00000  &     0.00000 &    1.00000  &     1.00000\\\\\n",
       "\tpurposedebt\\_consolidation &     1.00000 &     0.00000 &    1.00000  &     1.00000 &    0.00000  &     0.00000\\\\\n",
       "\tpurposeeducational &     0.00000 &     0.00000 &    0.00000  &     0.00000 &    0.00000  &     0.00000\\\\\n",
       "\tpurposehome\\_improvement &     0.00000 &     0.00000 &    0.00000  &     0.00000 &    0.00000  &     0.00000\\\\\n",
       "\tpurposemajor\\_purchase &     0.00000 &     0.00000 &    0.00000  &     0.00000 &    0.00000  &     0.00000\\\\\n",
       "\tpurposesmall\\_business &     0.00000 &     0.00000 &    0.00000  &     0.00000 &    0.00000  &     0.00000\\\\\n",
       "\\end{tabular}\n"
      ],
      "text/markdown": [
       "\n",
       "| <!--/--> | 1 | 2 | 3 | 4 | 5 | 6 | \n",
       "|---|---|---|---|---|---|---|---|---|---|---|---|---|---|---|---|---|---|---|---|\n",
       "| credit.policy |     1.00000 |     1.00000 |    1.00000  |     1.00000 |    1.00000  |     1.00000 | \n",
       "| int.rate |     0.11890 |     0.10710 |    0.13570  |     0.10080 |    0.14260  |     0.07880 | \n",
       "| installment |   829.10000 |   228.22000 |  366.86000  |   162.34000 |  102.92000  |   125.13000 | \n",
       "| log.annual.inc |    11.35041 |    11.08214 |   10.37349  |    11.35041 |   11.29973  |    11.90497 | \n",
       "| dti |    19.48000 |    14.29000 |   11.63000  |     8.10000 |   14.97000  |    16.98000 | \n",
       "| fico |   737.00000 |   707.00000 |  682.00000  |   712.00000 |  667.00000  |   727.00000 | \n",
       "| days.with.cr.line |  5639.95833 |  2760.00000 | 4710.00000  |  2699.95833 | 4066.00000  |  6120.04167 | \n",
       "| revol.bal | 28854.00000 | 33623.00000 | 3511.00000  | 33667.00000 | 4740.00000  | 50807.00000 | \n",
       "| revol.util |    52.10000 |    76.70000 |   25.60000  |    73.20000 |   39.50000  |    51.00000 | \n",
       "| inq.last.6mths |     0.00000 |     0.00000 |    1.00000  |     1.00000 |    0.00000  |     0.00000 | \n",
       "| delinq.2yrs |     0.00000 |     0.00000 |    0.00000  |     0.00000 |    1.00000  |     0.00000 | \n",
       "| pub.rec |     0.00000 |     0.00000 |    0.00000  |     0.00000 |    0.00000  |     0.00000 | \n",
       "| not.fully.paid |     0.00000 |     0.00000 |    0.00000  |     0.00000 |    0.00000  |     0.00000 | \n",
       "| purposeall_other |     0.00000 |     0.00000 |    0.00000  |     0.00000 |    0.00000  |     0.00000 | \n",
       "| purposecredit_card |     0.00000 |     1.00000 |    0.00000  |     0.00000 |    1.00000  |     1.00000 | \n",
       "| purposedebt_consolidation |     1.00000 |     0.00000 |    1.00000  |     1.00000 |    0.00000  |     0.00000 | \n",
       "| purposeeducational |     0.00000 |     0.00000 |    0.00000  |     0.00000 |    0.00000  |     0.00000 | \n",
       "| purposehome_improvement |     0.00000 |     0.00000 |    0.00000  |     0.00000 |    0.00000  |     0.00000 | \n",
       "| purposemajor_purchase |     0.00000 |     0.00000 |    0.00000  |     0.00000 |    0.00000  |     0.00000 | \n",
       "| purposesmall_business |     0.00000 |     0.00000 |    0.00000  |     0.00000 |    0.00000  |     0.00000 | \n",
       "\n",
       "\n"
      ],
      "text/plain": [
       "                          1           2           3          4          \n",
       "credit.policy                 1.00000     1.00000    1.00000     1.00000\n",
       "int.rate                      0.11890     0.10710    0.13570     0.10080\n",
       "installment                 829.10000   228.22000  366.86000   162.34000\n",
       "log.annual.inc               11.35041    11.08214   10.37349    11.35041\n",
       "dti                          19.48000    14.29000   11.63000     8.10000\n",
       "fico                        737.00000   707.00000  682.00000   712.00000\n",
       "days.with.cr.line          5639.95833  2760.00000 4710.00000  2699.95833\n",
       "revol.bal                 28854.00000 33623.00000 3511.00000 33667.00000\n",
       "revol.util                   52.10000    76.70000   25.60000    73.20000\n",
       "inq.last.6mths                0.00000     0.00000    1.00000     1.00000\n",
       "delinq.2yrs                   0.00000     0.00000    0.00000     0.00000\n",
       "pub.rec                       0.00000     0.00000    0.00000     0.00000\n",
       "not.fully.paid                0.00000     0.00000    0.00000     0.00000\n",
       "purposeall_other              0.00000     0.00000    0.00000     0.00000\n",
       "purposecredit_card            0.00000     1.00000    0.00000     0.00000\n",
       "purposedebt_consolidation     1.00000     0.00000    1.00000     1.00000\n",
       "purposeeducational            0.00000     0.00000    0.00000     0.00000\n",
       "purposehome_improvement       0.00000     0.00000    0.00000     0.00000\n",
       "purposemajor_purchase         0.00000     0.00000    0.00000     0.00000\n",
       "purposesmall_business         0.00000     0.00000    0.00000     0.00000\n",
       "                          5          6          \n",
       "credit.policy                1.00000     1.00000\n",
       "int.rate                     0.14260     0.07880\n",
       "installment                102.92000   125.13000\n",
       "log.annual.inc              11.29973    11.90497\n",
       "dti                         14.97000    16.98000\n",
       "fico                       667.00000   727.00000\n",
       "days.with.cr.line         4066.00000  6120.04167\n",
       "revol.bal                 4740.00000 50807.00000\n",
       "revol.util                  39.50000    51.00000\n",
       "inq.last.6mths               0.00000     0.00000\n",
       "delinq.2yrs                  1.00000     0.00000\n",
       "pub.rec                      0.00000     0.00000\n",
       "not.fully.paid               0.00000     0.00000\n",
       "purposeall_other             0.00000     0.00000\n",
       "purposecredit_card           1.00000     1.00000\n",
       "purposedebt_consolidation    0.00000     0.00000\n",
       "purposeeducational           0.00000     0.00000\n",
       "purposehome_improvement      0.00000     0.00000\n",
       "purposemajor_purchase        0.00000     0.00000\n",
       "purposesmall_business        0.00000     0.00000"
      ]
     },
     "metadata": {},
     "output_type": "display_data"
    }
   ],
   "source": [
    "t(head(loans_data))"
   ]
  },
  {
   "cell_type": "code",
   "execution_count": 8,
   "metadata": {},
   "outputs": [
    {
     "data": {
      "text/html": [
       "<table>\n",
       "<thead><tr><th scope=col>not.fully.paid</th><th scope=col>freq</th></tr></thead>\n",
       "<tbody>\n",
       "\t<tr><td>0   </td><td>8045</td></tr>\n",
       "\t<tr><td>1   </td><td>1533</td></tr>\n",
       "</tbody>\n",
       "</table>\n"
      ],
      "text/latex": [
       "\\begin{tabular}{r|ll}\n",
       " not.fully.paid & freq\\\\\n",
       "\\hline\n",
       "\t 0    & 8045\\\\\n",
       "\t 1    & 1533\\\\\n",
       "\\end{tabular}\n"
      ],
      "text/markdown": [
       "\n",
       "not.fully.paid | freq | \n",
       "|---|---|\n",
       "| 0    | 8045 | \n",
       "| 1    | 1533 | \n",
       "\n",
       "\n"
      ],
      "text/plain": [
       "  not.fully.paid freq\n",
       "1 0              8045\n",
       "2 1              1533"
      ]
     },
     "metadata": {},
     "output_type": "display_data"
    }
   ],
   "source": [
    "library(plyr)\n",
    "\n",
    "paidFreq <- count(loans_data, \"not.fully.paid\")\n",
    "paidFreq"
   ]
  },
  {
   "cell_type": "code",
   "execution_count": 9,
   "metadata": {},
   "outputs": [
    {
     "data": {
      "text/html": [
       "'Not fully paid: 1533'"
      ],
      "text/latex": [
       "'Not fully paid: 1533'"
      ],
      "text/markdown": [
       "'Not fully paid: 1533'"
      ],
      "text/plain": [
       "[1] \"Not fully paid: 1533\""
      ]
     },
     "metadata": {},
     "output_type": "display_data"
    },
    {
     "data": {
      "text/html": [
       "'Fully paid: 8045'"
      ],
      "text/latex": [
       "'Fully paid: 8045'"
      ],
      "text/markdown": [
       "'Fully paid: 8045'"
      ],
      "text/plain": [
       "[1] \"Fully paid: 8045\""
      ]
     },
     "metadata": {},
     "output_type": "display_data"
    },
    {
     "data": {
      "text/html": [
       "<span style=white-space:pre-wrap>'Not Fully Paid : Fully Paid =  0.190553138595401'</span>"
      ],
      "text/latex": [
       "'Not Fully Paid : Fully Paid =  0.190553138595401'"
      ],
      "text/markdown": [
       "<span style=white-space:pre-wrap>'Not Fully Paid : Fully Paid =  0.190553138595401'</span>"
      ],
      "text/plain": [
       "[1] \"Not Fully Paid : Fully Paid =  0.190553138595401\""
      ]
     },
     "metadata": {},
     "output_type": "display_data"
    }
   ],
   "source": [
    "notPaid <- paidFreq$freq[paidFreq$not.fully.paid == 1]\n",
    "Paid <- paidFreq$freq[paidFreq$not.fully.paid == 0]\n",
    "\n",
    "paste(\"Not fully paid:\", notPaid)\n",
    "paste(\"Fully paid:\", Paid)\n",
    "paste(\"Not Fully Paid : Fully Paid = \", notPaid/Paid)"
   ]
  },
  {
   "cell_type": "code",
   "execution_count": 10,
   "metadata": {
    "collapsed": true
   },
   "outputs": [],
   "source": [
    "library(caTools)\n",
    "\n",
    "split <- sample.split(loans_data$not.fully.paid,\n",
    "                         SplitRatio = 0.70)\n",
    "\n",
    "train_data <- subset(loans_data, split == TRUE)\n",
    "test_data <- subset(loans_data, split == FALSE)"
   ]
  },
  {
   "cell_type": "code",
   "execution_count": 11,
   "metadata": {},
   "outputs": [
    {
     "data": {
      "text/html": [
       "<ol class=list-inline>\n",
       "\t<li>6705</li>\n",
       "\t<li>20</li>\n",
       "</ol>\n"
      ],
      "text/latex": [
       "\\begin{enumerate*}\n",
       "\\item 6705\n",
       "\\item 20\n",
       "\\end{enumerate*}\n"
      ],
      "text/markdown": [
       "1. 6705\n",
       "2. 20\n",
       "\n",
       "\n"
      ],
      "text/plain": [
       "[1] 6705   20"
      ]
     },
     "metadata": {},
     "output_type": "display_data"
    }
   ],
   "source": [
    "dim(train_data)"
   ]
  },
  {
   "cell_type": "code",
   "execution_count": 12,
   "metadata": {},
   "outputs": [
    {
     "data": {
      "text/html": [
       "<ol class=list-inline>\n",
       "\t<li>2873</li>\n",
       "\t<li>20</li>\n",
       "</ol>\n"
      ],
      "text/latex": [
       "\\begin{enumerate*}\n",
       "\\item 2873\n",
       "\\item 20\n",
       "\\end{enumerate*}\n"
      ],
      "text/markdown": [
       "1. 2873\n",
       "2. 20\n",
       "\n",
       "\n"
      ],
      "text/plain": [
       "[1] 2873   20"
      ]
     },
     "metadata": {},
     "output_type": "display_data"
    }
   ],
   "source": [
    "dim(test_data)"
   ]
  },
  {
   "cell_type": "code",
   "execution_count": 13,
   "metadata": {},
   "outputs": [
    {
     "data": {
      "text/plain": [
       "\n",
       "Call:\n",
       "glm(formula = not.fully.paid ~ ., family = binomial, data = loans_data)\n",
       "\n",
       "Deviance Residuals: \n",
       "    Min       1Q   Median       3Q      Max  \n",
       "-2.2956  -0.6177  -0.4970  -0.3676   2.6118  \n",
       "\n",
       "Coefficients: (1 not defined because of singularities)\n",
       "                            Estimate Std. Error z value Pr(>|z|)    \n",
       "(Intercept)                9.126e+00  1.312e+00   6.954 3.54e-12 ***\n",
       "credit.policy             -3.289e-01  8.419e-02  -3.906 9.37e-05 ***\n",
       "int.rate                   1.534e+00  1.727e+00   0.888  0.37461    \n",
       "installment                1.208e-03  1.750e-04   6.900 5.18e-12 ***\n",
       "log.annual.inc            -4.093e-01  5.959e-02  -6.869 6.47e-12 ***\n",
       "dti                       -3.235e-04  4.579e-03  -0.071  0.94368    \n",
       "fico                      -9.002e-03  1.421e-03  -6.337 2.34e-10 ***\n",
       "days.with.cr.line          1.303e-05  1.330e-05   0.979  0.32735    \n",
       "revol.bal                  3.026e-06  9.505e-07   3.184  0.00145 ** \n",
       "revol.util                 2.401e-03  1.277e-03   1.880  0.06012 .  \n",
       "inq.last.6mths             8.662e-02  1.371e-02   6.316 2.69e-10 ***\n",
       "delinq.2yrs               -8.808e-02  5.552e-02  -1.586  0.11267    \n",
       "pub.rec                    2.469e-01  9.743e-02   2.534  0.01126 *  \n",
       "purposeall_other          -5.376e-01  1.169e-01  -4.599 4.25e-06 ***\n",
       "purposecredit_card        -1.070e+00  1.369e-01  -7.816 5.44e-15 ***\n",
       "purposedebt_consolidation -8.748e-01  1.115e-01  -7.843 4.41e-15 ***\n",
       "purposeeducational        -4.696e-01  1.746e-01  -2.690  0.00715 ** \n",
       "purposehome_improvement   -4.445e-01  1.479e-01  -3.005  0.00266 ** \n",
       "purposemajor_purchase     -8.908e-01  1.855e-01  -4.801 1.58e-06 ***\n",
       "purposesmall_business             NA         NA      NA       NA    \n",
       "---\n",
       "Signif. codes:  0 '***' 0.001 '**' 0.01 '*' 0.05 '.' 0.1 ' ' 1\n",
       "\n",
       "(Dispersion parameter for binomial family taken to be 1)\n",
       "\n",
       "    Null deviance: 8424.0  on 9577  degrees of freedom\n",
       "Residual deviance: 7852.6  on 9559  degrees of freedom\n",
       "AIC: 7890.6\n",
       "\n",
       "Number of Fisher Scoring iterations: 5\n"
      ]
     },
     "metadata": {},
     "output_type": "display_data"
    }
   ],
   "source": [
    "log1 <- glm(not.fully.paid ~ .,\n",
    "               data = loans_data,\n",
    "               family = binomial)\n",
    "\n",
    "summary(log1)"
   ]
  },
  {
   "cell_type": "code",
   "execution_count": 14,
   "metadata": {},
   "outputs": [
    {
     "data": {
      "text/plain": [
       "\n",
       "Call:\n",
       "glm(formula = not.fully.paid ~ credit.policy + installment + \n",
       "    log.annual.inc + fico + revol.bal + inq.last.6mths + pub.rec, \n",
       "    family = binomial, data = train_data)\n",
       "\n",
       "Deviance Residuals: \n",
       "    Min       1Q   Median       3Q      Max  \n",
       "-2.1590  -0.6104  -0.5034  -0.3781   2.5621  \n",
       "\n",
       "Coefficients:\n",
       "                 Estimate Std. Error z value Pr(>|z|)    \n",
       "(Intercept)     8.972e+00  1.011e+00   8.872  < 2e-16 ***\n",
       "credit.policy  -3.908e-01  1.003e-01  -3.898 9.71e-05 ***\n",
       "installment     1.247e-03  1.856e-04   6.718 1.84e-11 ***\n",
       "log.annual.inc -4.026e-01  6.864e-02  -5.866 4.45e-09 ***\n",
       "fico           -9.426e-03  1.093e-03  -8.625  < 2e-16 ***\n",
       "revol.bal       4.256e-06  1.126e-06   3.781 0.000156 ***\n",
       "inq.last.6mths  1.040e-01  1.664e-02   6.250 4.11e-10 ***\n",
       "pub.rec         2.594e-01  1.147e-01   2.262 0.023689 *  \n",
       "---\n",
       "Signif. codes:  0 '***' 0.001 '**' 0.01 '*' 0.05 '.' 0.1 ' ' 1\n",
       "\n",
       "(Dispersion parameter for binomial family taken to be 1)\n",
       "\n",
       "    Null deviance: 5896.6  on 6704  degrees of freedom\n",
       "Residual deviance: 5527.2  on 6697  degrees of freedom\n",
       "AIC: 5543.2\n",
       "\n",
       "Number of Fisher Scoring iterations: 5\n"
      ]
     },
     "metadata": {},
     "output_type": "display_data"
    }
   ],
   "source": [
    "predict_train1 <- glm(not.fully.paid ~ credit.policy + installment + log.annual.inc + \n",
    "                    fico + revol.bal + inq.last.6mths + pub.rec,\n",
    "                    data = train_data,\n",
    "                    family = binomial)\n",
    "\n",
    "summary(predict_train1)"
   ]
  },
  {
   "cell_type": "code",
   "execution_count": 15,
   "metadata": {},
   "outputs": [
    {
     "data": {
      "text/html": [
       "<dl class=dl-horizontal>\n",
       "\t<dt>2</dt>\n",
       "\t\t<dd>0.107452721901069</dd>\n",
       "\t<dt>5</dt>\n",
       "\t\t<dd>0.108439785261454</dd>\n",
       "\t<dt>8</dt>\n",
       "\t\t<dd>0.0841579415106314</dd>\n",
       "\t<dt>10</dt>\n",
       "\t\t<dd>0.123672371243184</dd>\n",
       "\t<dt>11</dt>\n",
       "\t\t<dd>0.263994248747547</dd>\n",
       "\t<dt>12</dt>\n",
       "\t\t<dd>0.13265163254752</dd>\n",
       "\t<dt>13</dt>\n",
       "\t\t<dd>0.0672164703285117</dd>\n",
       "\t<dt>19</dt>\n",
       "\t\t<dd>0.16935113988186</dd>\n",
       "\t<dt>23</dt>\n",
       "\t\t<dd>0.144242147048037</dd>\n",
       "\t<dt>25</dt>\n",
       "\t\t<dd>0.166715113585278</dd>\n",
       "</dl>\n"
      ],
      "text/latex": [
       "\\begin{description*}\n",
       "\\item[2] 0.107452721901069\n",
       "\\item[5] 0.108439785261454\n",
       "\\item[8] 0.0841579415106314\n",
       "\\item[10] 0.123672371243184\n",
       "\\item[11] 0.263994248747547\n",
       "\\item[12] 0.13265163254752\n",
       "\\item[13] 0.0672164703285117\n",
       "\\item[19] 0.16935113988186\n",
       "\\item[23] 0.144242147048037\n",
       "\\item[25] 0.166715113585278\n",
       "\\end{description*}\n"
      ],
      "text/markdown": [
       "2\n",
       ":   0.1074527219010695\n",
       ":   0.1084397852614548\n",
       ":   0.084157941510631410\n",
       ":   0.12367237124318411\n",
       ":   0.26399424874754712\n",
       ":   0.1326516325475213\n",
       ":   0.067216470328511719\n",
       ":   0.1693511398818623\n",
       ":   0.14424214704803725\n",
       ":   0.166715113585278\n",
       "\n"
      ],
      "text/plain": [
       "         2          5          8         10         11         12         13 \n",
       "0.10745272 0.10843979 0.08415794 0.12367237 0.26399425 0.13265163 0.06721647 \n",
       "        19         23         25 \n",
       "0.16935114 0.14424215 0.16671511 "
      ]
     },
     "metadata": {},
     "output_type": "display_data"
    }
   ],
   "source": [
    "predicted.risk <- predict(predict_train1, \n",
    "                             type = \"response\",\n",
    "                             newdata = test_data)\n",
    "\n",
    "predicted.risk[0:10]"
   ]
  },
  {
   "cell_type": "code",
   "execution_count": 16,
   "metadata": {},
   "outputs": [
    {
     "data": {
      "text/plain": [
       "   preds\n",
       "       0    1\n",
       "  0 2398   15\n",
       "  1  452    8"
      ]
     },
     "metadata": {},
     "output_type": "display_data"
    }
   ],
   "source": [
    "preds <- ifelse(predicted.risk > 0.5, 1, 0)\n",
    "table(test_data$not.fully.paid, preds)"
   ]
  },
  {
   "cell_type": "code",
   "execution_count": 17,
   "metadata": {},
   "outputs": [
    {
     "data": {
      "text/html": [
       "'Accuracy 0.837452140619561'"
      ],
      "text/latex": [
       "'Accuracy 0.837452140619561'"
      ],
      "text/markdown": [
       "'Accuracy 0.837452140619561'"
      ],
      "text/plain": [
       "[1] \"Accuracy 0.837452140619561\""
      ]
     },
     "metadata": {},
     "output_type": "display_data"
    },
    {
     "data": {
      "text/html": [
       "'0.837452140619561'"
      ],
      "text/latex": [
       "'0.837452140619561'"
      ],
      "text/markdown": [
       "'0.837452140619561'"
      ],
      "text/plain": [
       "[1] \"0.837452140619561\""
      ]
     },
     "metadata": {},
     "output_type": "display_data"
    }
   ],
   "source": [
    "misClassify <- mean(preds != test_data$not.fully.paid)\n",
    "paste(\"Accuracy\", 1 - misClassify)\n",
    "\n",
    "# OR....\n",
    "\n",
    "manual <- (2397 + 9) / (2397 + 16 + 451 + 9)\n",
    "paste(manual)"
   ]
  },
  {
   "cell_type": "code",
   "execution_count": 20,
   "metadata": {},
   "outputs": [
    {
     "data": {
      "text/html": [
       "'baseline accuracy: 0.839945708916266'"
      ],
      "text/latex": [
       "'baseline accuracy: 0.839945708916266'"
      ],
      "text/markdown": [
       "'baseline accuracy: 0.839945708916266'"
      ],
      "text/plain": [
       "[1] \"baseline accuracy: 0.839945708916266\""
      ]
     },
     "metadata": {},
     "output_type": "display_data"
    }
   ],
   "source": [
    "# It should predict 0 = Fully Paid all the time. The baseline accuracy is:\n",
    "\n",
    "paste(\"baseline accuracy:\", 8045/(8045 + 1533))"
   ]
  },
  {
   "cell_type": "code",
   "execution_count": 25,
   "metadata": {},
   "outputs": [
    {
     "data": {
      "text/html": [
       "'AUC: 0.64312780410458'"
      ],
      "text/latex": [
       "'AUC: 0.64312780410458'"
      ],
      "text/markdown": [
       "'AUC: 0.64312780410458'"
      ],
      "text/plain": [
       "[1] \"AUC: 0.64312780410458\""
      ]
     },
     "metadata": {},
     "output_type": "display_data"
    }
   ],
   "source": [
    "library(ROCR)\n",
    "\n",
    "\n",
    "r <- prediction(predicted.risk, test_data$not.fully.paid)\n",
    "auc <- as.numeric(performance(r, \"auc\")@y.values)\n",
    "paste(\"AUC:\", auc)"
   ]
  }
 ],
 "metadata": {
  "kernelspec": {
   "display_name": "R",
   "language": "R",
   "name": "ir"
  },
  "language_info": {
   "codemirror_mode": "r",
   "file_extension": ".r",
   "mimetype": "text/x-r-source",
   "name": "R",
   "pygments_lexer": "r",
   "version": "3.4.1"
  }
 },
 "nbformat": 4,
 "nbformat_minor": 2
}
