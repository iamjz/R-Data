{
 "cells": [
  {
   "cell_type": "markdown",
   "metadata": {},
   "source": [
    "# Summarizing Distributions\n",
    "\n",
    "We'll look into summarizing distributions using measures of central tendency and variability"
   ]
  },
  {
   "cell_type": "markdown",
   "metadata": {},
   "source": [
    "It's important to understand how a variable is distributed before using the variable to fit a model. Some of the basic summarizing metrics we will look into are measures of central tendency (mean, median, mode), measures of variability (standard deviation, variance) and percentiles"
   ]
  },
  {
   "cell_type": "code",
   "execution_count": 1,
   "metadata": {
    "collapsed": true
   },
   "outputs": [],
   "source": [
    "download.file(\"http://www.openintro.org/stat/data/bdims.RData\", destfile = \"bdims.RData\")\n",
    "load(\"bdims.RData\")"
   ]
  },
  {
   "cell_type": "code",
   "execution_count": 3,
   "metadata": {},
   "outputs": [
    {
     "data": {
      "text/html": [
       "<table>\n",
       "<thead><tr><th></th><th scope=col>1</th><th scope=col>2</th><th scope=col>3</th><th scope=col>4</th><th scope=col>5</th><th scope=col>6</th></tr></thead>\n",
       "<tbody>\n",
       "\t<tr><th scope=row>bia.di</th><td>42.9 </td><td>43.7 </td><td>40.1 </td><td>44.3 </td><td>42.5 </td><td>43.3 </td></tr>\n",
       "\t<tr><th scope=row>bii.di</th><td>26.0 </td><td>28.5 </td><td>28.2 </td><td>29.9 </td><td>29.9 </td><td>27.0 </td></tr>\n",
       "\t<tr><th scope=row>bit.di</th><td>31.5 </td><td>33.5 </td><td>33.3 </td><td>34.0 </td><td>34.0 </td><td>31.5 </td></tr>\n",
       "\t<tr><th scope=row>che.de</th><td>17.7 </td><td>16.9 </td><td>20.9 </td><td>18.4 </td><td>21.5 </td><td>19.6 </td></tr>\n",
       "\t<tr><th scope=row>che.di</th><td>28.0 </td><td>30.8 </td><td>31.7 </td><td>28.2 </td><td>29.4 </td><td>31.3 </td></tr>\n",
       "\t<tr><th scope=row>elb.di</th><td>13.1 </td><td>14.0 </td><td>13.9 </td><td>13.9 </td><td>15.2 </td><td>14.0 </td></tr>\n",
       "\t<tr><th scope=row>wri.di</th><td>10.4 </td><td>11.8 </td><td>10.9 </td><td>11.2 </td><td>11.6 </td><td>11.5 </td></tr>\n",
       "\t<tr><th scope=row>kne.di</th><td>18.8 </td><td>20.6 </td><td>19.7 </td><td>20.9 </td><td>20.7 </td><td>18.8 </td></tr>\n",
       "\t<tr><th scope=row>ank.di</th><td>14.1 </td><td>15.1 </td><td>14.1 </td><td>15.0 </td><td>14.9 </td><td>13.9 </td></tr>\n",
       "\t<tr><th scope=row>sho.gi</th><td>106.2</td><td>110.5</td><td>115.1</td><td>104.5</td><td>107.5</td><td>119.8</td></tr>\n",
       "\t<tr><th scope=row>che.gi</th><td>89.5 </td><td>97.0 </td><td>97.5 </td><td>97.0 </td><td>97.5 </td><td>99.9 </td></tr>\n",
       "\t<tr><th scope=row>wai.gi</th><td>71.5 </td><td>79.0 </td><td>83.2 </td><td>77.8 </td><td>80.0 </td><td>82.5 </td></tr>\n",
       "\t<tr><th scope=row>nav.gi</th><td>74.5 </td><td>86.5 </td><td>82.9 </td><td>78.8 </td><td>82.5 </td><td>80.1 </td></tr>\n",
       "\t<tr><th scope=row>hip.gi</th><td>93.5 </td><td>94.8 </td><td>95.0 </td><td>94.0 </td><td>98.5 </td><td>95.3 </td></tr>\n",
       "\t<tr><th scope=row>thi.gi</th><td>51.5 </td><td>51.5 </td><td>57.3 </td><td>53.0 </td><td>55.4 </td><td>57.5 </td></tr>\n",
       "\t<tr><th scope=row>bic.gi</th><td>32.5 </td><td>34.4 </td><td>33.4 </td><td>31.0 </td><td>32.0 </td><td>33.0 </td></tr>\n",
       "\t<tr><th scope=row>for.gi</th><td>26.0 </td><td>28.0 </td><td>28.8 </td><td>26.2 </td><td>28.4 </td><td>28.0 </td></tr>\n",
       "\t<tr><th scope=row>kne.gi</th><td>34.5 </td><td>36.5 </td><td>37.0 </td><td>37.0 </td><td>37.7 </td><td>36.6 </td></tr>\n",
       "\t<tr><th scope=row>cal.gi</th><td>36.5 </td><td>37.5 </td><td>37.3 </td><td>34.8 </td><td>38.6 </td><td>36.1 </td></tr>\n",
       "\t<tr><th scope=row>ank.gi</th><td>23.5 </td><td>24.5 </td><td>21.9 </td><td>23.0 </td><td>24.4 </td><td>23.5 </td></tr>\n",
       "\t<tr><th scope=row>wri.gi</th><td>16.5 </td><td>17.0 </td><td>16.9 </td><td>16.6 </td><td>18.0 </td><td>16.9 </td></tr>\n",
       "\t<tr><th scope=row>age</th><td>21   </td><td>23   </td><td>28   </td><td>23   </td><td>22   </td><td>21   </td></tr>\n",
       "\t<tr><th scope=row>wgt</th><td>65.6 </td><td>71.8 </td><td>80.7 </td><td>72.6 </td><td>78.8 </td><td>74.8 </td></tr>\n",
       "\t<tr><th scope=row>hgt</th><td>174.0</td><td>175.3</td><td>193.5</td><td>186.5</td><td>187.2</td><td>181.5</td></tr>\n",
       "\t<tr><th scope=row>sex</th><td>1    </td><td>1    </td><td>1    </td><td>1    </td><td>1    </td><td>1    </td></tr>\n",
       "</tbody>\n",
       "</table>\n"
      ],
      "text/latex": [
       "\\begin{tabular}{r|llllll}\n",
       "  & 1 & 2 & 3 & 4 & 5 & 6\\\\\n",
       "\\hline\n",
       "\tbia.di & 42.9  & 43.7  & 40.1  & 44.3  & 42.5  & 43.3 \\\\\n",
       "\tbii.di & 26.0  & 28.5  & 28.2  & 29.9  & 29.9  & 27.0 \\\\\n",
       "\tbit.di & 31.5  & 33.5  & 33.3  & 34.0  & 34.0  & 31.5 \\\\\n",
       "\tche.de & 17.7  & 16.9  & 20.9  & 18.4  & 21.5  & 19.6 \\\\\n",
       "\tche.di & 28.0  & 30.8  & 31.7  & 28.2  & 29.4  & 31.3 \\\\\n",
       "\telb.di & 13.1  & 14.0  & 13.9  & 13.9  & 15.2  & 14.0 \\\\\n",
       "\twri.di & 10.4  & 11.8  & 10.9  & 11.2  & 11.6  & 11.5 \\\\\n",
       "\tkne.di & 18.8  & 20.6  & 19.7  & 20.9  & 20.7  & 18.8 \\\\\n",
       "\tank.di & 14.1  & 15.1  & 14.1  & 15.0  & 14.9  & 13.9 \\\\\n",
       "\tsho.gi & 106.2 & 110.5 & 115.1 & 104.5 & 107.5 & 119.8\\\\\n",
       "\tche.gi & 89.5  & 97.0  & 97.5  & 97.0  & 97.5  & 99.9 \\\\\n",
       "\twai.gi & 71.5  & 79.0  & 83.2  & 77.8  & 80.0  & 82.5 \\\\\n",
       "\tnav.gi & 74.5  & 86.5  & 82.9  & 78.8  & 82.5  & 80.1 \\\\\n",
       "\thip.gi & 93.5  & 94.8  & 95.0  & 94.0  & 98.5  & 95.3 \\\\\n",
       "\tthi.gi & 51.5  & 51.5  & 57.3  & 53.0  & 55.4  & 57.5 \\\\\n",
       "\tbic.gi & 32.5  & 34.4  & 33.4  & 31.0  & 32.0  & 33.0 \\\\\n",
       "\tfor.gi & 26.0  & 28.0  & 28.8  & 26.2  & 28.4  & 28.0 \\\\\n",
       "\tkne.gi & 34.5  & 36.5  & 37.0  & 37.0  & 37.7  & 36.6 \\\\\n",
       "\tcal.gi & 36.5  & 37.5  & 37.3  & 34.8  & 38.6  & 36.1 \\\\\n",
       "\tank.gi & 23.5  & 24.5  & 21.9  & 23.0  & 24.4  & 23.5 \\\\\n",
       "\twri.gi & 16.5  & 17.0  & 16.9  & 16.6  & 18.0  & 16.9 \\\\\n",
       "\tage & 21    & 23    & 28    & 23    & 22    & 21   \\\\\n",
       "\twgt & 65.6  & 71.8  & 80.7  & 72.6  & 78.8  & 74.8 \\\\\n",
       "\thgt & 174.0 & 175.3 & 193.5 & 186.5 & 187.2 & 181.5\\\\\n",
       "\tsex & 1     & 1     & 1     & 1     & 1     & 1    \\\\\n",
       "\\end{tabular}\n"
      ],
      "text/markdown": [
       "\n",
       "| <!--/--> | 1 | 2 | 3 | 4 | 5 | 6 | \n",
       "|---|---|---|---|---|---|---|---|---|---|---|---|---|---|---|---|---|---|---|---|---|---|---|---|---|\n",
       "| bia.di | 42.9  | 43.7  | 40.1  | 44.3  | 42.5  | 43.3  | \n",
       "| bii.di | 26.0  | 28.5  | 28.2  | 29.9  | 29.9  | 27.0  | \n",
       "| bit.di | 31.5  | 33.5  | 33.3  | 34.0  | 34.0  | 31.5  | \n",
       "| che.de | 17.7  | 16.9  | 20.9  | 18.4  | 21.5  | 19.6  | \n",
       "| che.di | 28.0  | 30.8  | 31.7  | 28.2  | 29.4  | 31.3  | \n",
       "| elb.di | 13.1  | 14.0  | 13.9  | 13.9  | 15.2  | 14.0  | \n",
       "| wri.di | 10.4  | 11.8  | 10.9  | 11.2  | 11.6  | 11.5  | \n",
       "| kne.di | 18.8  | 20.6  | 19.7  | 20.9  | 20.7  | 18.8  | \n",
       "| ank.di | 14.1  | 15.1  | 14.1  | 15.0  | 14.9  | 13.9  | \n",
       "| sho.gi | 106.2 | 110.5 | 115.1 | 104.5 | 107.5 | 119.8 | \n",
       "| che.gi | 89.5  | 97.0  | 97.5  | 97.0  | 97.5  | 99.9  | \n",
       "| wai.gi | 71.5  | 79.0  | 83.2  | 77.8  | 80.0  | 82.5  | \n",
       "| nav.gi | 74.5  | 86.5  | 82.9  | 78.8  | 82.5  | 80.1  | \n",
       "| hip.gi | 93.5  | 94.8  | 95.0  | 94.0  | 98.5  | 95.3  | \n",
       "| thi.gi | 51.5  | 51.5  | 57.3  | 53.0  | 55.4  | 57.5  | \n",
       "| bic.gi | 32.5  | 34.4  | 33.4  | 31.0  | 32.0  | 33.0  | \n",
       "| for.gi | 26.0  | 28.0  | 28.8  | 26.2  | 28.4  | 28.0  | \n",
       "| kne.gi | 34.5  | 36.5  | 37.0  | 37.0  | 37.7  | 36.6  | \n",
       "| cal.gi | 36.5  | 37.5  | 37.3  | 34.8  | 38.6  | 36.1  | \n",
       "| ank.gi | 23.5  | 24.5  | 21.9  | 23.0  | 24.4  | 23.5  | \n",
       "| wri.gi | 16.5  | 17.0  | 16.9  | 16.6  | 18.0  | 16.9  | \n",
       "| age | 21    | 23    | 28    | 23    | 22    | 21    | \n",
       "| wgt | 65.6  | 71.8  | 80.7  | 72.6  | 78.8  | 74.8  | \n",
       "| hgt | 174.0 | 175.3 | 193.5 | 186.5 | 187.2 | 181.5 | \n",
       "| sex | 1     | 1     | 1     | 1     | 1     | 1     | \n",
       "\n",
       "\n"
      ],
      "text/plain": [
       "       1     2     3     4     5     6    \n",
       "bia.di 42.9  43.7  40.1  44.3  42.5  43.3 \n",
       "bii.di 26.0  28.5  28.2  29.9  29.9  27.0 \n",
       "bit.di 31.5  33.5  33.3  34.0  34.0  31.5 \n",
       "che.de 17.7  16.9  20.9  18.4  21.5  19.6 \n",
       "che.di 28.0  30.8  31.7  28.2  29.4  31.3 \n",
       "elb.di 13.1  14.0  13.9  13.9  15.2  14.0 \n",
       "wri.di 10.4  11.8  10.9  11.2  11.6  11.5 \n",
       "kne.di 18.8  20.6  19.7  20.9  20.7  18.8 \n",
       "ank.di 14.1  15.1  14.1  15.0  14.9  13.9 \n",
       "sho.gi 106.2 110.5 115.1 104.5 107.5 119.8\n",
       "che.gi 89.5  97.0  97.5  97.0  97.5  99.9 \n",
       "wai.gi 71.5  79.0  83.2  77.8  80.0  82.5 \n",
       "nav.gi 74.5  86.5  82.9  78.8  82.5  80.1 \n",
       "hip.gi 93.5  94.8  95.0  94.0  98.5  95.3 \n",
       "thi.gi 51.5  51.5  57.3  53.0  55.4  57.5 \n",
       "bic.gi 32.5  34.4  33.4  31.0  32.0  33.0 \n",
       "for.gi 26.0  28.0  28.8  26.2  28.4  28.0 \n",
       "kne.gi 34.5  36.5  37.0  37.0  37.7  36.6 \n",
       "cal.gi 36.5  37.5  37.3  34.8  38.6  36.1 \n",
       "ank.gi 23.5  24.5  21.9  23.0  24.4  23.5 \n",
       "wri.gi 16.5  17.0  16.9  16.6  18.0  16.9 \n",
       "age    21    23    28    23    22    21   \n",
       "wgt    65.6  71.8  80.7  72.6  78.8  74.8 \n",
       "hgt    174.0 175.3 193.5 186.5 187.2 181.5\n",
       "sex    1     1     1     1     1     1    "
      ]
     },
     "metadata": {},
     "output_type": "display_data"
    }
   ],
   "source": [
    "t(head(bdims))"
   ]
  },
  {
   "cell_type": "code",
   "execution_count": 4,
   "metadata": {
    "collapsed": true
   },
   "outputs": [],
   "source": [
    "male <- subset(bdims, sex == 1)\n",
    "female <- subset(bdims, sex == 0)"
   ]
  },
  {
   "cell_type": "code",
   "execution_count": 5,
   "metadata": {},
   "outputs": [
    {
     "data": {
      "text/html": [
       "177.745344129555"
      ],
      "text/latex": [
       "177.745344129555"
      ],
      "text/markdown": [
       "177.745344129555"
      ],
      "text/plain": [
       "[1] 177.7453"
      ]
     },
     "metadata": {},
     "output_type": "display_data"
    }
   ],
   "source": [
    "mean(male$hgt)"
   ]
  },
  {
   "cell_type": "code",
   "execution_count": 6,
   "metadata": {},
   "outputs": [
    {
     "data": {
      "text/html": [
       "177.8"
      ],
      "text/latex": [
       "177.8"
      ],
      "text/markdown": [
       "177.8"
      ],
      "text/plain": [
       "[1] 177.8"
      ]
     },
     "metadata": {},
     "output_type": "display_data"
    }
   ],
   "source": [
    "median(male$hgt)"
   ]
  },
  {
   "cell_type": "code",
   "execution_count": 7,
   "metadata": {},
   "outputs": [
    {
     "data": {
      "text/html": [
       "'mean: 177.745344129555'"
      ],
      "text/latex": [
       "'mean: 177.745344129555'"
      ],
      "text/markdown": [
       "'mean: 177.745344129555'"
      ],
      "text/plain": [
       "[1] \"mean: 177.745344129555\""
      ]
     },
     "metadata": {},
     "output_type": "display_data"
    }
   ],
   "source": [
    "paste('mean:', mean(male$hgt))"
   ]
  },
  {
   "cell_type": "code",
   "execution_count": 8,
   "metadata": {},
   "outputs": [
    {
     "data": {
      "text/html": [
       "'median: 177.8'"
      ],
      "text/latex": [
       "'median: 177.8'"
      ],
      "text/markdown": [
       "'median: 177.8'"
      ],
      "text/plain": [
       "[1] \"median: 177.8\""
      ]
     },
     "metadata": {},
     "output_type": "display_data"
    }
   ],
   "source": [
    "paste(\"median:\", median(male$hgt))"
   ]
  },
  {
   "cell_type": "markdown",
   "metadata": {},
   "source": [
    "## Measures of variability"
   ]
  },
  {
   "cell_type": "code",
   "execution_count": 18,
   "metadata": {},
   "outputs": [
    {
     "data": {
      "text/html": [
       "7.18362867342674"
      ],
      "text/latex": [
       "7.18362867342674"
      ],
      "text/markdown": [
       "7.18362867342674"
      ],
      "text/plain": [
       "[1] 7.183629"
      ]
     },
     "metadata": {},
     "output_type": "display_data"
    }
   ],
   "source": [
    "sd(male$hgt)"
   ]
  },
  {
   "cell_type": "code",
   "execution_count": 19,
   "metadata": {},
   "outputs": [
    {
     "data": {
      "text/html": [
       "51.6045209176788"
      ],
      "text/latex": [
       "51.6045209176788"
      ],
      "text/markdown": [
       "51.6045209176788"
      ],
      "text/plain": [
       "[1] 51.60452"
      ]
     },
     "metadata": {},
     "output_type": "display_data"
    }
   ],
   "source": [
    "var(male$hgt)"
   ]
  },
  {
   "cell_type": "code",
   "execution_count": 20,
   "metadata": {},
   "outputs": [
    {
     "data": {
      "text/html": [
       "<ol class=list-inline>\n",
       "\t<li>157.2</li>\n",
       "\t<li>198.1</li>\n",
       "</ol>\n"
      ],
      "text/latex": [
       "\\begin{enumerate*}\n",
       "\\item 157.2\n",
       "\\item 198.1\n",
       "\\end{enumerate*}\n"
      ],
      "text/markdown": [
       "1. 157.2\n",
       "2. 198.1\n",
       "\n",
       "\n"
      ],
      "text/plain": [
       "[1] 157.2 198.1"
      ]
     },
     "metadata": {},
     "output_type": "display_data"
    }
   ],
   "source": [
    "range(male$hgt)"
   ]
  },
  {
   "cell_type": "code",
   "execution_count": 15,
   "metadata": {},
   "outputs": [
    {
     "data": {
      "text/html": [
       "'standard deviation: 7.18362867342674'"
      ],
      "text/latex": [
       "'standard deviation: 7.18362867342674'"
      ],
      "text/markdown": [
       "'standard deviation: 7.18362867342674'"
      ],
      "text/plain": [
       "[1] \"standard deviation: 7.18362867342674\""
      ]
     },
     "metadata": {},
     "output_type": "display_data"
    }
   ],
   "source": [
    "paste(\"standard deviation:\", sd(male$hgt))"
   ]
  },
  {
   "cell_type": "code",
   "execution_count": 14,
   "metadata": {},
   "outputs": [
    {
     "data": {
      "text/html": [
       "51.6045209176788"
      ],
      "text/latex": [
       "51.6045209176788"
      ],
      "text/markdown": [
       "51.6045209176788"
      ],
      "text/plain": [
       "[1] 51.60452"
      ]
     },
     "metadata": {},
     "output_type": "display_data"
    }
   ],
   "source": [
    "var(male$hgt)"
   ]
  },
  {
   "cell_type": "code",
   "execution_count": 16,
   "metadata": {},
   "outputs": [
    {
     "data": {
      "text/html": [
       "'variance: 51.6045209176788'"
      ],
      "text/latex": [
       "'variance: 51.6045209176788'"
      ],
      "text/markdown": [
       "'variance: 51.6045209176788'"
      ],
      "text/plain": [
       "[1] \"variance: 51.6045209176788\""
      ]
     },
     "metadata": {},
     "output_type": "display_data"
    }
   ],
   "source": [
    "paste(\"variance:\", var(male$hgt))"
   ]
  },
  {
   "cell_type": "code",
   "execution_count": 17,
   "metadata": {},
   "outputs": [
    {
     "data": {
      "text/html": [
       "<ol class=list-inline>\n",
       "\t<li>'range: 157.2'</li>\n",
       "\t<li>'range: 198.1'</li>\n",
       "</ol>\n"
      ],
      "text/latex": [
       "\\begin{enumerate*}\n",
       "\\item 'range: 157.2'\n",
       "\\item 'range: 198.1'\n",
       "\\end{enumerate*}\n"
      ],
      "text/markdown": [
       "1. 'range: 157.2'\n",
       "2. 'range: 198.1'\n",
       "\n",
       "\n"
      ],
      "text/plain": [
       "[1] \"range: 157.2\" \"range: 198.1\""
      ]
     },
     "metadata": {},
     "output_type": "display_data"
    }
   ],
   "source": [
    "paste(\"range:\", range(male$hgt))"
   ]
  },
  {
   "cell_type": "markdown",
   "metadata": {},
   "source": [
    "## Percentiles\n",
    "\n",
    "A percentile is a measure indicating the value below which a given percentage of observations in a group of observations fall. For example - the 20th percentile is the value (or score) below which 20% of the observations may be found. "
   ]
  },
  {
   "cell_type": "code",
   "execution_count": 22,
   "metadata": {},
   "outputs": [
    {
     "data": {
      "text/html": [
       "<dl class=dl-horizontal>\n",
       "\t<dt>20%</dt>\n",
       "\t\t<dd>171.5</dd>\n",
       "\t<dt>40%</dt>\n",
       "\t\t<dd>175.94</dd>\n",
       "\t<dt>90%</dt>\n",
       "\t\t<dd>188</dd>\n",
       "\t<dt>99%</dt>\n",
       "\t\t<dd>193.27</dd>\n",
       "</dl>\n"
      ],
      "text/latex": [
       "\\begin{description*}\n",
       "\\item[20\\textbackslash{}\\%] 171.5\n",
       "\\item[40\\textbackslash{}\\%] 175.94\n",
       "\\item[90\\textbackslash{}\\%] 188\n",
       "\\item[99\\textbackslash{}\\%] 193.27\n",
       "\\end{description*}\n"
      ],
      "text/markdown": [
       "20%\n",
       ":   171.540%\n",
       ":   175.9490%\n",
       ":   18899%\n",
       ":   193.27\n",
       "\n"
      ],
      "text/plain": [
       "   20%    40%    90%    99% \n",
       "171.50 175.94 188.00 193.27 "
      ]
     },
     "metadata": {},
     "output_type": "display_data"
    }
   ],
   "source": [
    "quantile(male$hgt, c(0.20, 0.40, 0.90, 0.99))"
   ]
  },
  {
   "cell_type": "markdown",
   "metadata": {},
   "source": [
    "## Shapes of distribution - measure of center and measure of spread\n",
    "\n",
    "Understanding the shape of a distribution is an important part of any initial exploratory data analysis. Along with descriptive statistics like mean, standard deviation, skewness, etc, and using graphical techniques like histograms, understanding shape tells us which kind of probability density function to use to fit the model. Histograms provide information about multi-modal behavior, skewness, and behavior in tails. Here, were are just dealing with normal distributions of data. \n",
    "\n",
    "https://cran.r-project.org/doc/contrib/Ricci-distributions-en.pdf\n",
    "\n",
    "Let's generate some random samples for normal distribution using R and then plot histograms. Imagine we have a sample size of n = 200 from a normal population whose mean = 10 and standard deviation = 2.\n",
    "\n",
    "### Analyzing shape of distribution and measure of center"
   ]
  },
  {
   "cell_type": "code",
   "execution_count": 25,
   "metadata": {
    "collapsed": true
   },
   "outputs": [],
   "source": [
    "x.norm <- rnorm(n = 200, m = 10, sd = 2)"
   ]
  },
  {
   "cell_type": "code",
   "execution_count": 26,
   "metadata": {},
   "outputs": [
    {
     "data": {
      "text/html": [
       "<ol class=list-inline>\n",
       "\t<li>13.1695388359474</li>\n",
       "\t<li>9.82085340088785</li>\n",
       "\t<li>9.1142887588346</li>\n",
       "\t<li>9.45944890453403</li>\n",
       "\t<li>8.05537086284383</li>\n",
       "\t<li>14.4946100726603</li>\n",
       "\t<li>7.64286274032941</li>\n",
       "\t<li>9.59243610085449</li>\n",
       "\t<li>12.8528102386178</li>\n",
       "\t<li>11.8119886119754</li>\n",
       "\t<li>9.7220178465939</li>\n",
       "\t<li>11.7834051454425</li>\n",
       "\t<li>7.6414064397551</li>\n",
       "\t<li>7.10833237305654</li>\n",
       "\t<li>7.96732659343454</li>\n",
       "\t<li>5.95976868668354</li>\n",
       "\t<li>6.84083982744907</li>\n",
       "\t<li>11.4418958302293</li>\n",
       "\t<li>10.6429148208029</li>\n",
       "\t<li>9.16600061079977</li>\n",
       "\t<li>10.6477651177846</li>\n",
       "\t<li>13.5756851747525</li>\n",
       "\t<li>7.38829226708459</li>\n",
       "\t<li>7.82232319976833</li>\n",
       "\t<li>8.34137310260462</li>\n",
       "</ol>\n"
      ],
      "text/latex": [
       "\\begin{enumerate*}\n",
       "\\item 13.1695388359474\n",
       "\\item 9.82085340088785\n",
       "\\item 9.1142887588346\n",
       "\\item 9.45944890453403\n",
       "\\item 8.05537086284383\n",
       "\\item 14.4946100726603\n",
       "\\item 7.64286274032941\n",
       "\\item 9.59243610085449\n",
       "\\item 12.8528102386178\n",
       "\\item 11.8119886119754\n",
       "\\item 9.7220178465939\n",
       "\\item 11.7834051454425\n",
       "\\item 7.6414064397551\n",
       "\\item 7.10833237305654\n",
       "\\item 7.96732659343454\n",
       "\\item 5.95976868668354\n",
       "\\item 6.84083982744907\n",
       "\\item 11.4418958302293\n",
       "\\item 10.6429148208029\n",
       "\\item 9.16600061079977\n",
       "\\item 10.6477651177846\n",
       "\\item 13.5756851747525\n",
       "\\item 7.38829226708459\n",
       "\\item 7.82232319976833\n",
       "\\item 8.34137310260462\n",
       "\\end{enumerate*}\n"
      ],
      "text/markdown": [
       "1. 13.1695388359474\n",
       "2. 9.82085340088785\n",
       "3. 9.1142887588346\n",
       "4. 9.45944890453403\n",
       "5. 8.05537086284383\n",
       "6. 14.4946100726603\n",
       "7. 7.64286274032941\n",
       "8. 9.59243610085449\n",
       "9. 12.8528102386178\n",
       "10. 11.8119886119754\n",
       "11. 9.7220178465939\n",
       "12. 11.7834051454425\n",
       "13. 7.6414064397551\n",
       "14. 7.10833237305654\n",
       "15. 7.96732659343454\n",
       "16. 5.95976868668354\n",
       "17. 6.84083982744907\n",
       "18. 11.4418958302293\n",
       "19. 10.6429148208029\n",
       "20. 9.16600061079977\n",
       "21. 10.6477651177846\n",
       "22. 13.5756851747525\n",
       "23. 7.38829226708459\n",
       "24. 7.82232319976833\n",
       "25. 8.34137310260462\n",
       "\n",
       "\n"
      ],
      "text/plain": [
       " [1] 13.169539  9.820853  9.114289  9.459449  8.055371 14.494610  7.642863\n",
       " [8]  9.592436 12.852810 11.811989  9.722018 11.783405  7.641406  7.108332\n",
       "[15]  7.967327  5.959769  6.840840 11.441896 10.642915  9.166001 10.647765\n",
       "[22] 13.575685  7.388292  7.822323  8.341373"
      ]
     },
     "metadata": {},
     "output_type": "display_data"
    }
   ],
   "source": [
    "head(x.norm, 25)"
   ]
  },
  {
   "cell_type": "code",
   "execution_count": 29,
   "metadata": {},
   "outputs": [
    {
     "data": {
      "image/png": "[encoded data removed]",
      "text/plain": [
       "Plot with title \"Histogram of normal distribution\""
      ]
     },
     "metadata": {},
     "output_type": "display_data"
    }
   ],
   "source": [
    "# since the prob = TRUE, we will be plotting a density plot. \n",
    "# the y axis represents probability density of corresponding x values\n",
    "\n",
    "hist(x.norm, prob = TRUE, main = \"Histogram of normal distribution\")\n",
    "curve(dnorm(x, mean(x.norm), sd(x.norm)), add = TRUE, col = \"darkblue\", lwd = 2)\n",
    "\n",
    "# calculate the mean, median, and sd to show them on the graph\n",
    "mean_norm <- mean(x.norm)\n",
    "median_norm <- median(x.norm)\n",
    "sd_norm_pos <- mean(x.norm) + sd(x.norm) # positive first standard deviation\n",
    "sd_norm_neg <- mean(x.norm) - sd(x.norm) # negative first standard deviation\n",
    "\n",
    "# abline() draws a vertical line on the graph at the specified x value\n",
    "abline(v = mean_norm, col = \"blue\", lwd = 6) # draw a thick blue line at the sample mean value\n",
    "abline(v = median_norm, col = \"red\", lwd = 3) # draw a thinner red line for median. Notice it overlaps the mean\n",
    "\n",
    "# lines for positive and negative first standard deviation\n",
    "abline(v = sd_norm_pos, col = \"green\", lwd = 2)\n",
    "abline(v = sd_norm_neg, col = \"green\", lwd = 2)"
   ]
  },
  {
   "cell_type": "markdown",
   "metadata": {},
   "source": [
    "The histogram above represents a normal distribution of data with the mean lying around 10 and a standard deviation of 2. The data is aggregated close to the mean or the the center and is symmetric on both sides. "
   ]
  },
  {
   "cell_type": "code",
   "execution_count": 30,
   "metadata": {},
   "outputs": [
    {
     "data": {
      "text/html": [
       "'mean 10.1433990886898'"
      ],
      "text/latex": [
       "'mean 10.1433990886898'"
      ],
      "text/markdown": [
       "'mean 10.1433990886898'"
      ],
      "text/plain": [
       "[1] \"mean 10.1433990886898\""
      ]
     },
     "metadata": {},
     "output_type": "display_data"
    }
   ],
   "source": [
    "paste(\"mean\", mean(x.norm))"
   ]
  },
  {
   "cell_type": "code",
   "execution_count": 31,
   "metadata": {},
   "outputs": [
    {
     "data": {
      "text/html": [
       "'median 10.1624533801417'"
      ],
      "text/latex": [
       "'median 10.1624533801417'"
      ],
      "text/markdown": [
       "'median 10.1624533801417'"
      ],
      "text/plain": [
       "[1] \"median 10.1624533801417\""
      ]
     },
     "metadata": {},
     "output_type": "display_data"
    }
   ],
   "source": [
    "paste(\"median\", median(x.norm))"
   ]
  },
  {
   "cell_type": "code",
   "execution_count": 32,
   "metadata": {},
   "outputs": [
    {
     "data": {
      "text/html": [
       "'standard deviation 2.01209612722363'"
      ],
      "text/latex": [
       "'standard deviation 2.01209612722363'"
      ],
      "text/markdown": [
       "'standard deviation 2.01209612722363'"
      ],
      "text/plain": [
       "[1] \"standard deviation 2.01209612722363\""
      ]
     },
     "metadata": {},
     "output_type": "display_data"
    }
   ],
   "source": [
    "paste(\"standard deviation\", sd(x.norm))"
   ]
  },
  {
   "cell_type": "markdown",
   "metadata": {},
   "source": [
    "#### Left skewed data or negative skew"
   ]
  },
  {
   "cell_type": "code",
   "execution_count": 34,
   "metadata": {},
   "outputs": [],
   "source": [
    "x.norm <- sort(x.norm)\n",
    "\n",
    "# simulating data for plotting a left skewed distribution. \n",
    "# we are removing the higher values from the right end of the sorted list \n",
    "# whose mean is 10 and sd is 2\n",
    "\n",
    "left_skewed <- x.norm[1:150]"
   ]
  },
  {
   "cell_type": "code",
   "execution_count": 35,
   "metadata": {},
   "outputs": [
    {
     "data": {
      "text/html": [
       "'mean 9.27244560827877'"
      ],
      "text/latex": [
       "'mean 9.27244560827877'"
      ],
      "text/markdown": [
       "'mean 9.27244560827877'"
      ],
      "text/plain": [
       "[1] \"mean 9.27244560827877\""
      ]
     },
     "metadata": {},
     "output_type": "display_data"
    }
   ],
   "source": [
    "# the mean and the median shifted towards the left because the data is right skewed. \n",
    "# but the mode stays right where it is (peak of the data or most occurring value in the dataset)\n",
    "\n",
    "paste('mean', mean(left_skewed))"
   ]
  },
  {
   "cell_type": "code",
   "execution_count": 36,
   "metadata": {},
   "outputs": [
    {
     "data": {
      "text/html": [
       "'median 9.3468819849491'"
      ],
      "text/latex": [
       "'median 9.3468819849491'"
      ],
      "text/markdown": [
       "'median 9.3468819849491'"
      ],
      "text/plain": [
       "[1] \"median 9.3468819849491\""
      ]
     },
     "metadata": {},
     "output_type": "display_data"
    }
   ],
   "source": [
    "paste(\"median\", median(left_skewed))"
   ]
  },
  {
   "cell_type": "code",
   "execution_count": 37,
   "metadata": {},
   "outputs": [
    {
     "data": {
      "image/png": "[encoded data removed]",
      "text/plain": [
       "Plot with title \"Histogram of left skewed data\""
      ]
     },
     "metadata": {},
     "output_type": "display_data"
    }
   ],
   "source": [
    "# we can get a histogram for this left skewed data\n",
    "\n",
    "hist(left_skewed, prob = TRUE, main = \"Histogram of left skewed data\")\n",
    "curve(dnorm(x, mean(left_skewed), sd(left_skewed)), add = TRUE, col = \"darkblue\", lwd = 2)\n",
    "\n",
    "mean_right <- mean(left_skewed)\n",
    "median_right <- median(left_skewed)\n",
    "\n",
    "abline(v = mean_right, col = \"blue\", lwd = 4)\n",
    "abline(v = median_right, col = \"red\", lwd = 4)"
   ]
  },
  {
   "cell_type": "markdown",
   "metadata": {},
   "source": [
    "The graph has a longer tail on the left side. The mean and the median have shifted towards the left compared to the normal distribution. \n",
    "\n",
    "#### Right skewed data or postive skew"
   ]
  },
  {
   "cell_type": "code",
   "execution_count": 39,
   "metadata": {
    "collapsed": true
   },
   "outputs": [],
   "source": [
    "# Simulating data for plotting a positive skewed distribution. \n",
    "# We are removing the lower values from the left end of a sorted list whose \n",
    "#mean is 10 and sd is 2.\n",
    "right_skewed <- x.norm[51:200]"
   ]
  },
  {
   "cell_type": "code",
   "execution_count": 40,
   "metadata": {},
   "outputs": [
    {
     "data": {
      "text/html": [
       "'mean 10.9848966771817'"
      ],
      "text/latex": [
       "'mean 10.9848966771817'"
      ],
      "text/markdown": [
       "'mean 10.9848966771817'"
      ],
      "text/plain": [
       "[1] \"mean 10.9848966771817\""
      ]
     },
     "metadata": {},
     "output_type": "display_data"
    },
    {
     "data": {
      "text/html": [
       "'median 10.756467250248'"
      ],
      "text/latex": [
       "'median 10.756467250248'"
      ],
      "text/markdown": [
       "'median 10.756467250248'"
      ],
      "text/plain": [
       "[1] \"median 10.756467250248\""
      ]
     },
     "metadata": {},
     "output_type": "display_data"
    }
   ],
   "source": [
    "paste(\"mean\", mean(right_skewed))\n",
    "paste(\"median\", median(right_skewed))"
   ]
  },
  {
   "cell_type": "code",
   "execution_count": 41,
   "metadata": {},
   "outputs": [
    {
     "data": {
      "image/png": "[encoded data removed]",
      "text/plain": [
       "Plot with title \"Histogram of right skewed data\""
      ]
     },
     "metadata": {},
     "output_type": "display_data"
    }
   ],
   "source": [
    "#Plot histogram for right skewed data\n",
    "\n",
    "hist(right_skewed,prob=TRUE,main=\"Histogram of right skewed data\")\n",
    "curve(dnorm(x, mean(right_skewed), sd(right_skewed)), add=TRUE, col=\"darkblue\", lwd=2)\n",
    "mean_left <- mean(right_skewed)\n",
    "median_left <- median(right_skewed)\n",
    "abline(v = mean_left, col = \"blue\", lwd = 2)\n",
    "abline(v = median_left, col = \"red\", lwd = 2)"
   ]
  },
  {
   "cell_type": "markdown",
   "metadata": {},
   "source": [
    "If the data is normally distributed/symmetrical and not skewed in either direction, the mean would be an ideal choice if we want to measure the center. But when the data is skewed, for example it's positively skewed, the mean will give an overestimate of the center and if it's negatively skewed, the mean will give an underestimate of the center. \n",
    "\n",
    "So if the distribution is symmetrical, the measure of center should be the mean and if the distribution is skewed in either direction, the measure of center should be the median. The median would be the emasure of the center that informs the center of distribution without being affected too much by the skew as the mean is. \n",
    "\n",
    "Likewise, standard deviation would be the choice of measure for spread when the data is normally distributed. But when the data is skewed, the curve is not symmetric anymore. \n",
    "\n",
    "http://www.assetinsights.net/Glossary/G_Positive_Skewness.html"
   ]
  },
  {
   "cell_type": "code",
   "execution_count": 42,
   "metadata": {},
   "outputs": [
    {
     "data": {
      "text/html": [
       "<dl class=dl-horizontal>\n",
       "\t<dt>0%</dt>\n",
       "\t\t<dd>5.05834517563677</dd>\n",
       "\t<dt>25%</dt>\n",
       "\t\t<dd>8.59693881219681</dd>\n",
       "\t<dt>50%</dt>\n",
       "\t\t<dd>10.1624533801417</dd>\n",
       "\t<dt>75%</dt>\n",
       "\t\t<dd>11.5432012431732</dd>\n",
       "\t<dt>100%</dt>\n",
       "\t\t<dd>14.9626841830585</dd>\n",
       "</dl>\n"
      ],
      "text/latex": [
       "\\begin{description*}\n",
       "\\item[0\\textbackslash{}\\%] 5.05834517563677\n",
       "\\item[25\\textbackslash{}\\%] 8.59693881219681\n",
       "\\item[50\\textbackslash{}\\%] 10.1624533801417\n",
       "\\item[75\\textbackslash{}\\%] 11.5432012431732\n",
       "\\item[100\\textbackslash{}\\%] 14.9626841830585\n",
       "\\end{description*}\n"
      ],
      "text/markdown": [
       "0%\n",
       ":   5.0583451756367725%\n",
       ":   8.5969388121968150%\n",
       ":   10.162453380141775%\n",
       ":   11.5432012431732100%\n",
       ":   14.9626841830585\n",
       "\n"
      ],
      "text/plain": [
       "       0%       25%       50%       75%      100% \n",
       " 5.058345  8.596939 10.162453 11.543201 14.962684 "
      ]
     },
     "metadata": {},
     "output_type": "display_data"
    }
   ],
   "source": [
    "# inter quantile range of normally distributed data\n",
    "quantile(x.norm)"
   ]
  },
  {
   "cell_type": "code",
   "execution_count": 43,
   "metadata": {},
   "outputs": [
    {
     "data": {
      "text/html": [
       "<dl class=dl-horizontal>\n",
       "\t<dt>0%</dt>\n",
       "\t\t<dd>5.05834517563677</dd>\n",
       "\t<dt>25%</dt>\n",
       "\t\t<dd>8.19355808917676</dd>\n",
       "\t<dt>50%</dt>\n",
       "\t\t<dd>9.3468819849491</dd>\n",
       "\t<dt>75%</dt>\n",
       "\t\t<dd>10.4619598631235</dd>\n",
       "\t<dt>100%</dt>\n",
       "\t\t<dd>11.5399481249782</dd>\n",
       "</dl>\n"
      ],
      "text/latex": [
       "\\begin{description*}\n",
       "\\item[0\\textbackslash{}\\%] 5.05834517563677\n",
       "\\item[25\\textbackslash{}\\%] 8.19355808917676\n",
       "\\item[50\\textbackslash{}\\%] 9.3468819849491\n",
       "\\item[75\\textbackslash{}\\%] 10.4619598631235\n",
       "\\item[100\\textbackslash{}\\%] 11.5399481249782\n",
       "\\end{description*}\n"
      ],
      "text/markdown": [
       "0%\n",
       ":   5.0583451756367725%\n",
       ":   8.1935580891767650%\n",
       ":   9.346881984949175%\n",
       ":   10.4619598631235100%\n",
       ":   11.5399481249782\n",
       "\n"
      ],
      "text/plain": [
       "       0%       25%       50%       75%      100% \n",
       " 5.058345  8.193558  9.346882 10.461960 11.539948 "
      ]
     },
     "metadata": {},
     "output_type": "display_data"
    }
   ],
   "source": [
    "quantile(left_skewed)"
   ]
  },
  {
   "cell_type": "code",
   "execution_count": 44,
   "metadata": {},
   "outputs": [
    {
     "data": {
      "text/html": [
       "<dl class=dl-horizontal>\n",
       "\t<dt>0%</dt>\n",
       "\t\t<dd>8.60169063213161</dd>\n",
       "\t<dt>25%</dt>\n",
       "\t\t<dd>9.72496943042681</dd>\n",
       "\t<dt>50%</dt>\n",
       "\t\t<dd>10.756467250248</dd>\n",
       "\t<dt>75%</dt>\n",
       "\t\t<dd>12.0236402045469</dd>\n",
       "\t<dt>100%</dt>\n",
       "\t\t<dd>14.9626841830585</dd>\n",
       "</dl>\n"
      ],
      "text/latex": [
       "\\begin{description*}\n",
       "\\item[0\\textbackslash{}\\%] 8.60169063213161\n",
       "\\item[25\\textbackslash{}\\%] 9.72496943042681\n",
       "\\item[50\\textbackslash{}\\%] 10.756467250248\n",
       "\\item[75\\textbackslash{}\\%] 12.0236402045469\n",
       "\\item[100\\textbackslash{}\\%] 14.9626841830585\n",
       "\\end{description*}\n"
      ],
      "text/markdown": [
       "0%\n",
       ":   8.6016906321316125%\n",
       ":   9.7249694304268150%\n",
       ":   10.75646725024875%\n",
       ":   12.0236402045469100%\n",
       ":   14.9626841830585\n",
       "\n"
      ],
      "text/plain": [
       "       0%       25%       50%       75%      100% \n",
       " 8.601691  9.724969 10.756467 12.023640 14.962684 "
      ]
     },
     "metadata": {},
     "output_type": "display_data"
    }
   ],
   "source": [
    "quantile(right_skewed)"
   ]
  },
  {
   "cell_type": "markdown",
   "metadata": {},
   "source": [
    "## Measures of skewness and kurtosis\n",
    "\n",
    "Different shapes of distributions differ in skew and/or kurtosis. For a highly skewed distribution, the mean can vary more than twice as the median. Skewness can be calculated using this simple equation (pearson). \n",
    "\n",
    "3(Mean - Median) / sigma"
   ]
  },
  {
   "cell_type": "markdown",
   "metadata": {},
   "source": [
    "### Skewness\n"
   ]
  },
  {
   "cell_type": "code",
   "execution_count": 47,
   "metadata": {},
   "outputs": [],
   "source": [
    "library(moments)"
   ]
  },
  {
   "cell_type": "code",
   "execution_count": 49,
   "metadata": {},
   "outputs": [
    {
     "data": {
      "text/html": [
       "-0.324554419469602"
      ],
      "text/latex": [
       "-0.324554419469602"
      ],
      "text/markdown": [
       "-0.324554419469602"
      ],
      "text/plain": [
       "[1] -0.3245544"
      ]
     },
     "metadata": {},
     "output_type": "display_data"
    }
   ],
   "source": [
    "skewness(left_skewed)"
   ]
  },
  {
   "cell_type": "markdown",
   "metadata": {},
   "source": [
    "The negative value of the skewness implies that the distribution of the data is slightly skewed to the left or negatively skewed. "
   ]
  },
  {
   "cell_type": "code",
   "execution_count": 50,
   "metadata": {},
   "outputs": [
    {
     "data": {
      "text/html": [
       "0.439990793131343"
      ],
      "text/latex": [
       "0.439990793131343"
      ],
      "text/markdown": [
       "0.439990793131343"
      ],
      "text/plain": [
       "[1] 0.4399908"
      ]
     },
     "metadata": {},
     "output_type": "display_data"
    }
   ],
   "source": [
    "skewness(right_skewed)"
   ]
  },
  {
   "cell_type": "markdown",
   "metadata": {},
   "source": [
    "The positive value implies that the distribution of the data is slightly skewed to the right or positivly skewed. "
   ]
  },
  {
   "cell_type": "markdown",
   "metadata": {},
   "source": [
    "### Kurtosis\n",
    "\n",
    "Kurtosis measures the steepness of the distribution. The value 3 is substracted to define \"no kurtosis\" as the kurtosis of a normal distribution. Otherwise, a normal distribution would have a kurtosis of 3. \n",
    "\n",
    "* A normal distribution has kurtosis of exactly 3 (excess kurtosis of exactly 0). Any distribution with kurtosis ≈3 (excess ≈0) is called **_mesokurtic_**.\n",
    "* A distribution with kurtosis <3 (no excess kurtosis) is called platykurtic. Compared to a normal distribution, its tails are shorter and thinner, and often its central peak is lower and broader. \n",
    "* A distribution with kurtosis > 3 (with excess kurtosis) is called leptokurtic. Compared to a normal distribution, its tails are longer and fatter, and often its central peak is higher and sharper. "
   ]
  },
  {
   "cell_type": "code",
   "execution_count": 53,
   "metadata": {},
   "outputs": [
    {
     "data": {
      "text/html": [
       "2.45985683461479"
      ],
      "text/latex": [
       "2.45985683461479"
      ],
      "text/markdown": [
       "2.45985683461479"
      ],
      "text/plain": [
       "[1] 2.459857"
      ]
     },
     "metadata": {},
     "output_type": "display_data"
    }
   ],
   "source": [
    "kurtosis(right_skewed)"
   ]
  },
  {
   "cell_type": "code",
   "execution_count": 54,
   "metadata": {},
   "outputs": [
    {
     "data": {
      "text/html": [
       "<table>\n",
       "<thead><tr><th scope=col>mpg</th><th scope=col>cylinders</th><th scope=col>displacement</th><th scope=col>horsepower</th><th scope=col>weight</th><th scope=col>acceleration</th><th scope=col>model.year</th><th scope=col>origin</th><th scope=col>car.name</th></tr></thead>\n",
       "<tbody>\n",
       "\t<tr><td>18                       </td><td>8                        </td><td>307                      </td><td>130                      </td><td>3504                     </td><td>12.0                     </td><td>70                       </td><td>1                        </td><td>chevrolet chevelle malibu</td></tr>\n",
       "\t<tr><td>15                       </td><td>8                        </td><td>350                      </td><td>165                      </td><td>3693                     </td><td>11.5                     </td><td>70                       </td><td>1                        </td><td>buick skylark 320        </td></tr>\n",
       "\t<tr><td>18                       </td><td>8                        </td><td>318                      </td><td>150                      </td><td>3436                     </td><td>11.0                     </td><td>70                       </td><td>1                        </td><td>plymouth satellite       </td></tr>\n",
       "\t<tr><td>16                       </td><td>8                        </td><td>304                      </td><td>150                      </td><td>3433                     </td><td>12.0                     </td><td>70                       </td><td>1                        </td><td>amc rebel sst            </td></tr>\n",
       "\t<tr><td>17                       </td><td>8                        </td><td>302                      </td><td>140                      </td><td>3449                     </td><td>10.5                     </td><td>70                       </td><td>1                        </td><td>ford torino              </td></tr>\n",
       "\t<tr><td>15                       </td><td>8                        </td><td>429                      </td><td>198                      </td><td>4341                     </td><td>10.0                     </td><td>70                       </td><td>1                        </td><td>ford galaxie 500         </td></tr>\n",
       "</tbody>\n",
       "</table>\n"
      ],
      "text/latex": [
       "\\begin{tabular}{r|lllllllll}\n",
       " mpg & cylinders & displacement & horsepower & weight & acceleration & model.year & origin & car.name\\\\\n",
       "\\hline\n",
       "\t 18                        & 8                         & 307                       & 130                       & 3504                      & 12.0                      & 70                        & 1                         & chevrolet chevelle malibu\\\\\n",
       "\t 15                        & 8                         & 350                       & 165                       & 3693                      & 11.5                      & 70                        & 1                         & buick skylark 320        \\\\\n",
       "\t 18                        & 8                         & 318                       & 150                       & 3436                      & 11.0                      & 70                        & 1                         & plymouth satellite       \\\\\n",
       "\t 16                        & 8                         & 304                       & 150                       & 3433                      & 12.0                      & 70                        & 1                         & amc rebel sst            \\\\\n",
       "\t 17                        & 8                         & 302                       & 140                       & 3449                      & 10.5                      & 70                        & 1                         & ford torino              \\\\\n",
       "\t 15                        & 8                         & 429                       & 198                       & 4341                      & 10.0                      & 70                        & 1                         & ford galaxie 500         \\\\\n",
       "\\end{tabular}\n"
      ],
      "text/markdown": [
       "\n",
       "mpg | cylinders | displacement | horsepower | weight | acceleration | model.year | origin | car.name | \n",
       "|---|---|---|---|---|---|\n",
       "| 18                        | 8                         | 307                       | 130                       | 3504                      | 12.0                      | 70                        | 1                         | chevrolet chevelle malibu | \n",
       "| 15                        | 8                         | 350                       | 165                       | 3693                      | 11.5                      | 70                        | 1                         | buick skylark 320         | \n",
       "| 18                        | 8                         | 318                       | 150                       | 3436                      | 11.0                      | 70                        | 1                         | plymouth satellite        | \n",
       "| 16                        | 8                         | 304                       | 150                       | 3433                      | 12.0                      | 70                        | 1                         | amc rebel sst             | \n",
       "| 17                        | 8                         | 302                       | 140                       | 3449                      | 10.5                      | 70                        | 1                         | ford torino               | \n",
       "| 15                        | 8                         | 429                       | 198                       | 4341                      | 10.0                      | 70                        | 1                         | ford galaxie 500          | \n",
       "\n",
       "\n"
      ],
      "text/plain": [
       "  mpg cylinders displacement horsepower weight acceleration model.year origin\n",
       "1 18  8         307          130        3504   12.0         70         1     \n",
       "2 15  8         350          165        3693   11.5         70         1     \n",
       "3 18  8         318          150        3436   11.0         70         1     \n",
       "4 16  8         304          150        3433   12.0         70         1     \n",
       "5 17  8         302          140        3449   10.5         70         1     \n",
       "6 15  8         429          198        4341   10.0         70         1     \n",
       "  car.name                 \n",
       "1 chevrolet chevelle malibu\n",
       "2 buick skylark 320        \n",
       "3 plymouth satellite       \n",
       "4 amc rebel sst            \n",
       "5 ford torino              \n",
       "6 ford galaxie 500         "
      ]
     },
     "metadata": {},
     "output_type": "display_data"
    }
   ],
   "source": [
    "auto_mpg <- read.csv(\"datasets/auto-mpg.csv\")\n",
    "head(auto_mpg)"
   ]
  },
  {
   "cell_type": "code",
   "execution_count": 55,
   "metadata": {},
   "outputs": [
    {
     "data": {
      "text/html": [
       "<ol class=list-inline>\n",
       "\t<li>398</li>\n",
       "\t<li>9</li>\n",
       "</ol>\n"
      ],
      "text/latex": [
       "\\begin{enumerate*}\n",
       "\\item 398\n",
       "\\item 9\n",
       "\\end{enumerate*}\n"
      ],
      "text/markdown": [
       "1. 398\n",
       "2. 9\n",
       "\n",
       "\n"
      ],
      "text/plain": [
       "[1] 398   9"
      ]
     },
     "metadata": {},
     "output_type": "display_data"
    },
    {
     "data": {
      "text/html": [
       "193.425879396985"
      ],
      "text/latex": [
       "193.425879396985"
      ],
      "text/markdown": [
       "193.425879396985"
      ],
      "text/plain": [
       "[1] 193.4259"
      ]
     },
     "metadata": {},
     "output_type": "display_data"
    },
    {
     "data": {
      "text/html": [
       "104.269838171196"
      ],
      "text/latex": [
       "104.269838171196"
      ],
      "text/markdown": [
       "104.269838171196"
      ],
      "text/plain": [
       "[1] 104.2698"
      ]
     },
     "metadata": {},
     "output_type": "display_data"
    }
   ],
   "source": [
    "dim(auto_mpg)\n",
    "mean(auto_mpg$displacement)\n",
    "sd(auto_mpg$displacement)"
   ]
  },
  {
   "cell_type": "code",
   "execution_count": 56,
   "metadata": {
    "collapsed": true
   },
   "outputs": [],
   "source": [
    "options(scipen = 999)\n",
    "x.norm <- rnorm(n = 398, m = 193.4, sd = 104.2)"
   ]
  },
  {
   "cell_type": "code",
   "execution_count": 58,
   "metadata": {},
   "outputs": [
    {
     "data": {
      "image/png": "[encoded data removed]",
      "text/plain": [
       "Plot with title \"Histogram of normal distribution\""
      ]
     },
     "metadata": {},
     "output_type": "display_data"
    }
   ],
   "source": [
    "hist(auto_mpg$displacement, prob = TRUE, main = \"Histogram of normal distribution\")\n",
    "curve(dnorm(x, mean(x.norm), sd(x.norm)), add = TRUE, col = \"darkblue\", lwd = 2)\n",
    "\n",
    "mean_norm <- mean(x.norm)\n",
    "median_norm <- median(x.norm)\n",
    "sd_norm <- sd(x.norm)\n",
    "\n",
    "abline(v = mean_norm, col = \"blue\", lwd = 2)\n",
    "abline(v = median_norm, col = \"red\", lwd = 2)\n",
    "abline(v = sd_norm, col = \"green\", lwd = 2)"
   ]
  },
  {
   "cell_type": "code",
   "execution_count": 59,
   "metadata": {},
   "outputs": [
    {
     "data": {
      "text/html": [
       "51.3894472361809"
      ],
      "text/latex": [
       "51.3894472361809"
      ],
      "text/markdown": [
       "51.3894472361809"
      ],
      "text/plain": [
       "[1] 51.38945"
      ]
     },
     "metadata": {},
     "output_type": "display_data"
    },
    {
     "data": {
      "text/html": [
       "29.9323601740305"
      ],
      "text/latex": [
       "29.9323601740305"
      ],
      "text/markdown": [
       "29.9323601740305"
      ],
      "text/plain": [
       "[1] 29.93236"
      ]
     },
     "metadata": {},
     "output_type": "display_data"
    }
   ],
   "source": [
    "mean(as.numeric(auto_mpg$horsepower))\n",
    "sd(as.numeric(auto_mpg$horsepower))\n",
    "x.norm<-rnorm(n=398,m=51.4,sd=29.93)"
   ]
  },
  {
   "cell_type": "code",
   "execution_count": 60,
   "metadata": {},
   "outputs": [
    {
     "data": {
      "image/png": "[encoded data removed]",
      "text/plain": [
       "Plot with title \"Histogram of normal distribution\""
      ]
     },
     "metadata": {},
     "output_type": "display_data"
    }
   ],
   "source": [
    "hist(as.numeric(auto_mpg$horsepower),prob=TRUE,main=\"Histogram of normal distribution\")\n",
    "curve(dnorm(x, mean(x.norm), sd(x.norm)), add=TRUE, col=\"darkblue\", lwd=2)\n",
    "\n",
    " \n",
    "mean_norm <- mean(x.norm)\n",
    "median_norm = median(x.norm)\n",
    "sd_norm <- sd(x.norm)\n",
    " \n",
    "abline(v = mean_norm, col = \"blue\", lwd = 2)\n",
    "abline(v = median_norm, col = \"red\", lwd = 2)\n",
    "abline(v = sd_norm, col = \"green\", lwd = 2)"
   ]
  },
  {
   "cell_type": "code",
   "execution_count": null,
   "metadata": {
    "collapsed": true
   },
   "outputs": [],
   "source": []
  }
 ],
 "metadata": {
  "kernelspec": {
   "display_name": "R",
   "language": "R",
   "name": "ir"
  },
  "language_info": {
   "codemirror_mode": "r",
   "file_extension": ".r",
   "mimetype": "text/x-r-source",
   "name": "R",
   "pygments_lexer": "r",
   "version": "3.4.1"
  }
 },
 "nbformat": 4,
 "nbformat_minor": 2
}
