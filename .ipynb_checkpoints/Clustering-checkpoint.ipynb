{
 "cells": [
  {
   "cell_type": "code",
   "execution_count": 38,
   "metadata": {},
   "outputs": [
    {
     "data": {
      "text/html": [
       "<table>\n",
       "<thead><tr><th scope=col>V1</th><th scope=col>V2</th><th scope=col>V3</th><th scope=col>V4</th><th scope=col>V5</th><th scope=col>V6</th><th scope=col>V7</th><th scope=col>V8</th></tr></thead>\n",
       "<tbody>\n",
       "\t<tr><td>15.26 </td><td>14.84 </td><td>0.8710</td><td>5.763 </td><td>3.312 </td><td>2.221 </td><td>5.220 </td><td>1     </td></tr>\n",
       "\t<tr><td>14.88 </td><td>14.57 </td><td>0.8811</td><td>5.554 </td><td>3.333 </td><td>1.018 </td><td>4.956 </td><td>1     </td></tr>\n",
       "\t<tr><td>14.29 </td><td>14.09 </td><td>0.9050</td><td>5.291 </td><td>3.337 </td><td>2.699 </td><td>4.825 </td><td>1     </td></tr>\n",
       "\t<tr><td>13.84 </td><td>13.94 </td><td>0.8955</td><td>5.324 </td><td>3.379 </td><td>2.259 </td><td>4.805 </td><td>1     </td></tr>\n",
       "\t<tr><td>16.14 </td><td>14.99 </td><td>0.9034</td><td>5.658 </td><td>3.562 </td><td>1.355 </td><td>5.175 </td><td>1     </td></tr>\n",
       "\t<tr><td>14.38 </td><td>14.21 </td><td>0.8951</td><td>5.386 </td><td>3.312 </td><td>2.462 </td><td>4.956 </td><td>1     </td></tr>\n",
       "</tbody>\n",
       "</table>\n"
      ],
      "text/latex": [
       "\\begin{tabular}{r|llllllll}\n",
       " V1 & V2 & V3 & V4 & V5 & V6 & V7 & V8\\\\\n",
       "\\hline\n",
       "\t 15.26  & 14.84  & 0.8710 & 5.763  & 3.312  & 2.221  & 5.220  & 1     \\\\\n",
       "\t 14.88  & 14.57  & 0.8811 & 5.554  & 3.333  & 1.018  & 4.956  & 1     \\\\\n",
       "\t 14.29  & 14.09  & 0.9050 & 5.291  & 3.337  & 2.699  & 4.825  & 1     \\\\\n",
       "\t 13.84  & 13.94  & 0.8955 & 5.324  & 3.379  & 2.259  & 4.805  & 1     \\\\\n",
       "\t 16.14  & 14.99  & 0.9034 & 5.658  & 3.562  & 1.355  & 5.175  & 1     \\\\\n",
       "\t 14.38  & 14.21  & 0.8951 & 5.386  & 3.312  & 2.462  & 4.956  & 1     \\\\\n",
       "\\end{tabular}\n"
      ],
      "text/markdown": [
       "\n",
       "V1 | V2 | V3 | V4 | V5 | V6 | V7 | V8 | \n",
       "|---|---|---|---|---|---|\n",
       "| 15.26  | 14.84  | 0.8710 | 5.763  | 3.312  | 2.221  | 5.220  | 1      | \n",
       "| 14.88  | 14.57  | 0.8811 | 5.554  | 3.333  | 1.018  | 4.956  | 1      | \n",
       "| 14.29  | 14.09  | 0.9050 | 5.291  | 3.337  | 2.699  | 4.825  | 1      | \n",
       "| 13.84  | 13.94  | 0.8955 | 5.324  | 3.379  | 2.259  | 4.805  | 1      | \n",
       "| 16.14  | 14.99  | 0.9034 | 5.658  | 3.562  | 1.355  | 5.175  | 1      | \n",
       "| 14.38  | 14.21  | 0.8951 | 5.386  | 3.312  | 2.462  | 4.956  | 1      | \n",
       "\n",
       "\n"
      ],
      "text/plain": [
       "  V1    V2    V3     V4    V5    V6    V7    V8\n",
       "1 15.26 14.84 0.8710 5.763 3.312 2.221 5.220 1 \n",
       "2 14.88 14.57 0.8811 5.554 3.333 1.018 4.956 1 \n",
       "3 14.29 14.09 0.9050 5.291 3.337 2.699 4.825 1 \n",
       "4 13.84 13.94 0.8955 5.324 3.379 2.259 4.805 1 \n",
       "5 16.14 14.99 0.9034 5.658 3.562 1.355 5.175 1 \n",
       "6 14.38 14.21 0.8951 5.386 3.312 2.462 4.956 1 "
      ]
     },
     "metadata": {},
     "output_type": "display_data"
    }
   ],
   "source": [
    "seeds_data <- read.csv(\"datasets/seeds_data.csv\", header = TRUE)\n",
    "head(seeds_data)"
   ]
  },
  {
   "cell_type": "code",
   "execution_count": 39,
   "metadata": {},
   "outputs": [
    {
     "data": {
      "text/plain": [
       "      area         perimeter      compactness     length_of_kernel\n",
       " Min.   :10.59   Min.   :12.41   Min.   :0.8081   Min.   :4.899   \n",
       " 1st Qu.:12.27   1st Qu.:13.45   1st Qu.:0.8569   1st Qu.:5.262   \n",
       " Median :14.36   Median :14.32   Median :0.8734   Median :5.524   \n",
       " Mean   :14.85   Mean   :14.56   Mean   :0.8710   Mean   :5.629   \n",
       " 3rd Qu.:17.30   3rd Qu.:15.71   3rd Qu.:0.8878   3rd Qu.:5.980   \n",
       " Max.   :21.18   Max.   :17.25   Max.   :0.9183   Max.   :6.675   \n",
       " width_of_kernel asymmetry_coefficient length_of_kernel_groove    variety \n",
       " Min.   :2.630   Min.   :0.7651        Min.   :4.519           Min.   :1  \n",
       " 1st Qu.:2.944   1st Qu.:2.5615        1st Qu.:5.045           1st Qu.:1  \n",
       " Median :3.237   Median :3.5990        Median :5.223           Median :2  \n",
       " Mean   :3.259   Mean   :3.7002        Mean   :5.408           Mean   :2  \n",
       " 3rd Qu.:3.562   3rd Qu.:4.7687        3rd Qu.:5.877           3rd Qu.:3  \n",
       " Max.   :4.033   Max.   :8.4560        Max.   :6.550           Max.   :3  "
      ]
     },
     "metadata": {},
     "output_type": "display_data"
    }
   ],
   "source": [
    "header = c(\"area\",\"perimeter\",\"compactness\",\"length_of_kernel\",\"width_of_kernel\",\n",
    "               \"asymmetry_coefficient\",\"length_of_kernel_groove\",\"variety\")\n",
    "\n",
    "names(seeds_data) <- header\n",
    "summary(seeds_data)"
   ]
  },
  {
   "cell_type": "code",
   "execution_count": 40,
   "metadata": {},
   "outputs": [
    {
     "data": {
      "text/html": [
       "<table>\n",
       "<thead><tr><th scope=col>area</th><th scope=col>perimeter</th><th scope=col>compactness</th><th scope=col>length_of_kernel</th><th scope=col>width_of_kernel</th><th scope=col>asymmetry_coefficient</th><th scope=col>length_of_kernel_groove</th><th scope=col>variety</th></tr></thead>\n",
       "<tbody>\n",
       "\t<tr><td>15.26 </td><td>14.84 </td><td>0.8710</td><td>5.763 </td><td>3.312 </td><td>2.221 </td><td>5.220 </td><td>1     </td></tr>\n",
       "\t<tr><td>14.88 </td><td>14.57 </td><td>0.8811</td><td>5.554 </td><td>3.333 </td><td>1.018 </td><td>4.956 </td><td>1     </td></tr>\n",
       "\t<tr><td>14.29 </td><td>14.09 </td><td>0.9050</td><td>5.291 </td><td>3.337 </td><td>2.699 </td><td>4.825 </td><td>1     </td></tr>\n",
       "\t<tr><td>13.84 </td><td>13.94 </td><td>0.8955</td><td>5.324 </td><td>3.379 </td><td>2.259 </td><td>4.805 </td><td>1     </td></tr>\n",
       "\t<tr><td>16.14 </td><td>14.99 </td><td>0.9034</td><td>5.658 </td><td>3.562 </td><td>1.355 </td><td>5.175 </td><td>1     </td></tr>\n",
       "\t<tr><td>14.38 </td><td>14.21 </td><td>0.8951</td><td>5.386 </td><td>3.312 </td><td>2.462 </td><td>4.956 </td><td>1     </td></tr>\n",
       "</tbody>\n",
       "</table>\n"
      ],
      "text/latex": [
       "\\begin{tabular}{r|llllllll}\n",
       " area & perimeter & compactness & length\\_of\\_kernel & width\\_of\\_kernel & asymmetry\\_coefficient & length\\_of\\_kernel\\_groove & variety\\\\\n",
       "\\hline\n",
       "\t 15.26  & 14.84  & 0.8710 & 5.763  & 3.312  & 2.221  & 5.220  & 1     \\\\\n",
       "\t 14.88  & 14.57  & 0.8811 & 5.554  & 3.333  & 1.018  & 4.956  & 1     \\\\\n",
       "\t 14.29  & 14.09  & 0.9050 & 5.291  & 3.337  & 2.699  & 4.825  & 1     \\\\\n",
       "\t 13.84  & 13.94  & 0.8955 & 5.324  & 3.379  & 2.259  & 4.805  & 1     \\\\\n",
       "\t 16.14  & 14.99  & 0.9034 & 5.658  & 3.562  & 1.355  & 5.175  & 1     \\\\\n",
       "\t 14.38  & 14.21  & 0.8951 & 5.386  & 3.312  & 2.462  & 4.956  & 1     \\\\\n",
       "\\end{tabular}\n"
      ],
      "text/markdown": [
       "\n",
       "area | perimeter | compactness | length_of_kernel | width_of_kernel | asymmetry_coefficient | length_of_kernel_groove | variety | \n",
       "|---|---|---|---|---|---|\n",
       "| 15.26  | 14.84  | 0.8710 | 5.763  | 3.312  | 2.221  | 5.220  | 1      | \n",
       "| 14.88  | 14.57  | 0.8811 | 5.554  | 3.333  | 1.018  | 4.956  | 1      | \n",
       "| 14.29  | 14.09  | 0.9050 | 5.291  | 3.337  | 2.699  | 4.825  | 1      | \n",
       "| 13.84  | 13.94  | 0.8955 | 5.324  | 3.379  | 2.259  | 4.805  | 1      | \n",
       "| 16.14  | 14.99  | 0.9034 | 5.658  | 3.562  | 1.355  | 5.175  | 1      | \n",
       "| 14.38  | 14.21  | 0.8951 | 5.386  | 3.312  | 2.462  | 4.956  | 1      | \n",
       "\n",
       "\n"
      ],
      "text/plain": [
       "  area  perimeter compactness length_of_kernel width_of_kernel\n",
       "1 15.26 14.84     0.8710      5.763            3.312          \n",
       "2 14.88 14.57     0.8811      5.554            3.333          \n",
       "3 14.29 14.09     0.9050      5.291            3.337          \n",
       "4 13.84 13.94     0.8955      5.324            3.379          \n",
       "5 16.14 14.99     0.9034      5.658            3.562          \n",
       "6 14.38 14.21     0.8951      5.386            3.312          \n",
       "  asymmetry_coefficient length_of_kernel_groove variety\n",
       "1 2.221                 5.220                   1      \n",
       "2 1.018                 4.956                   1      \n",
       "3 2.699                 4.825                   1      \n",
       "4 2.259                 4.805                   1      \n",
       "5 1.355                 5.175                   1      \n",
       "6 2.462                 4.956                   1      "
      ]
     },
     "metadata": {},
     "output_type": "display_data"
    }
   ],
   "source": [
    "head(seeds_data)"
   ]
  },
  {
   "cell_type": "code",
   "execution_count": 41,
   "metadata": {},
   "outputs": [
    {
     "data": {
      "text/html": [
       "<table>\n",
       "<thead><tr><th scope=col>variety</th><th scope=col>freq</th></tr></thead>\n",
       "<tbody>\n",
       "\t<tr><td>1 </td><td>70</td></tr>\n",
       "\t<tr><td>2 </td><td>70</td></tr>\n",
       "\t<tr><td>3 </td><td>70</td></tr>\n",
       "</tbody>\n",
       "</table>\n"
      ],
      "text/latex": [
       "\\begin{tabular}{r|ll}\n",
       " variety & freq\\\\\n",
       "\\hline\n",
       "\t 1  & 70\\\\\n",
       "\t 2  & 70\\\\\n",
       "\t 3  & 70\\\\\n",
       "\\end{tabular}\n"
      ],
      "text/markdown": [
       "\n",
       "variety | freq | \n",
       "|---|---|---|\n",
       "| 1  | 70 | \n",
       "| 2  | 70 | \n",
       "| 3  | 70 | \n",
       "\n",
       "\n"
      ],
      "text/plain": [
       "  variety freq\n",
       "1 1       70  \n",
       "2 2       70  \n",
       "3 3       70  "
      ]
     },
     "metadata": {},
     "output_type": "display_data"
    }
   ],
   "source": [
    "library(plyr)\n",
    "\n",
    "count(seeds_data, \"variety\")"
   ]
  },
  {
   "cell_type": "code",
   "execution_count": 42,
   "metadata": {},
   "outputs": [],
   "source": [
    "# We should normalize the data so that variables that are on a larger scale \n",
    "# doesn't influence the distance calculation\n",
    "# by contribute more and dominate the hierarchical clustering\n",
    "\n",
    "\n",
    "library(caret)\n",
    "\n",
    "preproc <- preProcess(seeds_data)\n",
    "seeds_data_norm <- predict(preproc, seeds_data)"
   ]
  },
  {
   "cell_type": "code",
   "execution_count": 43,
   "metadata": {},
   "outputs": [
    {
     "data": {
      "text/html": [
       "2.85104126567158e-16"
      ],
      "text/latex": [
       "2.85104126567158e-16"
      ],
      "text/markdown": [
       "2.85104126567158e-16"
      ],
      "text/plain": [
       "[1] 2.851041e-16"
      ]
     },
     "metadata": {},
     "output_type": "display_data"
    },
    {
     "data": {
      "text/html": [
       "1"
      ],
      "text/latex": [
       "1"
      ],
      "text/markdown": [
       "1"
      ],
      "text/plain": [
       "[1] 1"
      ]
     },
     "metadata": {},
     "output_type": "display_data"
    }
   ],
   "source": [
    "mean(seeds_data_norm$area)\n",
    "sd(seeds_data_norm$area)"
   ]
  },
  {
   "cell_type": "code",
   "execution_count": 44,
   "metadata": {
    "collapsed": true
   },
   "outputs": [],
   "source": [
    "seeds_data_norm_copy <- seeds_data_norm"
   ]
  },
  {
   "cell_type": "code",
   "execution_count": 45,
   "metadata": {},
   "outputs": [
    {
     "name": "stdout",
     "output_type": "stream",
     "text": [
      "'data.frame':\t210 obs. of  8 variables:\n",
      " $ area                   : num  0.1418 0.0112 -0.1916 -0.3463 0.4442 ...\n",
      " $ perimeter              : num  0.2149 0.0082 -0.3593 -0.4742 0.3298 ...\n",
      " $ compactness            : num  6.05e-05 4.27e-01 1.44 1.04 1.37 ...\n",
      " $ length_of_kernel       : num  0.3035 -0.1682 -0.7618 -0.6873 0.0665 ...\n",
      " $ width_of_kernel        : num  0.141 0.197 0.208 0.319 0.803 ...\n",
      " $ asymmetry_coefficient  : num  -0.984 -1.784 -0.666 -0.959 -1.56 ...\n",
      " $ length_of_kernel_groove: num  -0.383 -0.92 -1.186 -1.227 -0.474 ...\n",
      " $ variety                : num  -1.22 -1.22 -1.22 -1.22 -1.22 ...\n"
     ]
    }
   ],
   "source": [
    "str(seeds_data_norm)"
   ]
  },
  {
   "cell_type": "code",
   "execution_count": 46,
   "metadata": {
    "collapsed": true
   },
   "outputs": [],
   "source": [
    "seeds_data_norm <- subset(seeds_data_norm, select = area:length_of_kernel_groove)\n",
    "\n",
    "# remove the variety because we don't need it for clustering."
   ]
  },
  {
   "cell_type": "code",
   "execution_count": 47,
   "metadata": {},
   "outputs": [
    {
     "name": "stdout",
     "output_type": "stream",
     "text": [
      "'data.frame':\t210 obs. of  7 variables:\n",
      " $ area                   : num  0.1418 0.0112 -0.1916 -0.3463 0.4442 ...\n",
      " $ perimeter              : num  0.2149 0.0082 -0.3593 -0.4742 0.3298 ...\n",
      " $ compactness            : num  6.05e-05 4.27e-01 1.44 1.04 1.37 ...\n",
      " $ length_of_kernel       : num  0.3035 -0.1682 -0.7618 -0.6873 0.0665 ...\n",
      " $ width_of_kernel        : num  0.141 0.197 0.208 0.319 0.803 ...\n",
      " $ asymmetry_coefficient  : num  -0.984 -1.784 -0.666 -0.959 -1.56 ...\n",
      " $ length_of_kernel_groove: num  -0.383 -0.92 -1.186 -1.227 -0.474 ...\n"
     ]
    }
   ],
   "source": [
    "str(seeds_data_norm)"
   ]
  },
  {
   "cell_type": "code",
   "execution_count": 48,
   "metadata": {},
   "outputs": [
    {
     "name": "stdout",
     "output_type": "stream",
     "text": [
      "'data.frame':\t210 obs. of  8 variables:\n",
      " $ area                   : num  0.1418 0.0112 -0.1916 -0.3463 0.4442 ...\n",
      " $ perimeter              : num  0.2149 0.0082 -0.3593 -0.4742 0.3298 ...\n",
      " $ compactness            : num  6.05e-05 4.27e-01 1.44 1.04 1.37 ...\n",
      " $ length_of_kernel       : num  0.3035 -0.1682 -0.7618 -0.6873 0.0665 ...\n",
      " $ width_of_kernel        : num  0.141 0.197 0.208 0.319 0.803 ...\n",
      " $ asymmetry_coefficient  : num  -0.984 -1.784 -0.666 -0.959 -1.56 ...\n",
      " $ length_of_kernel_groove: num  -0.383 -0.92 -1.186 -1.227 -0.474 ...\n",
      " $ variety                : num  -1.22 -1.22 -1.22 -1.22 -1.22 ...\n"
     ]
    }
   ],
   "source": [
    "str(seeds_data_norm_copy)"
   ]
  },
  {
   "cell_type": "code",
   "execution_count": 49,
   "metadata": {
    "collapsed": true
   },
   "outputs": [],
   "source": [
    "seeds_dist <- dist(seeds_data_norm)"
   ]
  },
  {
   "cell_type": "code",
   "execution_count": 50,
   "metadata": {
    "collapsed": true
   },
   "outputs": [],
   "source": [
    "seeds_Hcluster <- hclust(seeds_dist, method = \"complete\")"
   ]
  },
  {
   "cell_type": "code",
   "execution_count": 51,
   "metadata": {},
   "outputs": [
    {
     "data": {
      "image/png": "[encoded data removed]",
      "text/plain": [
       "Plot with title \"Cluster Dendrogram\""
      ]
     },
     "metadata": {},
     "output_type": "display_data"
    }
   ],
   "source": [
    "#plot the dendrogram of the hierarchical clustering process\n",
    "plot(seeds_Hcluster)"
   ]
  },
  {
   "cell_type": "code",
   "execution_count": 52,
   "metadata": {
    "collapsed": true
   },
   "outputs": [],
   "source": [
    "# 3 clusters\n",
    "seeds_HclusterGroups <- cutree(seeds_Hcluster, 3)"
   ]
  },
  {
   "cell_type": "code",
   "execution_count": 53,
   "metadata": {},
   "outputs": [
    {
     "data": {
      "text/plain": [
       "seeds_HclusterGroups\n",
       " 1  2  3 \n",
       "52 68 90 "
      ]
     },
     "metadata": {},
     "output_type": "display_data"
    }
   ],
   "source": [
    "table(seeds_HclusterGroups)"
   ]
  },
  {
   "cell_type": "code",
   "execution_count": 54,
   "metadata": {},
   "outputs": [
    {
     "data": {
      "text/html": [
       "3"
      ],
      "text/latex": [
       "3"
      ],
      "text/markdown": [
       "3"
      ],
      "text/plain": [
       "[1] 3"
      ]
     },
     "metadata": {},
     "output_type": "display_data"
    }
   ],
   "source": [
    "max(seeds_HclusterGroups)"
   ]
  },
  {
   "cell_type": "code",
   "execution_count": 55,
   "metadata": {},
   "outputs": [
    {
     "data": {
      "text/html": [
       "<table>\n",
       "<thead><tr><th scope=col>1</th><th scope=col>2</th><th scope=col>3</th></tr></thead>\n",
       "<tbody>\n",
       "\t<tr><td>14.55615</td><td>16.16971</td><td>13.34433</td></tr>\n",
       "</tbody>\n",
       "</table>\n"
      ],
      "text/latex": [
       "\\begin{tabular}{lll}\n",
       " 1 & 2 & 3\\\\\n",
       "\\hline\n",
       "\t 14.55615 & 16.16971 & 13.34433\\\\\n",
       "\\end{tabular}\n"
      ],
      "text/markdown": [
       "\n",
       "1 | 2 | 3 | \n",
       "|---|\n",
       "| 14.55615 | 16.16971 | 13.34433 | \n",
       "\n",
       "\n"
      ],
      "text/plain": [
       "     1        2        3       \n",
       "[1,] 14.55615 16.16971 13.34433"
      ]
     },
     "metadata": {},
     "output_type": "display_data"
    }
   ],
   "source": [
    "avgPerimeter <- t(tapply(seeds_data$perimeter, seeds_HclusterGroups, mean))\n",
    "avgPerimeter"
   ]
  },
  {
   "cell_type": "code",
   "execution_count": 56,
   "metadata": {
    "collapsed": true
   },
   "outputs": [],
   "source": [
    "seeds_data$ClusterGroup <- seeds_HclusterGroups\n",
    "\n",
    "cluster1 <- subset(seeds_data, ClusterGroup == 1, select = area:variety)\n",
    "cluster2 <- subset(seeds_data, ClusterGroup == 2, select = area:variety)\n",
    "cluster3 <- subset(seeds_data, ClusterGroup == 3, select = area:variety)"
   ]
  },
  {
   "cell_type": "code",
   "execution_count": 57,
   "metadata": {},
   "outputs": [
    {
     "data": {
      "text/html": [
       "<table>\n",
       "<thead><tr><th scope=col>area</th><th scope=col>perimeter</th><th scope=col>compactness</th><th scope=col>length_of_kernel</th><th scope=col>width_of_kernel</th><th scope=col>asymmetry_coefficient</th><th scope=col>length_of_kernel_groove</th><th scope=col>variety</th></tr></thead>\n",
       "<tbody>\n",
       "\t<tr><td>15.26 </td><td>14.84 </td><td>0.8710</td><td>5.763 </td><td>3.312 </td><td>2.221 </td><td>5.220 </td><td>1     </td></tr>\n",
       "\t<tr><td>14.88 </td><td>14.57 </td><td>0.8811</td><td>5.554 </td><td>3.333 </td><td>1.018 </td><td>4.956 </td><td>1     </td></tr>\n",
       "\t<tr><td>14.29 </td><td>14.09 </td><td>0.9050</td><td>5.291 </td><td>3.337 </td><td>2.699 </td><td>4.825 </td><td>1     </td></tr>\n",
       "\t<tr><td>13.84 </td><td>13.94 </td><td>0.8955</td><td>5.324 </td><td>3.379 </td><td>2.259 </td><td>4.805 </td><td>1     </td></tr>\n",
       "\t<tr><td>16.14 </td><td>14.99 </td><td>0.9034</td><td>5.658 </td><td>3.562 </td><td>1.355 </td><td>5.175 </td><td>1     </td></tr>\n",
       "\t<tr><td>14.38 </td><td>14.21 </td><td>0.8951</td><td>5.386 </td><td>3.312 </td><td>2.462 </td><td>4.956 </td><td>1     </td></tr>\n",
       "</tbody>\n",
       "</table>\n"
      ],
      "text/latex": [
       "\\begin{tabular}{r|llllllll}\n",
       " area & perimeter & compactness & length\\_of\\_kernel & width\\_of\\_kernel & asymmetry\\_coefficient & length\\_of\\_kernel\\_groove & variety\\\\\n",
       "\\hline\n",
       "\t 15.26  & 14.84  & 0.8710 & 5.763  & 3.312  & 2.221  & 5.220  & 1     \\\\\n",
       "\t 14.88  & 14.57  & 0.8811 & 5.554  & 3.333  & 1.018  & 4.956  & 1     \\\\\n",
       "\t 14.29  & 14.09  & 0.9050 & 5.291  & 3.337  & 2.699  & 4.825  & 1     \\\\\n",
       "\t 13.84  & 13.94  & 0.8955 & 5.324  & 3.379  & 2.259  & 4.805  & 1     \\\\\n",
       "\t 16.14  & 14.99  & 0.9034 & 5.658  & 3.562  & 1.355  & 5.175  & 1     \\\\\n",
       "\t 14.38  & 14.21  & 0.8951 & 5.386  & 3.312  & 2.462  & 4.956  & 1     \\\\\n",
       "\\end{tabular}\n"
      ],
      "text/markdown": [
       "\n",
       "area | perimeter | compactness | length_of_kernel | width_of_kernel | asymmetry_coefficient | length_of_kernel_groove | variety | \n",
       "|---|---|---|---|---|---|\n",
       "| 15.26  | 14.84  | 0.8710 | 5.763  | 3.312  | 2.221  | 5.220  | 1      | \n",
       "| 14.88  | 14.57  | 0.8811 | 5.554  | 3.333  | 1.018  | 4.956  | 1      | \n",
       "| 14.29  | 14.09  | 0.9050 | 5.291  | 3.337  | 2.699  | 4.825  | 1      | \n",
       "| 13.84  | 13.94  | 0.8955 | 5.324  | 3.379  | 2.259  | 4.805  | 1      | \n",
       "| 16.14  | 14.99  | 0.9034 | 5.658  | 3.562  | 1.355  | 5.175  | 1      | \n",
       "| 14.38  | 14.21  | 0.8951 | 5.386  | 3.312  | 2.462  | 4.956  | 1      | \n",
       "\n",
       "\n"
      ],
      "text/plain": [
       "  area  perimeter compactness length_of_kernel width_of_kernel\n",
       "1 15.26 14.84     0.8710      5.763            3.312          \n",
       "2 14.88 14.57     0.8811      5.554            3.333          \n",
       "3 14.29 14.09     0.9050      5.291            3.337          \n",
       "4 13.84 13.94     0.8955      5.324            3.379          \n",
       "5 16.14 14.99     0.9034      5.658            3.562          \n",
       "6 14.38 14.21     0.8951      5.386            3.312          \n",
       "  asymmetry_coefficient length_of_kernel_groove variety\n",
       "1 2.221                 5.220                   1      \n",
       "2 1.018                 4.956                   1      \n",
       "3 2.699                 4.825                   1      \n",
       "4 2.259                 4.805                   1      \n",
       "5 1.355                 5.175                   1      \n",
       "6 2.462                 4.956                   1      "
      ]
     },
     "metadata": {},
     "output_type": "display_data"
    }
   ],
   "source": [
    "head(cluster1)"
   ]
  },
  {
   "cell_type": "code",
   "execution_count": 58,
   "metadata": {},
   "outputs": [
    {
     "data": {},
     "metadata": {},
     "output_type": "display_data"
    },
    {
     "data": {
      "image/png": "[encoded data removed]",
      "text/plain": [
       "plot without title"
      ]
     },
     "metadata": {},
     "output_type": "display_data"
    }
   ],
   "source": [
    "ggplot(seeds_data, aes(x = length_of_kernel, y = width_of_kernel)) + \n",
    "        geom_point(color = seeds_HclusterGroups)"
   ]
  },
  {
   "cell_type": "markdown",
   "metadata": {},
   "source": [
    "# eclust"
   ]
  },
  {
   "cell_type": "code",
   "execution_count": 59,
   "metadata": {},
   "outputs": [],
   "source": [
    "library(factoextra)"
   ]
  },
  {
   "cell_type": "code",
   "execution_count": 60,
   "metadata": {},
   "outputs": [
    {
     "name": "stderr",
     "output_type": "stream",
     "text": [
      "Warning message:\n",
      "\"argument frame is deprecated; please use ellipse instead.\""
     ]
    },
    {
     "data": {},
     "metadata": {},
     "output_type": "display_data"
    },
    {
     "data": {
      "image/png": "[encoded data removed]",
      "text/plain": [
       "plot without title"
      ]
     },
     "metadata": {},
     "output_type": "display_data"
    }
   ],
   "source": [
    "hc <- eclust(seeds_data_norm, \"hclust\", k = 3, method = \"complete\", graph = FALSE)\n",
    "fviz_cluster(hc, geom = \"point\", frame = TRUE)"
   ]
  },
  {
   "cell_type": "markdown",
   "metadata": {},
   "source": [
    "## kmeans"
   ]
  },
  {
   "cell_type": "code",
   "execution_count": 61,
   "metadata": {},
   "outputs": [
    {
     "name": "stderr",
     "output_type": "stream",
     "text": [
      "Warning message:\n",
      "\"argument frame is deprecated; please use ellipse instead.\""
     ]
    },
    {
     "data": {},
     "metadata": {},
     "output_type": "display_data"
    },
    {
     "data": {
      "image/png": "[encoded data removed]",
      "text/plain": [
       "plot without title"
      ]
     },
     "metadata": {},
     "output_type": "display_data"
    }
   ],
   "source": [
    "km <- eclust(seeds_data_norm, \"kmeans\", k = 3, nstart = 30, graph = FALSE)\n",
    "fviz_cluster(km, geom = \"point\", frame = TRUE)\n",
    "seeds_kmeansClusters <- km$cluster"
   ]
  },
  {
   "cell_type": "code",
   "execution_count": 62,
   "metadata": {},
   "outputs": [
    {
     "data": {
      "text/plain": [
       "seeds_kmeansClusters\n",
       " 1  2  3 \n",
       "71 72 67 "
      ]
     },
     "metadata": {},
     "output_type": "display_data"
    }
   ],
   "source": [
    "table(seeds_kmeansClusters)"
   ]
  },
  {
   "cell_type": "code",
   "execution_count": 63,
   "metadata": {},
   "outputs": [
    {
     "data": {
      "text/plain": [
       "   seeds_kmeansClusters\n",
       "     1  2  3\n",
       "  1 62  6  2\n",
       "  2  5  0 65\n",
       "  3  4 66  0"
      ]
     },
     "metadata": {},
     "output_type": "display_data"
    }
   ],
   "source": [
    "table(seeds_data$variety, seeds_kmeansClusters)"
   ]
  },
  {
   "cell_type": "markdown",
   "metadata": {},
   "source": [
    "## dbscan"
   ]
  },
  {
   "cell_type": "code",
   "execution_count": 64,
   "metadata": {},
   "outputs": [],
   "source": [
    "library(fpc)\n",
    "library(dbscan)"
   ]
  },
  {
   "cell_type": "code",
   "execution_count": 65,
   "metadata": {},
   "outputs": [
    {
     "name": "stderr",
     "output_type": "stream",
     "text": [
      "Warning message in dbscan(seeds_data_norm, eps = 0.6, MinPts = 5):\n",
      "\"converting argument MinPts (fpc) to minPts (dbscan)!\"Warning message:\n",
      "\"argument frame is deprecated; please use ellipse instead.\""
     ]
    },
    {
     "data": {},
     "metadata": {},
     "output_type": "display_data"
    },
    {
     "data": {
      "image/png": "[encoded data removed]",
      "text/plain": [
       "plot without title"
      ]
     },
     "metadata": {},
     "output_type": "display_data"
    }
   ],
   "source": [
    "db <- dbscan(seeds_data_norm, eps = 0.6, MinPts = 5)\n",
    "fviz_cluster(db, seeds_data_norm, stand = FALSE, frame = TRUE, geom = \"point\")\n"
   ]
  },
  {
   "cell_type": "code",
   "execution_count": 66,
   "metadata": {},
   "outputs": [
    {
     "data": {
      "image/png": "[encoded data removed]",
      "text/plain": [
       "plot without title"
      ]
     },
     "metadata": {},
     "output_type": "display_data"
    }
   ],
   "source": [
    "kNNdistplot(seeds_data_norm, k = 5)\n",
    "abline(h = 0.8, lty = 2, col = \"red\")"
   ]
  },
  {
   "cell_type": "code",
   "execution_count": 67,
   "metadata": {
    "scrolled": false
   },
   "outputs": [
    {
     "name": "stderr",
     "output_type": "stream",
     "text": [
      "Warning message in dbscan(seeds_data_norm, eps = 0.8, MinPts = 5):\n",
      "\"converting argument MinPts (fpc) to minPts (dbscan)!\"Warning message:\n",
      "\"argument frame is deprecated; please use ellipse instead.\""
     ]
    },
    {
     "data": {},
     "metadata": {},
     "output_type": "display_data"
    },
    {
     "data": {
      "image/png": "[encoded data removed]",
      "text/plain": [
       "plot without title"
      ]
     },
     "metadata": {},
     "output_type": "display_data"
    }
   ],
   "source": [
    "db <- dbscan(seeds_data_norm, eps = 0.8, MinPts = 5)\n",
    "fviz_cluster(db, seeds_data_norm, stand = FALSE, frame = FALSE, geom = \"point\")"
   ]
  }
 ],
 "metadata": {
  "kernelspec": {
   "display_name": "R",
   "language": "R",
   "name": "ir"
  },
  "language_info": {
   "codemirror_mode": "r",
   "file_extension": ".r",
   "mimetype": "text/x-r-source",
   "name": "R",
   "pygments_lexer": "r",
   "version": "3.4.1"
  }
 },
 "nbformat": 4,
 "nbformat_minor": 2
}
