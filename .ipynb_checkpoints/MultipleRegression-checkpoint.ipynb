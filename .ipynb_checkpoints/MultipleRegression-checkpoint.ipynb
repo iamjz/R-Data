{
 "cells": [
  {
   "cell_type": "code",
   "execution_count": 1,
   "metadata": {
    "collapsed": true
   },
   "outputs": [],
   "source": [
    "framingham_data <- read.csv(\"datasets/framingham.csv\")"
   ]
  },
  {
   "cell_type": "code",
   "execution_count": 2,
   "metadata": {},
   "outputs": [
    {
     "data": {
      "text/html": [
       "<table>\n",
       "<thead><tr><th></th><th scope=col>1</th><th scope=col>2</th><th scope=col>3</th><th scope=col>4</th><th scope=col>5</th><th scope=col>6</th></tr></thead>\n",
       "<tbody>\n",
       "\t<tr><th scope=row>male</th><td>  1.00</td><td>  0.00</td><td>  1.00</td><td>  0.00</td><td>  0.0 </td><td>  0.0 </td></tr>\n",
       "\t<tr><th scope=row>age</th><td> 39.00</td><td> 46.00</td><td> 48.00</td><td> 61.00</td><td> 46.0 </td><td> 43.0 </td></tr>\n",
       "\t<tr><th scope=row>education</th><td>  4.00</td><td>  2.00</td><td>  1.00</td><td>  3.00</td><td>  3.0 </td><td>  2.0 </td></tr>\n",
       "\t<tr><th scope=row>currentSmoker</th><td>  0.00</td><td>  0.00</td><td>  1.00</td><td>  1.00</td><td>  1.0 </td><td>  0.0 </td></tr>\n",
       "\t<tr><th scope=row>cigsPerDay</th><td>  0.00</td><td>  0.00</td><td> 20.00</td><td> 30.00</td><td> 23.0 </td><td>  0.0 </td></tr>\n",
       "\t<tr><th scope=row>BPMeds</th><td>  0.00</td><td>  0.00</td><td>  0.00</td><td>  0.00</td><td>  0.0 </td><td>  0.0 </td></tr>\n",
       "\t<tr><th scope=row>prevalentStroke</th><td>  0.00</td><td>  0.00</td><td>  0.00</td><td>  0.00</td><td>  0.0 </td><td>  0.0 </td></tr>\n",
       "\t<tr><th scope=row>prevalentHyp</th><td>  0.00</td><td>  0.00</td><td>  0.00</td><td>  1.00</td><td>  0.0 </td><td>  1.0 </td></tr>\n",
       "\t<tr><th scope=row>diabetes</th><td>  0.00</td><td>  0.00</td><td>  0.00</td><td>  0.00</td><td>  0.0 </td><td>  0.0 </td></tr>\n",
       "\t<tr><th scope=row>totChol</th><td>195.00</td><td>250.00</td><td>245.00</td><td>225.00</td><td>285.0 </td><td>228.0 </td></tr>\n",
       "\t<tr><th scope=row>sysBP</th><td>106.00</td><td>121.00</td><td>127.50</td><td>150.00</td><td>130.0 </td><td>180.0 </td></tr>\n",
       "\t<tr><th scope=row>diaBP</th><td> 70.00</td><td> 81.00</td><td> 80.00</td><td> 95.00</td><td> 84.0 </td><td>110.0 </td></tr>\n",
       "\t<tr><th scope=row>BMI</th><td> 26.97</td><td> 28.73</td><td> 25.34</td><td> 28.58</td><td> 23.1 </td><td> 30.3 </td></tr>\n",
       "\t<tr><th scope=row>heartRate</th><td> 80.00</td><td> 95.00</td><td> 75.00</td><td> 65.00</td><td> 85.0 </td><td> 77.0 </td></tr>\n",
       "\t<tr><th scope=row>glucose</th><td> 77.00</td><td> 76.00</td><td> 70.00</td><td>103.00</td><td> 85.0 </td><td> 99.0 </td></tr>\n",
       "\t<tr><th scope=row>TenYearCHD</th><td>  0.00</td><td>  0.00</td><td>  0.00</td><td>  1.00</td><td>  0.0 </td><td>  0.0 </td></tr>\n",
       "</tbody>\n",
       "</table>\n"
      ],
      "text/latex": [
       "\\begin{tabular}{r|llllll}\n",
       "  & 1 & 2 & 3 & 4 & 5 & 6\\\\\n",
       "\\hline\n",
       "\tmale &   1.00 &   0.00 &   1.00 &   0.00 &   0.0  &   0.0 \\\\\n",
       "\tage &  39.00 &  46.00 &  48.00 &  61.00 &  46.0  &  43.0 \\\\\n",
       "\teducation &   4.00 &   2.00 &   1.00 &   3.00 &   3.0  &   2.0 \\\\\n",
       "\tcurrentSmoker &   0.00 &   0.00 &   1.00 &   1.00 &   1.0  &   0.0 \\\\\n",
       "\tcigsPerDay &   0.00 &   0.00 &  20.00 &  30.00 &  23.0  &   0.0 \\\\\n",
       "\tBPMeds &   0.00 &   0.00 &   0.00 &   0.00 &   0.0  &   0.0 \\\\\n",
       "\tprevalentStroke &   0.00 &   0.00 &   0.00 &   0.00 &   0.0  &   0.0 \\\\\n",
       "\tprevalentHyp &   0.00 &   0.00 &   0.00 &   1.00 &   0.0  &   1.0 \\\\\n",
       "\tdiabetes &   0.00 &   0.00 &   0.00 &   0.00 &   0.0  &   0.0 \\\\\n",
       "\ttotChol & 195.00 & 250.00 & 245.00 & 225.00 & 285.0  & 228.0 \\\\\n",
       "\tsysBP & 106.00 & 121.00 & 127.50 & 150.00 & 130.0  & 180.0 \\\\\n",
       "\tdiaBP &  70.00 &  81.00 &  80.00 &  95.00 &  84.0  & 110.0 \\\\\n",
       "\tBMI &  26.97 &  28.73 &  25.34 &  28.58 &  23.1  &  30.3 \\\\\n",
       "\theartRate &  80.00 &  95.00 &  75.00 &  65.00 &  85.0  &  77.0 \\\\\n",
       "\tglucose &  77.00 &  76.00 &  70.00 & 103.00 &  85.0  &  99.0 \\\\\n",
       "\tTenYearCHD &   0.00 &   0.00 &   0.00 &   1.00 &   0.0  &   0.0 \\\\\n",
       "\\end{tabular}\n"
      ],
      "text/markdown": [
       "\n",
       "| <!--/--> | 1 | 2 | 3 | 4 | 5 | 6 | \n",
       "|---|---|---|---|---|---|---|---|---|---|---|---|---|---|---|---|\n",
       "| male |   1.00 |   0.00 |   1.00 |   0.00 |   0.0  |   0.0  | \n",
       "| age |  39.00 |  46.00 |  48.00 |  61.00 |  46.0  |  43.0  | \n",
       "| education |   4.00 |   2.00 |   1.00 |   3.00 |   3.0  |   2.0  | \n",
       "| currentSmoker |   0.00 |   0.00 |   1.00 |   1.00 |   1.0  |   0.0  | \n",
       "| cigsPerDay |   0.00 |   0.00 |  20.00 |  30.00 |  23.0  |   0.0  | \n",
       "| BPMeds |   0.00 |   0.00 |   0.00 |   0.00 |   0.0  |   0.0  | \n",
       "| prevalentStroke |   0.00 |   0.00 |   0.00 |   0.00 |   0.0  |   0.0  | \n",
       "| prevalentHyp |   0.00 |   0.00 |   0.00 |   1.00 |   0.0  |   1.0  | \n",
       "| diabetes |   0.00 |   0.00 |   0.00 |   0.00 |   0.0  |   0.0  | \n",
       "| totChol | 195.00 | 250.00 | 245.00 | 225.00 | 285.0  | 228.0  | \n",
       "| sysBP | 106.00 | 121.00 | 127.50 | 150.00 | 130.0  | 180.0  | \n",
       "| diaBP |  70.00 |  81.00 |  80.00 |  95.00 |  84.0  | 110.0  | \n",
       "| BMI |  26.97 |  28.73 |  25.34 |  28.58 |  23.1  |  30.3  | \n",
       "| heartRate |  80.00 |  95.00 |  75.00 |  65.00 |  85.0  |  77.0  | \n",
       "| glucose |  77.00 |  76.00 |  70.00 | 103.00 |  85.0  |  99.0  | \n",
       "| TenYearCHD |   0.00 |   0.00 |   0.00 |   1.00 |   0.0  |   0.0  | \n",
       "\n",
       "\n"
      ],
      "text/plain": [
       "                1      2      3      4      5     6    \n",
       "male              1.00   0.00   1.00   0.00   0.0   0.0\n",
       "age              39.00  46.00  48.00  61.00  46.0  43.0\n",
       "education         4.00   2.00   1.00   3.00   3.0   2.0\n",
       "currentSmoker     0.00   0.00   1.00   1.00   1.0   0.0\n",
       "cigsPerDay        0.00   0.00  20.00  30.00  23.0   0.0\n",
       "BPMeds            0.00   0.00   0.00   0.00   0.0   0.0\n",
       "prevalentStroke   0.00   0.00   0.00   0.00   0.0   0.0\n",
       "prevalentHyp      0.00   0.00   0.00   1.00   0.0   1.0\n",
       "diabetes          0.00   0.00   0.00   0.00   0.0   0.0\n",
       "totChol         195.00 250.00 245.00 225.00 285.0 228.0\n",
       "sysBP           106.00 121.00 127.50 150.00 130.0 180.0\n",
       "diaBP            70.00  81.00  80.00  95.00  84.0 110.0\n",
       "BMI              26.97  28.73  25.34  28.58  23.1  30.3\n",
       "heartRate        80.00  95.00  75.00  65.00  85.0  77.0\n",
       "glucose          77.00  76.00  70.00 103.00  85.0  99.0\n",
       "TenYearCHD        0.00   0.00   0.00   1.00   0.0   0.0"
      ]
     },
     "metadata": {},
     "output_type": "display_data"
    }
   ],
   "source": [
    "t(head(framingham_data))"
   ]
  },
  {
   "cell_type": "code",
   "execution_count": 3,
   "metadata": {
    "collapsed": true
   },
   "outputs": [],
   "source": [
    "framingham_data[\"pulseP\"] <- (framingham_data$sysBP - framingham_data$diaBP)\n",
    "\n",
    "framingham_data_male   <- subset(framingham_data, (male==1 & age > 18 & BPMeds == 0), select=c(2,11:14,17))\n",
    "framingham_data_female <- subset(framingham_data, (male==0 & age > 18 & BPMeds == 0), select=c(2,11:14,17))"
   ]
  },
  {
   "cell_type": "code",
   "execution_count": 4,
   "metadata": {},
   "outputs": [
    {
     "data": {
      "text/html": [
       "<table>\n",
       "<thead><tr><th></th><th scope=col>age</th><th scope=col>sysBP</th><th scope=col>diaBP</th><th scope=col>BMI</th><th scope=col>heartRate</th><th scope=col>pulseP</th></tr></thead>\n",
       "<tbody>\n",
       "\t<tr><th scope=row>1</th><td>39   </td><td>106.0</td><td> 70  </td><td>26.97</td><td>80   </td><td>36.0 </td></tr>\n",
       "\t<tr><th scope=row>3</th><td>48   </td><td>127.5</td><td> 80  </td><td>25.34</td><td>75   </td><td>47.5 </td></tr>\n",
       "\t<tr><th scope=row>9</th><td>52   </td><td>141.5</td><td> 89  </td><td>26.36</td><td>76   </td><td>52.5 </td></tr>\n",
       "\t<tr><th scope=row>10</th><td>43   </td><td>162.0</td><td>107  </td><td>23.61</td><td>93   </td><td>55.0 </td></tr>\n",
       "\t<tr><th scope=row>13</th><td>46   </td><td>142.0</td><td> 94  </td><td>26.31</td><td>98   </td><td>48.0 </td></tr>\n",
       "\t<tr><th scope=row>17</th><td>48   </td><td>138.0</td><td> 90  </td><td>22.37</td><td>64   </td><td>48.0 </td></tr>\n",
       "</tbody>\n",
       "</table>\n"
      ],
      "text/latex": [
       "\\begin{tabular}{r|llllll}\n",
       "  & age & sysBP & diaBP & BMI & heartRate & pulseP\\\\\n",
       "\\hline\n",
       "\t1 & 39    & 106.0 &  70   & 26.97 & 80    & 36.0 \\\\\n",
       "\t3 & 48    & 127.5 &  80   & 25.34 & 75    & 47.5 \\\\\n",
       "\t9 & 52    & 141.5 &  89   & 26.36 & 76    & 52.5 \\\\\n",
       "\t10 & 43    & 162.0 & 107   & 23.61 & 93    & 55.0 \\\\\n",
       "\t13 & 46    & 142.0 &  94   & 26.31 & 98    & 48.0 \\\\\n",
       "\t17 & 48    & 138.0 &  90   & 22.37 & 64    & 48.0 \\\\\n",
       "\\end{tabular}\n"
      ],
      "text/markdown": [
       "\n",
       "| <!--/--> | age | sysBP | diaBP | BMI | heartRate | pulseP | \n",
       "|---|---|---|---|---|---|\n",
       "| 1 | 39    | 106.0 |  70   | 26.97 | 80    | 36.0  | \n",
       "| 3 | 48    | 127.5 |  80   | 25.34 | 75    | 47.5  | \n",
       "| 9 | 52    | 141.5 |  89   | 26.36 | 76    | 52.5  | \n",
       "| 10 | 43    | 162.0 | 107   | 23.61 | 93    | 55.0  | \n",
       "| 13 | 46    | 142.0 |  94   | 26.31 | 98    | 48.0  | \n",
       "| 17 | 48    | 138.0 |  90   | 22.37 | 64    | 48.0  | \n",
       "\n",
       "\n"
      ],
      "text/plain": [
       "   age sysBP diaBP BMI   heartRate pulseP\n",
       "1  39  106.0  70   26.97 80        36.0  \n",
       "3  48  127.5  80   25.34 75        47.5  \n",
       "9  52  141.5  89   26.36 76        52.5  \n",
       "10 43  162.0 107   23.61 93        55.0  \n",
       "13 46  142.0  94   26.31 98        48.0  \n",
       "17 48  138.0  90   22.37 64        48.0  "
      ]
     },
     "metadata": {},
     "output_type": "display_data"
    }
   ],
   "source": [
    "head(framingham_data_male)"
   ]
  },
  {
   "cell_type": "code",
   "execution_count": 5,
   "metadata": {},
   "outputs": [
    {
     "data": {
      "text/html": [
       "<table>\n",
       "<thead><tr><th></th><th scope=col>age</th><th scope=col>sysBP</th><th scope=col>diaBP</th><th scope=col>BMI</th><th scope=col>heartRate</th><th scope=col>pulseP</th></tr></thead>\n",
       "<tbody>\n",
       "\t<tr><th scope=row>2</th><td>46   </td><td>121  </td><td> 81  </td><td>28.73</td><td>95   </td><td>40   </td></tr>\n",
       "\t<tr><th scope=row>4</th><td>61   </td><td>150  </td><td> 95  </td><td>28.58</td><td>65   </td><td>55   </td></tr>\n",
       "\t<tr><th scope=row>5</th><td>46   </td><td>130  </td><td> 84  </td><td>23.10</td><td>85   </td><td>46   </td></tr>\n",
       "\t<tr><th scope=row>6</th><td>43   </td><td>180  </td><td>110  </td><td>30.30</td><td>77   </td><td>70   </td></tr>\n",
       "\t<tr><th scope=row>7</th><td>63   </td><td>138  </td><td> 71  </td><td>33.11</td><td>60   </td><td>67   </td></tr>\n",
       "\t<tr><th scope=row>8</th><td>45   </td><td>100  </td><td> 71  </td><td>21.68</td><td>79   </td><td>29   </td></tr>\n",
       "</tbody>\n",
       "</table>\n"
      ],
      "text/latex": [
       "\\begin{tabular}{r|llllll}\n",
       "  & age & sysBP & diaBP & BMI & heartRate & pulseP\\\\\n",
       "\\hline\n",
       "\t2 & 46    & 121   &  81   & 28.73 & 95    & 40   \\\\\n",
       "\t4 & 61    & 150   &  95   & 28.58 & 65    & 55   \\\\\n",
       "\t5 & 46    & 130   &  84   & 23.10 & 85    & 46   \\\\\n",
       "\t6 & 43    & 180   & 110   & 30.30 & 77    & 70   \\\\\n",
       "\t7 & 63    & 138   &  71   & 33.11 & 60    & 67   \\\\\n",
       "\t8 & 45    & 100   &  71   & 21.68 & 79    & 29   \\\\\n",
       "\\end{tabular}\n"
      ],
      "text/markdown": [
       "\n",
       "| <!--/--> | age | sysBP | diaBP | BMI | heartRate | pulseP | \n",
       "|---|---|---|---|---|---|\n",
       "| 2 | 46    | 121   |  81   | 28.73 | 95    | 40    | \n",
       "| 4 | 61    | 150   |  95   | 28.58 | 65    | 55    | \n",
       "| 5 | 46    | 130   |  84   | 23.10 | 85    | 46    | \n",
       "| 6 | 43    | 180   | 110   | 30.30 | 77    | 70    | \n",
       "| 7 | 63    | 138   |  71   | 33.11 | 60    | 67    | \n",
       "| 8 | 45    | 100   |  71   | 21.68 | 79    | 29    | \n",
       "\n",
       "\n"
      ],
      "text/plain": [
       "  age sysBP diaBP BMI   heartRate pulseP\n",
       "2 46  121    81   28.73 95        40    \n",
       "4 61  150    95   28.58 65        55    \n",
       "5 46  130    84   23.10 85        46    \n",
       "6 43  180   110   30.30 77        70    \n",
       "7 63  138    71   33.11 60        67    \n",
       "8 45  100    71   21.68 79        29    "
      ]
     },
     "metadata": {},
     "output_type": "display_data"
    }
   ],
   "source": [
    "head(framingham_data_female)"
   ]
  },
  {
   "cell_type": "code",
   "execution_count": 6,
   "metadata": {},
   "outputs": [
    {
     "data": {
      "text/plain": [
       "\n",
       "Call:\n",
       "lm(formula = pulseP ~ age + BMI, data = framingham_data_female)\n",
       "\n",
       "Residuals:\n",
       "    Min      1Q  Median      3Q     Max \n",
       "-34.179  -8.623  -1.283   6.603  91.553 \n",
       "\n",
       "Coefficients:\n",
       "            Estimate Std. Error t value Pr(>|t|)    \n",
       "(Intercept) -2.37378    2.06408  -1.150     0.25    \n",
       "age          0.78774    0.03311  23.789  < 2e-16 ***\n",
       "BMI          0.52565    0.06374   8.246 2.73e-16 ***\n",
       "---\n",
       "Signif. codes:  0 '***' 0.001 '**' 0.01 '*' 0.05 '.' 0.1 ' ' 1\n",
       "\n",
       "Residual standard error: 13.1 on 2277 degrees of freedom\n",
       "  (13 observations deleted due to missingness)\n",
       "Multiple R-squared:  0.2477,\tAdjusted R-squared:  0.2471 \n",
       "F-statistic: 374.9 on 2 and 2277 DF,  p-value: < 2.2e-16\n"
      ]
     },
     "metadata": {},
     "output_type": "display_data"
    },
    {
     "name": "stdout",
     "output_type": "stream",
     "text": [
      "[1] \"=====================\"\n"
     ]
    },
    {
     "data": {
      "text/plain": [
       "\n",
       "Call:\n",
       "lm(formula = pulseP ~ age + BMI + heartRate, data = framingham_data_female)\n",
       "\n",
       "Residuals:\n",
       "    Min      1Q  Median      3Q     Max \n",
       "-35.227  -8.704  -1.157   6.607  90.056 \n",
       "\n",
       "Coefficients:\n",
       "             Estimate Std. Error t value Pr(>|t|)    \n",
       "(Intercept) -11.20639    2.63871  -4.247 2.25e-05 ***\n",
       "age           0.79015    0.03292  24.003  < 2e-16 ***\n",
       "BMI           0.50019    0.06354   7.872 5.37e-15 ***\n",
       "heartRate     0.12134    0.02279   5.323 1.12e-07 ***\n",
       "---\n",
       "Signif. codes:  0 '***' 0.001 '**' 0.01 '*' 0.05 '.' 0.1 ' ' 1\n",
       "\n",
       "Residual standard error: 13.03 on 2276 degrees of freedom\n",
       "  (13 observations deleted due to missingness)\n",
       "Multiple R-squared:  0.257,\tAdjusted R-squared:  0.256 \n",
       "F-statistic: 262.4 on 3 and 2276 DF,  p-value: < 2.2e-16\n"
      ]
     },
     "metadata": {},
     "output_type": "display_data"
    }
   ],
   "source": [
    "\n",
    "pp_female1 <- lm(pulseP ~ age + BMI, data = framingham_data_female)\n",
    "summary(pp_female1)\n",
    "\n",
    "print(\"=====================\")\n",
    "\n",
    "pp_female2 <- lm(pulseP ~ age + BMI + heartRate, data = framingham_data_female)\n",
    "summary(pp_female2)"
   ]
  },
  {
   "cell_type": "code",
   "execution_count": 7,
   "metadata": {},
   "outputs": [
    {
     "data": {
      "text/plain": [
       "\n",
       "Call:\n",
       "lm(formula = pulseP ~ age + BMI, data = framingham_data_male)\n",
       "\n",
       "Residuals:\n",
       "    Min      1Q  Median      3Q     Max \n",
       "-28.407  -7.906  -1.154   5.576  70.409 \n",
       "\n",
       "Coefficients:\n",
       "            Estimate Std. Error t value Pr(>|t|)    \n",
       "(Intercept) 19.41515    2.68002   7.244 6.47e-13 ***\n",
       "age          0.44985    0.03240  13.883  < 2e-16 ***\n",
       "BMI          0.22087    0.08097   2.728  0.00644 ** \n",
       "---\n",
       "Signif. codes:  0 '***' 0.001 '**' 0.01 '*' 0.05 '.' 0.1 ' ' 1\n",
       "\n",
       "Residual standard error: 11.6 on 1762 degrees of freedom\n",
       "  (5 observations deleted due to missingness)\n",
       "Multiple R-squared:  0.1016,\tAdjusted R-squared:  0.1006 \n",
       "F-statistic: 99.68 on 2 and 1762 DF,  p-value: < 2.2e-16\n"
      ]
     },
     "metadata": {},
     "output_type": "display_data"
    },
    {
     "name": "stdout",
     "output_type": "stream",
     "text": [
      "[1] \"=======================\"\n"
     ]
    },
    {
     "data": {
      "text/plain": [
       "\n",
       "Call:\n",
       "lm(formula = pulseP ~ age + BMI + heartRate, data = framingham_data_male)\n",
       "\n",
       "Residuals:\n",
       "    Min      1Q  Median      3Q     Max \n",
       "-29.297  -7.790  -1.062   5.604  71.141 \n",
       "\n",
       "Coefficients:\n",
       "            Estimate Std. Error t value Pr(>|t|)    \n",
       "(Intercept) 10.28534    3.08322   3.336 0.000868 ***\n",
       "age          0.45157    0.03201  14.106  < 2e-16 ***\n",
       "BMI          0.16487    0.08032   2.053 0.040245 *  \n",
       "heartRate    0.14137    0.02348   6.020 2.12e-09 ***\n",
       "---\n",
       "Signif. codes:  0 '***' 0.001 '**' 0.01 '*' 0.05 '.' 0.1 ' ' 1\n",
       "\n",
       "Residual standard error: 11.44 on 1760 degrees of freedom\n",
       "  (6 observations deleted due to missingness)\n",
       "Multiple R-squared:  0.1182,\tAdjusted R-squared:  0.1167 \n",
       "F-statistic: 78.62 on 3 and 1760 DF,  p-value: < 2.2e-16\n"
      ]
     },
     "metadata": {},
     "output_type": "display_data"
    }
   ],
   "source": [
    "\n",
    "pp_male1 <- lm(pulseP ~ age + BMI, data = framingham_data_male)\n",
    "summary(pp_male1)\n",
    "\n",
    "print(\"=======================\")\n",
    "\n",
    "pp_male2 <- lm(pulseP ~ age + BMI + heartRate, data = framingham_data_male)\n",
    "summary(pp_male2)"
   ]
  },
  {
   "cell_type": "code",
   "execution_count": 8,
   "metadata": {},
   "outputs": [
    {
     "name": "stdout",
     "output_type": "stream",
     "text": [
      "'data.frame':\t21613 obs. of  22 variables:\n",
      " $ X            : int  1 2 3 4 5 6 7 8 9 10 ...\n",
      " $ id           : num  7.13e+09 6.41e+09 5.63e+09 2.49e+09 1.95e+09 ...\n",
      " $ date         : Factor w/ 372 levels \"20140502T000000\",..: 165 221 291 221 284 11 57 252 340 306 ...\n",
      " $ price        : num  221900 538000 180000 604000 510000 ...\n",
      " $ bedrooms     : int  3 3 2 4 3 4 3 3 3 3 ...\n",
      " $ bathrooms    : num  1 2.25 1 3 2 4.5 2.25 1.5 1 2.5 ...\n",
      " $ sqft_living  : int  1180 2570 770 1960 1680 5420 1715 1060 1780 1890 ...\n",
      " $ sqft_lot     : int  5650 7242 10000 5000 8080 101930 6819 9711 7470 6560 ...\n",
      " $ floors       : num  1 2 1 1 1 1 2 1 1 2 ...\n",
      " $ waterfront   : int  0 0 0 0 0 0 0 0 0 0 ...\n",
      " $ view         : int  0 0 0 0 0 0 0 0 0 0 ...\n",
      " $ condition    : int  3 3 3 5 3 3 3 3 3 3 ...\n",
      " $ grade        : int  7 7 6 7 8 11 7 7 7 7 ...\n",
      " $ sqft_above   : int  1180 2170 770 1050 1680 3890 1715 1060 1050 1890 ...\n",
      " $ sqft_basement: int  0 400 0 910 0 1530 0 0 730 0 ...\n",
      " $ yr_built     : int  1955 1951 1933 1965 1987 2001 1995 1963 1960 2003 ...\n",
      " $ yr_renovated : int  0 1991 0 0 0 0 0 0 0 0 ...\n",
      " $ zipcode      : int  98178 98125 98028 98136 98074 98053 98003 98198 98146 98038 ...\n",
      " $ lat          : num  47.5 47.7 47.7 47.5 47.6 ...\n",
      " $ long         : num  -122 -122 -122 -122 -122 ...\n",
      " $ sqft_living15: int  1340 1690 2720 1360 1800 4760 2238 1650 1780 2390 ...\n",
      " $ sqft_lot15   : int  5650 7639 8062 5000 7503 101930 6819 9711 8113 7570 ...\n"
     ]
    }
   ],
   "source": [
    "housing_data <- read.csv(\"datasets/kc_house_data.csv\",\n",
    "                         header=TRUE)\n",
    "str(housing_data)"
   ]
  },
  {
   "cell_type": "code",
   "execution_count": 9,
   "metadata": {},
   "outputs": [
    {
     "data": {
      "text/plain": [
       "\n",
       "Call:\n",
       "lm(formula = price ~ sqft_living, data = housing_data)\n",
       "\n",
       "Residuals:\n",
       "     Min       1Q   Median       3Q      Max \n",
       "-1476062  -147486   -24043   106182  4362067 \n",
       "\n",
       "Coefficients:\n",
       "              Estimate Std. Error t value Pr(>|t|)    \n",
       "(Intercept) -43580.743   4402.690  -9.899   <2e-16 ***\n",
       "sqft_living    280.624      1.936 144.920   <2e-16 ***\n",
       "---\n",
       "Signif. codes:  0 '***' 0.001 '**' 0.01 '*' 0.05 '.' 0.1 ' ' 1\n",
       "\n",
       "Residual standard error: 261500 on 21611 degrees of freedom\n",
       "Multiple R-squared:  0.4929,\tAdjusted R-squared:  0.4928 \n",
       "F-statistic: 2.1e+04 on 1 and 21611 DF,  p-value: < 2.2e-16\n"
      ]
     },
     "metadata": {},
     "output_type": "display_data"
    }
   ],
   "source": [
    "houseprice_reg <- lm(price ~ sqft_living, data = housing_data)\n",
    "summary(houseprice_reg)"
   ]
  },
  {
   "cell_type": "code",
   "execution_count": 10,
   "metadata": {},
   "outputs": [
    {
     "data": {
      "text/plain": [
       "\n",
       "Call:\n",
       "lm(formula = price ~ sqft_living + bedrooms, data = housing_data)\n",
       "\n",
       "Residuals:\n",
       "     Min       1Q   Median       3Q      Max \n",
       "-1650867  -143866   -23143   102344  4179850 \n",
       "\n",
       "Coefficients:\n",
       "              Estimate Std. Error t value Pr(>|t|)    \n",
       "(Intercept)  79469.359   6604.764   12.03   <2e-16 ***\n",
       "sqft_living    313.949      2.337  134.31   <2e-16 ***\n",
       "bedrooms    -57066.759   2308.223  -24.72   <2e-16 ***\n",
       "---\n",
       "Signif. codes:  0 '***' 0.001 '**' 0.01 '*' 0.05 '.' 0.1 ' ' 1\n",
       "\n",
       "Residual standard error: 257800 on 21610 degrees of freedom\n",
       "Multiple R-squared:  0.5068,\tAdjusted R-squared:  0.5068 \n",
       "F-statistic: 1.11e+04 on 2 and 21610 DF,  p-value: < 2.2e-16\n"
      ]
     },
     "metadata": {},
     "output_type": "display_data"
    }
   ],
   "source": [
    "houseprice_reg2 <- lm(price ~ sqft_living + bedrooms, data = housing_data)\n",
    "summary(houseprice_reg2)"
   ]
  },
  {
   "cell_type": "code",
   "execution_count": 11,
   "metadata": {},
   "outputs": [
    {
     "data": {
      "text/plain": [
       "\n",
       "Call:\n",
       "lm(formula = price ~ sqft_living + bedrooms + sqft_lot, data = housing_data)\n",
       "\n",
       "Residuals:\n",
       "     Min       1Q   Median       3Q      Max \n",
       "-1578538  -143639   -22850   102992  4149420 \n",
       "\n",
       "Coefficients:\n",
       "              Estimate Std. Error t value Pr(>|t|)    \n",
       "(Intercept)  8.278e+04  6.604e+03  12.536   <2e-16 ***\n",
       "sqft_living  3.179e+02  2.376e+00 133.801   <2e-16 ***\n",
       "bedrooms    -5.880e+04  2.312e+03 -25.428   <2e-16 ***\n",
       "sqft_lot    -3.818e-01  4.307e-02  -8.866   <2e-16 ***\n",
       "---\n",
       "Signif. codes:  0 '***' 0.001 '**' 0.01 '*' 0.05 '.' 0.1 ' ' 1\n",
       "\n",
       "Residual standard error: 257400 on 21609 degrees of freedom\n",
       "Multiple R-squared:  0.5086,\tAdjusted R-squared:  0.5085 \n",
       "F-statistic:  7455 on 3 and 21609 DF,  p-value: < 2.2e-16\n"
      ]
     },
     "metadata": {},
     "output_type": "display_data"
    }
   ],
   "source": [
    "houseprice_reg3 <- lm(price ~ sqft_living + bedrooms + sqft_lot, data = housing_data)\n",
    "summary(houseprice_reg3)"
   ]
  },
  {
   "cell_type": "code",
   "execution_count": 12,
   "metadata": {},
   "outputs": [
    {
     "data": {
      "text/plain": [
       "\n",
       "Call:\n",
       "lm(formula = price ~ sqft_living + bedrooms + sqft_lot + floors, \n",
       "    data = housing_data)\n",
       "\n",
       "Residuals:\n",
       "     Min       1Q   Median       3Q      Max \n",
       "-1577821  -143544   -22590   102907  4150548 \n",
       "\n",
       "Coefficients:\n",
       "              Estimate Std. Error t value Pr(>|t|)    \n",
       "(Intercept)  8.175e+04  7.674e+03  10.653   <2e-16 ***\n",
       "sqft_living  3.177e+02  2.510e+00 126.577   <2e-16 ***\n",
       "bedrooms    -5.877e+04  2.315e+03 -25.391   <2e-16 ***\n",
       "sqft_lot    -3.810e-01  4.319e-02  -8.820   <2e-16 ***\n",
       "floors       9.216e+02  3.479e+03   0.265    0.791    \n",
       "---\n",
       "Signif. codes:  0 '***' 0.001 '**' 0.01 '*' 0.05 '.' 0.1 ' ' 1\n",
       "\n",
       "Residual standard error: 257400 on 21608 degrees of freedom\n",
       "Multiple R-squared:  0.5086,\tAdjusted R-squared:  0.5085 \n",
       "F-statistic:  5591 on 4 and 21608 DF,  p-value: < 2.2e-16\n"
      ]
     },
     "metadata": {},
     "output_type": "display_data"
    }
   ],
   "source": [
    "houseprice_reg4 <- lm(price ~ sqft_living + bedrooms + sqft_lot + floors, data = housing_data)\n",
    "summary(houseprice_reg4)"
   ]
  },
  {
   "cell_type": "code",
   "execution_count": 13,
   "metadata": {},
   "outputs": [
    {
     "data": {
      "text/plain": [
       "\n",
       "Call:\n",
       "lm(formula = price ~ sqft_living + bedrooms + sqft_lot + floors + \n",
       "    bathrooms, data = housing_data)\n",
       "\n",
       "Residuals:\n",
       "     Min       1Q   Median       3Q      Max \n",
       "-1573404  -143855   -22380   102493  4148365 \n",
       "\n",
       "Coefficients:\n",
       "              Estimate Std. Error t value Pr(>|t|)    \n",
       "(Intercept)  8.066e+04  7.696e+03  10.481   <2e-16 ***\n",
       "sqft_living  3.143e+02  3.132e+00 100.355   <2e-16 ***\n",
       "bedrooms    -5.953e+04  2.351e+03 -25.319   <2e-16 ***\n",
       "sqft_lot    -3.788e-01  4.320e-02  -8.769   <2e-16 ***\n",
       "floors      -1.758e+03  3.776e+03  -0.466   0.6415    \n",
       "bathrooms    6.958e+03  3.809e+03   1.827   0.0678 .  \n",
       "---\n",
       "Signif. codes:  0 '***' 0.001 '**' 0.01 '*' 0.05 '.' 0.1 ' ' 1\n",
       "\n",
       "Residual standard error: 257400 on 21607 degrees of freedom\n",
       "Multiple R-squared:  0.5087,\tAdjusted R-squared:  0.5086 \n",
       "F-statistic:  4474 on 5 and 21607 DF,  p-value: < 2.2e-16\n"
      ]
     },
     "metadata": {},
     "output_type": "display_data"
    }
   ],
   "source": [
    "houseprice_reg5 <- lm(price ~ sqft_living + bedrooms + sqft_lot + floors + bathrooms, \n",
    "                          data = housing_data)\n",
    "summary(houseprice_reg5)"
   ]
  },
  {
   "cell_type": "code",
   "execution_count": 14,
   "metadata": {},
   "outputs": [
    {
     "data": {
      "text/plain": [
       "\n",
       "Call:\n",
       "lm(formula = price ~ sqft_living + bedrooms + sqft_lot + floors + \n",
       "    bathrooms + waterfront + view, data = housing_data)\n",
       "\n",
       "Residuals:\n",
       "     Min       1Q   Median       3Q      Max \n",
       "-1533199  -134322   -17631   101548  4229409 \n",
       "\n",
       "Coefficients:\n",
       "              Estimate Std. Error t value Pr(>|t|)    \n",
       "(Intercept)  6.764e+04  7.277e+03   9.295   <2e-16 ***\n",
       "sqft_living  2.818e+02  3.047e+00  92.496   <2e-16 ***\n",
       "bedrooms    -4.645e+04  2.237e+03 -20.764   <2e-16 ***\n",
       "sqft_lot    -3.893e-01  4.083e-02  -9.534   <2e-16 ***\n",
       "floors       8.905e+03  3.580e+03   2.488   0.0129 *  \n",
       "bathrooms    6.604e+03  3.600e+03   1.835   0.0666 .  \n",
       "waterfront   5.529e+05  2.091e+04  26.445   <2e-16 ***\n",
       "view         7.374e+04  2.464e+03  29.929   <2e-16 ***\n",
       "---\n",
       "Signif. codes:  0 '***' 0.001 '**' 0.01 '*' 0.05 '.' 0.1 ' ' 1\n",
       "\n",
       "Residual standard error: 243200 on 21605 degrees of freedom\n",
       "Multiple R-squared:  0.5613,\tAdjusted R-squared:  0.5611 \n",
       "F-statistic:  3948 on 7 and 21605 DF,  p-value: < 2.2e-16\n"
      ]
     },
     "metadata": {},
     "output_type": "display_data"
    }
   ],
   "source": [
    "houseprice_reg6 <- lm(price ~ sqft_living + bedrooms + sqft_lot + floors + bathrooms + waterfront + view, \n",
    "                      data=housing_data)\n",
    "summary(houseprice_reg6)"
   ]
  },
  {
   "cell_type": "code",
   "execution_count": 15,
   "metadata": {},
   "outputs": [
    {
     "data": {
      "text/plain": [
       "\n",
       "Call:\n",
       "lm(formula = price ~ sqft_living + bedrooms + sqft_lot + floors + \n",
       "    bathrooms + waterfront + view + zipcode, data = housing_data)\n",
       "\n",
       "Residuals:\n",
       "     Min       1Q   Median       3Q      Max \n",
       "-1574440  -132511   -17873   101050  4183409 \n",
       "\n",
       "Coefficients:\n",
       "              Estimate Std. Error t value Pr(>|t|)    \n",
       "(Intercept) -3.684e+07  3.156e+06 -11.673  < 2e-16 ***\n",
       "sqft_living  2.844e+02  3.045e+00  93.383  < 2e-16 ***\n",
       "bedrooms    -4.585e+04  2.231e+03 -20.556  < 2e-16 ***\n",
       "sqft_lot    -3.374e-01  4.095e-02  -8.240  < 2e-16 ***\n",
       "floors       6.775e+03  3.573e+03   1.896  0.05797 .  \n",
       "bathrooms    1.054e+04  3.604e+03   2.926  0.00344 ** \n",
       "waterfront   5.555e+05  2.084e+04  26.652  < 2e-16 ***\n",
       "view         6.956e+04  2.482e+03  28.027  < 2e-16 ***\n",
       "zipcode      3.762e+02  3.216e+01  11.695  < 2e-16 ***\n",
       "---\n",
       "Signif. codes:  0 '***' 0.001 '**' 0.01 '*' 0.05 '.' 0.1 ' ' 1\n",
       "\n",
       "Residual standard error: 242500 on 21604 degrees of freedom\n",
       "Multiple R-squared:  0.564,\tAdjusted R-squared:  0.5638 \n",
       "F-statistic:  3493 on 8 and 21604 DF,  p-value: < 2.2e-16\n"
      ]
     },
     "metadata": {},
     "output_type": "display_data"
    }
   ],
   "source": [
    "houseprice_reg7 <- lm(price ~ sqft_living + bedrooms + sqft_lot + floors + bathrooms + waterfront + view + zipcode, \n",
    "                     data=housing_data)\n",
    "\n",
    "summary(houseprice_reg7)"
   ]
  },
  {
   "cell_type": "code",
   "execution_count": 16,
   "metadata": {},
   "outputs": [
    {
     "data": {
      "text/plain": [
       "\n",
       "Call:\n",
       "lm(formula = price ~ sqft_living + bedrooms + sqft_lot + floors + \n",
       "    bathrooms + waterfront + view + zipcode + lat + long, data = housing_data)\n",
       "\n",
       "Residuals:\n",
       "     Min       1Q   Median       3Q      Max \n",
       "-1598522  -110863   -10061    83489  4203954 \n",
       "\n",
       "Coefficients:\n",
       "              Estimate Std. Error t value Pr(>|t|)    \n",
       "(Intercept) -1.484e+07  2.866e+06  -5.178 2.26e-07 ***\n",
       "sqft_living  2.721e+02  2.776e+00  98.031  < 2e-16 ***\n",
       "bedrooms    -4.189e+04  2.018e+03 -20.764  < 2e-16 ***\n",
       "sqft_lot     1.200e-02  3.766e-02   0.319   0.7499    \n",
       "floors       6.861e+03  3.231e+03   2.123   0.0337 *  \n",
       "bathrooms    1.369e+04  3.255e+03   4.205 2.62e-05 ***\n",
       "waterfront   5.715e+05  1.882e+04  30.358  < 2e-16 ***\n",
       "view         7.079e+04  2.251e+03  31.449  < 2e-16 ***\n",
       "zipcode     -6.390e+02  3.513e+01 -18.187  < 2e-16 ***\n",
       "lat          7.338e+05  1.128e+04  65.027  < 2e-16 ***\n",
       "long        -3.491e+05  1.327e+04 -26.308  < 2e-16 ***\n",
       "---\n",
       "Signif. codes:  0 '***' 0.001 '**' 0.01 '*' 0.05 '.' 0.1 ' ' 1\n",
       "\n",
       "Residual standard error: 218900 on 21602 degrees of freedom\n",
       "Multiple R-squared:  0.6447,\tAdjusted R-squared:  0.6445 \n",
       "F-statistic:  3919 on 10 and 21602 DF,  p-value: < 2.2e-16\n"
      ]
     },
     "metadata": {},
     "output_type": "display_data"
    }
   ],
   "source": [
    "houseprice_reg8 <- lm(price ~ sqft_living + bedrooms + sqft_lot + floors + bathrooms + waterfront + view + zipcode + lat + long, \n",
    "                     data = housing_data)\n",
    "summary(houseprice_reg8)"
   ]
  }
 ],
 "metadata": {
  "kernelspec": {
   "display_name": "R",
   "language": "R",
   "name": "ir"
  },
  "language_info": {
   "codemirror_mode": "r",
   "file_extension": ".r",
   "mimetype": "text/x-r-source",
   "name": "R",
   "pygments_lexer": "r",
   "version": "3.4.1"
  }
 },
 "nbformat": 4,
 "nbformat_minor": 2
}
