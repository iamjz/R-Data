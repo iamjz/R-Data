{
 "cells": [
  {
   "cell_type": "code",
   "execution_count": 71,
   "metadata": {},
   "outputs": [
    {
     "name": "stderr",
     "output_type": "stream",
     "text": [
      "Loading required package: lattice\n"
     ]
    }
   ],
   "source": [
    "library(caTools)\n",
    "library(ggplot2)\n",
    "library(plyr)\n",
    "library(MASS)\n",
    "library(e1071)\n",
    "library(caret)"
   ]
  },
  {
   "cell_type": "code",
   "execution_count": 72,
   "metadata": {
    "collapsed": true
   },
   "outputs": [],
   "source": [
    "glass_data <- read.csv(\"datasets/glass.csv\", header = TRUE)"
   ]
  },
  {
   "cell_type": "code",
   "execution_count": 73,
   "metadata": {},
   "outputs": [
    {
     "data": {
      "text/html": [
       "<table>\n",
       "<thead><tr><th scope=col>V1</th><th scope=col>V2</th><th scope=col>V3</th><th scope=col>V4</th><th scope=col>V5</th><th scope=col>V6</th><th scope=col>V7</th><th scope=col>V8</th><th scope=col>V9</th><th scope=col>V10</th><th scope=col>V11</th></tr></thead>\n",
       "<tbody>\n",
       "\t<tr><td>1      </td><td>1.52101</td><td>13.64  </td><td>4.49   </td><td>1.10   </td><td>71.78  </td><td>0.06   </td><td>8.75   </td><td>0      </td><td>0.00   </td><td>1      </td></tr>\n",
       "\t<tr><td>2      </td><td>1.51761</td><td>13.89  </td><td>3.60   </td><td>1.36   </td><td>72.73  </td><td>0.48   </td><td>7.83   </td><td>0      </td><td>0.00   </td><td>1      </td></tr>\n",
       "\t<tr><td>3      </td><td>1.51618</td><td>13.53  </td><td>3.55   </td><td>1.54   </td><td>72.99  </td><td>0.39   </td><td>7.78   </td><td>0      </td><td>0.00   </td><td>1      </td></tr>\n",
       "\t<tr><td>4      </td><td>1.51766</td><td>13.21  </td><td>3.69   </td><td>1.29   </td><td>72.61  </td><td>0.57   </td><td>8.22   </td><td>0      </td><td>0.00   </td><td>1      </td></tr>\n",
       "\t<tr><td>5      </td><td>1.51742</td><td>13.27  </td><td>3.62   </td><td>1.24   </td><td>73.08  </td><td>0.55   </td><td>8.07   </td><td>0      </td><td>0.00   </td><td>1      </td></tr>\n",
       "\t<tr><td>6      </td><td>1.51596</td><td>12.79  </td><td>3.61   </td><td>1.62   </td><td>72.97  </td><td>0.64   </td><td>8.07   </td><td>0      </td><td>0.26   </td><td>1      </td></tr>\n",
       "</tbody>\n",
       "</table>\n"
      ],
      "text/latex": [
       "\\begin{tabular}{r|lllllllllll}\n",
       " V1 & V2 & V3 & V4 & V5 & V6 & V7 & V8 & V9 & V10 & V11\\\\\n",
       "\\hline\n",
       "\t 1       & 1.52101 & 13.64   & 4.49    & 1.10    & 71.78   & 0.06    & 8.75    & 0       & 0.00    & 1      \\\\\n",
       "\t 2       & 1.51761 & 13.89   & 3.60    & 1.36    & 72.73   & 0.48    & 7.83    & 0       & 0.00    & 1      \\\\\n",
       "\t 3       & 1.51618 & 13.53   & 3.55    & 1.54    & 72.99   & 0.39    & 7.78    & 0       & 0.00    & 1      \\\\\n",
       "\t 4       & 1.51766 & 13.21   & 3.69    & 1.29    & 72.61   & 0.57    & 8.22    & 0       & 0.00    & 1      \\\\\n",
       "\t 5       & 1.51742 & 13.27   & 3.62    & 1.24    & 73.08   & 0.55    & 8.07    & 0       & 0.00    & 1      \\\\\n",
       "\t 6       & 1.51596 & 12.79   & 3.61    & 1.62    & 72.97   & 0.64    & 8.07    & 0       & 0.26    & 1      \\\\\n",
       "\\end{tabular}\n"
      ],
      "text/markdown": [
       "\n",
       "V1 | V2 | V3 | V4 | V5 | V6 | V7 | V8 | V9 | V10 | V11 | \n",
       "|---|---|---|---|---|---|\n",
       "| 1       | 1.52101 | 13.64   | 4.49    | 1.10    | 71.78   | 0.06    | 8.75    | 0       | 0.00    | 1       | \n",
       "| 2       | 1.51761 | 13.89   | 3.60    | 1.36    | 72.73   | 0.48    | 7.83    | 0       | 0.00    | 1       | \n",
       "| 3       | 1.51618 | 13.53   | 3.55    | 1.54    | 72.99   | 0.39    | 7.78    | 0       | 0.00    | 1       | \n",
       "| 4       | 1.51766 | 13.21   | 3.69    | 1.29    | 72.61   | 0.57    | 8.22    | 0       | 0.00    | 1       | \n",
       "| 5       | 1.51742 | 13.27   | 3.62    | 1.24    | 73.08   | 0.55    | 8.07    | 0       | 0.00    | 1       | \n",
       "| 6       | 1.51596 | 12.79   | 3.61    | 1.62    | 72.97   | 0.64    | 8.07    | 0       | 0.26    | 1       | \n",
       "\n",
       "\n"
      ],
      "text/plain": [
       "  V1 V2      V3    V4   V5   V6    V7   V8   V9 V10  V11\n",
       "1 1  1.52101 13.64 4.49 1.10 71.78 0.06 8.75 0  0.00 1  \n",
       "2 2  1.51761 13.89 3.60 1.36 72.73 0.48 7.83 0  0.00 1  \n",
       "3 3  1.51618 13.53 3.55 1.54 72.99 0.39 7.78 0  0.00 1  \n",
       "4 4  1.51766 13.21 3.69 1.29 72.61 0.57 8.22 0  0.00 1  \n",
       "5 5  1.51742 13.27 3.62 1.24 73.08 0.55 8.07 0  0.00 1  \n",
       "6 6  1.51596 12.79 3.61 1.62 72.97 0.64 8.07 0  0.26 1  "
      ]
     },
     "metadata": {},
     "output_type": "display_data"
    }
   ],
   "source": [
    "head(glass_data)"
   ]
  },
  {
   "cell_type": "code",
   "execution_count": 74,
   "metadata": {
    "collapsed": true
   },
   "outputs": [],
   "source": [
    "# The data file doesn't have headers. So read the column names into a vector and add column names to the glass dataset.\n",
    "header <- c(\"Id\", \"Refractive_Index\",\"Sodium\",\"Magnesium\",\"Aluminium\",\"Silicon\",\"Potassium\",\"Calcium\",\"Barium\",\"Iron\",\"Type\")\n",
    "names(glass_data) <- header\n",
    "glass_data$Id <- NULL"
   ]
  },
  {
   "cell_type": "code",
   "execution_count": 75,
   "metadata": {},
   "outputs": [
    {
     "data": {
      "text/html": [
       "<table>\n",
       "<thead><tr><th scope=col>Refractive_Index</th><th scope=col>Sodium</th><th scope=col>Magnesium</th><th scope=col>Aluminium</th><th scope=col>Silicon</th><th scope=col>Potassium</th><th scope=col>Calcium</th><th scope=col>Barium</th><th scope=col>Iron</th><th scope=col>Type</th></tr></thead>\n",
       "<tbody>\n",
       "\t<tr><td>1.52101</td><td>13.64  </td><td>4.49   </td><td>1.10   </td><td>71.78  </td><td>0.06   </td><td>8.75   </td><td>0      </td><td>0.00   </td><td>1      </td></tr>\n",
       "\t<tr><td>1.51761</td><td>13.89  </td><td>3.60   </td><td>1.36   </td><td>72.73  </td><td>0.48   </td><td>7.83   </td><td>0      </td><td>0.00   </td><td>1      </td></tr>\n",
       "\t<tr><td>1.51618</td><td>13.53  </td><td>3.55   </td><td>1.54   </td><td>72.99  </td><td>0.39   </td><td>7.78   </td><td>0      </td><td>0.00   </td><td>1      </td></tr>\n",
       "\t<tr><td>1.51766</td><td>13.21  </td><td>3.69   </td><td>1.29   </td><td>72.61  </td><td>0.57   </td><td>8.22   </td><td>0      </td><td>0.00   </td><td>1      </td></tr>\n",
       "\t<tr><td>1.51742</td><td>13.27  </td><td>3.62   </td><td>1.24   </td><td>73.08  </td><td>0.55   </td><td>8.07   </td><td>0      </td><td>0.00   </td><td>1      </td></tr>\n",
       "\t<tr><td>1.51596</td><td>12.79  </td><td>3.61   </td><td>1.62   </td><td>72.97  </td><td>0.64   </td><td>8.07   </td><td>0      </td><td>0.26   </td><td>1      </td></tr>\n",
       "</tbody>\n",
       "</table>\n"
      ],
      "text/latex": [
       "\\begin{tabular}{r|llllllllll}\n",
       " Refractive\\_Index & Sodium & Magnesium & Aluminium & Silicon & Potassium & Calcium & Barium & Iron & Type\\\\\n",
       "\\hline\n",
       "\t 1.52101 & 13.64   & 4.49    & 1.10    & 71.78   & 0.06    & 8.75    & 0       & 0.00    & 1      \\\\\n",
       "\t 1.51761 & 13.89   & 3.60    & 1.36    & 72.73   & 0.48    & 7.83    & 0       & 0.00    & 1      \\\\\n",
       "\t 1.51618 & 13.53   & 3.55    & 1.54    & 72.99   & 0.39    & 7.78    & 0       & 0.00    & 1      \\\\\n",
       "\t 1.51766 & 13.21   & 3.69    & 1.29    & 72.61   & 0.57    & 8.22    & 0       & 0.00    & 1      \\\\\n",
       "\t 1.51742 & 13.27   & 3.62    & 1.24    & 73.08   & 0.55    & 8.07    & 0       & 0.00    & 1      \\\\\n",
       "\t 1.51596 & 12.79   & 3.61    & 1.62    & 72.97   & 0.64    & 8.07    & 0       & 0.26    & 1      \\\\\n",
       "\\end{tabular}\n"
      ],
      "text/markdown": [
       "\n",
       "Refractive_Index | Sodium | Magnesium | Aluminium | Silicon | Potassium | Calcium | Barium | Iron | Type | \n",
       "|---|---|---|---|---|---|\n",
       "| 1.52101 | 13.64   | 4.49    | 1.10    | 71.78   | 0.06    | 8.75    | 0       | 0.00    | 1       | \n",
       "| 1.51761 | 13.89   | 3.60    | 1.36    | 72.73   | 0.48    | 7.83    | 0       | 0.00    | 1       | \n",
       "| 1.51618 | 13.53   | 3.55    | 1.54    | 72.99   | 0.39    | 7.78    | 0       | 0.00    | 1       | \n",
       "| 1.51766 | 13.21   | 3.69    | 1.29    | 72.61   | 0.57    | 8.22    | 0       | 0.00    | 1       | \n",
       "| 1.51742 | 13.27   | 3.62    | 1.24    | 73.08   | 0.55    | 8.07    | 0       | 0.00    | 1       | \n",
       "| 1.51596 | 12.79   | 3.61    | 1.62    | 72.97   | 0.64    | 8.07    | 0       | 0.26    | 1       | \n",
       "\n",
       "\n"
      ],
      "text/plain": [
       "  Refractive_Index Sodium Magnesium Aluminium Silicon Potassium Calcium Barium\n",
       "1 1.52101          13.64  4.49      1.10      71.78   0.06      8.75    0     \n",
       "2 1.51761          13.89  3.60      1.36      72.73   0.48      7.83    0     \n",
       "3 1.51618          13.53  3.55      1.54      72.99   0.39      7.78    0     \n",
       "4 1.51766          13.21  3.69      1.29      72.61   0.57      8.22    0     \n",
       "5 1.51742          13.27  3.62      1.24      73.08   0.55      8.07    0     \n",
       "6 1.51596          12.79  3.61      1.62      72.97   0.64      8.07    0     \n",
       "  Iron Type\n",
       "1 0.00 1   \n",
       "2 0.00 1   \n",
       "3 0.00 1   \n",
       "4 0.00 1   \n",
       "5 0.00 1   \n",
       "6 0.26 1   "
      ]
     },
     "metadata": {},
     "output_type": "display_data"
    }
   ],
   "source": [
    "head(glass_data)"
   ]
  },
  {
   "cell_type": "markdown",
   "metadata": {},
   "source": [
    "## We're trying to predict Type"
   ]
  },
  {
   "cell_type": "code",
   "execution_count": 76,
   "metadata": {},
   "outputs": [
    {
     "name": "stdout",
     "output_type": "stream",
     "text": [
      "'data.frame':\t214 obs. of  10 variables:\n",
      " $ Refractive_Index: num  1.52 1.52 1.52 1.52 1.52 ...\n",
      " $ Sodium          : num  13.6 13.9 13.5 13.2 13.3 ...\n",
      " $ Magnesium       : num  4.49 3.6 3.55 3.69 3.62 3.61 3.6 3.61 3.58 3.6 ...\n",
      " $ Aluminium       : num  1.1 1.36 1.54 1.29 1.24 1.62 1.14 1.05 1.37 1.36 ...\n",
      " $ Silicon         : num  71.8 72.7 73 72.6 73.1 ...\n",
      " $ Potassium       : num  0.06 0.48 0.39 0.57 0.55 0.64 0.58 0.57 0.56 0.57 ...\n",
      " $ Calcium         : num  8.75 7.83 7.78 8.22 8.07 8.07 8.17 8.24 8.3 8.4 ...\n",
      " $ Barium          : num  0 0 0 0 0 0 0 0 0 0 ...\n",
      " $ Iron            : num  0 0 0 0 0 0.26 0 0 0 0.11 ...\n",
      " $ Type            : Factor w/ 6 levels \"1\",\"2\",\"3\",\"5\",..: 1 1 1 1 1 1 1 1 1 1 ...\n"
     ]
    }
   ],
   "source": [
    "# Convert Type variable to factor type. \n",
    "glass_data$Type <- as.factor(glass_data$Type)\n",
    "str(glass_data)"
   ]
  },
  {
   "cell_type": "code",
   "execution_count": 77,
   "metadata": {},
   "outputs": [
    {
     "data": {},
     "metadata": {},
     "output_type": "display_data"
    },
    {
     "data": {
      "image/png": "[encoded data removed]",
      "text/plain": [
       "plot without title"
      ]
     },
     "metadata": {},
     "output_type": "display_data"
    }
   ],
   "source": [
    "glassPlot <- ggplot(glass_data, aes(x = Refractive_Index, y = Sodium)) + \n",
    "    geom_point(aes(color = Type, shape = Type))\n",
    "\n",
    "glassPlot"
   ]
  },
  {
   "cell_type": "code",
   "execution_count": 78,
   "metadata": {
    "collapsed": true
   },
   "outputs": [],
   "source": [
    "set.seed(123) # set.seed() will help us to reproduce the results.\n",
    "\n",
    "split <- sample.split(glass_data$Type, SplitRatio = 0.70)\n",
    "\n",
    "# Train data will have the rest 70% of data\n",
    "glass_train_data  = subset(glass_data, split == TRUE)\n",
    "# Test data will have the rest 30% of data\n",
    "glass_test_data  = subset(glass_data, split == FALSE)"
   ]
  },
  {
   "cell_type": "code",
   "execution_count": 79,
   "metadata": {},
   "outputs": [
    {
     "data": {
      "text/html": [
       "<ol class=list-inline>\n",
       "\t<li>214</li>\n",
       "\t<li>10</li>\n",
       "</ol>\n"
      ],
      "text/latex": [
       "\\begin{enumerate*}\n",
       "\\item 214\n",
       "\\item 10\n",
       "\\end{enumerate*}\n"
      ],
      "text/markdown": [
       "1. 214\n",
       "2. 10\n",
       "\n",
       "\n"
      ],
      "text/plain": [
       "[1] 214  10"
      ]
     },
     "metadata": {},
     "output_type": "display_data"
    }
   ],
   "source": [
    "dim(glass_data)"
   ]
  },
  {
   "cell_type": "code",
   "execution_count": 80,
   "metadata": {},
   "outputs": [
    {
     "data": {
      "text/html": [
       "<ol class=list-inline>\n",
       "\t<li>149</li>\n",
       "\t<li>10</li>\n",
       "</ol>\n"
      ],
      "text/latex": [
       "\\begin{enumerate*}\n",
       "\\item 149\n",
       "\\item 10\n",
       "\\end{enumerate*}\n"
      ],
      "text/markdown": [
       "1. 149\n",
       "2. 10\n",
       "\n",
       "\n"
      ],
      "text/plain": [
       "[1] 149  10"
      ]
     },
     "metadata": {},
     "output_type": "display_data"
    }
   ],
   "source": [
    "dim(glass_train_data)"
   ]
  },
  {
   "cell_type": "code",
   "execution_count": 81,
   "metadata": {},
   "outputs": [
    {
     "data": {
      "text/html": [
       "<ol class=list-inline>\n",
       "\t<li>65</li>\n",
       "\t<li>10</li>\n",
       "</ol>\n"
      ],
      "text/latex": [
       "\\begin{enumerate*}\n",
       "\\item 65\n",
       "\\item 10\n",
       "\\end{enumerate*}\n"
      ],
      "text/markdown": [
       "1. 65\n",
       "2. 10\n",
       "\n",
       "\n"
      ],
      "text/plain": [
       "[1] 65 10"
      ]
     },
     "metadata": {},
     "output_type": "display_data"
    }
   ],
   "source": [
    "dim(glass_test_data)"
   ]
  },
  {
   "cell_type": "markdown",
   "metadata": {},
   "source": [
    "# LDA Model"
   ]
  },
  {
   "cell_type": "code",
   "execution_count": 82,
   "metadata": {},
   "outputs": [
    {
     "data": {
      "text/plain": [
       "Call:\n",
       "lda(Type ~ ., data = glass_train_data)\n",
       "\n",
       "Prior probabilities of groups:\n",
       "         1          2          3          5          6          7 \n",
       "0.32885906 0.35570470 0.08053691 0.06040268 0.04026846 0.13422819 \n",
       "\n",
       "Group means:\n",
       "  Refractive_Index   Sodium Magnesium Aluminium  Silicon Potassium   Calcium\n",
       "1         1.518846 13.29082 3.5585714  1.135714 72.56286 0.4244898  8.843265\n",
       "2         1.518238 13.12962 3.0492453  1.402264 72.70717 0.5250943  8.934151\n",
       "3         1.517943 13.51667 3.5633333  1.131667 72.44750 0.3691667  8.801667\n",
       "5         1.518926 12.94444 0.7488889  2.032222 72.46556 1.2477778 10.095556\n",
       "6         1.517777 14.80167 1.2950000  1.175000 73.19833 0.0000000  9.413333\n",
       "7         1.516588 14.44150 0.5790000  2.200500 73.03700 0.2810000  8.334000\n",
       "      Barium       Iron\n",
       "1 0.01591837 0.05551020\n",
       "2 0.01264151 0.07415094\n",
       "3 0.01250000 0.03583333\n",
       "5 0.24444444 0.03111111\n",
       "6 0.00000000 0.00000000\n",
       "7 1.05200000 0.00750000\n",
       "\n",
       "Coefficients of linear discriminants:\n",
       "                          LD1          LD2           LD3        LD4         LD5\n",
       "Refractive_Index -232.7064489 -195.6558973 -237.60273488 431.102734 -774.342059\n",
       "Sodium             -2.0250201    6.3521154    1.11070326  -7.485815   -4.411977\n",
       "Magnesium          -0.7420912    6.0023478   -0.18723452  -8.194920   -4.077193\n",
       "Aluminium          -3.4792126    4.3321917   -0.63035879  -6.781024   -4.644222\n",
       "Silicon            -2.1832083    5.6410590   -0.05069169  -7.094990   -5.843509\n",
       "Potassium          -1.3567476    4.9000634    0.93705334  -8.997945   -5.389521\n",
       "Calcium            -1.1245401    5.7102708    0.70757015  -8.925032   -3.240299\n",
       "Barium             -2.8718497    6.3982984   -1.46755658  -9.488965   -3.225874\n",
       "Iron               -0.1764051    0.7597887   -1.79805432   1.052134   -1.448223\n",
       "\n",
       "Proportion of trace:\n",
       "   LD1    LD2    LD3    LD4    LD5 \n",
       "0.7915 0.1287 0.0467 0.0245 0.0086 "
      ]
     },
     "metadata": {},
     "output_type": "display_data"
    }
   ],
   "source": [
    "glass_lda_fit <- lda(Type ~., data = glass_train_data)\n",
    "\n",
    "glass_lda_fit"
   ]
  },
  {
   "cell_type": "code",
   "execution_count": 83,
   "metadata": {},
   "outputs": [
    {
     "data": {
      "text/html": [
       "<dl class=dl-horizontal>\n",
       "\t<dt>1</dt>\n",
       "\t\t<dd>49</dd>\n",
       "\t<dt>2</dt>\n",
       "\t\t<dd>53</dd>\n",
       "\t<dt>3</dt>\n",
       "\t\t<dd>12</dd>\n",
       "\t<dt>5</dt>\n",
       "\t\t<dd>9</dd>\n",
       "\t<dt>6</dt>\n",
       "\t\t<dd>6</dd>\n",
       "\t<dt>7</dt>\n",
       "\t\t<dd>20</dd>\n",
       "</dl>\n"
      ],
      "text/latex": [
       "\\begin{description*}\n",
       "\\item[1] 49\n",
       "\\item[2] 53\n",
       "\\item[3] 12\n",
       "\\item[5] 9\n",
       "\\item[6] 6\n",
       "\\item[7] 20\n",
       "\\end{description*}\n"
      ],
      "text/markdown": [
       "1\n",
       ":   492\n",
       ":   533\n",
       ":   125\n",
       ":   96\n",
       ":   67\n",
       ":   20\n",
       "\n"
      ],
      "text/plain": [
       " 1  2  3  5  6  7 \n",
       "49 53 12  9  6 20 "
      ]
     },
     "metadata": {},
     "output_type": "display_data"
    }
   ],
   "source": [
    "# give the counts for each class in the data\n",
    "\n",
    "glass_lda_fit$count"
   ]
  },
  {
   "cell_type": "code",
   "execution_count": 84,
   "metadata": {},
   "outputs": [
    {
     "data": {
      "text/html": [
       "<ol class=list-inline>\n",
       "\t<li>12.0497129070708</li>\n",
       "\t<li>4.8591511006236</li>\n",
       "\t<li>2.92623390644585</li>\n",
       "\t<li>2.12117483551484</li>\n",
       "\t<li>1.25817371158499</li>\n",
       "</ol>\n"
      ],
      "text/latex": [
       "\\begin{enumerate*}\n",
       "\\item 12.0497129070708\n",
       "\\item 4.8591511006236\n",
       "\\item 2.92623390644585\n",
       "\\item 2.12117483551484\n",
       "\\item 1.25817371158499\n",
       "\\end{enumerate*}\n"
      ],
      "text/markdown": [
       "1. 12.0497129070708\n",
       "2. 4.8591511006236\n",
       "3. 2.92623390644585\n",
       "4. 2.12117483551484\n",
       "5. 1.25817371158499\n",
       "\n",
       "\n"
      ],
      "text/plain": [
       "[1] 12.049713  4.859151  2.926234  2.121175  1.258174"
      ]
     },
     "metadata": {},
     "output_type": "display_data"
    }
   ],
   "source": [
    "# the singular values (svd) gives the ratio of the between and within-group standard deviations of the linear \n",
    "# discriminant variables.\n",
    "\n",
    "glass_lda_fit$svd"
   ]
  },
  {
   "cell_type": "code",
   "execution_count": 85,
   "metadata": {},
   "outputs": [
    {
     "data": {
      "text/html": [
       "<ol class=list-inline>\n",
       "\t<li>0.791462917468997</li>\n",
       "\t<li>0.128705759150581</li>\n",
       "\t<li>0.0466761738438854</li>\n",
       "\t<li>0.0245261909276172</li>\n",
       "\t<li>0.0086289586089193</li>\n",
       "</ol>\n"
      ],
      "text/latex": [
       "\\begin{enumerate*}\n",
       "\\item 0.791462917468997\n",
       "\\item 0.128705759150581\n",
       "\\item 0.0466761738438854\n",
       "\\item 0.0245261909276172\n",
       "\\item 0.0086289586089193\n",
       "\\end{enumerate*}\n"
      ],
      "text/markdown": [
       "1. 0.791462917468997\n",
       "2. 0.128705759150581\n",
       "3. 0.0466761738438854\n",
       "4. 0.0245261909276172\n",
       "5. 0.0086289586089193\n",
       "\n",
       "\n"
      ],
      "text/plain": [
       "[1] 0.791462917 0.128705759 0.046676174 0.024526191 0.008628959"
      ]
     },
     "metadata": {},
     "output_type": "display_data"
    }
   ],
   "source": [
    "# normalized proportions.\n",
    "prop = glass_lda_fit$svd^2/sum(glass_lda_fit$svd^2)\n",
    "prop\n",
    "\n",
    "# Based on values displayed below, 1st LDA can explain more than 79% percent \n",
    "# of between-group variance in this dataset."
   ]
  },
  {
   "cell_type": "code",
   "execution_count": 86,
   "metadata": {},
   "outputs": [
    {
     "data": {
      "text/html": [
       "<ol class=list-inline>\n",
       "\t<li>1</li>\n",
       "\t<li>2</li>\n",
       "\t<li>1</li>\n",
       "\t<li>1</li>\n",
       "\t<li>2</li>\n",
       "\t<li>2</li>\n",
       "\t<li>1</li>\n",
       "\t<li>2</li>\n",
       "\t<li>1</li>\n",
       "\t<li>1</li>\n",
       "\t<li>1</li>\n",
       "\t<li>1</li>\n",
       "\t<li>1</li>\n",
       "\t<li>2</li>\n",
       "\t<li>1</li>\n",
       "\t<li>2</li>\n",
       "\t<li>1</li>\n",
       "\t<li>1</li>\n",
       "\t<li>1</li>\n",
       "\t<li>1</li>\n",
       "\t<li>1</li>\n",
       "\t<li>2</li>\n",
       "\t<li>2</li>\n",
       "\t<li>2</li>\n",
       "\t<li>1</li>\n",
       "\t<li>2</li>\n",
       "\t<li>2</li>\n",
       "\t<li>1</li>\n",
       "\t<li>1</li>\n",
       "\t<li>5</li>\n",
       "\t<li>7</li>\n",
       "\t<li>5</li>\n",
       "\t<li>1</li>\n",
       "\t<li>2</li>\n",
       "\t<li>2</li>\n",
       "\t<li>2</li>\n",
       "\t<li>2</li>\n",
       "\t<li>5</li>\n",
       "\t<li>1</li>\n",
       "\t<li>2</li>\n",
       "\t<li>1</li>\n",
       "\t<li>2</li>\n",
       "\t<li>2</li>\n",
       "\t<li>1</li>\n",
       "\t<li>2</li>\n",
       "\t<li>2</li>\n",
       "\t<li>1</li>\n",
       "\t<li>1</li>\n",
       "\t<li>2</li>\n",
       "\t<li>2</li>\n",
       "\t<li>5</li>\n",
       "\t<li>5</li>\n",
       "\t<li>5</li>\n",
       "\t<li>6</li>\n",
       "\t<li>6</li>\n",
       "\t<li>5</li>\n",
       "\t<li>2</li>\n",
       "\t<li>7</li>\n",
       "\t<li>7</li>\n",
       "\t<li>7</li>\n",
       "\t<li>7</li>\n",
       "\t<li>7</li>\n",
       "\t<li>5</li>\n",
       "\t<li>7</li>\n",
       "\t<li>7</li>\n",
       "</ol>\n"
      ],
      "text/latex": [
       "\\begin{enumerate*}\n",
       "\\item 1\n",
       "\\item 2\n",
       "\\item 1\n",
       "\\item 1\n",
       "\\item 2\n",
       "\\item 2\n",
       "\\item 1\n",
       "\\item 2\n",
       "\\item 1\n",
       "\\item 1\n",
       "\\item 1\n",
       "\\item 1\n",
       "\\item 1\n",
       "\\item 2\n",
       "\\item 1\n",
       "\\item 2\n",
       "\\item 1\n",
       "\\item 1\n",
       "\\item 1\n",
       "\\item 1\n",
       "\\item 1\n",
       "\\item 2\n",
       "\\item 2\n",
       "\\item 2\n",
       "\\item 1\n",
       "\\item 2\n",
       "\\item 2\n",
       "\\item 1\n",
       "\\item 1\n",
       "\\item 5\n",
       "\\item 7\n",
       "\\item 5\n",
       "\\item 1\n",
       "\\item 2\n",
       "\\item 2\n",
       "\\item 2\n",
       "\\item 2\n",
       "\\item 5\n",
       "\\item 1\n",
       "\\item 2\n",
       "\\item 1\n",
       "\\item 2\n",
       "\\item 2\n",
       "\\item 1\n",
       "\\item 2\n",
       "\\item 2\n",
       "\\item 1\n",
       "\\item 1\n",
       "\\item 2\n",
       "\\item 2\n",
       "\\item 5\n",
       "\\item 5\n",
       "\\item 5\n",
       "\\item 6\n",
       "\\item 6\n",
       "\\item 5\n",
       "\\item 2\n",
       "\\item 7\n",
       "\\item 7\n",
       "\\item 7\n",
       "\\item 7\n",
       "\\item 7\n",
       "\\item 5\n",
       "\\item 7\n",
       "\\item 7\n",
       "\\end{enumerate*}\n"
      ],
      "text/markdown": [
       "1. 1\n",
       "2. 2\n",
       "3. 1\n",
       "4. 1\n",
       "5. 2\n",
       "6. 2\n",
       "7. 1\n",
       "8. 2\n",
       "9. 1\n",
       "10. 1\n",
       "11. 1\n",
       "12. 1\n",
       "13. 1\n",
       "14. 2\n",
       "15. 1\n",
       "16. 2\n",
       "17. 1\n",
       "18. 1\n",
       "19. 1\n",
       "20. 1\n",
       "21. 1\n",
       "22. 2\n",
       "23. 2\n",
       "24. 2\n",
       "25. 1\n",
       "26. 2\n",
       "27. 2\n",
       "28. 1\n",
       "29. 1\n",
       "30. 5\n",
       "31. 7\n",
       "32. 5\n",
       "33. 1\n",
       "34. 2\n",
       "35. 2\n",
       "36. 2\n",
       "37. 2\n",
       "38. 5\n",
       "39. 1\n",
       "40. 2\n",
       "41. 1\n",
       "42. 2\n",
       "43. 2\n",
       "44. 1\n",
       "45. 2\n",
       "46. 2\n",
       "47. 1\n",
       "48. 1\n",
       "49. 2\n",
       "50. 2\n",
       "51. 5\n",
       "52. 5\n",
       "53. 5\n",
       "54. 6\n",
       "55. 6\n",
       "56. 5\n",
       "57. 2\n",
       "58. 7\n",
       "59. 7\n",
       "60. 7\n",
       "61. 7\n",
       "62. 7\n",
       "63. 5\n",
       "64. 7\n",
       "65. 7\n",
       "\n",
       "\n"
      ],
      "text/plain": [
       " [1] 1 2 1 1 2 2 1 2 1 1 1 1 1 2 1 2 1 1 1 1 1 2 2 2 1 2 2 1 1 5 7 5 1 2 2 2 2 5\n",
       "[39] 1 2 1 2 2 1 2 2 1 1 2 2 5 5 5 6 6 5 2 7 7 7 7 7 5 7 7\n",
       "Levels: 1 2 3 5 6 7"
      ]
     },
     "metadata": {},
     "output_type": "display_data"
    }
   ],
   "source": [
    "pred <- predict(glass_lda_fit, glass_test_data)\n",
    "ldaClass <- pred$class\n",
    "ldaClass"
   ]
  },
  {
   "cell_type": "code",
   "execution_count": 87,
   "metadata": {},
   "outputs": [
    {
     "data": {
      "text/plain": [
       "        \n",
       "ldaClass  1  2  3  5  6  7\n",
       "       1 15  7  2  0  0  0\n",
       "       2  6 12  3  1  0  1\n",
       "       3  0  0  0  0  0  0\n",
       "       5  0  3  0  3  1  1\n",
       "       6  0  0  0  0  2  0\n",
       "       7  0  1  0  0  0  7"
      ]
     },
     "metadata": {},
     "output_type": "display_data"
    }
   ],
   "source": [
    "confusion <- table(ldaClass, glass_test_data$Type)\n",
    "confusion"
   ]
  },
  {
   "cell_type": "code",
   "execution_count": 88,
   "metadata": {},
   "outputs": [
    {
     "data": {
      "text/html": [
       "'Accuracy: 0.6'"
      ],
      "text/latex": [
       "'Accuracy: 0.6'"
      ],
      "text/markdown": [
       "'Accuracy: 0.6'"
      ],
      "text/plain": [
       "[1] \"Accuracy: 0.6\""
      ]
     },
     "metadata": {},
     "output_type": "display_data"
    }
   ],
   "source": [
    "paste(\"Accuracy:\", sum(diag(confusion)) / length(glass_test_data$Type))"
   ]
  },
  {
   "cell_type": "markdown",
   "metadata": {},
   "source": [
    "### LDA did a poor job :( Let's try SVM"
   ]
  },
  {
   "cell_type": "code",
   "execution_count": 89,
   "metadata": {},
   "outputs": [],
   "source": [
    "tctrl <- tune.control(sampling = \"cross\",\n",
    "                         cross = 10,\n",
    "                         best.model = TRUE,\n",
    "                         performances = TRUE)"
   ]
  },
  {
   "cell_type": "code",
   "execution_count": 90,
   "metadata": {},
   "outputs": [
    {
     "data": {
      "text/plain": [
       "\n",
       "Parameter tuning of 'svm':\n",
       "\n",
       "- sampling method: 10-fold cross validation \n",
       "\n",
       "- best parameters:\n",
       " gamma cost\n",
       "   0.1    1\n",
       "\n",
       "- best performance: 0.2891775 \n",
       "\n",
       "- Detailed performance results:\n",
       "   gamma cost     error dispersion\n",
       "1  1e-06    1 0.6441558 0.07383459\n",
       "2  1e-05    1 0.6441558 0.07383459\n",
       "3  1e-04    1 0.6441558 0.07383459\n",
       "4  1e-03    1 0.6396104 0.06602619\n",
       "5  1e-02    1 0.4573593 0.07511270\n",
       "6  1e-01    1 0.2891775 0.06597058\n",
       "7  1e-06   10 0.6441558 0.07383459\n",
       "8  1e-05   10 0.6441558 0.07383459\n",
       "9  1e-04   10 0.6396104 0.06602619\n",
       "10 1e-03   10 0.4625541 0.07423433\n",
       "11 1e-02   10 0.3545455 0.06255707\n",
       "12 1e-01   10 0.3359307 0.06521345\n",
       "13 1e-06  100 0.6441558 0.07383459\n",
       "14 1e-05  100 0.6396104 0.06602619\n",
       "15 1e-04  100 0.4625541 0.07423433\n",
       "16 1e-03  100 0.3636364 0.07701492\n",
       "17 1e-02  100 0.3034632 0.04233925\n",
       "18 1e-01  100 0.3309524 0.07614106\n"
      ]
     },
     "metadata": {},
     "output_type": "display_data"
    }
   ],
   "source": [
    "tuned_params_cv <- tune(svm, Type ~. ,\n",
    "                           data = glass_data,\n",
    "                           kernel = \"radial\", \n",
    "                           ranges = list(gamma = 10^(-6:-1), cost=10^(0:2)), \n",
    "                           tunecontrol = tctrl)\n",
    "\n",
    "summary(tuned_params_cv)"
   ]
  },
  {
   "cell_type": "code",
   "execution_count": 91,
   "metadata": {},
   "outputs": [
    {
     "data": {
      "text/html": [
       "<ol class=list-inline>\n",
       "\t<li>'best.parameters'</li>\n",
       "\t<li>'best.performance'</li>\n",
       "\t<li>'method'</li>\n",
       "\t<li>'nparcomb'</li>\n",
       "\t<li>'train.ind'</li>\n",
       "\t<li>'sampling'</li>\n",
       "\t<li>'performances'</li>\n",
       "\t<li>'best.model'</li>\n",
       "</ol>\n"
      ],
      "text/latex": [
       "\\begin{enumerate*}\n",
       "\\item 'best.parameters'\n",
       "\\item 'best.performance'\n",
       "\\item 'method'\n",
       "\\item 'nparcomb'\n",
       "\\item 'train.ind'\n",
       "\\item 'sampling'\n",
       "\\item 'performances'\n",
       "\\item 'best.model'\n",
       "\\end{enumerate*}\n"
      ],
      "text/markdown": [
       "1. 'best.parameters'\n",
       "2. 'best.performance'\n",
       "3. 'method'\n",
       "4. 'nparcomb'\n",
       "5. 'train.ind'\n",
       "6. 'sampling'\n",
       "7. 'performances'\n",
       "8. 'best.model'\n",
       "\n",
       "\n"
      ],
      "text/plain": [
       "[1] \"best.parameters\"  \"best.performance\" \"method\"           \"nparcomb\"        \n",
       "[5] \"train.ind\"        \"sampling\"         \"performances\"     \"best.model\"      "
      ]
     },
     "metadata": {},
     "output_type": "display_data"
    }
   ],
   "source": [
    "names(tuned_params_cv)"
   ]
  },
  {
   "cell_type": "code",
   "execution_count": 92,
   "metadata": {},
   "outputs": [
    {
     "data": {
      "text/html": [
       "<strong>$best.parameters</strong> = <table>\n",
       "<thead><tr><th></th><th scope=col>gamma</th><th scope=col>cost</th></tr></thead>\n",
       "<tbody>\n",
       "\t<tr><th scope=row>6</th><td>0.1</td><td>1  </td></tr>\n",
       "</tbody>\n",
       "</table>\n"
      ],
      "text/latex": [
       "\\textbf{\\$best.parameters} = \\begin{tabular}{r|ll}\n",
       "  & gamma & cost\\\\\n",
       "\\hline\n",
       "\t6 & 0.1 & 1  \\\\\n",
       "\\end{tabular}\n"
      ],
      "text/markdown": [
       "**$best.parameters** = \n",
       "| <!--/--> | gamma | cost | \n",
       "|---|\n",
       "| 6 | 0.1 | 1   | \n",
       "\n",
       "\n"
      ],
      "text/plain": [
       "$best.parameters\n",
       "  gamma cost\n",
       "6   0.1    1\n"
      ]
     },
     "metadata": {},
     "output_type": "display_data"
    }
   ],
   "source": [
    "tuned_params_cv[\"best.parameters\"]"
   ]
  },
  {
   "cell_type": "code",
   "execution_count": 93,
   "metadata": {},
   "outputs": [
    {
     "data": {
      "text/plain": [
       "\n",
       "Call:\n",
       "svm(formula = Type ~ ., data = glass_train_data, gamma = 0.1, cost = 1, \n",
       "    scale = FALSE)\n",
       "\n",
       "\n",
       "Parameters:\n",
       "   SVM-Type:  C-classification \n",
       " SVM-Kernel:  radial \n",
       "       cost:  1 \n",
       "      gamma:  0.1 \n",
       "\n",
       "Number of Support Vectors:  129\n",
       "\n",
       " ( 44 48 12 8 6 11 )\n",
       "\n",
       "\n",
       "Number of Classes:  6 \n",
       "\n",
       "Levels: \n",
       " 1 2 3 5 6 7\n",
       "\n",
       "\n"
      ]
     },
     "metadata": {},
     "output_type": "display_data"
    }
   ],
   "source": [
    "# using the best params\n",
    "\n",
    "glass_svm_fit <- svm(Type ~. ,\n",
    "                        data = glass_train_data,\n",
    "                        gamma = 0.1, \n",
    "                        cost = 1,\n",
    "                        scale = FALSE)\n",
    "\n",
    "summary(glass_svm_fit)"
   ]
  },
  {
   "cell_type": "code",
   "execution_count": 94,
   "metadata": {},
   "outputs": [
    {
     "data": {
      "text/html": [
       "<dl class=dl-horizontal>\n",
       "\t<dt>2</dt>\n",
       "\t\t<dd>2</dd>\n",
       "\t<dt>4</dt>\n",
       "\t\t<dd>2</dd>\n",
       "\t<dt>5</dt>\n",
       "\t\t<dd>2</dd>\n",
       "\t<dt>8</dt>\n",
       "\t\t<dd>2</dd>\n",
       "\t<dt>11</dt>\n",
       "\t\t<dd>2</dd>\n",
       "\t<dt>16</dt>\n",
       "\t\t<dd>2</dd>\n",
       "\t<dt>20</dt>\n",
       "\t\t<dd>2</dd>\n",
       "\t<dt>21</dt>\n",
       "\t\t<dd>2</dd>\n",
       "\t<dt>24</dt>\n",
       "\t\t<dd>1</dd>\n",
       "\t<dt>31</dt>\n",
       "\t\t<dd>1</dd>\n",
       "</dl>\n"
      ],
      "text/latex": [
       "\\begin{description*}\n",
       "\\item[2] 2\n",
       "\\item[4] 2\n",
       "\\item[5] 2\n",
       "\\item[8] 2\n",
       "\\item[11] 2\n",
       "\\item[16] 2\n",
       "\\item[20] 2\n",
       "\\item[21] 2\n",
       "\\item[24] 1\n",
       "\\item[31] 1\n",
       "\\end{description*}\n"
      ],
      "text/markdown": [
       "2\n",
       ":   24\n",
       ":   25\n",
       ":   28\n",
       ":   211\n",
       ":   216\n",
       ":   220\n",
       ":   221\n",
       ":   224\n",
       ":   131\n",
       ":   1\n",
       "\n"
      ],
      "text/plain": [
       " 2  4  5  8 11 16 20 21 24 31 \n",
       " 2  2  2  2  2  2  2  2  1  1 \n",
       "Levels: 1 2 3 5 6 7"
      ]
     },
     "metadata": {},
     "output_type": "display_data"
    }
   ],
   "source": [
    "predTest <- predict(glass_svm_fit, glass_test_data[,-10])\n",
    "predTest[0:10]"
   ]
  },
  {
   "cell_type": "code",
   "execution_count": 95,
   "metadata": {},
   "outputs": [
    {
     "data": {
      "text/plain": [
       "Confusion Matrix and Statistics\n",
       "\n",
       "          Reference\n",
       "Prediction  1  2  3  5  6  7\n",
       "         1 11  4  3  0  0  0\n",
       "         2 10 18  2  1  2  2\n",
       "         3  0  0  0  0  0  0\n",
       "         5  0  1  0  3  1  1\n",
       "         6  0  0  0  0  0  0\n",
       "         7  0  0  0  0  0  6\n",
       "\n",
       "Overall Statistics\n",
       "                                          \n",
       "               Accuracy : 0.5846          \n",
       "                 95% CI : (0.4556, 0.7056)\n",
       "    No Information Rate : 0.3538          \n",
       "    P-Value [Acc > NIR] : 0.0001239       \n",
       "                                          \n",
       "                  Kappa : 0.4079          \n",
       " Mcnemar's Test P-Value : NA              \n",
       "\n",
       "Statistics by Class:\n",
       "\n",
       "                     Class: 1 Class: 2 Class: 3 Class: 5 Class: 6 Class: 7\n",
       "Sensitivity            0.5238   0.7826  0.00000  0.75000  0.00000  0.66667\n",
       "Specificity            0.8409   0.5952  1.00000  0.95082  1.00000  1.00000\n",
       "Pos Pred Value         0.6111   0.5143      NaN  0.50000      NaN  1.00000\n",
       "Neg Pred Value         0.7872   0.8333  0.92308  0.98305  0.95385  0.94915\n",
       "Prevalence             0.3231   0.3538  0.07692  0.06154  0.04615  0.13846\n",
       "Detection Rate         0.1692   0.2769  0.00000  0.04615  0.00000  0.09231\n",
       "Detection Prevalence   0.2769   0.5385  0.00000  0.09231  0.00000  0.09231\n",
       "Balanced Accuracy      0.6824   0.6889  0.50000  0.85041  0.50000  0.83333"
      ]
     },
     "metadata": {},
     "output_type": "display_data"
    }
   ],
   "source": [
    "confusionMatrix(predTest, glass_test_data$Type)"
   ]
  }
 ],
 "metadata": {
  "kernelspec": {
   "display_name": "R",
   "language": "R",
   "name": "ir"
  },
  "language_info": {
   "codemirror_mode": "r",
   "file_extension": ".r",
   "mimetype": "text/x-r-source",
   "name": "R",
   "pygments_lexer": "r",
   "version": "3.4.1"
  }
 },
 "nbformat": 4,
 "nbformat_minor": 2
}
