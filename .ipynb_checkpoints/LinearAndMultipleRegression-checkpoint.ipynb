{
 "cells": [
  {
   "cell_type": "markdown",
   "metadata": {},
   "source": [
    "# Linear and Multiple Regression exercises\n",
    "\n",
    "We will apply linear regression on a new dataset which is about concrete. The dataset source opinions, concrete compressive strength is a highly nonlinear function of age and ingredients. These ingredients include cement, blast furnace slag, fly ash, water, superplasticizer, coarse aggregate, and fine aggregate. We will fit a simple linear model for the response variable concrete compressive strength and extend it to multiple predictors to analyze and evaluate any improvement in the model."
   ]
  },
  {
   "cell_type": "code",
   "execution_count": 2,
   "metadata": {},
   "outputs": [
    {
     "data": {
      "text/html": [
       "<table>\n",
       "<thead><tr><th></th><th scope=col>1</th><th scope=col>2</th><th scope=col>3</th><th scope=col>4</th><th scope=col>5</th><th scope=col>6</th></tr></thead>\n",
       "<tbody>\n",
       "\t<tr><th scope=row>Cement..component.1..kg.in.a.m.3.mixture.</th><td> 540.00</td><td> 540.00</td><td>332.50 </td><td>332.50 </td><td>198.6  </td><td>266.00 </td></tr>\n",
       "\t<tr><th scope=row>Blast.Furnace.Slag..component.2..kg.in.a.m.3.mixture.</th><td>   0.00</td><td>   0.00</td><td>142.50 </td><td>142.50 </td><td>132.4  </td><td>114.00 </td></tr>\n",
       "\t<tr><th scope=row>Fly.Ash..component.3..kg.in.a.m.3.mixture.</th><td>   0.00</td><td>   0.00</td><td>  0.00 </td><td>  0.00 </td><td>  0.0  </td><td>  0.00 </td></tr>\n",
       "\t<tr><th scope=row>Water...component.4..kg.in.a.m.3.mixture.</th><td> 162.00</td><td> 162.00</td><td>228.00 </td><td>228.00 </td><td>192.0  </td><td>228.00 </td></tr>\n",
       "\t<tr><th scope=row>Superplasticizer..component.5..kg.in.a.m.3.mixture.</th><td>   2.50</td><td>   2.50</td><td>  0.00 </td><td>  0.00 </td><td>  0.0  </td><td>  0.00 </td></tr>\n",
       "\t<tr><th scope=row>Coarse.Aggregate...component.6..kg.in.a.m.3.mixture.</th><td>1040.00</td><td>1055.00</td><td>932.00 </td><td>932.00 </td><td>978.4  </td><td>932.00 </td></tr>\n",
       "\t<tr><th scope=row>Fine.Aggregate..component.7..kg.in.a.m.3.mixture.</th><td> 676.00</td><td> 676.00</td><td>594.00 </td><td>594.00 </td><td>825.5  </td><td>670.00 </td></tr>\n",
       "\t<tr><th scope=row>Age..day.</th><td>  28.00</td><td>  28.00</td><td>270.00 </td><td>365.00 </td><td>360.0  </td><td> 90.00 </td></tr>\n",
       "\t<tr><th scope=row>Concrete.compressive.strength.MPa..megapascals..</th><td>  79.99</td><td>  61.89</td><td> 40.27 </td><td> 41.05 </td><td> 44.3  </td><td> 47.03 </td></tr>\n",
       "</tbody>\n",
       "</table>\n"
      ],
      "text/latex": [
       "\\begin{tabular}{r|llllll}\n",
       "  & 1 & 2 & 3 & 4 & 5 & 6\\\\\n",
       "\\hline\n",
       "\tCement..component.1..kg.in.a.m.3.mixture. &  540.00 &  540.00 & 332.50  & 332.50  & 198.6   & 266.00 \\\\\n",
       "\tBlast.Furnace.Slag..component.2..kg.in.a.m.3.mixture. &    0.00 &    0.00 & 142.50  & 142.50  & 132.4   & 114.00 \\\\\n",
       "\tFly.Ash..component.3..kg.in.a.m.3.mixture. &    0.00 &    0.00 &   0.00  &   0.00  &   0.0   &   0.00 \\\\\n",
       "\tWater...component.4..kg.in.a.m.3.mixture. &  162.00 &  162.00 & 228.00  & 228.00  & 192.0   & 228.00 \\\\\n",
       "\tSuperplasticizer..component.5..kg.in.a.m.3.mixture. &    2.50 &    2.50 &   0.00  &   0.00  &   0.0   &   0.00 \\\\\n",
       "\tCoarse.Aggregate...component.6..kg.in.a.m.3.mixture. & 1040.00 & 1055.00 & 932.00  & 932.00  & 978.4   & 932.00 \\\\\n",
       "\tFine.Aggregate..component.7..kg.in.a.m.3.mixture. &  676.00 &  676.00 & 594.00  & 594.00  & 825.5   & 670.00 \\\\\n",
       "\tAge..day. &   28.00 &   28.00 & 270.00  & 365.00  & 360.0   &  90.00 \\\\\n",
       "\tConcrete.compressive.strength.MPa..megapascals.. &   79.99 &   61.89 &  40.27  &  41.05  &  44.3   &  47.03 \\\\\n",
       "\\end{tabular}\n"
      ],
      "text/markdown": [
       "\n",
       "| <!--/--> | 1 | 2 | 3 | 4 | 5 | 6 | \n",
       "|---|---|---|---|---|---|---|---|---|\n",
       "| Cement..component.1..kg.in.a.m.3.mixture. |  540.00 |  540.00 | 332.50  | 332.50  | 198.6   | 266.00  | \n",
       "| Blast.Furnace.Slag..component.2..kg.in.a.m.3.mixture. |    0.00 |    0.00 | 142.50  | 142.50  | 132.4   | 114.00  | \n",
       "| Fly.Ash..component.3..kg.in.a.m.3.mixture. |    0.00 |    0.00 |   0.00  |   0.00  |   0.0   |   0.00  | \n",
       "| Water...component.4..kg.in.a.m.3.mixture. |  162.00 |  162.00 | 228.00  | 228.00  | 192.0   | 228.00  | \n",
       "| Superplasticizer..component.5..kg.in.a.m.3.mixture. |    2.50 |    2.50 |   0.00  |   0.00  |   0.0   |   0.00  | \n",
       "| Coarse.Aggregate...component.6..kg.in.a.m.3.mixture. | 1040.00 | 1055.00 | 932.00  | 932.00  | 978.4   | 932.00  | \n",
       "| Fine.Aggregate..component.7..kg.in.a.m.3.mixture. |  676.00 |  676.00 | 594.00  | 594.00  | 825.5   | 670.00  | \n",
       "| Age..day. |   28.00 |   28.00 | 270.00  | 365.00  | 360.0   |  90.00  | \n",
       "| Concrete.compressive.strength.MPa..megapascals.. |   79.99 |   61.89 |  40.27  |  41.05  |  44.3   |  47.03  | \n",
       "\n",
       "\n"
      ],
      "text/plain": [
       "                                                      1       2       3     \n",
       "Cement..component.1..kg.in.a.m.3.mixture.              540.00  540.00 332.50\n",
       "Blast.Furnace.Slag..component.2..kg.in.a.m.3.mixture.    0.00    0.00 142.50\n",
       "Fly.Ash..component.3..kg.in.a.m.3.mixture.               0.00    0.00   0.00\n",
       "Water...component.4..kg.in.a.m.3.mixture.              162.00  162.00 228.00\n",
       "Superplasticizer..component.5..kg.in.a.m.3.mixture.      2.50    2.50   0.00\n",
       "Coarse.Aggregate...component.6..kg.in.a.m.3.mixture.  1040.00 1055.00 932.00\n",
       "Fine.Aggregate..component.7..kg.in.a.m.3.mixture.      676.00  676.00 594.00\n",
       "Age..day.                                               28.00   28.00 270.00\n",
       "Concrete.compressive.strength.MPa..megapascals..        79.99   61.89  40.27\n",
       "                                                      4      5     6     \n",
       "Cement..component.1..kg.in.a.m.3.mixture.             332.50 198.6 266.00\n",
       "Blast.Furnace.Slag..component.2..kg.in.a.m.3.mixture. 142.50 132.4 114.00\n",
       "Fly.Ash..component.3..kg.in.a.m.3.mixture.              0.00   0.0   0.00\n",
       "Water...component.4..kg.in.a.m.3.mixture.             228.00 192.0 228.00\n",
       "Superplasticizer..component.5..kg.in.a.m.3.mixture.     0.00   0.0   0.00\n",
       "Coarse.Aggregate...component.6..kg.in.a.m.3.mixture.  932.00 978.4 932.00\n",
       "Fine.Aggregate..component.7..kg.in.a.m.3.mixture.     594.00 825.5 670.00\n",
       "Age..day.                                             365.00 360.0  90.00\n",
       "Concrete.compressive.strength.MPa..megapascals..       41.05  44.3  47.03"
      ]
     },
     "metadata": {},
     "output_type": "display_data"
    }
   ],
   "source": [
    "concrete_data = read.csv(\"datasets/Concrete_Data.csv\",\n",
    "                         header=TRUE)\n",
    "\n",
    "t(head(concrete_data))"
   ]
  },
  {
   "cell_type": "code",
   "execution_count": 4,
   "metadata": {},
   "outputs": [
    {
     "data": {
      "text/html": [
       "<table>\n",
       "<thead><tr><th scope=col>Cement</th><th scope=col>Blast</th><th scope=col>Fly</th><th scope=col>Water</th><th scope=col>Superplasticizer</th><th scope=col>Coarse</th><th scope=col>Fine</th><th scope=col>Age</th><th scope=col>Concrete</th></tr></thead>\n",
       "<tbody>\n",
       "\t<tr><td>540.0 </td><td>  0.0 </td><td>0     </td><td>162   </td><td>2.5   </td><td>1040.0</td><td>676.0 </td><td> 28   </td><td>79.99 </td></tr>\n",
       "\t<tr><td>540.0 </td><td>  0.0 </td><td>0     </td><td>162   </td><td>2.5   </td><td>1055.0</td><td>676.0 </td><td> 28   </td><td>61.89 </td></tr>\n",
       "\t<tr><td>332.5 </td><td>142.5 </td><td>0     </td><td>228   </td><td>0.0   </td><td> 932.0</td><td>594.0 </td><td>270   </td><td>40.27 </td></tr>\n",
       "\t<tr><td>332.5 </td><td>142.5 </td><td>0     </td><td>228   </td><td>0.0   </td><td> 932.0</td><td>594.0 </td><td>365   </td><td>41.05 </td></tr>\n",
       "\t<tr><td>198.6 </td><td>132.4 </td><td>0     </td><td>192   </td><td>0.0   </td><td> 978.4</td><td>825.5 </td><td>360   </td><td>44.30 </td></tr>\n",
       "\t<tr><td>266.0 </td><td>114.0 </td><td>0     </td><td>228   </td><td>0.0   </td><td> 932.0</td><td>670.0 </td><td> 90   </td><td>47.03 </td></tr>\n",
       "</tbody>\n",
       "</table>\n"
      ],
      "text/latex": [
       "\\begin{tabular}{r|lllllllll}\n",
       " Cement & Blast & Fly & Water & Superplasticizer & Coarse & Fine & Age & Concrete\\\\\n",
       "\\hline\n",
       "\t 540.0  &   0.0  & 0      & 162    & 2.5    & 1040.0 & 676.0  &  28    & 79.99 \\\\\n",
       "\t 540.0  &   0.0  & 0      & 162    & 2.5    & 1055.0 & 676.0  &  28    & 61.89 \\\\\n",
       "\t 332.5  & 142.5  & 0      & 228    & 0.0    &  932.0 & 594.0  & 270    & 40.27 \\\\\n",
       "\t 332.5  & 142.5  & 0      & 228    & 0.0    &  932.0 & 594.0  & 365    & 41.05 \\\\\n",
       "\t 198.6  & 132.4  & 0      & 192    & 0.0    &  978.4 & 825.5  & 360    & 44.30 \\\\\n",
       "\t 266.0  & 114.0  & 0      & 228    & 0.0    &  932.0 & 670.0  &  90    & 47.03 \\\\\n",
       "\\end{tabular}\n"
      ],
      "text/markdown": [
       "\n",
       "Cement | Blast | Fly | Water | Superplasticizer | Coarse | Fine | Age | Concrete | \n",
       "|---|---|---|---|---|---|\n",
       "| 540.0  |   0.0  | 0      | 162    | 2.5    | 1040.0 | 676.0  |  28    | 79.99  | \n",
       "| 540.0  |   0.0  | 0      | 162    | 2.5    | 1055.0 | 676.0  |  28    | 61.89  | \n",
       "| 332.5  | 142.5  | 0      | 228    | 0.0    |  932.0 | 594.0  | 270    | 40.27  | \n",
       "| 332.5  | 142.5  | 0      | 228    | 0.0    |  932.0 | 594.0  | 365    | 41.05  | \n",
       "| 198.6  | 132.4  | 0      | 192    | 0.0    |  978.4 | 825.5  | 360    | 44.30  | \n",
       "| 266.0  | 114.0  | 0      | 228    | 0.0    |  932.0 | 670.0  |  90    | 47.03  | \n",
       "\n",
       "\n"
      ],
      "text/plain": [
       "  Cement Blast Fly Water Superplasticizer Coarse Fine  Age Concrete\n",
       "1 540.0    0.0 0   162   2.5              1040.0 676.0  28 79.99   \n",
       "2 540.0    0.0 0   162   2.5              1055.0 676.0  28 61.89   \n",
       "3 332.5  142.5 0   228   0.0               932.0 594.0 270 40.27   \n",
       "4 332.5  142.5 0   228   0.0               932.0 594.0 365 41.05   \n",
       "5 198.6  132.4 0   192   0.0               978.4 825.5 360 44.30   \n",
       "6 266.0  114.0 0   228   0.0               932.0 670.0  90 47.03   "
      ]
     },
     "metadata": {},
     "output_type": "display_data"
    }
   ],
   "source": [
    "library(stringr)\n",
    "\n",
    "h <- read.csv(\"datasets/headers.txt\", sep = \"\\n\", header = FALSE)\n",
    "\n",
    "cols <- str_split_fixed(h$V1, \" \", 2)\n",
    "headers = cols[0:9]\n",
    "names(concrete_data) <- headers\n",
    "head(concrete_data)"
   ]
  },
  {
   "cell_type": "code",
   "execution_count": 5,
   "metadata": {
    "collapsed": true
   },
   "outputs": [],
   "source": [
    "library(caTools)\n",
    "set.seed(1000) # set.seed() will help us to reproduce the results.\n",
    "\n",
    "\n",
    "split <- sample.split(concrete_data$Concrete, \n",
    "                     SplitRatio = 0.70)\n",
    "\n",
    "# Train data will have 70% of data\n",
    "train_data  <- subset(concrete_data, split == TRUE)\n",
    "\n",
    "# Test data will have the rest 30% of data\n",
    "test_data <- subset(concrete_data, split == FALSE)"
   ]
  },
  {
   "cell_type": "code",
   "execution_count": 6,
   "metadata": {},
   "outputs": [
    {
     "data": {
      "text/html": [
       "<ol class=list-inline>\n",
       "\t<li>721</li>\n",
       "\t<li>9</li>\n",
       "</ol>\n"
      ],
      "text/latex": [
       "\\begin{enumerate*}\n",
       "\\item 721\n",
       "\\item 9\n",
       "\\end{enumerate*}\n"
      ],
      "text/markdown": [
       "1. 721\n",
       "2. 9\n",
       "\n",
       "\n"
      ],
      "text/plain": [
       "[1] 721   9"
      ]
     },
     "metadata": {},
     "output_type": "display_data"
    }
   ],
   "source": [
    "dim(train_data)"
   ]
  },
  {
   "cell_type": "code",
   "execution_count": 7,
   "metadata": {},
   "outputs": [
    {
     "data": {
      "text/html": [
       "<ol class=list-inline>\n",
       "\t<li>309</li>\n",
       "\t<li>9</li>\n",
       "</ol>\n"
      ],
      "text/latex": [
       "\\begin{enumerate*}\n",
       "\\item 309\n",
       "\\item 9\n",
       "\\end{enumerate*}\n"
      ],
      "text/markdown": [
       "1. 309\n",
       "2. 9\n",
       "\n",
       "\n"
      ],
      "text/plain": [
       "[1] 309   9"
      ]
     },
     "metadata": {},
     "output_type": "display_data"
    }
   ],
   "source": [
    "dim(test_data)"
   ]
  },
  {
   "cell_type": "code",
   "execution_count": 8,
   "metadata": {},
   "outputs": [
    {
     "data": {
      "text/html": [
       "<table>\n",
       "<thead><tr><th></th><th scope=col>Cement</th><th scope=col>Blast</th><th scope=col>Fly</th><th scope=col>Water</th><th scope=col>Superplasticizer</th><th scope=col>Coarse</th><th scope=col>Fine</th><th scope=col>Age</th><th scope=col>Concrete</th></tr></thead>\n",
       "<tbody>\n",
       "\t<tr><th scope=row>Cement</th><td> 1.00000000 </td><td>-0.26450684 </td><td>-0.404872562</td><td>-0.09100654 </td><td> 0.1056472  </td><td>-0.125184235</td><td>-0.20881391 </td><td> 0.06162377 </td><td> 0.5113358  </td></tr>\n",
       "\t<tr><th scope=row>Blast</th><td>-0.26450684 </td><td> 1.00000000 </td><td>-0.332889393</td><td> 0.12028319 </td><td> 0.0442492  </td><td>-0.294079870</td><td>-0.29749125 </td><td>-0.05270709 </td><td> 0.1044302  </td></tr>\n",
       "\t<tr><th scope=row>Fly</th><td>-0.40487256 </td><td>-0.33288939 </td><td> 1.000000000</td><td>-0.27390833 </td><td> 0.3770744  </td><td> 0.003019973</td><td> 0.09064543 </td><td>-0.14991558 </td><td>-0.1140063  </td></tr>\n",
       "\t<tr><th scope=row>Water</th><td>-0.09100654 </td><td> 0.12028319 </td><td>-0.273908331</td><td> 1.00000000 </td><td>-0.6376211  </td><td>-0.178689670</td><td>-0.44383214 </td><td> 0.29158177 </td><td>-0.2678382  </td></tr>\n",
       "\t<tr><th scope=row>Superplasticizer</th><td> 0.10564721 </td><td> 0.04424920 </td><td> 0.377074412</td><td>-0.63762114 </td><td> 1.0000000  </td><td>-0.276017172</td><td> 0.18869564 </td><td>-0.20726499 </td><td> 0.3465863  </td></tr>\n",
       "\t<tr><th scope=row>Coarse</th><td>-0.12518424 </td><td>-0.29407987 </td><td> 0.003019973</td><td>-0.17868967 </td><td>-0.2760172  </td><td> 1.000000000</td><td>-0.16567141 </td><td> 0.01356077 </td><td>-0.1739224  </td></tr>\n",
       "\t<tr><th scope=row>Fine</th><td>-0.20881391 </td><td>-0.29749125 </td><td> 0.090645433</td><td>-0.44383214 </td><td> 0.1886956  </td><td>-0.165671411</td><td> 1.00000000 </td><td>-0.13718906 </td><td>-0.1528466  </td></tr>\n",
       "\t<tr><th scope=row>Age</th><td> 0.06162377 </td><td>-0.05270709 </td><td>-0.149915576</td><td> 0.29158177 </td><td>-0.2072650  </td><td> 0.013560773</td><td>-0.13718906 </td><td> 1.00000000 </td><td> 0.3260410  </td></tr>\n",
       "\t<tr><th scope=row>Concrete</th><td> 0.51133578 </td><td> 0.10443017 </td><td>-0.114006273</td><td>-0.26783820 </td><td> 0.3465863  </td><td>-0.173922425</td><td>-0.15284656 </td><td> 0.32604104 </td><td> 1.0000000  </td></tr>\n",
       "</tbody>\n",
       "</table>\n"
      ],
      "text/latex": [
       "\\begin{tabular}{r|lllllllll}\n",
       "  & Cement & Blast & Fly & Water & Superplasticizer & Coarse & Fine & Age & Concrete\\\\\n",
       "\\hline\n",
       "\tCement &  1.00000000  & -0.26450684  & -0.404872562 & -0.09100654  &  0.1056472   & -0.125184235 & -0.20881391  &  0.06162377  &  0.5113358  \\\\\n",
       "\tBlast & -0.26450684  &  1.00000000  & -0.332889393 &  0.12028319  &  0.0442492   & -0.294079870 & -0.29749125  & -0.05270709  &  0.1044302  \\\\\n",
       "\tFly & -0.40487256  & -0.33288939  &  1.000000000 & -0.27390833  &  0.3770744   &  0.003019973 &  0.09064543  & -0.14991558  & -0.1140063  \\\\\n",
       "\tWater & -0.09100654  &  0.12028319  & -0.273908331 &  1.00000000  & -0.6376211   & -0.178689670 & -0.44383214  &  0.29158177  & -0.2678382  \\\\\n",
       "\tSuperplasticizer &  0.10564721  &  0.04424920  &  0.377074412 & -0.63762114  &  1.0000000   & -0.276017172 &  0.18869564  & -0.20726499  &  0.3465863  \\\\\n",
       "\tCoarse & -0.12518424  & -0.29407987  &  0.003019973 & -0.17868967  & -0.2760172   &  1.000000000 & -0.16567141  &  0.01356077  & -0.1739224  \\\\\n",
       "\tFine & -0.20881391  & -0.29749125  &  0.090645433 & -0.44383214  &  0.1886956   & -0.165671411 &  1.00000000  & -0.13718906  & -0.1528466  \\\\\n",
       "\tAge &  0.06162377  & -0.05270709  & -0.149915576 &  0.29158177  & -0.2072650   &  0.013560773 & -0.13718906  &  1.00000000  &  0.3260410  \\\\\n",
       "\tConcrete &  0.51133578  &  0.10443017  & -0.114006273 & -0.26783820  &  0.3465863   & -0.173922425 & -0.15284656  &  0.32604104  &  1.0000000  \\\\\n",
       "\\end{tabular}\n"
      ],
      "text/markdown": [
       "\n",
       "| <!--/--> | Cement | Blast | Fly | Water | Superplasticizer | Coarse | Fine | Age | Concrete | \n",
       "|---|---|---|---|---|---|---|---|---|\n",
       "| Cement |  1.00000000  | -0.26450684  | -0.404872562 | -0.09100654  |  0.1056472   | -0.125184235 | -0.20881391  |  0.06162377  |  0.5113358   | \n",
       "| Blast | -0.26450684  |  1.00000000  | -0.332889393 |  0.12028319  |  0.0442492   | -0.294079870 | -0.29749125  | -0.05270709  |  0.1044302   | \n",
       "| Fly | -0.40487256  | -0.33288939  |  1.000000000 | -0.27390833  |  0.3770744   |  0.003019973 |  0.09064543  | -0.14991558  | -0.1140063   | \n",
       "| Water | -0.09100654  |  0.12028319  | -0.273908331 |  1.00000000  | -0.6376211   | -0.178689670 | -0.44383214  |  0.29158177  | -0.2678382   | \n",
       "| Superplasticizer |  0.10564721  |  0.04424920  |  0.377074412 | -0.63762114  |  1.0000000   | -0.276017172 |  0.18869564  | -0.20726499  |  0.3465863   | \n",
       "| Coarse | -0.12518424  | -0.29407987  |  0.003019973 | -0.17868967  | -0.2760172   |  1.000000000 | -0.16567141  |  0.01356077  | -0.1739224   | \n",
       "| Fine | -0.20881391  | -0.29749125  |  0.090645433 | -0.44383214  |  0.1886956   | -0.165671411 |  1.00000000  | -0.13718906  | -0.1528466   | \n",
       "| Age |  0.06162377  | -0.05270709  | -0.149915576 |  0.29158177  | -0.2072650   |  0.013560773 | -0.13718906  |  1.00000000  |  0.3260410   | \n",
       "| Concrete |  0.51133578  |  0.10443017  | -0.114006273 | -0.26783820  |  0.3465863   | -0.173922425 | -0.15284656  |  0.32604104  |  1.0000000   | \n",
       "\n",
       "\n"
      ],
      "text/plain": [
       "                 Cement      Blast       Fly          Water      \n",
       "Cement            1.00000000 -0.26450684 -0.404872562 -0.09100654\n",
       "Blast            -0.26450684  1.00000000 -0.332889393  0.12028319\n",
       "Fly              -0.40487256 -0.33288939  1.000000000 -0.27390833\n",
       "Water            -0.09100654  0.12028319 -0.273908331  1.00000000\n",
       "Superplasticizer  0.10564721  0.04424920  0.377074412 -0.63762114\n",
       "Coarse           -0.12518424 -0.29407987  0.003019973 -0.17868967\n",
       "Fine             -0.20881391 -0.29749125  0.090645433 -0.44383214\n",
       "Age               0.06162377 -0.05270709 -0.149915576  0.29158177\n",
       "Concrete          0.51133578  0.10443017 -0.114006273 -0.26783820\n",
       "                 Superplasticizer Coarse       Fine        Age        \n",
       "Cement            0.1056472       -0.125184235 -0.20881391  0.06162377\n",
       "Blast             0.0442492       -0.294079870 -0.29749125 -0.05270709\n",
       "Fly               0.3770744        0.003019973  0.09064543 -0.14991558\n",
       "Water            -0.6376211       -0.178689670 -0.44383214  0.29158177\n",
       "Superplasticizer  1.0000000       -0.276017172  0.18869564 -0.20726499\n",
       "Coarse           -0.2760172        1.000000000 -0.16567141  0.01356077\n",
       "Fine              0.1886956       -0.165671411  1.00000000 -0.13718906\n",
       "Age              -0.2072650        0.013560773 -0.13718906  1.00000000\n",
       "Concrete          0.3465863       -0.173922425 -0.15284656  0.32604104\n",
       "                 Concrete  \n",
       "Cement            0.5113358\n",
       "Blast             0.1044302\n",
       "Fly              -0.1140063\n",
       "Water            -0.2678382\n",
       "Superplasticizer  0.3465863\n",
       "Coarse           -0.1739224\n",
       "Fine             -0.1528466\n",
       "Age               0.3260410\n",
       "Concrete          1.0000000"
      ]
     },
     "metadata": {},
     "output_type": "display_data"
    }
   ],
   "source": [
    "cor(train_data)"
   ]
  },
  {
   "cell_type": "markdown",
   "metadata": {},
   "source": [
    "cement is highly correlated with concrete with a correlation of 0.51. "
   ]
  },
  {
   "cell_type": "code",
   "execution_count": 9,
   "metadata": {},
   "outputs": [
    {
     "data": {
      "text/plain": [
       "\n",
       "Call:\n",
       "lm(formula = Concrete ~ Cement, data = train_data)\n",
       "\n",
       "Residuals:\n",
       "    Min      1Q  Median      3Q     Max \n",
       "-37.978 -10.986  -0.686   9.625  43.169 \n",
       "\n",
       "Coefficients:\n",
       "             Estimate Std. Error t value Pr(>|t|)    \n",
       "(Intercept) 13.080594   1.508800    8.67   <2e-16 ***\n",
       "Cement       0.080955   0.005074   15.96   <2e-16 ***\n",
       "---\n",
       "Signif. codes:  0 '***' 0.001 '**' 0.01 '*' 0.05 '.' 0.1 ' ' 1\n",
       "\n",
       "Residual standard error: 14.1 on 719 degrees of freedom\n",
       "Multiple R-squared:  0.2615,\tAdjusted R-squared:  0.2604 \n",
       "F-statistic: 254.5 on 1 and 719 DF,  p-value: < 2.2e-16\n"
      ]
     },
     "metadata": {},
     "output_type": "display_data"
    }
   ],
   "source": [
    "concrete_cement_reg <- lm(Concrete ~ Cement, data = train_data)\n",
    "summary(concrete_cement_reg)"
   ]
  },
  {
   "cell_type": "code",
   "execution_count": 12,
   "metadata": {},
   "outputs": [
    {
     "data": {
      "text/html": [
       "<dl class=dl-horizontal>\n",
       "\t<dt>1</dt>\n",
       "\t\t<dd>56.7962212059228</dd>\n",
       "\t<dt>3</dt>\n",
       "\t\t<dd>39.9980867260266</dd>\n",
       "\t<dt>4</dt>\n",
       "\t\t<dd>39.9980867260263</dd>\n",
       "\t<dt>5</dt>\n",
       "\t\t<dd>29.1582303074321</dd>\n",
       "\t<dt>6</dt>\n",
       "\t\t<dd>34.6145882059627</dd>\n",
       "\t<dt>8</dt>\n",
       "\t\t<dd>43.843442811786</dd>\n",
       "\t<dt>9</dt>\n",
       "\t\t<dd>34.6145882059627</dd>\n",
       "\t<dt>10</dt>\n",
       "\t\t<dd>51.5341549833055</dd>\n",
       "\t<dt>11</dt>\n",
       "\t\t<dd>29.1582303074321</dd>\n",
       "\t<dt>13</dt>\n",
       "\t\t<dd>47.6887988975458</dd>\n",
       "</dl>\n"
      ],
      "text/latex": [
       "\\begin{description*}\n",
       "\\item[1] 56.7962212059228\n",
       "\\item[3] 39.9980867260266\n",
       "\\item[4] 39.9980867260263\n",
       "\\item[5] 29.1582303074321\n",
       "\\item[6] 34.6145882059627\n",
       "\\item[8] 43.843442811786\n",
       "\\item[9] 34.6145882059627\n",
       "\\item[10] 51.5341549833055\n",
       "\\item[11] 29.1582303074321\n",
       "\\item[13] 47.6887988975458\n",
       "\\end{description*}\n"
      ],
      "text/markdown": [
       "1\n",
       ":   56.79622120592283\n",
       ":   39.99808672602664\n",
       ":   39.99808672602635\n",
       ":   29.15823030743216\n",
       ":   34.61458820596278\n",
       ":   43.8434428117869\n",
       ":   34.614588205962710\n",
       ":   51.534154983305511\n",
       ":   29.158230307432113\n",
       ":   47.6887988975458\n",
       "\n"
      ],
      "text/plain": [
       "       1        3        4        5        6        8        9       10 \n",
       "56.79622 39.99809 39.99809 29.15823 34.61459 43.84344 34.61459 51.53415 \n",
       "      11       13 \n",
       "29.15823 47.68880 "
      ]
     },
     "metadata": {},
     "output_type": "display_data"
    }
   ],
   "source": [
    "# The predicted values for dependent variable 'Concrete' \n",
    "# can be accessed by referring to fitted.values of the model\n",
    "pred_values <- concrete_cement_reg$fitted.values\n",
    "pred_values[0:10]"
   ]
  },
  {
   "cell_type": "code",
   "execution_count": 13,
   "metadata": {},
   "outputs": [
    {
     "data": {},
     "metadata": {},
     "output_type": "display_data"
    },
    {
     "data": {
      "image/png": "[encoded data removed]",
      "text/plain": [
       "plot without title"
      ]
     },
     "metadata": {},
     "output_type": "display_data"
    }
   ],
   "source": [
    "library(ggplot2)\n",
    "\n",
    "#plot the regression line and residual errors\n",
    "qplot(x = train_data$Cement, y = train_data$Concrete) + \n",
    "    geom_segment(aes(x = train_data$Cement, xend = train_data$Cement, \n",
    "                        y = train_data$Concrete, yend = pred_values,\n",
    "                        color = \"error\")) + \n",
    "\n",
    "    geom_smooth(method = lm, level = 0.95) + \n",
    "    labs(title = \"Residual Errors\", color = \"series\")"
   ]
  },
  {
   "cell_type": "code",
   "execution_count": 14,
   "metadata": {},
   "outputs": [
    {
     "name": "stdout",
     "output_type": "stream",
     "text": [
      "[1] 142961.3\n"
     ]
    }
   ],
   "source": [
    "res <- concrete_cement_reg$residuals\n",
    "SSE <- sum(res^2)\n",
    "print(SSE)"
   ]
  },
  {
   "cell_type": "code",
   "execution_count": 15,
   "metadata": {},
   "outputs": [
    {
     "data": {
      "text/plain": [
       "\n",
       "Call:\n",
       "lm(formula = Concrete ~ Cement + Superplasticizer, data = train_data)\n",
       "\n",
       "Residuals:\n",
       "    Min      1Q  Median      3Q     Max \n",
       "-32.302 -10.158  -0.310   8.888  43.682 \n",
       "\n",
       "Coefficients:\n",
       "                 Estimate Std. Error t value Pr(>|t|)    \n",
       "(Intercept)      9.310078   1.470237   6.332 4.26e-10 ***\n",
       "Cement           0.076006   0.004798  15.842  < 2e-16 ***\n",
       "Superplasticizer 0.816350   0.083612   9.764  < 2e-16 ***\n",
       "---\n",
       "Signif. codes:  0 '***' 0.001 '**' 0.01 '*' 0.05 '.' 0.1 ' ' 1\n",
       "\n",
       "Residual standard error: 13.26 on 718 degrees of freedom\n",
       "Multiple R-squared:  0.348,\tAdjusted R-squared:  0.3462 \n",
       "F-statistic: 191.6 on 2 and 718 DF,  p-value: < 2.2e-16\n"
      ]
     },
     "metadata": {},
     "output_type": "display_data"
    }
   ],
   "source": [
    "concrete_reg1 <- lm(Concrete ~ Cement + Superplasticizer, data = train_data)\n",
    "summary(concrete_reg1)"
   ]
  },
  {
   "cell_type": "code",
   "execution_count": 16,
   "metadata": {},
   "outputs": [
    {
     "data": {
      "text/plain": [
       "\n",
       "Call:\n",
       "lm(formula = Concrete ~ Cement + Superplasticizer + Age, data = train_data)\n",
       "\n",
       "Residuals:\n",
       "    Min      1Q  Median      3Q     Max \n",
       "-31.810  -7.861  -0.418   7.101  45.662 \n",
       "\n",
       "Coefficients:\n",
       "                 Estimate Std. Error t value Pr(>|t|)    \n",
       "(Intercept)      4.918025   1.349266   3.645 0.000287 ***\n",
       "Cement           0.070970   0.004292  16.535  < 2e-16 ***\n",
       "Superplasticizer 1.041002   0.076316  13.641  < 2e-16 ***\n",
       "Age              0.095443   0.006983  13.667  < 2e-16 ***\n",
       "---\n",
       "Signif. codes:  0 '***' 0.001 '**' 0.01 '*' 0.05 '.' 0.1 ' ' 1\n",
       "\n",
       "Residual standard error: 11.82 on 717 degrees of freedom\n",
       "Multiple R-squared:  0.4828,\tAdjusted R-squared:  0.4806 \n",
       "F-statistic: 223.1 on 3 and 717 DF,  p-value: < 2.2e-16\n"
      ]
     },
     "metadata": {},
     "output_type": "display_data"
    }
   ],
   "source": [
    "concrete_reg2 <- lm(Concrete ~ Cement + Superplasticizer + Age, \n",
    "                       data = train_data)\n",
    "\n",
    "summary(concrete_reg2)"
   ]
  },
  {
   "cell_type": "markdown",
   "metadata": {},
   "source": [
    "The model is getting better with addition of new predictors. The latest model concrete_reg2 can explain more variation in the data. If we keep on adding the data at some point there would be an insignificant increase in the model R-squared value. Its better to exclude variables to avoid over fitting of models. The variables Coarse, Fine, Fly don't contribute much to the model to the model built with Cement+Superplasticizer+Age+Blast+Water as predictos.\n",
    "We had to check each variable if it was adding any new information to the model. This can become time consuming when there are few 10's of variables in the model. Instead you can reverse engineer and build a model using all the independent variables and start selecting the variables which are significant or exclude variables that are insignificant which ever works the best in a situation."
   ]
  },
  {
   "cell_type": "code",
   "execution_count": 17,
   "metadata": {},
   "outputs": [
    {
     "data": {
      "text/plain": [
       "\n",
       "Call:\n",
       "lm(formula = Concrete ~ ., data = train_data)\n",
       "\n",
       "Residuals:\n",
       "    Min      1Q  Median      3Q     Max \n",
       "-28.053  -6.049   0.573   6.469  35.667 \n",
       "\n",
       "Coefficients:\n",
       "                   Estimate Std. Error t value Pr(>|t|)    \n",
       "(Intercept)      -29.526293  32.214828  -0.917   0.3597    \n",
       "Cement             0.121542   0.010309  11.789  < 2e-16 ***\n",
       "Blast              0.098370   0.012217   8.052 3.43e-15 ***\n",
       "Fly                0.087236   0.015213   5.734 1.45e-08 ***\n",
       "Water             -0.130040   0.049200  -2.643   0.0084 ** \n",
       "Superplasticizer   0.282243   0.110210   2.561   0.0106 *  \n",
       "Coarse             0.017989   0.011325   1.588   0.1126    \n",
       "Fine               0.023600   0.012889   1.831   0.0675 .  \n",
       "Age                0.111706   0.006368  17.542  < 2e-16 ***\n",
       "---\n",
       "Signif. codes:  0 '***' 0.001 '**' 0.01 '*' 0.05 '.' 0.1 ' ' 1\n",
       "\n",
       "Residual standard error: 10.44 on 712 degrees of freedom\n",
       "Multiple R-squared:  0.5991,\tAdjusted R-squared:  0.5946 \n",
       "F-statistic:   133 on 8 and 712 DF,  p-value: < 2.2e-16\n"
      ]
     },
     "metadata": {},
     "output_type": "display_data"
    }
   ],
   "source": [
    "concrete_reg3 <- lm(Concrete ~ ., \n",
    "                    data = train_data)\n",
    "\n",
    "summary(concrete_reg3)"
   ]
  },
  {
   "cell_type": "code",
   "execution_count": 18,
   "metadata": {},
   "outputs": [
    {
     "data": {
      "text/plain": [
       "\n",
       "Call:\n",
       "lm(formula = Concrete ~ Cement + Blast + Fly + Water + Superplasticizer + \n",
       "    Age, data = train_data)\n",
       "\n",
       "Residuals:\n",
       "    Min      1Q  Median      3Q     Max \n",
       "-28.134  -6.255   0.653   6.432  35.647 \n",
       "\n",
       "Coefficients:\n",
       "                  Estimate Std. Error t value Pr(>|t|)    \n",
       "(Intercept)      27.326967   5.116918   5.341 1.25e-07 ***\n",
       "Cement            0.105275   0.005217  20.181  < 2e-16 ***\n",
       "Blast             0.078978   0.006020  13.119  < 2e-16 ***\n",
       "Fly               0.065353   0.009442   6.922 9.94e-12 ***\n",
       "Water            -0.205056   0.025496  -8.043 3.66e-15 ***\n",
       "Superplasticizer  0.239313   0.100128   2.390   0.0171 *  \n",
       "Age               0.111282   0.006361  17.494  < 2e-16 ***\n",
       "---\n",
       "Signif. codes:  0 '***' 0.001 '**' 0.01 '*' 0.05 '.' 0.1 ' ' 1\n",
       "\n",
       "Residual standard error: 10.45 on 714 degrees of freedom\n",
       "Multiple R-squared:  0.5972,\tAdjusted R-squared:  0.5938 \n",
       "F-statistic: 176.4 on 6 and 714 DF,  p-value: < 2.2e-16\n"
      ]
     },
     "metadata": {},
     "output_type": "display_data"
    }
   ],
   "source": [
    "concrete_reg4 <- lm(Concrete ~ Cement + Blast + Fly + Water + Superplasticizer + Age,\n",
    "                   data = train_data)\n",
    "\n",
    "summary(concrete_reg4)"
   ]
  },
  {
   "cell_type": "markdown",
   "metadata": {},
   "source": [
    "The R-squared value of above model concrete_reg4 is 0.59. This is the best model you can get without applying any more advanced techniques. You came to this point in two steps doing reverse engineering eliminating variables from the model. Above approach of including predictors one by one and checking R-squared value will make build eight different models adding eight variables to model one by one. So this second approach is the better one. This may not be the case in all situations but its a better approach when your data has amny predictos."
   ]
  }
 ],
 "metadata": {
  "kernelspec": {
   "display_name": "R",
   "language": "R",
   "name": "ir"
  },
  "language_info": {
   "codemirror_mode": "r",
   "file_extension": ".r",
   "mimetype": "text/x-r-source",
   "name": "R",
   "pygments_lexer": "r",
   "version": "3.4.1"
  }
 },
 "nbformat": 4,
 "nbformat_minor": 2
}
