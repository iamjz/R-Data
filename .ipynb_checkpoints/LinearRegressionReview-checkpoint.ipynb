{
 "cells": [
  {
   "cell_type": "markdown",
   "metadata": {},
   "source": [
    "we will use linear regression to do some analysis with the framingham data set to see if we can find any meaningful relationships between blood pressure, age, and gender.\n",
    "\n",
    "The numeric difference between your systolic and diastolic blood pressure is called your pulse pressure. For example, if your resting blood pressure is 120/80, your pulse pressure is 40. For adults older than age 60, a pulse pressure greater than 60 can be a useful predictor of heart attacks or other cardiovascular disease; this is especially true for men. The most important cause of elevated pulse pressure is stiffness of the aorta, the largest artery in the body. The greater your pulse pressure, the stiffer and more damaged the vessels are thought to be.\n",
    "([Reference](http://www.mayoclinic.org/diseases-conditions/high-blood-pressure/expert-answers/pulse-pressure/faq-20058189))"
   ]
  },
  {
   "cell_type": "code",
   "execution_count": 13,
   "metadata": {},
   "outputs": [],
   "source": [
    "framingham_data <- read.csv(\"datasets/framingham.csv\")"
   ]
  },
  {
   "cell_type": "code",
   "execution_count": 14,
   "metadata": {},
   "outputs": [
    {
     "data": {
      "text/html": [
       "<table>\n",
       "<thead><tr><th></th><th scope=col>1</th><th scope=col>2</th><th scope=col>3</th><th scope=col>4</th><th scope=col>5</th><th scope=col>6</th></tr></thead>\n",
       "<tbody>\n",
       "\t<tr><th scope=row>male</th><td>  1.00</td><td>  0.00</td><td>  1.00</td><td>  0.00</td><td>  0.0 </td><td>  0.0 </td></tr>\n",
       "\t<tr><th scope=row>age</th><td> 39.00</td><td> 46.00</td><td> 48.00</td><td> 61.00</td><td> 46.0 </td><td> 43.0 </td></tr>\n",
       "\t<tr><th scope=row>education</th><td>  4.00</td><td>  2.00</td><td>  1.00</td><td>  3.00</td><td>  3.0 </td><td>  2.0 </td></tr>\n",
       "\t<tr><th scope=row>currentSmoker</th><td>  0.00</td><td>  0.00</td><td>  1.00</td><td>  1.00</td><td>  1.0 </td><td>  0.0 </td></tr>\n",
       "\t<tr><th scope=row>cigsPerDay</th><td>  0.00</td><td>  0.00</td><td> 20.00</td><td> 30.00</td><td> 23.0 </td><td>  0.0 </td></tr>\n",
       "\t<tr><th scope=row>BPMeds</th><td>  0.00</td><td>  0.00</td><td>  0.00</td><td>  0.00</td><td>  0.0 </td><td>  0.0 </td></tr>\n",
       "\t<tr><th scope=row>prevalentStroke</th><td>  0.00</td><td>  0.00</td><td>  0.00</td><td>  0.00</td><td>  0.0 </td><td>  0.0 </td></tr>\n",
       "\t<tr><th scope=row>prevalentHyp</th><td>  0.00</td><td>  0.00</td><td>  0.00</td><td>  1.00</td><td>  0.0 </td><td>  1.0 </td></tr>\n",
       "\t<tr><th scope=row>diabetes</th><td>  0.00</td><td>  0.00</td><td>  0.00</td><td>  0.00</td><td>  0.0 </td><td>  0.0 </td></tr>\n",
       "\t<tr><th scope=row>totChol</th><td>195.00</td><td>250.00</td><td>245.00</td><td>225.00</td><td>285.0 </td><td>228.0 </td></tr>\n",
       "\t<tr><th scope=row>sysBP</th><td>106.00</td><td>121.00</td><td>127.50</td><td>150.00</td><td>130.0 </td><td>180.0 </td></tr>\n",
       "\t<tr><th scope=row>diaBP</th><td> 70.00</td><td> 81.00</td><td> 80.00</td><td> 95.00</td><td> 84.0 </td><td>110.0 </td></tr>\n",
       "\t<tr><th scope=row>BMI</th><td> 26.97</td><td> 28.73</td><td> 25.34</td><td> 28.58</td><td> 23.1 </td><td> 30.3 </td></tr>\n",
       "\t<tr><th scope=row>heartRate</th><td> 80.00</td><td> 95.00</td><td> 75.00</td><td> 65.00</td><td> 85.0 </td><td> 77.0 </td></tr>\n",
       "\t<tr><th scope=row>glucose</th><td> 77.00</td><td> 76.00</td><td> 70.00</td><td>103.00</td><td> 85.0 </td><td> 99.0 </td></tr>\n",
       "\t<tr><th scope=row>TenYearCHD</th><td>  0.00</td><td>  0.00</td><td>  0.00</td><td>  1.00</td><td>  0.0 </td><td>  0.0 </td></tr>\n",
       "</tbody>\n",
       "</table>\n"
      ],
      "text/latex": [
       "\\begin{tabular}{r|llllll}\n",
       "  & 1 & 2 & 3 & 4 & 5 & 6\\\\\n",
       "\\hline\n",
       "\tmale &   1.00 &   0.00 &   1.00 &   0.00 &   0.0  &   0.0 \\\\\n",
       "\tage &  39.00 &  46.00 &  48.00 &  61.00 &  46.0  &  43.0 \\\\\n",
       "\teducation &   4.00 &   2.00 &   1.00 &   3.00 &   3.0  &   2.0 \\\\\n",
       "\tcurrentSmoker &   0.00 &   0.00 &   1.00 &   1.00 &   1.0  &   0.0 \\\\\n",
       "\tcigsPerDay &   0.00 &   0.00 &  20.00 &  30.00 &  23.0  &   0.0 \\\\\n",
       "\tBPMeds &   0.00 &   0.00 &   0.00 &   0.00 &   0.0  &   0.0 \\\\\n",
       "\tprevalentStroke &   0.00 &   0.00 &   0.00 &   0.00 &   0.0  &   0.0 \\\\\n",
       "\tprevalentHyp &   0.00 &   0.00 &   0.00 &   1.00 &   0.0  &   1.0 \\\\\n",
       "\tdiabetes &   0.00 &   0.00 &   0.00 &   0.00 &   0.0  &   0.0 \\\\\n",
       "\ttotChol & 195.00 & 250.00 & 245.00 & 225.00 & 285.0  & 228.0 \\\\\n",
       "\tsysBP & 106.00 & 121.00 & 127.50 & 150.00 & 130.0  & 180.0 \\\\\n",
       "\tdiaBP &  70.00 &  81.00 &  80.00 &  95.00 &  84.0  & 110.0 \\\\\n",
       "\tBMI &  26.97 &  28.73 &  25.34 &  28.58 &  23.1  &  30.3 \\\\\n",
       "\theartRate &  80.00 &  95.00 &  75.00 &  65.00 &  85.0  &  77.0 \\\\\n",
       "\tglucose &  77.00 &  76.00 &  70.00 & 103.00 &  85.0  &  99.0 \\\\\n",
       "\tTenYearCHD &   0.00 &   0.00 &   0.00 &   1.00 &   0.0  &   0.0 \\\\\n",
       "\\end{tabular}\n"
      ],
      "text/markdown": [
       "\n",
       "| <!--/--> | 1 | 2 | 3 | 4 | 5 | 6 | \n",
       "|---|---|---|---|---|---|---|---|---|---|---|---|---|---|---|---|\n",
       "| male |   1.00 |   0.00 |   1.00 |   0.00 |   0.0  |   0.0  | \n",
       "| age |  39.00 |  46.00 |  48.00 |  61.00 |  46.0  |  43.0  | \n",
       "| education |   4.00 |   2.00 |   1.00 |   3.00 |   3.0  |   2.0  | \n",
       "| currentSmoker |   0.00 |   0.00 |   1.00 |   1.00 |   1.0  |   0.0  | \n",
       "| cigsPerDay |   0.00 |   0.00 |  20.00 |  30.00 |  23.0  |   0.0  | \n",
       "| BPMeds |   0.00 |   0.00 |   0.00 |   0.00 |   0.0  |   0.0  | \n",
       "| prevalentStroke |   0.00 |   0.00 |   0.00 |   0.00 |   0.0  |   0.0  | \n",
       "| prevalentHyp |   0.00 |   0.00 |   0.00 |   1.00 |   0.0  |   1.0  | \n",
       "| diabetes |   0.00 |   0.00 |   0.00 |   0.00 |   0.0  |   0.0  | \n",
       "| totChol | 195.00 | 250.00 | 245.00 | 225.00 | 285.0  | 228.0  | \n",
       "| sysBP | 106.00 | 121.00 | 127.50 | 150.00 | 130.0  | 180.0  | \n",
       "| diaBP |  70.00 |  81.00 |  80.00 |  95.00 |  84.0  | 110.0  | \n",
       "| BMI |  26.97 |  28.73 |  25.34 |  28.58 |  23.1  |  30.3  | \n",
       "| heartRate |  80.00 |  95.00 |  75.00 |  65.00 |  85.0  |  77.0  | \n",
       "| glucose |  77.00 |  76.00 |  70.00 | 103.00 |  85.0  |  99.0  | \n",
       "| TenYearCHD |   0.00 |   0.00 |   0.00 |   1.00 |   0.0  |   0.0  | \n",
       "\n",
       "\n"
      ],
      "text/plain": [
       "                1      2      3      4      5     6    \n",
       "male              1.00   0.00   1.00   0.00   0.0   0.0\n",
       "age              39.00  46.00  48.00  61.00  46.0  43.0\n",
       "education         4.00   2.00   1.00   3.00   3.0   2.0\n",
       "currentSmoker     0.00   0.00   1.00   1.00   1.0   0.0\n",
       "cigsPerDay        0.00   0.00  20.00  30.00  23.0   0.0\n",
       "BPMeds            0.00   0.00   0.00   0.00   0.0   0.0\n",
       "prevalentStroke   0.00   0.00   0.00   0.00   0.0   0.0\n",
       "prevalentHyp      0.00   0.00   0.00   1.00   0.0   1.0\n",
       "diabetes          0.00   0.00   0.00   0.00   0.0   0.0\n",
       "totChol         195.00 250.00 245.00 225.00 285.0 228.0\n",
       "sysBP           106.00 121.00 127.50 150.00 130.0 180.0\n",
       "diaBP            70.00  81.00  80.00  95.00  84.0 110.0\n",
       "BMI              26.97  28.73  25.34  28.58  23.1  30.3\n",
       "heartRate        80.00  95.00  75.00  65.00  85.0  77.0\n",
       "glucose          77.00  76.00  70.00 103.00  85.0  99.0\n",
       "TenYearCHD        0.00   0.00   0.00   1.00   0.0   0.0"
      ]
     },
     "metadata": {},
     "output_type": "display_data"
    }
   ],
   "source": [
    "t(head(framingham_data))"
   ]
  },
  {
   "cell_type": "markdown",
   "metadata": {},
   "source": [
    "Let's add a new column for the pulse pressure named \"pulseP\" and compute it from sysBP and diaBP."
   ]
  },
  {
   "cell_type": "code",
   "execution_count": 15,
   "metadata": {},
   "outputs": [
    {
     "data": {
      "text/html": [
       "<table>\n",
       "<thead><tr><th scope=col>male</th><th scope=col>age</th><th scope=col>education</th><th scope=col>currentSmoker</th><th scope=col>cigsPerDay</th><th scope=col>BPMeds</th><th scope=col>prevalentStroke</th><th scope=col>prevalentHyp</th><th scope=col>diabetes</th><th scope=col>totChol</th><th scope=col>sysBP</th><th scope=col>diaBP</th><th scope=col>BMI</th><th scope=col>heartRate</th><th scope=col>glucose</th><th scope=col>TenYearCHD</th><th scope=col>pulseP</th></tr></thead>\n",
       "<tbody>\n",
       "\t<tr><td>1    </td><td>39   </td><td>4    </td><td>0    </td><td> 0   </td><td>0    </td><td>0    </td><td>0    </td><td>0    </td><td>195  </td><td>106.0</td><td> 70  </td><td>26.97</td><td>80   </td><td> 77  </td><td>0    </td><td>36.0 </td></tr>\n",
       "\t<tr><td>0    </td><td>46   </td><td>2    </td><td>0    </td><td> 0   </td><td>0    </td><td>0    </td><td>0    </td><td>0    </td><td>250  </td><td>121.0</td><td> 81  </td><td>28.73</td><td>95   </td><td> 76  </td><td>0    </td><td>40.0 </td></tr>\n",
       "\t<tr><td>1    </td><td>48   </td><td>1    </td><td>1    </td><td>20   </td><td>0    </td><td>0    </td><td>0    </td><td>0    </td><td>245  </td><td>127.5</td><td> 80  </td><td>25.34</td><td>75   </td><td> 70  </td><td>0    </td><td>47.5 </td></tr>\n",
       "\t<tr><td>0    </td><td>61   </td><td>3    </td><td>1    </td><td>30   </td><td>0    </td><td>0    </td><td>1    </td><td>0    </td><td>225  </td><td>150.0</td><td> 95  </td><td>28.58</td><td>65   </td><td>103  </td><td>1    </td><td>55.0 </td></tr>\n",
       "\t<tr><td>0    </td><td>46   </td><td>3    </td><td>1    </td><td>23   </td><td>0    </td><td>0    </td><td>0    </td><td>0    </td><td>285  </td><td>130.0</td><td> 84  </td><td>23.10</td><td>85   </td><td> 85  </td><td>0    </td><td>46.0 </td></tr>\n",
       "\t<tr><td>0    </td><td>43   </td><td>2    </td><td>0    </td><td> 0   </td><td>0    </td><td>0    </td><td>1    </td><td>0    </td><td>228  </td><td>180.0</td><td>110  </td><td>30.30</td><td>77   </td><td> 99  </td><td>0    </td><td>70.0 </td></tr>\n",
       "</tbody>\n",
       "</table>\n"
      ],
      "text/latex": [
       "\\begin{tabular}{r|lllllllllllllllll}\n",
       " male & age & education & currentSmoker & cigsPerDay & BPMeds & prevalentStroke & prevalentHyp & diabetes & totChol & sysBP & diaBP & BMI & heartRate & glucose & TenYearCHD & pulseP\\\\\n",
       "\\hline\n",
       "\t 1     & 39    & 4     & 0     &  0    & 0     & 0     & 0     & 0     & 195   & 106.0 &  70   & 26.97 & 80    &  77   & 0     & 36.0 \\\\\n",
       "\t 0     & 46    & 2     & 0     &  0    & 0     & 0     & 0     & 0     & 250   & 121.0 &  81   & 28.73 & 95    &  76   & 0     & 40.0 \\\\\n",
       "\t 1     & 48    & 1     & 1     & 20    & 0     & 0     & 0     & 0     & 245   & 127.5 &  80   & 25.34 & 75    &  70   & 0     & 47.5 \\\\\n",
       "\t 0     & 61    & 3     & 1     & 30    & 0     & 0     & 1     & 0     & 225   & 150.0 &  95   & 28.58 & 65    & 103   & 1     & 55.0 \\\\\n",
       "\t 0     & 46    & 3     & 1     & 23    & 0     & 0     & 0     & 0     & 285   & 130.0 &  84   & 23.10 & 85    &  85   & 0     & 46.0 \\\\\n",
       "\t 0     & 43    & 2     & 0     &  0    & 0     & 0     & 1     & 0     & 228   & 180.0 & 110   & 30.30 & 77    &  99   & 0     & 70.0 \\\\\n",
       "\\end{tabular}\n"
      ],
      "text/markdown": [
       "\n",
       "male | age | education | currentSmoker | cigsPerDay | BPMeds | prevalentStroke | prevalentHyp | diabetes | totChol | sysBP | diaBP | BMI | heartRate | glucose | TenYearCHD | pulseP | \n",
       "|---|---|---|---|---|---|\n",
       "| 1     | 39    | 4     | 0     |  0    | 0     | 0     | 0     | 0     | 195   | 106.0 |  70   | 26.97 | 80    |  77   | 0     | 36.0  | \n",
       "| 0     | 46    | 2     | 0     |  0    | 0     | 0     | 0     | 0     | 250   | 121.0 |  81   | 28.73 | 95    |  76   | 0     | 40.0  | \n",
       "| 1     | 48    | 1     | 1     | 20    | 0     | 0     | 0     | 0     | 245   | 127.5 |  80   | 25.34 | 75    |  70   | 0     | 47.5  | \n",
       "| 0     | 61    | 3     | 1     | 30    | 0     | 0     | 1     | 0     | 225   | 150.0 |  95   | 28.58 | 65    | 103   | 1     | 55.0  | \n",
       "| 0     | 46    | 3     | 1     | 23    | 0     | 0     | 0     | 0     | 285   | 130.0 |  84   | 23.10 | 85    |  85   | 0     | 46.0  | \n",
       "| 0     | 43    | 2     | 0     |  0    | 0     | 0     | 1     | 0     | 228   | 180.0 | 110   | 30.30 | 77    |  99   | 0     | 70.0  | \n",
       "\n",
       "\n"
      ],
      "text/plain": [
       "  male age education currentSmoker cigsPerDay BPMeds prevalentStroke\n",
       "1 1    39  4         0              0         0      0              \n",
       "2 0    46  2         0              0         0      0              \n",
       "3 1    48  1         1             20         0      0              \n",
       "4 0    61  3         1             30         0      0              \n",
       "5 0    46  3         1             23         0      0              \n",
       "6 0    43  2         0              0         0      0              \n",
       "  prevalentHyp diabetes totChol sysBP diaBP BMI   heartRate glucose TenYearCHD\n",
       "1 0            0        195     106.0  70   26.97 80         77     0         \n",
       "2 0            0        250     121.0  81   28.73 95         76     0         \n",
       "3 0            0        245     127.5  80   25.34 75         70     0         \n",
       "4 1            0        225     150.0  95   28.58 65        103     1         \n",
       "5 0            0        285     130.0  84   23.10 85         85     0         \n",
       "6 1            0        228     180.0 110   30.30 77         99     0         \n",
       "  pulseP\n",
       "1 36.0  \n",
       "2 40.0  \n",
       "3 47.5  \n",
       "4 55.0  \n",
       "5 46.0  \n",
       "6 70.0  "
      ]
     },
     "metadata": {},
     "output_type": "display_data"
    }
   ],
   "source": [
    "framingham_data[\"pulseP\"] <- framingham_data$sysBP - framingham_data$diaBP\n",
    "head(framingham_data)"
   ]
  },
  {
   "cell_type": "markdown",
   "metadata": {},
   "source": [
    "For this analysis, we'll need adults (age>18) who are not taking blood pressure medication (BPMeds==0), and we will create two subsets; one for males and one for females, and pick only the columns we'll work on (age, sysBP, diaBP, BMI, heartRate, pulseP)."
   ]
  },
  {
   "cell_type": "code",
   "execution_count": 16,
   "metadata": {
    "collapsed": true
   },
   "outputs": [],
   "source": [
    "framingham_data_male   <- subset(framingham_data, (framingham_data$age > 18 & framingham_data$male == 1), select=c(2,11:14,17))\n",
    "framingham_data_female <- subset(framingham_data, (framingham_data$age > 18 & framingham_data$male == 0), select=c(2,11:14,17))"
   ]
  },
  {
   "cell_type": "code",
   "execution_count": 17,
   "metadata": {},
   "outputs": [
    {
     "data": {
      "text/html": [
       "<table>\n",
       "<thead><tr><th></th><th scope=col>age</th><th scope=col>sysBP</th><th scope=col>diaBP</th><th scope=col>BMI</th><th scope=col>heartRate</th><th scope=col>pulseP</th></tr></thead>\n",
       "<tbody>\n",
       "\t<tr><th scope=row>1</th><td>39   </td><td>106.0</td><td> 70  </td><td>26.97</td><td>80   </td><td>36.0 </td></tr>\n",
       "\t<tr><th scope=row>3</th><td>48   </td><td>127.5</td><td> 80  </td><td>25.34</td><td>75   </td><td>47.5 </td></tr>\n",
       "\t<tr><th scope=row>9</th><td>52   </td><td>141.5</td><td> 89  </td><td>26.36</td><td>76   </td><td>52.5 </td></tr>\n",
       "\t<tr><th scope=row>10</th><td>43   </td><td>162.0</td><td>107  </td><td>23.61</td><td>93   </td><td>55.0 </td></tr>\n",
       "\t<tr><th scope=row>13</th><td>46   </td><td>142.0</td><td> 94  </td><td>26.31</td><td>98   </td><td>48.0 </td></tr>\n",
       "\t<tr><th scope=row>17</th><td>48   </td><td>138.0</td><td> 90  </td><td>22.37</td><td>64   </td><td>48.0 </td></tr>\n",
       "</tbody>\n",
       "</table>\n"
      ],
      "text/latex": [
       "\\begin{tabular}{r|llllll}\n",
       "  & age & sysBP & diaBP & BMI & heartRate & pulseP\\\\\n",
       "\\hline\n",
       "\t1 & 39    & 106.0 &  70   & 26.97 & 80    & 36.0 \\\\\n",
       "\t3 & 48    & 127.5 &  80   & 25.34 & 75    & 47.5 \\\\\n",
       "\t9 & 52    & 141.5 &  89   & 26.36 & 76    & 52.5 \\\\\n",
       "\t10 & 43    & 162.0 & 107   & 23.61 & 93    & 55.0 \\\\\n",
       "\t13 & 46    & 142.0 &  94   & 26.31 & 98    & 48.0 \\\\\n",
       "\t17 & 48    & 138.0 &  90   & 22.37 & 64    & 48.0 \\\\\n",
       "\\end{tabular}\n"
      ],
      "text/markdown": [
       "\n",
       "| <!--/--> | age | sysBP | diaBP | BMI | heartRate | pulseP | \n",
       "|---|---|---|---|---|---|\n",
       "| 1 | 39    | 106.0 |  70   | 26.97 | 80    | 36.0  | \n",
       "| 3 | 48    | 127.5 |  80   | 25.34 | 75    | 47.5  | \n",
       "| 9 | 52    | 141.5 |  89   | 26.36 | 76    | 52.5  | \n",
       "| 10 | 43    | 162.0 | 107   | 23.61 | 93    | 55.0  | \n",
       "| 13 | 46    | 142.0 |  94   | 26.31 | 98    | 48.0  | \n",
       "| 17 | 48    | 138.0 |  90   | 22.37 | 64    | 48.0  | \n",
       "\n",
       "\n"
      ],
      "text/plain": [
       "   age sysBP diaBP BMI   heartRate pulseP\n",
       "1  39  106.0  70   26.97 80        36.0  \n",
       "3  48  127.5  80   25.34 75        47.5  \n",
       "9  52  141.5  89   26.36 76        52.5  \n",
       "10 43  162.0 107   23.61 93        55.0  \n",
       "13 46  142.0  94   26.31 98        48.0  \n",
       "17 48  138.0  90   22.37 64        48.0  "
      ]
     },
     "metadata": {},
     "output_type": "display_data"
    }
   ],
   "source": [
    "head(framingham_data_male)"
   ]
  },
  {
   "cell_type": "code",
   "execution_count": 18,
   "metadata": {},
   "outputs": [
    {
     "data": {
      "text/html": [
       "<table>\n",
       "<thead><tr><th></th><th scope=col>age</th><th scope=col>sysBP</th><th scope=col>diaBP</th><th scope=col>BMI</th><th scope=col>heartRate</th><th scope=col>pulseP</th></tr></thead>\n",
       "<tbody>\n",
       "\t<tr><th scope=row>2</th><td>46   </td><td>121  </td><td> 81  </td><td>28.73</td><td>95   </td><td>40   </td></tr>\n",
       "\t<tr><th scope=row>4</th><td>61   </td><td>150  </td><td> 95  </td><td>28.58</td><td>65   </td><td>55   </td></tr>\n",
       "\t<tr><th scope=row>5</th><td>46   </td><td>130  </td><td> 84  </td><td>23.10</td><td>85   </td><td>46   </td></tr>\n",
       "\t<tr><th scope=row>6</th><td>43   </td><td>180  </td><td>110  </td><td>30.30</td><td>77   </td><td>70   </td></tr>\n",
       "\t<tr><th scope=row>7</th><td>63   </td><td>138  </td><td> 71  </td><td>33.11</td><td>60   </td><td>67   </td></tr>\n",
       "\t<tr><th scope=row>8</th><td>45   </td><td>100  </td><td> 71  </td><td>21.68</td><td>79   </td><td>29   </td></tr>\n",
       "</tbody>\n",
       "</table>\n"
      ],
      "text/latex": [
       "\\begin{tabular}{r|llllll}\n",
       "  & age & sysBP & diaBP & BMI & heartRate & pulseP\\\\\n",
       "\\hline\n",
       "\t2 & 46    & 121   &  81   & 28.73 & 95    & 40   \\\\\n",
       "\t4 & 61    & 150   &  95   & 28.58 & 65    & 55   \\\\\n",
       "\t5 & 46    & 130   &  84   & 23.10 & 85    & 46   \\\\\n",
       "\t6 & 43    & 180   & 110   & 30.30 & 77    & 70   \\\\\n",
       "\t7 & 63    & 138   &  71   & 33.11 & 60    & 67   \\\\\n",
       "\t8 & 45    & 100   &  71   & 21.68 & 79    & 29   \\\\\n",
       "\\end{tabular}\n"
      ],
      "text/markdown": [
       "\n",
       "| <!--/--> | age | sysBP | diaBP | BMI | heartRate | pulseP | \n",
       "|---|---|---|---|---|---|\n",
       "| 2 | 46    | 121   |  81   | 28.73 | 95    | 40    | \n",
       "| 4 | 61    | 150   |  95   | 28.58 | 65    | 55    | \n",
       "| 5 | 46    | 130   |  84   | 23.10 | 85    | 46    | \n",
       "| 6 | 43    | 180   | 110   | 30.30 | 77    | 70    | \n",
       "| 7 | 63    | 138   |  71   | 33.11 | 60    | 67    | \n",
       "| 8 | 45    | 100   |  71   | 21.68 | 79    | 29    | \n",
       "\n",
       "\n"
      ],
      "text/plain": [
       "  age sysBP diaBP BMI   heartRate pulseP\n",
       "2 46  121    81   28.73 95        40    \n",
       "4 61  150    95   28.58 65        55    \n",
       "5 46  130    84   23.10 85        46    \n",
       "6 43  180   110   30.30 77        70    \n",
       "7 63  138    71   33.11 60        67    \n",
       "8 45  100    71   21.68 79        29    "
      ]
     },
     "metadata": {},
     "output_type": "display_data"
    }
   ],
   "source": [
    "head(framingham_data_female)"
   ]
  },
  {
   "cell_type": "markdown",
   "metadata": {},
   "source": [
    "Now, let's see if we can model the relation between age and pulse pressure for males vs. females.\n"
   ]
  },
  {
   "cell_type": "code",
   "execution_count": 19,
   "metadata": {},
   "outputs": [
    {
     "data": {
      "text/plain": [
       "\n",
       "Call:\n",
       "lm(formula = framingham_data_male$pulseP ~ framingham_data_male$age)\n",
       "\n",
       "Residuals:\n",
       "    Min      1Q  Median      3Q     Max \n",
       "-27.999  -8.154  -1.159   5.789  79.562 \n",
       "\n",
       "Coefficients:\n",
       "                         Estimate Std. Error t value Pr(>|t|)    \n",
       "(Intercept)              23.60726    1.67707   14.08   <2e-16 ***\n",
       "framingham_data_male$age  0.48970    0.03352   14.61   <2e-16 ***\n",
       "---\n",
       "Signif. codes:  0 '***' 0.001 '**' 0.01 '*' 0.05 '.' 0.1 ' ' 1\n",
       "\n",
       "Residual standard error: 12.2 on 1818 degrees of freedom\n",
       "Multiple R-squared:  0.105,\tAdjusted R-squared:  0.1045 \n",
       "F-statistic: 213.4 on 1 and 1818 DF,  p-value: < 2.2e-16\n"
      ]
     },
     "metadata": {},
     "output_type": "display_data"
    },
    {
     "name": "stdout",
     "output_type": "stream",
     "text": [
      "[1] \"============================\"\n"
     ]
    },
    {
     "data": {
      "text/plain": [
       "\n",
       "Call:\n",
       "lm(formula = framingham_data_female$pulseP ~ framingham_data_female$age)\n",
       "\n",
       "Residuals:\n",
       "    Min      1Q  Median      3Q     Max \n",
       "-37.461  -9.054  -1.345   6.397  96.539 \n",
       "\n",
       "Coefficients:\n",
       "                           Estimate Std. Error t value Pr(>|t|)    \n",
       "(Intercept)                 6.15930    1.64815   3.737  0.00019 ***\n",
       "framingham_data_female$age  0.89534    0.03262  27.451  < 2e-16 ***\n",
       "---\n",
       "Signif. codes:  0 '***' 0.001 '**' 0.01 '*' 0.05 '.' 0.1 ' ' 1\n",
       "\n",
       "Residual standard error: 13.79 on 2418 degrees of freedom\n",
       "Multiple R-squared:  0.2376,\tAdjusted R-squared:  0.2373 \n",
       "F-statistic: 753.6 on 1 and 2418 DF,  p-value: < 2.2e-16\n"
      ]
     },
     "metadata": {},
     "output_type": "display_data"
    }
   ],
   "source": [
    "# find the model for males\n",
    "age_pp_male <- lm(framingham_data_male$pulseP ~ framingham_data_male$age)\n",
    "summary(age_pp_male)\n",
    "\n",
    "print(\"============================\")\n",
    "\n",
    "# find the model for females\n",
    "age_pp_female <- lm(framingham_data_female$pulseP ~ framingham_data_female$age)\n",
    "summary(age_pp_female)"
   ]
  },
  {
   "cell_type": "markdown",
   "metadata": {},
   "source": [
    "The $R^2$ values are 0.10 and 0.22 which suggests age alone is not a good predictor of pulse pressure in neither males nor females. Look out for the caveats here: first, we are trying to fit a **linear** model; the actual relationship could be a nonlinear one; and second, there might be different types of relationships in separated age brackets (such as before 50, after 50, etc.) that is hard to model with one linear model. "
   ]
  },
  {
   "cell_type": "code",
   "execution_count": 20,
   "metadata": {},
   "outputs": [
    {
     "data": {
      "text/plain": [
       "\n",
       "Call:\n",
       "lm(formula = framingham_data_male$pulseP ~ framingham_data_male$BMI)\n",
       "\n",
       "Residuals:\n",
       "    Min      1Q  Median      3Q     Max \n",
       "-32.937  -8.601  -1.942   6.020  72.365 \n",
       "\n",
       "Coefficients:\n",
       "                         Estimate Std. Error t value Pr(>|t|)    \n",
       "(Intercept)               41.8126     2.3053  18.137  < 2e-16 ***\n",
       "framingham_data_male$BMI   0.2252     0.0873   2.579  0.00998 ** \n",
       "---\n",
       "Signif. codes:  0 '***' 0.001 '**' 0.01 '*' 0.05 '.' 0.1 ' ' 1\n",
       "\n",
       "Residual standard error: 12.7 on 1813 degrees of freedom\n",
       "  (5 observations deleted due to missingness)\n",
       "Multiple R-squared:  0.003656,\tAdjusted R-squared:  0.003106 \n",
       "F-statistic: 6.652 on 1 and 1813 DF,  p-value: 0.009982\n"
      ]
     },
     "metadata": {},
     "output_type": "display_data"
    },
    {
     "name": "stdout",
     "output_type": "stream",
     "text": [
      "[1] \"===========================================\"\n"
     ]
    },
    {
     "data": {
      "text/plain": [
       "\n",
       "Call:\n",
       "lm(formula = framingham_data_female$pulseP ~ framingham_data_female$BMI)\n",
       "\n",
       "Residuals:\n",
       "    Min      1Q  Median      3Q     Max \n",
       "-34.166  -9.935  -2.819   6.710  97.326 \n",
       "\n",
       "Coefficients:\n",
       "                           Estimate Std. Error t value Pr(>|t|)    \n",
       "(Intercept)                27.82474    1.79318   15.52   <2e-16 ***\n",
       "framingham_data_female$BMI  0.89772    0.06923   12.97   <2e-16 ***\n",
       "---\n",
       "Signif. codes:  0 '***' 0.001 '**' 0.01 '*' 0.05 '.' 0.1 ' ' 1\n",
       "\n",
       "Residual standard error: 15.26 on 2404 degrees of freedom\n",
       "  (14 observations deleted due to missingness)\n",
       "Multiple R-squared:  0.06538,\tAdjusted R-squared:  0.06499 \n",
       "F-statistic: 168.2 on 1 and 2404 DF,  p-value: < 2.2e-16\n"
      ]
     },
     "metadata": {},
     "output_type": "display_data"
    }
   ],
   "source": [
    "# find the model for males\n",
    "bmi_pp_male <- lm(framingham_data_male$pulseP ~ framingham_data_male$BMI)\n",
    "summary(bmi_pp_male)\n",
    "\n",
    "print(\"===========================================\")\n",
    "\n",
    "# find the model for females\n",
    "bmi_pp_female <- lm(framingham_data_female$pulseP ~ framingham_data_female$BMI)\n",
    "summary(bmi_pp_female)"
   ]
  },
  {
   "cell_type": "markdown",
   "metadata": {},
   "source": [
    "Again, $R^2$ values are too low to suggest a good model based on BMI. Let's create two subsets from male data; first one is for those younger than 50, second one is for those older than 50. We want to see if the relation between heart rate and pulse pressure is different for older males vs. younger males."
   ]
  },
  {
   "cell_type": "code",
   "execution_count": 21,
   "metadata": {},
   "outputs": [
    {
     "data": {
      "text/plain": [
       "\n",
       "Call:\n",
       "lm(formula = framingham_data_male_younger$heartRate ~ framingham_data_male_younger$pulseP)\n",
       "\n",
       "Residuals:\n",
       "    Min      1Q  Median      3Q     Max \n",
       "-29.541  -7.754  -0.735   6.866  43.120 \n",
       "\n",
       "Coefficients:\n",
       "                                    Estimate Std. Error t value Pr(>|t|)    \n",
       "(Intercept)                         65.81409    1.63908  40.153  < 2e-16 ***\n",
       "framingham_data_male_younger$pulseP  0.19834    0.03589   5.527 4.19e-08 ***\n",
       "---\n",
       "Signif. codes:  0 '***' 0.001 '**' 0.01 '*' 0.05 '.' 0.1 ' ' 1\n",
       "\n",
       "Residual standard error: 11.47 on 972 degrees of freedom\n",
       "Multiple R-squared:  0.03047,\tAdjusted R-squared:  0.02947 \n",
       "F-statistic: 30.54 on 1 and 972 DF,  p-value: 4.195e-08\n"
      ]
     },
     "metadata": {},
     "output_type": "display_data"
    },
    {
     "name": "stdout",
     "output_type": "stream",
     "text": [
      "[1] \"===========================\"\n"
     ]
    },
    {
     "data": {
      "text/plain": [
       "\n",
       "Call:\n",
       "lm(formula = framingham_data_male_older$heartRate ~ framingham_data_male_older$pulseP)\n",
       "\n",
       "Residuals:\n",
       "    Min      1Q  Median      3Q     Max \n",
       "-28.013  -8.492  -1.114   6.976  45.911 \n",
       "\n",
       "Coefficients:\n",
       "                                  Estimate Std. Error t value Pr(>|t|)    \n",
       "(Intercept)                       68.34091    1.49603   45.68  < 2e-16 ***\n",
       "framingham_data_male_older$pulseP  0.10644    0.02801    3.80 0.000155 ***\n",
       "---\n",
       "Signif. codes:  0 '***' 0.001 '**' 0.01 '*' 0.05 '.' 0.1 ' ' 1\n",
       "\n",
       "Residual standard error: 11.75 on 843 degrees of freedom\n",
       "  (1 observation deleted due to missingness)\n",
       "Multiple R-squared:  0.01684,\tAdjusted R-squared:  0.01567 \n",
       "F-statistic: 14.44 on 1 and 843 DF,  p-value: 0.0001551\n"
      ]
     },
     "metadata": {},
     "output_type": "display_data"
    }
   ],
   "source": [
    "framingham_data_male_younger <- subset(framingham_data_male, (framingham_data_male$age < 50))\n",
    "framingham_data_male_older   <- subset(framingham_data_male, (framingham_data_male$age >= 50))\n",
    "\n",
    "# fit a linear model to both data sets; \n",
    "# use pulse pressure as independent variable \n",
    "# and find the model for heart rate.\n",
    "hr_pp_male_young <- lm(framingham_data_male_younger$heartRate ~ framingham_data_male_younger$pulseP)\n",
    "summary(hr_pp_male_young)\n",
    "\n",
    "print(\"===========================\")\n",
    "\n",
    "hr_pp_male_older <- lm(framingham_data_male_older$heartRate ~ framingham_data_male_older$pulseP)\n",
    "summary(hr_pp_male_older)"
   ]
  },
  {
   "cell_type": "markdown",
   "metadata": {},
   "source": [
    "Again, we do not see a meaningful linear model for heart rate given pulse pressure for young and old people. Let's look at the relationship between systolic and diastolic blood pressures. \n",
    "\n",
    "The dynamic relationship between diastolic and systolic blood pressure expressed by the **ambulatory arterial stiffness index (AASI)** has been introduced as a measure of arterial function.\n",
    "[AASI = 1 - (regression slope of diastolic-versus-systolic)] \n",
    "The available evidence suggests that AASI can predict future cardiovascular events, particularly stroke, and is associated with indices of arterial function. ([Reference](https://www.ncbi.nlm.nih.gov/pubmed/22632918))\n",
    "\n",
    "we want to compute the AASI for males older than 50 vs. females older than 50. For this, we first create the female subset, then compute the slopes of diastolic vs. systolic linear regression model for both sets, and finally compute the AASI for both sets."
   ]
  },
  {
   "cell_type": "code",
   "execution_count": 22,
   "metadata": {
    "collapsed": true
   },
   "outputs": [],
   "source": [
    "framingham_data_female_older <- subset(framingham_data_female, age >= 50)\n",
    "# Now compute the linear models for framingham_data_female_older and framingham_data_male_older; \n",
    "# Use systolic pressure as independent variable"
   ]
  },
  {
   "cell_type": "code",
   "execution_count": 23,
   "metadata": {},
   "outputs": [
    {
     "data": {
      "text/html": [
       "<table>\n",
       "<thead><tr><th></th><th scope=col>age</th><th scope=col>sysBP</th><th scope=col>diaBP</th><th scope=col>BMI</th><th scope=col>heartRate</th><th scope=col>pulseP</th></tr></thead>\n",
       "<tbody>\n",
       "\t<tr><th scope=row>4</th><td>61   </td><td>150  </td><td>95.0 </td><td>28.58</td><td>65   </td><td>55.0 </td></tr>\n",
       "\t<tr><th scope=row>7</th><td>63   </td><td>138  </td><td>71.0 </td><td>33.11</td><td>60   </td><td>67.0 </td></tr>\n",
       "\t<tr><th scope=row>11</th><td>50   </td><td>133  </td><td>76.0 </td><td>22.91</td><td>75   </td><td>57.0 </td></tr>\n",
       "\t<tr><th scope=row>23</th><td>52   </td><td>148  </td><td>78.0 </td><td>34.17</td><td>70   </td><td>70.0 </td></tr>\n",
       "\t<tr><th scope=row>24</th><td>52   </td><td>132  </td><td>82.0 </td><td>25.11</td><td>71   </td><td>50.0 </td></tr>\n",
       "\t<tr><th scope=row>27</th><td>60   </td><td>110  </td><td>72.5 </td><td>26.59</td><td>65   </td><td>37.5 </td></tr>\n",
       "</tbody>\n",
       "</table>\n"
      ],
      "text/latex": [
       "\\begin{tabular}{r|llllll}\n",
       "  & age & sysBP & diaBP & BMI & heartRate & pulseP\\\\\n",
       "\\hline\n",
       "\t4 & 61    & 150   & 95.0  & 28.58 & 65    & 55.0 \\\\\n",
       "\t7 & 63    & 138   & 71.0  & 33.11 & 60    & 67.0 \\\\\n",
       "\t11 & 50    & 133   & 76.0  & 22.91 & 75    & 57.0 \\\\\n",
       "\t23 & 52    & 148   & 78.0  & 34.17 & 70    & 70.0 \\\\\n",
       "\t24 & 52    & 132   & 82.0  & 25.11 & 71    & 50.0 \\\\\n",
       "\t27 & 60    & 110   & 72.5  & 26.59 & 65    & 37.5 \\\\\n",
       "\\end{tabular}\n"
      ],
      "text/markdown": [
       "\n",
       "| <!--/--> | age | sysBP | diaBP | BMI | heartRate | pulseP | \n",
       "|---|---|---|---|---|---|\n",
       "| 4 | 61    | 150   | 95.0  | 28.58 | 65    | 55.0  | \n",
       "| 7 | 63    | 138   | 71.0  | 33.11 | 60    | 67.0  | \n",
       "| 11 | 50    | 133   | 76.0  | 22.91 | 75    | 57.0  | \n",
       "| 23 | 52    | 148   | 78.0  | 34.17 | 70    | 70.0  | \n",
       "| 24 | 52    | 132   | 82.0  | 25.11 | 71    | 50.0  | \n",
       "| 27 | 60    | 110   | 72.5  | 26.59 | 65    | 37.5  | \n",
       "\n",
       "\n"
      ],
      "text/plain": [
       "   age sysBP diaBP BMI   heartRate pulseP\n",
       "4  61  150   95.0  28.58 65        55.0  \n",
       "7  63  138   71.0  33.11 60        67.0  \n",
       "11 50  133   76.0  22.91 75        57.0  \n",
       "23 52  148   78.0  34.17 70        70.0  \n",
       "24 52  132   82.0  25.11 71        50.0  \n",
       "27 60  110   72.5  26.59 65        37.5  "
      ]
     },
     "metadata": {},
     "output_type": "display_data"
    }
   ],
   "source": [
    "head(framingham_data_female_older)"
   ]
  },
  {
   "cell_type": "code",
   "execution_count": 24,
   "metadata": {},
   "outputs": [
    {
     "data": {
      "text/plain": [
       "\n",
       "Call:\n",
       "lm(formula = framingham_data_male_older$sysBP ~ framingham_data_male_older$diaBP)\n",
       "\n",
       "Residuals:\n",
       "    Min      1Q  Median      3Q     Max \n",
       "-37.600  -9.127  -2.200   7.535  77.337 \n",
       "\n",
       "Coefficients:\n",
       "                                 Estimate Std. Error t value Pr(>|t|)    \n",
       "(Intercept)                      18.08114    3.22925   5.599 2.91e-08 ***\n",
       "framingham_data_male_older$diaBP  1.39582    0.03787  36.859  < 2e-16 ***\n",
       "---\n",
       "Signif. codes:  0 '***' 0.001 '**' 0.01 '*' 0.05 '.' 0.1 ' ' 1\n",
       "\n",
       "Residual standard error: 13.67 on 844 degrees of freedom\n",
       "Multiple R-squared:  0.6168,\tAdjusted R-squared:  0.6164 \n",
       "F-statistic:  1359 on 1 and 844 DF,  p-value: < 2.2e-16\n"
      ]
     },
     "metadata": {},
     "output_type": "display_data"
    },
    {
     "name": "stdout",
     "output_type": "stream",
     "text": [
      "[1] \"=======================================\"\n"
     ]
    },
    {
     "data": {
      "text/plain": [
       "\n",
       "Call:\n",
       "lm(formula = framingham_data_female_older$sysBP ~ framingham_data_female_older$diaBP)\n",
       "\n",
       "Residuals:\n",
       "    Min      1Q  Median      3Q     Max \n",
       "-35.411 -10.461  -2.675   7.973  84.654 \n",
       "\n",
       "Coefficients:\n",
       "                                   Estimate Std. Error t value Pr(>|t|)    \n",
       "(Intercept)                        12.11535    3.24775    3.73    2e-04 ***\n",
       "framingham_data_female_older$diaBP  1.52746    0.03744   40.80   <2e-16 ***\n",
       "---\n",
       "Signif. codes:  0 '***' 0.001 '**' 0.01 '*' 0.05 '.' 0.1 ' ' 1\n",
       "\n",
       "Residual standard error: 16.02 on 1175 degrees of freedom\n",
       "Multiple R-squared:  0.5862,\tAdjusted R-squared:  0.5859 \n",
       "F-statistic:  1665 on 1 and 1175 DF,  p-value: < 2.2e-16\n"
      ]
     },
     "metadata": {},
     "output_type": "display_data"
    }
   ],
   "source": [
    "# find the model for older males\n",
    "slope_male_older <- lm(framingham_data_male_older$sysBP ~ framingham_data_male_older$diaBP)\n",
    "summary(slope_male_older)\n",
    "\n",
    "print(\"=======================================\")\n",
    "\n",
    "# find the model for older females\n",
    "slope_female_older <- lm(framingham_data_female_older$sysBP ~ framingham_data_female_older$diaBP)\n",
    "summary(slope_female_older)\n"
   ]
  },
  {
   "cell_type": "markdown",
   "metadata": {},
   "source": [
    "The $R^2$ values suggest that there is a somewhat linear relationship between systolic and diastolic blood pressures for both genders. Let's look at the coefficients of the models."
   ]
  },
  {
   "cell_type": "code",
   "execution_count": 25,
   "metadata": {},
   "outputs": [
    {
     "data": {
      "text/html": [
       "<table>\n",
       "<thead><tr><th></th><th scope=col>Estimate</th><th scope=col>Std. Error</th><th scope=col>t value</th><th scope=col>Pr(&gt;|t|)</th></tr></thead>\n",
       "<tbody>\n",
       "\t<tr><th scope=row>(Intercept)</th><td>18.08114     </td><td>3.22924802   </td><td> 5.599181    </td><td> 2.913324e-08</td></tr>\n",
       "\t<tr><th scope=row>framingham_data_male_older$diaBP</th><td> 1.39582     </td><td>0.03786928   </td><td>36.858899    </td><td>5.529823e-178</td></tr>\n",
       "</tbody>\n",
       "</table>\n"
      ],
      "text/latex": [
       "\\begin{tabular}{r|llll}\n",
       "  & Estimate & Std. Error & t value & Pr(>\\textbar{}t\\textbar{})\\\\\n",
       "\\hline\n",
       "\t(Intercept) & 18.08114      & 3.22924802    &  5.599181     &  2.913324e-08\\\\\n",
       "\tframingham\\_data\\_male\\_older\\$diaBP &  1.39582      & 0.03786928    & 36.858899     & 5.529823e-178\\\\\n",
       "\\end{tabular}\n"
      ],
      "text/markdown": [
       "\n",
       "| <!--/--> | Estimate | Std. Error | t value | Pr(>|t|) | \n",
       "|---|---|\n",
       "| (Intercept) | 18.08114      | 3.22924802    |  5.599181     |  2.913324e-08 | \n",
       "| framingham_data_male_older$diaBP |  1.39582      | 0.03786928    | 36.858899     | 5.529823e-178 | \n",
       "\n",
       "\n"
      ],
      "text/plain": [
       "                                 Estimate Std. Error t value   Pr(>|t|)     \n",
       "(Intercept)                      18.08114 3.22924802  5.599181  2.913324e-08\n",
       "framingham_data_male_older$diaBP  1.39582 0.03786928 36.858899 5.529823e-178"
      ]
     },
     "metadata": {},
     "output_type": "display_data"
    },
    {
     "name": "stdout",
     "output_type": "stream",
     "text": [
      "[1] 1.39582\n"
     ]
    },
    {
     "data": {
      "text/html": [
       "<table>\n",
       "<thead><tr><th></th><th scope=col>Estimate</th><th scope=col>Std. Error</th><th scope=col>t value</th><th scope=col>Pr(&gt;|t|)</th></tr></thead>\n",
       "<tbody>\n",
       "\t<tr><th scope=row>(Intercept)</th><td>12.115350    </td><td>3.24774688   </td><td> 3.730386    </td><td> 2.003133e-04</td></tr>\n",
       "\t<tr><th scope=row>framingham_data_female_older$diaBP</th><td> 1.527464    </td><td>0.03743579   </td><td>40.802232    </td><td>2.095235e-227</td></tr>\n",
       "</tbody>\n",
       "</table>\n"
      ],
      "text/latex": [
       "\\begin{tabular}{r|llll}\n",
       "  & Estimate & Std. Error & t value & Pr(>\\textbar{}t\\textbar{})\\\\\n",
       "\\hline\n",
       "\t(Intercept) & 12.115350     & 3.24774688    &  3.730386     &  2.003133e-04\\\\\n",
       "\tframingham\\_data\\_female\\_older\\$diaBP &  1.527464     & 0.03743579    & 40.802232     & 2.095235e-227\\\\\n",
       "\\end{tabular}\n"
      ],
      "text/markdown": [
       "\n",
       "| <!--/--> | Estimate | Std. Error | t value | Pr(>|t|) | \n",
       "|---|---|\n",
       "| (Intercept) | 12.115350     | 3.24774688    |  3.730386     |  2.003133e-04 | \n",
       "| framingham_data_female_older$diaBP |  1.527464     | 0.03743579    | 40.802232     | 2.095235e-227 | \n",
       "\n",
       "\n"
      ],
      "text/plain": [
       "                                   Estimate  Std. Error t value   Pr(>|t|)     \n",
       "(Intercept)                        12.115350 3.24774688  3.730386  2.003133e-04\n",
       "framingham_data_female_older$diaBP  1.527464 0.03743579 40.802232 2.095235e-227"
      ]
     },
     "metadata": {},
     "output_type": "display_data"
    },
    {
     "name": "stdout",
     "output_type": "stream",
     "text": [
      "[1] 1.527464\n"
     ]
    }
   ],
   "source": [
    "# First column gives the intercept and the slope of the model.\n",
    "\n",
    "coef(summary(slope_male_older))\n",
    "slope_mo <- coef(summary(slope_male_older))[2,1]\n",
    "print(slope_mo)\n",
    "\n",
    "coef(summary(slope_female_older))\n",
    "slope_fo <- coef(summary(slope_female_older))[2,1]\n",
    "print(slope_fo)\n"
   ]
  },
  {
   "cell_type": "code",
   "execution_count": 26,
   "metadata": {
    "collapsed": true
   },
   "outputs": [],
   "source": [
    "AASI_male_older = 1 - slope_mo\n",
    "AASI_female_older = 1 - slope_fo"
   ]
  },
  {
   "cell_type": "code",
   "execution_count": 27,
   "metadata": {},
   "outputs": [
    {
     "name": "stdout",
     "output_type": "stream",
     "text": [
      "[1] -0.3958199\n",
      "[1] -0.527464\n"
     ]
    }
   ],
   "source": [
    "print(AASI_male_older)\n",
    "print(AASI_female_older)"
   ]
  },
  {
   "cell_type": "markdown",
   "metadata": {},
   "source": [
    "The AASI for older females is slightly higher than the AASI for older males in this data set. Keep in mind that this is an approximation; the real AASI is measured for individuals by observing their blood pressure in a 24h interval. However, the almost linear relationship between systolic and diastolic blood pressure is indeed medically relevant; it is not just a fluke of this dataset. "
   ]
  },
  {
   "cell_type": "code",
   "execution_count": 28,
   "metadata": {},
   "outputs": [
    {
     "data": {
      "text/html": [
       "<table>\n",
       "<thead><tr><th></th><th scope=col>age</th><th scope=col>sysBP</th><th scope=col>diaBP</th><th scope=col>BMI</th><th scope=col>heartRate</th><th scope=col>pulseP</th></tr></thead>\n",
       "<tbody>\n",
       "\t<tr><th scope=row>9</th><td>52   </td><td>141.5</td><td> 89.0</td><td>26.36</td><td>76   </td><td>52.5 </td></tr>\n",
       "\t<tr><th scope=row>34</th><td>61   </td><td>134.0</td><td> 82.5</td><td>18.59</td><td>72   </td><td>51.5 </td></tr>\n",
       "\t<tr><th scope=row>35</th><td>54   </td><td>147.0</td><td> 74.0</td><td>24.71</td><td>96   </td><td>73.0 </td></tr>\n",
       "\t<tr><th scope=row>37</th><td>56   </td><td>153.5</td><td>102.0</td><td>28.09</td><td>72   </td><td>51.5 </td></tr>\n",
       "\t<tr><th scope=row>38</th><td>52   </td><td>160.0</td><td> 98.0</td><td>40.11</td><td>75   </td><td>62.0 </td></tr>\n",
       "\t<tr><th scope=row>44</th><td>54   </td><td>132.0</td><td> 83.5</td><td>26.21</td><td>75   </td><td>48.5 </td></tr>\n",
       "</tbody>\n",
       "</table>\n"
      ],
      "text/latex": [
       "\\begin{tabular}{r|llllll}\n",
       "  & age & sysBP & diaBP & BMI & heartRate & pulseP\\\\\n",
       "\\hline\n",
       "\t9 & 52    & 141.5 &  89.0 & 26.36 & 76    & 52.5 \\\\\n",
       "\t34 & 61    & 134.0 &  82.5 & 18.59 & 72    & 51.5 \\\\\n",
       "\t35 & 54    & 147.0 &  74.0 & 24.71 & 96    & 73.0 \\\\\n",
       "\t37 & 56    & 153.5 & 102.0 & 28.09 & 72    & 51.5 \\\\\n",
       "\t38 & 52    & 160.0 &  98.0 & 40.11 & 75    & 62.0 \\\\\n",
       "\t44 & 54    & 132.0 &  83.5 & 26.21 & 75    & 48.5 \\\\\n",
       "\\end{tabular}\n"
      ],
      "text/markdown": [
       "\n",
       "| <!--/--> | age | sysBP | diaBP | BMI | heartRate | pulseP | \n",
       "|---|---|---|---|---|---|\n",
       "| 9 | 52    | 141.5 |  89.0 | 26.36 | 76    | 52.5  | \n",
       "| 34 | 61    | 134.0 |  82.5 | 18.59 | 72    | 51.5  | \n",
       "| 35 | 54    | 147.0 |  74.0 | 24.71 | 96    | 73.0  | \n",
       "| 37 | 56    | 153.5 | 102.0 | 28.09 | 72    | 51.5  | \n",
       "| 38 | 52    | 160.0 |  98.0 | 40.11 | 75    | 62.0  | \n",
       "| 44 | 54    | 132.0 |  83.5 | 26.21 | 75    | 48.5  | \n",
       "\n",
       "\n"
      ],
      "text/plain": [
       "   age sysBP diaBP BMI   heartRate pulseP\n",
       "9  52  141.5  89.0 26.36 76        52.5  \n",
       "34 61  134.0  82.5 18.59 72        51.5  \n",
       "35 54  147.0  74.0 24.71 96        73.0  \n",
       "37 56  153.5 102.0 28.09 72        51.5  \n",
       "38 52  160.0  98.0 40.11 75        62.0  \n",
       "44 54  132.0  83.5 26.21 75        48.5  "
      ]
     },
     "metadata": {},
     "output_type": "display_data"
    }
   ],
   "source": [
    "head(framingham_data_male_older)"
   ]
  },
  {
   "cell_type": "code",
   "execution_count": 29,
   "metadata": {},
   "outputs": [
    {
     "data": {
      "text/html": [
       "<table>\n",
       "<thead><tr><th></th><th scope=col>age</th><th scope=col>sysBP</th><th scope=col>diaBP</th><th scope=col>BMI</th><th scope=col>heartRate</th><th scope=col>pulseP</th></tr></thead>\n",
       "<tbody>\n",
       "\t<tr><th scope=row>4</th><td>61   </td><td>150  </td><td>95.0 </td><td>28.58</td><td>65   </td><td>55.0 </td></tr>\n",
       "\t<tr><th scope=row>7</th><td>63   </td><td>138  </td><td>71.0 </td><td>33.11</td><td>60   </td><td>67.0 </td></tr>\n",
       "\t<tr><th scope=row>11</th><td>50   </td><td>133  </td><td>76.0 </td><td>22.91</td><td>75   </td><td>57.0 </td></tr>\n",
       "\t<tr><th scope=row>23</th><td>52   </td><td>148  </td><td>78.0 </td><td>34.17</td><td>70   </td><td>70.0 </td></tr>\n",
       "\t<tr><th scope=row>24</th><td>52   </td><td>132  </td><td>82.0 </td><td>25.11</td><td>71   </td><td>50.0 </td></tr>\n",
       "\t<tr><th scope=row>27</th><td>60   </td><td>110  </td><td>72.5 </td><td>26.59</td><td>65   </td><td>37.5 </td></tr>\n",
       "</tbody>\n",
       "</table>\n"
      ],
      "text/latex": [
       "\\begin{tabular}{r|llllll}\n",
       "  & age & sysBP & diaBP & BMI & heartRate & pulseP\\\\\n",
       "\\hline\n",
       "\t4 & 61    & 150   & 95.0  & 28.58 & 65    & 55.0 \\\\\n",
       "\t7 & 63    & 138   & 71.0  & 33.11 & 60    & 67.0 \\\\\n",
       "\t11 & 50    & 133   & 76.0  & 22.91 & 75    & 57.0 \\\\\n",
       "\t23 & 52    & 148   & 78.0  & 34.17 & 70    & 70.0 \\\\\n",
       "\t24 & 52    & 132   & 82.0  & 25.11 & 71    & 50.0 \\\\\n",
       "\t27 & 60    & 110   & 72.5  & 26.59 & 65    & 37.5 \\\\\n",
       "\\end{tabular}\n"
      ],
      "text/markdown": [
       "\n",
       "| <!--/--> | age | sysBP | diaBP | BMI | heartRate | pulseP | \n",
       "|---|---|---|---|---|---|\n",
       "| 4 | 61    | 150   | 95.0  | 28.58 | 65    | 55.0  | \n",
       "| 7 | 63    | 138   | 71.0  | 33.11 | 60    | 67.0  | \n",
       "| 11 | 50    | 133   | 76.0  | 22.91 | 75    | 57.0  | \n",
       "| 23 | 52    | 148   | 78.0  | 34.17 | 70    | 70.0  | \n",
       "| 24 | 52    | 132   | 82.0  | 25.11 | 71    | 50.0  | \n",
       "| 27 | 60    | 110   | 72.5  | 26.59 | 65    | 37.5  | \n",
       "\n",
       "\n"
      ],
      "text/plain": [
       "   age sysBP diaBP BMI   heartRate pulseP\n",
       "4  61  150   95.0  28.58 65        55.0  \n",
       "7  63  138   71.0  33.11 60        67.0  \n",
       "11 50  133   76.0  22.91 75        57.0  \n",
       "23 52  148   78.0  34.17 70        70.0  \n",
       "24 52  132   82.0  25.11 71        50.0  \n",
       "27 60  110   72.5  26.59 65        37.5  "
      ]
     },
     "metadata": {},
     "output_type": "display_data"
    }
   ],
   "source": [
    "head(framingham_data_female_older)"
   ]
  },
  {
   "cell_type": "code",
   "execution_count": 30,
   "metadata": {},
   "outputs": [
    {
     "data": {},
     "metadata": {},
     "output_type": "display_data"
    },
    {
     "data": {
      "image/png": "[encoded data removed]",
      "text/plain": [
       "plot without title"
      ]
     },
     "metadata": {},
     "output_type": "display_data"
    }
   ],
   "source": [
    "# Let's plot the model for males\n",
    "library(ggplot2)\n",
    "p = ggplot(framingham_data_male_older, aes(x = sysBP, y = diaBP)) +\n",
    "    geom_point() +  \n",
    "    geom_smooth(method=lm,level = 0.95)   \n",
    "# Add linear regression line, by default includes 95% confidence region\n",
    "p + xlab('systolic BP') + ylab('diastolic BP')"
   ]
  },
  {
   "cell_type": "code",
   "execution_count": 31,
   "metadata": {},
   "outputs": [
    {
     "data": {},
     "metadata": {},
     "output_type": "display_data"
    },
    {
     "data": {
      "image/png": "[encoded data removed]",
      "text/plain": [
       "plot without title"
      ]
     },
     "metadata": {},
     "output_type": "display_data"
    }
   ],
   "source": [
    "# and for females\n",
    "p = ggplot(framingham_data_female_older, aes(x = sysBP, y = diaBP)) +\n",
    "    geom_point() +  \n",
    "    geom_smooth(method=lm,level = 0.95)   # Add linear regression line, by default includes 95% confidence region\n",
    "p+xlab('systolic BP')+ylab('diastolic BP')"
   ]
  }
 ],
 "metadata": {
  "kernelspec": {
   "display_name": "R",
   "language": "R",
   "name": "ir"
  },
  "language_info": {
   "codemirror_mode": "r",
   "file_extension": ".r",
   "mimetype": "text/x-r-source",
   "name": "R",
   "pygments_lexer": "r",
   "version": "3.4.1"
  }
 },
 "nbformat": 4,
 "nbformat_minor": 2
}
