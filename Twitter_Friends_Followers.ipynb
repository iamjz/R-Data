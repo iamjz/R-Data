{
 "cells": [
  {
   "cell_type": "code",
   "execution_count": 21,
   "metadata": {
    "collapsed": true
   },
   "outputs": [],
   "source": [
    "library(rtweet)\n",
    "library(igraph)"
   ]
  },
  {
   "cell_type": "code",
   "execution_count": 2,
   "metadata": {},
   "outputs": [
    {
     "data": {
      "text/html": [
       "<table>\n",
       "<thead><tr><th scope=col>user</th><th scope=col>user_id</th></tr></thead>\n",
       "<tbody>\n",
       "\t<tr><td>jack      </td><td>564048720 </td></tr>\n",
       "\t<tr><td>jack      </td><td>22178780  </td></tr>\n",
       "\t<tr><td>jack      </td><td>36381677  </td></tr>\n",
       "\t<tr><td>jack      </td><td>301708139 </td></tr>\n",
       "\t<tr><td>jack      </td><td>3254857712</td></tr>\n",
       "\t<tr><td>jack      </td><td>3367231463</td></tr>\n",
       "</tbody>\n",
       "</table>\n"
      ],
      "text/latex": [
       "\\begin{tabular}{r|ll}\n",
       " user & user\\_id\\\\\n",
       "\\hline\n",
       "\t jack       & 564048720 \\\\\n",
       "\t jack       & 22178780  \\\\\n",
       "\t jack       & 36381677  \\\\\n",
       "\t jack       & 301708139 \\\\\n",
       "\t jack       & 3254857712\\\\\n",
       "\t jack       & 3367231463\\\\\n",
       "\\end{tabular}\n"
      ],
      "text/markdown": [
       "\n",
       "user | user_id | \n",
       "|---|---|---|---|---|---|\n",
       "| jack       | 564048720  | \n",
       "| jack       | 22178780   | \n",
       "| jack       | 36381677   | \n",
       "| jack       | 301708139  | \n",
       "| jack       | 3254857712 | \n",
       "| jack       | 3367231463 | \n",
       "\n",
       "\n"
      ],
      "text/plain": [
       "  user user_id   \n",
       "1 jack 564048720 \n",
       "2 jack 22178780  \n",
       "3 jack 36381677  \n",
       "4 jack 301708139 \n",
       "5 jack 3254857712\n",
       "6 jack 3367231463"
      ]
     },
     "metadata": {},
     "output_type": "display_data"
    }
   ],
   "source": [
    "## get status IDs of jack's friend's\n",
    "fds <- get_friends(\"jack\")\n",
    "head(fds)"
   ]
  },
  {
   "cell_type": "code",
   "execution_count": 3,
   "metadata": {},
   "outputs": [
    {
     "data": {
      "text/html": [
       "<table>\n",
       "<thead><tr><th scope=col>user</th><th scope=col>user_id</th></tr></thead>\n",
       "<tbody>\n",
       "\t<tr><td>jack      </td><td>564048720 </td></tr>\n",
       "\t<tr><td>jack      </td><td>22178780  </td></tr>\n",
       "\t<tr><td>jack      </td><td>36381677  </td></tr>\n",
       "\t<tr><td>jack      </td><td>301708139 </td></tr>\n",
       "\t<tr><td>jack      </td><td>3254857712</td></tr>\n",
       "\t<tr><td>jack      </td><td>3367231463</td></tr>\n",
       "\t<tr><td>jack      </td><td>15871688  </td></tr>\n",
       "\t<tr><td>jack      </td><td>174316017 </td></tr>\n",
       "\t<tr><td>jack      </td><td>152680420 </td></tr>\n",
       "\t<tr><td>jack      </td><td>2589586742</td></tr>\n",
       "</tbody>\n",
       "</table>\n"
      ],
      "text/latex": [
       "\\begin{tabular}{r|ll}\n",
       " user & user\\_id\\\\\n",
       "\\hline\n",
       "\t jack       & 564048720 \\\\\n",
       "\t jack       & 22178780  \\\\\n",
       "\t jack       & 36381677  \\\\\n",
       "\t jack       & 301708139 \\\\\n",
       "\t jack       & 3254857712\\\\\n",
       "\t jack       & 3367231463\\\\\n",
       "\t jack       & 15871688  \\\\\n",
       "\t jack       & 174316017 \\\\\n",
       "\t jack       & 152680420 \\\\\n",
       "\t jack       & 2589586742\\\\\n",
       "\\end{tabular}\n"
      ],
      "text/markdown": [
       "\n",
       "user | user_id | \n",
       "|---|---|---|---|---|---|---|---|---|---|\n",
       "| jack       | 564048720  | \n",
       "| jack       | 22178780   | \n",
       "| jack       | 36381677   | \n",
       "| jack       | 301708139  | \n",
       "| jack       | 3254857712 | \n",
       "| jack       | 3367231463 | \n",
       "| jack       | 15871688   | \n",
       "| jack       | 174316017  | \n",
       "| jack       | 152680420  | \n",
       "| jack       | 2589586742 | \n",
       "\n",
       "\n"
      ],
      "text/plain": [
       "   user user_id   \n",
       "1  jack 564048720 \n",
       "2  jack 22178780  \n",
       "3  jack 36381677  \n",
       "4  jack 301708139 \n",
       "5  jack 3254857712\n",
       "6  jack 3367231463\n",
       "7  jack 15871688  \n",
       "8  jack 174316017 \n",
       "9  jack 152680420 \n",
       "10 jack 2589586742"
      ]
     },
     "metadata": {},
     "output_type": "display_data"
    }
   ],
   "source": [
    "## user (user) and user_id (friends)\n",
    "head(fds, 10)"
   ]
  },
  {
   "cell_type": "code",
   "execution_count": 4,
   "metadata": {},
   "outputs": [
    {
     "data": {
      "text/html": [
       "<table>\n",
       "<thead><tr><th scope=col>user</th><th scope=col>user_id</th></tr></thead>\n",
       "<tbody>\n",
       "\t<tr><td>iamdatabear       </td><td>1285286270        </td></tr>\n",
       "\t<tr><td>iamdatabear       </td><td>916226251         </td></tr>\n",
       "\t<tr><td>iamdatabear       </td><td>318006974         </td></tr>\n",
       "\t<tr><td>iamdatabear       </td><td>797215408482881538</td></tr>\n",
       "\t<tr><td>iamdatabear       </td><td>955551487081504768</td></tr>\n",
       "\t<tr><td>iamdatabear       </td><td>14839109          </td></tr>\n",
       "</tbody>\n",
       "</table>\n"
      ],
      "text/latex": [
       "\\begin{tabular}{r|ll}\n",
       " user & user\\_id\\\\\n",
       "\\hline\n",
       "\t iamdatabear        & 1285286270        \\\\\n",
       "\t iamdatabear        & 916226251         \\\\\n",
       "\t iamdatabear        & 318006974         \\\\\n",
       "\t iamdatabear        & 797215408482881538\\\\\n",
       "\t iamdatabear        & 955551487081504768\\\\\n",
       "\t iamdatabear        & 14839109          \\\\\n",
       "\\end{tabular}\n"
      ],
      "text/markdown": [
       "\n",
       "user | user_id | \n",
       "|---|---|---|---|---|---|\n",
       "| iamdatabear        | 1285286270         | \n",
       "| iamdatabear        | 916226251          | \n",
       "| iamdatabear        | 318006974          | \n",
       "| iamdatabear        | 797215408482881538 | \n",
       "| iamdatabear        | 955551487081504768 | \n",
       "| iamdatabear        | 14839109           | \n",
       "\n",
       "\n"
      ],
      "text/plain": [
       "  user        user_id           \n",
       "1 iamdatabear 1285286270        \n",
       "2 iamdatabear 916226251         \n",
       "3 iamdatabear 318006974         \n",
       "4 iamdatabear 797215408482881538\n",
       "5 iamdatabear 955551487081504768\n",
       "6 iamdatabear 14839109          "
      ]
     },
     "metadata": {},
     "output_type": "display_data"
    }
   ],
   "source": [
    "jackyFriends <- get_friends(\"iamdatabear\")\n",
    "head(jackyFriends)"
   ]
  },
  {
   "cell_type": "code",
   "execution_count": 5,
   "metadata": {},
   "outputs": [
    {
     "name": "stderr",
     "output_type": "stream",
     "text": [
      "1 friend networks collected!\n",
      "2 friend networks collected!\n",
      "3 friend networks collected!\n",
      "4 friend networks collected!\n",
      "5 friend networks collected!\n",
      "6 friend networks collected!\n",
      "7 friend networks collected!\n"
     ]
    }
   ],
   "source": [
    "## get frieds of data scientists\n",
    "fds <- get_friends(c(\"hadleywickham\", \"hrbrmstr\", \"calbon\", \"dataandme\", \"rOpenSci\", \"jack\", \"NateSilver538\"))"
   ]
  },
  {
   "cell_type": "code",
   "execution_count": 6,
   "metadata": {},
   "outputs": [
    {
     "data": {
      "text/plain": [
       "\n",
       "   1000591   10012402  100224999 1002323377    1002351 \n",
       "         1          1          1          1          1 "
      ]
     },
     "metadata": {},
     "output_type": "display_data"
    }
   ],
   "source": [
    "## frequency count of accounts followed by the users queried above\n",
    "tbl <- table(fds$user_id)\n",
    "\n",
    "head(tbl, 5)"
   ]
  },
  {
   "cell_type": "code",
   "execution_count": 7,
   "metadata": {},
   "outputs": [
    {
     "data": {
      "text/html": [
       "<ol class=list-inline>\n",
       "\t<li>'103693215'</li>\n",
       "\t<li>'1237502864'</li>\n",
       "\t<li>'128275616'</li>\n",
       "\t<li>'13074042'</li>\n",
       "\t<li>'152862026'</li>\n",
       "\t<li>'16047639'</li>\n",
       "</ol>\n"
      ],
      "text/latex": [
       "\\begin{enumerate*}\n",
       "\\item '103693215'\n",
       "\\item '1237502864'\n",
       "\\item '128275616'\n",
       "\\item '13074042'\n",
       "\\item '152862026'\n",
       "\\item '16047639'\n",
       "\\end{enumerate*}\n"
      ],
      "text/markdown": [
       "1. '103693215'\n",
       "2. '1237502864'\n",
       "3. '128275616'\n",
       "4. '13074042'\n",
       "5. '152862026'\n",
       "6. '16047639'\n",
       "\n",
       "\n"
      ],
      "text/plain": [
       "[1] \"103693215\"  \"1237502864\" \"128275616\"  \"13074042\"   \"152862026\" \n",
       "[6] \"16047639\"  "
      ]
     },
     "metadata": {},
     "output_type": "display_data"
    }
   ],
   "source": [
    "## identify all accounts followed by at least 3 of the queried users\n",
    "fds_mult <- names(tbl[tbl > 3L])\n",
    "\n",
    "head(fds_mult)\n",
    "\n",
    "# JACKY: \n",
    "# this means that these accounts were followed by at least 3 of those data scientists! \n",
    "# they must be pretty important"
   ]
  },
  {
   "cell_type": "code",
   "execution_count": 8,
   "metadata": {},
   "outputs": [
    {
     "data": {
      "text/html": [
       "<table>\n",
       "<thead><tr><th scope=col>user_id</th><th scope=col>name</th><th scope=col>screen_name</th><th scope=col>location</th><th scope=col>description</th><th scope=col>url</th><th scope=col>protected</th><th scope=col>followers_count</th><th scope=col>friends_count</th><th scope=col>listed_count</th><th scope=col>statuses_count</th><th scope=col>favourites_count</th><th scope=col>account_created_at</th><th scope=col>verified</th><th scope=col>profile_url</th><th scope=col>profile_expanded_url</th><th scope=col>account_lang</th><th scope=col>profile_banner_url</th><th scope=col>profile_background_url</th><th scope=col>profile_image_url</th></tr></thead>\n",
       "<tbody>\n",
       "\t<tr><td>103693215                                                                                                              </td><td>Kevin Ushey                                                                                                            </td><td>kevin_ushey                                                                                                            </td><td>                                                                                                                       </td><td>                                                                                                                       </td><td>https://t.co/qpA6XrbghR                                                                                                </td><td>FALSE                                                                                                                  </td><td>1442                                                                                                                   </td><td>657                                                                                                                    </td><td>111                                                                                                                    </td><td> 2404                                                                                                                  </td><td>14096                                                                                                                  </td><td>2010-01-10 23:16:46                                                                                                    </td><td>FALSE                                                                                                                  </td><td>https://t.co/qpA6XrbghR                                                                                                </td><td>http://kevinushey.github.io                                                                                            </td><td>en                                                                                                                     </td><td>https://pbs.twimg.com/profile_banners/103693215/1403384070                                                             </td><td>http://pbs.twimg.com/profile_background_images/750106033/09a025a960bf85eb6ca67b442710ac79.jpeg                         </td><td>http://pbs.twimg.com/profile_images/854548721106788354/MiANiQjR_normal.jpg                                             </td></tr>\n",
       "\t<tr><td>1237502864                                                                                                             </td><td>Karl Broman                                                                                                            </td><td>kwbroman                                                                                                               </td><td>Madison, Wisconsin                                                                                                     </td><td>statistician; professor at UW-Madison; genetics and genomics, open science, programming, interactive data visualization</td><td>http://t.co/ohSgLOhLcc                                                                                                 </td><td>FALSE                                                                                                                  </td><td>8365                                                                                                                   </td><td>609                                                                                                                    </td><td>436                                                                                                                    </td><td>14546                                                                                                                  </td><td>22957                                                                                                                  </td><td>2013-03-03 02:59:38                                                                                                    </td><td>FALSE                                                                                                                  </td><td>http://t.co/ohSgLOhLcc                                                                                                 </td><td>http://kbroman.org                                                                                                     </td><td>en                                                                                                                     </td><td>https://pbs.twimg.com/profile_banners/1237502864/1430357642                                                            </td><td>http://abs.twimg.com/images/themes/theme1/bg.png                                                                       </td><td>http://pbs.twimg.com/profile_images/680796333460959232/CzoFZb76_normal.jpg                                             </td></tr>\n",
       "</tbody>\n",
       "</table>\n"
      ],
      "text/latex": [
       "\\begin{tabular}{r|llllllllllllllllllll}\n",
       " user\\_id & name & screen\\_name & location & description & url & protected & followers\\_count & friends\\_count & listed\\_count & statuses\\_count & favourites\\_count & account\\_created\\_at & verified & profile\\_url & profile\\_expanded\\_url & account\\_lang & profile\\_banner\\_url & profile\\_background\\_url & profile\\_image\\_url\\\\\n",
       "\\hline\n",
       "\t 103693215                                                                                                               & Kevin Ushey                                                                                                             & kevin\\_ushey                                                                                                           &                                                                                                                         &                                                                                                                         & https://t.co/qpA6XrbghR                                                                                                 & FALSE                                                                                                                   & 1442                                                                                                                    & 657                                                                                                                     & 111                                                                                                                     &  2404                                                                                                                   & 14096                                                                                                                   & 2010-01-10 23:16:46                                                                                                     & FALSE                                                                                                                   & https://t.co/qpA6XrbghR                                                                                                 & http://kevinushey.github.io                                                                                             & en                                                                                                                      & https://pbs.twimg.com/profile\\_banners/103693215/1403384070                                                            & http://pbs.twimg.com/profile\\_background\\_images/750106033/09a025a960bf85eb6ca67b442710ac79.jpeg                      & http://pbs.twimg.com/profile\\_images/854548721106788354/MiANiQjR\\_normal.jpg                                         \\\\\n",
       "\t 1237502864                                                                                                              & Karl Broman                                                                                                             & kwbroman                                                                                                                & Madison, Wisconsin                                                                                                      & statistician; professor at UW-Madison; genetics and genomics, open science, programming, interactive data visualization & http://t.co/ohSgLOhLcc                                                                                                  & FALSE                                                                                                                   & 8365                                                                                                                    & 609                                                                                                                     & 436                                                                                                                     & 14546                                                                                                                   & 22957                                                                                                                   & 2013-03-03 02:59:38                                                                                                     & FALSE                                                                                                                   & http://t.co/ohSgLOhLcc                                                                                                  & http://kbroman.org                                                                                                      & en                                                                                                                      & https://pbs.twimg.com/profile\\_banners/1237502864/1430357642                                                           & http://abs.twimg.com/images/themes/theme1/bg.png                                                                        & http://pbs.twimg.com/profile\\_images/680796333460959232/CzoFZb76\\_normal.jpg                                         \\\\\n",
       "\\end{tabular}\n"
      ],
      "text/markdown": [
       "\n",
       "user_id | name | screen_name | location | description | url | protected | followers_count | friends_count | listed_count | statuses_count | favourites_count | account_created_at | verified | profile_url | profile_expanded_url | account_lang | profile_banner_url | profile_background_url | profile_image_url | \n",
       "|---|---|\n",
       "| 103693215                                                                                                               | Kevin Ushey                                                                                                             | kevin_ushey                                                                                                             |                                                                                                                         |                                                                                                                         | https://t.co/qpA6XrbghR                                                                                                 | FALSE                                                                                                                   | 1442                                                                                                                    | 657                                                                                                                     | 111                                                                                                                     |  2404                                                                                                                   | 14096                                                                                                                   | 2010-01-10 23:16:46                                                                                                     | FALSE                                                                                                                   | https://t.co/qpA6XrbghR                                                                                                 | http://kevinushey.github.io                                                                                             | en                                                                                                                      | https://pbs.twimg.com/profile_banners/103693215/1403384070                                                              | http://pbs.twimg.com/profile_background_images/750106033/09a025a960bf85eb6ca67b442710ac79.jpeg                          | http://pbs.twimg.com/profile_images/854548721106788354/MiANiQjR_normal.jpg                                              | \n",
       "| 1237502864                                                                                                              | Karl Broman                                                                                                             | kwbroman                                                                                                                | Madison, Wisconsin                                                                                                      | statistician; professor at UW-Madison; genetics and genomics, open science, programming, interactive data visualization | http://t.co/ohSgLOhLcc                                                                                                  | FALSE                                                                                                                   | 8365                                                                                                                    | 609                                                                                                                     | 436                                                                                                                     | 14546                                                                                                                   | 22957                                                                                                                   | 2013-03-03 02:59:38                                                                                                     | FALSE                                                                                                                   | http://t.co/ohSgLOhLcc                                                                                                  | http://kbroman.org                                                                                                      | en                                                                                                                      | https://pbs.twimg.com/profile_banners/1237502864/1430357642                                                             | http://abs.twimg.com/images/themes/theme1/bg.png                                                                        | http://pbs.twimg.com/profile_images/680796333460959232/CzoFZb76_normal.jpg                                              | \n",
       "\n",
       "\n"
      ],
      "text/plain": [
       "  user_id    name        screen_name location          \n",
       "1 103693215  Kevin Ushey kevin_ushey                   \n",
       "2 1237502864 Karl Broman kwbroman    Madison, Wisconsin\n",
       "  description                                                                                                            \n",
       "1                                                                                                                        \n",
       "2 statistician; professor at UW-Madison; genetics and genomics, open science, programming, interactive data visualization\n",
       "  url                     protected followers_count friends_count listed_count\n",
       "1 https://t.co/qpA6XrbghR FALSE     1442            657           111         \n",
       "2 http://t.co/ohSgLOhLcc  FALSE     8365            609           436         \n",
       "  statuses_count favourites_count account_created_at  verified\n",
       "1  2404          14096            2010-01-10 23:16:46 FALSE   \n",
       "2 14546          22957            2013-03-03 02:59:38 FALSE   \n",
       "  profile_url             profile_expanded_url        account_lang\n",
       "1 https://t.co/qpA6XrbghR http://kevinushey.github.io en          \n",
       "2 http://t.co/ohSgLOhLcc  http://kbroman.org          en          \n",
       "  profile_banner_url                                         \n",
       "1 https://pbs.twimg.com/profile_banners/103693215/1403384070 \n",
       "2 https://pbs.twimg.com/profile_banners/1237502864/1430357642\n",
       "  profile_background_url                                                                        \n",
       "1 http://pbs.twimg.com/profile_background_images/750106033/09a025a960bf85eb6ca67b442710ac79.jpeg\n",
       "2 http://abs.twimg.com/images/themes/theme1/bg.png                                              \n",
       "  profile_image_url                                                         \n",
       "1 http://pbs.twimg.com/profile_images/854548721106788354/MiANiQjR_normal.jpg\n",
       "2 http://pbs.twimg.com/profile_images/680796333460959232/CzoFZb76_normal.jpg"
      ]
     },
     "metadata": {},
     "output_type": "display_data"
    }
   ],
   "source": [
    "## use the `lookup_users()` function to get more data on the users (e.g., screen names)\n",
    "fds_mult_df <- lookup_users(fds_mult)\n",
    "\n",
    "head(fds_mult_df, 2)"
   ]
  },
  {
   "cell_type": "code",
   "execution_count": 9,
   "metadata": {},
   "outputs": [
    {
     "data": {
      "text/html": [
       "<table>\n",
       "<thead><tr><th scope=col>user</th><th scope=col>user_id</th></tr></thead>\n",
       "<tbody>\n",
       "\t<tr><td>rOpenSci     </td><td>18463930     </td></tr>\n",
       "\t<tr><td>rOpenSci     </td><td>39010299     </td></tr>\n",
       "\t<tr><td>rOpenSci     </td><td>374659701    </td></tr>\n",
       "\t<tr><td>rOpenSci     </td><td>267256091    </td></tr>\n",
       "\t<tr><td>jack         </td><td>152862026    </td></tr>\n",
       "\t<tr><td>jack         </td><td>2384071      </td></tr>\n",
       "\t<tr><td>NateSilver538</td><td>782325       </td></tr>\n",
       "\t<tr><td>NateSilver538</td><td>152862026    </td></tr>\n",
       "\t<tr><td>NateSilver538</td><td>43593        </td></tr>\n",
       "\t<tr><td>NateSilver538</td><td>2384071      </td></tr>\n",
       "</tbody>\n",
       "</table>\n"
      ],
      "text/latex": [
       "\\begin{tabular}{r|ll}\n",
       " user & user\\_id\\\\\n",
       "\\hline\n",
       "\t rOpenSci      & 18463930     \\\\\n",
       "\t rOpenSci      & 39010299     \\\\\n",
       "\t rOpenSci      & 374659701    \\\\\n",
       "\t rOpenSci      & 267256091    \\\\\n",
       "\t jack          & 152862026    \\\\\n",
       "\t jack          & 2384071      \\\\\n",
       "\t NateSilver538 & 782325       \\\\\n",
       "\t NateSilver538 & 152862026    \\\\\n",
       "\t NateSilver538 & 43593        \\\\\n",
       "\t NateSilver538 & 2384071      \\\\\n",
       "\\end{tabular}\n"
      ],
      "text/markdown": [
       "\n",
       "user | user_id | \n",
       "|---|---|---|---|---|---|---|---|---|---|\n",
       "| rOpenSci      | 18463930      | \n",
       "| rOpenSci      | 39010299      | \n",
       "| rOpenSci      | 374659701     | \n",
       "| rOpenSci      | 267256091     | \n",
       "| jack          | 152862026     | \n",
       "| jack          | 2384071       | \n",
       "| NateSilver538 | 782325        | \n",
       "| NateSilver538 | 152862026     | \n",
       "| NateSilver538 | 43593         | \n",
       "| NateSilver538 | 2384071       | \n",
       "\n",
       "\n"
      ],
      "text/plain": [
       "   user          user_id  \n",
       "1  rOpenSci      18463930 \n",
       "2  rOpenSci      39010299 \n",
       "3  rOpenSci      374659701\n",
       "4  rOpenSci      267256091\n",
       "5  jack          152862026\n",
       "6  jack          2384071  \n",
       "7  NateSilver538 782325   \n",
       "8  NateSilver538 152862026\n",
       "9  NateSilver538 43593    \n",
       "10 NateSilver538 2384071  "
      ]
     },
     "metadata": {},
     "output_type": "display_data"
    }
   ],
   "source": [
    "## subset fds data to only those followed by 3 or more\n",
    "fds3 <- subset(fds, user_id %in% fds_mult)\n",
    "\n",
    "tail(fds3, 10)"
   ]
  },
  {
   "cell_type": "code",
   "execution_count": 24,
   "metadata": {},
   "outputs": [
    {
     "data": {
      "text/html": [
       "<table>\n",
       "<thead><tr><th></th><th scope=col>user</th><th scope=col>user_id</th></tr></thead>\n",
       "<tbody>\n",
       "\t<tr><th scope=row>[111,]</th><td>jack         </td><td>152862026    </td></tr>\n",
       "\t<tr><th scope=row>[112,]</th><td>jack         </td><td>2384071      </td></tr>\n",
       "\t<tr><th scope=row>[113,]</th><td>NateSilver538</td><td>782325       </td></tr>\n",
       "\t<tr><th scope=row>[114,]</th><td>NateSilver538</td><td>152862026    </td></tr>\n",
       "\t<tr><th scope=row>[115,]</th><td>NateSilver538</td><td>43593        </td></tr>\n",
       "\t<tr><th scope=row>[116,]</th><td>NateSilver538</td><td>2384071      </td></tr>\n",
       "</tbody>\n",
       "</table>\n"
      ],
      "text/latex": [
       "\\begin{tabular}{r|ll}\n",
       "  & user & user\\_id\\\\\n",
       "\\hline\n",
       "\t{[}111,{]} & jack          & 152862026    \\\\\n",
       "\t{[}112,{]} & jack          & 2384071      \\\\\n",
       "\t{[}113,{]} & NateSilver538 & 782325       \\\\\n",
       "\t{[}114,{]} & NateSilver538 & 152862026    \\\\\n",
       "\t{[}115,{]} & NateSilver538 & 43593        \\\\\n",
       "\t{[}116,{]} & NateSilver538 & 2384071      \\\\\n",
       "\\end{tabular}\n"
      ],
      "text/markdown": [
       "\n",
       "| <!--/--> | user | user_id | \n",
       "|---|---|---|---|---|---|\n",
       "| [111,] | jack          | 152862026     | \n",
       "| [112,] | jack          | 2384071       | \n",
       "| [113,] | NateSilver538 | 782325        | \n",
       "| [114,] | NateSilver538 | 152862026     | \n",
       "| [115,] | NateSilver538 | 43593         | \n",
       "| [116,] | NateSilver538 | 2384071       | \n",
       "\n",
       "\n"
      ],
      "text/plain": [
       "       user          user_id  \n",
       "[111,] jack          152862026\n",
       "[112,] jack          2384071  \n",
       "[113,] NateSilver538 782325   \n",
       "[114,] NateSilver538 152862026\n",
       "[115,] NateSilver538 43593    \n",
       "[116,] NateSilver538 2384071  "
      ]
     },
     "metadata": {},
     "output_type": "display_data"
    }
   ],
   "source": [
    "## convert fds3 to matrix\n",
    "mat <- as.matrix(fds3)\n",
    "\n",
    "tail(mat)"
   ]
  },
  {
   "cell_type": "code",
   "execution_count": 25,
   "metadata": {},
   "outputs": [
    {
     "data": {
      "text/html": [
       "<ol class=list-inline>\n",
       "\t<li>29</li>\n",
       "\t<li>8</li>\n",
       "\t<li>14</li>\n",
       "\t<li>22</li>\n",
       "\t<li>4</li>\n",
       "\t<li>10</li>\n",
       "\t<li>17</li>\n",
       "\t<li>25</li>\n",
       "\t<li>27</li>\n",
       "\t<li>24</li>\n",
       "\t<li>6</li>\n",
       "\t<li>16</li>\n",
       "\t<li>28</li>\n",
       "\t<li>11</li>\n",
       "\t<li>2</li>\n",
       "\t<li>3</li>\n",
       "\t<li>13</li>\n",
       "\t<li>15</li>\n",
       "\t<li>1</li>\n",
       "\t<li>9</li>\n",
       "\t<li>26</li>\n",
       "\t<li>20</li>\n",
       "\t<li>21</li>\n",
       "\t<li>19</li>\n",
       "\t<li>23</li>\n",
       "\t<li>7</li>\n",
       "\t<li>18</li>\n",
       "\t<li>8</li>\n",
       "\t<li>14</li>\n",
       "\t<li>28</li>\n",
       "\t<li>2</li>\n",
       "\t<li>17</li>\n",
       "\t<li>22</li>\n",
       "\t<li>25</li>\n",
       "\t<li>4</li>\n",
       "\t<li>13</li>\n",
       "\t<li>24</li>\n",
       "\t<li>16</li>\n",
       "\t<li>15</li>\n",
       "\t<li>3</li>\n",
       "\t<li>26</li>\n",
       "\t<li>9</li>\n",
       "\t<li>29</li>\n",
       "\t<li>10</li>\n",
       "\t<li>6</li>\n",
       "\t<li>21</li>\n",
       "\t<li>1</li>\n",
       "\t<li>11</li>\n",
       "\t<li>19</li>\n",
       "\t<li>27</li>\n",
       "\t<li>7</li>\n",
       "\t<li>20</li>\n",
       "\t<li>18</li>\n",
       "\t<li>23</li>\n",
       "\t<li>28</li>\n",
       "\t<li>17</li>\n",
       "\t<li>22</li>\n",
       "\t<li>7</li>\n",
       "\t<li>19</li>\n",
       "\t<li>20</li>\n",
       "\t<li>16</li>\n",
       "\t<li>14</li>\n",
       "\t<li>25</li>\n",
       "\t<li>8</li>\n",
       "\t<li>27</li>\n",
       "\t<li>1</li>\n",
       "\t<li>11</li>\n",
       "\t<li>5</li>\n",
       "\t<li>3</li>\n",
       "\t<li>13</li>\n",
       "\t<li>9</li>\n",
       "\t<li>21</li>\n",
       "\t<li>26</li>\n",
       "\t<li>4</li>\n",
       "\t<li>10</li>\n",
       "\t<li>29</li>\n",
       "\t<li>15</li>\n",
       "\t<li>6</li>\n",
       "\t<li>2</li>\n",
       "\t<li>18</li>\n",
       "\t<li>24</li>\n",
       "\t<li>12</li>\n",
       "\t<li>17</li>\n",
       "\t<li>6</li>\n",
       "\t<li>20</li>\n",
       "\t<li>11</li>\n",
       "\t<li>24</li>\n",
       "\t<li>4</li>\n",
       "\t<li>25</li>\n",
       "\t<li>18</li>\n",
       "\t<li>27</li>\n",
       "\t<li>14</li>\n",
       "\t<li>22</li>\n",
       "\t<li>8</li>\n",
       "\t<li>2</li>\n",
       "\t<li>3</li>\n",
       "\t<li>16</li>\n",
       "\t<li>1</li>\n",
       "\t<li>26</li>\n",
       "\t<li>29</li>\n",
       "\t<li>9</li>\n",
       "\t<li>10</li>\n",
       "\t<li>15</li>\n",
       "\t<li>5</li>\n",
       "\t<li>23</li>\n",
       "\t<li>12</li>\n",
       "\t<li>7</li>\n",
       "\t<li>21</li>\n",
       "\t<li>19</li>\n",
       "\t<li>13</li>\n",
       "\t<li>5</li>\n",
       "\t<li>12</li>\n",
       "\t<li>28</li>\n",
       "\t<li>5</li>\n",
       "\t<li>23</li>\n",
       "\t<li>12</li>\n",
       "</ol>\n"
      ],
      "text/latex": [
       "\\begin{enumerate*}\n",
       "\\item 29\n",
       "\\item 8\n",
       "\\item 14\n",
       "\\item 22\n",
       "\\item 4\n",
       "\\item 10\n",
       "\\item 17\n",
       "\\item 25\n",
       "\\item 27\n",
       "\\item 24\n",
       "\\item 6\n",
       "\\item 16\n",
       "\\item 28\n",
       "\\item 11\n",
       "\\item 2\n",
       "\\item 3\n",
       "\\item 13\n",
       "\\item 15\n",
       "\\item 1\n",
       "\\item 9\n",
       "\\item 26\n",
       "\\item 20\n",
       "\\item 21\n",
       "\\item 19\n",
       "\\item 23\n",
       "\\item 7\n",
       "\\item 18\n",
       "\\item 8\n",
       "\\item 14\n",
       "\\item 28\n",
       "\\item 2\n",
       "\\item 17\n",
       "\\item 22\n",
       "\\item 25\n",
       "\\item 4\n",
       "\\item 13\n",
       "\\item 24\n",
       "\\item 16\n",
       "\\item 15\n",
       "\\item 3\n",
       "\\item 26\n",
       "\\item 9\n",
       "\\item 29\n",
       "\\item 10\n",
       "\\item 6\n",
       "\\item 21\n",
       "\\item 1\n",
       "\\item 11\n",
       "\\item 19\n",
       "\\item 27\n",
       "\\item 7\n",
       "\\item 20\n",
       "\\item 18\n",
       "\\item 23\n",
       "\\item 28\n",
       "\\item 17\n",
       "\\item 22\n",
       "\\item 7\n",
       "\\item 19\n",
       "\\item 20\n",
       "\\item 16\n",
       "\\item 14\n",
       "\\item 25\n",
       "\\item 8\n",
       "\\item 27\n",
       "\\item 1\n",
       "\\item 11\n",
       "\\item 5\n",
       "\\item 3\n",
       "\\item 13\n",
       "\\item 9\n",
       "\\item 21\n",
       "\\item 26\n",
       "\\item 4\n",
       "\\item 10\n",
       "\\item 29\n",
       "\\item 15\n",
       "\\item 6\n",
       "\\item 2\n",
       "\\item 18\n",
       "\\item 24\n",
       "\\item 12\n",
       "\\item 17\n",
       "\\item 6\n",
       "\\item 20\n",
       "\\item 11\n",
       "\\item 24\n",
       "\\item 4\n",
       "\\item 25\n",
       "\\item 18\n",
       "\\item 27\n",
       "\\item 14\n",
       "\\item 22\n",
       "\\item 8\n",
       "\\item 2\n",
       "\\item 3\n",
       "\\item 16\n",
       "\\item 1\n",
       "\\item 26\n",
       "\\item 29\n",
       "\\item 9\n",
       "\\item 10\n",
       "\\item 15\n",
       "\\item 5\n",
       "\\item 23\n",
       "\\item 12\n",
       "\\item 7\n",
       "\\item 21\n",
       "\\item 19\n",
       "\\item 13\n",
       "\\item 5\n",
       "\\item 12\n",
       "\\item 28\n",
       "\\item 5\n",
       "\\item 23\n",
       "\\item 12\n",
       "\\end{enumerate*}\n"
      ],
      "text/markdown": [
       "1. 29\n",
       "2. 8\n",
       "3. 14\n",
       "4. 22\n",
       "5. 4\n",
       "6. 10\n",
       "7. 17\n",
       "8. 25\n",
       "9. 27\n",
       "10. 24\n",
       "11. 6\n",
       "12. 16\n",
       "13. 28\n",
       "14. 11\n",
       "15. 2\n",
       "16. 3\n",
       "17. 13\n",
       "18. 15\n",
       "19. 1\n",
       "20. 9\n",
       "21. 26\n",
       "22. 20\n",
       "23. 21\n",
       "24. 19\n",
       "25. 23\n",
       "26. 7\n",
       "27. 18\n",
       "28. 8\n",
       "29. 14\n",
       "30. 28\n",
       "31. 2\n",
       "32. 17\n",
       "33. 22\n",
       "34. 25\n",
       "35. 4\n",
       "36. 13\n",
       "37. 24\n",
       "38. 16\n",
       "39. 15\n",
       "40. 3\n",
       "41. 26\n",
       "42. 9\n",
       "43. 29\n",
       "44. 10\n",
       "45. 6\n",
       "46. 21\n",
       "47. 1\n",
       "48. 11\n",
       "49. 19\n",
       "50. 27\n",
       "51. 7\n",
       "52. 20\n",
       "53. 18\n",
       "54. 23\n",
       "55. 28\n",
       "56. 17\n",
       "57. 22\n",
       "58. 7\n",
       "59. 19\n",
       "60. 20\n",
       "61. 16\n",
       "62. 14\n",
       "63. 25\n",
       "64. 8\n",
       "65. 27\n",
       "66. 1\n",
       "67. 11\n",
       "68. 5\n",
       "69. 3\n",
       "70. 13\n",
       "71. 9\n",
       "72. 21\n",
       "73. 26\n",
       "74. 4\n",
       "75. 10\n",
       "76. 29\n",
       "77. 15\n",
       "78. 6\n",
       "79. 2\n",
       "80. 18\n",
       "81. 24\n",
       "82. 12\n",
       "83. 17\n",
       "84. 6\n",
       "85. 20\n",
       "86. 11\n",
       "87. 24\n",
       "88. 4\n",
       "89. 25\n",
       "90. 18\n",
       "91. 27\n",
       "92. 14\n",
       "93. 22\n",
       "94. 8\n",
       "95. 2\n",
       "96. 3\n",
       "97. 16\n",
       "98. 1\n",
       "99. 26\n",
       "100. 29\n",
       "101. 9\n",
       "102. 10\n",
       "103. 15\n",
       "104. 5\n",
       "105. 23\n",
       "106. 12\n",
       "107. 7\n",
       "108. 21\n",
       "109. 19\n",
       "110. 13\n",
       "111. 5\n",
       "112. 12\n",
       "113. 28\n",
       "114. 5\n",
       "115. 23\n",
       "116. 12\n",
       "\n",
       "\n"
      ],
      "text/plain": [
       "  [1] 29  8 14 22  4 10 17 25 27 24  6 16 28 11  2  3 13 15  1  9 26 20 21 19 23\n",
       " [26]  7 18  8 14 28  2 17 22 25  4 13 24 16 15  3 26  9 29 10  6 21  1 11 19 27\n",
       " [51]  7 20 18 23 28 17 22  7 19 20 16 14 25  8 27  1 11  5  3 13  9 21 26  4 10\n",
       " [76] 29 15  6  2 18 24 12 17  6 20 11 24  4 25 18 27 14 22  8  2  3 16  1 26 29\n",
       "[101]  9 10 15  5 23 12  7 21 19 13  5 12 28  5 23 12"
      ]
     },
     "metadata": {},
     "output_type": "display_data"
    }
   ],
   "source": [
    "match(fds3$user_id, fds_mult_df$user_id)\n",
    "\n",
    "# JACKY: The match() function returns a vector of the \n",
    "# position of first occurrence of the vector1 in vector2. \n",
    "# If the element of the vector1 does not exist \n",
    "# in vector2, NA is returned."
   ]
  },
  {
   "cell_type": "code",
   "execution_count": 26,
   "metadata": {},
   "outputs": [
    {
     "data": {
      "text/html": [
       "<table>\n",
       "<thead><tr><th scope=col>user_id</th><th scope=col>screen_name</th></tr></thead>\n",
       "<tbody>\n",
       "\t<tr><td>97582853</td><td>noamross</td></tr>\n",
       "</tbody>\n",
       "</table>\n"
      ],
      "text/latex": [
       "\\begin{tabular}{r|ll}\n",
       " user\\_id & screen\\_name\\\\\n",
       "\\hline\n",
       "\t 97582853 & noamross\\\\\n",
       "\\end{tabular}\n"
      ],
      "text/markdown": [
       "\n",
       "user_id | screen_name | \n",
       "|---|\n",
       "| 97582853 | noamross | \n",
       "\n",
       "\n"
      ],
      "text/plain": [
       "  user_id  screen_name\n",
       "1 97582853 noamross   "
      ]
     },
     "metadata": {},
     "output_type": "display_data"
    }
   ],
   "source": [
    "fds_mult_df[29, c(\"user_id\", \"screen_name\")]"
   ]
  },
  {
   "cell_type": "code",
   "execution_count": 27,
   "metadata": {},
   "outputs": [
    {
     "data": {
      "text/html": [
       "'noamross'"
      ],
      "text/latex": [
       "'noamross'"
      ],
      "text/markdown": [
       "'noamross'"
      ],
      "text/plain": [
       "[1] \"noamross\""
      ]
     },
     "metadata": {},
     "output_type": "display_data"
    }
   ],
   "source": [
    "fds_mult_df$screen_name[29]"
   ]
  },
  {
   "cell_type": "code",
   "execution_count": 28,
   "metadata": {
    "collapsed": true
   },
   "outputs": [],
   "source": [
    "## replace user IDs with screen names\n",
    "mat[, 2] <- fds_mult_df$screen_name[match(fds3$user_id, fds_mult_df$user_id)]"
   ]
  },
  {
   "cell_type": "code",
   "execution_count": 29,
   "metadata": {},
   "outputs": [
    {
     "data": {
      "text/html": [
       "<table>\n",
       "<thead><tr><th scope=col>user</th><th scope=col>user_id</th></tr></thead>\n",
       "<tbody>\n",
       "\t<tr><td>hadleywickham</td><td>noamross     </td></tr>\n",
       "\t<tr><td>hadleywickham</td><td>LucyStats    </td></tr>\n",
       "\t<tr><td>hadleywickham</td><td>seankross    </td></tr>\n",
       "\t<tr><td>hadleywickham</td><td>gbwanderson  </td></tr>\n",
       "\t<tr><td>hadleywickham</td><td>juliasilge   </td></tr>\n",
       "\t<tr><td>hadleywickham</td><td>JennyBryan   </td></tr>\n",
       "</tbody>\n",
       "</table>\n"
      ],
      "text/latex": [
       "\\begin{tabular}{ll}\n",
       " user & user\\_id\\\\\n",
       "\\hline\n",
       "\t hadleywickham & noamross     \\\\\n",
       "\t hadleywickham & LucyStats    \\\\\n",
       "\t hadleywickham & seankross    \\\\\n",
       "\t hadleywickham & gbwanderson  \\\\\n",
       "\t hadleywickham & juliasilge   \\\\\n",
       "\t hadleywickham & JennyBryan   \\\\\n",
       "\\end{tabular}\n"
      ],
      "text/markdown": [
       "\n",
       "user | user_id | \n",
       "|---|---|---|---|---|---|\n",
       "| hadleywickham | noamross      | \n",
       "| hadleywickham | LucyStats     | \n",
       "| hadleywickham | seankross     | \n",
       "| hadleywickham | gbwanderson   | \n",
       "| hadleywickham | juliasilge    | \n",
       "| hadleywickham | JennyBryan    | \n",
       "\n",
       "\n"
      ],
      "text/plain": [
       "     user          user_id    \n",
       "[1,] hadleywickham noamross   \n",
       "[2,] hadleywickham LucyStats  \n",
       "[3,] hadleywickham seankross  \n",
       "[4,] hadleywickham gbwanderson\n",
       "[5,] hadleywickham juliasilge \n",
       "[6,] hadleywickham JennyBryan "
      ]
     },
     "metadata": {},
     "output_type": "display_data"
    }
   ],
   "source": [
    "head(mat)\n",
    "\n",
    "# JACKY: UserID is now the screenname instead of the ID number"
   ]
  },
  {
   "cell_type": "code",
   "execution_count": 30,
   "metadata": {},
   "outputs": [
    {
     "data": {
      "image/png": "[encoded data removed]",
      "text/plain": [
       "Plot with title \"\""
      ]
     },
     "metadata": {},
     "output_type": "display_data"
    }
   ],
   "source": [
    "## convert to graph object\n",
    "mat <- igraph::graph_from_edgelist(mat)\n",
    "\n",
    "## plot network\n",
    "par(mar = c(1, 1, 1, 1))\n",
    "plot(mat)"
   ]
  },
  {
   "cell_type": "code",
   "execution_count": 31,
   "metadata": {
    "collapsed": true
   },
   "outputs": [],
   "source": [
    "trump_fds <- get_friends(\"realdonaldtrump\")"
   ]
  },
  {
   "cell_type": "code",
   "execution_count": 32,
   "metadata": {
    "collapsed": true
   },
   "outputs": [],
   "source": [
    "## initialize output vector\n",
    "trump_fds_fds <- vector(\"list\", nrow(trump_fds))"
   ]
  },
  {
   "cell_type": "code",
   "execution_count": 33,
   "metadata": {},
   "outputs": [
    {
     "data": {
      "text/html": [
       "45"
      ],
      "text/latex": [
       "45"
      ],
      "text/markdown": [
       "45"
      ],
      "text/plain": [
       "[1] 45"
      ]
     },
     "metadata": {},
     "output_type": "display_data"
    }
   ],
   "source": [
    "nrow(trump_fds)"
   ]
  },
  {
   "cell_type": "code",
   "execution_count": null,
   "metadata": {
    "collapsed": true
   },
   "outputs": [],
   "source": [
    "## for loop with sleep in it\n",
    "for (i in seq_along(trump_fds_fds)) {\n",
    "    print(paste(\"Retrieving\", i))\n",
    "    # get the list of trump's friend's friends\n",
    "    trump_fds_fds[[i]] <- get_friends(trump_fds$user_id[i])\n",
    "    \n",
    "    \n",
    "    \n",
    "    ## sleep every 15 calls for 15 minutes (but never on the last call)\n",
    "    if (i %% 15 == 0 && i != length(trump_fds_fds)) {\n",
    "        Sys.sleep(60 * 15)\n",
    "    }\n",
    "}"
   ]
  },
  {
   "cell_type": "code",
   "execution_count": null,
   "metadata": {
    "collapsed": true
   },
   "outputs": [],
   "source": [
    "## combine in single data frame\n",
    "trump_fds_fds <- do.call(\"rbind\", trump_fds_fds)"
   ]
  },
  {
   "cell_type": "code",
   "execution_count": null,
   "metadata": {
    "collapsed": true
   },
   "outputs": [],
   "source": [
    "kmw <- get_followers(\"kearneymw\")"
   ]
  },
  {
   "cell_type": "code",
   "execution_count": null,
   "metadata": {
    "collapsed": true
   },
   "outputs": [],
   "source": [
    "head(kmw, 10)"
   ]
  },
  {
   "cell_type": "code",
   "execution_count": null,
   "metadata": {
    "collapsed": true
   },
   "outputs": [],
   "source": [
    "## get all of trump's followers\n",
    "rdt <- get_followers(\"realdonaldtrump\", n = 5e7)"
   ]
  },
  {
   "cell_type": "code",
   "execution_count": null,
   "metadata": {
    "collapsed": true
   },
   "outputs": [],
   "source": [
    "## initialize parameter (start at NULL and update once we have some data)\n",
    "page <- NULL\n",
    "\n",
    "## initialize output vector (change 2 to a lot larger number for more followers)\n",
    "out <- vector(\"list\", 2)\n",
    "\n",
    "## create output data directory\n",
    "dir.create(\"rdt-followers\")"
   ]
  },
  {
   "cell_type": "code",
   "execution_count": null,
   "metadata": {
    "collapsed": true
   },
   "outputs": [],
   "source": [
    "## loop through followers, sleeping after every call\n",
    "for (i in seq_along(out)) {\n",
    "    \n",
    "    ## get followers\n",
    "    out[[i]] <- get_followers(\"realdonaldtrump\", n = 75000, page = page)\n",
    "    \n",
    "    ## save file\n",
    "    saveRDS(out[[i]], paste0(\"rdt-followers/rdt\", i, \".rds\"))\n",
    "    \n",
    "    ## update cursor param\n",
    "    page <- next_cursor(out[[i]])\n",
    "    \n",
    "    ## break if cursor is null or if last loop\n",
    "    if (is.null(page) || i == length(out)) {\n",
    "        break\n",
    "        \n",
    "    }\n",
    "    \n",
    "    ## sleep with message\n",
    "    message(\"Waiting 15 mins for rate limit reset...\")\n",
    "    Sys.sleep(60 * 15)\n",
    "}"
   ]
  },
  {
   "cell_type": "code",
   "execution_count": null,
   "metadata": {
    "collapsed": true
   },
   "outputs": [],
   "source": [
    "## list all RDS (R data) files in data directory\n",
    "files <- list.files(\"rdt-followers\", full.names = TRUE, pattern = \"\\\\.rds$\")"
   ]
  },
  {
   "cell_type": "code",
   "execution_count": null,
   "metadata": {
    "collapsed": true
   },
   "outputs": [],
   "source": [
    "## initailize output vector\n",
    "rdt <- lapply(files, readRDS)"
   ]
  },
  {
   "cell_type": "code",
   "execution_count": null,
   "metadata": {
    "collapsed": true
   },
   "outputs": [],
   "source": [
    "## collapse into single data frame\n",
    "rdt <- do.call(\"rbind\", rdt)"
   ]
  },
  {
   "cell_type": "code",
   "execution_count": null,
   "metadata": {
    "collapsed": true
   },
   "outputs": [],
   "source": [
    "rdt"
   ]
  }
 ],
 "metadata": {
  "kernelspec": {
   "display_name": "R",
   "language": "R",
   "name": "ir"
  },
  "language_info": {
   "codemirror_mode": "r",
   "file_extension": ".r",
   "mimetype": "text/x-r-source",
   "name": "R",
   "pygments_lexer": "r",
   "version": "3.4.1"
  }
 },
 "nbformat": 4,
 "nbformat_minor": 2
}
